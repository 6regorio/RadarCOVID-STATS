{
 "cells": [
  {
   "cell_type": "markdown",
   "metadata": {
    "papermill": {
     "duration": 0.02872,
     "end_time": "2020-09-09T08:20:29.721201",
     "exception": false,
     "start_time": "2020-09-09T08:20:29.692481",
     "status": "completed"
    },
    "pycharm": {
     "name": "#%% md\n"
    },
    "tags": []
   },
   "source": [
    "# RadarCOVID-Report"
   ]
  },
  {
   "cell_type": "markdown",
   "metadata": {
    "collapsed": true,
    "papermill": {
     "duration": 0.021777,
     "end_time": "2020-09-09T08:20:29.765346",
     "exception": false,
     "start_time": "2020-09-09T08:20:29.743569",
     "status": "completed"
    },
    "pycharm": {
     "name": "#%% md\n"
    },
    "tags": []
   },
   "source": [
    "## Data Extraction"
   ]
  },
  {
   "cell_type": "code",
   "execution_count": 1,
   "metadata": {
    "execution": {
     "iopub.execute_input": "2020-09-09T08:20:29.815738Z",
     "iopub.status.busy": "2020-09-09T08:20:29.815036Z",
     "iopub.status.idle": "2020-09-09T08:20:34.181694Z",
     "shell.execute_reply": "2020-09-09T08:20:34.181099Z"
    },
    "papermill": {
     "duration": 4.394558,
     "end_time": "2020-09-09T08:20:34.181873",
     "exception": false,
     "start_time": "2020-09-09T08:20:29.787315",
     "status": "completed"
    },
    "pycharm": {
     "name": "#%%\n"
    },
    "tags": []
   },
   "outputs": [],
   "source": [
    "import datetime\n",
    "import logging\n",
    "import os\n",
    "import shutil\n",
    "import tempfile\n",
    "import textwrap\n",
    "import uuid\n",
    "\n",
    "import dataframe_image as dfi\n",
    "import matplotlib.ticker\n",
    "import numpy as np\n",
    "import pandas as pd\n",
    "import seaborn as sns\n",
    "\n",
    "%matplotlib inline"
   ]
  },
  {
   "cell_type": "code",
   "execution_count": 2,
   "metadata": {
    "execution": {
     "iopub.execute_input": "2020-09-09T08:20:34.235842Z",
     "iopub.status.busy": "2020-09-09T08:20:34.235215Z",
     "iopub.status.idle": "2020-09-09T08:20:34.237358Z",
     "shell.execute_reply": "2020-09-09T08:20:34.236907Z"
    },
    "papermill": {
     "duration": 0.032279,
     "end_time": "2020-09-09T08:20:34.237481",
     "exception": false,
     "start_time": "2020-09-09T08:20:34.205202",
     "status": "completed"
    },
    "pycharm": {
     "name": "#%%\n"
    },
    "tags": []
   },
   "outputs": [],
   "source": [
    "sns.set()\n",
    "matplotlib.rcParams['figure.figsize'] = (15, 6)\n",
    "\n",
    "extraction_datetime = datetime.datetime.utcnow()\n",
    "extraction_date = extraction_datetime.strftime(\"%Y-%m-%d\")\n",
    "extraction_previous_datetime = extraction_datetime - datetime.timedelta(days=1)\n",
    "extraction_previous_date = extraction_previous_datetime.strftime(\"%Y-%m-%d\")\n",
    "extraction_date_with_hour = datetime.datetime.utcnow().strftime(\"%Y-%m-%d@%H\")"
   ]
  },
  {
   "cell_type": "markdown",
   "metadata": {
    "papermill": {
     "duration": 0.022111,
     "end_time": "2020-09-09T08:20:34.281690",
     "exception": false,
     "start_time": "2020-09-09T08:20:34.259579",
     "status": "completed"
    },
    "tags": []
   },
   "source": [
    "### COVID-19 Cases"
   ]
  },
  {
   "cell_type": "code",
   "execution_count": 3,
   "metadata": {
    "execution": {
     "iopub.execute_input": "2020-09-09T08:20:34.333453Z",
     "iopub.status.busy": "2020-09-09T08:20:34.332857Z",
     "iopub.status.idle": "2020-09-09T08:20:35.187997Z",
     "shell.execute_reply": "2020-09-09T08:20:35.188605Z"
    },
    "papermill": {
     "duration": 0.884988,
     "end_time": "2020-09-09T08:20:35.188773",
     "exception": false,
     "start_time": "2020-09-09T08:20:34.303785",
     "status": "completed"
    },
    "pycharm": {
     "name": "#%%\n"
    },
    "tags": []
   },
   "outputs": [],
   "source": [
    "confirmed_df = pd.read_csv(\"https://covid19tracking.narrativa.com/csv/confirmed.csv\")\n",
    "\n",
    "radar_covid_countries = {\"Spain\"}\n",
    "# radar_covid_regions = { ... }\n",
    "\n",
    "confirmed_df = confirmed_df[confirmed_df[\"Country_EN\"].isin(radar_covid_countries)]\n",
    "# confirmed_df = confirmed_df[confirmed_df[\"Region\"].isin(radar_covid_regions)]\n",
    "# set(confirmed_df.Region.tolist()) == radar_covid_regions"
   ]
  },
  {
   "cell_type": "code",
   "execution_count": 4,
   "metadata": {
    "collapsed": false,
    "execution": {
     "iopub.execute_input": "2020-09-09T08:20:35.244192Z",
     "iopub.status.busy": "2020-09-09T08:20:35.243636Z",
     "iopub.status.idle": "2020-09-09T08:20:35.248826Z",
     "shell.execute_reply": "2020-09-09T08:20:35.249261Z"
    },
    "papermill": {
     "duration": 0.03838,
     "end_time": "2020-09-09T08:20:35.249406",
     "exception": false,
     "start_time": "2020-09-09T08:20:35.211026",
     "status": "completed"
    },
    "pycharm": {
     "name": "#%%\n"
    },
    "tags": []
   },
   "outputs": [
    {
     "data": {
      "text/html": [
       "<div>\n",
       "<style scoped>\n",
       "    .dataframe tbody tr th:only-of-type {\n",
       "        vertical-align: middle;\n",
       "    }\n",
       "\n",
       "    .dataframe tbody tr th {\n",
       "        vertical-align: top;\n",
       "    }\n",
       "\n",
       "    .dataframe thead th {\n",
       "        text-align: right;\n",
       "    }\n",
       "</style>\n",
       "<table border=\"1\" class=\"dataframe\">\n",
       "  <thead>\n",
       "    <tr style=\"text-align: right;\">\n",
       "      <th></th>\n",
       "      <th>0</th>\n",
       "    </tr>\n",
       "  </thead>\n",
       "  <tbody>\n",
       "    <tr>\n",
       "      <th>2020-09-04</th>\n",
       "      <td>997978.0</td>\n",
       "    </tr>\n",
       "    <tr>\n",
       "      <th>2020-09-05</th>\n",
       "      <td>997978.0</td>\n",
       "    </tr>\n",
       "    <tr>\n",
       "      <th>2020-09-06</th>\n",
       "      <td>997978.0</td>\n",
       "    </tr>\n",
       "    <tr>\n",
       "      <th>2020-09-07</th>\n",
       "      <td>1051098.0</td>\n",
       "    </tr>\n",
       "    <tr>\n",
       "      <th>2020-09-08</th>\n",
       "      <td>1069026.0</td>\n",
       "    </tr>\n",
       "  </tbody>\n",
       "</table>\n",
       "</div>"
      ],
      "text/plain": [
       "                    0\n",
       "2020-09-04   997978.0\n",
       "2020-09-05   997978.0\n",
       "2020-09-06   997978.0\n",
       "2020-09-07  1051098.0\n",
       "2020-09-08  1069026.0"
      ]
     },
     "execution_count": 4,
     "metadata": {},
     "output_type": "execute_result"
    }
   ],
   "source": [
    "confirmed_country_columns = list(filter(lambda x: x.startswith(\"Country_\"), confirmed_df.columns))\n",
    "confirmed_regional_columns = confirmed_country_columns + [\"Region\"]\n",
    "confirmed_df.drop(columns=confirmed_regional_columns, inplace=True)\n",
    "confirmed_df = confirmed_df.sum().to_frame()\n",
    "confirmed_df.tail()"
   ]
  },
  {
   "cell_type": "code",
   "execution_count": 5,
   "metadata": {
    "collapsed": false,
    "execution": {
     "iopub.execute_input": "2020-09-09T08:20:35.299583Z",
     "iopub.status.busy": "2020-09-09T08:20:35.299009Z",
     "iopub.status.idle": "2020-09-09T08:20:35.311276Z",
     "shell.execute_reply": "2020-09-09T08:20:35.310405Z"
    },
    "papermill": {
     "duration": 0.039225,
     "end_time": "2020-09-09T08:20:35.311513",
     "exception": false,
     "start_time": "2020-09-09T08:20:35.272288",
     "status": "completed"
    },
    "pycharm": {
     "name": "#%%\n"
    },
    "tags": []
   },
   "outputs": [
    {
     "data": {
      "text/html": [
       "<div>\n",
       "<style scoped>\n",
       "    .dataframe tbody tr th:only-of-type {\n",
       "        vertical-align: middle;\n",
       "    }\n",
       "\n",
       "    .dataframe tbody tr th {\n",
       "        vertical-align: top;\n",
       "    }\n",
       "\n",
       "    .dataframe thead th {\n",
       "        text-align: right;\n",
       "    }\n",
       "</style>\n",
       "<table border=\"1\" class=\"dataframe\">\n",
       "  <thead>\n",
       "    <tr style=\"text-align: right;\">\n",
       "      <th></th>\n",
       "      <th>sample_date_string</th>\n",
       "      <th>cumulative_cases</th>\n",
       "      <th>new_cases</th>\n",
       "      <th>rolling_mean_new_cases</th>\n",
       "    </tr>\n",
       "  </thead>\n",
       "  <tbody>\n",
       "    <tr>\n",
       "      <th>225</th>\n",
       "      <td>2020-09-04</td>\n",
       "      <td>997978.0</td>\n",
       "      <td>20952.0</td>\n",
       "      <td>17058.000000</td>\n",
       "    </tr>\n",
       "    <tr>\n",
       "      <th>226</th>\n",
       "      <td>2020-09-05</td>\n",
       "      <td>997978.0</td>\n",
       "      <td>0.0</td>\n",
       "      <td>17058.000000</td>\n",
       "    </tr>\n",
       "    <tr>\n",
       "      <th>227</th>\n",
       "      <td>2020-09-06</td>\n",
       "      <td>997978.0</td>\n",
       "      <td>0.0</td>\n",
       "      <td>17058.000000</td>\n",
       "    </tr>\n",
       "    <tr>\n",
       "      <th>228</th>\n",
       "      <td>2020-09-07</td>\n",
       "      <td>1051098.0</td>\n",
       "      <td>53120.0</td>\n",
       "      <td>17911.714286</td>\n",
       "    </tr>\n",
       "    <tr>\n",
       "      <th>229</th>\n",
       "      <td>2020-09-08</td>\n",
       "      <td>1069026.0</td>\n",
       "      <td>17928.0</td>\n",
       "      <td>18154.285714</td>\n",
       "    </tr>\n",
       "  </tbody>\n",
       "</table>\n",
       "</div>"
      ],
      "text/plain": [
       "    sample_date_string  cumulative_cases  new_cases  rolling_mean_new_cases\n",
       "225         2020-09-04          997978.0    20952.0            17058.000000\n",
       "226         2020-09-05          997978.0        0.0            17058.000000\n",
       "227         2020-09-06          997978.0        0.0            17058.000000\n",
       "228         2020-09-07         1051098.0    53120.0            17911.714286\n",
       "229         2020-09-08         1069026.0    17928.0            18154.285714"
      ]
     },
     "execution_count": 5,
     "metadata": {},
     "output_type": "execute_result"
    }
   ],
   "source": [
    "confirmed_df.reset_index(inplace=True)\n",
    "confirmed_df.columns = [\"sample_date_string\", \"cumulative_cases\"]\n",
    "confirmed_df.sort_values(\"sample_date_string\", inplace=True)\n",
    "confirmed_df[\"new_cases\"] = confirmed_df.cumulative_cases.diff()\n",
    "confirmed_df[\"rolling_mean_new_cases\"] = confirmed_df.new_cases.rolling(7).mean()\n",
    "confirmed_df.tail()"
   ]
  },
  {
   "cell_type": "code",
   "execution_count": 6,
   "metadata": {
    "execution": {
     "iopub.execute_input": "2020-09-09T08:20:35.375179Z",
     "iopub.status.busy": "2020-09-09T08:20:35.374622Z",
     "iopub.status.idle": "2020-09-09T08:20:35.384774Z",
     "shell.execute_reply": "2020-09-09T08:20:35.384296Z"
    },
    "papermill": {
     "duration": 0.047827,
     "end_time": "2020-09-09T08:20:35.384896",
     "exception": false,
     "start_time": "2020-09-09T08:20:35.337069",
     "status": "completed"
    },
    "pycharm": {
     "name": "#%%\n"
    },
    "tags": []
   },
   "outputs": [
    {
     "data": {
      "text/html": [
       "<div>\n",
       "<style scoped>\n",
       "    .dataframe tbody tr th:only-of-type {\n",
       "        vertical-align: middle;\n",
       "    }\n",
       "\n",
       "    .dataframe tbody tr th {\n",
       "        vertical-align: top;\n",
       "    }\n",
       "\n",
       "    .dataframe thead th {\n",
       "        text-align: right;\n",
       "    }\n",
       "</style>\n",
       "<table border=\"1\" class=\"dataframe\">\n",
       "  <thead>\n",
       "    <tr style=\"text-align: right;\">\n",
       "      <th></th>\n",
       "      <th>sample_date_string</th>\n",
       "      <th>cumulative_cases</th>\n",
       "      <th>new_cases</th>\n",
       "      <th>rolling_mean_new_cases</th>\n",
       "    </tr>\n",
       "  </thead>\n",
       "  <tbody>\n",
       "    <tr>\n",
       "      <th>226</th>\n",
       "      <td>2020-09-05</td>\n",
       "      <td>9.979780e+05</td>\n",
       "      <td>0.000000</td>\n",
       "      <td>17058.000000</td>\n",
       "    </tr>\n",
       "    <tr>\n",
       "      <th>227</th>\n",
       "      <td>2020-09-06</td>\n",
       "      <td>9.979780e+05</td>\n",
       "      <td>0.000000</td>\n",
       "      <td>17058.000000</td>\n",
       "    </tr>\n",
       "    <tr>\n",
       "      <th>228</th>\n",
       "      <td>2020-09-07</td>\n",
       "      <td>1.051098e+06</td>\n",
       "      <td>53120.000000</td>\n",
       "      <td>17911.714286</td>\n",
       "    </tr>\n",
       "    <tr>\n",
       "      <th>229</th>\n",
       "      <td>2020-09-08</td>\n",
       "      <td>1.069026e+06</td>\n",
       "      <td>17928.000000</td>\n",
       "      <td>18154.285714</td>\n",
       "    </tr>\n",
       "    <tr>\n",
       "      <th>229</th>\n",
       "      <td>2020-09-09</td>\n",
       "      <td>1.087180e+06</td>\n",
       "      <td>18154.285714</td>\n",
       "      <td>18154.285714</td>\n",
       "    </tr>\n",
       "  </tbody>\n",
       "</table>\n",
       "</div>"
      ],
      "text/plain": [
       "    sample_date_string  cumulative_cases     new_cases  rolling_mean_new_cases\n",
       "226         2020-09-05      9.979780e+05      0.000000            17058.000000\n",
       "227         2020-09-06      9.979780e+05      0.000000            17058.000000\n",
       "228         2020-09-07      1.051098e+06  53120.000000            17911.714286\n",
       "229         2020-09-08      1.069026e+06  17928.000000            18154.285714\n",
       "229         2020-09-09      1.087180e+06  18154.285714            18154.285714"
      ]
     },
     "execution_count": 6,
     "metadata": {},
     "output_type": "execute_result"
    }
   ],
   "source": [
    "extraction_date_confirmed_df = \\\n",
    "    confirmed_df[confirmed_df.sample_date_string == extraction_date]\n",
    "extraction_previous_date_confirmed_df = \\\n",
    "    confirmed_df[confirmed_df.sample_date_string == extraction_previous_date].copy()\n",
    "\n",
    "if extraction_date_confirmed_df.empty and \\\n",
    "    not extraction_previous_date_confirmed_df.empty:\n",
    "        extraction_previous_date_confirmed_df[\"sample_date_string\"] = extraction_date\n",
    "        extraction_previous_date_confirmed_df[\"new_cases\"] = \\\n",
    "            extraction_previous_date_confirmed_df.rolling_mean_new_cases\n",
    "        extraction_previous_date_confirmed_df[\"cumulative_cases\"] = \\\n",
    "            extraction_previous_date_confirmed_df.new_cases + \\\n",
    "            extraction_previous_date_confirmed_df.cumulative_cases\n",
    "        confirmed_df = confirmed_df.append(extraction_previous_date_confirmed_df)\n",
    "        \n",
    "confirmed_df.tail()"
   ]
  },
  {
   "cell_type": "code",
   "execution_count": 7,
   "metadata": {
    "execution": {
     "iopub.execute_input": "2020-09-09T08:20:35.443729Z",
     "iopub.status.busy": "2020-09-09T08:20:35.443189Z",
     "iopub.status.idle": "2020-09-09T08:20:35.622959Z",
     "shell.execute_reply": "2020-09-09T08:20:35.623484Z"
    },
    "papermill": {
     "duration": 0.21545,
     "end_time": "2020-09-09T08:20:35.623645",
     "exception": false,
     "start_time": "2020-09-09T08:20:35.408195",
     "status": "completed"
    },
    "pycharm": {
     "name": "#%%\n"
    },
    "tags": []
   },
   "outputs": [
    {
     "data": {
      "text/plain": [
       "<matplotlib.axes._subplots.AxesSubplot at 0x7f1f525bdd30>"
      ]
     },
     "execution_count": 7,
     "metadata": {},
     "output_type": "execute_result"
    },
    {
     "data": {
      "image/png": "[encoded data removed]",
      "text/plain": [
       "<Figure size 1080x432 with 1 Axes>"
      ]
     },
     "metadata": {},
     "output_type": "display_data"
    }
   ],
   "source": [
    "confirmed_df[[\"new_cases\", \"rolling_mean_new_cases\"]].plot()"
   ]
  },
  {
   "cell_type": "markdown",
   "metadata": {
    "execution": {
     "iopub.execute_input": "2020-08-30T22:30:16.351238Z",
     "iopub.status.busy": "2020-08-30T22:30:16.344579Z",
     "iopub.status.idle": "2020-08-30T22:30:16.354285Z",
     "shell.execute_reply": "2020-08-30T22:30:16.353641Z"
    },
    "papermill": {
     "duration": 0.025315,
     "end_time": "2020-09-09T08:20:35.674755",
     "exception": false,
     "start_time": "2020-09-09T08:20:35.649440",
     "status": "completed"
    },
    "pycharm": {
     "name": "#%% md\n"
    },
    "tags": []
   },
   "source": [
    "### Extract API TEKs"
   ]
  },
  {
   "cell_type": "code",
   "execution_count": 8,
   "metadata": {
    "execution": {
     "iopub.execute_input": "2020-09-09T08:20:35.729470Z",
     "iopub.status.busy": "2020-09-09T08:20:35.728904Z",
     "iopub.status.idle": "2020-09-09T08:20:37.453187Z",
     "shell.execute_reply": "2020-09-09T08:20:37.453759Z"
    },
    "papermill": {
     "duration": 1.754123,
     "end_time": "2020-09-09T08:20:37.453946",
     "exception": false,
     "start_time": "2020-09-09T08:20:35.699823",
     "status": "completed"
    },
    "pycharm": {
     "name": "#%%\n"
    },
    "tags": []
   },
   "outputs": [
    {
     "name": "stderr",
     "output_type": "stream",
     "text": [
      "WARNING:root:NoDataFoundForDateException(\"No exposed tokens found for day '2020-09-09'.\")\n"
     ]
    },
    {
     "data": {
      "text/html": [
       "<div>\n",
       "<style scoped>\n",
       "    .dataframe tbody tr th:only-of-type {\n",
       "        vertical-align: middle;\n",
       "    }\n",
       "\n",
       "    .dataframe tbody tr th {\n",
       "        vertical-align: top;\n",
       "    }\n",
       "\n",
       "    .dataframe thead th {\n",
       "        text-align: right;\n",
       "    }\n",
       "</style>\n",
       "<table border=\"1\" class=\"dataframe\">\n",
       "  <thead>\n",
       "    <tr style=\"text-align: right;\">\n",
       "      <th></th>\n",
       "      <th>sample_date_string</th>\n",
       "      <th>source_url</th>\n",
       "      <th>region</th>\n",
       "      <th>key_data</th>\n",
       "    </tr>\n",
       "  </thead>\n",
       "  <tbody>\n",
       "    <tr>\n",
       "      <th>0</th>\n",
       "      <td>2020-09-08</td>\n",
       "      <td>https://radarcovid.covid19.gob.es/dp3t/v1/gaen...</td>\n",
       "      <td>ES</td>\n",
       "      <td>bae92236-3f8f-66ac-36bd-940c7914d287</td>\n",
       "    </tr>\n",
       "    <tr>\n",
       "      <th>1</th>\n",
       "      <td>2020-09-08</td>\n",
       "      <td>https://radarcovid.covid19.gob.es/dp3t/v1/gaen...</td>\n",
       "      <td>ES</td>\n",
       "      <td>08bba6c5-ded0-f0fe-677c-ec946871745a</td>\n",
       "    </tr>\n",
       "    <tr>\n",
       "      <th>2</th>\n",
       "      <td>2020-09-08</td>\n",
       "      <td>https://radarcovid.covid19.gob.es/dp3t/v1/gaen...</td>\n",
       "      <td>ES</td>\n",
       "      <td>9b441141-0412-2da9-0556-0c6936fa5165</td>\n",
       "    </tr>\n",
       "    <tr>\n",
       "      <th>3</th>\n",
       "      <td>2020-09-08</td>\n",
       "      <td>https://radarcovid.covid19.gob.es/dp3t/v1/gaen...</td>\n",
       "      <td>ES</td>\n",
       "      <td>7c6f6904-27fe-a59a-1bd5-f9a2ab71eb1c</td>\n",
       "    </tr>\n",
       "    <tr>\n",
       "      <th>4</th>\n",
       "      <td>2020-09-08</td>\n",
       "      <td>https://radarcovid.covid19.gob.es/dp3t/v1/gaen...</td>\n",
       "      <td>ES</td>\n",
       "      <td>89facbdf-34c1-6df5-667a-0c9a218d08a7</td>\n",
       "    </tr>\n",
       "  </tbody>\n",
       "</table>\n",
       "</div>"
      ],
      "text/plain": [
       "  sample_date_string                                         source_url  \\\n",
       "0         2020-09-08  https://radarcovid.covid19.gob.es/dp3t/v1/gaen...   \n",
       "1         2020-09-08  https://radarcovid.covid19.gob.es/dp3t/v1/gaen...   \n",
       "2         2020-09-08  https://radarcovid.covid19.gob.es/dp3t/v1/gaen...   \n",
       "3         2020-09-08  https://radarcovid.covid19.gob.es/dp3t/v1/gaen...   \n",
       "4         2020-09-08  https://radarcovid.covid19.gob.es/dp3t/v1/gaen...   \n",
       "\n",
       "  region                              key_data  \n",
       "0     ES  bae92236-3f8f-66ac-36bd-940c7914d287  \n",
       "1     ES  08bba6c5-ded0-f0fe-677c-ec946871745a  \n",
       "2     ES  9b441141-0412-2da9-0556-0c6936fa5165  \n",
       "3     ES  7c6f6904-27fe-a59a-1bd5-f9a2ab71eb1c  \n",
       "4     ES  89facbdf-34c1-6df5-667a-0c9a218d08a7  "
      ]
     },
     "execution_count": 8,
     "metadata": {},
     "output_type": "execute_result"
    }
   ],
   "source": [
    "from Modules.RadarCOVID import radar_covid\n",
    "\n",
    "exposure_keys_df = radar_covid.download_last_radar_covid_exposure_keys(days=14)\n",
    "exposure_keys_df[[\n",
    "    \"sample_date_string\", \"source_url\", \"region\", \"key_data\"]].head()"
   ]
  },
  {
   "cell_type": "code",
   "execution_count": 9,
   "metadata": {
    "execution": {
     "iopub.execute_input": "2020-09-09T08:20:37.515946Z",
     "iopub.status.busy": "2020-09-09T08:20:37.515359Z",
     "iopub.status.idle": "2020-09-09T08:20:37.526890Z",
     "shell.execute_reply": "2020-09-09T08:20:37.526245Z"
    },
    "papermill": {
     "duration": 0.044847,
     "end_time": "2020-09-09T08:20:37.527018",
     "exception": false,
     "start_time": "2020-09-09T08:20:37.482171",
     "status": "completed"
    },
    "scrolled": false,
    "tags": []
   },
   "outputs": [
    {
     "data": {
      "text/html": [
       "<div>\n",
       "<style scoped>\n",
       "    .dataframe tbody tr th:only-of-type {\n",
       "        vertical-align: middle;\n",
       "    }\n",
       "\n",
       "    .dataframe tbody tr th {\n",
       "        vertical-align: top;\n",
       "    }\n",
       "\n",
       "    .dataframe thead th {\n",
       "        text-align: right;\n",
       "    }\n",
       "</style>\n",
       "<table border=\"1\" class=\"dataframe\">\n",
       "  <thead>\n",
       "    <tr style=\"text-align: right;\">\n",
       "      <th></th>\n",
       "      <th>tek_count</th>\n",
       "    </tr>\n",
       "    <tr>\n",
       "      <th>sample_date_string</th>\n",
       "      <th></th>\n",
       "    </tr>\n",
       "  </thead>\n",
       "  <tbody>\n",
       "    <tr>\n",
       "      <th>2020-09-08</th>\n",
       "      <td>7</td>\n",
       "    </tr>\n",
       "    <tr>\n",
       "      <th>2020-09-07</th>\n",
       "      <td>19</td>\n",
       "    </tr>\n",
       "    <tr>\n",
       "      <th>2020-09-06</th>\n",
       "      <td>31</td>\n",
       "    </tr>\n",
       "    <tr>\n",
       "      <th>2020-09-05</th>\n",
       "      <td>38</td>\n",
       "    </tr>\n",
       "    <tr>\n",
       "      <th>2020-09-04</th>\n",
       "      <td>42</td>\n",
       "    </tr>\n",
       "  </tbody>\n",
       "</table>\n",
       "</div>"
      ],
      "text/plain": [
       "                    tek_count\n",
       "sample_date_string           \n",
       "2020-09-08                  7\n",
       "2020-09-07                 19\n",
       "2020-09-06                 31\n",
       "2020-09-05                 38\n",
       "2020-09-04                 42"
      ]
     },
     "execution_count": 9,
     "metadata": {},
     "output_type": "execute_result"
    }
   ],
   "source": [
    "exposure_keys_summary_df = \\\n",
    "    exposure_keys_df.groupby([\"sample_date_string\"]).key_data.nunique().to_frame()\n",
    "exposure_keys_summary_df.sort_index(ascending=False, inplace=True)\n",
    "exposure_keys_summary_df.rename(columns={\"key_data\": \"tek_count\"}, inplace=True)\n",
    "exposure_keys_summary_df.head()"
   ]
  },
  {
   "cell_type": "markdown",
   "metadata": {
    "papermill": {
     "duration": 0.028384,
     "end_time": "2020-09-09T08:20:37.587282",
     "exception": false,
     "start_time": "2020-09-09T08:20:37.558898",
     "status": "completed"
    },
    "tags": []
   },
   "source": [
    "### Dump API TEKs"
   ]
  },
  {
   "cell_type": "code",
   "execution_count": 10,
   "metadata": {
    "execution": {
     "iopub.execute_input": "2020-09-09T08:20:37.653690Z",
     "iopub.status.busy": "2020-09-09T08:20:37.653041Z",
     "iopub.status.idle": "2020-09-09T08:20:37.680942Z",
     "shell.execute_reply": "2020-09-09T08:20:37.681400Z"
    },
    "papermill": {
     "duration": 0.066202,
     "end_time": "2020-09-09T08:20:37.681562",
     "exception": false,
     "start_time": "2020-09-09T08:20:37.615360",
     "status": "completed"
    },
    "tags": []
   },
   "outputs": [
    {
     "data": {
      "text/html": [
       "<div>\n",
       "<style scoped>\n",
       "    .dataframe tbody tr th:only-of-type {\n",
       "        vertical-align: middle;\n",
       "    }\n",
       "\n",
       "    .dataframe tbody tr th {\n",
       "        vertical-align: top;\n",
       "    }\n",
       "\n",
       "    .dataframe thead th {\n",
       "        text-align: right;\n",
       "    }\n",
       "</style>\n",
       "<table border=\"1\" class=\"dataframe\">\n",
       "  <thead>\n",
       "    <tr style=\"text-align: right;\">\n",
       "      <th></th>\n",
       "      <th>sample_date</th>\n",
       "      <th>tek_list</th>\n",
       "      <th>extraction_date</th>\n",
       "      <th>extraction_date_with_hour</th>\n",
       "    </tr>\n",
       "  </thead>\n",
       "  <tbody>\n",
       "    <tr>\n",
       "      <th>0</th>\n",
       "      <td>2020-08-27</td>\n",
       "      <td>[2e29f81c-9ce1-54d5-a12d-9c59efca891d, 9f6c813...</td>\n",
       "      <td>2020-09-09</td>\n",
       "      <td>2020-09-09@08</td>\n",
       "    </tr>\n",
       "    <tr>\n",
       "      <th>1</th>\n",
       "      <td>2020-08-28</td>\n",
       "      <td>[ff51a7a6-3791-9038-c9f5-2d956d598c1a, 9740a6a...</td>\n",
       "      <td>2020-09-09</td>\n",
       "      <td>2020-09-09@08</td>\n",
       "    </tr>\n",
       "    <tr>\n",
       "      <th>2</th>\n",
       "      <td>2020-08-29</td>\n",
       "      <td>[4c558e8a-6f45-9b9c-26bc-2bb3de8d28c9, 957152a...</td>\n",
       "      <td>2020-09-09</td>\n",
       "      <td>2020-09-09@08</td>\n",
       "    </tr>\n",
       "    <tr>\n",
       "      <th>3</th>\n",
       "      <td>2020-08-30</td>\n",
       "      <td>[d57a697f-e1c7-2937-3820-f849ea55a63c, 9e9c731...</td>\n",
       "      <td>2020-09-09</td>\n",
       "      <td>2020-09-09@08</td>\n",
       "    </tr>\n",
       "    <tr>\n",
       "      <th>4</th>\n",
       "      <td>2020-08-31</td>\n",
       "      <td>[ee4b5f59-a496-7207-5095-f207edca501a, ef59ec3...</td>\n",
       "      <td>2020-09-09</td>\n",
       "      <td>2020-09-09@08</td>\n",
       "    </tr>\n",
       "  </tbody>\n",
       "</table>\n",
       "</div>"
      ],
      "text/plain": [
       "  sample_date                                           tek_list  \\\n",
       "0  2020-08-27  [2e29f81c-9ce1-54d5-a12d-9c59efca891d, 9f6c813...   \n",
       "1  2020-08-28  [ff51a7a6-3791-9038-c9f5-2d956d598c1a, 9740a6a...   \n",
       "2  2020-08-29  [4c558e8a-6f45-9b9c-26bc-2bb3de8d28c9, 957152a...   \n",
       "3  2020-08-30  [d57a697f-e1c7-2937-3820-f849ea55a63c, 9e9c731...   \n",
       "4  2020-08-31  [ee4b5f59-a496-7207-5095-f207edca501a, ef59ec3...   \n",
       "\n",
       "  extraction_date extraction_date_with_hour  \n",
       "0      2020-09-09             2020-09-09@08  \n",
       "1      2020-09-09             2020-09-09@08  \n",
       "2      2020-09-09             2020-09-09@08  \n",
       "3      2020-09-09             2020-09-09@08  \n",
       "4      2020-09-09             2020-09-09@08  "
      ]
     },
     "execution_count": 10,
     "metadata": {},
     "output_type": "execute_result"
    }
   ],
   "source": [
    "tek_list_df = exposure_keys_df[[\"sample_date_string\", \"key_data\"]].copy()\n",
    "tek_list_df[\"key_data\"] = tek_list_df[\"key_data\"].apply(str)\n",
    "tek_list_df.rename(columns={\n",
    "    \"sample_date_string\": \"sample_date\",\n",
    "    \"key_data\": \"tek_list\"}, inplace=True)\n",
    "tek_list_df = tek_list_df.groupby(\n",
    "    \"sample_date\").tek_list.unique().reset_index()\n",
    "tek_list_df[\"extraction_date\"] = extraction_date\n",
    "tek_list_df[\"extraction_date_with_hour\"] = extraction_date_with_hour\n",
    "tek_list_df.drop(columns=[\"extraction_date\", \"extraction_date_with_hour\"]).to_json(\n",
    "    \"Data/TEKs/Current/RadarCOVID-TEKs.json\",\n",
    "    lines=True, orient=\"records\")\n",
    "tek_list_df.drop(columns=[\"extraction_date_with_hour\"]).to_json(\n",
    "    \"Data/TEKs/Daily/RadarCOVID-TEKs-\" + extraction_date + \".json\",\n",
    "    lines=True, orient=\"records\")\n",
    "tek_list_df.to_json(\n",
    "    \"Data/TEKs/Hourly/RadarCOVID-TEKs-\" + extraction_date_with_hour + \".json\",\n",
    "    lines=True, orient=\"records\")\n",
    "tek_list_df.head()"
   ]
  },
  {
   "cell_type": "markdown",
   "metadata": {
    "papermill": {
     "duration": 0.026706,
     "end_time": "2020-09-09T08:20:37.735024",
     "exception": false,
     "start_time": "2020-09-09T08:20:37.708318",
     "status": "completed"
    },
    "tags": []
   },
   "source": [
    "### Load TEK Dumps"
   ]
  },
  {
   "cell_type": "code",
   "execution_count": 11,
   "metadata": {
    "execution": {
     "iopub.execute_input": "2020-09-09T08:20:37.794158Z",
     "iopub.status.busy": "2020-09-09T08:20:37.793590Z",
     "iopub.status.idle": "2020-09-09T08:20:37.795864Z",
     "shell.execute_reply": "2020-09-09T08:20:37.796335Z"
    },
    "papermill": {
     "duration": 0.034616,
     "end_time": "2020-09-09T08:20:37.796490",
     "exception": false,
     "start_time": "2020-09-09T08:20:37.761874",
     "status": "completed"
    },
    "tags": []
   },
   "outputs": [],
   "source": [
    "import glob\n",
    "\n",
    "def load_extracted_teks(mode, limit=None) -> pd.DataFrame:\n",
    "    extracted_teks_df = pd.DataFrame()\n",
    "    paths = list(reversed(sorted(glob.glob(f\"Data/TEKs/{mode}/RadarCOVID-TEKs-*.json\"))))\n",
    "    if limit:\n",
    "        paths = paths[:limit]\n",
    "    for path in paths:\n",
    "        logging.info(f\"Loading TEKs from '{path}'...\")\n",
    "        iteration_extracted_teks_df = pd.read_json(path, lines=True)\n",
    "        extracted_teks_df = extracted_teks_df.append(\n",
    "            iteration_extracted_teks_df, sort=False)\n",
    "    return extracted_teks_df"
   ]
  },
  {
   "cell_type": "markdown",
   "metadata": {
    "execution": {
     "iopub.execute_input": "2020-08-30T22:30:16.632967Z",
     "iopub.status.busy": "2020-08-30T22:30:16.632308Z",
     "iopub.status.idle": "2020-08-30T22:30:16.634945Z",
     "shell.execute_reply": "2020-08-30T22:30:16.635575Z"
    },
    "papermill": {
     "duration": 0.026471,
     "end_time": "2020-09-09T08:20:37.849394",
     "exception": false,
     "start_time": "2020-09-09T08:20:37.822923",
     "status": "completed"
    },
    "pycharm": {
     "name": "#%% md\n"
    },
    "tags": []
   },
   "source": [
    "### Daily New TEKs"
   ]
  },
  {
   "cell_type": "code",
   "execution_count": 12,
   "metadata": {
    "execution": {
     "iopub.execute_input": "2020-09-09T08:20:37.907570Z",
     "iopub.status.busy": "2020-09-09T08:20:37.907021Z",
     "iopub.status.idle": "2020-09-09T08:20:37.974822Z",
     "shell.execute_reply": "2020-09-09T08:20:37.975286Z"
    },
    "papermill": {
     "duration": 0.099151,
     "end_time": "2020-09-09T08:20:37.975447",
     "exception": false,
     "start_time": "2020-09-09T08:20:37.876296",
     "status": "completed"
    },
    "tags": []
   },
   "outputs": [
    {
     "data": {
      "text/html": [
       "<div>\n",
       "<style scoped>\n",
       "    .dataframe tbody tr th:only-of-type {\n",
       "        vertical-align: middle;\n",
       "    }\n",
       "\n",
       "    .dataframe tbody tr th {\n",
       "        vertical-align: top;\n",
       "    }\n",
       "\n",
       "    .dataframe thead th {\n",
       "        text-align: right;\n",
       "    }\n",
       "</style>\n",
       "<table border=\"1\" class=\"dataframe\">\n",
       "  <thead>\n",
       "    <tr style=\"text-align: right;\">\n",
       "      <th></th>\n",
       "      <th>sample_date</th>\n",
       "      <th>tek_list</th>\n",
       "      <th>extraction_date</th>\n",
       "      <th>extraction_date_with_hour</th>\n",
       "    </tr>\n",
       "  </thead>\n",
       "  <tbody>\n",
       "    <tr>\n",
       "      <th>0</th>\n",
       "      <td>2020-08-27</td>\n",
       "      <td>[2e29f81c-9ce1-54d5-a12d-9c59efca891d, 9f6c813...</td>\n",
       "      <td>2020-09-09</td>\n",
       "      <td>NaN</td>\n",
       "    </tr>\n",
       "    <tr>\n",
       "      <th>1</th>\n",
       "      <td>2020-08-28</td>\n",
       "      <td>[ff51a7a6-3791-9038-c9f5-2d956d598c1a, 9740a6a...</td>\n",
       "      <td>2020-09-09</td>\n",
       "      <td>NaN</td>\n",
       "    </tr>\n",
       "    <tr>\n",
       "      <th>2</th>\n",
       "      <td>2020-08-29</td>\n",
       "      <td>[4c558e8a-6f45-9b9c-26bc-2bb3de8d28c9, 957152a...</td>\n",
       "      <td>2020-09-09</td>\n",
       "      <td>NaN</td>\n",
       "    </tr>\n",
       "    <tr>\n",
       "      <th>3</th>\n",
       "      <td>2020-08-30</td>\n",
       "      <td>[d57a697f-e1c7-2937-3820-f849ea55a63c, 9e9c731...</td>\n",
       "      <td>2020-09-09</td>\n",
       "      <td>NaN</td>\n",
       "    </tr>\n",
       "    <tr>\n",
       "      <th>4</th>\n",
       "      <td>2020-08-31</td>\n",
       "      <td>[ee4b5f59-a496-7207-5095-f207edca501a, ef59ec3...</td>\n",
       "      <td>2020-09-09</td>\n",
       "      <td>NaN</td>\n",
       "    </tr>\n",
       "  </tbody>\n",
       "</table>\n",
       "</div>"
      ],
      "text/plain": [
       "  sample_date                                           tek_list  \\\n",
       "0  2020-08-27  [2e29f81c-9ce1-54d5-a12d-9c59efca891d, 9f6c813...   \n",
       "1  2020-08-28  [ff51a7a6-3791-9038-c9f5-2d956d598c1a, 9740a6a...   \n",
       "2  2020-08-29  [4c558e8a-6f45-9b9c-26bc-2bb3de8d28c9, 957152a...   \n",
       "3  2020-08-30  [d57a697f-e1c7-2937-3820-f849ea55a63c, 9e9c731...   \n",
       "4  2020-08-31  [ee4b5f59-a496-7207-5095-f207edca501a, ef59ec3...   \n",
       "\n",
       "  extraction_date extraction_date_with_hour  \n",
       "0      2020-09-09                       NaN  \n",
       "1      2020-09-09                       NaN  \n",
       "2      2020-09-09                       NaN  \n",
       "3      2020-09-09                       NaN  \n",
       "4      2020-09-09                       NaN  "
      ]
     },
     "execution_count": 12,
     "metadata": {},
     "output_type": "execute_result"
    }
   ],
   "source": [
    "daily_extracted_teks_df = load_extracted_teks(mode=\"Daily\", limit=14)\n",
    "daily_extracted_teks_df.head()"
   ]
  },
  {
   "cell_type": "code",
   "execution_count": 13,
   "metadata": {
    "execution": {
     "iopub.execute_input": "2020-09-09T08:20:38.036103Z",
     "iopub.status.busy": "2020-09-09T08:20:38.035546Z",
     "iopub.status.idle": "2020-09-09T08:20:38.051682Z",
     "shell.execute_reply": "2020-09-09T08:20:38.051204Z"
    },
    "papermill": {
     "duration": 0.049286,
     "end_time": "2020-09-09T08:20:38.051806",
     "exception": false,
     "start_time": "2020-09-09T08:20:38.002520",
     "status": "completed"
    },
    "tags": []
   },
   "outputs": [
    {
     "data": {
      "text/html": [
       "<div>\n",
       "<style scoped>\n",
       "    .dataframe tbody tr th:only-of-type {\n",
       "        vertical-align: middle;\n",
       "    }\n",
       "\n",
       "    .dataframe tbody tr th {\n",
       "        vertical-align: top;\n",
       "    }\n",
       "\n",
       "    .dataframe thead th {\n",
       "        text-align: right;\n",
       "    }\n",
       "</style>\n",
       "<table border=\"1\" class=\"dataframe\">\n",
       "  <thead>\n",
       "    <tr style=\"text-align: right;\">\n",
       "      <th></th>\n",
       "      <th>tek_list</th>\n",
       "    </tr>\n",
       "    <tr>\n",
       "      <th>extraction_date</th>\n",
       "      <th></th>\n",
       "    </tr>\n",
       "  </thead>\n",
       "  <tbody>\n",
       "    <tr>\n",
       "      <th>2020-08-29</th>\n",
       "      <td>{1fdae652-8d47-c8ed-c944-75bb16fa7c96, 1fd61ec...</td>\n",
       "    </tr>\n",
       "    <tr>\n",
       "      <th>2020-08-30</th>\n",
       "      <td>{1fdae652-8d47-c8ed-c944-75bb16fa7c96, 1fd61ec...</td>\n",
       "    </tr>\n",
       "    <tr>\n",
       "      <th>2020-08-31</th>\n",
       "      <td>{1fdae652-8d47-c8ed-c944-75bb16fa7c96, 1fd61ec...</td>\n",
       "    </tr>\n",
       "    <tr>\n",
       "      <th>2020-09-01</th>\n",
       "      <td>{1fdae652-8d47-c8ed-c944-75bb16fa7c96, 1fd61ec...</td>\n",
       "    </tr>\n",
       "    <tr>\n",
       "      <th>2020-09-02</th>\n",
       "      <td>{1fdae652-8d47-c8ed-c944-75bb16fa7c96, 1fd61ec...</td>\n",
       "    </tr>\n",
       "  </tbody>\n",
       "</table>\n",
       "</div>"
      ],
      "text/plain": [
       "                                                          tek_list\n",
       "extraction_date                                                   \n",
       "2020-08-29       {1fdae652-8d47-c8ed-c944-75bb16fa7c96, 1fd61ec...\n",
       "2020-08-30       {1fdae652-8d47-c8ed-c944-75bb16fa7c96, 1fd61ec...\n",
       "2020-08-31       {1fdae652-8d47-c8ed-c944-75bb16fa7c96, 1fd61ec...\n",
       "2020-09-01       {1fdae652-8d47-c8ed-c944-75bb16fa7c96, 1fd61ec...\n",
       "2020-09-02       {1fdae652-8d47-c8ed-c944-75bb16fa7c96, 1fd61ec..."
      ]
     },
     "execution_count": 13,
     "metadata": {},
     "output_type": "execute_result"
    }
   ],
   "source": [
    "tek_list_df = daily_extracted_teks_df.groupby(\"extraction_date\").tek_list.apply(\n",
    "    lambda x: set(sum(x, []))).reset_index()\n",
    "tek_list_df = tek_list_df.set_index(\"extraction_date\").sort_index(ascending=True)\n",
    "tek_list_df.head()"
   ]
  },
  {
   "cell_type": "code",
   "execution_count": 14,
   "metadata": {
    "execution": {
     "iopub.execute_input": "2020-09-09T08:20:38.121067Z",
     "iopub.status.busy": "2020-09-09T08:20:38.120479Z",
     "iopub.status.idle": "2020-09-09T08:20:38.122586Z",
     "shell.execute_reply": "2020-09-09T08:20:38.123099Z"
    },
    "papermill": {
     "duration": 0.043808,
     "end_time": "2020-09-09T08:20:38.123250",
     "exception": false,
     "start_time": "2020-09-09T08:20:38.079442",
     "status": "completed"
    },
    "tags": []
   },
   "outputs": [
    {
     "data": {
      "text/html": [
       "<div>\n",
       "<style scoped>\n",
       "    .dataframe tbody tr th:only-of-type {\n",
       "        vertical-align: middle;\n",
       "    }\n",
       "\n",
       "    .dataframe tbody tr th {\n",
       "        vertical-align: top;\n",
       "    }\n",
       "\n",
       "    .dataframe thead th {\n",
       "        text-align: right;\n",
       "    }\n",
       "</style>\n",
       "<table border=\"1\" class=\"dataframe\">\n",
       "  <thead>\n",
       "    <tr style=\"text-align: right;\">\n",
       "      <th></th>\n",
       "      <th>sample_date_string</th>\n",
       "      <th>new_tek_count</th>\n",
       "    </tr>\n",
       "  </thead>\n",
       "  <tbody>\n",
       "    <tr>\n",
       "      <th>0</th>\n",
       "      <td>2020-08-29</td>\n",
       "      <td>NaN</td>\n",
       "    </tr>\n",
       "    <tr>\n",
       "      <th>1</th>\n",
       "      <td>2020-08-30</td>\n",
       "      <td>29.0</td>\n",
       "    </tr>\n",
       "    <tr>\n",
       "      <th>2</th>\n",
       "      <td>2020-08-31</td>\n",
       "      <td>63.0</td>\n",
       "    </tr>\n",
       "    <tr>\n",
       "      <th>3</th>\n",
       "      <td>2020-09-01</td>\n",
       "      <td>39.0</td>\n",
       "    </tr>\n",
       "    <tr>\n",
       "      <th>4</th>\n",
       "      <td>2020-09-02</td>\n",
       "      <td>57.0</td>\n",
       "    </tr>\n",
       "  </tbody>\n",
       "</table>\n",
       "</div>"
      ],
      "text/plain": [
       "  sample_date_string  new_tek_count\n",
       "0         2020-08-29            NaN\n",
       "1         2020-08-30           29.0\n",
       "2         2020-08-31           63.0\n",
       "3         2020-09-01           39.0\n",
       "4         2020-09-02           57.0"
      ]
     },
     "execution_count": 14,
     "metadata": {},
     "output_type": "execute_result"
    }
   ],
   "source": [
    "new_tek_df = tek_list_df.diff().tek_list.apply(\n",
    "    lambda x: len(x) if not pd.isna(x) else None).to_frame().reset_index()\n",
    "new_tek_df.rename(columns={\n",
    "    \"tek_list\": \"new_tek_count\",\n",
    "    \"extraction_date\": \"sample_date_string\",}, inplace=True)\n",
    "new_tek_df.head()"
   ]
  },
  {
   "cell_type": "code",
   "execution_count": 15,
   "metadata": {
    "execution": {
     "iopub.execute_input": "2020-09-09T08:20:38.198521Z",
     "iopub.status.busy": "2020-09-09T08:20:38.197904Z",
     "iopub.status.idle": "2020-09-09T08:20:38.200124Z",
     "shell.execute_reply": "2020-09-09T08:20:38.200587Z"
    },
    "papermill": {
     "duration": 0.049703,
     "end_time": "2020-09-09T08:20:38.200741",
     "exception": false,
     "start_time": "2020-09-09T08:20:38.151038",
     "status": "completed"
    },
    "pycharm": {
     "name": "#%%\n"
    },
    "tags": []
   },
   "outputs": [
    {
     "data": {
      "text/html": [
       "<div>\n",
       "<style scoped>\n",
       "    .dataframe tbody tr th:only-of-type {\n",
       "        vertical-align: middle;\n",
       "    }\n",
       "\n",
       "    .dataframe tbody tr th {\n",
       "        vertical-align: top;\n",
       "    }\n",
       "\n",
       "    .dataframe thead th {\n",
       "        text-align: right;\n",
       "    }\n",
       "</style>\n",
       "<table border=\"1\" class=\"dataframe\">\n",
       "  <thead>\n",
       "    <tr style=\"text-align: right;\">\n",
       "      <th></th>\n",
       "      <th>sample_date</th>\n",
       "      <th>tek_list</th>\n",
       "      <th>extraction_date</th>\n",
       "      <th>extraction_date_with_hour</th>\n",
       "      <th>new_sample_extraction_date</th>\n",
       "    </tr>\n",
       "  </thead>\n",
       "  <tbody>\n",
       "    <tr>\n",
       "      <th>12</th>\n",
       "      <td>2020-09-08</td>\n",
       "      <td>[bae92236-3f8f-66ac-36bd-940c7914d287, 08bba6c...</td>\n",
       "      <td>2020-09-09</td>\n",
       "      <td>NaN</td>\n",
       "      <td>2020-09-09</td>\n",
       "    </tr>\n",
       "    <tr>\n",
       "      <th>12</th>\n",
       "      <td>2020-09-07</td>\n",
       "      <td>[059024b9-ed05-9160-0465-0fddfaf7ebe3, f8a7e11...</td>\n",
       "      <td>2020-09-08</td>\n",
       "      <td>NaN</td>\n",
       "      <td>2020-09-08</td>\n",
       "    </tr>\n",
       "    <tr>\n",
       "      <th>12</th>\n",
       "      <td>2020-09-06</td>\n",
       "      <td>[ba10eca3-e4f7-1617-9a61-f67e7f98c118, 4ec1481...</td>\n",
       "      <td>2020-09-07</td>\n",
       "      <td>NaN</td>\n",
       "      <td>2020-09-07</td>\n",
       "    </tr>\n",
       "    <tr>\n",
       "      <th>12</th>\n",
       "      <td>2020-09-05</td>\n",
       "      <td>[a87eb099-5125-9728-69a7-89a3123a713e, 531f47b...</td>\n",
       "      <td>2020-09-06</td>\n",
       "      <td>NaN</td>\n",
       "      <td>2020-09-06</td>\n",
       "    </tr>\n",
       "    <tr>\n",
       "      <th>12</th>\n",
       "      <td>2020-09-04</td>\n",
       "      <td>[41a3a345-c12f-b136-fc17-e36a75eac092, 23fd9b5...</td>\n",
       "      <td>2020-09-05</td>\n",
       "      <td>NaN</td>\n",
       "      <td>2020-09-05</td>\n",
       "    </tr>\n",
       "  </tbody>\n",
       "</table>\n",
       "</div>"
      ],
      "text/plain": [
       "   sample_date                                           tek_list  \\\n",
       "12  2020-09-08  [bae92236-3f8f-66ac-36bd-940c7914d287, 08bba6c...   \n",
       "12  2020-09-07  [059024b9-ed05-9160-0465-0fddfaf7ebe3, f8a7e11...   \n",
       "12  2020-09-06  [ba10eca3-e4f7-1617-9a61-f67e7f98c118, 4ec1481...   \n",
       "12  2020-09-05  [a87eb099-5125-9728-69a7-89a3123a713e, 531f47b...   \n",
       "12  2020-09-04  [41a3a345-c12f-b136-fc17-e36a75eac092, 23fd9b5...   \n",
       "\n",
       "   extraction_date extraction_date_with_hour new_sample_extraction_date  \n",
       "12      2020-09-09                       NaN                 2020-09-09  \n",
       "12      2020-09-08                       NaN                 2020-09-08  \n",
       "12      2020-09-07                       NaN                 2020-09-07  \n",
       "12      2020-09-06                       NaN                 2020-09-06  \n",
       "12      2020-09-05                       NaN                 2020-09-05  "
      ]
     },
     "execution_count": 15,
     "metadata": {},
     "output_type": "execute_result"
    }
   ],
   "source": [
    "new_tek_devices_df = daily_extracted_teks_df.copy()\n",
    "new_tek_devices_df[\"new_sample_extraction_date\"] = \\\n",
    "    pd.to_datetime(new_tek_devices_df.sample_date) + datetime.timedelta(1)\n",
    "new_tek_devices_df[\"extraction_date\"] = pd.to_datetime(new_tek_devices_df.extraction_date)\n",
    "\n",
    "new_tek_devices_df = new_tek_devices_df[\n",
    "    new_tek_devices_df.new_sample_extraction_date == new_tek_devices_df.extraction_date]\n",
    "new_tek_devices_df.head()"
   ]
  },
  {
   "cell_type": "code",
   "execution_count": 16,
   "metadata": {
    "execution": {
     "iopub.execute_input": "2020-09-09T08:20:38.260775Z",
     "iopub.status.busy": "2020-09-09T08:20:38.260225Z",
     "iopub.status.idle": "2020-09-09T08:20:38.273528Z",
     "shell.execute_reply": "2020-09-09T08:20:38.273080Z"
    },
    "papermill": {
     "duration": 0.044364,
     "end_time": "2020-09-09T08:20:38.273652",
     "exception": false,
     "start_time": "2020-09-09T08:20:38.229288",
     "status": "completed"
    },
    "tags": []
   },
   "outputs": [
    {
     "data": {
      "text/html": [
       "<div>\n",
       "<style scoped>\n",
       "    .dataframe tbody tr th:only-of-type {\n",
       "        vertical-align: middle;\n",
       "    }\n",
       "\n",
       "    .dataframe tbody tr th {\n",
       "        vertical-align: top;\n",
       "    }\n",
       "\n",
       "    .dataframe thead th {\n",
       "        text-align: right;\n",
       "    }\n",
       "</style>\n",
       "<table border=\"1\" class=\"dataframe\">\n",
       "  <thead>\n",
       "    <tr style=\"text-align: right;\">\n",
       "      <th></th>\n",
       "      <th>sample_date_string</th>\n",
       "      <th>new_tek_devices</th>\n",
       "    </tr>\n",
       "  </thead>\n",
       "  <tbody>\n",
       "    <tr>\n",
       "      <th>0</th>\n",
       "      <td>2020-09-09</td>\n",
       "      <td>7</td>\n",
       "    </tr>\n",
       "    <tr>\n",
       "      <th>1</th>\n",
       "      <td>2020-09-08</td>\n",
       "      <td>18</td>\n",
       "    </tr>\n",
       "    <tr>\n",
       "      <th>2</th>\n",
       "      <td>2020-09-07</td>\n",
       "      <td>22</td>\n",
       "    </tr>\n",
       "    <tr>\n",
       "      <th>3</th>\n",
       "      <td>2020-09-06</td>\n",
       "      <td>24</td>\n",
       "    </tr>\n",
       "    <tr>\n",
       "      <th>4</th>\n",
       "      <td>2020-09-05</td>\n",
       "      <td>17</td>\n",
       "    </tr>\n",
       "  </tbody>\n",
       "</table>\n",
       "</div>"
      ],
      "text/plain": [
       "  sample_date_string  new_tek_devices\n",
       "0         2020-09-09                7\n",
       "1         2020-09-08               18\n",
       "2         2020-09-07               22\n",
       "3         2020-09-06               24\n",
       "4         2020-09-05               17"
      ]
     },
     "execution_count": 16,
     "metadata": {},
     "output_type": "execute_result"
    }
   ],
   "source": [
    "new_tek_devices_df.set_index(\"extraction_date\", inplace=True)\n",
    "new_tek_devices_df = new_tek_devices_df.tek_list.apply(lambda x: len(set(x))).to_frame()\n",
    "new_tek_devices_df.reset_index(inplace=True)\n",
    "new_tek_devices_df.rename(columns={\n",
    "    \"extraction_date\": \"sample_date_string\",\n",
    "    \"tek_list\": \"new_tek_devices\"}, inplace=True)\n",
    "new_tek_devices_df[\"sample_date_string\"] = new_tek_devices_df.sample_date_string.dt.strftime(\"%Y-%m-%d\")\n",
    "new_tek_devices_df.head()"
   ]
  },
  {
   "cell_type": "markdown",
   "metadata": {
    "papermill": {
     "duration": 0.028528,
     "end_time": "2020-09-09T08:20:38.330984",
     "exception": false,
     "start_time": "2020-09-09T08:20:38.302456",
     "status": "completed"
    },
    "pycharm": {
     "name": "#%% md\n"
    },
    "tags": []
   },
   "source": [
    "### Hourly New TEKs"
   ]
  },
  {
   "cell_type": "code",
   "execution_count": 17,
   "metadata": {
    "execution": {
     "iopub.execute_input": "2020-09-09T08:20:38.394671Z",
     "iopub.status.busy": "2020-09-09T08:20:38.393854Z",
     "iopub.status.idle": "2020-09-09T08:20:38.513422Z",
     "shell.execute_reply": "2020-09-09T08:20:38.513872Z"
    },
    "papermill": {
     "duration": 0.154435,
     "end_time": "2020-09-09T08:20:38.514030",
     "exception": false,
     "start_time": "2020-09-09T08:20:38.359595",
     "status": "completed"
    },
    "tags": []
   },
   "outputs": [
    {
     "data": {
      "text/html": [
       "<div>\n",
       "<style scoped>\n",
       "    .dataframe tbody tr th:only-of-type {\n",
       "        vertical-align: middle;\n",
       "    }\n",
       "\n",
       "    .dataframe tbody tr th {\n",
       "        vertical-align: top;\n",
       "    }\n",
       "\n",
       "    .dataframe thead th {\n",
       "        text-align: right;\n",
       "    }\n",
       "</style>\n",
       "<table border=\"1\" class=\"dataframe\">\n",
       "  <thead>\n",
       "    <tr style=\"text-align: right;\">\n",
       "      <th></th>\n",
       "      <th>extraction_date_with_hour</th>\n",
       "      <th>new_tek_count</th>\n",
       "    </tr>\n",
       "  </thead>\n",
       "  <tbody>\n",
       "    <tr>\n",
       "      <th>19</th>\n",
       "      <td>2020-09-09@04</td>\n",
       "      <td>2.0</td>\n",
       "    </tr>\n",
       "    <tr>\n",
       "      <th>20</th>\n",
       "      <td>2020-09-09@05</td>\n",
       "      <td>0.0</td>\n",
       "    </tr>\n",
       "    <tr>\n",
       "      <th>21</th>\n",
       "      <td>2020-09-09@06</td>\n",
       "      <td>0.0</td>\n",
       "    </tr>\n",
       "    <tr>\n",
       "      <th>22</th>\n",
       "      <td>2020-09-09@07</td>\n",
       "      <td>0.0</td>\n",
       "    </tr>\n",
       "    <tr>\n",
       "      <th>23</th>\n",
       "      <td>2020-09-09@08</td>\n",
       "      <td>6.0</td>\n",
       "    </tr>\n",
       "  </tbody>\n",
       "</table>\n",
       "</div>"
      ],
      "text/plain": [
       "   extraction_date_with_hour  new_tek_count\n",
       "19             2020-09-09@04            2.0\n",
       "20             2020-09-09@05            0.0\n",
       "21             2020-09-09@06            0.0\n",
       "22             2020-09-09@07            0.0\n",
       "23             2020-09-09@08            6.0"
      ]
     },
     "execution_count": 17,
     "metadata": {},
     "output_type": "execute_result"
    }
   ],
   "source": [
    "hourly_extracted_teks_df = load_extracted_teks(mode=\"Hourly\", limit=24)\n",
    "hourly_extracted_teks_df.head()\n",
    "\n",
    "hourly_tek_list_df = hourly_extracted_teks_df.groupby(\"extraction_date_with_hour\").tek_list.apply(\n",
    "    lambda x: set(sum(x, []))).reset_index()\n",
    "hourly_tek_list_df = hourly_tek_list_df.set_index(\"extraction_date_with_hour\").sort_index(ascending=True)\n",
    "\n",
    "hourly_new_tek_df = hourly_tek_list_df.diff().tek_list.apply(\n",
    "    lambda x: len(x) if not pd.isna(x) else None).to_frame().reset_index()\n",
    "hourly_new_tek_df.rename(columns={\n",
    "    \"tek_list\": \"new_tek_count\"}, inplace=True)\n",
    "hourly_new_tek_df.tail()"
   ]
  },
  {
   "cell_type": "code",
   "execution_count": 18,
   "metadata": {
    "execution": {
     "iopub.execute_input": "2020-09-09T08:20:38.594894Z",
     "iopub.status.busy": "2020-09-09T08:20:38.594061Z",
     "iopub.status.idle": "2020-09-09T08:20:38.610494Z",
     "shell.execute_reply": "2020-09-09T08:20:38.610921Z"
    },
    "papermill": {
     "duration": 0.065884,
     "end_time": "2020-09-09T08:20:38.611093",
     "exception": false,
     "start_time": "2020-09-09T08:20:38.545209",
     "status": "completed"
    },
    "pycharm": {
     "name": "#%%\n"
    },
    "tags": []
   },
   "outputs": [
    {
     "data": {
      "text/html": [
       "<div>\n",
       "<style scoped>\n",
       "    .dataframe tbody tr th:only-of-type {\n",
       "        vertical-align: middle;\n",
       "    }\n",
       "\n",
       "    .dataframe tbody tr th {\n",
       "        vertical-align: top;\n",
       "    }\n",
       "\n",
       "    .dataframe thead th {\n",
       "        text-align: right;\n",
       "    }\n",
       "</style>\n",
       "<table border=\"1\" class=\"dataframe\">\n",
       "  <thead>\n",
       "    <tr style=\"text-align: right;\">\n",
       "      <th></th>\n",
       "      <th>extraction_date_with_hour</th>\n",
       "      <th>new_tek_devices</th>\n",
       "    </tr>\n",
       "  </thead>\n",
       "  <tbody>\n",
       "    <tr>\n",
       "      <th>17</th>\n",
       "      <td>2020-09-09@04</td>\n",
       "      <td>2.0</td>\n",
       "    </tr>\n",
       "    <tr>\n",
       "      <th>18</th>\n",
       "      <td>2020-09-09@05</td>\n",
       "      <td>0.0</td>\n",
       "    </tr>\n",
       "    <tr>\n",
       "      <th>19</th>\n",
       "      <td>2020-09-09@06</td>\n",
       "      <td>0.0</td>\n",
       "    </tr>\n",
       "    <tr>\n",
       "      <th>20</th>\n",
       "      <td>2020-09-09@07</td>\n",
       "      <td>0.0</td>\n",
       "    </tr>\n",
       "    <tr>\n",
       "      <th>21</th>\n",
       "      <td>2020-09-09@08</td>\n",
       "      <td>2.0</td>\n",
       "    </tr>\n",
       "  </tbody>\n",
       "</table>\n",
       "</div>"
      ],
      "text/plain": [
       "   extraction_date_with_hour  new_tek_devices\n",
       "17             2020-09-09@04              2.0\n",
       "18             2020-09-09@05              0.0\n",
       "19             2020-09-09@06              0.0\n",
       "20             2020-09-09@07              0.0\n",
       "21             2020-09-09@08              2.0"
      ]
     },
     "execution_count": 18,
     "metadata": {},
     "output_type": "execute_result"
    }
   ],
   "source": [
    "hourly_new_tek_devices_df = hourly_extracted_teks_df.copy()\n",
    "hourly_new_tek_devices_df[\"new_sample_extraction_date\"] = \\\n",
    "    pd.to_datetime(hourly_new_tek_devices_df.sample_date) + datetime.timedelta(1)\n",
    "hourly_new_tek_devices_df[\"extraction_date\"] = pd.to_datetime(hourly_new_tek_devices_df.extraction_date)\n",
    "\n",
    "hourly_new_tek_devices_df = hourly_new_tek_devices_df[\n",
    "    hourly_new_tek_devices_df.new_sample_extraction_date == hourly_new_tek_devices_df.extraction_date]\n",
    "\n",
    "hourly_new_tek_devices_df.set_index(\"extraction_date_with_hour\", inplace=True)\n",
    "hourly_new_tek_devices_df_ = pd.DataFrame()\n",
    "\n",
    "for i, chunk_df in hourly_new_tek_devices_df.groupby(\"extraction_date\"):\n",
    "    chunk_df = chunk_df.copy()\n",
    "    chunk_df.sort_index(inplace=True)\n",
    "    chunk_tek_count_df = chunk_df.tek_list.apply(lambda x: len(set(x)))\n",
    "    chunk_df = chunk_tek_count_df.diff().fillna(chunk_tek_count_df).to_frame()\n",
    "    hourly_new_tek_devices_df_ = hourly_new_tek_devices_df_.append(chunk_df)\n",
    "    \n",
    "hourly_new_tek_devices_df = hourly_new_tek_devices_df_\n",
    "hourly_new_tek_devices_df.reset_index(inplace=True)\n",
    "hourly_new_tek_devices_df.rename(columns={\n",
    "    \"tek_list\": \"new_tek_devices\"}, inplace=True)\n",
    "hourly_new_tek_devices_df.tail()"
   ]
  },
  {
   "cell_type": "code",
   "execution_count": 19,
   "metadata": {
    "execution": {
     "iopub.execute_input": "2020-09-09T08:20:38.694693Z",
     "iopub.status.busy": "2020-09-09T08:20:38.693916Z",
     "iopub.status.idle": "2020-09-09T08:20:38.696780Z",
     "shell.execute_reply": "2020-09-09T08:20:38.697269Z"
    },
    "papermill": {
     "duration": 0.052255,
     "end_time": "2020-09-09T08:20:38.697433",
     "exception": false,
     "start_time": "2020-09-09T08:20:38.645178",
     "status": "completed"
    },
    "tags": []
   },
   "outputs": [
    {
     "data": {
      "text/html": [
       "<div>\n",
       "<style scoped>\n",
       "    .dataframe tbody tr th:only-of-type {\n",
       "        vertical-align: middle;\n",
       "    }\n",
       "\n",
       "    .dataframe tbody tr th {\n",
       "        vertical-align: top;\n",
       "    }\n",
       "\n",
       "    .dataframe thead th {\n",
       "        text-align: right;\n",
       "    }\n",
       "</style>\n",
       "<table border=\"1\" class=\"dataframe\">\n",
       "  <thead>\n",
       "    <tr style=\"text-align: right;\">\n",
       "      <th></th>\n",
       "      <th>extraction_date_with_hour</th>\n",
       "      <th>new_tek_count</th>\n",
       "      <th>new_tek_devices</th>\n",
       "    </tr>\n",
       "    <tr>\n",
       "      <th>datetime_utc</th>\n",
       "      <th></th>\n",
       "      <th></th>\n",
       "      <th></th>\n",
       "    </tr>\n",
       "  </thead>\n",
       "  <tbody>\n",
       "    <tr>\n",
       "      <th>2020-09-09 04:00:00</th>\n",
       "      <td>2020-09-09@04</td>\n",
       "      <td>2.0</td>\n",
       "      <td>2.0</td>\n",
       "    </tr>\n",
       "    <tr>\n",
       "      <th>2020-09-09 05:00:00</th>\n",
       "      <td>2020-09-09@05</td>\n",
       "      <td>0.0</td>\n",
       "      <td>0.0</td>\n",
       "    </tr>\n",
       "    <tr>\n",
       "      <th>2020-09-09 06:00:00</th>\n",
       "      <td>2020-09-09@06</td>\n",
       "      <td>0.0</td>\n",
       "      <td>0.0</td>\n",
       "    </tr>\n",
       "    <tr>\n",
       "      <th>2020-09-09 07:00:00</th>\n",
       "      <td>2020-09-09@07</td>\n",
       "      <td>0.0</td>\n",
       "      <td>0.0</td>\n",
       "    </tr>\n",
       "    <tr>\n",
       "      <th>2020-09-09 08:00:00</th>\n",
       "      <td>2020-09-09@08</td>\n",
       "      <td>6.0</td>\n",
       "      <td>2.0</td>\n",
       "    </tr>\n",
       "  </tbody>\n",
       "</table>\n",
       "</div>"
      ],
      "text/plain": [
       "                    extraction_date_with_hour  new_tek_count  new_tek_devices\n",
       "datetime_utc                                                                 \n",
       "2020-09-09 04:00:00             2020-09-09@04            2.0              2.0\n",
       "2020-09-09 05:00:00             2020-09-09@05            0.0              0.0\n",
       "2020-09-09 06:00:00             2020-09-09@06            0.0              0.0\n",
       "2020-09-09 07:00:00             2020-09-09@07            0.0              0.0\n",
       "2020-09-09 08:00:00             2020-09-09@08            6.0              2.0"
      ]
     },
     "execution_count": 19,
     "metadata": {},
     "output_type": "execute_result"
    }
   ],
   "source": [
    "hourly_summary_df = hourly_new_tek_df.merge(\n",
    "    hourly_new_tek_devices_df, on=[\"extraction_date_with_hour\"], how=\"outer\")\n",
    "hourly_summary_df[\"datetime_utc\"] = pd.to_datetime(\n",
    "    hourly_summary_df.extraction_date_with_hour, format=\"%Y-%m-%d@%H\")\n",
    "hourly_summary_df.set_index(\"datetime_utc\", inplace=True)\n",
    "hourly_summary_df.tail()"
   ]
  },
  {
   "cell_type": "markdown",
   "metadata": {
    "execution": {
     "iopub.execute_input": "2020-08-30T22:30:16.982353Z",
     "iopub.status.busy": "2020-08-30T22:30:16.981676Z",
     "iopub.status.idle": "2020-08-30T22:30:16.984837Z",
     "shell.execute_reply": "2020-08-30T22:30:16.985366Z"
    },
    "papermill": {
     "duration": 0.02974,
     "end_time": "2020-09-09T08:20:38.759649",
     "exception": false,
     "start_time": "2020-09-09T08:20:38.729909",
     "status": "completed"
    },
    "pycharm": {
     "name": "#%% md\n"
    },
    "tags": []
   },
   "source": [
    "### Data Merge"
   ]
  },
  {
   "cell_type": "code",
   "execution_count": 20,
   "metadata": {
    "execution": {
     "iopub.execute_input": "2020-09-09T08:20:38.834536Z",
     "iopub.status.busy": "2020-09-09T08:20:38.833933Z",
     "iopub.status.idle": "2020-09-09T08:20:38.837227Z",
     "shell.execute_reply": "2020-09-09T08:20:38.836751Z"
    },
    "papermill": {
     "duration": 0.047625,
     "end_time": "2020-09-09T08:20:38.837351",
     "exception": false,
     "start_time": "2020-09-09T08:20:38.789726",
     "status": "completed"
    },
    "pycharm": {
     "name": "#%%\n"
    },
    "tags": []
   },
   "outputs": [
    {
     "data": {
      "text/html": [
       "<div>\n",
       "<style scoped>\n",
       "    .dataframe tbody tr th:only-of-type {\n",
       "        vertical-align: middle;\n",
       "    }\n",
       "\n",
       "    .dataframe tbody tr th {\n",
       "        vertical-align: top;\n",
       "    }\n",
       "\n",
       "    .dataframe thead th {\n",
       "        text-align: right;\n",
       "    }\n",
       "</style>\n",
       "<table border=\"1\" class=\"dataframe\">\n",
       "  <thead>\n",
       "    <tr style=\"text-align: right;\">\n",
       "      <th></th>\n",
       "      <th>sample_date_string</th>\n",
       "      <th>tek_count</th>\n",
       "      <th>new_tek_count</th>\n",
       "    </tr>\n",
       "  </thead>\n",
       "  <tbody>\n",
       "    <tr>\n",
       "      <th>0</th>\n",
       "      <td>2020-09-08</td>\n",
       "      <td>7.0</td>\n",
       "      <td>44.0</td>\n",
       "    </tr>\n",
       "    <tr>\n",
       "      <th>1</th>\n",
       "      <td>2020-09-07</td>\n",
       "      <td>19.0</td>\n",
       "      <td>52.0</td>\n",
       "    </tr>\n",
       "    <tr>\n",
       "      <th>2</th>\n",
       "      <td>2020-09-06</td>\n",
       "      <td>31.0</td>\n",
       "      <td>60.0</td>\n",
       "    </tr>\n",
       "    <tr>\n",
       "      <th>3</th>\n",
       "      <td>2020-09-05</td>\n",
       "      <td>38.0</td>\n",
       "      <td>40.0</td>\n",
       "    </tr>\n",
       "    <tr>\n",
       "      <th>4</th>\n",
       "      <td>2020-09-04</td>\n",
       "      <td>42.0</td>\n",
       "      <td>58.0</td>\n",
       "    </tr>\n",
       "  </tbody>\n",
       "</table>\n",
       "</div>"
      ],
      "text/plain": [
       "  sample_date_string  tek_count  new_tek_count\n",
       "0         2020-09-08        7.0           44.0\n",
       "1         2020-09-07       19.0           52.0\n",
       "2         2020-09-06       31.0           60.0\n",
       "3         2020-09-05       38.0           40.0\n",
       "4         2020-09-04       42.0           58.0"
      ]
     },
     "execution_count": 20,
     "metadata": {},
     "output_type": "execute_result"
    }
   ],
   "source": [
    "result_summary_df = exposure_keys_summary_df.merge(new_tek_df, on=[\"sample_date_string\"], how=\"outer\")\n",
    "result_summary_df.head()"
   ]
  },
  {
   "cell_type": "code",
   "execution_count": 21,
   "metadata": {
    "execution": {
     "iopub.execute_input": "2020-09-09T08:20:38.910994Z",
     "iopub.status.busy": "2020-09-09T08:20:38.910417Z",
     "iopub.status.idle": "2020-09-09T08:20:38.914078Z",
     "shell.execute_reply": "2020-09-09T08:20:38.913626Z"
    },
    "papermill": {
     "duration": 0.046612,
     "end_time": "2020-09-09T08:20:38.914268",
     "exception": false,
     "start_time": "2020-09-09T08:20:38.867656",
     "status": "completed"
    },
    "tags": []
   },
   "outputs": [
    {
     "data": {
      "text/html": [
       "<div>\n",
       "<style scoped>\n",
       "    .dataframe tbody tr th:only-of-type {\n",
       "        vertical-align: middle;\n",
       "    }\n",
       "\n",
       "    .dataframe tbody tr th {\n",
       "        vertical-align: top;\n",
       "    }\n",
       "\n",
       "    .dataframe thead th {\n",
       "        text-align: right;\n",
       "    }\n",
       "</style>\n",
       "<table border=\"1\" class=\"dataframe\">\n",
       "  <thead>\n",
       "    <tr style=\"text-align: right;\">\n",
       "      <th></th>\n",
       "      <th>sample_date_string</th>\n",
       "      <th>tek_count</th>\n",
       "      <th>new_tek_count</th>\n",
       "      <th>new_tek_devices</th>\n",
       "    </tr>\n",
       "  </thead>\n",
       "  <tbody>\n",
       "    <tr>\n",
       "      <th>0</th>\n",
       "      <td>2020-09-08</td>\n",
       "      <td>7.0</td>\n",
       "      <td>44.0</td>\n",
       "      <td>18.0</td>\n",
       "    </tr>\n",
       "    <tr>\n",
       "      <th>1</th>\n",
       "      <td>2020-09-07</td>\n",
       "      <td>19.0</td>\n",
       "      <td>52.0</td>\n",
       "      <td>22.0</td>\n",
       "    </tr>\n",
       "    <tr>\n",
       "      <th>2</th>\n",
       "      <td>2020-09-06</td>\n",
       "      <td>31.0</td>\n",
       "      <td>60.0</td>\n",
       "      <td>24.0</td>\n",
       "    </tr>\n",
       "    <tr>\n",
       "      <th>3</th>\n",
       "      <td>2020-09-05</td>\n",
       "      <td>38.0</td>\n",
       "      <td>40.0</td>\n",
       "      <td>17.0</td>\n",
       "    </tr>\n",
       "    <tr>\n",
       "      <th>4</th>\n",
       "      <td>2020-09-04</td>\n",
       "      <td>42.0</td>\n",
       "      <td>58.0</td>\n",
       "      <td>20.0</td>\n",
       "    </tr>\n",
       "  </tbody>\n",
       "</table>\n",
       "</div>"
      ],
      "text/plain": [
       "  sample_date_string  tek_count  new_tek_count  new_tek_devices\n",
       "0         2020-09-08        7.0           44.0             18.0\n",
       "1         2020-09-07       19.0           52.0             22.0\n",
       "2         2020-09-06       31.0           60.0             24.0\n",
       "3         2020-09-05       38.0           40.0             17.0\n",
       "4         2020-09-04       42.0           58.0             20.0"
      ]
     },
     "execution_count": 21,
     "metadata": {},
     "output_type": "execute_result"
    }
   ],
   "source": [
    "result_summary_df = result_summary_df.merge(new_tek_devices_df, on=[\"sample_date_string\"], how=\"outer\")\n",
    "result_summary_df.head()"
   ]
  },
  {
   "cell_type": "code",
   "execution_count": 22,
   "metadata": {
    "execution": {
     "iopub.execute_input": "2020-09-09T08:20:38.982251Z",
     "iopub.status.busy": "2020-09-09T08:20:38.981657Z",
     "iopub.status.idle": "2020-09-09T08:20:38.994509Z",
     "shell.execute_reply": "2020-09-09T08:20:38.993959Z"
    },
    "papermill": {
     "duration": 0.049152,
     "end_time": "2020-09-09T08:20:38.994637",
     "exception": false,
     "start_time": "2020-09-09T08:20:38.945485",
     "status": "completed"
    },
    "pycharm": {
     "name": "#%%\n"
    },
    "tags": []
   },
   "outputs": [
    {
     "data": {
      "text/html": [
       "<div>\n",
       "<style scoped>\n",
       "    .dataframe tbody tr th:only-of-type {\n",
       "        vertical-align: middle;\n",
       "    }\n",
       "\n",
       "    .dataframe tbody tr th {\n",
       "        vertical-align: top;\n",
       "    }\n",
       "\n",
       "    .dataframe thead th {\n",
       "        text-align: right;\n",
       "    }\n",
       "</style>\n",
       "<table border=\"1\" class=\"dataframe\">\n",
       "  <thead>\n",
       "    <tr style=\"text-align: right;\">\n",
       "      <th></th>\n",
       "      <th>sample_date_string</th>\n",
       "      <th>tek_count</th>\n",
       "      <th>new_tek_count</th>\n",
       "      <th>new_tek_devices</th>\n",
       "      <th>cumulative_cases</th>\n",
       "      <th>new_cases</th>\n",
       "      <th>rolling_mean_new_cases</th>\n",
       "    </tr>\n",
       "  </thead>\n",
       "  <tbody>\n",
       "    <tr>\n",
       "      <th>0</th>\n",
       "      <td>2020-09-08</td>\n",
       "      <td>7.0</td>\n",
       "      <td>44.0</td>\n",
       "      <td>18.0</td>\n",
       "      <td>1069026.0</td>\n",
       "      <td>17928.0</td>\n",
       "      <td>18154.285714</td>\n",
       "    </tr>\n",
       "    <tr>\n",
       "      <th>1</th>\n",
       "      <td>2020-09-07</td>\n",
       "      <td>19.0</td>\n",
       "      <td>52.0</td>\n",
       "      <td>22.0</td>\n",
       "      <td>1051098.0</td>\n",
       "      <td>53120.0</td>\n",
       "      <td>17911.714286</td>\n",
       "    </tr>\n",
       "    <tr>\n",
       "      <th>2</th>\n",
       "      <td>2020-09-06</td>\n",
       "      <td>31.0</td>\n",
       "      <td>60.0</td>\n",
       "      <td>24.0</td>\n",
       "      <td>997978.0</td>\n",
       "      <td>0.0</td>\n",
       "      <td>17058.000000</td>\n",
       "    </tr>\n",
       "    <tr>\n",
       "      <th>3</th>\n",
       "      <td>2020-09-05</td>\n",
       "      <td>38.0</td>\n",
       "      <td>40.0</td>\n",
       "      <td>17.0</td>\n",
       "      <td>997978.0</td>\n",
       "      <td>0.0</td>\n",
       "      <td>17058.000000</td>\n",
       "    </tr>\n",
       "    <tr>\n",
       "      <th>4</th>\n",
       "      <td>2020-09-04</td>\n",
       "      <td>42.0</td>\n",
       "      <td>58.0</td>\n",
       "      <td>20.0</td>\n",
       "      <td>997978.0</td>\n",
       "      <td>20952.0</td>\n",
       "      <td>17058.000000</td>\n",
       "    </tr>\n",
       "  </tbody>\n",
       "</table>\n",
       "</div>"
      ],
      "text/plain": [
       "  sample_date_string  tek_count  new_tek_count  new_tek_devices  \\\n",
       "0         2020-09-08        7.0           44.0             18.0   \n",
       "1         2020-09-07       19.0           52.0             22.0   \n",
       "2         2020-09-06       31.0           60.0             24.0   \n",
       "3         2020-09-05       38.0           40.0             17.0   \n",
       "4         2020-09-04       42.0           58.0             20.0   \n",
       "\n",
       "   cumulative_cases  new_cases  rolling_mean_new_cases  \n",
       "0         1069026.0    17928.0            18154.285714  \n",
       "1         1051098.0    53120.0            17911.714286  \n",
       "2          997978.0        0.0            17058.000000  \n",
       "3          997978.0        0.0            17058.000000  \n",
       "4          997978.0    20952.0            17058.000000  "
      ]
     },
     "execution_count": 22,
     "metadata": {},
     "output_type": "execute_result"
    }
   ],
   "source": [
    "result_summary_df = result_summary_df.merge(confirmed_df, on=[\"sample_date_string\"], how=\"left\")\n",
    "result_summary_df.head()"
   ]
  },
  {
   "cell_type": "code",
   "execution_count": 23,
   "metadata": {
    "execution": {
     "iopub.execute_input": "2020-09-09T08:20:39.075095Z",
     "iopub.status.busy": "2020-09-09T08:20:39.074504Z",
     "iopub.status.idle": "2020-09-09T08:20:39.083215Z",
     "shell.execute_reply": "2020-09-09T08:20:39.082729Z"
    },
    "papermill": {
     "duration": 0.055629,
     "end_time": "2020-09-09T08:20:39.083341",
     "exception": false,
     "start_time": "2020-09-09T08:20:39.027712",
     "status": "completed"
    },
    "pycharm": {
     "name": "#%%\n"
    },
    "tags": []
   },
   "outputs": [
    {
     "data": {
      "text/html": [
       "<div>\n",
       "<style scoped>\n",
       "    .dataframe tbody tr th:only-of-type {\n",
       "        vertical-align: middle;\n",
       "    }\n",
       "\n",
       "    .dataframe tbody tr th {\n",
       "        vertical-align: top;\n",
       "    }\n",
       "\n",
       "    .dataframe thead th {\n",
       "        text-align: right;\n",
       "    }\n",
       "</style>\n",
       "<table border=\"1\" class=\"dataframe\">\n",
       "  <thead>\n",
       "    <tr style=\"text-align: right;\">\n",
       "      <th></th>\n",
       "      <th>sample_date_string</th>\n",
       "      <th>tek_count</th>\n",
       "      <th>new_tek_count</th>\n",
       "      <th>new_tek_devices</th>\n",
       "      <th>cumulative_cases</th>\n",
       "      <th>new_cases</th>\n",
       "      <th>rolling_mean_new_cases</th>\n",
       "      <th>tek_count_per_new_case</th>\n",
       "      <th>new_tek_count_per_new_case</th>\n",
       "      <th>new_tek_devices_per_new_case</th>\n",
       "      <th>new_tek_count_per_new_tek_device</th>\n",
       "    </tr>\n",
       "  </thead>\n",
       "  <tbody>\n",
       "    <tr>\n",
       "      <th>0</th>\n",
       "      <td>2020-09-08</td>\n",
       "      <td>7.0</td>\n",
       "      <td>44.0</td>\n",
       "      <td>18.0</td>\n",
       "      <td>1069026.0</td>\n",
       "      <td>17928.0</td>\n",
       "      <td>18154.285714</td>\n",
       "      <td>0.000386</td>\n",
       "      <td>0.002424</td>\n",
       "      <td>0.000992</td>\n",
       "      <td>2.444444</td>\n",
       "    </tr>\n",
       "    <tr>\n",
       "      <th>1</th>\n",
       "      <td>2020-09-07</td>\n",
       "      <td>19.0</td>\n",
       "      <td>52.0</td>\n",
       "      <td>22.0</td>\n",
       "      <td>1051098.0</td>\n",
       "      <td>53120.0</td>\n",
       "      <td>17911.714286</td>\n",
       "      <td>0.001061</td>\n",
       "      <td>0.002903</td>\n",
       "      <td>0.001228</td>\n",
       "      <td>2.363636</td>\n",
       "    </tr>\n",
       "    <tr>\n",
       "      <th>2</th>\n",
       "      <td>2020-09-06</td>\n",
       "      <td>31.0</td>\n",
       "      <td>60.0</td>\n",
       "      <td>24.0</td>\n",
       "      <td>997978.0</td>\n",
       "      <td>0.0</td>\n",
       "      <td>17058.000000</td>\n",
       "      <td>0.001817</td>\n",
       "      <td>0.003517</td>\n",
       "      <td>0.001407</td>\n",
       "      <td>2.500000</td>\n",
       "    </tr>\n",
       "    <tr>\n",
       "      <th>3</th>\n",
       "      <td>2020-09-05</td>\n",
       "      <td>38.0</td>\n",
       "      <td>40.0</td>\n",
       "      <td>17.0</td>\n",
       "      <td>997978.0</td>\n",
       "      <td>0.0</td>\n",
       "      <td>17058.000000</td>\n",
       "      <td>0.002228</td>\n",
       "      <td>0.002345</td>\n",
       "      <td>0.000997</td>\n",
       "      <td>2.352941</td>\n",
       "    </tr>\n",
       "    <tr>\n",
       "      <th>4</th>\n",
       "      <td>2020-09-04</td>\n",
       "      <td>42.0</td>\n",
       "      <td>58.0</td>\n",
       "      <td>20.0</td>\n",
       "      <td>997978.0</td>\n",
       "      <td>20952.0</td>\n",
       "      <td>17058.000000</td>\n",
       "      <td>0.002462</td>\n",
       "      <td>0.003400</td>\n",
       "      <td>0.001172</td>\n",
       "      <td>2.900000</td>\n",
       "    </tr>\n",
       "  </tbody>\n",
       "</table>\n",
       "</div>"
      ],
      "text/plain": [
       "  sample_date_string  tek_count  new_tek_count  new_tek_devices  \\\n",
       "0         2020-09-08        7.0           44.0             18.0   \n",
       "1         2020-09-07       19.0           52.0             22.0   \n",
       "2         2020-09-06       31.0           60.0             24.0   \n",
       "3         2020-09-05       38.0           40.0             17.0   \n",
       "4         2020-09-04       42.0           58.0             20.0   \n",
       "\n",
       "   cumulative_cases  new_cases  rolling_mean_new_cases  \\\n",
       "0         1069026.0    17928.0            18154.285714   \n",
       "1         1051098.0    53120.0            17911.714286   \n",
       "2          997978.0        0.0            17058.000000   \n",
       "3          997978.0        0.0            17058.000000   \n",
       "4          997978.0    20952.0            17058.000000   \n",
       "\n",
       "   tek_count_per_new_case  new_tek_count_per_new_case  \\\n",
       "0                0.000386                    0.002424   \n",
       "1                0.001061                    0.002903   \n",
       "2                0.001817                    0.003517   \n",
       "3                0.002228                    0.002345   \n",
       "4                0.002462                    0.003400   \n",
       "\n",
       "   new_tek_devices_per_new_case  new_tek_count_per_new_tek_device  \n",
       "0                      0.000992                          2.444444  \n",
       "1                      0.001228                          2.363636  \n",
       "2                      0.001407                          2.500000  \n",
       "3                      0.000997                          2.352941  \n",
       "4                      0.001172                          2.900000  "
      ]
     },
     "execution_count": 23,
     "metadata": {},
     "output_type": "execute_result"
    }
   ],
   "source": [
    "result_summary_df[\"tek_count_per_new_case\"] = \\\n",
    "    result_summary_df.tek_count / result_summary_df.rolling_mean_new_cases\n",
    "result_summary_df[\"new_tek_count_per_new_case\"] = \\\n",
    "    result_summary_df.new_tek_count / result_summary_df.rolling_mean_new_cases\n",
    "result_summary_df[\"new_tek_devices_per_new_case\"] = \\\n",
    "    result_summary_df.new_tek_devices / result_summary_df.rolling_mean_new_cases\n",
    "result_summary_df[\"new_tek_count_per_new_tek_device\"] = \\\n",
    "    result_summary_df.new_tek_count / result_summary_df.new_tek_devices\n",
    "result_summary_df.head()"
   ]
  },
  {
   "cell_type": "code",
   "execution_count": 24,
   "metadata": {
    "execution": {
     "iopub.execute_input": "2020-09-09T08:20:39.163515Z",
     "iopub.status.busy": "2020-09-09T08:20:39.162947Z",
     "iopub.status.idle": "2020-09-09T08:20:39.165353Z",
     "shell.execute_reply": "2020-09-09T08:20:39.164876Z"
    },
    "papermill": {
     "duration": 0.044517,
     "end_time": "2020-09-09T08:20:39.165477",
     "exception": false,
     "start_time": "2020-09-09T08:20:39.120960",
     "status": "completed"
    },
    "pycharm": {
     "name": "#%%\n"
    },
    "tags": []
   },
   "outputs": [],
   "source": [
    "result_summary_df[\"sample_date\"] = pd.to_datetime(result_summary_df.sample_date_string)\n",
    "result_summary_df.set_index(\"sample_date\", inplace=True)\n",
    "result_summary_df = result_summary_df.sort_index(ascending=False)"
   ]
  },
  {
   "cell_type": "markdown",
   "metadata": {
    "execution": {
     "iopub.execute_input": "2020-08-30T22:30:17.313260Z",
     "iopub.status.busy": "2020-08-30T22:30:17.312584Z",
     "iopub.status.idle": "2020-08-30T22:30:17.317571Z",
     "shell.execute_reply": "2020-08-30T22:30:17.316929Z"
    },
    "papermill": {
     "duration": 0.031264,
     "end_time": "2020-09-09T08:20:39.228008",
     "exception": false,
     "start_time": "2020-09-09T08:20:39.196744",
     "status": "completed"
    },
    "pycharm": {
     "name": "#%% md\n"
    },
    "tags": []
   },
   "source": [
    "## Report Results\n"
   ]
  },
  {
   "cell_type": "markdown",
   "metadata": {
    "papermill": {
     "duration": 0.031347,
     "end_time": "2020-09-09T08:20:39.290715",
     "exception": false,
     "start_time": "2020-09-09T08:20:39.259368",
     "status": "completed"
    },
    "tags": []
   },
   "source": [
    "### Summary Table"
   ]
  },
  {
   "cell_type": "code",
   "execution_count": 25,
   "metadata": {
    "execution": {
     "iopub.execute_input": "2020-09-09T08:20:39.370595Z",
     "iopub.status.busy": "2020-09-09T08:20:39.369968Z",
     "iopub.status.idle": "2020-09-09T08:20:39.372846Z",
     "shell.execute_reply": "2020-09-09T08:20:39.373282Z"
    },
    "papermill": {
     "duration": 0.051533,
     "end_time": "2020-09-09T08:20:39.373433",
     "exception": false,
     "start_time": "2020-09-09T08:20:39.321900",
     "status": "completed"
    },
    "tags": []
   },
   "outputs": [
    {
     "data": {
      "text/html": [
       "<div>\n",
       "<style scoped>\n",
       "    .dataframe tbody tr th:only-of-type {\n",
       "        vertical-align: middle;\n",
       "    }\n",
       "\n",
       "    .dataframe tbody tr th {\n",
       "        vertical-align: top;\n",
       "    }\n",
       "\n",
       "    .dataframe thead th {\n",
       "        text-align: right;\n",
       "    }\n",
       "</style>\n",
       "<table border=\"1\" class=\"dataframe\">\n",
       "  <thead>\n",
       "    <tr style=\"text-align: right;\">\n",
       "      <th></th>\n",
       "      <th>tek_count</th>\n",
       "      <th>new_tek_count</th>\n",
       "      <th>new_cases</th>\n",
       "      <th>rolling_mean_new_cases</th>\n",
       "      <th>tek_count_per_new_case</th>\n",
       "      <th>new_tek_count_per_new_case</th>\n",
       "      <th>new_tek_devices</th>\n",
       "      <th>new_tek_devices_per_new_case</th>\n",
       "      <th>new_tek_count_per_new_tek_device</th>\n",
       "    </tr>\n",
       "    <tr>\n",
       "      <th>sample_date</th>\n",
       "      <th></th>\n",
       "      <th></th>\n",
       "      <th></th>\n",
       "      <th></th>\n",
       "      <th></th>\n",
       "      <th></th>\n",
       "      <th></th>\n",
       "      <th></th>\n",
       "      <th></th>\n",
       "    </tr>\n",
       "  </thead>\n",
       "  <tbody>\n",
       "    <tr>\n",
       "      <th>2020-09-09</th>\n",
       "      <td>NaN</td>\n",
       "      <td>12.0</td>\n",
       "      <td>18154.285714</td>\n",
       "      <td>18154.285714</td>\n",
       "      <td>NaN</td>\n",
       "      <td>0.000661</td>\n",
       "      <td>7.0</td>\n",
       "      <td>0.000386</td>\n",
       "      <td>1.714286</td>\n",
       "    </tr>\n",
       "    <tr>\n",
       "      <th>2020-09-08</th>\n",
       "      <td>7.0</td>\n",
       "      <td>44.0</td>\n",
       "      <td>17928.000000</td>\n",
       "      <td>18154.285714</td>\n",
       "      <td>0.000386</td>\n",
       "      <td>0.002424</td>\n",
       "      <td>18.0</td>\n",
       "      <td>0.000992</td>\n",
       "      <td>2.444444</td>\n",
       "    </tr>\n",
       "    <tr>\n",
       "      <th>2020-09-07</th>\n",
       "      <td>19.0</td>\n",
       "      <td>52.0</td>\n",
       "      <td>53120.000000</td>\n",
       "      <td>17911.714286</td>\n",
       "      <td>0.001061</td>\n",
       "      <td>0.002903</td>\n",
       "      <td>22.0</td>\n",
       "      <td>0.001228</td>\n",
       "      <td>2.363636</td>\n",
       "    </tr>\n",
       "    <tr>\n",
       "      <th>2020-09-06</th>\n",
       "      <td>31.0</td>\n",
       "      <td>60.0</td>\n",
       "      <td>0.000000</td>\n",
       "      <td>17058.000000</td>\n",
       "      <td>0.001817</td>\n",
       "      <td>0.003517</td>\n",
       "      <td>24.0</td>\n",
       "      <td>0.001407</td>\n",
       "      <td>2.500000</td>\n",
       "    </tr>\n",
       "    <tr>\n",
       "      <th>2020-09-05</th>\n",
       "      <td>38.0</td>\n",
       "      <td>40.0</td>\n",
       "      <td>0.000000</td>\n",
       "      <td>17058.000000</td>\n",
       "      <td>0.002228</td>\n",
       "      <td>0.002345</td>\n",
       "      <td>17.0</td>\n",
       "      <td>0.000997</td>\n",
       "      <td>2.352941</td>\n",
       "    </tr>\n",
       "    <tr>\n",
       "      <th>2020-09-04</th>\n",
       "      <td>42.0</td>\n",
       "      <td>58.0</td>\n",
       "      <td>20952.000000</td>\n",
       "      <td>17058.000000</td>\n",
       "      <td>0.002462</td>\n",
       "      <td>0.003400</td>\n",
       "      <td>20.0</td>\n",
       "      <td>0.001172</td>\n",
       "      <td>2.900000</td>\n",
       "    </tr>\n",
       "    <tr>\n",
       "      <th>2020-09-03</th>\n",
       "      <td>51.0</td>\n",
       "      <td>49.0</td>\n",
       "      <td>17918.000000</td>\n",
       "      <td>16858.857143</td>\n",
       "      <td>0.003025</td>\n",
       "      <td>0.002906</td>\n",
       "      <td>19.0</td>\n",
       "      <td>0.001127</td>\n",
       "      <td>2.578947</td>\n",
       "    </tr>\n",
       "    <tr>\n",
       "      <th>2020-09-02</th>\n",
       "      <td>52.0</td>\n",
       "      <td>57.0</td>\n",
       "      <td>17162.000000</td>\n",
       "      <td>17058.571429</td>\n",
       "      <td>0.003048</td>\n",
       "      <td>0.003341</td>\n",
       "      <td>14.0</td>\n",
       "      <td>0.000821</td>\n",
       "      <td>4.071429</td>\n",
       "    </tr>\n",
       "    <tr>\n",
       "      <th>2020-09-01</th>\n",
       "      <td>46.0</td>\n",
       "      <td>39.0</td>\n",
       "      <td>16230.000000</td>\n",
       "      <td>16691.428571</td>\n",
       "      <td>0.002756</td>\n",
       "      <td>0.002337</td>\n",
       "      <td>14.0</td>\n",
       "      <td>0.000839</td>\n",
       "      <td>2.785714</td>\n",
       "    </tr>\n",
       "    <tr>\n",
       "      <th>2020-08-31</th>\n",
       "      <td>47.0</td>\n",
       "      <td>63.0</td>\n",
       "      <td>47144.000000</td>\n",
       "      <td>16406.285714</td>\n",
       "      <td>0.002865</td>\n",
       "      <td>0.003840</td>\n",
       "      <td>25.0</td>\n",
       "      <td>0.001524</td>\n",
       "      <td>2.520000</td>\n",
       "    </tr>\n",
       "    <tr>\n",
       "      <th>2020-08-30</th>\n",
       "      <td>59.0</td>\n",
       "      <td>29.0</td>\n",
       "      <td>0.000000</td>\n",
       "      <td>15209.142857</td>\n",
       "      <td>0.003879</td>\n",
       "      <td>0.001907</td>\n",
       "      <td>16.0</td>\n",
       "      <td>0.001052</td>\n",
       "      <td>1.812500</td>\n",
       "    </tr>\n",
       "    <tr>\n",
       "      <th>2020-08-29</th>\n",
       "      <td>49.0</td>\n",
       "      <td>NaN</td>\n",
       "      <td>0.000000</td>\n",
       "      <td>15209.142857</td>\n",
       "      <td>0.003222</td>\n",
       "      <td>NaN</td>\n",
       "      <td>27.0</td>\n",
       "      <td>0.001775</td>\n",
       "      <td>NaN</td>\n",
       "    </tr>\n",
       "    <tr>\n",
       "      <th>2020-08-28</th>\n",
       "      <td>59.0</td>\n",
       "      <td>NaN</td>\n",
       "      <td>19558.000000</td>\n",
       "      <td>15209.142857</td>\n",
       "      <td>0.003879</td>\n",
       "      <td>NaN</td>\n",
       "      <td>NaN</td>\n",
       "      <td>NaN</td>\n",
       "      <td>NaN</td>\n",
       "    </tr>\n",
       "    <tr>\n",
       "      <th>2020-08-27</th>\n",
       "      <td>72.0</td>\n",
       "      <td>NaN</td>\n",
       "      <td>19316.000000</td>\n",
       "      <td>14743.142857</td>\n",
       "      <td>0.004884</td>\n",
       "      <td>NaN</td>\n",
       "      <td>NaN</td>\n",
       "      <td>NaN</td>\n",
       "      <td>NaN</td>\n",
       "    </tr>\n",
       "  </tbody>\n",
       "</table>\n",
       "</div>"
      ],
      "text/plain": [
       "             tek_count  new_tek_count     new_cases  rolling_mean_new_cases  \\\n",
       "sample_date                                                                   \n",
       "2020-09-09         NaN           12.0  18154.285714            18154.285714   \n",
       "2020-09-08         7.0           44.0  17928.000000            18154.285714   \n",
       "2020-09-07        19.0           52.0  53120.000000            17911.714286   \n",
       "2020-09-06        31.0           60.0      0.000000            17058.000000   \n",
       "2020-09-05        38.0           40.0      0.000000            17058.000000   \n",
       "2020-09-04        42.0           58.0  20952.000000            17058.000000   \n",
       "2020-09-03        51.0           49.0  17918.000000            16858.857143   \n",
       "2020-09-02        52.0           57.0  17162.000000            17058.571429   \n",
       "2020-09-01        46.0           39.0  16230.000000            16691.428571   \n",
       "2020-08-31        47.0           63.0  47144.000000            16406.285714   \n",
       "2020-08-30        59.0           29.0      0.000000            15209.142857   \n",
       "2020-08-29        49.0            NaN      0.000000            15209.142857   \n",
       "2020-08-28        59.0            NaN  19558.000000            15209.142857   \n",
       "2020-08-27        72.0            NaN  19316.000000            14743.142857   \n",
       "\n",
       "             tek_count_per_new_case  new_tek_count_per_new_case  \\\n",
       "sample_date                                                       \n",
       "2020-09-09                      NaN                    0.000661   \n",
       "2020-09-08                 0.000386                    0.002424   \n",
       "2020-09-07                 0.001061                    0.002903   \n",
       "2020-09-06                 0.001817                    0.003517   \n",
       "2020-09-05                 0.002228                    0.002345   \n",
       "2020-09-04                 0.002462                    0.003400   \n",
       "2020-09-03                 0.003025                    0.002906   \n",
       "2020-09-02                 0.003048                    0.003341   \n",
       "2020-09-01                 0.002756                    0.002337   \n",
       "2020-08-31                 0.002865                    0.003840   \n",
       "2020-08-30                 0.003879                    0.001907   \n",
       "2020-08-29                 0.003222                         NaN   \n",
       "2020-08-28                 0.003879                         NaN   \n",
       "2020-08-27                 0.004884                         NaN   \n",
       "\n",
       "             new_tek_devices  new_tek_devices_per_new_case  \\\n",
       "sample_date                                                  \n",
       "2020-09-09               7.0                      0.000386   \n",
       "2020-09-08              18.0                      0.000992   \n",
       "2020-09-07              22.0                      0.001228   \n",
       "2020-09-06              24.0                      0.001407   \n",
       "2020-09-05              17.0                      0.000997   \n",
       "2020-09-04              20.0                      0.001172   \n",
       "2020-09-03              19.0                      0.001127   \n",
       "2020-09-02              14.0                      0.000821   \n",
       "2020-09-01              14.0                      0.000839   \n",
       "2020-08-31              25.0                      0.001524   \n",
       "2020-08-30              16.0                      0.001052   \n",
       "2020-08-29              27.0                      0.001775   \n",
       "2020-08-28               NaN                           NaN   \n",
       "2020-08-27               NaN                           NaN   \n",
       "\n",
       "             new_tek_count_per_new_tek_device  \n",
       "sample_date                                    \n",
       "2020-09-09                           1.714286  \n",
       "2020-09-08                           2.444444  \n",
       "2020-09-07                           2.363636  \n",
       "2020-09-06                           2.500000  \n",
       "2020-09-05                           2.352941  \n",
       "2020-09-04                           2.900000  \n",
       "2020-09-03                           2.578947  \n",
       "2020-09-02                           4.071429  \n",
       "2020-09-01                           2.785714  \n",
       "2020-08-31                           2.520000  \n",
       "2020-08-30                           1.812500  \n",
       "2020-08-29                                NaN  \n",
       "2020-08-28                                NaN  \n",
       "2020-08-27                                NaN  "
      ]
     },
     "execution_count": 25,
     "metadata": {},
     "output_type": "execute_result"
    }
   ],
   "source": [
    "result_summary_df_ = result_summary_df.copy()\n",
    "result_summary_df = result_summary_df[[\n",
    "    \"tek_count\",\n",
    "    \"new_tek_count\",\n",
    "    \"new_cases\",\n",
    "    \"rolling_mean_new_cases\",\n",
    "    \"tek_count_per_new_case\",\n",
    "    \"new_tek_count_per_new_case\",\n",
    "    \"new_tek_devices\",\n",
    "    \"new_tek_devices_per_new_case\",\n",
    "    \"new_tek_count_per_new_tek_device\"]]\n",
    "result_summary_df"
   ]
  },
  {
   "cell_type": "markdown",
   "metadata": {
    "papermill": {
     "duration": 0.031835,
     "end_time": "2020-09-09T08:20:39.437174",
     "exception": false,
     "start_time": "2020-09-09T08:20:39.405339",
     "status": "completed"
    },
    "tags": []
   },
   "source": [
    "### Summary Plots"
   ]
  },
  {
   "cell_type": "code",
   "execution_count": 26,
   "metadata": {
    "execution": {
     "iopub.execute_input": "2020-09-09T08:20:39.553405Z",
     "iopub.status.busy": "2020-09-09T08:20:39.534643Z",
     "iopub.status.idle": "2020-09-09T08:20:40.668587Z",
     "shell.execute_reply": "2020-09-09T08:20:40.669036Z"
    },
    "papermill": {
     "duration": 1.200298,
     "end_time": "2020-09-09T08:20:40.669197",
     "exception": false,
     "start_time": "2020-09-09T08:20:39.468899",
     "status": "completed"
    },
    "scrolled": false,
    "tags": []
   },
   "outputs": [
    {
     "data": {
      "image/png": "[encoded data removed]",
      "text/plain": [
       "<Figure size 1080x1584 with 6 Axes>"
      ]
     },
     "metadata": {},
     "output_type": "display_data"
    }
   ],
   "source": [
    "summary_ax_list = result_summary_df[[\n",
    "    \"rolling_mean_new_cases\",\n",
    "    \"tek_count\",\n",
    "    \"new_tek_count\",\n",
    "    \"new_tek_devices\",\n",
    "    \"new_tek_count_per_new_tek_device\",\n",
    "    \"new_tek_devices_per_new_case\"\n",
    "]].sort_index(ascending=True).plot.bar(\n",
    "    title=\"Summary\", rot=45, subplots=True, figsize=(15, 22))\n",
    "summary_ax_list[-1].yaxis.set_major_formatter(matplotlib.ticker.PercentFormatter(1.0))"
   ]
  },
  {
   "cell_type": "markdown",
   "metadata": {
    "papermill": {
     "duration": 0.851309,
     "end_time": "2020-09-09T08:20:41.555370",
     "exception": false,
     "start_time": "2020-09-09T08:20:40.704061",
     "status": "completed"
    },
    "tags": []
   },
   "source": [
    "### Hourly Summary Plots "
   ]
  },
  {
   "cell_type": "code",
   "execution_count": 27,
   "metadata": {
    "execution": {
     "iopub.execute_input": "2020-09-09T08:20:41.654937Z",
     "iopub.status.busy": "2020-09-09T08:20:41.654337Z",
     "iopub.status.idle": "2020-09-09T08:20:42.153941Z",
     "shell.execute_reply": "2020-09-09T08:20:42.154737Z"
    },
    "papermill": {
     "duration": 0.555324,
     "end_time": "2020-09-09T08:20:42.154900",
     "exception": false,
     "start_time": "2020-09-09T08:20:41.599576",
     "status": "completed"
    },
    "pycharm": {
     "name": "#%%\n"
    },
    "tags": []
   },
   "outputs": [
    {
     "data": {
      "image/png": "[encoded data removed]",
      "text/plain": [
       "<Figure size 1080x432 with 2 Axes>"
      ]
     },
     "metadata": {},
     "output_type": "display_data"
    }
   ],
   "source": [
    "hourly_summary_ax_list = hourly_summary_df.plot.bar(\n",
    "    title=\"Last 24h Summary\", rot=45, subplots=True)"
   ]
  },
  {
   "cell_type": "markdown",
   "metadata": {
    "papermill": {
     "duration": 0.040928,
     "end_time": "2020-09-09T08:20:42.234195",
     "exception": false,
     "start_time": "2020-09-09T08:20:42.193267",
     "status": "completed"
    },
    "tags": []
   },
   "source": [
    "### Publish Results"
   ]
  },
  {
   "cell_type": "code",
   "execution_count": 28,
   "metadata": {
    "execution": {
     "iopub.execute_input": "2020-09-09T08:20:42.346757Z",
     "iopub.status.busy": "2020-09-09T08:20:42.346119Z",
     "iopub.status.idle": "2020-09-09T08:20:55.871979Z",
     "shell.execute_reply": "2020-09-09T08:20:55.872784Z"
    },
    "papermill": {
     "duration": 13.59255,
     "end_time": "2020-09-09T08:20:55.872951",
     "exception": false,
     "start_time": "2020-09-09T08:20:42.280401",
     "status": "completed"
    },
    "pycharm": {
     "name": "#%%\n"
    },
    "tags": []
   },
   "outputs": [],
   "source": [
    "def get_temporary_image_path() -> str:\n",
    "    return os.path.join(tempfile.gettempdir(), str(uuid.uuid4()) + \".png\")\n",
    "\n",
    "def save_temporary_plot_image(ax):\n",
    "    if isinstance(ax, np.ndarray):\n",
    "        ax = ax[0]\n",
    "    media_path = get_temporary_image_path()\n",
    "    ax.get_figure().savefig(media_path)\n",
    "    return media_path\n",
    "\n",
    "def save_temporary_dataframe_image(df):\n",
    "    media_path = get_temporary_image_path()\n",
    "    dfi.export(df, media_path)\n",
    "    return media_path\n",
    "\n",
    "summary_plots_image_path = save_temporary_plot_image(ax=summary_ax_list)\n",
    "summary_table_image_path = save_temporary_dataframe_image(df=result_summary_df)\n",
    "hourly_summary_plots_image_path = save_temporary_plot_image(ax=hourly_summary_ax_list)"
   ]
  },
  {
   "cell_type": "markdown",
   "metadata": {
    "papermill": {
     "duration": 0.035339,
     "end_time": "2020-09-09T08:20:55.944911",
     "exception": false,
     "start_time": "2020-09-09T08:20:55.909572",
     "status": "completed"
    },
    "tags": []
   },
   "source": [
    "### Save Results"
   ]
  },
  {
   "cell_type": "code",
   "execution_count": 29,
   "metadata": {
    "execution": {
     "iopub.execute_input": "2020-09-09T08:20:56.022815Z",
     "iopub.status.busy": "2020-09-09T08:20:56.022245Z",
     "iopub.status.idle": "2020-09-09T08:20:56.035093Z",
     "shell.execute_reply": "2020-09-09T08:20:56.034644Z"
    },
    "papermill": {
     "duration": 0.055057,
     "end_time": "2020-09-09T08:20:56.035213",
     "exception": false,
     "start_time": "2020-09-09T08:20:55.980156",
     "status": "completed"
    },
    "pycharm": {
     "name": "#%%\n"
    },
    "tags": []
   },
   "outputs": [],
   "source": [
    "report_resources_path_prefix = \"Data/Resources/Current/RadarCOVID-Report-\"\n",
    "result_summary_df.to_csv(report_resources_path_prefix + \"Summary-Table.csv\")\n",
    "result_summary_df.to_html(report_resources_path_prefix + \"Summary-Table.html\")\n",
    "_ = shutil.copyfile(summary_plots_image_path, report_resources_path_prefix + \"Summary-Plots.png\")\n",
    "_ = shutil.copyfile(summary_table_image_path, report_resources_path_prefix + \"Summary-Table.png\")\n",
    "_ = shutil.copyfile(hourly_summary_plots_image_path, report_resources_path_prefix + \"Hourly-Summary-Plots.png\")\n",
    "\n",
    "report_daily_url_pattern = \\\n",
    "    \"https://github.com/pvieito/RadarCOVID-Report/blob/master/Notebooks/\" \\\n",
    "    \"RadarCOVID-Report/{report_type}/RadarCOVID-Report-{report_date}.ipynb\"\n",
    "report_daily_url = report_daily_url_pattern.format(\n",
    "    report_type=\"Daily\", report_date=extraction_date)\n",
    "report_hourly_url = report_daily_url_pattern.format(\n",
    "    report_type=\"Hourly\", report_date=extraction_date_with_hour)"
   ]
  },
  {
   "cell_type": "markdown",
   "metadata": {
    "papermill": {
     "duration": 0.035632,
     "end_time": "2020-09-09T08:20:56.110295",
     "exception": false,
     "start_time": "2020-09-09T08:20:56.074663",
     "status": "completed"
    },
    "tags": []
   },
   "source": [
    "### Publish on README"
   ]
  },
  {
   "cell_type": "code",
   "execution_count": 30,
   "metadata": {
    "execution": {
     "iopub.execute_input": "2020-09-09T08:20:56.185852Z",
     "iopub.status.busy": "2020-09-09T08:20:56.185307Z",
     "iopub.status.idle": "2020-09-09T08:20:56.193691Z",
     "shell.execute_reply": "2020-09-09T08:20:56.194103Z"
    },
    "papermill": {
     "duration": 0.048649,
     "end_time": "2020-09-09T08:20:56.194274",
     "exception": false,
     "start_time": "2020-09-09T08:20:56.145625",
     "status": "completed"
    },
    "pycharm": {
     "name": "#%%\n"
    },
    "tags": []
   },
   "outputs": [],
   "source": [
    "with open(\"Data/Templates/README.md\", \"r\") as f:\n",
    "    readme_contents = f.read()\n",
    "\n",
    "summary_table_html = result_summary_df.to_html()\n",
    "readme_contents = readme_contents.format(\n",
    "    summary_table_html=summary_table_html,\n",
    "    report_url_with_hour=report_hourly_url,\n",
    "    extraction_date_with_hour=extraction_date_with_hour)\n",
    "\n",
    "with open(\"README.md\", \"w\") as f:\n",
    "    f.write(readme_contents)"
   ]
  },
  {
   "cell_type": "markdown",
   "metadata": {
    "papermill": {
     "duration": 0.035173,
     "end_time": "2020-09-09T08:20:56.264921",
     "exception": false,
     "start_time": "2020-09-09T08:20:56.229748",
     "status": "completed"
    },
    "pycharm": {
     "name": "#%% md\n"
    },
    "tags": []
   },
   "source": [
    "### Publish on Twitter"
   ]
  },
  {
   "cell_type": "code",
   "execution_count": 31,
   "metadata": {
    "execution": {
     "iopub.execute_input": "2020-09-09T08:20:56.345234Z",
     "iopub.status.busy": "2020-09-09T08:20:56.344662Z",
     "iopub.status.idle": "2020-09-09T08:20:58.295166Z",
     "shell.execute_reply": "2020-09-09T08:20:58.294665Z"
    },
    "papermill": {
     "duration": 1.994989,
     "end_time": "2020-09-09T08:20:58.295306",
     "exception": false,
     "start_time": "2020-09-09T08:20:56.300317",
     "status": "completed"
    },
    "pycharm": {
     "name": "#%%\n"
    },
    "tags": []
   },
   "outputs": [],
   "source": [
    "enable_share_to_twitter = os.environ.get(\"RADARCOVID_REPORT__ENABLE_PUBLISH_ON_TWITTER\")\n",
    "github_event_name = os.environ.get(\"GITHUB_EVENT_NAME\")\n",
    "\n",
    "if enable_share_to_twitter and github_event_name == \"schedule\":\n",
    "    import tweepy\n",
    "\n",
    "    twitter_api_auth_keys = os.environ[\"RADARCOVID_REPORT__TWITTER_API_AUTH_KEYS\"]\n",
    "    twitter_api_auth_keys = twitter_api_auth_keys.split(\":\")\n",
    "    auth = tweepy.OAuthHandler(twitter_api_auth_keys[0], twitter_api_auth_keys[1])\n",
    "    auth.set_access_token(twitter_api_auth_keys[2], twitter_api_auth_keys[3])\n",
    "\n",
    "    api = tweepy.API(auth)\n",
    "\n",
    "    summary_plots_media = api.media_upload(summary_plots_image_path)\n",
    "    summary_table_media = api.media_upload(summary_table_image_path)\n",
    "    hourly_summary_plots_media = api.media_upload(hourly_summary_plots_image_path)\n",
    "    media_ids = [\n",
    "        summary_plots_media.media_id,\n",
    "        summary_table_media.media_id,\n",
    "        hourly_summary_plots_media.media_id,\n",
    "    ]\n",
    "\n",
    "    extraction_date_result_summary_df = \\\n",
    "        result_summary_df[result_summary_df.index == extraction_date]\n",
    "    extraction_date_result_hourly_summary_df = \\\n",
    "        hourly_summary_df[hourly_summary_df.extraction_date_with_hour == extraction_date_with_hour]\n",
    "\n",
    "    new_teks = extraction_date_result_summary_df.new_tek_count.sum().astype(int)\n",
    "    new_teks_last_hour = extraction_date_result_hourly_summary_df.new_tek_count.sum().astype(int)\n",
    "    new_devices = extraction_date_result_summary_df.new_tek_devices.sum().astype(int)\n",
    "    new_devices_last_hour = extraction_date_result_hourly_summary_df.new_tek_devices.sum().astype(int)\n",
    "    new_tek_count_per_new_tek_device = \\\n",
    "        extraction_date_result_summary_df.new_tek_count_per_new_tek_device.sum()\n",
    "    new_tek_devices_per_new_case = \\\n",
    "        extraction_date_result_summary_df.new_tek_devices_per_new_case.sum()\n",
    "\n",
    "    status = textwrap.dedent(f\"\"\"\n",
    "        Report Update – {extraction_date_with_hour}\n",
    "        #ExposureNotification #RadarCOVID\n",
    "\n",
    "        Shared Diagnoses Day Summary:\n",
    "        - New TEKs: {new_teks} ({new_teks_last_hour:+d} last hour)\n",
    "        - New Devices: {new_devices} ({new_devices_last_hour:+d} last hour, {new_tek_count_per_new_tek_device:.2} TEKs/device)\n",
    "        - Usage Ratio: {new_tek_devices_per_new_case:.2%} devices/case\n",
    "\n",
    "        Report Link: {report_hourly_url}\n",
    "        \"\"\")\n",
    "    status = status.encode(encoding=\"utf-8\")\n",
    "    api.update_status(status=status, media_ids=media_ids)"
   ]
  }
 ],
 "metadata": {
  "kernelspec": {
   "display_name": "Python 3",
   "language": "python",
   "name": "python3"
  },
  "language_info": {
   "codemirror_mode": {
    "name": "ipython",
    "version": 3
   },
   "file_extension": ".py",
   "mimetype": "text/x-python",
   "name": "python",
   "nbconvert_exporter": "python",
   "pygments_lexer": "ipython3",
   "version": "3.8.5"
  },
  "papermill": {
   "duration": 29.977372,
   "end_time": "2020-09-09T08:20:58.747721",
   "environment_variables": {},
   "exception": null,
   "input_path": "Notebooks/RadarCOVID-Report/Source/RadarCOVID-Report.ipynb",
   "output_path": "RadarCOVID-Report.ipynb",
   "parameters": {},
   "start_time": "2020-09-09T08:20:28.770349",
   "version": "2.1.3"
  }
 },
 "nbformat": 4,
 "nbformat_minor": 1
}