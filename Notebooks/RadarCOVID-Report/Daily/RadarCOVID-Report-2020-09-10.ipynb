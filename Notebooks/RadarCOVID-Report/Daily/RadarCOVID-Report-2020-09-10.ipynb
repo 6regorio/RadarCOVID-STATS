{
 "cells": [
  {
   "cell_type": "markdown",
   "metadata": {
    "papermill": {
     "duration": 0.030626,
     "end_time": "2020-09-10T21:18:14.247900",
     "exception": false,
     "start_time": "2020-09-10T21:18:14.217274",
     "status": "completed"
    },
    "pycharm": {
     "name": "#%% md\n"
    },
    "tags": []
   },
   "source": [
    "# RadarCOVID-Report"
   ]
  },
  {
   "cell_type": "markdown",
   "metadata": {
    "collapsed": true,
    "papermill": {
     "duration": 0.026305,
     "end_time": "2020-09-10T21:18:14.300734",
     "exception": false,
     "start_time": "2020-09-10T21:18:14.274429",
     "status": "completed"
    },
    "pycharm": {
     "name": "#%% md\n"
    },
    "tags": []
   },
   "source": [
    "## Data Extraction"
   ]
  },
  {
   "cell_type": "code",
   "execution_count": 1,
   "metadata": {
    "execution": {
     "iopub.execute_input": "2020-09-10T21:18:14.359412Z",
     "iopub.status.busy": "2020-09-10T21:18:14.358706Z",
     "iopub.status.idle": "2020-09-10T21:18:17.322667Z",
     "shell.execute_reply": "2020-09-10T21:18:17.321367Z"
    },
    "papermill": {
     "duration": 2.995931,
     "end_time": "2020-09-10T21:18:17.322897",
     "exception": false,
     "start_time": "2020-09-10T21:18:14.326966",
     "status": "completed"
    },
    "pycharm": {
     "name": "#%%\n"
    },
    "tags": []
   },
   "outputs": [],
   "source": [
    "import datetime\n",
    "import logging\n",
    "import os\n",
    "import shutil\n",
    "import tempfile\n",
    "import textwrap\n",
    "import uuid\n",
    "\n",
    "import dataframe_image as dfi\n",
    "import matplotlib.ticker\n",
    "import numpy as np\n",
    "import pandas as pd\n",
    "import seaborn as sns\n",
    "\n",
    "%matplotlib inline"
   ]
  },
  {
   "cell_type": "code",
   "execution_count": 2,
   "metadata": {
    "execution": {
     "iopub.execute_input": "2020-09-10T21:18:17.384620Z",
     "iopub.status.busy": "2020-09-10T21:18:17.383959Z",
     "iopub.status.idle": "2020-09-10T21:18:17.387165Z",
     "shell.execute_reply": "2020-09-10T21:18:17.386331Z"
    },
    "papermill": {
     "duration": 0.037645,
     "end_time": "2020-09-10T21:18:17.387355",
     "exception": false,
     "start_time": "2020-09-10T21:18:17.349710",
     "status": "completed"
    },
    "pycharm": {
     "name": "#%%\n"
    },
    "tags": []
   },
   "outputs": [],
   "source": [
    "sns.set()\n",
    "matplotlib.rcParams['figure.figsize'] = (15, 6)\n",
    "\n",
    "extraction_datetime = datetime.datetime.utcnow()\n",
    "extraction_date = extraction_datetime.strftime(\"%Y-%m-%d\")\n",
    "extraction_previous_datetime = extraction_datetime - datetime.timedelta(days=1)\n",
    "extraction_previous_date = extraction_previous_datetime.strftime(\"%Y-%m-%d\")\n",
    "extraction_date_with_hour = datetime.datetime.utcnow().strftime(\"%Y-%m-%d@%H\")"
   ]
  },
  {
   "cell_type": "markdown",
   "metadata": {
    "papermill": {
     "duration": 0.029757,
     "end_time": "2020-09-10T21:18:17.443639",
     "exception": false,
     "start_time": "2020-09-10T21:18:17.413882",
     "status": "completed"
    },
    "tags": []
   },
   "source": [
    "### COVID-19 Cases"
   ]
  },
  {
   "cell_type": "code",
   "execution_count": 3,
   "metadata": {
    "execution": {
     "iopub.execute_input": "2020-09-10T21:18:17.504392Z",
     "iopub.status.busy": "2020-09-10T21:18:17.503264Z",
     "iopub.status.idle": "2020-09-10T21:18:17.933261Z",
     "shell.execute_reply": "2020-09-10T21:18:17.933768Z"
    },
    "papermill": {
     "duration": 0.461538,
     "end_time": "2020-09-10T21:18:17.933973",
     "exception": false,
     "start_time": "2020-09-10T21:18:17.472435",
     "status": "completed"
    },
    "pycharm": {
     "name": "#%%\n"
    },
    "tags": []
   },
   "outputs": [],
   "source": [
    "confirmed_df = pd.read_csv(\"https://covid19tracking.narrativa.com/csv/confirmed.csv\")\n",
    "\n",
    "radar_covid_countries = {\"Spain\"}\n",
    "# radar_covid_regions = { ... }\n",
    "\n",
    "confirmed_df = confirmed_df[confirmed_df[\"Country_EN\"].isin(radar_covid_countries)]\n",
    "# confirmed_df = confirmed_df[confirmed_df[\"Region\"].isin(radar_covid_regions)]\n",
    "# set(confirmed_df.Region.tolist()) == radar_covid_regions"
   ]
  },
  {
   "cell_type": "code",
   "execution_count": 4,
   "metadata": {
    "collapsed": false,
    "execution": {
     "iopub.execute_input": "2020-09-10T21:18:18.001561Z",
     "iopub.status.busy": "2020-09-10T21:18:18.000896Z",
     "iopub.status.idle": "2020-09-10T21:18:18.008243Z",
     "shell.execute_reply": "2020-09-10T21:18:18.008794Z"
    },
    "papermill": {
     "duration": 0.04705,
     "end_time": "2020-09-10T21:18:18.008977",
     "exception": false,
     "start_time": "2020-09-10T21:18:17.961927",
     "status": "completed"
    },
    "pycharm": {
     "name": "#%%\n"
    },
    "tags": []
   },
   "outputs": [
    {
     "data": {
      "text/html": [
       "<div>\n",
       "<style scoped>\n",
       "    .dataframe tbody tr th:only-of-type {\n",
       "        vertical-align: middle;\n",
       "    }\n",
       "\n",
       "    .dataframe tbody tr th {\n",
       "        vertical-align: top;\n",
       "    }\n",
       "\n",
       "    .dataframe thead th {\n",
       "        text-align: right;\n",
       "    }\n",
       "</style>\n",
       "<table border=\"1\" class=\"dataframe\">\n",
       "  <thead>\n",
       "    <tr style=\"text-align: right;\">\n",
       "      <th></th>\n",
       "      <th>0</th>\n",
       "    </tr>\n",
       "  </thead>\n",
       "  <tbody>\n",
       "    <tr>\n",
       "      <th>2020-09-05</th>\n",
       "      <td>997978.0</td>\n",
       "    </tr>\n",
       "    <tr>\n",
       "      <th>2020-09-06</th>\n",
       "      <td>997978.0</td>\n",
       "    </tr>\n",
       "    <tr>\n",
       "      <th>2020-09-07</th>\n",
       "      <td>1051098.0</td>\n",
       "    </tr>\n",
       "    <tr>\n",
       "      <th>2020-09-08</th>\n",
       "      <td>1069026.0</td>\n",
       "    </tr>\n",
       "    <tr>\n",
       "      <th>2020-09-09</th>\n",
       "      <td>1086758.0</td>\n",
       "    </tr>\n",
       "  </tbody>\n",
       "</table>\n",
       "</div>"
      ],
      "text/plain": [
       "                    0\n",
       "2020-09-05   997978.0\n",
       "2020-09-06   997978.0\n",
       "2020-09-07  1051098.0\n",
       "2020-09-08  1069026.0\n",
       "2020-09-09  1086758.0"
      ]
     },
     "execution_count": 4,
     "metadata": {},
     "output_type": "execute_result"
    }
   ],
   "source": [
    "confirmed_country_columns = list(filter(lambda x: x.startswith(\"Country_\"), confirmed_df.columns))\n",
    "confirmed_regional_columns = confirmed_country_columns + [\"Region\"]\n",
    "confirmed_df.drop(columns=confirmed_regional_columns, inplace=True)\n",
    "confirmed_df = confirmed_df.sum().to_frame()\n",
    "confirmed_df.tail()"
   ]
  },
  {
   "cell_type": "code",
   "execution_count": 5,
   "metadata": {
    "collapsed": false,
    "execution": {
     "iopub.execute_input": "2020-09-10T21:18:18.080872Z",
     "iopub.status.busy": "2020-09-10T21:18:18.080139Z",
     "iopub.status.idle": "2020-09-10T21:18:18.083921Z",
     "shell.execute_reply": "2020-09-10T21:18:18.083241Z"
    },
    "papermill": {
     "duration": 0.047981,
     "end_time": "2020-09-10T21:18:18.084077",
     "exception": false,
     "start_time": "2020-09-10T21:18:18.036096",
     "status": "completed"
    },
    "pycharm": {
     "name": "#%%\n"
    },
    "tags": []
   },
   "outputs": [
    {
     "data": {
      "text/html": [
       "<div>\n",
       "<style scoped>\n",
       "    .dataframe tbody tr th:only-of-type {\n",
       "        vertical-align: middle;\n",
       "    }\n",
       "\n",
       "    .dataframe tbody tr th {\n",
       "        vertical-align: top;\n",
       "    }\n",
       "\n",
       "    .dataframe thead th {\n",
       "        text-align: right;\n",
       "    }\n",
       "</style>\n",
       "<table border=\"1\" class=\"dataframe\">\n",
       "  <thead>\n",
       "    <tr style=\"text-align: right;\">\n",
       "      <th></th>\n",
       "      <th>sample_date_string</th>\n",
       "      <th>cumulative_cases</th>\n",
       "      <th>new_cases</th>\n",
       "      <th>rolling_mean_new_cases</th>\n",
       "    </tr>\n",
       "  </thead>\n",
       "  <tbody>\n",
       "    <tr>\n",
       "      <th>226</th>\n",
       "      <td>2020-09-05</td>\n",
       "      <td>997978.0</td>\n",
       "      <td>0.0</td>\n",
       "      <td>17058.000000</td>\n",
       "    </tr>\n",
       "    <tr>\n",
       "      <th>227</th>\n",
       "      <td>2020-09-06</td>\n",
       "      <td>997978.0</td>\n",
       "      <td>0.0</td>\n",
       "      <td>17058.000000</td>\n",
       "    </tr>\n",
       "    <tr>\n",
       "      <th>228</th>\n",
       "      <td>2020-09-07</td>\n",
       "      <td>1051098.0</td>\n",
       "      <td>53120.0</td>\n",
       "      <td>17911.714286</td>\n",
       "    </tr>\n",
       "    <tr>\n",
       "      <th>229</th>\n",
       "      <td>2020-09-08</td>\n",
       "      <td>1069026.0</td>\n",
       "      <td>17928.0</td>\n",
       "      <td>18154.285714</td>\n",
       "    </tr>\n",
       "    <tr>\n",
       "      <th>230</th>\n",
       "      <td>2020-09-09</td>\n",
       "      <td>1086758.0</td>\n",
       "      <td>17732.0</td>\n",
       "      <td>18235.714286</td>\n",
       "    </tr>\n",
       "  </tbody>\n",
       "</table>\n",
       "</div>"
      ],
      "text/plain": [
       "    sample_date_string  cumulative_cases  new_cases  rolling_mean_new_cases\n",
       "226         2020-09-05          997978.0        0.0            17058.000000\n",
       "227         2020-09-06          997978.0        0.0            17058.000000\n",
       "228         2020-09-07         1051098.0    53120.0            17911.714286\n",
       "229         2020-09-08         1069026.0    17928.0            18154.285714\n",
       "230         2020-09-09         1086758.0    17732.0            18235.714286"
      ]
     },
     "execution_count": 5,
     "metadata": {},
     "output_type": "execute_result"
    }
   ],
   "source": [
    "confirmed_df.reset_index(inplace=True)\n",
    "confirmed_df.columns = [\"sample_date_string\", \"cumulative_cases\"]\n",
    "confirmed_df.sort_values(\"sample_date_string\", inplace=True)\n",
    "confirmed_df[\"new_cases\"] = confirmed_df.cumulative_cases.diff()\n",
    "confirmed_df[\"rolling_mean_new_cases\"] = confirmed_df.new_cases.rolling(7).mean()\n",
    "confirmed_df.tail()"
   ]
  },
  {
   "cell_type": "code",
   "execution_count": 6,
   "metadata": {
    "execution": {
     "iopub.execute_input": "2020-09-10T21:18:18.145353Z",
     "iopub.status.busy": "2020-09-10T21:18:18.144666Z",
     "iopub.status.idle": "2020-09-10T21:18:18.160204Z",
     "shell.execute_reply": "2020-09-10T21:18:18.160838Z"
    },
    "papermill": {
     "duration": 0.049322,
     "end_time": "2020-09-10T21:18:18.161008",
     "exception": false,
     "start_time": "2020-09-10T21:18:18.111686",
     "status": "completed"
    },
    "pycharm": {
     "name": "#%%\n"
    },
    "tags": []
   },
   "outputs": [
    {
     "data": {
      "text/html": [
       "<div>\n",
       "<style scoped>\n",
       "    .dataframe tbody tr th:only-of-type {\n",
       "        vertical-align: middle;\n",
       "    }\n",
       "\n",
       "    .dataframe tbody tr th {\n",
       "        vertical-align: top;\n",
       "    }\n",
       "\n",
       "    .dataframe thead th {\n",
       "        text-align: right;\n",
       "    }\n",
       "</style>\n",
       "<table border=\"1\" class=\"dataframe\">\n",
       "  <thead>\n",
       "    <tr style=\"text-align: right;\">\n",
       "      <th></th>\n",
       "      <th>sample_date_string</th>\n",
       "      <th>cumulative_cases</th>\n",
       "      <th>new_cases</th>\n",
       "      <th>rolling_mean_new_cases</th>\n",
       "    </tr>\n",
       "  </thead>\n",
       "  <tbody>\n",
       "    <tr>\n",
       "      <th>227</th>\n",
       "      <td>2020-09-06</td>\n",
       "      <td>9.979780e+05</td>\n",
       "      <td>0.000000</td>\n",
       "      <td>17058.000000</td>\n",
       "    </tr>\n",
       "    <tr>\n",
       "      <th>228</th>\n",
       "      <td>2020-09-07</td>\n",
       "      <td>1.051098e+06</td>\n",
       "      <td>53120.000000</td>\n",
       "      <td>17911.714286</td>\n",
       "    </tr>\n",
       "    <tr>\n",
       "      <th>229</th>\n",
       "      <td>2020-09-08</td>\n",
       "      <td>1.069026e+06</td>\n",
       "      <td>17928.000000</td>\n",
       "      <td>18154.285714</td>\n",
       "    </tr>\n",
       "    <tr>\n",
       "      <th>230</th>\n",
       "      <td>2020-09-09</td>\n",
       "      <td>1.086758e+06</td>\n",
       "      <td>17732.000000</td>\n",
       "      <td>18235.714286</td>\n",
       "    </tr>\n",
       "    <tr>\n",
       "      <th>230</th>\n",
       "      <td>2020-09-10</td>\n",
       "      <td>1.104994e+06</td>\n",
       "      <td>18235.714286</td>\n",
       "      <td>18235.714286</td>\n",
       "    </tr>\n",
       "  </tbody>\n",
       "</table>\n",
       "</div>"
      ],
      "text/plain": [
       "    sample_date_string  cumulative_cases     new_cases  rolling_mean_new_cases\n",
       "227         2020-09-06      9.979780e+05      0.000000            17058.000000\n",
       "228         2020-09-07      1.051098e+06  53120.000000            17911.714286\n",
       "229         2020-09-08      1.069026e+06  17928.000000            18154.285714\n",
       "230         2020-09-09      1.086758e+06  17732.000000            18235.714286\n",
       "230         2020-09-10      1.104994e+06  18235.714286            18235.714286"
      ]
     },
     "execution_count": 6,
     "metadata": {},
     "output_type": "execute_result"
    }
   ],
   "source": [
    "extraction_date_confirmed_df = \\\n",
    "    confirmed_df[confirmed_df.sample_date_string == extraction_date]\n",
    "extraction_previous_date_confirmed_df = \\\n",
    "    confirmed_df[confirmed_df.sample_date_string == extraction_previous_date].copy()\n",
    "\n",
    "if extraction_date_confirmed_df.empty and \\\n",
    "    not extraction_previous_date_confirmed_df.empty:\n",
    "        extraction_previous_date_confirmed_df[\"sample_date_string\"] = extraction_date\n",
    "        extraction_previous_date_confirmed_df[\"new_cases\"] = \\\n",
    "            extraction_previous_date_confirmed_df.rolling_mean_new_cases\n",
    "        extraction_previous_date_confirmed_df[\"cumulative_cases\"] = \\\n",
    "            extraction_previous_date_confirmed_df.new_cases + \\\n",
    "            extraction_previous_date_confirmed_df.cumulative_cases\n",
    "        confirmed_df = confirmed_df.append(extraction_previous_date_confirmed_df)\n",
    "        \n",
    "confirmed_df.tail()"
   ]
  },
  {
   "cell_type": "code",
   "execution_count": 7,
   "metadata": {
    "execution": {
     "iopub.execute_input": "2020-09-10T21:18:18.230794Z",
     "iopub.status.busy": "2020-09-10T21:18:18.230089Z",
     "iopub.status.idle": "2020-09-10T21:18:18.459642Z",
     "shell.execute_reply": "2020-09-10T21:18:18.460296Z"
    },
    "papermill": {
     "duration": 0.269654,
     "end_time": "2020-09-10T21:18:18.460486",
     "exception": false,
     "start_time": "2020-09-10T21:18:18.190832",
     "status": "completed"
    },
    "pycharm": {
     "name": "#%%\n"
    },
    "tags": []
   },
   "outputs": [
    {
     "data": {
      "text/plain": [
       "<matplotlib.axes._subplots.AxesSubplot at 0x7fcce16488e0>"
      ]
     },
     "execution_count": 7,
     "metadata": {},
     "output_type": "execute_result"
    },
    {
     "data": {
      "image/png": "[encoded data removed]",
      "text/plain": [
       "<Figure size 1080x432 with 1 Axes>"
      ]
     },
     "metadata": {},
     "output_type": "display_data"
    }
   ],
   "source": [
    "confirmed_df[[\"new_cases\", \"rolling_mean_new_cases\"]].plot()"
   ]
  },
  {
   "cell_type": "markdown",
   "metadata": {
    "execution": {
     "iopub.execute_input": "2020-08-30T22:30:16.351238Z",
     "iopub.status.busy": "2020-08-30T22:30:16.344579Z",
     "iopub.status.idle": "2020-08-30T22:30:16.354285Z",
     "shell.execute_reply": "2020-08-30T22:30:16.353641Z"
    },
    "papermill": {
     "duration": 0.028887,
     "end_time": "2020-09-10T21:18:18.518293",
     "exception": false,
     "start_time": "2020-09-10T21:18:18.489406",
     "status": "completed"
    },
    "pycharm": {
     "name": "#%% md\n"
    },
    "tags": []
   },
   "source": [
    "### Extract API TEKs"
   ]
  },
  {
   "cell_type": "code",
   "execution_count": 8,
   "metadata": {
    "execution": {
     "iopub.execute_input": "2020-09-10T21:18:18.579704Z",
     "iopub.status.busy": "2020-09-10T21:18:18.579023Z",
     "iopub.status.idle": "2020-09-10T21:18:19.408034Z",
     "shell.execute_reply": "2020-09-10T21:18:19.406899Z"
    },
    "papermill": {
     "duration": 0.861755,
     "end_time": "2020-09-10T21:18:19.408194",
     "exception": false,
     "start_time": "2020-09-10T21:18:18.546439",
     "status": "completed"
    },
    "pycharm": {
     "name": "#%%\n"
    },
    "tags": []
   },
   "outputs": [
    {
     "name": "stderr",
     "output_type": "stream",
     "text": [
      "WARNING:root:NoDataFoundForDateException(\"No exposed tokens found for day '2020-09-10'.\")\n"
     ]
    },
    {
     "data": {
      "text/html": [
       "<div>\n",
       "<style scoped>\n",
       "    .dataframe tbody tr th:only-of-type {\n",
       "        vertical-align: middle;\n",
       "    }\n",
       "\n",
       "    .dataframe tbody tr th {\n",
       "        vertical-align: top;\n",
       "    }\n",
       "\n",
       "    .dataframe thead th {\n",
       "        text-align: right;\n",
       "    }\n",
       "</style>\n",
       "<table border=\"1\" class=\"dataframe\">\n",
       "  <thead>\n",
       "    <tr style=\"text-align: right;\">\n",
       "      <th></th>\n",
       "      <th>sample_date_string</th>\n",
       "      <th>source_url</th>\n",
       "      <th>region</th>\n",
       "      <th>key_data</th>\n",
       "    </tr>\n",
       "  </thead>\n",
       "  <tbody>\n",
       "    <tr>\n",
       "      <th>0</th>\n",
       "      <td>2020-09-09</td>\n",
       "      <td>https://radarcovid.covid19.gob.es/dp3t/v1/gaen...</td>\n",
       "      <td>ES</td>\n",
       "      <td>0bf4d723-1ac7-aa22-a755-90680a5b8f58</td>\n",
       "    </tr>\n",
       "    <tr>\n",
       "      <th>1</th>\n",
       "      <td>2020-09-09</td>\n",
       "      <td>https://radarcovid.covid19.gob.es/dp3t/v1/gaen...</td>\n",
       "      <td>ES</td>\n",
       "      <td>f1263123-fbc2-9b4a-236f-0abccd5a73ce</td>\n",
       "    </tr>\n",
       "    <tr>\n",
       "      <th>2</th>\n",
       "      <td>2020-09-09</td>\n",
       "      <td>https://radarcovid.covid19.gob.es/dp3t/v1/gaen...</td>\n",
       "      <td>ES</td>\n",
       "      <td>ed1ddb49-1021-7c5c-f17c-28a6c9baa98b</td>\n",
       "    </tr>\n",
       "    <tr>\n",
       "      <th>3</th>\n",
       "      <td>2020-09-09</td>\n",
       "      <td>https://radarcovid.covid19.gob.es/dp3t/v1/gaen...</td>\n",
       "      <td>ES</td>\n",
       "      <td>b9caaafa-da1b-8930-3477-2020f0fa519b</td>\n",
       "    </tr>\n",
       "    <tr>\n",
       "      <th>4</th>\n",
       "      <td>2020-09-09</td>\n",
       "      <td>https://radarcovid.covid19.gob.es/dp3t/v1/gaen...</td>\n",
       "      <td>ES</td>\n",
       "      <td>28a3b0d0-17e4-6f5c-5fc0-10229a74ef09</td>\n",
       "    </tr>\n",
       "  </tbody>\n",
       "</table>\n",
       "</div>"
      ],
      "text/plain": [
       "  sample_date_string                                         source_url  \\\n",
       "0         2020-09-09  https://radarcovid.covid19.gob.es/dp3t/v1/gaen...   \n",
       "1         2020-09-09  https://radarcovid.covid19.gob.es/dp3t/v1/gaen...   \n",
       "2         2020-09-09  https://radarcovid.covid19.gob.es/dp3t/v1/gaen...   \n",
       "3         2020-09-09  https://radarcovid.covid19.gob.es/dp3t/v1/gaen...   \n",
       "4         2020-09-09  https://radarcovid.covid19.gob.es/dp3t/v1/gaen...   \n",
       "\n",
       "  region                              key_data  \n",
       "0     ES  0bf4d723-1ac7-aa22-a755-90680a5b8f58  \n",
       "1     ES  f1263123-fbc2-9b4a-236f-0abccd5a73ce  \n",
       "2     ES  ed1ddb49-1021-7c5c-f17c-28a6c9baa98b  \n",
       "3     ES  b9caaafa-da1b-8930-3477-2020f0fa519b  \n",
       "4     ES  28a3b0d0-17e4-6f5c-5fc0-10229a74ef09  "
      ]
     },
     "execution_count": 8,
     "metadata": {},
     "output_type": "execute_result"
    }
   ],
   "source": [
    "from Modules.RadarCOVID import radar_covid\n",
    "\n",
    "exposure_keys_df = radar_covid.download_last_radar_covid_exposure_keys(days=14)\n",
    "exposure_keys_df[[\n",
    "    \"sample_date_string\", \"source_url\", \"region\", \"key_data\"]].head()"
   ]
  },
  {
   "cell_type": "code",
   "execution_count": 9,
   "metadata": {
    "execution": {
     "iopub.execute_input": "2020-09-10T21:18:19.489632Z",
     "iopub.status.busy": "2020-09-10T21:18:19.488494Z",
     "iopub.status.idle": "2020-09-10T21:18:19.494691Z",
     "shell.execute_reply": "2020-09-10T21:18:19.495460Z"
    },
    "papermill": {
     "duration": 0.056415,
     "end_time": "2020-09-10T21:18:19.496122",
     "exception": false,
     "start_time": "2020-09-10T21:18:19.439707",
     "status": "completed"
    },
    "scrolled": false,
    "tags": []
   },
   "outputs": [
    {
     "data": {
      "text/html": [
       "<div>\n",
       "<style scoped>\n",
       "    .dataframe tbody tr th:only-of-type {\n",
       "        vertical-align: middle;\n",
       "    }\n",
       "\n",
       "    .dataframe tbody tr th {\n",
       "        vertical-align: top;\n",
       "    }\n",
       "\n",
       "    .dataframe thead th {\n",
       "        text-align: right;\n",
       "    }\n",
       "</style>\n",
       "<table border=\"1\" class=\"dataframe\">\n",
       "  <thead>\n",
       "    <tr style=\"text-align: right;\">\n",
       "      <th></th>\n",
       "      <th>tek_count</th>\n",
       "    </tr>\n",
       "    <tr>\n",
       "      <th>sample_date_string</th>\n",
       "      <th></th>\n",
       "    </tr>\n",
       "  </thead>\n",
       "  <tbody>\n",
       "    <tr>\n",
       "      <th>2020-09-09</th>\n",
       "      <td>15</td>\n",
       "    </tr>\n",
       "    <tr>\n",
       "      <th>2020-09-08</th>\n",
       "      <td>29</td>\n",
       "    </tr>\n",
       "    <tr>\n",
       "      <th>2020-09-07</th>\n",
       "      <td>38</td>\n",
       "    </tr>\n",
       "    <tr>\n",
       "      <th>2020-09-06</th>\n",
       "      <td>48</td>\n",
       "    </tr>\n",
       "    <tr>\n",
       "      <th>2020-09-05</th>\n",
       "      <td>55</td>\n",
       "    </tr>\n",
       "  </tbody>\n",
       "</table>\n",
       "</div>"
      ],
      "text/plain": [
       "                    tek_count\n",
       "sample_date_string           \n",
       "2020-09-09                 15\n",
       "2020-09-08                 29\n",
       "2020-09-07                 38\n",
       "2020-09-06                 48\n",
       "2020-09-05                 55"
      ]
     },
     "execution_count": 9,
     "metadata": {},
     "output_type": "execute_result"
    }
   ],
   "source": [
    "exposure_keys_summary_df = \\\n",
    "    exposure_keys_df.groupby([\"sample_date_string\"]).key_data.nunique().to_frame()\n",
    "exposure_keys_summary_df.sort_index(ascending=False, inplace=True)\n",
    "exposure_keys_summary_df.rename(columns={\"key_data\": \"tek_count\"}, inplace=True)\n",
    "exposure_keys_summary_df.head()"
   ]
  },
  {
   "cell_type": "markdown",
   "metadata": {
    "papermill": {
     "duration": 0.033301,
     "end_time": "2020-09-10T21:18:19.574655",
     "exception": false,
     "start_time": "2020-09-10T21:18:19.541354",
     "status": "completed"
    },
    "tags": []
   },
   "source": [
    "### Dump API TEKs"
   ]
  },
  {
   "cell_type": "code",
   "execution_count": 10,
   "metadata": {
    "execution": {
     "iopub.execute_input": "2020-09-10T21:18:19.654956Z",
     "iopub.status.busy": "2020-09-10T21:18:19.653928Z",
     "iopub.status.idle": "2020-09-10T21:18:19.677459Z",
     "shell.execute_reply": "2020-09-10T21:18:19.678243Z"
    },
    "papermill": {
     "duration": 0.070912,
     "end_time": "2020-09-10T21:18:19.678505",
     "exception": false,
     "start_time": "2020-09-10T21:18:19.607593",
     "status": "completed"
    },
    "tags": []
   },
   "outputs": [
    {
     "data": {
      "text/html": [
       "<div>\n",
       "<style scoped>\n",
       "    .dataframe tbody tr th:only-of-type {\n",
       "        vertical-align: middle;\n",
       "    }\n",
       "\n",
       "    .dataframe tbody tr th {\n",
       "        vertical-align: top;\n",
       "    }\n",
       "\n",
       "    .dataframe thead th {\n",
       "        text-align: right;\n",
       "    }\n",
       "</style>\n",
       "<table border=\"1\" class=\"dataframe\">\n",
       "  <thead>\n",
       "    <tr style=\"text-align: right;\">\n",
       "      <th></th>\n",
       "      <th>sample_date</th>\n",
       "      <th>tek_list</th>\n",
       "      <th>extraction_date</th>\n",
       "      <th>extraction_date_with_hour</th>\n",
       "    </tr>\n",
       "  </thead>\n",
       "  <tbody>\n",
       "    <tr>\n",
       "      <th>0</th>\n",
       "      <td>2020-08-28</td>\n",
       "      <td>[ff51a7a6-3791-9038-c9f5-2d956d598c1a, 9740a6a...</td>\n",
       "      <td>2020-09-10</td>\n",
       "      <td>2020-09-10@21</td>\n",
       "    </tr>\n",
       "    <tr>\n",
       "      <th>1</th>\n",
       "      <td>2020-08-29</td>\n",
       "      <td>[4c558e8a-6f45-9b9c-26bc-2bb3de8d28c9, 957152a...</td>\n",
       "      <td>2020-09-10</td>\n",
       "      <td>2020-09-10@21</td>\n",
       "    </tr>\n",
       "    <tr>\n",
       "      <th>2</th>\n",
       "      <td>2020-08-30</td>\n",
       "      <td>[d57a697f-e1c7-2937-3820-f849ea55a63c, 9e9c731...</td>\n",
       "      <td>2020-09-10</td>\n",
       "      <td>2020-09-10@21</td>\n",
       "    </tr>\n",
       "    <tr>\n",
       "      <th>3</th>\n",
       "      <td>2020-08-31</td>\n",
       "      <td>[ee4b5f59-a496-7207-5095-f207edca501a, ef59ec3...</td>\n",
       "      <td>2020-09-10</td>\n",
       "      <td>2020-09-10@21</td>\n",
       "    </tr>\n",
       "    <tr>\n",
       "      <th>4</th>\n",
       "      <td>2020-09-01</td>\n",
       "      <td>[7da1a9b3-7255-c803-f831-d8147b043f11, 5a1ceee...</td>\n",
       "      <td>2020-09-10</td>\n",
       "      <td>2020-09-10@21</td>\n",
       "    </tr>\n",
       "  </tbody>\n",
       "</table>\n",
       "</div>"
      ],
      "text/plain": [
       "  sample_date                                           tek_list  \\\n",
       "0  2020-08-28  [ff51a7a6-3791-9038-c9f5-2d956d598c1a, 9740a6a...   \n",
       "1  2020-08-29  [4c558e8a-6f45-9b9c-26bc-2bb3de8d28c9, 957152a...   \n",
       "2  2020-08-30  [d57a697f-e1c7-2937-3820-f849ea55a63c, 9e9c731...   \n",
       "3  2020-08-31  [ee4b5f59-a496-7207-5095-f207edca501a, ef59ec3...   \n",
       "4  2020-09-01  [7da1a9b3-7255-c803-f831-d8147b043f11, 5a1ceee...   \n",
       "\n",
       "  extraction_date extraction_date_with_hour  \n",
       "0      2020-09-10             2020-09-10@21  \n",
       "1      2020-09-10             2020-09-10@21  \n",
       "2      2020-09-10             2020-09-10@21  \n",
       "3      2020-09-10             2020-09-10@21  \n",
       "4      2020-09-10             2020-09-10@21  "
      ]
     },
     "execution_count": 10,
     "metadata": {},
     "output_type": "execute_result"
    }
   ],
   "source": [
    "tek_list_df = exposure_keys_df[[\"sample_date_string\", \"key_data\"]].copy()\n",
    "tek_list_df[\"key_data\"] = tek_list_df[\"key_data\"].apply(str)\n",
    "tek_list_df.rename(columns={\n",
    "    \"sample_date_string\": \"sample_date\",\n",
    "    \"key_data\": \"tek_list\"}, inplace=True)\n",
    "tek_list_df = tek_list_df.groupby(\n",
    "    \"sample_date\").tek_list.unique().reset_index()\n",
    "tek_list_df[\"extraction_date\"] = extraction_date\n",
    "tek_list_df[\"extraction_date_with_hour\"] = extraction_date_with_hour\n",
    "tek_list_df.drop(columns=[\"extraction_date\", \"extraction_date_with_hour\"]).to_json(\n",
    "    \"Data/TEKs/Current/RadarCOVID-TEKs.json\",\n",
    "    lines=True, orient=\"records\")\n",
    "tek_list_df.drop(columns=[\"extraction_date_with_hour\"]).to_json(\n",
    "    \"Data/TEKs/Daily/RadarCOVID-TEKs-\" + extraction_date + \".json\",\n",
    "    lines=True, orient=\"records\")\n",
    "tek_list_df.to_json(\n",
    "    \"Data/TEKs/Hourly/RadarCOVID-TEKs-\" + extraction_date_with_hour + \".json\",\n",
    "    lines=True, orient=\"records\")\n",
    "tek_list_df.head()"
   ]
  },
  {
   "cell_type": "markdown",
   "metadata": {
    "papermill": {
     "duration": 0.031832,
     "end_time": "2020-09-10T21:18:19.741397",
     "exception": false,
     "start_time": "2020-09-10T21:18:19.709565",
     "status": "completed"
    },
    "tags": []
   },
   "source": [
    "### Load TEK Dumps"
   ]
  },
  {
   "cell_type": "code",
   "execution_count": 11,
   "metadata": {
    "execution": {
     "iopub.execute_input": "2020-09-10T21:18:19.827690Z",
     "iopub.status.busy": "2020-09-10T21:18:19.821122Z",
     "iopub.status.idle": "2020-09-10T21:18:19.828409Z",
     "shell.execute_reply": "2020-09-10T21:18:19.829157Z"
    },
    "papermill": {
     "duration": 0.047701,
     "end_time": "2020-09-10T21:18:19.829363",
     "exception": false,
     "start_time": "2020-09-10T21:18:19.781662",
     "status": "completed"
    },
    "tags": []
   },
   "outputs": [],
   "source": [
    "import glob\n",
    "\n",
    "def load_extracted_teks(mode, limit=None) -> pd.DataFrame:\n",
    "    extracted_teks_df = pd.DataFrame()\n",
    "    paths = list(reversed(sorted(glob.glob(f\"Data/TEKs/{mode}/RadarCOVID-TEKs-*.json\"))))\n",
    "    if limit:\n",
    "        paths = paths[:limit]\n",
    "    for path in paths:\n",
    "        logging.info(f\"Loading TEKs from '{path}'...\")\n",
    "        iteration_extracted_teks_df = pd.read_json(path, lines=True)\n",
    "        extracted_teks_df = extracted_teks_df.append(\n",
    "            iteration_extracted_teks_df, sort=False)\n",
    "    return extracted_teks_df"
   ]
  },
  {
   "cell_type": "markdown",
   "metadata": {
    "execution": {
     "iopub.execute_input": "2020-08-30T22:30:16.632967Z",
     "iopub.status.busy": "2020-08-30T22:30:16.632308Z",
     "iopub.status.idle": "2020-08-30T22:30:16.634945Z",
     "shell.execute_reply": "2020-08-30T22:30:16.635575Z"
    },
    "papermill": {
     "duration": 0.03103,
     "end_time": "2020-09-10T21:18:19.891107",
     "exception": false,
     "start_time": "2020-09-10T21:18:19.860077",
     "status": "completed"
    },
    "pycharm": {
     "name": "#%% md\n"
    },
    "tags": []
   },
   "source": [
    "### Daily New TEKs"
   ]
  },
  {
   "cell_type": "code",
   "execution_count": 12,
   "metadata": {
    "execution": {
     "iopub.execute_input": "2020-09-10T21:18:19.960427Z",
     "iopub.status.busy": "2020-09-10T21:18:19.959750Z",
     "iopub.status.idle": "2020-09-10T21:18:20.045284Z",
     "shell.execute_reply": "2020-09-10T21:18:20.045895Z"
    },
    "papermill": {
     "duration": 0.122567,
     "end_time": "2020-09-10T21:18:20.046084",
     "exception": false,
     "start_time": "2020-09-10T21:18:19.923517",
     "status": "completed"
    },
    "tags": []
   },
   "outputs": [
    {
     "data": {
      "text/html": [
       "<div>\n",
       "<style scoped>\n",
       "    .dataframe tbody tr th:only-of-type {\n",
       "        vertical-align: middle;\n",
       "    }\n",
       "\n",
       "    .dataframe tbody tr th {\n",
       "        vertical-align: top;\n",
       "    }\n",
       "\n",
       "    .dataframe thead th {\n",
       "        text-align: right;\n",
       "    }\n",
       "</style>\n",
       "<table border=\"1\" class=\"dataframe\">\n",
       "  <thead>\n",
       "    <tr style=\"text-align: right;\">\n",
       "      <th></th>\n",
       "      <th>sample_date</th>\n",
       "      <th>tek_list</th>\n",
       "      <th>extraction_date</th>\n",
       "      <th>extraction_date_with_hour</th>\n",
       "    </tr>\n",
       "  </thead>\n",
       "  <tbody>\n",
       "    <tr>\n",
       "      <th>0</th>\n",
       "      <td>2020-08-28</td>\n",
       "      <td>[ff51a7a6-3791-9038-c9f5-2d956d598c1a, 9740a6a...</td>\n",
       "      <td>2020-09-10</td>\n",
       "      <td>NaN</td>\n",
       "    </tr>\n",
       "    <tr>\n",
       "      <th>1</th>\n",
       "      <td>2020-08-29</td>\n",
       "      <td>[4c558e8a-6f45-9b9c-26bc-2bb3de8d28c9, 957152a...</td>\n",
       "      <td>2020-09-10</td>\n",
       "      <td>NaN</td>\n",
       "    </tr>\n",
       "    <tr>\n",
       "      <th>2</th>\n",
       "      <td>2020-08-30</td>\n",
       "      <td>[d57a697f-e1c7-2937-3820-f849ea55a63c, 9e9c731...</td>\n",
       "      <td>2020-09-10</td>\n",
       "      <td>NaN</td>\n",
       "    </tr>\n",
       "    <tr>\n",
       "      <th>3</th>\n",
       "      <td>2020-08-31</td>\n",
       "      <td>[ee4b5f59-a496-7207-5095-f207edca501a, ef59ec3...</td>\n",
       "      <td>2020-09-10</td>\n",
       "      <td>NaN</td>\n",
       "    </tr>\n",
       "    <tr>\n",
       "      <th>4</th>\n",
       "      <td>2020-09-01</td>\n",
       "      <td>[7da1a9b3-7255-c803-f831-d8147b043f11, 5a1ceee...</td>\n",
       "      <td>2020-09-10</td>\n",
       "      <td>NaN</td>\n",
       "    </tr>\n",
       "  </tbody>\n",
       "</table>\n",
       "</div>"
      ],
      "text/plain": [
       "  sample_date                                           tek_list  \\\n",
       "0  2020-08-28  [ff51a7a6-3791-9038-c9f5-2d956d598c1a, 9740a6a...   \n",
       "1  2020-08-29  [4c558e8a-6f45-9b9c-26bc-2bb3de8d28c9, 957152a...   \n",
       "2  2020-08-30  [d57a697f-e1c7-2937-3820-f849ea55a63c, 9e9c731...   \n",
       "3  2020-08-31  [ee4b5f59-a496-7207-5095-f207edca501a, ef59ec3...   \n",
       "4  2020-09-01  [7da1a9b3-7255-c803-f831-d8147b043f11, 5a1ceee...   \n",
       "\n",
       "  extraction_date extraction_date_with_hour  \n",
       "0      2020-09-10                       NaN  \n",
       "1      2020-09-10                       NaN  \n",
       "2      2020-09-10                       NaN  \n",
       "3      2020-09-10                       NaN  \n",
       "4      2020-09-10                       NaN  "
      ]
     },
     "execution_count": 12,
     "metadata": {},
     "output_type": "execute_result"
    }
   ],
   "source": [
    "daily_extracted_teks_df = load_extracted_teks(mode=\"Daily\", limit=14)\n",
    "daily_extracted_teks_df.head()"
   ]
  },
  {
   "cell_type": "code",
   "execution_count": 13,
   "metadata": {
    "execution": {
     "iopub.execute_input": "2020-09-10T21:18:20.128095Z",
     "iopub.status.busy": "2020-09-10T21:18:20.127011Z",
     "iopub.status.idle": "2020-09-10T21:18:20.140962Z",
     "shell.execute_reply": "2020-09-10T21:18:20.141845Z"
    },
    "papermill": {
     "duration": 0.061979,
     "end_time": "2020-09-10T21:18:20.142141",
     "exception": false,
     "start_time": "2020-09-10T21:18:20.080162",
     "status": "completed"
    },
    "tags": []
   },
   "outputs": [
    {
     "data": {
      "text/html": [
       "<div>\n",
       "<style scoped>\n",
       "    .dataframe tbody tr th:only-of-type {\n",
       "        vertical-align: middle;\n",
       "    }\n",
       "\n",
       "    .dataframe tbody tr th {\n",
       "        vertical-align: top;\n",
       "    }\n",
       "\n",
       "    .dataframe thead th {\n",
       "        text-align: right;\n",
       "    }\n",
       "</style>\n",
       "<table border=\"1\" class=\"dataframe\">\n",
       "  <thead>\n",
       "    <tr style=\"text-align: right;\">\n",
       "      <th></th>\n",
       "      <th>tek_list</th>\n",
       "    </tr>\n",
       "    <tr>\n",
       "      <th>extraction_date</th>\n",
       "      <th></th>\n",
       "    </tr>\n",
       "  </thead>\n",
       "  <tbody>\n",
       "    <tr>\n",
       "      <th>2020-08-29</th>\n",
       "      <td>{cad6b23a-a2dd-02e9-9e6e-aac50163620f, fd1fd21...</td>\n",
       "    </tr>\n",
       "    <tr>\n",
       "      <th>2020-08-30</th>\n",
       "      <td>{cad6b23a-a2dd-02e9-9e6e-aac50163620f, fd1fd21...</td>\n",
       "    </tr>\n",
       "    <tr>\n",
       "      <th>2020-08-31</th>\n",
       "      <td>{cad6b23a-a2dd-02e9-9e6e-aac50163620f, fd1fd21...</td>\n",
       "    </tr>\n",
       "    <tr>\n",
       "      <th>2020-09-01</th>\n",
       "      <td>{cad6b23a-a2dd-02e9-9e6e-aac50163620f, fd1fd21...</td>\n",
       "    </tr>\n",
       "    <tr>\n",
       "      <th>2020-09-02</th>\n",
       "      <td>{cad6b23a-a2dd-02e9-9e6e-aac50163620f, fd1fd21...</td>\n",
       "    </tr>\n",
       "  </tbody>\n",
       "</table>\n",
       "</div>"
      ],
      "text/plain": [
       "                                                          tek_list\n",
       "extraction_date                                                   \n",
       "2020-08-29       {cad6b23a-a2dd-02e9-9e6e-aac50163620f, fd1fd21...\n",
       "2020-08-30       {cad6b23a-a2dd-02e9-9e6e-aac50163620f, fd1fd21...\n",
       "2020-08-31       {cad6b23a-a2dd-02e9-9e6e-aac50163620f, fd1fd21...\n",
       "2020-09-01       {cad6b23a-a2dd-02e9-9e6e-aac50163620f, fd1fd21...\n",
       "2020-09-02       {cad6b23a-a2dd-02e9-9e6e-aac50163620f, fd1fd21..."
      ]
     },
     "execution_count": 13,
     "metadata": {},
     "output_type": "execute_result"
    }
   ],
   "source": [
    "tek_list_df = daily_extracted_teks_df.groupby(\"extraction_date\").tek_list.apply(\n",
    "    lambda x: set(sum(x, []))).reset_index()\n",
    "tek_list_df = tek_list_df.set_index(\"extraction_date\").sort_index(ascending=True)\n",
    "tek_list_df.head()"
   ]
  },
  {
   "cell_type": "code",
   "execution_count": 14,
   "metadata": {
    "execution": {
     "iopub.execute_input": "2020-09-10T21:18:20.224546Z",
     "iopub.status.busy": "2020-09-10T21:18:20.223848Z",
     "iopub.status.idle": "2020-09-10T21:18:20.232357Z",
     "shell.execute_reply": "2020-09-10T21:18:20.232875Z"
    },
    "papermill": {
     "duration": 0.053927,
     "end_time": "2020-09-10T21:18:20.233041",
     "exception": false,
     "start_time": "2020-09-10T21:18:20.179114",
     "status": "completed"
    },
    "tags": []
   },
   "outputs": [
    {
     "data": {
      "text/html": [
       "<div>\n",
       "<style scoped>\n",
       "    .dataframe tbody tr th:only-of-type {\n",
       "        vertical-align: middle;\n",
       "    }\n",
       "\n",
       "    .dataframe tbody tr th {\n",
       "        vertical-align: top;\n",
       "    }\n",
       "\n",
       "    .dataframe thead th {\n",
       "        text-align: right;\n",
       "    }\n",
       "</style>\n",
       "<table border=\"1\" class=\"dataframe\">\n",
       "  <thead>\n",
       "    <tr style=\"text-align: right;\">\n",
       "      <th></th>\n",
       "      <th>sample_date_string</th>\n",
       "      <th>new_tek_count</th>\n",
       "    </tr>\n",
       "  </thead>\n",
       "  <tbody>\n",
       "    <tr>\n",
       "      <th>0</th>\n",
       "      <td>2020-08-29</td>\n",
       "      <td>NaN</td>\n",
       "    </tr>\n",
       "    <tr>\n",
       "      <th>1</th>\n",
       "      <td>2020-08-30</td>\n",
       "      <td>29.0</td>\n",
       "    </tr>\n",
       "    <tr>\n",
       "      <th>2</th>\n",
       "      <td>2020-08-31</td>\n",
       "      <td>63.0</td>\n",
       "    </tr>\n",
       "    <tr>\n",
       "      <th>3</th>\n",
       "      <td>2020-09-01</td>\n",
       "      <td>39.0</td>\n",
       "    </tr>\n",
       "    <tr>\n",
       "      <th>4</th>\n",
       "      <td>2020-09-02</td>\n",
       "      <td>57.0</td>\n",
       "    </tr>\n",
       "  </tbody>\n",
       "</table>\n",
       "</div>"
      ],
      "text/plain": [
       "  sample_date_string  new_tek_count\n",
       "0         2020-08-29            NaN\n",
       "1         2020-08-30           29.0\n",
       "2         2020-08-31           63.0\n",
       "3         2020-09-01           39.0\n",
       "4         2020-09-02           57.0"
      ]
     },
     "execution_count": 14,
     "metadata": {},
     "output_type": "execute_result"
    }
   ],
   "source": [
    "new_tek_df = tek_list_df.diff().tek_list.apply(\n",
    "    lambda x: len(x) if not pd.isna(x) else None).to_frame().reset_index()\n",
    "new_tek_df.rename(columns={\n",
    "    \"tek_list\": \"new_tek_count\",\n",
    "    \"extraction_date\": \"sample_date_string\",}, inplace=True)\n",
    "new_tek_df.head()"
   ]
  },
  {
   "cell_type": "code",
   "execution_count": 15,
   "metadata": {
    "execution": {
     "iopub.execute_input": "2020-09-10T21:18:20.311149Z",
     "iopub.status.busy": "2020-09-10T21:18:20.310484Z",
     "iopub.status.idle": "2020-09-10T21:18:20.325642Z",
     "shell.execute_reply": "2020-09-10T21:18:20.325035Z"
    },
    "papermill": {
     "duration": 0.059463,
     "end_time": "2020-09-10T21:18:20.325866",
     "exception": false,
     "start_time": "2020-09-10T21:18:20.266403",
     "status": "completed"
    },
    "pycharm": {
     "name": "#%%\n"
    },
    "tags": []
   },
   "outputs": [
    {
     "data": {
      "text/html": [
       "<div>\n",
       "<style scoped>\n",
       "    .dataframe tbody tr th:only-of-type {\n",
       "        vertical-align: middle;\n",
       "    }\n",
       "\n",
       "    .dataframe tbody tr th {\n",
       "        vertical-align: top;\n",
       "    }\n",
       "\n",
       "    .dataframe thead th {\n",
       "        text-align: right;\n",
       "    }\n",
       "</style>\n",
       "<table border=\"1\" class=\"dataframe\">\n",
       "  <thead>\n",
       "    <tr style=\"text-align: right;\">\n",
       "      <th></th>\n",
       "      <th>sample_date</th>\n",
       "      <th>tek_list</th>\n",
       "      <th>extraction_date</th>\n",
       "      <th>extraction_date_with_hour</th>\n",
       "      <th>new_sample_extraction_date</th>\n",
       "    </tr>\n",
       "  </thead>\n",
       "  <tbody>\n",
       "    <tr>\n",
       "      <th>12</th>\n",
       "      <td>2020-09-09</td>\n",
       "      <td>[0bf4d723-1ac7-aa22-a755-90680a5b8f58, f126312...</td>\n",
       "      <td>2020-09-10</td>\n",
       "      <td>NaN</td>\n",
       "      <td>2020-09-10</td>\n",
       "    </tr>\n",
       "    <tr>\n",
       "      <th>12</th>\n",
       "      <td>2020-09-08</td>\n",
       "      <td>[e89eeaba-6c61-5bdf-fd62-9de05509df69, cc5a0c9...</td>\n",
       "      <td>2020-09-09</td>\n",
       "      <td>NaN</td>\n",
       "      <td>2020-09-09</td>\n",
       "    </tr>\n",
       "    <tr>\n",
       "      <th>12</th>\n",
       "      <td>2020-09-07</td>\n",
       "      <td>[059024b9-ed05-9160-0465-0fddfaf7ebe3, f8a7e11...</td>\n",
       "      <td>2020-09-08</td>\n",
       "      <td>NaN</td>\n",
       "      <td>2020-09-08</td>\n",
       "    </tr>\n",
       "    <tr>\n",
       "      <th>12</th>\n",
       "      <td>2020-09-06</td>\n",
       "      <td>[ba10eca3-e4f7-1617-9a61-f67e7f98c118, 4ec1481...</td>\n",
       "      <td>2020-09-07</td>\n",
       "      <td>NaN</td>\n",
       "      <td>2020-09-07</td>\n",
       "    </tr>\n",
       "    <tr>\n",
       "      <th>12</th>\n",
       "      <td>2020-09-05</td>\n",
       "      <td>[a87eb099-5125-9728-69a7-89a3123a713e, 531f47b...</td>\n",
       "      <td>2020-09-06</td>\n",
       "      <td>NaN</td>\n",
       "      <td>2020-09-06</td>\n",
       "    </tr>\n",
       "  </tbody>\n",
       "</table>\n",
       "</div>"
      ],
      "text/plain": [
       "   sample_date                                           tek_list  \\\n",
       "12  2020-09-09  [0bf4d723-1ac7-aa22-a755-90680a5b8f58, f126312...   \n",
       "12  2020-09-08  [e89eeaba-6c61-5bdf-fd62-9de05509df69, cc5a0c9...   \n",
       "12  2020-09-07  [059024b9-ed05-9160-0465-0fddfaf7ebe3, f8a7e11...   \n",
       "12  2020-09-06  [ba10eca3-e4f7-1617-9a61-f67e7f98c118, 4ec1481...   \n",
       "12  2020-09-05  [a87eb099-5125-9728-69a7-89a3123a713e, 531f47b...   \n",
       "\n",
       "   extraction_date extraction_date_with_hour new_sample_extraction_date  \n",
       "12      2020-09-10                       NaN                 2020-09-10  \n",
       "12      2020-09-09                       NaN                 2020-09-09  \n",
       "12      2020-09-08                       NaN                 2020-09-08  \n",
       "12      2020-09-07                       NaN                 2020-09-07  \n",
       "12      2020-09-06                       NaN                 2020-09-06  "
      ]
     },
     "execution_count": 15,
     "metadata": {},
     "output_type": "execute_result"
    }
   ],
   "source": [
    "new_tek_devices_df = daily_extracted_teks_df.copy()\n",
    "new_tek_devices_df[\"new_sample_extraction_date\"] = \\\n",
    "    pd.to_datetime(new_tek_devices_df.sample_date) + datetime.timedelta(1)\n",
    "new_tek_devices_df[\"extraction_date\"] = pd.to_datetime(new_tek_devices_df.extraction_date)\n",
    "\n",
    "new_tek_devices_df = new_tek_devices_df[\n",
    "    new_tek_devices_df.new_sample_extraction_date == new_tek_devices_df.extraction_date]\n",
    "new_tek_devices_df.head()"
   ]
  },
  {
   "cell_type": "code",
   "execution_count": 16,
   "metadata": {
    "execution": {
     "iopub.execute_input": "2020-09-10T21:18:20.407417Z",
     "iopub.status.busy": "2020-09-10T21:18:20.406740Z",
     "iopub.status.idle": "2020-09-10T21:18:20.410548Z",
     "shell.execute_reply": "2020-09-10T21:18:20.409943Z"
    },
    "papermill": {
     "duration": 0.051156,
     "end_time": "2020-09-10T21:18:20.410715",
     "exception": false,
     "start_time": "2020-09-10T21:18:20.359559",
     "status": "completed"
    },
    "tags": []
   },
   "outputs": [
    {
     "data": {
      "text/html": [
       "<div>\n",
       "<style scoped>\n",
       "    .dataframe tbody tr th:only-of-type {\n",
       "        vertical-align: middle;\n",
       "    }\n",
       "\n",
       "    .dataframe tbody tr th {\n",
       "        vertical-align: top;\n",
       "    }\n",
       "\n",
       "    .dataframe thead th {\n",
       "        text-align: right;\n",
       "    }\n",
       "</style>\n",
       "<table border=\"1\" class=\"dataframe\">\n",
       "  <thead>\n",
       "    <tr style=\"text-align: right;\">\n",
       "      <th></th>\n",
       "      <th>sample_date_string</th>\n",
       "      <th>new_tek_devices</th>\n",
       "    </tr>\n",
       "  </thead>\n",
       "  <tbody>\n",
       "    <tr>\n",
       "      <th>0</th>\n",
       "      <td>2020-09-10</td>\n",
       "      <td>15</td>\n",
       "    </tr>\n",
       "    <tr>\n",
       "      <th>1</th>\n",
       "      <td>2020-09-09</td>\n",
       "      <td>21</td>\n",
       "    </tr>\n",
       "    <tr>\n",
       "      <th>2</th>\n",
       "      <td>2020-09-08</td>\n",
       "      <td>18</td>\n",
       "    </tr>\n",
       "    <tr>\n",
       "      <th>3</th>\n",
       "      <td>2020-09-07</td>\n",
       "      <td>22</td>\n",
       "    </tr>\n",
       "    <tr>\n",
       "      <th>4</th>\n",
       "      <td>2020-09-06</td>\n",
       "      <td>24</td>\n",
       "    </tr>\n",
       "  </tbody>\n",
       "</table>\n",
       "</div>"
      ],
      "text/plain": [
       "  sample_date_string  new_tek_devices\n",
       "0         2020-09-10               15\n",
       "1         2020-09-09               21\n",
       "2         2020-09-08               18\n",
       "3         2020-09-07               22\n",
       "4         2020-09-06               24"
      ]
     },
     "execution_count": 16,
     "metadata": {},
     "output_type": "execute_result"
    }
   ],
   "source": [
    "new_tek_devices_df.set_index(\"extraction_date\", inplace=True)\n",
    "new_tek_devices_df = new_tek_devices_df.tek_list.apply(lambda x: len(set(x))).to_frame()\n",
    "new_tek_devices_df.reset_index(inplace=True)\n",
    "new_tek_devices_df.rename(columns={\n",
    "    \"extraction_date\": \"sample_date_string\",\n",
    "    \"tek_list\": \"new_tek_devices\"}, inplace=True)\n",
    "new_tek_devices_df[\"sample_date_string\"] = new_tek_devices_df.sample_date_string.dt.strftime(\"%Y-%m-%d\")\n",
    "new_tek_devices_df.head()"
   ]
  },
  {
   "cell_type": "markdown",
   "metadata": {
    "papermill": {
     "duration": 0.033329,
     "end_time": "2020-09-10T21:18:20.478051",
     "exception": false,
     "start_time": "2020-09-10T21:18:20.444722",
     "status": "completed"
    },
    "pycharm": {
     "name": "#%% md\n"
    },
    "tags": []
   },
   "source": [
    "### Hourly New TEKs"
   ]
  },
  {
   "cell_type": "code",
   "execution_count": 17,
   "metadata": {
    "execution": {
     "iopub.execute_input": "2020-09-10T21:18:20.550442Z",
     "iopub.status.busy": "2020-09-10T21:18:20.549688Z",
     "iopub.status.idle": "2020-09-10T21:18:20.701447Z",
     "shell.execute_reply": "2020-09-10T21:18:20.702015Z"
    },
    "papermill": {
     "duration": 0.191423,
     "end_time": "2020-09-10T21:18:20.702241",
     "exception": false,
     "start_time": "2020-09-10T21:18:20.510818",
     "status": "completed"
    },
    "tags": []
   },
   "outputs": [
    {
     "data": {
      "text/html": [
       "<div>\n",
       "<style scoped>\n",
       "    .dataframe tbody tr th:only-of-type {\n",
       "        vertical-align: middle;\n",
       "    }\n",
       "\n",
       "    .dataframe tbody tr th {\n",
       "        vertical-align: top;\n",
       "    }\n",
       "\n",
       "    .dataframe thead th {\n",
       "        text-align: right;\n",
       "    }\n",
       "</style>\n",
       "<table border=\"1\" class=\"dataframe\">\n",
       "  <thead>\n",
       "    <tr style=\"text-align: right;\">\n",
       "      <th></th>\n",
       "      <th>extraction_date_with_hour</th>\n",
       "      <th>new_tek_count</th>\n",
       "    </tr>\n",
       "  </thead>\n",
       "  <tbody>\n",
       "    <tr>\n",
       "      <th>19</th>\n",
       "      <td>2020-09-10@17</td>\n",
       "      <td>0.0</td>\n",
       "    </tr>\n",
       "    <tr>\n",
       "      <th>20</th>\n",
       "      <td>2020-09-10@18</td>\n",
       "      <td>15.0</td>\n",
       "    </tr>\n",
       "    <tr>\n",
       "      <th>21</th>\n",
       "      <td>2020-09-10@19</td>\n",
       "      <td>0.0</td>\n",
       "    </tr>\n",
       "    <tr>\n",
       "      <th>22</th>\n",
       "      <td>2020-09-10@20</td>\n",
       "      <td>0.0</td>\n",
       "    </tr>\n",
       "    <tr>\n",
       "      <th>23</th>\n",
       "      <td>2020-09-10@21</td>\n",
       "      <td>0.0</td>\n",
       "    </tr>\n",
       "  </tbody>\n",
       "</table>\n",
       "</div>"
      ],
      "text/plain": [
       "   extraction_date_with_hour  new_tek_count\n",
       "19             2020-09-10@17            0.0\n",
       "20             2020-09-10@18           15.0\n",
       "21             2020-09-10@19            0.0\n",
       "22             2020-09-10@20            0.0\n",
       "23             2020-09-10@21            0.0"
      ]
     },
     "execution_count": 17,
     "metadata": {},
     "output_type": "execute_result"
    }
   ],
   "source": [
    "hourly_extracted_teks_df = load_extracted_teks(mode=\"Hourly\", limit=24)\n",
    "hourly_extracted_teks_df.head()\n",
    "\n",
    "hourly_tek_list_df = hourly_extracted_teks_df.groupby(\"extraction_date_with_hour\").tek_list.apply(\n",
    "    lambda x: set(sum(x, []))).reset_index()\n",
    "hourly_tek_list_df = hourly_tek_list_df.set_index(\"extraction_date_with_hour\").sort_index(ascending=True)\n",
    "\n",
    "hourly_new_tek_df = hourly_tek_list_df.diff().tek_list.apply(\n",
    "    lambda x: len(x) if not pd.isna(x) else None).to_frame().reset_index()\n",
    "hourly_new_tek_df.rename(columns={\n",
    "    \"tek_list\": \"new_tek_count\"}, inplace=True)\n",
    "hourly_new_tek_df.tail()"
   ]
  },
  {
   "cell_type": "code",
   "execution_count": 18,
   "metadata": {
    "execution": {
     "iopub.execute_input": "2020-09-10T21:18:20.806903Z",
     "iopub.status.busy": "2020-09-10T21:18:20.805775Z",
     "iopub.status.idle": "2020-09-10T21:18:20.832777Z",
     "shell.execute_reply": "2020-09-10T21:18:20.833421Z"
    },
    "papermill": {
     "duration": 0.084707,
     "end_time": "2020-09-10T21:18:20.833605",
     "exception": false,
     "start_time": "2020-09-10T21:18:20.748898",
     "status": "completed"
    },
    "pycharm": {
     "name": "#%%\n"
    },
    "tags": []
   },
   "outputs": [
    {
     "data": {
      "text/html": [
       "<div>\n",
       "<style scoped>\n",
       "    .dataframe tbody tr th:only-of-type {\n",
       "        vertical-align: middle;\n",
       "    }\n",
       "\n",
       "    .dataframe tbody tr th {\n",
       "        vertical-align: top;\n",
       "    }\n",
       "\n",
       "    .dataframe thead th {\n",
       "        text-align: right;\n",
       "    }\n",
       "</style>\n",
       "<table border=\"1\" class=\"dataframe\">\n",
       "  <thead>\n",
       "    <tr style=\"text-align: right;\">\n",
       "      <th></th>\n",
       "      <th>extraction_date_with_hour</th>\n",
       "      <th>new_tek_devices</th>\n",
       "    </tr>\n",
       "  </thead>\n",
       "  <tbody>\n",
       "    <tr>\n",
       "      <th>17</th>\n",
       "      <td>2020-09-10@17</td>\n",
       "      <td>0.0</td>\n",
       "    </tr>\n",
       "    <tr>\n",
       "      <th>18</th>\n",
       "      <td>2020-09-10@18</td>\n",
       "      <td>3.0</td>\n",
       "    </tr>\n",
       "    <tr>\n",
       "      <th>19</th>\n",
       "      <td>2020-09-10@19</td>\n",
       "      <td>0.0</td>\n",
       "    </tr>\n",
       "    <tr>\n",
       "      <th>20</th>\n",
       "      <td>2020-09-10@20</td>\n",
       "      <td>0.0</td>\n",
       "    </tr>\n",
       "    <tr>\n",
       "      <th>21</th>\n",
       "      <td>2020-09-10@21</td>\n",
       "      <td>0.0</td>\n",
       "    </tr>\n",
       "  </tbody>\n",
       "</table>\n",
       "</div>"
      ],
      "text/plain": [
       "   extraction_date_with_hour  new_tek_devices\n",
       "17             2020-09-10@17              0.0\n",
       "18             2020-09-10@18              3.0\n",
       "19             2020-09-10@19              0.0\n",
       "20             2020-09-10@20              0.0\n",
       "21             2020-09-10@21              0.0"
      ]
     },
     "execution_count": 18,
     "metadata": {},
     "output_type": "execute_result"
    }
   ],
   "source": [
    "hourly_new_tek_devices_df = hourly_extracted_teks_df.copy()\n",
    "hourly_new_tek_devices_df[\"new_sample_extraction_date\"] = \\\n",
    "    pd.to_datetime(hourly_new_tek_devices_df.sample_date) + datetime.timedelta(1)\n",
    "hourly_new_tek_devices_df[\"extraction_date\"] = pd.to_datetime(hourly_new_tek_devices_df.extraction_date)\n",
    "\n",
    "hourly_new_tek_devices_df = hourly_new_tek_devices_df[\n",
    "    hourly_new_tek_devices_df.new_sample_extraction_date == hourly_new_tek_devices_df.extraction_date]\n",
    "\n",
    "hourly_new_tek_devices_df.set_index(\"extraction_date_with_hour\", inplace=True)\n",
    "hourly_new_tek_devices_df_ = pd.DataFrame()\n",
    "\n",
    "for i, chunk_df in hourly_new_tek_devices_df.groupby(\"extraction_date\"):\n",
    "    chunk_df = chunk_df.copy()\n",
    "    chunk_df.sort_index(inplace=True)\n",
    "    chunk_tek_count_df = chunk_df.tek_list.apply(lambda x: len(set(x)))\n",
    "    chunk_df = chunk_tek_count_df.diff().fillna(chunk_tek_count_df).to_frame()\n",
    "    hourly_new_tek_devices_df_ = hourly_new_tek_devices_df_.append(chunk_df)\n",
    "    \n",
    "hourly_new_tek_devices_df = hourly_new_tek_devices_df_\n",
    "hourly_new_tek_devices_df.reset_index(inplace=True)\n",
    "hourly_new_tek_devices_df.rename(columns={\n",
    "    \"tek_list\": \"new_tek_devices\"}, inplace=True)\n",
    "hourly_new_tek_devices_df.tail()"
   ]
  },
  {
   "cell_type": "code",
   "execution_count": 19,
   "metadata": {
    "execution": {
     "iopub.execute_input": "2020-09-10T21:18:20.915547Z",
     "iopub.status.busy": "2020-09-10T21:18:20.914856Z",
     "iopub.status.idle": "2020-09-10T21:18:20.925223Z",
     "shell.execute_reply": "2020-09-10T21:18:20.925973Z"
    },
    "papermill": {
     "duration": 0.057551,
     "end_time": "2020-09-10T21:18:20.926165",
     "exception": false,
     "start_time": "2020-09-10T21:18:20.868614",
     "status": "completed"
    },
    "tags": []
   },
   "outputs": [
    {
     "data": {
      "text/html": [
       "<div>\n",
       "<style scoped>\n",
       "    .dataframe tbody tr th:only-of-type {\n",
       "        vertical-align: middle;\n",
       "    }\n",
       "\n",
       "    .dataframe tbody tr th {\n",
       "        vertical-align: top;\n",
       "    }\n",
       "\n",
       "    .dataframe thead th {\n",
       "        text-align: right;\n",
       "    }\n",
       "</style>\n",
       "<table border=\"1\" class=\"dataframe\">\n",
       "  <thead>\n",
       "    <tr style=\"text-align: right;\">\n",
       "      <th></th>\n",
       "      <th>extraction_date_with_hour</th>\n",
       "      <th>new_tek_count</th>\n",
       "      <th>new_tek_devices</th>\n",
       "    </tr>\n",
       "    <tr>\n",
       "      <th>datetime_utc</th>\n",
       "      <th></th>\n",
       "      <th></th>\n",
       "      <th></th>\n",
       "    </tr>\n",
       "  </thead>\n",
       "  <tbody>\n",
       "    <tr>\n",
       "      <th>2020-09-10 17:00:00</th>\n",
       "      <td>2020-09-10@17</td>\n",
       "      <td>0.0</td>\n",
       "      <td>0.0</td>\n",
       "    </tr>\n",
       "    <tr>\n",
       "      <th>2020-09-10 18:00:00</th>\n",
       "      <td>2020-09-10@18</td>\n",
       "      <td>15.0</td>\n",
       "      <td>3.0</td>\n",
       "    </tr>\n",
       "    <tr>\n",
       "      <th>2020-09-10 19:00:00</th>\n",
       "      <td>2020-09-10@19</td>\n",
       "      <td>0.0</td>\n",
       "      <td>0.0</td>\n",
       "    </tr>\n",
       "    <tr>\n",
       "      <th>2020-09-10 20:00:00</th>\n",
       "      <td>2020-09-10@20</td>\n",
       "      <td>0.0</td>\n",
       "      <td>0.0</td>\n",
       "    </tr>\n",
       "    <tr>\n",
       "      <th>2020-09-10 21:00:00</th>\n",
       "      <td>2020-09-10@21</td>\n",
       "      <td>0.0</td>\n",
       "      <td>0.0</td>\n",
       "    </tr>\n",
       "  </tbody>\n",
       "</table>\n",
       "</div>"
      ],
      "text/plain": [
       "                    extraction_date_with_hour  new_tek_count  new_tek_devices\n",
       "datetime_utc                                                                 \n",
       "2020-09-10 17:00:00             2020-09-10@17            0.0              0.0\n",
       "2020-09-10 18:00:00             2020-09-10@18           15.0              3.0\n",
       "2020-09-10 19:00:00             2020-09-10@19            0.0              0.0\n",
       "2020-09-10 20:00:00             2020-09-10@20            0.0              0.0\n",
       "2020-09-10 21:00:00             2020-09-10@21            0.0              0.0"
      ]
     },
     "execution_count": 19,
     "metadata": {},
     "output_type": "execute_result"
    }
   ],
   "source": [
    "hourly_summary_df = hourly_new_tek_df.merge(\n",
    "    hourly_new_tek_devices_df, on=[\"extraction_date_with_hour\"], how=\"outer\")\n",
    "hourly_summary_df[\"datetime_utc\"] = pd.to_datetime(\n",
    "    hourly_summary_df.extraction_date_with_hour, format=\"%Y-%m-%d@%H\")\n",
    "hourly_summary_df.set_index(\"datetime_utc\", inplace=True)\n",
    "hourly_summary_df.tail()"
   ]
  },
  {
   "cell_type": "markdown",
   "metadata": {
    "execution": {
     "iopub.execute_input": "2020-08-30T22:30:16.982353Z",
     "iopub.status.busy": "2020-08-30T22:30:16.981676Z",
     "iopub.status.idle": "2020-08-30T22:30:16.984837Z",
     "shell.execute_reply": "2020-08-30T22:30:16.985366Z"
    },
    "papermill": {
     "duration": 0.033803,
     "end_time": "2020-09-10T21:18:20.995737",
     "exception": false,
     "start_time": "2020-09-10T21:18:20.961934",
     "status": "completed"
    },
    "pycharm": {
     "name": "#%% md\n"
    },
    "tags": []
   },
   "source": [
    "### Data Merge"
   ]
  },
  {
   "cell_type": "code",
   "execution_count": 20,
   "metadata": {
    "execution": {
     "iopub.execute_input": "2020-09-10T21:18:21.072771Z",
     "iopub.status.busy": "2020-09-10T21:18:21.072017Z",
     "iopub.status.idle": "2020-09-10T21:18:21.081660Z",
     "shell.execute_reply": "2020-09-10T21:18:21.082179Z"
    },
    "papermill": {
     "duration": 0.052697,
     "end_time": "2020-09-10T21:18:21.082360",
     "exception": false,
     "start_time": "2020-09-10T21:18:21.029663",
     "status": "completed"
    },
    "pycharm": {
     "name": "#%%\n"
    },
    "tags": []
   },
   "outputs": [
    {
     "data": {
      "text/html": [
       "<div>\n",
       "<style scoped>\n",
       "    .dataframe tbody tr th:only-of-type {\n",
       "        vertical-align: middle;\n",
       "    }\n",
       "\n",
       "    .dataframe tbody tr th {\n",
       "        vertical-align: top;\n",
       "    }\n",
       "\n",
       "    .dataframe thead th {\n",
       "        text-align: right;\n",
       "    }\n",
       "</style>\n",
       "<table border=\"1\" class=\"dataframe\">\n",
       "  <thead>\n",
       "    <tr style=\"text-align: right;\">\n",
       "      <th></th>\n",
       "      <th>sample_date_string</th>\n",
       "      <th>tek_count</th>\n",
       "      <th>new_tek_count</th>\n",
       "    </tr>\n",
       "  </thead>\n",
       "  <tbody>\n",
       "    <tr>\n",
       "      <th>0</th>\n",
       "      <td>2020-09-09</td>\n",
       "      <td>15.0</td>\n",
       "      <td>67.0</td>\n",
       "    </tr>\n",
       "    <tr>\n",
       "      <th>1</th>\n",
       "      <td>2020-09-08</td>\n",
       "      <td>29.0</td>\n",
       "      <td>44.0</td>\n",
       "    </tr>\n",
       "    <tr>\n",
       "      <th>2</th>\n",
       "      <td>2020-09-07</td>\n",
       "      <td>38.0</td>\n",
       "      <td>52.0</td>\n",
       "    </tr>\n",
       "    <tr>\n",
       "      <th>3</th>\n",
       "      <td>2020-09-06</td>\n",
       "      <td>48.0</td>\n",
       "      <td>60.0</td>\n",
       "    </tr>\n",
       "    <tr>\n",
       "      <th>4</th>\n",
       "      <td>2020-09-05</td>\n",
       "      <td>55.0</td>\n",
       "      <td>40.0</td>\n",
       "    </tr>\n",
       "  </tbody>\n",
       "</table>\n",
       "</div>"
      ],
      "text/plain": [
       "  sample_date_string  tek_count  new_tek_count\n",
       "0         2020-09-09       15.0           67.0\n",
       "1         2020-09-08       29.0           44.0\n",
       "2         2020-09-07       38.0           52.0\n",
       "3         2020-09-06       48.0           60.0\n",
       "4         2020-09-05       55.0           40.0"
      ]
     },
     "execution_count": 20,
     "metadata": {},
     "output_type": "execute_result"
    }
   ],
   "source": [
    "result_summary_df = exposure_keys_summary_df.merge(new_tek_df, on=[\"sample_date_string\"], how=\"outer\")\n",
    "result_summary_df.head()"
   ]
  },
  {
   "cell_type": "code",
   "execution_count": 21,
   "metadata": {
    "execution": {
     "iopub.execute_input": "2020-09-10T21:18:21.171091Z",
     "iopub.status.busy": "2020-09-10T21:18:21.170420Z",
     "iopub.status.idle": "2020-09-10T21:18:21.173278Z",
     "shell.execute_reply": "2020-09-10T21:18:21.173857Z"
    },
    "papermill": {
     "duration": 0.055128,
     "end_time": "2020-09-10T21:18:21.174088",
     "exception": false,
     "start_time": "2020-09-10T21:18:21.118960",
     "status": "completed"
    },
    "tags": []
   },
   "outputs": [
    {
     "data": {
      "text/html": [
       "<div>\n",
       "<style scoped>\n",
       "    .dataframe tbody tr th:only-of-type {\n",
       "        vertical-align: middle;\n",
       "    }\n",
       "\n",
       "    .dataframe tbody tr th {\n",
       "        vertical-align: top;\n",
       "    }\n",
       "\n",
       "    .dataframe thead th {\n",
       "        text-align: right;\n",
       "    }\n",
       "</style>\n",
       "<table border=\"1\" class=\"dataframe\">\n",
       "  <thead>\n",
       "    <tr style=\"text-align: right;\">\n",
       "      <th></th>\n",
       "      <th>sample_date_string</th>\n",
       "      <th>tek_count</th>\n",
       "      <th>new_tek_count</th>\n",
       "      <th>new_tek_devices</th>\n",
       "    </tr>\n",
       "  </thead>\n",
       "  <tbody>\n",
       "    <tr>\n",
       "      <th>0</th>\n",
       "      <td>2020-09-09</td>\n",
       "      <td>15.0</td>\n",
       "      <td>67.0</td>\n",
       "      <td>21.0</td>\n",
       "    </tr>\n",
       "    <tr>\n",
       "      <th>1</th>\n",
       "      <td>2020-09-08</td>\n",
       "      <td>29.0</td>\n",
       "      <td>44.0</td>\n",
       "      <td>18.0</td>\n",
       "    </tr>\n",
       "    <tr>\n",
       "      <th>2</th>\n",
       "      <td>2020-09-07</td>\n",
       "      <td>38.0</td>\n",
       "      <td>52.0</td>\n",
       "      <td>22.0</td>\n",
       "    </tr>\n",
       "    <tr>\n",
       "      <th>3</th>\n",
       "      <td>2020-09-06</td>\n",
       "      <td>48.0</td>\n",
       "      <td>60.0</td>\n",
       "      <td>24.0</td>\n",
       "    </tr>\n",
       "    <tr>\n",
       "      <th>4</th>\n",
       "      <td>2020-09-05</td>\n",
       "      <td>55.0</td>\n",
       "      <td>40.0</td>\n",
       "      <td>17.0</td>\n",
       "    </tr>\n",
       "  </tbody>\n",
       "</table>\n",
       "</div>"
      ],
      "text/plain": [
       "  sample_date_string  tek_count  new_tek_count  new_tek_devices\n",
       "0         2020-09-09       15.0           67.0             21.0\n",
       "1         2020-09-08       29.0           44.0             18.0\n",
       "2         2020-09-07       38.0           52.0             22.0\n",
       "3         2020-09-06       48.0           60.0             24.0\n",
       "4         2020-09-05       55.0           40.0             17.0"
      ]
     },
     "execution_count": 21,
     "metadata": {},
     "output_type": "execute_result"
    }
   ],
   "source": [
    "result_summary_df = result_summary_df.merge(new_tek_devices_df, on=[\"sample_date_string\"], how=\"outer\")\n",
    "result_summary_df.head()"
   ]
  },
  {
   "cell_type": "code",
   "execution_count": 22,
   "metadata": {
    "execution": {
     "iopub.execute_input": "2020-09-10T21:18:21.258904Z",
     "iopub.status.busy": "2020-09-10T21:18:21.258210Z",
     "iopub.status.idle": "2020-09-10T21:18:21.272461Z",
     "shell.execute_reply": "2020-09-10T21:18:21.272959Z"
    },
    "papermill": {
     "duration": 0.061457,
     "end_time": "2020-09-10T21:18:21.273173",
     "exception": false,
     "start_time": "2020-09-10T21:18:21.211716",
     "status": "completed"
    },
    "pycharm": {
     "name": "#%%\n"
    },
    "tags": []
   },
   "outputs": [
    {
     "data": {
      "text/html": [
       "<div>\n",
       "<style scoped>\n",
       "    .dataframe tbody tr th:only-of-type {\n",
       "        vertical-align: middle;\n",
       "    }\n",
       "\n",
       "    .dataframe tbody tr th {\n",
       "        vertical-align: top;\n",
       "    }\n",
       "\n",
       "    .dataframe thead th {\n",
       "        text-align: right;\n",
       "    }\n",
       "</style>\n",
       "<table border=\"1\" class=\"dataframe\">\n",
       "  <thead>\n",
       "    <tr style=\"text-align: right;\">\n",
       "      <th></th>\n",
       "      <th>sample_date_string</th>\n",
       "      <th>tek_count</th>\n",
       "      <th>new_tek_count</th>\n",
       "      <th>new_tek_devices</th>\n",
       "      <th>cumulative_cases</th>\n",
       "      <th>new_cases</th>\n",
       "      <th>rolling_mean_new_cases</th>\n",
       "    </tr>\n",
       "  </thead>\n",
       "  <tbody>\n",
       "    <tr>\n",
       "      <th>0</th>\n",
       "      <td>2020-09-09</td>\n",
       "      <td>15.0</td>\n",
       "      <td>67.0</td>\n",
       "      <td>21.0</td>\n",
       "      <td>1086758.0</td>\n",
       "      <td>17732.0</td>\n",
       "      <td>18235.714286</td>\n",
       "    </tr>\n",
       "    <tr>\n",
       "      <th>1</th>\n",
       "      <td>2020-09-08</td>\n",
       "      <td>29.0</td>\n",
       "      <td>44.0</td>\n",
       "      <td>18.0</td>\n",
       "      <td>1069026.0</td>\n",
       "      <td>17928.0</td>\n",
       "      <td>18154.285714</td>\n",
       "    </tr>\n",
       "    <tr>\n",
       "      <th>2</th>\n",
       "      <td>2020-09-07</td>\n",
       "      <td>38.0</td>\n",
       "      <td>52.0</td>\n",
       "      <td>22.0</td>\n",
       "      <td>1051098.0</td>\n",
       "      <td>53120.0</td>\n",
       "      <td>17911.714286</td>\n",
       "    </tr>\n",
       "    <tr>\n",
       "      <th>3</th>\n",
       "      <td>2020-09-06</td>\n",
       "      <td>48.0</td>\n",
       "      <td>60.0</td>\n",
       "      <td>24.0</td>\n",
       "      <td>997978.0</td>\n",
       "      <td>0.0</td>\n",
       "      <td>17058.000000</td>\n",
       "    </tr>\n",
       "    <tr>\n",
       "      <th>4</th>\n",
       "      <td>2020-09-05</td>\n",
       "      <td>55.0</td>\n",
       "      <td>40.0</td>\n",
       "      <td>17.0</td>\n",
       "      <td>997978.0</td>\n",
       "      <td>0.0</td>\n",
       "      <td>17058.000000</td>\n",
       "    </tr>\n",
       "  </tbody>\n",
       "</table>\n",
       "</div>"
      ],
      "text/plain": [
       "  sample_date_string  tek_count  new_tek_count  new_tek_devices  \\\n",
       "0         2020-09-09       15.0           67.0             21.0   \n",
       "1         2020-09-08       29.0           44.0             18.0   \n",
       "2         2020-09-07       38.0           52.0             22.0   \n",
       "3         2020-09-06       48.0           60.0             24.0   \n",
       "4         2020-09-05       55.0           40.0             17.0   \n",
       "\n",
       "   cumulative_cases  new_cases  rolling_mean_new_cases  \n",
       "0         1086758.0    17732.0            18235.714286  \n",
       "1         1069026.0    17928.0            18154.285714  \n",
       "2         1051098.0    53120.0            17911.714286  \n",
       "3          997978.0        0.0            17058.000000  \n",
       "4          997978.0        0.0            17058.000000  "
      ]
     },
     "execution_count": 22,
     "metadata": {},
     "output_type": "execute_result"
    }
   ],
   "source": [
    "result_summary_df = result_summary_df.merge(confirmed_df, on=[\"sample_date_string\"], how=\"left\")\n",
    "result_summary_df.head()"
   ]
  },
  {
   "cell_type": "code",
   "execution_count": 23,
   "metadata": {
    "execution": {
     "iopub.execute_input": "2020-09-10T21:18:21.362714Z",
     "iopub.status.busy": "2020-09-10T21:18:21.362029Z",
     "iopub.status.idle": "2020-09-10T21:18:21.378923Z",
     "shell.execute_reply": "2020-09-10T21:18:21.379599Z"
    },
    "papermill": {
     "duration": 0.063666,
     "end_time": "2020-09-10T21:18:21.379838",
     "exception": false,
     "start_time": "2020-09-10T21:18:21.316172",
     "status": "completed"
    },
    "pycharm": {
     "name": "#%%\n"
    },
    "tags": []
   },
   "outputs": [
    {
     "data": {
      "text/html": [
       "<div>\n",
       "<style scoped>\n",
       "    .dataframe tbody tr th:only-of-type {\n",
       "        vertical-align: middle;\n",
       "    }\n",
       "\n",
       "    .dataframe tbody tr th {\n",
       "        vertical-align: top;\n",
       "    }\n",
       "\n",
       "    .dataframe thead th {\n",
       "        text-align: right;\n",
       "    }\n",
       "</style>\n",
       "<table border=\"1\" class=\"dataframe\">\n",
       "  <thead>\n",
       "    <tr style=\"text-align: right;\">\n",
       "      <th></th>\n",
       "      <th>sample_date_string</th>\n",
       "      <th>tek_count</th>\n",
       "      <th>new_tek_count</th>\n",
       "      <th>new_tek_devices</th>\n",
       "      <th>cumulative_cases</th>\n",
       "      <th>new_cases</th>\n",
       "      <th>rolling_mean_new_cases</th>\n",
       "      <th>tek_count_per_new_case</th>\n",
       "      <th>new_tek_count_per_new_case</th>\n",
       "      <th>new_tek_devices_per_new_case</th>\n",
       "      <th>new_tek_count_per_new_tek_device</th>\n",
       "    </tr>\n",
       "  </thead>\n",
       "  <tbody>\n",
       "    <tr>\n",
       "      <th>0</th>\n",
       "      <td>2020-09-09</td>\n",
       "      <td>15.0</td>\n",
       "      <td>67.0</td>\n",
       "      <td>21.0</td>\n",
       "      <td>1086758.0</td>\n",
       "      <td>17732.0</td>\n",
       "      <td>18235.714286</td>\n",
       "      <td>0.000823</td>\n",
       "      <td>0.003674</td>\n",
       "      <td>0.001152</td>\n",
       "      <td>3.190476</td>\n",
       "    </tr>\n",
       "    <tr>\n",
       "      <th>1</th>\n",
       "      <td>2020-09-08</td>\n",
       "      <td>29.0</td>\n",
       "      <td>44.0</td>\n",
       "      <td>18.0</td>\n",
       "      <td>1069026.0</td>\n",
       "      <td>17928.0</td>\n",
       "      <td>18154.285714</td>\n",
       "      <td>0.001597</td>\n",
       "      <td>0.002424</td>\n",
       "      <td>0.000992</td>\n",
       "      <td>2.444444</td>\n",
       "    </tr>\n",
       "    <tr>\n",
       "      <th>2</th>\n",
       "      <td>2020-09-07</td>\n",
       "      <td>38.0</td>\n",
       "      <td>52.0</td>\n",
       "      <td>22.0</td>\n",
       "      <td>1051098.0</td>\n",
       "      <td>53120.0</td>\n",
       "      <td>17911.714286</td>\n",
       "      <td>0.002122</td>\n",
       "      <td>0.002903</td>\n",
       "      <td>0.001228</td>\n",
       "      <td>2.363636</td>\n",
       "    </tr>\n",
       "    <tr>\n",
       "      <th>3</th>\n",
       "      <td>2020-09-06</td>\n",
       "      <td>48.0</td>\n",
       "      <td>60.0</td>\n",
       "      <td>24.0</td>\n",
       "      <td>997978.0</td>\n",
       "      <td>0.0</td>\n",
       "      <td>17058.000000</td>\n",
       "      <td>0.002814</td>\n",
       "      <td>0.003517</td>\n",
       "      <td>0.001407</td>\n",
       "      <td>2.500000</td>\n",
       "    </tr>\n",
       "    <tr>\n",
       "      <th>4</th>\n",
       "      <td>2020-09-05</td>\n",
       "      <td>55.0</td>\n",
       "      <td>40.0</td>\n",
       "      <td>17.0</td>\n",
       "      <td>997978.0</td>\n",
       "      <td>0.0</td>\n",
       "      <td>17058.000000</td>\n",
       "      <td>0.003224</td>\n",
       "      <td>0.002345</td>\n",
       "      <td>0.000997</td>\n",
       "      <td>2.352941</td>\n",
       "    </tr>\n",
       "  </tbody>\n",
       "</table>\n",
       "</div>"
      ],
      "text/plain": [
       "  sample_date_string  tek_count  new_tek_count  new_tek_devices  \\\n",
       "0         2020-09-09       15.0           67.0             21.0   \n",
       "1         2020-09-08       29.0           44.0             18.0   \n",
       "2         2020-09-07       38.0           52.0             22.0   \n",
       "3         2020-09-06       48.0           60.0             24.0   \n",
       "4         2020-09-05       55.0           40.0             17.0   \n",
       "\n",
       "   cumulative_cases  new_cases  rolling_mean_new_cases  \\\n",
       "0         1086758.0    17732.0            18235.714286   \n",
       "1         1069026.0    17928.0            18154.285714   \n",
       "2         1051098.0    53120.0            17911.714286   \n",
       "3          997978.0        0.0            17058.000000   \n",
       "4          997978.0        0.0            17058.000000   \n",
       "\n",
       "   tek_count_per_new_case  new_tek_count_per_new_case  \\\n",
       "0                0.000823                    0.003674   \n",
       "1                0.001597                    0.002424   \n",
       "2                0.002122                    0.002903   \n",
       "3                0.002814                    0.003517   \n",
       "4                0.003224                    0.002345   \n",
       "\n",
       "   new_tek_devices_per_new_case  new_tek_count_per_new_tek_device  \n",
       "0                      0.001152                          3.190476  \n",
       "1                      0.000992                          2.444444  \n",
       "2                      0.001228                          2.363636  \n",
       "3                      0.001407                          2.500000  \n",
       "4                      0.000997                          2.352941  "
      ]
     },
     "execution_count": 23,
     "metadata": {},
     "output_type": "execute_result"
    }
   ],
   "source": [
    "result_summary_df[\"tek_count_per_new_case\"] = \\\n",
    "    result_summary_df.tek_count / result_summary_df.rolling_mean_new_cases\n",
    "result_summary_df[\"new_tek_count_per_new_case\"] = \\\n",
    "    result_summary_df.new_tek_count / result_summary_df.rolling_mean_new_cases\n",
    "result_summary_df[\"new_tek_devices_per_new_case\"] = \\\n",
    "    result_summary_df.new_tek_devices / result_summary_df.rolling_mean_new_cases\n",
    "result_summary_df[\"new_tek_count_per_new_tek_device\"] = \\\n",
    "    result_summary_df.new_tek_count / result_summary_df.new_tek_devices\n",
    "result_summary_df.head()"
   ]
  },
  {
   "cell_type": "code",
   "execution_count": 24,
   "metadata": {
    "execution": {
     "iopub.execute_input": "2020-09-10T21:18:21.462038Z",
     "iopub.status.busy": "2020-09-10T21:18:21.461279Z",
     "iopub.status.idle": "2020-09-10T21:18:21.466334Z",
     "shell.execute_reply": "2020-09-10T21:18:21.466839Z"
    },
    "papermill": {
     "duration": 0.04819,
     "end_time": "2020-09-10T21:18:21.467020",
     "exception": false,
     "start_time": "2020-09-10T21:18:21.418830",
     "status": "completed"
    },
    "pycharm": {
     "name": "#%%\n"
    },
    "tags": []
   },
   "outputs": [],
   "source": [
    "result_summary_df[\"sample_date\"] = pd.to_datetime(result_summary_df.sample_date_string)\n",
    "result_summary_df.set_index(\"sample_date\", inplace=True)\n",
    "result_summary_df = result_summary_df.sort_index(ascending=False)"
   ]
  },
  {
   "cell_type": "markdown",
   "metadata": {
    "execution": {
     "iopub.execute_input": "2020-08-30T22:30:17.313260Z",
     "iopub.status.busy": "2020-08-30T22:30:17.312584Z",
     "iopub.status.idle": "2020-08-30T22:30:17.317571Z",
     "shell.execute_reply": "2020-08-30T22:30:17.316929Z"
    },
    "papermill": {
     "duration": 0.046861,
     "end_time": "2020-09-10T21:18:21.558621",
     "exception": false,
     "start_time": "2020-09-10T21:18:21.511760",
     "status": "completed"
    },
    "pycharm": {
     "name": "#%% md\n"
    },
    "tags": []
   },
   "source": [
    "## Report Results\n"
   ]
  },
  {
   "cell_type": "markdown",
   "metadata": {
    "papermill": {
     "duration": 0.038401,
     "end_time": "2020-09-10T21:18:21.634332",
     "exception": false,
     "start_time": "2020-09-10T21:18:21.595931",
     "status": "completed"
    },
    "tags": []
   },
   "source": [
    "### Summary Table"
   ]
  },
  {
   "cell_type": "code",
   "execution_count": 25,
   "metadata": {
    "execution": {
     "iopub.execute_input": "2020-09-10T21:18:21.733477Z",
     "iopub.status.busy": "2020-09-10T21:18:21.732754Z",
     "iopub.status.idle": "2020-09-10T21:18:21.740578Z",
     "shell.execute_reply": "2020-09-10T21:18:21.741102Z"
    },
    "papermill": {
     "duration": 0.06699,
     "end_time": "2020-09-10T21:18:21.741274",
     "exception": false,
     "start_time": "2020-09-10T21:18:21.674284",
     "status": "completed"
    },
    "tags": []
   },
   "outputs": [
    {
     "data": {
      "text/html": [
       "<div>\n",
       "<style scoped>\n",
       "    .dataframe tbody tr th:only-of-type {\n",
       "        vertical-align: middle;\n",
       "    }\n",
       "\n",
       "    .dataframe tbody tr th {\n",
       "        vertical-align: top;\n",
       "    }\n",
       "\n",
       "    .dataframe thead th {\n",
       "        text-align: right;\n",
       "    }\n",
       "</style>\n",
       "<table border=\"1\" class=\"dataframe\">\n",
       "  <thead>\n",
       "    <tr style=\"text-align: right;\">\n",
       "      <th></th>\n",
       "      <th>tek_count</th>\n",
       "      <th>new_tek_count</th>\n",
       "      <th>new_cases</th>\n",
       "      <th>rolling_mean_new_cases</th>\n",
       "      <th>tek_count_per_new_case</th>\n",
       "      <th>new_tek_count_per_new_case</th>\n",
       "      <th>new_tek_devices</th>\n",
       "      <th>new_tek_devices_per_new_case</th>\n",
       "      <th>new_tek_count_per_new_tek_device</th>\n",
       "    </tr>\n",
       "    <tr>\n",
       "      <th>sample_date</th>\n",
       "      <th></th>\n",
       "      <th></th>\n",
       "      <th></th>\n",
       "      <th></th>\n",
       "      <th></th>\n",
       "      <th></th>\n",
       "      <th></th>\n",
       "      <th></th>\n",
       "      <th></th>\n",
       "    </tr>\n",
       "  </thead>\n",
       "  <tbody>\n",
       "    <tr>\n",
       "      <th>2020-09-10</th>\n",
       "      <td>NaN</td>\n",
       "      <td>45.0</td>\n",
       "      <td>18235.714286</td>\n",
       "      <td>18235.714286</td>\n",
       "      <td>NaN</td>\n",
       "      <td>0.002468</td>\n",
       "      <td>15.0</td>\n",
       "      <td>0.000823</td>\n",
       "      <td>3.000000</td>\n",
       "    </tr>\n",
       "    <tr>\n",
       "      <th>2020-09-09</th>\n",
       "      <td>15.0</td>\n",
       "      <td>67.0</td>\n",
       "      <td>17732.000000</td>\n",
       "      <td>18235.714286</td>\n",
       "      <td>0.000823</td>\n",
       "      <td>0.003674</td>\n",
       "      <td>21.0</td>\n",
       "      <td>0.001152</td>\n",
       "      <td>3.190476</td>\n",
       "    </tr>\n",
       "    <tr>\n",
       "      <th>2020-09-08</th>\n",
       "      <td>29.0</td>\n",
       "      <td>44.0</td>\n",
       "      <td>17928.000000</td>\n",
       "      <td>18154.285714</td>\n",
       "      <td>0.001597</td>\n",
       "      <td>0.002424</td>\n",
       "      <td>18.0</td>\n",
       "      <td>0.000992</td>\n",
       "      <td>2.444444</td>\n",
       "    </tr>\n",
       "    <tr>\n",
       "      <th>2020-09-07</th>\n",
       "      <td>38.0</td>\n",
       "      <td>52.0</td>\n",
       "      <td>53120.000000</td>\n",
       "      <td>17911.714286</td>\n",
       "      <td>0.002122</td>\n",
       "      <td>0.002903</td>\n",
       "      <td>22.0</td>\n",
       "      <td>0.001228</td>\n",
       "      <td>2.363636</td>\n",
       "    </tr>\n",
       "    <tr>\n",
       "      <th>2020-09-06</th>\n",
       "      <td>48.0</td>\n",
       "      <td>60.0</td>\n",
       "      <td>0.000000</td>\n",
       "      <td>17058.000000</td>\n",
       "      <td>0.002814</td>\n",
       "      <td>0.003517</td>\n",
       "      <td>24.0</td>\n",
       "      <td>0.001407</td>\n",
       "      <td>2.500000</td>\n",
       "    </tr>\n",
       "    <tr>\n",
       "      <th>2020-09-05</th>\n",
       "      <td>55.0</td>\n",
       "      <td>40.0</td>\n",
       "      <td>0.000000</td>\n",
       "      <td>17058.000000</td>\n",
       "      <td>0.003224</td>\n",
       "      <td>0.002345</td>\n",
       "      <td>17.0</td>\n",
       "      <td>0.000997</td>\n",
       "      <td>2.352941</td>\n",
       "    </tr>\n",
       "    <tr>\n",
       "      <th>2020-09-04</th>\n",
       "      <td>52.0</td>\n",
       "      <td>58.0</td>\n",
       "      <td>20952.000000</td>\n",
       "      <td>17058.000000</td>\n",
       "      <td>0.003048</td>\n",
       "      <td>0.003400</td>\n",
       "      <td>20.0</td>\n",
       "      <td>0.001172</td>\n",
       "      <td>2.900000</td>\n",
       "    </tr>\n",
       "    <tr>\n",
       "      <th>2020-09-03</th>\n",
       "      <td>51.0</td>\n",
       "      <td>49.0</td>\n",
       "      <td>17918.000000</td>\n",
       "      <td>16858.857143</td>\n",
       "      <td>0.003025</td>\n",
       "      <td>0.002906</td>\n",
       "      <td>19.0</td>\n",
       "      <td>0.001127</td>\n",
       "      <td>2.578947</td>\n",
       "    </tr>\n",
       "    <tr>\n",
       "      <th>2020-09-02</th>\n",
       "      <td>52.0</td>\n",
       "      <td>57.0</td>\n",
       "      <td>17162.000000</td>\n",
       "      <td>17058.571429</td>\n",
       "      <td>0.003048</td>\n",
       "      <td>0.003341</td>\n",
       "      <td>14.0</td>\n",
       "      <td>0.000821</td>\n",
       "      <td>4.071429</td>\n",
       "    </tr>\n",
       "    <tr>\n",
       "      <th>2020-09-01</th>\n",
       "      <td>46.0</td>\n",
       "      <td>39.0</td>\n",
       "      <td>16230.000000</td>\n",
       "      <td>16691.428571</td>\n",
       "      <td>0.002756</td>\n",
       "      <td>0.002337</td>\n",
       "      <td>14.0</td>\n",
       "      <td>0.000839</td>\n",
       "      <td>2.785714</td>\n",
       "    </tr>\n",
       "    <tr>\n",
       "      <th>2020-08-31</th>\n",
       "      <td>47.0</td>\n",
       "      <td>63.0</td>\n",
       "      <td>47144.000000</td>\n",
       "      <td>16406.285714</td>\n",
       "      <td>0.002865</td>\n",
       "      <td>0.003840</td>\n",
       "      <td>25.0</td>\n",
       "      <td>0.001524</td>\n",
       "      <td>2.520000</td>\n",
       "    </tr>\n",
       "    <tr>\n",
       "      <th>2020-08-30</th>\n",
       "      <td>59.0</td>\n",
       "      <td>29.0</td>\n",
       "      <td>0.000000</td>\n",
       "      <td>15209.142857</td>\n",
       "      <td>0.003879</td>\n",
       "      <td>0.001907</td>\n",
       "      <td>16.0</td>\n",
       "      <td>0.001052</td>\n",
       "      <td>1.812500</td>\n",
       "    </tr>\n",
       "    <tr>\n",
       "      <th>2020-08-29</th>\n",
       "      <td>49.0</td>\n",
       "      <td>NaN</td>\n",
       "      <td>0.000000</td>\n",
       "      <td>15209.142857</td>\n",
       "      <td>0.003222</td>\n",
       "      <td>NaN</td>\n",
       "      <td>27.0</td>\n",
       "      <td>0.001775</td>\n",
       "      <td>NaN</td>\n",
       "    </tr>\n",
       "    <tr>\n",
       "      <th>2020-08-28</th>\n",
       "      <td>59.0</td>\n",
       "      <td>NaN</td>\n",
       "      <td>19558.000000</td>\n",
       "      <td>15209.142857</td>\n",
       "      <td>0.003879</td>\n",
       "      <td>NaN</td>\n",
       "      <td>NaN</td>\n",
       "      <td>NaN</td>\n",
       "      <td>NaN</td>\n",
       "    </tr>\n",
       "  </tbody>\n",
       "</table>\n",
       "</div>"
      ],
      "text/plain": [
       "             tek_count  new_tek_count     new_cases  rolling_mean_new_cases  \\\n",
       "sample_date                                                                   \n",
       "2020-09-10         NaN           45.0  18235.714286            18235.714286   \n",
       "2020-09-09        15.0           67.0  17732.000000            18235.714286   \n",
       "2020-09-08        29.0           44.0  17928.000000            18154.285714   \n",
       "2020-09-07        38.0           52.0  53120.000000            17911.714286   \n",
       "2020-09-06        48.0           60.0      0.000000            17058.000000   \n",
       "2020-09-05        55.0           40.0      0.000000            17058.000000   \n",
       "2020-09-04        52.0           58.0  20952.000000            17058.000000   \n",
       "2020-09-03        51.0           49.0  17918.000000            16858.857143   \n",
       "2020-09-02        52.0           57.0  17162.000000            17058.571429   \n",
       "2020-09-01        46.0           39.0  16230.000000            16691.428571   \n",
       "2020-08-31        47.0           63.0  47144.000000            16406.285714   \n",
       "2020-08-30        59.0           29.0      0.000000            15209.142857   \n",
       "2020-08-29        49.0            NaN      0.000000            15209.142857   \n",
       "2020-08-28        59.0            NaN  19558.000000            15209.142857   \n",
       "\n",
       "             tek_count_per_new_case  new_tek_count_per_new_case  \\\n",
       "sample_date                                                       \n",
       "2020-09-10                      NaN                    0.002468   \n",
       "2020-09-09                 0.000823                    0.003674   \n",
       "2020-09-08                 0.001597                    0.002424   \n",
       "2020-09-07                 0.002122                    0.002903   \n",
       "2020-09-06                 0.002814                    0.003517   \n",
       "2020-09-05                 0.003224                    0.002345   \n",
       "2020-09-04                 0.003048                    0.003400   \n",
       "2020-09-03                 0.003025                    0.002906   \n",
       "2020-09-02                 0.003048                    0.003341   \n",
       "2020-09-01                 0.002756                    0.002337   \n",
       "2020-08-31                 0.002865                    0.003840   \n",
       "2020-08-30                 0.003879                    0.001907   \n",
       "2020-08-29                 0.003222                         NaN   \n",
       "2020-08-28                 0.003879                         NaN   \n",
       "\n",
       "             new_tek_devices  new_tek_devices_per_new_case  \\\n",
       "sample_date                                                  \n",
       "2020-09-10              15.0                      0.000823   \n",
       "2020-09-09              21.0                      0.001152   \n",
       "2020-09-08              18.0                      0.000992   \n",
       "2020-09-07              22.0                      0.001228   \n",
       "2020-09-06              24.0                      0.001407   \n",
       "2020-09-05              17.0                      0.000997   \n",
       "2020-09-04              20.0                      0.001172   \n",
       "2020-09-03              19.0                      0.001127   \n",
       "2020-09-02              14.0                      0.000821   \n",
       "2020-09-01              14.0                      0.000839   \n",
       "2020-08-31              25.0                      0.001524   \n",
       "2020-08-30              16.0                      0.001052   \n",
       "2020-08-29              27.0                      0.001775   \n",
       "2020-08-28               NaN                           NaN   \n",
       "\n",
       "             new_tek_count_per_new_tek_device  \n",
       "sample_date                                    \n",
       "2020-09-10                           3.000000  \n",
       "2020-09-09                           3.190476  \n",
       "2020-09-08                           2.444444  \n",
       "2020-09-07                           2.363636  \n",
       "2020-09-06                           2.500000  \n",
       "2020-09-05                           2.352941  \n",
       "2020-09-04                           2.900000  \n",
       "2020-09-03                           2.578947  \n",
       "2020-09-02                           4.071429  \n",
       "2020-09-01                           2.785714  \n",
       "2020-08-31                           2.520000  \n",
       "2020-08-30                           1.812500  \n",
       "2020-08-29                                NaN  \n",
       "2020-08-28                                NaN  "
      ]
     },
     "execution_count": 25,
     "metadata": {},
     "output_type": "execute_result"
    }
   ],
   "source": [
    "result_summary_df_ = result_summary_df.copy()\n",
    "result_summary_df = result_summary_df[[\n",
    "    \"tek_count\",\n",
    "    \"new_tek_count\",\n",
    "    \"new_cases\",\n",
    "    \"rolling_mean_new_cases\",\n",
    "    \"tek_count_per_new_case\",\n",
    "    \"new_tek_count_per_new_case\",\n",
    "    \"new_tek_devices\",\n",
    "    \"new_tek_devices_per_new_case\",\n",
    "    \"new_tek_count_per_new_tek_device\"]]\n",
    "result_summary_df"
   ]
  },
  {
   "cell_type": "markdown",
   "metadata": {
    "papermill": {
     "duration": 0.037212,
     "end_time": "2020-09-10T21:18:21.815727",
     "exception": false,
     "start_time": "2020-09-10T21:18:21.778515",
     "status": "completed"
    },
    "tags": []
   },
   "source": [
    "### Summary Plots"
   ]
  },
  {
   "cell_type": "code",
   "execution_count": 26,
   "metadata": {
    "execution": {
     "iopub.execute_input": "2020-09-10T21:18:21.936518Z",
     "iopub.status.busy": "2020-09-10T21:18:21.918574Z",
     "iopub.status.idle": "2020-09-10T21:18:23.395880Z",
     "shell.execute_reply": "2020-09-10T21:18:23.394775Z"
    },
    "papermill": {
     "duration": 1.543669,
     "end_time": "2020-09-10T21:18:23.396042",
     "exception": false,
     "start_time": "2020-09-10T21:18:21.852373",
     "status": "completed"
    },
    "scrolled": false,
    "tags": []
   },
   "outputs": [
    {
     "data": {
      "image/png": "[encoded data removed]",
      "text/plain": [
       "<Figure size 1080x1584 with 6 Axes>"
      ]
     },
     "metadata": {},
     "output_type": "display_data"
    }
   ],
   "source": [
    "summary_ax_list = result_summary_df[[\n",
    "    \"rolling_mean_new_cases\",\n",
    "    \"tek_count\",\n",
    "    \"new_tek_count\",\n",
    "    \"new_tek_devices\",\n",
    "    \"new_tek_count_per_new_tek_device\",\n",
    "    \"new_tek_devices_per_new_case\"\n",
    "]].sort_index(ascending=True).plot.bar(\n",
    "    title=\"Summary\", rot=45, subplots=True, figsize=(15, 22))\n",
    "summary_ax_list[-1].yaxis.set_major_formatter(matplotlib.ticker.PercentFormatter(1.0))"
   ]
  },
  {
   "cell_type": "markdown",
   "metadata": {
    "papermill": {
     "duration": 0.038757,
     "end_time": "2020-09-10T21:18:23.474304",
     "exception": false,
     "start_time": "2020-09-10T21:18:23.435547",
     "status": "completed"
    },
    "tags": []
   },
   "source": [
    "### Hourly Summary Plots "
   ]
  },
  {
   "cell_type": "code",
   "execution_count": 27,
   "metadata": {
    "execution": {
     "iopub.execute_input": "2020-09-10T21:18:23.574583Z",
     "iopub.status.busy": "2020-09-10T21:18:23.573948Z",
     "iopub.status.idle": "2020-09-10T21:18:24.197613Z",
     "shell.execute_reply": "2020-09-10T21:18:24.198321Z"
    },
    "papermill": {
     "duration": 0.684349,
     "end_time": "2020-09-10T21:18:24.198501",
     "exception": false,
     "start_time": "2020-09-10T21:18:23.514152",
     "status": "completed"
    },
    "pycharm": {
     "name": "#%%\n"
    },
    "tags": []
   },
   "outputs": [
    {
     "data": {
      "image/png": "[encoded data removed]",
      "text/plain": [
       "<Figure size 1080x432 with 2 Axes>"
      ]
     },
     "metadata": {},
     "output_type": "display_data"
    }
   ],
   "source": [
    "hourly_summary_ax_list = hourly_summary_df.plot.bar(\n",
    "    title=\"Last 24h Summary\", rot=45, subplots=True)"
   ]
  },
  {
   "cell_type": "markdown",
   "metadata": {
    "papermill": {
     "duration": 0.042768,
     "end_time": "2020-09-10T21:18:24.285906",
     "exception": false,
     "start_time": "2020-09-10T21:18:24.243138",
     "status": "completed"
    },
    "tags": []
   },
   "source": [
    "### Publish Results"
   ]
  },
  {
   "cell_type": "code",
   "execution_count": 28,
   "metadata": {
    "execution": {
     "iopub.execute_input": "2020-09-10T21:18:24.381701Z",
     "iopub.status.busy": "2020-09-10T21:18:24.380913Z",
     "iopub.status.idle": "2020-09-10T21:18:27.543119Z",
     "shell.execute_reply": "2020-09-10T21:18:27.543936Z"
    },
    "papermill": {
     "duration": 3.216423,
     "end_time": "2020-09-10T21:18:27.544129",
     "exception": false,
     "start_time": "2020-09-10T21:18:24.327706",
     "status": "completed"
    },
    "pycharm": {
     "name": "#%%\n"
    },
    "tags": []
   },
   "outputs": [],
   "source": [
    "def get_temporary_image_path() -> str:\n",
    "    return os.path.join(tempfile.gettempdir(), str(uuid.uuid4()) + \".png\")\n",
    "\n",
    "def save_temporary_plot_image(ax):\n",
    "    if isinstance(ax, np.ndarray):\n",
    "        ax = ax[0]\n",
    "    media_path = get_temporary_image_path()\n",
    "    ax.get_figure().savefig(media_path)\n",
    "    return media_path\n",
    "\n",
    "def save_temporary_dataframe_image(df):\n",
    "    media_path = get_temporary_image_path()\n",
    "    dfi.export(df, media_path)\n",
    "    return media_path\n",
    "\n",
    "summary_plots_image_path = save_temporary_plot_image(ax=summary_ax_list)\n",
    "summary_table_image_path = save_temporary_dataframe_image(df=result_summary_df)\n",
    "hourly_summary_plots_image_path = save_temporary_plot_image(ax=hourly_summary_ax_list)"
   ]
  },
  {
   "cell_type": "markdown",
   "metadata": {
    "papermill": {
     "duration": 0.039135,
     "end_time": "2020-09-10T21:18:27.622595",
     "exception": false,
     "start_time": "2020-09-10T21:18:27.583460",
     "status": "completed"
    },
    "tags": []
   },
   "source": [
    "### Save Results"
   ]
  },
  {
   "cell_type": "code",
   "execution_count": 29,
   "metadata": {
    "execution": {
     "iopub.execute_input": "2020-09-10T21:18:27.710210Z",
     "iopub.status.busy": "2020-09-10T21:18:27.709556Z",
     "iopub.status.idle": "2020-09-10T21:18:27.731503Z",
     "shell.execute_reply": "2020-09-10T21:18:27.730682Z"
    },
    "papermill": {
     "duration": 0.068801,
     "end_time": "2020-09-10T21:18:27.731684",
     "exception": false,
     "start_time": "2020-09-10T21:18:27.662883",
     "status": "completed"
    },
    "pycharm": {
     "name": "#%%\n"
    },
    "tags": []
   },
   "outputs": [],
   "source": [
    "report_resources_path_prefix = \"Data/Resources/Current/RadarCOVID-Report-\"\n",
    "result_summary_df.to_csv(report_resources_path_prefix + \"Summary-Table.csv\")\n",
    "result_summary_df.to_html(report_resources_path_prefix + \"Summary-Table.html\")\n",
    "_ = shutil.copyfile(summary_plots_image_path, report_resources_path_prefix + \"Summary-Plots.png\")\n",
    "_ = shutil.copyfile(summary_table_image_path, report_resources_path_prefix + \"Summary-Table.png\")\n",
    "_ = shutil.copyfile(hourly_summary_plots_image_path, report_resources_path_prefix + \"Hourly-Summary-Plots.png\")\n",
    "\n",
    "report_daily_url_pattern = \\\n",
    "    \"https://github.com/pvieito/RadarCOVID-Report/blob/master/Notebooks/\" \\\n",
    "    \"RadarCOVID-Report/{report_type}/RadarCOVID-Report-{report_date}.ipynb\"\n",
    "report_daily_url = report_daily_url_pattern.format(\n",
    "    report_type=\"Daily\", report_date=extraction_date)\n",
    "report_hourly_url = report_daily_url_pattern.format(\n",
    "    report_type=\"Hourly\", report_date=extraction_date_with_hour)"
   ]
  },
  {
   "cell_type": "markdown",
   "metadata": {
    "papermill": {
     "duration": 0.039759,
     "end_time": "2020-09-10T21:18:27.814285",
     "exception": false,
     "start_time": "2020-09-10T21:18:27.774526",
     "status": "completed"
    },
    "tags": []
   },
   "source": [
    "### Publish on README"
   ]
  },
  {
   "cell_type": "code",
   "execution_count": 30,
   "metadata": {
    "execution": {
     "iopub.execute_input": "2020-09-10T21:18:27.903499Z",
     "iopub.status.busy": "2020-09-10T21:18:27.902851Z",
     "iopub.status.idle": "2020-09-10T21:18:27.914496Z",
     "shell.execute_reply": "2020-09-10T21:18:27.913917Z"
    },
    "papermill": {
     "duration": 0.057985,
     "end_time": "2020-09-10T21:18:27.914643",
     "exception": false,
     "start_time": "2020-09-10T21:18:27.856658",
     "status": "completed"
    },
    "pycharm": {
     "name": "#%%\n"
    },
    "tags": []
   },
   "outputs": [],
   "source": [
    "with open(\"Data/Templates/README.md\", \"r\") as f:\n",
    "    readme_contents = f.read()\n",
    "\n",
    "summary_table_html = result_summary_df.to_html()\n",
    "readme_contents = readme_contents.format(\n",
    "    summary_table_html=summary_table_html,\n",
    "    report_url_with_hour=report_hourly_url,\n",
    "    extraction_date_with_hour=extraction_date_with_hour)\n",
    "\n",
    "with open(\"README.md\", \"w\") as f:\n",
    "    f.write(readme_contents)"
   ]
  },
  {
   "cell_type": "markdown",
   "metadata": {
    "papermill": {
     "duration": 0.039987,
     "end_time": "2020-09-10T21:18:28.003123",
     "exception": false,
     "start_time": "2020-09-10T21:18:27.963136",
     "status": "completed"
    },
    "pycharm": {
     "name": "#%% md\n"
    },
    "tags": []
   },
   "source": [
    "### Publish on Twitter"
   ]
  },
  {
   "cell_type": "code",
   "execution_count": 31,
   "metadata": {
    "execution": {
     "iopub.execute_input": "2020-09-10T21:18:28.099980Z",
     "iopub.status.busy": "2020-09-10T21:18:28.097113Z",
     "iopub.status.idle": "2020-09-10T21:18:30.678593Z",
     "shell.execute_reply": "2020-09-10T21:18:30.677103Z"
    },
    "papermill": {
     "duration": 2.635627,
     "end_time": "2020-09-10T21:18:30.678800",
     "exception": false,
     "start_time": "2020-09-10T21:18:28.043173",
     "status": "completed"
    },
    "pycharm": {
     "name": "#%%\n"
    },
    "tags": []
   },
   "outputs": [],
   "source": [
    "enable_share_to_twitter = os.environ.get(\"RADARCOVID_REPORT__ENABLE_PUBLISH_ON_TWITTER\")\n",
    "github_event_name = os.environ.get(\"GITHUB_EVENT_NAME\")\n",
    "\n",
    "if enable_share_to_twitter and github_event_name == \"schedule\":\n",
    "    import tweepy\n",
    "\n",
    "    twitter_api_auth_keys = os.environ[\"RADARCOVID_REPORT__TWITTER_API_AUTH_KEYS\"]\n",
    "    twitter_api_auth_keys = twitter_api_auth_keys.split(\":\")\n",
    "    auth = tweepy.OAuthHandler(twitter_api_auth_keys[0], twitter_api_auth_keys[1])\n",
    "    auth.set_access_token(twitter_api_auth_keys[2], twitter_api_auth_keys[3])\n",
    "\n",
    "    api = tweepy.API(auth)\n",
    "\n",
    "    summary_plots_media = api.media_upload(summary_plots_image_path)\n",
    "    summary_table_media = api.media_upload(summary_table_image_path)\n",
    "    hourly_summary_plots_media = api.media_upload(hourly_summary_plots_image_path)\n",
    "    media_ids = [\n",
    "        summary_plots_media.media_id,\n",
    "        summary_table_media.media_id,\n",
    "        hourly_summary_plots_media.media_id,\n",
    "    ]\n",
    "\n",
    "    extraction_date_result_summary_df = \\\n",
    "        result_summary_df[result_summary_df.index == extraction_date]\n",
    "    extraction_date_result_hourly_summary_df = \\\n",
    "        hourly_summary_df[hourly_summary_df.extraction_date_with_hour == extraction_date_with_hour]\n",
    "\n",
    "    new_teks = extraction_date_result_summary_df.new_tek_count.sum().astype(int)\n",
    "    new_teks_last_hour = extraction_date_result_hourly_summary_df.new_tek_count.sum().astype(int)\n",
    "    new_devices = extraction_date_result_summary_df.new_tek_devices.sum().astype(int)\n",
    "    new_devices_last_hour = extraction_date_result_hourly_summary_df.new_tek_devices.sum().astype(int)\n",
    "    new_tek_count_per_new_tek_device = \\\n",
    "        extraction_date_result_summary_df.new_tek_count_per_new_tek_device.sum()\n",
    "    new_tek_devices_per_new_case = \\\n",
    "        extraction_date_result_summary_df.new_tek_devices_per_new_case.sum()\n",
    "\n",
    "    status = textwrap.dedent(f\"\"\"\n",
    "        Report Update – {extraction_date_with_hour}\n",
    "        #ExposureNotification #RadarCOVID\n",
    "\n",
    "        Shared Diagnoses Day Summary:\n",
    "        - New TEKs: {new_teks} ({new_teks_last_hour:+d} last hour)\n",
    "        - New Devices: {new_devices} ({new_devices_last_hour:+d} last hour, {new_tek_count_per_new_tek_device:.2} TEKs/device)\n",
    "        - Usage Ratio: {new_tek_devices_per_new_case:.2%} devices/case\n",
    "\n",
    "        Report Link: {report_hourly_url}\n",
    "        \"\"\")\n",
    "    status = status.encode(encoding=\"utf-8\")\n",
    "    api.update_status(status=status, media_ids=media_ids)"
   ]
  }
 ],
 "metadata": {
  "kernelspec": {
   "display_name": "Python 3",
   "language": "python",
   "name": "python3"
  },
  "language_info": {
   "codemirror_mode": {
    "name": "ipython",
    "version": 3
   },
   "file_extension": ".py",
   "mimetype": "text/x-python",
   "name": "python",
   "nbconvert_exporter": "python",
   "pygments_lexer": "ipython3",
   "version": "3.8.5"
  },
  "papermill": {
   "duration": 18.017548,
   "end_time": "2020-09-10T21:18:31.129846",
   "environment_variables": {},
   "exception": null,
   "input_path": "Notebooks/RadarCOVID-Report/Source/RadarCOVID-Report.ipynb",
   "output_path": "RadarCOVID-Report.ipynb",
   "parameters": {},
   "start_time": "2020-09-10T21:18:13.112298",
   "version": "2.1.3"
  }
 },
 "nbformat": 4,
 "nbformat_minor": 1
}