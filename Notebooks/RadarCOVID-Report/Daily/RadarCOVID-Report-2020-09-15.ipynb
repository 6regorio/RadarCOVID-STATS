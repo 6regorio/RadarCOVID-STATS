{
 "cells": [
  {
   "cell_type": "markdown",
   "metadata": {
    "papermill": {
     "duration": 0.021103,
     "end_time": "2020-09-15T10:18:46.611405",
     "exception": false,
     "start_time": "2020-09-15T10:18:46.590302",
     "status": "completed"
    },
    "pycharm": {
     "name": "#%% md\n"
    },
    "tags": []
   },
   "source": [
    "# RadarCOVID-Report"
   ]
  },
  {
   "cell_type": "markdown",
   "metadata": {
    "collapsed": true,
    "papermill": {
     "duration": 0.019262,
     "end_time": "2020-09-15T10:18:46.651251",
     "exception": false,
     "start_time": "2020-09-15T10:18:46.631989",
     "status": "completed"
    },
    "pycharm": {
     "name": "#%% md\n"
    },
    "tags": []
   },
   "source": [
    "## Data Extraction"
   ]
  },
  {
   "cell_type": "code",
   "execution_count": 1,
   "metadata": {
    "execution": {
     "iopub.execute_input": "2020-09-15T10:18:46.696033Z",
     "iopub.status.busy": "2020-09-15T10:18:46.695467Z",
     "iopub.status.idle": "2020-09-15T10:18:50.055043Z",
     "shell.execute_reply": "2020-09-15T10:18:50.054520Z"
    },
    "papermill": {
     "duration": 3.384097,
     "end_time": "2020-09-15T10:18:50.055214",
     "exception": false,
     "start_time": "2020-09-15T10:18:46.671117",
     "status": "completed"
    },
    "pycharm": {
     "name": "#%%\n"
    },
    "tags": []
   },
   "outputs": [],
   "source": [
    "import datetime\n",
    "import logging\n",
    "import os\n",
    "import shutil\n",
    "import tempfile\n",
    "import textwrap\n",
    "import uuid\n",
    "\n",
    "import dataframe_image as dfi\n",
    "import matplotlib.ticker\n",
    "import numpy as np\n",
    "import pandas as pd\n",
    "import seaborn as sns\n",
    "\n",
    "%matplotlib inline"
   ]
  },
  {
   "cell_type": "code",
   "execution_count": 2,
   "metadata": {
    "execution": {
     "iopub.execute_input": "2020-09-15T10:18:50.102997Z",
     "iopub.status.busy": "2020-09-15T10:18:50.102450Z",
     "iopub.status.idle": "2020-09-15T10:18:50.104805Z",
     "shell.execute_reply": "2020-09-15T10:18:50.104312Z"
    },
    "papermill": {
     "duration": 0.028176,
     "end_time": "2020-09-15T10:18:50.104913",
     "exception": false,
     "start_time": "2020-09-15T10:18:50.076737",
     "status": "completed"
    },
    "pycharm": {
     "name": "#%%\n"
    },
    "tags": []
   },
   "outputs": [],
   "source": [
    "sns.set()\n",
    "matplotlib.rcParams['figure.figsize'] = (15, 6)\n",
    "\n",
    "extraction_datetime = datetime.datetime.utcnow()\n",
    "extraction_date = extraction_datetime.strftime(\"%Y-%m-%d\")\n",
    "extraction_previous_datetime = extraction_datetime - datetime.timedelta(days=1)\n",
    "extraction_previous_date = extraction_previous_datetime.strftime(\"%Y-%m-%d\")\n",
    "extraction_date_with_hour = datetime.datetime.utcnow().strftime(\"%Y-%m-%d@%H\")"
   ]
  },
  {
   "cell_type": "markdown",
   "metadata": {
    "papermill": {
     "duration": 0.019634,
     "end_time": "2020-09-15T10:18:50.144111",
     "exception": false,
     "start_time": "2020-09-15T10:18:50.124477",
     "status": "completed"
    },
    "tags": []
   },
   "source": [
    "### COVID-19 Cases"
   ]
  },
  {
   "cell_type": "code",
   "execution_count": 3,
   "metadata": {
    "execution": {
     "iopub.execute_input": "2020-09-15T10:18:50.189449Z",
     "iopub.status.busy": "2020-09-15T10:18:50.188572Z",
     "iopub.status.idle": "2020-09-15T10:18:50.570195Z",
     "shell.execute_reply": "2020-09-15T10:18:50.570666Z"
    },
    "papermill": {
     "duration": 0.40713,
     "end_time": "2020-09-15T10:18:50.570834",
     "exception": false,
     "start_time": "2020-09-15T10:18:50.163704",
     "status": "completed"
    },
    "pycharm": {
     "name": "#%%\n"
    },
    "tags": []
   },
   "outputs": [],
   "source": [
    "confirmed_df = pd.read_csv(\"https://covid19tracking.narrativa.com/csv/confirmed.csv\")\n",
    "\n",
    "radar_covid_countries = {\"Spain\"}\n",
    "# radar_covid_regions = { ... }\n",
    "\n",
    "confirmed_df = confirmed_df[confirmed_df[\"Country_EN\"].isin(radar_covid_countries)]\n",
    "# confirmed_df = confirmed_df[confirmed_df[\"Region\"].isin(radar_covid_regions)]\n",
    "# set(confirmed_df.Region.tolist()) == radar_covid_regions"
   ]
  },
  {
   "cell_type": "code",
   "execution_count": 4,
   "metadata": {
    "collapsed": false,
    "execution": {
     "iopub.execute_input": "2020-09-15T10:18:50.618748Z",
     "iopub.status.busy": "2020-09-15T10:18:50.618260Z",
     "iopub.status.idle": "2020-09-15T10:18:50.627395Z",
     "shell.execute_reply": "2020-09-15T10:18:50.628007Z"
    },
    "papermill": {
     "duration": 0.034756,
     "end_time": "2020-09-15T10:18:50.628129",
     "exception": false,
     "start_time": "2020-09-15T10:18:50.593373",
     "status": "completed"
    },
    "pycharm": {
     "name": "#%%\n"
    },
    "tags": []
   },
   "outputs": [
    {
     "data": {
      "text/html": [
       "<div>\n",
       "<style scoped>\n",
       "    .dataframe tbody tr th:only-of-type {\n",
       "        vertical-align: middle;\n",
       "    }\n",
       "\n",
       "    .dataframe tbody tr th {\n",
       "        vertical-align: top;\n",
       "    }\n",
       "\n",
       "    .dataframe thead th {\n",
       "        text-align: right;\n",
       "    }\n",
       "</style>\n",
       "<table border=\"1\" class=\"dataframe\">\n",
       "  <thead>\n",
       "    <tr style=\"text-align: right;\">\n",
       "      <th></th>\n",
       "      <th>0</th>\n",
       "    </tr>\n",
       "  </thead>\n",
       "  <tbody>\n",
       "    <tr>\n",
       "      <th>2020-09-10</th>\n",
       "      <td>1108286.0</td>\n",
       "    </tr>\n",
       "    <tr>\n",
       "      <th>2020-09-11</th>\n",
       "      <td>1132652.0</td>\n",
       "    </tr>\n",
       "    <tr>\n",
       "      <th>2020-09-12</th>\n",
       "      <td>1132652.0</td>\n",
       "    </tr>\n",
       "    <tr>\n",
       "      <th>2020-09-13</th>\n",
       "      <td>1132652.0</td>\n",
       "    </tr>\n",
       "    <tr>\n",
       "      <th>2020-09-14</th>\n",
       "      <td>1187460.0</td>\n",
       "    </tr>\n",
       "  </tbody>\n",
       "</table>\n",
       "</div>"
      ],
      "text/plain": [
       "                    0\n",
       "2020-09-10  1108286.0\n",
       "2020-09-11  1132652.0\n",
       "2020-09-12  1132652.0\n",
       "2020-09-13  1132652.0\n",
       "2020-09-14  1187460.0"
      ]
     },
     "execution_count": 4,
     "metadata": {},
     "output_type": "execute_result"
    }
   ],
   "source": [
    "confirmed_country_columns = list(filter(lambda x: x.startswith(\"Country_\"), confirmed_df.columns))\n",
    "confirmed_regional_columns = confirmed_country_columns + [\"Region\"]\n",
    "confirmed_df.drop(columns=confirmed_regional_columns, inplace=True)\n",
    "confirmed_df = confirmed_df.sum().to_frame()\n",
    "confirmed_df.tail()"
   ]
  },
  {
   "cell_type": "code",
   "execution_count": 5,
   "metadata": {
    "collapsed": false,
    "execution": {
     "iopub.execute_input": "2020-09-15T10:18:50.674557Z",
     "iopub.status.busy": "2020-09-15T10:18:50.674072Z",
     "iopub.status.idle": "2020-09-15T10:18:50.684595Z",
     "shell.execute_reply": "2020-09-15T10:18:50.684173Z"
    },
    "papermill": {
     "duration": 0.036498,
     "end_time": "2020-09-15T10:18:50.684719",
     "exception": false,
     "start_time": "2020-09-15T10:18:50.648221",
     "status": "completed"
    },
    "pycharm": {
     "name": "#%%\n"
    },
    "tags": []
   },
   "outputs": [
    {
     "data": {
      "text/html": [
       "<div>\n",
       "<style scoped>\n",
       "    .dataframe tbody tr th:only-of-type {\n",
       "        vertical-align: middle;\n",
       "    }\n",
       "\n",
       "    .dataframe tbody tr th {\n",
       "        vertical-align: top;\n",
       "    }\n",
       "\n",
       "    .dataframe thead th {\n",
       "        text-align: right;\n",
       "    }\n",
       "</style>\n",
       "<table border=\"1\" class=\"dataframe\">\n",
       "  <thead>\n",
       "    <tr style=\"text-align: right;\">\n",
       "      <th></th>\n",
       "      <th>sample_date_string</th>\n",
       "      <th>cumulative_cases</th>\n",
       "      <th>new_cases</th>\n",
       "      <th>rolling_mean_new_cases</th>\n",
       "    </tr>\n",
       "  </thead>\n",
       "  <tbody>\n",
       "    <tr>\n",
       "      <th>231</th>\n",
       "      <td>2020-09-10</td>\n",
       "      <td>1108286.0</td>\n",
       "      <td>21528.0</td>\n",
       "      <td>18751.428571</td>\n",
       "    </tr>\n",
       "    <tr>\n",
       "      <th>232</th>\n",
       "      <td>2020-09-11</td>\n",
       "      <td>1132652.0</td>\n",
       "      <td>24366.0</td>\n",
       "      <td>19239.142857</td>\n",
       "    </tr>\n",
       "    <tr>\n",
       "      <th>233</th>\n",
       "      <td>2020-09-12</td>\n",
       "      <td>1132652.0</td>\n",
       "      <td>0.0</td>\n",
       "      <td>19239.142857</td>\n",
       "    </tr>\n",
       "    <tr>\n",
       "      <th>234</th>\n",
       "      <td>2020-09-13</td>\n",
       "      <td>1132652.0</td>\n",
       "      <td>0.0</td>\n",
       "      <td>19239.142857</td>\n",
       "    </tr>\n",
       "    <tr>\n",
       "      <th>235</th>\n",
       "      <td>2020-09-14</td>\n",
       "      <td>1187460.0</td>\n",
       "      <td>54808.0</td>\n",
       "      <td>19480.285714</td>\n",
       "    </tr>\n",
       "  </tbody>\n",
       "</table>\n",
       "</div>"
      ],
      "text/plain": [
       "    sample_date_string  cumulative_cases  new_cases  rolling_mean_new_cases\n",
       "231         2020-09-10         1108286.0    21528.0            18751.428571\n",
       "232         2020-09-11         1132652.0    24366.0            19239.142857\n",
       "233         2020-09-12         1132652.0        0.0            19239.142857\n",
       "234         2020-09-13         1132652.0        0.0            19239.142857\n",
       "235         2020-09-14         1187460.0    54808.0            19480.285714"
      ]
     },
     "execution_count": 5,
     "metadata": {},
     "output_type": "execute_result"
    }
   ],
   "source": [
    "confirmed_df.reset_index(inplace=True)\n",
    "confirmed_df.columns = [\"sample_date_string\", \"cumulative_cases\"]\n",
    "confirmed_df.sort_values(\"sample_date_string\", inplace=True)\n",
    "confirmed_df[\"new_cases\"] = confirmed_df.cumulative_cases.diff()\n",
    "confirmed_df[\"rolling_mean_new_cases\"] = confirmed_df.new_cases.rolling(7).mean()\n",
    "confirmed_df.tail()"
   ]
  },
  {
   "cell_type": "code",
   "execution_count": 6,
   "metadata": {
    "execution": {
     "iopub.execute_input": "2020-09-15T10:18:50.733611Z",
     "iopub.status.busy": "2020-09-15T10:18:50.733110Z",
     "iopub.status.idle": "2020-09-15T10:18:50.743165Z",
     "shell.execute_reply": "2020-09-15T10:18:50.743778Z"
    },
    "papermill": {
     "duration": 0.03783,
     "end_time": "2020-09-15T10:18:50.743905",
     "exception": false,
     "start_time": "2020-09-15T10:18:50.706075",
     "status": "completed"
    },
    "pycharm": {
     "name": "#%%\n"
    },
    "tags": []
   },
   "outputs": [
    {
     "data": {
      "text/html": [
       "<div>\n",
       "<style scoped>\n",
       "    .dataframe tbody tr th:only-of-type {\n",
       "        vertical-align: middle;\n",
       "    }\n",
       "\n",
       "    .dataframe tbody tr th {\n",
       "        vertical-align: top;\n",
       "    }\n",
       "\n",
       "    .dataframe thead th {\n",
       "        text-align: right;\n",
       "    }\n",
       "</style>\n",
       "<table border=\"1\" class=\"dataframe\">\n",
       "  <thead>\n",
       "    <tr style=\"text-align: right;\">\n",
       "      <th></th>\n",
       "      <th>sample_date_string</th>\n",
       "      <th>cumulative_cases</th>\n",
       "      <th>new_cases</th>\n",
       "      <th>rolling_mean_new_cases</th>\n",
       "    </tr>\n",
       "  </thead>\n",
       "  <tbody>\n",
       "    <tr>\n",
       "      <th>232</th>\n",
       "      <td>2020-09-11</td>\n",
       "      <td>1.132652e+06</td>\n",
       "      <td>24366.000000</td>\n",
       "      <td>19239.142857</td>\n",
       "    </tr>\n",
       "    <tr>\n",
       "      <th>233</th>\n",
       "      <td>2020-09-12</td>\n",
       "      <td>1.132652e+06</td>\n",
       "      <td>0.000000</td>\n",
       "      <td>19239.142857</td>\n",
       "    </tr>\n",
       "    <tr>\n",
       "      <th>234</th>\n",
       "      <td>2020-09-13</td>\n",
       "      <td>1.132652e+06</td>\n",
       "      <td>0.000000</td>\n",
       "      <td>19239.142857</td>\n",
       "    </tr>\n",
       "    <tr>\n",
       "      <th>235</th>\n",
       "      <td>2020-09-14</td>\n",
       "      <td>1.187460e+06</td>\n",
       "      <td>54808.000000</td>\n",
       "      <td>19480.285714</td>\n",
       "    </tr>\n",
       "    <tr>\n",
       "      <th>235</th>\n",
       "      <td>2020-09-15</td>\n",
       "      <td>1.206940e+06</td>\n",
       "      <td>19480.285714</td>\n",
       "      <td>19480.285714</td>\n",
       "    </tr>\n",
       "  </tbody>\n",
       "</table>\n",
       "</div>"
      ],
      "text/plain": [
       "    sample_date_string  cumulative_cases     new_cases  rolling_mean_new_cases\n",
       "232         2020-09-11      1.132652e+06  24366.000000            19239.142857\n",
       "233         2020-09-12      1.132652e+06      0.000000            19239.142857\n",
       "234         2020-09-13      1.132652e+06      0.000000            19239.142857\n",
       "235         2020-09-14      1.187460e+06  54808.000000            19480.285714\n",
       "235         2020-09-15      1.206940e+06  19480.285714            19480.285714"
      ]
     },
     "execution_count": 6,
     "metadata": {},
     "output_type": "execute_result"
    }
   ],
   "source": [
    "extraction_date_confirmed_df = \\\n",
    "    confirmed_df[confirmed_df.sample_date_string == extraction_date]\n",
    "extraction_previous_date_confirmed_df = \\\n",
    "    confirmed_df[confirmed_df.sample_date_string == extraction_previous_date].copy()\n",
    "\n",
    "if extraction_date_confirmed_df.empty and \\\n",
    "    not extraction_previous_date_confirmed_df.empty:\n",
    "        extraction_previous_date_confirmed_df[\"sample_date_string\"] = extraction_date\n",
    "        extraction_previous_date_confirmed_df[\"new_cases\"] = \\\n",
    "            extraction_previous_date_confirmed_df.rolling_mean_new_cases\n",
    "        extraction_previous_date_confirmed_df[\"cumulative_cases\"] = \\\n",
    "            extraction_previous_date_confirmed_df.new_cases + \\\n",
    "            extraction_previous_date_confirmed_df.cumulative_cases\n",
    "        confirmed_df = confirmed_df.append(extraction_previous_date_confirmed_df)\n",
    "        \n",
    "confirmed_df.tail()"
   ]
  },
  {
   "cell_type": "code",
   "execution_count": 7,
   "metadata": {
    "execution": {
     "iopub.execute_input": "2020-09-15T10:18:50.794792Z",
     "iopub.status.busy": "2020-09-15T10:18:50.794306Z",
     "iopub.status.idle": "2020-09-15T10:18:50.989869Z",
     "shell.execute_reply": "2020-09-15T10:18:50.990374Z"
    },
    "papermill": {
     "duration": 0.22516,
     "end_time": "2020-09-15T10:18:50.990523",
     "exception": false,
     "start_time": "2020-09-15T10:18:50.765363",
     "status": "completed"
    },
    "pycharm": {
     "name": "#%%\n"
    },
    "tags": []
   },
   "outputs": [
    {
     "data": {
      "text/plain": [
       "<matplotlib.axes._subplots.AxesSubplot at 0x7fd8a5206640>"
      ]
     },
     "execution_count": 7,
     "metadata": {},
     "output_type": "execute_result"
    },
    {
     "data": {
      "image/png": "[encoded data removed]",
      "text/plain": [
       "<Figure size 1080x432 with 1 Axes>"
      ]
     },
     "metadata": {},
     "output_type": "display_data"
    }
   ],
   "source": [
    "confirmed_df[[\"new_cases\", \"rolling_mean_new_cases\"]].plot()"
   ]
  },
  {
   "cell_type": "markdown",
   "metadata": {
    "execution": {
     "iopub.execute_input": "2020-08-30T22:30:16.351238Z",
     "iopub.status.busy": "2020-08-30T22:30:16.344579Z",
     "iopub.status.idle": "2020-08-30T22:30:16.354285Z",
     "shell.execute_reply": "2020-08-30T22:30:16.353641Z"
    },
    "papermill": {
     "duration": 0.022541,
     "end_time": "2020-09-15T10:18:51.037196",
     "exception": false,
     "start_time": "2020-09-15T10:18:51.014655",
     "status": "completed"
    },
    "pycharm": {
     "name": "#%% md\n"
    },
    "tags": []
   },
   "source": [
    "### Extract API TEKs"
   ]
  },
  {
   "cell_type": "code",
   "execution_count": 8,
   "metadata": {
    "execution": {
     "iopub.execute_input": "2020-09-15T10:18:51.086061Z",
     "iopub.status.busy": "2020-09-15T10:18:51.085559Z",
     "iopub.status.idle": "2020-09-15T10:18:51.462461Z",
     "shell.execute_reply": "2020-09-15T10:18:51.462019Z"
    },
    "papermill": {
     "duration": 0.40278,
     "end_time": "2020-09-15T10:18:51.462582",
     "exception": false,
     "start_time": "2020-09-15T10:18:51.059802",
     "status": "completed"
    },
    "pycharm": {
     "name": "#%%\n"
    },
    "tags": []
   },
   "outputs": [
    {
     "name": "stderr",
     "output_type": "stream",
     "text": [
      "WARNING:root:NoDataFoundForDateException(\"No exposed tokens found for day '2020-09-15'.\")\n"
     ]
    },
    {
     "data": {
      "text/html": [
       "<div>\n",
       "<style scoped>\n",
       "    .dataframe tbody tr th:only-of-type {\n",
       "        vertical-align: middle;\n",
       "    }\n",
       "\n",
       "    .dataframe tbody tr th {\n",
       "        vertical-align: top;\n",
       "    }\n",
       "\n",
       "    .dataframe thead th {\n",
       "        text-align: right;\n",
       "    }\n",
       "</style>\n",
       "<table border=\"1\" class=\"dataframe\">\n",
       "  <thead>\n",
       "    <tr style=\"text-align: right;\">\n",
       "      <th></th>\n",
       "      <th>sample_date_string</th>\n",
       "      <th>source_url</th>\n",
       "      <th>region</th>\n",
       "      <th>key_data</th>\n",
       "    </tr>\n",
       "  </thead>\n",
       "  <tbody>\n",
       "    <tr>\n",
       "      <th>0</th>\n",
       "      <td>2020-09-14</td>\n",
       "      <td>https://radarcovid.covid19.gob.es/dp3t/v1/gaen...</td>\n",
       "      <td>ES</td>\n",
       "      <td>171fb4cf-fde2-1d53-104b-2829abe129e8</td>\n",
       "    </tr>\n",
       "    <tr>\n",
       "      <th>1</th>\n",
       "      <td>2020-09-14</td>\n",
       "      <td>https://radarcovid.covid19.gob.es/dp3t/v1/gaen...</td>\n",
       "      <td>ES</td>\n",
       "      <td>ecf2ee29-733d-8cd6-fd22-8c40d5fa6c73</td>\n",
       "    </tr>\n",
       "    <tr>\n",
       "      <th>2</th>\n",
       "      <td>2020-09-14</td>\n",
       "      <td>https://radarcovid.covid19.gob.es/dp3t/v1/gaen...</td>\n",
       "      <td>ES</td>\n",
       "      <td>09a5eb30-c471-a232-81f8-8a8255623376</td>\n",
       "    </tr>\n",
       "    <tr>\n",
       "      <th>3</th>\n",
       "      <td>2020-09-14</td>\n",
       "      <td>https://radarcovid.covid19.gob.es/dp3t/v1/gaen...</td>\n",
       "      <td>ES</td>\n",
       "      <td>e8c440d9-5278-1d4d-a4dc-261bde505184</td>\n",
       "    </tr>\n",
       "    <tr>\n",
       "      <th>4</th>\n",
       "      <td>2020-09-14</td>\n",
       "      <td>https://radarcovid.covid19.gob.es/dp3t/v1/gaen...</td>\n",
       "      <td>ES</td>\n",
       "      <td>e6844518-9d44-cb5e-81e5-0608b047f4bb</td>\n",
       "    </tr>\n",
       "  </tbody>\n",
       "</table>\n",
       "</div>"
      ],
      "text/plain": [
       "  sample_date_string                                         source_url  \\\n",
       "0         2020-09-14  https://radarcovid.covid19.gob.es/dp3t/v1/gaen...   \n",
       "1         2020-09-14  https://radarcovid.covid19.gob.es/dp3t/v1/gaen...   \n",
       "2         2020-09-14  https://radarcovid.covid19.gob.es/dp3t/v1/gaen...   \n",
       "3         2020-09-14  https://radarcovid.covid19.gob.es/dp3t/v1/gaen...   \n",
       "4         2020-09-14  https://radarcovid.covid19.gob.es/dp3t/v1/gaen...   \n",
       "\n",
       "  region                              key_data  \n",
       "0     ES  171fb4cf-fde2-1d53-104b-2829abe129e8  \n",
       "1     ES  ecf2ee29-733d-8cd6-fd22-8c40d5fa6c73  \n",
       "2     ES  09a5eb30-c471-a232-81f8-8a8255623376  \n",
       "3     ES  e8c440d9-5278-1d4d-a4dc-261bde505184  \n",
       "4     ES  e6844518-9d44-cb5e-81e5-0608b047f4bb  "
      ]
     },
     "execution_count": 8,
     "metadata": {},
     "output_type": "execute_result"
    }
   ],
   "source": [
    "from Modules.RadarCOVID import radar_covid\n",
    "\n",
    "exposure_keys_df = radar_covid.download_last_radar_covid_exposure_keys(days=14)\n",
    "exposure_keys_df[[\n",
    "    \"sample_date_string\", \"source_url\", \"region\", \"key_data\"]].head()"
   ]
  },
  {
   "cell_type": "code",
   "execution_count": 9,
   "metadata": {
    "execution": {
     "iopub.execute_input": "2020-09-15T10:18:51.515720Z",
     "iopub.status.busy": "2020-09-15T10:18:51.513271Z",
     "iopub.status.idle": "2020-09-15T10:18:51.522693Z",
     "shell.execute_reply": "2020-09-15T10:18:51.523167Z"
    },
    "papermill": {
     "duration": 0.037953,
     "end_time": "2020-09-15T10:18:51.523285",
     "exception": false,
     "start_time": "2020-09-15T10:18:51.485332",
     "status": "completed"
    },
    "scrolled": false,
    "tags": []
   },
   "outputs": [
    {
     "data": {
      "text/html": [
       "<div>\n",
       "<style scoped>\n",
       "    .dataframe tbody tr th:only-of-type {\n",
       "        vertical-align: middle;\n",
       "    }\n",
       "\n",
       "    .dataframe tbody tr th {\n",
       "        vertical-align: top;\n",
       "    }\n",
       "\n",
       "    .dataframe thead th {\n",
       "        text-align: right;\n",
       "    }\n",
       "</style>\n",
       "<table border=\"1\" class=\"dataframe\">\n",
       "  <thead>\n",
       "    <tr style=\"text-align: right;\">\n",
       "      <th></th>\n",
       "      <th>tek_count</th>\n",
       "    </tr>\n",
       "    <tr>\n",
       "      <th>sample_date_string</th>\n",
       "      <th></th>\n",
       "    </tr>\n",
       "  </thead>\n",
       "  <tbody>\n",
       "    <tr>\n",
       "      <th>2020-09-14</th>\n",
       "      <td>13</td>\n",
       "    </tr>\n",
       "    <tr>\n",
       "      <th>2020-09-13</th>\n",
       "      <td>30</td>\n",
       "    </tr>\n",
       "    <tr>\n",
       "      <th>2020-09-12</th>\n",
       "      <td>42</td>\n",
       "    </tr>\n",
       "    <tr>\n",
       "      <th>2020-09-11</th>\n",
       "      <td>59</td>\n",
       "    </tr>\n",
       "    <tr>\n",
       "      <th>2020-09-10</th>\n",
       "      <td>61</td>\n",
       "    </tr>\n",
       "  </tbody>\n",
       "</table>\n",
       "</div>"
      ],
      "text/plain": [
       "                    tek_count\n",
       "sample_date_string           \n",
       "2020-09-14                 13\n",
       "2020-09-13                 30\n",
       "2020-09-12                 42\n",
       "2020-09-11                 59\n",
       "2020-09-10                 61"
      ]
     },
     "execution_count": 9,
     "metadata": {},
     "output_type": "execute_result"
    }
   ],
   "source": [
    "exposure_keys_summary_df = \\\n",
    "    exposure_keys_df.groupby([\"sample_date_string\"]).key_data.nunique().to_frame()\n",
    "exposure_keys_summary_df.sort_index(ascending=False, inplace=True)\n",
    "exposure_keys_summary_df.rename(columns={\"key_data\": \"tek_count\"}, inplace=True)\n",
    "exposure_keys_summary_df.head()"
   ]
  },
  {
   "cell_type": "markdown",
   "metadata": {
    "papermill": {
     "duration": 0.022502,
     "end_time": "2020-09-15T10:18:51.569882",
     "exception": false,
     "start_time": "2020-09-15T10:18:51.547380",
     "status": "completed"
    },
    "tags": []
   },
   "source": [
    "### Dump API TEKs"
   ]
  },
  {
   "cell_type": "code",
   "execution_count": 10,
   "metadata": {
    "execution": {
     "iopub.execute_input": "2020-09-15T10:18:51.624620Z",
     "iopub.status.busy": "2020-09-15T10:18:51.624073Z",
     "iopub.status.idle": "2020-09-15T10:18:51.644741Z",
     "shell.execute_reply": "2020-09-15T10:18:51.645330Z"
    },
    "papermill": {
     "duration": 0.052872,
     "end_time": "2020-09-15T10:18:51.645495",
     "exception": false,
     "start_time": "2020-09-15T10:18:51.592623",
     "status": "completed"
    },
    "tags": []
   },
   "outputs": [
    {
     "data": {
      "text/html": [
       "<div>\n",
       "<style scoped>\n",
       "    .dataframe tbody tr th:only-of-type {\n",
       "        vertical-align: middle;\n",
       "    }\n",
       "\n",
       "    .dataframe tbody tr th {\n",
       "        vertical-align: top;\n",
       "    }\n",
       "\n",
       "    .dataframe thead th {\n",
       "        text-align: right;\n",
       "    }\n",
       "</style>\n",
       "<table border=\"1\" class=\"dataframe\">\n",
       "  <thead>\n",
       "    <tr style=\"text-align: right;\">\n",
       "      <th></th>\n",
       "      <th>sample_date</th>\n",
       "      <th>tek_list</th>\n",
       "      <th>extraction_date</th>\n",
       "      <th>extraction_date_with_hour</th>\n",
       "    </tr>\n",
       "  </thead>\n",
       "  <tbody>\n",
       "    <tr>\n",
       "      <th>0</th>\n",
       "      <td>2020-09-02</td>\n",
       "      <td>[e7b21385-b031-c811-3c21-c1b59c68345e, 171db28...</td>\n",
       "      <td>2020-09-15</td>\n",
       "      <td>2020-09-15@10</td>\n",
       "    </tr>\n",
       "    <tr>\n",
       "      <th>1</th>\n",
       "      <td>2020-09-03</td>\n",
       "      <td>[a5a9d4ca-e0e9-06e0-7da4-69c63706eb57, ac544fd...</td>\n",
       "      <td>2020-09-15</td>\n",
       "      <td>2020-09-15@10</td>\n",
       "    </tr>\n",
       "    <tr>\n",
       "      <th>2</th>\n",
       "      <td>2020-09-04</td>\n",
       "      <td>[98aa2cae-2aa8-2211-af28-d71ebe061675, a2a0a01...</td>\n",
       "      <td>2020-09-15</td>\n",
       "      <td>2020-09-15@10</td>\n",
       "    </tr>\n",
       "    <tr>\n",
       "      <th>3</th>\n",
       "      <td>2020-09-05</td>\n",
       "      <td>[2630f115-d3d6-6d09-c4c3-761802f15ab9, 6634443...</td>\n",
       "      <td>2020-09-15</td>\n",
       "      <td>2020-09-15@10</td>\n",
       "    </tr>\n",
       "    <tr>\n",
       "      <th>4</th>\n",
       "      <td>2020-09-06</td>\n",
       "      <td>[385e7ed2-4285-fcfd-18e4-3197e44fc261, d484384...</td>\n",
       "      <td>2020-09-15</td>\n",
       "      <td>2020-09-15@10</td>\n",
       "    </tr>\n",
       "  </tbody>\n",
       "</table>\n",
       "</div>"
      ],
      "text/plain": [
       "  sample_date                                           tek_list  \\\n",
       "0  2020-09-02  [e7b21385-b031-c811-3c21-c1b59c68345e, 171db28...   \n",
       "1  2020-09-03  [a5a9d4ca-e0e9-06e0-7da4-69c63706eb57, ac544fd...   \n",
       "2  2020-09-04  [98aa2cae-2aa8-2211-af28-d71ebe061675, a2a0a01...   \n",
       "3  2020-09-05  [2630f115-d3d6-6d09-c4c3-761802f15ab9, 6634443...   \n",
       "4  2020-09-06  [385e7ed2-4285-fcfd-18e4-3197e44fc261, d484384...   \n",
       "\n",
       "  extraction_date extraction_date_with_hour  \n",
       "0      2020-09-15             2020-09-15@10  \n",
       "1      2020-09-15             2020-09-15@10  \n",
       "2      2020-09-15             2020-09-15@10  \n",
       "3      2020-09-15             2020-09-15@10  \n",
       "4      2020-09-15             2020-09-15@10  "
      ]
     },
     "execution_count": 10,
     "metadata": {},
     "output_type": "execute_result"
    }
   ],
   "source": [
    "tek_list_df = exposure_keys_df[[\"sample_date_string\", \"key_data\"]].copy()\n",
    "tek_list_df[\"key_data\"] = tek_list_df[\"key_data\"].apply(str)\n",
    "tek_list_df.rename(columns={\n",
    "    \"sample_date_string\": \"sample_date\",\n",
    "    \"key_data\": \"tek_list\"}, inplace=True)\n",
    "tek_list_df = tek_list_df.groupby(\n",
    "    \"sample_date\").tek_list.unique().reset_index()\n",
    "tek_list_df[\"extraction_date\"] = extraction_date\n",
    "tek_list_df[\"extraction_date_with_hour\"] = extraction_date_with_hour\n",
    "tek_list_df.drop(columns=[\"extraction_date\", \"extraction_date_with_hour\"]).to_json(\n",
    "    \"Data/TEKs/Current/RadarCOVID-TEKs.json\",\n",
    "    lines=True, orient=\"records\")\n",
    "tek_list_df.drop(columns=[\"extraction_date_with_hour\"]).to_json(\n",
    "    \"Data/TEKs/Daily/RadarCOVID-TEKs-\" + extraction_date + \".json\",\n",
    "    lines=True, orient=\"records\")\n",
    "tek_list_df.to_json(\n",
    "    \"Data/TEKs/Hourly/RadarCOVID-TEKs-\" + extraction_date_with_hour + \".json\",\n",
    "    lines=True, orient=\"records\")\n",
    "tek_list_df.head()"
   ]
  },
  {
   "cell_type": "markdown",
   "metadata": {
    "papermill": {
     "duration": 0.023655,
     "end_time": "2020-09-15T10:18:51.693494",
     "exception": false,
     "start_time": "2020-09-15T10:18:51.669839",
     "status": "completed"
    },
    "tags": []
   },
   "source": [
    "### Load TEK Dumps"
   ]
  },
  {
   "cell_type": "code",
   "execution_count": 11,
   "metadata": {
    "execution": {
     "iopub.execute_input": "2020-09-15T10:18:51.746505Z",
     "iopub.status.busy": "2020-09-15T10:18:51.745605Z",
     "iopub.status.idle": "2020-09-15T10:18:51.748186Z",
     "shell.execute_reply": "2020-09-15T10:18:51.747695Z"
    },
    "papermill": {
     "duration": 0.030761,
     "end_time": "2020-09-15T10:18:51.748296",
     "exception": false,
     "start_time": "2020-09-15T10:18:51.717535",
     "status": "completed"
    },
    "tags": []
   },
   "outputs": [],
   "source": [
    "import glob\n",
    "\n",
    "def load_extracted_teks(mode, limit=None) -> pd.DataFrame:\n",
    "    extracted_teks_df = pd.DataFrame()\n",
    "    paths = list(reversed(sorted(glob.glob(f\"Data/TEKs/{mode}/RadarCOVID-TEKs-*.json\"))))\n",
    "    if limit:\n",
    "        paths = paths[:limit]\n",
    "    for path in paths:\n",
    "        logging.info(f\"Loading TEKs from '{path}'...\")\n",
    "        iteration_extracted_teks_df = pd.read_json(path, lines=True)\n",
    "        extracted_teks_df = extracted_teks_df.append(\n",
    "            iteration_extracted_teks_df, sort=False)\n",
    "    return extracted_teks_df"
   ]
  },
  {
   "cell_type": "markdown",
   "metadata": {
    "execution": {
     "iopub.execute_input": "2020-08-30T22:30:16.632967Z",
     "iopub.status.busy": "2020-08-30T22:30:16.632308Z",
     "iopub.status.idle": "2020-08-30T22:30:16.634945Z",
     "shell.execute_reply": "2020-08-30T22:30:16.635575Z"
    },
    "papermill": {
     "duration": 0.023171,
     "end_time": "2020-09-15T10:18:51.794195",
     "exception": false,
     "start_time": "2020-09-15T10:18:51.771024",
     "status": "completed"
    },
    "pycharm": {
     "name": "#%% md\n"
    },
    "tags": []
   },
   "source": [
    "### Daily New TEKs"
   ]
  },
  {
   "cell_type": "code",
   "execution_count": 12,
   "metadata": {
    "execution": {
     "iopub.execute_input": "2020-09-15T10:18:51.845215Z",
     "iopub.status.busy": "2020-09-15T10:18:51.844682Z",
     "iopub.status.idle": "2020-09-15T10:18:51.918008Z",
     "shell.execute_reply": "2020-09-15T10:18:51.918507Z"
    },
    "papermill": {
     "duration": 0.101329,
     "end_time": "2020-09-15T10:18:51.918644",
     "exception": false,
     "start_time": "2020-09-15T10:18:51.817315",
     "status": "completed"
    },
    "tags": []
   },
   "outputs": [
    {
     "data": {
      "text/html": [
       "<div>\n",
       "<style scoped>\n",
       "    .dataframe tbody tr th:only-of-type {\n",
       "        vertical-align: middle;\n",
       "    }\n",
       "\n",
       "    .dataframe tbody tr th {\n",
       "        vertical-align: top;\n",
       "    }\n",
       "\n",
       "    .dataframe thead th {\n",
       "        text-align: right;\n",
       "    }\n",
       "</style>\n",
       "<table border=\"1\" class=\"dataframe\">\n",
       "  <thead>\n",
       "    <tr style=\"text-align: right;\">\n",
       "      <th></th>\n",
       "      <th>sample_date</th>\n",
       "      <th>tek_list</th>\n",
       "      <th>extraction_date</th>\n",
       "    </tr>\n",
       "  </thead>\n",
       "  <tbody>\n",
       "    <tr>\n",
       "      <th>0</th>\n",
       "      <td>2020-09-02</td>\n",
       "      <td>[e7b21385-b031-c811-3c21-c1b59c68345e, 171db28...</td>\n",
       "      <td>2020-09-15</td>\n",
       "    </tr>\n",
       "    <tr>\n",
       "      <th>1</th>\n",
       "      <td>2020-09-03</td>\n",
       "      <td>[a5a9d4ca-e0e9-06e0-7da4-69c63706eb57, ac544fd...</td>\n",
       "      <td>2020-09-15</td>\n",
       "    </tr>\n",
       "    <tr>\n",
       "      <th>2</th>\n",
       "      <td>2020-09-04</td>\n",
       "      <td>[98aa2cae-2aa8-2211-af28-d71ebe061675, a2a0a01...</td>\n",
       "      <td>2020-09-15</td>\n",
       "    </tr>\n",
       "    <tr>\n",
       "      <th>3</th>\n",
       "      <td>2020-09-05</td>\n",
       "      <td>[2630f115-d3d6-6d09-c4c3-761802f15ab9, 6634443...</td>\n",
       "      <td>2020-09-15</td>\n",
       "    </tr>\n",
       "    <tr>\n",
       "      <th>4</th>\n",
       "      <td>2020-09-06</td>\n",
       "      <td>[385e7ed2-4285-fcfd-18e4-3197e44fc261, d484384...</td>\n",
       "      <td>2020-09-15</td>\n",
       "    </tr>\n",
       "  </tbody>\n",
       "</table>\n",
       "</div>"
      ],
      "text/plain": [
       "  sample_date                                           tek_list  \\\n",
       "0  2020-09-02  [e7b21385-b031-c811-3c21-c1b59c68345e, 171db28...   \n",
       "1  2020-09-03  [a5a9d4ca-e0e9-06e0-7da4-69c63706eb57, ac544fd...   \n",
       "2  2020-09-04  [98aa2cae-2aa8-2211-af28-d71ebe061675, a2a0a01...   \n",
       "3  2020-09-05  [2630f115-d3d6-6d09-c4c3-761802f15ab9, 6634443...   \n",
       "4  2020-09-06  [385e7ed2-4285-fcfd-18e4-3197e44fc261, d484384...   \n",
       "\n",
       "  extraction_date  \n",
       "0      2020-09-15  \n",
       "1      2020-09-15  \n",
       "2      2020-09-15  \n",
       "3      2020-09-15  \n",
       "4      2020-09-15  "
      ]
     },
     "execution_count": 12,
     "metadata": {},
     "output_type": "execute_result"
    }
   ],
   "source": [
    "daily_extracted_teks_df = load_extracted_teks(mode=\"Daily\", limit=14)\n",
    "daily_extracted_teks_df.head()"
   ]
  },
  {
   "cell_type": "code",
   "execution_count": 13,
   "metadata": {
    "execution": {
     "iopub.execute_input": "2020-09-15T10:18:51.973195Z",
     "iopub.status.busy": "2020-09-15T10:18:51.972641Z",
     "iopub.status.idle": "2020-09-15T10:18:51.987935Z",
     "shell.execute_reply": "2020-09-15T10:18:51.988409Z"
    },
    "papermill": {
     "duration": 0.045225,
     "end_time": "2020-09-15T10:18:51.988527",
     "exception": false,
     "start_time": "2020-09-15T10:18:51.943302",
     "status": "completed"
    },
    "tags": []
   },
   "outputs": [
    {
     "data": {
      "text/html": [
       "<div>\n",
       "<style scoped>\n",
       "    .dataframe tbody tr th:only-of-type {\n",
       "        vertical-align: middle;\n",
       "    }\n",
       "\n",
       "    .dataframe tbody tr th {\n",
       "        vertical-align: top;\n",
       "    }\n",
       "\n",
       "    .dataframe thead th {\n",
       "        text-align: right;\n",
       "    }\n",
       "</style>\n",
       "<table border=\"1\" class=\"dataframe\">\n",
       "  <thead>\n",
       "    <tr style=\"text-align: right;\">\n",
       "      <th></th>\n",
       "      <th>tek_list</th>\n",
       "    </tr>\n",
       "    <tr>\n",
       "      <th>extraction_date</th>\n",
       "      <th></th>\n",
       "    </tr>\n",
       "  </thead>\n",
       "  <tbody>\n",
       "    <tr>\n",
       "      <th>2020-09-02</th>\n",
       "      <td>{19248455-95be-e502-2435-c6f6ea5c7b21, 92e65a3...</td>\n",
       "    </tr>\n",
       "    <tr>\n",
       "      <th>2020-09-03</th>\n",
       "      <td>{19248455-95be-e502-2435-c6f6ea5c7b21, 92e65a3...</td>\n",
       "    </tr>\n",
       "    <tr>\n",
       "      <th>2020-09-04</th>\n",
       "      <td>{19248455-95be-e502-2435-c6f6ea5c7b21, 92e65a3...</td>\n",
       "    </tr>\n",
       "    <tr>\n",
       "      <th>2020-09-05</th>\n",
       "      <td>{19248455-95be-e502-2435-c6f6ea5c7b21, 92e65a3...</td>\n",
       "    </tr>\n",
       "    <tr>\n",
       "      <th>2020-09-06</th>\n",
       "      <td>{19248455-95be-e502-2435-c6f6ea5c7b21, d162433...</td>\n",
       "    </tr>\n",
       "  </tbody>\n",
       "</table>\n",
       "</div>"
      ],
      "text/plain": [
       "                                                          tek_list\n",
       "extraction_date                                                   \n",
       "2020-09-02       {19248455-95be-e502-2435-c6f6ea5c7b21, 92e65a3...\n",
       "2020-09-03       {19248455-95be-e502-2435-c6f6ea5c7b21, 92e65a3...\n",
       "2020-09-04       {19248455-95be-e502-2435-c6f6ea5c7b21, 92e65a3...\n",
       "2020-09-05       {19248455-95be-e502-2435-c6f6ea5c7b21, 92e65a3...\n",
       "2020-09-06       {19248455-95be-e502-2435-c6f6ea5c7b21, d162433..."
      ]
     },
     "execution_count": 13,
     "metadata": {},
     "output_type": "execute_result"
    }
   ],
   "source": [
    "tek_list_df = daily_extracted_teks_df.groupby(\"extraction_date\").tek_list.apply(\n",
    "    lambda x: set(sum(x, []))).reset_index()\n",
    "tek_list_df = tek_list_df.set_index(\"extraction_date\").sort_index(ascending=True)\n",
    "tek_list_df.head()"
   ]
  },
  {
   "cell_type": "code",
   "execution_count": 14,
   "metadata": {
    "execution": {
     "iopub.execute_input": "2020-09-15T10:18:52.048421Z",
     "iopub.status.busy": "2020-09-15T10:18:52.047889Z",
     "iopub.status.idle": "2020-09-15T10:18:52.051275Z",
     "shell.execute_reply": "2020-09-15T10:18:52.051751Z"
    },
    "papermill": {
     "duration": 0.037679,
     "end_time": "2020-09-15T10:18:52.051880",
     "exception": false,
     "start_time": "2020-09-15T10:18:52.014201",
     "status": "completed"
    },
    "tags": []
   },
   "outputs": [
    {
     "data": {
      "text/html": [
       "<div>\n",
       "<style scoped>\n",
       "    .dataframe tbody tr th:only-of-type {\n",
       "        vertical-align: middle;\n",
       "    }\n",
       "\n",
       "    .dataframe tbody tr th {\n",
       "        vertical-align: top;\n",
       "    }\n",
       "\n",
       "    .dataframe thead th {\n",
       "        text-align: right;\n",
       "    }\n",
       "</style>\n",
       "<table border=\"1\" class=\"dataframe\">\n",
       "  <thead>\n",
       "    <tr style=\"text-align: right;\">\n",
       "      <th></th>\n",
       "      <th>sample_date_string</th>\n",
       "      <th>new_tek_count</th>\n",
       "    </tr>\n",
       "  </thead>\n",
       "  <tbody>\n",
       "    <tr>\n",
       "      <th>0</th>\n",
       "      <td>2020-09-02</td>\n",
       "      <td>NaN</td>\n",
       "    </tr>\n",
       "    <tr>\n",
       "      <th>1</th>\n",
       "      <td>2020-09-03</td>\n",
       "      <td>49.0</td>\n",
       "    </tr>\n",
       "    <tr>\n",
       "      <th>2</th>\n",
       "      <td>2020-09-04</td>\n",
       "      <td>58.0</td>\n",
       "    </tr>\n",
       "    <tr>\n",
       "      <th>3</th>\n",
       "      <td>2020-09-05</td>\n",
       "      <td>40.0</td>\n",
       "    </tr>\n",
       "    <tr>\n",
       "      <th>4</th>\n",
       "      <td>2020-09-06</td>\n",
       "      <td>60.0</td>\n",
       "    </tr>\n",
       "  </tbody>\n",
       "</table>\n",
       "</div>"
      ],
      "text/plain": [
       "  sample_date_string  new_tek_count\n",
       "0         2020-09-02            NaN\n",
       "1         2020-09-03           49.0\n",
       "2         2020-09-04           58.0\n",
       "3         2020-09-05           40.0\n",
       "4         2020-09-06           60.0"
      ]
     },
     "execution_count": 14,
     "metadata": {},
     "output_type": "execute_result"
    }
   ],
   "source": [
    "new_tek_df = tek_list_df.diff().tek_list.apply(\n",
    "    lambda x: len(x) if not pd.isna(x) else None).to_frame().reset_index()\n",
    "new_tek_df.rename(columns={\n",
    "    \"tek_list\": \"new_tek_count\",\n",
    "    \"extraction_date\": \"sample_date_string\",}, inplace=True)\n",
    "new_tek_df.head()"
   ]
  },
  {
   "cell_type": "code",
   "execution_count": 15,
   "metadata": {
    "execution": {
     "iopub.execute_input": "2020-09-15T10:18:52.116452Z",
     "iopub.status.busy": "2020-09-15T10:18:52.110327Z",
     "iopub.status.idle": "2020-09-15T10:18:52.119218Z",
     "shell.execute_reply": "2020-09-15T10:18:52.119646Z"
    },
    "papermill": {
     "duration": 0.041807,
     "end_time": "2020-09-15T10:18:52.119763",
     "exception": false,
     "start_time": "2020-09-15T10:18:52.077956",
     "status": "completed"
    },
    "pycharm": {
     "name": "#%%\n"
    },
    "tags": []
   },
   "outputs": [
    {
     "data": {
      "text/html": [
       "<div>\n",
       "<style scoped>\n",
       "    .dataframe tbody tr th:only-of-type {\n",
       "        vertical-align: middle;\n",
       "    }\n",
       "\n",
       "    .dataframe tbody tr th {\n",
       "        vertical-align: top;\n",
       "    }\n",
       "\n",
       "    .dataframe thead th {\n",
       "        text-align: right;\n",
       "    }\n",
       "</style>\n",
       "<table border=\"1\" class=\"dataframe\">\n",
       "  <thead>\n",
       "    <tr style=\"text-align: right;\">\n",
       "      <th></th>\n",
       "      <th>sample_date</th>\n",
       "      <th>tek_list</th>\n",
       "      <th>extraction_date</th>\n",
       "      <th>new_sample_extraction_date</th>\n",
       "    </tr>\n",
       "  </thead>\n",
       "  <tbody>\n",
       "    <tr>\n",
       "      <th>12</th>\n",
       "      <td>2020-09-14</td>\n",
       "      <td>[171fb4cf-fde2-1d53-104b-2829abe129e8, ecf2ee2...</td>\n",
       "      <td>2020-09-15</td>\n",
       "      <td>2020-09-15</td>\n",
       "    </tr>\n",
       "    <tr>\n",
       "      <th>12</th>\n",
       "      <td>2020-09-13</td>\n",
       "      <td>[505d0ee6-f270-c93c-754d-1b8a5d8a4a27, 7a3b8a8...</td>\n",
       "      <td>2020-09-14</td>\n",
       "      <td>2020-09-14</td>\n",
       "    </tr>\n",
       "    <tr>\n",
       "      <th>12</th>\n",
       "      <td>2020-09-12</td>\n",
       "      <td>[b6e3bd50-c556-ff3b-56af-0fe6d728dc4b, 213621e...</td>\n",
       "      <td>2020-09-13</td>\n",
       "      <td>2020-09-13</td>\n",
       "    </tr>\n",
       "    <tr>\n",
       "      <th>12</th>\n",
       "      <td>2020-09-11</td>\n",
       "      <td>[37f3f2da-307f-8df3-01ba-e05b5aee182e, 6d3415f...</td>\n",
       "      <td>2020-09-12</td>\n",
       "      <td>2020-09-12</td>\n",
       "    </tr>\n",
       "    <tr>\n",
       "      <th>12</th>\n",
       "      <td>2020-09-10</td>\n",
       "      <td>[3563b5ee-261b-4293-ef7c-022c552ac0b2, c8c52d1...</td>\n",
       "      <td>2020-09-11</td>\n",
       "      <td>2020-09-11</td>\n",
       "    </tr>\n",
       "  </tbody>\n",
       "</table>\n",
       "</div>"
      ],
      "text/plain": [
       "   sample_date                                           tek_list  \\\n",
       "12  2020-09-14  [171fb4cf-fde2-1d53-104b-2829abe129e8, ecf2ee2...   \n",
       "12  2020-09-13  [505d0ee6-f270-c93c-754d-1b8a5d8a4a27, 7a3b8a8...   \n",
       "12  2020-09-12  [b6e3bd50-c556-ff3b-56af-0fe6d728dc4b, 213621e...   \n",
       "12  2020-09-11  [37f3f2da-307f-8df3-01ba-e05b5aee182e, 6d3415f...   \n",
       "12  2020-09-10  [3563b5ee-261b-4293-ef7c-022c552ac0b2, c8c52d1...   \n",
       "\n",
       "   extraction_date new_sample_extraction_date  \n",
       "12      2020-09-15                 2020-09-15  \n",
       "12      2020-09-14                 2020-09-14  \n",
       "12      2020-09-13                 2020-09-13  \n",
       "12      2020-09-12                 2020-09-12  \n",
       "12      2020-09-11                 2020-09-11  "
      ]
     },
     "execution_count": 15,
     "metadata": {},
     "output_type": "execute_result"
    }
   ],
   "source": [
    "new_tek_devices_df = daily_extracted_teks_df.copy()\n",
    "new_tek_devices_df[\"new_sample_extraction_date\"] = \\\n",
    "    pd.to_datetime(new_tek_devices_df.sample_date) + datetime.timedelta(1)\n",
    "new_tek_devices_df[\"extraction_date\"] = pd.to_datetime(new_tek_devices_df.extraction_date)\n",
    "\n",
    "new_tek_devices_df = new_tek_devices_df[\n",
    "    new_tek_devices_df.new_sample_extraction_date == new_tek_devices_df.extraction_date]\n",
    "new_tek_devices_df.head()"
   ]
  },
  {
   "cell_type": "code",
   "execution_count": 16,
   "metadata": {
    "execution": {
     "iopub.execute_input": "2020-09-15T10:18:52.181264Z",
     "iopub.status.busy": "2020-09-15T10:18:52.179504Z",
     "iopub.status.idle": "2020-09-15T10:18:52.184128Z",
     "shell.execute_reply": "2020-09-15T10:18:52.184532Z"
    },
    "papermill": {
     "duration": 0.040736,
     "end_time": "2020-09-15T10:18:52.184656",
     "exception": false,
     "start_time": "2020-09-15T10:18:52.143920",
     "status": "completed"
    },
    "tags": []
   },
   "outputs": [
    {
     "data": {
      "text/html": [
       "<div>\n",
       "<style scoped>\n",
       "    .dataframe tbody tr th:only-of-type {\n",
       "        vertical-align: middle;\n",
       "    }\n",
       "\n",
       "    .dataframe tbody tr th {\n",
       "        vertical-align: top;\n",
       "    }\n",
       "\n",
       "    .dataframe thead th {\n",
       "        text-align: right;\n",
       "    }\n",
       "</style>\n",
       "<table border=\"1\" class=\"dataframe\">\n",
       "  <thead>\n",
       "    <tr style=\"text-align: right;\">\n",
       "      <th></th>\n",
       "      <th>sample_date_string</th>\n",
       "      <th>new_tek_devices</th>\n",
       "    </tr>\n",
       "  </thead>\n",
       "  <tbody>\n",
       "    <tr>\n",
       "      <th>0</th>\n",
       "      <td>2020-09-15</td>\n",
       "      <td>13</td>\n",
       "    </tr>\n",
       "    <tr>\n",
       "      <th>1</th>\n",
       "      <td>2020-09-14</td>\n",
       "      <td>28</td>\n",
       "    </tr>\n",
       "    <tr>\n",
       "      <th>2</th>\n",
       "      <td>2020-09-13</td>\n",
       "      <td>32</td>\n",
       "    </tr>\n",
       "    <tr>\n",
       "      <th>3</th>\n",
       "      <td>2020-09-12</td>\n",
       "      <td>33</td>\n",
       "    </tr>\n",
       "    <tr>\n",
       "      <th>4</th>\n",
       "      <td>2020-09-11</td>\n",
       "      <td>19</td>\n",
       "    </tr>\n",
       "  </tbody>\n",
       "</table>\n",
       "</div>"
      ],
      "text/plain": [
       "  sample_date_string  new_tek_devices\n",
       "0         2020-09-15               13\n",
       "1         2020-09-14               28\n",
       "2         2020-09-13               32\n",
       "3         2020-09-12               33\n",
       "4         2020-09-11               19"
      ]
     },
     "execution_count": 16,
     "metadata": {},
     "output_type": "execute_result"
    }
   ],
   "source": [
    "new_tek_devices_df.set_index(\"extraction_date\", inplace=True)\n",
    "new_tek_devices_df = new_tek_devices_df.tek_list.apply(lambda x: len(set(x))).to_frame()\n",
    "new_tek_devices_df.reset_index(inplace=True)\n",
    "new_tek_devices_df.rename(columns={\n",
    "    \"extraction_date\": \"sample_date_string\",\n",
    "    \"tek_list\": \"new_tek_devices\"}, inplace=True)\n",
    "new_tek_devices_df[\"sample_date_string\"] = new_tek_devices_df.sample_date_string.dt.strftime(\"%Y-%m-%d\")\n",
    "new_tek_devices_df.head()"
   ]
  },
  {
   "cell_type": "markdown",
   "metadata": {
    "papermill": {
     "duration": 0.024969,
     "end_time": "2020-09-15T10:18:52.234938",
     "exception": false,
     "start_time": "2020-09-15T10:18:52.209969",
     "status": "completed"
    },
    "pycharm": {
     "name": "#%% md\n"
    },
    "tags": []
   },
   "source": [
    "### Hourly New TEKs"
   ]
  },
  {
   "cell_type": "code",
   "execution_count": 17,
   "metadata": {
    "execution": {
     "iopub.execute_input": "2020-09-15T10:18:52.288441Z",
     "iopub.status.busy": "2020-09-15T10:18:52.287950Z",
     "iopub.status.idle": "2020-09-15T10:18:52.409269Z",
     "shell.execute_reply": "2020-09-15T10:18:52.409721Z"
    },
    "papermill": {
     "duration": 0.15044,
     "end_time": "2020-09-15T10:18:52.409890",
     "exception": false,
     "start_time": "2020-09-15T10:18:52.259450",
     "status": "completed"
    },
    "tags": []
   },
   "outputs": [
    {
     "data": {
      "text/html": [
       "<div>\n",
       "<style scoped>\n",
       "    .dataframe tbody tr th:only-of-type {\n",
       "        vertical-align: middle;\n",
       "    }\n",
       "\n",
       "    .dataframe tbody tr th {\n",
       "        vertical-align: top;\n",
       "    }\n",
       "\n",
       "    .dataframe thead th {\n",
       "        text-align: right;\n",
       "    }\n",
       "</style>\n",
       "<table border=\"1\" class=\"dataframe\">\n",
       "  <thead>\n",
       "    <tr style=\"text-align: right;\">\n",
       "      <th></th>\n",
       "      <th>extraction_date_with_hour</th>\n",
       "      <th>new_tek_count</th>\n",
       "    </tr>\n",
       "  </thead>\n",
       "  <tbody>\n",
       "    <tr>\n",
       "      <th>19</th>\n",
       "      <td>2020-09-15@06</td>\n",
       "      <td>1.0</td>\n",
       "    </tr>\n",
       "    <tr>\n",
       "      <th>20</th>\n",
       "      <td>2020-09-15@07</td>\n",
       "      <td>0.0</td>\n",
       "    </tr>\n",
       "    <tr>\n",
       "      <th>21</th>\n",
       "      <td>2020-09-15@08</td>\n",
       "      <td>9.0</td>\n",
       "    </tr>\n",
       "    <tr>\n",
       "      <th>22</th>\n",
       "      <td>2020-09-15@09</td>\n",
       "      <td>0.0</td>\n",
       "    </tr>\n",
       "    <tr>\n",
       "      <th>23</th>\n",
       "      <td>2020-09-15@10</td>\n",
       "      <td>0.0</td>\n",
       "    </tr>\n",
       "  </tbody>\n",
       "</table>\n",
       "</div>"
      ],
      "text/plain": [
       "   extraction_date_with_hour  new_tek_count\n",
       "19             2020-09-15@06            1.0\n",
       "20             2020-09-15@07            0.0\n",
       "21             2020-09-15@08            9.0\n",
       "22             2020-09-15@09            0.0\n",
       "23             2020-09-15@10            0.0"
      ]
     },
     "execution_count": 17,
     "metadata": {},
     "output_type": "execute_result"
    }
   ],
   "source": [
    "hourly_extracted_teks_df = load_extracted_teks(mode=\"Hourly\", limit=24)\n",
    "hourly_extracted_teks_df.head()\n",
    "\n",
    "hourly_tek_list_df = hourly_extracted_teks_df.groupby(\"extraction_date_with_hour\").tek_list.apply(\n",
    "    lambda x: set(sum(x, []))).reset_index()\n",
    "hourly_tek_list_df = hourly_tek_list_df.set_index(\"extraction_date_with_hour\").sort_index(ascending=True)\n",
    "\n",
    "hourly_new_tek_df = hourly_tek_list_df.diff().tek_list.apply(\n",
    "    lambda x: len(x) if not pd.isna(x) else None).to_frame().reset_index()\n",
    "hourly_new_tek_df.rename(columns={\n",
    "    \"tek_list\": \"new_tek_count\"}, inplace=True)\n",
    "hourly_new_tek_df.tail()"
   ]
  },
  {
   "cell_type": "code",
   "execution_count": 18,
   "metadata": {
    "execution": {
     "iopub.execute_input": "2020-09-15T10:18:52.479442Z",
     "iopub.status.busy": "2020-09-15T10:18:52.472820Z",
     "iopub.status.idle": "2020-09-15T10:18:52.491552Z",
     "shell.execute_reply": "2020-09-15T10:18:52.491126Z"
    },
    "papermill": {
     "duration": 0.054307,
     "end_time": "2020-09-15T10:18:52.491657",
     "exception": false,
     "start_time": "2020-09-15T10:18:52.437350",
     "status": "completed"
    },
    "pycharm": {
     "name": "#%%\n"
    },
    "tags": []
   },
   "outputs": [
    {
     "data": {
      "text/html": [
       "<div>\n",
       "<style scoped>\n",
       "    .dataframe tbody tr th:only-of-type {\n",
       "        vertical-align: middle;\n",
       "    }\n",
       "\n",
       "    .dataframe tbody tr th {\n",
       "        vertical-align: top;\n",
       "    }\n",
       "\n",
       "    .dataframe thead th {\n",
       "        text-align: right;\n",
       "    }\n",
       "</style>\n",
       "<table border=\"1\" class=\"dataframe\">\n",
       "  <thead>\n",
       "    <tr style=\"text-align: right;\">\n",
       "      <th></th>\n",
       "      <th>extraction_date_with_hour</th>\n",
       "      <th>new_tek_devices</th>\n",
       "    </tr>\n",
       "  </thead>\n",
       "  <tbody>\n",
       "    <tr>\n",
       "      <th>17</th>\n",
       "      <td>2020-09-15@06</td>\n",
       "      <td>1.0</td>\n",
       "    </tr>\n",
       "    <tr>\n",
       "      <th>18</th>\n",
       "      <td>2020-09-15@07</td>\n",
       "      <td>0.0</td>\n",
       "    </tr>\n",
       "    <tr>\n",
       "      <th>19</th>\n",
       "      <td>2020-09-15@08</td>\n",
       "      <td>4.0</td>\n",
       "    </tr>\n",
       "    <tr>\n",
       "      <th>20</th>\n",
       "      <td>2020-09-15@09</td>\n",
       "      <td>0.0</td>\n",
       "    </tr>\n",
       "    <tr>\n",
       "      <th>21</th>\n",
       "      <td>2020-09-15@10</td>\n",
       "      <td>0.0</td>\n",
       "    </tr>\n",
       "  </tbody>\n",
       "</table>\n",
       "</div>"
      ],
      "text/plain": [
       "   extraction_date_with_hour  new_tek_devices\n",
       "17             2020-09-15@06              1.0\n",
       "18             2020-09-15@07              0.0\n",
       "19             2020-09-15@08              4.0\n",
       "20             2020-09-15@09              0.0\n",
       "21             2020-09-15@10              0.0"
      ]
     },
     "execution_count": 18,
     "metadata": {},
     "output_type": "execute_result"
    }
   ],
   "source": [
    "hourly_new_tek_devices_df = hourly_extracted_teks_df.copy()\n",
    "hourly_new_tek_devices_df[\"new_sample_extraction_date\"] = \\\n",
    "    pd.to_datetime(hourly_new_tek_devices_df.sample_date) + datetime.timedelta(1)\n",
    "hourly_new_tek_devices_df[\"extraction_date\"] = pd.to_datetime(hourly_new_tek_devices_df.extraction_date)\n",
    "\n",
    "hourly_new_tek_devices_df = hourly_new_tek_devices_df[\n",
    "    hourly_new_tek_devices_df.new_sample_extraction_date == hourly_new_tek_devices_df.extraction_date]\n",
    "\n",
    "hourly_new_tek_devices_df.set_index(\"extraction_date_with_hour\", inplace=True)\n",
    "hourly_new_tek_devices_df_ = pd.DataFrame()\n",
    "\n",
    "for i, chunk_df in hourly_new_tek_devices_df.groupby(\"extraction_date\"):\n",
    "    chunk_df = chunk_df.copy()\n",
    "    chunk_df.sort_index(inplace=True)\n",
    "    chunk_tek_count_df = chunk_df.tek_list.apply(lambda x: len(set(x)))\n",
    "    chunk_df = chunk_tek_count_df.diff().fillna(chunk_tek_count_df).to_frame()\n",
    "    hourly_new_tek_devices_df_ = hourly_new_tek_devices_df_.append(chunk_df)\n",
    "    \n",
    "hourly_new_tek_devices_df = hourly_new_tek_devices_df_\n",
    "hourly_new_tek_devices_df.reset_index(inplace=True)\n",
    "hourly_new_tek_devices_df.rename(columns={\n",
    "    \"tek_list\": \"new_tek_devices\"}, inplace=True)\n",
    "hourly_new_tek_devices_df.tail()"
   ]
  },
  {
   "cell_type": "code",
   "execution_count": 19,
   "metadata": {
    "execution": {
     "iopub.execute_input": "2020-09-15T10:18:52.558306Z",
     "iopub.status.busy": "2020-09-15T10:18:52.557701Z",
     "iopub.status.idle": "2020-09-15T10:18:52.560806Z",
     "shell.execute_reply": "2020-09-15T10:18:52.560246Z"
    },
    "papermill": {
     "duration": 0.04377,
     "end_time": "2020-09-15T10:18:52.560920",
     "exception": false,
     "start_time": "2020-09-15T10:18:52.517150",
     "status": "completed"
    },
    "tags": []
   },
   "outputs": [
    {
     "data": {
      "text/html": [
       "<div>\n",
       "<style scoped>\n",
       "    .dataframe tbody tr th:only-of-type {\n",
       "        vertical-align: middle;\n",
       "    }\n",
       "\n",
       "    .dataframe tbody tr th {\n",
       "        vertical-align: top;\n",
       "    }\n",
       "\n",
       "    .dataframe thead th {\n",
       "        text-align: right;\n",
       "    }\n",
       "</style>\n",
       "<table border=\"1\" class=\"dataframe\">\n",
       "  <thead>\n",
       "    <tr style=\"text-align: right;\">\n",
       "      <th></th>\n",
       "      <th>extraction_date_with_hour</th>\n",
       "      <th>new_tek_count</th>\n",
       "      <th>new_tek_devices</th>\n",
       "    </tr>\n",
       "    <tr>\n",
       "      <th>datetime_utc</th>\n",
       "      <th></th>\n",
       "      <th></th>\n",
       "      <th></th>\n",
       "    </tr>\n",
       "  </thead>\n",
       "  <tbody>\n",
       "    <tr>\n",
       "      <th>2020-09-15 06:00:00</th>\n",
       "      <td>2020-09-15@06</td>\n",
       "      <td>1.0</td>\n",
       "      <td>1.0</td>\n",
       "    </tr>\n",
       "    <tr>\n",
       "      <th>2020-09-15 07:00:00</th>\n",
       "      <td>2020-09-15@07</td>\n",
       "      <td>0.0</td>\n",
       "      <td>0.0</td>\n",
       "    </tr>\n",
       "    <tr>\n",
       "      <th>2020-09-15 08:00:00</th>\n",
       "      <td>2020-09-15@08</td>\n",
       "      <td>9.0</td>\n",
       "      <td>4.0</td>\n",
       "    </tr>\n",
       "    <tr>\n",
       "      <th>2020-09-15 09:00:00</th>\n",
       "      <td>2020-09-15@09</td>\n",
       "      <td>0.0</td>\n",
       "      <td>0.0</td>\n",
       "    </tr>\n",
       "    <tr>\n",
       "      <th>2020-09-15 10:00:00</th>\n",
       "      <td>2020-09-15@10</td>\n",
       "      <td>0.0</td>\n",
       "      <td>0.0</td>\n",
       "    </tr>\n",
       "  </tbody>\n",
       "</table>\n",
       "</div>"
      ],
      "text/plain": [
       "                    extraction_date_with_hour  new_tek_count  new_tek_devices\n",
       "datetime_utc                                                                 \n",
       "2020-09-15 06:00:00             2020-09-15@06            1.0              1.0\n",
       "2020-09-15 07:00:00             2020-09-15@07            0.0              0.0\n",
       "2020-09-15 08:00:00             2020-09-15@08            9.0              4.0\n",
       "2020-09-15 09:00:00             2020-09-15@09            0.0              0.0\n",
       "2020-09-15 10:00:00             2020-09-15@10            0.0              0.0"
      ]
     },
     "execution_count": 19,
     "metadata": {},
     "output_type": "execute_result"
    }
   ],
   "source": [
    "hourly_summary_df = hourly_new_tek_df.merge(\n",
    "    hourly_new_tek_devices_df, on=[\"extraction_date_with_hour\"], how=\"outer\")\n",
    "hourly_summary_df[\"datetime_utc\"] = pd.to_datetime(\n",
    "    hourly_summary_df.extraction_date_with_hour, format=\"%Y-%m-%d@%H\")\n",
    "hourly_summary_df.set_index(\"datetime_utc\", inplace=True)\n",
    "hourly_summary_df.tail()"
   ]
  },
  {
   "cell_type": "markdown",
   "metadata": {
    "execution": {
     "iopub.execute_input": "2020-08-30T22:30:16.982353Z",
     "iopub.status.busy": "2020-08-30T22:30:16.981676Z",
     "iopub.status.idle": "2020-08-30T22:30:16.984837Z",
     "shell.execute_reply": "2020-08-30T22:30:16.985366Z"
    },
    "papermill": {
     "duration": 0.028313,
     "end_time": "2020-09-15T10:18:52.615789",
     "exception": false,
     "start_time": "2020-09-15T10:18:52.587476",
     "status": "completed"
    },
    "pycharm": {
     "name": "#%% md\n"
    },
    "tags": []
   },
   "source": [
    "### Data Merge"
   ]
  },
  {
   "cell_type": "code",
   "execution_count": 20,
   "metadata": {
    "execution": {
     "iopub.execute_input": "2020-09-15T10:18:52.683095Z",
     "iopub.status.busy": "2020-09-15T10:18:52.682557Z",
     "iopub.status.idle": "2020-09-15T10:18:52.685493Z",
     "shell.execute_reply": "2020-09-15T10:18:52.685917Z"
    },
    "papermill": {
     "duration": 0.04336,
     "end_time": "2020-09-15T10:18:52.686041",
     "exception": false,
     "start_time": "2020-09-15T10:18:52.642681",
     "status": "completed"
    },
    "pycharm": {
     "name": "#%%\n"
    },
    "tags": []
   },
   "outputs": [
    {
     "data": {
      "text/html": [
       "<div>\n",
       "<style scoped>\n",
       "    .dataframe tbody tr th:only-of-type {\n",
       "        vertical-align: middle;\n",
       "    }\n",
       "\n",
       "    .dataframe tbody tr th {\n",
       "        vertical-align: top;\n",
       "    }\n",
       "\n",
       "    .dataframe thead th {\n",
       "        text-align: right;\n",
       "    }\n",
       "</style>\n",
       "<table border=\"1\" class=\"dataframe\">\n",
       "  <thead>\n",
       "    <tr style=\"text-align: right;\">\n",
       "      <th></th>\n",
       "      <th>sample_date_string</th>\n",
       "      <th>tek_count</th>\n",
       "      <th>new_tek_count</th>\n",
       "    </tr>\n",
       "  </thead>\n",
       "  <tbody>\n",
       "    <tr>\n",
       "      <th>0</th>\n",
       "      <td>2020-09-14</td>\n",
       "      <td>13.0</td>\n",
       "      <td>61.0</td>\n",
       "    </tr>\n",
       "    <tr>\n",
       "      <th>1</th>\n",
       "      <td>2020-09-13</td>\n",
       "      <td>30.0</td>\n",
       "      <td>92.0</td>\n",
       "    </tr>\n",
       "    <tr>\n",
       "      <th>2</th>\n",
       "      <td>2020-09-12</td>\n",
       "      <td>42.0</td>\n",
       "      <td>92.0</td>\n",
       "    </tr>\n",
       "    <tr>\n",
       "      <th>3</th>\n",
       "      <td>2020-09-11</td>\n",
       "      <td>59.0</td>\n",
       "      <td>46.0</td>\n",
       "    </tr>\n",
       "    <tr>\n",
       "      <th>4</th>\n",
       "      <td>2020-09-10</td>\n",
       "      <td>61.0</td>\n",
       "      <td>45.0</td>\n",
       "    </tr>\n",
       "  </tbody>\n",
       "</table>\n",
       "</div>"
      ],
      "text/plain": [
       "  sample_date_string  tek_count  new_tek_count\n",
       "0         2020-09-14       13.0           61.0\n",
       "1         2020-09-13       30.0           92.0\n",
       "2         2020-09-12       42.0           92.0\n",
       "3         2020-09-11       59.0           46.0\n",
       "4         2020-09-10       61.0           45.0"
      ]
     },
     "execution_count": 20,
     "metadata": {},
     "output_type": "execute_result"
    }
   ],
   "source": [
    "result_summary_df = exposure_keys_summary_df.merge(new_tek_df, on=[\"sample_date_string\"], how=\"outer\")\n",
    "result_summary_df.head()"
   ]
  },
  {
   "cell_type": "code",
   "execution_count": 21,
   "metadata": {
    "execution": {
     "iopub.execute_input": "2020-09-15T10:18:52.754565Z",
     "iopub.status.busy": "2020-09-15T10:18:52.754021Z",
     "iopub.status.idle": "2020-09-15T10:18:52.757998Z",
     "shell.execute_reply": "2020-09-15T10:18:52.758420Z"
    },
    "papermill": {
     "duration": 0.045111,
     "end_time": "2020-09-15T10:18:52.758559",
     "exception": false,
     "start_time": "2020-09-15T10:18:52.713448",
     "status": "completed"
    },
    "tags": []
   },
   "outputs": [
    {
     "data": {
      "text/html": [
       "<div>\n",
       "<style scoped>\n",
       "    .dataframe tbody tr th:only-of-type {\n",
       "        vertical-align: middle;\n",
       "    }\n",
       "\n",
       "    .dataframe tbody tr th {\n",
       "        vertical-align: top;\n",
       "    }\n",
       "\n",
       "    .dataframe thead th {\n",
       "        text-align: right;\n",
       "    }\n",
       "</style>\n",
       "<table border=\"1\" class=\"dataframe\">\n",
       "  <thead>\n",
       "    <tr style=\"text-align: right;\">\n",
       "      <th></th>\n",
       "      <th>sample_date_string</th>\n",
       "      <th>tek_count</th>\n",
       "      <th>new_tek_count</th>\n",
       "      <th>new_tek_devices</th>\n",
       "    </tr>\n",
       "  </thead>\n",
       "  <tbody>\n",
       "    <tr>\n",
       "      <th>0</th>\n",
       "      <td>2020-09-14</td>\n",
       "      <td>13.0</td>\n",
       "      <td>61.0</td>\n",
       "      <td>28</td>\n",
       "    </tr>\n",
       "    <tr>\n",
       "      <th>1</th>\n",
       "      <td>2020-09-13</td>\n",
       "      <td>30.0</td>\n",
       "      <td>92.0</td>\n",
       "      <td>32</td>\n",
       "    </tr>\n",
       "    <tr>\n",
       "      <th>2</th>\n",
       "      <td>2020-09-12</td>\n",
       "      <td>42.0</td>\n",
       "      <td>92.0</td>\n",
       "      <td>33</td>\n",
       "    </tr>\n",
       "    <tr>\n",
       "      <th>3</th>\n",
       "      <td>2020-09-11</td>\n",
       "      <td>59.0</td>\n",
       "      <td>46.0</td>\n",
       "      <td>19</td>\n",
       "    </tr>\n",
       "    <tr>\n",
       "      <th>4</th>\n",
       "      <td>2020-09-10</td>\n",
       "      <td>61.0</td>\n",
       "      <td>45.0</td>\n",
       "      <td>15</td>\n",
       "    </tr>\n",
       "  </tbody>\n",
       "</table>\n",
       "</div>"
      ],
      "text/plain": [
       "  sample_date_string  tek_count  new_tek_count  new_tek_devices\n",
       "0         2020-09-14       13.0           61.0               28\n",
       "1         2020-09-13       30.0           92.0               32\n",
       "2         2020-09-12       42.0           92.0               33\n",
       "3         2020-09-11       59.0           46.0               19\n",
       "4         2020-09-10       61.0           45.0               15"
      ]
     },
     "execution_count": 21,
     "metadata": {},
     "output_type": "execute_result"
    }
   ],
   "source": [
    "result_summary_df = result_summary_df.merge(new_tek_devices_df, on=[\"sample_date_string\"], how=\"outer\")\n",
    "result_summary_df.head()"
   ]
  },
  {
   "cell_type": "code",
   "execution_count": 22,
   "metadata": {
    "execution": {
     "iopub.execute_input": "2020-09-15T10:18:52.828810Z",
     "iopub.status.busy": "2020-09-15T10:18:52.828277Z",
     "iopub.status.idle": "2020-09-15T10:18:52.840473Z",
     "shell.execute_reply": "2020-09-15T10:18:52.839647Z"
    },
    "papermill": {
     "duration": 0.048564,
     "end_time": "2020-09-15T10:18:52.840612",
     "exception": false,
     "start_time": "2020-09-15T10:18:52.792048",
     "status": "completed"
    },
    "pycharm": {
     "name": "#%%\n"
    },
    "tags": []
   },
   "outputs": [
    {
     "data": {
      "text/html": [
       "<div>\n",
       "<style scoped>\n",
       "    .dataframe tbody tr th:only-of-type {\n",
       "        vertical-align: middle;\n",
       "    }\n",
       "\n",
       "    .dataframe tbody tr th {\n",
       "        vertical-align: top;\n",
       "    }\n",
       "\n",
       "    .dataframe thead th {\n",
       "        text-align: right;\n",
       "    }\n",
       "</style>\n",
       "<table border=\"1\" class=\"dataframe\">\n",
       "  <thead>\n",
       "    <tr style=\"text-align: right;\">\n",
       "      <th></th>\n",
       "      <th>sample_date_string</th>\n",
       "      <th>tek_count</th>\n",
       "      <th>new_tek_count</th>\n",
       "      <th>new_tek_devices</th>\n",
       "      <th>cumulative_cases</th>\n",
       "      <th>new_cases</th>\n",
       "      <th>rolling_mean_new_cases</th>\n",
       "    </tr>\n",
       "  </thead>\n",
       "  <tbody>\n",
       "    <tr>\n",
       "      <th>0</th>\n",
       "      <td>2020-09-14</td>\n",
       "      <td>13.0</td>\n",
       "      <td>61.0</td>\n",
       "      <td>28</td>\n",
       "      <td>1187460.0</td>\n",
       "      <td>54808.0</td>\n",
       "      <td>19480.285714</td>\n",
       "    </tr>\n",
       "    <tr>\n",
       "      <th>1</th>\n",
       "      <td>2020-09-13</td>\n",
       "      <td>30.0</td>\n",
       "      <td>92.0</td>\n",
       "      <td>32</td>\n",
       "      <td>1132652.0</td>\n",
       "      <td>0.0</td>\n",
       "      <td>19239.142857</td>\n",
       "    </tr>\n",
       "    <tr>\n",
       "      <th>2</th>\n",
       "      <td>2020-09-12</td>\n",
       "      <td>42.0</td>\n",
       "      <td>92.0</td>\n",
       "      <td>33</td>\n",
       "      <td>1132652.0</td>\n",
       "      <td>0.0</td>\n",
       "      <td>19239.142857</td>\n",
       "    </tr>\n",
       "    <tr>\n",
       "      <th>3</th>\n",
       "      <td>2020-09-11</td>\n",
       "      <td>59.0</td>\n",
       "      <td>46.0</td>\n",
       "      <td>19</td>\n",
       "      <td>1132652.0</td>\n",
       "      <td>24366.0</td>\n",
       "      <td>19239.142857</td>\n",
       "    </tr>\n",
       "    <tr>\n",
       "      <th>4</th>\n",
       "      <td>2020-09-10</td>\n",
       "      <td>61.0</td>\n",
       "      <td>45.0</td>\n",
       "      <td>15</td>\n",
       "      <td>1108286.0</td>\n",
       "      <td>21528.0</td>\n",
       "      <td>18751.428571</td>\n",
       "    </tr>\n",
       "  </tbody>\n",
       "</table>\n",
       "</div>"
      ],
      "text/plain": [
       "  sample_date_string  tek_count  new_tek_count  new_tek_devices  \\\n",
       "0         2020-09-14       13.0           61.0               28   \n",
       "1         2020-09-13       30.0           92.0               32   \n",
       "2         2020-09-12       42.0           92.0               33   \n",
       "3         2020-09-11       59.0           46.0               19   \n",
       "4         2020-09-10       61.0           45.0               15   \n",
       "\n",
       "   cumulative_cases  new_cases  rolling_mean_new_cases  \n",
       "0         1187460.0    54808.0            19480.285714  \n",
       "1         1132652.0        0.0            19239.142857  \n",
       "2         1132652.0        0.0            19239.142857  \n",
       "3         1132652.0    24366.0            19239.142857  \n",
       "4         1108286.0    21528.0            18751.428571  "
      ]
     },
     "execution_count": 22,
     "metadata": {},
     "output_type": "execute_result"
    }
   ],
   "source": [
    "result_summary_df = result_summary_df.merge(confirmed_df, on=[\"sample_date_string\"], how=\"left\")\n",
    "result_summary_df.head()"
   ]
  },
  {
   "cell_type": "code",
   "execution_count": 23,
   "metadata": {
    "execution": {
     "iopub.execute_input": "2020-09-15T10:18:52.920336Z",
     "iopub.status.busy": "2020-09-15T10:18:52.907826Z",
     "iopub.status.idle": "2020-09-15T10:18:52.923270Z",
     "shell.execute_reply": "2020-09-15T10:18:52.922827Z"
    },
    "papermill": {
     "duration": 0.054831,
     "end_time": "2020-09-15T10:18:52.923384",
     "exception": false,
     "start_time": "2020-09-15T10:18:52.868553",
     "status": "completed"
    },
    "pycharm": {
     "name": "#%%\n"
    },
    "tags": []
   },
   "outputs": [
    {
     "data": {
      "text/html": [
       "<div>\n",
       "<style scoped>\n",
       "    .dataframe tbody tr th:only-of-type {\n",
       "        vertical-align: middle;\n",
       "    }\n",
       "\n",
       "    .dataframe tbody tr th {\n",
       "        vertical-align: top;\n",
       "    }\n",
       "\n",
       "    .dataframe thead th {\n",
       "        text-align: right;\n",
       "    }\n",
       "</style>\n",
       "<table border=\"1\" class=\"dataframe\">\n",
       "  <thead>\n",
       "    <tr style=\"text-align: right;\">\n",
       "      <th></th>\n",
       "      <th>sample_date_string</th>\n",
       "      <th>tek_count</th>\n",
       "      <th>new_tek_count</th>\n",
       "      <th>new_tek_devices</th>\n",
       "      <th>cumulative_cases</th>\n",
       "      <th>new_cases</th>\n",
       "      <th>rolling_mean_new_cases</th>\n",
       "      <th>tek_count_per_new_case</th>\n",
       "      <th>new_tek_count_per_new_case</th>\n",
       "      <th>new_tek_devices_per_new_case</th>\n",
       "      <th>new_tek_count_per_new_tek_device</th>\n",
       "    </tr>\n",
       "  </thead>\n",
       "  <tbody>\n",
       "    <tr>\n",
       "      <th>0</th>\n",
       "      <td>2020-09-14</td>\n",
       "      <td>13.0</td>\n",
       "      <td>61.0</td>\n",
       "      <td>28</td>\n",
       "      <td>1187460.0</td>\n",
       "      <td>54808.0</td>\n",
       "      <td>19480.285714</td>\n",
       "      <td>0.000667</td>\n",
       "      <td>0.003131</td>\n",
       "      <td>0.001437</td>\n",
       "      <td>2.178571</td>\n",
       "    </tr>\n",
       "    <tr>\n",
       "      <th>1</th>\n",
       "      <td>2020-09-13</td>\n",
       "      <td>30.0</td>\n",
       "      <td>92.0</td>\n",
       "      <td>32</td>\n",
       "      <td>1132652.0</td>\n",
       "      <td>0.0</td>\n",
       "      <td>19239.142857</td>\n",
       "      <td>0.001559</td>\n",
       "      <td>0.004782</td>\n",
       "      <td>0.001663</td>\n",
       "      <td>2.875000</td>\n",
       "    </tr>\n",
       "    <tr>\n",
       "      <th>2</th>\n",
       "      <td>2020-09-12</td>\n",
       "      <td>42.0</td>\n",
       "      <td>92.0</td>\n",
       "      <td>33</td>\n",
       "      <td>1132652.0</td>\n",
       "      <td>0.0</td>\n",
       "      <td>19239.142857</td>\n",
       "      <td>0.002183</td>\n",
       "      <td>0.004782</td>\n",
       "      <td>0.001715</td>\n",
       "      <td>2.787879</td>\n",
       "    </tr>\n",
       "    <tr>\n",
       "      <th>3</th>\n",
       "      <td>2020-09-11</td>\n",
       "      <td>59.0</td>\n",
       "      <td>46.0</td>\n",
       "      <td>19</td>\n",
       "      <td>1132652.0</td>\n",
       "      <td>24366.0</td>\n",
       "      <td>19239.142857</td>\n",
       "      <td>0.003067</td>\n",
       "      <td>0.002391</td>\n",
       "      <td>0.000988</td>\n",
       "      <td>2.421053</td>\n",
       "    </tr>\n",
       "    <tr>\n",
       "      <th>4</th>\n",
       "      <td>2020-09-10</td>\n",
       "      <td>61.0</td>\n",
       "      <td>45.0</td>\n",
       "      <td>15</td>\n",
       "      <td>1108286.0</td>\n",
       "      <td>21528.0</td>\n",
       "      <td>18751.428571</td>\n",
       "      <td>0.003253</td>\n",
       "      <td>0.002400</td>\n",
       "      <td>0.000800</td>\n",
       "      <td>3.000000</td>\n",
       "    </tr>\n",
       "  </tbody>\n",
       "</table>\n",
       "</div>"
      ],
      "text/plain": [
       "  sample_date_string  tek_count  new_tek_count  new_tek_devices  \\\n",
       "0         2020-09-14       13.0           61.0               28   \n",
       "1         2020-09-13       30.0           92.0               32   \n",
       "2         2020-09-12       42.0           92.0               33   \n",
       "3         2020-09-11       59.0           46.0               19   \n",
       "4         2020-09-10       61.0           45.0               15   \n",
       "\n",
       "   cumulative_cases  new_cases  rolling_mean_new_cases  \\\n",
       "0         1187460.0    54808.0            19480.285714   \n",
       "1         1132652.0        0.0            19239.142857   \n",
       "2         1132652.0        0.0            19239.142857   \n",
       "3         1132652.0    24366.0            19239.142857   \n",
       "4         1108286.0    21528.0            18751.428571   \n",
       "\n",
       "   tek_count_per_new_case  new_tek_count_per_new_case  \\\n",
       "0                0.000667                    0.003131   \n",
       "1                0.001559                    0.004782   \n",
       "2                0.002183                    0.004782   \n",
       "3                0.003067                    0.002391   \n",
       "4                0.003253                    0.002400   \n",
       "\n",
       "   new_tek_devices_per_new_case  new_tek_count_per_new_tek_device  \n",
       "0                      0.001437                          2.178571  \n",
       "1                      0.001663                          2.875000  \n",
       "2                      0.001715                          2.787879  \n",
       "3                      0.000988                          2.421053  \n",
       "4                      0.000800                          3.000000  "
      ]
     },
     "execution_count": 23,
     "metadata": {},
     "output_type": "execute_result"
    }
   ],
   "source": [
    "result_summary_df[\"tek_count_per_new_case\"] = \\\n",
    "    result_summary_df.tek_count / result_summary_df.rolling_mean_new_cases\n",
    "result_summary_df[\"new_tek_count_per_new_case\"] = \\\n",
    "    result_summary_df.new_tek_count / result_summary_df.rolling_mean_new_cases\n",
    "result_summary_df[\"new_tek_devices_per_new_case\"] = \\\n",
    "    result_summary_df.new_tek_devices / result_summary_df.rolling_mean_new_cases\n",
    "result_summary_df[\"new_tek_count_per_new_tek_device\"] = \\\n",
    "    result_summary_df.new_tek_count / result_summary_df.new_tek_devices\n",
    "result_summary_df.head()"
   ]
  },
  {
   "cell_type": "code",
   "execution_count": 24,
   "metadata": {
    "execution": {
     "iopub.execute_input": "2020-09-15T10:18:52.984247Z",
     "iopub.status.busy": "2020-09-15T10:18:52.983665Z",
     "iopub.status.idle": "2020-09-15T10:18:52.987624Z",
     "shell.execute_reply": "2020-09-15T10:18:52.987195Z"
    },
    "papermill": {
     "duration": 0.036135,
     "end_time": "2020-09-15T10:18:52.987727",
     "exception": false,
     "start_time": "2020-09-15T10:18:52.951592",
     "status": "completed"
    },
    "pycharm": {
     "name": "#%%\n"
    },
    "tags": []
   },
   "outputs": [],
   "source": [
    "result_summary_df[\"sample_date\"] = pd.to_datetime(result_summary_df.sample_date_string)\n",
    "result_summary_df.set_index(\"sample_date\", inplace=True)\n",
    "result_summary_df = result_summary_df.sort_index(ascending=False)"
   ]
  },
  {
   "cell_type": "markdown",
   "metadata": {
    "execution": {
     "iopub.execute_input": "2020-08-30T22:30:17.313260Z",
     "iopub.status.busy": "2020-08-30T22:30:17.312584Z",
     "iopub.status.idle": "2020-08-30T22:30:17.317571Z",
     "shell.execute_reply": "2020-08-30T22:30:17.316929Z"
    },
    "papermill": {
     "duration": 0.027506,
     "end_time": "2020-09-15T10:18:53.045092",
     "exception": false,
     "start_time": "2020-09-15T10:18:53.017586",
     "status": "completed"
    },
    "pycharm": {
     "name": "#%% md\n"
    },
    "tags": []
   },
   "source": [
    "## Report Results\n"
   ]
  },
  {
   "cell_type": "markdown",
   "metadata": {
    "papermill": {
     "duration": 0.027867,
     "end_time": "2020-09-15T10:18:53.101642",
     "exception": false,
     "start_time": "2020-09-15T10:18:53.073775",
     "status": "completed"
    },
    "tags": []
   },
   "source": [
    "### Summary Table"
   ]
  },
  {
   "cell_type": "code",
   "execution_count": 25,
   "metadata": {
    "execution": {
     "iopub.execute_input": "2020-09-15T10:18:53.174739Z",
     "iopub.status.busy": "2020-09-15T10:18:53.174166Z",
     "iopub.status.idle": "2020-09-15T10:18:53.177207Z",
     "shell.execute_reply": "2020-09-15T10:18:53.176709Z"
    },
    "papermill": {
     "duration": 0.047621,
     "end_time": "2020-09-15T10:18:53.177322",
     "exception": false,
     "start_time": "2020-09-15T10:18:53.129701",
     "status": "completed"
    },
    "tags": []
   },
   "outputs": [
    {
     "data": {
      "text/html": [
       "<div>\n",
       "<style scoped>\n",
       "    .dataframe tbody tr th:only-of-type {\n",
       "        vertical-align: middle;\n",
       "    }\n",
       "\n",
       "    .dataframe tbody tr th {\n",
       "        vertical-align: top;\n",
       "    }\n",
       "\n",
       "    .dataframe thead th {\n",
       "        text-align: right;\n",
       "    }\n",
       "</style>\n",
       "<table border=\"1\" class=\"dataframe\">\n",
       "  <thead>\n",
       "    <tr style=\"text-align: right;\">\n",
       "      <th></th>\n",
       "      <th>tek_count</th>\n",
       "      <th>new_tek_count</th>\n",
       "      <th>new_cases</th>\n",
       "      <th>rolling_mean_new_cases</th>\n",
       "      <th>tek_count_per_new_case</th>\n",
       "      <th>new_tek_count_per_new_case</th>\n",
       "      <th>new_tek_devices</th>\n",
       "      <th>new_tek_devices_per_new_case</th>\n",
       "      <th>new_tek_count_per_new_tek_device</th>\n",
       "    </tr>\n",
       "    <tr>\n",
       "      <th>sample_date</th>\n",
       "      <th></th>\n",
       "      <th></th>\n",
       "      <th></th>\n",
       "      <th></th>\n",
       "      <th></th>\n",
       "      <th></th>\n",
       "      <th></th>\n",
       "      <th></th>\n",
       "      <th></th>\n",
       "    </tr>\n",
       "  </thead>\n",
       "  <tbody>\n",
       "    <tr>\n",
       "      <th>2020-09-15</th>\n",
       "      <td>NaN</td>\n",
       "      <td>18.0</td>\n",
       "      <td>19480.285714</td>\n",
       "      <td>19480.285714</td>\n",
       "      <td>NaN</td>\n",
       "      <td>0.000924</td>\n",
       "      <td>13</td>\n",
       "      <td>0.000667</td>\n",
       "      <td>1.384615</td>\n",
       "    </tr>\n",
       "    <tr>\n",
       "      <th>2020-09-14</th>\n",
       "      <td>13.0</td>\n",
       "      <td>61.0</td>\n",
       "      <td>54808.000000</td>\n",
       "      <td>19480.285714</td>\n",
       "      <td>0.000667</td>\n",
       "      <td>0.003131</td>\n",
       "      <td>28</td>\n",
       "      <td>0.001437</td>\n",
       "      <td>2.178571</td>\n",
       "    </tr>\n",
       "    <tr>\n",
       "      <th>2020-09-13</th>\n",
       "      <td>30.0</td>\n",
       "      <td>92.0</td>\n",
       "      <td>0.000000</td>\n",
       "      <td>19239.142857</td>\n",
       "      <td>0.001559</td>\n",
       "      <td>0.004782</td>\n",
       "      <td>32</td>\n",
       "      <td>0.001663</td>\n",
       "      <td>2.875000</td>\n",
       "    </tr>\n",
       "    <tr>\n",
       "      <th>2020-09-12</th>\n",
       "      <td>42.0</td>\n",
       "      <td>92.0</td>\n",
       "      <td>0.000000</td>\n",
       "      <td>19239.142857</td>\n",
       "      <td>0.002183</td>\n",
       "      <td>0.004782</td>\n",
       "      <td>33</td>\n",
       "      <td>0.001715</td>\n",
       "      <td>2.787879</td>\n",
       "    </tr>\n",
       "    <tr>\n",
       "      <th>2020-09-11</th>\n",
       "      <td>59.0</td>\n",
       "      <td>46.0</td>\n",
       "      <td>24366.000000</td>\n",
       "      <td>19239.142857</td>\n",
       "      <td>0.003067</td>\n",
       "      <td>0.002391</td>\n",
       "      <td>19</td>\n",
       "      <td>0.000988</td>\n",
       "      <td>2.421053</td>\n",
       "    </tr>\n",
       "    <tr>\n",
       "      <th>2020-09-10</th>\n",
       "      <td>61.0</td>\n",
       "      <td>45.0</td>\n",
       "      <td>21528.000000</td>\n",
       "      <td>18751.428571</td>\n",
       "      <td>0.003253</td>\n",
       "      <td>0.002400</td>\n",
       "      <td>15</td>\n",
       "      <td>0.000800</td>\n",
       "      <td>3.000000</td>\n",
       "    </tr>\n",
       "    <tr>\n",
       "      <th>2020-09-09</th>\n",
       "      <td>60.0</td>\n",
       "      <td>67.0</td>\n",
       "      <td>17732.000000</td>\n",
       "      <td>18235.714286</td>\n",
       "      <td>0.003290</td>\n",
       "      <td>0.003674</td>\n",
       "      <td>21</td>\n",
       "      <td>0.001152</td>\n",
       "      <td>3.190476</td>\n",
       "    </tr>\n",
       "    <tr>\n",
       "      <th>2020-09-08</th>\n",
       "      <td>61.0</td>\n",
       "      <td>44.0</td>\n",
       "      <td>17928.000000</td>\n",
       "      <td>18154.285714</td>\n",
       "      <td>0.003360</td>\n",
       "      <td>0.002424</td>\n",
       "      <td>18</td>\n",
       "      <td>0.000992</td>\n",
       "      <td>2.444444</td>\n",
       "    </tr>\n",
       "    <tr>\n",
       "      <th>2020-09-07</th>\n",
       "      <td>58.0</td>\n",
       "      <td>52.0</td>\n",
       "      <td>53120.000000</td>\n",
       "      <td>17911.714286</td>\n",
       "      <td>0.003238</td>\n",
       "      <td>0.002903</td>\n",
       "      <td>22</td>\n",
       "      <td>0.001228</td>\n",
       "      <td>2.363636</td>\n",
       "    </tr>\n",
       "    <tr>\n",
       "      <th>2020-09-06</th>\n",
       "      <td>54.0</td>\n",
       "      <td>60.0</td>\n",
       "      <td>0.000000</td>\n",
       "      <td>17058.000000</td>\n",
       "      <td>0.003166</td>\n",
       "      <td>0.003517</td>\n",
       "      <td>24</td>\n",
       "      <td>0.001407</td>\n",
       "      <td>2.500000</td>\n",
       "    </tr>\n",
       "    <tr>\n",
       "      <th>2020-09-05</th>\n",
       "      <td>56.0</td>\n",
       "      <td>40.0</td>\n",
       "      <td>0.000000</td>\n",
       "      <td>17058.000000</td>\n",
       "      <td>0.003283</td>\n",
       "      <td>0.002345</td>\n",
       "      <td>17</td>\n",
       "      <td>0.000997</td>\n",
       "      <td>2.352941</td>\n",
       "    </tr>\n",
       "    <tr>\n",
       "      <th>2020-09-04</th>\n",
       "      <td>52.0</td>\n",
       "      <td>58.0</td>\n",
       "      <td>20952.000000</td>\n",
       "      <td>17058.000000</td>\n",
       "      <td>0.003048</td>\n",
       "      <td>0.003400</td>\n",
       "      <td>20</td>\n",
       "      <td>0.001172</td>\n",
       "      <td>2.900000</td>\n",
       "    </tr>\n",
       "    <tr>\n",
       "      <th>2020-09-03</th>\n",
       "      <td>51.0</td>\n",
       "      <td>49.0</td>\n",
       "      <td>17918.000000</td>\n",
       "      <td>16858.857143</td>\n",
       "      <td>0.003025</td>\n",
       "      <td>0.002906</td>\n",
       "      <td>19</td>\n",
       "      <td>0.001127</td>\n",
       "      <td>2.578947</td>\n",
       "    </tr>\n",
       "    <tr>\n",
       "      <th>2020-09-02</th>\n",
       "      <td>52.0</td>\n",
       "      <td>NaN</td>\n",
       "      <td>17162.000000</td>\n",
       "      <td>17058.571429</td>\n",
       "      <td>0.003048</td>\n",
       "      <td>NaN</td>\n",
       "      <td>14</td>\n",
       "      <td>0.000821</td>\n",
       "      <td>NaN</td>\n",
       "    </tr>\n",
       "  </tbody>\n",
       "</table>\n",
       "</div>"
      ],
      "text/plain": [
       "             tek_count  new_tek_count     new_cases  rolling_mean_new_cases  \\\n",
       "sample_date                                                                   \n",
       "2020-09-15         NaN           18.0  19480.285714            19480.285714   \n",
       "2020-09-14        13.0           61.0  54808.000000            19480.285714   \n",
       "2020-09-13        30.0           92.0      0.000000            19239.142857   \n",
       "2020-09-12        42.0           92.0      0.000000            19239.142857   \n",
       "2020-09-11        59.0           46.0  24366.000000            19239.142857   \n",
       "2020-09-10        61.0           45.0  21528.000000            18751.428571   \n",
       "2020-09-09        60.0           67.0  17732.000000            18235.714286   \n",
       "2020-09-08        61.0           44.0  17928.000000            18154.285714   \n",
       "2020-09-07        58.0           52.0  53120.000000            17911.714286   \n",
       "2020-09-06        54.0           60.0      0.000000            17058.000000   \n",
       "2020-09-05        56.0           40.0      0.000000            17058.000000   \n",
       "2020-09-04        52.0           58.0  20952.000000            17058.000000   \n",
       "2020-09-03        51.0           49.0  17918.000000            16858.857143   \n",
       "2020-09-02        52.0            NaN  17162.000000            17058.571429   \n",
       "\n",
       "             tek_count_per_new_case  new_tek_count_per_new_case  \\\n",
       "sample_date                                                       \n",
       "2020-09-15                      NaN                    0.000924   \n",
       "2020-09-14                 0.000667                    0.003131   \n",
       "2020-09-13                 0.001559                    0.004782   \n",
       "2020-09-12                 0.002183                    0.004782   \n",
       "2020-09-11                 0.003067                    0.002391   \n",
       "2020-09-10                 0.003253                    0.002400   \n",
       "2020-09-09                 0.003290                    0.003674   \n",
       "2020-09-08                 0.003360                    0.002424   \n",
       "2020-09-07                 0.003238                    0.002903   \n",
       "2020-09-06                 0.003166                    0.003517   \n",
       "2020-09-05                 0.003283                    0.002345   \n",
       "2020-09-04                 0.003048                    0.003400   \n",
       "2020-09-03                 0.003025                    0.002906   \n",
       "2020-09-02                 0.003048                         NaN   \n",
       "\n",
       "             new_tek_devices  new_tek_devices_per_new_case  \\\n",
       "sample_date                                                  \n",
       "2020-09-15                13                      0.000667   \n",
       "2020-09-14                28                      0.001437   \n",
       "2020-09-13                32                      0.001663   \n",
       "2020-09-12                33                      0.001715   \n",
       "2020-09-11                19                      0.000988   \n",
       "2020-09-10                15                      0.000800   \n",
       "2020-09-09                21                      0.001152   \n",
       "2020-09-08                18                      0.000992   \n",
       "2020-09-07                22                      0.001228   \n",
       "2020-09-06                24                      0.001407   \n",
       "2020-09-05                17                      0.000997   \n",
       "2020-09-04                20                      0.001172   \n",
       "2020-09-03                19                      0.001127   \n",
       "2020-09-02                14                      0.000821   \n",
       "\n",
       "             new_tek_count_per_new_tek_device  \n",
       "sample_date                                    \n",
       "2020-09-15                           1.384615  \n",
       "2020-09-14                           2.178571  \n",
       "2020-09-13                           2.875000  \n",
       "2020-09-12                           2.787879  \n",
       "2020-09-11                           2.421053  \n",
       "2020-09-10                           3.000000  \n",
       "2020-09-09                           3.190476  \n",
       "2020-09-08                           2.444444  \n",
       "2020-09-07                           2.363636  \n",
       "2020-09-06                           2.500000  \n",
       "2020-09-05                           2.352941  \n",
       "2020-09-04                           2.900000  \n",
       "2020-09-03                           2.578947  \n",
       "2020-09-02                                NaN  "
      ]
     },
     "execution_count": 25,
     "metadata": {},
     "output_type": "execute_result"
    }
   ],
   "source": [
    "result_summary_df_ = result_summary_df.copy()\n",
    "result_summary_df = result_summary_df[[\n",
    "    \"tek_count\",\n",
    "    \"new_tek_count\",\n",
    "    \"new_cases\",\n",
    "    \"rolling_mean_new_cases\",\n",
    "    \"tek_count_per_new_case\",\n",
    "    \"new_tek_count_per_new_case\",\n",
    "    \"new_tek_devices\",\n",
    "    \"new_tek_devices_per_new_case\",\n",
    "    \"new_tek_count_per_new_tek_device\"]]\n",
    "result_summary_df"
   ]
  },
  {
   "cell_type": "markdown",
   "metadata": {
    "papermill": {
     "duration": 0.030115,
     "end_time": "2020-09-15T10:18:53.237521",
     "exception": false,
     "start_time": "2020-09-15T10:18:53.207406",
     "status": "completed"
    },
    "tags": []
   },
   "source": [
    "### Summary Plots"
   ]
  },
  {
   "cell_type": "code",
   "execution_count": 26,
   "metadata": {
    "execution": {
     "iopub.execute_input": "2020-09-15T10:18:53.302231Z",
     "iopub.status.busy": "2020-09-15T10:18:53.301744Z",
     "iopub.status.idle": "2020-09-15T10:18:54.703411Z",
     "shell.execute_reply": "2020-09-15T10:18:54.703836Z"
    },
    "papermill": {
     "duration": 1.438448,
     "end_time": "2020-09-15T10:18:54.704011",
     "exception": false,
     "start_time": "2020-09-15T10:18:53.265563",
     "status": "completed"
    },
    "scrolled": false,
    "tags": []
   },
   "outputs": [
    {
     "data": {
      "image/png": "[encoded data removed]",
      "text/plain": [
       "<Figure size 1080x1584 with 6 Axes>"
      ]
     },
     "metadata": {},
     "output_type": "display_data"
    }
   ],
   "source": [
    "summary_ax_list = result_summary_df[[\n",
    "    \"rolling_mean_new_cases\",\n",
    "    \"tek_count\",\n",
    "    \"new_tek_count\",\n",
    "    \"new_tek_devices\",\n",
    "    \"new_tek_count_per_new_tek_device\",\n",
    "    \"new_tek_devices_per_new_case\"\n",
    "]].sort_index(ascending=True).plot.bar(\n",
    "    title=\"Summary\", rot=45, subplots=True, figsize=(15, 22))\n",
    "summary_ax_list[-1].yaxis.set_major_formatter(matplotlib.ticker.PercentFormatter(1.0))"
   ]
  },
  {
   "cell_type": "markdown",
   "metadata": {
    "papermill": {
     "duration": 0.031498,
     "end_time": "2020-09-15T10:18:54.767683",
     "exception": false,
     "start_time": "2020-09-15T10:18:54.736185",
     "status": "completed"
    },
    "tags": []
   },
   "source": [
    "### Hourly Summary Plots "
   ]
  },
  {
   "cell_type": "code",
   "execution_count": 27,
   "metadata": {
    "execution": {
     "iopub.execute_input": "2020-09-15T10:18:54.846852Z",
     "iopub.status.busy": "2020-09-15T10:18:54.846311Z",
     "iopub.status.idle": "2020-09-15T10:18:55.423276Z",
     "shell.execute_reply": "2020-09-15T10:18:55.424171Z"
    },
    "papermill": {
     "duration": 0.625423,
     "end_time": "2020-09-15T10:18:55.424352",
     "exception": false,
     "start_time": "2020-09-15T10:18:54.798929",
     "status": "completed"
    },
    "pycharm": {
     "name": "#%%\n"
    },
    "tags": []
   },
   "outputs": [
    {
     "data": {
      "image/png": "[encoded data removed]",
      "text/plain": [
       "<Figure size 1080x432 with 2 Axes>"
      ]
     },
     "metadata": {},
     "output_type": "display_data"
    }
   ],
   "source": [
    "hourly_summary_ax_list = hourly_summary_df.plot.bar(\n",
    "    title=\"Last 24h Summary\", rot=45, subplots=True)"
   ]
  },
  {
   "cell_type": "markdown",
   "metadata": {
    "papermill": {
     "duration": 0.031469,
     "end_time": "2020-09-15T10:18:55.492846",
     "exception": false,
     "start_time": "2020-09-15T10:18:55.461377",
     "status": "completed"
    },
    "tags": []
   },
   "source": [
    "### Publish Results"
   ]
  },
  {
   "cell_type": "code",
   "execution_count": 28,
   "metadata": {
    "execution": {
     "iopub.execute_input": "2020-09-15T10:18:55.565589Z",
     "iopub.status.busy": "2020-09-15T10:18:55.564829Z",
     "iopub.status.idle": "2020-09-15T10:19:08.459552Z",
     "shell.execute_reply": "2020-09-15T10:19:08.460314Z"
    },
    "papermill": {
     "duration": 12.936492,
     "end_time": "2020-09-15T10:19:08.460479",
     "exception": false,
     "start_time": "2020-09-15T10:18:55.523987",
     "status": "completed"
    },
    "pycharm": {
     "name": "#%%\n"
    },
    "tags": []
   },
   "outputs": [],
   "source": [
    "def get_temporary_image_path() -> str:\n",
    "    return os.path.join(tempfile.gettempdir(), str(uuid.uuid4()) + \".png\")\n",
    "\n",
    "def save_temporary_plot_image(ax):\n",
    "    if isinstance(ax, np.ndarray):\n",
    "        ax = ax[0]\n",
    "    media_path = get_temporary_image_path()\n",
    "    ax.get_figure().savefig(media_path)\n",
    "    return media_path\n",
    "\n",
    "def save_temporary_dataframe_image(df):\n",
    "    media_path = get_temporary_image_path()\n",
    "    dfi.export(df, media_path)\n",
    "    return media_path\n",
    "\n",
    "summary_plots_image_path = save_temporary_plot_image(ax=summary_ax_list)\n",
    "summary_table_image_path = save_temporary_dataframe_image(df=result_summary_df)\n",
    "hourly_summary_plots_image_path = save_temporary_plot_image(ax=hourly_summary_ax_list)"
   ]
  },
  {
   "cell_type": "markdown",
   "metadata": {
    "papermill": {
     "duration": 0.03034,
     "end_time": "2020-09-15T10:19:08.526484",
     "exception": false,
     "start_time": "2020-09-15T10:19:08.496144",
     "status": "completed"
    },
    "tags": []
   },
   "source": [
    "### Save Results"
   ]
  },
  {
   "cell_type": "code",
   "execution_count": 29,
   "metadata": {
    "execution": {
     "iopub.execute_input": "2020-09-15T10:19:08.594580Z",
     "iopub.status.busy": "2020-09-15T10:19:08.594045Z",
     "iopub.status.idle": "2020-09-15T10:19:08.606483Z",
     "shell.execute_reply": "2020-09-15T10:19:08.607100Z"
    },
    "papermill": {
     "duration": 0.049928,
     "end_time": "2020-09-15T10:19:08.607290",
     "exception": false,
     "start_time": "2020-09-15T10:19:08.557362",
     "status": "completed"
    },
    "pycharm": {
     "name": "#%%\n"
    },
    "tags": []
   },
   "outputs": [],
   "source": [
    "report_resources_path_prefix = \"Data/Resources/Current/RadarCOVID-Report-\"\n",
    "result_summary_df.to_csv(report_resources_path_prefix + \"Summary-Table.csv\")\n",
    "result_summary_df.to_html(report_resources_path_prefix + \"Summary-Table.html\")\n",
    "_ = shutil.copyfile(summary_plots_image_path, report_resources_path_prefix + \"Summary-Plots.png\")\n",
    "_ = shutil.copyfile(summary_table_image_path, report_resources_path_prefix + \"Summary-Table.png\")\n",
    "_ = shutil.copyfile(hourly_summary_plots_image_path, report_resources_path_prefix + \"Hourly-Summary-Plots.png\")\n",
    "\n",
    "report_daily_url_pattern = \\\n",
    "    \"https://github.com/pvieito/RadarCOVID-Report/blob/master/Notebooks/\" \\\n",
    "    \"RadarCOVID-Report/{report_type}/RadarCOVID-Report-{report_date}.ipynb\"\n",
    "report_daily_url = report_daily_url_pattern.format(\n",
    "    report_type=\"Daily\", report_date=extraction_date)\n",
    "report_hourly_url = report_daily_url_pattern.format(\n",
    "    report_type=\"Hourly\", report_date=extraction_date_with_hour)"
   ]
  },
  {
   "cell_type": "markdown",
   "metadata": {
    "papermill": {
     "duration": 0.031292,
     "end_time": "2020-09-15T10:19:08.671428",
     "exception": false,
     "start_time": "2020-09-15T10:19:08.640136",
     "status": "completed"
    },
    "tags": []
   },
   "source": [
    "### Publish on README"
   ]
  },
  {
   "cell_type": "code",
   "execution_count": 30,
   "metadata": {
    "execution": {
     "iopub.execute_input": "2020-09-15T10:19:08.737365Z",
     "iopub.status.busy": "2020-09-15T10:19:08.736800Z",
     "iopub.status.idle": "2020-09-15T10:19:08.745331Z",
     "shell.execute_reply": "2020-09-15T10:19:08.744810Z"
    },
    "papermill": {
     "duration": 0.043446,
     "end_time": "2020-09-15T10:19:08.745479",
     "exception": false,
     "start_time": "2020-09-15T10:19:08.702033",
     "status": "completed"
    },
    "pycharm": {
     "name": "#%%\n"
    },
    "tags": []
   },
   "outputs": [],
   "source": [
    "with open(\"Data/Templates/README.md\", \"r\") as f:\n",
    "    readme_contents = f.read()\n",
    "\n",
    "summary_table_html = result_summary_df.to_html()\n",
    "readme_contents = readme_contents.format(\n",
    "    summary_table_html=summary_table_html,\n",
    "    report_url_with_hour=report_hourly_url,\n",
    "    extraction_date_with_hour=extraction_date_with_hour)\n",
    "\n",
    "with open(\"README.md\", \"w\") as f:\n",
    "    f.write(readme_contents)"
   ]
  },
  {
   "cell_type": "markdown",
   "metadata": {
    "papermill": {
     "duration": 0.030332,
     "end_time": "2020-09-15T10:19:08.806788",
     "exception": false,
     "start_time": "2020-09-15T10:19:08.776456",
     "status": "completed"
    },
    "pycharm": {
     "name": "#%% md\n"
    },
    "tags": []
   },
   "source": [
    "### Publish on Twitter"
   ]
  },
  {
   "cell_type": "code",
   "execution_count": 31,
   "metadata": {
    "execution": {
     "iopub.execute_input": "2020-09-15T10:19:08.876587Z",
     "iopub.status.busy": "2020-09-15T10:19:08.876075Z",
     "iopub.status.idle": "2020-09-15T10:19:10.785993Z",
     "shell.execute_reply": "2020-09-15T10:19:10.786393Z"
    },
    "papermill": {
     "duration": 1.948356,
     "end_time": "2020-09-15T10:19:10.786558",
     "exception": false,
     "start_time": "2020-09-15T10:19:08.838202",
     "status": "completed"
    },
    "pycharm": {
     "name": "#%%\n"
    },
    "tags": []
   },
   "outputs": [],
   "source": [
    "enable_share_to_twitter = os.environ.get(\"RADARCOVID_REPORT__ENABLE_PUBLISH_ON_TWITTER\")\n",
    "github_event_name = os.environ.get(\"GITHUB_EVENT_NAME\")\n",
    "\n",
    "if enable_share_to_twitter and github_event_name == \"schedule\":\n",
    "    import tweepy\n",
    "\n",
    "    twitter_api_auth_keys = os.environ[\"RADARCOVID_REPORT__TWITTER_API_AUTH_KEYS\"]\n",
    "    twitter_api_auth_keys = twitter_api_auth_keys.split(\":\")\n",
    "    auth = tweepy.OAuthHandler(twitter_api_auth_keys[0], twitter_api_auth_keys[1])\n",
    "    auth.set_access_token(twitter_api_auth_keys[2], twitter_api_auth_keys[3])\n",
    "\n",
    "    api = tweepy.API(auth)\n",
    "\n",
    "    summary_plots_media = api.media_upload(summary_plots_image_path)\n",
    "    summary_table_media = api.media_upload(summary_table_image_path)\n",
    "    hourly_summary_plots_media = api.media_upload(hourly_summary_plots_image_path)\n",
    "    media_ids = [\n",
    "        summary_plots_media.media_id,\n",
    "        summary_table_media.media_id,\n",
    "        hourly_summary_plots_media.media_id,\n",
    "    ]\n",
    "\n",
    "    extraction_date_result_summary_df = \\\n",
    "        result_summary_df[result_summary_df.index == extraction_date]\n",
    "    extraction_date_result_hourly_summary_df = \\\n",
    "        hourly_summary_df[hourly_summary_df.extraction_date_with_hour == extraction_date_with_hour]\n",
    "\n",
    "    new_teks = extraction_date_result_summary_df.new_tek_count.sum().astype(int)\n",
    "    new_teks_last_hour = extraction_date_result_hourly_summary_df.new_tek_count.sum().astype(int)\n",
    "    new_devices = extraction_date_result_summary_df.new_tek_devices.sum().astype(int)\n",
    "    new_devices_last_hour = extraction_date_result_hourly_summary_df.new_tek_devices.sum().astype(int)\n",
    "    new_tek_count_per_new_tek_device = \\\n",
    "        extraction_date_result_summary_df.new_tek_count_per_new_tek_device.sum()\n",
    "    new_tek_devices_per_new_case = \\\n",
    "        extraction_date_result_summary_df.new_tek_devices_per_new_case.sum()\n",
    "\n",
    "    status = textwrap.dedent(f\"\"\"\n",
    "        Report Update – {extraction_date_with_hour}\n",
    "        #ExposureNotification #RadarCOVID\n",
    "\n",
    "        Shared Diagnoses Day Summary:\n",
    "        - New TEKs: {new_teks} ({new_teks_last_hour:+d} last hour)\n",
    "        - New Devices: {new_devices} ({new_devices_last_hour:+d} last hour, {new_tek_count_per_new_tek_device:.2} TEKs/device)\n",
    "        - Usage Ratio: {new_tek_devices_per_new_case:.2%} devices/case\n",
    "\n",
    "        Report Link: {report_hourly_url}\n",
    "        \"\"\")\n",
    "    status = status.encode(encoding=\"utf-8\")\n",
    "    api.update_status(status=status, media_ids=media_ids)"
   ]
  }
 ],
 "metadata": {
  "kernelspec": {
   "display_name": "Python 3",
   "language": "python",
   "name": "python3"
  },
  "language_info": {
   "codemirror_mode": {
    "name": "ipython",
    "version": 3
   },
   "file_extension": ".py",
   "mimetype": "text/x-python",
   "name": "python",
   "nbconvert_exporter": "python",
   "pygments_lexer": "ipython3",
   "version": "3.8.5"
  },
  "papermill": {
   "duration": 26.27152,
   "end_time": "2020-09-15T10:19:12.023241",
   "environment_variables": {},
   "exception": null,
   "input_path": "Notebooks/RadarCOVID-Report/Source/RadarCOVID-Report.ipynb",
   "output_path": "RadarCOVID-Report.ipynb",
   "parameters": {},
   "start_time": "2020-09-15T10:18:45.751721",
   "version": "2.1.3"
  }
 },
 "nbformat": 4,
 "nbformat_minor": 1
}