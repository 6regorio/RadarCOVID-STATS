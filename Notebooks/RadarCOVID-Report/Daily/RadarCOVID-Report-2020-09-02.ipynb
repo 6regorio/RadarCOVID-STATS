{
 "cells": [
  {
   "cell_type": "markdown",
   "metadata": {
    "papermill": {
     "duration": 0.025419,
     "end_time": "2020-09-02T11:17:00.245747",
     "exception": false,
     "start_time": "2020-09-02T11:17:00.220328",
     "status": "completed"
    },
    "pycharm": {
     "name": "#%% md\n"
    },
    "tags": []
   },
   "source": [
    "# RadarCOVID-Report"
   ]
  },
  {
   "cell_type": "markdown",
   "metadata": {
    "collapsed": true,
    "papermill": {
     "duration": 0.022027,
     "end_time": "2020-09-02T11:17:00.290173",
     "exception": false,
     "start_time": "2020-09-02T11:17:00.268146",
     "status": "completed"
    },
    "pycharm": {
     "name": "#%% md\n"
    },
    "tags": []
   },
   "source": [
    "## Data Extraction"
   ]
  },
  {
   "cell_type": "code",
   "execution_count": 1,
   "metadata": {
    "execution": {
     "iopub.execute_input": "2020-09-02T11:17:00.341444Z",
     "iopub.status.busy": "2020-09-02T11:17:00.340832Z",
     "iopub.status.idle": "2020-09-02T11:17:02.651440Z",
     "shell.execute_reply": "2020-09-02T11:17:02.650848Z"
    },
    "papermill": {
     "duration": 2.338689,
     "end_time": "2020-09-02T11:17:02.651626",
     "exception": false,
     "start_time": "2020-09-02T11:17:00.312937",
     "status": "completed"
    },
    "pycharm": {
     "name": "#%%\n"
    },
    "tags": []
   },
   "outputs": [],
   "source": [
    "import datetime\n",
    "import logging\n",
    "import os\n",
    "import shutil\n",
    "import tempfile\n",
    "import textwrap\n",
    "import uuid\n",
    "\n",
    "import dataframe_image as dfi\n",
    "import matplotlib.ticker\n",
    "import numpy as np\n",
    "import pandas as pd\n",
    "import seaborn as sns\n",
    "\n",
    "%matplotlib inline"
   ]
  },
  {
   "cell_type": "code",
   "execution_count": 2,
   "metadata": {
    "execution": {
     "iopub.execute_input": "2020-09-02T11:17:02.711496Z",
     "iopub.status.busy": "2020-09-02T11:17:02.710925Z",
     "iopub.status.idle": "2020-09-02T11:17:02.712772Z",
     "shell.execute_reply": "2020-09-02T11:17:02.713222Z"
    },
    "papermill": {
     "duration": 0.036556,
     "end_time": "2020-09-02T11:17:02.713381",
     "exception": false,
     "start_time": "2020-09-02T11:17:02.676825",
     "status": "completed"
    },
    "pycharm": {
     "name": "#%%\n"
    },
    "tags": []
   },
   "outputs": [],
   "source": [
    "sns.set()\n",
    "matplotlib.rcParams['figure.figsize'] = (15, 6)\n",
    "\n",
    "extraction_datetime = datetime.datetime.utcnow()\n",
    "extraction_date = extraction_datetime.strftime(\"%Y-%m-%d\")\n",
    "extraction_previous_datetime = extraction_datetime - datetime.timedelta(days=1)\n",
    "extraction_previous_date = extraction_previous_datetime.strftime(\"%Y-%m-%d\")\n",
    "extraction_date_with_hour = datetime.datetime.utcnow().strftime(\"%Y-%m-%d@%H\")"
   ]
  },
  {
   "cell_type": "markdown",
   "metadata": {
    "papermill": {
     "duration": 0.028472,
     "end_time": "2020-09-02T11:17:02.764866",
     "exception": false,
     "start_time": "2020-09-02T11:17:02.736394",
     "status": "completed"
    },
    "tags": []
   },
   "source": [
    "### COVID-19 Cases"
   ]
  },
  {
   "cell_type": "code",
   "execution_count": 3,
   "metadata": {
    "execution": {
     "iopub.execute_input": "2020-09-02T11:17:02.816646Z",
     "iopub.status.busy": "2020-09-02T11:17:02.816024Z",
     "iopub.status.idle": "2020-09-02T11:17:03.246106Z",
     "shell.execute_reply": "2020-09-02T11:17:03.245041Z"
    },
    "papermill": {
     "duration": 0.458118,
     "end_time": "2020-09-02T11:17:03.246251",
     "exception": false,
     "start_time": "2020-09-02T11:17:02.788133",
     "status": "completed"
    },
    "pycharm": {
     "name": "#%%\n"
    },
    "tags": []
   },
   "outputs": [],
   "source": [
    "confirmed_df = pd.read_csv(\"https://covid19tracking.narrativa.com/csv/confirmed.csv\")\n",
    "\n",
    "radar_covid_countries = {\"Spain\"}\n",
    "# radar_covid_regions = { ... }\n",
    "\n",
    "confirmed_df = confirmed_df[confirmed_df[\"Country_EN\"].isin(radar_covid_countries)]\n",
    "# confirmed_df = confirmed_df[confirmed_df[\"Region\"].isin(radar_covid_regions)]\n",
    "# set(confirmed_df.Region.tolist()) == radar_covid_regions"
   ]
  },
  {
   "cell_type": "code",
   "execution_count": 4,
   "metadata": {
    "collapsed": false,
    "execution": {
     "iopub.execute_input": "2020-09-02T11:17:03.306757Z",
     "iopub.status.busy": "2020-09-02T11:17:03.303464Z",
     "iopub.status.idle": "2020-09-02T11:17:03.310619Z",
     "shell.execute_reply": "2020-09-02T11:17:03.311095Z"
    },
    "papermill": {
     "duration": 0.042885,
     "end_time": "2020-09-02T11:17:03.311266",
     "exception": false,
     "start_time": "2020-09-02T11:17:03.268381",
     "status": "completed"
    },
    "pycharm": {
     "name": "#%%\n"
    },
    "tags": []
   },
   "outputs": [
    {
     "data": {
      "text/html": [
       "<div>\n",
       "<style scoped>\n",
       "    .dataframe tbody tr th:only-of-type {\n",
       "        vertical-align: middle;\n",
       "    }\n",
       "\n",
       "    .dataframe tbody tr th {\n",
       "        vertical-align: top;\n",
       "    }\n",
       "\n",
       "    .dataframe thead th {\n",
       "        text-align: right;\n",
       "    }\n",
       "</style>\n",
       "<table border=\"1\" class=\"dataframe\">\n",
       "  <thead>\n",
       "    <tr style=\"text-align: right;\">\n",
       "      <th></th>\n",
       "      <th>0</th>\n",
       "    </tr>\n",
       "  </thead>\n",
       "  <tbody>\n",
       "    <tr>\n",
       "      <th>2020-08-28</th>\n",
       "      <td>878572.0</td>\n",
       "    </tr>\n",
       "    <tr>\n",
       "      <th>2020-08-29</th>\n",
       "      <td>878572.0</td>\n",
       "    </tr>\n",
       "    <tr>\n",
       "      <th>2020-08-30</th>\n",
       "      <td>878572.0</td>\n",
       "    </tr>\n",
       "    <tr>\n",
       "      <th>2020-08-31</th>\n",
       "      <td>925716.0</td>\n",
       "    </tr>\n",
       "    <tr>\n",
       "      <th>2020-09-01</th>\n",
       "      <td>941946.0</td>\n",
       "    </tr>\n",
       "  </tbody>\n",
       "</table>\n",
       "</div>"
      ],
      "text/plain": [
       "                   0\n",
       "2020-08-28  878572.0\n",
       "2020-08-29  878572.0\n",
       "2020-08-30  878572.0\n",
       "2020-08-31  925716.0\n",
       "2020-09-01  941946.0"
      ]
     },
     "execution_count": 4,
     "metadata": {},
     "output_type": "execute_result"
    }
   ],
   "source": [
    "confirmed_country_columns = list(filter(lambda x: x.startswith(\"Country_\"), confirmed_df.columns))\n",
    "confirmed_regional_columns = confirmed_country_columns + [\"Region\"]\n",
    "confirmed_df.drop(columns=confirmed_regional_columns, inplace=True)\n",
    "confirmed_df = confirmed_df.sum().to_frame()\n",
    "confirmed_df.tail()"
   ]
  },
  {
   "cell_type": "code",
   "execution_count": 5,
   "metadata": {
    "collapsed": false,
    "execution": {
     "iopub.execute_input": "2020-09-02T11:17:03.364234Z",
     "iopub.status.busy": "2020-09-02T11:17:03.360248Z",
     "iopub.status.idle": "2020-09-02T11:17:03.377997Z",
     "shell.execute_reply": "2020-09-02T11:17:03.378525Z"
    },
    "papermill": {
     "duration": 0.044289,
     "end_time": "2020-09-02T11:17:03.378689",
     "exception": false,
     "start_time": "2020-09-02T11:17:03.334400",
     "status": "completed"
    },
    "pycharm": {
     "name": "#%%\n"
    },
    "tags": []
   },
   "outputs": [
    {
     "data": {
      "text/html": [
       "<div>\n",
       "<style scoped>\n",
       "    .dataframe tbody tr th:only-of-type {\n",
       "        vertical-align: middle;\n",
       "    }\n",
       "\n",
       "    .dataframe tbody tr th {\n",
       "        vertical-align: top;\n",
       "    }\n",
       "\n",
       "    .dataframe thead th {\n",
       "        text-align: right;\n",
       "    }\n",
       "</style>\n",
       "<table border=\"1\" class=\"dataframe\">\n",
       "  <thead>\n",
       "    <tr style=\"text-align: right;\">\n",
       "      <th></th>\n",
       "      <th>sample_date_string</th>\n",
       "      <th>cumulative_cases</th>\n",
       "      <th>new_cases</th>\n",
       "      <th>rolling_mean_new_cases</th>\n",
       "    </tr>\n",
       "  </thead>\n",
       "  <tbody>\n",
       "    <tr>\n",
       "      <th>218</th>\n",
       "      <td>2020-08-28</td>\n",
       "      <td>878572.0</td>\n",
       "      <td>19558.0</td>\n",
       "      <td>15209.142857</td>\n",
       "    </tr>\n",
       "    <tr>\n",
       "      <th>219</th>\n",
       "      <td>2020-08-29</td>\n",
       "      <td>878572.0</td>\n",
       "      <td>0.0</td>\n",
       "      <td>15209.142857</td>\n",
       "    </tr>\n",
       "    <tr>\n",
       "      <th>220</th>\n",
       "      <td>2020-08-30</td>\n",
       "      <td>878572.0</td>\n",
       "      <td>0.0</td>\n",
       "      <td>15209.142857</td>\n",
       "    </tr>\n",
       "    <tr>\n",
       "      <th>221</th>\n",
       "      <td>2020-08-31</td>\n",
       "      <td>925716.0</td>\n",
       "      <td>47144.0</td>\n",
       "      <td>16406.285714</td>\n",
       "    </tr>\n",
       "    <tr>\n",
       "      <th>222</th>\n",
       "      <td>2020-09-01</td>\n",
       "      <td>941946.0</td>\n",
       "      <td>16230.0</td>\n",
       "      <td>16691.428571</td>\n",
       "    </tr>\n",
       "  </tbody>\n",
       "</table>\n",
       "</div>"
      ],
      "text/plain": [
       "    sample_date_string  cumulative_cases  new_cases  rolling_mean_new_cases\n",
       "218         2020-08-28          878572.0    19558.0            15209.142857\n",
       "219         2020-08-29          878572.0        0.0            15209.142857\n",
       "220         2020-08-30          878572.0        0.0            15209.142857\n",
       "221         2020-08-31          925716.0    47144.0            16406.285714\n",
       "222         2020-09-01          941946.0    16230.0            16691.428571"
      ]
     },
     "execution_count": 5,
     "metadata": {},
     "output_type": "execute_result"
    }
   ],
   "source": [
    "confirmed_df.reset_index(inplace=True)\n",
    "confirmed_df.columns = [\"sample_date_string\", \"cumulative_cases\"]\n",
    "confirmed_df.sort_values(\"sample_date_string\", inplace=True)\n",
    "confirmed_df[\"new_cases\"] = confirmed_df.cumulative_cases.diff()\n",
    "confirmed_df[\"rolling_mean_new_cases\"] = confirmed_df.new_cases.rolling(7).mean()\n",
    "confirmed_df.tail()"
   ]
  },
  {
   "cell_type": "code",
   "execution_count": 6,
   "metadata": {
    "execution": {
     "iopub.execute_input": "2020-09-02T11:17:03.434544Z",
     "iopub.status.busy": "2020-09-02T11:17:03.433945Z",
     "iopub.status.idle": "2020-09-02T11:17:03.444159Z",
     "shell.execute_reply": "2020-09-02T11:17:03.444608Z"
    },
    "papermill": {
     "duration": 0.043172,
     "end_time": "2020-09-02T11:17:03.444770",
     "exception": false,
     "start_time": "2020-09-02T11:17:03.401598",
     "status": "completed"
    },
    "pycharm": {
     "name": "#%%\n"
    },
    "tags": []
   },
   "outputs": [
    {
     "data": {
      "text/html": [
       "<div>\n",
       "<style scoped>\n",
       "    .dataframe tbody tr th:only-of-type {\n",
       "        vertical-align: middle;\n",
       "    }\n",
       "\n",
       "    .dataframe tbody tr th {\n",
       "        vertical-align: top;\n",
       "    }\n",
       "\n",
       "    .dataframe thead th {\n",
       "        text-align: right;\n",
       "    }\n",
       "</style>\n",
       "<table border=\"1\" class=\"dataframe\">\n",
       "  <thead>\n",
       "    <tr style=\"text-align: right;\">\n",
       "      <th></th>\n",
       "      <th>sample_date_string</th>\n",
       "      <th>cumulative_cases</th>\n",
       "      <th>new_cases</th>\n",
       "      <th>rolling_mean_new_cases</th>\n",
       "    </tr>\n",
       "  </thead>\n",
       "  <tbody>\n",
       "    <tr>\n",
       "      <th>219</th>\n",
       "      <td>2020-08-29</td>\n",
       "      <td>878572.000000</td>\n",
       "      <td>0.000000</td>\n",
       "      <td>15209.142857</td>\n",
       "    </tr>\n",
       "    <tr>\n",
       "      <th>220</th>\n",
       "      <td>2020-08-30</td>\n",
       "      <td>878572.000000</td>\n",
       "      <td>0.000000</td>\n",
       "      <td>15209.142857</td>\n",
       "    </tr>\n",
       "    <tr>\n",
       "      <th>221</th>\n",
       "      <td>2020-08-31</td>\n",
       "      <td>925716.000000</td>\n",
       "      <td>47144.000000</td>\n",
       "      <td>16406.285714</td>\n",
       "    </tr>\n",
       "    <tr>\n",
       "      <th>222</th>\n",
       "      <td>2020-09-01</td>\n",
       "      <td>941946.000000</td>\n",
       "      <td>16230.000000</td>\n",
       "      <td>16691.428571</td>\n",
       "    </tr>\n",
       "    <tr>\n",
       "      <th>222</th>\n",
       "      <td>2020-09-02</td>\n",
       "      <td>958637.428571</td>\n",
       "      <td>16691.428571</td>\n",
       "      <td>16691.428571</td>\n",
       "    </tr>\n",
       "  </tbody>\n",
       "</table>\n",
       "</div>"
      ],
      "text/plain": [
       "    sample_date_string  cumulative_cases     new_cases  rolling_mean_new_cases\n",
       "219         2020-08-29     878572.000000      0.000000            15209.142857\n",
       "220         2020-08-30     878572.000000      0.000000            15209.142857\n",
       "221         2020-08-31     925716.000000  47144.000000            16406.285714\n",
       "222         2020-09-01     941946.000000  16230.000000            16691.428571\n",
       "222         2020-09-02     958637.428571  16691.428571            16691.428571"
      ]
     },
     "execution_count": 6,
     "metadata": {},
     "output_type": "execute_result"
    }
   ],
   "source": [
    "extraction_date_confirmed_df = \\\n",
    "    confirmed_df[confirmed_df.sample_date_string == extraction_date]\n",
    "extraction_previous_date_confirmed_df = \\\n",
    "    confirmed_df[confirmed_df.sample_date_string == extraction_previous_date].copy()\n",
    "\n",
    "if extraction_date_confirmed_df.empty and \\\n",
    "    not extraction_previous_date_confirmed_df.empty:\n",
    "        extraction_previous_date_confirmed_df[\"sample_date_string\"] = extraction_date\n",
    "        extraction_previous_date_confirmed_df[\"new_cases\"] = \\\n",
    "            extraction_previous_date_confirmed_df.rolling_mean_new_cases\n",
    "        extraction_previous_date_confirmed_df[\"cumulative_cases\"] = \\\n",
    "            extraction_previous_date_confirmed_df.new_cases + \\\n",
    "            extraction_previous_date_confirmed_df.cumulative_cases\n",
    "        confirmed_df = confirmed_df.append(extraction_previous_date_confirmed_df)\n",
    "        \n",
    "confirmed_df.tail()"
   ]
  },
  {
   "cell_type": "code",
   "execution_count": 7,
   "metadata": {
    "execution": {
     "iopub.execute_input": "2020-09-02T11:17:03.512651Z",
     "iopub.status.busy": "2020-09-02T11:17:03.512090Z",
     "iopub.status.idle": "2020-09-02T11:17:03.711692Z",
     "shell.execute_reply": "2020-09-02T11:17:03.712304Z"
    },
    "papermill": {
     "duration": 0.243911,
     "end_time": "2020-09-02T11:17:03.712462",
     "exception": false,
     "start_time": "2020-09-02T11:17:03.468551",
     "status": "completed"
    },
    "pycharm": {
     "name": "#%%\n"
    },
    "tags": []
   },
   "outputs": [
    {
     "data": {
      "text/plain": [
       "<matplotlib.axes._subplots.AxesSubplot at 0x7f1220825b20>"
      ]
     },
     "execution_count": 7,
     "metadata": {},
     "output_type": "execute_result"
    },
    {
     "data": {
      "image/png": "[encoded data removed]",
      "text/plain": [
       "<Figure size 1080x432 with 1 Axes>"
      ]
     },
     "metadata": {},
     "output_type": "display_data"
    }
   ],
   "source": [
    "confirmed_df[[\"new_cases\", \"rolling_mean_new_cases\"]].plot()"
   ]
  },
  {
   "cell_type": "markdown",
   "metadata": {
    "execution": {
     "iopub.execute_input": "2020-08-30T22:30:16.351238Z",
     "iopub.status.busy": "2020-08-30T22:30:16.344579Z",
     "iopub.status.idle": "2020-08-30T22:30:16.354285Z",
     "shell.execute_reply": "2020-08-30T22:30:16.353641Z"
    },
    "papermill": {
     "duration": 0.025837,
     "end_time": "2020-09-02T11:17:03.764542",
     "exception": false,
     "start_time": "2020-09-02T11:17:03.738705",
     "status": "completed"
    },
    "pycharm": {
     "name": "#%% md\n"
    },
    "tags": []
   },
   "source": [
    "### Extract API TEKs"
   ]
  },
  {
   "cell_type": "code",
   "execution_count": 8,
   "metadata": {
    "execution": {
     "iopub.execute_input": "2020-09-02T11:17:03.820479Z",
     "iopub.status.busy": "2020-09-02T11:17:03.819670Z",
     "iopub.status.idle": "2020-09-02T11:17:04.305935Z",
     "shell.execute_reply": "2020-09-02T11:17:04.306673Z"
    },
    "papermill": {
     "duration": 0.517159,
     "end_time": "2020-09-02T11:17:04.306831",
     "exception": false,
     "start_time": "2020-09-02T11:17:03.789672",
     "status": "completed"
    },
    "pycharm": {
     "name": "#%%\n"
    },
    "tags": []
   },
   "outputs": [
    {
     "name": "stderr",
     "output_type": "stream",
     "text": [
      "WARNING:root:NoDataFoundForDateException(\"No exposed tokens found for day '2020-09-02'.\")\n"
     ]
    },
    {
     "data": {
      "text/html": [
       "<div>\n",
       "<style scoped>\n",
       "    .dataframe tbody tr th:only-of-type {\n",
       "        vertical-align: middle;\n",
       "    }\n",
       "\n",
       "    .dataframe tbody tr th {\n",
       "        vertical-align: top;\n",
       "    }\n",
       "\n",
       "    .dataframe thead th {\n",
       "        text-align: right;\n",
       "    }\n",
       "</style>\n",
       "<table border=\"1\" class=\"dataframe\">\n",
       "  <thead>\n",
       "    <tr style=\"text-align: right;\">\n",
       "      <th></th>\n",
       "      <th>sample_date_string</th>\n",
       "      <th>source_url</th>\n",
       "      <th>region</th>\n",
       "      <th>key_data</th>\n",
       "    </tr>\n",
       "  </thead>\n",
       "  <tbody>\n",
       "    <tr>\n",
       "      <th>0</th>\n",
       "      <td>2020-09-01</td>\n",
       "      <td>https://radarcovid.covid19.gob.es/dp3t/v1/gaen...</td>\n",
       "      <td>ES</td>\n",
       "      <td>3a98a7ea-3d55-dd21-91db-f1697f4d031d</td>\n",
       "    </tr>\n",
       "    <tr>\n",
       "      <th>1</th>\n",
       "      <td>2020-09-01</td>\n",
       "      <td>https://radarcovid.covid19.gob.es/dp3t/v1/gaen...</td>\n",
       "      <td>ES</td>\n",
       "      <td>c32baf8f-6751-d30a-5ba8-534be38c3ec6</td>\n",
       "    </tr>\n",
       "    <tr>\n",
       "      <th>2</th>\n",
       "      <td>2020-09-01</td>\n",
       "      <td>https://radarcovid.covid19.gob.es/dp3t/v1/gaen...</td>\n",
       "      <td>ES</td>\n",
       "      <td>5b037ee0-a43e-c491-74f9-a3ca203822d4</td>\n",
       "    </tr>\n",
       "    <tr>\n",
       "      <th>3</th>\n",
       "      <td>2020-09-01</td>\n",
       "      <td>https://radarcovid.covid19.gob.es/dp3t/v1/gaen...</td>\n",
       "      <td>ES</td>\n",
       "      <td>fb28cf6b-b077-d8bc-b09d-0c5f7bcc4aee</td>\n",
       "    </tr>\n",
       "    <tr>\n",
       "      <th>0</th>\n",
       "      <td>2020-08-31</td>\n",
       "      <td>https://radarcovid.covid19.gob.es/dp3t/v1/gaen...</td>\n",
       "      <td>ES</td>\n",
       "      <td>e3eb2925-7440-e849-503d-7c73c1e82a1f</td>\n",
       "    </tr>\n",
       "  </tbody>\n",
       "</table>\n",
       "</div>"
      ],
      "text/plain": [
       "  sample_date_string                                         source_url  \\\n",
       "0         2020-09-01  https://radarcovid.covid19.gob.es/dp3t/v1/gaen...   \n",
       "1         2020-09-01  https://radarcovid.covid19.gob.es/dp3t/v1/gaen...   \n",
       "2         2020-09-01  https://radarcovid.covid19.gob.es/dp3t/v1/gaen...   \n",
       "3         2020-09-01  https://radarcovid.covid19.gob.es/dp3t/v1/gaen...   \n",
       "0         2020-08-31  https://radarcovid.covid19.gob.es/dp3t/v1/gaen...   \n",
       "\n",
       "  region                              key_data  \n",
       "0     ES  3a98a7ea-3d55-dd21-91db-f1697f4d031d  \n",
       "1     ES  c32baf8f-6751-d30a-5ba8-534be38c3ec6  \n",
       "2     ES  5b037ee0-a43e-c491-74f9-a3ca203822d4  \n",
       "3     ES  fb28cf6b-b077-d8bc-b09d-0c5f7bcc4aee  \n",
       "0     ES  e3eb2925-7440-e849-503d-7c73c1e82a1f  "
      ]
     },
     "execution_count": 8,
     "metadata": {},
     "output_type": "execute_result"
    }
   ],
   "source": [
    "from Modules.RadarCOVID import radar_covid\n",
    "\n",
    "exposure_keys_df = radar_covid.download_last_radar_covid_exposure_keys(days=14)\n",
    "exposure_keys_df[[\n",
    "    \"sample_date_string\", \"source_url\", \"region\", \"key_data\"]].head()"
   ]
  },
  {
   "cell_type": "code",
   "execution_count": 9,
   "metadata": {
    "execution": {
     "iopub.execute_input": "2020-09-02T11:17:04.364787Z",
     "iopub.status.busy": "2020-09-02T11:17:04.364187Z",
     "iopub.status.idle": "2020-09-02T11:17:04.375076Z",
     "shell.execute_reply": "2020-09-02T11:17:04.374377Z"
    },
    "papermill": {
     "duration": 0.042144,
     "end_time": "2020-09-02T11:17:04.375224",
     "exception": false,
     "start_time": "2020-09-02T11:17:04.333080",
     "status": "completed"
    },
    "scrolled": false,
    "tags": []
   },
   "outputs": [
    {
     "data": {
      "text/html": [
       "<div>\n",
       "<style scoped>\n",
       "    .dataframe tbody tr th:only-of-type {\n",
       "        vertical-align: middle;\n",
       "    }\n",
       "\n",
       "    .dataframe tbody tr th {\n",
       "        vertical-align: top;\n",
       "    }\n",
       "\n",
       "    .dataframe thead th {\n",
       "        text-align: right;\n",
       "    }\n",
       "</style>\n",
       "<table border=\"1\" class=\"dataframe\">\n",
       "  <thead>\n",
       "    <tr style=\"text-align: right;\">\n",
       "      <th></th>\n",
       "      <th>tek_count</th>\n",
       "    </tr>\n",
       "    <tr>\n",
       "      <th>sample_date_string</th>\n",
       "      <th></th>\n",
       "    </tr>\n",
       "  </thead>\n",
       "  <tbody>\n",
       "    <tr>\n",
       "      <th>2020-09-01</th>\n",
       "      <td>4</td>\n",
       "    </tr>\n",
       "    <tr>\n",
       "      <th>2020-08-31</th>\n",
       "      <td>16</td>\n",
       "    </tr>\n",
       "    <tr>\n",
       "      <th>2020-08-30</th>\n",
       "      <td>34</td>\n",
       "    </tr>\n",
       "    <tr>\n",
       "      <th>2020-08-29</th>\n",
       "      <td>36</td>\n",
       "    </tr>\n",
       "    <tr>\n",
       "      <th>2020-08-28</th>\n",
       "      <td>51</td>\n",
       "    </tr>\n",
       "  </tbody>\n",
       "</table>\n",
       "</div>"
      ],
      "text/plain": [
       "                    tek_count\n",
       "sample_date_string           \n",
       "2020-09-01                  4\n",
       "2020-08-31                 16\n",
       "2020-08-30                 34\n",
       "2020-08-29                 36\n",
       "2020-08-28                 51"
      ]
     },
     "execution_count": 9,
     "metadata": {},
     "output_type": "execute_result"
    }
   ],
   "source": [
    "exposure_keys_summary_df = \\\n",
    "    exposure_keys_df.groupby([\"sample_date_string\"]).key_data.nunique().to_frame()\n",
    "exposure_keys_summary_df.sort_index(ascending=False, inplace=True)\n",
    "exposure_keys_summary_df.rename(columns={\"key_data\": \"tek_count\"}, inplace=True)\n",
    "exposure_keys_summary_df.head()"
   ]
  },
  {
   "cell_type": "markdown",
   "metadata": {
    "papermill": {
     "duration": 0.027142,
     "end_time": "2020-09-02T11:17:04.429028",
     "exception": false,
     "start_time": "2020-09-02T11:17:04.401886",
     "status": "completed"
    },
    "tags": []
   },
   "source": [
    "### Dump API TEKs"
   ]
  },
  {
   "cell_type": "code",
   "execution_count": 10,
   "metadata": {
    "execution": {
     "iopub.execute_input": "2020-09-02T11:17:04.493526Z",
     "iopub.status.busy": "2020-09-02T11:17:04.492916Z",
     "iopub.status.idle": "2020-09-02T11:17:04.514014Z",
     "shell.execute_reply": "2020-09-02T11:17:04.513513Z"
    },
    "papermill": {
     "duration": 0.057919,
     "end_time": "2020-09-02T11:17:04.514160",
     "exception": false,
     "start_time": "2020-09-02T11:17:04.456241",
     "status": "completed"
    },
    "tags": []
   },
   "outputs": [
    {
     "data": {
      "text/html": [
       "<div>\n",
       "<style scoped>\n",
       "    .dataframe tbody tr th:only-of-type {\n",
       "        vertical-align: middle;\n",
       "    }\n",
       "\n",
       "    .dataframe tbody tr th {\n",
       "        vertical-align: top;\n",
       "    }\n",
       "\n",
       "    .dataframe thead th {\n",
       "        text-align: right;\n",
       "    }\n",
       "</style>\n",
       "<table border=\"1\" class=\"dataframe\">\n",
       "  <thead>\n",
       "    <tr style=\"text-align: right;\">\n",
       "      <th></th>\n",
       "      <th>sample_date</th>\n",
       "      <th>tek_list</th>\n",
       "      <th>extraction_date</th>\n",
       "      <th>extraction_date_with_hour</th>\n",
       "    </tr>\n",
       "  </thead>\n",
       "  <tbody>\n",
       "    <tr>\n",
       "      <th>0</th>\n",
       "      <td>2020-08-20</td>\n",
       "      <td>[5c4885a2-5c65-d6aa-8eed-7d607f106647, e6c3ca3...</td>\n",
       "      <td>2020-09-02</td>\n",
       "      <td>2020-09-02@11</td>\n",
       "    </tr>\n",
       "    <tr>\n",
       "      <th>1</th>\n",
       "      <td>2020-08-21</td>\n",
       "      <td>[53c82402-7f1c-e203-7abc-593dc3a8a9fe, fd16f69...</td>\n",
       "      <td>2020-09-02</td>\n",
       "      <td>2020-09-02@11</td>\n",
       "    </tr>\n",
       "    <tr>\n",
       "      <th>2</th>\n",
       "      <td>2020-08-22</td>\n",
       "      <td>[316fcc1d-9bdb-69ae-b997-70b5b4ca1d74, 33b23da...</td>\n",
       "      <td>2020-09-02</td>\n",
       "      <td>2020-09-02@11</td>\n",
       "    </tr>\n",
       "    <tr>\n",
       "      <th>3</th>\n",
       "      <td>2020-08-23</td>\n",
       "      <td>[3dda2de2-fc66-33b9-cf6b-c7b85f8683d5, c0a53a0...</td>\n",
       "      <td>2020-09-02</td>\n",
       "      <td>2020-09-02@11</td>\n",
       "    </tr>\n",
       "    <tr>\n",
       "      <th>4</th>\n",
       "      <td>2020-08-24</td>\n",
       "      <td>[b040f48d-d3f9-6518-2b3d-24037d185437, bbc28f7...</td>\n",
       "      <td>2020-09-02</td>\n",
       "      <td>2020-09-02@11</td>\n",
       "    </tr>\n",
       "  </tbody>\n",
       "</table>\n",
       "</div>"
      ],
      "text/plain": [
       "  sample_date                                           tek_list  \\\n",
       "0  2020-08-20  [5c4885a2-5c65-d6aa-8eed-7d607f106647, e6c3ca3...   \n",
       "1  2020-08-21  [53c82402-7f1c-e203-7abc-593dc3a8a9fe, fd16f69...   \n",
       "2  2020-08-22  [316fcc1d-9bdb-69ae-b997-70b5b4ca1d74, 33b23da...   \n",
       "3  2020-08-23  [3dda2de2-fc66-33b9-cf6b-c7b85f8683d5, c0a53a0...   \n",
       "4  2020-08-24  [b040f48d-d3f9-6518-2b3d-24037d185437, bbc28f7...   \n",
       "\n",
       "  extraction_date extraction_date_with_hour  \n",
       "0      2020-09-02             2020-09-02@11  \n",
       "1      2020-09-02             2020-09-02@11  \n",
       "2      2020-09-02             2020-09-02@11  \n",
       "3      2020-09-02             2020-09-02@11  \n",
       "4      2020-09-02             2020-09-02@11  "
      ]
     },
     "execution_count": 10,
     "metadata": {},
     "output_type": "execute_result"
    }
   ],
   "source": [
    "tek_list_df = exposure_keys_df[[\"sample_date_string\", \"key_data\"]].copy()\n",
    "tek_list_df[\"key_data\"] = tek_list_df[\"key_data\"].apply(str)\n",
    "tek_list_df.rename(columns={\n",
    "    \"sample_date_string\": \"sample_date\",\n",
    "    \"key_data\": \"tek_list\"}, inplace=True)\n",
    "tek_list_df = tek_list_df.groupby(\n",
    "    \"sample_date\").tek_list.unique().reset_index()\n",
    "tek_list_df[\"extraction_date\"] = extraction_date\n",
    "tek_list_df[\"extraction_date_with_hour\"] = extraction_date_with_hour\n",
    "tek_list_df.drop(columns=[\"extraction_date\", \"extraction_date_with_hour\"]).to_json(\n",
    "    \"Data/TEKs/Current/RadarCOVID-TEKs.json\",\n",
    "    lines=True, orient=\"records\")\n",
    "tek_list_df.drop(columns=[\"extraction_date_with_hour\"]).to_json(\n",
    "    \"Data/TEKs/Daily/RadarCOVID-TEKs-\" + extraction_date + \".json\",\n",
    "    lines=True, orient=\"records\")\n",
    "tek_list_df.to_json(\n",
    "    \"Data/TEKs/Hourly/RadarCOVID-TEKs-\" + extraction_date_with_hour + \".json\",\n",
    "    lines=True, orient=\"records\")\n",
    "tek_list_df.head()"
   ]
  },
  {
   "cell_type": "markdown",
   "metadata": {
    "papermill": {
     "duration": 0.027364,
     "end_time": "2020-09-02T11:17:04.568883",
     "exception": false,
     "start_time": "2020-09-02T11:17:04.541519",
     "status": "completed"
    },
    "tags": []
   },
   "source": [
    "### Load TEK Dumps"
   ]
  },
  {
   "cell_type": "code",
   "execution_count": 11,
   "metadata": {
    "execution": {
     "iopub.execute_input": "2020-09-02T11:17:04.630708Z",
     "iopub.status.busy": "2020-09-02T11:17:04.630130Z",
     "iopub.status.idle": "2020-09-02T11:17:04.632421Z",
     "shell.execute_reply": "2020-09-02T11:17:04.631935Z"
    },
    "papermill": {
     "duration": 0.036297,
     "end_time": "2020-09-02T11:17:04.632551",
     "exception": false,
     "start_time": "2020-09-02T11:17:04.596254",
     "status": "completed"
    },
    "tags": []
   },
   "outputs": [],
   "source": [
    "import glob\n",
    "\n",
    "def load_extracted_teks(mode, limit=None) -> pd.DataFrame:\n",
    "    extracted_teks_df = pd.DataFrame()\n",
    "    paths = list(reversed(sorted(glob.glob(f\"Data/TEKs/{mode}/RadarCOVID-TEKs-*.json\"))))\n",
    "    if limit:\n",
    "        paths = paths[:limit]\n",
    "    for path in paths:\n",
    "        logging.info(f\"Loading TEKs from '{path}'...\")\n",
    "        iteration_extracted_teks_df = pd.read_json(path, lines=True)\n",
    "        extracted_teks_df = extracted_teks_df.append(\n",
    "            iteration_extracted_teks_df, sort=False)\n",
    "    return extracted_teks_df"
   ]
  },
  {
   "cell_type": "markdown",
   "metadata": {
    "execution": {
     "iopub.execute_input": "2020-08-30T22:30:16.632967Z",
     "iopub.status.busy": "2020-08-30T22:30:16.632308Z",
     "iopub.status.idle": "2020-08-30T22:30:16.634945Z",
     "shell.execute_reply": "2020-08-30T22:30:16.635575Z"
    },
    "papermill": {
     "duration": 0.027271,
     "end_time": "2020-09-02T11:17:04.687425",
     "exception": false,
     "start_time": "2020-09-02T11:17:04.660154",
     "status": "completed"
    },
    "pycharm": {
     "name": "#%% md\n"
    },
    "tags": []
   },
   "source": [
    "### Daily New TEKs"
   ]
  },
  {
   "cell_type": "code",
   "execution_count": 12,
   "metadata": {
    "execution": {
     "iopub.execute_input": "2020-09-02T11:17:04.746090Z",
     "iopub.status.busy": "2020-09-02T11:17:04.745560Z",
     "iopub.status.idle": "2020-09-02T11:17:04.779785Z",
     "shell.execute_reply": "2020-09-02T11:17:04.780213Z"
    },
    "papermill": {
     "duration": 0.065563,
     "end_time": "2020-09-02T11:17:04.780378",
     "exception": false,
     "start_time": "2020-09-02T11:17:04.714815",
     "status": "completed"
    },
    "tags": []
   },
   "outputs": [
    {
     "data": {
      "text/html": [
       "<div>\n",
       "<style scoped>\n",
       "    .dataframe tbody tr th:only-of-type {\n",
       "        vertical-align: middle;\n",
       "    }\n",
       "\n",
       "    .dataframe tbody tr th {\n",
       "        vertical-align: top;\n",
       "    }\n",
       "\n",
       "    .dataframe thead th {\n",
       "        text-align: right;\n",
       "    }\n",
       "</style>\n",
       "<table border=\"1\" class=\"dataframe\">\n",
       "  <thead>\n",
       "    <tr style=\"text-align: right;\">\n",
       "      <th></th>\n",
       "      <th>sample_date</th>\n",
       "      <th>tek_list</th>\n",
       "      <th>extraction_date</th>\n",
       "      <th>extraction_date_with_hour</th>\n",
       "    </tr>\n",
       "  </thead>\n",
       "  <tbody>\n",
       "    <tr>\n",
       "      <th>0</th>\n",
       "      <td>2020-08-20</td>\n",
       "      <td>[5c4885a2-5c65-d6aa-8eed-7d607f106647, e6c3ca3...</td>\n",
       "      <td>2020-09-02</td>\n",
       "      <td>NaN</td>\n",
       "    </tr>\n",
       "    <tr>\n",
       "      <th>1</th>\n",
       "      <td>2020-08-21</td>\n",
       "      <td>[53c82402-7f1c-e203-7abc-593dc3a8a9fe, fd16f69...</td>\n",
       "      <td>2020-09-02</td>\n",
       "      <td>NaN</td>\n",
       "    </tr>\n",
       "    <tr>\n",
       "      <th>2</th>\n",
       "      <td>2020-08-22</td>\n",
       "      <td>[316fcc1d-9bdb-69ae-b997-70b5b4ca1d74, 33b23da...</td>\n",
       "      <td>2020-09-02</td>\n",
       "      <td>NaN</td>\n",
       "    </tr>\n",
       "    <tr>\n",
       "      <th>3</th>\n",
       "      <td>2020-08-23</td>\n",
       "      <td>[3dda2de2-fc66-33b9-cf6b-c7b85f8683d5, c0a53a0...</td>\n",
       "      <td>2020-09-02</td>\n",
       "      <td>NaN</td>\n",
       "    </tr>\n",
       "    <tr>\n",
       "      <th>4</th>\n",
       "      <td>2020-08-24</td>\n",
       "      <td>[b040f48d-d3f9-6518-2b3d-24037d185437, bbc28f7...</td>\n",
       "      <td>2020-09-02</td>\n",
       "      <td>NaN</td>\n",
       "    </tr>\n",
       "  </tbody>\n",
       "</table>\n",
       "</div>"
      ],
      "text/plain": [
       "  sample_date                                           tek_list  \\\n",
       "0  2020-08-20  [5c4885a2-5c65-d6aa-8eed-7d607f106647, e6c3ca3...   \n",
       "1  2020-08-21  [53c82402-7f1c-e203-7abc-593dc3a8a9fe, fd16f69...   \n",
       "2  2020-08-22  [316fcc1d-9bdb-69ae-b997-70b5b4ca1d74, 33b23da...   \n",
       "3  2020-08-23  [3dda2de2-fc66-33b9-cf6b-c7b85f8683d5, c0a53a0...   \n",
       "4  2020-08-24  [b040f48d-d3f9-6518-2b3d-24037d185437, bbc28f7...   \n",
       "\n",
       "  extraction_date extraction_date_with_hour  \n",
       "0      2020-09-02                       NaN  \n",
       "1      2020-09-02                       NaN  \n",
       "2      2020-09-02                       NaN  \n",
       "3      2020-09-02                       NaN  \n",
       "4      2020-09-02                       NaN  "
      ]
     },
     "execution_count": 12,
     "metadata": {},
     "output_type": "execute_result"
    }
   ],
   "source": [
    "daily_extracted_teks_df = load_extracted_teks(mode=\"Daily\", limit=14)\n",
    "daily_extracted_teks_df.head()"
   ]
  },
  {
   "cell_type": "code",
   "execution_count": 13,
   "metadata": {
    "execution": {
     "iopub.execute_input": "2020-09-02T11:17:04.856263Z",
     "iopub.status.busy": "2020-09-02T11:17:04.855640Z",
     "iopub.status.idle": "2020-09-02T11:17:04.859043Z",
     "shell.execute_reply": "2020-09-02T11:17:04.858582Z"
    },
    "papermill": {
     "duration": 0.051563,
     "end_time": "2020-09-02T11:17:04.859179",
     "exception": false,
     "start_time": "2020-09-02T11:17:04.807616",
     "status": "completed"
    },
    "tags": []
   },
   "outputs": [
    {
     "data": {
      "text/html": [
       "<div>\n",
       "<style scoped>\n",
       "    .dataframe tbody tr th:only-of-type {\n",
       "        vertical-align: middle;\n",
       "    }\n",
       "\n",
       "    .dataframe tbody tr th {\n",
       "        vertical-align: top;\n",
       "    }\n",
       "\n",
       "    .dataframe thead th {\n",
       "        text-align: right;\n",
       "    }\n",
       "</style>\n",
       "<table border=\"1\" class=\"dataframe\">\n",
       "  <thead>\n",
       "    <tr style=\"text-align: right;\">\n",
       "      <th></th>\n",
       "      <th>tek_list</th>\n",
       "    </tr>\n",
       "    <tr>\n",
       "      <th>extraction_date</th>\n",
       "      <th></th>\n",
       "    </tr>\n",
       "  </thead>\n",
       "  <tbody>\n",
       "    <tr>\n",
       "      <th>2020-08-29</th>\n",
       "      <td>{7b4fe3e7-966d-77d9-4690-ac38325d4f8c, af21451...</td>\n",
       "    </tr>\n",
       "    <tr>\n",
       "      <th>2020-08-30</th>\n",
       "      <td>{7b4fe3e7-966d-77d9-4690-ac38325d4f8c, af21451...</td>\n",
       "    </tr>\n",
       "    <tr>\n",
       "      <th>2020-08-31</th>\n",
       "      <td>{c29e54f9-beec-3dc1-c97b-63b37d328988, 7b4fe3e...</td>\n",
       "    </tr>\n",
       "    <tr>\n",
       "      <th>2020-09-01</th>\n",
       "      <td>{c29e54f9-beec-3dc1-c97b-63b37d328988, 7b4fe3e...</td>\n",
       "    </tr>\n",
       "    <tr>\n",
       "      <th>2020-09-02</th>\n",
       "      <td>{c29e54f9-beec-3dc1-c97b-63b37d328988, 7b4fe3e...</td>\n",
       "    </tr>\n",
       "  </tbody>\n",
       "</table>\n",
       "</div>"
      ],
      "text/plain": [
       "                                                          tek_list\n",
       "extraction_date                                                   \n",
       "2020-08-29       {7b4fe3e7-966d-77d9-4690-ac38325d4f8c, af21451...\n",
       "2020-08-30       {7b4fe3e7-966d-77d9-4690-ac38325d4f8c, af21451...\n",
       "2020-08-31       {c29e54f9-beec-3dc1-c97b-63b37d328988, 7b4fe3e...\n",
       "2020-09-01       {c29e54f9-beec-3dc1-c97b-63b37d328988, 7b4fe3e...\n",
       "2020-09-02       {c29e54f9-beec-3dc1-c97b-63b37d328988, 7b4fe3e..."
      ]
     },
     "execution_count": 13,
     "metadata": {},
     "output_type": "execute_result"
    }
   ],
   "source": [
    "tek_list_df = daily_extracted_teks_df.groupby(\"extraction_date\").tek_list.apply(\n",
    "    lambda x: set(sum(x, []))).reset_index()\n",
    "tek_list_df = tek_list_df.set_index(\"extraction_date\").sort_index(ascending=True)\n",
    "tek_list_df.head()"
   ]
  },
  {
   "cell_type": "code",
   "execution_count": 14,
   "metadata": {
    "execution": {
     "iopub.execute_input": "2020-09-02T11:17:04.928082Z",
     "iopub.status.busy": "2020-09-02T11:17:04.927464Z",
     "iopub.status.idle": "2020-09-02T11:17:04.930548Z",
     "shell.execute_reply": "2020-09-02T11:17:04.929990Z"
    },
    "papermill": {
     "duration": 0.04364,
     "end_time": "2020-09-02T11:17:04.930679",
     "exception": false,
     "start_time": "2020-09-02T11:17:04.887039",
     "status": "completed"
    },
    "tags": []
   },
   "outputs": [
    {
     "data": {
      "text/html": [
       "<div>\n",
       "<style scoped>\n",
       "    .dataframe tbody tr th:only-of-type {\n",
       "        vertical-align: middle;\n",
       "    }\n",
       "\n",
       "    .dataframe tbody tr th {\n",
       "        vertical-align: top;\n",
       "    }\n",
       "\n",
       "    .dataframe thead th {\n",
       "        text-align: right;\n",
       "    }\n",
       "</style>\n",
       "<table border=\"1\" class=\"dataframe\">\n",
       "  <thead>\n",
       "    <tr style=\"text-align: right;\">\n",
       "      <th></th>\n",
       "      <th>sample_date_string</th>\n",
       "      <th>new_tek_count</th>\n",
       "    </tr>\n",
       "  </thead>\n",
       "  <tbody>\n",
       "    <tr>\n",
       "      <th>0</th>\n",
       "      <td>2020-08-29</td>\n",
       "      <td>NaN</td>\n",
       "    </tr>\n",
       "    <tr>\n",
       "      <th>1</th>\n",
       "      <td>2020-08-30</td>\n",
       "      <td>29.0</td>\n",
       "    </tr>\n",
       "    <tr>\n",
       "      <th>2</th>\n",
       "      <td>2020-08-31</td>\n",
       "      <td>63.0</td>\n",
       "    </tr>\n",
       "    <tr>\n",
       "      <th>3</th>\n",
       "      <td>2020-09-01</td>\n",
       "      <td>39.0</td>\n",
       "    </tr>\n",
       "    <tr>\n",
       "      <th>4</th>\n",
       "      <td>2020-09-02</td>\n",
       "      <td>13.0</td>\n",
       "    </tr>\n",
       "  </tbody>\n",
       "</table>\n",
       "</div>"
      ],
      "text/plain": [
       "  sample_date_string  new_tek_count\n",
       "0         2020-08-29            NaN\n",
       "1         2020-08-30           29.0\n",
       "2         2020-08-31           63.0\n",
       "3         2020-09-01           39.0\n",
       "4         2020-09-02           13.0"
      ]
     },
     "execution_count": 14,
     "metadata": {},
     "output_type": "execute_result"
    }
   ],
   "source": [
    "new_tek_df = tek_list_df.diff().tek_list.apply(\n",
    "    lambda x: len(x) if not pd.isna(x) else None).to_frame().reset_index()\n",
    "new_tek_df.rename(columns={\n",
    "    \"tek_list\": \"new_tek_count\",\n",
    "    \"extraction_date\": \"sample_date_string\",}, inplace=True)\n",
    "new_tek_df.head()"
   ]
  },
  {
   "cell_type": "code",
   "execution_count": 15,
   "metadata": {
    "execution": {
     "iopub.execute_input": "2020-09-02T11:17:05.006658Z",
     "iopub.status.busy": "2020-09-02T11:17:05.006033Z",
     "iopub.status.idle": "2020-09-02T11:17:05.008430Z",
     "shell.execute_reply": "2020-09-02T11:17:05.008880Z"
    },
    "papermill": {
     "duration": 0.050361,
     "end_time": "2020-09-02T11:17:05.009046",
     "exception": false,
     "start_time": "2020-09-02T11:17:04.958685",
     "status": "completed"
    },
    "pycharm": {
     "name": "#%%\n"
    },
    "tags": []
   },
   "outputs": [
    {
     "data": {
      "text/html": [
       "<div>\n",
       "<style scoped>\n",
       "    .dataframe tbody tr th:only-of-type {\n",
       "        vertical-align: middle;\n",
       "    }\n",
       "\n",
       "    .dataframe tbody tr th {\n",
       "        vertical-align: top;\n",
       "    }\n",
       "\n",
       "    .dataframe thead th {\n",
       "        text-align: right;\n",
       "    }\n",
       "</style>\n",
       "<table border=\"1\" class=\"dataframe\">\n",
       "  <thead>\n",
       "    <tr style=\"text-align: right;\">\n",
       "      <th></th>\n",
       "      <th>sample_date</th>\n",
       "      <th>tek_list</th>\n",
       "      <th>extraction_date</th>\n",
       "      <th>extraction_date_with_hour</th>\n",
       "      <th>new_sample_extraction_date</th>\n",
       "    </tr>\n",
       "  </thead>\n",
       "  <tbody>\n",
       "    <tr>\n",
       "      <th>12</th>\n",
       "      <td>2020-09-01</td>\n",
       "      <td>[3a98a7ea-3d55-dd21-91db-f1697f4d031d, c32baf8...</td>\n",
       "      <td>2020-09-02</td>\n",
       "      <td>NaN</td>\n",
       "      <td>2020-09-02</td>\n",
       "    </tr>\n",
       "    <tr>\n",
       "      <th>12</th>\n",
       "      <td>2020-08-31</td>\n",
       "      <td>[eef6b04e-53c3-f52f-4355-aec29c3b423a, 1dc16dc...</td>\n",
       "      <td>2020-09-01</td>\n",
       "      <td>NaN</td>\n",
       "      <td>2020-09-01</td>\n",
       "    </tr>\n",
       "    <tr>\n",
       "      <th>11</th>\n",
       "      <td>2020-08-30</td>\n",
       "      <td>[435d9645-674e-cfb0-e45e-93d1fca69c3e, 162557b...</td>\n",
       "      <td>2020-08-31</td>\n",
       "      <td>2020-08-31@23</td>\n",
       "      <td>2020-08-31</td>\n",
       "    </tr>\n",
       "    <tr>\n",
       "      <th>10</th>\n",
       "      <td>2020-08-29</td>\n",
       "      <td>[1a509311-f96d-28f1-9d7d-414bf48272b9, 5bfad3a...</td>\n",
       "      <td>2020-08-30</td>\n",
       "      <td>NaN</td>\n",
       "      <td>2020-08-30</td>\n",
       "    </tr>\n",
       "    <tr>\n",
       "      <th>9</th>\n",
       "      <td>2020-08-28</td>\n",
       "      <td>[757936ab-531c-4872-1d83-ce7a8d135211, 51d5fc9...</td>\n",
       "      <td>2020-08-29</td>\n",
       "      <td>NaN</td>\n",
       "      <td>2020-08-29</td>\n",
       "    </tr>\n",
       "  </tbody>\n",
       "</table>\n",
       "</div>"
      ],
      "text/plain": [
       "   sample_date                                           tek_list  \\\n",
       "12  2020-09-01  [3a98a7ea-3d55-dd21-91db-f1697f4d031d, c32baf8...   \n",
       "12  2020-08-31  [eef6b04e-53c3-f52f-4355-aec29c3b423a, 1dc16dc...   \n",
       "11  2020-08-30  [435d9645-674e-cfb0-e45e-93d1fca69c3e, 162557b...   \n",
       "10  2020-08-29  [1a509311-f96d-28f1-9d7d-414bf48272b9, 5bfad3a...   \n",
       "9   2020-08-28  [757936ab-531c-4872-1d83-ce7a8d135211, 51d5fc9...   \n",
       "\n",
       "   extraction_date extraction_date_with_hour new_sample_extraction_date  \n",
       "12      2020-09-02                       NaN                 2020-09-02  \n",
       "12      2020-09-01                       NaN                 2020-09-01  \n",
       "11      2020-08-31             2020-08-31@23                 2020-08-31  \n",
       "10      2020-08-30                       NaN                 2020-08-30  \n",
       "9       2020-08-29                       NaN                 2020-08-29  "
      ]
     },
     "execution_count": 15,
     "metadata": {},
     "output_type": "execute_result"
    }
   ],
   "source": [
    "new_tek_devices_df = daily_extracted_teks_df.copy()\n",
    "new_tek_devices_df[\"new_sample_extraction_date\"] = \\\n",
    "    pd.to_datetime(new_tek_devices_df.sample_date) + datetime.timedelta(1)\n",
    "new_tek_devices_df[\"extraction_date\"] = pd.to_datetime(new_tek_devices_df.extraction_date)\n",
    "\n",
    "new_tek_devices_df = new_tek_devices_df[\n",
    "    new_tek_devices_df.new_sample_extraction_date == new_tek_devices_df.extraction_date]\n",
    "new_tek_devices_df.head()"
   ]
  },
  {
   "cell_type": "code",
   "execution_count": 16,
   "metadata": {
    "execution": {
     "iopub.execute_input": "2020-09-02T11:17:05.081634Z",
     "iopub.status.busy": "2020-09-02T11:17:05.081016Z",
     "iopub.status.idle": "2020-09-02T11:17:05.084405Z",
     "shell.execute_reply": "2020-09-02T11:17:05.083905Z"
    },
    "papermill": {
     "duration": 0.046172,
     "end_time": "2020-09-02T11:17:05.084538",
     "exception": false,
     "start_time": "2020-09-02T11:17:05.038366",
     "status": "completed"
    },
    "tags": []
   },
   "outputs": [
    {
     "data": {
      "text/html": [
       "<div>\n",
       "<style scoped>\n",
       "    .dataframe tbody tr th:only-of-type {\n",
       "        vertical-align: middle;\n",
       "    }\n",
       "\n",
       "    .dataframe tbody tr th {\n",
       "        vertical-align: top;\n",
       "    }\n",
       "\n",
       "    .dataframe thead th {\n",
       "        text-align: right;\n",
       "    }\n",
       "</style>\n",
       "<table border=\"1\" class=\"dataframe\">\n",
       "  <thead>\n",
       "    <tr style=\"text-align: right;\">\n",
       "      <th></th>\n",
       "      <th>sample_date_string</th>\n",
       "      <th>new_tek_devices</th>\n",
       "    </tr>\n",
       "  </thead>\n",
       "  <tbody>\n",
       "    <tr>\n",
       "      <th>0</th>\n",
       "      <td>2020-09-02</td>\n",
       "      <td>4</td>\n",
       "    </tr>\n",
       "    <tr>\n",
       "      <th>1</th>\n",
       "      <td>2020-09-01</td>\n",
       "      <td>14</td>\n",
       "    </tr>\n",
       "    <tr>\n",
       "      <th>2</th>\n",
       "      <td>2020-08-31</td>\n",
       "      <td>25</td>\n",
       "    </tr>\n",
       "    <tr>\n",
       "      <th>3</th>\n",
       "      <td>2020-08-30</td>\n",
       "      <td>16</td>\n",
       "    </tr>\n",
       "    <tr>\n",
       "      <th>4</th>\n",
       "      <td>2020-08-29</td>\n",
       "      <td>27</td>\n",
       "    </tr>\n",
       "  </tbody>\n",
       "</table>\n",
       "</div>"
      ],
      "text/plain": [
       "  sample_date_string  new_tek_devices\n",
       "0         2020-09-02                4\n",
       "1         2020-09-01               14\n",
       "2         2020-08-31               25\n",
       "3         2020-08-30               16\n",
       "4         2020-08-29               27"
      ]
     },
     "execution_count": 16,
     "metadata": {},
     "output_type": "execute_result"
    }
   ],
   "source": [
    "new_tek_devices_df.set_index(\"extraction_date\", inplace=True)\n",
    "new_tek_devices_df = new_tek_devices_df.tek_list.apply(lambda x: len(set(x))).to_frame()\n",
    "new_tek_devices_df.reset_index(inplace=True)\n",
    "new_tek_devices_df.rename(columns={\n",
    "    \"extraction_date\": \"sample_date_string\",\n",
    "    \"tek_list\": \"new_tek_devices\"}, inplace=True)\n",
    "new_tek_devices_df[\"sample_date_string\"] = new_tek_devices_df.sample_date_string.dt.strftime(\"%Y-%m-%d\")\n",
    "new_tek_devices_df.head()"
   ]
  },
  {
   "cell_type": "markdown",
   "metadata": {
    "papermill": {
     "duration": 0.030611,
     "end_time": "2020-09-02T11:17:05.144894",
     "exception": false,
     "start_time": "2020-09-02T11:17:05.114283",
     "status": "completed"
    },
    "pycharm": {
     "name": "#%% md\n"
    },
    "tags": []
   },
   "source": [
    "### Hourly New TEKs"
   ]
  },
  {
   "cell_type": "code",
   "execution_count": 17,
   "metadata": {
    "execution": {
     "iopub.execute_input": "2020-09-02T11:17:05.212752Z",
     "iopub.status.busy": "2020-09-02T11:17:05.212159Z",
     "iopub.status.idle": "2020-09-02T11:17:05.329297Z",
     "shell.execute_reply": "2020-09-02T11:17:05.329828Z"
    },
    "papermill": {
     "duration": 0.155582,
     "end_time": "2020-09-02T11:17:05.330011",
     "exception": false,
     "start_time": "2020-09-02T11:17:05.174429",
     "status": "completed"
    },
    "tags": []
   },
   "outputs": [
    {
     "data": {
      "text/html": [
       "<div>\n",
       "<style scoped>\n",
       "    .dataframe tbody tr th:only-of-type {\n",
       "        vertical-align: middle;\n",
       "    }\n",
       "\n",
       "    .dataframe tbody tr th {\n",
       "        vertical-align: top;\n",
       "    }\n",
       "\n",
       "    .dataframe thead th {\n",
       "        text-align: right;\n",
       "    }\n",
       "</style>\n",
       "<table border=\"1\" class=\"dataframe\">\n",
       "  <thead>\n",
       "    <tr style=\"text-align: right;\">\n",
       "      <th></th>\n",
       "      <th>extraction_date_with_hour</th>\n",
       "      <th>new_tek_count</th>\n",
       "    </tr>\n",
       "  </thead>\n",
       "  <tbody>\n",
       "    <tr>\n",
       "      <th>19</th>\n",
       "      <td>2020-09-02@07</td>\n",
       "      <td>0.0</td>\n",
       "    </tr>\n",
       "    <tr>\n",
       "      <th>20</th>\n",
       "      <td>2020-09-02@08</td>\n",
       "      <td>5.0</td>\n",
       "    </tr>\n",
       "    <tr>\n",
       "      <th>21</th>\n",
       "      <td>2020-09-02@09</td>\n",
       "      <td>0.0</td>\n",
       "    </tr>\n",
       "    <tr>\n",
       "      <th>22</th>\n",
       "      <td>2020-09-02@10</td>\n",
       "      <td>0.0</td>\n",
       "    </tr>\n",
       "    <tr>\n",
       "      <th>23</th>\n",
       "      <td>2020-09-02@11</td>\n",
       "      <td>0.0</td>\n",
       "    </tr>\n",
       "  </tbody>\n",
       "</table>\n",
       "</div>"
      ],
      "text/plain": [
       "   extraction_date_with_hour  new_tek_count\n",
       "19             2020-09-02@07            0.0\n",
       "20             2020-09-02@08            5.0\n",
       "21             2020-09-02@09            0.0\n",
       "22             2020-09-02@10            0.0\n",
       "23             2020-09-02@11            0.0"
      ]
     },
     "execution_count": 17,
     "metadata": {},
     "output_type": "execute_result"
    }
   ],
   "source": [
    "hourly_extracted_teks_df = load_extracted_teks(mode=\"Hourly\", limit=24)\n",
    "hourly_extracted_teks_df.head()\n",
    "\n",
    "hourly_tek_list_df = hourly_extracted_teks_df.groupby(\"extraction_date_with_hour\").tek_list.apply(\n",
    "    lambda x: set(sum(x, []))).reset_index()\n",
    "hourly_tek_list_df = hourly_tek_list_df.set_index(\"extraction_date_with_hour\").sort_index(ascending=True)\n",
    "\n",
    "hourly_new_tek_df = hourly_tek_list_df.diff().tek_list.apply(\n",
    "    lambda x: len(x) if not pd.isna(x) else None).to_frame().reset_index()\n",
    "hourly_new_tek_df.rename(columns={\n",
    "    \"tek_list\": \"new_tek_count\"}, inplace=True)\n",
    "hourly_new_tek_df.tail()"
   ]
  },
  {
   "cell_type": "code",
   "execution_count": 18,
   "metadata": {
    "execution": {
     "iopub.execute_input": "2020-09-02T11:17:05.399354Z",
     "iopub.status.busy": "2020-09-02T11:17:05.398761Z",
     "iopub.status.idle": "2020-09-02T11:17:05.419100Z",
     "shell.execute_reply": "2020-09-02T11:17:05.419488Z"
    },
    "papermill": {
     "duration": 0.060582,
     "end_time": "2020-09-02T11:17:05.419641",
     "exception": false,
     "start_time": "2020-09-02T11:17:05.359059",
     "status": "completed"
    },
    "pycharm": {
     "name": "#%%\n"
    },
    "tags": []
   },
   "outputs": [
    {
     "data": {
      "text/html": [
       "<div>\n",
       "<style scoped>\n",
       "    .dataframe tbody tr th:only-of-type {\n",
       "        vertical-align: middle;\n",
       "    }\n",
       "\n",
       "    .dataframe tbody tr th {\n",
       "        vertical-align: top;\n",
       "    }\n",
       "\n",
       "    .dataframe thead th {\n",
       "        text-align: right;\n",
       "    }\n",
       "</style>\n",
       "<table border=\"1\" class=\"dataframe\">\n",
       "  <thead>\n",
       "    <tr style=\"text-align: right;\">\n",
       "      <th></th>\n",
       "      <th>extraction_date_with_hour</th>\n",
       "      <th>new_tek_devices</th>\n",
       "    </tr>\n",
       "  </thead>\n",
       "  <tbody>\n",
       "    <tr>\n",
       "      <th>17</th>\n",
       "      <td>2020-09-02@07</td>\n",
       "      <td>0.0</td>\n",
       "    </tr>\n",
       "    <tr>\n",
       "      <th>18</th>\n",
       "      <td>2020-09-02@08</td>\n",
       "      <td>1.0</td>\n",
       "    </tr>\n",
       "    <tr>\n",
       "      <th>19</th>\n",
       "      <td>2020-09-02@09</td>\n",
       "      <td>0.0</td>\n",
       "    </tr>\n",
       "    <tr>\n",
       "      <th>20</th>\n",
       "      <td>2020-09-02@10</td>\n",
       "      <td>0.0</td>\n",
       "    </tr>\n",
       "    <tr>\n",
       "      <th>21</th>\n",
       "      <td>2020-09-02@11</td>\n",
       "      <td>0.0</td>\n",
       "    </tr>\n",
       "  </tbody>\n",
       "</table>\n",
       "</div>"
      ],
      "text/plain": [
       "   extraction_date_with_hour  new_tek_devices\n",
       "17             2020-09-02@07              0.0\n",
       "18             2020-09-02@08              1.0\n",
       "19             2020-09-02@09              0.0\n",
       "20             2020-09-02@10              0.0\n",
       "21             2020-09-02@11              0.0"
      ]
     },
     "execution_count": 18,
     "metadata": {},
     "output_type": "execute_result"
    }
   ],
   "source": [
    "hourly_new_tek_devices_df = hourly_extracted_teks_df.copy()\n",
    "hourly_new_tek_devices_df[\"new_sample_extraction_date\"] = \\\n",
    "    pd.to_datetime(hourly_new_tek_devices_df.sample_date) + datetime.timedelta(1)\n",
    "hourly_new_tek_devices_df[\"extraction_date\"] = pd.to_datetime(hourly_new_tek_devices_df.extraction_date)\n",
    "\n",
    "hourly_new_tek_devices_df = hourly_new_tek_devices_df[\n",
    "    hourly_new_tek_devices_df.new_sample_extraction_date == hourly_new_tek_devices_df.extraction_date]\n",
    "\n",
    "hourly_new_tek_devices_df.set_index(\"extraction_date_with_hour\", inplace=True)\n",
    "hourly_new_tek_devices_df_ = pd.DataFrame()\n",
    "\n",
    "for i, chunk_df in hourly_new_tek_devices_df.groupby(\"extraction_date\"):\n",
    "    chunk_df = chunk_df.copy()\n",
    "    chunk_df.sort_index(inplace=True)\n",
    "    chunk_tek_count_df = chunk_df.tek_list.apply(lambda x: len(set(x)))\n",
    "    chunk_df = chunk_tek_count_df.diff().fillna(chunk_tek_count_df).to_frame()\n",
    "    hourly_new_tek_devices_df_ = hourly_new_tek_devices_df_.append(chunk_df)\n",
    "    \n",
    "hourly_new_tek_devices_df = hourly_new_tek_devices_df_\n",
    "hourly_new_tek_devices_df.reset_index(inplace=True)\n",
    "hourly_new_tek_devices_df.rename(columns={\n",
    "    \"tek_list\": \"new_tek_devices\"}, inplace=True)\n",
    "hourly_new_tek_devices_df.tail()"
   ]
  },
  {
   "cell_type": "code",
   "execution_count": 19,
   "metadata": {
    "execution": {
     "iopub.execute_input": "2020-09-02T11:17:05.491935Z",
     "iopub.status.busy": "2020-09-02T11:17:05.491314Z",
     "iopub.status.idle": "2020-09-02T11:17:05.494313Z",
     "shell.execute_reply": "2020-09-02T11:17:05.494934Z"
    },
    "papermill": {
     "duration": 0.047151,
     "end_time": "2020-09-02T11:17:05.495126",
     "exception": false,
     "start_time": "2020-09-02T11:17:05.447975",
     "status": "completed"
    },
    "tags": []
   },
   "outputs": [
    {
     "data": {
      "text/html": [
       "<div>\n",
       "<style scoped>\n",
       "    .dataframe tbody tr th:only-of-type {\n",
       "        vertical-align: middle;\n",
       "    }\n",
       "\n",
       "    .dataframe tbody tr th {\n",
       "        vertical-align: top;\n",
       "    }\n",
       "\n",
       "    .dataframe thead th {\n",
       "        text-align: right;\n",
       "    }\n",
       "</style>\n",
       "<table border=\"1\" class=\"dataframe\">\n",
       "  <thead>\n",
       "    <tr style=\"text-align: right;\">\n",
       "      <th></th>\n",
       "      <th>extraction_date_with_hour</th>\n",
       "      <th>new_tek_count</th>\n",
       "      <th>new_tek_devices</th>\n",
       "    </tr>\n",
       "    <tr>\n",
       "      <th>datetime_utc</th>\n",
       "      <th></th>\n",
       "      <th></th>\n",
       "      <th></th>\n",
       "    </tr>\n",
       "  </thead>\n",
       "  <tbody>\n",
       "    <tr>\n",
       "      <th>2020-09-02 07:00:00</th>\n",
       "      <td>2020-09-02@07</td>\n",
       "      <td>0.0</td>\n",
       "      <td>0.0</td>\n",
       "    </tr>\n",
       "    <tr>\n",
       "      <th>2020-09-02 08:00:00</th>\n",
       "      <td>2020-09-02@08</td>\n",
       "      <td>5.0</td>\n",
       "      <td>1.0</td>\n",
       "    </tr>\n",
       "    <tr>\n",
       "      <th>2020-09-02 09:00:00</th>\n",
       "      <td>2020-09-02@09</td>\n",
       "      <td>0.0</td>\n",
       "      <td>0.0</td>\n",
       "    </tr>\n",
       "    <tr>\n",
       "      <th>2020-09-02 10:00:00</th>\n",
       "      <td>2020-09-02@10</td>\n",
       "      <td>0.0</td>\n",
       "      <td>0.0</td>\n",
       "    </tr>\n",
       "    <tr>\n",
       "      <th>2020-09-02 11:00:00</th>\n",
       "      <td>2020-09-02@11</td>\n",
       "      <td>0.0</td>\n",
       "      <td>0.0</td>\n",
       "    </tr>\n",
       "  </tbody>\n",
       "</table>\n",
       "</div>"
      ],
      "text/plain": [
       "                    extraction_date_with_hour  new_tek_count  new_tek_devices\n",
       "datetime_utc                                                                 \n",
       "2020-09-02 07:00:00             2020-09-02@07            0.0              0.0\n",
       "2020-09-02 08:00:00             2020-09-02@08            5.0              1.0\n",
       "2020-09-02 09:00:00             2020-09-02@09            0.0              0.0\n",
       "2020-09-02 10:00:00             2020-09-02@10            0.0              0.0\n",
       "2020-09-02 11:00:00             2020-09-02@11            0.0              0.0"
      ]
     },
     "execution_count": 19,
     "metadata": {},
     "output_type": "execute_result"
    }
   ],
   "source": [
    "hourly_summary_df = hourly_new_tek_df.merge(\n",
    "    hourly_new_tek_devices_df, on=[\"extraction_date_with_hour\"], how=\"outer\")\n",
    "hourly_summary_df[\"datetime_utc\"] = pd.to_datetime(\n",
    "    hourly_summary_df.extraction_date_with_hour, format=\"%Y-%m-%d@%H\")\n",
    "hourly_summary_df.set_index(\"datetime_utc\", inplace=True)\n",
    "hourly_summary_df.tail()"
   ]
  },
  {
   "cell_type": "markdown",
   "metadata": {
    "execution": {
     "iopub.execute_input": "2020-08-30T22:30:16.982353Z",
     "iopub.status.busy": "2020-08-30T22:30:16.981676Z",
     "iopub.status.idle": "2020-08-30T22:30:16.984837Z",
     "shell.execute_reply": "2020-08-30T22:30:16.985366Z"
    },
    "papermill": {
     "duration": 0.028555,
     "end_time": "2020-09-02T11:17:05.552340",
     "exception": false,
     "start_time": "2020-09-02T11:17:05.523785",
     "status": "completed"
    },
    "pycharm": {
     "name": "#%% md\n"
    },
    "tags": []
   },
   "source": [
    "### Data Merge"
   ]
  },
  {
   "cell_type": "code",
   "execution_count": 20,
   "metadata": {
    "execution": {
     "iopub.execute_input": "2020-09-02T11:17:05.622799Z",
     "iopub.status.busy": "2020-09-02T11:17:05.622235Z",
     "iopub.status.idle": "2020-09-02T11:17:05.630920Z",
     "shell.execute_reply": "2020-09-02T11:17:05.630423Z"
    },
    "papermill": {
     "duration": 0.049979,
     "end_time": "2020-09-02T11:17:05.631052",
     "exception": false,
     "start_time": "2020-09-02T11:17:05.581073",
     "status": "completed"
    },
    "pycharm": {
     "name": "#%%\n"
    },
    "tags": []
   },
   "outputs": [
    {
     "data": {
      "text/html": [
       "<div>\n",
       "<style scoped>\n",
       "    .dataframe tbody tr th:only-of-type {\n",
       "        vertical-align: middle;\n",
       "    }\n",
       "\n",
       "    .dataframe tbody tr th {\n",
       "        vertical-align: top;\n",
       "    }\n",
       "\n",
       "    .dataframe thead th {\n",
       "        text-align: right;\n",
       "    }\n",
       "</style>\n",
       "<table border=\"1\" class=\"dataframe\">\n",
       "  <thead>\n",
       "    <tr style=\"text-align: right;\">\n",
       "      <th></th>\n",
       "      <th>sample_date_string</th>\n",
       "      <th>tek_count</th>\n",
       "      <th>new_tek_count</th>\n",
       "    </tr>\n",
       "  </thead>\n",
       "  <tbody>\n",
       "    <tr>\n",
       "      <th>0</th>\n",
       "      <td>2020-09-01</td>\n",
       "      <td>4.0</td>\n",
       "      <td>39.0</td>\n",
       "    </tr>\n",
       "    <tr>\n",
       "      <th>1</th>\n",
       "      <td>2020-08-31</td>\n",
       "      <td>16.0</td>\n",
       "      <td>63.0</td>\n",
       "    </tr>\n",
       "    <tr>\n",
       "      <th>2</th>\n",
       "      <td>2020-08-30</td>\n",
       "      <td>34.0</td>\n",
       "      <td>29.0</td>\n",
       "    </tr>\n",
       "    <tr>\n",
       "      <th>3</th>\n",
       "      <td>2020-08-29</td>\n",
       "      <td>36.0</td>\n",
       "      <td>NaN</td>\n",
       "    </tr>\n",
       "    <tr>\n",
       "      <th>4</th>\n",
       "      <td>2020-08-28</td>\n",
       "      <td>51.0</td>\n",
       "      <td>NaN</td>\n",
       "    </tr>\n",
       "  </tbody>\n",
       "</table>\n",
       "</div>"
      ],
      "text/plain": [
       "  sample_date_string  tek_count  new_tek_count\n",
       "0         2020-09-01        4.0           39.0\n",
       "1         2020-08-31       16.0           63.0\n",
       "2         2020-08-30       34.0           29.0\n",
       "3         2020-08-29       36.0            NaN\n",
       "4         2020-08-28       51.0            NaN"
      ]
     },
     "execution_count": 20,
     "metadata": {},
     "output_type": "execute_result"
    }
   ],
   "source": [
    "result_summary_df = exposure_keys_summary_df.merge(new_tek_df, on=[\"sample_date_string\"], how=\"outer\")\n",
    "result_summary_df.head()"
   ]
  },
  {
   "cell_type": "code",
   "execution_count": 21,
   "metadata": {
    "execution": {
     "iopub.execute_input": "2020-09-02T11:17:05.700905Z",
     "iopub.status.busy": "2020-09-02T11:17:05.700321Z",
     "iopub.status.idle": "2020-09-02T11:17:05.709434Z",
     "shell.execute_reply": "2020-09-02T11:17:05.708993Z"
    },
    "papermill": {
     "duration": 0.047098,
     "end_time": "2020-09-02T11:17:05.709562",
     "exception": false,
     "start_time": "2020-09-02T11:17:05.662464",
     "status": "completed"
    },
    "tags": []
   },
   "outputs": [
    {
     "data": {
      "text/html": [
       "<div>\n",
       "<style scoped>\n",
       "    .dataframe tbody tr th:only-of-type {\n",
       "        vertical-align: middle;\n",
       "    }\n",
       "\n",
       "    .dataframe tbody tr th {\n",
       "        vertical-align: top;\n",
       "    }\n",
       "\n",
       "    .dataframe thead th {\n",
       "        text-align: right;\n",
       "    }\n",
       "</style>\n",
       "<table border=\"1\" class=\"dataframe\">\n",
       "  <thead>\n",
       "    <tr style=\"text-align: right;\">\n",
       "      <th></th>\n",
       "      <th>sample_date_string</th>\n",
       "      <th>tek_count</th>\n",
       "      <th>new_tek_count</th>\n",
       "      <th>new_tek_devices</th>\n",
       "    </tr>\n",
       "  </thead>\n",
       "  <tbody>\n",
       "    <tr>\n",
       "      <th>0</th>\n",
       "      <td>2020-09-01</td>\n",
       "      <td>4.0</td>\n",
       "      <td>39.0</td>\n",
       "      <td>14.0</td>\n",
       "    </tr>\n",
       "    <tr>\n",
       "      <th>1</th>\n",
       "      <td>2020-08-31</td>\n",
       "      <td>16.0</td>\n",
       "      <td>63.0</td>\n",
       "      <td>25.0</td>\n",
       "    </tr>\n",
       "    <tr>\n",
       "      <th>2</th>\n",
       "      <td>2020-08-30</td>\n",
       "      <td>34.0</td>\n",
       "      <td>29.0</td>\n",
       "      <td>16.0</td>\n",
       "    </tr>\n",
       "    <tr>\n",
       "      <th>3</th>\n",
       "      <td>2020-08-29</td>\n",
       "      <td>36.0</td>\n",
       "      <td>NaN</td>\n",
       "      <td>27.0</td>\n",
       "    </tr>\n",
       "    <tr>\n",
       "      <th>4</th>\n",
       "      <td>2020-08-28</td>\n",
       "      <td>51.0</td>\n",
       "      <td>NaN</td>\n",
       "      <td>NaN</td>\n",
       "    </tr>\n",
       "  </tbody>\n",
       "</table>\n",
       "</div>"
      ],
      "text/plain": [
       "  sample_date_string  tek_count  new_tek_count  new_tek_devices\n",
       "0         2020-09-01        4.0           39.0             14.0\n",
       "1         2020-08-31       16.0           63.0             25.0\n",
       "2         2020-08-30       34.0           29.0             16.0\n",
       "3         2020-08-29       36.0            NaN             27.0\n",
       "4         2020-08-28       51.0            NaN              NaN"
      ]
     },
     "execution_count": 21,
     "metadata": {},
     "output_type": "execute_result"
    }
   ],
   "source": [
    "result_summary_df = result_summary_df.merge(new_tek_devices_df, on=[\"sample_date_string\"], how=\"outer\")\n",
    "result_summary_df.head()"
   ]
  },
  {
   "cell_type": "code",
   "execution_count": 22,
   "metadata": {
    "execution": {
     "iopub.execute_input": "2020-09-02T11:17:05.776662Z",
     "iopub.status.busy": "2020-09-02T11:17:05.776083Z",
     "iopub.status.idle": "2020-09-02T11:17:05.788595Z",
     "shell.execute_reply": "2020-09-02T11:17:05.788124Z"
    },
    "papermill": {
     "duration": 0.049371,
     "end_time": "2020-09-02T11:17:05.788731",
     "exception": false,
     "start_time": "2020-09-02T11:17:05.739360",
     "status": "completed"
    },
    "pycharm": {
     "name": "#%%\n"
    },
    "tags": []
   },
   "outputs": [
    {
     "data": {
      "text/html": [
       "<div>\n",
       "<style scoped>\n",
       "    .dataframe tbody tr th:only-of-type {\n",
       "        vertical-align: middle;\n",
       "    }\n",
       "\n",
       "    .dataframe tbody tr th {\n",
       "        vertical-align: top;\n",
       "    }\n",
       "\n",
       "    .dataframe thead th {\n",
       "        text-align: right;\n",
       "    }\n",
       "</style>\n",
       "<table border=\"1\" class=\"dataframe\">\n",
       "  <thead>\n",
       "    <tr style=\"text-align: right;\">\n",
       "      <th></th>\n",
       "      <th>sample_date_string</th>\n",
       "      <th>tek_count</th>\n",
       "      <th>new_tek_count</th>\n",
       "      <th>new_tek_devices</th>\n",
       "      <th>cumulative_cases</th>\n",
       "      <th>new_cases</th>\n",
       "      <th>rolling_mean_new_cases</th>\n",
       "    </tr>\n",
       "  </thead>\n",
       "  <tbody>\n",
       "    <tr>\n",
       "      <th>0</th>\n",
       "      <td>2020-09-01</td>\n",
       "      <td>4.0</td>\n",
       "      <td>39.0</td>\n",
       "      <td>14.0</td>\n",
       "      <td>941946.0</td>\n",
       "      <td>16230.0</td>\n",
       "      <td>16691.428571</td>\n",
       "    </tr>\n",
       "    <tr>\n",
       "      <th>1</th>\n",
       "      <td>2020-08-31</td>\n",
       "      <td>16.0</td>\n",
       "      <td>63.0</td>\n",
       "      <td>25.0</td>\n",
       "      <td>925716.0</td>\n",
       "      <td>47144.0</td>\n",
       "      <td>16406.285714</td>\n",
       "    </tr>\n",
       "    <tr>\n",
       "      <th>2</th>\n",
       "      <td>2020-08-30</td>\n",
       "      <td>34.0</td>\n",
       "      <td>29.0</td>\n",
       "      <td>16.0</td>\n",
       "      <td>878572.0</td>\n",
       "      <td>0.0</td>\n",
       "      <td>15209.142857</td>\n",
       "    </tr>\n",
       "    <tr>\n",
       "      <th>3</th>\n",
       "      <td>2020-08-29</td>\n",
       "      <td>36.0</td>\n",
       "      <td>NaN</td>\n",
       "      <td>27.0</td>\n",
       "      <td>878572.0</td>\n",
       "      <td>0.0</td>\n",
       "      <td>15209.142857</td>\n",
       "    </tr>\n",
       "    <tr>\n",
       "      <th>4</th>\n",
       "      <td>2020-08-28</td>\n",
       "      <td>51.0</td>\n",
       "      <td>NaN</td>\n",
       "      <td>NaN</td>\n",
       "      <td>878572.0</td>\n",
       "      <td>19558.0</td>\n",
       "      <td>15209.142857</td>\n",
       "    </tr>\n",
       "  </tbody>\n",
       "</table>\n",
       "</div>"
      ],
      "text/plain": [
       "  sample_date_string  tek_count  new_tek_count  new_tek_devices  \\\n",
       "0         2020-09-01        4.0           39.0             14.0   \n",
       "1         2020-08-31       16.0           63.0             25.0   \n",
       "2         2020-08-30       34.0           29.0             16.0   \n",
       "3         2020-08-29       36.0            NaN             27.0   \n",
       "4         2020-08-28       51.0            NaN              NaN   \n",
       "\n",
       "   cumulative_cases  new_cases  rolling_mean_new_cases  \n",
       "0          941946.0    16230.0            16691.428571  \n",
       "1          925716.0    47144.0            16406.285714  \n",
       "2          878572.0        0.0            15209.142857  \n",
       "3          878572.0        0.0            15209.142857  \n",
       "4          878572.0    19558.0            15209.142857  "
      ]
     },
     "execution_count": 22,
     "metadata": {},
     "output_type": "execute_result"
    }
   ],
   "source": [
    "result_summary_df = result_summary_df.merge(confirmed_df, on=[\"sample_date_string\"], how=\"left\")\n",
    "result_summary_df.head()"
   ]
  },
  {
   "cell_type": "code",
   "execution_count": 23,
   "metadata": {
    "execution": {
     "iopub.execute_input": "2020-09-02T11:17:05.870596Z",
     "iopub.status.busy": "2020-09-02T11:17:05.869593Z",
     "iopub.status.idle": "2020-09-02T11:17:05.879309Z",
     "shell.execute_reply": "2020-09-02T11:17:05.878568Z"
    },
    "papermill": {
     "duration": 0.055489,
     "end_time": "2020-09-02T11:17:05.879453",
     "exception": false,
     "start_time": "2020-09-02T11:17:05.823964",
     "status": "completed"
    },
    "pycharm": {
     "name": "#%%\n"
    },
    "tags": []
   },
   "outputs": [
    {
     "data": {
      "text/html": [
       "<div>\n",
       "<style scoped>\n",
       "    .dataframe tbody tr th:only-of-type {\n",
       "        vertical-align: middle;\n",
       "    }\n",
       "\n",
       "    .dataframe tbody tr th {\n",
       "        vertical-align: top;\n",
       "    }\n",
       "\n",
       "    .dataframe thead th {\n",
       "        text-align: right;\n",
       "    }\n",
       "</style>\n",
       "<table border=\"1\" class=\"dataframe\">\n",
       "  <thead>\n",
       "    <tr style=\"text-align: right;\">\n",
       "      <th></th>\n",
       "      <th>sample_date_string</th>\n",
       "      <th>tek_count</th>\n",
       "      <th>new_tek_count</th>\n",
       "      <th>new_tek_devices</th>\n",
       "      <th>cumulative_cases</th>\n",
       "      <th>new_cases</th>\n",
       "      <th>rolling_mean_new_cases</th>\n",
       "      <th>tek_count_per_new_case</th>\n",
       "      <th>new_tek_count_per_new_case</th>\n",
       "      <th>new_tek_devices_per_new_case</th>\n",
       "      <th>new_tek_count_per_new_tek_device</th>\n",
       "    </tr>\n",
       "  </thead>\n",
       "  <tbody>\n",
       "    <tr>\n",
       "      <th>0</th>\n",
       "      <td>2020-09-01</td>\n",
       "      <td>4.0</td>\n",
       "      <td>39.0</td>\n",
       "      <td>14.0</td>\n",
       "      <td>941946.0</td>\n",
       "      <td>16230.0</td>\n",
       "      <td>16691.428571</td>\n",
       "      <td>0.000240</td>\n",
       "      <td>0.002337</td>\n",
       "      <td>0.000839</td>\n",
       "      <td>2.785714</td>\n",
       "    </tr>\n",
       "    <tr>\n",
       "      <th>1</th>\n",
       "      <td>2020-08-31</td>\n",
       "      <td>16.0</td>\n",
       "      <td>63.0</td>\n",
       "      <td>25.0</td>\n",
       "      <td>925716.0</td>\n",
       "      <td>47144.0</td>\n",
       "      <td>16406.285714</td>\n",
       "      <td>0.000975</td>\n",
       "      <td>0.003840</td>\n",
       "      <td>0.001524</td>\n",
       "      <td>2.520000</td>\n",
       "    </tr>\n",
       "    <tr>\n",
       "      <th>2</th>\n",
       "      <td>2020-08-30</td>\n",
       "      <td>34.0</td>\n",
       "      <td>29.0</td>\n",
       "      <td>16.0</td>\n",
       "      <td>878572.0</td>\n",
       "      <td>0.0</td>\n",
       "      <td>15209.142857</td>\n",
       "      <td>0.002235</td>\n",
       "      <td>0.001907</td>\n",
       "      <td>0.001052</td>\n",
       "      <td>1.812500</td>\n",
       "    </tr>\n",
       "    <tr>\n",
       "      <th>3</th>\n",
       "      <td>2020-08-29</td>\n",
       "      <td>36.0</td>\n",
       "      <td>NaN</td>\n",
       "      <td>27.0</td>\n",
       "      <td>878572.0</td>\n",
       "      <td>0.0</td>\n",
       "      <td>15209.142857</td>\n",
       "      <td>0.002367</td>\n",
       "      <td>NaN</td>\n",
       "      <td>0.001775</td>\n",
       "      <td>NaN</td>\n",
       "    </tr>\n",
       "    <tr>\n",
       "      <th>4</th>\n",
       "      <td>2020-08-28</td>\n",
       "      <td>51.0</td>\n",
       "      <td>NaN</td>\n",
       "      <td>NaN</td>\n",
       "      <td>878572.0</td>\n",
       "      <td>19558.0</td>\n",
       "      <td>15209.142857</td>\n",
       "      <td>0.003353</td>\n",
       "      <td>NaN</td>\n",
       "      <td>NaN</td>\n",
       "      <td>NaN</td>\n",
       "    </tr>\n",
       "  </tbody>\n",
       "</table>\n",
       "</div>"
      ],
      "text/plain": [
       "  sample_date_string  tek_count  new_tek_count  new_tek_devices  \\\n",
       "0         2020-09-01        4.0           39.0             14.0   \n",
       "1         2020-08-31       16.0           63.0             25.0   \n",
       "2         2020-08-30       34.0           29.0             16.0   \n",
       "3         2020-08-29       36.0            NaN             27.0   \n",
       "4         2020-08-28       51.0            NaN              NaN   \n",
       "\n",
       "   cumulative_cases  new_cases  rolling_mean_new_cases  \\\n",
       "0          941946.0    16230.0            16691.428571   \n",
       "1          925716.0    47144.0            16406.285714   \n",
       "2          878572.0        0.0            15209.142857   \n",
       "3          878572.0        0.0            15209.142857   \n",
       "4          878572.0    19558.0            15209.142857   \n",
       "\n",
       "   tek_count_per_new_case  new_tek_count_per_new_case  \\\n",
       "0                0.000240                    0.002337   \n",
       "1                0.000975                    0.003840   \n",
       "2                0.002235                    0.001907   \n",
       "3                0.002367                         NaN   \n",
       "4                0.003353                         NaN   \n",
       "\n",
       "   new_tek_devices_per_new_case  new_tek_count_per_new_tek_device  \n",
       "0                      0.000839                          2.785714  \n",
       "1                      0.001524                          2.520000  \n",
       "2                      0.001052                          1.812500  \n",
       "3                      0.001775                               NaN  \n",
       "4                           NaN                               NaN  "
      ]
     },
     "execution_count": 23,
     "metadata": {},
     "output_type": "execute_result"
    }
   ],
   "source": [
    "result_summary_df[\"tek_count_per_new_case\"] = \\\n",
    "    result_summary_df.tek_count / result_summary_df.rolling_mean_new_cases\n",
    "result_summary_df[\"new_tek_count_per_new_case\"] = \\\n",
    "    result_summary_df.new_tek_count / result_summary_df.rolling_mean_new_cases\n",
    "result_summary_df[\"new_tek_devices_per_new_case\"] = \\\n",
    "    result_summary_df.new_tek_devices / result_summary_df.rolling_mean_new_cases\n",
    "result_summary_df[\"new_tek_count_per_new_tek_device\"] = \\\n",
    "    result_summary_df.new_tek_count / result_summary_df.new_tek_devices\n",
    "result_summary_df.head()"
   ]
  },
  {
   "cell_type": "code",
   "execution_count": 24,
   "metadata": {
    "execution": {
     "iopub.execute_input": "2020-09-02T11:17:05.955293Z",
     "iopub.status.busy": "2020-09-02T11:17:05.954700Z",
     "iopub.status.idle": "2020-09-02T11:17:05.956888Z",
     "shell.execute_reply": "2020-09-02T11:17:05.956408Z"
    },
    "papermill": {
     "duration": 0.04256,
     "end_time": "2020-09-02T11:17:05.957018",
     "exception": false,
     "start_time": "2020-09-02T11:17:05.914458",
     "status": "completed"
    },
    "pycharm": {
     "name": "#%%\n"
    },
    "tags": []
   },
   "outputs": [],
   "source": [
    "result_summary_df[\"sample_date\"] = pd.to_datetime(result_summary_df.sample_date_string)\n",
    "result_summary_df.set_index(\"sample_date\", inplace=True)\n",
    "result_summary_df = result_summary_df.sort_index(ascending=False)"
   ]
  },
  {
   "cell_type": "markdown",
   "metadata": {
    "execution": {
     "iopub.execute_input": "2020-08-30T22:30:17.313260Z",
     "iopub.status.busy": "2020-08-30T22:30:17.312584Z",
     "iopub.status.idle": "2020-08-30T22:30:17.317571Z",
     "shell.execute_reply": "2020-08-30T22:30:17.316929Z"
    },
    "papermill": {
     "duration": 0.031283,
     "end_time": "2020-09-02T11:17:06.020388",
     "exception": false,
     "start_time": "2020-09-02T11:17:05.989105",
     "status": "completed"
    },
    "pycharm": {
     "name": "#%% md\n"
    },
    "tags": []
   },
   "source": [
    "## Report Results\n"
   ]
  },
  {
   "cell_type": "markdown",
   "metadata": {
    "papermill": {
     "duration": 0.031561,
     "end_time": "2020-09-02T11:17:06.083443",
     "exception": false,
     "start_time": "2020-09-02T11:17:06.051882",
     "status": "completed"
    },
    "tags": []
   },
   "source": [
    "### Summary Table"
   ]
  },
  {
   "cell_type": "code",
   "execution_count": 25,
   "metadata": {
    "execution": {
     "iopub.execute_input": "2020-09-02T11:17:06.163470Z",
     "iopub.status.busy": "2020-09-02T11:17:06.162885Z",
     "iopub.status.idle": "2020-09-02T11:17:06.165474Z",
     "shell.execute_reply": "2020-09-02T11:17:06.165920Z"
    },
    "papermill": {
     "duration": 0.051315,
     "end_time": "2020-09-02T11:17:06.166070",
     "exception": false,
     "start_time": "2020-09-02T11:17:06.114755",
     "status": "completed"
    },
    "tags": []
   },
   "outputs": [
    {
     "data": {
      "text/html": [
       "<div>\n",
       "<style scoped>\n",
       "    .dataframe tbody tr th:only-of-type {\n",
       "        vertical-align: middle;\n",
       "    }\n",
       "\n",
       "    .dataframe tbody tr th {\n",
       "        vertical-align: top;\n",
       "    }\n",
       "\n",
       "    .dataframe thead th {\n",
       "        text-align: right;\n",
       "    }\n",
       "</style>\n",
       "<table border=\"1\" class=\"dataframe\">\n",
       "  <thead>\n",
       "    <tr style=\"text-align: right;\">\n",
       "      <th></th>\n",
       "      <th>tek_count</th>\n",
       "      <th>new_tek_count</th>\n",
       "      <th>new_cases</th>\n",
       "      <th>rolling_mean_new_cases</th>\n",
       "      <th>tek_count_per_new_case</th>\n",
       "      <th>new_tek_count_per_new_case</th>\n",
       "      <th>new_tek_devices</th>\n",
       "      <th>new_tek_devices_per_new_case</th>\n",
       "      <th>new_tek_count_per_new_tek_device</th>\n",
       "    </tr>\n",
       "    <tr>\n",
       "      <th>sample_date</th>\n",
       "      <th></th>\n",
       "      <th></th>\n",
       "      <th></th>\n",
       "      <th></th>\n",
       "      <th></th>\n",
       "      <th></th>\n",
       "      <th></th>\n",
       "      <th></th>\n",
       "      <th></th>\n",
       "    </tr>\n",
       "  </thead>\n",
       "  <tbody>\n",
       "    <tr>\n",
       "      <th>2020-09-02</th>\n",
       "      <td>NaN</td>\n",
       "      <td>13.0</td>\n",
       "      <td>16691.428571</td>\n",
       "      <td>16691.428571</td>\n",
       "      <td>NaN</td>\n",
       "      <td>0.000779</td>\n",
       "      <td>4.0</td>\n",
       "      <td>0.000240</td>\n",
       "      <td>3.250000</td>\n",
       "    </tr>\n",
       "    <tr>\n",
       "      <th>2020-09-01</th>\n",
       "      <td>4.0</td>\n",
       "      <td>39.0</td>\n",
       "      <td>16230.000000</td>\n",
       "      <td>16691.428571</td>\n",
       "      <td>0.000240</td>\n",
       "      <td>0.002337</td>\n",
       "      <td>14.0</td>\n",
       "      <td>0.000839</td>\n",
       "      <td>2.785714</td>\n",
       "    </tr>\n",
       "    <tr>\n",
       "      <th>2020-08-31</th>\n",
       "      <td>16.0</td>\n",
       "      <td>63.0</td>\n",
       "      <td>47144.000000</td>\n",
       "      <td>16406.285714</td>\n",
       "      <td>0.000975</td>\n",
       "      <td>0.003840</td>\n",
       "      <td>25.0</td>\n",
       "      <td>0.001524</td>\n",
       "      <td>2.520000</td>\n",
       "    </tr>\n",
       "    <tr>\n",
       "      <th>2020-08-30</th>\n",
       "      <td>34.0</td>\n",
       "      <td>29.0</td>\n",
       "      <td>0.000000</td>\n",
       "      <td>15209.142857</td>\n",
       "      <td>0.002235</td>\n",
       "      <td>0.001907</td>\n",
       "      <td>16.0</td>\n",
       "      <td>0.001052</td>\n",
       "      <td>1.812500</td>\n",
       "    </tr>\n",
       "    <tr>\n",
       "      <th>2020-08-29</th>\n",
       "      <td>36.0</td>\n",
       "      <td>NaN</td>\n",
       "      <td>0.000000</td>\n",
       "      <td>15209.142857</td>\n",
       "      <td>0.002367</td>\n",
       "      <td>NaN</td>\n",
       "      <td>27.0</td>\n",
       "      <td>0.001775</td>\n",
       "      <td>NaN</td>\n",
       "    </tr>\n",
       "    <tr>\n",
       "      <th>2020-08-28</th>\n",
       "      <td>51.0</td>\n",
       "      <td>NaN</td>\n",
       "      <td>19558.000000</td>\n",
       "      <td>15209.142857</td>\n",
       "      <td>0.003353</td>\n",
       "      <td>NaN</td>\n",
       "      <td>NaN</td>\n",
       "      <td>NaN</td>\n",
       "      <td>NaN</td>\n",
       "    </tr>\n",
       "    <tr>\n",
       "      <th>2020-08-27</th>\n",
       "      <td>72.0</td>\n",
       "      <td>NaN</td>\n",
       "      <td>19316.000000</td>\n",
       "      <td>14743.142857</td>\n",
       "      <td>0.004884</td>\n",
       "      <td>NaN</td>\n",
       "      <td>NaN</td>\n",
       "      <td>NaN</td>\n",
       "      <td>NaN</td>\n",
       "    </tr>\n",
       "    <tr>\n",
       "      <th>2020-08-26</th>\n",
       "      <td>75.0</td>\n",
       "      <td>NaN</td>\n",
       "      <td>14592.000000</td>\n",
       "      <td>13994.857143</td>\n",
       "      <td>0.005359</td>\n",
       "      <td>NaN</td>\n",
       "      <td>NaN</td>\n",
       "      <td>NaN</td>\n",
       "      <td>NaN</td>\n",
       "    </tr>\n",
       "    <tr>\n",
       "      <th>2020-08-25</th>\n",
       "      <td>58.0</td>\n",
       "      <td>NaN</td>\n",
       "      <td>14234.000000</td>\n",
       "      <td>13816.285714</td>\n",
       "      <td>0.004198</td>\n",
       "      <td>NaN</td>\n",
       "      <td>NaN</td>\n",
       "      <td>NaN</td>\n",
       "      <td>NaN</td>\n",
       "    </tr>\n",
       "    <tr>\n",
       "      <th>2020-08-24</th>\n",
       "      <td>48.0</td>\n",
       "      <td>NaN</td>\n",
       "      <td>38764.000000</td>\n",
       "      <td>13244.000000</td>\n",
       "      <td>0.003624</td>\n",
       "      <td>NaN</td>\n",
       "      <td>NaN</td>\n",
       "      <td>NaN</td>\n",
       "      <td>NaN</td>\n",
       "    </tr>\n",
       "    <tr>\n",
       "      <th>2020-08-23</th>\n",
       "      <td>28.0</td>\n",
       "      <td>NaN</td>\n",
       "      <td>0.000000</td>\n",
       "      <td>12354.571429</td>\n",
       "      <td>0.002266</td>\n",
       "      <td>NaN</td>\n",
       "      <td>NaN</td>\n",
       "      <td>NaN</td>\n",
       "      <td>NaN</td>\n",
       "    </tr>\n",
       "    <tr>\n",
       "      <th>2020-08-22</th>\n",
       "      <td>18.0</td>\n",
       "      <td>NaN</td>\n",
       "      <td>0.000000</td>\n",
       "      <td>12354.571429</td>\n",
       "      <td>0.001457</td>\n",
       "      <td>NaN</td>\n",
       "      <td>NaN</td>\n",
       "      <td>NaN</td>\n",
       "      <td>NaN</td>\n",
       "    </tr>\n",
       "    <tr>\n",
       "      <th>2020-08-21</th>\n",
       "      <td>11.0</td>\n",
       "      <td>NaN</td>\n",
       "      <td>16296.000000</td>\n",
       "      <td>12354.571429</td>\n",
       "      <td>0.000890</td>\n",
       "      <td>NaN</td>\n",
       "      <td>NaN</td>\n",
       "      <td>NaN</td>\n",
       "      <td>NaN</td>\n",
       "    </tr>\n",
       "    <tr>\n",
       "      <th>2020-08-20</th>\n",
       "      <td>4.0</td>\n",
       "      <td>NaN</td>\n",
       "      <td>14078.000000</td>\n",
       "      <td>11592.000000</td>\n",
       "      <td>0.000345</td>\n",
       "      <td>NaN</td>\n",
       "      <td>NaN</td>\n",
       "      <td>NaN</td>\n",
       "      <td>NaN</td>\n",
       "    </tr>\n",
       "  </tbody>\n",
       "</table>\n",
       "</div>"
      ],
      "text/plain": [
       "             tek_count  new_tek_count     new_cases  rolling_mean_new_cases  \\\n",
       "sample_date                                                                   \n",
       "2020-09-02         NaN           13.0  16691.428571            16691.428571   \n",
       "2020-09-01         4.0           39.0  16230.000000            16691.428571   \n",
       "2020-08-31        16.0           63.0  47144.000000            16406.285714   \n",
       "2020-08-30        34.0           29.0      0.000000            15209.142857   \n",
       "2020-08-29        36.0            NaN      0.000000            15209.142857   \n",
       "2020-08-28        51.0            NaN  19558.000000            15209.142857   \n",
       "2020-08-27        72.0            NaN  19316.000000            14743.142857   \n",
       "2020-08-26        75.0            NaN  14592.000000            13994.857143   \n",
       "2020-08-25        58.0            NaN  14234.000000            13816.285714   \n",
       "2020-08-24        48.0            NaN  38764.000000            13244.000000   \n",
       "2020-08-23        28.0            NaN      0.000000            12354.571429   \n",
       "2020-08-22        18.0            NaN      0.000000            12354.571429   \n",
       "2020-08-21        11.0            NaN  16296.000000            12354.571429   \n",
       "2020-08-20         4.0            NaN  14078.000000            11592.000000   \n",
       "\n",
       "             tek_count_per_new_case  new_tek_count_per_new_case  \\\n",
       "sample_date                                                       \n",
       "2020-09-02                      NaN                    0.000779   \n",
       "2020-09-01                 0.000240                    0.002337   \n",
       "2020-08-31                 0.000975                    0.003840   \n",
       "2020-08-30                 0.002235                    0.001907   \n",
       "2020-08-29                 0.002367                         NaN   \n",
       "2020-08-28                 0.003353                         NaN   \n",
       "2020-08-27                 0.004884                         NaN   \n",
       "2020-08-26                 0.005359                         NaN   \n",
       "2020-08-25                 0.004198                         NaN   \n",
       "2020-08-24                 0.003624                         NaN   \n",
       "2020-08-23                 0.002266                         NaN   \n",
       "2020-08-22                 0.001457                         NaN   \n",
       "2020-08-21                 0.000890                         NaN   \n",
       "2020-08-20                 0.000345                         NaN   \n",
       "\n",
       "             new_tek_devices  new_tek_devices_per_new_case  \\\n",
       "sample_date                                                  \n",
       "2020-09-02               4.0                      0.000240   \n",
       "2020-09-01              14.0                      0.000839   \n",
       "2020-08-31              25.0                      0.001524   \n",
       "2020-08-30              16.0                      0.001052   \n",
       "2020-08-29              27.0                      0.001775   \n",
       "2020-08-28               NaN                           NaN   \n",
       "2020-08-27               NaN                           NaN   \n",
       "2020-08-26               NaN                           NaN   \n",
       "2020-08-25               NaN                           NaN   \n",
       "2020-08-24               NaN                           NaN   \n",
       "2020-08-23               NaN                           NaN   \n",
       "2020-08-22               NaN                           NaN   \n",
       "2020-08-21               NaN                           NaN   \n",
       "2020-08-20               NaN                           NaN   \n",
       "\n",
       "             new_tek_count_per_new_tek_device  \n",
       "sample_date                                    \n",
       "2020-09-02                           3.250000  \n",
       "2020-09-01                           2.785714  \n",
       "2020-08-31                           2.520000  \n",
       "2020-08-30                           1.812500  \n",
       "2020-08-29                                NaN  \n",
       "2020-08-28                                NaN  \n",
       "2020-08-27                                NaN  \n",
       "2020-08-26                                NaN  \n",
       "2020-08-25                                NaN  \n",
       "2020-08-24                                NaN  \n",
       "2020-08-23                                NaN  \n",
       "2020-08-22                                NaN  \n",
       "2020-08-21                                NaN  \n",
       "2020-08-20                                NaN  "
      ]
     },
     "execution_count": 25,
     "metadata": {},
     "output_type": "execute_result"
    }
   ],
   "source": [
    "result_summary_df_ = result_summary_df.copy()\n",
    "result_summary_df = result_summary_df[[\n",
    "    \"tek_count\",\n",
    "    \"new_tek_count\",\n",
    "    \"new_cases\",\n",
    "    \"rolling_mean_new_cases\",\n",
    "    \"tek_count_per_new_case\",\n",
    "    \"new_tek_count_per_new_case\",\n",
    "    \"new_tek_devices\",\n",
    "    \"new_tek_devices_per_new_case\",\n",
    "    \"new_tek_count_per_new_tek_device\"]]\n",
    "result_summary_df"
   ]
  },
  {
   "cell_type": "markdown",
   "metadata": {
    "papermill": {
     "duration": 0.031993,
     "end_time": "2020-09-02T11:17:06.229911",
     "exception": false,
     "start_time": "2020-09-02T11:17:06.197918",
     "status": "completed"
    },
    "tags": []
   },
   "source": [
    "### Summary Plots"
   ]
  },
  {
   "cell_type": "code",
   "execution_count": 26,
   "metadata": {
    "execution": {
     "iopub.execute_input": "2020-09-02T11:17:06.373154Z",
     "iopub.status.busy": "2020-09-02T11:17:06.338727Z",
     "iopub.status.idle": "2020-09-02T11:17:07.519899Z",
     "shell.execute_reply": "2020-09-02T11:17:07.520346Z"
    },
    "papermill": {
     "duration": 1.25834,
     "end_time": "2020-09-02T11:17:07.520510",
     "exception": false,
     "start_time": "2020-09-02T11:17:06.262170",
     "status": "completed"
    },
    "scrolled": false,
    "tags": []
   },
   "outputs": [
    {
     "data": {
      "image/png": "[encoded data removed]",
      "text/plain": [
       "<Figure size 1080x1584 with 6 Axes>"
      ]
     },
     "metadata": {},
     "output_type": "display_data"
    }
   ],
   "source": [
    "summary_ax_list = result_summary_df[[\n",
    "    \"rolling_mean_new_cases\",\n",
    "    \"tek_count\",\n",
    "    \"new_tek_count\",\n",
    "    \"new_tek_devices\",\n",
    "    \"new_tek_count_per_new_tek_device\",\n",
    "    \"new_tek_devices_per_new_case\"\n",
    "]].sort_index(ascending=True).plot.bar(\n",
    "    title=\"Summary\", rot=45, subplots=True, figsize=(15, 22))\n",
    "summary_ax_list[-1].yaxis.set_major_formatter(matplotlib.ticker.PercentFormatter(1.0))"
   ]
  },
  {
   "cell_type": "markdown",
   "metadata": {
    "papermill": {
     "duration": 0.036164,
     "end_time": "2020-09-02T11:17:07.593134",
     "exception": false,
     "start_time": "2020-09-02T11:17:07.556970",
     "status": "completed"
    },
    "tags": []
   },
   "source": [
    "### Hourly Summary Plots "
   ]
  },
  {
   "cell_type": "code",
   "execution_count": 27,
   "metadata": {
    "execution": {
     "iopub.execute_input": "2020-09-02T11:17:07.679795Z",
     "iopub.status.busy": "2020-09-02T11:17:07.679183Z",
     "iopub.status.idle": "2020-09-02T11:17:08.154250Z",
     "shell.execute_reply": "2020-09-02T11:17:08.153770Z"
    },
    "papermill": {
     "duration": 0.525659,
     "end_time": "2020-09-02T11:17:08.154385",
     "exception": false,
     "start_time": "2020-09-02T11:17:07.628726",
     "status": "completed"
    },
    "pycharm": {
     "name": "#%%\n"
    },
    "tags": []
   },
   "outputs": [
    {
     "data": {
      "image/png": "[encoded data removed]",
      "text/plain": [
       "<Figure size 1080x432 with 2 Axes>"
      ]
     },
     "metadata": {},
     "output_type": "display_data"
    }
   ],
   "source": [
    "hourly_summary_ax_list = hourly_summary_df.plot.bar(\n",
    "    title=\"Last 24h Summary\", rot=45, subplots=True)"
   ]
  },
  {
   "cell_type": "markdown",
   "metadata": {
    "papermill": {
     "duration": 0.036991,
     "end_time": "2020-09-02T11:17:08.228637",
     "exception": false,
     "start_time": "2020-09-02T11:17:08.191646",
     "status": "completed"
    },
    "tags": []
   },
   "source": [
    "### Publish Results"
   ]
  },
  {
   "cell_type": "code",
   "execution_count": 28,
   "metadata": {
    "execution": {
     "iopub.execute_input": "2020-09-02T11:17:08.314247Z",
     "iopub.status.busy": "2020-09-02T11:17:08.313454Z",
     "iopub.status.idle": "2020-09-02T11:17:11.323920Z",
     "shell.execute_reply": "2020-09-02T11:17:11.324445Z"
    },
    "papermill": {
     "duration": 3.059228,
     "end_time": "2020-09-02T11:17:11.324611",
     "exception": false,
     "start_time": "2020-09-02T11:17:08.265383",
     "status": "completed"
    },
    "pycharm": {
     "name": "#%%\n"
    },
    "tags": []
   },
   "outputs": [],
   "source": [
    "def get_temporary_image_path() -> str:\n",
    "    return os.path.join(tempfile.gettempdir(), str(uuid.uuid4()) + \".png\")\n",
    "\n",
    "def save_temporary_plot_image(ax):\n",
    "    if isinstance(ax, np.ndarray):\n",
    "        ax = ax[0]\n",
    "    media_path = get_temporary_image_path()\n",
    "    ax.get_figure().savefig(media_path)\n",
    "    return media_path\n",
    "\n",
    "def save_temporary_dataframe_image(df):\n",
    "    media_path = get_temporary_image_path()\n",
    "    dfi.export(df, media_path)\n",
    "    return media_path\n",
    "\n",
    "summary_plots_image_path = save_temporary_plot_image(ax=summary_ax_list)\n",
    "summary_table_image_path = save_temporary_dataframe_image(df=result_summary_df)\n",
    "hourly_summary_plots_image_path = save_temporary_plot_image(ax=hourly_summary_ax_list)"
   ]
  },
  {
   "cell_type": "markdown",
   "metadata": {
    "papermill": {
     "duration": 0.037107,
     "end_time": "2020-09-02T11:17:11.400357",
     "exception": false,
     "start_time": "2020-09-02T11:17:11.363250",
     "status": "completed"
    },
    "tags": []
   },
   "source": [
    "### Save Results"
   ]
  },
  {
   "cell_type": "code",
   "execution_count": 29,
   "metadata": {
    "execution": {
     "iopub.execute_input": "2020-09-02T11:17:11.482981Z",
     "iopub.status.busy": "2020-09-02T11:17:11.482397Z",
     "iopub.status.idle": "2020-09-02T11:17:11.494765Z",
     "shell.execute_reply": "2020-09-02T11:17:11.494250Z"
    },
    "papermill": {
     "duration": 0.056784,
     "end_time": "2020-09-02T11:17:11.494899",
     "exception": false,
     "start_time": "2020-09-02T11:17:11.438115",
     "status": "completed"
    },
    "pycharm": {
     "name": "#%%\n"
    },
    "tags": []
   },
   "outputs": [],
   "source": [
    "report_resources_path_prefix = \"Data/Resources/Current/RadarCOVID-Report-\"\n",
    "result_summary_df.to_csv(report_resources_path_prefix + \"Summary-Table.csv\")\n",
    "result_summary_df.to_html(report_resources_path_prefix + \"Summary-Table.html\")\n",
    "_ = shutil.copyfile(summary_plots_image_path, report_resources_path_prefix + \"Summary-Plots.png\")\n",
    "_ = shutil.copyfile(summary_table_image_path, report_resources_path_prefix + \"Summary-Table.png\")\n",
    "_ = shutil.copyfile(hourly_summary_plots_image_path, report_resources_path_prefix + \"Hourly-Summary-Plots.png\")\n",
    "\n",
    "report_daily_url_pattern = \\\n",
    "    \"https://github.com/pvieito/RadarCOVID-Report/blob/master/Notebooks/\" \\\n",
    "    \"RadarCOVID-Report/{report_type}/RadarCOVID-Report-{report_date}.ipynb\"\n",
    "report_daily_url = report_daily_url_pattern.format(\n",
    "    report_type=\"Daily\", report_date=extraction_date)\n",
    "report_hourly_url = report_daily_url_pattern.format(\n",
    "    report_type=\"Hourly\", report_date=extraction_date_with_hour)"
   ]
  },
  {
   "cell_type": "markdown",
   "metadata": {
    "papermill": {
     "duration": 0.037106,
     "end_time": "2020-09-02T11:17:11.572050",
     "exception": false,
     "start_time": "2020-09-02T11:17:11.534944",
     "status": "completed"
    },
    "tags": []
   },
   "source": [
    "### Publish on README"
   ]
  },
  {
   "cell_type": "code",
   "execution_count": 30,
   "metadata": {
    "execution": {
     "iopub.execute_input": "2020-09-02T11:17:11.657059Z",
     "iopub.status.busy": "2020-09-02T11:17:11.656393Z",
     "iopub.status.idle": "2020-09-02T11:17:11.668940Z",
     "shell.execute_reply": "2020-09-02T11:17:11.669374Z"
    },
    "papermill": {
     "duration": 0.06007,
     "end_time": "2020-09-02T11:17:11.669537",
     "exception": false,
     "start_time": "2020-09-02T11:17:11.609467",
     "status": "completed"
    },
    "pycharm": {
     "name": "#%%\n"
    },
    "tags": []
   },
   "outputs": [],
   "source": [
    "with open(\"Data/Templates/README.md\", \"r\") as f:\n",
    "    readme_contents = f.read()\n",
    "\n",
    "summary_table_html = result_summary_df.to_html()\n",
    "readme_contents = readme_contents.format(\n",
    "    summary_table_html=summary_table_html,\n",
    "    report_url_with_hour=report_hourly_url,\n",
    "    extraction_date_with_hour=extraction_date_with_hour)\n",
    "\n",
    "with open(\"README.md\", \"w\") as f:\n",
    "    f.write(readme_contents)"
   ]
  },
  {
   "cell_type": "markdown",
   "metadata": {
    "papermill": {
     "duration": 0.036301,
     "end_time": "2020-09-02T11:17:11.742863",
     "exception": false,
     "start_time": "2020-09-02T11:17:11.706562",
     "status": "completed"
    },
    "pycharm": {
     "name": "#%% md\n"
    },
    "tags": []
   },
   "source": [
    "### Publish on Twitter"
   ]
  },
  {
   "cell_type": "code",
   "execution_count": 31,
   "metadata": {
    "execution": {
     "iopub.execute_input": "2020-09-02T11:17:11.826489Z",
     "iopub.status.busy": "2020-09-02T11:17:11.825197Z",
     "iopub.status.idle": "2020-09-02T11:17:14.061758Z",
     "shell.execute_reply": "2020-09-02T11:17:14.062184Z"
    },
    "papermill": {
     "duration": 2.283337,
     "end_time": "2020-09-02T11:17:14.062341",
     "exception": false,
     "start_time": "2020-09-02T11:17:11.779004",
     "status": "completed"
    },
    "pycharm": {
     "name": "#%%\n"
    },
    "tags": []
   },
   "outputs": [],
   "source": [
    "enable_share_to_twitter = os.environ.get(\"RADARCOVID_REPORT__ENABLE_PUBLISH_ON_TWITTER\")\n",
    "github_event_name = os.environ.get(\"GITHUB_EVENT_NAME\")\n",
    "\n",
    "if enable_share_to_twitter and github_event_name == \"schedule\":\n",
    "    import tweepy\n",
    "\n",
    "    twitter_api_auth_keys = os.environ[\"RADARCOVID_REPORT__TWITTER_API_AUTH_KEYS\"]\n",
    "    twitter_api_auth_keys = twitter_api_auth_keys.split(\":\")\n",
    "    auth = tweepy.OAuthHandler(twitter_api_auth_keys[0], twitter_api_auth_keys[1])\n",
    "    auth.set_access_token(twitter_api_auth_keys[2], twitter_api_auth_keys[3])\n",
    "\n",
    "    api = tweepy.API(auth)\n",
    "\n",
    "    summary_plots_media = api.media_upload(summary_plots_image_path)\n",
    "    summary_table_media = api.media_upload(summary_table_image_path)\n",
    "    hourly_summary_plots_media = api.media_upload(hourly_summary_plots_image_path)\n",
    "    media_ids = [\n",
    "        summary_plots_media.media_id,\n",
    "        summary_table_media.media_id,\n",
    "        hourly_summary_plots_media.media_id,\n",
    "    ]\n",
    "\n",
    "    extraction_date_result_summary_df = \\\n",
    "        result_summary_df[result_summary_df.index == extraction_date]\n",
    "    extraction_date_result_hourly_summary_df = \\\n",
    "        hourly_summary_df[hourly_summary_df.extraction_date_with_hour == extraction_date_with_hour]\n",
    "\n",
    "    new_teks = extraction_date_result_summary_df.new_tek_count.sum().astype(int)\n",
    "    new_teks_last_hour = extraction_date_result_hourly_summary_df.new_tek_count.sum().astype(int)\n",
    "    new_devices = extraction_date_result_summary_df.new_tek_devices.sum().astype(int)\n",
    "    new_devices_last_hour = extraction_date_result_hourly_summary_df.new_tek_devices.sum().astype(int)\n",
    "    new_tek_count_per_new_tek_device = \\\n",
    "        extraction_date_result_summary_df.new_tek_count_per_new_tek_device.sum()\n",
    "    new_tek_devices_per_new_case = \\\n",
    "        extraction_date_result_summary_df.new_tek_devices_per_new_case.sum()\n",
    "\n",
    "    status = textwrap.dedent(f\"\"\"\n",
    "        Report Update – {extraction_date_with_hour}\n",
    "        #ExposureNotification #RadarCOVID\n",
    "\n",
    "        Shared Diagnoses Day Summary:\n",
    "        - New TEKs: {new_teks} ({new_teks_last_hour:+d} last hour)\n",
    "        - New Devices: {new_devices} ({new_devices_last_hour:+d} last hour, {new_tek_count_per_new_tek_device:.2} TEKs/device)\n",
    "        - Usage Ratio: {new_tek_devices_per_new_case:.2%} devices/case\n",
    "\n",
    "        Report Link: {report_hourly_url}\n",
    "        \"\"\")\n",
    "    status = status.encode(encoding=\"utf-8\")\n",
    "    api.update_status(status=status, media_ids=media_ids)"
   ]
  }
 ],
 "metadata": {
  "kernelspec": {
   "display_name": "Python 3",
   "language": "python",
   "name": "python3"
  },
  "language_info": {
   "codemirror_mode": {
    "name": "ipython",
    "version": 3
   },
   "file_extension": ".py",
   "mimetype": "text/x-python",
   "name": "python",
   "nbconvert_exporter": "python",
   "pygments_lexer": "ipython3",
   "version": "3.8.5"
  },
  "papermill": {
   "duration": 16.29374,
   "end_time": "2020-09-02T11:17:15.483166",
   "environment_variables": {},
   "exception": null,
   "input_path": "Notebooks/RadarCOVID-Report/Source/RadarCOVID-Report.ipynb",
   "output_path": "RadarCOVID-Report.ipynb",
   "parameters": {},
   "start_time": "2020-09-02T11:16:59.189426",
   "version": "2.1.3"
  }
 },
 "nbformat": 4,
 "nbformat_minor": 1
}