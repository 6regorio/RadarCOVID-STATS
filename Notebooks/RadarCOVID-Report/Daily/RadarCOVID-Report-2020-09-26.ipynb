{
 "cells": [
  {
   "cell_type": "markdown",
   "metadata": {
    "papermill": {
     "duration": 0.034276,
     "end_time": "2020-09-26T14:20:24.756978",
     "exception": false,
     "start_time": "2020-09-26T14:20:24.722702",
     "status": "completed"
    },
    "pycharm": {
     "name": "#%% md\n"
    },
    "tags": []
   },
   "source": [
    "# RadarCOVID-Report"
   ]
  },
  {
   "cell_type": "markdown",
   "metadata": {
    "collapsed": true,
    "papermill": {
     "duration": 0.033708,
     "end_time": "2020-09-26T14:20:24.822229",
     "exception": false,
     "start_time": "2020-09-26T14:20:24.788521",
     "status": "completed"
    },
    "pycharm": {
     "name": "#%% md\n"
    },
    "tags": []
   },
   "source": [
    "## Data Extraction"
   ]
  },
  {
   "cell_type": "code",
   "execution_count": 1,
   "metadata": {
    "execution": {
     "iopub.execute_input": "2020-09-26T14:20:24.901330Z",
     "iopub.status.busy": "2020-09-26T14:20:24.900660Z",
     "iopub.status.idle": "2020-09-26T14:20:27.523820Z",
     "shell.execute_reply": "2020-09-26T14:20:27.523175Z"
    },
    "papermill": {
     "duration": 2.669513,
     "end_time": "2020-09-26T14:20:27.524025",
     "exception": false,
     "start_time": "2020-09-26T14:20:24.854512",
     "status": "completed"
    },
    "pycharm": {
     "name": "#%%\n"
    },
    "tags": []
   },
   "outputs": [],
   "source": [
    "import datetime\n",
    "import json\n",
    "import logging\n",
    "import os\n",
    "import shutil\n",
    "import tempfile\n",
    "import textwrap\n",
    "import uuid\n",
    "\n",
    "import matplotlib.ticker\n",
    "import numpy as np\n",
    "import pandas as pd\n",
    "import seaborn as sns\n",
    "\n",
    "%matplotlib inline"
   ]
  },
  {
   "cell_type": "code",
   "execution_count": 2,
   "metadata": {
    "collapsed": false,
    "execution": {
     "iopub.execute_input": "2020-09-26T14:20:27.598415Z",
     "iopub.status.busy": "2020-09-26T14:20:27.597850Z",
     "iopub.status.idle": "2020-09-26T14:20:27.600506Z",
     "shell.execute_reply": "2020-09-26T14:20:27.599937Z"
    },
    "papermill": {
     "duration": 0.042235,
     "end_time": "2020-09-26T14:20:27.600665",
     "exception": false,
     "start_time": "2020-09-26T14:20:27.558430",
     "status": "completed"
    },
    "pycharm": {
     "name": "#%%\n"
    },
    "tags": []
   },
   "outputs": [],
   "source": [
    "current_working_directory = os.environ.get(\"PWD\")\n",
    "if current_working_directory:\n",
    "    os.chdir(current_working_directory)\n",
    "\n",
    "sns.set()\n",
    "matplotlib.rcParams[\"figure.figsize\"] = (15, 6)\n",
    "\n",
    "extraction_datetime = datetime.datetime.utcnow()\n",
    "extraction_date = extraction_datetime.strftime(\"%Y-%m-%d\")\n",
    "extraction_previous_datetime = extraction_datetime - datetime.timedelta(days=1)\n",
    "extraction_previous_date = extraction_previous_datetime.strftime(\"%Y-%m-%d\")\n",
    "extraction_date_with_hour = datetime.datetime.utcnow().strftime(\"%Y-%m-%d@%H\")"
   ]
  },
  {
   "cell_type": "markdown",
   "metadata": {
    "collapsed": false,
    "papermill": {
     "duration": 0.037514,
     "end_time": "2020-09-26T14:20:27.670863",
     "exception": false,
     "start_time": "2020-09-26T14:20:27.633349",
     "status": "completed"
    },
    "tags": []
   },
   "source": [
    "### Constants"
   ]
  },
  {
   "cell_type": "code",
   "execution_count": 3,
   "metadata": {
    "execution": {
     "iopub.execute_input": "2020-09-26T14:20:27.746828Z",
     "iopub.status.busy": "2020-09-26T14:20:27.746200Z",
     "iopub.status.idle": "2020-09-26T14:20:27.748730Z",
     "shell.execute_reply": "2020-09-26T14:20:27.748107Z"
    },
    "papermill": {
     "duration": 0.04353,
     "end_time": "2020-09-26T14:20:27.748859",
     "exception": false,
     "start_time": "2020-09-26T14:20:27.705329",
     "status": "completed"
    },
    "pycharm": {
     "name": "#%%\n"
    },
    "tags": []
   },
   "outputs": [],
   "source": [
    "spain_region_country_name = \"Spain\"\n",
    "spain_region_country_code = \"ES\"\n",
    "\n",
    "daily_summary_days = 7 * 3\n",
    "daily_plot_days = 7 * 2\n",
    "tek_dumps_load_limit = daily_summary_days + 1"
   ]
  },
  {
   "cell_type": "markdown",
   "metadata": {
    "collapsed": false,
    "papermill": {
     "duration": 0.034205,
     "end_time": "2020-09-26T14:20:27.818631",
     "exception": false,
     "start_time": "2020-09-26T14:20:27.784426",
     "status": "completed"
    },
    "pycharm": {
     "name": "#%% md\n"
    },
    "tags": []
   },
   "source": [
    "### COVID-19 Cases"
   ]
  },
  {
   "cell_type": "code",
   "execution_count": 4,
   "metadata": {
    "collapsed": false,
    "execution": {
     "iopub.execute_input": "2020-09-26T14:20:27.891440Z",
     "iopub.status.busy": "2020-09-26T14:20:27.890724Z",
     "iopub.status.idle": "2020-09-26T14:20:28.282666Z",
     "shell.execute_reply": "2020-09-26T14:20:28.282171Z"
    },
    "papermill": {
     "duration": 0.428361,
     "end_time": "2020-09-26T14:20:28.282805",
     "exception": false,
     "start_time": "2020-09-26T14:20:27.854444",
     "status": "completed"
    },
    "pycharm": {
     "name": "#%%\n"
    },
    "tags": []
   },
   "outputs": [
    {
     "data": {
      "text/html": [
       "<div>\n",
       "<style scoped>\n",
       "    .dataframe tbody tr th:only-of-type {\n",
       "        vertical-align: middle;\n",
       "    }\n",
       "\n",
       "    .dataframe tbody tr th {\n",
       "        vertical-align: top;\n",
       "    }\n",
       "\n",
       "    .dataframe thead th {\n",
       "        text-align: right;\n",
       "    }\n",
       "</style>\n",
       "<table border=\"1\" class=\"dataframe\">\n",
       "  <thead>\n",
       "    <tr style=\"text-align: right;\">\n",
       "      <th></th>\n",
       "      <th>Country_EN</th>\n",
       "      <th>Country_ES</th>\n",
       "      <th>Country_IT</th>\n",
       "      <th>Region</th>\n",
       "      <th>2020-01-23</th>\n",
       "      <th>2020-01-24</th>\n",
       "      <th>2020-01-25</th>\n",
       "      <th>2020-01-26</th>\n",
       "      <th>2020-01-27</th>\n",
       "      <th>2020-01-28</th>\n",
       "      <th>...</th>\n",
       "      <th>2020-09-16</th>\n",
       "      <th>2020-09-17</th>\n",
       "      <th>2020-09-18</th>\n",
       "      <th>2020-09-19</th>\n",
       "      <th>2020-09-20</th>\n",
       "      <th>2020-09-21</th>\n",
       "      <th>2020-09-22</th>\n",
       "      <th>2020-09-23</th>\n",
       "      <th>2020-09-24</th>\n",
       "      <th>2020-09-25</th>\n",
       "    </tr>\n",
       "  </thead>\n",
       "  <tbody>\n",
       "    <tr>\n",
       "      <th>218</th>\n",
       "      <td>Spain</td>\n",
       "      <td>España</td>\n",
       "      <td>Spagna</td>\n",
       "      <td>NaN</td>\n",
       "      <td>0.0</td>\n",
       "      <td>0.0</td>\n",
       "      <td>0.0</td>\n",
       "      <td>0.0</td>\n",
       "      <td>0.0</td>\n",
       "      <td>0.0</td>\n",
       "      <td>...</td>\n",
       "      <td>614360.0</td>\n",
       "      <td>625651.0</td>\n",
       "      <td>640040.0</td>\n",
       "      <td>640040.0</td>\n",
       "      <td>640040.0</td>\n",
       "      <td>671468.0</td>\n",
       "      <td>682267.0</td>\n",
       "      <td>693556.0</td>\n",
       "      <td>704209.0</td>\n",
       "      <td>716481.0</td>\n",
       "    </tr>\n",
       "  </tbody>\n",
       "</table>\n",
       "<p>1 rows × 251 columns</p>\n",
       "</div>"
      ],
      "text/plain": [
       "    Country_EN Country_ES Country_IT Region  2020-01-23  2020-01-24  \\\n",
       "218      Spain     España     Spagna    NaN         0.0         0.0   \n",
       "\n",
       "     2020-01-25  2020-01-26  2020-01-27  2020-01-28  ...  2020-09-16  \\\n",
       "218         0.0         0.0         0.0         0.0  ...    614360.0   \n",
       "\n",
       "     2020-09-17  2020-09-18  2020-09-19  2020-09-20  2020-09-21  2020-09-22  \\\n",
       "218    625651.0    640040.0    640040.0    640040.0    671468.0    682267.0   \n",
       "\n",
       "     2020-09-23  2020-09-24  2020-09-25  \n",
       "218    693556.0    704209.0    716481.0  \n",
       "\n",
       "[1 rows x 251 columns]"
      ]
     },
     "execution_count": 4,
     "metadata": {},
     "output_type": "execute_result"
    }
   ],
   "source": [
    "confirmed_df = pd.read_csv(\"https://covid19tracking.narrativa.com/csv/confirmed.csv\")\n",
    "\n",
    "radar_covid_countries = {spain_region_country_name}\n",
    "\n",
    "confirmed_df = confirmed_df[confirmed_df[\"Country_EN\"].isin(radar_covid_countries)]\n",
    "confirmed_df = confirmed_df[pd.isna(confirmed_df.Region)]\n",
    "confirmed_df.head()"
   ]
  },
  {
   "cell_type": "code",
   "execution_count": 5,
   "metadata": {
    "collapsed": false,
    "execution": {
     "iopub.execute_input": "2020-09-26T14:20:28.366379Z",
     "iopub.status.busy": "2020-09-26T14:20:28.365751Z",
     "iopub.status.idle": "2020-09-26T14:20:28.377095Z",
     "shell.execute_reply": "2020-09-26T14:20:28.376572Z"
    },
    "papermill": {
     "duration": 0.061096,
     "end_time": "2020-09-26T14:20:28.377283",
     "exception": false,
     "start_time": "2020-09-26T14:20:28.316187",
     "status": "completed"
    },
    "pycharm": {
     "name": "#%%\n"
    },
    "tags": []
   },
   "outputs": [
    {
     "data": {
      "text/html": [
       "<div>\n",
       "<style scoped>\n",
       "    .dataframe tbody tr th:only-of-type {\n",
       "        vertical-align: middle;\n",
       "    }\n",
       "\n",
       "    .dataframe tbody tr th {\n",
       "        vertical-align: top;\n",
       "    }\n",
       "\n",
       "    .dataframe thead th {\n",
       "        text-align: right;\n",
       "    }\n",
       "</style>\n",
       "<table border=\"1\" class=\"dataframe\">\n",
       "  <thead>\n",
       "    <tr style=\"text-align: right;\">\n",
       "      <th></th>\n",
       "      <th>2020-01-23</th>\n",
       "      <th>2020-01-24</th>\n",
       "      <th>2020-01-25</th>\n",
       "      <th>2020-01-26</th>\n",
       "      <th>2020-01-27</th>\n",
       "      <th>2020-01-28</th>\n",
       "      <th>2020-01-29</th>\n",
       "      <th>2020-01-30</th>\n",
       "      <th>2020-01-31</th>\n",
       "      <th>2020-02-01</th>\n",
       "      <th>...</th>\n",
       "      <th>2020-09-16</th>\n",
       "      <th>2020-09-17</th>\n",
       "      <th>2020-09-18</th>\n",
       "      <th>2020-09-19</th>\n",
       "      <th>2020-09-20</th>\n",
       "      <th>2020-09-21</th>\n",
       "      <th>2020-09-22</th>\n",
       "      <th>2020-09-23</th>\n",
       "      <th>2020-09-24</th>\n",
       "      <th>2020-09-25</th>\n",
       "    </tr>\n",
       "  </thead>\n",
       "  <tbody>\n",
       "    <tr>\n",
       "      <th>218</th>\n",
       "      <td>0.0</td>\n",
       "      <td>0.0</td>\n",
       "      <td>0.0</td>\n",
       "      <td>0.0</td>\n",
       "      <td>0.0</td>\n",
       "      <td>0.0</td>\n",
       "      <td>0.0</td>\n",
       "      <td>0.0</td>\n",
       "      <td>0.0</td>\n",
       "      <td>1.0</td>\n",
       "      <td>...</td>\n",
       "      <td>614360.0</td>\n",
       "      <td>625651.0</td>\n",
       "      <td>640040.0</td>\n",
       "      <td>640040.0</td>\n",
       "      <td>640040.0</td>\n",
       "      <td>671468.0</td>\n",
       "      <td>682267.0</td>\n",
       "      <td>693556.0</td>\n",
       "      <td>704209.0</td>\n",
       "      <td>716481.0</td>\n",
       "    </tr>\n",
       "  </tbody>\n",
       "</table>\n",
       "<p>1 rows × 247 columns</p>\n",
       "</div>"
      ],
      "text/plain": [
       "     2020-01-23  2020-01-24  2020-01-25  2020-01-26  2020-01-27  2020-01-28  \\\n",
       "218         0.0         0.0         0.0         0.0         0.0         0.0   \n",
       "\n",
       "     2020-01-29  2020-01-30  2020-01-31  2020-02-01  ...  2020-09-16  \\\n",
       "218         0.0         0.0         0.0         1.0  ...    614360.0   \n",
       "\n",
       "     2020-09-17  2020-09-18  2020-09-19  2020-09-20  2020-09-21  2020-09-22  \\\n",
       "218    625651.0    640040.0    640040.0    640040.0    671468.0    682267.0   \n",
       "\n",
       "     2020-09-23  2020-09-24  2020-09-25  \n",
       "218    693556.0    704209.0    716481.0  \n",
       "\n",
       "[1 rows x 247 columns]"
      ]
     },
     "execution_count": 5,
     "metadata": {},
     "output_type": "execute_result"
    }
   ],
   "source": [
    "confirmed_country_columns = list(filter(lambda x: x.startswith(\"Country_\"), confirmed_df.columns))\n",
    "confirmed_regional_columns = confirmed_country_columns + [\"Region\"]\n",
    "confirmed_df.drop(columns=confirmed_regional_columns, inplace=True)\n",
    "confirmed_df.head()"
   ]
  },
  {
   "cell_type": "code",
   "execution_count": 6,
   "metadata": {
    "collapsed": false,
    "execution": {
     "iopub.execute_input": "2020-09-26T14:20:28.451737Z",
     "iopub.status.busy": "2020-09-26T14:20:28.451066Z",
     "iopub.status.idle": "2020-09-26T14:20:28.454521Z",
     "shell.execute_reply": "2020-09-26T14:20:28.454982Z"
    },
    "papermill": {
     "duration": 0.044032,
     "end_time": "2020-09-26T14:20:28.455130",
     "exception": false,
     "start_time": "2020-09-26T14:20:28.411098",
     "status": "completed"
    },
    "pycharm": {
     "name": "#%%\n"
    },
    "tags": []
   },
   "outputs": [
    {
     "data": {
      "text/html": [
       "<div>\n",
       "<style scoped>\n",
       "    .dataframe tbody tr th:only-of-type {\n",
       "        vertical-align: middle;\n",
       "    }\n",
       "\n",
       "    .dataframe tbody tr th {\n",
       "        vertical-align: top;\n",
       "    }\n",
       "\n",
       "    .dataframe thead th {\n",
       "        text-align: right;\n",
       "    }\n",
       "</style>\n",
       "<table border=\"1\" class=\"dataframe\">\n",
       "  <thead>\n",
       "    <tr style=\"text-align: right;\">\n",
       "      <th></th>\n",
       "      <th>0</th>\n",
       "    </tr>\n",
       "  </thead>\n",
       "  <tbody>\n",
       "    <tr>\n",
       "      <th>2020-09-21</th>\n",
       "      <td>671468.0</td>\n",
       "    </tr>\n",
       "    <tr>\n",
       "      <th>2020-09-22</th>\n",
       "      <td>682267.0</td>\n",
       "    </tr>\n",
       "    <tr>\n",
       "      <th>2020-09-23</th>\n",
       "      <td>693556.0</td>\n",
       "    </tr>\n",
       "    <tr>\n",
       "      <th>2020-09-24</th>\n",
       "      <td>704209.0</td>\n",
       "    </tr>\n",
       "    <tr>\n",
       "      <th>2020-09-25</th>\n",
       "      <td>716481.0</td>\n",
       "    </tr>\n",
       "  </tbody>\n",
       "</table>\n",
       "</div>"
      ],
      "text/plain": [
       "                   0\n",
       "2020-09-21  671468.0\n",
       "2020-09-22  682267.0\n",
       "2020-09-23  693556.0\n",
       "2020-09-24  704209.0\n",
       "2020-09-25  716481.0"
      ]
     },
     "execution_count": 6,
     "metadata": {},
     "output_type": "execute_result"
    }
   ],
   "source": [
    "confirmed_df = confirmed_df.sum().to_frame()\n",
    "confirmed_df.tail()"
   ]
  },
  {
   "cell_type": "code",
   "execution_count": 7,
   "metadata": {
    "collapsed": false,
    "execution": {
     "iopub.execute_input": "2020-09-26T14:20:28.542607Z",
     "iopub.status.busy": "2020-09-26T14:20:28.541847Z",
     "iopub.status.idle": "2020-09-26T14:20:28.545826Z",
     "shell.execute_reply": "2020-09-26T14:20:28.545293Z"
    },
    "papermill": {
     "duration": 0.054091,
     "end_time": "2020-09-26T14:20:28.545976",
     "exception": false,
     "start_time": "2020-09-26T14:20:28.491885",
     "status": "completed"
    },
    "pycharm": {
     "name": "#%%\n"
    },
    "tags": []
   },
   "outputs": [
    {
     "data": {
      "text/html": [
       "<div>\n",
       "<style scoped>\n",
       "    .dataframe tbody tr th:only-of-type {\n",
       "        vertical-align: middle;\n",
       "    }\n",
       "\n",
       "    .dataframe tbody tr th {\n",
       "        vertical-align: top;\n",
       "    }\n",
       "\n",
       "    .dataframe thead th {\n",
       "        text-align: right;\n",
       "    }\n",
       "</style>\n",
       "<table border=\"1\" class=\"dataframe\">\n",
       "  <thead>\n",
       "    <tr style=\"text-align: right;\">\n",
       "      <th></th>\n",
       "      <th>sample_date_string</th>\n",
       "      <th>cumulative_cases</th>\n",
       "      <th>new_cases</th>\n",
       "      <th>covid_cases</th>\n",
       "    </tr>\n",
       "  </thead>\n",
       "  <tbody>\n",
       "    <tr>\n",
       "      <th>242</th>\n",
       "      <td>2020-09-21</td>\n",
       "      <td>671468.0</td>\n",
       "      <td>31428.0</td>\n",
       "      <td>11105.0</td>\n",
       "    </tr>\n",
       "    <tr>\n",
       "      <th>243</th>\n",
       "      <td>2020-09-22</td>\n",
       "      <td>682267.0</td>\n",
       "      <td>10799.0</td>\n",
       "      <td>11300.0</td>\n",
       "    </tr>\n",
       "    <tr>\n",
       "      <th>244</th>\n",
       "      <td>2020-09-23</td>\n",
       "      <td>693556.0</td>\n",
       "      <td>11289.0</td>\n",
       "      <td>11314.0</td>\n",
       "    </tr>\n",
       "    <tr>\n",
       "      <th>245</th>\n",
       "      <td>2020-09-24</td>\n",
       "      <td>704209.0</td>\n",
       "      <td>10653.0</td>\n",
       "      <td>11223.0</td>\n",
       "    </tr>\n",
       "    <tr>\n",
       "      <th>246</th>\n",
       "      <td>2020-09-25</td>\n",
       "      <td>716481.0</td>\n",
       "      <td>12272.0</td>\n",
       "      <td>10920.0</td>\n",
       "    </tr>\n",
       "  </tbody>\n",
       "</table>\n",
       "</div>"
      ],
      "text/plain": [
       "    sample_date_string  cumulative_cases  new_cases  covid_cases\n",
       "242         2020-09-21          671468.0    31428.0      11105.0\n",
       "243         2020-09-22          682267.0    10799.0      11300.0\n",
       "244         2020-09-23          693556.0    11289.0      11314.0\n",
       "245         2020-09-24          704209.0    10653.0      11223.0\n",
       "246         2020-09-25          716481.0    12272.0      10920.0"
      ]
     },
     "execution_count": 7,
     "metadata": {},
     "output_type": "execute_result"
    }
   ],
   "source": [
    "confirmed_df.reset_index(inplace=True)\n",
    "confirmed_df.columns = [\"sample_date_string\", \"cumulative_cases\"]\n",
    "confirmed_df.sort_values(\"sample_date_string\", inplace=True)\n",
    "confirmed_df[\"new_cases\"] = confirmed_df.cumulative_cases.diff()\n",
    "confirmed_df[\"covid_cases\"] = confirmed_df.new_cases.rolling(7).mean().round()\n",
    "confirmed_df.tail()"
   ]
  },
  {
   "cell_type": "code",
   "execution_count": 8,
   "metadata": {
    "execution": {
     "iopub.execute_input": "2020-09-26T14:20:28.625901Z",
     "iopub.status.busy": "2020-09-26T14:20:28.625272Z",
     "iopub.status.idle": "2020-09-26T14:20:28.638647Z",
     "shell.execute_reply": "2020-09-26T14:20:28.639200Z"
    },
    "papermill": {
     "duration": 0.058356,
     "end_time": "2020-09-26T14:20:28.639405",
     "exception": false,
     "start_time": "2020-09-26T14:20:28.581049",
     "status": "completed"
    },
    "pycharm": {
     "name": "#%%\n"
    },
    "tags": []
   },
   "outputs": [
    {
     "data": {
      "text/html": [
       "<div>\n",
       "<style scoped>\n",
       "    .dataframe tbody tr th:only-of-type {\n",
       "        vertical-align: middle;\n",
       "    }\n",
       "\n",
       "    .dataframe tbody tr th {\n",
       "        vertical-align: top;\n",
       "    }\n",
       "\n",
       "    .dataframe thead th {\n",
       "        text-align: right;\n",
       "    }\n",
       "</style>\n",
       "<table border=\"1\" class=\"dataframe\">\n",
       "  <thead>\n",
       "    <tr style=\"text-align: right;\">\n",
       "      <th></th>\n",
       "      <th>sample_date_string</th>\n",
       "      <th>cumulative_cases</th>\n",
       "      <th>new_cases</th>\n",
       "      <th>covid_cases</th>\n",
       "    </tr>\n",
       "  </thead>\n",
       "  <tbody>\n",
       "    <tr>\n",
       "      <th>243</th>\n",
       "      <td>2020-09-22</td>\n",
       "      <td>682267.0</td>\n",
       "      <td>10799.0</td>\n",
       "      <td>11300</td>\n",
       "    </tr>\n",
       "    <tr>\n",
       "      <th>244</th>\n",
       "      <td>2020-09-23</td>\n",
       "      <td>693556.0</td>\n",
       "      <td>11289.0</td>\n",
       "      <td>11314</td>\n",
       "    </tr>\n",
       "    <tr>\n",
       "      <th>245</th>\n",
       "      <td>2020-09-24</td>\n",
       "      <td>704209.0</td>\n",
       "      <td>10653.0</td>\n",
       "      <td>11223</td>\n",
       "    </tr>\n",
       "    <tr>\n",
       "      <th>246</th>\n",
       "      <td>2020-09-25</td>\n",
       "      <td>716481.0</td>\n",
       "      <td>12272.0</td>\n",
       "      <td>10920</td>\n",
       "    </tr>\n",
       "    <tr>\n",
       "      <th>246</th>\n",
       "      <td>2020-09-26</td>\n",
       "      <td>727401.0</td>\n",
       "      <td>10920.0</td>\n",
       "      <td>10920</td>\n",
       "    </tr>\n",
       "  </tbody>\n",
       "</table>\n",
       "</div>"
      ],
      "text/plain": [
       "    sample_date_string  cumulative_cases  new_cases  covid_cases\n",
       "243         2020-09-22          682267.0    10799.0        11300\n",
       "244         2020-09-23          693556.0    11289.0        11314\n",
       "245         2020-09-24          704209.0    10653.0        11223\n",
       "246         2020-09-25          716481.0    12272.0        10920\n",
       "246         2020-09-26          727401.0    10920.0        10920"
      ]
     },
     "execution_count": 8,
     "metadata": {},
     "output_type": "execute_result"
    }
   ],
   "source": [
    "extraction_date_confirmed_df = \\\n",
    "    confirmed_df[confirmed_df.sample_date_string == extraction_date]\n",
    "extraction_previous_date_confirmed_df = \\\n",
    "    confirmed_df[confirmed_df.sample_date_string == extraction_previous_date].copy()\n",
    "\n",
    "if extraction_date_confirmed_df.empty and \\\n",
    "    not extraction_previous_date_confirmed_df.empty:\n",
    "        extraction_previous_date_confirmed_df[\"sample_date_string\"] = extraction_date\n",
    "        extraction_previous_date_confirmed_df[\"new_cases\"] = \\\n",
    "            extraction_previous_date_confirmed_df.covid_cases\n",
    "        extraction_previous_date_confirmed_df[\"cumulative_cases\"] = \\\n",
    "            extraction_previous_date_confirmed_df.new_cases + \\\n",
    "            extraction_previous_date_confirmed_df.cumulative_cases\n",
    "        confirmed_df = confirmed_df.append(extraction_previous_date_confirmed_df)\n",
    "\n",
    "confirmed_df[\"covid_cases\"] = confirmed_df.covid_cases.fillna(0).astype(int)\n",
    "confirmed_df.tail()"
   ]
  },
  {
   "cell_type": "code",
   "execution_count": 9,
   "metadata": {
    "execution": {
     "iopub.execute_input": "2020-09-26T14:20:28.721074Z",
     "iopub.status.busy": "2020-09-26T14:20:28.720517Z",
     "iopub.status.idle": "2020-09-26T14:20:28.942997Z",
     "shell.execute_reply": "2020-09-26T14:20:28.943669Z"
    },
    "papermill": {
     "duration": 0.267488,
     "end_time": "2020-09-26T14:20:28.943834",
     "exception": false,
     "start_time": "2020-09-26T14:20:28.676346",
     "status": "completed"
    },
    "pycharm": {
     "name": "#%%\n"
    },
    "tags": []
   },
   "outputs": [
    {
     "data": {
      "text/plain": [
       "<matplotlib.axes._subplots.AxesSubplot at 0x7f798f6f76a0>"
      ]
     },
     "execution_count": 9,
     "metadata": {},
     "output_type": "execute_result"
    },
    {
     "data": {
      "image/png": "[encoded data removed]",
      "text/plain": [
       "<Figure size 1080x432 with 1 Axes>"
      ]
     },
     "metadata": {},
     "output_type": "display_data"
    }
   ],
   "source": [
    "confirmed_df[[\"new_cases\", \"covid_cases\"]].plot()"
   ]
  },
  {
   "cell_type": "markdown",
   "metadata": {
    "execution": {
     "iopub.execute_input": "2020-08-30T22:30:16.351238Z",
     "iopub.status.busy": "2020-08-30T22:30:16.344579Z",
     "iopub.status.idle": "2020-08-30T22:30:16.354285Z",
     "shell.execute_reply": "2020-08-30T22:30:16.353641Z"
    },
    "papermill": {
     "duration": 0.036834,
     "end_time": "2020-09-26T14:20:29.018170",
     "exception": false,
     "start_time": "2020-09-26T14:20:28.981336",
     "status": "completed"
    },
    "pycharm": {
     "name": "#%% md\n"
    },
    "tags": []
   },
   "source": [
    "### Extract API TEKs"
   ]
  },
  {
   "cell_type": "code",
   "execution_count": 10,
   "metadata": {
    "execution": {
     "iopub.execute_input": "2020-09-26T14:20:29.100455Z",
     "iopub.status.busy": "2020-09-26T14:20:29.099834Z",
     "iopub.status.idle": "2020-09-26T14:20:31.207084Z",
     "shell.execute_reply": "2020-09-26T14:20:31.206372Z"
    },
    "papermill": {
     "duration": 2.151997,
     "end_time": "2020-09-26T14:20:31.207232",
     "exception": false,
     "start_time": "2020-09-26T14:20:29.055235",
     "status": "completed"
    },
    "pycharm": {
     "name": "#%%\n"
    },
    "tags": []
   },
   "outputs": [
    {
     "data": {
      "text/html": [
       "<div>\n",
       "<style scoped>\n",
       "    .dataframe tbody tr th:only-of-type {\n",
       "        vertical-align: middle;\n",
       "    }\n",
       "\n",
       "    .dataframe tbody tr th {\n",
       "        vertical-align: top;\n",
       "    }\n",
       "\n",
       "    .dataframe thead th {\n",
       "        text-align: right;\n",
       "    }\n",
       "</style>\n",
       "<table border=\"1\" class=\"dataframe\">\n",
       "  <thead>\n",
       "    <tr style=\"text-align: right;\">\n",
       "      <th></th>\n",
       "      <th>sample_date_string</th>\n",
       "      <th>source_url</th>\n",
       "      <th>region</th>\n",
       "      <th>key_data</th>\n",
       "    </tr>\n",
       "  </thead>\n",
       "  <tbody>\n",
       "    <tr>\n",
       "      <th>0</th>\n",
       "      <td>2020-09-26</td>\n",
       "      <td>https://radarcovid.covid19.gob.es/dp3t/v1/gaen...</td>\n",
       "      <td>ES</td>\n",
       "      <td>0bdbdcc8-217c-1273-680a-d03c8e5e6676</td>\n",
       "    </tr>\n",
       "    <tr>\n",
       "      <th>1</th>\n",
       "      <td>2020-09-26</td>\n",
       "      <td>https://radarcovid.covid19.gob.es/dp3t/v1/gaen...</td>\n",
       "      <td>ES</td>\n",
       "      <td>232ca72b-f41c-09f1-d798-fae6deeaf19d</td>\n",
       "    </tr>\n",
       "    <tr>\n",
       "      <th>2</th>\n",
       "      <td>2020-09-26</td>\n",
       "      <td>https://radarcovid.covid19.gob.es/dp3t/v1/gaen...</td>\n",
       "      <td>ES</td>\n",
       "      <td>bd1c8656-5812-7247-c029-1f848b22e8e3</td>\n",
       "    </tr>\n",
       "    <tr>\n",
       "      <th>3</th>\n",
       "      <td>2020-09-26</td>\n",
       "      <td>https://radarcovid.covid19.gob.es/dp3t/v1/gaen...</td>\n",
       "      <td>ES</td>\n",
       "      <td>e0efca43-afe7-b324-c653-572629b664b9</td>\n",
       "    </tr>\n",
       "    <tr>\n",
       "      <th>4</th>\n",
       "      <td>2020-09-26</td>\n",
       "      <td>https://radarcovid.covid19.gob.es/dp3t/v1/gaen...</td>\n",
       "      <td>ES</td>\n",
       "      <td>ceee6972-94bd-4f48-ea3d-fa3f9ad6b78a</td>\n",
       "    </tr>\n",
       "  </tbody>\n",
       "</table>\n",
       "</div>"
      ],
      "text/plain": [
       "  sample_date_string                                         source_url  \\\n",
       "0         2020-09-26  https://radarcovid.covid19.gob.es/dp3t/v1/gaen...   \n",
       "1         2020-09-26  https://radarcovid.covid19.gob.es/dp3t/v1/gaen...   \n",
       "2         2020-09-26  https://radarcovid.covid19.gob.es/dp3t/v1/gaen...   \n",
       "3         2020-09-26  https://radarcovid.covid19.gob.es/dp3t/v1/gaen...   \n",
       "4         2020-09-26  https://radarcovid.covid19.gob.es/dp3t/v1/gaen...   \n",
       "\n",
       "  region                              key_data  \n",
       "0     ES  0bdbdcc8-217c-1273-680a-d03c8e5e6676  \n",
       "1     ES  232ca72b-f41c-09f1-d798-fae6deeaf19d  \n",
       "2     ES  bd1c8656-5812-7247-c029-1f848b22e8e3  \n",
       "3     ES  e0efca43-afe7-b324-c653-572629b664b9  \n",
       "4     ES  ceee6972-94bd-4f48-ea3d-fa3f9ad6b78a  "
      ]
     },
     "execution_count": 10,
     "metadata": {},
     "output_type": "execute_result"
    }
   ],
   "source": [
    "from Modules.RadarCOVID import radar_covid\n",
    "\n",
    "raw_zip_paths = [\n",
    "    \"Data/TEKs/Raw/Current/RadarCOVID-TEKs-{sample_date}.zip\",\n",
    "    f\"Data/TEKs/Raw/Daily/{extraction_date}/RadarCOVID-TEKs-{{sample_date}}.zip\",\n",
    "    f\"Data/TEKs/Raw/Hourly/{extraction_date_with_hour}/RadarCOVID-TEKs-{{sample_date}}.zip\",\n",
    "]\n",
    "\n",
    "multi_region_exposure_keys_df = \\\n",
    "    radar_covid.download_last_radar_covid_exposure_keys(\n",
    "        days=14, save_raw_zip_path=raw_zip_paths)\n",
    "multi_region_exposure_keys_df = multi_region_exposure_keys_df[[\n",
    "    \"sample_date_string\", \"source_url\", \"region\", \"key_data\"]]\n",
    "multi_region_exposure_keys_df.head()"
   ]
  },
  {
   "cell_type": "code",
   "execution_count": 11,
   "metadata": {
    "collapsed": false,
    "execution": {
     "iopub.execute_input": "2020-09-26T14:20:31.298861Z",
     "iopub.status.busy": "2020-09-26T14:20:31.288304Z",
     "iopub.status.idle": "2020-09-26T14:20:31.302298Z",
     "shell.execute_reply": "2020-09-26T14:20:31.302921Z"
    },
    "papermill": {
     "duration": 0.056399,
     "end_time": "2020-09-26T14:20:31.303065",
     "exception": false,
     "start_time": "2020-09-26T14:20:31.246666",
     "status": "completed"
    },
    "pycharm": {
     "name": "#%%\n"
    },
    "tags": []
   },
   "outputs": [
    {
     "data": {
      "text/plain": [
       "['ES']"
      ]
     },
     "execution_count": 11,
     "metadata": {},
     "output_type": "execute_result"
    }
   ],
   "source": [
    "active_regions = \\\n",
    "    multi_region_exposure_keys_df.groupby(\"region\").key_data.nunique().sort_values().index.unique().tolist()\n",
    "active_regions"
   ]
  },
  {
   "cell_type": "code",
   "execution_count": 12,
   "metadata": {
    "collapsed": false,
    "execution": {
     "iopub.execute_input": "2020-09-26T14:20:31.386646Z",
     "iopub.status.busy": "2020-09-26T14:20:31.386024Z",
     "iopub.status.idle": "2020-09-26T14:20:31.413503Z",
     "shell.execute_reply": "2020-09-26T14:20:31.412979Z"
    },
    "papermill": {
     "duration": 0.072835,
     "end_time": "2020-09-26T14:20:31.413653",
     "exception": false,
     "start_time": "2020-09-26T14:20:31.340818",
     "status": "completed"
    },
    "pycharm": {
     "name": "#%%\n"
    },
    "tags": []
   },
   "outputs": [
    {
     "data": {
      "text/html": [
       "<div>\n",
       "<style scoped>\n",
       "    .dataframe tbody tr th:only-of-type {\n",
       "        vertical-align: middle;\n",
       "    }\n",
       "\n",
       "    .dataframe tbody tr th {\n",
       "        vertical-align: top;\n",
       "    }\n",
       "\n",
       "    .dataframe thead tr th {\n",
       "        text-align: left;\n",
       "    }\n",
       "\n",
       "    .dataframe thead tr:last-of-type th {\n",
       "        text-align: right;\n",
       "    }\n",
       "</style>\n",
       "<table border=\"1\" class=\"dataframe\">\n",
       "  <thead>\n",
       "    <tr>\n",
       "      <th></th>\n",
       "      <th>shared_teks_by_generation_date</th>\n",
       "    </tr>\n",
       "    <tr>\n",
       "      <th>region</th>\n",
       "      <th>ES</th>\n",
       "    </tr>\n",
       "    <tr>\n",
       "      <th>sample_date_string</th>\n",
       "      <th></th>\n",
       "    </tr>\n",
       "  </thead>\n",
       "  <tbody>\n",
       "    <tr>\n",
       "      <th>2020-09-26</th>\n",
       "      <td>49</td>\n",
       "    </tr>\n",
       "    <tr>\n",
       "      <th>2020-09-25</th>\n",
       "      <td>96</td>\n",
       "    </tr>\n",
       "    <tr>\n",
       "      <th>2020-09-24</th>\n",
       "      <td>143</td>\n",
       "    </tr>\n",
       "    <tr>\n",
       "      <th>2020-09-23</th>\n",
       "      <td>186</td>\n",
       "    </tr>\n",
       "    <tr>\n",
       "      <th>2020-09-22</th>\n",
       "      <td>205</td>\n",
       "    </tr>\n",
       "  </tbody>\n",
       "</table>\n",
       "</div>"
      ],
      "text/plain": [
       "                   shared_teks_by_generation_date\n",
       "region                                         ES\n",
       "sample_date_string                               \n",
       "2020-09-26                                     49\n",
       "2020-09-25                                     96\n",
       "2020-09-24                                    143\n",
       "2020-09-23                                    186\n",
       "2020-09-22                                    205"
      ]
     },
     "execution_count": 12,
     "metadata": {},
     "output_type": "execute_result"
    }
   ],
   "source": [
    "multi_region_summary_df = multi_region_exposure_keys_df.groupby(\n",
    "    [\"sample_date_string\", \"region\"]).key_data.nunique().reset_index() \\\n",
    "    .pivot(index=\"sample_date_string\", columns=\"region\") \\\n",
    "    .sort_index(ascending=False)\n",
    "multi_region_summary_df.rename(columns={\"key_data\": \"shared_teks_by_generation_date\"}, inplace=True)\n",
    "multi_region_summary_df.head()"
   ]
  },
  {
   "cell_type": "code",
   "execution_count": 13,
   "metadata": {
    "collapsed": false,
    "execution": {
     "iopub.execute_input": "2020-09-26T14:20:31.496781Z",
     "iopub.status.busy": "2020-09-26T14:20:31.496129Z",
     "iopub.status.idle": "2020-09-26T14:20:31.499523Z",
     "shell.execute_reply": "2020-09-26T14:20:31.499966Z"
    },
    "papermill": {
     "duration": 0.049999,
     "end_time": "2020-09-26T14:20:31.500126",
     "exception": false,
     "start_time": "2020-09-26T14:20:31.450127",
     "status": "completed"
    },
    "pycharm": {
     "name": "#%%\n"
    },
    "tags": []
   },
   "outputs": [
    {
     "data": {
      "text/plain": [
       "[]"
      ]
     },
     "execution_count": 13,
     "metadata": {},
     "output_type": "execute_result"
    }
   ],
   "source": [
    "multi_region_without_spain_exposure_keys_df = \\\n",
    "    multi_region_exposure_keys_df[multi_region_exposure_keys_df.region != spain_region_country_code]\n",
    "active_regions_excluding_spain = \\\n",
    "    multi_region_without_spain_exposure_keys_df.groupby(\"region\").key_data.nunique().sort_values().index.unique().tolist()\n",
    "active_regions_excluding_spain"
   ]
  },
  {
   "cell_type": "code",
   "execution_count": 14,
   "metadata": {
    "execution": {
     "iopub.execute_input": "2020-09-26T14:20:31.582060Z",
     "iopub.status.busy": "2020-09-26T14:20:31.581260Z",
     "iopub.status.idle": "2020-09-26T14:20:31.603589Z",
     "shell.execute_reply": "2020-09-26T14:20:31.603049Z"
    },
    "papermill": {
     "duration": 0.065677,
     "end_time": "2020-09-26T14:20:31.603727",
     "exception": false,
     "start_time": "2020-09-26T14:20:31.538050",
     "status": "completed"
    },
    "scrolled": false,
    "tags": []
   },
   "outputs": [
    {
     "data": {
      "text/html": [
       "<div>\n",
       "<style scoped>\n",
       "    .dataframe tbody tr th:only-of-type {\n",
       "        vertical-align: middle;\n",
       "    }\n",
       "\n",
       "    .dataframe tbody tr th {\n",
       "        vertical-align: top;\n",
       "    }\n",
       "\n",
       "    .dataframe thead th {\n",
       "        text-align: right;\n",
       "    }\n",
       "</style>\n",
       "<table border=\"1\" class=\"dataframe\">\n",
       "  <thead>\n",
       "    <tr style=\"text-align: right;\">\n",
       "      <th></th>\n",
       "      <th>shared_teks_by_generation_date</th>\n",
       "    </tr>\n",
       "    <tr>\n",
       "      <th>sample_date_string</th>\n",
       "      <th></th>\n",
       "    </tr>\n",
       "  </thead>\n",
       "  <tbody>\n",
       "    <tr>\n",
       "      <th>2020-09-26</th>\n",
       "      <td>49</td>\n",
       "    </tr>\n",
       "    <tr>\n",
       "      <th>2020-09-25</th>\n",
       "      <td>96</td>\n",
       "    </tr>\n",
       "    <tr>\n",
       "      <th>2020-09-24</th>\n",
       "      <td>143</td>\n",
       "    </tr>\n",
       "    <tr>\n",
       "      <th>2020-09-23</th>\n",
       "      <td>186</td>\n",
       "    </tr>\n",
       "    <tr>\n",
       "      <th>2020-09-22</th>\n",
       "      <td>205</td>\n",
       "    </tr>\n",
       "    <tr>\n",
       "      <th>2020-09-21</th>\n",
       "      <td>243</td>\n",
       "    </tr>\n",
       "    <tr>\n",
       "      <th>2020-09-20</th>\n",
       "      <td>218</td>\n",
       "    </tr>\n",
       "    <tr>\n",
       "      <th>2020-09-19</th>\n",
       "      <td>203</td>\n",
       "    </tr>\n",
       "    <tr>\n",
       "      <th>2020-09-18</th>\n",
       "      <td>165</td>\n",
       "    </tr>\n",
       "    <tr>\n",
       "      <th>2020-09-17</th>\n",
       "      <td>139</td>\n",
       "    </tr>\n",
       "    <tr>\n",
       "      <th>2020-09-16</th>\n",
       "      <td>119</td>\n",
       "    </tr>\n",
       "    <tr>\n",
       "      <th>2020-09-15</th>\n",
       "      <td>82</td>\n",
       "    </tr>\n",
       "    <tr>\n",
       "      <th>2020-09-14</th>\n",
       "      <td>73</td>\n",
       "    </tr>\n",
       "    <tr>\n",
       "      <th>2020-09-13</th>\n",
       "      <td>75</td>\n",
       "    </tr>\n",
       "  </tbody>\n",
       "</table>\n",
       "</div>"
      ],
      "text/plain": [
       "                    shared_teks_by_generation_date\n",
       "sample_date_string                                \n",
       "2020-09-26                                      49\n",
       "2020-09-25                                      96\n",
       "2020-09-24                                     143\n",
       "2020-09-23                                     186\n",
       "2020-09-22                                     205\n",
       "2020-09-21                                     243\n",
       "2020-09-20                                     218\n",
       "2020-09-19                                     203\n",
       "2020-09-18                                     165\n",
       "2020-09-17                                     139\n",
       "2020-09-16                                     119\n",
       "2020-09-15                                      82\n",
       "2020-09-14                                      73\n",
       "2020-09-13                                      75"
      ]
     },
     "execution_count": 14,
     "metadata": {},
     "output_type": "execute_result"
    }
   ],
   "source": [
    "exposure_keys_summary_df = multi_region_exposure_keys_df[\n",
    "    multi_region_exposure_keys_df.region == spain_region_country_code]\n",
    "exposure_keys_summary_df.drop(columns=[\"region\"], inplace=True)\n",
    "exposure_keys_summary_df = \\\n",
    "    exposure_keys_summary_df.groupby([\"sample_date_string\"]).key_data.nunique().to_frame()\n",
    "exposure_keys_summary_df = \\\n",
    "    exposure_keys_summary_df.reset_index().set_index(\"sample_date_string\")\n",
    "exposure_keys_summary_df.sort_index(ascending=False, inplace=True)\n",
    "exposure_keys_summary_df.rename(columns={\"key_data\": \"shared_teks_by_generation_date\"}, inplace=True)\n",
    "exposure_keys_summary_df"
   ]
  },
  {
   "cell_type": "markdown",
   "metadata": {
    "papermill": {
     "duration": 0.038576,
     "end_time": "2020-09-26T14:20:31.685214",
     "exception": false,
     "start_time": "2020-09-26T14:20:31.646638",
     "status": "completed"
    },
    "tags": []
   },
   "source": [
    "### Dump API TEKs"
   ]
  },
  {
   "cell_type": "code",
   "execution_count": 15,
   "metadata": {
    "execution": {
     "iopub.execute_input": "2020-09-26T14:20:31.776332Z",
     "iopub.status.busy": "2020-09-26T14:20:31.775697Z",
     "iopub.status.idle": "2020-09-26T14:20:31.808702Z",
     "shell.execute_reply": "2020-09-26T14:20:31.808004Z"
    },
    "papermill": {
     "duration": 0.085906,
     "end_time": "2020-09-26T14:20:31.808887",
     "exception": false,
     "start_time": "2020-09-26T14:20:31.722981",
     "status": "completed"
    },
    "tags": []
   },
   "outputs": [
    {
     "data": {
      "text/html": [
       "<div>\n",
       "<style scoped>\n",
       "    .dataframe tbody tr th:only-of-type {\n",
       "        vertical-align: middle;\n",
       "    }\n",
       "\n",
       "    .dataframe tbody tr th {\n",
       "        vertical-align: top;\n",
       "    }\n",
       "\n",
       "    .dataframe thead th {\n",
       "        text-align: right;\n",
       "    }\n",
       "</style>\n",
       "<table border=\"1\" class=\"dataframe\">\n",
       "  <thead>\n",
       "    <tr style=\"text-align: right;\">\n",
       "      <th></th>\n",
       "      <th>sample_date</th>\n",
       "      <th>region</th>\n",
       "      <th>tek_list</th>\n",
       "      <th>extraction_date</th>\n",
       "      <th>extraction_date_with_hour</th>\n",
       "    </tr>\n",
       "  </thead>\n",
       "  <tbody>\n",
       "    <tr>\n",
       "      <th>0</th>\n",
       "      <td>2020-09-13</td>\n",
       "      <td>ES</td>\n",
       "      <td>[a4b3ef9b-86d2-1fb8-b525-e19eb3f4e068, 8b84121...</td>\n",
       "      <td>2020-09-26</td>\n",
       "      <td>2020-09-26@14</td>\n",
       "    </tr>\n",
       "    <tr>\n",
       "      <th>1</th>\n",
       "      <td>2020-09-14</td>\n",
       "      <td>ES</td>\n",
       "      <td>[ffc37730-2cba-1530-9f70-355e55fabd8d, e63eb79...</td>\n",
       "      <td>2020-09-26</td>\n",
       "      <td>2020-09-26@14</td>\n",
       "    </tr>\n",
       "    <tr>\n",
       "      <th>2</th>\n",
       "      <td>2020-09-15</td>\n",
       "      <td>ES</td>\n",
       "      <td>[31634101-bb0f-603e-79f1-818dc71bf69b, 09dda36...</td>\n",
       "      <td>2020-09-26</td>\n",
       "      <td>2020-09-26@14</td>\n",
       "    </tr>\n",
       "    <tr>\n",
       "      <th>3</th>\n",
       "      <td>2020-09-16</td>\n",
       "      <td>ES</td>\n",
       "      <td>[9c7d05f3-84cd-66fc-3f89-92d7ba290aa5, dd79f09...</td>\n",
       "      <td>2020-09-26</td>\n",
       "      <td>2020-09-26@14</td>\n",
       "    </tr>\n",
       "    <tr>\n",
       "      <th>4</th>\n",
       "      <td>2020-09-17</td>\n",
       "      <td>ES</td>\n",
       "      <td>[602daca2-f5d4-4231-3c20-92fda1d0643f, 3fbdaf2...</td>\n",
       "      <td>2020-09-26</td>\n",
       "      <td>2020-09-26@14</td>\n",
       "    </tr>\n",
       "  </tbody>\n",
       "</table>\n",
       "</div>"
      ],
      "text/plain": [
       "  sample_date region                                           tek_list  \\\n",
       "0  2020-09-13     ES  [a4b3ef9b-86d2-1fb8-b525-e19eb3f4e068, 8b84121...   \n",
       "1  2020-09-14     ES  [ffc37730-2cba-1530-9f70-355e55fabd8d, e63eb79...   \n",
       "2  2020-09-15     ES  [31634101-bb0f-603e-79f1-818dc71bf69b, 09dda36...   \n",
       "3  2020-09-16     ES  [9c7d05f3-84cd-66fc-3f89-92d7ba290aa5, dd79f09...   \n",
       "4  2020-09-17     ES  [602daca2-f5d4-4231-3c20-92fda1d0643f, 3fbdaf2...   \n",
       "\n",
       "  extraction_date extraction_date_with_hour  \n",
       "0      2020-09-26             2020-09-26@14  \n",
       "1      2020-09-26             2020-09-26@14  \n",
       "2      2020-09-26             2020-09-26@14  \n",
       "3      2020-09-26             2020-09-26@14  \n",
       "4      2020-09-26             2020-09-26@14  "
      ]
     },
     "execution_count": 15,
     "metadata": {},
     "output_type": "execute_result"
    }
   ],
   "source": [
    "tek_list_df = multi_region_exposure_keys_df[\n",
    "    [\"sample_date_string\", \"region\", \"key_data\"]].copy()\n",
    "tek_list_df[\"key_data\"] = tek_list_df[\"key_data\"].apply(str)\n",
    "tek_list_df.rename(columns={\n",
    "    \"sample_date_string\": \"sample_date\",\n",
    "    \"key_data\": \"tek_list\"}, inplace=True)\n",
    "tek_list_df = tek_list_df.groupby(\n",
    "    [\"sample_date\", \"region\"]).tek_list.unique().reset_index()\n",
    "tek_list_df[\"extraction_date\"] = extraction_date\n",
    "tek_list_df[\"extraction_date_with_hour\"] = extraction_date_with_hour\n",
    "tek_list_df.drop(columns=[\"extraction_date\", \"extraction_date_with_hour\"]).to_json(\n",
    "    \"Data/TEKs/Current/RadarCOVID-TEKs.json\",\n",
    "    lines=True, orient=\"records\")\n",
    "tek_list_df.drop(columns=[\"extraction_date_with_hour\"]).to_json(\n",
    "    \"Data/TEKs/Daily/RadarCOVID-TEKs-\" + extraction_date + \".json\",\n",
    "    lines=True, orient=\"records\")\n",
    "tek_list_df.to_json(\n",
    "    \"Data/TEKs/Hourly/RadarCOVID-TEKs-\" + extraction_date_with_hour + \".json\",\n",
    "    lines=True, orient=\"records\")\n",
    "tek_list_df.head()"
   ]
  },
  {
   "cell_type": "markdown",
   "metadata": {
    "papermill": {
     "duration": 0.039913,
     "end_time": "2020-09-26T14:20:31.889538",
     "exception": false,
     "start_time": "2020-09-26T14:20:31.849625",
     "status": "completed"
    },
    "tags": []
   },
   "source": [
    "### Load TEK Dumps"
   ]
  },
  {
   "cell_type": "code",
   "execution_count": 16,
   "metadata": {
    "execution": {
     "iopub.execute_input": "2020-09-26T14:20:31.974347Z",
     "iopub.status.busy": "2020-09-26T14:20:31.973748Z",
     "iopub.status.idle": "2020-09-26T14:20:31.976276Z",
     "shell.execute_reply": "2020-09-26T14:20:31.975698Z"
    },
    "papermill": {
     "duration": 0.048106,
     "end_time": "2020-09-26T14:20:31.976399",
     "exception": false,
     "start_time": "2020-09-26T14:20:31.928293",
     "status": "completed"
    },
    "tags": []
   },
   "outputs": [],
   "source": [
    "import glob\n",
    "\n",
    "def load_extracted_teks(mode, region=None, limit=None) -> pd.DataFrame:\n",
    "    extracted_teks_df = pd.DataFrame(columns=[\"region\"])\n",
    "    paths = list(reversed(sorted(glob.glob(f\"Data/TEKs/{mode}/RadarCOVID-TEKs-*.json\"))))\n",
    "    if limit:\n",
    "        paths = paths[:limit]\n",
    "    for path in paths:\n",
    "        logging.info(f\"Loading TEKs from '{path}'...\")\n",
    "        iteration_extracted_teks_df = pd.read_json(path, lines=True)\n",
    "        extracted_teks_df = extracted_teks_df.append(\n",
    "            iteration_extracted_teks_df, sort=False)\n",
    "    extracted_teks_df[\"region\"] = \\\n",
    "        extracted_teks_df.region.fillna(spain_region_country_code).copy()\n",
    "    if region:\n",
    "        extracted_teks_df = \\\n",
    "            extracted_teks_df[extracted_teks_df.region == region]\n",
    "    return extracted_teks_df"
   ]
  },
  {
   "cell_type": "code",
   "execution_count": 17,
   "metadata": {
    "collapsed": false,
    "execution": {
     "iopub.execute_input": "2020-09-26T14:20:32.061076Z",
     "iopub.status.busy": "2020-09-26T14:20:32.060454Z",
     "iopub.status.idle": "2020-09-26T14:20:32.197771Z",
     "shell.execute_reply": "2020-09-26T14:20:32.198292Z"
    },
    "papermill": {
     "duration": 0.183521,
     "end_time": "2020-09-26T14:20:32.198487",
     "exception": false,
     "start_time": "2020-09-26T14:20:32.014966",
     "status": "completed"
    },
    "pycharm": {
     "name": "#%%\n"
    },
    "tags": []
   },
   "outputs": [
    {
     "data": {
      "text/html": [
       "<div>\n",
       "<style scoped>\n",
       "    .dataframe tbody tr th:only-of-type {\n",
       "        vertical-align: middle;\n",
       "    }\n",
       "\n",
       "    .dataframe tbody tr th {\n",
       "        vertical-align: top;\n",
       "    }\n",
       "\n",
       "    .dataframe thead th {\n",
       "        text-align: right;\n",
       "    }\n",
       "</style>\n",
       "<table border=\"1\" class=\"dataframe\">\n",
       "  <thead>\n",
       "    <tr style=\"text-align: right;\">\n",
       "      <th></th>\n",
       "      <th>region</th>\n",
       "      <th>sample_date</th>\n",
       "      <th>tek_list</th>\n",
       "      <th>extraction_date</th>\n",
       "    </tr>\n",
       "  </thead>\n",
       "  <tbody>\n",
       "    <tr>\n",
       "      <th>0</th>\n",
       "      <td>ES</td>\n",
       "      <td>2020-09-13</td>\n",
       "      <td>[a4b3ef9b-86d2-1fb8-b525-e19eb3f4e068, 8b84121...</td>\n",
       "      <td>2020-09-26</td>\n",
       "    </tr>\n",
       "    <tr>\n",
       "      <th>1</th>\n",
       "      <td>ES</td>\n",
       "      <td>2020-09-14</td>\n",
       "      <td>[ffc37730-2cba-1530-9f70-355e55fabd8d, e63eb79...</td>\n",
       "      <td>2020-09-26</td>\n",
       "    </tr>\n",
       "    <tr>\n",
       "      <th>2</th>\n",
       "      <td>ES</td>\n",
       "      <td>2020-09-15</td>\n",
       "      <td>[31634101-bb0f-603e-79f1-818dc71bf69b, 09dda36...</td>\n",
       "      <td>2020-09-26</td>\n",
       "    </tr>\n",
       "    <tr>\n",
       "      <th>3</th>\n",
       "      <td>ES</td>\n",
       "      <td>2020-09-16</td>\n",
       "      <td>[9c7d05f3-84cd-66fc-3f89-92d7ba290aa5, dd79f09...</td>\n",
       "      <td>2020-09-26</td>\n",
       "    </tr>\n",
       "    <tr>\n",
       "      <th>4</th>\n",
       "      <td>ES</td>\n",
       "      <td>2020-09-17</td>\n",
       "      <td>[602daca2-f5d4-4231-3c20-92fda1d0643f, 3fbdaf2...</td>\n",
       "      <td>2020-09-26</td>\n",
       "    </tr>\n",
       "  </tbody>\n",
       "</table>\n",
       "</div>"
      ],
      "text/plain": [
       "  region sample_date                                           tek_list  \\\n",
       "0     ES  2020-09-13  [a4b3ef9b-86d2-1fb8-b525-e19eb3f4e068, 8b84121...   \n",
       "1     ES  2020-09-14  [ffc37730-2cba-1530-9f70-355e55fabd8d, e63eb79...   \n",
       "2     ES  2020-09-15  [31634101-bb0f-603e-79f1-818dc71bf69b, 09dda36...   \n",
       "3     ES  2020-09-16  [9c7d05f3-84cd-66fc-3f89-92d7ba290aa5, dd79f09...   \n",
       "4     ES  2020-09-17  [602daca2-f5d4-4231-3c20-92fda1d0643f, 3fbdaf2...   \n",
       "\n",
       "  extraction_date  \n",
       "0      2020-09-26  \n",
       "1      2020-09-26  \n",
       "2      2020-09-26  \n",
       "3      2020-09-26  \n",
       "4      2020-09-26  "
      ]
     },
     "execution_count": 17,
     "metadata": {},
     "output_type": "execute_result"
    }
   ],
   "source": [
    "daily_extracted_teks_df = load_extracted_teks(\n",
    "    mode=\"Daily\",\n",
    "    region=spain_region_country_code,\n",
    "    limit=tek_dumps_load_limit)\n",
    "daily_extracted_teks_df.head()"
   ]
  },
  {
   "cell_type": "code",
   "execution_count": 18,
   "metadata": {
    "collapsed": false,
    "execution": {
     "iopub.execute_input": "2020-09-26T14:20:32.288607Z",
     "iopub.status.busy": "2020-09-26T14:20:32.288033Z",
     "iopub.status.idle": "2020-09-26T14:20:32.291253Z",
     "shell.execute_reply": "2020-09-26T14:20:32.291799Z"
    },
    "papermill": {
     "duration": 0.056515,
     "end_time": "2020-09-26T14:20:32.291944",
     "exception": false,
     "start_time": "2020-09-26T14:20:32.235429",
     "status": "completed"
    },
    "pycharm": {
     "name": "#%%\n"
    },
    "tags": []
   },
   "outputs": [
    {
     "data": {
      "text/html": [
       "<div>\n",
       "<style scoped>\n",
       "    .dataframe tbody tr th:only-of-type {\n",
       "        vertical-align: middle;\n",
       "    }\n",
       "\n",
       "    .dataframe tbody tr th {\n",
       "        vertical-align: top;\n",
       "    }\n",
       "\n",
       "    .dataframe thead th {\n",
       "        text-align: right;\n",
       "    }\n",
       "</style>\n",
       "<table border=\"1\" class=\"dataframe\">\n",
       "  <thead>\n",
       "    <tr style=\"text-align: right;\">\n",
       "      <th></th>\n",
       "      <th>shared_teks_by_generation_date</th>\n",
       "    </tr>\n",
       "    <tr>\n",
       "      <th>sample_date_string</th>\n",
       "      <th></th>\n",
       "    </tr>\n",
       "  </thead>\n",
       "  <tbody>\n",
       "    <tr>\n",
       "      <th>2020-09-26</th>\n",
       "      <td>49</td>\n",
       "    </tr>\n",
       "    <tr>\n",
       "      <th>2020-09-25</th>\n",
       "      <td>96</td>\n",
       "    </tr>\n",
       "    <tr>\n",
       "      <th>2020-09-24</th>\n",
       "      <td>143</td>\n",
       "    </tr>\n",
       "    <tr>\n",
       "      <th>2020-09-23</th>\n",
       "      <td>186</td>\n",
       "    </tr>\n",
       "    <tr>\n",
       "      <th>2020-09-22</th>\n",
       "      <td>205</td>\n",
       "    </tr>\n",
       "  </tbody>\n",
       "</table>\n",
       "</div>"
      ],
      "text/plain": [
       "                    shared_teks_by_generation_date\n",
       "sample_date_string                                \n",
       "2020-09-26                                      49\n",
       "2020-09-25                                      96\n",
       "2020-09-24                                     143\n",
       "2020-09-23                                     186\n",
       "2020-09-22                                     205"
      ]
     },
     "execution_count": 18,
     "metadata": {},
     "output_type": "execute_result"
    }
   ],
   "source": [
    "exposure_keys_summary_df_ = daily_extracted_teks_df \\\n",
    "    .sort_values(\"extraction_date\", ascending=False) \\\n",
    "    .groupby(\"sample_date\").tek_list.first() \\\n",
    "    .to_frame()\n",
    "exposure_keys_summary_df_.index.name = \"sample_date_string\"\n",
    "exposure_keys_summary_df_[\"tek_list\"] = \\\n",
    "    exposure_keys_summary_df_.tek_list.apply(len)\n",
    "exposure_keys_summary_df_ = exposure_keys_summary_df_ \\\n",
    "    .rename(columns={\"tek_list\": \"shared_teks_by_generation_date\"}) \\\n",
    "    .sort_index(ascending=False)\n",
    "exposure_keys_summary_df = exposure_keys_summary_df_\n",
    "exposure_keys_summary_df.head()"
   ]
  },
  {
   "cell_type": "markdown",
   "metadata": {
    "execution": {
     "iopub.execute_input": "2020-08-30T22:30:16.632967Z",
     "iopub.status.busy": "2020-08-30T22:30:16.632308Z",
     "iopub.status.idle": "2020-08-30T22:30:16.634945Z",
     "shell.execute_reply": "2020-08-30T22:30:16.635575Z"
    },
    "papermill": {
     "duration": 0.040417,
     "end_time": "2020-09-26T14:20:32.370773",
     "exception": false,
     "start_time": "2020-09-26T14:20:32.330356",
     "status": "completed"
    },
    "pycharm": {
     "name": "#%% md\n"
    },
    "tags": []
   },
   "source": [
    "### Daily New TEKs"
   ]
  },
  {
   "cell_type": "code",
   "execution_count": 19,
   "metadata": {
    "execution": {
     "iopub.execute_input": "2020-09-26T14:20:32.453842Z",
     "iopub.status.busy": "2020-09-26T14:20:32.453285Z",
     "iopub.status.idle": "2020-09-26T14:20:32.474284Z",
     "shell.execute_reply": "2020-09-26T14:20:32.474764Z"
    },
    "papermill": {
     "duration": 0.06594,
     "end_time": "2020-09-26T14:20:32.474915",
     "exception": false,
     "start_time": "2020-09-26T14:20:32.408975",
     "status": "completed"
    },
    "tags": []
   },
   "outputs": [
    {
     "data": {
      "text/html": [
       "<div>\n",
       "<style scoped>\n",
       "    .dataframe tbody tr th:only-of-type {\n",
       "        vertical-align: middle;\n",
       "    }\n",
       "\n",
       "    .dataframe tbody tr th {\n",
       "        vertical-align: top;\n",
       "    }\n",
       "\n",
       "    .dataframe thead th {\n",
       "        text-align: right;\n",
       "    }\n",
       "</style>\n",
       "<table border=\"1\" class=\"dataframe\">\n",
       "  <thead>\n",
       "    <tr style=\"text-align: right;\">\n",
       "      <th></th>\n",
       "      <th>tek_list</th>\n",
       "    </tr>\n",
       "    <tr>\n",
       "      <th>extraction_date</th>\n",
       "      <th></th>\n",
       "    </tr>\n",
       "  </thead>\n",
       "  <tbody>\n",
       "    <tr>\n",
       "      <th>2020-09-05</th>\n",
       "      <td>{67b88a61-128a-2155-eed9-9f9c9ab65e51, 3a98a7e...</td>\n",
       "    </tr>\n",
       "    <tr>\n",
       "      <th>2020-09-06</th>\n",
       "      <td>{67b88a61-128a-2155-eed9-9f9c9ab65e51, 6ddceb7...</td>\n",
       "    </tr>\n",
       "    <tr>\n",
       "      <th>2020-09-07</th>\n",
       "      <td>{67b88a61-128a-2155-eed9-9f9c9ab65e51, 6ddceb7...</td>\n",
       "    </tr>\n",
       "    <tr>\n",
       "      <th>2020-09-08</th>\n",
       "      <td>{67b88a61-128a-2155-eed9-9f9c9ab65e51, 6ddceb7...</td>\n",
       "    </tr>\n",
       "    <tr>\n",
       "      <th>2020-09-09</th>\n",
       "      <td>{67b88a61-128a-2155-eed9-9f9c9ab65e51, 6ddceb7...</td>\n",
       "    </tr>\n",
       "  </tbody>\n",
       "</table>\n",
       "</div>"
      ],
      "text/plain": [
       "                                                          tek_list\n",
       "extraction_date                                                   \n",
       "2020-09-05       {67b88a61-128a-2155-eed9-9f9c9ab65e51, 3a98a7e...\n",
       "2020-09-06       {67b88a61-128a-2155-eed9-9f9c9ab65e51, 6ddceb7...\n",
       "2020-09-07       {67b88a61-128a-2155-eed9-9f9c9ab65e51, 6ddceb7...\n",
       "2020-09-08       {67b88a61-128a-2155-eed9-9f9c9ab65e51, 6ddceb7...\n",
       "2020-09-09       {67b88a61-128a-2155-eed9-9f9c9ab65e51, 6ddceb7..."
      ]
     },
     "execution_count": 19,
     "metadata": {},
     "output_type": "execute_result"
    }
   ],
   "source": [
    "tek_list_df = daily_extracted_teks_df.groupby(\"extraction_date\").tek_list.apply(\n",
    "    lambda x: set(sum(x, []))).reset_index()\n",
    "tek_list_df = tek_list_df.set_index(\"extraction_date\").sort_index(ascending=True)\n",
    "tek_list_df.head()"
   ]
  },
  {
   "cell_type": "code",
   "execution_count": 20,
   "metadata": {
    "execution": {
     "iopub.execute_input": "2020-09-26T14:20:32.567652Z",
     "iopub.status.busy": "2020-09-26T14:20:32.566996Z",
     "iopub.status.idle": "2020-09-26T14:20:32.569430Z",
     "shell.execute_reply": "2020-09-26T14:20:32.569915Z"
    },
    "papermill": {
     "duration": 0.056371,
     "end_time": "2020-09-26T14:20:32.570069",
     "exception": false,
     "start_time": "2020-09-26T14:20:32.513698",
     "status": "completed"
    },
    "tags": []
   },
   "outputs": [
    {
     "data": {
      "text/html": [
       "<div>\n",
       "<style scoped>\n",
       "    .dataframe tbody tr th:only-of-type {\n",
       "        vertical-align: middle;\n",
       "    }\n",
       "\n",
       "    .dataframe tbody tr th {\n",
       "        vertical-align: top;\n",
       "    }\n",
       "\n",
       "    .dataframe thead th {\n",
       "        text-align: right;\n",
       "    }\n",
       "</style>\n",
       "<table border=\"1\" class=\"dataframe\">\n",
       "  <thead>\n",
       "    <tr style=\"text-align: right;\">\n",
       "      <th></th>\n",
       "      <th>sample_date_string</th>\n",
       "      <th>shared_teks_by_upload_date</th>\n",
       "    </tr>\n",
       "  </thead>\n",
       "  <tbody>\n",
       "    <tr>\n",
       "      <th>17</th>\n",
       "      <td>2020-09-22</td>\n",
       "      <td>148.0</td>\n",
       "    </tr>\n",
       "    <tr>\n",
       "      <th>18</th>\n",
       "      <td>2020-09-23</td>\n",
       "      <td>267.0</td>\n",
       "    </tr>\n",
       "    <tr>\n",
       "      <th>19</th>\n",
       "      <td>2020-09-24</td>\n",
       "      <td>289.0</td>\n",
       "    </tr>\n",
       "    <tr>\n",
       "      <th>20</th>\n",
       "      <td>2020-09-25</td>\n",
       "      <td>306.0</td>\n",
       "    </tr>\n",
       "    <tr>\n",
       "      <th>21</th>\n",
       "      <td>2020-09-26</td>\n",
       "      <td>292.0</td>\n",
       "    </tr>\n",
       "  </tbody>\n",
       "</table>\n",
       "</div>"
      ],
      "text/plain": [
       "   sample_date_string  shared_teks_by_upload_date\n",
       "17         2020-09-22                       148.0\n",
       "18         2020-09-23                       267.0\n",
       "19         2020-09-24                       289.0\n",
       "20         2020-09-25                       306.0\n",
       "21         2020-09-26                       292.0"
      ]
     },
     "execution_count": 20,
     "metadata": {},
     "output_type": "execute_result"
    }
   ],
   "source": [
    "new_tek_df = tek_list_df.diff().tek_list.apply(\n",
    "    lambda x: len(x) if not pd.isna(x) else None).to_frame().reset_index()\n",
    "new_tek_df.rename(columns={\n",
    "    \"tek_list\": \"shared_teks_by_upload_date\",\n",
    "    \"extraction_date\": \"sample_date_string\",}, inplace=True)\n",
    "new_tek_df.tail()"
   ]
  },
  {
   "cell_type": "code",
   "execution_count": 21,
   "metadata": {
    "execution": {
     "iopub.execute_input": "2020-09-26T14:20:32.649938Z",
     "iopub.status.busy": "2020-09-26T14:20:32.649364Z",
     "iopub.status.idle": "2020-09-26T14:20:32.673352Z",
     "shell.execute_reply": "2020-09-26T14:20:32.673829Z"
    },
    "papermill": {
     "duration": 0.065102,
     "end_time": "2020-09-26T14:20:32.673975",
     "exception": false,
     "start_time": "2020-09-26T14:20:32.608873",
     "status": "completed"
    },
    "pycharm": {
     "name": "#%%\n"
    },
    "tags": []
   },
   "outputs": [
    {
     "data": {
      "text/html": [
       "<div>\n",
       "<style scoped>\n",
       "    .dataframe tbody tr th:only-of-type {\n",
       "        vertical-align: middle;\n",
       "    }\n",
       "\n",
       "    .dataframe tbody tr th {\n",
       "        vertical-align: top;\n",
       "    }\n",
       "\n",
       "    .dataframe thead th {\n",
       "        text-align: right;\n",
       "    }\n",
       "</style>\n",
       "<table border=\"1\" class=\"dataframe\">\n",
       "  <thead>\n",
       "    <tr style=\"text-align: right;\">\n",
       "      <th></th>\n",
       "      <th>region</th>\n",
       "      <th>sample_date</th>\n",
       "      <th>tek_list</th>\n",
       "      <th>extraction_date</th>\n",
       "      <th>new_sample_extraction_date</th>\n",
       "    </tr>\n",
       "  </thead>\n",
       "  <tbody>\n",
       "    <tr>\n",
       "      <th>0</th>\n",
       "      <td>ES</td>\n",
       "      <td>2020-09-13</td>\n",
       "      <td>[a4b3ef9b-86d2-1fb8-b525-e19eb3f4e068, 8b84121...</td>\n",
       "      <td>2020-09-26</td>\n",
       "      <td>2020-09-14</td>\n",
       "    </tr>\n",
       "    <tr>\n",
       "      <th>1</th>\n",
       "      <td>ES</td>\n",
       "      <td>2020-09-14</td>\n",
       "      <td>[ffc37730-2cba-1530-9f70-355e55fabd8d, e63eb79...</td>\n",
       "      <td>2020-09-26</td>\n",
       "      <td>2020-09-15</td>\n",
       "    </tr>\n",
       "    <tr>\n",
       "      <th>2</th>\n",
       "      <td>ES</td>\n",
       "      <td>2020-09-15</td>\n",
       "      <td>[31634101-bb0f-603e-79f1-818dc71bf69b, 09dda36...</td>\n",
       "      <td>2020-09-26</td>\n",
       "      <td>2020-09-16</td>\n",
       "    </tr>\n",
       "    <tr>\n",
       "      <th>3</th>\n",
       "      <td>ES</td>\n",
       "      <td>2020-09-16</td>\n",
       "      <td>[9c7d05f3-84cd-66fc-3f89-92d7ba290aa5, dd79f09...</td>\n",
       "      <td>2020-09-26</td>\n",
       "      <td>2020-09-17</td>\n",
       "    </tr>\n",
       "    <tr>\n",
       "      <th>4</th>\n",
       "      <td>ES</td>\n",
       "      <td>2020-09-17</td>\n",
       "      <td>[602daca2-f5d4-4231-3c20-92fda1d0643f, 3fbdaf2...</td>\n",
       "      <td>2020-09-26</td>\n",
       "      <td>2020-09-18</td>\n",
       "    </tr>\n",
       "  </tbody>\n",
       "</table>\n",
       "</div>"
      ],
      "text/plain": [
       "  region sample_date                                           tek_list  \\\n",
       "0     ES  2020-09-13  [a4b3ef9b-86d2-1fb8-b525-e19eb3f4e068, 8b84121...   \n",
       "1     ES  2020-09-14  [ffc37730-2cba-1530-9f70-355e55fabd8d, e63eb79...   \n",
       "2     ES  2020-09-15  [31634101-bb0f-603e-79f1-818dc71bf69b, 09dda36...   \n",
       "3     ES  2020-09-16  [9c7d05f3-84cd-66fc-3f89-92d7ba290aa5, dd79f09...   \n",
       "4     ES  2020-09-17  [602daca2-f5d4-4231-3c20-92fda1d0643f, 3fbdaf2...   \n",
       "\n",
       "  extraction_date new_sample_extraction_date  \n",
       "0      2020-09-26                 2020-09-14  \n",
       "1      2020-09-26                 2020-09-15  \n",
       "2      2020-09-26                 2020-09-16  \n",
       "3      2020-09-26                 2020-09-17  \n",
       "4      2020-09-26                 2020-09-18  "
      ]
     },
     "execution_count": 21,
     "metadata": {},
     "output_type": "execute_result"
    }
   ],
   "source": [
    "estimated_shared_diagnoses_df = daily_extracted_teks_df.copy()\n",
    "estimated_shared_diagnoses_df[\"new_sample_extraction_date\"] = \\\n",
    "    pd.to_datetime(estimated_shared_diagnoses_df.sample_date) + datetime.timedelta(1)\n",
    "estimated_shared_diagnoses_df[\"extraction_date\"] = pd.to_datetime(estimated_shared_diagnoses_df.extraction_date)\n",
    "estimated_shared_diagnoses_df[\"sample_date\"] = pd.to_datetime(estimated_shared_diagnoses_df.sample_date)\n",
    "estimated_shared_diagnoses_df.head()"
   ]
  },
  {
   "cell_type": "code",
   "execution_count": 22,
   "metadata": {
    "collapsed": false,
    "execution": {
     "iopub.execute_input": "2020-09-26T14:20:32.773055Z",
     "iopub.status.busy": "2020-09-26T14:20:32.772414Z",
     "iopub.status.idle": "2020-09-26T14:20:32.775772Z",
     "shell.execute_reply": "2020-09-26T14:20:32.776352Z"
    },
    "papermill": {
     "duration": 0.062352,
     "end_time": "2020-09-26T14:20:32.776506",
     "exception": false,
     "start_time": "2020-09-26T14:20:32.714154",
     "status": "completed"
    },
    "pycharm": {
     "name": "#%%\n"
    },
    "tags": []
   },
   "outputs": [
    {
     "data": {
      "text/html": [
       "<div>\n",
       "<style scoped>\n",
       "    .dataframe tbody tr th:only-of-type {\n",
       "        vertical-align: middle;\n",
       "    }\n",
       "\n",
       "    .dataframe tbody tr th {\n",
       "        vertical-align: top;\n",
       "    }\n",
       "\n",
       "    .dataframe thead th {\n",
       "        text-align: right;\n",
       "    }\n",
       "</style>\n",
       "<table border=\"1\" class=\"dataframe\">\n",
       "  <thead>\n",
       "    <tr style=\"text-align: right;\">\n",
       "      <th></th>\n",
       "      <th>extraction_date</th>\n",
       "      <th>same_day_tek_list</th>\n",
       "    </tr>\n",
       "  </thead>\n",
       "  <tbody>\n",
       "    <tr>\n",
       "      <th>13</th>\n",
       "      <td>2020-09-27</td>\n",
       "      <td>[0bdbdcc8-217c-1273-680a-d03c8e5e6676, 232ca72...</td>\n",
       "    </tr>\n",
       "    <tr>\n",
       "      <th>13</th>\n",
       "      <td>2020-09-26</td>\n",
       "      <td>[a5a10ba0-d9d8-c3fd-1dd2-211cefe2daf1, f38ed0c...</td>\n",
       "    </tr>\n",
       "    <tr>\n",
       "      <th>13</th>\n",
       "      <td>2020-09-25</td>\n",
       "      <td>[e50b39c0-7a14-64e4-56ca-a1e42190eec8, 4937ac0...</td>\n",
       "    </tr>\n",
       "    <tr>\n",
       "      <th>13</th>\n",
       "      <td>2020-09-24</td>\n",
       "      <td>[6593604c-ae79-fade-9448-9781bbec6553, d527a06...</td>\n",
       "    </tr>\n",
       "    <tr>\n",
       "      <th>13</th>\n",
       "      <td>2020-09-20</td>\n",
       "      <td>[d4787a07-8b0b-58cc-b9e3-a94b0928d497, fc2611d...</td>\n",
       "    </tr>\n",
       "  </tbody>\n",
       "</table>\n",
       "</div>"
      ],
      "text/plain": [
       "   extraction_date                                  same_day_tek_list\n",
       "13      2020-09-27  [0bdbdcc8-217c-1273-680a-d03c8e5e6676, 232ca72...\n",
       "13      2020-09-26  [a5a10ba0-d9d8-c3fd-1dd2-211cefe2daf1, f38ed0c...\n",
       "13      2020-09-25  [e50b39c0-7a14-64e4-56ca-a1e42190eec8, 4937ac0...\n",
       "13      2020-09-24  [6593604c-ae79-fade-9448-9781bbec6553, d527a06...\n",
       "13      2020-09-20  [d4787a07-8b0b-58cc-b9e3-a94b0928d497, fc2611d..."
      ]
     },
     "execution_count": 22,
     "metadata": {},
     "output_type": "execute_result"
    }
   ],
   "source": [
    "# Sometimes TEKs from the same day are uploaded, we do not count them as new TEK devices:\n",
    "same_day_tek_list_df = estimated_shared_diagnoses_df[\n",
    "    estimated_shared_diagnoses_df.sample_date == estimated_shared_diagnoses_df.extraction_date].copy()\n",
    "same_day_tek_list_df = same_day_tek_list_df[[\"extraction_date\", \"tek_list\"]].rename(\n",
    "    columns={\"tek_list\": \"same_day_tek_list\"})\n",
    "same_day_tek_list_df[\"extraction_date\"] = \\\n",
    "    same_day_tek_list_df.extraction_date + datetime.timedelta(1)\n",
    "same_day_tek_list_df.head()"
   ]
  },
  {
   "cell_type": "code",
   "execution_count": 23,
   "metadata": {
    "collapsed": false,
    "execution": {
     "iopub.execute_input": "2020-09-26T14:20:32.878714Z",
     "iopub.status.busy": "2020-09-26T14:20:32.877879Z",
     "iopub.status.idle": "2020-09-26T14:20:32.880833Z",
     "shell.execute_reply": "2020-09-26T14:20:32.881463Z"
    },
    "papermill": {
     "duration": 0.06506,
     "end_time": "2020-09-26T14:20:32.881646",
     "exception": false,
     "start_time": "2020-09-26T14:20:32.816586",
     "status": "completed"
    },
    "pycharm": {
     "name": "#%%\n"
    },
    "tags": []
   },
   "outputs": [
    {
     "data": {
      "text/html": [
       "<div>\n",
       "<style scoped>\n",
       "    .dataframe tbody tr th:only-of-type {\n",
       "        vertical-align: middle;\n",
       "    }\n",
       "\n",
       "    .dataframe tbody tr th {\n",
       "        vertical-align: top;\n",
       "    }\n",
       "\n",
       "    .dataframe thead th {\n",
       "        text-align: right;\n",
       "    }\n",
       "</style>\n",
       "<table border=\"1\" class=\"dataframe\">\n",
       "  <thead>\n",
       "    <tr style=\"text-align: right;\">\n",
       "      <th></th>\n",
       "      <th>region</th>\n",
       "      <th>sample_date</th>\n",
       "      <th>tek_list</th>\n",
       "      <th>extraction_date</th>\n",
       "      <th>new_sample_extraction_date</th>\n",
       "    </tr>\n",
       "  </thead>\n",
       "  <tbody>\n",
       "    <tr>\n",
       "      <th>12</th>\n",
       "      <td>ES</td>\n",
       "      <td>2020-09-25</td>\n",
       "      <td>[0742aa38-254c-46c5-cda1-5be3386d25fa, a715248...</td>\n",
       "      <td>2020-09-26</td>\n",
       "      <td>2020-09-26</td>\n",
       "    </tr>\n",
       "    <tr>\n",
       "      <th>12</th>\n",
       "      <td>ES</td>\n",
       "      <td>2020-09-24</td>\n",
       "      <td>[47e258af-36cd-117b-482d-84655184ffd6, 62c0e0e...</td>\n",
       "      <td>2020-09-25</td>\n",
       "      <td>2020-09-25</td>\n",
       "    </tr>\n",
       "    <tr>\n",
       "      <th>12</th>\n",
       "      <td>ES</td>\n",
       "      <td>2020-09-23</td>\n",
       "      <td>[a32a59f9-242d-082f-5499-d59cc496b461, 253d5ce...</td>\n",
       "      <td>2020-09-24</td>\n",
       "      <td>2020-09-24</td>\n",
       "    </tr>\n",
       "    <tr>\n",
       "      <th>12</th>\n",
       "      <td>ES</td>\n",
       "      <td>2020-09-22</td>\n",
       "      <td>[2ed4f36e-18ba-0d87-b906-0b3ab4cd3558, d160581...</td>\n",
       "      <td>2020-09-23</td>\n",
       "      <td>2020-09-23</td>\n",
       "    </tr>\n",
       "    <tr>\n",
       "      <th>12</th>\n",
       "      <td>ES</td>\n",
       "      <td>2020-09-21</td>\n",
       "      <td>[35f895cd-d3df-9152-0889-804867c0685a, b5acdeb...</td>\n",
       "      <td>2020-09-22</td>\n",
       "      <td>2020-09-22</td>\n",
       "    </tr>\n",
       "  </tbody>\n",
       "</table>\n",
       "</div>"
      ],
      "text/plain": [
       "   region sample_date                                           tek_list  \\\n",
       "12     ES  2020-09-25  [0742aa38-254c-46c5-cda1-5be3386d25fa, a715248...   \n",
       "12     ES  2020-09-24  [47e258af-36cd-117b-482d-84655184ffd6, 62c0e0e...   \n",
       "12     ES  2020-09-23  [a32a59f9-242d-082f-5499-d59cc496b461, 253d5ce...   \n",
       "12     ES  2020-09-22  [2ed4f36e-18ba-0d87-b906-0b3ab4cd3558, d160581...   \n",
       "12     ES  2020-09-21  [35f895cd-d3df-9152-0889-804867c0685a, b5acdeb...   \n",
       "\n",
       "   extraction_date new_sample_extraction_date  \n",
       "12      2020-09-26                 2020-09-26  \n",
       "12      2020-09-25                 2020-09-25  \n",
       "12      2020-09-24                 2020-09-24  \n",
       "12      2020-09-23                 2020-09-23  \n",
       "12      2020-09-22                 2020-09-22  "
      ]
     },
     "execution_count": 23,
     "metadata": {},
     "output_type": "execute_result"
    }
   ],
   "source": [
    "estimated_shared_diagnoses_df = estimated_shared_diagnoses_df[\n",
    "    estimated_shared_diagnoses_df.new_sample_extraction_date == estimated_shared_diagnoses_df.extraction_date]\n",
    "estimated_shared_diagnoses_df.head()"
   ]
  },
  {
   "cell_type": "code",
   "execution_count": 24,
   "metadata": {
    "collapsed": false,
    "execution": {
     "iopub.execute_input": "2020-09-26T14:20:33.003770Z",
     "iopub.status.busy": "2020-09-26T14:20:33.002892Z",
     "iopub.status.idle": "2020-09-26T14:20:33.005471Z",
     "shell.execute_reply": "2020-09-26T14:20:33.006214Z"
    },
    "papermill": {
     "duration": 0.075199,
     "end_time": "2020-09-26T14:20:33.006394",
     "exception": false,
     "start_time": "2020-09-26T14:20:32.931195",
     "status": "completed"
    },
    "pycharm": {
     "name": "#%%\n"
    },
    "tags": []
   },
   "outputs": [
    {
     "data": {
      "text/html": [
       "<div>\n",
       "<style scoped>\n",
       "    .dataframe tbody tr th:only-of-type {\n",
       "        vertical-align: middle;\n",
       "    }\n",
       "\n",
       "    .dataframe tbody tr th {\n",
       "        vertical-align: top;\n",
       "    }\n",
       "\n",
       "    .dataframe thead th {\n",
       "        text-align: right;\n",
       "    }\n",
       "</style>\n",
       "<table border=\"1\" class=\"dataframe\">\n",
       "  <thead>\n",
       "    <tr style=\"text-align: right;\">\n",
       "      <th></th>\n",
       "      <th>region</th>\n",
       "      <th>sample_date</th>\n",
       "      <th>tek_list</th>\n",
       "      <th>extraction_date</th>\n",
       "      <th>new_sample_extraction_date</th>\n",
       "      <th>same_day_tek_list</th>\n",
       "    </tr>\n",
       "  </thead>\n",
       "  <tbody>\n",
       "    <tr>\n",
       "      <th>0</th>\n",
       "      <td>ES</td>\n",
       "      <td>2020-09-25</td>\n",
       "      <td>[0742aa38-254c-46c5-cda1-5be3386d25fa, a715248...</td>\n",
       "      <td>2020-09-26</td>\n",
       "      <td>2020-09-26</td>\n",
       "      <td>[a5a10ba0-d9d8-c3fd-1dd2-211cefe2daf1, f38ed0c...</td>\n",
       "    </tr>\n",
       "    <tr>\n",
       "      <th>1</th>\n",
       "      <td>ES</td>\n",
       "      <td>2020-09-24</td>\n",
       "      <td>[47e258af-36cd-117b-482d-84655184ffd6, 62c0e0e...</td>\n",
       "      <td>2020-09-25</td>\n",
       "      <td>2020-09-25</td>\n",
       "      <td>[e50b39c0-7a14-64e4-56ca-a1e42190eec8, 4937ac0...</td>\n",
       "    </tr>\n",
       "    <tr>\n",
       "      <th>2</th>\n",
       "      <td>ES</td>\n",
       "      <td>2020-09-23</td>\n",
       "      <td>[a32a59f9-242d-082f-5499-d59cc496b461, 253d5ce...</td>\n",
       "      <td>2020-09-24</td>\n",
       "      <td>2020-09-24</td>\n",
       "      <td>[6593604c-ae79-fade-9448-9781bbec6553, d527a06...</td>\n",
       "    </tr>\n",
       "    <tr>\n",
       "      <th>3</th>\n",
       "      <td>ES</td>\n",
       "      <td>2020-09-22</td>\n",
       "      <td>[2ed4f36e-18ba-0d87-b906-0b3ab4cd3558, d160581...</td>\n",
       "      <td>2020-09-23</td>\n",
       "      <td>2020-09-23</td>\n",
       "      <td>[]</td>\n",
       "    </tr>\n",
       "    <tr>\n",
       "      <th>4</th>\n",
       "      <td>ES</td>\n",
       "      <td>2020-09-21</td>\n",
       "      <td>[35f895cd-d3df-9152-0889-804867c0685a, b5acdeb...</td>\n",
       "      <td>2020-09-22</td>\n",
       "      <td>2020-09-22</td>\n",
       "      <td>[]</td>\n",
       "    </tr>\n",
       "  </tbody>\n",
       "</table>\n",
       "</div>"
      ],
      "text/plain": [
       "  region sample_date                                           tek_list  \\\n",
       "0     ES  2020-09-25  [0742aa38-254c-46c5-cda1-5be3386d25fa, a715248...   \n",
       "1     ES  2020-09-24  [47e258af-36cd-117b-482d-84655184ffd6, 62c0e0e...   \n",
       "2     ES  2020-09-23  [a32a59f9-242d-082f-5499-d59cc496b461, 253d5ce...   \n",
       "3     ES  2020-09-22  [2ed4f36e-18ba-0d87-b906-0b3ab4cd3558, d160581...   \n",
       "4     ES  2020-09-21  [35f895cd-d3df-9152-0889-804867c0685a, b5acdeb...   \n",
       "\n",
       "  extraction_date new_sample_extraction_date  \\\n",
       "0      2020-09-26                 2020-09-26   \n",
       "1      2020-09-25                 2020-09-25   \n",
       "2      2020-09-24                 2020-09-24   \n",
       "3      2020-09-23                 2020-09-23   \n",
       "4      2020-09-22                 2020-09-22   \n",
       "\n",
       "                                   same_day_tek_list  \n",
       "0  [a5a10ba0-d9d8-c3fd-1dd2-211cefe2daf1, f38ed0c...  \n",
       "1  [e50b39c0-7a14-64e4-56ca-a1e42190eec8, 4937ac0...  \n",
       "2  [6593604c-ae79-fade-9448-9781bbec6553, d527a06...  \n",
       "3                                                 []  \n",
       "4                                                 []  "
      ]
     },
     "execution_count": 24,
     "metadata": {},
     "output_type": "execute_result"
    }
   ],
   "source": [
    "estimated_shared_diagnoses_df = \\\n",
    "    estimated_shared_diagnoses_df.merge(same_day_tek_list_df, how=\"left\", on=[\"extraction_date\"])\n",
    "estimated_shared_diagnoses_df[\"same_day_tek_list\"] = \\\n",
    "    estimated_shared_diagnoses_df.same_day_tek_list.apply(lambda x: [] if x is np.nan else x)\n",
    "estimated_shared_diagnoses_df.head()"
   ]
  },
  {
   "cell_type": "code",
   "execution_count": 25,
   "metadata": {
    "execution": {
     "iopub.execute_input": "2020-09-26T14:20:33.105102Z",
     "iopub.status.busy": "2020-09-26T14:20:33.100438Z",
     "iopub.status.idle": "2020-09-26T14:20:33.116243Z",
     "shell.execute_reply": "2020-09-26T14:20:33.116809Z"
    },
    "papermill": {
     "duration": 0.069371,
     "end_time": "2020-09-26T14:20:33.116971",
     "exception": false,
     "start_time": "2020-09-26T14:20:33.047600",
     "status": "completed"
    },
    "tags": []
   },
   "outputs": [
    {
     "data": {
      "text/html": [
       "<div>\n",
       "<style scoped>\n",
       "    .dataframe tbody tr th:only-of-type {\n",
       "        vertical-align: middle;\n",
       "    }\n",
       "\n",
       "    .dataframe tbody tr th {\n",
       "        vertical-align: top;\n",
       "    }\n",
       "\n",
       "    .dataframe thead th {\n",
       "        text-align: right;\n",
       "    }\n",
       "</style>\n",
       "<table border=\"1\" class=\"dataframe\">\n",
       "  <thead>\n",
       "    <tr style=\"text-align: right;\">\n",
       "      <th></th>\n",
       "      <th>sample_date_string</th>\n",
       "      <th>shared_diagnoses</th>\n",
       "    </tr>\n",
       "  </thead>\n",
       "  <tbody>\n",
       "    <tr>\n",
       "      <th>0</th>\n",
       "      <td>2020-09-26</td>\n",
       "      <td>82</td>\n",
       "    </tr>\n",
       "    <tr>\n",
       "      <th>1</th>\n",
       "      <td>2020-09-25</td>\n",
       "      <td>86</td>\n",
       "    </tr>\n",
       "    <tr>\n",
       "      <th>2</th>\n",
       "      <td>2020-09-24</td>\n",
       "      <td>89</td>\n",
       "    </tr>\n",
       "    <tr>\n",
       "      <th>3</th>\n",
       "      <td>2020-09-23</td>\n",
       "      <td>70</td>\n",
       "    </tr>\n",
       "    <tr>\n",
       "      <th>4</th>\n",
       "      <td>2020-09-22</td>\n",
       "      <td>55</td>\n",
       "    </tr>\n",
       "  </tbody>\n",
       "</table>\n",
       "</div>"
      ],
      "text/plain": [
       "  sample_date_string  shared_diagnoses\n",
       "0         2020-09-26                82\n",
       "1         2020-09-25                86\n",
       "2         2020-09-24                89\n",
       "3         2020-09-23                70\n",
       "4         2020-09-22                55"
      ]
     },
     "execution_count": 25,
     "metadata": {},
     "output_type": "execute_result"
    }
   ],
   "source": [
    "estimated_shared_diagnoses_df.set_index(\"extraction_date\", inplace=True)\n",
    "estimated_shared_diagnoses_df[\"shared_diagnoses\"] = estimated_shared_diagnoses_df.apply(\n",
    "    lambda x: len(set(x.tek_list).difference(x.same_day_tek_list)), axis=1).copy()\n",
    "estimated_shared_diagnoses_df.reset_index(inplace=True)\n",
    "estimated_shared_diagnoses_df.rename(columns={\n",
    "    \"extraction_date\": \"sample_date_string\"}, inplace=True)\n",
    "estimated_shared_diagnoses_df = estimated_shared_diagnoses_df[[\"sample_date_string\", \"shared_diagnoses\"]]\n",
    "estimated_shared_diagnoses_df[\"sample_date_string\"] = estimated_shared_diagnoses_df.sample_date_string.dt.strftime(\"%Y-%m-%d\")\n",
    "estimated_shared_diagnoses_df.head()"
   ]
  },
  {
   "cell_type": "markdown",
   "metadata": {
    "papermill": {
     "duration": 0.040454,
     "end_time": "2020-09-26T14:20:33.202046",
     "exception": false,
     "start_time": "2020-09-26T14:20:33.161592",
     "status": "completed"
    },
    "pycharm": {
     "name": "#%% md\n"
    },
    "tags": []
   },
   "source": [
    "### Hourly New TEKs"
   ]
  },
  {
   "cell_type": "code",
   "execution_count": 26,
   "metadata": {
    "execution": {
     "iopub.execute_input": "2020-09-26T14:20:33.292081Z",
     "iopub.status.busy": "2020-09-26T14:20:33.291551Z",
     "iopub.status.idle": "2020-09-26T14:20:33.480211Z",
     "shell.execute_reply": "2020-09-26T14:20:33.480672Z"
    },
    "papermill": {
     "duration": 0.238038,
     "end_time": "2020-09-26T14:20:33.480829",
     "exception": false,
     "start_time": "2020-09-26T14:20:33.242791",
     "status": "completed"
    },
    "pycharm": {
     "name": "#%%\n"
    },
    "tags": []
   },
   "outputs": [
    {
     "data": {
      "text/html": [
       "<div>\n",
       "<style scoped>\n",
       "    .dataframe tbody tr th:only-of-type {\n",
       "        vertical-align: middle;\n",
       "    }\n",
       "\n",
       "    .dataframe tbody tr th {\n",
       "        vertical-align: top;\n",
       "    }\n",
       "\n",
       "    .dataframe thead th {\n",
       "        text-align: right;\n",
       "    }\n",
       "</style>\n",
       "<table border=\"1\" class=\"dataframe\">\n",
       "  <thead>\n",
       "    <tr style=\"text-align: right;\">\n",
       "      <th></th>\n",
       "      <th>extraction_date_with_hour</th>\n",
       "      <th>shared_teks_by_upload_date</th>\n",
       "    </tr>\n",
       "  </thead>\n",
       "  <tbody>\n",
       "    <tr>\n",
       "      <th>20</th>\n",
       "      <td>2020-09-26@10</td>\n",
       "      <td>63.0</td>\n",
       "    </tr>\n",
       "    <tr>\n",
       "      <th>21</th>\n",
       "      <td>2020-09-26@11</td>\n",
       "      <td>0.0</td>\n",
       "    </tr>\n",
       "    <tr>\n",
       "      <th>22</th>\n",
       "      <td>2020-09-26@12</td>\n",
       "      <td>106.0</td>\n",
       "    </tr>\n",
       "    <tr>\n",
       "      <th>23</th>\n",
       "      <td>2020-09-26@13</td>\n",
       "      <td>0.0</td>\n",
       "    </tr>\n",
       "    <tr>\n",
       "      <th>24</th>\n",
       "      <td>2020-09-26@14</td>\n",
       "      <td>46.0</td>\n",
       "    </tr>\n",
       "  </tbody>\n",
       "</table>\n",
       "</div>"
      ],
      "text/plain": [
       "   extraction_date_with_hour  shared_teks_by_upload_date\n",
       "20             2020-09-26@10                        63.0\n",
       "21             2020-09-26@11                         0.0\n",
       "22             2020-09-26@12                       106.0\n",
       "23             2020-09-26@13                         0.0\n",
       "24             2020-09-26@14                        46.0"
      ]
     },
     "execution_count": 26,
     "metadata": {},
     "output_type": "execute_result"
    }
   ],
   "source": [
    "hourly_extracted_teks_df = load_extracted_teks(\n",
    "    mode=\"Hourly\", region=spain_region_country_code, limit=25)\n",
    "hourly_extracted_teks_df.head()\n",
    "\n",
    "hourly_tek_list_df = hourly_extracted_teks_df.groupby(\"extraction_date_with_hour\").tek_list.apply(\n",
    "    lambda x: set(sum(x, []))).reset_index()\n",
    "hourly_tek_list_df = hourly_tek_list_df.set_index(\"extraction_date_with_hour\").sort_index(ascending=True)\n",
    "\n",
    "hourly_new_tek_df = hourly_tek_list_df.diff().tek_list.apply(\n",
    "    lambda x: len(x) if not pd.isna(x) else None).to_frame().reset_index()\n",
    "hourly_new_tek_df.rename(columns={\n",
    "    \"tek_list\": \"shared_teks_by_upload_date\"}, inplace=True)\n",
    "hourly_new_tek_df.tail()"
   ]
  },
  {
   "cell_type": "code",
   "execution_count": 27,
   "metadata": {
    "execution": {
     "iopub.execute_input": "2020-09-26T14:20:33.586569Z",
     "iopub.status.busy": "2020-09-26T14:20:33.585882Z",
     "iopub.status.idle": "2020-09-26T14:20:33.603466Z",
     "shell.execute_reply": "2020-09-26T14:20:33.603902Z"
    },
    "papermill": {
     "duration": 0.0803,
     "end_time": "2020-09-26T14:20:33.604066",
     "exception": false,
     "start_time": "2020-09-26T14:20:33.523766",
     "status": "completed"
    },
    "pycharm": {
     "name": "#%%\n"
    },
    "tags": []
   },
   "outputs": [
    {
     "data": {
      "text/html": [
       "<div>\n",
       "<style scoped>\n",
       "    .dataframe tbody tr th:only-of-type {\n",
       "        vertical-align: middle;\n",
       "    }\n",
       "\n",
       "    .dataframe tbody tr th {\n",
       "        vertical-align: top;\n",
       "    }\n",
       "\n",
       "    .dataframe thead th {\n",
       "        text-align: right;\n",
       "    }\n",
       "</style>\n",
       "<table border=\"1\" class=\"dataframe\">\n",
       "  <thead>\n",
       "    <tr style=\"text-align: right;\">\n",
       "      <th></th>\n",
       "      <th>extraction_date_with_hour</th>\n",
       "      <th>shared_diagnoses</th>\n",
       "    </tr>\n",
       "  </thead>\n",
       "  <tbody>\n",
       "    <tr>\n",
       "      <th>20</th>\n",
       "      <td>2020-09-26@10</td>\n",
       "      <td>12.0</td>\n",
       "    </tr>\n",
       "    <tr>\n",
       "      <th>21</th>\n",
       "      <td>2020-09-26@11</td>\n",
       "      <td>0.0</td>\n",
       "    </tr>\n",
       "    <tr>\n",
       "      <th>22</th>\n",
       "      <td>2020-09-26@12</td>\n",
       "      <td>19.0</td>\n",
       "    </tr>\n",
       "    <tr>\n",
       "      <th>23</th>\n",
       "      <td>2020-09-26@13</td>\n",
       "      <td>0.0</td>\n",
       "    </tr>\n",
       "    <tr>\n",
       "      <th>24</th>\n",
       "      <td>2020-09-26@14</td>\n",
       "      <td>8.0</td>\n",
       "    </tr>\n",
       "  </tbody>\n",
       "</table>\n",
       "</div>"
      ],
      "text/plain": [
       "   extraction_date_with_hour  shared_diagnoses\n",
       "20             2020-09-26@10              12.0\n",
       "21             2020-09-26@11               0.0\n",
       "22             2020-09-26@12              19.0\n",
       "23             2020-09-26@13               0.0\n",
       "24             2020-09-26@14               8.0"
      ]
     },
     "execution_count": 27,
     "metadata": {},
     "output_type": "execute_result"
    }
   ],
   "source": [
    "hourly_new_tek_devices_df = hourly_extracted_teks_df.copy()\n",
    "hourly_new_tek_devices_df[\"new_sample_extraction_date\"] = \\\n",
    "    pd.to_datetime(hourly_new_tek_devices_df.sample_date) + datetime.timedelta(1)\n",
    "hourly_new_tek_devices_df[\"extraction_date\"] = pd.to_datetime(hourly_new_tek_devices_df.extraction_date)\n",
    "\n",
    "hourly_new_tek_devices_df = hourly_new_tek_devices_df[\n",
    "    hourly_new_tek_devices_df.new_sample_extraction_date == hourly_new_tek_devices_df.extraction_date]\n",
    "\n",
    "hourly_new_tek_devices_df.set_index(\"extraction_date_with_hour\", inplace=True)\n",
    "hourly_new_tek_devices_df_ = pd.DataFrame()\n",
    "\n",
    "for i, chunk_df in hourly_new_tek_devices_df.groupby(\"extraction_date\"):\n",
    "    chunk_df = chunk_df.copy()\n",
    "    chunk_df.sort_index(inplace=True)\n",
    "    chunk_tek_count_df = chunk_df.tek_list.apply(lambda x: len(set(x)))\n",
    "    chunk_df = chunk_tek_count_df.diff().fillna(chunk_tek_count_df).to_frame()\n",
    "    hourly_new_tek_devices_df_ = hourly_new_tek_devices_df_.append(chunk_df)\n",
    "    \n",
    "hourly_new_tek_devices_df = hourly_new_tek_devices_df_\n",
    "hourly_new_tek_devices_df.reset_index(inplace=True)\n",
    "hourly_new_tek_devices_df.rename(columns={\n",
    "    \"tek_list\": \"shared_diagnoses\"}, inplace=True)\n",
    "hourly_new_tek_devices_df.tail()"
   ]
  },
  {
   "cell_type": "code",
   "execution_count": 28,
   "metadata": {
    "execution": {
     "iopub.execute_input": "2020-09-26T14:20:33.711926Z",
     "iopub.status.busy": "2020-09-26T14:20:33.711251Z",
     "iopub.status.idle": "2020-09-26T14:20:33.715515Z",
     "shell.execute_reply": "2020-09-26T14:20:33.714853Z"
    },
    "papermill": {
     "duration": 0.067242,
     "end_time": "2020-09-26T14:20:33.715688",
     "exception": false,
     "start_time": "2020-09-26T14:20:33.648446",
     "status": "completed"
    },
    "tags": []
   },
   "outputs": [
    {
     "data": {
      "text/html": [
       "<div>\n",
       "<style scoped>\n",
       "    .dataframe tbody tr th:only-of-type {\n",
       "        vertical-align: middle;\n",
       "    }\n",
       "\n",
       "    .dataframe tbody tr th {\n",
       "        vertical-align: top;\n",
       "    }\n",
       "\n",
       "    .dataframe thead th {\n",
       "        text-align: right;\n",
       "    }\n",
       "</style>\n",
       "<table border=\"1\" class=\"dataframe\">\n",
       "  <thead>\n",
       "    <tr style=\"text-align: right;\">\n",
       "      <th></th>\n",
       "      <th>extraction_date_with_hour</th>\n",
       "      <th>shared_teks_by_upload_date</th>\n",
       "      <th>shared_diagnoses</th>\n",
       "    </tr>\n",
       "    <tr>\n",
       "      <th>datetime_utc</th>\n",
       "      <th></th>\n",
       "      <th></th>\n",
       "      <th></th>\n",
       "    </tr>\n",
       "  </thead>\n",
       "  <tbody>\n",
       "    <tr>\n",
       "      <th>2020-09-26 10:00:00</th>\n",
       "      <td>2020-09-26@10</td>\n",
       "      <td>63.0</td>\n",
       "      <td>12.0</td>\n",
       "    </tr>\n",
       "    <tr>\n",
       "      <th>2020-09-26 11:00:00</th>\n",
       "      <td>2020-09-26@11</td>\n",
       "      <td>0.0</td>\n",
       "      <td>0.0</td>\n",
       "    </tr>\n",
       "    <tr>\n",
       "      <th>2020-09-26 12:00:00</th>\n",
       "      <td>2020-09-26@12</td>\n",
       "      <td>106.0</td>\n",
       "      <td>19.0</td>\n",
       "    </tr>\n",
       "    <tr>\n",
       "      <th>2020-09-26 13:00:00</th>\n",
       "      <td>2020-09-26@13</td>\n",
       "      <td>0.0</td>\n",
       "      <td>0.0</td>\n",
       "    </tr>\n",
       "    <tr>\n",
       "      <th>2020-09-26 14:00:00</th>\n",
       "      <td>2020-09-26@14</td>\n",
       "      <td>46.0</td>\n",
       "      <td>8.0</td>\n",
       "    </tr>\n",
       "  </tbody>\n",
       "</table>\n",
       "</div>"
      ],
      "text/plain": [
       "                    extraction_date_with_hour  shared_teks_by_upload_date  \\\n",
       "datetime_utc                                                                \n",
       "2020-09-26 10:00:00             2020-09-26@10                        63.0   \n",
       "2020-09-26 11:00:00             2020-09-26@11                         0.0   \n",
       "2020-09-26 12:00:00             2020-09-26@12                       106.0   \n",
       "2020-09-26 13:00:00             2020-09-26@13                         0.0   \n",
       "2020-09-26 14:00:00             2020-09-26@14                        46.0   \n",
       "\n",
       "                     shared_diagnoses  \n",
       "datetime_utc                           \n",
       "2020-09-26 10:00:00              12.0  \n",
       "2020-09-26 11:00:00               0.0  \n",
       "2020-09-26 12:00:00              19.0  \n",
       "2020-09-26 13:00:00               0.0  \n",
       "2020-09-26 14:00:00               8.0  "
      ]
     },
     "execution_count": 28,
     "metadata": {},
     "output_type": "execute_result"
    }
   ],
   "source": [
    "hourly_summary_df = hourly_new_tek_df.merge(\n",
    "    hourly_new_tek_devices_df, on=[\"extraction_date_with_hour\"], how=\"outer\")\n",
    "hourly_summary_df[\"datetime_utc\"] = pd.to_datetime(\n",
    "    hourly_summary_df.extraction_date_with_hour, format=\"%Y-%m-%d@%H\")\n",
    "hourly_summary_df.set_index(\"datetime_utc\", inplace=True)\n",
    "hourly_summary_df = hourly_summary_df.tail(-1)\n",
    "hourly_summary_df.tail()"
   ]
  },
  {
   "cell_type": "markdown",
   "metadata": {
    "execution": {
     "iopub.execute_input": "2020-08-30T22:30:16.982353Z",
     "iopub.status.busy": "2020-08-30T22:30:16.981676Z",
     "iopub.status.idle": "2020-08-30T22:30:16.984837Z",
     "shell.execute_reply": "2020-08-30T22:30:16.985366Z"
    },
    "papermill": {
     "duration": 0.043376,
     "end_time": "2020-09-26T14:20:33.803502",
     "exception": false,
     "start_time": "2020-09-26T14:20:33.760126",
     "status": "completed"
    },
    "pycharm": {
     "name": "#%% md\n"
    },
    "tags": []
   },
   "source": [
    "### Data Merge"
   ]
  },
  {
   "cell_type": "code",
   "execution_count": 29,
   "metadata": {
    "execution": {
     "iopub.execute_input": "2020-09-26T14:20:33.905685Z",
     "iopub.status.busy": "2020-09-26T14:20:33.904921Z",
     "iopub.status.idle": "2020-09-26T14:20:33.914657Z",
     "shell.execute_reply": "2020-09-26T14:20:33.915324Z"
    },
    "papermill": {
     "duration": 0.066076,
     "end_time": "2020-09-26T14:20:33.915504",
     "exception": false,
     "start_time": "2020-09-26T14:20:33.849428",
     "status": "completed"
    },
    "pycharm": {
     "name": "#%%\n"
    },
    "tags": []
   },
   "outputs": [
    {
     "data": {
      "text/html": [
       "<div>\n",
       "<style scoped>\n",
       "    .dataframe tbody tr th:only-of-type {\n",
       "        vertical-align: middle;\n",
       "    }\n",
       "\n",
       "    .dataframe tbody tr th {\n",
       "        vertical-align: top;\n",
       "    }\n",
       "\n",
       "    .dataframe thead th {\n",
       "        text-align: right;\n",
       "    }\n",
       "</style>\n",
       "<table border=\"1\" class=\"dataframe\">\n",
       "  <thead>\n",
       "    <tr style=\"text-align: right;\">\n",
       "      <th></th>\n",
       "      <th>sample_date_string</th>\n",
       "      <th>shared_teks_by_generation_date</th>\n",
       "      <th>shared_teks_by_upload_date</th>\n",
       "    </tr>\n",
       "  </thead>\n",
       "  <tbody>\n",
       "    <tr>\n",
       "      <th>0</th>\n",
       "      <td>2020-09-26</td>\n",
       "      <td>49</td>\n",
       "      <td>292.0</td>\n",
       "    </tr>\n",
       "    <tr>\n",
       "      <th>1</th>\n",
       "      <td>2020-09-25</td>\n",
       "      <td>96</td>\n",
       "      <td>306.0</td>\n",
       "    </tr>\n",
       "    <tr>\n",
       "      <th>2</th>\n",
       "      <td>2020-09-24</td>\n",
       "      <td>143</td>\n",
       "      <td>289.0</td>\n",
       "    </tr>\n",
       "    <tr>\n",
       "      <th>3</th>\n",
       "      <td>2020-09-23</td>\n",
       "      <td>186</td>\n",
       "      <td>267.0</td>\n",
       "    </tr>\n",
       "    <tr>\n",
       "      <th>4</th>\n",
       "      <td>2020-09-22</td>\n",
       "      <td>205</td>\n",
       "      <td>148.0</td>\n",
       "    </tr>\n",
       "  </tbody>\n",
       "</table>\n",
       "</div>"
      ],
      "text/plain": [
       "  sample_date_string  shared_teks_by_generation_date  \\\n",
       "0         2020-09-26                              49   \n",
       "1         2020-09-25                              96   \n",
       "2         2020-09-24                             143   \n",
       "3         2020-09-23                             186   \n",
       "4         2020-09-22                             205   \n",
       "\n",
       "   shared_teks_by_upload_date  \n",
       "0                       292.0  \n",
       "1                       306.0  \n",
       "2                       289.0  \n",
       "3                       267.0  \n",
       "4                       148.0  "
      ]
     },
     "execution_count": 29,
     "metadata": {},
     "output_type": "execute_result"
    }
   ],
   "source": [
    "result_summary_df = exposure_keys_summary_df.merge(\n",
    "    new_tek_df, on=[\"sample_date_string\"], how=\"outer\")\n",
    "result_summary_df.head()"
   ]
  },
  {
   "cell_type": "code",
   "execution_count": 30,
   "metadata": {
    "execution": {
     "iopub.execute_input": "2020-09-26T14:20:34.024336Z",
     "iopub.status.busy": "2020-09-26T14:20:34.023730Z",
     "iopub.status.idle": "2020-09-26T14:20:34.027511Z",
     "shell.execute_reply": "2020-09-26T14:20:34.026714Z"
    },
    "papermill": {
     "duration": 0.062999,
     "end_time": "2020-09-26T14:20:34.027640",
     "exception": false,
     "start_time": "2020-09-26T14:20:33.964641",
     "status": "completed"
    },
    "tags": []
   },
   "outputs": [
    {
     "data": {
      "text/html": [
       "<div>\n",
       "<style scoped>\n",
       "    .dataframe tbody tr th:only-of-type {\n",
       "        vertical-align: middle;\n",
       "    }\n",
       "\n",
       "    .dataframe tbody tr th {\n",
       "        vertical-align: top;\n",
       "    }\n",
       "\n",
       "    .dataframe thead th {\n",
       "        text-align: right;\n",
       "    }\n",
       "</style>\n",
       "<table border=\"1\" class=\"dataframe\">\n",
       "  <thead>\n",
       "    <tr style=\"text-align: right;\">\n",
       "      <th></th>\n",
       "      <th>sample_date_string</th>\n",
       "      <th>shared_teks_by_generation_date</th>\n",
       "      <th>shared_teks_by_upload_date</th>\n",
       "      <th>shared_diagnoses</th>\n",
       "    </tr>\n",
       "  </thead>\n",
       "  <tbody>\n",
       "    <tr>\n",
       "      <th>0</th>\n",
       "      <td>2020-09-26</td>\n",
       "      <td>49</td>\n",
       "      <td>292.0</td>\n",
       "      <td>82.0</td>\n",
       "    </tr>\n",
       "    <tr>\n",
       "      <th>1</th>\n",
       "      <td>2020-09-25</td>\n",
       "      <td>96</td>\n",
       "      <td>306.0</td>\n",
       "      <td>86.0</td>\n",
       "    </tr>\n",
       "    <tr>\n",
       "      <th>2</th>\n",
       "      <td>2020-09-24</td>\n",
       "      <td>143</td>\n",
       "      <td>289.0</td>\n",
       "      <td>89.0</td>\n",
       "    </tr>\n",
       "    <tr>\n",
       "      <th>3</th>\n",
       "      <td>2020-09-23</td>\n",
       "      <td>186</td>\n",
       "      <td>267.0</td>\n",
       "      <td>70.0</td>\n",
       "    </tr>\n",
       "    <tr>\n",
       "      <th>4</th>\n",
       "      <td>2020-09-22</td>\n",
       "      <td>205</td>\n",
       "      <td>148.0</td>\n",
       "      <td>55.0</td>\n",
       "    </tr>\n",
       "  </tbody>\n",
       "</table>\n",
       "</div>"
      ],
      "text/plain": [
       "  sample_date_string  shared_teks_by_generation_date  \\\n",
       "0         2020-09-26                              49   \n",
       "1         2020-09-25                              96   \n",
       "2         2020-09-24                             143   \n",
       "3         2020-09-23                             186   \n",
       "4         2020-09-22                             205   \n",
       "\n",
       "   shared_teks_by_upload_date  shared_diagnoses  \n",
       "0                       292.0              82.0  \n",
       "1                       306.0              86.0  \n",
       "2                       289.0              89.0  \n",
       "3                       267.0              70.0  \n",
       "4                       148.0              55.0  "
      ]
     },
     "execution_count": 30,
     "metadata": {},
     "output_type": "execute_result"
    }
   ],
   "source": [
    "result_summary_df = result_summary_df.merge(\n",
    "    estimated_shared_diagnoses_df, on=[\"sample_date_string\"], how=\"outer\")\n",
    "result_summary_df.head()"
   ]
  },
  {
   "cell_type": "code",
   "execution_count": 31,
   "metadata": {
    "execution": {
     "iopub.execute_input": "2020-09-26T14:20:34.131063Z",
     "iopub.status.busy": "2020-09-26T14:20:34.130471Z",
     "iopub.status.idle": "2020-09-26T14:20:34.142795Z",
     "shell.execute_reply": "2020-09-26T14:20:34.142259Z"
    },
    "papermill": {
     "duration": 0.068174,
     "end_time": "2020-09-26T14:20:34.142919",
     "exception": false,
     "start_time": "2020-09-26T14:20:34.074745",
     "status": "completed"
    },
    "pycharm": {
     "name": "#%%\n"
    },
    "tags": []
   },
   "outputs": [
    {
     "data": {
      "text/html": [
       "<div>\n",
       "<style scoped>\n",
       "    .dataframe tbody tr th:only-of-type {\n",
       "        vertical-align: middle;\n",
       "    }\n",
       "\n",
       "    .dataframe tbody tr th {\n",
       "        vertical-align: top;\n",
       "    }\n",
       "\n",
       "    .dataframe thead th {\n",
       "        text-align: right;\n",
       "    }\n",
       "</style>\n",
       "<table border=\"1\" class=\"dataframe\">\n",
       "  <thead>\n",
       "    <tr style=\"text-align: right;\">\n",
       "      <th></th>\n",
       "      <th>sample_date_string</th>\n",
       "      <th>cumulative_cases</th>\n",
       "      <th>new_cases</th>\n",
       "      <th>covid_cases</th>\n",
       "      <th>shared_teks_by_generation_date</th>\n",
       "      <th>shared_teks_by_upload_date</th>\n",
       "      <th>shared_diagnoses</th>\n",
       "    </tr>\n",
       "  </thead>\n",
       "  <tbody>\n",
       "    <tr>\n",
       "      <th>0</th>\n",
       "      <td>2020-09-06</td>\n",
       "      <td>498989.0</td>\n",
       "      <td>0.0</td>\n",
       "      <td>8529</td>\n",
       "      <td>54</td>\n",
       "      <td>60.0</td>\n",
       "      <td>24.0</td>\n",
       "    </tr>\n",
       "    <tr>\n",
       "      <th>1</th>\n",
       "      <td>2020-09-07</td>\n",
       "      <td>525549.0</td>\n",
       "      <td>26560.0</td>\n",
       "      <td>8956</td>\n",
       "      <td>58</td>\n",
       "      <td>52.0</td>\n",
       "      <td>22.0</td>\n",
       "    </tr>\n",
       "    <tr>\n",
       "      <th>2</th>\n",
       "      <td>2020-09-08</td>\n",
       "      <td>534513.0</td>\n",
       "      <td>8964.0</td>\n",
       "      <td>9077</td>\n",
       "      <td>61</td>\n",
       "      <td>44.0</td>\n",
       "      <td>18.0</td>\n",
       "    </tr>\n",
       "    <tr>\n",
       "      <th>3</th>\n",
       "      <td>2020-09-09</td>\n",
       "      <td>543379.0</td>\n",
       "      <td>8866.0</td>\n",
       "      <td>9118</td>\n",
       "      <td>60</td>\n",
       "      <td>67.0</td>\n",
       "      <td>21.0</td>\n",
       "    </tr>\n",
       "    <tr>\n",
       "      <th>4</th>\n",
       "      <td>2020-09-10</td>\n",
       "      <td>554143.0</td>\n",
       "      <td>10764.0</td>\n",
       "      <td>9376</td>\n",
       "      <td>68</td>\n",
       "      <td>45.0</td>\n",
       "      <td>15.0</td>\n",
       "    </tr>\n",
       "  </tbody>\n",
       "</table>\n",
       "</div>"
      ],
      "text/plain": [
       "  sample_date_string  cumulative_cases  new_cases  covid_cases  \\\n",
       "0         2020-09-06          498989.0        0.0         8529   \n",
       "1         2020-09-07          525549.0    26560.0         8956   \n",
       "2         2020-09-08          534513.0     8964.0         9077   \n",
       "3         2020-09-09          543379.0     8866.0         9118   \n",
       "4         2020-09-10          554143.0    10764.0         9376   \n",
       "\n",
       "   shared_teks_by_generation_date  shared_teks_by_upload_date  \\\n",
       "0                              54                        60.0   \n",
       "1                              58                        52.0   \n",
       "2                              61                        44.0   \n",
       "3                              60                        67.0   \n",
       "4                              68                        45.0   \n",
       "\n",
       "   shared_diagnoses  \n",
       "0              24.0  \n",
       "1              22.0  \n",
       "2              18.0  \n",
       "3              21.0  \n",
       "4              15.0  "
      ]
     },
     "execution_count": 31,
     "metadata": {},
     "output_type": "execute_result"
    }
   ],
   "source": [
    "result_summary_df = confirmed_df.tail(daily_summary_days).merge(\n",
    "    result_summary_df, on=[\"sample_date_string\"], how=\"left\")\n",
    "result_summary_df.head()"
   ]
  },
  {
   "cell_type": "code",
   "execution_count": 32,
   "metadata": {
    "collapsed": false,
    "execution": {
     "iopub.execute_input": "2020-09-26T14:20:34.266759Z",
     "iopub.status.busy": "2020-09-26T14:20:34.266147Z",
     "iopub.status.idle": "2020-09-26T14:20:34.279891Z",
     "shell.execute_reply": "2020-09-26T14:20:34.280402Z"
    },
    "papermill": {
     "duration": 0.089153,
     "end_time": "2020-09-26T14:20:34.280561",
     "exception": false,
     "start_time": "2020-09-26T14:20:34.191408",
     "status": "completed"
    },
    "pycharm": {
     "name": "#%%\n"
    },
    "tags": []
   },
   "outputs": [
    {
     "data": {
      "text/html": [
       "<div>\n",
       "<style scoped>\n",
       "    .dataframe tbody tr th:only-of-type {\n",
       "        vertical-align: middle;\n",
       "    }\n",
       "\n",
       "    .dataframe tbody tr th {\n",
       "        vertical-align: top;\n",
       "    }\n",
       "\n",
       "    .dataframe thead th {\n",
       "        text-align: right;\n",
       "    }\n",
       "</style>\n",
       "<table border=\"1\" class=\"dataframe\">\n",
       "  <thead>\n",
       "    <tr style=\"text-align: right;\">\n",
       "      <th></th>\n",
       "      <th>cumulative_cases</th>\n",
       "      <th>new_cases</th>\n",
       "      <th>covid_cases</th>\n",
       "      <th>shared_teks_by_generation_date</th>\n",
       "      <th>shared_teks_by_upload_date</th>\n",
       "      <th>shared_diagnoses</th>\n",
       "    </tr>\n",
       "    <tr>\n",
       "      <th>sample_date</th>\n",
       "      <th></th>\n",
       "      <th></th>\n",
       "      <th></th>\n",
       "      <th></th>\n",
       "      <th></th>\n",
       "      <th></th>\n",
       "    </tr>\n",
       "  </thead>\n",
       "  <tbody>\n",
       "    <tr>\n",
       "      <th>2020-09-26</th>\n",
       "      <td>727401.0</td>\n",
       "      <td>10920.0</td>\n",
       "      <td>10920</td>\n",
       "      <td>49</td>\n",
       "      <td>292.0</td>\n",
       "      <td>82.0</td>\n",
       "    </tr>\n",
       "    <tr>\n",
       "      <th>2020-09-25</th>\n",
       "      <td>716481.0</td>\n",
       "      <td>12272.0</td>\n",
       "      <td>10920</td>\n",
       "      <td>96</td>\n",
       "      <td>306.0</td>\n",
       "      <td>86.0</td>\n",
       "    </tr>\n",
       "    <tr>\n",
       "      <th>2020-09-24</th>\n",
       "      <td>704209.0</td>\n",
       "      <td>10653.0</td>\n",
       "      <td>11223</td>\n",
       "      <td>143</td>\n",
       "      <td>289.0</td>\n",
       "      <td>89.0</td>\n",
       "    </tr>\n",
       "    <tr>\n",
       "      <th>2020-09-23</th>\n",
       "      <td>693556.0</td>\n",
       "      <td>11289.0</td>\n",
       "      <td>11314</td>\n",
       "      <td>186</td>\n",
       "      <td>267.0</td>\n",
       "      <td>70.0</td>\n",
       "    </tr>\n",
       "    <tr>\n",
       "      <th>2020-09-22</th>\n",
       "      <td>682267.0</td>\n",
       "      <td>10799.0</td>\n",
       "      <td>11300</td>\n",
       "      <td>205</td>\n",
       "      <td>148.0</td>\n",
       "      <td>55.0</td>\n",
       "    </tr>\n",
       "  </tbody>\n",
       "</table>\n",
       "</div>"
      ],
      "text/plain": [
       "             cumulative_cases  new_cases  covid_cases  \\\n",
       "sample_date                                             \n",
       "2020-09-26           727401.0    10920.0        10920   \n",
       "2020-09-25           716481.0    12272.0        10920   \n",
       "2020-09-24           704209.0    10653.0        11223   \n",
       "2020-09-23           693556.0    11289.0        11314   \n",
       "2020-09-22           682267.0    10799.0        11300   \n",
       "\n",
       "             shared_teks_by_generation_date  shared_teks_by_upload_date  \\\n",
       "sample_date                                                               \n",
       "2020-09-26                               49                       292.0   \n",
       "2020-09-25                               96                       306.0   \n",
       "2020-09-24                              143                       289.0   \n",
       "2020-09-23                              186                       267.0   \n",
       "2020-09-22                              205                       148.0   \n",
       "\n",
       "             shared_diagnoses  \n",
       "sample_date                    \n",
       "2020-09-26               82.0  \n",
       "2020-09-25               86.0  \n",
       "2020-09-24               89.0  \n",
       "2020-09-23               70.0  \n",
       "2020-09-22               55.0  "
      ]
     },
     "execution_count": 32,
     "metadata": {},
     "output_type": "execute_result"
    }
   ],
   "source": [
    "result_summary_df[\"sample_date\"] = pd.to_datetime(result_summary_df.sample_date_string)\n",
    "result_summary_df.set_index(\"sample_date\", inplace=True)\n",
    "result_summary_df.drop(columns=[\"sample_date_string\"], inplace=True)\n",
    "result_summary_df.sort_index(ascending=False, inplace=True)\n",
    "result_summary_df.head()"
   ]
  },
  {
   "cell_type": "code",
   "execution_count": 33,
   "metadata": {
    "execution": {
     "iopub.execute_input": "2020-09-26T14:20:34.400866Z",
     "iopub.status.busy": "2020-09-26T14:20:34.400219Z",
     "iopub.status.idle": "2020-09-26T14:20:34.402963Z",
     "shell.execute_reply": "2020-09-26T14:20:34.403532Z"
    },
    "papermill": {
     "duration": 0.070792,
     "end_time": "2020-09-26T14:20:34.403710",
     "exception": false,
     "start_time": "2020-09-26T14:20:34.332918",
     "status": "completed"
    },
    "pycharm": {
     "name": "#%%\n"
    },
    "tags": []
   },
   "outputs": [
    {
     "data": {
      "text/html": [
       "<div>\n",
       "<style scoped>\n",
       "    .dataframe tbody tr th:only-of-type {\n",
       "        vertical-align: middle;\n",
       "    }\n",
       "\n",
       "    .dataframe tbody tr th {\n",
       "        vertical-align: top;\n",
       "    }\n",
       "\n",
       "    .dataframe thead th {\n",
       "        text-align: right;\n",
       "    }\n",
       "</style>\n",
       "<table border=\"1\" class=\"dataframe\">\n",
       "  <thead>\n",
       "    <tr style=\"text-align: right;\">\n",
       "      <th></th>\n",
       "      <th>cumulative_cases</th>\n",
       "      <th>new_cases</th>\n",
       "      <th>covid_cases</th>\n",
       "      <th>shared_teks_by_generation_date</th>\n",
       "      <th>shared_teks_by_upload_date</th>\n",
       "      <th>shared_diagnoses</th>\n",
       "      <th>teks_per_shared_diagnosis</th>\n",
       "      <th>shared_diagnoses_per_covid_case</th>\n",
       "    </tr>\n",
       "    <tr>\n",
       "      <th>sample_date</th>\n",
       "      <th></th>\n",
       "      <th></th>\n",
       "      <th></th>\n",
       "      <th></th>\n",
       "      <th></th>\n",
       "      <th></th>\n",
       "      <th></th>\n",
       "      <th></th>\n",
       "    </tr>\n",
       "  </thead>\n",
       "  <tbody>\n",
       "    <tr>\n",
       "      <th>2020-09-26</th>\n",
       "      <td>727401</td>\n",
       "      <td>10920</td>\n",
       "      <td>10920</td>\n",
       "      <td>49</td>\n",
       "      <td>292</td>\n",
       "      <td>82</td>\n",
       "      <td>3.560976</td>\n",
       "      <td>0.007509</td>\n",
       "    </tr>\n",
       "    <tr>\n",
       "      <th>2020-09-25</th>\n",
       "      <td>716481</td>\n",
       "      <td>12272</td>\n",
       "      <td>10920</td>\n",
       "      <td>96</td>\n",
       "      <td>306</td>\n",
       "      <td>86</td>\n",
       "      <td>3.558140</td>\n",
       "      <td>0.007875</td>\n",
       "    </tr>\n",
       "    <tr>\n",
       "      <th>2020-09-24</th>\n",
       "      <td>704209</td>\n",
       "      <td>10653</td>\n",
       "      <td>11223</td>\n",
       "      <td>143</td>\n",
       "      <td>289</td>\n",
       "      <td>89</td>\n",
       "      <td>3.247191</td>\n",
       "      <td>0.007930</td>\n",
       "    </tr>\n",
       "    <tr>\n",
       "      <th>2020-09-23</th>\n",
       "      <td>693556</td>\n",
       "      <td>11289</td>\n",
       "      <td>11314</td>\n",
       "      <td>186</td>\n",
       "      <td>267</td>\n",
       "      <td>70</td>\n",
       "      <td>3.814286</td>\n",
       "      <td>0.006187</td>\n",
       "    </tr>\n",
       "    <tr>\n",
       "      <th>2020-09-22</th>\n",
       "      <td>682267</td>\n",
       "      <td>10799</td>\n",
       "      <td>11300</td>\n",
       "      <td>205</td>\n",
       "      <td>148</td>\n",
       "      <td>55</td>\n",
       "      <td>2.690909</td>\n",
       "      <td>0.004867</td>\n",
       "    </tr>\n",
       "  </tbody>\n",
       "</table>\n",
       "</div>"
      ],
      "text/plain": [
       "             cumulative_cases  new_cases  covid_cases  \\\n",
       "sample_date                                             \n",
       "2020-09-26             727401      10920        10920   \n",
       "2020-09-25             716481      12272        10920   \n",
       "2020-09-24             704209      10653        11223   \n",
       "2020-09-23             693556      11289        11314   \n",
       "2020-09-22             682267      10799        11300   \n",
       "\n",
       "             shared_teks_by_generation_date  shared_teks_by_upload_date  \\\n",
       "sample_date                                                               \n",
       "2020-09-26                               49                         292   \n",
       "2020-09-25                               96                         306   \n",
       "2020-09-24                              143                         289   \n",
       "2020-09-23                              186                         267   \n",
       "2020-09-22                              205                         148   \n",
       "\n",
       "             shared_diagnoses  teks_per_shared_diagnosis  \\\n",
       "sample_date                                                \n",
       "2020-09-26                 82                   3.560976   \n",
       "2020-09-25                 86                   3.558140   \n",
       "2020-09-24                 89                   3.247191   \n",
       "2020-09-23                 70                   3.814286   \n",
       "2020-09-22                 55                   2.690909   \n",
       "\n",
       "             shared_diagnoses_per_covid_case  \n",
       "sample_date                                   \n",
       "2020-09-26                          0.007509  \n",
       "2020-09-25                          0.007875  \n",
       "2020-09-24                          0.007930  \n",
       "2020-09-23                          0.006187  \n",
       "2020-09-22                          0.004867  "
      ]
     },
     "execution_count": 33,
     "metadata": {},
     "output_type": "execute_result"
    }
   ],
   "source": [
    "result_summary_df = result_summary_df.fillna(0).astype(int)\n",
    "result_summary_df[\"teks_per_shared_diagnosis\"] = \\\n",
    "    result_summary_df.shared_teks_by_upload_date / result_summary_df.shared_diagnoses\n",
    "result_summary_df[\"shared_diagnoses_per_covid_case\"] = \\\n",
    "    result_summary_df.shared_diagnoses / result_summary_df.covid_cases\n",
    "result_summary_df.head()"
   ]
  },
  {
   "cell_type": "code",
   "execution_count": 34,
   "metadata": {
    "collapsed": false,
    "execution": {
     "iopub.execute_input": "2020-09-26T14:20:34.522593Z",
     "iopub.status.busy": "2020-09-26T14:20:34.521928Z",
     "iopub.status.idle": "2020-09-26T14:20:34.542028Z",
     "shell.execute_reply": "2020-09-26T14:20:34.542559Z"
    },
    "papermill": {
     "duration": 0.083553,
     "end_time": "2020-09-26T14:20:34.542818",
     "exception": false,
     "start_time": "2020-09-26T14:20:34.459265",
     "status": "completed"
    },
    "pycharm": {
     "name": "#%%\n"
    },
    "tags": []
   },
   "outputs": [
    {
     "data": {
      "text/html": [
       "<div>\n",
       "<style scoped>\n",
       "    .dataframe tbody tr th:only-of-type {\n",
       "        vertical-align: middle;\n",
       "    }\n",
       "\n",
       "    .dataframe tbody tr th {\n",
       "        vertical-align: top;\n",
       "    }\n",
       "\n",
       "    .dataframe thead th {\n",
       "        text-align: right;\n",
       "    }\n",
       "</style>\n",
       "<table border=\"1\" class=\"dataframe\">\n",
       "  <thead>\n",
       "    <tr style=\"text-align: right;\">\n",
       "      <th></th>\n",
       "      <th>covid_cases</th>\n",
       "      <th>shared_teks_by_generation_date</th>\n",
       "      <th>shared_teks_by_upload_date</th>\n",
       "      <th>shared_diagnoses</th>\n",
       "      <th>teks_per_shared_diagnosis</th>\n",
       "      <th>shared_diagnoses_per_covid_case</th>\n",
       "    </tr>\n",
       "    <tr>\n",
       "      <th>sample_date</th>\n",
       "      <th></th>\n",
       "      <th></th>\n",
       "      <th></th>\n",
       "      <th></th>\n",
       "      <th></th>\n",
       "      <th></th>\n",
       "    </tr>\n",
       "  </thead>\n",
       "  <tbody>\n",
       "    <tr>\n",
       "      <th>2020-09-26</th>\n",
       "      <td>77313</td>\n",
       "      <td>1140</td>\n",
       "      <td>1608</td>\n",
       "      <td>472</td>\n",
       "      <td>3.406780</td>\n",
       "      <td>0.006105</td>\n",
       "    </tr>\n",
       "    <tr>\n",
       "      <th>2020-09-25</th>\n",
       "      <td>76924</td>\n",
       "      <td>1294</td>\n",
       "      <td>1406</td>\n",
       "      <td>429</td>\n",
       "      <td>3.277389</td>\n",
       "      <td>0.005577</td>\n",
       "    </tr>\n",
       "    <tr>\n",
       "      <th>2020-09-24</th>\n",
       "      <td>76535</td>\n",
       "      <td>1363</td>\n",
       "      <td>1238</td>\n",
       "      <td>395</td>\n",
       "      <td>3.134177</td>\n",
       "      <td>0.005161</td>\n",
       "    </tr>\n",
       "    <tr>\n",
       "      <th>2020-09-23</th>\n",
       "      <td>75527</td>\n",
       "      <td>1359</td>\n",
       "      <td>1012</td>\n",
       "      <td>335</td>\n",
       "      <td>3.020896</td>\n",
       "      <td>0.004435</td>\n",
       "    </tr>\n",
       "    <tr>\n",
       "      <th>2020-09-22</th>\n",
       "      <td>74353</td>\n",
       "      <td>1292</td>\n",
       "      <td>807</td>\n",
       "      <td>288</td>\n",
       "      <td>2.802083</td>\n",
       "      <td>0.003873</td>\n",
       "    </tr>\n",
       "  </tbody>\n",
       "</table>\n",
       "</div>"
      ],
      "text/plain": [
       "             covid_cases  shared_teks_by_generation_date  \\\n",
       "sample_date                                                \n",
       "2020-09-26         77313                            1140   \n",
       "2020-09-25         76924                            1294   \n",
       "2020-09-24         76535                            1363   \n",
       "2020-09-23         75527                            1359   \n",
       "2020-09-22         74353                            1292   \n",
       "\n",
       "             shared_teks_by_upload_date  shared_diagnoses  \\\n",
       "sample_date                                                 \n",
       "2020-09-26                         1608               472   \n",
       "2020-09-25                         1406               429   \n",
       "2020-09-24                         1238               395   \n",
       "2020-09-23                         1012               335   \n",
       "2020-09-22                          807               288   \n",
       "\n",
       "             teks_per_shared_diagnosis  shared_diagnoses_per_covid_case  \n",
       "sample_date                                                              \n",
       "2020-09-26                    3.406780                         0.006105  \n",
       "2020-09-25                    3.277389                         0.005577  \n",
       "2020-09-24                    3.134177                         0.005161  \n",
       "2020-09-23                    3.020896                         0.004435  \n",
       "2020-09-22                    2.802083                         0.003873  "
      ]
     },
     "execution_count": 34,
     "metadata": {},
     "output_type": "execute_result"
    }
   ],
   "source": [
    "weekly_result_summary_df = result_summary_df \\\n",
    "    .sort_index(ascending=True).fillna(0).rolling(7).agg({\n",
    "    \"covid_cases\": \"sum\",\n",
    "    \"shared_teks_by_generation_date\": \"sum\",\n",
    "    \"shared_teks_by_upload_date\": \"sum\",\n",
    "    \"shared_diagnoses\": \"sum\"\n",
    "}).sort_index(ascending=False)\n",
    "weekly_result_summary_df = weekly_result_summary_df.fillna(0).astype(int)\n",
    "weekly_result_summary_df[\"teks_per_shared_diagnosis\"] = \\\n",
    "    weekly_result_summary_df.shared_teks_by_upload_date / weekly_result_summary_df.shared_diagnoses\n",
    "weekly_result_summary_df[\"shared_diagnoses_per_covid_case\"] = \\\n",
    "    weekly_result_summary_df.shared_diagnoses / weekly_result_summary_df.covid_cases\n",
    "weekly_result_summary_df.head()"
   ]
  },
  {
   "cell_type": "code",
   "execution_count": 35,
   "metadata": {
    "collapsed": false,
    "execution": {
     "iopub.execute_input": "2020-09-26T14:20:34.657674Z",
     "iopub.status.busy": "2020-09-26T14:20:34.657006Z",
     "iopub.status.idle": "2020-09-26T14:20:34.660095Z",
     "shell.execute_reply": "2020-09-26T14:20:34.660704Z"
    },
    "papermill": {
     "duration": 0.065385,
     "end_time": "2020-09-26T14:20:34.660856",
     "exception": false,
     "start_time": "2020-09-26T14:20:34.595471",
     "status": "completed"
    },
    "pycharm": {
     "name": "#%%\n"
    },
    "tags": []
   },
   "outputs": [
    {
     "data": {
      "text/plain": [
       "{'covid_cases': 77313,\n",
       " 'shared_teks_by_generation_date': 1140,\n",
       " 'shared_teks_by_upload_date': 1608,\n",
       " 'shared_diagnoses': 472,\n",
       " 'teks_per_shared_diagnosis': 3.406779661016949,\n",
       " 'shared_diagnoses_per_covid_case': 0.006105053483890161}"
      ]
     },
     "execution_count": 35,
     "metadata": {},
     "output_type": "execute_result"
    }
   ],
   "source": [
    "last_7_days_summary = weekly_result_summary_df.to_dict(orient=\"records\")[0]\n",
    "last_7_days_summary"
   ]
  },
  {
   "cell_type": "markdown",
   "metadata": {
    "execution": {
     "iopub.execute_input": "2020-08-30T22:30:17.313260Z",
     "iopub.status.busy": "2020-08-30T22:30:17.312584Z",
     "iopub.status.idle": "2020-08-30T22:30:17.317571Z",
     "shell.execute_reply": "2020-08-30T22:30:17.316929Z"
    },
    "papermill": {
     "duration": 0.048528,
     "end_time": "2020-09-26T14:20:34.757792",
     "exception": false,
     "start_time": "2020-09-26T14:20:34.709264",
     "status": "completed"
    },
    "pycharm": {
     "name": "#%% md\n"
    },
    "tags": []
   },
   "source": [
    "## Report Results"
   ]
  },
  {
   "cell_type": "code",
   "execution_count": 36,
   "metadata": {
    "collapsed": false,
    "execution": {
     "iopub.execute_input": "2020-09-26T14:20:34.860014Z",
     "iopub.status.busy": "2020-09-26T14:20:34.859272Z",
     "iopub.status.idle": "2020-09-26T14:20:34.861808Z",
     "shell.execute_reply": "2020-09-26T14:20:34.861148Z"
    },
    "papermill": {
     "duration": 0.055409,
     "end_time": "2020-09-26T14:20:34.861947",
     "exception": false,
     "start_time": "2020-09-26T14:20:34.806538",
     "status": "completed"
    },
    "pycharm": {
     "name": "#%%\n"
    },
    "tags": []
   },
   "outputs": [],
   "source": [
    "display_column_name_mapping = {\n",
    "    \"sample_date\": \"Sample\\u00A0Date\\u00A0(UTC)\",\n",
    "    \"datetime_utc\": \"Timestamp (UTC)\",\n",
    "    \"covid_cases\": \"COVID-19 Cases (7-day Rolling Average)\",\n",
    "    \"shared_teks_by_generation_date\": \"Shared TEKs by Generation Date\",\n",
    "    \"shared_teks_by_upload_date\": \"Shared TEKs by Upload Date\",\n",
    "    \"shared_diagnoses\": \"Shared Diagnoses (Estimation)\",\n",
    "    \"teks_per_shared_diagnosis\": \"TEKs Uploaded per Shared Diagnosis\",\n",
    "    \"shared_diagnoses_per_covid_case\": \"Usage Ratio (Fraction of Cases Which Shared Diagnosis)\",\n",
    "}"
   ]
  },
  {
   "cell_type": "markdown",
   "metadata": {
    "papermill": {
     "duration": 0.049924,
     "end_time": "2020-09-26T14:20:34.970488",
     "exception": false,
     "start_time": "2020-09-26T14:20:34.920564",
     "status": "completed"
    },
    "tags": []
   },
   "source": [
    "### Daily Summary Table"
   ]
  },
  {
   "cell_type": "code",
   "execution_count": 37,
   "metadata": {
    "execution": {
     "iopub.execute_input": "2020-09-26T14:20:35.071012Z",
     "iopub.status.busy": "2020-09-26T14:20:35.069516Z",
     "iopub.status.idle": "2020-09-26T14:20:35.087272Z",
     "shell.execute_reply": "2020-09-26T14:20:35.086712Z"
    },
    "papermill": {
     "duration": 0.068817,
     "end_time": "2020-09-26T14:20:35.087433",
     "exception": false,
     "start_time": "2020-09-26T14:20:35.018616",
     "status": "completed"
    },
    "tags": []
   },
   "outputs": [
    {
     "data": {
      "text/html": [
       "<div>\n",
       "<style scoped>\n",
       "    .dataframe tbody tr th:only-of-type {\n",
       "        vertical-align: middle;\n",
       "    }\n",
       "\n",
       "    .dataframe tbody tr th {\n",
       "        vertical-align: top;\n",
       "    }\n",
       "\n",
       "    .dataframe thead th {\n",
       "        text-align: right;\n",
       "    }\n",
       "</style>\n",
       "<table border=\"1\" class=\"dataframe\">\n",
       "  <thead>\n",
       "    <tr style=\"text-align: right;\">\n",
       "      <th></th>\n",
       "      <th>COVID-19 Cases (7-day Rolling Average)</th>\n",
       "      <th>Shared TEKs by Generation Date</th>\n",
       "      <th>Shared TEKs by Upload Date</th>\n",
       "      <th>Shared Diagnoses (Estimation)</th>\n",
       "      <th>TEKs Uploaded per Shared Diagnosis</th>\n",
       "      <th>Usage Ratio (Fraction of Cases Which Shared Diagnosis)</th>\n",
       "    </tr>\n",
       "    <tr>\n",
       "      <th>Sample Date (UTC)</th>\n",
       "      <th></th>\n",
       "      <th></th>\n",
       "      <th></th>\n",
       "      <th></th>\n",
       "      <th></th>\n",
       "      <th></th>\n",
       "    </tr>\n",
       "  </thead>\n",
       "  <tbody>\n",
       "    <tr>\n",
       "      <th>2020-09-26</th>\n",
       "      <td>10920</td>\n",
       "      <td>49</td>\n",
       "      <td>292</td>\n",
       "      <td>82</td>\n",
       "      <td>3.560976</td>\n",
       "      <td>0.007509</td>\n",
       "    </tr>\n",
       "    <tr>\n",
       "      <th>2020-09-25</th>\n",
       "      <td>10920</td>\n",
       "      <td>96</td>\n",
       "      <td>306</td>\n",
       "      <td>86</td>\n",
       "      <td>3.558140</td>\n",
       "      <td>0.007875</td>\n",
       "    </tr>\n",
       "    <tr>\n",
       "      <th>2020-09-24</th>\n",
       "      <td>11223</td>\n",
       "      <td>143</td>\n",
       "      <td>289</td>\n",
       "      <td>89</td>\n",
       "      <td>3.247191</td>\n",
       "      <td>0.007930</td>\n",
       "    </tr>\n",
       "    <tr>\n",
       "      <th>2020-09-23</th>\n",
       "      <td>11314</td>\n",
       "      <td>186</td>\n",
       "      <td>267</td>\n",
       "      <td>70</td>\n",
       "      <td>3.814286</td>\n",
       "      <td>0.006187</td>\n",
       "    </tr>\n",
       "    <tr>\n",
       "      <th>2020-09-22</th>\n",
       "      <td>11300</td>\n",
       "      <td>205</td>\n",
       "      <td>148</td>\n",
       "      <td>55</td>\n",
       "      <td>2.690909</td>\n",
       "      <td>0.004867</td>\n",
       "    </tr>\n",
       "    <tr>\n",
       "      <th>2020-09-21</th>\n",
       "      <td>11105</td>\n",
       "      <td>243</td>\n",
       "      <td>190</td>\n",
       "      <td>45</td>\n",
       "      <td>4.222222</td>\n",
       "      <td>0.004052</td>\n",
       "    </tr>\n",
       "    <tr>\n",
       "      <th>2020-09-20</th>\n",
       "      <td>10531</td>\n",
       "      <td>218</td>\n",
       "      <td>116</td>\n",
       "      <td>45</td>\n",
       "      <td>2.577778</td>\n",
       "      <td>0.004273</td>\n",
       "    </tr>\n",
       "    <tr>\n",
       "      <th>2020-09-19</th>\n",
       "      <td>10531</td>\n",
       "      <td>203</td>\n",
       "      <td>90</td>\n",
       "      <td>39</td>\n",
       "      <td>2.307692</td>\n",
       "      <td>0.003703</td>\n",
       "    </tr>\n",
       "    <tr>\n",
       "      <th>2020-09-18</th>\n",
       "      <td>10531</td>\n",
       "      <td>165</td>\n",
       "      <td>138</td>\n",
       "      <td>52</td>\n",
       "      <td>2.653846</td>\n",
       "      <td>0.004938</td>\n",
       "    </tr>\n",
       "    <tr>\n",
       "      <th>2020-09-17</th>\n",
       "      <td>10215</td>\n",
       "      <td>139</td>\n",
       "      <td>63</td>\n",
       "      <td>29</td>\n",
       "      <td>2.172414</td>\n",
       "      <td>0.002839</td>\n",
       "    </tr>\n",
       "    <tr>\n",
       "      <th>2020-09-16</th>\n",
       "      <td>10140</td>\n",
       "      <td>119</td>\n",
       "      <td>62</td>\n",
       "      <td>23</td>\n",
       "      <td>2.695652</td>\n",
       "      <td>0.002268</td>\n",
       "    </tr>\n",
       "    <tr>\n",
       "      <th>2020-09-15</th>\n",
       "      <td>9808</td>\n",
       "      <td>82</td>\n",
       "      <td>58</td>\n",
       "      <td>23</td>\n",
       "      <td>2.521739</td>\n",
       "      <td>0.002345</td>\n",
       "    </tr>\n",
       "    <tr>\n",
       "      <th>2020-09-14</th>\n",
       "      <td>9740</td>\n",
       "      <td>73</td>\n",
       "      <td>61</td>\n",
       "      <td>28</td>\n",
       "      <td>2.178571</td>\n",
       "      <td>0.002875</td>\n",
       "    </tr>\n",
       "    <tr>\n",
       "      <th>2020-09-13</th>\n",
       "      <td>9620</td>\n",
       "      <td>75</td>\n",
       "      <td>92</td>\n",
       "      <td>32</td>\n",
       "      <td>2.875000</td>\n",
       "      <td>0.003326</td>\n",
       "    </tr>\n",
       "    <tr>\n",
       "      <th>2020-09-12</th>\n",
       "      <td>9620</td>\n",
       "      <td>67</td>\n",
       "      <td>92</td>\n",
       "      <td>33</td>\n",
       "      <td>2.787879</td>\n",
       "      <td>0.003430</td>\n",
       "    </tr>\n",
       "    <tr>\n",
       "      <th>2020-09-11</th>\n",
       "      <td>9620</td>\n",
       "      <td>75</td>\n",
       "      <td>46</td>\n",
       "      <td>19</td>\n",
       "      <td>2.421053</td>\n",
       "      <td>0.001975</td>\n",
       "    </tr>\n",
       "    <tr>\n",
       "      <th>2020-09-10</th>\n",
       "      <td>9376</td>\n",
       "      <td>68</td>\n",
       "      <td>45</td>\n",
       "      <td>15</td>\n",
       "      <td>3.000000</td>\n",
       "      <td>0.001600</td>\n",
       "    </tr>\n",
       "    <tr>\n",
       "      <th>2020-09-09</th>\n",
       "      <td>9118</td>\n",
       "      <td>60</td>\n",
       "      <td>67</td>\n",
       "      <td>21</td>\n",
       "      <td>3.190476</td>\n",
       "      <td>0.002303</td>\n",
       "    </tr>\n",
       "    <tr>\n",
       "      <th>2020-09-08</th>\n",
       "      <td>9077</td>\n",
       "      <td>61</td>\n",
       "      <td>44</td>\n",
       "      <td>18</td>\n",
       "      <td>2.444444</td>\n",
       "      <td>0.001983</td>\n",
       "    </tr>\n",
       "    <tr>\n",
       "      <th>2020-09-07</th>\n",
       "      <td>8956</td>\n",
       "      <td>58</td>\n",
       "      <td>52</td>\n",
       "      <td>22</td>\n",
       "      <td>2.363636</td>\n",
       "      <td>0.002456</td>\n",
       "    </tr>\n",
       "    <tr>\n",
       "      <th>2020-09-06</th>\n",
       "      <td>8529</td>\n",
       "      <td>54</td>\n",
       "      <td>60</td>\n",
       "      <td>24</td>\n",
       "      <td>2.500000</td>\n",
       "      <td>0.002814</td>\n",
       "    </tr>\n",
       "  </tbody>\n",
       "</table>\n",
       "</div>"
      ],
      "text/plain": [
       "                   COVID-19 Cases (7-day Rolling Average)  \\\n",
       "Sample Date (UTC)                                           \n",
       "2020-09-26                                          10920   \n",
       "2020-09-25                                          10920   \n",
       "2020-09-24                                          11223   \n",
       "2020-09-23                                          11314   \n",
       "2020-09-22                                          11300   \n",
       "2020-09-21                                          11105   \n",
       "2020-09-20                                          10531   \n",
       "2020-09-19                                          10531   \n",
       "2020-09-18                                          10531   \n",
       "2020-09-17                                          10215   \n",
       "2020-09-16                                          10140   \n",
       "2020-09-15                                           9808   \n",
       "2020-09-14                                           9740   \n",
       "2020-09-13                                           9620   \n",
       "2020-09-12                                           9620   \n",
       "2020-09-11                                           9620   \n",
       "2020-09-10                                           9376   \n",
       "2020-09-09                                           9118   \n",
       "2020-09-08                                           9077   \n",
       "2020-09-07                                           8956   \n",
       "2020-09-06                                           8529   \n",
       "\n",
       "                   Shared TEKs by Generation Date  Shared TEKs by Upload Date  \\\n",
       "Sample Date (UTC)                                                               \n",
       "2020-09-26                                     49                         292   \n",
       "2020-09-25                                     96                         306   \n",
       "2020-09-24                                    143                         289   \n",
       "2020-09-23                                    186                         267   \n",
       "2020-09-22                                    205                         148   \n",
       "2020-09-21                                    243                         190   \n",
       "2020-09-20                                    218                         116   \n",
       "2020-09-19                                    203                          90   \n",
       "2020-09-18                                    165                         138   \n",
       "2020-09-17                                    139                          63   \n",
       "2020-09-16                                    119                          62   \n",
       "2020-09-15                                     82                          58   \n",
       "2020-09-14                                     73                          61   \n",
       "2020-09-13                                     75                          92   \n",
       "2020-09-12                                     67                          92   \n",
       "2020-09-11                                     75                          46   \n",
       "2020-09-10                                     68                          45   \n",
       "2020-09-09                                     60                          67   \n",
       "2020-09-08                                     61                          44   \n",
       "2020-09-07                                     58                          52   \n",
       "2020-09-06                                     54                          60   \n",
       "\n",
       "                   Shared Diagnoses (Estimation)  \\\n",
       "Sample Date (UTC)                                  \n",
       "2020-09-26                                    82   \n",
       "2020-09-25                                    86   \n",
       "2020-09-24                                    89   \n",
       "2020-09-23                                    70   \n",
       "2020-09-22                                    55   \n",
       "2020-09-21                                    45   \n",
       "2020-09-20                                    45   \n",
       "2020-09-19                                    39   \n",
       "2020-09-18                                    52   \n",
       "2020-09-17                                    29   \n",
       "2020-09-16                                    23   \n",
       "2020-09-15                                    23   \n",
       "2020-09-14                                    28   \n",
       "2020-09-13                                    32   \n",
       "2020-09-12                                    33   \n",
       "2020-09-11                                    19   \n",
       "2020-09-10                                    15   \n",
       "2020-09-09                                    21   \n",
       "2020-09-08                                    18   \n",
       "2020-09-07                                    22   \n",
       "2020-09-06                                    24   \n",
       "\n",
       "                   TEKs Uploaded per Shared Diagnosis  \\\n",
       "Sample Date (UTC)                                       \n",
       "2020-09-26                                   3.560976   \n",
       "2020-09-25                                   3.558140   \n",
       "2020-09-24                                   3.247191   \n",
       "2020-09-23                                   3.814286   \n",
       "2020-09-22                                   2.690909   \n",
       "2020-09-21                                   4.222222   \n",
       "2020-09-20                                   2.577778   \n",
       "2020-09-19                                   2.307692   \n",
       "2020-09-18                                   2.653846   \n",
       "2020-09-17                                   2.172414   \n",
       "2020-09-16                                   2.695652   \n",
       "2020-09-15                                   2.521739   \n",
       "2020-09-14                                   2.178571   \n",
       "2020-09-13                                   2.875000   \n",
       "2020-09-12                                   2.787879   \n",
       "2020-09-11                                   2.421053   \n",
       "2020-09-10                                   3.000000   \n",
       "2020-09-09                                   3.190476   \n",
       "2020-09-08                                   2.444444   \n",
       "2020-09-07                                   2.363636   \n",
       "2020-09-06                                   2.500000   \n",
       "\n",
       "                   Usage Ratio (Fraction of Cases Which Shared Diagnosis)  \n",
       "Sample Date (UTC)                                                          \n",
       "2020-09-26                                                  0.007509       \n",
       "2020-09-25                                                  0.007875       \n",
       "2020-09-24                                                  0.007930       \n",
       "2020-09-23                                                  0.006187       \n",
       "2020-09-22                                                  0.004867       \n",
       "2020-09-21                                                  0.004052       \n",
       "2020-09-20                                                  0.004273       \n",
       "2020-09-19                                                  0.003703       \n",
       "2020-09-18                                                  0.004938       \n",
       "2020-09-17                                                  0.002839       \n",
       "2020-09-16                                                  0.002268       \n",
       "2020-09-15                                                  0.002345       \n",
       "2020-09-14                                                  0.002875       \n",
       "2020-09-13                                                  0.003326       \n",
       "2020-09-12                                                  0.003430       \n",
       "2020-09-11                                                  0.001975       \n",
       "2020-09-10                                                  0.001600       \n",
       "2020-09-09                                                  0.002303       \n",
       "2020-09-08                                                  0.001983       \n",
       "2020-09-07                                                  0.002456       \n",
       "2020-09-06                                                  0.002814       "
      ]
     },
     "execution_count": 37,
     "metadata": {},
     "output_type": "execute_result"
    }
   ],
   "source": [
    "result_summary_df_ = result_summary_df.copy()\n",
    "result_summary_df = result_summary_df[[\n",
    "    \"covid_cases\",\n",
    "    \"shared_teks_by_generation_date\",\n",
    "    \"shared_teks_by_upload_date\",\n",
    "    \"shared_diagnoses\",\n",
    "    \"teks_per_shared_diagnosis\",\n",
    "    \"shared_diagnoses_per_covid_case\"]]\n",
    "result_summary_with_display_names_df = result_summary_df \\\n",
    "    .rename_axis(index=display_column_name_mapping) \\\n",
    "    .rename(columns=display_column_name_mapping)\n",
    "result_summary_with_display_names_df"
   ]
  },
  {
   "cell_type": "markdown",
   "metadata": {
    "papermill": {
     "duration": 0.049103,
     "end_time": "2020-09-26T14:20:35.184730",
     "exception": false,
     "start_time": "2020-09-26T14:20:35.135627",
     "status": "completed"
    },
    "tags": []
   },
   "source": [
    "### Daily Summary Plots"
   ]
  },
  {
   "cell_type": "code",
   "execution_count": 38,
   "metadata": {
    "execution": {
     "iopub.execute_input": "2020-09-26T14:20:35.349255Z",
     "iopub.status.busy": "2020-09-26T14:20:35.339527Z",
     "iopub.status.idle": "2020-09-26T14:20:36.929246Z",
     "shell.execute_reply": "2020-09-26T14:20:36.929702Z"
    },
    "papermill": {
     "duration": 1.699164,
     "end_time": "2020-09-26T14:20:36.929889",
     "exception": false,
     "start_time": "2020-09-26T14:20:35.230725",
     "status": "completed"
    },
    "scrolled": false,
    "tags": []
   },
   "outputs": [
    {
     "data": {
      "image/png": "[encoded data removed]",
      "text/plain": [
       "<Figure size 1080x1584 with 6 Axes>"
      ]
     },
     "metadata": {},
     "output_type": "display_data"
    }
   ],
   "source": [
    "result_plot_summary_df = result_summary_df.head(daily_plot_days)[[\n",
    "    \"covid_cases\",\n",
    "    \"shared_teks_by_generation_date\",\n",
    "    \"shared_teks_by_upload_date\",\n",
    "    \"shared_diagnoses\",\n",
    "    \"teks_per_shared_diagnosis\",\n",
    "    \"shared_diagnoses_per_covid_case\"]] \\\n",
    "    .rename_axis(index=display_column_name_mapping) \\\n",
    "    .rename(columns=display_column_name_mapping)\n",
    "summary_ax_list = result_plot_summary_df.sort_index(ascending=True).plot.bar(\n",
    "    title=f\"Daily Summary\",\n",
    "    rot=45, subplots=True, figsize=(15, 22), legend=False)\n",
    "ax_ = summary_ax_list[-1]\n",
    "ax_.get_figure().tight_layout()\n",
    "ax_.get_figure().subplots_adjust(top=0.95)\n",
    "ax_.yaxis.set_major_formatter(matplotlib.ticker.PercentFormatter(1.0))\n",
    "_ = ax_.set_xticklabels(sorted(result_plot_summary_df.index.strftime(\"%Y-%m-%d\").tolist()))"
   ]
  },
  {
   "cell_type": "markdown",
   "metadata": {
    "papermill": {
     "duration": 0.052055,
     "end_time": "2020-09-26T14:20:37.032854",
     "exception": false,
     "start_time": "2020-09-26T14:20:36.980799",
     "status": "completed"
    },
    "tags": []
   },
   "source": [
    "### Hourly Summary Plots "
   ]
  },
  {
   "cell_type": "code",
   "execution_count": 39,
   "metadata": {
    "execution": {
     "iopub.execute_input": "2020-09-26T14:20:37.145997Z",
     "iopub.status.busy": "2020-09-26T14:20:37.141201Z",
     "iopub.status.idle": "2020-09-26T14:20:37.792075Z",
     "shell.execute_reply": "2020-09-26T14:20:37.792650Z"
    },
    "papermill": {
     "duration": 0.710109,
     "end_time": "2020-09-26T14:20:37.792817",
     "exception": false,
     "start_time": "2020-09-26T14:20:37.082708",
     "status": "completed"
    },
    "pycharm": {
     "name": "#%%\n"
    },
    "tags": []
   },
   "outputs": [
    {
     "data": {
      "image/png": "[encoded data removed]",
      "text/plain": [
       "<Figure size 1080x432 with 2 Axes>"
      ]
     },
     "metadata": {},
     "output_type": "display_data"
    }
   ],
   "source": [
    "hourly_summary_ax_list = hourly_summary_df \\\n",
    "    .rename_axis(index=display_column_name_mapping) \\\n",
    "    .rename(columns=display_column_name_mapping) \\\n",
    "    .plot.bar(\n",
    "        title=f\"Last 24h Summary\",\n",
    "        rot=45, subplots=True, legend=False)\n",
    "ax_ = hourly_summary_ax_list[-1]\n",
    "ax_.get_figure().tight_layout()\n",
    "ax_.get_figure().subplots_adjust(top=0.9)\n",
    "_ = ax_.set_xticklabels(sorted(hourly_summary_df.index.strftime(\"%Y-%m-%d@%H\").tolist()))"
   ]
  },
  {
   "cell_type": "markdown",
   "metadata": {
    "papermill": {
     "duration": 0.053895,
     "end_time": "2020-09-26T14:20:37.898503",
     "exception": false,
     "start_time": "2020-09-26T14:20:37.844608",
     "status": "completed"
    },
    "tags": []
   },
   "source": [
    "### Publish Results"
   ]
  },
  {
   "cell_type": "code",
   "execution_count": 40,
   "metadata": {
    "execution": {
     "iopub.execute_input": "2020-09-26T14:20:38.010498Z",
     "iopub.status.busy": "2020-09-26T14:20:38.009906Z",
     "iopub.status.idle": "2020-09-26T14:20:38.012840Z",
     "shell.execute_reply": "2020-09-26T14:20:38.012226Z"
    },
    "papermill": {
     "duration": 0.05973,
     "end_time": "2020-09-26T14:20:38.012980",
     "exception": false,
     "start_time": "2020-09-26T14:20:37.953250",
     "status": "completed"
    },
    "pycharm": {
     "name": "#%%\n"
    },
    "tags": []
   },
   "outputs": [],
   "source": [
    "def get_temporary_image_path() -> str:\n",
    "    return os.path.join(tempfile.gettempdir(), str(uuid.uuid4()) + \".png\")\n",
    "\n",
    "def save_temporary_plot_image(ax):\n",
    "    if isinstance(ax, np.ndarray):\n",
    "        ax = ax[0]\n",
    "    media_path = get_temporary_image_path()\n",
    "    ax.get_figure().savefig(media_path)\n",
    "    return media_path\n",
    "\n",
    "def save_temporary_dataframe_image(df):\n",
    "    import dataframe_image as dfi\n",
    "    media_path = get_temporary_image_path()\n",
    "    dfi.export(df, media_path)\n",
    "    return media_path"
   ]
  },
  {
   "cell_type": "code",
   "execution_count": 41,
   "metadata": {
    "collapsed": false,
    "execution": {
     "iopub.execute_input": "2020-09-26T14:20:38.133578Z",
     "iopub.status.busy": "2020-09-26T14:20:38.132978Z",
     "iopub.status.idle": "2020-09-26T14:20:38.135562Z",
     "shell.execute_reply": "2020-09-26T14:20:38.135029Z"
    },
    "papermill": {
     "duration": 0.070073,
     "end_time": "2020-09-26T14:20:38.135705",
     "exception": false,
     "start_time": "2020-09-26T14:20:38.065632",
     "status": "completed"
    },
    "pycharm": {
     "name": "#%%\n"
    },
    "tags": []
   },
   "outputs": [],
   "source": [
    "daily_summary_table_html = result_summary_with_display_names_df \\\n",
    "    .head(daily_plot_days) \\\n",
    "    .rename_axis(index=display_column_name_mapping) \\\n",
    "    .rename(columns=display_column_name_mapping) \\\n",
    "    .to_html(\n",
    "        formatters={\n",
    "            display_column_name_mapping[\"teks_per_shared_diagnosis\"]: lambda x: f\"{x:.2f}\",\n",
    "            display_column_name_mapping[\"shared_diagnoses_per_covid_case\"]: lambda x: f\"{x:.2%}\",\n",
    "        })\n",
    "\n",
    "extraction_date_result_summary_df = \\\n",
    "    result_summary_df[result_summary_df.index == extraction_date]\n",
    "extraction_date_result_hourly_summary_df = \\\n",
    "    hourly_summary_df[hourly_summary_df.extraction_date_with_hour == extraction_date_with_hour]\n",
    "\n",
    "covid_cases = \\\n",
    "    extraction_date_result_summary_df.covid_cases.sum()\n",
    "shared_teks_by_generation_date = \\\n",
    "    extraction_date_result_summary_df.shared_teks_by_generation_date.sum()\n",
    "shared_teks_by_upload_date = \\\n",
    "    extraction_date_result_summary_df.shared_teks_by_upload_date.sum()\n",
    "shared_diagnoses = \\\n",
    "    extraction_date_result_summary_df.shared_diagnoses.sum()\n",
    "teks_per_shared_diagnosis = \\\n",
    "    extraction_date_result_summary_df.teks_per_shared_diagnosis.sum()\n",
    "shared_diagnoses_per_covid_case = \\\n",
    "    extraction_date_result_summary_df.shared_diagnoses_per_covid_case.sum()\n",
    "\n",
    "shared_teks_by_upload_date_last_hour = \\\n",
    "    extraction_date_result_hourly_summary_df.shared_teks_by_upload_date.sum().astype(int)\n",
    "shared_diagnoses_last_hour = \\\n",
    "    extraction_date_result_hourly_summary_df.shared_diagnoses.sum().astype(int)"
   ]
  },
  {
   "cell_type": "code",
   "execution_count": 42,
   "metadata": {
    "collapsed": false,
    "execution": {
     "iopub.execute_input": "2020-09-26T14:20:38.252211Z",
     "iopub.status.busy": "2020-09-26T14:20:38.251580Z",
     "iopub.status.idle": "2020-09-26T14:20:48.445453Z",
     "shell.execute_reply": "2020-09-26T14:20:48.444556Z"
    },
    "papermill": {
     "duration": 10.258071,
     "end_time": "2020-09-26T14:20:48.445596",
     "exception": false,
     "start_time": "2020-09-26T14:20:38.187525",
     "status": "completed"
    },
    "pycharm": {
     "name": "#%%\n"
    },
    "tags": []
   },
   "outputs": [],
   "source": [
    "summary_plots_image_path = save_temporary_plot_image(\n",
    "    ax=summary_ax_list)\n",
    "summary_table_image_path = save_temporary_dataframe_image(\n",
    "    df=result_summary_with_display_names_df)\n",
    "hourly_summary_plots_image_path = save_temporary_plot_image(\n",
    "    ax=hourly_summary_ax_list)\n",
    "multi_region_summary_table_image_path = save_temporary_dataframe_image(\n",
    "    df=multi_region_summary_df)"
   ]
  },
  {
   "cell_type": "markdown",
   "metadata": {
    "papermill": {
     "duration": 0.053612,
     "end_time": "2020-09-26T14:20:48.554347",
     "exception": false,
     "start_time": "2020-09-26T14:20:48.500735",
     "status": "completed"
    },
    "tags": []
   },
   "source": [
    "### Save Results"
   ]
  },
  {
   "cell_type": "code",
   "execution_count": 43,
   "metadata": {
    "execution": {
     "iopub.execute_input": "2020-09-26T14:20:48.666437Z",
     "iopub.status.busy": "2020-09-26T14:20:48.665488Z",
     "iopub.status.idle": "2020-09-26T14:20:48.681092Z",
     "shell.execute_reply": "2020-09-26T14:20:48.680392Z"
    },
    "papermill": {
     "duration": 0.073341,
     "end_time": "2020-09-26T14:20:48.681225",
     "exception": false,
     "start_time": "2020-09-26T14:20:48.607884",
     "status": "completed"
    },
    "pycharm": {
     "name": "#%%\n"
    },
    "tags": []
   },
   "outputs": [],
   "source": [
    "report_resources_path_prefix = \"Data/Resources/Current/RadarCOVID-Report-\"\n",
    "result_summary_df.to_csv(report_resources_path_prefix + \"Summary-Table.csv\")\n",
    "result_summary_df.to_html(report_resources_path_prefix + \"Summary-Table.html\")\n",
    "hourly_summary_df.to_csv(report_resources_path_prefix + \"Hourly-Summary-Table.csv\")\n",
    "multi_region_summary_df.to_csv(report_resources_path_prefix + \"Multi-Region-Summary-Table.csv\")\n",
    "_ = shutil.copyfile(summary_plots_image_path, report_resources_path_prefix + \"Summary-Plots.png\")\n",
    "_ = shutil.copyfile(summary_table_image_path, report_resources_path_prefix + \"Summary-Table.png\")\n",
    "_ = shutil.copyfile(hourly_summary_plots_image_path, report_resources_path_prefix + \"Hourly-Summary-Plots.png\")\n",
    "_ = shutil.copyfile(multi_region_summary_table_image_path, report_resources_path_prefix + \"Multi-Region-Summary-Table.png\")\n",
    "\n",
    "report_daily_url_pattern = \\\n",
    "    \"https://github.com/pvieito/RadarCOVID-STATS/blob/master/Notebooks/\" \\\n",
    "    \"RadarCOVID-Report/{report_type}/RadarCOVID-Report-{report_date}.ipynb\"\n",
    "report_daily_url = report_daily_url_pattern.format(\n",
    "    report_type=\"Daily\", report_date=extraction_date)\n",
    "report_hourly_url = report_daily_url_pattern.format(\n",
    "    report_type=\"Hourly\", report_date=extraction_date_with_hour)"
   ]
  },
  {
   "cell_type": "markdown",
   "metadata": {
    "collapsed": false,
    "papermill": {
     "duration": 0.051027,
     "end_time": "2020-09-26T14:20:48.781414",
     "exception": false,
     "start_time": "2020-09-26T14:20:48.730387",
     "status": "completed"
    },
    "tags": []
   },
   "source": [
    "### Publish Results as JSON"
   ]
  },
  {
   "cell_type": "code",
   "execution_count": 44,
   "metadata": {
    "collapsed": false,
    "execution": {
     "iopub.execute_input": "2020-09-26T14:20:48.895485Z",
     "iopub.status.busy": "2020-09-26T14:20:48.894751Z",
     "iopub.status.idle": "2020-09-26T14:20:48.898102Z",
     "shell.execute_reply": "2020-09-26T14:20:48.898633Z"
    },
    "papermill": {
     "duration": 0.069701,
     "end_time": "2020-09-26T14:20:48.898787",
     "exception": false,
     "start_time": "2020-09-26T14:20:48.829086",
     "status": "completed"
    },
    "pycharm": {
     "name": "#%%\n"
    },
    "tags": []
   },
   "outputs": [],
   "source": [
    "summary_results_api_df = result_summary_df.reset_index()\n",
    "summary_results_api_df[\"sample_date_string\"] = \\\n",
    "    summary_results_api_df[\"sample_date\"].dt.strftime(\"%Y-%m-%d\")\n",
    "\n",
    "summary_results = dict(\n",
    "    extraction_datetime=extraction_datetime,\n",
    "    extraction_date=extraction_date,\n",
    "    extraction_date_with_hour=extraction_date_with_hour,\n",
    "    last_hour=dict(\n",
    "        shared_teks_by_upload_date=shared_teks_by_upload_date_last_hour,\n",
    "        shared_diagnoses=shared_diagnoses_last_hour,\n",
    "    ),\n",
    "    today=dict(\n",
    "        covid_cases=covid_cases,\n",
    "        shared_teks_by_generation_date=shared_teks_by_generation_date,\n",
    "        shared_teks_by_upload_date=shared_teks_by_upload_date,\n",
    "        shared_diagnoses=shared_diagnoses,\n",
    "        teks_per_shared_diagnosis=teks_per_shared_diagnosis,\n",
    "        shared_diagnoses_per_covid_case=shared_diagnoses_per_covid_case,\n",
    "    ),\n",
    "    last_7_days=last_7_days_summary,\n",
    "    daily_results=summary_results_api_df.to_dict(orient=\"records\"))\n",
    "summary_results = \\\n",
    "    json.loads(pd.Series([summary_results]).to_json(orient=\"records\"))[0]\n",
    "\n",
    "with open(report_resources_path_prefix + \"Summary-Results.json\", \"w\") as f:\n",
    "    json.dump(summary_results, f, indent=4)"
   ]
  },
  {
   "cell_type": "markdown",
   "metadata": {
    "collapsed": false,
    "papermill": {
     "duration": 0.050914,
     "end_time": "2020-09-26T14:20:49.002881",
     "exception": false,
     "start_time": "2020-09-26T14:20:48.951967",
     "status": "completed"
    },
    "tags": []
   },
   "source": [
    "### Publish on README"
   ]
  },
  {
   "cell_type": "code",
   "execution_count": 45,
   "metadata": {
    "collapsed": false,
    "execution": {
     "iopub.execute_input": "2020-09-26T14:20:49.111239Z",
     "iopub.status.busy": "2020-09-26T14:20:49.110571Z",
     "iopub.status.idle": "2020-09-26T14:20:49.114155Z",
     "shell.execute_reply": "2020-09-26T14:20:49.113631Z"
    },
    "papermill": {
     "duration": 0.062661,
     "end_time": "2020-09-26T14:20:49.114281",
     "exception": false,
     "start_time": "2020-09-26T14:20:49.051620",
     "status": "completed"
    },
    "pycharm": {
     "name": "#%%\n"
    },
    "tags": []
   },
   "outputs": [],
   "source": [
    "with open(\"Data/Templates/README.md\", \"r\") as f:\n",
    "    readme_contents = f.read()\n",
    "\n",
    "readme_contents = readme_contents.format(\n",
    "    daily_summary_table_html=daily_summary_table_html,\n",
    "    report_url_with_hour=report_hourly_url,\n",
    "    extraction_date_with_hour=extraction_date_with_hour)\n",
    "\n",
    "with open(\"README.md\", \"w\") as f:\n",
    "    f.write(readme_contents)"
   ]
  },
  {
   "cell_type": "markdown",
   "metadata": {
    "collapsed": false,
    "papermill": {
     "duration": 0.051234,
     "end_time": "2020-09-26T14:20:49.217171",
     "exception": false,
     "start_time": "2020-09-26T14:20:49.165937",
     "status": "completed"
    },
    "tags": []
   },
   "source": [
    "### Publish on Twitter"
   ]
  },
  {
   "cell_type": "code",
   "execution_count": 46,
   "metadata": {
    "collapsed": false,
    "execution": {
     "iopub.execute_input": "2020-09-26T14:20:49.328818Z",
     "iopub.status.busy": "2020-09-26T14:20:49.327759Z",
     "iopub.status.idle": "2020-09-26T14:20:52.603041Z",
     "shell.execute_reply": "2020-09-26T14:20:52.602429Z"
    },
    "papermill": {
     "duration": 3.335806,
     "end_time": "2020-09-26T14:20:52.603199",
     "exception": false,
     "start_time": "2020-09-26T14:20:49.267393",
     "status": "completed"
    },
    "pycharm": {
     "name": "#%%\n"
    },
    "tags": []
   },
   "outputs": [],
   "source": [
    "enable_share_to_twitter = os.environ.get(\"RADARCOVID_REPORT__ENABLE_PUBLISH_ON_TWITTER\")\n",
    "github_event_name = os.environ.get(\"GITHUB_EVENT_NAME\")\n",
    "\n",
    "if enable_share_to_twitter and github_event_name == \"schedule\":\n",
    "    import tweepy\n",
    "\n",
    "    twitter_api_auth_keys = os.environ[\"RADARCOVID_REPORT__TWITTER_API_AUTH_KEYS\"]\n",
    "    twitter_api_auth_keys = twitter_api_auth_keys.split(\":\")\n",
    "    auth = tweepy.OAuthHandler(twitter_api_auth_keys[0], twitter_api_auth_keys[1])\n",
    "    auth.set_access_token(twitter_api_auth_keys[2], twitter_api_auth_keys[3])\n",
    "\n",
    "    api = tweepy.API(auth)\n",
    "\n",
    "    summary_plots_media = api.media_upload(summary_plots_image_path)\n",
    "    summary_table_media = api.media_upload(summary_table_image_path)\n",
    "    hourly_summary_plots_media = api.media_upload(hourly_summary_plots_image_path)\n",
    "    media_ids = [\n",
    "        summary_plots_media.media_id,\n",
    "        summary_table_media.media_id,\n",
    "        hourly_summary_plots_media.media_id,\n",
    "    ]\n",
    "\n",
    "    status = textwrap.dedent(f\"\"\"\n",
    "        #RadarCOVID Report – {extraction_date_with_hour}\n",
    "\n",
    "        Today:\n",
    "        - Uploaded TEKs: {shared_teks_by_upload_date:.0f} ({shared_teks_by_upload_date_last_hour:+d} last hour)\n",
    "        - Shared Diagnoses: ≤{shared_diagnoses:.0f} ({shared_diagnoses_last_hour:+d} last hour)\n",
    "        - TEKs per Diagnosis: ≥{teks_per_shared_diagnosis:.2}\n",
    "        - Usage Ratio: ≤{shared_diagnoses_per_covid_case:.2%}\n",
    "\n",
    "        Week:\n",
    "        - Shared Diagnoses: ≤{last_7_days_summary[\"shared_diagnoses\"]:.0f}\n",
    "        - Usage Ratio: ≤{last_7_days_summary[\"shared_diagnoses_per_covid_case\"]:.2%}\n",
    "\n",
    "        More Info: https://github.com/pvieito/RadarCOVID-STATS#documentation\n",
    "        \"\"\")\n",
    "    status = status.encode(encoding=\"utf-8\")\n",
    "    api.update_status(status=status, media_ids=media_ids)"
   ]
  }
 ],
 "metadata": {
  "kernelspec": {
   "display_name": "Python 3",
   "language": "python",
   "name": "python3"
  },
  "language_info": {
   "codemirror_mode": {
    "name": "ipython",
    "version": 3
   },
   "file_extension": ".py",
   "mimetype": "text/x-python",
   "name": "python",
   "nbconvert_exporter": "python",
   "pygments_lexer": "ipython3",
   "version": "3.8.5"
  },
  "papermill": {
   "duration": 30.37412,
   "end_time": "2020-09-26T14:20:54.024933",
   "environment_variables": {},
   "exception": null,
   "input_path": "Notebooks/RadarCOVID-Report/Source/RadarCOVID-Report.ipynb",
   "output_path": "RadarCOVID-Report.ipynb",
   "parameters": {},
   "start_time": "2020-09-26T14:20:23.650813",
   "version": "2.1.3"
  }
 },
 "nbformat": 4,
 "nbformat_minor": 1
}