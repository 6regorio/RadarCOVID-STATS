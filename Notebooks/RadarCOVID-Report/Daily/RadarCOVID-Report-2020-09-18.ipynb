{
 "cells": [
  {
   "cell_type": "markdown",
   "metadata": {
    "papermill": {
     "duration": 0.025619,
     "end_time": "2020-09-18T05:18:32.721166",
     "exception": false,
     "start_time": "2020-09-18T05:18:32.695547",
     "status": "completed"
    },
    "pycharm": {
     "name": "#%% md\n"
    },
    "tags": []
   },
   "source": [
    "# RadarCOVID-Report"
   ]
  },
  {
   "cell_type": "markdown",
   "metadata": {
    "collapsed": true,
    "papermill": {
     "duration": 0.022536,
     "end_time": "2020-09-18T05:18:32.766944",
     "exception": false,
     "start_time": "2020-09-18T05:18:32.744408",
     "status": "completed"
    },
    "pycharm": {
     "name": "#%% md\n"
    },
    "tags": []
   },
   "source": [
    "## Data Extraction"
   ]
  },
  {
   "cell_type": "code",
   "execution_count": 1,
   "metadata": {
    "execution": {
     "iopub.execute_input": "2020-09-18T05:18:32.818727Z",
     "iopub.status.busy": "2020-09-18T05:18:32.818156Z",
     "iopub.status.idle": "2020-09-18T05:18:36.232051Z",
     "shell.execute_reply": "2020-09-18T05:18:36.232567Z"
    },
    "papermill": {
     "duration": 3.443278,
     "end_time": "2020-09-18T05:18:36.232854",
     "exception": false,
     "start_time": "2020-09-18T05:18:32.789576",
     "status": "completed"
    },
    "pycharm": {
     "name": "#%%\n"
    },
    "tags": []
   },
   "outputs": [],
   "source": [
    "import datetime\n",
    "import logging\n",
    "import os\n",
    "import shutil\n",
    "import tempfile\n",
    "import textwrap\n",
    "import uuid\n",
    "\n",
    "import dataframe_image as dfi\n",
    "import matplotlib.ticker\n",
    "import numpy as np\n",
    "import pandas as pd\n",
    "import seaborn as sns\n",
    "\n",
    "%matplotlib inline"
   ]
  },
  {
   "cell_type": "code",
   "execution_count": 2,
   "metadata": {
    "execution": {
     "iopub.execute_input": "2020-09-18T05:18:36.285912Z",
     "iopub.status.busy": "2020-09-18T05:18:36.285359Z",
     "iopub.status.idle": "2020-09-18T05:18:36.287742Z",
     "shell.execute_reply": "2020-09-18T05:18:36.287267Z"
    },
    "papermill": {
     "duration": 0.031845,
     "end_time": "2020-09-18T05:18:36.287915",
     "exception": false,
     "start_time": "2020-09-18T05:18:36.256070",
     "status": "completed"
    },
    "pycharm": {
     "name": "#%%\n"
    },
    "tags": []
   },
   "outputs": [],
   "source": [
    "sns.set()\n",
    "matplotlib.rcParams['figure.figsize'] = (15, 6)\n",
    "\n",
    "extraction_datetime = datetime.datetime.utcnow()\n",
    "extraction_date = extraction_datetime.strftime(\"%Y-%m-%d\")\n",
    "extraction_previous_datetime = extraction_datetime - datetime.timedelta(days=1)\n",
    "extraction_previous_date = extraction_previous_datetime.strftime(\"%Y-%m-%d\")\n",
    "extraction_date_with_hour = datetime.datetime.utcnow().strftime(\"%Y-%m-%d@%H\")"
   ]
  },
  {
   "cell_type": "markdown",
   "metadata": {
    "papermill": {
     "duration": 0.023017,
     "end_time": "2020-09-18T05:18:36.333888",
     "exception": false,
     "start_time": "2020-09-18T05:18:36.310871",
     "status": "completed"
    },
    "tags": []
   },
   "source": [
    "### COVID-19 Cases"
   ]
  },
  {
   "cell_type": "code",
   "execution_count": 3,
   "metadata": {
    "execution": {
     "iopub.execute_input": "2020-09-18T05:18:36.385316Z",
     "iopub.status.busy": "2020-09-18T05:18:36.384740Z",
     "iopub.status.idle": "2020-09-18T05:18:37.156215Z",
     "shell.execute_reply": "2020-09-18T05:18:37.155665Z"
    },
    "papermill": {
     "duration": 0.799573,
     "end_time": "2020-09-18T05:18:37.156356",
     "exception": false,
     "start_time": "2020-09-18T05:18:36.356783",
     "status": "completed"
    },
    "pycharm": {
     "name": "#%%\n"
    },
    "tags": []
   },
   "outputs": [],
   "source": [
    "confirmed_df = pd.read_csv(\"https://covid19tracking.narrativa.com/csv/confirmed.csv\")\n",
    "\n",
    "radar_covid_countries = {\"Spain\"}\n",
    "# radar_covid_regions = { ... }\n",
    "\n",
    "confirmed_df = confirmed_df[confirmed_df[\"Country_EN\"].isin(radar_covid_countries)]\n",
    "# confirmed_df = confirmed_df[confirmed_df[\"Region\"].isin(radar_covid_regions)]\n",
    "# set(confirmed_df.Region.tolist()) == radar_covid_regions"
   ]
  },
  {
   "cell_type": "code",
   "execution_count": 4,
   "metadata": {
    "collapsed": false,
    "execution": {
     "iopub.execute_input": "2020-09-18T05:18:37.209449Z",
     "iopub.status.busy": "2020-09-18T05:18:37.208876Z",
     "iopub.status.idle": "2020-09-18T05:18:37.220057Z",
     "shell.execute_reply": "2020-09-18T05:18:37.220635Z"
    },
    "papermill": {
     "duration": 0.041314,
     "end_time": "2020-09-18T05:18:37.220824",
     "exception": false,
     "start_time": "2020-09-18T05:18:37.179510",
     "status": "completed"
    },
    "pycharm": {
     "name": "#%%\n"
    },
    "tags": []
   },
   "outputs": [
    {
     "data": {
      "text/html": [
       "<div>\n",
       "<style scoped>\n",
       "    .dataframe tbody tr th:only-of-type {\n",
       "        vertical-align: middle;\n",
       "    }\n",
       "\n",
       "    .dataframe tbody tr th {\n",
       "        vertical-align: top;\n",
       "    }\n",
       "\n",
       "    .dataframe thead th {\n",
       "        text-align: right;\n",
       "    }\n",
       "</style>\n",
       "<table border=\"1\" class=\"dataframe\">\n",
       "  <thead>\n",
       "    <tr style=\"text-align: right;\">\n",
       "      <th></th>\n",
       "      <th>0</th>\n",
       "    </tr>\n",
       "  </thead>\n",
       "  <tbody>\n",
       "    <tr>\n",
       "      <th>2020-09-13</th>\n",
       "      <td>1132652.0</td>\n",
       "    </tr>\n",
       "    <tr>\n",
       "      <th>2020-09-14</th>\n",
       "      <td>1187460.0</td>\n",
       "    </tr>\n",
       "    <tr>\n",
       "      <th>2020-09-15</th>\n",
       "      <td>1206334.0</td>\n",
       "    </tr>\n",
       "    <tr>\n",
       "      <th>2020-09-16</th>\n",
       "      <td>1228720.0</td>\n",
       "    </tr>\n",
       "    <tr>\n",
       "      <th>2020-09-17</th>\n",
       "      <td>1251302.0</td>\n",
       "    </tr>\n",
       "  </tbody>\n",
       "</table>\n",
       "</div>"
      ],
      "text/plain": [
       "                    0\n",
       "2020-09-13  1132652.0\n",
       "2020-09-14  1187460.0\n",
       "2020-09-15  1206334.0\n",
       "2020-09-16  1228720.0\n",
       "2020-09-17  1251302.0"
      ]
     },
     "execution_count": 4,
     "metadata": {},
     "output_type": "execute_result"
    }
   ],
   "source": [
    "confirmed_country_columns = list(filter(lambda x: x.startswith(\"Country_\"), confirmed_df.columns))\n",
    "confirmed_regional_columns = confirmed_country_columns + [\"Region\"]\n",
    "confirmed_df.drop(columns=confirmed_regional_columns, inplace=True)\n",
    "confirmed_df = confirmed_df.sum().to_frame()\n",
    "confirmed_df.tail()"
   ]
  },
  {
   "cell_type": "code",
   "execution_count": 5,
   "metadata": {
    "collapsed": false,
    "execution": {
     "iopub.execute_input": "2020-09-18T05:18:37.278566Z",
     "iopub.status.busy": "2020-09-18T05:18:37.277979Z",
     "iopub.status.idle": "2020-09-18T05:18:37.286835Z",
     "shell.execute_reply": "2020-09-18T05:18:37.286334Z"
    },
    "papermill": {
     "duration": 0.041708,
     "end_time": "2020-09-18T05:18:37.286966",
     "exception": false,
     "start_time": "2020-09-18T05:18:37.245258",
     "status": "completed"
    },
    "pycharm": {
     "name": "#%%\n"
    },
    "tags": []
   },
   "outputs": [
    {
     "data": {
      "text/html": [
       "<div>\n",
       "<style scoped>\n",
       "    .dataframe tbody tr th:only-of-type {\n",
       "        vertical-align: middle;\n",
       "    }\n",
       "\n",
       "    .dataframe tbody tr th {\n",
       "        vertical-align: top;\n",
       "    }\n",
       "\n",
       "    .dataframe thead th {\n",
       "        text-align: right;\n",
       "    }\n",
       "</style>\n",
       "<table border=\"1\" class=\"dataframe\">\n",
       "  <thead>\n",
       "    <tr style=\"text-align: right;\">\n",
       "      <th></th>\n",
       "      <th>sample_date_string</th>\n",
       "      <th>cumulative_cases</th>\n",
       "      <th>new_cases</th>\n",
       "      <th>rolling_mean_new_cases</th>\n",
       "    </tr>\n",
       "  </thead>\n",
       "  <tbody>\n",
       "    <tr>\n",
       "      <th>234</th>\n",
       "      <td>2020-09-13</td>\n",
       "      <td>1132652.0</td>\n",
       "      <td>0.0</td>\n",
       "      <td>19239.142857</td>\n",
       "    </tr>\n",
       "    <tr>\n",
       "      <th>235</th>\n",
       "      <td>2020-09-14</td>\n",
       "      <td>1187460.0</td>\n",
       "      <td>54808.0</td>\n",
       "      <td>19480.285714</td>\n",
       "    </tr>\n",
       "    <tr>\n",
       "      <th>236</th>\n",
       "      <td>2020-09-15</td>\n",
       "      <td>1206334.0</td>\n",
       "      <td>18874.0</td>\n",
       "      <td>19615.428571</td>\n",
       "    </tr>\n",
       "    <tr>\n",
       "      <th>237</th>\n",
       "      <td>2020-09-16</td>\n",
       "      <td>1228720.0</td>\n",
       "      <td>22386.0</td>\n",
       "      <td>20280.285714</td>\n",
       "    </tr>\n",
       "    <tr>\n",
       "      <th>238</th>\n",
       "      <td>2020-09-17</td>\n",
       "      <td>1251302.0</td>\n",
       "      <td>22582.0</td>\n",
       "      <td>20430.857143</td>\n",
       "    </tr>\n",
       "  </tbody>\n",
       "</table>\n",
       "</div>"
      ],
      "text/plain": [
       "    sample_date_string  cumulative_cases  new_cases  rolling_mean_new_cases\n",
       "234         2020-09-13         1132652.0        0.0            19239.142857\n",
       "235         2020-09-14         1187460.0    54808.0            19480.285714\n",
       "236         2020-09-15         1206334.0    18874.0            19615.428571\n",
       "237         2020-09-16         1228720.0    22386.0            20280.285714\n",
       "238         2020-09-17         1251302.0    22582.0            20430.857143"
      ]
     },
     "execution_count": 5,
     "metadata": {},
     "output_type": "execute_result"
    }
   ],
   "source": [
    "confirmed_df.reset_index(inplace=True)\n",
    "confirmed_df.columns = [\"sample_date_string\", \"cumulative_cases\"]\n",
    "confirmed_df.sort_values(\"sample_date_string\", inplace=True)\n",
    "confirmed_df[\"new_cases\"] = confirmed_df.cumulative_cases.diff()\n",
    "confirmed_df[\"rolling_mean_new_cases\"] = confirmed_df.new_cases.rolling(7).mean()\n",
    "confirmed_df.tail()"
   ]
  },
  {
   "cell_type": "code",
   "execution_count": 6,
   "metadata": {
    "execution": {
     "iopub.execute_input": "2020-09-18T05:18:37.343885Z",
     "iopub.status.busy": "2020-09-18T05:18:37.343291Z",
     "iopub.status.idle": "2020-09-18T05:18:37.354498Z",
     "shell.execute_reply": "2020-09-18T05:18:37.354974Z"
    },
    "papermill": {
     "duration": 0.04452,
     "end_time": "2020-09-18T05:18:37.355139",
     "exception": false,
     "start_time": "2020-09-18T05:18:37.310619",
     "status": "completed"
    },
    "pycharm": {
     "name": "#%%\n"
    },
    "tags": []
   },
   "outputs": [
    {
     "data": {
      "text/html": [
       "<div>\n",
       "<style scoped>\n",
       "    .dataframe tbody tr th:only-of-type {\n",
       "        vertical-align: middle;\n",
       "    }\n",
       "\n",
       "    .dataframe tbody tr th {\n",
       "        vertical-align: top;\n",
       "    }\n",
       "\n",
       "    .dataframe thead th {\n",
       "        text-align: right;\n",
       "    }\n",
       "</style>\n",
       "<table border=\"1\" class=\"dataframe\">\n",
       "  <thead>\n",
       "    <tr style=\"text-align: right;\">\n",
       "      <th></th>\n",
       "      <th>sample_date_string</th>\n",
       "      <th>cumulative_cases</th>\n",
       "      <th>new_cases</th>\n",
       "      <th>rolling_mean_new_cases</th>\n",
       "    </tr>\n",
       "  </thead>\n",
       "  <tbody>\n",
       "    <tr>\n",
       "      <th>235</th>\n",
       "      <td>2020-09-14</td>\n",
       "      <td>1.187460e+06</td>\n",
       "      <td>54808.000000</td>\n",
       "      <td>19480.285714</td>\n",
       "    </tr>\n",
       "    <tr>\n",
       "      <th>236</th>\n",
       "      <td>2020-09-15</td>\n",
       "      <td>1.206334e+06</td>\n",
       "      <td>18874.000000</td>\n",
       "      <td>19615.428571</td>\n",
       "    </tr>\n",
       "    <tr>\n",
       "      <th>237</th>\n",
       "      <td>2020-09-16</td>\n",
       "      <td>1.228720e+06</td>\n",
       "      <td>22386.000000</td>\n",
       "      <td>20280.285714</td>\n",
       "    </tr>\n",
       "    <tr>\n",
       "      <th>238</th>\n",
       "      <td>2020-09-17</td>\n",
       "      <td>1.251302e+06</td>\n",
       "      <td>22582.000000</td>\n",
       "      <td>20430.857143</td>\n",
       "    </tr>\n",
       "    <tr>\n",
       "      <th>238</th>\n",
       "      <td>2020-09-18</td>\n",
       "      <td>1.271733e+06</td>\n",
       "      <td>20430.857143</td>\n",
       "      <td>20430.857143</td>\n",
       "    </tr>\n",
       "  </tbody>\n",
       "</table>\n",
       "</div>"
      ],
      "text/plain": [
       "    sample_date_string  cumulative_cases     new_cases  rolling_mean_new_cases\n",
       "235         2020-09-14      1.187460e+06  54808.000000            19480.285714\n",
       "236         2020-09-15      1.206334e+06  18874.000000            19615.428571\n",
       "237         2020-09-16      1.228720e+06  22386.000000            20280.285714\n",
       "238         2020-09-17      1.251302e+06  22582.000000            20430.857143\n",
       "238         2020-09-18      1.271733e+06  20430.857143            20430.857143"
      ]
     },
     "execution_count": 6,
     "metadata": {},
     "output_type": "execute_result"
    }
   ],
   "source": [
    "extraction_date_confirmed_df = \\\n",
    "    confirmed_df[confirmed_df.sample_date_string == extraction_date]\n",
    "extraction_previous_date_confirmed_df = \\\n",
    "    confirmed_df[confirmed_df.sample_date_string == extraction_previous_date].copy()\n",
    "\n",
    "if extraction_date_confirmed_df.empty and \\\n",
    "    not extraction_previous_date_confirmed_df.empty:\n",
    "        extraction_previous_date_confirmed_df[\"sample_date_string\"] = extraction_date\n",
    "        extraction_previous_date_confirmed_df[\"new_cases\"] = \\\n",
    "            extraction_previous_date_confirmed_df.rolling_mean_new_cases\n",
    "        extraction_previous_date_confirmed_df[\"cumulative_cases\"] = \\\n",
    "            extraction_previous_date_confirmed_df.new_cases + \\\n",
    "            extraction_previous_date_confirmed_df.cumulative_cases\n",
    "        confirmed_df = confirmed_df.append(extraction_previous_date_confirmed_df)\n",
    "        \n",
    "confirmed_df.tail()"
   ]
  },
  {
   "cell_type": "code",
   "execution_count": 7,
   "metadata": {
    "execution": {
     "iopub.execute_input": "2020-09-18T05:18:37.413202Z",
     "iopub.status.busy": "2020-09-18T05:18:37.412557Z",
     "iopub.status.idle": "2020-09-18T05:18:37.607904Z",
     "shell.execute_reply": "2020-09-18T05:18:37.608451Z"
    },
    "papermill": {
     "duration": 0.229243,
     "end_time": "2020-09-18T05:18:37.608614",
     "exception": false,
     "start_time": "2020-09-18T05:18:37.379371",
     "status": "completed"
    },
    "pycharm": {
     "name": "#%%\n"
    },
    "tags": []
   },
   "outputs": [
    {
     "data": {
      "text/plain": [
       "<matplotlib.axes._subplots.AxesSubplot at 0x7f2528b3e580>"
      ]
     },
     "execution_count": 7,
     "metadata": {},
     "output_type": "execute_result"
    },
    {
     "data": {
      "image/png": "[encoded data removed]",
      "text/plain": [
       "<Figure size 1080x432 with 1 Axes>"
      ]
     },
     "metadata": {},
     "output_type": "display_data"
    }
   ],
   "source": [
    "confirmed_df[[\"new_cases\", \"rolling_mean_new_cases\"]].plot()"
   ]
  },
  {
   "cell_type": "markdown",
   "metadata": {
    "execution": {
     "iopub.execute_input": "2020-08-30T22:30:16.351238Z",
     "iopub.status.busy": "2020-08-30T22:30:16.344579Z",
     "iopub.status.idle": "2020-08-30T22:30:16.354285Z",
     "shell.execute_reply": "2020-08-30T22:30:16.353641Z"
    },
    "papermill": {
     "duration": 0.026195,
     "end_time": "2020-09-18T05:18:37.661358",
     "exception": false,
     "start_time": "2020-09-18T05:18:37.635163",
     "status": "completed"
    },
    "pycharm": {
     "name": "#%% md\n"
    },
    "tags": []
   },
   "source": [
    "### Extract API TEKs"
   ]
  },
  {
   "cell_type": "code",
   "execution_count": 8,
   "metadata": {
    "execution": {
     "iopub.execute_input": "2020-09-18T05:18:37.719033Z",
     "iopub.status.busy": "2020-09-18T05:18:37.718480Z",
     "iopub.status.idle": "2020-09-18T05:18:38.522456Z",
     "shell.execute_reply": "2020-09-18T05:18:38.522905Z"
    },
    "papermill": {
     "duration": 0.835781,
     "end_time": "2020-09-18T05:18:38.523070",
     "exception": false,
     "start_time": "2020-09-18T05:18:37.687289",
     "status": "completed"
    },
    "pycharm": {
     "name": "#%%\n"
    },
    "tags": []
   },
   "outputs": [
    {
     "name": "stderr",
     "output_type": "stream",
     "text": [
      "WARNING:root:NoDataFoundForDateException(\"No exposed tokens found for day '2020-09-18'.\")\n"
     ]
    },
    {
     "data": {
      "text/html": [
       "<div>\n",
       "<style scoped>\n",
       "    .dataframe tbody tr th:only-of-type {\n",
       "        vertical-align: middle;\n",
       "    }\n",
       "\n",
       "    .dataframe tbody tr th {\n",
       "        vertical-align: top;\n",
       "    }\n",
       "\n",
       "    .dataframe thead th {\n",
       "        text-align: right;\n",
       "    }\n",
       "</style>\n",
       "<table border=\"1\" class=\"dataframe\">\n",
       "  <thead>\n",
       "    <tr style=\"text-align: right;\">\n",
       "      <th></th>\n",
       "      <th>sample_date_string</th>\n",
       "      <th>source_url</th>\n",
       "      <th>region</th>\n",
       "      <th>key_data</th>\n",
       "    </tr>\n",
       "  </thead>\n",
       "  <tbody>\n",
       "    <tr>\n",
       "      <th>0</th>\n",
       "      <td>2020-09-17</td>\n",
       "      <td>https://radarcovid.covid19.gob.es/dp3t/v1/gaen...</td>\n",
       "      <td>ES</td>\n",
       "      <td>1e5d21f9-60f8-8cb2-d697-86c733e826ea</td>\n",
       "    </tr>\n",
       "    <tr>\n",
       "      <th>1</th>\n",
       "      <td>2020-09-17</td>\n",
       "      <td>https://radarcovid.covid19.gob.es/dp3t/v1/gaen...</td>\n",
       "      <td>ES</td>\n",
       "      <td>07e2fca2-db17-252d-17bf-f36b8aa085b0</td>\n",
       "    </tr>\n",
       "    <tr>\n",
       "      <th>2</th>\n",
       "      <td>2020-09-17</td>\n",
       "      <td>https://radarcovid.covid19.gob.es/dp3t/v1/gaen...</td>\n",
       "      <td>ES</td>\n",
       "      <td>03ceb491-55f4-41b5-6f66-c47bd13c01a2</td>\n",
       "    </tr>\n",
       "    <tr>\n",
       "      <th>3</th>\n",
       "      <td>2020-09-17</td>\n",
       "      <td>https://radarcovid.covid19.gob.es/dp3t/v1/gaen...</td>\n",
       "      <td>ES</td>\n",
       "      <td>3c665916-025e-96a2-f7a8-3de08f6b53b3</td>\n",
       "    </tr>\n",
       "    <tr>\n",
       "      <th>4</th>\n",
       "      <td>2020-09-17</td>\n",
       "      <td>https://radarcovid.covid19.gob.es/dp3t/v1/gaen...</td>\n",
       "      <td>ES</td>\n",
       "      <td>4efc9e86-9715-003e-29ba-7837af278db6</td>\n",
       "    </tr>\n",
       "  </tbody>\n",
       "</table>\n",
       "</div>"
      ],
      "text/plain": [
       "  sample_date_string                                         source_url  \\\n",
       "0         2020-09-17  https://radarcovid.covid19.gob.es/dp3t/v1/gaen...   \n",
       "1         2020-09-17  https://radarcovid.covid19.gob.es/dp3t/v1/gaen...   \n",
       "2         2020-09-17  https://radarcovid.covid19.gob.es/dp3t/v1/gaen...   \n",
       "3         2020-09-17  https://radarcovid.covid19.gob.es/dp3t/v1/gaen...   \n",
       "4         2020-09-17  https://radarcovid.covid19.gob.es/dp3t/v1/gaen...   \n",
       "\n",
       "  region                              key_data  \n",
       "0     ES  1e5d21f9-60f8-8cb2-d697-86c733e826ea  \n",
       "1     ES  07e2fca2-db17-252d-17bf-f36b8aa085b0  \n",
       "2     ES  03ceb491-55f4-41b5-6f66-c47bd13c01a2  \n",
       "3     ES  3c665916-025e-96a2-f7a8-3de08f6b53b3  \n",
       "4     ES  4efc9e86-9715-003e-29ba-7837af278db6  "
      ]
     },
     "execution_count": 8,
     "metadata": {},
     "output_type": "execute_result"
    }
   ],
   "source": [
    "from Modules.RadarCOVID import radar_covid\n",
    "\n",
    "exposure_keys_df = radar_covid.download_last_radar_covid_exposure_keys(days=14)\n",
    "exposure_keys_df[[\n",
    "    \"sample_date_string\", \"source_url\", \"region\", \"key_data\"]].head()"
   ]
  },
  {
   "cell_type": "code",
   "execution_count": 9,
   "metadata": {
    "execution": {
     "iopub.execute_input": "2020-09-18T05:18:38.587290Z",
     "iopub.status.busy": "2020-09-18T05:18:38.586691Z",
     "iopub.status.idle": "2020-09-18T05:18:38.595868Z",
     "shell.execute_reply": "2020-09-18T05:18:38.595395Z"
    },
    "papermill": {
     "duration": 0.045637,
     "end_time": "2020-09-18T05:18:38.596008",
     "exception": false,
     "start_time": "2020-09-18T05:18:38.550371",
     "status": "completed"
    },
    "scrolled": false,
    "tags": []
   },
   "outputs": [
    {
     "data": {
      "text/html": [
       "<div>\n",
       "<style scoped>\n",
       "    .dataframe tbody tr th:only-of-type {\n",
       "        vertical-align: middle;\n",
       "    }\n",
       "\n",
       "    .dataframe tbody tr th {\n",
       "        vertical-align: top;\n",
       "    }\n",
       "\n",
       "    .dataframe thead th {\n",
       "        text-align: right;\n",
       "    }\n",
       "</style>\n",
       "<table border=\"1\" class=\"dataframe\">\n",
       "  <thead>\n",
       "    <tr style=\"text-align: right;\">\n",
       "      <th></th>\n",
       "      <th>tek_count</th>\n",
       "    </tr>\n",
       "    <tr>\n",
       "      <th>sample_date_string</th>\n",
       "      <th></th>\n",
       "    </tr>\n",
       "  </thead>\n",
       "  <tbody>\n",
       "    <tr>\n",
       "      <th>2020-09-17</th>\n",
       "      <td>18</td>\n",
       "    </tr>\n",
       "    <tr>\n",
       "      <th>2020-09-16</th>\n",
       "      <td>29</td>\n",
       "    </tr>\n",
       "    <tr>\n",
       "      <th>2020-09-15</th>\n",
       "      <td>33</td>\n",
       "    </tr>\n",
       "    <tr>\n",
       "      <th>2020-09-14</th>\n",
       "      <td>42</td>\n",
       "    </tr>\n",
       "    <tr>\n",
       "      <th>2020-09-13</th>\n",
       "      <td>56</td>\n",
       "    </tr>\n",
       "  </tbody>\n",
       "</table>\n",
       "</div>"
      ],
      "text/plain": [
       "                    tek_count\n",
       "sample_date_string           \n",
       "2020-09-17                 18\n",
       "2020-09-16                 29\n",
       "2020-09-15                 33\n",
       "2020-09-14                 42\n",
       "2020-09-13                 56"
      ]
     },
     "execution_count": 9,
     "metadata": {},
     "output_type": "execute_result"
    }
   ],
   "source": [
    "exposure_keys_summary_df = \\\n",
    "    exposure_keys_df.groupby([\"sample_date_string\"]).key_data.nunique().to_frame()\n",
    "exposure_keys_summary_df.sort_index(ascending=False, inplace=True)\n",
    "exposure_keys_summary_df.rename(columns={\"key_data\": \"tek_count\"}, inplace=True)\n",
    "exposure_keys_summary_df.head()"
   ]
  },
  {
   "cell_type": "markdown",
   "metadata": {
    "papermill": {
     "duration": 0.027514,
     "end_time": "2020-09-18T05:18:38.651492",
     "exception": false,
     "start_time": "2020-09-18T05:18:38.623978",
     "status": "completed"
    },
    "tags": []
   },
   "source": [
    "### Dump API TEKs"
   ]
  },
  {
   "cell_type": "code",
   "execution_count": 10,
   "metadata": {
    "execution": {
     "iopub.execute_input": "2020-09-18T05:18:38.720289Z",
     "iopub.status.busy": "2020-09-18T05:18:38.719588Z",
     "iopub.status.idle": "2020-09-18T05:18:38.743461Z",
     "shell.execute_reply": "2020-09-18T05:18:38.742796Z"
    },
    "papermill": {
     "duration": 0.063802,
     "end_time": "2020-09-18T05:18:38.743616",
     "exception": false,
     "start_time": "2020-09-18T05:18:38.679814",
     "status": "completed"
    },
    "tags": []
   },
   "outputs": [
    {
     "data": {
      "text/html": [
       "<div>\n",
       "<style scoped>\n",
       "    .dataframe tbody tr th:only-of-type {\n",
       "        vertical-align: middle;\n",
       "    }\n",
       "\n",
       "    .dataframe tbody tr th {\n",
       "        vertical-align: top;\n",
       "    }\n",
       "\n",
       "    .dataframe thead th {\n",
       "        text-align: right;\n",
       "    }\n",
       "</style>\n",
       "<table border=\"1\" class=\"dataframe\">\n",
       "  <thead>\n",
       "    <tr style=\"text-align: right;\">\n",
       "      <th></th>\n",
       "      <th>sample_date</th>\n",
       "      <th>tek_list</th>\n",
       "      <th>extraction_date</th>\n",
       "      <th>extraction_date_with_hour</th>\n",
       "    </tr>\n",
       "  </thead>\n",
       "  <tbody>\n",
       "    <tr>\n",
       "      <th>0</th>\n",
       "      <td>2020-09-05</td>\n",
       "      <td>[2630f115-d3d6-6d09-c4c3-761802f15ab9, 6634443...</td>\n",
       "      <td>2020-09-18</td>\n",
       "      <td>2020-09-18@05</td>\n",
       "    </tr>\n",
       "    <tr>\n",
       "      <th>1</th>\n",
       "      <td>2020-09-06</td>\n",
       "      <td>[385e7ed2-4285-fcfd-18e4-3197e44fc261, d484384...</td>\n",
       "      <td>2020-09-18</td>\n",
       "      <td>2020-09-18@05</td>\n",
       "    </tr>\n",
       "    <tr>\n",
       "      <th>2</th>\n",
       "      <td>2020-09-07</td>\n",
       "      <td>[4f22f269-acd0-9cbd-5082-87826578c387, 402a892...</td>\n",
       "      <td>2020-09-18</td>\n",
       "      <td>2020-09-18@05</td>\n",
       "    </tr>\n",
       "    <tr>\n",
       "      <th>3</th>\n",
       "      <td>2020-09-08</td>\n",
       "      <td>[64d2f594-3e1e-250e-b2e2-103c46f3a4a9, b8121a9...</td>\n",
       "      <td>2020-09-18</td>\n",
       "      <td>2020-09-18@05</td>\n",
       "    </tr>\n",
       "    <tr>\n",
       "      <th>4</th>\n",
       "      <td>2020-09-09</td>\n",
       "      <td>[1f0a0575-26d0-44c1-7b58-0a0193ddfa44, 03a9a6b...</td>\n",
       "      <td>2020-09-18</td>\n",
       "      <td>2020-09-18@05</td>\n",
       "    </tr>\n",
       "  </tbody>\n",
       "</table>\n",
       "</div>"
      ],
      "text/plain": [
       "  sample_date                                           tek_list  \\\n",
       "0  2020-09-05  [2630f115-d3d6-6d09-c4c3-761802f15ab9, 6634443...   \n",
       "1  2020-09-06  [385e7ed2-4285-fcfd-18e4-3197e44fc261, d484384...   \n",
       "2  2020-09-07  [4f22f269-acd0-9cbd-5082-87826578c387, 402a892...   \n",
       "3  2020-09-08  [64d2f594-3e1e-250e-b2e2-103c46f3a4a9, b8121a9...   \n",
       "4  2020-09-09  [1f0a0575-26d0-44c1-7b58-0a0193ddfa44, 03a9a6b...   \n",
       "\n",
       "  extraction_date extraction_date_with_hour  \n",
       "0      2020-09-18             2020-09-18@05  \n",
       "1      2020-09-18             2020-09-18@05  \n",
       "2      2020-09-18             2020-09-18@05  \n",
       "3      2020-09-18             2020-09-18@05  \n",
       "4      2020-09-18             2020-09-18@05  "
      ]
     },
     "execution_count": 10,
     "metadata": {},
     "output_type": "execute_result"
    }
   ],
   "source": [
    "tek_list_df = exposure_keys_df[[\"sample_date_string\", \"key_data\"]].copy()\n",
    "tek_list_df[\"key_data\"] = tek_list_df[\"key_data\"].apply(str)\n",
    "tek_list_df.rename(columns={\n",
    "    \"sample_date_string\": \"sample_date\",\n",
    "    \"key_data\": \"tek_list\"}, inplace=True)\n",
    "tek_list_df = tek_list_df.groupby(\n",
    "    \"sample_date\").tek_list.unique().reset_index()\n",
    "tek_list_df[\"extraction_date\"] = extraction_date\n",
    "tek_list_df[\"extraction_date_with_hour\"] = extraction_date_with_hour\n",
    "tek_list_df.drop(columns=[\"extraction_date\", \"extraction_date_with_hour\"]).to_json(\n",
    "    \"Data/TEKs/Current/RadarCOVID-TEKs.json\",\n",
    "    lines=True, orient=\"records\")\n",
    "tek_list_df.drop(columns=[\"extraction_date_with_hour\"]).to_json(\n",
    "    \"Data/TEKs/Daily/RadarCOVID-TEKs-\" + extraction_date + \".json\",\n",
    "    lines=True, orient=\"records\")\n",
    "tek_list_df.to_json(\n",
    "    \"Data/TEKs/Hourly/RadarCOVID-TEKs-\" + extraction_date_with_hour + \".json\",\n",
    "    lines=True, orient=\"records\")\n",
    "tek_list_df.head()"
   ]
  },
  {
   "cell_type": "markdown",
   "metadata": {
    "papermill": {
     "duration": 0.027416,
     "end_time": "2020-09-18T05:18:38.799151",
     "exception": false,
     "start_time": "2020-09-18T05:18:38.771735",
     "status": "completed"
    },
    "tags": []
   },
   "source": [
    "### Load TEK Dumps"
   ]
  },
  {
   "cell_type": "code",
   "execution_count": 11,
   "metadata": {
    "execution": {
     "iopub.execute_input": "2020-09-18T05:18:38.861261Z",
     "iopub.status.busy": "2020-09-18T05:18:38.860073Z",
     "iopub.status.idle": "2020-09-18T05:18:38.861982Z",
     "shell.execute_reply": "2020-09-18T05:18:38.863176Z"
    },
    "papermill": {
     "duration": 0.036644,
     "end_time": "2020-09-18T05:18:38.863343",
     "exception": false,
     "start_time": "2020-09-18T05:18:38.826699",
     "status": "completed"
    },
    "tags": []
   },
   "outputs": [],
   "source": [
    "import glob\n",
    "\n",
    "def load_extracted_teks(mode, limit=None) -> pd.DataFrame:\n",
    "    extracted_teks_df = pd.DataFrame()\n",
    "    paths = list(reversed(sorted(glob.glob(f\"Data/TEKs/{mode}/RadarCOVID-TEKs-*.json\"))))\n",
    "    if limit:\n",
    "        paths = paths[:limit]\n",
    "    for path in paths:\n",
    "        logging.info(f\"Loading TEKs from '{path}'...\")\n",
    "        iteration_extracted_teks_df = pd.read_json(path, lines=True)\n",
    "        extracted_teks_df = extracted_teks_df.append(\n",
    "            iteration_extracted_teks_df, sort=False)\n",
    "    return extracted_teks_df"
   ]
  },
  {
   "cell_type": "markdown",
   "metadata": {
    "execution": {
     "iopub.execute_input": "2020-08-30T22:30:16.632967Z",
     "iopub.status.busy": "2020-08-30T22:30:16.632308Z",
     "iopub.status.idle": "2020-08-30T22:30:16.634945Z",
     "shell.execute_reply": "2020-08-30T22:30:16.635575Z"
    },
    "papermill": {
     "duration": 0.028203,
     "end_time": "2020-09-18T05:18:38.928403",
     "exception": false,
     "start_time": "2020-09-18T05:18:38.900200",
     "status": "completed"
    },
    "pycharm": {
     "name": "#%% md\n"
    },
    "tags": []
   },
   "source": [
    "### Daily New TEKs"
   ]
  },
  {
   "cell_type": "code",
   "execution_count": 12,
   "metadata": {
    "execution": {
     "iopub.execute_input": "2020-09-18T05:18:38.989951Z",
     "iopub.status.busy": "2020-09-18T05:18:38.989385Z",
     "iopub.status.idle": "2020-09-18T05:18:39.061952Z",
     "shell.execute_reply": "2020-09-18T05:18:39.062423Z"
    },
    "papermill": {
     "duration": 0.105866,
     "end_time": "2020-09-18T05:18:39.062589",
     "exception": false,
     "start_time": "2020-09-18T05:18:38.956723",
     "status": "completed"
    },
    "tags": []
   },
   "outputs": [
    {
     "data": {
      "text/html": [
       "<div>\n",
       "<style scoped>\n",
       "    .dataframe tbody tr th:only-of-type {\n",
       "        vertical-align: middle;\n",
       "    }\n",
       "\n",
       "    .dataframe tbody tr th {\n",
       "        vertical-align: top;\n",
       "    }\n",
       "\n",
       "    .dataframe thead th {\n",
       "        text-align: right;\n",
       "    }\n",
       "</style>\n",
       "<table border=\"1\" class=\"dataframe\">\n",
       "  <thead>\n",
       "    <tr style=\"text-align: right;\">\n",
       "      <th></th>\n",
       "      <th>sample_date</th>\n",
       "      <th>tek_list</th>\n",
       "      <th>extraction_date</th>\n",
       "    </tr>\n",
       "  </thead>\n",
       "  <tbody>\n",
       "    <tr>\n",
       "      <th>0</th>\n",
       "      <td>2020-09-05</td>\n",
       "      <td>[2630f115-d3d6-6d09-c4c3-761802f15ab9, 6634443...</td>\n",
       "      <td>2020-09-18</td>\n",
       "    </tr>\n",
       "    <tr>\n",
       "      <th>1</th>\n",
       "      <td>2020-09-06</td>\n",
       "      <td>[385e7ed2-4285-fcfd-18e4-3197e44fc261, d484384...</td>\n",
       "      <td>2020-09-18</td>\n",
       "    </tr>\n",
       "    <tr>\n",
       "      <th>2</th>\n",
       "      <td>2020-09-07</td>\n",
       "      <td>[4f22f269-acd0-9cbd-5082-87826578c387, 402a892...</td>\n",
       "      <td>2020-09-18</td>\n",
       "    </tr>\n",
       "    <tr>\n",
       "      <th>3</th>\n",
       "      <td>2020-09-08</td>\n",
       "      <td>[64d2f594-3e1e-250e-b2e2-103c46f3a4a9, b8121a9...</td>\n",
       "      <td>2020-09-18</td>\n",
       "    </tr>\n",
       "    <tr>\n",
       "      <th>4</th>\n",
       "      <td>2020-09-09</td>\n",
       "      <td>[1f0a0575-26d0-44c1-7b58-0a0193ddfa44, 03a9a6b...</td>\n",
       "      <td>2020-09-18</td>\n",
       "    </tr>\n",
       "  </tbody>\n",
       "</table>\n",
       "</div>"
      ],
      "text/plain": [
       "  sample_date                                           tek_list  \\\n",
       "0  2020-09-05  [2630f115-d3d6-6d09-c4c3-761802f15ab9, 6634443...   \n",
       "1  2020-09-06  [385e7ed2-4285-fcfd-18e4-3197e44fc261, d484384...   \n",
       "2  2020-09-07  [4f22f269-acd0-9cbd-5082-87826578c387, 402a892...   \n",
       "3  2020-09-08  [64d2f594-3e1e-250e-b2e2-103c46f3a4a9, b8121a9...   \n",
       "4  2020-09-09  [1f0a0575-26d0-44c1-7b58-0a0193ddfa44, 03a9a6b...   \n",
       "\n",
       "  extraction_date  \n",
       "0      2020-09-18  \n",
       "1      2020-09-18  \n",
       "2      2020-09-18  \n",
       "3      2020-09-18  \n",
       "4      2020-09-18  "
      ]
     },
     "execution_count": 12,
     "metadata": {},
     "output_type": "execute_result"
    }
   ],
   "source": [
    "daily_extracted_teks_df = load_extracted_teks(mode=\"Daily\", limit=14)\n",
    "daily_extracted_teks_df.head()"
   ]
  },
  {
   "cell_type": "code",
   "execution_count": 13,
   "metadata": {
    "execution": {
     "iopub.execute_input": "2020-09-18T05:18:39.141541Z",
     "iopub.status.busy": "2020-09-18T05:18:39.140957Z",
     "iopub.status.idle": "2020-09-18T05:18:39.153368Z",
     "shell.execute_reply": "2020-09-18T05:18:39.153792Z"
    },
    "papermill": {
     "duration": 0.057647,
     "end_time": "2020-09-18T05:18:39.153962",
     "exception": false,
     "start_time": "2020-09-18T05:18:39.096315",
     "status": "completed"
    },
    "tags": []
   },
   "outputs": [
    {
     "data": {
      "text/html": [
       "<div>\n",
       "<style scoped>\n",
       "    .dataframe tbody tr th:only-of-type {\n",
       "        vertical-align: middle;\n",
       "    }\n",
       "\n",
       "    .dataframe tbody tr th {\n",
       "        vertical-align: top;\n",
       "    }\n",
       "\n",
       "    .dataframe thead th {\n",
       "        text-align: right;\n",
       "    }\n",
       "</style>\n",
       "<table border=\"1\" class=\"dataframe\">\n",
       "  <thead>\n",
       "    <tr style=\"text-align: right;\">\n",
       "      <th></th>\n",
       "      <th>tek_list</th>\n",
       "    </tr>\n",
       "    <tr>\n",
       "      <th>extraction_date</th>\n",
       "      <th></th>\n",
       "    </tr>\n",
       "  </thead>\n",
       "  <tbody>\n",
       "    <tr>\n",
       "      <th>2020-09-05</th>\n",
       "      <td>{f7a27072-245f-e4a3-b699-8875e67dda40, 278577c...</td>\n",
       "    </tr>\n",
       "    <tr>\n",
       "      <th>2020-09-06</th>\n",
       "      <td>{f7a27072-245f-e4a3-b699-8875e67dda40, 278577c...</td>\n",
       "    </tr>\n",
       "    <tr>\n",
       "      <th>2020-09-07</th>\n",
       "      <td>{f7a27072-245f-e4a3-b699-8875e67dda40, 278577c...</td>\n",
       "    </tr>\n",
       "    <tr>\n",
       "      <th>2020-09-08</th>\n",
       "      <td>{278577cd-9040-b025-31a2-90e071fa4d40, 9217c71...</td>\n",
       "    </tr>\n",
       "    <tr>\n",
       "      <th>2020-09-09</th>\n",
       "      <td>{278577cd-9040-b025-31a2-90e071fa4d40, 9217c71...</td>\n",
       "    </tr>\n",
       "  </tbody>\n",
       "</table>\n",
       "</div>"
      ],
      "text/plain": [
       "                                                          tek_list\n",
       "extraction_date                                                   \n",
       "2020-09-05       {f7a27072-245f-e4a3-b699-8875e67dda40, 278577c...\n",
       "2020-09-06       {f7a27072-245f-e4a3-b699-8875e67dda40, 278577c...\n",
       "2020-09-07       {f7a27072-245f-e4a3-b699-8875e67dda40, 278577c...\n",
       "2020-09-08       {278577cd-9040-b025-31a2-90e071fa4d40, 9217c71...\n",
       "2020-09-09       {278577cd-9040-b025-31a2-90e071fa4d40, 9217c71..."
      ]
     },
     "execution_count": 13,
     "metadata": {},
     "output_type": "execute_result"
    }
   ],
   "source": [
    "tek_list_df = daily_extracted_teks_df.groupby(\"extraction_date\").tek_list.apply(\n",
    "    lambda x: set(sum(x, []))).reset_index()\n",
    "tek_list_df = tek_list_df.set_index(\"extraction_date\").sort_index(ascending=True)\n",
    "tek_list_df.head()"
   ]
  },
  {
   "cell_type": "code",
   "execution_count": 14,
   "metadata": {
    "execution": {
     "iopub.execute_input": "2020-09-18T05:18:39.224587Z",
     "iopub.status.busy": "2020-09-18T05:18:39.223948Z",
     "iopub.status.idle": "2020-09-18T05:18:39.227282Z",
     "shell.execute_reply": "2020-09-18T05:18:39.226792Z"
    },
    "papermill": {
     "duration": 0.044929,
     "end_time": "2020-09-18T05:18:39.227414",
     "exception": false,
     "start_time": "2020-09-18T05:18:39.182485",
     "status": "completed"
    },
    "tags": []
   },
   "outputs": [
    {
     "data": {
      "text/html": [
       "<div>\n",
       "<style scoped>\n",
       "    .dataframe tbody tr th:only-of-type {\n",
       "        vertical-align: middle;\n",
       "    }\n",
       "\n",
       "    .dataframe tbody tr th {\n",
       "        vertical-align: top;\n",
       "    }\n",
       "\n",
       "    .dataframe thead th {\n",
       "        text-align: right;\n",
       "    }\n",
       "</style>\n",
       "<table border=\"1\" class=\"dataframe\">\n",
       "  <thead>\n",
       "    <tr style=\"text-align: right;\">\n",
       "      <th></th>\n",
       "      <th>sample_date_string</th>\n",
       "      <th>new_tek_count</th>\n",
       "    </tr>\n",
       "  </thead>\n",
       "  <tbody>\n",
       "    <tr>\n",
       "      <th>0</th>\n",
       "      <td>2020-09-05</td>\n",
       "      <td>NaN</td>\n",
       "    </tr>\n",
       "    <tr>\n",
       "      <th>1</th>\n",
       "      <td>2020-09-06</td>\n",
       "      <td>60.0</td>\n",
       "    </tr>\n",
       "    <tr>\n",
       "      <th>2</th>\n",
       "      <td>2020-09-07</td>\n",
       "      <td>52.0</td>\n",
       "    </tr>\n",
       "    <tr>\n",
       "      <th>3</th>\n",
       "      <td>2020-09-08</td>\n",
       "      <td>44.0</td>\n",
       "    </tr>\n",
       "    <tr>\n",
       "      <th>4</th>\n",
       "      <td>2020-09-09</td>\n",
       "      <td>67.0</td>\n",
       "    </tr>\n",
       "  </tbody>\n",
       "</table>\n",
       "</div>"
      ],
      "text/plain": [
       "  sample_date_string  new_tek_count\n",
       "0         2020-09-05            NaN\n",
       "1         2020-09-06           60.0\n",
       "2         2020-09-07           52.0\n",
       "3         2020-09-08           44.0\n",
       "4         2020-09-09           67.0"
      ]
     },
     "execution_count": 14,
     "metadata": {},
     "output_type": "execute_result"
    }
   ],
   "source": [
    "new_tek_df = tek_list_df.diff().tek_list.apply(\n",
    "    lambda x: len(x) if not pd.isna(x) else None).to_frame().reset_index()\n",
    "new_tek_df.rename(columns={\n",
    "    \"tek_list\": \"new_tek_count\",\n",
    "    \"extraction_date\": \"sample_date_string\",}, inplace=True)\n",
    "new_tek_df.head()"
   ]
  },
  {
   "cell_type": "code",
   "execution_count": 15,
   "metadata": {
    "execution": {
     "iopub.execute_input": "2020-09-18T05:18:39.319150Z",
     "iopub.status.busy": "2020-09-18T05:18:39.318554Z",
     "iopub.status.idle": "2020-09-18T05:18:39.321083Z",
     "shell.execute_reply": "2020-09-18T05:18:39.321526Z"
    },
    "papermill": {
     "duration": 0.054146,
     "end_time": "2020-09-18T05:18:39.321688",
     "exception": false,
     "start_time": "2020-09-18T05:18:39.267542",
     "status": "completed"
    },
    "pycharm": {
     "name": "#%%\n"
    },
    "tags": []
   },
   "outputs": [
    {
     "data": {
      "text/html": [
       "<div>\n",
       "<style scoped>\n",
       "    .dataframe tbody tr th:only-of-type {\n",
       "        vertical-align: middle;\n",
       "    }\n",
       "\n",
       "    .dataframe tbody tr th {\n",
       "        vertical-align: top;\n",
       "    }\n",
       "\n",
       "    .dataframe thead th {\n",
       "        text-align: right;\n",
       "    }\n",
       "</style>\n",
       "<table border=\"1\" class=\"dataframe\">\n",
       "  <thead>\n",
       "    <tr style=\"text-align: right;\">\n",
       "      <th></th>\n",
       "      <th>sample_date</th>\n",
       "      <th>tek_list</th>\n",
       "      <th>extraction_date</th>\n",
       "      <th>new_sample_extraction_date</th>\n",
       "    </tr>\n",
       "  </thead>\n",
       "  <tbody>\n",
       "    <tr>\n",
       "      <th>12</th>\n",
       "      <td>2020-09-17</td>\n",
       "      <td>[1e5d21f9-60f8-8cb2-d697-86c733e826ea, 07e2fca...</td>\n",
       "      <td>2020-09-18</td>\n",
       "      <td>2020-09-18</td>\n",
       "    </tr>\n",
       "    <tr>\n",
       "      <th>12</th>\n",
       "      <td>2020-09-16</td>\n",
       "      <td>[713a8fac-9ef2-0c13-0162-7397da9e7778, ca13a5b...</td>\n",
       "      <td>2020-09-17</td>\n",
       "      <td>2020-09-17</td>\n",
       "    </tr>\n",
       "    <tr>\n",
       "      <th>12</th>\n",
       "      <td>2020-09-15</td>\n",
       "      <td>[f6f1a72b-e029-5cc3-06ca-7817dc59b26e, 422efa3...</td>\n",
       "      <td>2020-09-16</td>\n",
       "      <td>2020-09-16</td>\n",
       "    </tr>\n",
       "    <tr>\n",
       "      <th>12</th>\n",
       "      <td>2020-09-14</td>\n",
       "      <td>[d4bfbea7-3eaf-535f-3faa-aaedf929f579, ae4ae0c...</td>\n",
       "      <td>2020-09-15</td>\n",
       "      <td>2020-09-15</td>\n",
       "    </tr>\n",
       "    <tr>\n",
       "      <th>12</th>\n",
       "      <td>2020-09-13</td>\n",
       "      <td>[505d0ee6-f270-c93c-754d-1b8a5d8a4a27, 7a3b8a8...</td>\n",
       "      <td>2020-09-14</td>\n",
       "      <td>2020-09-14</td>\n",
       "    </tr>\n",
       "  </tbody>\n",
       "</table>\n",
       "</div>"
      ],
      "text/plain": [
       "   sample_date                                           tek_list  \\\n",
       "12  2020-09-17  [1e5d21f9-60f8-8cb2-d697-86c733e826ea, 07e2fca...   \n",
       "12  2020-09-16  [713a8fac-9ef2-0c13-0162-7397da9e7778, ca13a5b...   \n",
       "12  2020-09-15  [f6f1a72b-e029-5cc3-06ca-7817dc59b26e, 422efa3...   \n",
       "12  2020-09-14  [d4bfbea7-3eaf-535f-3faa-aaedf929f579, ae4ae0c...   \n",
       "12  2020-09-13  [505d0ee6-f270-c93c-754d-1b8a5d8a4a27, 7a3b8a8...   \n",
       "\n",
       "   extraction_date new_sample_extraction_date  \n",
       "12      2020-09-18                 2020-09-18  \n",
       "12      2020-09-17                 2020-09-17  \n",
       "12      2020-09-16                 2020-09-16  \n",
       "12      2020-09-15                 2020-09-15  \n",
       "12      2020-09-14                 2020-09-14  "
      ]
     },
     "execution_count": 15,
     "metadata": {},
     "output_type": "execute_result"
    }
   ],
   "source": [
    "new_tek_devices_df = daily_extracted_teks_df.copy()\n",
    "new_tek_devices_df[\"new_sample_extraction_date\"] = \\\n",
    "    pd.to_datetime(new_tek_devices_df.sample_date) + datetime.timedelta(1)\n",
    "new_tek_devices_df[\"extraction_date\"] = pd.to_datetime(new_tek_devices_df.extraction_date)\n",
    "\n",
    "new_tek_devices_df = new_tek_devices_df[\n",
    "    new_tek_devices_df.new_sample_extraction_date == new_tek_devices_df.extraction_date]\n",
    "new_tek_devices_df.head()"
   ]
  },
  {
   "cell_type": "code",
   "execution_count": 16,
   "metadata": {
    "execution": {
     "iopub.execute_input": "2020-09-18T05:18:39.392919Z",
     "iopub.status.busy": "2020-09-18T05:18:39.392308Z",
     "iopub.status.idle": "2020-09-18T05:18:39.395836Z",
     "shell.execute_reply": "2020-09-18T05:18:39.395351Z"
    },
    "papermill": {
     "duration": 0.045147,
     "end_time": "2020-09-18T05:18:39.395966",
     "exception": false,
     "start_time": "2020-09-18T05:18:39.350819",
     "status": "completed"
    },
    "tags": []
   },
   "outputs": [
    {
     "data": {
      "text/html": [
       "<div>\n",
       "<style scoped>\n",
       "    .dataframe tbody tr th:only-of-type {\n",
       "        vertical-align: middle;\n",
       "    }\n",
       "\n",
       "    .dataframe tbody tr th {\n",
       "        vertical-align: top;\n",
       "    }\n",
       "\n",
       "    .dataframe thead th {\n",
       "        text-align: right;\n",
       "    }\n",
       "</style>\n",
       "<table border=\"1\" class=\"dataframe\">\n",
       "  <thead>\n",
       "    <tr style=\"text-align: right;\">\n",
       "      <th></th>\n",
       "      <th>sample_date_string</th>\n",
       "      <th>new_tek_devices</th>\n",
       "    </tr>\n",
       "  </thead>\n",
       "  <tbody>\n",
       "    <tr>\n",
       "      <th>0</th>\n",
       "      <td>2020-09-18</td>\n",
       "      <td>18</td>\n",
       "    </tr>\n",
       "    <tr>\n",
       "      <th>1</th>\n",
       "      <td>2020-09-17</td>\n",
       "      <td>29</td>\n",
       "    </tr>\n",
       "    <tr>\n",
       "      <th>2</th>\n",
       "      <td>2020-09-16</td>\n",
       "      <td>23</td>\n",
       "    </tr>\n",
       "    <tr>\n",
       "      <th>3</th>\n",
       "      <td>2020-09-15</td>\n",
       "      <td>23</td>\n",
       "    </tr>\n",
       "    <tr>\n",
       "      <th>4</th>\n",
       "      <td>2020-09-14</td>\n",
       "      <td>28</td>\n",
       "    </tr>\n",
       "  </tbody>\n",
       "</table>\n",
       "</div>"
      ],
      "text/plain": [
       "  sample_date_string  new_tek_devices\n",
       "0         2020-09-18               18\n",
       "1         2020-09-17               29\n",
       "2         2020-09-16               23\n",
       "3         2020-09-15               23\n",
       "4         2020-09-14               28"
      ]
     },
     "execution_count": 16,
     "metadata": {},
     "output_type": "execute_result"
    }
   ],
   "source": [
    "new_tek_devices_df.set_index(\"extraction_date\", inplace=True)\n",
    "new_tek_devices_df = new_tek_devices_df.tek_list.apply(lambda x: len(set(x))).to_frame()\n",
    "new_tek_devices_df.reset_index(inplace=True)\n",
    "new_tek_devices_df.rename(columns={\n",
    "    \"extraction_date\": \"sample_date_string\",\n",
    "    \"tek_list\": \"new_tek_devices\"}, inplace=True)\n",
    "new_tek_devices_df[\"sample_date_string\"] = new_tek_devices_df.sample_date_string.dt.strftime(\"%Y-%m-%d\")\n",
    "new_tek_devices_df.head()"
   ]
  },
  {
   "cell_type": "markdown",
   "metadata": {
    "papermill": {
     "duration": 0.029415,
     "end_time": "2020-09-18T05:18:39.454947",
     "exception": false,
     "start_time": "2020-09-18T05:18:39.425532",
     "status": "completed"
    },
    "pycharm": {
     "name": "#%% md\n"
    },
    "tags": []
   },
   "source": [
    "### Hourly New TEKs"
   ]
  },
  {
   "cell_type": "code",
   "execution_count": 17,
   "metadata": {
    "execution": {
     "iopub.execute_input": "2020-09-18T05:18:39.522964Z",
     "iopub.status.busy": "2020-09-18T05:18:39.522390Z",
     "iopub.status.idle": "2020-09-18T05:18:39.650538Z",
     "shell.execute_reply": "2020-09-18T05:18:39.650073Z"
    },
    "papermill": {
     "duration": 0.164922,
     "end_time": "2020-09-18T05:18:39.650673",
     "exception": false,
     "start_time": "2020-09-18T05:18:39.485751",
     "status": "completed"
    },
    "tags": []
   },
   "outputs": [
    {
     "data": {
      "text/html": [
       "<div>\n",
       "<style scoped>\n",
       "    .dataframe tbody tr th:only-of-type {\n",
       "        vertical-align: middle;\n",
       "    }\n",
       "\n",
       "    .dataframe tbody tr th {\n",
       "        vertical-align: top;\n",
       "    }\n",
       "\n",
       "    .dataframe thead th {\n",
       "        text-align: right;\n",
       "    }\n",
       "</style>\n",
       "<table border=\"1\" class=\"dataframe\">\n",
       "  <thead>\n",
       "    <tr style=\"text-align: right;\">\n",
       "      <th></th>\n",
       "      <th>extraction_date_with_hour</th>\n",
       "      <th>new_tek_count</th>\n",
       "    </tr>\n",
       "  </thead>\n",
       "  <tbody>\n",
       "    <tr>\n",
       "      <th>19</th>\n",
       "      <td>2020-09-18@01</td>\n",
       "      <td>1.0</td>\n",
       "    </tr>\n",
       "    <tr>\n",
       "      <th>20</th>\n",
       "      <td>2020-09-18@02</td>\n",
       "      <td>15.0</td>\n",
       "    </tr>\n",
       "    <tr>\n",
       "      <th>21</th>\n",
       "      <td>2020-09-18@03</td>\n",
       "      <td>0.0</td>\n",
       "    </tr>\n",
       "    <tr>\n",
       "      <th>22</th>\n",
       "      <td>2020-09-18@04</td>\n",
       "      <td>2.0</td>\n",
       "    </tr>\n",
       "    <tr>\n",
       "      <th>23</th>\n",
       "      <td>2020-09-18@05</td>\n",
       "      <td>0.0</td>\n",
       "    </tr>\n",
       "  </tbody>\n",
       "</table>\n",
       "</div>"
      ],
      "text/plain": [
       "   extraction_date_with_hour  new_tek_count\n",
       "19             2020-09-18@01            1.0\n",
       "20             2020-09-18@02           15.0\n",
       "21             2020-09-18@03            0.0\n",
       "22             2020-09-18@04            2.0\n",
       "23             2020-09-18@05            0.0"
      ]
     },
     "execution_count": 17,
     "metadata": {},
     "output_type": "execute_result"
    }
   ],
   "source": [
    "hourly_extracted_teks_df = load_extracted_teks(mode=\"Hourly\", limit=24)\n",
    "hourly_extracted_teks_df.head()\n",
    "\n",
    "hourly_tek_list_df = hourly_extracted_teks_df.groupby(\"extraction_date_with_hour\").tek_list.apply(\n",
    "    lambda x: set(sum(x, []))).reset_index()\n",
    "hourly_tek_list_df = hourly_tek_list_df.set_index(\"extraction_date_with_hour\").sort_index(ascending=True)\n",
    "\n",
    "hourly_new_tek_df = hourly_tek_list_df.diff().tek_list.apply(\n",
    "    lambda x: len(x) if not pd.isna(x) else None).to_frame().reset_index()\n",
    "hourly_new_tek_df.rename(columns={\n",
    "    \"tek_list\": \"new_tek_count\"}, inplace=True)\n",
    "hourly_new_tek_df.tail()"
   ]
  },
  {
   "cell_type": "code",
   "execution_count": 18,
   "metadata": {
    "execution": {
     "iopub.execute_input": "2020-09-18T05:18:39.721601Z",
     "iopub.status.busy": "2020-09-18T05:18:39.721005Z",
     "iopub.status.idle": "2020-09-18T05:18:39.740152Z",
     "shell.execute_reply": "2020-09-18T05:18:39.740611Z"
    },
    "papermill": {
     "duration": 0.060151,
     "end_time": "2020-09-18T05:18:39.740772",
     "exception": false,
     "start_time": "2020-09-18T05:18:39.680621",
     "status": "completed"
    },
    "pycharm": {
     "name": "#%%\n"
    },
    "tags": []
   },
   "outputs": [
    {
     "data": {
      "text/html": [
       "<div>\n",
       "<style scoped>\n",
       "    .dataframe tbody tr th:only-of-type {\n",
       "        vertical-align: middle;\n",
       "    }\n",
       "\n",
       "    .dataframe tbody tr th {\n",
       "        vertical-align: top;\n",
       "    }\n",
       "\n",
       "    .dataframe thead th {\n",
       "        text-align: right;\n",
       "    }\n",
       "</style>\n",
       "<table border=\"1\" class=\"dataframe\">\n",
       "  <thead>\n",
       "    <tr style=\"text-align: right;\">\n",
       "      <th></th>\n",
       "      <th>extraction_date_with_hour</th>\n",
       "      <th>new_tek_devices</th>\n",
       "    </tr>\n",
       "  </thead>\n",
       "  <tbody>\n",
       "    <tr>\n",
       "      <th>3</th>\n",
       "      <td>2020-09-18@01</td>\n",
       "      <td>1.0</td>\n",
       "    </tr>\n",
       "    <tr>\n",
       "      <th>4</th>\n",
       "      <td>2020-09-18@02</td>\n",
       "      <td>15.0</td>\n",
       "    </tr>\n",
       "    <tr>\n",
       "      <th>5</th>\n",
       "      <td>2020-09-18@03</td>\n",
       "      <td>0.0</td>\n",
       "    </tr>\n",
       "    <tr>\n",
       "      <th>6</th>\n",
       "      <td>2020-09-18@04</td>\n",
       "      <td>2.0</td>\n",
       "    </tr>\n",
       "    <tr>\n",
       "      <th>7</th>\n",
       "      <td>2020-09-18@05</td>\n",
       "      <td>0.0</td>\n",
       "    </tr>\n",
       "  </tbody>\n",
       "</table>\n",
       "</div>"
      ],
      "text/plain": [
       "  extraction_date_with_hour  new_tek_devices\n",
       "3             2020-09-18@01              1.0\n",
       "4             2020-09-18@02             15.0\n",
       "5             2020-09-18@03              0.0\n",
       "6             2020-09-18@04              2.0\n",
       "7             2020-09-18@05              0.0"
      ]
     },
     "execution_count": 18,
     "metadata": {},
     "output_type": "execute_result"
    }
   ],
   "source": [
    "hourly_new_tek_devices_df = hourly_extracted_teks_df.copy()\n",
    "hourly_new_tek_devices_df[\"new_sample_extraction_date\"] = \\\n",
    "    pd.to_datetime(hourly_new_tek_devices_df.sample_date) + datetime.timedelta(1)\n",
    "hourly_new_tek_devices_df[\"extraction_date\"] = pd.to_datetime(hourly_new_tek_devices_df.extraction_date)\n",
    "\n",
    "hourly_new_tek_devices_df = hourly_new_tek_devices_df[\n",
    "    hourly_new_tek_devices_df.new_sample_extraction_date == hourly_new_tek_devices_df.extraction_date]\n",
    "\n",
    "hourly_new_tek_devices_df.set_index(\"extraction_date_with_hour\", inplace=True)\n",
    "hourly_new_tek_devices_df_ = pd.DataFrame()\n",
    "\n",
    "for i, chunk_df in hourly_new_tek_devices_df.groupby(\"extraction_date\"):\n",
    "    chunk_df = chunk_df.copy()\n",
    "    chunk_df.sort_index(inplace=True)\n",
    "    chunk_tek_count_df = chunk_df.tek_list.apply(lambda x: len(set(x)))\n",
    "    chunk_df = chunk_tek_count_df.diff().fillna(chunk_tek_count_df).to_frame()\n",
    "    hourly_new_tek_devices_df_ = hourly_new_tek_devices_df_.append(chunk_df)\n",
    "    \n",
    "hourly_new_tek_devices_df = hourly_new_tek_devices_df_\n",
    "hourly_new_tek_devices_df.reset_index(inplace=True)\n",
    "hourly_new_tek_devices_df.rename(columns={\n",
    "    \"tek_list\": \"new_tek_devices\"}, inplace=True)\n",
    "hourly_new_tek_devices_df.tail()"
   ]
  },
  {
   "cell_type": "code",
   "execution_count": 19,
   "metadata": {
    "execution": {
     "iopub.execute_input": "2020-09-18T05:18:39.817945Z",
     "iopub.status.busy": "2020-09-18T05:18:39.817363Z",
     "iopub.status.idle": "2020-09-18T05:18:39.820337Z",
     "shell.execute_reply": "2020-09-18T05:18:39.820791Z"
    },
    "papermill": {
     "duration": 0.050137,
     "end_time": "2020-09-18T05:18:39.820953",
     "exception": false,
     "start_time": "2020-09-18T05:18:39.770816",
     "status": "completed"
    },
    "tags": []
   },
   "outputs": [
    {
     "data": {
      "text/html": [
       "<div>\n",
       "<style scoped>\n",
       "    .dataframe tbody tr th:only-of-type {\n",
       "        vertical-align: middle;\n",
       "    }\n",
       "\n",
       "    .dataframe tbody tr th {\n",
       "        vertical-align: top;\n",
       "    }\n",
       "\n",
       "    .dataframe thead th {\n",
       "        text-align: right;\n",
       "    }\n",
       "</style>\n",
       "<table border=\"1\" class=\"dataframe\">\n",
       "  <thead>\n",
       "    <tr style=\"text-align: right;\">\n",
       "      <th></th>\n",
       "      <th>extraction_date_with_hour</th>\n",
       "      <th>new_tek_count</th>\n",
       "      <th>new_tek_devices</th>\n",
       "    </tr>\n",
       "    <tr>\n",
       "      <th>datetime_utc</th>\n",
       "      <th></th>\n",
       "      <th></th>\n",
       "      <th></th>\n",
       "    </tr>\n",
       "  </thead>\n",
       "  <tbody>\n",
       "    <tr>\n",
       "      <th>2020-09-18 01:00:00</th>\n",
       "      <td>2020-09-18@01</td>\n",
       "      <td>1.0</td>\n",
       "      <td>1.0</td>\n",
       "    </tr>\n",
       "    <tr>\n",
       "      <th>2020-09-18 02:00:00</th>\n",
       "      <td>2020-09-18@02</td>\n",
       "      <td>15.0</td>\n",
       "      <td>15.0</td>\n",
       "    </tr>\n",
       "    <tr>\n",
       "      <th>2020-09-18 03:00:00</th>\n",
       "      <td>2020-09-18@03</td>\n",
       "      <td>0.0</td>\n",
       "      <td>0.0</td>\n",
       "    </tr>\n",
       "    <tr>\n",
       "      <th>2020-09-18 04:00:00</th>\n",
       "      <td>2020-09-18@04</td>\n",
       "      <td>2.0</td>\n",
       "      <td>2.0</td>\n",
       "    </tr>\n",
       "    <tr>\n",
       "      <th>2020-09-18 05:00:00</th>\n",
       "      <td>2020-09-18@05</td>\n",
       "      <td>0.0</td>\n",
       "      <td>0.0</td>\n",
       "    </tr>\n",
       "  </tbody>\n",
       "</table>\n",
       "</div>"
      ],
      "text/plain": [
       "                    extraction_date_with_hour  new_tek_count  new_tek_devices\n",
       "datetime_utc                                                                 \n",
       "2020-09-18 01:00:00             2020-09-18@01            1.0              1.0\n",
       "2020-09-18 02:00:00             2020-09-18@02           15.0             15.0\n",
       "2020-09-18 03:00:00             2020-09-18@03            0.0              0.0\n",
       "2020-09-18 04:00:00             2020-09-18@04            2.0              2.0\n",
       "2020-09-18 05:00:00             2020-09-18@05            0.0              0.0"
      ]
     },
     "execution_count": 19,
     "metadata": {},
     "output_type": "execute_result"
    }
   ],
   "source": [
    "hourly_summary_df = hourly_new_tek_df.merge(\n",
    "    hourly_new_tek_devices_df, on=[\"extraction_date_with_hour\"], how=\"outer\")\n",
    "hourly_summary_df[\"datetime_utc\"] = pd.to_datetime(\n",
    "    hourly_summary_df.extraction_date_with_hour, format=\"%Y-%m-%d@%H\")\n",
    "hourly_summary_df.set_index(\"datetime_utc\", inplace=True)\n",
    "hourly_summary_df.tail()"
   ]
  },
  {
   "cell_type": "markdown",
   "metadata": {
    "execution": {
     "iopub.execute_input": "2020-08-30T22:30:16.982353Z",
     "iopub.status.busy": "2020-08-30T22:30:16.981676Z",
     "iopub.status.idle": "2020-08-30T22:30:16.984837Z",
     "shell.execute_reply": "2020-08-30T22:30:16.985366Z"
    },
    "papermill": {
     "duration": 0.030534,
     "end_time": "2020-09-18T05:18:39.881990",
     "exception": false,
     "start_time": "2020-09-18T05:18:39.851456",
     "status": "completed"
    },
    "pycharm": {
     "name": "#%% md\n"
    },
    "tags": []
   },
   "source": [
    "### Data Merge"
   ]
  },
  {
   "cell_type": "code",
   "execution_count": 20,
   "metadata": {
    "execution": {
     "iopub.execute_input": "2020-09-18T05:18:39.957876Z",
     "iopub.status.busy": "2020-09-18T05:18:39.957284Z",
     "iopub.status.idle": "2020-09-18T05:18:39.960031Z",
     "shell.execute_reply": "2020-09-18T05:18:39.960468Z"
    },
    "papermill": {
     "duration": 0.047851,
     "end_time": "2020-09-18T05:18:39.960637",
     "exception": false,
     "start_time": "2020-09-18T05:18:39.912786",
     "status": "completed"
    },
    "pycharm": {
     "name": "#%%\n"
    },
    "tags": []
   },
   "outputs": [
    {
     "data": {
      "text/html": [
       "<div>\n",
       "<style scoped>\n",
       "    .dataframe tbody tr th:only-of-type {\n",
       "        vertical-align: middle;\n",
       "    }\n",
       "\n",
       "    .dataframe tbody tr th {\n",
       "        vertical-align: top;\n",
       "    }\n",
       "\n",
       "    .dataframe thead th {\n",
       "        text-align: right;\n",
       "    }\n",
       "</style>\n",
       "<table border=\"1\" class=\"dataframe\">\n",
       "  <thead>\n",
       "    <tr style=\"text-align: right;\">\n",
       "      <th></th>\n",
       "      <th>sample_date_string</th>\n",
       "      <th>tek_count</th>\n",
       "      <th>new_tek_count</th>\n",
       "    </tr>\n",
       "  </thead>\n",
       "  <tbody>\n",
       "    <tr>\n",
       "      <th>0</th>\n",
       "      <td>2020-09-17</td>\n",
       "      <td>18.0</td>\n",
       "      <td>63.0</td>\n",
       "    </tr>\n",
       "    <tr>\n",
       "      <th>1</th>\n",
       "      <td>2020-09-16</td>\n",
       "      <td>29.0</td>\n",
       "      <td>62.0</td>\n",
       "    </tr>\n",
       "    <tr>\n",
       "      <th>2</th>\n",
       "      <td>2020-09-15</td>\n",
       "      <td>33.0</td>\n",
       "      <td>58.0</td>\n",
       "    </tr>\n",
       "    <tr>\n",
       "      <th>3</th>\n",
       "      <td>2020-09-14</td>\n",
       "      <td>42.0</td>\n",
       "      <td>61.0</td>\n",
       "    </tr>\n",
       "    <tr>\n",
       "      <th>4</th>\n",
       "      <td>2020-09-13</td>\n",
       "      <td>56.0</td>\n",
       "      <td>92.0</td>\n",
       "    </tr>\n",
       "  </tbody>\n",
       "</table>\n",
       "</div>"
      ],
      "text/plain": [
       "  sample_date_string  tek_count  new_tek_count\n",
       "0         2020-09-17       18.0           63.0\n",
       "1         2020-09-16       29.0           62.0\n",
       "2         2020-09-15       33.0           58.0\n",
       "3         2020-09-14       42.0           61.0\n",
       "4         2020-09-13       56.0           92.0"
      ]
     },
     "execution_count": 20,
     "metadata": {},
     "output_type": "execute_result"
    }
   ],
   "source": [
    "result_summary_df = exposure_keys_summary_df.merge(new_tek_df, on=[\"sample_date_string\"], how=\"outer\")\n",
    "result_summary_df.head()"
   ]
  },
  {
   "cell_type": "code",
   "execution_count": 21,
   "metadata": {
    "execution": {
     "iopub.execute_input": "2020-09-18T05:18:40.036535Z",
     "iopub.status.busy": "2020-09-18T05:18:40.035931Z",
     "iopub.status.idle": "2020-09-18T05:18:40.038553Z",
     "shell.execute_reply": "2020-09-18T05:18:40.038968Z"
    },
    "papermill": {
     "duration": 0.047343,
     "end_time": "2020-09-18T05:18:40.039129",
     "exception": false,
     "start_time": "2020-09-18T05:18:39.991786",
     "status": "completed"
    },
    "tags": []
   },
   "outputs": [
    {
     "data": {
      "text/html": [
       "<div>\n",
       "<style scoped>\n",
       "    .dataframe tbody tr th:only-of-type {\n",
       "        vertical-align: middle;\n",
       "    }\n",
       "\n",
       "    .dataframe tbody tr th {\n",
       "        vertical-align: top;\n",
       "    }\n",
       "\n",
       "    .dataframe thead th {\n",
       "        text-align: right;\n",
       "    }\n",
       "</style>\n",
       "<table border=\"1\" class=\"dataframe\">\n",
       "  <thead>\n",
       "    <tr style=\"text-align: right;\">\n",
       "      <th></th>\n",
       "      <th>sample_date_string</th>\n",
       "      <th>tek_count</th>\n",
       "      <th>new_tek_count</th>\n",
       "      <th>new_tek_devices</th>\n",
       "    </tr>\n",
       "  </thead>\n",
       "  <tbody>\n",
       "    <tr>\n",
       "      <th>0</th>\n",
       "      <td>2020-09-17</td>\n",
       "      <td>18.0</td>\n",
       "      <td>63.0</td>\n",
       "      <td>29</td>\n",
       "    </tr>\n",
       "    <tr>\n",
       "      <th>1</th>\n",
       "      <td>2020-09-16</td>\n",
       "      <td>29.0</td>\n",
       "      <td>62.0</td>\n",
       "      <td>23</td>\n",
       "    </tr>\n",
       "    <tr>\n",
       "      <th>2</th>\n",
       "      <td>2020-09-15</td>\n",
       "      <td>33.0</td>\n",
       "      <td>58.0</td>\n",
       "      <td>23</td>\n",
       "    </tr>\n",
       "    <tr>\n",
       "      <th>3</th>\n",
       "      <td>2020-09-14</td>\n",
       "      <td>42.0</td>\n",
       "      <td>61.0</td>\n",
       "      <td>28</td>\n",
       "    </tr>\n",
       "    <tr>\n",
       "      <th>4</th>\n",
       "      <td>2020-09-13</td>\n",
       "      <td>56.0</td>\n",
       "      <td>92.0</td>\n",
       "      <td>32</td>\n",
       "    </tr>\n",
       "  </tbody>\n",
       "</table>\n",
       "</div>"
      ],
      "text/plain": [
       "  sample_date_string  tek_count  new_tek_count  new_tek_devices\n",
       "0         2020-09-17       18.0           63.0               29\n",
       "1         2020-09-16       29.0           62.0               23\n",
       "2         2020-09-15       33.0           58.0               23\n",
       "3         2020-09-14       42.0           61.0               28\n",
       "4         2020-09-13       56.0           92.0               32"
      ]
     },
     "execution_count": 21,
     "metadata": {},
     "output_type": "execute_result"
    }
   ],
   "source": [
    "result_summary_df = result_summary_df.merge(new_tek_devices_df, on=[\"sample_date_string\"], how=\"outer\")\n",
    "result_summary_df.head()"
   ]
  },
  {
   "cell_type": "code",
   "execution_count": 22,
   "metadata": {
    "execution": {
     "iopub.execute_input": "2020-09-18T05:18:40.108981Z",
     "iopub.status.busy": "2020-09-18T05:18:40.108429Z",
     "iopub.status.idle": "2020-09-18T05:18:40.122003Z",
     "shell.execute_reply": "2020-09-18T05:18:40.121518Z"
    },
    "papermill": {
     "duration": 0.050869,
     "end_time": "2020-09-18T05:18:40.122149",
     "exception": false,
     "start_time": "2020-09-18T05:18:40.071280",
     "status": "completed"
    },
    "pycharm": {
     "name": "#%%\n"
    },
    "tags": []
   },
   "outputs": [
    {
     "data": {
      "text/html": [
       "<div>\n",
       "<style scoped>\n",
       "    .dataframe tbody tr th:only-of-type {\n",
       "        vertical-align: middle;\n",
       "    }\n",
       "\n",
       "    .dataframe tbody tr th {\n",
       "        vertical-align: top;\n",
       "    }\n",
       "\n",
       "    .dataframe thead th {\n",
       "        text-align: right;\n",
       "    }\n",
       "</style>\n",
       "<table border=\"1\" class=\"dataframe\">\n",
       "  <thead>\n",
       "    <tr style=\"text-align: right;\">\n",
       "      <th></th>\n",
       "      <th>sample_date_string</th>\n",
       "      <th>tek_count</th>\n",
       "      <th>new_tek_count</th>\n",
       "      <th>new_tek_devices</th>\n",
       "      <th>cumulative_cases</th>\n",
       "      <th>new_cases</th>\n",
       "      <th>rolling_mean_new_cases</th>\n",
       "    </tr>\n",
       "  </thead>\n",
       "  <tbody>\n",
       "    <tr>\n",
       "      <th>0</th>\n",
       "      <td>2020-09-17</td>\n",
       "      <td>18.0</td>\n",
       "      <td>63.0</td>\n",
       "      <td>29</td>\n",
       "      <td>1251302.0</td>\n",
       "      <td>22582.0</td>\n",
       "      <td>20430.857143</td>\n",
       "    </tr>\n",
       "    <tr>\n",
       "      <th>1</th>\n",
       "      <td>2020-09-16</td>\n",
       "      <td>29.0</td>\n",
       "      <td>62.0</td>\n",
       "      <td>23</td>\n",
       "      <td>1228720.0</td>\n",
       "      <td>22386.0</td>\n",
       "      <td>20280.285714</td>\n",
       "    </tr>\n",
       "    <tr>\n",
       "      <th>2</th>\n",
       "      <td>2020-09-15</td>\n",
       "      <td>33.0</td>\n",
       "      <td>58.0</td>\n",
       "      <td>23</td>\n",
       "      <td>1206334.0</td>\n",
       "      <td>18874.0</td>\n",
       "      <td>19615.428571</td>\n",
       "    </tr>\n",
       "    <tr>\n",
       "      <th>3</th>\n",
       "      <td>2020-09-14</td>\n",
       "      <td>42.0</td>\n",
       "      <td>61.0</td>\n",
       "      <td>28</td>\n",
       "      <td>1187460.0</td>\n",
       "      <td>54808.0</td>\n",
       "      <td>19480.285714</td>\n",
       "    </tr>\n",
       "    <tr>\n",
       "      <th>4</th>\n",
       "      <td>2020-09-13</td>\n",
       "      <td>56.0</td>\n",
       "      <td>92.0</td>\n",
       "      <td>32</td>\n",
       "      <td>1132652.0</td>\n",
       "      <td>0.0</td>\n",
       "      <td>19239.142857</td>\n",
       "    </tr>\n",
       "  </tbody>\n",
       "</table>\n",
       "</div>"
      ],
      "text/plain": [
       "  sample_date_string  tek_count  new_tek_count  new_tek_devices  \\\n",
       "0         2020-09-17       18.0           63.0               29   \n",
       "1         2020-09-16       29.0           62.0               23   \n",
       "2         2020-09-15       33.0           58.0               23   \n",
       "3         2020-09-14       42.0           61.0               28   \n",
       "4         2020-09-13       56.0           92.0               32   \n",
       "\n",
       "   cumulative_cases  new_cases  rolling_mean_new_cases  \n",
       "0         1251302.0    22582.0            20430.857143  \n",
       "1         1228720.0    22386.0            20280.285714  \n",
       "2         1206334.0    18874.0            19615.428571  \n",
       "3         1187460.0    54808.0            19480.285714  \n",
       "4         1132652.0        0.0            19239.142857  "
      ]
     },
     "execution_count": 22,
     "metadata": {},
     "output_type": "execute_result"
    }
   ],
   "source": [
    "result_summary_df = result_summary_df.merge(confirmed_df, on=[\"sample_date_string\"], how=\"left\")\n",
    "result_summary_df.head()"
   ]
  },
  {
   "cell_type": "code",
   "execution_count": 23,
   "metadata": {
    "execution": {
     "iopub.execute_input": "2020-09-18T05:18:40.194877Z",
     "iopub.status.busy": "2020-09-18T05:18:40.194306Z",
     "iopub.status.idle": "2020-09-18T05:18:40.208274Z",
     "shell.execute_reply": "2020-09-18T05:18:40.208746Z"
    },
    "papermill": {
     "duration": 0.054961,
     "end_time": "2020-09-18T05:18:40.208910",
     "exception": false,
     "start_time": "2020-09-18T05:18:40.153949",
     "status": "completed"
    },
    "pycharm": {
     "name": "#%%\n"
    },
    "tags": []
   },
   "outputs": [
    {
     "data": {
      "text/html": [
       "<div>\n",
       "<style scoped>\n",
       "    .dataframe tbody tr th:only-of-type {\n",
       "        vertical-align: middle;\n",
       "    }\n",
       "\n",
       "    .dataframe tbody tr th {\n",
       "        vertical-align: top;\n",
       "    }\n",
       "\n",
       "    .dataframe thead th {\n",
       "        text-align: right;\n",
       "    }\n",
       "</style>\n",
       "<table border=\"1\" class=\"dataframe\">\n",
       "  <thead>\n",
       "    <tr style=\"text-align: right;\">\n",
       "      <th></th>\n",
       "      <th>sample_date_string</th>\n",
       "      <th>tek_count</th>\n",
       "      <th>new_tek_count</th>\n",
       "      <th>new_tek_devices</th>\n",
       "      <th>cumulative_cases</th>\n",
       "      <th>new_cases</th>\n",
       "      <th>rolling_mean_new_cases</th>\n",
       "      <th>tek_count_per_new_case</th>\n",
       "      <th>new_tek_count_per_new_case</th>\n",
       "      <th>new_tek_devices_per_new_case</th>\n",
       "      <th>new_tek_count_per_new_tek_device</th>\n",
       "    </tr>\n",
       "  </thead>\n",
       "  <tbody>\n",
       "    <tr>\n",
       "      <th>0</th>\n",
       "      <td>2020-09-17</td>\n",
       "      <td>18.0</td>\n",
       "      <td>63.0</td>\n",
       "      <td>29</td>\n",
       "      <td>1251302.0</td>\n",
       "      <td>22582.0</td>\n",
       "      <td>20430.857143</td>\n",
       "      <td>0.000881</td>\n",
       "      <td>0.003084</td>\n",
       "      <td>0.001419</td>\n",
       "      <td>2.172414</td>\n",
       "    </tr>\n",
       "    <tr>\n",
       "      <th>1</th>\n",
       "      <td>2020-09-16</td>\n",
       "      <td>29.0</td>\n",
       "      <td>62.0</td>\n",
       "      <td>23</td>\n",
       "      <td>1228720.0</td>\n",
       "      <td>22386.0</td>\n",
       "      <td>20280.285714</td>\n",
       "      <td>0.001430</td>\n",
       "      <td>0.003057</td>\n",
       "      <td>0.001134</td>\n",
       "      <td>2.695652</td>\n",
       "    </tr>\n",
       "    <tr>\n",
       "      <th>2</th>\n",
       "      <td>2020-09-15</td>\n",
       "      <td>33.0</td>\n",
       "      <td>58.0</td>\n",
       "      <td>23</td>\n",
       "      <td>1206334.0</td>\n",
       "      <td>18874.0</td>\n",
       "      <td>19615.428571</td>\n",
       "      <td>0.001682</td>\n",
       "      <td>0.002957</td>\n",
       "      <td>0.001173</td>\n",
       "      <td>2.521739</td>\n",
       "    </tr>\n",
       "    <tr>\n",
       "      <th>3</th>\n",
       "      <td>2020-09-14</td>\n",
       "      <td>42.0</td>\n",
       "      <td>61.0</td>\n",
       "      <td>28</td>\n",
       "      <td>1187460.0</td>\n",
       "      <td>54808.0</td>\n",
       "      <td>19480.285714</td>\n",
       "      <td>0.002156</td>\n",
       "      <td>0.003131</td>\n",
       "      <td>0.001437</td>\n",
       "      <td>2.178571</td>\n",
       "    </tr>\n",
       "    <tr>\n",
       "      <th>4</th>\n",
       "      <td>2020-09-13</td>\n",
       "      <td>56.0</td>\n",
       "      <td>92.0</td>\n",
       "      <td>32</td>\n",
       "      <td>1132652.0</td>\n",
       "      <td>0.0</td>\n",
       "      <td>19239.142857</td>\n",
       "      <td>0.002911</td>\n",
       "      <td>0.004782</td>\n",
       "      <td>0.001663</td>\n",
       "      <td>2.875000</td>\n",
       "    </tr>\n",
       "  </tbody>\n",
       "</table>\n",
       "</div>"
      ],
      "text/plain": [
       "  sample_date_string  tek_count  new_tek_count  new_tek_devices  \\\n",
       "0         2020-09-17       18.0           63.0               29   \n",
       "1         2020-09-16       29.0           62.0               23   \n",
       "2         2020-09-15       33.0           58.0               23   \n",
       "3         2020-09-14       42.0           61.0               28   \n",
       "4         2020-09-13       56.0           92.0               32   \n",
       "\n",
       "   cumulative_cases  new_cases  rolling_mean_new_cases  \\\n",
       "0         1251302.0    22582.0            20430.857143   \n",
       "1         1228720.0    22386.0            20280.285714   \n",
       "2         1206334.0    18874.0            19615.428571   \n",
       "3         1187460.0    54808.0            19480.285714   \n",
       "4         1132652.0        0.0            19239.142857   \n",
       "\n",
       "   tek_count_per_new_case  new_tek_count_per_new_case  \\\n",
       "0                0.000881                    0.003084   \n",
       "1                0.001430                    0.003057   \n",
       "2                0.001682                    0.002957   \n",
       "3                0.002156                    0.003131   \n",
       "4                0.002911                    0.004782   \n",
       "\n",
       "   new_tek_devices_per_new_case  new_tek_count_per_new_tek_device  \n",
       "0                      0.001419                          2.172414  \n",
       "1                      0.001134                          2.695652  \n",
       "2                      0.001173                          2.521739  \n",
       "3                      0.001437                          2.178571  \n",
       "4                      0.001663                          2.875000  "
      ]
     },
     "execution_count": 23,
     "metadata": {},
     "output_type": "execute_result"
    }
   ],
   "source": [
    "result_summary_df[\"tek_count_per_new_case\"] = \\\n",
    "    result_summary_df.tek_count / result_summary_df.rolling_mean_new_cases\n",
    "result_summary_df[\"new_tek_count_per_new_case\"] = \\\n",
    "    result_summary_df.new_tek_count / result_summary_df.rolling_mean_new_cases\n",
    "result_summary_df[\"new_tek_devices_per_new_case\"] = \\\n",
    "    result_summary_df.new_tek_devices / result_summary_df.rolling_mean_new_cases\n",
    "result_summary_df[\"new_tek_count_per_new_tek_device\"] = \\\n",
    "    result_summary_df.new_tek_count / result_summary_df.new_tek_devices\n",
    "result_summary_df.head()"
   ]
  },
  {
   "cell_type": "code",
   "execution_count": 24,
   "metadata": {
    "execution": {
     "iopub.execute_input": "2020-09-18T05:18:40.280984Z",
     "iopub.status.busy": "2020-09-18T05:18:40.280402Z",
     "iopub.status.idle": "2020-09-18T05:18:40.282804Z",
     "shell.execute_reply": "2020-09-18T05:18:40.282252Z"
    },
    "papermill": {
     "duration": 0.041941,
     "end_time": "2020-09-18T05:18:40.282942",
     "exception": false,
     "start_time": "2020-09-18T05:18:40.241001",
     "status": "completed"
    },
    "pycharm": {
     "name": "#%%\n"
    },
    "tags": []
   },
   "outputs": [],
   "source": [
    "result_summary_df[\"sample_date\"] = pd.to_datetime(result_summary_df.sample_date_string)\n",
    "result_summary_df.set_index(\"sample_date\", inplace=True)\n",
    "result_summary_df = result_summary_df.sort_index(ascending=False)"
   ]
  },
  {
   "cell_type": "markdown",
   "metadata": {
    "execution": {
     "iopub.execute_input": "2020-08-30T22:30:17.313260Z",
     "iopub.status.busy": "2020-08-30T22:30:17.312584Z",
     "iopub.status.idle": "2020-08-30T22:30:17.317571Z",
     "shell.execute_reply": "2020-08-30T22:30:17.316929Z"
    },
    "papermill": {
     "duration": 0.031898,
     "end_time": "2020-09-18T05:18:40.346890",
     "exception": false,
     "start_time": "2020-09-18T05:18:40.314992",
     "status": "completed"
    },
    "pycharm": {
     "name": "#%% md\n"
    },
    "tags": []
   },
   "source": [
    "## Report Results\n"
   ]
  },
  {
   "cell_type": "markdown",
   "metadata": {
    "papermill": {
     "duration": 0.031837,
     "end_time": "2020-09-18T05:18:40.411165",
     "exception": false,
     "start_time": "2020-09-18T05:18:40.379328",
     "status": "completed"
    },
    "tags": []
   },
   "source": [
    "### Summary Table"
   ]
  },
  {
   "cell_type": "code",
   "execution_count": 25,
   "metadata": {
    "execution": {
     "iopub.execute_input": "2020-09-18T05:18:40.492809Z",
     "iopub.status.busy": "2020-09-18T05:18:40.480815Z",
     "iopub.status.idle": "2020-09-18T05:18:40.495756Z",
     "shell.execute_reply": "2020-09-18T05:18:40.496195Z"
    },
    "papermill": {
     "duration": 0.053149,
     "end_time": "2020-09-18T05:18:40.496367",
     "exception": false,
     "start_time": "2020-09-18T05:18:40.443218",
     "status": "completed"
    },
    "tags": []
   },
   "outputs": [
    {
     "data": {
      "text/html": [
       "<div>\n",
       "<style scoped>\n",
       "    .dataframe tbody tr th:only-of-type {\n",
       "        vertical-align: middle;\n",
       "    }\n",
       "\n",
       "    .dataframe tbody tr th {\n",
       "        vertical-align: top;\n",
       "    }\n",
       "\n",
       "    .dataframe thead th {\n",
       "        text-align: right;\n",
       "    }\n",
       "</style>\n",
       "<table border=\"1\" class=\"dataframe\">\n",
       "  <thead>\n",
       "    <tr style=\"text-align: right;\">\n",
       "      <th></th>\n",
       "      <th>tek_count</th>\n",
       "      <th>new_tek_count</th>\n",
       "      <th>new_cases</th>\n",
       "      <th>rolling_mean_new_cases</th>\n",
       "      <th>tek_count_per_new_case</th>\n",
       "      <th>new_tek_count_per_new_case</th>\n",
       "      <th>new_tek_devices</th>\n",
       "      <th>new_tek_devices_per_new_case</th>\n",
       "      <th>new_tek_count_per_new_tek_device</th>\n",
       "    </tr>\n",
       "    <tr>\n",
       "      <th>sample_date</th>\n",
       "      <th></th>\n",
       "      <th></th>\n",
       "      <th></th>\n",
       "      <th></th>\n",
       "      <th></th>\n",
       "      <th></th>\n",
       "      <th></th>\n",
       "      <th></th>\n",
       "      <th></th>\n",
       "    </tr>\n",
       "  </thead>\n",
       "  <tbody>\n",
       "    <tr>\n",
       "      <th>2020-09-18</th>\n",
       "      <td>NaN</td>\n",
       "      <td>18.0</td>\n",
       "      <td>20430.857143</td>\n",
       "      <td>20430.857143</td>\n",
       "      <td>NaN</td>\n",
       "      <td>0.000881</td>\n",
       "      <td>18</td>\n",
       "      <td>0.000881</td>\n",
       "      <td>1.000000</td>\n",
       "    </tr>\n",
       "    <tr>\n",
       "      <th>2020-09-17</th>\n",
       "      <td>18.0</td>\n",
       "      <td>63.0</td>\n",
       "      <td>22582.000000</td>\n",
       "      <td>20430.857143</td>\n",
       "      <td>0.000881</td>\n",
       "      <td>0.003084</td>\n",
       "      <td>29</td>\n",
       "      <td>0.001419</td>\n",
       "      <td>2.172414</td>\n",
       "    </tr>\n",
       "    <tr>\n",
       "      <th>2020-09-16</th>\n",
       "      <td>29.0</td>\n",
       "      <td>62.0</td>\n",
       "      <td>22386.000000</td>\n",
       "      <td>20280.285714</td>\n",
       "      <td>0.001430</td>\n",
       "      <td>0.003057</td>\n",
       "      <td>23</td>\n",
       "      <td>0.001134</td>\n",
       "      <td>2.695652</td>\n",
       "    </tr>\n",
       "    <tr>\n",
       "      <th>2020-09-15</th>\n",
       "      <td>33.0</td>\n",
       "      <td>58.0</td>\n",
       "      <td>18874.000000</td>\n",
       "      <td>19615.428571</td>\n",
       "      <td>0.001682</td>\n",
       "      <td>0.002957</td>\n",
       "      <td>23</td>\n",
       "      <td>0.001173</td>\n",
       "      <td>2.521739</td>\n",
       "    </tr>\n",
       "    <tr>\n",
       "      <th>2020-09-14</th>\n",
       "      <td>42.0</td>\n",
       "      <td>61.0</td>\n",
       "      <td>54808.000000</td>\n",
       "      <td>19480.285714</td>\n",
       "      <td>0.002156</td>\n",
       "      <td>0.003131</td>\n",
       "      <td>28</td>\n",
       "      <td>0.001437</td>\n",
       "      <td>2.178571</td>\n",
       "    </tr>\n",
       "    <tr>\n",
       "      <th>2020-09-13</th>\n",
       "      <td>56.0</td>\n",
       "      <td>92.0</td>\n",
       "      <td>0.000000</td>\n",
       "      <td>19239.142857</td>\n",
       "      <td>0.002911</td>\n",
       "      <td>0.004782</td>\n",
       "      <td>32</td>\n",
       "      <td>0.001663</td>\n",
       "      <td>2.875000</td>\n",
       "    </tr>\n",
       "    <tr>\n",
       "      <th>2020-09-12</th>\n",
       "      <td>67.0</td>\n",
       "      <td>92.0</td>\n",
       "      <td>0.000000</td>\n",
       "      <td>19239.142857</td>\n",
       "      <td>0.003482</td>\n",
       "      <td>0.004782</td>\n",
       "      <td>33</td>\n",
       "      <td>0.001715</td>\n",
       "      <td>2.787879</td>\n",
       "    </tr>\n",
       "    <tr>\n",
       "      <th>2020-09-11</th>\n",
       "      <td>75.0</td>\n",
       "      <td>46.0</td>\n",
       "      <td>24366.000000</td>\n",
       "      <td>19239.142857</td>\n",
       "      <td>0.003898</td>\n",
       "      <td>0.002391</td>\n",
       "      <td>19</td>\n",
       "      <td>0.000988</td>\n",
       "      <td>2.421053</td>\n",
       "    </tr>\n",
       "    <tr>\n",
       "      <th>2020-09-10</th>\n",
       "      <td>68.0</td>\n",
       "      <td>45.0</td>\n",
       "      <td>21528.000000</td>\n",
       "      <td>18751.428571</td>\n",
       "      <td>0.003626</td>\n",
       "      <td>0.002400</td>\n",
       "      <td>15</td>\n",
       "      <td>0.000800</td>\n",
       "      <td>3.000000</td>\n",
       "    </tr>\n",
       "    <tr>\n",
       "      <th>2020-09-09</th>\n",
       "      <td>60.0</td>\n",
       "      <td>67.0</td>\n",
       "      <td>17732.000000</td>\n",
       "      <td>18235.714286</td>\n",
       "      <td>0.003290</td>\n",
       "      <td>0.003674</td>\n",
       "      <td>21</td>\n",
       "      <td>0.001152</td>\n",
       "      <td>3.190476</td>\n",
       "    </tr>\n",
       "    <tr>\n",
       "      <th>2020-09-08</th>\n",
       "      <td>61.0</td>\n",
       "      <td>44.0</td>\n",
       "      <td>17928.000000</td>\n",
       "      <td>18154.285714</td>\n",
       "      <td>0.003360</td>\n",
       "      <td>0.002424</td>\n",
       "      <td>18</td>\n",
       "      <td>0.000992</td>\n",
       "      <td>2.444444</td>\n",
       "    </tr>\n",
       "    <tr>\n",
       "      <th>2020-09-07</th>\n",
       "      <td>58.0</td>\n",
       "      <td>52.0</td>\n",
       "      <td>53120.000000</td>\n",
       "      <td>17911.714286</td>\n",
       "      <td>0.003238</td>\n",
       "      <td>0.002903</td>\n",
       "      <td>22</td>\n",
       "      <td>0.001228</td>\n",
       "      <td>2.363636</td>\n",
       "    </tr>\n",
       "    <tr>\n",
       "      <th>2020-09-06</th>\n",
       "      <td>54.0</td>\n",
       "      <td>60.0</td>\n",
       "      <td>0.000000</td>\n",
       "      <td>17058.000000</td>\n",
       "      <td>0.003166</td>\n",
       "      <td>0.003517</td>\n",
       "      <td>24</td>\n",
       "      <td>0.001407</td>\n",
       "      <td>2.500000</td>\n",
       "    </tr>\n",
       "    <tr>\n",
       "      <th>2020-09-05</th>\n",
       "      <td>56.0</td>\n",
       "      <td>NaN</td>\n",
       "      <td>0.000000</td>\n",
       "      <td>17058.000000</td>\n",
       "      <td>0.003283</td>\n",
       "      <td>NaN</td>\n",
       "      <td>17</td>\n",
       "      <td>0.000997</td>\n",
       "      <td>NaN</td>\n",
       "    </tr>\n",
       "  </tbody>\n",
       "</table>\n",
       "</div>"
      ],
      "text/plain": [
       "             tek_count  new_tek_count     new_cases  rolling_mean_new_cases  \\\n",
       "sample_date                                                                   \n",
       "2020-09-18         NaN           18.0  20430.857143            20430.857143   \n",
       "2020-09-17        18.0           63.0  22582.000000            20430.857143   \n",
       "2020-09-16        29.0           62.0  22386.000000            20280.285714   \n",
       "2020-09-15        33.0           58.0  18874.000000            19615.428571   \n",
       "2020-09-14        42.0           61.0  54808.000000            19480.285714   \n",
       "2020-09-13        56.0           92.0      0.000000            19239.142857   \n",
       "2020-09-12        67.0           92.0      0.000000            19239.142857   \n",
       "2020-09-11        75.0           46.0  24366.000000            19239.142857   \n",
       "2020-09-10        68.0           45.0  21528.000000            18751.428571   \n",
       "2020-09-09        60.0           67.0  17732.000000            18235.714286   \n",
       "2020-09-08        61.0           44.0  17928.000000            18154.285714   \n",
       "2020-09-07        58.0           52.0  53120.000000            17911.714286   \n",
       "2020-09-06        54.0           60.0      0.000000            17058.000000   \n",
       "2020-09-05        56.0            NaN      0.000000            17058.000000   \n",
       "\n",
       "             tek_count_per_new_case  new_tek_count_per_new_case  \\\n",
       "sample_date                                                       \n",
       "2020-09-18                      NaN                    0.000881   \n",
       "2020-09-17                 0.000881                    0.003084   \n",
       "2020-09-16                 0.001430                    0.003057   \n",
       "2020-09-15                 0.001682                    0.002957   \n",
       "2020-09-14                 0.002156                    0.003131   \n",
       "2020-09-13                 0.002911                    0.004782   \n",
       "2020-09-12                 0.003482                    0.004782   \n",
       "2020-09-11                 0.003898                    0.002391   \n",
       "2020-09-10                 0.003626                    0.002400   \n",
       "2020-09-09                 0.003290                    0.003674   \n",
       "2020-09-08                 0.003360                    0.002424   \n",
       "2020-09-07                 0.003238                    0.002903   \n",
       "2020-09-06                 0.003166                    0.003517   \n",
       "2020-09-05                 0.003283                         NaN   \n",
       "\n",
       "             new_tek_devices  new_tek_devices_per_new_case  \\\n",
       "sample_date                                                  \n",
       "2020-09-18                18                      0.000881   \n",
       "2020-09-17                29                      0.001419   \n",
       "2020-09-16                23                      0.001134   \n",
       "2020-09-15                23                      0.001173   \n",
       "2020-09-14                28                      0.001437   \n",
       "2020-09-13                32                      0.001663   \n",
       "2020-09-12                33                      0.001715   \n",
       "2020-09-11                19                      0.000988   \n",
       "2020-09-10                15                      0.000800   \n",
       "2020-09-09                21                      0.001152   \n",
       "2020-09-08                18                      0.000992   \n",
       "2020-09-07                22                      0.001228   \n",
       "2020-09-06                24                      0.001407   \n",
       "2020-09-05                17                      0.000997   \n",
       "\n",
       "             new_tek_count_per_new_tek_device  \n",
       "sample_date                                    \n",
       "2020-09-18                           1.000000  \n",
       "2020-09-17                           2.172414  \n",
       "2020-09-16                           2.695652  \n",
       "2020-09-15                           2.521739  \n",
       "2020-09-14                           2.178571  \n",
       "2020-09-13                           2.875000  \n",
       "2020-09-12                           2.787879  \n",
       "2020-09-11                           2.421053  \n",
       "2020-09-10                           3.000000  \n",
       "2020-09-09                           3.190476  \n",
       "2020-09-08                           2.444444  \n",
       "2020-09-07                           2.363636  \n",
       "2020-09-06                           2.500000  \n",
       "2020-09-05                                NaN  "
      ]
     },
     "execution_count": 25,
     "metadata": {},
     "output_type": "execute_result"
    }
   ],
   "source": [
    "result_summary_df_ = result_summary_df.copy()\n",
    "result_summary_df = result_summary_df[[\n",
    "    \"tek_count\",\n",
    "    \"new_tek_count\",\n",
    "    \"new_cases\",\n",
    "    \"rolling_mean_new_cases\",\n",
    "    \"tek_count_per_new_case\",\n",
    "    \"new_tek_count_per_new_case\",\n",
    "    \"new_tek_devices\",\n",
    "    \"new_tek_devices_per_new_case\",\n",
    "    \"new_tek_count_per_new_tek_device\"]]\n",
    "result_summary_df"
   ]
  },
  {
   "cell_type": "markdown",
   "metadata": {
    "papermill": {
     "duration": 0.03301,
     "end_time": "2020-09-18T05:18:40.562910",
     "exception": false,
     "start_time": "2020-09-18T05:18:40.529900",
     "status": "completed"
    },
    "tags": []
   },
   "source": [
    "### Summary Plots"
   ]
  },
  {
   "cell_type": "code",
   "execution_count": 26,
   "metadata": {
    "execution": {
     "iopub.execute_input": "2020-09-18T05:18:40.673655Z",
     "iopub.status.busy": "2020-09-18T05:18:40.663100Z",
     "iopub.status.idle": "2020-09-18T05:18:41.897827Z",
     "shell.execute_reply": "2020-09-18T05:18:41.898281Z"
    },
    "papermill": {
     "duration": 1.30236,
     "end_time": "2020-09-18T05:18:41.898442",
     "exception": false,
     "start_time": "2020-09-18T05:18:40.596082",
     "status": "completed"
    },
    "scrolled": false,
    "tags": []
   },
   "outputs": [
    {
     "data": {
      "image/png": "[encoded data removed]",
      "text/plain": [
       "<Figure size 1080x1584 with 6 Axes>"
      ]
     },
     "metadata": {},
     "output_type": "display_data"
    }
   ],
   "source": [
    "summary_ax_list = result_summary_df[[\n",
    "    \"rolling_mean_new_cases\",\n",
    "    \"tek_count\",\n",
    "    \"new_tek_count\",\n",
    "    \"new_tek_devices\",\n",
    "    \"new_tek_count_per_new_tek_device\",\n",
    "    \"new_tek_devices_per_new_case\"\n",
    "]].sort_index(ascending=True).plot.bar(\n",
    "    title=\"Summary\", rot=45, subplots=True, figsize=(15, 22))\n",
    "summary_ax_list[-1].yaxis.set_major_formatter(matplotlib.ticker.PercentFormatter(1.0))"
   ]
  },
  {
   "cell_type": "markdown",
   "metadata": {
    "papermill": {
     "duration": 0.036324,
     "end_time": "2020-09-18T05:18:41.970132",
     "exception": false,
     "start_time": "2020-09-18T05:18:41.933808",
     "status": "completed"
    },
    "tags": []
   },
   "source": [
    "### Hourly Summary Plots "
   ]
  },
  {
   "cell_type": "code",
   "execution_count": 27,
   "metadata": {
    "execution": {
     "iopub.execute_input": "2020-09-18T05:18:42.051708Z",
     "iopub.status.busy": "2020-09-18T05:18:42.051138Z",
     "iopub.status.idle": "2020-09-18T05:18:42.609204Z",
     "shell.execute_reply": "2020-09-18T05:18:42.609627Z"
    },
    "papermill": {
     "duration": 0.603851,
     "end_time": "2020-09-18T05:18:42.609798",
     "exception": false,
     "start_time": "2020-09-18T05:18:42.005947",
     "status": "completed"
    },
    "pycharm": {
     "name": "#%%\n"
    },
    "tags": []
   },
   "outputs": [
    {
     "data": {
      "image/png": "[encoded data removed]",
      "text/plain": [
       "<Figure size 1080x432 with 2 Axes>"
      ]
     },
     "metadata": {},
     "output_type": "display_data"
    }
   ],
   "source": [
    "hourly_summary_ax_list = hourly_summary_df.plot.bar(\n",
    "    title=\"Last 24h Summary\", rot=45, subplots=True)"
   ]
  },
  {
   "cell_type": "markdown",
   "metadata": {
    "papermill": {
     "duration": 0.037201,
     "end_time": "2020-09-18T05:18:42.686283",
     "exception": false,
     "start_time": "2020-09-18T05:18:42.649082",
     "status": "completed"
    },
    "tags": []
   },
   "source": [
    "### Publish Results"
   ]
  },
  {
   "cell_type": "code",
   "execution_count": 28,
   "metadata": {
    "execution": {
     "iopub.execute_input": "2020-09-18T05:18:42.778786Z",
     "iopub.status.busy": "2020-09-18T05:18:42.778184Z",
     "iopub.status.idle": "2020-09-18T05:18:55.127064Z",
     "shell.execute_reply": "2020-09-18T05:18:55.127936Z"
    },
    "papermill": {
     "duration": 12.404587,
     "end_time": "2020-09-18T05:18:55.128134",
     "exception": false,
     "start_time": "2020-09-18T05:18:42.723547",
     "status": "completed"
    },
    "pycharm": {
     "name": "#%%\n"
    },
    "tags": []
   },
   "outputs": [],
   "source": [
    "def get_temporary_image_path() -> str:\n",
    "    return os.path.join(tempfile.gettempdir(), str(uuid.uuid4()) + \".png\")\n",
    "\n",
    "def save_temporary_plot_image(ax):\n",
    "    if isinstance(ax, np.ndarray):\n",
    "        ax = ax[0]\n",
    "    media_path = get_temporary_image_path()\n",
    "    ax.get_figure().savefig(media_path)\n",
    "    return media_path\n",
    "\n",
    "def save_temporary_dataframe_image(df):\n",
    "    media_path = get_temporary_image_path()\n",
    "    dfi.export(df, media_path)\n",
    "    return media_path\n",
    "\n",
    "summary_plots_image_path = save_temporary_plot_image(ax=summary_ax_list)\n",
    "summary_table_image_path = save_temporary_dataframe_image(df=result_summary_df)\n",
    "hourly_summary_plots_image_path = save_temporary_plot_image(ax=hourly_summary_ax_list)"
   ]
  },
  {
   "cell_type": "markdown",
   "metadata": {
    "papermill": {
     "duration": 0.036241,
     "end_time": "2020-09-18T05:18:55.201603",
     "exception": false,
     "start_time": "2020-09-18T05:18:55.165362",
     "status": "completed"
    },
    "tags": []
   },
   "source": [
    "### Save Results"
   ]
  },
  {
   "cell_type": "code",
   "execution_count": 29,
   "metadata": {
    "execution": {
     "iopub.execute_input": "2020-09-18T05:18:55.281761Z",
     "iopub.status.busy": "2020-09-18T05:18:55.281053Z",
     "iopub.status.idle": "2020-09-18T05:18:55.293605Z",
     "shell.execute_reply": "2020-09-18T05:18:55.293118Z"
    },
    "papermill": {
     "duration": 0.055476,
     "end_time": "2020-09-18T05:18:55.293745",
     "exception": false,
     "start_time": "2020-09-18T05:18:55.238269",
     "status": "completed"
    },
    "pycharm": {
     "name": "#%%\n"
    },
    "tags": []
   },
   "outputs": [],
   "source": [
    "report_resources_path_prefix = \"Data/Resources/Current/RadarCOVID-Report-\"\n",
    "result_summary_df.to_csv(report_resources_path_prefix + \"Summary-Table.csv\")\n",
    "result_summary_df.to_html(report_resources_path_prefix + \"Summary-Table.html\")\n",
    "_ = shutil.copyfile(summary_plots_image_path, report_resources_path_prefix + \"Summary-Plots.png\")\n",
    "_ = shutil.copyfile(summary_table_image_path, report_resources_path_prefix + \"Summary-Table.png\")\n",
    "_ = shutil.copyfile(hourly_summary_plots_image_path, report_resources_path_prefix + \"Hourly-Summary-Plots.png\")\n",
    "\n",
    "report_daily_url_pattern = \\\n",
    "    \"https://github.com/pvieito/RadarCOVID-Report/blob/master/Notebooks/\" \\\n",
    "    \"RadarCOVID-Report/{report_type}/RadarCOVID-Report-{report_date}.ipynb\"\n",
    "report_daily_url = report_daily_url_pattern.format(\n",
    "    report_type=\"Daily\", report_date=extraction_date)\n",
    "report_hourly_url = report_daily_url_pattern.format(\n",
    "    report_type=\"Hourly\", report_date=extraction_date_with_hour)"
   ]
  },
  {
   "cell_type": "markdown",
   "metadata": {
    "papermill": {
     "duration": 0.036704,
     "end_time": "2020-09-18T05:18:55.367659",
     "exception": false,
     "start_time": "2020-09-18T05:18:55.330955",
     "status": "completed"
    },
    "tags": []
   },
   "source": [
    "### Publish on README"
   ]
  },
  {
   "cell_type": "code",
   "execution_count": 30,
   "metadata": {
    "execution": {
     "iopub.execute_input": "2020-09-18T05:18:55.447217Z",
     "iopub.status.busy": "2020-09-18T05:18:55.446641Z",
     "iopub.status.idle": "2020-09-18T05:18:55.455374Z",
     "shell.execute_reply": "2020-09-18T05:18:55.454727Z"
    },
    "papermill": {
     "duration": 0.050588,
     "end_time": "2020-09-18T05:18:55.455521",
     "exception": false,
     "start_time": "2020-09-18T05:18:55.404933",
     "status": "completed"
    },
    "pycharm": {
     "name": "#%%\n"
    },
    "tags": []
   },
   "outputs": [],
   "source": [
    "with open(\"Data/Templates/README.md\", \"r\") as f:\n",
    "    readme_contents = f.read()\n",
    "\n",
    "summary_table_html = result_summary_df.to_html()\n",
    "readme_contents = readme_contents.format(\n",
    "    summary_table_html=summary_table_html,\n",
    "    report_url_with_hour=report_hourly_url,\n",
    "    extraction_date_with_hour=extraction_date_with_hour)\n",
    "\n",
    "with open(\"README.md\", \"w\") as f:\n",
    "    f.write(readme_contents)"
   ]
  },
  {
   "cell_type": "markdown",
   "metadata": {
    "papermill": {
     "duration": 0.036559,
     "end_time": "2020-09-18T05:18:55.528958",
     "exception": false,
     "start_time": "2020-09-18T05:18:55.492399",
     "status": "completed"
    },
    "pycharm": {
     "name": "#%% md\n"
    },
    "tags": []
   },
   "source": [
    "### Publish on Twitter"
   ]
  },
  {
   "cell_type": "code",
   "execution_count": 31,
   "metadata": {
    "execution": {
     "iopub.execute_input": "2020-09-18T05:18:55.606759Z",
     "iopub.status.busy": "2020-09-18T05:18:55.606175Z",
     "iopub.status.idle": "2020-09-18T05:18:57.585696Z",
     "shell.execute_reply": "2020-09-18T05:18:57.585128Z"
    },
    "papermill": {
     "duration": 2.019489,
     "end_time": "2020-09-18T05:18:57.585853",
     "exception": false,
     "start_time": "2020-09-18T05:18:55.566364",
     "status": "completed"
    },
    "pycharm": {
     "name": "#%%\n"
    },
    "tags": []
   },
   "outputs": [],
   "source": [
    "enable_share_to_twitter = os.environ.get(\"RADARCOVID_REPORT__ENABLE_PUBLISH_ON_TWITTER\")\n",
    "github_event_name = os.environ.get(\"GITHUB_EVENT_NAME\")\n",
    "\n",
    "if enable_share_to_twitter and github_event_name == \"schedule\":\n",
    "    import tweepy\n",
    "\n",
    "    twitter_api_auth_keys = os.environ[\"RADARCOVID_REPORT__TWITTER_API_AUTH_KEYS\"]\n",
    "    twitter_api_auth_keys = twitter_api_auth_keys.split(\":\")\n",
    "    auth = tweepy.OAuthHandler(twitter_api_auth_keys[0], twitter_api_auth_keys[1])\n",
    "    auth.set_access_token(twitter_api_auth_keys[2], twitter_api_auth_keys[3])\n",
    "\n",
    "    api = tweepy.API(auth)\n",
    "\n",
    "    summary_plots_media = api.media_upload(summary_plots_image_path)\n",
    "    summary_table_media = api.media_upload(summary_table_image_path)\n",
    "    hourly_summary_plots_media = api.media_upload(hourly_summary_plots_image_path)\n",
    "    media_ids = [\n",
    "        summary_plots_media.media_id,\n",
    "        summary_table_media.media_id,\n",
    "        hourly_summary_plots_media.media_id,\n",
    "    ]\n",
    "\n",
    "    extraction_date_result_summary_df = \\\n",
    "        result_summary_df[result_summary_df.index == extraction_date]\n",
    "    extraction_date_result_hourly_summary_df = \\\n",
    "        hourly_summary_df[hourly_summary_df.extraction_date_with_hour == extraction_date_with_hour]\n",
    "\n",
    "    new_teks = extraction_date_result_summary_df.new_tek_count.sum().astype(int)\n",
    "    new_teks_last_hour = extraction_date_result_hourly_summary_df.new_tek_count.sum().astype(int)\n",
    "    new_devices = extraction_date_result_summary_df.new_tek_devices.sum().astype(int)\n",
    "    new_devices_last_hour = extraction_date_result_hourly_summary_df.new_tek_devices.sum().astype(int)\n",
    "    new_tek_count_per_new_tek_device = \\\n",
    "        extraction_date_result_summary_df.new_tek_count_per_new_tek_device.sum()\n",
    "    new_tek_devices_per_new_case = \\\n",
    "        extraction_date_result_summary_df.new_tek_devices_per_new_case.sum()\n",
    "\n",
    "    status = textwrap.dedent(f\"\"\"\n",
    "        Report Update – {extraction_date_with_hour}\n",
    "        #ExposureNotification #RadarCOVID\n",
    "\n",
    "        Shared Diagnoses Day Summary:\n",
    "        - New TEKs: {new_teks} ({new_teks_last_hour:+d} last hour)\n",
    "        - New Devices: {new_devices} ({new_devices_last_hour:+d} last hour, {new_tek_count_per_new_tek_device:.2} TEKs/device)\n",
    "        - Usage Ratio: {new_tek_devices_per_new_case:.2%} devices/case\n",
    "\n",
    "        Report Link: {report_hourly_url}\n",
    "        \"\"\")\n",
    "    status = status.encode(encoding=\"utf-8\")\n",
    "    api.update_status(status=status, media_ids=media_ids)"
   ]
  }
 ],
 "metadata": {
  "kernelspec": {
   "display_name": "Python 3",
   "language": "python",
   "name": "python3"
  },
  "language_info": {
   "codemirror_mode": {
    "name": "ipython",
    "version": 3
   },
   "file_extension": ".py",
   "mimetype": "text/x-python",
   "name": "python",
   "nbconvert_exporter": "python",
   "pygments_lexer": "ipython3",
   "version": "3.8.5"
  },
  "papermill": {
   "duration": 27.31902,
   "end_time": "2020-09-18T05:18:58.962547",
   "environment_variables": {},
   "exception": null,
   "input_path": "Notebooks/RadarCOVID-Report/Source/RadarCOVID-Report.ipynb",
   "output_path": "RadarCOVID-Report.ipynb",
   "parameters": {},
   "start_time": "2020-09-18T05:18:31.643527",
   "version": "2.1.3"
  }
 },
 "nbformat": 4,
 "nbformat_minor": 1
}