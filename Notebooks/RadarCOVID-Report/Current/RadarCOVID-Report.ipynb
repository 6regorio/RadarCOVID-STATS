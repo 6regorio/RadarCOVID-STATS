{
 "cells": [
  {
   "cell_type": "markdown",
   "metadata": {
    "papermill": {
     "duration": 0.028984,
     "end_time": "2020-09-20T03:18:46.562227",
     "exception": false,
     "start_time": "2020-09-20T03:18:46.533243",
     "status": "completed"
    },
    "pycharm": {
     "name": "#%% md\n"
    },
    "tags": []
   },
   "source": [
    "# RadarCOVID-Report"
   ]
  },
  {
   "cell_type": "markdown",
   "metadata": {
    "collapsed": true,
    "papermill": {
     "duration": 0.025565,
     "end_time": "2020-09-20T03:18:46.614607",
     "exception": false,
     "start_time": "2020-09-20T03:18:46.589042",
     "status": "completed"
    },
    "pycharm": {
     "name": "#%% md\n"
    },
    "tags": []
   },
   "source": [
    "## Data Extraction"
   ]
  },
  {
   "cell_type": "code",
   "execution_count": 1,
   "metadata": {
    "execution": {
     "iopub.execute_input": "2020-09-20T03:18:46.672110Z",
     "iopub.status.busy": "2020-09-20T03:18:46.671492Z",
     "iopub.status.idle": "2020-09-20T03:18:50.866149Z",
     "shell.execute_reply": "2020-09-20T03:18:50.866735Z"
    },
    "papermill": {
     "duration": 4.226256,
     "end_time": "2020-09-20T03:18:50.867039",
     "exception": false,
     "start_time": "2020-09-20T03:18:46.640783",
     "status": "completed"
    },
    "pycharm": {
     "name": "#%%\n"
    },
    "tags": []
   },
   "outputs": [],
   "source": [
    "import datetime\n",
    "import logging\n",
    "import os\n",
    "import shutil\n",
    "import tempfile\n",
    "import textwrap\n",
    "import uuid\n",
    "\n",
    "import dataframe_image as dfi\n",
    "import matplotlib.ticker\n",
    "import numpy as np\n",
    "import pandas as pd\n",
    "import seaborn as sns\n",
    "\n",
    "%matplotlib inline"
   ]
  },
  {
   "cell_type": "code",
   "execution_count": 2,
   "metadata": {
    "collapsed": false,
    "execution": {
     "iopub.execute_input": "2020-09-20T03:18:50.926532Z",
     "iopub.status.busy": "2020-09-20T03:18:50.925836Z",
     "iopub.status.idle": "2020-09-20T03:18:50.929828Z",
     "shell.execute_reply": "2020-09-20T03:18:50.930352Z"
    },
    "papermill": {
     "duration": 0.034551,
     "end_time": "2020-09-20T03:18:50.930495",
     "exception": false,
     "start_time": "2020-09-20T03:18:50.895944",
     "status": "completed"
    },
    "pycharm": {
     "name": "#%%\n"
    },
    "tags": []
   },
   "outputs": [],
   "source": [
    "current_working_directory = os.environ.get(\"PWD\")\n",
    "if current_working_directory:\n",
    "    os.chdir(current_working_directory)\n",
    "\n",
    "sns.set()\n",
    "matplotlib.rcParams['figure.figsize'] = (15, 6)\n",
    "\n",
    "extraction_datetime = datetime.datetime.utcnow()\n",
    "extraction_date = extraction_datetime.strftime(\"%Y-%m-%d\")\n",
    "extraction_previous_datetime = extraction_datetime - datetime.timedelta(days=1)\n",
    "extraction_previous_date = extraction_previous_datetime.strftime(\"%Y-%m-%d\")\n",
    "extraction_date_with_hour = datetime.datetime.utcnow().strftime(\"%Y-%m-%d@%H\")"
   ]
  },
  {
   "cell_type": "markdown",
   "metadata": {
    "papermill": {
     "duration": 0.025563,
     "end_time": "2020-09-20T03:18:50.981729",
     "exception": false,
     "start_time": "2020-09-20T03:18:50.956166",
     "status": "completed"
    },
    "tags": []
   },
   "source": [
    "### COVID-19 Cases"
   ]
  },
  {
   "cell_type": "code",
   "execution_count": 3,
   "metadata": {
    "execution": {
     "iopub.execute_input": "2020-09-20T03:18:51.038759Z",
     "iopub.status.busy": "2020-09-20T03:18:51.038144Z",
     "iopub.status.idle": "2020-09-20T03:18:51.491249Z",
     "shell.execute_reply": "2020-09-20T03:18:51.489843Z"
    },
    "papermill": {
     "duration": 0.483487,
     "end_time": "2020-09-20T03:18:51.491423",
     "exception": false,
     "start_time": "2020-09-20T03:18:51.007936",
     "status": "completed"
    },
    "pycharm": {
     "name": "#%%\n"
    },
    "tags": []
   },
   "outputs": [],
   "source": [
    "spain_region_country_name = \"Spain\"\n",
    "spain_region_country_code = \"ES\"\n",
    "\n",
    "confirmed_df = pd.read_csv(\"https://covid19tracking.narrativa.com/csv/confirmed.csv\")\n",
    "\n",
    "radar_covid_countries = {spain_region_country_name}\n",
    "# radar_covid_regions = { ... }\n",
    "\n",
    "confirmed_df = confirmed_df[confirmed_df[\"Country_EN\"].isin(radar_covid_countries)]\n",
    "# confirmed_df = confirmed_df[confirmed_df[\"Region\"].isin(radar_covid_regions)]\n",
    "# set(confirmed_df.Region.tolist()) == radar_covid_regions"
   ]
  },
  {
   "cell_type": "code",
   "execution_count": 4,
   "metadata": {
    "collapsed": false,
    "execution": {
     "iopub.execute_input": "2020-09-20T03:18:51.550399Z",
     "iopub.status.busy": "2020-09-20T03:18:51.549790Z",
     "iopub.status.idle": "2020-09-20T03:18:51.560088Z",
     "shell.execute_reply": "2020-09-20T03:18:51.560620Z"
    },
    "papermill": {
     "duration": 0.042306,
     "end_time": "2020-09-20T03:18:51.560770",
     "exception": false,
     "start_time": "2020-09-20T03:18:51.518464",
     "status": "completed"
    },
    "pycharm": {
     "name": "#%%\n"
    },
    "tags": []
   },
   "outputs": [
    {
     "data": {
      "text/html": [
       "<div>\n",
       "<style scoped>\n",
       "    .dataframe tbody tr th:only-of-type {\n",
       "        vertical-align: middle;\n",
       "    }\n",
       "\n",
       "    .dataframe tbody tr th {\n",
       "        vertical-align: top;\n",
       "    }\n",
       "\n",
       "    .dataframe thead th {\n",
       "        text-align: right;\n",
       "    }\n",
       "</style>\n",
       "<table border=\"1\" class=\"dataframe\">\n",
       "  <thead>\n",
       "    <tr style=\"text-align: right;\">\n",
       "      <th></th>\n",
       "      <th>0</th>\n",
       "    </tr>\n",
       "  </thead>\n",
       "  <tbody>\n",
       "    <tr>\n",
       "      <th>2020-09-15</th>\n",
       "      <td>1206334.0</td>\n",
       "    </tr>\n",
       "    <tr>\n",
       "      <th>2020-09-16</th>\n",
       "      <td>1228720.0</td>\n",
       "    </tr>\n",
       "    <tr>\n",
       "      <th>2020-09-17</th>\n",
       "      <td>1251302.0</td>\n",
       "    </tr>\n",
       "    <tr>\n",
       "      <th>2020-09-18</th>\n",
       "      <td>1280080.0</td>\n",
       "    </tr>\n",
       "    <tr>\n",
       "      <th>2020-09-19</th>\n",
       "      <td>1280080.0</td>\n",
       "    </tr>\n",
       "  </tbody>\n",
       "</table>\n",
       "</div>"
      ],
      "text/plain": [
       "                    0\n",
       "2020-09-15  1206334.0\n",
       "2020-09-16  1228720.0\n",
       "2020-09-17  1251302.0\n",
       "2020-09-18  1280080.0\n",
       "2020-09-19  1280080.0"
      ]
     },
     "execution_count": 4,
     "metadata": {},
     "output_type": "execute_result"
    }
   ],
   "source": [
    "confirmed_country_columns = list(filter(lambda x: x.startswith(\"Country_\"), confirmed_df.columns))\n",
    "confirmed_regional_columns = confirmed_country_columns + [\"Region\"]\n",
    "confirmed_df.drop(columns=confirmed_regional_columns, inplace=True)\n",
    "confirmed_df = confirmed_df.sum().to_frame()\n",
    "confirmed_df.tail()"
   ]
  },
  {
   "cell_type": "code",
   "execution_count": 5,
   "metadata": {
    "collapsed": false,
    "execution": {
     "iopub.execute_input": "2020-09-20T03:18:51.622195Z",
     "iopub.status.busy": "2020-09-20T03:18:51.621581Z",
     "iopub.status.idle": "2020-09-20T03:18:51.632448Z",
     "shell.execute_reply": "2020-09-20T03:18:51.632950Z"
    },
    "papermill": {
     "duration": 0.044302,
     "end_time": "2020-09-20T03:18:51.633102",
     "exception": false,
     "start_time": "2020-09-20T03:18:51.588800",
     "status": "completed"
    },
    "pycharm": {
     "name": "#%%\n"
    },
    "tags": []
   },
   "outputs": [
    {
     "data": {
      "text/html": [
       "<div>\n",
       "<style scoped>\n",
       "    .dataframe tbody tr th:only-of-type {\n",
       "        vertical-align: middle;\n",
       "    }\n",
       "\n",
       "    .dataframe tbody tr th {\n",
       "        vertical-align: top;\n",
       "    }\n",
       "\n",
       "    .dataframe thead th {\n",
       "        text-align: right;\n",
       "    }\n",
       "</style>\n",
       "<table border=\"1\" class=\"dataframe\">\n",
       "  <thead>\n",
       "    <tr style=\"text-align: right;\">\n",
       "      <th></th>\n",
       "      <th>sample_date_string</th>\n",
       "      <th>cumulative_cases</th>\n",
       "      <th>new_cases</th>\n",
       "      <th>rolling_mean_new_cases</th>\n",
       "    </tr>\n",
       "  </thead>\n",
       "  <tbody>\n",
       "    <tr>\n",
       "      <th>236</th>\n",
       "      <td>2020-09-15</td>\n",
       "      <td>1206334.0</td>\n",
       "      <td>18874.0</td>\n",
       "      <td>19615.0</td>\n",
       "    </tr>\n",
       "    <tr>\n",
       "      <th>237</th>\n",
       "      <td>2020-09-16</td>\n",
       "      <td>1228720.0</td>\n",
       "      <td>22386.0</td>\n",
       "      <td>20280.0</td>\n",
       "    </tr>\n",
       "    <tr>\n",
       "      <th>238</th>\n",
       "      <td>2020-09-17</td>\n",
       "      <td>1251302.0</td>\n",
       "      <td>22582.0</td>\n",
       "      <td>20431.0</td>\n",
       "    </tr>\n",
       "    <tr>\n",
       "      <th>239</th>\n",
       "      <td>2020-09-18</td>\n",
       "      <td>1280080.0</td>\n",
       "      <td>28778.0</td>\n",
       "      <td>21061.0</td>\n",
       "    </tr>\n",
       "    <tr>\n",
       "      <th>240</th>\n",
       "      <td>2020-09-19</td>\n",
       "      <td>1280080.0</td>\n",
       "      <td>0.0</td>\n",
       "      <td>21061.0</td>\n",
       "    </tr>\n",
       "  </tbody>\n",
       "</table>\n",
       "</div>"
      ],
      "text/plain": [
       "    sample_date_string  cumulative_cases  new_cases  rolling_mean_new_cases\n",
       "236         2020-09-15         1206334.0    18874.0                 19615.0\n",
       "237         2020-09-16         1228720.0    22386.0                 20280.0\n",
       "238         2020-09-17         1251302.0    22582.0                 20431.0\n",
       "239         2020-09-18         1280080.0    28778.0                 21061.0\n",
       "240         2020-09-19         1280080.0        0.0                 21061.0"
      ]
     },
     "execution_count": 5,
     "metadata": {},
     "output_type": "execute_result"
    }
   ],
   "source": [
    "confirmed_df.reset_index(inplace=True)\n",
    "confirmed_df.columns = [\"sample_date_string\", \"cumulative_cases\"]\n",
    "confirmed_df.sort_values(\"sample_date_string\", inplace=True)\n",
    "confirmed_df[\"new_cases\"] = confirmed_df.cumulative_cases.diff()\n",
    "confirmed_df[\"rolling_mean_new_cases\"] = confirmed_df.new_cases.rolling(7).mean().round()\n",
    "confirmed_df.tail()"
   ]
  },
  {
   "cell_type": "code",
   "execution_count": 6,
   "metadata": {
    "execution": {
     "iopub.execute_input": "2020-09-20T03:18:51.693181Z",
     "iopub.status.busy": "2020-09-20T03:18:51.692572Z",
     "iopub.status.idle": "2020-09-20T03:18:51.703679Z",
     "shell.execute_reply": "2020-09-20T03:18:51.704141Z"
    },
    "papermill": {
     "duration": 0.044984,
     "end_time": "2020-09-20T03:18:51.704289",
     "exception": false,
     "start_time": "2020-09-20T03:18:51.659305",
     "status": "completed"
    },
    "pycharm": {
     "name": "#%%\n"
    },
    "tags": []
   },
   "outputs": [
    {
     "data": {
      "text/html": [
       "<div>\n",
       "<style scoped>\n",
       "    .dataframe tbody tr th:only-of-type {\n",
       "        vertical-align: middle;\n",
       "    }\n",
       "\n",
       "    .dataframe tbody tr th {\n",
       "        vertical-align: top;\n",
       "    }\n",
       "\n",
       "    .dataframe thead th {\n",
       "        text-align: right;\n",
       "    }\n",
       "</style>\n",
       "<table border=\"1\" class=\"dataframe\">\n",
       "  <thead>\n",
       "    <tr style=\"text-align: right;\">\n",
       "      <th></th>\n",
       "      <th>sample_date_string</th>\n",
       "      <th>cumulative_cases</th>\n",
       "      <th>new_cases</th>\n",
       "      <th>rolling_mean_new_cases</th>\n",
       "    </tr>\n",
       "  </thead>\n",
       "  <tbody>\n",
       "    <tr>\n",
       "      <th>237</th>\n",
       "      <td>2020-09-16</td>\n",
       "      <td>1228720.0</td>\n",
       "      <td>22386.0</td>\n",
       "      <td>20280.0</td>\n",
       "    </tr>\n",
       "    <tr>\n",
       "      <th>238</th>\n",
       "      <td>2020-09-17</td>\n",
       "      <td>1251302.0</td>\n",
       "      <td>22582.0</td>\n",
       "      <td>20431.0</td>\n",
       "    </tr>\n",
       "    <tr>\n",
       "      <th>239</th>\n",
       "      <td>2020-09-18</td>\n",
       "      <td>1280080.0</td>\n",
       "      <td>28778.0</td>\n",
       "      <td>21061.0</td>\n",
       "    </tr>\n",
       "    <tr>\n",
       "      <th>240</th>\n",
       "      <td>2020-09-19</td>\n",
       "      <td>1280080.0</td>\n",
       "      <td>0.0</td>\n",
       "      <td>21061.0</td>\n",
       "    </tr>\n",
       "    <tr>\n",
       "      <th>240</th>\n",
       "      <td>2020-09-20</td>\n",
       "      <td>1301141.0</td>\n",
       "      <td>21061.0</td>\n",
       "      <td>21061.0</td>\n",
       "    </tr>\n",
       "  </tbody>\n",
       "</table>\n",
       "</div>"
      ],
      "text/plain": [
       "    sample_date_string  cumulative_cases  new_cases  rolling_mean_new_cases\n",
       "237         2020-09-16         1228720.0    22386.0                 20280.0\n",
       "238         2020-09-17         1251302.0    22582.0                 20431.0\n",
       "239         2020-09-18         1280080.0    28778.0                 21061.0\n",
       "240         2020-09-19         1280080.0        0.0                 21061.0\n",
       "240         2020-09-20         1301141.0    21061.0                 21061.0"
      ]
     },
     "execution_count": 6,
     "metadata": {},
     "output_type": "execute_result"
    }
   ],
   "source": [
    "extraction_date_confirmed_df = \\\n",
    "    confirmed_df[confirmed_df.sample_date_string == extraction_date]\n",
    "extraction_previous_date_confirmed_df = \\\n",
    "    confirmed_df[confirmed_df.sample_date_string == extraction_previous_date].copy()\n",
    "\n",
    "if extraction_date_confirmed_df.empty and \\\n",
    "    not extraction_previous_date_confirmed_df.empty:\n",
    "        extraction_previous_date_confirmed_df[\"sample_date_string\"] = extraction_date\n",
    "        extraction_previous_date_confirmed_df[\"new_cases\"] = \\\n",
    "            extraction_previous_date_confirmed_df.rolling_mean_new_cases\n",
    "        extraction_previous_date_confirmed_df[\"cumulative_cases\"] = \\\n",
    "            extraction_previous_date_confirmed_df.new_cases + \\\n",
    "            extraction_previous_date_confirmed_df.cumulative_cases\n",
    "        confirmed_df = confirmed_df.append(extraction_previous_date_confirmed_df)\n",
    "        \n",
    "confirmed_df.tail()"
   ]
  },
  {
   "cell_type": "code",
   "execution_count": 7,
   "metadata": {
    "execution": {
     "iopub.execute_input": "2020-09-20T03:18:51.776181Z",
     "iopub.status.busy": "2020-09-20T03:18:51.775582Z",
     "iopub.status.idle": "2020-09-20T03:18:51.974768Z",
     "shell.execute_reply": "2020-09-20T03:18:51.975528Z"
    },
    "papermill": {
     "duration": 0.2448,
     "end_time": "2020-09-20T03:18:51.975699",
     "exception": false,
     "start_time": "2020-09-20T03:18:51.730899",
     "status": "completed"
    },
    "pycharm": {
     "name": "#%%\n"
    },
    "tags": []
   },
   "outputs": [
    {
     "data": {
      "text/plain": [
       "<matplotlib.axes._subplots.AxesSubplot at 0x7fb2e8165df0>"
      ]
     },
     "execution_count": 7,
     "metadata": {},
     "output_type": "execute_result"
    },
    {
     "data": {
      "image/png": "[encoded data removed]",
      "text/plain": [
       "<Figure size 1080x432 with 1 Axes>"
      ]
     },
     "metadata": {},
     "output_type": "display_data"
    }
   ],
   "source": [
    "confirmed_df[[\"new_cases\", \"rolling_mean_new_cases\"]].plot()"
   ]
  },
  {
   "cell_type": "markdown",
   "metadata": {
    "execution": {
     "iopub.execute_input": "2020-08-30T22:30:16.351238Z",
     "iopub.status.busy": "2020-08-30T22:30:16.344579Z",
     "iopub.status.idle": "2020-08-30T22:30:16.354285Z",
     "shell.execute_reply": "2020-08-30T22:30:16.353641Z"
    },
    "papermill": {
     "duration": 0.029184,
     "end_time": "2020-09-20T03:18:52.035419",
     "exception": false,
     "start_time": "2020-09-20T03:18:52.006235",
     "status": "completed"
    },
    "pycharm": {
     "name": "#%% md\n"
    },
    "tags": []
   },
   "source": [
    "### Extract API TEKs"
   ]
  },
  {
   "cell_type": "code",
   "execution_count": 8,
   "metadata": {
    "execution": {
     "iopub.execute_input": "2020-09-20T03:18:52.097928Z",
     "iopub.status.busy": "2020-09-20T03:18:52.097322Z",
     "iopub.status.idle": "2020-09-20T03:18:52.929035Z",
     "shell.execute_reply": "2020-09-20T03:18:52.928464Z"
    },
    "papermill": {
     "duration": 0.86501,
     "end_time": "2020-09-20T03:18:52.929180",
     "exception": false,
     "start_time": "2020-09-20T03:18:52.064170",
     "status": "completed"
    },
    "pycharm": {
     "name": "#%%\n"
    },
    "tags": []
   },
   "outputs": [
    {
     "name": "stderr",
     "output_type": "stream",
     "text": [
      "WARNING:root:NoDataFoundForDateException(\"No exposed tokens found for day '2020-09-20'.\")\n"
     ]
    },
    {
     "name": "stderr",
     "output_type": "stream",
     "text": [
      "WARNING:root:Unexpected key 'key_rolling_period': 38400s (expected: 86400s)\n"
     ]
    },
    {
     "name": "stderr",
     "output_type": "stream",
     "text": [
      "WARNING:root:Unexpected key 'key_rolling_period': 23400s (expected: 86400s)\n"
     ]
    },
    {
     "name": "stderr",
     "output_type": "stream",
     "text": [
      "WARNING:root:Unexpected key 'key_rolling_period': 53400s (expected: 86400s)\n"
     ]
    },
    {
     "name": "stderr",
     "output_type": "stream",
     "text": [
      "WARNING:root:Unexpected key 'key_rolling_period': 48600s (expected: 86400s)\n"
     ]
    },
    {
     "data": {
      "text/plain": [
       "['ES']"
      ]
     },
     "execution_count": 8,
     "metadata": {},
     "output_type": "execute_result"
    }
   ],
   "source": [
    "from Modules.RadarCOVID import radar_covid\n",
    "\n",
    "exposure_keys_multi_region_df = \\\n",
    "    radar_covid.download_last_radar_covid_exposure_keys(days=14)\n",
    "exposure_keys_multi_region_df = exposure_keys_multi_region_df[[\n",
    "    \"sample_date_string\", \"source_url\", \"region\", \"key_data\"]]\n",
    "active_regions = \\\n",
    "    exposure_keys_multi_region_df.groupby(\"region\").key_data.nunique().sort_values().index.unique().tolist()\n",
    "active_regions"
   ]
  },
  {
   "cell_type": "code",
   "execution_count": 9,
   "metadata": {
    "collapsed": false,
    "execution": {
     "iopub.execute_input": "2020-09-20T03:18:52.995022Z",
     "iopub.status.busy": "2020-09-20T03:18:52.994420Z",
     "iopub.status.idle": "2020-09-20T03:18:53.015530Z",
     "shell.execute_reply": "2020-09-20T03:18:53.015010Z"
    },
    "papermill": {
     "duration": 0.055386,
     "end_time": "2020-09-20T03:18:53.015658",
     "exception": false,
     "start_time": "2020-09-20T03:18:52.960272",
     "status": "completed"
    },
    "pycharm": {
     "name": "#%%\n"
    },
    "tags": []
   },
   "outputs": [
    {
     "data": {
      "text/html": [
       "<div>\n",
       "<style scoped>\n",
       "    .dataframe tbody tr th:only-of-type {\n",
       "        vertical-align: middle;\n",
       "    }\n",
       "\n",
       "    .dataframe tbody tr th {\n",
       "        vertical-align: top;\n",
       "    }\n",
       "\n",
       "    .dataframe thead tr th {\n",
       "        text-align: left;\n",
       "    }\n",
       "\n",
       "    .dataframe thead tr:last-of-type th {\n",
       "        text-align: right;\n",
       "    }\n",
       "</style>\n",
       "<table border=\"1\" class=\"dataframe\">\n",
       "  <thead>\n",
       "    <tr>\n",
       "      <th></th>\n",
       "      <th>tek_count</th>\n",
       "    </tr>\n",
       "    <tr>\n",
       "      <th>region</th>\n",
       "      <th>ES</th>\n",
       "    </tr>\n",
       "    <tr>\n",
       "      <th>sample_date_string</th>\n",
       "      <th></th>\n",
       "    </tr>\n",
       "  </thead>\n",
       "  <tbody>\n",
       "    <tr>\n",
       "      <th>2020-09-19</th>\n",
       "      <td>21</td>\n",
       "    </tr>\n",
       "    <tr>\n",
       "      <th>2020-09-18</th>\n",
       "      <td>40</td>\n",
       "    </tr>\n",
       "    <tr>\n",
       "      <th>2020-09-17</th>\n",
       "      <td>64</td>\n",
       "    </tr>\n",
       "    <tr>\n",
       "      <th>2020-09-16</th>\n",
       "      <td>67</td>\n",
       "    </tr>\n",
       "    <tr>\n",
       "      <th>2020-09-15</th>\n",
       "      <td>67</td>\n",
       "    </tr>\n",
       "  </tbody>\n",
       "</table>\n",
       "</div>"
      ],
      "text/plain": [
       "                   tek_count\n",
       "region                    ES\n",
       "sample_date_string          \n",
       "2020-09-19                21\n",
       "2020-09-18                40\n",
       "2020-09-17                64\n",
       "2020-09-16                67\n",
       "2020-09-15                67"
      ]
     },
     "execution_count": 9,
     "metadata": {},
     "output_type": "execute_result"
    }
   ],
   "source": [
    "multi_region_summary_df = exposure_keys_multi_region_df.groupby(\n",
    "    [\"sample_date_string\", \"region\"]).key_data.nunique().reset_index() \\\n",
    "    .pivot(index=\"sample_date_string\", columns=\"region\") \\\n",
    "    .sort_index(ascending=False)\n",
    "multi_region_summary_df.rename(columns={\"key_data\": \"tek_count\"}, inplace=True)\n",
    "multi_region_summary_df.head()"
   ]
  },
  {
   "cell_type": "code",
   "execution_count": 10,
   "metadata": {
    "collapsed": false,
    "execution": {
     "iopub.execute_input": "2020-09-20T03:18:53.084677Z",
     "iopub.status.busy": "2020-09-20T03:18:53.083706Z",
     "iopub.status.idle": "2020-09-20T03:18:53.089297Z",
     "shell.execute_reply": "2020-09-20T03:18:53.088755Z"
    },
    "papermill": {
     "duration": 0.042953,
     "end_time": "2020-09-20T03:18:53.089429",
     "exception": false,
     "start_time": "2020-09-20T03:18:53.046476",
     "status": "completed"
    },
    "pycharm": {
     "name": "#%%\n"
    },
    "tags": []
   },
   "outputs": [
    {
     "data": {
      "text/plain": [
       "[]"
      ]
     },
     "execution_count": 10,
     "metadata": {},
     "output_type": "execute_result"
    }
   ],
   "source": [
    "exposure_keys_multi_region_excluding_spain_df = \\\n",
    "    exposure_keys_multi_region_df[exposure_keys_multi_region_df.region != spain_region_country_code]\n",
    "active_regions_excluding_spain = \\\n",
    "    exposure_keys_multi_region_excluding_spain_df.groupby(\"region\").key_data.nunique().sort_values().index.unique().tolist()\n",
    "active_regions_excluding_spain"
   ]
  },
  {
   "cell_type": "code",
   "execution_count": 11,
   "metadata": {
    "collapsed": false,
    "execution": {
     "iopub.execute_input": "2020-09-20T03:18:53.161471Z",
     "iopub.status.busy": "2020-09-20T03:18:53.160864Z",
     "iopub.status.idle": "2020-09-20T03:18:53.171930Z",
     "shell.execute_reply": "2020-09-20T03:18:53.171408Z"
    },
    "papermill": {
     "duration": 0.048204,
     "end_time": "2020-09-20T03:18:53.172056",
     "exception": false,
     "start_time": "2020-09-20T03:18:53.123852",
     "status": "completed"
    },
    "pycharm": {
     "name": "#%%\n"
    },
    "tags": []
   },
   "outputs": [
    {
     "data": {
      "text/html": [
       "<div>\n",
       "<style scoped>\n",
       "    .dataframe tbody tr th:only-of-type {\n",
       "        vertical-align: middle;\n",
       "    }\n",
       "\n",
       "    .dataframe tbody tr th {\n",
       "        vertical-align: top;\n",
       "    }\n",
       "\n",
       "    .dataframe thead th {\n",
       "        text-align: right;\n",
       "    }\n",
       "</style>\n",
       "<table border=\"1\" class=\"dataframe\">\n",
       "  <thead>\n",
       "    <tr style=\"text-align: right;\">\n",
       "      <th></th>\n",
       "      <th>sample_date_string</th>\n",
       "      <th>source_url</th>\n",
       "      <th>region</th>\n",
       "      <th>key_data</th>\n",
       "    </tr>\n",
       "  </thead>\n",
       "  <tbody>\n",
       "    <tr>\n",
       "      <th>0</th>\n",
       "      <td>2020-09-19</td>\n",
       "      <td>https://radarcovid.covid19.gob.es/dp3t/v1/gaen...</td>\n",
       "      <td>ES</td>\n",
       "      <td>d5806799-4f6a-a7d6-6180-9a90ad4591fe</td>\n",
       "    </tr>\n",
       "    <tr>\n",
       "      <th>1</th>\n",
       "      <td>2020-09-19</td>\n",
       "      <td>https://radarcovid.covid19.gob.es/dp3t/v1/gaen...</td>\n",
       "      <td>ES</td>\n",
       "      <td>caeaaa8e-0c2e-c0a6-105a-9b59d48eb1b0</td>\n",
       "    </tr>\n",
       "    <tr>\n",
       "      <th>2</th>\n",
       "      <td>2020-09-19</td>\n",
       "      <td>https://radarcovid.covid19.gob.es/dp3t/v1/gaen...</td>\n",
       "      <td>ES</td>\n",
       "      <td>d5a97564-2295-bfdc-32b1-8846b6850197</td>\n",
       "    </tr>\n",
       "    <tr>\n",
       "      <th>3</th>\n",
       "      <td>2020-09-19</td>\n",
       "      <td>https://radarcovid.covid19.gob.es/dp3t/v1/gaen...</td>\n",
       "      <td>ES</td>\n",
       "      <td>1667ea51-7c9c-68d6-1b77-e656871e55f1</td>\n",
       "    </tr>\n",
       "    <tr>\n",
       "      <th>4</th>\n",
       "      <td>2020-09-19</td>\n",
       "      <td>https://radarcovid.covid19.gob.es/dp3t/v1/gaen...</td>\n",
       "      <td>ES</td>\n",
       "      <td>ab447657-9243-7f46-5f14-06ca0ffa9999</td>\n",
       "    </tr>\n",
       "  </tbody>\n",
       "</table>\n",
       "</div>"
      ],
      "text/plain": [
       "  sample_date_string                                         source_url  \\\n",
       "0         2020-09-19  https://radarcovid.covid19.gob.es/dp3t/v1/gaen...   \n",
       "1         2020-09-19  https://radarcovid.covid19.gob.es/dp3t/v1/gaen...   \n",
       "2         2020-09-19  https://radarcovid.covid19.gob.es/dp3t/v1/gaen...   \n",
       "3         2020-09-19  https://radarcovid.covid19.gob.es/dp3t/v1/gaen...   \n",
       "4         2020-09-19  https://radarcovid.covid19.gob.es/dp3t/v1/gaen...   \n",
       "\n",
       "  region                              key_data  \n",
       "0     ES  d5806799-4f6a-a7d6-6180-9a90ad4591fe  \n",
       "1     ES  caeaaa8e-0c2e-c0a6-105a-9b59d48eb1b0  \n",
       "2     ES  d5a97564-2295-bfdc-32b1-8846b6850197  \n",
       "3     ES  1667ea51-7c9c-68d6-1b77-e656871e55f1  \n",
       "4     ES  ab447657-9243-7f46-5f14-06ca0ffa9999  "
      ]
     },
     "execution_count": 11,
     "metadata": {},
     "output_type": "execute_result"
    }
   ],
   "source": [
    "exposure_keys_df = exposure_keys_multi_region_df[\n",
    "    exposure_keys_multi_region_df.region == spain_region_country_code]\n",
    "exposure_keys_df.head()"
   ]
  },
  {
   "cell_type": "code",
   "execution_count": 12,
   "metadata": {
    "execution": {
     "iopub.execute_input": "2020-09-20T03:18:53.240285Z",
     "iopub.status.busy": "2020-09-20T03:18:53.239681Z",
     "iopub.status.idle": "2020-09-20T03:18:53.255280Z",
     "shell.execute_reply": "2020-09-20T03:18:53.255755Z"
    },
    "papermill": {
     "duration": 0.052013,
     "end_time": "2020-09-20T03:18:53.255905",
     "exception": false,
     "start_time": "2020-09-20T03:18:53.203892",
     "status": "completed"
    },
    "scrolled": false,
    "tags": []
   },
   "outputs": [
    {
     "data": {
      "text/html": [
       "<div>\n",
       "<style scoped>\n",
       "    .dataframe tbody tr th:only-of-type {\n",
       "        vertical-align: middle;\n",
       "    }\n",
       "\n",
       "    .dataframe tbody tr th {\n",
       "        vertical-align: top;\n",
       "    }\n",
       "\n",
       "    .dataframe thead th {\n",
       "        text-align: right;\n",
       "    }\n",
       "</style>\n",
       "<table border=\"1\" class=\"dataframe\">\n",
       "  <thead>\n",
       "    <tr style=\"text-align: right;\">\n",
       "      <th></th>\n",
       "      <th>region</th>\n",
       "      <th>tek_count</th>\n",
       "    </tr>\n",
       "    <tr>\n",
       "      <th>sample_date_string</th>\n",
       "      <th></th>\n",
       "      <th></th>\n",
       "    </tr>\n",
       "  </thead>\n",
       "  <tbody>\n",
       "    <tr>\n",
       "      <th>2020-09-19</th>\n",
       "      <td>ES</td>\n",
       "      <td>21</td>\n",
       "    </tr>\n",
       "    <tr>\n",
       "      <th>2020-09-18</th>\n",
       "      <td>ES</td>\n",
       "      <td>40</td>\n",
       "    </tr>\n",
       "    <tr>\n",
       "      <th>2020-09-17</th>\n",
       "      <td>ES</td>\n",
       "      <td>64</td>\n",
       "    </tr>\n",
       "    <tr>\n",
       "      <th>2020-09-16</th>\n",
       "      <td>ES</td>\n",
       "      <td>67</td>\n",
       "    </tr>\n",
       "    <tr>\n",
       "      <th>2020-09-15</th>\n",
       "      <td>ES</td>\n",
       "      <td>67</td>\n",
       "    </tr>\n",
       "  </tbody>\n",
       "</table>\n",
       "</div>"
      ],
      "text/plain": [
       "                   region  tek_count\n",
       "sample_date_string                  \n",
       "2020-09-19             ES         21\n",
       "2020-09-18             ES         40\n",
       "2020-09-17             ES         64\n",
       "2020-09-16             ES         67\n",
       "2020-09-15             ES         67"
      ]
     },
     "execution_count": 12,
     "metadata": {},
     "output_type": "execute_result"
    }
   ],
   "source": [
    "exposure_keys_summary_df = \\\n",
    "    exposure_keys_df.groupby([\"sample_date_string\", \"region\"]).key_data.nunique().to_frame()\n",
    "exposure_keys_summary_df = \\\n",
    "    exposure_keys_summary_df.reset_index().set_index(\"sample_date_string\")\n",
    "exposure_keys_summary_df.sort_index(ascending=False, inplace=True)\n",
    "exposure_keys_summary_df.rename(columns={\"key_data\": \"tek_count\"}, inplace=True)\n",
    "exposure_keys_summary_df.head()"
   ]
  },
  {
   "cell_type": "markdown",
   "metadata": {
    "papermill": {
     "duration": 0.031848,
     "end_time": "2020-09-20T03:18:53.322041",
     "exception": false,
     "start_time": "2020-09-20T03:18:53.290193",
     "status": "completed"
    },
    "tags": []
   },
   "source": [
    "### Dump API TEKs"
   ]
  },
  {
   "cell_type": "code",
   "execution_count": 13,
   "metadata": {
    "execution": {
     "iopub.execute_input": "2020-09-20T03:18:53.403105Z",
     "iopub.status.busy": "2020-09-20T03:18:53.402404Z",
     "iopub.status.idle": "2020-09-20T03:18:53.425957Z",
     "shell.execute_reply": "2020-09-20T03:18:53.425363Z"
    },
    "papermill": {
     "duration": 0.071876,
     "end_time": "2020-09-20T03:18:53.426099",
     "exception": false,
     "start_time": "2020-09-20T03:18:53.354223",
     "status": "completed"
    },
    "tags": []
   },
   "outputs": [
    {
     "data": {
      "text/html": [
       "<div>\n",
       "<style scoped>\n",
       "    .dataframe tbody tr th:only-of-type {\n",
       "        vertical-align: middle;\n",
       "    }\n",
       "\n",
       "    .dataframe tbody tr th {\n",
       "        vertical-align: top;\n",
       "    }\n",
       "\n",
       "    .dataframe thead th {\n",
       "        text-align: right;\n",
       "    }\n",
       "</style>\n",
       "<table border=\"1\" class=\"dataframe\">\n",
       "  <thead>\n",
       "    <tr style=\"text-align: right;\">\n",
       "      <th></th>\n",
       "      <th>sample_date</th>\n",
       "      <th>tek_list</th>\n",
       "      <th>extraction_date</th>\n",
       "      <th>extraction_date_with_hour</th>\n",
       "    </tr>\n",
       "  </thead>\n",
       "  <tbody>\n",
       "    <tr>\n",
       "      <th>0</th>\n",
       "      <td>2020-09-07</td>\n",
       "      <td>[4f22f269-acd0-9cbd-5082-87826578c387, 402a892...</td>\n",
       "      <td>2020-09-20</td>\n",
       "      <td>2020-09-20@03</td>\n",
       "    </tr>\n",
       "    <tr>\n",
       "      <th>1</th>\n",
       "      <td>2020-09-08</td>\n",
       "      <td>[64d2f594-3e1e-250e-b2e2-103c46f3a4a9, b8121a9...</td>\n",
       "      <td>2020-09-20</td>\n",
       "      <td>2020-09-20@03</td>\n",
       "    </tr>\n",
       "    <tr>\n",
       "      <th>2</th>\n",
       "      <td>2020-09-09</td>\n",
       "      <td>[1f0a0575-26d0-44c1-7b58-0a0193ddfa44, 03a9a6b...</td>\n",
       "      <td>2020-09-20</td>\n",
       "      <td>2020-09-20@03</td>\n",
       "    </tr>\n",
       "    <tr>\n",
       "      <th>3</th>\n",
       "      <td>2020-09-10</td>\n",
       "      <td>[6954f38b-22cd-d093-f288-7cdb50f2951d, 1a86957...</td>\n",
       "      <td>2020-09-20</td>\n",
       "      <td>2020-09-20@03</td>\n",
       "    </tr>\n",
       "    <tr>\n",
       "      <th>4</th>\n",
       "      <td>2020-09-11</td>\n",
       "      <td>[01db2363-8b7e-6bbd-a02c-d6b8db0aedaa, 9c07934...</td>\n",
       "      <td>2020-09-20</td>\n",
       "      <td>2020-09-20@03</td>\n",
       "    </tr>\n",
       "  </tbody>\n",
       "</table>\n",
       "</div>"
      ],
      "text/plain": [
       "  sample_date                                           tek_list  \\\n",
       "0  2020-09-07  [4f22f269-acd0-9cbd-5082-87826578c387, 402a892...   \n",
       "1  2020-09-08  [64d2f594-3e1e-250e-b2e2-103c46f3a4a9, b8121a9...   \n",
       "2  2020-09-09  [1f0a0575-26d0-44c1-7b58-0a0193ddfa44, 03a9a6b...   \n",
       "3  2020-09-10  [6954f38b-22cd-d093-f288-7cdb50f2951d, 1a86957...   \n",
       "4  2020-09-11  [01db2363-8b7e-6bbd-a02c-d6b8db0aedaa, 9c07934...   \n",
       "\n",
       "  extraction_date extraction_date_with_hour  \n",
       "0      2020-09-20             2020-09-20@03  \n",
       "1      2020-09-20             2020-09-20@03  \n",
       "2      2020-09-20             2020-09-20@03  \n",
       "3      2020-09-20             2020-09-20@03  \n",
       "4      2020-09-20             2020-09-20@03  "
      ]
     },
     "execution_count": 13,
     "metadata": {},
     "output_type": "execute_result"
    }
   ],
   "source": [
    "tek_list_df = exposure_keys_df[[\"sample_date_string\", \"key_data\"]].copy()\n",
    "tek_list_df[\"key_data\"] = tek_list_df[\"key_data\"].apply(str)\n",
    "tek_list_df.rename(columns={\n",
    "    \"sample_date_string\": \"sample_date\",\n",
    "    \"key_data\": \"tek_list\"}, inplace=True)\n",
    "tek_list_df = tek_list_df.groupby(\n",
    "    \"sample_date\").tek_list.unique().reset_index()\n",
    "tek_list_df[\"extraction_date\"] = extraction_date\n",
    "tek_list_df[\"extraction_date_with_hour\"] = extraction_date_with_hour\n",
    "tek_list_df.drop(columns=[\"extraction_date\", \"extraction_date_with_hour\"]).to_json(\n",
    "    \"Data/TEKs/Current/RadarCOVID-TEKs.json\",\n",
    "    lines=True, orient=\"records\")\n",
    "tek_list_df.drop(columns=[\"extraction_date_with_hour\"]).to_json(\n",
    "    \"Data/TEKs/Daily/RadarCOVID-TEKs-\" + extraction_date + \".json\",\n",
    "    lines=True, orient=\"records\")\n",
    "tek_list_df.to_json(\n",
    "    \"Data/TEKs/Hourly/RadarCOVID-TEKs-\" + extraction_date_with_hour + \".json\",\n",
    "    lines=True, orient=\"records\")\n",
    "tek_list_df.head()"
   ]
  },
  {
   "cell_type": "markdown",
   "metadata": {
    "papermill": {
     "duration": 0.033613,
     "end_time": "2020-09-20T03:18:53.495162",
     "exception": false,
     "start_time": "2020-09-20T03:18:53.461549",
     "status": "completed"
    },
    "tags": []
   },
   "source": [
    "### Load TEK Dumps"
   ]
  },
  {
   "cell_type": "code",
   "execution_count": 14,
   "metadata": {
    "execution": {
     "iopub.execute_input": "2020-09-20T03:18:53.564707Z",
     "iopub.status.busy": "2020-09-20T03:18:53.564063Z",
     "iopub.status.idle": "2020-09-20T03:18:53.566986Z",
     "shell.execute_reply": "2020-09-20T03:18:53.566459Z"
    },
    "papermill": {
     "duration": 0.039948,
     "end_time": "2020-09-20T03:18:53.567115",
     "exception": false,
     "start_time": "2020-09-20T03:18:53.527167",
     "status": "completed"
    },
    "tags": []
   },
   "outputs": [],
   "source": [
    "import glob\n",
    "\n",
    "def load_extracted_teks(mode, limit=None) -> pd.DataFrame:\n",
    "    extracted_teks_df = pd.DataFrame()\n",
    "    paths = list(reversed(sorted(glob.glob(f\"Data/TEKs/{mode}/RadarCOVID-TEKs-*.json\"))))\n",
    "    if limit:\n",
    "        paths = paths[:limit]\n",
    "    for path in paths:\n",
    "        logging.info(f\"Loading TEKs from '{path}'...\")\n",
    "        iteration_extracted_teks_df = pd.read_json(path, lines=True)\n",
    "        extracted_teks_df = extracted_teks_df.append(\n",
    "            iteration_extracted_teks_df, sort=False)\n",
    "    return extracted_teks_df"
   ]
  },
  {
   "cell_type": "markdown",
   "metadata": {
    "execution": {
     "iopub.execute_input": "2020-08-30T22:30:16.632967Z",
     "iopub.status.busy": "2020-08-30T22:30:16.632308Z",
     "iopub.status.idle": "2020-08-30T22:30:16.634945Z",
     "shell.execute_reply": "2020-08-30T22:30:16.635575Z"
    },
    "papermill": {
     "duration": 0.03257,
     "end_time": "2020-09-20T03:18:53.633126",
     "exception": false,
     "start_time": "2020-09-20T03:18:53.600556",
     "status": "completed"
    },
    "pycharm": {
     "name": "#%% md\n"
    },
    "tags": []
   },
   "source": [
    "### Daily New TEKs"
   ]
  },
  {
   "cell_type": "code",
   "execution_count": 15,
   "metadata": {
    "execution": {
     "iopub.execute_input": "2020-09-20T03:18:53.701607Z",
     "iopub.status.busy": "2020-09-20T03:18:53.700999Z",
     "iopub.status.idle": "2020-09-20T03:18:53.774981Z",
     "shell.execute_reply": "2020-09-20T03:18:53.774446Z"
    },
    "papermill": {
     "duration": 0.109762,
     "end_time": "2020-09-20T03:18:53.775148",
     "exception": false,
     "start_time": "2020-09-20T03:18:53.665386",
     "status": "completed"
    },
    "tags": []
   },
   "outputs": [
    {
     "data": {
      "text/html": [
       "<div>\n",
       "<style scoped>\n",
       "    .dataframe tbody tr th:only-of-type {\n",
       "        vertical-align: middle;\n",
       "    }\n",
       "\n",
       "    .dataframe tbody tr th {\n",
       "        vertical-align: top;\n",
       "    }\n",
       "\n",
       "    .dataframe thead th {\n",
       "        text-align: right;\n",
       "    }\n",
       "</style>\n",
       "<table border=\"1\" class=\"dataframe\">\n",
       "  <thead>\n",
       "    <tr style=\"text-align: right;\">\n",
       "      <th></th>\n",
       "      <th>sample_date</th>\n",
       "      <th>tek_list</th>\n",
       "      <th>extraction_date</th>\n",
       "    </tr>\n",
       "  </thead>\n",
       "  <tbody>\n",
       "    <tr>\n",
       "      <th>0</th>\n",
       "      <td>2020-09-07</td>\n",
       "      <td>[4f22f269-acd0-9cbd-5082-87826578c387, 402a892...</td>\n",
       "      <td>2020-09-20</td>\n",
       "    </tr>\n",
       "    <tr>\n",
       "      <th>1</th>\n",
       "      <td>2020-09-08</td>\n",
       "      <td>[64d2f594-3e1e-250e-b2e2-103c46f3a4a9, b8121a9...</td>\n",
       "      <td>2020-09-20</td>\n",
       "    </tr>\n",
       "    <tr>\n",
       "      <th>2</th>\n",
       "      <td>2020-09-09</td>\n",
       "      <td>[1f0a0575-26d0-44c1-7b58-0a0193ddfa44, 03a9a6b...</td>\n",
       "      <td>2020-09-20</td>\n",
       "    </tr>\n",
       "    <tr>\n",
       "      <th>3</th>\n",
       "      <td>2020-09-10</td>\n",
       "      <td>[6954f38b-22cd-d093-f288-7cdb50f2951d, 1a86957...</td>\n",
       "      <td>2020-09-20</td>\n",
       "    </tr>\n",
       "    <tr>\n",
       "      <th>4</th>\n",
       "      <td>2020-09-11</td>\n",
       "      <td>[01db2363-8b7e-6bbd-a02c-d6b8db0aedaa, 9c07934...</td>\n",
       "      <td>2020-09-20</td>\n",
       "    </tr>\n",
       "  </tbody>\n",
       "</table>\n",
       "</div>"
      ],
      "text/plain": [
       "  sample_date                                           tek_list  \\\n",
       "0  2020-09-07  [4f22f269-acd0-9cbd-5082-87826578c387, 402a892...   \n",
       "1  2020-09-08  [64d2f594-3e1e-250e-b2e2-103c46f3a4a9, b8121a9...   \n",
       "2  2020-09-09  [1f0a0575-26d0-44c1-7b58-0a0193ddfa44, 03a9a6b...   \n",
       "3  2020-09-10  [6954f38b-22cd-d093-f288-7cdb50f2951d, 1a86957...   \n",
       "4  2020-09-11  [01db2363-8b7e-6bbd-a02c-d6b8db0aedaa, 9c07934...   \n",
       "\n",
       "  extraction_date  \n",
       "0      2020-09-20  \n",
       "1      2020-09-20  \n",
       "2      2020-09-20  \n",
       "3      2020-09-20  \n",
       "4      2020-09-20  "
      ]
     },
     "execution_count": 15,
     "metadata": {},
     "output_type": "execute_result"
    }
   ],
   "source": [
    "daily_extracted_teks_df = load_extracted_teks(mode=\"Daily\", limit=14)\n",
    "daily_extracted_teks_df.head()"
   ]
  },
  {
   "cell_type": "code",
   "execution_count": 16,
   "metadata": {
    "execution": {
     "iopub.execute_input": "2020-09-20T03:18:53.845831Z",
     "iopub.status.busy": "2020-09-20T03:18:53.845215Z",
     "iopub.status.idle": "2020-09-20T03:18:53.862072Z",
     "shell.execute_reply": "2020-09-20T03:18:53.861550Z"
    },
    "papermill": {
     "duration": 0.053591,
     "end_time": "2020-09-20T03:18:53.862199",
     "exception": false,
     "start_time": "2020-09-20T03:18:53.808608",
     "status": "completed"
    },
    "tags": []
   },
   "outputs": [
    {
     "data": {
      "text/html": [
       "<div>\n",
       "<style scoped>\n",
       "    .dataframe tbody tr th:only-of-type {\n",
       "        vertical-align: middle;\n",
       "    }\n",
       "\n",
       "    .dataframe tbody tr th {\n",
       "        vertical-align: top;\n",
       "    }\n",
       "\n",
       "    .dataframe thead th {\n",
       "        text-align: right;\n",
       "    }\n",
       "</style>\n",
       "<table border=\"1\" class=\"dataframe\">\n",
       "  <thead>\n",
       "    <tr style=\"text-align: right;\">\n",
       "      <th></th>\n",
       "      <th>tek_list</th>\n",
       "    </tr>\n",
       "    <tr>\n",
       "      <th>extraction_date</th>\n",
       "      <th></th>\n",
       "    </tr>\n",
       "  </thead>\n",
       "  <tbody>\n",
       "    <tr>\n",
       "      <th>2020-09-07</th>\n",
       "      <td>{92157f9e-0b01-549f-f18a-28b39ea5fdfc, 83084b5...</td>\n",
       "    </tr>\n",
       "    <tr>\n",
       "      <th>2020-09-08</th>\n",
       "      <td>{92157f9e-0b01-549f-f18a-28b39ea5fdfc, 83084b5...</td>\n",
       "    </tr>\n",
       "    <tr>\n",
       "      <th>2020-09-09</th>\n",
       "      <td>{70fe703c-55e7-b083-f749-8f31eb113656, 83084b5...</td>\n",
       "    </tr>\n",
       "    <tr>\n",
       "      <th>2020-09-10</th>\n",
       "      <td>{70fe703c-55e7-b083-f749-8f31eb113656, 83084b5...</td>\n",
       "    </tr>\n",
       "    <tr>\n",
       "      <th>2020-09-11</th>\n",
       "      <td>{70fe703c-55e7-b083-f749-8f31eb113656, 83084b5...</td>\n",
       "    </tr>\n",
       "  </tbody>\n",
       "</table>\n",
       "</div>"
      ],
      "text/plain": [
       "                                                          tek_list\n",
       "extraction_date                                                   \n",
       "2020-09-07       {92157f9e-0b01-549f-f18a-28b39ea5fdfc, 83084b5...\n",
       "2020-09-08       {92157f9e-0b01-549f-f18a-28b39ea5fdfc, 83084b5...\n",
       "2020-09-09       {70fe703c-55e7-b083-f749-8f31eb113656, 83084b5...\n",
       "2020-09-10       {70fe703c-55e7-b083-f749-8f31eb113656, 83084b5...\n",
       "2020-09-11       {70fe703c-55e7-b083-f749-8f31eb113656, 83084b5..."
      ]
     },
     "execution_count": 16,
     "metadata": {},
     "output_type": "execute_result"
    }
   ],
   "source": [
    "tek_list_df = daily_extracted_teks_df.groupby(\"extraction_date\").tek_list.apply(\n",
    "    lambda x: set(sum(x, []))).reset_index()\n",
    "tek_list_df = tek_list_df.set_index(\"extraction_date\").sort_index(ascending=True)\n",
    "tek_list_df.head()"
   ]
  },
  {
   "cell_type": "code",
   "execution_count": 17,
   "metadata": {
    "execution": {
     "iopub.execute_input": "2020-09-20T03:18:53.938214Z",
     "iopub.status.busy": "2020-09-20T03:18:53.937595Z",
     "iopub.status.idle": "2020-09-20T03:18:53.946416Z",
     "shell.execute_reply": "2020-09-20T03:18:53.945917Z"
    },
    "papermill": {
     "duration": 0.051136,
     "end_time": "2020-09-20T03:18:53.946547",
     "exception": false,
     "start_time": "2020-09-20T03:18:53.895411",
     "status": "completed"
    },
    "tags": []
   },
   "outputs": [
    {
     "data": {
      "text/html": [
       "<div>\n",
       "<style scoped>\n",
       "    .dataframe tbody tr th:only-of-type {\n",
       "        vertical-align: middle;\n",
       "    }\n",
       "\n",
       "    .dataframe tbody tr th {\n",
       "        vertical-align: top;\n",
       "    }\n",
       "\n",
       "    .dataframe thead th {\n",
       "        text-align: right;\n",
       "    }\n",
       "</style>\n",
       "<table border=\"1\" class=\"dataframe\">\n",
       "  <thead>\n",
       "    <tr style=\"text-align: right;\">\n",
       "      <th></th>\n",
       "      <th>sample_date_string</th>\n",
       "      <th>new_tek_count</th>\n",
       "    </tr>\n",
       "  </thead>\n",
       "  <tbody>\n",
       "    <tr>\n",
       "      <th>0</th>\n",
       "      <td>2020-09-07</td>\n",
       "      <td>NaN</td>\n",
       "    </tr>\n",
       "    <tr>\n",
       "      <th>1</th>\n",
       "      <td>2020-09-08</td>\n",
       "      <td>44.0</td>\n",
       "    </tr>\n",
       "    <tr>\n",
       "      <th>2</th>\n",
       "      <td>2020-09-09</td>\n",
       "      <td>67.0</td>\n",
       "    </tr>\n",
       "    <tr>\n",
       "      <th>3</th>\n",
       "      <td>2020-09-10</td>\n",
       "      <td>45.0</td>\n",
       "    </tr>\n",
       "    <tr>\n",
       "      <th>4</th>\n",
       "      <td>2020-09-11</td>\n",
       "      <td>46.0</td>\n",
       "    </tr>\n",
       "  </tbody>\n",
       "</table>\n",
       "</div>"
      ],
      "text/plain": [
       "  sample_date_string  new_tek_count\n",
       "0         2020-09-07            NaN\n",
       "1         2020-09-08           44.0\n",
       "2         2020-09-09           67.0\n",
       "3         2020-09-10           45.0\n",
       "4         2020-09-11           46.0"
      ]
     },
     "execution_count": 17,
     "metadata": {},
     "output_type": "execute_result"
    }
   ],
   "source": [
    "new_tek_df = tek_list_df.diff().tek_list.apply(\n",
    "    lambda x: len(x) if not pd.isna(x) else None).to_frame().reset_index()\n",
    "new_tek_df.rename(columns={\n",
    "    \"tek_list\": \"new_tek_count\",\n",
    "    \"extraction_date\": \"sample_date_string\",}, inplace=True)\n",
    "new_tek_df.head()"
   ]
  },
  {
   "cell_type": "code",
   "execution_count": 18,
   "metadata": {
    "execution": {
     "iopub.execute_input": "2020-09-20T03:18:54.033668Z",
     "iopub.status.busy": "2020-09-20T03:18:54.033058Z",
     "iopub.status.idle": "2020-09-20T03:18:54.036037Z",
     "shell.execute_reply": "2020-09-20T03:18:54.036515Z"
    },
    "papermill": {
     "duration": 0.056468,
     "end_time": "2020-09-20T03:18:54.036674",
     "exception": false,
     "start_time": "2020-09-20T03:18:53.980206",
     "status": "completed"
    },
    "pycharm": {
     "name": "#%%\n"
    },
    "tags": []
   },
   "outputs": [
    {
     "data": {
      "text/html": [
       "<div>\n",
       "<style scoped>\n",
       "    .dataframe tbody tr th:only-of-type {\n",
       "        vertical-align: middle;\n",
       "    }\n",
       "\n",
       "    .dataframe tbody tr th {\n",
       "        vertical-align: top;\n",
       "    }\n",
       "\n",
       "    .dataframe thead th {\n",
       "        text-align: right;\n",
       "    }\n",
       "</style>\n",
       "<table border=\"1\" class=\"dataframe\">\n",
       "  <thead>\n",
       "    <tr style=\"text-align: right;\">\n",
       "      <th></th>\n",
       "      <th>sample_date</th>\n",
       "      <th>tek_list</th>\n",
       "      <th>extraction_date</th>\n",
       "      <th>new_sample_extraction_date</th>\n",
       "    </tr>\n",
       "  </thead>\n",
       "  <tbody>\n",
       "    <tr>\n",
       "      <th>12</th>\n",
       "      <td>2020-09-19</td>\n",
       "      <td>[d5806799-4f6a-a7d6-6180-9a90ad4591fe, caeaaa8...</td>\n",
       "      <td>2020-09-20</td>\n",
       "      <td>2020-09-20</td>\n",
       "    </tr>\n",
       "    <tr>\n",
       "      <th>12</th>\n",
       "      <td>2020-09-18</td>\n",
       "      <td>[929af33f-4c54-9b8a-cf3a-a6eafed8dd0e, 8c6b618...</td>\n",
       "      <td>2020-09-19</td>\n",
       "      <td>2020-09-19</td>\n",
       "    </tr>\n",
       "    <tr>\n",
       "      <th>12</th>\n",
       "      <td>2020-09-17</td>\n",
       "      <td>[7967f68b-ead3-bdb7-a7ae-bcb78220c852, fb2d0e2...</td>\n",
       "      <td>2020-09-18</td>\n",
       "      <td>2020-09-18</td>\n",
       "    </tr>\n",
       "    <tr>\n",
       "      <th>12</th>\n",
       "      <td>2020-09-16</td>\n",
       "      <td>[713a8fac-9ef2-0c13-0162-7397da9e7778, ca13a5b...</td>\n",
       "      <td>2020-09-17</td>\n",
       "      <td>2020-09-17</td>\n",
       "    </tr>\n",
       "    <tr>\n",
       "      <th>12</th>\n",
       "      <td>2020-09-15</td>\n",
       "      <td>[f6f1a72b-e029-5cc3-06ca-7817dc59b26e, 422efa3...</td>\n",
       "      <td>2020-09-16</td>\n",
       "      <td>2020-09-16</td>\n",
       "    </tr>\n",
       "  </tbody>\n",
       "</table>\n",
       "</div>"
      ],
      "text/plain": [
       "   sample_date                                           tek_list  \\\n",
       "12  2020-09-19  [d5806799-4f6a-a7d6-6180-9a90ad4591fe, caeaaa8...   \n",
       "12  2020-09-18  [929af33f-4c54-9b8a-cf3a-a6eafed8dd0e, 8c6b618...   \n",
       "12  2020-09-17  [7967f68b-ead3-bdb7-a7ae-bcb78220c852, fb2d0e2...   \n",
       "12  2020-09-16  [713a8fac-9ef2-0c13-0162-7397da9e7778, ca13a5b...   \n",
       "12  2020-09-15  [f6f1a72b-e029-5cc3-06ca-7817dc59b26e, 422efa3...   \n",
       "\n",
       "   extraction_date new_sample_extraction_date  \n",
       "12      2020-09-20                 2020-09-20  \n",
       "12      2020-09-19                 2020-09-19  \n",
       "12      2020-09-18                 2020-09-18  \n",
       "12      2020-09-17                 2020-09-17  \n",
       "12      2020-09-16                 2020-09-16  "
      ]
     },
     "execution_count": 18,
     "metadata": {},
     "output_type": "execute_result"
    }
   ],
   "source": [
    "new_tek_devices_df = daily_extracted_teks_df.copy()\n",
    "new_tek_devices_df[\"new_sample_extraction_date\"] = \\\n",
    "    pd.to_datetime(new_tek_devices_df.sample_date) + datetime.timedelta(1)\n",
    "new_tek_devices_df[\"extraction_date\"] = pd.to_datetime(new_tek_devices_df.extraction_date)\n",
    "\n",
    "new_tek_devices_df = new_tek_devices_df[\n",
    "    new_tek_devices_df.new_sample_extraction_date == new_tek_devices_df.extraction_date]\n",
    "new_tek_devices_df.head()"
   ]
  },
  {
   "cell_type": "code",
   "execution_count": 19,
   "metadata": {
    "execution": {
     "iopub.execute_input": "2020-09-20T03:18:54.117210Z",
     "iopub.status.busy": "2020-09-20T03:18:54.116617Z",
     "iopub.status.idle": "2020-09-20T03:18:54.119579Z",
     "shell.execute_reply": "2020-09-20T03:18:54.120033Z"
    },
    "papermill": {
     "duration": 0.049236,
     "end_time": "2020-09-20T03:18:54.120183",
     "exception": false,
     "start_time": "2020-09-20T03:18:54.070947",
     "status": "completed"
    },
    "tags": []
   },
   "outputs": [
    {
     "data": {
      "text/html": [
       "<div>\n",
       "<style scoped>\n",
       "    .dataframe tbody tr th:only-of-type {\n",
       "        vertical-align: middle;\n",
       "    }\n",
       "\n",
       "    .dataframe tbody tr th {\n",
       "        vertical-align: top;\n",
       "    }\n",
       "\n",
       "    .dataframe thead th {\n",
       "        text-align: right;\n",
       "    }\n",
       "</style>\n",
       "<table border=\"1\" class=\"dataframe\">\n",
       "  <thead>\n",
       "    <tr style=\"text-align: right;\">\n",
       "      <th></th>\n",
       "      <th>sample_date_string</th>\n",
       "      <th>new_tek_devices</th>\n",
       "    </tr>\n",
       "  </thead>\n",
       "  <tbody>\n",
       "    <tr>\n",
       "      <th>0</th>\n",
       "      <td>2020-09-20</td>\n",
       "      <td>21</td>\n",
       "    </tr>\n",
       "    <tr>\n",
       "      <th>1</th>\n",
       "      <td>2020-09-19</td>\n",
       "      <td>40</td>\n",
       "    </tr>\n",
       "    <tr>\n",
       "      <th>2</th>\n",
       "      <td>2020-09-18</td>\n",
       "      <td>52</td>\n",
       "    </tr>\n",
       "    <tr>\n",
       "      <th>3</th>\n",
       "      <td>2020-09-17</td>\n",
       "      <td>29</td>\n",
       "    </tr>\n",
       "    <tr>\n",
       "      <th>4</th>\n",
       "      <td>2020-09-16</td>\n",
       "      <td>23</td>\n",
       "    </tr>\n",
       "  </tbody>\n",
       "</table>\n",
       "</div>"
      ],
      "text/plain": [
       "  sample_date_string  new_tek_devices\n",
       "0         2020-09-20               21\n",
       "1         2020-09-19               40\n",
       "2         2020-09-18               52\n",
       "3         2020-09-17               29\n",
       "4         2020-09-16               23"
      ]
     },
     "execution_count": 19,
     "metadata": {},
     "output_type": "execute_result"
    }
   ],
   "source": [
    "new_tek_devices_df.set_index(\"extraction_date\", inplace=True)\n",
    "new_tek_devices_df = new_tek_devices_df.tek_list.apply(lambda x: len(set(x))).to_frame()\n",
    "new_tek_devices_df.reset_index(inplace=True)\n",
    "new_tek_devices_df.rename(columns={\n",
    "    \"extraction_date\": \"sample_date_string\",\n",
    "    \"tek_list\": \"new_tek_devices\"}, inplace=True)\n",
    "new_tek_devices_df[\"sample_date_string\"] = new_tek_devices_df.sample_date_string.dt.strftime(\"%Y-%m-%d\")\n",
    "new_tek_devices_df.head()"
   ]
  },
  {
   "cell_type": "markdown",
   "metadata": {
    "papermill": {
     "duration": 0.035255,
     "end_time": "2020-09-20T03:18:54.189919",
     "exception": false,
     "start_time": "2020-09-20T03:18:54.154664",
     "status": "completed"
    },
    "pycharm": {
     "name": "#%% md\n"
    },
    "tags": []
   },
   "source": [
    "### Hourly New TEKs"
   ]
  },
  {
   "cell_type": "code",
   "execution_count": 20,
   "metadata": {
    "execution": {
     "iopub.execute_input": "2020-09-20T03:18:54.264648Z",
     "iopub.status.busy": "2020-09-20T03:18:54.264009Z",
     "iopub.status.idle": "2020-09-20T03:18:54.402346Z",
     "shell.execute_reply": "2020-09-20T03:18:54.402812Z"
    },
    "papermill": {
     "duration": 0.178205,
     "end_time": "2020-09-20T03:18:54.402980",
     "exception": false,
     "start_time": "2020-09-20T03:18:54.224775",
     "status": "completed"
    },
    "tags": []
   },
   "outputs": [
    {
     "data": {
      "text/html": [
       "<div>\n",
       "<style scoped>\n",
       "    .dataframe tbody tr th:only-of-type {\n",
       "        vertical-align: middle;\n",
       "    }\n",
       "\n",
       "    .dataframe tbody tr th {\n",
       "        vertical-align: top;\n",
       "    }\n",
       "\n",
       "    .dataframe thead th {\n",
       "        text-align: right;\n",
       "    }\n",
       "</style>\n",
       "<table border=\"1\" class=\"dataframe\">\n",
       "  <thead>\n",
       "    <tr style=\"text-align: right;\">\n",
       "      <th></th>\n",
       "      <th>extraction_date_with_hour</th>\n",
       "      <th>new_tek_count</th>\n",
       "    </tr>\n",
       "  </thead>\n",
       "  <tbody>\n",
       "    <tr>\n",
       "      <th>19</th>\n",
       "      <td>2020-09-19@23</td>\n",
       "      <td>0.0</td>\n",
       "    </tr>\n",
       "    <tr>\n",
       "      <th>20</th>\n",
       "      <td>2020-09-20@00</td>\n",
       "      <td>0.0</td>\n",
       "    </tr>\n",
       "    <tr>\n",
       "      <th>21</th>\n",
       "      <td>2020-09-20@01</td>\n",
       "      <td>0.0</td>\n",
       "    </tr>\n",
       "    <tr>\n",
       "      <th>22</th>\n",
       "      <td>2020-09-20@02</td>\n",
       "      <td>19.0</td>\n",
       "    </tr>\n",
       "    <tr>\n",
       "      <th>23</th>\n",
       "      <td>2020-09-20@03</td>\n",
       "      <td>0.0</td>\n",
       "    </tr>\n",
       "  </tbody>\n",
       "</table>\n",
       "</div>"
      ],
      "text/plain": [
       "   extraction_date_with_hour  new_tek_count\n",
       "19             2020-09-19@23            0.0\n",
       "20             2020-09-20@00            0.0\n",
       "21             2020-09-20@01            0.0\n",
       "22             2020-09-20@02           19.0\n",
       "23             2020-09-20@03            0.0"
      ]
     },
     "execution_count": 20,
     "metadata": {},
     "output_type": "execute_result"
    }
   ],
   "source": [
    "hourly_extracted_teks_df = load_extracted_teks(mode=\"Hourly\", limit=24)\n",
    "hourly_extracted_teks_df.head()\n",
    "\n",
    "hourly_tek_list_df = hourly_extracted_teks_df.groupby(\"extraction_date_with_hour\").tek_list.apply(\n",
    "    lambda x: set(sum(x, []))).reset_index()\n",
    "hourly_tek_list_df = hourly_tek_list_df.set_index(\"extraction_date_with_hour\").sort_index(ascending=True)\n",
    "\n",
    "hourly_new_tek_df = hourly_tek_list_df.diff().tek_list.apply(\n",
    "    lambda x: len(x) if not pd.isna(x) else None).to_frame().reset_index()\n",
    "hourly_new_tek_df.rename(columns={\n",
    "    \"tek_list\": \"new_tek_count\"}, inplace=True)\n",
    "hourly_new_tek_df.tail()"
   ]
  },
  {
   "cell_type": "code",
   "execution_count": 21,
   "metadata": {
    "execution": {
     "iopub.execute_input": "2020-09-20T03:18:54.483034Z",
     "iopub.status.busy": "2020-09-20T03:18:54.482426Z",
     "iopub.status.idle": "2020-09-20T03:18:54.504841Z",
     "shell.execute_reply": "2020-09-20T03:18:54.505331Z"
    },
    "papermill": {
     "duration": 0.064578,
     "end_time": "2020-09-20T03:18:54.505494",
     "exception": false,
     "start_time": "2020-09-20T03:18:54.440916",
     "status": "completed"
    },
    "pycharm": {
     "name": "#%%\n"
    },
    "tags": []
   },
   "outputs": [
    {
     "data": {
      "text/html": [
       "<div>\n",
       "<style scoped>\n",
       "    .dataframe tbody tr th:only-of-type {\n",
       "        vertical-align: middle;\n",
       "    }\n",
       "\n",
       "    .dataframe tbody tr th {\n",
       "        vertical-align: top;\n",
       "    }\n",
       "\n",
       "    .dataframe thead th {\n",
       "        text-align: right;\n",
       "    }\n",
       "</style>\n",
       "<table border=\"1\" class=\"dataframe\">\n",
       "  <thead>\n",
       "    <tr style=\"text-align: right;\">\n",
       "      <th></th>\n",
       "      <th>extraction_date_with_hour</th>\n",
       "      <th>new_tek_devices</th>\n",
       "    </tr>\n",
       "  </thead>\n",
       "  <tbody>\n",
       "    <tr>\n",
       "      <th>19</th>\n",
       "      <td>2020-09-19@23</td>\n",
       "      <td>0.0</td>\n",
       "    </tr>\n",
       "    <tr>\n",
       "      <th>20</th>\n",
       "      <td>2020-09-20@00</td>\n",
       "      <td>2.0</td>\n",
       "    </tr>\n",
       "    <tr>\n",
       "      <th>21</th>\n",
       "      <td>2020-09-20@01</td>\n",
       "      <td>0.0</td>\n",
       "    </tr>\n",
       "    <tr>\n",
       "      <th>22</th>\n",
       "      <td>2020-09-20@02</td>\n",
       "      <td>19.0</td>\n",
       "    </tr>\n",
       "    <tr>\n",
       "      <th>23</th>\n",
       "      <td>2020-09-20@03</td>\n",
       "      <td>0.0</td>\n",
       "    </tr>\n",
       "  </tbody>\n",
       "</table>\n",
       "</div>"
      ],
      "text/plain": [
       "   extraction_date_with_hour  new_tek_devices\n",
       "19             2020-09-19@23              0.0\n",
       "20             2020-09-20@00              2.0\n",
       "21             2020-09-20@01              0.0\n",
       "22             2020-09-20@02             19.0\n",
       "23             2020-09-20@03              0.0"
      ]
     },
     "execution_count": 21,
     "metadata": {},
     "output_type": "execute_result"
    }
   ],
   "source": [
    "hourly_new_tek_devices_df = hourly_extracted_teks_df.copy()\n",
    "hourly_new_tek_devices_df[\"new_sample_extraction_date\"] = \\\n",
    "    pd.to_datetime(hourly_new_tek_devices_df.sample_date) + datetime.timedelta(1)\n",
    "hourly_new_tek_devices_df[\"extraction_date\"] = pd.to_datetime(hourly_new_tek_devices_df.extraction_date)\n",
    "\n",
    "hourly_new_tek_devices_df = hourly_new_tek_devices_df[\n",
    "    hourly_new_tek_devices_df.new_sample_extraction_date == hourly_new_tek_devices_df.extraction_date]\n",
    "\n",
    "hourly_new_tek_devices_df.set_index(\"extraction_date_with_hour\", inplace=True)\n",
    "hourly_new_tek_devices_df_ = pd.DataFrame()\n",
    "\n",
    "for i, chunk_df in hourly_new_tek_devices_df.groupby(\"extraction_date\"):\n",
    "    chunk_df = chunk_df.copy()\n",
    "    chunk_df.sort_index(inplace=True)\n",
    "    chunk_tek_count_df = chunk_df.tek_list.apply(lambda x: len(set(x)))\n",
    "    chunk_df = chunk_tek_count_df.diff().fillna(chunk_tek_count_df).to_frame()\n",
    "    hourly_new_tek_devices_df_ = hourly_new_tek_devices_df_.append(chunk_df)\n",
    "    \n",
    "hourly_new_tek_devices_df = hourly_new_tek_devices_df_\n",
    "hourly_new_tek_devices_df.reset_index(inplace=True)\n",
    "hourly_new_tek_devices_df.rename(columns={\n",
    "    \"tek_list\": \"new_tek_devices\"}, inplace=True)\n",
    "hourly_new_tek_devices_df.tail()"
   ]
  },
  {
   "cell_type": "code",
   "execution_count": 22,
   "metadata": {
    "execution": {
     "iopub.execute_input": "2020-09-20T03:18:54.590332Z",
     "iopub.status.busy": "2020-09-20T03:18:54.589707Z",
     "iopub.status.idle": "2020-09-20T03:18:54.592960Z",
     "shell.execute_reply": "2020-09-20T03:18:54.592409Z"
    },
    "papermill": {
     "duration": 0.05237,
     "end_time": "2020-09-20T03:18:54.593087",
     "exception": false,
     "start_time": "2020-09-20T03:18:54.540717",
     "status": "completed"
    },
    "tags": []
   },
   "outputs": [
    {
     "data": {
      "text/html": [
       "<div>\n",
       "<style scoped>\n",
       "    .dataframe tbody tr th:only-of-type {\n",
       "        vertical-align: middle;\n",
       "    }\n",
       "\n",
       "    .dataframe tbody tr th {\n",
       "        vertical-align: top;\n",
       "    }\n",
       "\n",
       "    .dataframe thead th {\n",
       "        text-align: right;\n",
       "    }\n",
       "</style>\n",
       "<table border=\"1\" class=\"dataframe\">\n",
       "  <thead>\n",
       "    <tr style=\"text-align: right;\">\n",
       "      <th></th>\n",
       "      <th>extraction_date_with_hour</th>\n",
       "      <th>new_tek_count</th>\n",
       "      <th>new_tek_devices</th>\n",
       "    </tr>\n",
       "    <tr>\n",
       "      <th>datetime_utc</th>\n",
       "      <th></th>\n",
       "      <th></th>\n",
       "      <th></th>\n",
       "    </tr>\n",
       "  </thead>\n",
       "  <tbody>\n",
       "    <tr>\n",
       "      <th>2020-09-19 23:00:00</th>\n",
       "      <td>2020-09-19@23</td>\n",
       "      <td>0.0</td>\n",
       "      <td>0.0</td>\n",
       "    </tr>\n",
       "    <tr>\n",
       "      <th>2020-09-20 00:00:00</th>\n",
       "      <td>2020-09-20@00</td>\n",
       "      <td>0.0</td>\n",
       "      <td>2.0</td>\n",
       "    </tr>\n",
       "    <tr>\n",
       "      <th>2020-09-20 01:00:00</th>\n",
       "      <td>2020-09-20@01</td>\n",
       "      <td>0.0</td>\n",
       "      <td>0.0</td>\n",
       "    </tr>\n",
       "    <tr>\n",
       "      <th>2020-09-20 02:00:00</th>\n",
       "      <td>2020-09-20@02</td>\n",
       "      <td>19.0</td>\n",
       "      <td>19.0</td>\n",
       "    </tr>\n",
       "    <tr>\n",
       "      <th>2020-09-20 03:00:00</th>\n",
       "      <td>2020-09-20@03</td>\n",
       "      <td>0.0</td>\n",
       "      <td>0.0</td>\n",
       "    </tr>\n",
       "  </tbody>\n",
       "</table>\n",
       "</div>"
      ],
      "text/plain": [
       "                    extraction_date_with_hour  new_tek_count  new_tek_devices\n",
       "datetime_utc                                                                 \n",
       "2020-09-19 23:00:00             2020-09-19@23            0.0              0.0\n",
       "2020-09-20 00:00:00             2020-09-20@00            0.0              2.0\n",
       "2020-09-20 01:00:00             2020-09-20@01            0.0              0.0\n",
       "2020-09-20 02:00:00             2020-09-20@02           19.0             19.0\n",
       "2020-09-20 03:00:00             2020-09-20@03            0.0              0.0"
      ]
     },
     "execution_count": 22,
     "metadata": {},
     "output_type": "execute_result"
    }
   ],
   "source": [
    "hourly_summary_df = hourly_new_tek_df.merge(\n",
    "    hourly_new_tek_devices_df, on=[\"extraction_date_with_hour\"], how=\"outer\")\n",
    "hourly_summary_df[\"datetime_utc\"] = pd.to_datetime(\n",
    "    hourly_summary_df.extraction_date_with_hour, format=\"%Y-%m-%d@%H\")\n",
    "hourly_summary_df.set_index(\"datetime_utc\", inplace=True)\n",
    "hourly_summary_df.tail()"
   ]
  },
  {
   "cell_type": "markdown",
   "metadata": {
    "execution": {
     "iopub.execute_input": "2020-08-30T22:30:16.982353Z",
     "iopub.status.busy": "2020-08-30T22:30:16.981676Z",
     "iopub.status.idle": "2020-08-30T22:30:16.984837Z",
     "shell.execute_reply": "2020-08-30T22:30:16.985366Z"
    },
    "papermill": {
     "duration": 0.035963,
     "end_time": "2020-09-20T03:18:54.664701",
     "exception": false,
     "start_time": "2020-09-20T03:18:54.628738",
     "status": "completed"
    },
    "pycharm": {
     "name": "#%% md\n"
    },
    "tags": []
   },
   "source": [
    "### Data Merge"
   ]
  },
  {
   "cell_type": "code",
   "execution_count": 23,
   "metadata": {
    "execution": {
     "iopub.execute_input": "2020-09-20T03:18:54.742286Z",
     "iopub.status.busy": "2020-09-20T03:18:54.741682Z",
     "iopub.status.idle": "2020-09-20T03:18:54.751226Z",
     "shell.execute_reply": "2020-09-20T03:18:54.750617Z"
    },
    "papermill": {
     "duration": 0.051428,
     "end_time": "2020-09-20T03:18:54.751354",
     "exception": false,
     "start_time": "2020-09-20T03:18:54.699926",
     "status": "completed"
    },
    "pycharm": {
     "name": "#%%\n"
    },
    "tags": []
   },
   "outputs": [
    {
     "data": {
      "text/html": [
       "<div>\n",
       "<style scoped>\n",
       "    .dataframe tbody tr th:only-of-type {\n",
       "        vertical-align: middle;\n",
       "    }\n",
       "\n",
       "    .dataframe tbody tr th {\n",
       "        vertical-align: top;\n",
       "    }\n",
       "\n",
       "    .dataframe thead th {\n",
       "        text-align: right;\n",
       "    }\n",
       "</style>\n",
       "<table border=\"1\" class=\"dataframe\">\n",
       "  <thead>\n",
       "    <tr style=\"text-align: right;\">\n",
       "      <th></th>\n",
       "      <th>sample_date_string</th>\n",
       "      <th>region</th>\n",
       "      <th>tek_count</th>\n",
       "      <th>new_tek_count</th>\n",
       "    </tr>\n",
       "  </thead>\n",
       "  <tbody>\n",
       "    <tr>\n",
       "      <th>0</th>\n",
       "      <td>2020-09-19</td>\n",
       "      <td>ES</td>\n",
       "      <td>21.0</td>\n",
       "      <td>90.0</td>\n",
       "    </tr>\n",
       "    <tr>\n",
       "      <th>1</th>\n",
       "      <td>2020-09-18</td>\n",
       "      <td>ES</td>\n",
       "      <td>40.0</td>\n",
       "      <td>138.0</td>\n",
       "    </tr>\n",
       "    <tr>\n",
       "      <th>2</th>\n",
       "      <td>2020-09-17</td>\n",
       "      <td>ES</td>\n",
       "      <td>64.0</td>\n",
       "      <td>63.0</td>\n",
       "    </tr>\n",
       "    <tr>\n",
       "      <th>3</th>\n",
       "      <td>2020-09-16</td>\n",
       "      <td>ES</td>\n",
       "      <td>67.0</td>\n",
       "      <td>62.0</td>\n",
       "    </tr>\n",
       "    <tr>\n",
       "      <th>4</th>\n",
       "      <td>2020-09-15</td>\n",
       "      <td>ES</td>\n",
       "      <td>67.0</td>\n",
       "      <td>58.0</td>\n",
       "    </tr>\n",
       "  </tbody>\n",
       "</table>\n",
       "</div>"
      ],
      "text/plain": [
       "  sample_date_string region  tek_count  new_tek_count\n",
       "0         2020-09-19     ES       21.0           90.0\n",
       "1         2020-09-18     ES       40.0          138.0\n",
       "2         2020-09-17     ES       64.0           63.0\n",
       "3         2020-09-16     ES       67.0           62.0\n",
       "4         2020-09-15     ES       67.0           58.0"
      ]
     },
     "execution_count": 23,
     "metadata": {},
     "output_type": "execute_result"
    }
   ],
   "source": [
    "result_summary_df = exposure_keys_summary_df.merge(new_tek_df, on=[\"sample_date_string\"], how=\"outer\")\n",
    "result_summary_df.head()"
   ]
  },
  {
   "cell_type": "code",
   "execution_count": 24,
   "metadata": {
    "execution": {
     "iopub.execute_input": "2020-09-20T03:18:54.836953Z",
     "iopub.status.busy": "2020-09-20T03:18:54.836303Z",
     "iopub.status.idle": "2020-09-20T03:18:54.839706Z",
     "shell.execute_reply": "2020-09-20T03:18:54.839186Z"
    },
    "papermill": {
     "duration": 0.052719,
     "end_time": "2020-09-20T03:18:54.839834",
     "exception": false,
     "start_time": "2020-09-20T03:18:54.787115",
     "status": "completed"
    },
    "tags": []
   },
   "outputs": [
    {
     "data": {
      "text/html": [
       "<div>\n",
       "<style scoped>\n",
       "    .dataframe tbody tr th:only-of-type {\n",
       "        vertical-align: middle;\n",
       "    }\n",
       "\n",
       "    .dataframe tbody tr th {\n",
       "        vertical-align: top;\n",
       "    }\n",
       "\n",
       "    .dataframe thead th {\n",
       "        text-align: right;\n",
       "    }\n",
       "</style>\n",
       "<table border=\"1\" class=\"dataframe\">\n",
       "  <thead>\n",
       "    <tr style=\"text-align: right;\">\n",
       "      <th></th>\n",
       "      <th>sample_date_string</th>\n",
       "      <th>region</th>\n",
       "      <th>tek_count</th>\n",
       "      <th>new_tek_count</th>\n",
       "      <th>new_tek_devices</th>\n",
       "    </tr>\n",
       "  </thead>\n",
       "  <tbody>\n",
       "    <tr>\n",
       "      <th>0</th>\n",
       "      <td>2020-09-19</td>\n",
       "      <td>ES</td>\n",
       "      <td>21.0</td>\n",
       "      <td>90.0</td>\n",
       "      <td>40</td>\n",
       "    </tr>\n",
       "    <tr>\n",
       "      <th>1</th>\n",
       "      <td>2020-09-18</td>\n",
       "      <td>ES</td>\n",
       "      <td>40.0</td>\n",
       "      <td>138.0</td>\n",
       "      <td>52</td>\n",
       "    </tr>\n",
       "    <tr>\n",
       "      <th>2</th>\n",
       "      <td>2020-09-17</td>\n",
       "      <td>ES</td>\n",
       "      <td>64.0</td>\n",
       "      <td>63.0</td>\n",
       "      <td>29</td>\n",
       "    </tr>\n",
       "    <tr>\n",
       "      <th>3</th>\n",
       "      <td>2020-09-16</td>\n",
       "      <td>ES</td>\n",
       "      <td>67.0</td>\n",
       "      <td>62.0</td>\n",
       "      <td>23</td>\n",
       "    </tr>\n",
       "    <tr>\n",
       "      <th>4</th>\n",
       "      <td>2020-09-15</td>\n",
       "      <td>ES</td>\n",
       "      <td>67.0</td>\n",
       "      <td>58.0</td>\n",
       "      <td>23</td>\n",
       "    </tr>\n",
       "  </tbody>\n",
       "</table>\n",
       "</div>"
      ],
      "text/plain": [
       "  sample_date_string region  tek_count  new_tek_count  new_tek_devices\n",
       "0         2020-09-19     ES       21.0           90.0               40\n",
       "1         2020-09-18     ES       40.0          138.0               52\n",
       "2         2020-09-17     ES       64.0           63.0               29\n",
       "3         2020-09-16     ES       67.0           62.0               23\n",
       "4         2020-09-15     ES       67.0           58.0               23"
      ]
     },
     "execution_count": 24,
     "metadata": {},
     "output_type": "execute_result"
    }
   ],
   "source": [
    "result_summary_df = result_summary_df.merge(new_tek_devices_df, on=[\"sample_date_string\"], how=\"outer\")\n",
    "result_summary_df.head()"
   ]
  },
  {
   "cell_type": "code",
   "execution_count": 25,
   "metadata": {
    "execution": {
     "iopub.execute_input": "2020-09-20T03:18:54.916725Z",
     "iopub.status.busy": "2020-09-20T03:18:54.916088Z",
     "iopub.status.idle": "2020-09-20T03:18:54.931041Z",
     "shell.execute_reply": "2020-09-20T03:18:54.931575Z"
    },
    "papermill": {
     "duration": 0.056352,
     "end_time": "2020-09-20T03:18:54.931722",
     "exception": false,
     "start_time": "2020-09-20T03:18:54.875370",
     "status": "completed"
    },
    "pycharm": {
     "name": "#%%\n"
    },
    "tags": []
   },
   "outputs": [
    {
     "data": {
      "text/html": [
       "<div>\n",
       "<style scoped>\n",
       "    .dataframe tbody tr th:only-of-type {\n",
       "        vertical-align: middle;\n",
       "    }\n",
       "\n",
       "    .dataframe tbody tr th {\n",
       "        vertical-align: top;\n",
       "    }\n",
       "\n",
       "    .dataframe thead th {\n",
       "        text-align: right;\n",
       "    }\n",
       "</style>\n",
       "<table border=\"1\" class=\"dataframe\">\n",
       "  <thead>\n",
       "    <tr style=\"text-align: right;\">\n",
       "      <th></th>\n",
       "      <th>sample_date_string</th>\n",
       "      <th>region</th>\n",
       "      <th>tek_count</th>\n",
       "      <th>new_tek_count</th>\n",
       "      <th>new_tek_devices</th>\n",
       "      <th>cumulative_cases</th>\n",
       "      <th>new_cases</th>\n",
       "      <th>rolling_mean_new_cases</th>\n",
       "    </tr>\n",
       "  </thead>\n",
       "  <tbody>\n",
       "    <tr>\n",
       "      <th>0</th>\n",
       "      <td>2020-09-19</td>\n",
       "      <td>ES</td>\n",
       "      <td>21.0</td>\n",
       "      <td>90.0</td>\n",
       "      <td>40</td>\n",
       "      <td>1280080.0</td>\n",
       "      <td>0.0</td>\n",
       "      <td>21061.0</td>\n",
       "    </tr>\n",
       "    <tr>\n",
       "      <th>1</th>\n",
       "      <td>2020-09-18</td>\n",
       "      <td>ES</td>\n",
       "      <td>40.0</td>\n",
       "      <td>138.0</td>\n",
       "      <td>52</td>\n",
       "      <td>1280080.0</td>\n",
       "      <td>28778.0</td>\n",
       "      <td>21061.0</td>\n",
       "    </tr>\n",
       "    <tr>\n",
       "      <th>2</th>\n",
       "      <td>2020-09-17</td>\n",
       "      <td>ES</td>\n",
       "      <td>64.0</td>\n",
       "      <td>63.0</td>\n",
       "      <td>29</td>\n",
       "      <td>1251302.0</td>\n",
       "      <td>22582.0</td>\n",
       "      <td>20431.0</td>\n",
       "    </tr>\n",
       "    <tr>\n",
       "      <th>3</th>\n",
       "      <td>2020-09-16</td>\n",
       "      <td>ES</td>\n",
       "      <td>67.0</td>\n",
       "      <td>62.0</td>\n",
       "      <td>23</td>\n",
       "      <td>1228720.0</td>\n",
       "      <td>22386.0</td>\n",
       "      <td>20280.0</td>\n",
       "    </tr>\n",
       "    <tr>\n",
       "      <th>4</th>\n",
       "      <td>2020-09-15</td>\n",
       "      <td>ES</td>\n",
       "      <td>67.0</td>\n",
       "      <td>58.0</td>\n",
       "      <td>23</td>\n",
       "      <td>1206334.0</td>\n",
       "      <td>18874.0</td>\n",
       "      <td>19615.0</td>\n",
       "    </tr>\n",
       "  </tbody>\n",
       "</table>\n",
       "</div>"
      ],
      "text/plain": [
       "  sample_date_string region  tek_count  new_tek_count  new_tek_devices  \\\n",
       "0         2020-09-19     ES       21.0           90.0               40   \n",
       "1         2020-09-18     ES       40.0          138.0               52   \n",
       "2         2020-09-17     ES       64.0           63.0               29   \n",
       "3         2020-09-16     ES       67.0           62.0               23   \n",
       "4         2020-09-15     ES       67.0           58.0               23   \n",
       "\n",
       "   cumulative_cases  new_cases  rolling_mean_new_cases  \n",
       "0         1280080.0        0.0                 21061.0  \n",
       "1         1280080.0    28778.0                 21061.0  \n",
       "2         1251302.0    22582.0                 20431.0  \n",
       "3         1228720.0    22386.0                 20280.0  \n",
       "4         1206334.0    18874.0                 19615.0  "
      ]
     },
     "execution_count": 25,
     "metadata": {},
     "output_type": "execute_result"
    }
   ],
   "source": [
    "result_summary_df = result_summary_df.merge(confirmed_df, on=[\"sample_date_string\"], how=\"left\")\n",
    "result_summary_df.head()"
   ]
  },
  {
   "cell_type": "code",
   "execution_count": 26,
   "metadata": {
    "execution": {
     "iopub.execute_input": "2020-09-20T03:18:55.015157Z",
     "iopub.status.busy": "2020-09-20T03:18:55.014552Z",
     "iopub.status.idle": "2020-09-20T03:18:55.030228Z",
     "shell.execute_reply": "2020-09-20T03:18:55.029711Z"
    },
    "papermill": {
     "duration": 0.060055,
     "end_time": "2020-09-20T03:18:55.030354",
     "exception": false,
     "start_time": "2020-09-20T03:18:54.970299",
     "status": "completed"
    },
    "pycharm": {
     "name": "#%%\n"
    },
    "tags": []
   },
   "outputs": [
    {
     "data": {
      "text/html": [
       "<div>\n",
       "<style scoped>\n",
       "    .dataframe tbody tr th:only-of-type {\n",
       "        vertical-align: middle;\n",
       "    }\n",
       "\n",
       "    .dataframe tbody tr th {\n",
       "        vertical-align: top;\n",
       "    }\n",
       "\n",
       "    .dataframe thead th {\n",
       "        text-align: right;\n",
       "    }\n",
       "</style>\n",
       "<table border=\"1\" class=\"dataframe\">\n",
       "  <thead>\n",
       "    <tr style=\"text-align: right;\">\n",
       "      <th></th>\n",
       "      <th>sample_date_string</th>\n",
       "      <th>region</th>\n",
       "      <th>tek_count</th>\n",
       "      <th>new_tek_count</th>\n",
       "      <th>new_tek_devices</th>\n",
       "      <th>cumulative_cases</th>\n",
       "      <th>new_cases</th>\n",
       "      <th>rolling_mean_new_cases</th>\n",
       "      <th>tek_count_per_new_case</th>\n",
       "      <th>new_tek_count_per_new_case</th>\n",
       "      <th>new_tek_devices_per_new_case</th>\n",
       "      <th>new_tek_count_per_new_tek_device</th>\n",
       "    </tr>\n",
       "  </thead>\n",
       "  <tbody>\n",
       "    <tr>\n",
       "      <th>0</th>\n",
       "      <td>2020-09-19</td>\n",
       "      <td>ES</td>\n",
       "      <td>21.0</td>\n",
       "      <td>90.0</td>\n",
       "      <td>40</td>\n",
       "      <td>1280080.0</td>\n",
       "      <td>0.0</td>\n",
       "      <td>21061.0</td>\n",
       "      <td>0.000997</td>\n",
       "      <td>0.004273</td>\n",
       "      <td>0.001899</td>\n",
       "      <td>2.250000</td>\n",
       "    </tr>\n",
       "    <tr>\n",
       "      <th>1</th>\n",
       "      <td>2020-09-18</td>\n",
       "      <td>ES</td>\n",
       "      <td>40.0</td>\n",
       "      <td>138.0</td>\n",
       "      <td>52</td>\n",
       "      <td>1280080.0</td>\n",
       "      <td>28778.0</td>\n",
       "      <td>21061.0</td>\n",
       "      <td>0.001899</td>\n",
       "      <td>0.006552</td>\n",
       "      <td>0.002469</td>\n",
       "      <td>2.653846</td>\n",
       "    </tr>\n",
       "    <tr>\n",
       "      <th>2</th>\n",
       "      <td>2020-09-17</td>\n",
       "      <td>ES</td>\n",
       "      <td>64.0</td>\n",
       "      <td>63.0</td>\n",
       "      <td>29</td>\n",
       "      <td>1251302.0</td>\n",
       "      <td>22582.0</td>\n",
       "      <td>20431.0</td>\n",
       "      <td>0.003132</td>\n",
       "      <td>0.003084</td>\n",
       "      <td>0.001419</td>\n",
       "      <td>2.172414</td>\n",
       "    </tr>\n",
       "    <tr>\n",
       "      <th>3</th>\n",
       "      <td>2020-09-16</td>\n",
       "      <td>ES</td>\n",
       "      <td>67.0</td>\n",
       "      <td>62.0</td>\n",
       "      <td>23</td>\n",
       "      <td>1228720.0</td>\n",
       "      <td>22386.0</td>\n",
       "      <td>20280.0</td>\n",
       "      <td>0.003304</td>\n",
       "      <td>0.003057</td>\n",
       "      <td>0.001134</td>\n",
       "      <td>2.695652</td>\n",
       "    </tr>\n",
       "    <tr>\n",
       "      <th>4</th>\n",
       "      <td>2020-09-15</td>\n",
       "      <td>ES</td>\n",
       "      <td>67.0</td>\n",
       "      <td>58.0</td>\n",
       "      <td>23</td>\n",
       "      <td>1206334.0</td>\n",
       "      <td>18874.0</td>\n",
       "      <td>19615.0</td>\n",
       "      <td>0.003416</td>\n",
       "      <td>0.002957</td>\n",
       "      <td>0.001173</td>\n",
       "      <td>2.521739</td>\n",
       "    </tr>\n",
       "  </tbody>\n",
       "</table>\n",
       "</div>"
      ],
      "text/plain": [
       "  sample_date_string region  tek_count  new_tek_count  new_tek_devices  \\\n",
       "0         2020-09-19     ES       21.0           90.0               40   \n",
       "1         2020-09-18     ES       40.0          138.0               52   \n",
       "2         2020-09-17     ES       64.0           63.0               29   \n",
       "3         2020-09-16     ES       67.0           62.0               23   \n",
       "4         2020-09-15     ES       67.0           58.0               23   \n",
       "\n",
       "   cumulative_cases  new_cases  rolling_mean_new_cases  \\\n",
       "0         1280080.0        0.0                 21061.0   \n",
       "1         1280080.0    28778.0                 21061.0   \n",
       "2         1251302.0    22582.0                 20431.0   \n",
       "3         1228720.0    22386.0                 20280.0   \n",
       "4         1206334.0    18874.0                 19615.0   \n",
       "\n",
       "   tek_count_per_new_case  new_tek_count_per_new_case  \\\n",
       "0                0.000997                    0.004273   \n",
       "1                0.001899                    0.006552   \n",
       "2                0.003132                    0.003084   \n",
       "3                0.003304                    0.003057   \n",
       "4                0.003416                    0.002957   \n",
       "\n",
       "   new_tek_devices_per_new_case  new_tek_count_per_new_tek_device  \n",
       "0                      0.001899                          2.250000  \n",
       "1                      0.002469                          2.653846  \n",
       "2                      0.001419                          2.172414  \n",
       "3                      0.001134                          2.695652  \n",
       "4                      0.001173                          2.521739  "
      ]
     },
     "execution_count": 26,
     "metadata": {},
     "output_type": "execute_result"
    }
   ],
   "source": [
    "result_summary_df[\"tek_count_per_new_case\"] = \\\n",
    "    result_summary_df.tek_count / result_summary_df.rolling_mean_new_cases\n",
    "result_summary_df[\"new_tek_count_per_new_case\"] = \\\n",
    "    result_summary_df.new_tek_count / result_summary_df.rolling_mean_new_cases\n",
    "result_summary_df[\"new_tek_devices_per_new_case\"] = \\\n",
    "    result_summary_df.new_tek_devices / result_summary_df.rolling_mean_new_cases\n",
    "result_summary_df[\"new_tek_count_per_new_tek_device\"] = \\\n",
    "    result_summary_df.new_tek_count / result_summary_df.new_tek_devices\n",
    "result_summary_df.head()"
   ]
  },
  {
   "cell_type": "code",
   "execution_count": 27,
   "metadata": {
    "execution": {
     "iopub.execute_input": "2020-09-20T03:18:55.111449Z",
     "iopub.status.busy": "2020-09-20T03:18:55.110854Z",
     "iopub.status.idle": "2020-09-20T03:18:55.113659Z",
     "shell.execute_reply": "2020-09-20T03:18:55.114134Z"
    },
    "papermill": {
     "duration": 0.046844,
     "end_time": "2020-09-20T03:18:55.114279",
     "exception": false,
     "start_time": "2020-09-20T03:18:55.067435",
     "status": "completed"
    },
    "pycharm": {
     "name": "#%%\n"
    },
    "tags": []
   },
   "outputs": [],
   "source": [
    "result_summary_df[\"sample_date\"] = pd.to_datetime(result_summary_df.sample_date_string)\n",
    "result_summary_df.set_index(\"sample_date\", inplace=True)\n",
    "result_summary_df = result_summary_df.sort_index(ascending=False)"
   ]
  },
  {
   "cell_type": "markdown",
   "metadata": {
    "execution": {
     "iopub.execute_input": "2020-08-30T22:30:17.313260Z",
     "iopub.status.busy": "2020-08-30T22:30:17.312584Z",
     "iopub.status.idle": "2020-08-30T22:30:17.317571Z",
     "shell.execute_reply": "2020-08-30T22:30:17.316929Z"
    },
    "papermill": {
     "duration": 0.036884,
     "end_time": "2020-09-20T03:18:55.188508",
     "exception": false,
     "start_time": "2020-09-20T03:18:55.151624",
     "status": "completed"
    },
    "pycharm": {
     "name": "#%% md\n"
    },
    "tags": []
   },
   "source": [
    "## Report Results\n"
   ]
  },
  {
   "cell_type": "markdown",
   "metadata": {
    "papermill": {
     "duration": 0.037148,
     "end_time": "2020-09-20T03:18:55.262787",
     "exception": false,
     "start_time": "2020-09-20T03:18:55.225639",
     "status": "completed"
    },
    "tags": []
   },
   "source": [
    "### Summary Table"
   ]
  },
  {
   "cell_type": "code",
   "execution_count": 28,
   "metadata": {
    "execution": {
     "iopub.execute_input": "2020-09-20T03:18:55.354493Z",
     "iopub.status.busy": "2020-09-20T03:18:55.353773Z",
     "iopub.status.idle": "2020-09-20T03:18:55.357302Z",
     "shell.execute_reply": "2020-09-20T03:18:55.356789Z"
    },
    "papermill": {
     "duration": 0.057785,
     "end_time": "2020-09-20T03:18:55.357429",
     "exception": false,
     "start_time": "2020-09-20T03:18:55.299644",
     "status": "completed"
    },
    "tags": []
   },
   "outputs": [
    {
     "data": {
      "text/html": [
       "<div>\n",
       "<style scoped>\n",
       "    .dataframe tbody tr th:only-of-type {\n",
       "        vertical-align: middle;\n",
       "    }\n",
       "\n",
       "    .dataframe tbody tr th {\n",
       "        vertical-align: top;\n",
       "    }\n",
       "\n",
       "    .dataframe thead th {\n",
       "        text-align: right;\n",
       "    }\n",
       "</style>\n",
       "<table border=\"1\" class=\"dataframe\">\n",
       "  <thead>\n",
       "    <tr style=\"text-align: right;\">\n",
       "      <th></th>\n",
       "      <th>region</th>\n",
       "      <th>rolling_mean_new_cases</th>\n",
       "      <th>tek_count</th>\n",
       "      <th>new_tek_count</th>\n",
       "      <th>new_tek_devices</th>\n",
       "      <th>tek_count_per_new_case</th>\n",
       "      <th>new_tek_count_per_new_case</th>\n",
       "      <th>new_tek_devices_per_new_case</th>\n",
       "      <th>new_tek_count_per_new_tek_device</th>\n",
       "    </tr>\n",
       "    <tr>\n",
       "      <th>sample_date</th>\n",
       "      <th></th>\n",
       "      <th></th>\n",
       "      <th></th>\n",
       "      <th></th>\n",
       "      <th></th>\n",
       "      <th></th>\n",
       "      <th></th>\n",
       "      <th></th>\n",
       "      <th></th>\n",
       "    </tr>\n",
       "  </thead>\n",
       "  <tbody>\n",
       "    <tr>\n",
       "      <th>2020-09-20</th>\n",
       "      <td>NaN</td>\n",
       "      <td>21061.0</td>\n",
       "      <td>NaN</td>\n",
       "      <td>19.0</td>\n",
       "      <td>21</td>\n",
       "      <td>NaN</td>\n",
       "      <td>0.000902</td>\n",
       "      <td>0.000997</td>\n",
       "      <td>0.904762</td>\n",
       "    </tr>\n",
       "    <tr>\n",
       "      <th>2020-09-19</th>\n",
       "      <td>ES</td>\n",
       "      <td>21061.0</td>\n",
       "      <td>21.0</td>\n",
       "      <td>90.0</td>\n",
       "      <td>40</td>\n",
       "      <td>0.000997</td>\n",
       "      <td>0.004273</td>\n",
       "      <td>0.001899</td>\n",
       "      <td>2.250000</td>\n",
       "    </tr>\n",
       "    <tr>\n",
       "      <th>2020-09-18</th>\n",
       "      <td>ES</td>\n",
       "      <td>21061.0</td>\n",
       "      <td>40.0</td>\n",
       "      <td>138.0</td>\n",
       "      <td>52</td>\n",
       "      <td>0.001899</td>\n",
       "      <td>0.006552</td>\n",
       "      <td>0.002469</td>\n",
       "      <td>2.653846</td>\n",
       "    </tr>\n",
       "    <tr>\n",
       "      <th>2020-09-17</th>\n",
       "      <td>ES</td>\n",
       "      <td>20431.0</td>\n",
       "      <td>64.0</td>\n",
       "      <td>63.0</td>\n",
       "      <td>29</td>\n",
       "      <td>0.003132</td>\n",
       "      <td>0.003084</td>\n",
       "      <td>0.001419</td>\n",
       "      <td>2.172414</td>\n",
       "    </tr>\n",
       "    <tr>\n",
       "      <th>2020-09-16</th>\n",
       "      <td>ES</td>\n",
       "      <td>20280.0</td>\n",
       "      <td>67.0</td>\n",
       "      <td>62.0</td>\n",
       "      <td>23</td>\n",
       "      <td>0.003304</td>\n",
       "      <td>0.003057</td>\n",
       "      <td>0.001134</td>\n",
       "      <td>2.695652</td>\n",
       "    </tr>\n",
       "    <tr>\n",
       "      <th>2020-09-15</th>\n",
       "      <td>ES</td>\n",
       "      <td>19615.0</td>\n",
       "      <td>67.0</td>\n",
       "      <td>58.0</td>\n",
       "      <td>23</td>\n",
       "      <td>0.003416</td>\n",
       "      <td>0.002957</td>\n",
       "      <td>0.001173</td>\n",
       "      <td>2.521739</td>\n",
       "    </tr>\n",
       "    <tr>\n",
       "      <th>2020-09-14</th>\n",
       "      <td>ES</td>\n",
       "      <td>19480.0</td>\n",
       "      <td>73.0</td>\n",
       "      <td>61.0</td>\n",
       "      <td>28</td>\n",
       "      <td>0.003747</td>\n",
       "      <td>0.003131</td>\n",
       "      <td>0.001437</td>\n",
       "      <td>2.178571</td>\n",
       "    </tr>\n",
       "    <tr>\n",
       "      <th>2020-09-13</th>\n",
       "      <td>ES</td>\n",
       "      <td>19239.0</td>\n",
       "      <td>75.0</td>\n",
       "      <td>92.0</td>\n",
       "      <td>32</td>\n",
       "      <td>0.003898</td>\n",
       "      <td>0.004782</td>\n",
       "      <td>0.001663</td>\n",
       "      <td>2.875000</td>\n",
       "    </tr>\n",
       "    <tr>\n",
       "      <th>2020-09-12</th>\n",
       "      <td>ES</td>\n",
       "      <td>19239.0</td>\n",
       "      <td>67.0</td>\n",
       "      <td>92.0</td>\n",
       "      <td>33</td>\n",
       "      <td>0.003483</td>\n",
       "      <td>0.004782</td>\n",
       "      <td>0.001715</td>\n",
       "      <td>2.787879</td>\n",
       "    </tr>\n",
       "    <tr>\n",
       "      <th>2020-09-11</th>\n",
       "      <td>ES</td>\n",
       "      <td>19239.0</td>\n",
       "      <td>75.0</td>\n",
       "      <td>46.0</td>\n",
       "      <td>19</td>\n",
       "      <td>0.003898</td>\n",
       "      <td>0.002391</td>\n",
       "      <td>0.000988</td>\n",
       "      <td>2.421053</td>\n",
       "    </tr>\n",
       "    <tr>\n",
       "      <th>2020-09-10</th>\n",
       "      <td>ES</td>\n",
       "      <td>18751.0</td>\n",
       "      <td>68.0</td>\n",
       "      <td>45.0</td>\n",
       "      <td>15</td>\n",
       "      <td>0.003626</td>\n",
       "      <td>0.002400</td>\n",
       "      <td>0.000800</td>\n",
       "      <td>3.000000</td>\n",
       "    </tr>\n",
       "    <tr>\n",
       "      <th>2020-09-09</th>\n",
       "      <td>ES</td>\n",
       "      <td>18236.0</td>\n",
       "      <td>60.0</td>\n",
       "      <td>67.0</td>\n",
       "      <td>21</td>\n",
       "      <td>0.003290</td>\n",
       "      <td>0.003674</td>\n",
       "      <td>0.001152</td>\n",
       "      <td>3.190476</td>\n",
       "    </tr>\n",
       "    <tr>\n",
       "      <th>2020-09-08</th>\n",
       "      <td>ES</td>\n",
       "      <td>18154.0</td>\n",
       "      <td>61.0</td>\n",
       "      <td>44.0</td>\n",
       "      <td>18</td>\n",
       "      <td>0.003360</td>\n",
       "      <td>0.002424</td>\n",
       "      <td>0.000992</td>\n",
       "      <td>2.444444</td>\n",
       "    </tr>\n",
       "    <tr>\n",
       "      <th>2020-09-07</th>\n",
       "      <td>ES</td>\n",
       "      <td>17912.0</td>\n",
       "      <td>58.0</td>\n",
       "      <td>NaN</td>\n",
       "      <td>22</td>\n",
       "      <td>0.003238</td>\n",
       "      <td>NaN</td>\n",
       "      <td>0.001228</td>\n",
       "      <td>NaN</td>\n",
       "    </tr>\n",
       "  </tbody>\n",
       "</table>\n",
       "</div>"
      ],
      "text/plain": [
       "            region  rolling_mean_new_cases  tek_count  new_tek_count  \\\n",
       "sample_date                                                            \n",
       "2020-09-20     NaN                 21061.0        NaN           19.0   \n",
       "2020-09-19      ES                 21061.0       21.0           90.0   \n",
       "2020-09-18      ES                 21061.0       40.0          138.0   \n",
       "2020-09-17      ES                 20431.0       64.0           63.0   \n",
       "2020-09-16      ES                 20280.0       67.0           62.0   \n",
       "2020-09-15      ES                 19615.0       67.0           58.0   \n",
       "2020-09-14      ES                 19480.0       73.0           61.0   \n",
       "2020-09-13      ES                 19239.0       75.0           92.0   \n",
       "2020-09-12      ES                 19239.0       67.0           92.0   \n",
       "2020-09-11      ES                 19239.0       75.0           46.0   \n",
       "2020-09-10      ES                 18751.0       68.0           45.0   \n",
       "2020-09-09      ES                 18236.0       60.0           67.0   \n",
       "2020-09-08      ES                 18154.0       61.0           44.0   \n",
       "2020-09-07      ES                 17912.0       58.0            NaN   \n",
       "\n",
       "             new_tek_devices  tek_count_per_new_case  \\\n",
       "sample_date                                            \n",
       "2020-09-20                21                     NaN   \n",
       "2020-09-19                40                0.000997   \n",
       "2020-09-18                52                0.001899   \n",
       "2020-09-17                29                0.003132   \n",
       "2020-09-16                23                0.003304   \n",
       "2020-09-15                23                0.003416   \n",
       "2020-09-14                28                0.003747   \n",
       "2020-09-13                32                0.003898   \n",
       "2020-09-12                33                0.003483   \n",
       "2020-09-11                19                0.003898   \n",
       "2020-09-10                15                0.003626   \n",
       "2020-09-09                21                0.003290   \n",
       "2020-09-08                18                0.003360   \n",
       "2020-09-07                22                0.003238   \n",
       "\n",
       "             new_tek_count_per_new_case  new_tek_devices_per_new_case  \\\n",
       "sample_date                                                             \n",
       "2020-09-20                     0.000902                      0.000997   \n",
       "2020-09-19                     0.004273                      0.001899   \n",
       "2020-09-18                     0.006552                      0.002469   \n",
       "2020-09-17                     0.003084                      0.001419   \n",
       "2020-09-16                     0.003057                      0.001134   \n",
       "2020-09-15                     0.002957                      0.001173   \n",
       "2020-09-14                     0.003131                      0.001437   \n",
       "2020-09-13                     0.004782                      0.001663   \n",
       "2020-09-12                     0.004782                      0.001715   \n",
       "2020-09-11                     0.002391                      0.000988   \n",
       "2020-09-10                     0.002400                      0.000800   \n",
       "2020-09-09                     0.003674                      0.001152   \n",
       "2020-09-08                     0.002424                      0.000992   \n",
       "2020-09-07                          NaN                      0.001228   \n",
       "\n",
       "             new_tek_count_per_new_tek_device  \n",
       "sample_date                                    \n",
       "2020-09-20                           0.904762  \n",
       "2020-09-19                           2.250000  \n",
       "2020-09-18                           2.653846  \n",
       "2020-09-17                           2.172414  \n",
       "2020-09-16                           2.695652  \n",
       "2020-09-15                           2.521739  \n",
       "2020-09-14                           2.178571  \n",
       "2020-09-13                           2.875000  \n",
       "2020-09-12                           2.787879  \n",
       "2020-09-11                           2.421053  \n",
       "2020-09-10                           3.000000  \n",
       "2020-09-09                           3.190476  \n",
       "2020-09-08                           2.444444  \n",
       "2020-09-07                                NaN  "
      ]
     },
     "execution_count": 28,
     "metadata": {},
     "output_type": "execute_result"
    }
   ],
   "source": [
    "result_summary_df_ = result_summary_df.copy()\n",
    "result_summary_df = result_summary_df[[\n",
    "    \"region\",\n",
    "    \"rolling_mean_new_cases\",\n",
    "    \"tek_count\",\n",
    "    \"new_tek_count\",\n",
    "    \"new_tek_devices\",\n",
    "    \"tek_count_per_new_case\",\n",
    "    \"new_tek_count_per_new_case\",\n",
    "    \"new_tek_devices_per_new_case\",\n",
    "    \"new_tek_count_per_new_tek_device\"]]\n",
    "result_summary_df"
   ]
  },
  {
   "cell_type": "markdown",
   "metadata": {
    "papermill": {
     "duration": 0.039652,
     "end_time": "2020-09-20T03:18:55.435789",
     "exception": false,
     "start_time": "2020-09-20T03:18:55.396137",
     "status": "completed"
    },
    "tags": []
   },
   "source": [
    "### Summary Plots"
   ]
  },
  {
   "cell_type": "code",
   "execution_count": 29,
   "metadata": {
    "execution": {
     "iopub.execute_input": "2020-09-20T03:18:55.526008Z",
     "iopub.status.busy": "2020-09-20T03:18:55.525402Z",
     "iopub.status.idle": "2020-09-20T03:18:57.033186Z",
     "shell.execute_reply": "2020-09-20T03:18:57.033652Z"
    },
    "papermill": {
     "duration": 1.559133,
     "end_time": "2020-09-20T03:18:57.033828",
     "exception": false,
     "start_time": "2020-09-20T03:18:55.474695",
     "status": "completed"
    },
    "scrolled": false,
    "tags": []
   },
   "outputs": [
    {
     "data": {
      "image/png": "[encoded data removed]",
      "text/plain": [
       "<Figure size 1080x1584 with 6 Axes>"
      ]
     },
     "metadata": {},
     "output_type": "display_data"
    }
   ],
   "source": [
    "summary_ax_list = result_summary_df[[\n",
    "    \"rolling_mean_new_cases\",\n",
    "    \"tek_count\",\n",
    "    \"new_tek_count\",\n",
    "    \"new_tek_devices\",\n",
    "    \"new_tek_count_per_new_tek_device\",\n",
    "    \"new_tek_devices_per_new_case\"\n",
    "]].sort_index(ascending=True).plot.bar(\n",
    "    title=f\"Summary\",\n",
    "    rot=45, subplots=True, figsize=(15, 22), legend=False)\n",
    "ax_ = summary_ax_list[-1]\n",
    "ax_.get_figure().tight_layout()\n",
    "ax_.get_figure().subplots_adjust(top=0.95)\n",
    "ax_.yaxis.set_major_formatter(matplotlib.ticker.PercentFormatter(1.0))\n",
    "_ = ax_.set_xticklabels(result_summary_df.index.strftime(\"%Y-%m-%d\").tolist())"
   ]
  },
  {
   "cell_type": "markdown",
   "metadata": {
    "papermill": {
     "duration": 0.211618,
     "end_time": "2020-09-20T03:18:57.291235",
     "exception": false,
     "start_time": "2020-09-20T03:18:57.079617",
     "status": "completed"
    },
    "tags": []
   },
   "source": [
    "### Hourly Summary Plots "
   ]
  },
  {
   "cell_type": "code",
   "execution_count": 30,
   "metadata": {
    "execution": {
     "iopub.execute_input": "2020-09-20T03:18:57.563301Z",
     "iopub.status.busy": "2020-09-20T03:18:57.554866Z",
     "iopub.status.idle": "2020-09-20T03:18:58.171063Z",
     "shell.execute_reply": "2020-09-20T03:18:58.171854Z"
    },
    "papermill": {
     "duration": 0.834977,
     "end_time": "2020-09-20T03:18:58.172029",
     "exception": false,
     "start_time": "2020-09-20T03:18:57.337052",
     "status": "completed"
    },
    "pycharm": {
     "name": "#%%\n"
    },
    "tags": []
   },
   "outputs": [
    {
     "data": {
      "image/png": "[encoded data removed]",
      "text/plain": [
       "<Figure size 1080x432 with 2 Axes>"
      ]
     },
     "metadata": {},
     "output_type": "display_data"
    }
   ],
   "source": [
    "hourly_summary_ax_list = hourly_summary_df.plot.bar(\n",
    "    title=f\"Last 24h Summary\",\n",
    "    rot=45, subplots=True, legend=False)\n",
    "ax_ = hourly_summary_ax_list[-1]\n",
    "ax_.get_figure().tight_layout()\n",
    "ax_.get_figure().subplots_adjust(top=0.9)\n",
    "_ = ax_.set_xticklabels(hourly_summary_df.index.strftime(\"%Y-%m-%d@%H\").tolist())"
   ]
  },
  {
   "cell_type": "markdown",
   "metadata": {
    "collapsed": false,
    "papermill": {
     "duration": 0.040372,
     "end_time": "2020-09-20T03:18:58.253469",
     "exception": false,
     "start_time": "2020-09-20T03:18:58.213097",
     "status": "completed"
    },
    "tags": []
   },
   "source": [
    "### Multi-Region Summary Table"
   ]
  },
  {
   "cell_type": "code",
   "execution_count": 31,
   "metadata": {
    "collapsed": false,
    "execution": {
     "iopub.execute_input": "2020-09-20T03:18:58.342151Z",
     "iopub.status.busy": "2020-09-20T03:18:58.341531Z",
     "iopub.status.idle": "2020-09-20T03:18:58.345248Z",
     "shell.execute_reply": "2020-09-20T03:18:58.344752Z"
    },
    "papermill": {
     "duration": 0.051581,
     "end_time": "2020-09-20T03:18:58.345383",
     "exception": false,
     "start_time": "2020-09-20T03:18:58.293802",
     "status": "completed"
    },
    "pycharm": {
     "name": "#%%\n"
    },
    "tags": []
   },
   "outputs": [
    {
     "data": {
      "text/html": [
       "<div>\n",
       "<style scoped>\n",
       "    .dataframe tbody tr th:only-of-type {\n",
       "        vertical-align: middle;\n",
       "    }\n",
       "\n",
       "    .dataframe tbody tr th {\n",
       "        vertical-align: top;\n",
       "    }\n",
       "\n",
       "    .dataframe thead tr th {\n",
       "        text-align: left;\n",
       "    }\n",
       "\n",
       "    .dataframe thead tr:last-of-type th {\n",
       "        text-align: right;\n",
       "    }\n",
       "</style>\n",
       "<table border=\"1\" class=\"dataframe\">\n",
       "  <thead>\n",
       "    <tr>\n",
       "      <th></th>\n",
       "      <th>tek_count</th>\n",
       "    </tr>\n",
       "    <tr>\n",
       "      <th>region</th>\n",
       "      <th>ES</th>\n",
       "    </tr>\n",
       "    <tr>\n",
       "      <th>sample_date_string</th>\n",
       "      <th></th>\n",
       "    </tr>\n",
       "  </thead>\n",
       "  <tbody>\n",
       "    <tr>\n",
       "      <th>2020-09-19</th>\n",
       "      <td>21</td>\n",
       "    </tr>\n",
       "    <tr>\n",
       "      <th>2020-09-18</th>\n",
       "      <td>40</td>\n",
       "    </tr>\n",
       "    <tr>\n",
       "      <th>2020-09-17</th>\n",
       "      <td>64</td>\n",
       "    </tr>\n",
       "    <tr>\n",
       "      <th>2020-09-16</th>\n",
       "      <td>67</td>\n",
       "    </tr>\n",
       "    <tr>\n",
       "      <th>2020-09-15</th>\n",
       "      <td>67</td>\n",
       "    </tr>\n",
       "    <tr>\n",
       "      <th>2020-09-14</th>\n",
       "      <td>73</td>\n",
       "    </tr>\n",
       "    <tr>\n",
       "      <th>2020-09-13</th>\n",
       "      <td>75</td>\n",
       "    </tr>\n",
       "    <tr>\n",
       "      <th>2020-09-12</th>\n",
       "      <td>67</td>\n",
       "    </tr>\n",
       "    <tr>\n",
       "      <th>2020-09-11</th>\n",
       "      <td>75</td>\n",
       "    </tr>\n",
       "    <tr>\n",
       "      <th>2020-09-10</th>\n",
       "      <td>68</td>\n",
       "    </tr>\n",
       "    <tr>\n",
       "      <th>2020-09-09</th>\n",
       "      <td>60</td>\n",
       "    </tr>\n",
       "    <tr>\n",
       "      <th>2020-09-08</th>\n",
       "      <td>61</td>\n",
       "    </tr>\n",
       "    <tr>\n",
       "      <th>2020-09-07</th>\n",
       "      <td>58</td>\n",
       "    </tr>\n",
       "  </tbody>\n",
       "</table>\n",
       "</div>"
      ],
      "text/plain": [
       "                   tek_count\n",
       "region                    ES\n",
       "sample_date_string          \n",
       "2020-09-19                21\n",
       "2020-09-18                40\n",
       "2020-09-17                64\n",
       "2020-09-16                67\n",
       "2020-09-15                67\n",
       "2020-09-14                73\n",
       "2020-09-13                75\n",
       "2020-09-12                67\n",
       "2020-09-11                75\n",
       "2020-09-10                68\n",
       "2020-09-09                60\n",
       "2020-09-08                61\n",
       "2020-09-07                58"
      ]
     },
     "execution_count": 31,
     "metadata": {},
     "output_type": "execute_result"
    }
   ],
   "source": [
    "multi_region_summary_df"
   ]
  },
  {
   "cell_type": "markdown",
   "metadata": {
    "papermill": {
     "duration": 0.041337,
     "end_time": "2020-09-20T03:18:58.448922",
     "exception": false,
     "start_time": "2020-09-20T03:18:58.407585",
     "status": "completed"
    },
    "tags": []
   },
   "source": [
    "### Publish Results"
   ]
  },
  {
   "cell_type": "code",
   "execution_count": 32,
   "metadata": {
    "execution": {
     "iopub.execute_input": "2020-09-20T03:18:58.549986Z",
     "iopub.status.busy": "2020-09-20T03:18:58.549244Z",
     "iopub.status.idle": "2020-09-20T03:19:11.225228Z",
     "shell.execute_reply": "2020-09-20T03:19:11.224662Z"
    },
    "papermill": {
     "duration": 12.735791,
     "end_time": "2020-09-20T03:19:11.225379",
     "exception": false,
     "start_time": "2020-09-20T03:18:58.489588",
     "status": "completed"
    },
    "pycharm": {
     "name": "#%%\n"
    },
    "tags": []
   },
   "outputs": [],
   "source": [
    "def get_temporary_image_path() -> str:\n",
    "    return os.path.join(tempfile.gettempdir(), str(uuid.uuid4()) + \".png\")\n",
    "\n",
    "def save_temporary_plot_image(ax):\n",
    "    if isinstance(ax, np.ndarray):\n",
    "        ax = ax[0]\n",
    "    media_path = get_temporary_image_path()\n",
    "    ax.get_figure().savefig(media_path)\n",
    "    return media_path\n",
    "\n",
    "def save_temporary_dataframe_image(df):\n",
    "    media_path = get_temporary_image_path()\n",
    "    dfi.export(df, media_path)\n",
    "    return media_path\n",
    "\n",
    "summary_plots_image_path = save_temporary_plot_image(ax=summary_ax_list)\n",
    "summary_table_image_path = save_temporary_dataframe_image(df=result_summary_df)\n",
    "hourly_summary_plots_image_path = save_temporary_plot_image(ax=hourly_summary_ax_list)\n",
    "multi_region_summary_table_image_path = save_temporary_dataframe_image(df=multi_region_summary_df)"
   ]
  },
  {
   "cell_type": "markdown",
   "metadata": {
    "papermill": {
     "duration": 0.041457,
     "end_time": "2020-09-20T03:19:11.312596",
     "exception": false,
     "start_time": "2020-09-20T03:19:11.271139",
     "status": "completed"
    },
    "tags": []
   },
   "source": [
    "### Save Results"
   ]
  },
  {
   "cell_type": "code",
   "execution_count": 33,
   "metadata": {
    "execution": {
     "iopub.execute_input": "2020-09-20T03:19:11.402730Z",
     "iopub.status.busy": "2020-09-20T03:19:11.401350Z",
     "iopub.status.idle": "2020-09-20T03:19:11.417369Z",
     "shell.execute_reply": "2020-09-20T03:19:11.416742Z"
    },
    "papermill": {
     "duration": 0.063712,
     "end_time": "2020-09-20T03:19:11.417507",
     "exception": false,
     "start_time": "2020-09-20T03:19:11.353795",
     "status": "completed"
    },
    "pycharm": {
     "name": "#%%\n"
    },
    "tags": []
   },
   "outputs": [],
   "source": [
    "report_resources_path_prefix = \"Data/Resources/Current/RadarCOVID-Report-\"\n",
    "result_summary_df.to_csv(report_resources_path_prefix + \"Summary-Table.csv\")\n",
    "result_summary_df.to_html(report_resources_path_prefix + \"Summary-Table.html\")\n",
    "multi_region_summary_df.to_csv(report_resources_path_prefix + \"Multi-Region-Summary-Table.csv\")\n",
    "_ = shutil.copyfile(summary_plots_image_path, report_resources_path_prefix + \"Summary-Plots.png\")\n",
    "_ = shutil.copyfile(summary_table_image_path, report_resources_path_prefix + \"Summary-Table.png\")\n",
    "_ = shutil.copyfile(hourly_summary_plots_image_path, report_resources_path_prefix + \"Hourly-Summary-Plots.png\")\n",
    "_ = shutil.copyfile(multi_region_summary_table_image_path, report_resources_path_prefix + \"Multi-Region-Summary-Table.png\")\n",
    "\n",
    "report_daily_url_pattern = \\\n",
    "    \"https://github.com/pvieito/RadarCOVID-Report/blob/master/Notebooks/\" \\\n",
    "    \"RadarCOVID-Report/{report_type}/RadarCOVID-Report-{report_date}.ipynb\"\n",
    "report_daily_url = report_daily_url_pattern.format(\n",
    "    report_type=\"Daily\", report_date=extraction_date)\n",
    "report_hourly_url = report_daily_url_pattern.format(\n",
    "    report_type=\"Hourly\", report_date=extraction_date_with_hour)"
   ]
  },
  {
   "cell_type": "markdown",
   "metadata": {
    "papermill": {
     "duration": 0.040983,
     "end_time": "2020-09-20T03:19:11.500130",
     "exception": false,
     "start_time": "2020-09-20T03:19:11.459147",
     "status": "completed"
    },
    "tags": []
   },
   "source": [
    "### Publish on README"
   ]
  },
  {
   "cell_type": "code",
   "execution_count": 34,
   "metadata": {
    "execution": {
     "iopub.execute_input": "2020-09-20T03:19:11.587898Z",
     "iopub.status.busy": "2020-09-20T03:19:11.587291Z",
     "iopub.status.idle": "2020-09-20T03:19:11.597771Z",
     "shell.execute_reply": "2020-09-20T03:19:11.598343Z"
    },
    "papermill": {
     "duration": 0.056435,
     "end_time": "2020-09-20T03:19:11.598493",
     "exception": false,
     "start_time": "2020-09-20T03:19:11.542058",
     "status": "completed"
    },
    "pycharm": {
     "name": "#%%\n"
    },
    "tags": []
   },
   "outputs": [],
   "source": [
    "with open(\"Data/Templates/README.md\", \"r\") as f:\n",
    "    readme_contents = f.read()\n",
    "\n",
    "summary_table_html = result_summary_df.to_html()\n",
    "multi_region_summary_table_html = multi_region_summary_df.to_html()\n",
    "readme_contents = readme_contents.format(\n",
    "    summary_table_html=summary_table_html,\n",
    "    multi_region_summary_table_html=multi_region_summary_table_html,\n",
    "    report_url_with_hour=report_hourly_url,\n",
    "    extraction_date_with_hour=extraction_date_with_hour)\n",
    "\n",
    "with open(\"README.md\", \"w\") as f:\n",
    "    f.write(readme_contents)"
   ]
  },
  {
   "cell_type": "markdown",
   "metadata": {
    "papermill": {
     "duration": 0.040928,
     "end_time": "2020-09-20T03:19:11.681087",
     "exception": false,
     "start_time": "2020-09-20T03:19:11.640159",
     "status": "completed"
    },
    "pycharm": {
     "name": "#%% md\n"
    },
    "tags": []
   },
   "source": [
    "### Publish on Twitter"
   ]
  },
  {
   "cell_type": "code",
   "execution_count": 35,
   "metadata": {
    "execution": {
     "iopub.execute_input": "2020-09-20T03:19:11.769790Z",
     "iopub.status.busy": "2020-09-20T03:19:11.769156Z",
     "iopub.status.idle": "2020-09-20T03:19:14.973293Z",
     "shell.execute_reply": "2020-09-20T03:19:14.972555Z"
    },
    "papermill": {
     "duration": 3.251251,
     "end_time": "2020-09-20T03:19:14.973499",
     "exception": false,
     "start_time": "2020-09-20T03:19:11.722248",
     "status": "completed"
    },
    "pycharm": {
     "name": "#%%\n"
    },
    "tags": []
   },
   "outputs": [],
   "source": [
    "enable_share_to_twitter = os.environ.get(\"RADARCOVID_REPORT__ENABLE_PUBLISH_ON_TWITTER\")\n",
    "github_event_name = os.environ.get(\"GITHUB_EVENT_NAME\")\n",
    "\n",
    "if enable_share_to_twitter and github_event_name == \"schedule\":\n",
    "    import tweepy\n",
    "\n",
    "    twitter_api_auth_keys = os.environ[\"RADARCOVID_REPORT__TWITTER_API_AUTH_KEYS\"]\n",
    "    twitter_api_auth_keys = twitter_api_auth_keys.split(\":\")\n",
    "    auth = tweepy.OAuthHandler(twitter_api_auth_keys[0], twitter_api_auth_keys[1])\n",
    "    auth.set_access_token(twitter_api_auth_keys[2], twitter_api_auth_keys[3])\n",
    "\n",
    "    api = tweepy.API(auth)\n",
    "\n",
    "    summary_plots_media = api.media_upload(summary_plots_image_path)\n",
    "    summary_table_media = api.media_upload(summary_table_image_path)\n",
    "    hourly_summary_plots_media = api.media_upload(hourly_summary_plots_image_path)\n",
    "    media_ids = [\n",
    "        summary_plots_media.media_id,\n",
    "        summary_table_media.media_id,\n",
    "        hourly_summary_plots_media.media_id,\n",
    "    ]\n",
    "\n",
    "    extraction_date_result_summary_df = \\\n",
    "        result_summary_df[result_summary_df.index == extraction_date]\n",
    "    extraction_date_result_hourly_summary_df = \\\n",
    "        hourly_summary_df[hourly_summary_df.extraction_date_with_hour == extraction_date_with_hour]\n",
    "\n",
    "    new_teks = extraction_date_result_summary_df.new_tek_count.sum().astype(int)\n",
    "    new_teks_last_hour = extraction_date_result_hourly_summary_df.new_tek_count.sum().astype(int)\n",
    "    new_devices = extraction_date_result_summary_df.new_tek_devices.sum().astype(int)\n",
    "    new_devices_last_hour = extraction_date_result_hourly_summary_df.new_tek_devices.sum().astype(int)\n",
    "    new_tek_count_per_new_tek_device = \\\n",
    "        extraction_date_result_summary_df.new_tek_count_per_new_tek_device.sum()\n",
    "    new_tek_devices_per_new_case = \\\n",
    "        extraction_date_result_summary_df.new_tek_devices_per_new_case.sum()\n",
    "\n",
    "    status = textwrap.dedent(f\"\"\"\n",
    "        Report Update – {extraction_date_with_hour}\n",
    "        #ExposureNotification #RadarCOVID\n",
    "\n",
    "        Shared Diagnoses Day Summary:\n",
    "        - New TEKs: {new_teks} ({new_teks_last_hour:+d} last hour)\n",
    "        - New Devices: {new_devices} ({new_devices_last_hour:+d} last hour, {new_tek_count_per_new_tek_device:.2} TEKs/device)\n",
    "        - Usage Ratio: {new_tek_devices_per_new_case:.2%} devices/case\n",
    "\n",
    "        Report Link: {report_hourly_url}\n",
    "        \"\"\")\n",
    "    status = status.encode(encoding=\"utf-8\")\n",
    "    api.update_status(status=status, media_ids=media_ids)"
   ]
  }
 ],
 "metadata": {
  "kernelspec": {
   "display_name": "Python 3",
   "language": "python",
   "name": "python3"
  },
  "language_info": {
   "codemirror_mode": {
    "name": "ipython",
    "version": 3
   },
   "file_extension": ".py",
   "mimetype": "text/x-python",
   "name": "python",
   "nbconvert_exporter": "python",
   "pygments_lexer": "ipython3",
   "version": "3.8.5"
  },
  "papermill": {
   "duration": 30.043467,
   "end_time": "2020-09-20T03:19:15.533508",
   "environment_variables": {},
   "exception": null,
   "input_path": "Notebooks/RadarCOVID-Report/Source/RadarCOVID-Report.ipynb",
   "output_path": "RadarCOVID-Report.ipynb",
   "parameters": {},
   "start_time": "2020-09-20T03:18:45.490041",
   "version": "2.1.3"
  }
 },
 "nbformat": 4,
 "nbformat_minor": 1
}