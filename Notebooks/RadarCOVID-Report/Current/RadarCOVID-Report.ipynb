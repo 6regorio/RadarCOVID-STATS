{
 "cells": [
  {
   "cell_type": "markdown",
   "metadata": {
    "papermill": {
     "duration": 0.02444,
     "end_time": "2020-09-16T08:20:54.435140",
     "exception": false,
     "start_time": "2020-09-16T08:20:54.410700",
     "status": "completed"
    },
    "pycharm": {
     "name": "#%% md\n"
    },
    "tags": []
   },
   "source": [
    "# RadarCOVID-Report"
   ]
  },
  {
   "cell_type": "markdown",
   "metadata": {
    "collapsed": true,
    "papermill": {
     "duration": 0.022539,
     "end_time": "2020-09-16T08:20:54.481030",
     "exception": false,
     "start_time": "2020-09-16T08:20:54.458491",
     "status": "completed"
    },
    "pycharm": {
     "name": "#%% md\n"
    },
    "tags": []
   },
   "source": [
    "## Data Extraction"
   ]
  },
  {
   "cell_type": "code",
   "execution_count": 1,
   "metadata": {
    "execution": {
     "iopub.execute_input": "2020-09-16T08:20:54.533734Z",
     "iopub.status.busy": "2020-09-16T08:20:54.533146Z",
     "iopub.status.idle": "2020-09-16T08:20:58.038678Z",
     "shell.execute_reply": "2020-09-16T08:20:58.037999Z"
    },
    "papermill": {
     "duration": 3.535193,
     "end_time": "2020-09-16T08:20:58.038894",
     "exception": false,
     "start_time": "2020-09-16T08:20:54.503701",
     "status": "completed"
    },
    "pycharm": {
     "name": "#%%\n"
    },
    "tags": []
   },
   "outputs": [],
   "source": [
    "import datetime\n",
    "import logging\n",
    "import os\n",
    "import shutil\n",
    "import tempfile\n",
    "import textwrap\n",
    "import uuid\n",
    "\n",
    "import dataframe_image as dfi\n",
    "import matplotlib.ticker\n",
    "import numpy as np\n",
    "import pandas as pd\n",
    "import seaborn as sns\n",
    "\n",
    "%matplotlib inline"
   ]
  },
  {
   "cell_type": "code",
   "execution_count": 2,
   "metadata": {
    "execution": {
     "iopub.execute_input": "2020-09-16T08:20:58.092675Z",
     "iopub.status.busy": "2020-09-16T08:20:58.092092Z",
     "iopub.status.idle": "2020-09-16T08:20:58.094700Z",
     "shell.execute_reply": "2020-09-16T08:20:58.094223Z"
    },
    "papermill": {
     "duration": 0.032003,
     "end_time": "2020-09-16T08:20:58.094828",
     "exception": false,
     "start_time": "2020-09-16T08:20:58.062825",
     "status": "completed"
    },
    "pycharm": {
     "name": "#%%\n"
    },
    "tags": []
   },
   "outputs": [],
   "source": [
    "sns.set()\n",
    "matplotlib.rcParams['figure.figsize'] = (15, 6)\n",
    "\n",
    "extraction_datetime = datetime.datetime.utcnow()\n",
    "extraction_date = extraction_datetime.strftime(\"%Y-%m-%d\")\n",
    "extraction_previous_datetime = extraction_datetime - datetime.timedelta(days=1)\n",
    "extraction_previous_date = extraction_previous_datetime.strftime(\"%Y-%m-%d\")\n",
    "extraction_date_with_hour = datetime.datetime.utcnow().strftime(\"%Y-%m-%d@%H\")"
   ]
  },
  {
   "cell_type": "markdown",
   "metadata": {
    "papermill": {
     "duration": 0.022696,
     "end_time": "2020-09-16T08:20:58.140473",
     "exception": false,
     "start_time": "2020-09-16T08:20:58.117777",
     "status": "completed"
    },
    "tags": []
   },
   "source": [
    "### COVID-19 Cases"
   ]
  },
  {
   "cell_type": "code",
   "execution_count": 3,
   "metadata": {
    "execution": {
     "iopub.execute_input": "2020-09-16T08:20:58.192069Z",
     "iopub.status.busy": "2020-09-16T08:20:58.191052Z",
     "iopub.status.idle": "2020-09-16T08:20:58.588302Z",
     "shell.execute_reply": "2020-09-16T08:20:58.587193Z"
    },
    "papermill": {
     "duration": 0.425511,
     "end_time": "2020-09-16T08:20:58.588443",
     "exception": false,
     "start_time": "2020-09-16T08:20:58.162932",
     "status": "completed"
    },
    "pycharm": {
     "name": "#%%\n"
    },
    "tags": []
   },
   "outputs": [],
   "source": [
    "confirmed_df = pd.read_csv(\"https://covid19tracking.narrativa.com/csv/confirmed.csv\")\n",
    "\n",
    "radar_covid_countries = {\"Spain\"}\n",
    "# radar_covid_regions = { ... }\n",
    "\n",
    "confirmed_df = confirmed_df[confirmed_df[\"Country_EN\"].isin(radar_covid_countries)]\n",
    "# confirmed_df = confirmed_df[confirmed_df[\"Region\"].isin(radar_covid_regions)]\n",
    "# set(confirmed_df.Region.tolist()) == radar_covid_regions"
   ]
  },
  {
   "cell_type": "code",
   "execution_count": 4,
   "metadata": {
    "collapsed": false,
    "execution": {
     "iopub.execute_input": "2020-09-16T08:20:58.641245Z",
     "iopub.status.busy": "2020-09-16T08:20:58.640668Z",
     "iopub.status.idle": "2020-09-16T08:20:58.651062Z",
     "shell.execute_reply": "2020-09-16T08:20:58.651510Z"
    },
    "papermill": {
     "duration": 0.040466,
     "end_time": "2020-09-16T08:20:58.651667",
     "exception": false,
     "start_time": "2020-09-16T08:20:58.611201",
     "status": "completed"
    },
    "pycharm": {
     "name": "#%%\n"
    },
    "tags": []
   },
   "outputs": [
    {
     "data": {
      "text/html": [
       "<div>\n",
       "<style scoped>\n",
       "    .dataframe tbody tr th:only-of-type {\n",
       "        vertical-align: middle;\n",
       "    }\n",
       "\n",
       "    .dataframe tbody tr th {\n",
       "        vertical-align: top;\n",
       "    }\n",
       "\n",
       "    .dataframe thead th {\n",
       "        text-align: right;\n",
       "    }\n",
       "</style>\n",
       "<table border=\"1\" class=\"dataframe\">\n",
       "  <thead>\n",
       "    <tr style=\"text-align: right;\">\n",
       "      <th></th>\n",
       "      <th>0</th>\n",
       "    </tr>\n",
       "  </thead>\n",
       "  <tbody>\n",
       "    <tr>\n",
       "      <th>2020-09-11</th>\n",
       "      <td>1132652.0</td>\n",
       "    </tr>\n",
       "    <tr>\n",
       "      <th>2020-09-12</th>\n",
       "      <td>1132652.0</td>\n",
       "    </tr>\n",
       "    <tr>\n",
       "      <th>2020-09-13</th>\n",
       "      <td>1132652.0</td>\n",
       "    </tr>\n",
       "    <tr>\n",
       "      <th>2020-09-14</th>\n",
       "      <td>1187460.0</td>\n",
       "    </tr>\n",
       "    <tr>\n",
       "      <th>2020-09-15</th>\n",
       "      <td>1206334.0</td>\n",
       "    </tr>\n",
       "  </tbody>\n",
       "</table>\n",
       "</div>"
      ],
      "text/plain": [
       "                    0\n",
       "2020-09-11  1132652.0\n",
       "2020-09-12  1132652.0\n",
       "2020-09-13  1132652.0\n",
       "2020-09-14  1187460.0\n",
       "2020-09-15  1206334.0"
      ]
     },
     "execution_count": 4,
     "metadata": {},
     "output_type": "execute_result"
    }
   ],
   "source": [
    "confirmed_country_columns = list(filter(lambda x: x.startswith(\"Country_\"), confirmed_df.columns))\n",
    "confirmed_regional_columns = confirmed_country_columns + [\"Region\"]\n",
    "confirmed_df.drop(columns=confirmed_regional_columns, inplace=True)\n",
    "confirmed_df = confirmed_df.sum().to_frame()\n",
    "confirmed_df.tail()"
   ]
  },
  {
   "cell_type": "code",
   "execution_count": 5,
   "metadata": {
    "collapsed": false,
    "execution": {
     "iopub.execute_input": "2020-09-16T08:20:58.713803Z",
     "iopub.status.busy": "2020-09-16T08:20:58.713125Z",
     "iopub.status.idle": "2020-09-16T08:20:58.715333Z",
     "shell.execute_reply": "2020-09-16T08:20:58.715879Z"
    },
    "papermill": {
     "duration": 0.040798,
     "end_time": "2020-09-16T08:20:58.716045",
     "exception": false,
     "start_time": "2020-09-16T08:20:58.675247",
     "status": "completed"
    },
    "pycharm": {
     "name": "#%%\n"
    },
    "tags": []
   },
   "outputs": [
    {
     "data": {
      "text/html": [
       "<div>\n",
       "<style scoped>\n",
       "    .dataframe tbody tr th:only-of-type {\n",
       "        vertical-align: middle;\n",
       "    }\n",
       "\n",
       "    .dataframe tbody tr th {\n",
       "        vertical-align: top;\n",
       "    }\n",
       "\n",
       "    .dataframe thead th {\n",
       "        text-align: right;\n",
       "    }\n",
       "</style>\n",
       "<table border=\"1\" class=\"dataframe\">\n",
       "  <thead>\n",
       "    <tr style=\"text-align: right;\">\n",
       "      <th></th>\n",
       "      <th>sample_date_string</th>\n",
       "      <th>cumulative_cases</th>\n",
       "      <th>new_cases</th>\n",
       "      <th>rolling_mean_new_cases</th>\n",
       "    </tr>\n",
       "  </thead>\n",
       "  <tbody>\n",
       "    <tr>\n",
       "      <th>232</th>\n",
       "      <td>2020-09-11</td>\n",
       "      <td>1132652.0</td>\n",
       "      <td>24366.0</td>\n",
       "      <td>19239.142857</td>\n",
       "    </tr>\n",
       "    <tr>\n",
       "      <th>233</th>\n",
       "      <td>2020-09-12</td>\n",
       "      <td>1132652.0</td>\n",
       "      <td>0.0</td>\n",
       "      <td>19239.142857</td>\n",
       "    </tr>\n",
       "    <tr>\n",
       "      <th>234</th>\n",
       "      <td>2020-09-13</td>\n",
       "      <td>1132652.0</td>\n",
       "      <td>0.0</td>\n",
       "      <td>19239.142857</td>\n",
       "    </tr>\n",
       "    <tr>\n",
       "      <th>235</th>\n",
       "      <td>2020-09-14</td>\n",
       "      <td>1187460.0</td>\n",
       "      <td>54808.0</td>\n",
       "      <td>19480.285714</td>\n",
       "    </tr>\n",
       "    <tr>\n",
       "      <th>236</th>\n",
       "      <td>2020-09-15</td>\n",
       "      <td>1206334.0</td>\n",
       "      <td>18874.0</td>\n",
       "      <td>19615.428571</td>\n",
       "    </tr>\n",
       "  </tbody>\n",
       "</table>\n",
       "</div>"
      ],
      "text/plain": [
       "    sample_date_string  cumulative_cases  new_cases  rolling_mean_new_cases\n",
       "232         2020-09-11         1132652.0    24366.0            19239.142857\n",
       "233         2020-09-12         1132652.0        0.0            19239.142857\n",
       "234         2020-09-13         1132652.0        0.0            19239.142857\n",
       "235         2020-09-14         1187460.0    54808.0            19480.285714\n",
       "236         2020-09-15         1206334.0    18874.0            19615.428571"
      ]
     },
     "execution_count": 5,
     "metadata": {},
     "output_type": "execute_result"
    }
   ],
   "source": [
    "confirmed_df.reset_index(inplace=True)\n",
    "confirmed_df.columns = [\"sample_date_string\", \"cumulative_cases\"]\n",
    "confirmed_df.sort_values(\"sample_date_string\", inplace=True)\n",
    "confirmed_df[\"new_cases\"] = confirmed_df.cumulative_cases.diff()\n",
    "confirmed_df[\"rolling_mean_new_cases\"] = confirmed_df.new_cases.rolling(7).mean()\n",
    "confirmed_df.tail()"
   ]
  },
  {
   "cell_type": "code",
   "execution_count": 6,
   "metadata": {
    "execution": {
     "iopub.execute_input": "2020-09-16T08:20:58.773767Z",
     "iopub.status.busy": "2020-09-16T08:20:58.773075Z",
     "iopub.status.idle": "2020-09-16T08:20:58.782729Z",
     "shell.execute_reply": "2020-09-16T08:20:58.783144Z"
    },
    "papermill": {
     "duration": 0.043118,
     "end_time": "2020-09-16T08:20:58.783306",
     "exception": false,
     "start_time": "2020-09-16T08:20:58.740188",
     "status": "completed"
    },
    "pycharm": {
     "name": "#%%\n"
    },
    "tags": []
   },
   "outputs": [
    {
     "data": {
      "text/html": [
       "<div>\n",
       "<style scoped>\n",
       "    .dataframe tbody tr th:only-of-type {\n",
       "        vertical-align: middle;\n",
       "    }\n",
       "\n",
       "    .dataframe tbody tr th {\n",
       "        vertical-align: top;\n",
       "    }\n",
       "\n",
       "    .dataframe thead th {\n",
       "        text-align: right;\n",
       "    }\n",
       "</style>\n",
       "<table border=\"1\" class=\"dataframe\">\n",
       "  <thead>\n",
       "    <tr style=\"text-align: right;\">\n",
       "      <th></th>\n",
       "      <th>sample_date_string</th>\n",
       "      <th>cumulative_cases</th>\n",
       "      <th>new_cases</th>\n",
       "      <th>rolling_mean_new_cases</th>\n",
       "    </tr>\n",
       "  </thead>\n",
       "  <tbody>\n",
       "    <tr>\n",
       "      <th>233</th>\n",
       "      <td>2020-09-12</td>\n",
       "      <td>1.132652e+06</td>\n",
       "      <td>0.000000</td>\n",
       "      <td>19239.142857</td>\n",
       "    </tr>\n",
       "    <tr>\n",
       "      <th>234</th>\n",
       "      <td>2020-09-13</td>\n",
       "      <td>1.132652e+06</td>\n",
       "      <td>0.000000</td>\n",
       "      <td>19239.142857</td>\n",
       "    </tr>\n",
       "    <tr>\n",
       "      <th>235</th>\n",
       "      <td>2020-09-14</td>\n",
       "      <td>1.187460e+06</td>\n",
       "      <td>54808.000000</td>\n",
       "      <td>19480.285714</td>\n",
       "    </tr>\n",
       "    <tr>\n",
       "      <th>236</th>\n",
       "      <td>2020-09-15</td>\n",
       "      <td>1.206334e+06</td>\n",
       "      <td>18874.000000</td>\n",
       "      <td>19615.428571</td>\n",
       "    </tr>\n",
       "    <tr>\n",
       "      <th>236</th>\n",
       "      <td>2020-09-16</td>\n",
       "      <td>1.225949e+06</td>\n",
       "      <td>19615.428571</td>\n",
       "      <td>19615.428571</td>\n",
       "    </tr>\n",
       "  </tbody>\n",
       "</table>\n",
       "</div>"
      ],
      "text/plain": [
       "    sample_date_string  cumulative_cases     new_cases  rolling_mean_new_cases\n",
       "233         2020-09-12      1.132652e+06      0.000000            19239.142857\n",
       "234         2020-09-13      1.132652e+06      0.000000            19239.142857\n",
       "235         2020-09-14      1.187460e+06  54808.000000            19480.285714\n",
       "236         2020-09-15      1.206334e+06  18874.000000            19615.428571\n",
       "236         2020-09-16      1.225949e+06  19615.428571            19615.428571"
      ]
     },
     "execution_count": 6,
     "metadata": {},
     "output_type": "execute_result"
    }
   ],
   "source": [
    "extraction_date_confirmed_df = \\\n",
    "    confirmed_df[confirmed_df.sample_date_string == extraction_date]\n",
    "extraction_previous_date_confirmed_df = \\\n",
    "    confirmed_df[confirmed_df.sample_date_string == extraction_previous_date].copy()\n",
    "\n",
    "if extraction_date_confirmed_df.empty and \\\n",
    "    not extraction_previous_date_confirmed_df.empty:\n",
    "        extraction_previous_date_confirmed_df[\"sample_date_string\"] = extraction_date\n",
    "        extraction_previous_date_confirmed_df[\"new_cases\"] = \\\n",
    "            extraction_previous_date_confirmed_df.rolling_mean_new_cases\n",
    "        extraction_previous_date_confirmed_df[\"cumulative_cases\"] = \\\n",
    "            extraction_previous_date_confirmed_df.new_cases + \\\n",
    "            extraction_previous_date_confirmed_df.cumulative_cases\n",
    "        confirmed_df = confirmed_df.append(extraction_previous_date_confirmed_df)\n",
    "        \n",
    "confirmed_df.tail()"
   ]
  },
  {
   "cell_type": "code",
   "execution_count": 7,
   "metadata": {
    "execution": {
     "iopub.execute_input": "2020-09-16T08:20:58.840668Z",
     "iopub.status.busy": "2020-09-16T08:20:58.840098Z",
     "iopub.status.idle": "2020-09-16T08:20:59.026732Z",
     "shell.execute_reply": "2020-09-16T08:20:59.025949Z"
    },
    "papermill": {
     "duration": 0.2195,
     "end_time": "2020-09-16T08:20:59.026876",
     "exception": false,
     "start_time": "2020-09-16T08:20:58.807376",
     "status": "completed"
    },
    "pycharm": {
     "name": "#%%\n"
    },
    "tags": []
   },
   "outputs": [
    {
     "data": {
      "text/plain": [
       "<matplotlib.axes._subplots.AxesSubplot at 0x7ff80ed03370>"
      ]
     },
     "execution_count": 7,
     "metadata": {},
     "output_type": "execute_result"
    },
    {
     "data": {
      "image/png": "[encoded data removed]",
      "text/plain": [
       "<Figure size 1080x432 with 1 Axes>"
      ]
     },
     "metadata": {},
     "output_type": "display_data"
    }
   ],
   "source": [
    "confirmed_df[[\"new_cases\", \"rolling_mean_new_cases\"]].plot()"
   ]
  },
  {
   "cell_type": "markdown",
   "metadata": {
    "execution": {
     "iopub.execute_input": "2020-08-30T22:30:16.351238Z",
     "iopub.status.busy": "2020-08-30T22:30:16.344579Z",
     "iopub.status.idle": "2020-08-30T22:30:16.354285Z",
     "shell.execute_reply": "2020-08-30T22:30:16.353641Z"
    },
    "papermill": {
     "duration": 0.026083,
     "end_time": "2020-09-16T08:20:59.080112",
     "exception": false,
     "start_time": "2020-09-16T08:20:59.054029",
     "status": "completed"
    },
    "pycharm": {
     "name": "#%% md\n"
    },
    "tags": []
   },
   "source": [
    "### Extract API TEKs"
   ]
  },
  {
   "cell_type": "code",
   "execution_count": 8,
   "metadata": {
    "execution": {
     "iopub.execute_input": "2020-09-16T08:20:59.138050Z",
     "iopub.status.busy": "2020-09-16T08:20:59.137496Z",
     "iopub.status.idle": "2020-09-16T08:20:59.760874Z",
     "shell.execute_reply": "2020-09-16T08:20:59.760406Z"
    },
    "papermill": {
     "duration": 0.654242,
     "end_time": "2020-09-16T08:20:59.761010",
     "exception": false,
     "start_time": "2020-09-16T08:20:59.106768",
     "status": "completed"
    },
    "pycharm": {
     "name": "#%%\n"
    },
    "tags": []
   },
   "outputs": [
    {
     "name": "stderr",
     "output_type": "stream",
     "text": [
      "WARNING:root:NoDataFoundForDateException(\"No exposed tokens found for day '2020-09-16'.\")\n"
     ]
    },
    {
     "data": {
      "text/html": [
       "<div>\n",
       "<style scoped>\n",
       "    .dataframe tbody tr th:only-of-type {\n",
       "        vertical-align: middle;\n",
       "    }\n",
       "\n",
       "    .dataframe tbody tr th {\n",
       "        vertical-align: top;\n",
       "    }\n",
       "\n",
       "    .dataframe thead th {\n",
       "        text-align: right;\n",
       "    }\n",
       "</style>\n",
       "<table border=\"1\" class=\"dataframe\">\n",
       "  <thead>\n",
       "    <tr style=\"text-align: right;\">\n",
       "      <th></th>\n",
       "      <th>sample_date_string</th>\n",
       "      <th>source_url</th>\n",
       "      <th>region</th>\n",
       "      <th>key_data</th>\n",
       "    </tr>\n",
       "  </thead>\n",
       "  <tbody>\n",
       "    <tr>\n",
       "      <th>0</th>\n",
       "      <td>2020-09-15</td>\n",
       "      <td>https://radarcovid.covid19.gob.es/dp3t/v1/gaen...</td>\n",
       "      <td>ES</td>\n",
       "      <td>cd29a372-03ec-74cd-a05b-38ed7f29a159</td>\n",
       "    </tr>\n",
       "    <tr>\n",
       "      <th>1</th>\n",
       "      <td>2020-09-15</td>\n",
       "      <td>https://radarcovid.covid19.gob.es/dp3t/v1/gaen...</td>\n",
       "      <td>ES</td>\n",
       "      <td>16190fbe-cb67-b067-925e-9767dd108f40</td>\n",
       "    </tr>\n",
       "    <tr>\n",
       "      <th>2</th>\n",
       "      <td>2020-09-15</td>\n",
       "      <td>https://radarcovid.covid19.gob.es/dp3t/v1/gaen...</td>\n",
       "      <td>ES</td>\n",
       "      <td>303346a7-9a89-fe5d-187a-470e985bc6fb</td>\n",
       "    </tr>\n",
       "    <tr>\n",
       "      <th>3</th>\n",
       "      <td>2020-09-15</td>\n",
       "      <td>https://radarcovid.covid19.gob.es/dp3t/v1/gaen...</td>\n",
       "      <td>ES</td>\n",
       "      <td>3e8d061e-44d3-6bdd-4755-dc2bfb0526de</td>\n",
       "    </tr>\n",
       "    <tr>\n",
       "      <th>4</th>\n",
       "      <td>2020-09-15</td>\n",
       "      <td>https://radarcovid.covid19.gob.es/dp3t/v1/gaen...</td>\n",
       "      <td>ES</td>\n",
       "      <td>957a2ec5-97ff-471b-04ad-c72d8e791629</td>\n",
       "    </tr>\n",
       "  </tbody>\n",
       "</table>\n",
       "</div>"
      ],
      "text/plain": [
       "  sample_date_string                                         source_url  \\\n",
       "0         2020-09-15  https://radarcovid.covid19.gob.es/dp3t/v1/gaen...   \n",
       "1         2020-09-15  https://radarcovid.covid19.gob.es/dp3t/v1/gaen...   \n",
       "2         2020-09-15  https://radarcovid.covid19.gob.es/dp3t/v1/gaen...   \n",
       "3         2020-09-15  https://radarcovid.covid19.gob.es/dp3t/v1/gaen...   \n",
       "4         2020-09-15  https://radarcovid.covid19.gob.es/dp3t/v1/gaen...   \n",
       "\n",
       "  region                              key_data  \n",
       "0     ES  cd29a372-03ec-74cd-a05b-38ed7f29a159  \n",
       "1     ES  16190fbe-cb67-b067-925e-9767dd108f40  \n",
       "2     ES  303346a7-9a89-fe5d-187a-470e985bc6fb  \n",
       "3     ES  3e8d061e-44d3-6bdd-4755-dc2bfb0526de  \n",
       "4     ES  957a2ec5-97ff-471b-04ad-c72d8e791629  "
      ]
     },
     "execution_count": 8,
     "metadata": {},
     "output_type": "execute_result"
    }
   ],
   "source": [
    "from Modules.RadarCOVID import radar_covid\n",
    "\n",
    "exposure_keys_df = radar_covid.download_last_radar_covid_exposure_keys(days=14)\n",
    "exposure_keys_df[[\n",
    "    \"sample_date_string\", \"source_url\", \"region\", \"key_data\"]].head()"
   ]
  },
  {
   "cell_type": "code",
   "execution_count": 9,
   "metadata": {
    "execution": {
     "iopub.execute_input": "2020-09-16T08:20:59.828492Z",
     "iopub.status.busy": "2020-09-16T08:20:59.827888Z",
     "iopub.status.idle": "2020-09-16T08:20:59.830302Z",
     "shell.execute_reply": "2020-09-16T08:20:59.830773Z"
    },
    "papermill": {
     "duration": 0.042782,
     "end_time": "2020-09-16T08:20:59.830931",
     "exception": false,
     "start_time": "2020-09-16T08:20:59.788149",
     "status": "completed"
    },
    "scrolled": false,
    "tags": []
   },
   "outputs": [
    {
     "data": {
      "text/html": [
       "<div>\n",
       "<style scoped>\n",
       "    .dataframe tbody tr th:only-of-type {\n",
       "        vertical-align: middle;\n",
       "    }\n",
       "\n",
       "    .dataframe tbody tr th {\n",
       "        vertical-align: top;\n",
       "    }\n",
       "\n",
       "    .dataframe thead th {\n",
       "        text-align: right;\n",
       "    }\n",
       "</style>\n",
       "<table border=\"1\" class=\"dataframe\">\n",
       "  <thead>\n",
       "    <tr style=\"text-align: right;\">\n",
       "      <th></th>\n",
       "      <th>tek_count</th>\n",
       "    </tr>\n",
       "    <tr>\n",
       "      <th>sample_date_string</th>\n",
       "      <th></th>\n",
       "    </tr>\n",
       "  </thead>\n",
       "  <tbody>\n",
       "    <tr>\n",
       "      <th>2020-09-15</th>\n",
       "      <td>11</td>\n",
       "    </tr>\n",
       "    <tr>\n",
       "      <th>2020-09-14</th>\n",
       "      <td>25</td>\n",
       "    </tr>\n",
       "    <tr>\n",
       "      <th>2020-09-13</th>\n",
       "      <td>40</td>\n",
       "    </tr>\n",
       "    <tr>\n",
       "      <th>2020-09-12</th>\n",
       "      <td>52</td>\n",
       "    </tr>\n",
       "    <tr>\n",
       "      <th>2020-09-11</th>\n",
       "      <td>68</td>\n",
       "    </tr>\n",
       "  </tbody>\n",
       "</table>\n",
       "</div>"
      ],
      "text/plain": [
       "                    tek_count\n",
       "sample_date_string           \n",
       "2020-09-15                 11\n",
       "2020-09-14                 25\n",
       "2020-09-13                 40\n",
       "2020-09-12                 52\n",
       "2020-09-11                 68"
      ]
     },
     "execution_count": 9,
     "metadata": {},
     "output_type": "execute_result"
    }
   ],
   "source": [
    "exposure_keys_summary_df = \\\n",
    "    exposure_keys_df.groupby([\"sample_date_string\"]).key_data.nunique().to_frame()\n",
    "exposure_keys_summary_df.sort_index(ascending=False, inplace=True)\n",
    "exposure_keys_summary_df.rename(columns={\"key_data\": \"tek_count\"}, inplace=True)\n",
    "exposure_keys_summary_df.head()"
   ]
  },
  {
   "cell_type": "markdown",
   "metadata": {
    "papermill": {
     "duration": 0.026964,
     "end_time": "2020-09-16T08:20:59.884542",
     "exception": false,
     "start_time": "2020-09-16T08:20:59.857578",
     "status": "completed"
    },
    "tags": []
   },
   "source": [
    "### Dump API TEKs"
   ]
  },
  {
   "cell_type": "code",
   "execution_count": 10,
   "metadata": {
    "execution": {
     "iopub.execute_input": "2020-09-16T08:20:59.949838Z",
     "iopub.status.busy": "2020-09-16T08:20:59.949252Z",
     "iopub.status.idle": "2020-09-16T08:20:59.971829Z",
     "shell.execute_reply": "2020-09-16T08:20:59.971268Z"
    },
    "papermill": {
     "duration": 0.060571,
     "end_time": "2020-09-16T08:20:59.971982",
     "exception": false,
     "start_time": "2020-09-16T08:20:59.911411",
     "status": "completed"
    },
    "tags": []
   },
   "outputs": [
    {
     "data": {
      "text/html": [
       "<div>\n",
       "<style scoped>\n",
       "    .dataframe tbody tr th:only-of-type {\n",
       "        vertical-align: middle;\n",
       "    }\n",
       "\n",
       "    .dataframe tbody tr th {\n",
       "        vertical-align: top;\n",
       "    }\n",
       "\n",
       "    .dataframe thead th {\n",
       "        text-align: right;\n",
       "    }\n",
       "</style>\n",
       "<table border=\"1\" class=\"dataframe\">\n",
       "  <thead>\n",
       "    <tr style=\"text-align: right;\">\n",
       "      <th></th>\n",
       "      <th>sample_date</th>\n",
       "      <th>tek_list</th>\n",
       "      <th>extraction_date</th>\n",
       "      <th>extraction_date_with_hour</th>\n",
       "    </tr>\n",
       "  </thead>\n",
       "  <tbody>\n",
       "    <tr>\n",
       "      <th>0</th>\n",
       "      <td>2020-09-03</td>\n",
       "      <td>[a5a9d4ca-e0e9-06e0-7da4-69c63706eb57, ac544fd...</td>\n",
       "      <td>2020-09-16</td>\n",
       "      <td>2020-09-16@08</td>\n",
       "    </tr>\n",
       "    <tr>\n",
       "      <th>1</th>\n",
       "      <td>2020-09-04</td>\n",
       "      <td>[98aa2cae-2aa8-2211-af28-d71ebe061675, a2a0a01...</td>\n",
       "      <td>2020-09-16</td>\n",
       "      <td>2020-09-16@08</td>\n",
       "    </tr>\n",
       "    <tr>\n",
       "      <th>2</th>\n",
       "      <td>2020-09-05</td>\n",
       "      <td>[2630f115-d3d6-6d09-c4c3-761802f15ab9, 6634443...</td>\n",
       "      <td>2020-09-16</td>\n",
       "      <td>2020-09-16@08</td>\n",
       "    </tr>\n",
       "    <tr>\n",
       "      <th>3</th>\n",
       "      <td>2020-09-06</td>\n",
       "      <td>[385e7ed2-4285-fcfd-18e4-3197e44fc261, d484384...</td>\n",
       "      <td>2020-09-16</td>\n",
       "      <td>2020-09-16@08</td>\n",
       "    </tr>\n",
       "    <tr>\n",
       "      <th>4</th>\n",
       "      <td>2020-09-07</td>\n",
       "      <td>[4f22f269-acd0-9cbd-5082-87826578c387, 402a892...</td>\n",
       "      <td>2020-09-16</td>\n",
       "      <td>2020-09-16@08</td>\n",
       "    </tr>\n",
       "  </tbody>\n",
       "</table>\n",
       "</div>"
      ],
      "text/plain": [
       "  sample_date                                           tek_list  \\\n",
       "0  2020-09-03  [a5a9d4ca-e0e9-06e0-7da4-69c63706eb57, ac544fd...   \n",
       "1  2020-09-04  [98aa2cae-2aa8-2211-af28-d71ebe061675, a2a0a01...   \n",
       "2  2020-09-05  [2630f115-d3d6-6d09-c4c3-761802f15ab9, 6634443...   \n",
       "3  2020-09-06  [385e7ed2-4285-fcfd-18e4-3197e44fc261, d484384...   \n",
       "4  2020-09-07  [4f22f269-acd0-9cbd-5082-87826578c387, 402a892...   \n",
       "\n",
       "  extraction_date extraction_date_with_hour  \n",
       "0      2020-09-16             2020-09-16@08  \n",
       "1      2020-09-16             2020-09-16@08  \n",
       "2      2020-09-16             2020-09-16@08  \n",
       "3      2020-09-16             2020-09-16@08  \n",
       "4      2020-09-16             2020-09-16@08  "
      ]
     },
     "execution_count": 10,
     "metadata": {},
     "output_type": "execute_result"
    }
   ],
   "source": [
    "tek_list_df = exposure_keys_df[[\"sample_date_string\", \"key_data\"]].copy()\n",
    "tek_list_df[\"key_data\"] = tek_list_df[\"key_data\"].apply(str)\n",
    "tek_list_df.rename(columns={\n",
    "    \"sample_date_string\": \"sample_date\",\n",
    "    \"key_data\": \"tek_list\"}, inplace=True)\n",
    "tek_list_df = tek_list_df.groupby(\n",
    "    \"sample_date\").tek_list.unique().reset_index()\n",
    "tek_list_df[\"extraction_date\"] = extraction_date\n",
    "tek_list_df[\"extraction_date_with_hour\"] = extraction_date_with_hour\n",
    "tek_list_df.drop(columns=[\"extraction_date\", \"extraction_date_with_hour\"]).to_json(\n",
    "    \"Data/TEKs/Current/RadarCOVID-TEKs.json\",\n",
    "    lines=True, orient=\"records\")\n",
    "tek_list_df.drop(columns=[\"extraction_date_with_hour\"]).to_json(\n",
    "    \"Data/TEKs/Daily/RadarCOVID-TEKs-\" + extraction_date + \".json\",\n",
    "    lines=True, orient=\"records\")\n",
    "tek_list_df.to_json(\n",
    "    \"Data/TEKs/Hourly/RadarCOVID-TEKs-\" + extraction_date_with_hour + \".json\",\n",
    "    lines=True, orient=\"records\")\n",
    "tek_list_df.head()"
   ]
  },
  {
   "cell_type": "markdown",
   "metadata": {
    "papermill": {
     "duration": 0.027075,
     "end_time": "2020-09-16T08:21:00.028160",
     "exception": false,
     "start_time": "2020-09-16T08:21:00.001085",
     "status": "completed"
    },
    "tags": []
   },
   "source": [
    "### Load TEK Dumps"
   ]
  },
  {
   "cell_type": "code",
   "execution_count": 11,
   "metadata": {
    "execution": {
     "iopub.execute_input": "2020-09-16T08:21:00.100022Z",
     "iopub.status.busy": "2020-09-16T08:21:00.099359Z",
     "iopub.status.idle": "2020-09-16T08:21:00.101426Z",
     "shell.execute_reply": "2020-09-16T08:21:00.101965Z"
    },
    "papermill": {
     "duration": 0.036335,
     "end_time": "2020-09-16T08:21:00.102117",
     "exception": false,
     "start_time": "2020-09-16T08:21:00.065782",
     "status": "completed"
    },
    "tags": []
   },
   "outputs": [],
   "source": [
    "import glob\n",
    "\n",
    "def load_extracted_teks(mode, limit=None) -> pd.DataFrame:\n",
    "    extracted_teks_df = pd.DataFrame()\n",
    "    paths = list(reversed(sorted(glob.glob(f\"Data/TEKs/{mode}/RadarCOVID-TEKs-*.json\"))))\n",
    "    if limit:\n",
    "        paths = paths[:limit]\n",
    "    for path in paths:\n",
    "        logging.info(f\"Loading TEKs from '{path}'...\")\n",
    "        iteration_extracted_teks_df = pd.read_json(path, lines=True)\n",
    "        extracted_teks_df = extracted_teks_df.append(\n",
    "            iteration_extracted_teks_df, sort=False)\n",
    "    return extracted_teks_df"
   ]
  },
  {
   "cell_type": "markdown",
   "metadata": {
    "execution": {
     "iopub.execute_input": "2020-08-30T22:30:16.632967Z",
     "iopub.status.busy": "2020-08-30T22:30:16.632308Z",
     "iopub.status.idle": "2020-08-30T22:30:16.634945Z",
     "shell.execute_reply": "2020-08-30T22:30:16.635575Z"
    },
    "papermill": {
     "duration": 0.027266,
     "end_time": "2020-09-16T08:21:00.156963",
     "exception": false,
     "start_time": "2020-09-16T08:21:00.129697",
     "status": "completed"
    },
    "pycharm": {
     "name": "#%% md\n"
    },
    "tags": []
   },
   "source": [
    "### Daily New TEKs"
   ]
  },
  {
   "cell_type": "code",
   "execution_count": 12,
   "metadata": {
    "execution": {
     "iopub.execute_input": "2020-09-16T08:21:00.216726Z",
     "iopub.status.busy": "2020-09-16T08:21:00.215918Z",
     "iopub.status.idle": "2020-09-16T08:21:00.286727Z",
     "shell.execute_reply": "2020-09-16T08:21:00.287257Z"
    },
    "papermill": {
     "duration": 0.103287,
     "end_time": "2020-09-16T08:21:00.287437",
     "exception": false,
     "start_time": "2020-09-16T08:21:00.184150",
     "status": "completed"
    },
    "tags": []
   },
   "outputs": [
    {
     "data": {
      "text/html": [
       "<div>\n",
       "<style scoped>\n",
       "    .dataframe tbody tr th:only-of-type {\n",
       "        vertical-align: middle;\n",
       "    }\n",
       "\n",
       "    .dataframe tbody tr th {\n",
       "        vertical-align: top;\n",
       "    }\n",
       "\n",
       "    .dataframe thead th {\n",
       "        text-align: right;\n",
       "    }\n",
       "</style>\n",
       "<table border=\"1\" class=\"dataframe\">\n",
       "  <thead>\n",
       "    <tr style=\"text-align: right;\">\n",
       "      <th></th>\n",
       "      <th>sample_date</th>\n",
       "      <th>tek_list</th>\n",
       "      <th>extraction_date</th>\n",
       "    </tr>\n",
       "  </thead>\n",
       "  <tbody>\n",
       "    <tr>\n",
       "      <th>0</th>\n",
       "      <td>2020-09-03</td>\n",
       "      <td>[a5a9d4ca-e0e9-06e0-7da4-69c63706eb57, ac544fd...</td>\n",
       "      <td>2020-09-16</td>\n",
       "    </tr>\n",
       "    <tr>\n",
       "      <th>1</th>\n",
       "      <td>2020-09-04</td>\n",
       "      <td>[98aa2cae-2aa8-2211-af28-d71ebe061675, a2a0a01...</td>\n",
       "      <td>2020-09-16</td>\n",
       "    </tr>\n",
       "    <tr>\n",
       "      <th>2</th>\n",
       "      <td>2020-09-05</td>\n",
       "      <td>[2630f115-d3d6-6d09-c4c3-761802f15ab9, 6634443...</td>\n",
       "      <td>2020-09-16</td>\n",
       "    </tr>\n",
       "    <tr>\n",
       "      <th>3</th>\n",
       "      <td>2020-09-06</td>\n",
       "      <td>[385e7ed2-4285-fcfd-18e4-3197e44fc261, d484384...</td>\n",
       "      <td>2020-09-16</td>\n",
       "    </tr>\n",
       "    <tr>\n",
       "      <th>4</th>\n",
       "      <td>2020-09-07</td>\n",
       "      <td>[4f22f269-acd0-9cbd-5082-87826578c387, 402a892...</td>\n",
       "      <td>2020-09-16</td>\n",
       "    </tr>\n",
       "  </tbody>\n",
       "</table>\n",
       "</div>"
      ],
      "text/plain": [
       "  sample_date                                           tek_list  \\\n",
       "0  2020-09-03  [a5a9d4ca-e0e9-06e0-7da4-69c63706eb57, ac544fd...   \n",
       "1  2020-09-04  [98aa2cae-2aa8-2211-af28-d71ebe061675, a2a0a01...   \n",
       "2  2020-09-05  [2630f115-d3d6-6d09-c4c3-761802f15ab9, 6634443...   \n",
       "3  2020-09-06  [385e7ed2-4285-fcfd-18e4-3197e44fc261, d484384...   \n",
       "4  2020-09-07  [4f22f269-acd0-9cbd-5082-87826578c387, 402a892...   \n",
       "\n",
       "  extraction_date  \n",
       "0      2020-09-16  \n",
       "1      2020-09-16  \n",
       "2      2020-09-16  \n",
       "3      2020-09-16  \n",
       "4      2020-09-16  "
      ]
     },
     "execution_count": 12,
     "metadata": {},
     "output_type": "execute_result"
    }
   ],
   "source": [
    "daily_extracted_teks_df = load_extracted_teks(mode=\"Daily\", limit=14)\n",
    "daily_extracted_teks_df.head()"
   ]
  },
  {
   "cell_type": "code",
   "execution_count": 13,
   "metadata": {
    "execution": {
     "iopub.execute_input": "2020-09-16T08:21:00.348590Z",
     "iopub.status.busy": "2020-09-16T08:21:00.348004Z",
     "iopub.status.idle": "2020-09-16T08:21:00.365538Z",
     "shell.execute_reply": "2020-09-16T08:21:00.366084Z"
    },
    "papermill": {
     "duration": 0.051128,
     "end_time": "2020-09-16T08:21:00.366264",
     "exception": false,
     "start_time": "2020-09-16T08:21:00.315136",
     "status": "completed"
    },
    "tags": []
   },
   "outputs": [
    {
     "data": {
      "text/html": [
       "<div>\n",
       "<style scoped>\n",
       "    .dataframe tbody tr th:only-of-type {\n",
       "        vertical-align: middle;\n",
       "    }\n",
       "\n",
       "    .dataframe tbody tr th {\n",
       "        vertical-align: top;\n",
       "    }\n",
       "\n",
       "    .dataframe thead th {\n",
       "        text-align: right;\n",
       "    }\n",
       "</style>\n",
       "<table border=\"1\" class=\"dataframe\">\n",
       "  <thead>\n",
       "    <tr style=\"text-align: right;\">\n",
       "      <th></th>\n",
       "      <th>tek_list</th>\n",
       "    </tr>\n",
       "    <tr>\n",
       "      <th>extraction_date</th>\n",
       "      <th></th>\n",
       "    </tr>\n",
       "  </thead>\n",
       "  <tbody>\n",
       "    <tr>\n",
       "      <th>2020-09-03</th>\n",
       "      <td>{dced500e-87e3-d427-1a8e-da5037418461, fd65832...</td>\n",
       "    </tr>\n",
       "    <tr>\n",
       "      <th>2020-09-04</th>\n",
       "      <td>{dced500e-87e3-d427-1a8e-da5037418461, fd65832...</td>\n",
       "    </tr>\n",
       "    <tr>\n",
       "      <th>2020-09-05</th>\n",
       "      <td>{dced500e-87e3-d427-1a8e-da5037418461, fd65832...</td>\n",
       "    </tr>\n",
       "    <tr>\n",
       "      <th>2020-09-06</th>\n",
       "      <td>{dced500e-87e3-d427-1a8e-da5037418461, fd65832...</td>\n",
       "    </tr>\n",
       "    <tr>\n",
       "      <th>2020-09-07</th>\n",
       "      <td>{dced500e-87e3-d427-1a8e-da5037418461, fd65832...</td>\n",
       "    </tr>\n",
       "  </tbody>\n",
       "</table>\n",
       "</div>"
      ],
      "text/plain": [
       "                                                          tek_list\n",
       "extraction_date                                                   \n",
       "2020-09-03       {dced500e-87e3-d427-1a8e-da5037418461, fd65832...\n",
       "2020-09-04       {dced500e-87e3-d427-1a8e-da5037418461, fd65832...\n",
       "2020-09-05       {dced500e-87e3-d427-1a8e-da5037418461, fd65832...\n",
       "2020-09-06       {dced500e-87e3-d427-1a8e-da5037418461, fd65832...\n",
       "2020-09-07       {dced500e-87e3-d427-1a8e-da5037418461, fd65832..."
      ]
     },
     "execution_count": 13,
     "metadata": {},
     "output_type": "execute_result"
    }
   ],
   "source": [
    "tek_list_df = daily_extracted_teks_df.groupby(\"extraction_date\").tek_list.apply(\n",
    "    lambda x: set(sum(x, []))).reset_index()\n",
    "tek_list_df = tek_list_df.set_index(\"extraction_date\").sort_index(ascending=True)\n",
    "tek_list_df.head()"
   ]
  },
  {
   "cell_type": "code",
   "execution_count": 14,
   "metadata": {
    "execution": {
     "iopub.execute_input": "2020-09-16T08:21:00.439289Z",
     "iopub.status.busy": "2020-09-16T08:21:00.437493Z",
     "iopub.status.idle": "2020-09-16T08:21:00.441621Z",
     "shell.execute_reply": "2020-09-16T08:21:00.441010Z"
    },
    "papermill": {
     "duration": 0.046515,
     "end_time": "2020-09-16T08:21:00.441755",
     "exception": false,
     "start_time": "2020-09-16T08:21:00.395240",
     "status": "completed"
    },
    "tags": []
   },
   "outputs": [
    {
     "data": {
      "text/html": [
       "<div>\n",
       "<style scoped>\n",
       "    .dataframe tbody tr th:only-of-type {\n",
       "        vertical-align: middle;\n",
       "    }\n",
       "\n",
       "    .dataframe tbody tr th {\n",
       "        vertical-align: top;\n",
       "    }\n",
       "\n",
       "    .dataframe thead th {\n",
       "        text-align: right;\n",
       "    }\n",
       "</style>\n",
       "<table border=\"1\" class=\"dataframe\">\n",
       "  <thead>\n",
       "    <tr style=\"text-align: right;\">\n",
       "      <th></th>\n",
       "      <th>sample_date_string</th>\n",
       "      <th>new_tek_count</th>\n",
       "    </tr>\n",
       "  </thead>\n",
       "  <tbody>\n",
       "    <tr>\n",
       "      <th>0</th>\n",
       "      <td>2020-09-03</td>\n",
       "      <td>NaN</td>\n",
       "    </tr>\n",
       "    <tr>\n",
       "      <th>1</th>\n",
       "      <td>2020-09-04</td>\n",
       "      <td>58.0</td>\n",
       "    </tr>\n",
       "    <tr>\n",
       "      <th>2</th>\n",
       "      <td>2020-09-05</td>\n",
       "      <td>40.0</td>\n",
       "    </tr>\n",
       "    <tr>\n",
       "      <th>3</th>\n",
       "      <td>2020-09-06</td>\n",
       "      <td>60.0</td>\n",
       "    </tr>\n",
       "    <tr>\n",
       "      <th>4</th>\n",
       "      <td>2020-09-07</td>\n",
       "      <td>52.0</td>\n",
       "    </tr>\n",
       "  </tbody>\n",
       "</table>\n",
       "</div>"
      ],
      "text/plain": [
       "  sample_date_string  new_tek_count\n",
       "0         2020-09-03            NaN\n",
       "1         2020-09-04           58.0\n",
       "2         2020-09-05           40.0\n",
       "3         2020-09-06           60.0\n",
       "4         2020-09-07           52.0"
      ]
     },
     "execution_count": 14,
     "metadata": {},
     "output_type": "execute_result"
    }
   ],
   "source": [
    "new_tek_df = tek_list_df.diff().tek_list.apply(\n",
    "    lambda x: len(x) if not pd.isna(x) else None).to_frame().reset_index()\n",
    "new_tek_df.rename(columns={\n",
    "    \"tek_list\": \"new_tek_count\",\n",
    "    \"extraction_date\": \"sample_date_string\",}, inplace=True)\n",
    "new_tek_df.head()"
   ]
  },
  {
   "cell_type": "code",
   "execution_count": 15,
   "metadata": {
    "execution": {
     "iopub.execute_input": "2020-09-16T08:21:00.511168Z",
     "iopub.status.busy": "2020-09-16T08:21:00.510547Z",
     "iopub.status.idle": "2020-09-16T08:21:00.521939Z",
     "shell.execute_reply": "2020-09-16T08:21:00.521444Z"
    },
    "papermill": {
     "duration": 0.050907,
     "end_time": "2020-09-16T08:21:00.522070",
     "exception": false,
     "start_time": "2020-09-16T08:21:00.471163",
     "status": "completed"
    },
    "pycharm": {
     "name": "#%%\n"
    },
    "tags": []
   },
   "outputs": [
    {
     "data": {
      "text/html": [
       "<div>\n",
       "<style scoped>\n",
       "    .dataframe tbody tr th:only-of-type {\n",
       "        vertical-align: middle;\n",
       "    }\n",
       "\n",
       "    .dataframe tbody tr th {\n",
       "        vertical-align: top;\n",
       "    }\n",
       "\n",
       "    .dataframe thead th {\n",
       "        text-align: right;\n",
       "    }\n",
       "</style>\n",
       "<table border=\"1\" class=\"dataframe\">\n",
       "  <thead>\n",
       "    <tr style=\"text-align: right;\">\n",
       "      <th></th>\n",
       "      <th>sample_date</th>\n",
       "      <th>tek_list</th>\n",
       "      <th>extraction_date</th>\n",
       "      <th>new_sample_extraction_date</th>\n",
       "    </tr>\n",
       "  </thead>\n",
       "  <tbody>\n",
       "    <tr>\n",
       "      <th>12</th>\n",
       "      <td>2020-09-15</td>\n",
       "      <td>[cd29a372-03ec-74cd-a05b-38ed7f29a159, 16190fb...</td>\n",
       "      <td>2020-09-16</td>\n",
       "      <td>2020-09-16</td>\n",
       "    </tr>\n",
       "    <tr>\n",
       "      <th>12</th>\n",
       "      <td>2020-09-14</td>\n",
       "      <td>[d4bfbea7-3eaf-535f-3faa-aaedf929f579, ae4ae0c...</td>\n",
       "      <td>2020-09-15</td>\n",
       "      <td>2020-09-15</td>\n",
       "    </tr>\n",
       "    <tr>\n",
       "      <th>12</th>\n",
       "      <td>2020-09-13</td>\n",
       "      <td>[505d0ee6-f270-c93c-754d-1b8a5d8a4a27, 7a3b8a8...</td>\n",
       "      <td>2020-09-14</td>\n",
       "      <td>2020-09-14</td>\n",
       "    </tr>\n",
       "    <tr>\n",
       "      <th>12</th>\n",
       "      <td>2020-09-12</td>\n",
       "      <td>[b6e3bd50-c556-ff3b-56af-0fe6d728dc4b, 213621e...</td>\n",
       "      <td>2020-09-13</td>\n",
       "      <td>2020-09-13</td>\n",
       "    </tr>\n",
       "    <tr>\n",
       "      <th>12</th>\n",
       "      <td>2020-09-11</td>\n",
       "      <td>[37f3f2da-307f-8df3-01ba-e05b5aee182e, 6d3415f...</td>\n",
       "      <td>2020-09-12</td>\n",
       "      <td>2020-09-12</td>\n",
       "    </tr>\n",
       "  </tbody>\n",
       "</table>\n",
       "</div>"
      ],
      "text/plain": [
       "   sample_date                                           tek_list  \\\n",
       "12  2020-09-15  [cd29a372-03ec-74cd-a05b-38ed7f29a159, 16190fb...   \n",
       "12  2020-09-14  [d4bfbea7-3eaf-535f-3faa-aaedf929f579, ae4ae0c...   \n",
       "12  2020-09-13  [505d0ee6-f270-c93c-754d-1b8a5d8a4a27, 7a3b8a8...   \n",
       "12  2020-09-12  [b6e3bd50-c556-ff3b-56af-0fe6d728dc4b, 213621e...   \n",
       "12  2020-09-11  [37f3f2da-307f-8df3-01ba-e05b5aee182e, 6d3415f...   \n",
       "\n",
       "   extraction_date new_sample_extraction_date  \n",
       "12      2020-09-16                 2020-09-16  \n",
       "12      2020-09-15                 2020-09-15  \n",
       "12      2020-09-14                 2020-09-14  \n",
       "12      2020-09-13                 2020-09-13  \n",
       "12      2020-09-12                 2020-09-12  "
      ]
     },
     "execution_count": 15,
     "metadata": {},
     "output_type": "execute_result"
    }
   ],
   "source": [
    "new_tek_devices_df = daily_extracted_teks_df.copy()\n",
    "new_tek_devices_df[\"new_sample_extraction_date\"] = \\\n",
    "    pd.to_datetime(new_tek_devices_df.sample_date) + datetime.timedelta(1)\n",
    "new_tek_devices_df[\"extraction_date\"] = pd.to_datetime(new_tek_devices_df.extraction_date)\n",
    "\n",
    "new_tek_devices_df = new_tek_devices_df[\n",
    "    new_tek_devices_df.new_sample_extraction_date == new_tek_devices_df.extraction_date]\n",
    "new_tek_devices_df.head()"
   ]
  },
  {
   "cell_type": "code",
   "execution_count": 16,
   "metadata": {
    "execution": {
     "iopub.execute_input": "2020-09-16T08:21:00.595525Z",
     "iopub.status.busy": "2020-09-16T08:21:00.594740Z",
     "iopub.status.idle": "2020-09-16T08:21:00.597485Z",
     "shell.execute_reply": "2020-09-16T08:21:00.597939Z"
    },
    "papermill": {
     "duration": 0.046479,
     "end_time": "2020-09-16T08:21:00.598097",
     "exception": false,
     "start_time": "2020-09-16T08:21:00.551618",
     "status": "completed"
    },
    "tags": []
   },
   "outputs": [
    {
     "data": {
      "text/html": [
       "<div>\n",
       "<style scoped>\n",
       "    .dataframe tbody tr th:only-of-type {\n",
       "        vertical-align: middle;\n",
       "    }\n",
       "\n",
       "    .dataframe tbody tr th {\n",
       "        vertical-align: top;\n",
       "    }\n",
       "\n",
       "    .dataframe thead th {\n",
       "        text-align: right;\n",
       "    }\n",
       "</style>\n",
       "<table border=\"1\" class=\"dataframe\">\n",
       "  <thead>\n",
       "    <tr style=\"text-align: right;\">\n",
       "      <th></th>\n",
       "      <th>sample_date_string</th>\n",
       "      <th>new_tek_devices</th>\n",
       "    </tr>\n",
       "  </thead>\n",
       "  <tbody>\n",
       "    <tr>\n",
       "      <th>0</th>\n",
       "      <td>2020-09-16</td>\n",
       "      <td>11</td>\n",
       "    </tr>\n",
       "    <tr>\n",
       "      <th>1</th>\n",
       "      <td>2020-09-15</td>\n",
       "      <td>23</td>\n",
       "    </tr>\n",
       "    <tr>\n",
       "      <th>2</th>\n",
       "      <td>2020-09-14</td>\n",
       "      <td>28</td>\n",
       "    </tr>\n",
       "    <tr>\n",
       "      <th>3</th>\n",
       "      <td>2020-09-13</td>\n",
       "      <td>32</td>\n",
       "    </tr>\n",
       "    <tr>\n",
       "      <th>4</th>\n",
       "      <td>2020-09-12</td>\n",
       "      <td>33</td>\n",
       "    </tr>\n",
       "  </tbody>\n",
       "</table>\n",
       "</div>"
      ],
      "text/plain": [
       "  sample_date_string  new_tek_devices\n",
       "0         2020-09-16               11\n",
       "1         2020-09-15               23\n",
       "2         2020-09-14               28\n",
       "3         2020-09-13               32\n",
       "4         2020-09-12               33"
      ]
     },
     "execution_count": 16,
     "metadata": {},
     "output_type": "execute_result"
    }
   ],
   "source": [
    "new_tek_devices_df.set_index(\"extraction_date\", inplace=True)\n",
    "new_tek_devices_df = new_tek_devices_df.tek_list.apply(lambda x: len(set(x))).to_frame()\n",
    "new_tek_devices_df.reset_index(inplace=True)\n",
    "new_tek_devices_df.rename(columns={\n",
    "    \"extraction_date\": \"sample_date_string\",\n",
    "    \"tek_list\": \"new_tek_devices\"}, inplace=True)\n",
    "new_tek_devices_df[\"sample_date_string\"] = new_tek_devices_df.sample_date_string.dt.strftime(\"%Y-%m-%d\")\n",
    "new_tek_devices_df.head()"
   ]
  },
  {
   "cell_type": "markdown",
   "metadata": {
    "papermill": {
     "duration": 0.030041,
     "end_time": "2020-09-16T08:21:00.659053",
     "exception": false,
     "start_time": "2020-09-16T08:21:00.629012",
     "status": "completed"
    },
    "pycharm": {
     "name": "#%% md\n"
    },
    "tags": []
   },
   "source": [
    "### Hourly New TEKs"
   ]
  },
  {
   "cell_type": "code",
   "execution_count": 17,
   "metadata": {
    "execution": {
     "iopub.execute_input": "2020-09-16T08:21:00.727876Z",
     "iopub.status.busy": "2020-09-16T08:21:00.727289Z",
     "iopub.status.idle": "2020-09-16T08:21:00.854345Z",
     "shell.execute_reply": "2020-09-16T08:21:00.853856Z"
    },
    "papermill": {
     "duration": 0.165315,
     "end_time": "2020-09-16T08:21:00.854477",
     "exception": false,
     "start_time": "2020-09-16T08:21:00.689162",
     "status": "completed"
    },
    "tags": []
   },
   "outputs": [
    {
     "data": {
      "text/html": [
       "<div>\n",
       "<style scoped>\n",
       "    .dataframe tbody tr th:only-of-type {\n",
       "        vertical-align: middle;\n",
       "    }\n",
       "\n",
       "    .dataframe tbody tr th {\n",
       "        vertical-align: top;\n",
       "    }\n",
       "\n",
       "    .dataframe thead th {\n",
       "        text-align: right;\n",
       "    }\n",
       "</style>\n",
       "<table border=\"1\" class=\"dataframe\">\n",
       "  <thead>\n",
       "    <tr style=\"text-align: right;\">\n",
       "      <th></th>\n",
       "      <th>extraction_date_with_hour</th>\n",
       "      <th>new_tek_count</th>\n",
       "    </tr>\n",
       "  </thead>\n",
       "  <tbody>\n",
       "    <tr>\n",
       "      <th>19</th>\n",
       "      <td>2020-09-16@04</td>\n",
       "      <td>0.0</td>\n",
       "    </tr>\n",
       "    <tr>\n",
       "      <th>20</th>\n",
       "      <td>2020-09-16@05</td>\n",
       "      <td>0.0</td>\n",
       "    </tr>\n",
       "    <tr>\n",
       "      <th>21</th>\n",
       "      <td>2020-09-16@06</td>\n",
       "      <td>0.0</td>\n",
       "    </tr>\n",
       "    <tr>\n",
       "      <th>22</th>\n",
       "      <td>2020-09-16@07</td>\n",
       "      <td>0.0</td>\n",
       "    </tr>\n",
       "    <tr>\n",
       "      <th>23</th>\n",
       "      <td>2020-09-16@08</td>\n",
       "      <td>12.0</td>\n",
       "    </tr>\n",
       "  </tbody>\n",
       "</table>\n",
       "</div>"
      ],
      "text/plain": [
       "   extraction_date_with_hour  new_tek_count\n",
       "19             2020-09-16@04            0.0\n",
       "20             2020-09-16@05            0.0\n",
       "21             2020-09-16@06            0.0\n",
       "22             2020-09-16@07            0.0\n",
       "23             2020-09-16@08           12.0"
      ]
     },
     "execution_count": 17,
     "metadata": {},
     "output_type": "execute_result"
    }
   ],
   "source": [
    "hourly_extracted_teks_df = load_extracted_teks(mode=\"Hourly\", limit=24)\n",
    "hourly_extracted_teks_df.head()\n",
    "\n",
    "hourly_tek_list_df = hourly_extracted_teks_df.groupby(\"extraction_date_with_hour\").tek_list.apply(\n",
    "    lambda x: set(sum(x, []))).reset_index()\n",
    "hourly_tek_list_df = hourly_tek_list_df.set_index(\"extraction_date_with_hour\").sort_index(ascending=True)\n",
    "\n",
    "hourly_new_tek_df = hourly_tek_list_df.diff().tek_list.apply(\n",
    "    lambda x: len(x) if not pd.isna(x) else None).to_frame().reset_index()\n",
    "hourly_new_tek_df.rename(columns={\n",
    "    \"tek_list\": \"new_tek_count\"}, inplace=True)\n",
    "hourly_new_tek_df.tail()"
   ]
  },
  {
   "cell_type": "code",
   "execution_count": 18,
   "metadata": {
    "execution": {
     "iopub.execute_input": "2020-09-16T08:21:00.943244Z",
     "iopub.status.busy": "2020-09-16T08:21:00.942620Z",
     "iopub.status.idle": "2020-09-16T08:21:00.944954Z",
     "shell.execute_reply": "2020-09-16T08:21:00.945401Z"
    },
    "papermill": {
     "duration": 0.0608,
     "end_time": "2020-09-16T08:21:00.945563",
     "exception": false,
     "start_time": "2020-09-16T08:21:00.884763",
     "status": "completed"
    },
    "pycharm": {
     "name": "#%%\n"
    },
    "tags": []
   },
   "outputs": [
    {
     "data": {
      "text/html": [
       "<div>\n",
       "<style scoped>\n",
       "    .dataframe tbody tr th:only-of-type {\n",
       "        vertical-align: middle;\n",
       "    }\n",
       "\n",
       "    .dataframe tbody tr th {\n",
       "        vertical-align: top;\n",
       "    }\n",
       "\n",
       "    .dataframe thead th {\n",
       "        text-align: right;\n",
       "    }\n",
       "</style>\n",
       "<table border=\"1\" class=\"dataframe\">\n",
       "  <thead>\n",
       "    <tr style=\"text-align: right;\">\n",
       "      <th></th>\n",
       "      <th>extraction_date_with_hour</th>\n",
       "      <th>new_tek_devices</th>\n",
       "    </tr>\n",
       "  </thead>\n",
       "  <tbody>\n",
       "    <tr>\n",
       "      <th>17</th>\n",
       "      <td>2020-09-16@04</td>\n",
       "      <td>0.0</td>\n",
       "    </tr>\n",
       "    <tr>\n",
       "      <th>18</th>\n",
       "      <td>2020-09-16@05</td>\n",
       "      <td>0.0</td>\n",
       "    </tr>\n",
       "    <tr>\n",
       "      <th>19</th>\n",
       "      <td>2020-09-16@06</td>\n",
       "      <td>0.0</td>\n",
       "    </tr>\n",
       "    <tr>\n",
       "      <th>20</th>\n",
       "      <td>2020-09-16@07</td>\n",
       "      <td>0.0</td>\n",
       "    </tr>\n",
       "    <tr>\n",
       "      <th>21</th>\n",
       "      <td>2020-09-16@08</td>\n",
       "      <td>4.0</td>\n",
       "    </tr>\n",
       "  </tbody>\n",
       "</table>\n",
       "</div>"
      ],
      "text/plain": [
       "   extraction_date_with_hour  new_tek_devices\n",
       "17             2020-09-16@04              0.0\n",
       "18             2020-09-16@05              0.0\n",
       "19             2020-09-16@06              0.0\n",
       "20             2020-09-16@07              0.0\n",
       "21             2020-09-16@08              4.0"
      ]
     },
     "execution_count": 18,
     "metadata": {},
     "output_type": "execute_result"
    }
   ],
   "source": [
    "hourly_new_tek_devices_df = hourly_extracted_teks_df.copy()\n",
    "hourly_new_tek_devices_df[\"new_sample_extraction_date\"] = \\\n",
    "    pd.to_datetime(hourly_new_tek_devices_df.sample_date) + datetime.timedelta(1)\n",
    "hourly_new_tek_devices_df[\"extraction_date\"] = pd.to_datetime(hourly_new_tek_devices_df.extraction_date)\n",
    "\n",
    "hourly_new_tek_devices_df = hourly_new_tek_devices_df[\n",
    "    hourly_new_tek_devices_df.new_sample_extraction_date == hourly_new_tek_devices_df.extraction_date]\n",
    "\n",
    "hourly_new_tek_devices_df.set_index(\"extraction_date_with_hour\", inplace=True)\n",
    "hourly_new_tek_devices_df_ = pd.DataFrame()\n",
    "\n",
    "for i, chunk_df in hourly_new_tek_devices_df.groupby(\"extraction_date\"):\n",
    "    chunk_df = chunk_df.copy()\n",
    "    chunk_df.sort_index(inplace=True)\n",
    "    chunk_tek_count_df = chunk_df.tek_list.apply(lambda x: len(set(x)))\n",
    "    chunk_df = chunk_tek_count_df.diff().fillna(chunk_tek_count_df).to_frame()\n",
    "    hourly_new_tek_devices_df_ = hourly_new_tek_devices_df_.append(chunk_df)\n",
    "    \n",
    "hourly_new_tek_devices_df = hourly_new_tek_devices_df_\n",
    "hourly_new_tek_devices_df.reset_index(inplace=True)\n",
    "hourly_new_tek_devices_df.rename(columns={\n",
    "    \"tek_list\": \"new_tek_devices\"}, inplace=True)\n",
    "hourly_new_tek_devices_df.tail()"
   ]
  },
  {
   "cell_type": "code",
   "execution_count": 19,
   "metadata": {
    "execution": {
     "iopub.execute_input": "2020-09-16T08:21:01.022162Z",
     "iopub.status.busy": "2020-09-16T08:21:01.021525Z",
     "iopub.status.idle": "2020-09-16T08:21:01.023824Z",
     "shell.execute_reply": "2020-09-16T08:21:01.024273Z"
    },
    "papermill": {
     "duration": 0.048726,
     "end_time": "2020-09-16T08:21:01.024424",
     "exception": false,
     "start_time": "2020-09-16T08:21:00.975698",
     "status": "completed"
    },
    "tags": []
   },
   "outputs": [
    {
     "data": {
      "text/html": [
       "<div>\n",
       "<style scoped>\n",
       "    .dataframe tbody tr th:only-of-type {\n",
       "        vertical-align: middle;\n",
       "    }\n",
       "\n",
       "    .dataframe tbody tr th {\n",
       "        vertical-align: top;\n",
       "    }\n",
       "\n",
       "    .dataframe thead th {\n",
       "        text-align: right;\n",
       "    }\n",
       "</style>\n",
       "<table border=\"1\" class=\"dataframe\">\n",
       "  <thead>\n",
       "    <tr style=\"text-align: right;\">\n",
       "      <th></th>\n",
       "      <th>extraction_date_with_hour</th>\n",
       "      <th>new_tek_count</th>\n",
       "      <th>new_tek_devices</th>\n",
       "    </tr>\n",
       "    <tr>\n",
       "      <th>datetime_utc</th>\n",
       "      <th></th>\n",
       "      <th></th>\n",
       "      <th></th>\n",
       "    </tr>\n",
       "  </thead>\n",
       "  <tbody>\n",
       "    <tr>\n",
       "      <th>2020-09-16 04:00:00</th>\n",
       "      <td>2020-09-16@04</td>\n",
       "      <td>0.0</td>\n",
       "      <td>0.0</td>\n",
       "    </tr>\n",
       "    <tr>\n",
       "      <th>2020-09-16 05:00:00</th>\n",
       "      <td>2020-09-16@05</td>\n",
       "      <td>0.0</td>\n",
       "      <td>0.0</td>\n",
       "    </tr>\n",
       "    <tr>\n",
       "      <th>2020-09-16 06:00:00</th>\n",
       "      <td>2020-09-16@06</td>\n",
       "      <td>0.0</td>\n",
       "      <td>0.0</td>\n",
       "    </tr>\n",
       "    <tr>\n",
       "      <th>2020-09-16 07:00:00</th>\n",
       "      <td>2020-09-16@07</td>\n",
       "      <td>0.0</td>\n",
       "      <td>0.0</td>\n",
       "    </tr>\n",
       "    <tr>\n",
       "      <th>2020-09-16 08:00:00</th>\n",
       "      <td>2020-09-16@08</td>\n",
       "      <td>12.0</td>\n",
       "      <td>4.0</td>\n",
       "    </tr>\n",
       "  </tbody>\n",
       "</table>\n",
       "</div>"
      ],
      "text/plain": [
       "                    extraction_date_with_hour  new_tek_count  new_tek_devices\n",
       "datetime_utc                                                                 \n",
       "2020-09-16 04:00:00             2020-09-16@04            0.0              0.0\n",
       "2020-09-16 05:00:00             2020-09-16@05            0.0              0.0\n",
       "2020-09-16 06:00:00             2020-09-16@06            0.0              0.0\n",
       "2020-09-16 07:00:00             2020-09-16@07            0.0              0.0\n",
       "2020-09-16 08:00:00             2020-09-16@08           12.0              4.0"
      ]
     },
     "execution_count": 19,
     "metadata": {},
     "output_type": "execute_result"
    }
   ],
   "source": [
    "hourly_summary_df = hourly_new_tek_df.merge(\n",
    "    hourly_new_tek_devices_df, on=[\"extraction_date_with_hour\"], how=\"outer\")\n",
    "hourly_summary_df[\"datetime_utc\"] = pd.to_datetime(\n",
    "    hourly_summary_df.extraction_date_with_hour, format=\"%Y-%m-%d@%H\")\n",
    "hourly_summary_df.set_index(\"datetime_utc\", inplace=True)\n",
    "hourly_summary_df.tail()"
   ]
  },
  {
   "cell_type": "markdown",
   "metadata": {
    "execution": {
     "iopub.execute_input": "2020-08-30T22:30:16.982353Z",
     "iopub.status.busy": "2020-08-30T22:30:16.981676Z",
     "iopub.status.idle": "2020-08-30T22:30:16.984837Z",
     "shell.execute_reply": "2020-08-30T22:30:16.985366Z"
    },
    "papermill": {
     "duration": 0.030346,
     "end_time": "2020-09-16T08:21:01.085005",
     "exception": false,
     "start_time": "2020-09-16T08:21:01.054659",
     "status": "completed"
    },
    "pycharm": {
     "name": "#%% md\n"
    },
    "tags": []
   },
   "source": [
    "### Data Merge"
   ]
  },
  {
   "cell_type": "code",
   "execution_count": 20,
   "metadata": {
    "execution": {
     "iopub.execute_input": "2020-09-16T08:21:01.161707Z",
     "iopub.status.busy": "2020-09-16T08:21:01.161143Z",
     "iopub.status.idle": "2020-09-16T08:21:01.164133Z",
     "shell.execute_reply": "2020-09-16T08:21:01.163621Z"
    },
    "papermill": {
     "duration": 0.048799,
     "end_time": "2020-09-16T08:21:01.164262",
     "exception": false,
     "start_time": "2020-09-16T08:21:01.115463",
     "status": "completed"
    },
    "pycharm": {
     "name": "#%%\n"
    },
    "tags": []
   },
   "outputs": [
    {
     "data": {
      "text/html": [
       "<div>\n",
       "<style scoped>\n",
       "    .dataframe tbody tr th:only-of-type {\n",
       "        vertical-align: middle;\n",
       "    }\n",
       "\n",
       "    .dataframe tbody tr th {\n",
       "        vertical-align: top;\n",
       "    }\n",
       "\n",
       "    .dataframe thead th {\n",
       "        text-align: right;\n",
       "    }\n",
       "</style>\n",
       "<table border=\"1\" class=\"dataframe\">\n",
       "  <thead>\n",
       "    <tr style=\"text-align: right;\">\n",
       "      <th></th>\n",
       "      <th>sample_date_string</th>\n",
       "      <th>tek_count</th>\n",
       "      <th>new_tek_count</th>\n",
       "    </tr>\n",
       "  </thead>\n",
       "  <tbody>\n",
       "    <tr>\n",
       "      <th>0</th>\n",
       "      <td>2020-09-15</td>\n",
       "      <td>11.0</td>\n",
       "      <td>58.0</td>\n",
       "    </tr>\n",
       "    <tr>\n",
       "      <th>1</th>\n",
       "      <td>2020-09-14</td>\n",
       "      <td>25.0</td>\n",
       "      <td>61.0</td>\n",
       "    </tr>\n",
       "    <tr>\n",
       "      <th>2</th>\n",
       "      <td>2020-09-13</td>\n",
       "      <td>40.0</td>\n",
       "      <td>92.0</td>\n",
       "    </tr>\n",
       "    <tr>\n",
       "      <th>3</th>\n",
       "      <td>2020-09-12</td>\n",
       "      <td>52.0</td>\n",
       "      <td>92.0</td>\n",
       "    </tr>\n",
       "    <tr>\n",
       "      <th>4</th>\n",
       "      <td>2020-09-11</td>\n",
       "      <td>68.0</td>\n",
       "      <td>46.0</td>\n",
       "    </tr>\n",
       "  </tbody>\n",
       "</table>\n",
       "</div>"
      ],
      "text/plain": [
       "  sample_date_string  tek_count  new_tek_count\n",
       "0         2020-09-15       11.0           58.0\n",
       "1         2020-09-14       25.0           61.0\n",
       "2         2020-09-13       40.0           92.0\n",
       "3         2020-09-12       52.0           92.0\n",
       "4         2020-09-11       68.0           46.0"
      ]
     },
     "execution_count": 20,
     "metadata": {},
     "output_type": "execute_result"
    }
   ],
   "source": [
    "result_summary_df = exposure_keys_summary_df.merge(new_tek_df, on=[\"sample_date_string\"], how=\"outer\")\n",
    "result_summary_df.head()"
   ]
  },
  {
   "cell_type": "code",
   "execution_count": 21,
   "metadata": {
    "execution": {
     "iopub.execute_input": "2020-09-16T08:21:01.234106Z",
     "iopub.status.busy": "2020-09-16T08:21:01.233459Z",
     "iopub.status.idle": "2020-09-16T08:21:01.242297Z",
     "shell.execute_reply": "2020-09-16T08:21:01.241823Z"
    },
    "papermill": {
     "duration": 0.047481,
     "end_time": "2020-09-16T08:21:01.242423",
     "exception": false,
     "start_time": "2020-09-16T08:21:01.194942",
     "status": "completed"
    },
    "tags": []
   },
   "outputs": [
    {
     "data": {
      "text/html": [
       "<div>\n",
       "<style scoped>\n",
       "    .dataframe tbody tr th:only-of-type {\n",
       "        vertical-align: middle;\n",
       "    }\n",
       "\n",
       "    .dataframe tbody tr th {\n",
       "        vertical-align: top;\n",
       "    }\n",
       "\n",
       "    .dataframe thead th {\n",
       "        text-align: right;\n",
       "    }\n",
       "</style>\n",
       "<table border=\"1\" class=\"dataframe\">\n",
       "  <thead>\n",
       "    <tr style=\"text-align: right;\">\n",
       "      <th></th>\n",
       "      <th>sample_date_string</th>\n",
       "      <th>tek_count</th>\n",
       "      <th>new_tek_count</th>\n",
       "      <th>new_tek_devices</th>\n",
       "    </tr>\n",
       "  </thead>\n",
       "  <tbody>\n",
       "    <tr>\n",
       "      <th>0</th>\n",
       "      <td>2020-09-15</td>\n",
       "      <td>11.0</td>\n",
       "      <td>58.0</td>\n",
       "      <td>23</td>\n",
       "    </tr>\n",
       "    <tr>\n",
       "      <th>1</th>\n",
       "      <td>2020-09-14</td>\n",
       "      <td>25.0</td>\n",
       "      <td>61.0</td>\n",
       "      <td>28</td>\n",
       "    </tr>\n",
       "    <tr>\n",
       "      <th>2</th>\n",
       "      <td>2020-09-13</td>\n",
       "      <td>40.0</td>\n",
       "      <td>92.0</td>\n",
       "      <td>32</td>\n",
       "    </tr>\n",
       "    <tr>\n",
       "      <th>3</th>\n",
       "      <td>2020-09-12</td>\n",
       "      <td>52.0</td>\n",
       "      <td>92.0</td>\n",
       "      <td>33</td>\n",
       "    </tr>\n",
       "    <tr>\n",
       "      <th>4</th>\n",
       "      <td>2020-09-11</td>\n",
       "      <td>68.0</td>\n",
       "      <td>46.0</td>\n",
       "      <td>19</td>\n",
       "    </tr>\n",
       "  </tbody>\n",
       "</table>\n",
       "</div>"
      ],
      "text/plain": [
       "  sample_date_string  tek_count  new_tek_count  new_tek_devices\n",
       "0         2020-09-15       11.0           58.0               23\n",
       "1         2020-09-14       25.0           61.0               28\n",
       "2         2020-09-13       40.0           92.0               32\n",
       "3         2020-09-12       52.0           92.0               33\n",
       "4         2020-09-11       68.0           46.0               19"
      ]
     },
     "execution_count": 21,
     "metadata": {},
     "output_type": "execute_result"
    }
   ],
   "source": [
    "result_summary_df = result_summary_df.merge(new_tek_devices_df, on=[\"sample_date_string\"], how=\"outer\")\n",
    "result_summary_df.head()"
   ]
  },
  {
   "cell_type": "code",
   "execution_count": 22,
   "metadata": {
    "execution": {
     "iopub.execute_input": "2020-09-16T08:21:01.310712Z",
     "iopub.status.busy": "2020-09-16T08:21:01.310141Z",
     "iopub.status.idle": "2020-09-16T08:21:01.322759Z",
     "shell.execute_reply": "2020-09-16T08:21:01.322278Z"
    },
    "papermill": {
     "duration": 0.049309,
     "end_time": "2020-09-16T08:21:01.322884",
     "exception": false,
     "start_time": "2020-09-16T08:21:01.273575",
     "status": "completed"
    },
    "pycharm": {
     "name": "#%%\n"
    },
    "tags": []
   },
   "outputs": [
    {
     "data": {
      "text/html": [
       "<div>\n",
       "<style scoped>\n",
       "    .dataframe tbody tr th:only-of-type {\n",
       "        vertical-align: middle;\n",
       "    }\n",
       "\n",
       "    .dataframe tbody tr th {\n",
       "        vertical-align: top;\n",
       "    }\n",
       "\n",
       "    .dataframe thead th {\n",
       "        text-align: right;\n",
       "    }\n",
       "</style>\n",
       "<table border=\"1\" class=\"dataframe\">\n",
       "  <thead>\n",
       "    <tr style=\"text-align: right;\">\n",
       "      <th></th>\n",
       "      <th>sample_date_string</th>\n",
       "      <th>tek_count</th>\n",
       "      <th>new_tek_count</th>\n",
       "      <th>new_tek_devices</th>\n",
       "      <th>cumulative_cases</th>\n",
       "      <th>new_cases</th>\n",
       "      <th>rolling_mean_new_cases</th>\n",
       "    </tr>\n",
       "  </thead>\n",
       "  <tbody>\n",
       "    <tr>\n",
       "      <th>0</th>\n",
       "      <td>2020-09-15</td>\n",
       "      <td>11.0</td>\n",
       "      <td>58.0</td>\n",
       "      <td>23</td>\n",
       "      <td>1206334.0</td>\n",
       "      <td>18874.0</td>\n",
       "      <td>19615.428571</td>\n",
       "    </tr>\n",
       "    <tr>\n",
       "      <th>1</th>\n",
       "      <td>2020-09-14</td>\n",
       "      <td>25.0</td>\n",
       "      <td>61.0</td>\n",
       "      <td>28</td>\n",
       "      <td>1187460.0</td>\n",
       "      <td>54808.0</td>\n",
       "      <td>19480.285714</td>\n",
       "    </tr>\n",
       "    <tr>\n",
       "      <th>2</th>\n",
       "      <td>2020-09-13</td>\n",
       "      <td>40.0</td>\n",
       "      <td>92.0</td>\n",
       "      <td>32</td>\n",
       "      <td>1132652.0</td>\n",
       "      <td>0.0</td>\n",
       "      <td>19239.142857</td>\n",
       "    </tr>\n",
       "    <tr>\n",
       "      <th>3</th>\n",
       "      <td>2020-09-12</td>\n",
       "      <td>52.0</td>\n",
       "      <td>92.0</td>\n",
       "      <td>33</td>\n",
       "      <td>1132652.0</td>\n",
       "      <td>0.0</td>\n",
       "      <td>19239.142857</td>\n",
       "    </tr>\n",
       "    <tr>\n",
       "      <th>4</th>\n",
       "      <td>2020-09-11</td>\n",
       "      <td>68.0</td>\n",
       "      <td>46.0</td>\n",
       "      <td>19</td>\n",
       "      <td>1132652.0</td>\n",
       "      <td>24366.0</td>\n",
       "      <td>19239.142857</td>\n",
       "    </tr>\n",
       "  </tbody>\n",
       "</table>\n",
       "</div>"
      ],
      "text/plain": [
       "  sample_date_string  tek_count  new_tek_count  new_tek_devices  \\\n",
       "0         2020-09-15       11.0           58.0               23   \n",
       "1         2020-09-14       25.0           61.0               28   \n",
       "2         2020-09-13       40.0           92.0               32   \n",
       "3         2020-09-12       52.0           92.0               33   \n",
       "4         2020-09-11       68.0           46.0               19   \n",
       "\n",
       "   cumulative_cases  new_cases  rolling_mean_new_cases  \n",
       "0         1206334.0    18874.0            19615.428571  \n",
       "1         1187460.0    54808.0            19480.285714  \n",
       "2         1132652.0        0.0            19239.142857  \n",
       "3         1132652.0        0.0            19239.142857  \n",
       "4         1132652.0    24366.0            19239.142857  "
      ]
     },
     "execution_count": 22,
     "metadata": {},
     "output_type": "execute_result"
    }
   ],
   "source": [
    "result_summary_df = result_summary_df.merge(confirmed_df, on=[\"sample_date_string\"], how=\"left\")\n",
    "result_summary_df.head()"
   ]
  },
  {
   "cell_type": "code",
   "execution_count": 23,
   "metadata": {
    "execution": {
     "iopub.execute_input": "2020-09-16T08:21:01.397297Z",
     "iopub.status.busy": "2020-09-16T08:21:01.396696Z",
     "iopub.status.idle": "2020-09-16T08:21:01.410591Z",
     "shell.execute_reply": "2020-09-16T08:21:01.410101Z"
    },
    "papermill": {
     "duration": 0.055328,
     "end_time": "2020-09-16T08:21:01.410721",
     "exception": false,
     "start_time": "2020-09-16T08:21:01.355393",
     "status": "completed"
    },
    "pycharm": {
     "name": "#%%\n"
    },
    "tags": []
   },
   "outputs": [
    {
     "data": {
      "text/html": [
       "<div>\n",
       "<style scoped>\n",
       "    .dataframe tbody tr th:only-of-type {\n",
       "        vertical-align: middle;\n",
       "    }\n",
       "\n",
       "    .dataframe tbody tr th {\n",
       "        vertical-align: top;\n",
       "    }\n",
       "\n",
       "    .dataframe thead th {\n",
       "        text-align: right;\n",
       "    }\n",
       "</style>\n",
       "<table border=\"1\" class=\"dataframe\">\n",
       "  <thead>\n",
       "    <tr style=\"text-align: right;\">\n",
       "      <th></th>\n",
       "      <th>sample_date_string</th>\n",
       "      <th>tek_count</th>\n",
       "      <th>new_tek_count</th>\n",
       "      <th>new_tek_devices</th>\n",
       "      <th>cumulative_cases</th>\n",
       "      <th>new_cases</th>\n",
       "      <th>rolling_mean_new_cases</th>\n",
       "      <th>tek_count_per_new_case</th>\n",
       "      <th>new_tek_count_per_new_case</th>\n",
       "      <th>new_tek_devices_per_new_case</th>\n",
       "      <th>new_tek_count_per_new_tek_device</th>\n",
       "    </tr>\n",
       "  </thead>\n",
       "  <tbody>\n",
       "    <tr>\n",
       "      <th>0</th>\n",
       "      <td>2020-09-15</td>\n",
       "      <td>11.0</td>\n",
       "      <td>58.0</td>\n",
       "      <td>23</td>\n",
       "      <td>1206334.0</td>\n",
       "      <td>18874.0</td>\n",
       "      <td>19615.428571</td>\n",
       "      <td>0.000561</td>\n",
       "      <td>0.002957</td>\n",
       "      <td>0.001173</td>\n",
       "      <td>2.521739</td>\n",
       "    </tr>\n",
       "    <tr>\n",
       "      <th>1</th>\n",
       "      <td>2020-09-14</td>\n",
       "      <td>25.0</td>\n",
       "      <td>61.0</td>\n",
       "      <td>28</td>\n",
       "      <td>1187460.0</td>\n",
       "      <td>54808.0</td>\n",
       "      <td>19480.285714</td>\n",
       "      <td>0.001283</td>\n",
       "      <td>0.003131</td>\n",
       "      <td>0.001437</td>\n",
       "      <td>2.178571</td>\n",
       "    </tr>\n",
       "    <tr>\n",
       "      <th>2</th>\n",
       "      <td>2020-09-13</td>\n",
       "      <td>40.0</td>\n",
       "      <td>92.0</td>\n",
       "      <td>32</td>\n",
       "      <td>1132652.0</td>\n",
       "      <td>0.0</td>\n",
       "      <td>19239.142857</td>\n",
       "      <td>0.002079</td>\n",
       "      <td>0.004782</td>\n",
       "      <td>0.001663</td>\n",
       "      <td>2.875000</td>\n",
       "    </tr>\n",
       "    <tr>\n",
       "      <th>3</th>\n",
       "      <td>2020-09-12</td>\n",
       "      <td>52.0</td>\n",
       "      <td>92.0</td>\n",
       "      <td>33</td>\n",
       "      <td>1132652.0</td>\n",
       "      <td>0.0</td>\n",
       "      <td>19239.142857</td>\n",
       "      <td>0.002703</td>\n",
       "      <td>0.004782</td>\n",
       "      <td>0.001715</td>\n",
       "      <td>2.787879</td>\n",
       "    </tr>\n",
       "    <tr>\n",
       "      <th>4</th>\n",
       "      <td>2020-09-11</td>\n",
       "      <td>68.0</td>\n",
       "      <td>46.0</td>\n",
       "      <td>19</td>\n",
       "      <td>1132652.0</td>\n",
       "      <td>24366.0</td>\n",
       "      <td>19239.142857</td>\n",
       "      <td>0.003534</td>\n",
       "      <td>0.002391</td>\n",
       "      <td>0.000988</td>\n",
       "      <td>2.421053</td>\n",
       "    </tr>\n",
       "  </tbody>\n",
       "</table>\n",
       "</div>"
      ],
      "text/plain": [
       "  sample_date_string  tek_count  new_tek_count  new_tek_devices  \\\n",
       "0         2020-09-15       11.0           58.0               23   \n",
       "1         2020-09-14       25.0           61.0               28   \n",
       "2         2020-09-13       40.0           92.0               32   \n",
       "3         2020-09-12       52.0           92.0               33   \n",
       "4         2020-09-11       68.0           46.0               19   \n",
       "\n",
       "   cumulative_cases  new_cases  rolling_mean_new_cases  \\\n",
       "0         1206334.0    18874.0            19615.428571   \n",
       "1         1187460.0    54808.0            19480.285714   \n",
       "2         1132652.0        0.0            19239.142857   \n",
       "3         1132652.0        0.0            19239.142857   \n",
       "4         1132652.0    24366.0            19239.142857   \n",
       "\n",
       "   tek_count_per_new_case  new_tek_count_per_new_case  \\\n",
       "0                0.000561                    0.002957   \n",
       "1                0.001283                    0.003131   \n",
       "2                0.002079                    0.004782   \n",
       "3                0.002703                    0.004782   \n",
       "4                0.003534                    0.002391   \n",
       "\n",
       "   new_tek_devices_per_new_case  new_tek_count_per_new_tek_device  \n",
       "0                      0.001173                          2.521739  \n",
       "1                      0.001437                          2.178571  \n",
       "2                      0.001663                          2.875000  \n",
       "3                      0.001715                          2.787879  \n",
       "4                      0.000988                          2.421053  "
      ]
     },
     "execution_count": 23,
     "metadata": {},
     "output_type": "execute_result"
    }
   ],
   "source": [
    "result_summary_df[\"tek_count_per_new_case\"] = \\\n",
    "    result_summary_df.tek_count / result_summary_df.rolling_mean_new_cases\n",
    "result_summary_df[\"new_tek_count_per_new_case\"] = \\\n",
    "    result_summary_df.new_tek_count / result_summary_df.rolling_mean_new_cases\n",
    "result_summary_df[\"new_tek_devices_per_new_case\"] = \\\n",
    "    result_summary_df.new_tek_devices / result_summary_df.rolling_mean_new_cases\n",
    "result_summary_df[\"new_tek_count_per_new_tek_device\"] = \\\n",
    "    result_summary_df.new_tek_count / result_summary_df.new_tek_devices\n",
    "result_summary_df.head()"
   ]
  },
  {
   "cell_type": "code",
   "execution_count": 24,
   "metadata": {
    "execution": {
     "iopub.execute_input": "2020-09-16T08:21:01.481645Z",
     "iopub.status.busy": "2020-09-16T08:21:01.481055Z",
     "iopub.status.idle": "2020-09-16T08:21:01.484629Z",
     "shell.execute_reply": "2020-09-16T08:21:01.485073Z"
    },
    "papermill": {
     "duration": 0.04222,
     "end_time": "2020-09-16T08:21:01.485234",
     "exception": false,
     "start_time": "2020-09-16T08:21:01.443014",
     "status": "completed"
    },
    "pycharm": {
     "name": "#%%\n"
    },
    "tags": []
   },
   "outputs": [],
   "source": [
    "result_summary_df[\"sample_date\"] = pd.to_datetime(result_summary_df.sample_date_string)\n",
    "result_summary_df.set_index(\"sample_date\", inplace=True)\n",
    "result_summary_df = result_summary_df.sort_index(ascending=False)"
   ]
  },
  {
   "cell_type": "markdown",
   "metadata": {
    "execution": {
     "iopub.execute_input": "2020-08-30T22:30:17.313260Z",
     "iopub.status.busy": "2020-08-30T22:30:17.312584Z",
     "iopub.status.idle": "2020-08-30T22:30:17.317571Z",
     "shell.execute_reply": "2020-08-30T22:30:17.316929Z"
    },
    "papermill": {
     "duration": 0.03168,
     "end_time": "2020-09-16T08:21:01.548812",
     "exception": false,
     "start_time": "2020-09-16T08:21:01.517132",
     "status": "completed"
    },
    "pycharm": {
     "name": "#%% md\n"
    },
    "tags": []
   },
   "source": [
    "## Report Results\n"
   ]
  },
  {
   "cell_type": "markdown",
   "metadata": {
    "papermill": {
     "duration": 0.032161,
     "end_time": "2020-09-16T08:21:01.612869",
     "exception": false,
     "start_time": "2020-09-16T08:21:01.580708",
     "status": "completed"
    },
    "tags": []
   },
   "source": [
    "### Summary Table"
   ]
  },
  {
   "cell_type": "code",
   "execution_count": 25,
   "metadata": {
    "execution": {
     "iopub.execute_input": "2020-09-16T08:21:01.695221Z",
     "iopub.status.busy": "2020-09-16T08:21:01.694652Z",
     "iopub.status.idle": "2020-09-16T08:21:01.697801Z",
     "shell.execute_reply": "2020-09-16T08:21:01.697252Z"
    },
    "papermill": {
     "duration": 0.052971,
     "end_time": "2020-09-16T08:21:01.697924",
     "exception": false,
     "start_time": "2020-09-16T08:21:01.644953",
     "status": "completed"
    },
    "tags": []
   },
   "outputs": [
    {
     "data": {
      "text/html": [
       "<div>\n",
       "<style scoped>\n",
       "    .dataframe tbody tr th:only-of-type {\n",
       "        vertical-align: middle;\n",
       "    }\n",
       "\n",
       "    .dataframe tbody tr th {\n",
       "        vertical-align: top;\n",
       "    }\n",
       "\n",
       "    .dataframe thead th {\n",
       "        text-align: right;\n",
       "    }\n",
       "</style>\n",
       "<table border=\"1\" class=\"dataframe\">\n",
       "  <thead>\n",
       "    <tr style=\"text-align: right;\">\n",
       "      <th></th>\n",
       "      <th>tek_count</th>\n",
       "      <th>new_tek_count</th>\n",
       "      <th>new_cases</th>\n",
       "      <th>rolling_mean_new_cases</th>\n",
       "      <th>tek_count_per_new_case</th>\n",
       "      <th>new_tek_count_per_new_case</th>\n",
       "      <th>new_tek_devices</th>\n",
       "      <th>new_tek_devices_per_new_case</th>\n",
       "      <th>new_tek_count_per_new_tek_device</th>\n",
       "    </tr>\n",
       "    <tr>\n",
       "      <th>sample_date</th>\n",
       "      <th></th>\n",
       "      <th></th>\n",
       "      <th></th>\n",
       "      <th></th>\n",
       "      <th></th>\n",
       "      <th></th>\n",
       "      <th></th>\n",
       "      <th></th>\n",
       "      <th></th>\n",
       "    </tr>\n",
       "  </thead>\n",
       "  <tbody>\n",
       "    <tr>\n",
       "      <th>2020-09-16</th>\n",
       "      <td>NaN</td>\n",
       "      <td>19.0</td>\n",
       "      <td>19615.428571</td>\n",
       "      <td>19615.428571</td>\n",
       "      <td>NaN</td>\n",
       "      <td>0.000969</td>\n",
       "      <td>11</td>\n",
       "      <td>0.000561</td>\n",
       "      <td>1.727273</td>\n",
       "    </tr>\n",
       "    <tr>\n",
       "      <th>2020-09-15</th>\n",
       "      <td>11.0</td>\n",
       "      <td>58.0</td>\n",
       "      <td>18874.000000</td>\n",
       "      <td>19615.428571</td>\n",
       "      <td>0.000561</td>\n",
       "      <td>0.002957</td>\n",
       "      <td>23</td>\n",
       "      <td>0.001173</td>\n",
       "      <td>2.521739</td>\n",
       "    </tr>\n",
       "    <tr>\n",
       "      <th>2020-09-14</th>\n",
       "      <td>25.0</td>\n",
       "      <td>61.0</td>\n",
       "      <td>54808.000000</td>\n",
       "      <td>19480.285714</td>\n",
       "      <td>0.001283</td>\n",
       "      <td>0.003131</td>\n",
       "      <td>28</td>\n",
       "      <td>0.001437</td>\n",
       "      <td>2.178571</td>\n",
       "    </tr>\n",
       "    <tr>\n",
       "      <th>2020-09-13</th>\n",
       "      <td>40.0</td>\n",
       "      <td>92.0</td>\n",
       "      <td>0.000000</td>\n",
       "      <td>19239.142857</td>\n",
       "      <td>0.002079</td>\n",
       "      <td>0.004782</td>\n",
       "      <td>32</td>\n",
       "      <td>0.001663</td>\n",
       "      <td>2.875000</td>\n",
       "    </tr>\n",
       "    <tr>\n",
       "      <th>2020-09-12</th>\n",
       "      <td>52.0</td>\n",
       "      <td>92.0</td>\n",
       "      <td>0.000000</td>\n",
       "      <td>19239.142857</td>\n",
       "      <td>0.002703</td>\n",
       "      <td>0.004782</td>\n",
       "      <td>33</td>\n",
       "      <td>0.001715</td>\n",
       "      <td>2.787879</td>\n",
       "    </tr>\n",
       "    <tr>\n",
       "      <th>2020-09-11</th>\n",
       "      <td>68.0</td>\n",
       "      <td>46.0</td>\n",
       "      <td>24366.000000</td>\n",
       "      <td>19239.142857</td>\n",
       "      <td>0.003534</td>\n",
       "      <td>0.002391</td>\n",
       "      <td>19</td>\n",
       "      <td>0.000988</td>\n",
       "      <td>2.421053</td>\n",
       "    </tr>\n",
       "    <tr>\n",
       "      <th>2020-09-10</th>\n",
       "      <td>68.0</td>\n",
       "      <td>45.0</td>\n",
       "      <td>21528.000000</td>\n",
       "      <td>18751.428571</td>\n",
       "      <td>0.003626</td>\n",
       "      <td>0.002400</td>\n",
       "      <td>15</td>\n",
       "      <td>0.000800</td>\n",
       "      <td>3.000000</td>\n",
       "    </tr>\n",
       "    <tr>\n",
       "      <th>2020-09-09</th>\n",
       "      <td>60.0</td>\n",
       "      <td>67.0</td>\n",
       "      <td>17732.000000</td>\n",
       "      <td>18235.714286</td>\n",
       "      <td>0.003290</td>\n",
       "      <td>0.003674</td>\n",
       "      <td>21</td>\n",
       "      <td>0.001152</td>\n",
       "      <td>3.190476</td>\n",
       "    </tr>\n",
       "    <tr>\n",
       "      <th>2020-09-08</th>\n",
       "      <td>61.0</td>\n",
       "      <td>44.0</td>\n",
       "      <td>17928.000000</td>\n",
       "      <td>18154.285714</td>\n",
       "      <td>0.003360</td>\n",
       "      <td>0.002424</td>\n",
       "      <td>18</td>\n",
       "      <td>0.000992</td>\n",
       "      <td>2.444444</td>\n",
       "    </tr>\n",
       "    <tr>\n",
       "      <th>2020-09-07</th>\n",
       "      <td>58.0</td>\n",
       "      <td>52.0</td>\n",
       "      <td>53120.000000</td>\n",
       "      <td>17911.714286</td>\n",
       "      <td>0.003238</td>\n",
       "      <td>0.002903</td>\n",
       "      <td>22</td>\n",
       "      <td>0.001228</td>\n",
       "      <td>2.363636</td>\n",
       "    </tr>\n",
       "    <tr>\n",
       "      <th>2020-09-06</th>\n",
       "      <td>54.0</td>\n",
       "      <td>60.0</td>\n",
       "      <td>0.000000</td>\n",
       "      <td>17058.000000</td>\n",
       "      <td>0.003166</td>\n",
       "      <td>0.003517</td>\n",
       "      <td>24</td>\n",
       "      <td>0.001407</td>\n",
       "      <td>2.500000</td>\n",
       "    </tr>\n",
       "    <tr>\n",
       "      <th>2020-09-05</th>\n",
       "      <td>56.0</td>\n",
       "      <td>40.0</td>\n",
       "      <td>0.000000</td>\n",
       "      <td>17058.000000</td>\n",
       "      <td>0.003283</td>\n",
       "      <td>0.002345</td>\n",
       "      <td>17</td>\n",
       "      <td>0.000997</td>\n",
       "      <td>2.352941</td>\n",
       "    </tr>\n",
       "    <tr>\n",
       "      <th>2020-09-04</th>\n",
       "      <td>52.0</td>\n",
       "      <td>58.0</td>\n",
       "      <td>20952.000000</td>\n",
       "      <td>17058.000000</td>\n",
       "      <td>0.003048</td>\n",
       "      <td>0.003400</td>\n",
       "      <td>20</td>\n",
       "      <td>0.001172</td>\n",
       "      <td>2.900000</td>\n",
       "    </tr>\n",
       "    <tr>\n",
       "      <th>2020-09-03</th>\n",
       "      <td>51.0</td>\n",
       "      <td>NaN</td>\n",
       "      <td>17918.000000</td>\n",
       "      <td>16858.857143</td>\n",
       "      <td>0.003025</td>\n",
       "      <td>NaN</td>\n",
       "      <td>19</td>\n",
       "      <td>0.001127</td>\n",
       "      <td>NaN</td>\n",
       "    </tr>\n",
       "  </tbody>\n",
       "</table>\n",
       "</div>"
      ],
      "text/plain": [
       "             tek_count  new_tek_count     new_cases  rolling_mean_new_cases  \\\n",
       "sample_date                                                                   \n",
       "2020-09-16         NaN           19.0  19615.428571            19615.428571   \n",
       "2020-09-15        11.0           58.0  18874.000000            19615.428571   \n",
       "2020-09-14        25.0           61.0  54808.000000            19480.285714   \n",
       "2020-09-13        40.0           92.0      0.000000            19239.142857   \n",
       "2020-09-12        52.0           92.0      0.000000            19239.142857   \n",
       "2020-09-11        68.0           46.0  24366.000000            19239.142857   \n",
       "2020-09-10        68.0           45.0  21528.000000            18751.428571   \n",
       "2020-09-09        60.0           67.0  17732.000000            18235.714286   \n",
       "2020-09-08        61.0           44.0  17928.000000            18154.285714   \n",
       "2020-09-07        58.0           52.0  53120.000000            17911.714286   \n",
       "2020-09-06        54.0           60.0      0.000000            17058.000000   \n",
       "2020-09-05        56.0           40.0      0.000000            17058.000000   \n",
       "2020-09-04        52.0           58.0  20952.000000            17058.000000   \n",
       "2020-09-03        51.0            NaN  17918.000000            16858.857143   \n",
       "\n",
       "             tek_count_per_new_case  new_tek_count_per_new_case  \\\n",
       "sample_date                                                       \n",
       "2020-09-16                      NaN                    0.000969   \n",
       "2020-09-15                 0.000561                    0.002957   \n",
       "2020-09-14                 0.001283                    0.003131   \n",
       "2020-09-13                 0.002079                    0.004782   \n",
       "2020-09-12                 0.002703                    0.004782   \n",
       "2020-09-11                 0.003534                    0.002391   \n",
       "2020-09-10                 0.003626                    0.002400   \n",
       "2020-09-09                 0.003290                    0.003674   \n",
       "2020-09-08                 0.003360                    0.002424   \n",
       "2020-09-07                 0.003238                    0.002903   \n",
       "2020-09-06                 0.003166                    0.003517   \n",
       "2020-09-05                 0.003283                    0.002345   \n",
       "2020-09-04                 0.003048                    0.003400   \n",
       "2020-09-03                 0.003025                         NaN   \n",
       "\n",
       "             new_tek_devices  new_tek_devices_per_new_case  \\\n",
       "sample_date                                                  \n",
       "2020-09-16                11                      0.000561   \n",
       "2020-09-15                23                      0.001173   \n",
       "2020-09-14                28                      0.001437   \n",
       "2020-09-13                32                      0.001663   \n",
       "2020-09-12                33                      0.001715   \n",
       "2020-09-11                19                      0.000988   \n",
       "2020-09-10                15                      0.000800   \n",
       "2020-09-09                21                      0.001152   \n",
       "2020-09-08                18                      0.000992   \n",
       "2020-09-07                22                      0.001228   \n",
       "2020-09-06                24                      0.001407   \n",
       "2020-09-05                17                      0.000997   \n",
       "2020-09-04                20                      0.001172   \n",
       "2020-09-03                19                      0.001127   \n",
       "\n",
       "             new_tek_count_per_new_tek_device  \n",
       "sample_date                                    \n",
       "2020-09-16                           1.727273  \n",
       "2020-09-15                           2.521739  \n",
       "2020-09-14                           2.178571  \n",
       "2020-09-13                           2.875000  \n",
       "2020-09-12                           2.787879  \n",
       "2020-09-11                           2.421053  \n",
       "2020-09-10                           3.000000  \n",
       "2020-09-09                           3.190476  \n",
       "2020-09-08                           2.444444  \n",
       "2020-09-07                           2.363636  \n",
       "2020-09-06                           2.500000  \n",
       "2020-09-05                           2.352941  \n",
       "2020-09-04                           2.900000  \n",
       "2020-09-03                                NaN  "
      ]
     },
     "execution_count": 25,
     "metadata": {},
     "output_type": "execute_result"
    }
   ],
   "source": [
    "result_summary_df_ = result_summary_df.copy()\n",
    "result_summary_df = result_summary_df[[\n",
    "    \"tek_count\",\n",
    "    \"new_tek_count\",\n",
    "    \"new_cases\",\n",
    "    \"rolling_mean_new_cases\",\n",
    "    \"tek_count_per_new_case\",\n",
    "    \"new_tek_count_per_new_case\",\n",
    "    \"new_tek_devices\",\n",
    "    \"new_tek_devices_per_new_case\",\n",
    "    \"new_tek_count_per_new_tek_device\"]]\n",
    "result_summary_df"
   ]
  },
  {
   "cell_type": "markdown",
   "metadata": {
    "papermill": {
     "duration": 0.032393,
     "end_time": "2020-09-16T08:21:01.762907",
     "exception": false,
     "start_time": "2020-09-16T08:21:01.730514",
     "status": "completed"
    },
    "tags": []
   },
   "source": [
    "### Summary Plots"
   ]
  },
  {
   "cell_type": "code",
   "execution_count": 26,
   "metadata": {
    "execution": {
     "iopub.execute_input": "2020-09-16T08:21:01.842729Z",
     "iopub.status.busy": "2020-09-16T08:21:01.842130Z",
     "iopub.status.idle": "2020-09-16T08:21:03.074890Z",
     "shell.execute_reply": "2020-09-16T08:21:03.075332Z"
    },
    "papermill": {
     "duration": 1.280291,
     "end_time": "2020-09-16T08:21:03.075490",
     "exception": false,
     "start_time": "2020-09-16T08:21:01.795199",
     "status": "completed"
    },
    "scrolled": false,
    "tags": []
   },
   "outputs": [
    {
     "data": {
      "image/png": "[encoded data removed]",
      "text/plain": [
       "<Figure size 1080x1584 with 6 Axes>"
      ]
     },
     "metadata": {},
     "output_type": "display_data"
    }
   ],
   "source": [
    "summary_ax_list = result_summary_df[[\n",
    "    \"rolling_mean_new_cases\",\n",
    "    \"tek_count\",\n",
    "    \"new_tek_count\",\n",
    "    \"new_tek_devices\",\n",
    "    \"new_tek_count_per_new_tek_device\",\n",
    "    \"new_tek_devices_per_new_case\"\n",
    "]].sort_index(ascending=True).plot.bar(\n",
    "    title=\"Summary\", rot=45, subplots=True, figsize=(15, 22))\n",
    "summary_ax_list[-1].yaxis.set_major_formatter(matplotlib.ticker.PercentFormatter(1.0))"
   ]
  },
  {
   "cell_type": "markdown",
   "metadata": {
    "papermill": {
     "duration": 0.076724,
     "end_time": "2020-09-16T08:21:03.189371",
     "exception": false,
     "start_time": "2020-09-16T08:21:03.112647",
     "status": "completed"
    },
    "tags": []
   },
   "source": [
    "### Hourly Summary Plots "
   ]
  },
  {
   "cell_type": "code",
   "execution_count": 27,
   "metadata": {
    "execution": {
     "iopub.execute_input": "2020-09-16T08:21:03.273734Z",
     "iopub.status.busy": "2020-09-16T08:21:03.273139Z",
     "iopub.status.idle": "2020-09-16T08:21:03.767418Z",
     "shell.execute_reply": "2020-09-16T08:21:03.768210Z"
    },
    "papermill": {
     "duration": 0.539294,
     "end_time": "2020-09-16T08:21:03.768374",
     "exception": false,
     "start_time": "2020-09-16T08:21:03.229080",
     "status": "completed"
    },
    "pycharm": {
     "name": "#%%\n"
    },
    "tags": []
   },
   "outputs": [
    {
     "data": {
      "image/png": "[encoded data removed]",
      "text/plain": [
       "<Figure size 1080x432 with 2 Axes>"
      ]
     },
     "metadata": {},
     "output_type": "display_data"
    }
   ],
   "source": [
    "hourly_summary_ax_list = hourly_summary_df.plot.bar(\n",
    "    title=\"Last 24h Summary\", rot=45, subplots=True)"
   ]
  },
  {
   "cell_type": "markdown",
   "metadata": {
    "papermill": {
     "duration": 0.036643,
     "end_time": "2020-09-16T08:21:03.842219",
     "exception": false,
     "start_time": "2020-09-16T08:21:03.805576",
     "status": "completed"
    },
    "tags": []
   },
   "source": [
    "### Publish Results"
   ]
  },
  {
   "cell_type": "code",
   "execution_count": 28,
   "metadata": {
    "execution": {
     "iopub.execute_input": "2020-09-16T08:21:03.931550Z",
     "iopub.status.busy": "2020-09-16T08:21:03.930960Z",
     "iopub.status.idle": "2020-09-16T08:21:16.389096Z",
     "shell.execute_reply": "2020-09-16T08:21:16.389944Z"
    },
    "papermill": {
     "duration": 12.511441,
     "end_time": "2020-09-16T08:21:16.390111",
     "exception": false,
     "start_time": "2020-09-16T08:21:03.878670",
     "status": "completed"
    },
    "pycharm": {
     "name": "#%%\n"
    },
    "tags": []
   },
   "outputs": [],
   "source": [
    "def get_temporary_image_path() -> str:\n",
    "    return os.path.join(tempfile.gettempdir(), str(uuid.uuid4()) + \".png\")\n",
    "\n",
    "def save_temporary_plot_image(ax):\n",
    "    if isinstance(ax, np.ndarray):\n",
    "        ax = ax[0]\n",
    "    media_path = get_temporary_image_path()\n",
    "    ax.get_figure().savefig(media_path)\n",
    "    return media_path\n",
    "\n",
    "def save_temporary_dataframe_image(df):\n",
    "    media_path = get_temporary_image_path()\n",
    "    dfi.export(df, media_path)\n",
    "    return media_path\n",
    "\n",
    "summary_plots_image_path = save_temporary_plot_image(ax=summary_ax_list)\n",
    "summary_table_image_path = save_temporary_dataframe_image(df=result_summary_df)\n",
    "hourly_summary_plots_image_path = save_temporary_plot_image(ax=hourly_summary_ax_list)"
   ]
  },
  {
   "cell_type": "markdown",
   "metadata": {
    "papermill": {
     "duration": 0.036493,
     "end_time": "2020-09-16T08:21:16.464351",
     "exception": false,
     "start_time": "2020-09-16T08:21:16.427858",
     "status": "completed"
    },
    "tags": []
   },
   "source": [
    "### Save Results"
   ]
  },
  {
   "cell_type": "code",
   "execution_count": 29,
   "metadata": {
    "execution": {
     "iopub.execute_input": "2020-09-16T08:21:16.544272Z",
     "iopub.status.busy": "2020-09-16T08:21:16.543549Z",
     "iopub.status.idle": "2020-09-16T08:21:16.555483Z",
     "shell.execute_reply": "2020-09-16T08:21:16.554961Z"
    },
    "papermill": {
     "duration": 0.05491,
     "end_time": "2020-09-16T08:21:16.555733",
     "exception": false,
     "start_time": "2020-09-16T08:21:16.500823",
     "status": "completed"
    },
    "pycharm": {
     "name": "#%%\n"
    },
    "tags": []
   },
   "outputs": [],
   "source": [
    "report_resources_path_prefix = \"Data/Resources/Current/RadarCOVID-Report-\"\n",
    "result_summary_df.to_csv(report_resources_path_prefix + \"Summary-Table.csv\")\n",
    "result_summary_df.to_html(report_resources_path_prefix + \"Summary-Table.html\")\n",
    "_ = shutil.copyfile(summary_plots_image_path, report_resources_path_prefix + \"Summary-Plots.png\")\n",
    "_ = shutil.copyfile(summary_table_image_path, report_resources_path_prefix + \"Summary-Table.png\")\n",
    "_ = shutil.copyfile(hourly_summary_plots_image_path, report_resources_path_prefix + \"Hourly-Summary-Plots.png\")\n",
    "\n",
    "report_daily_url_pattern = \\\n",
    "    \"https://github.com/pvieito/RadarCOVID-Report/blob/master/Notebooks/\" \\\n",
    "    \"RadarCOVID-Report/{report_type}/RadarCOVID-Report-{report_date}.ipynb\"\n",
    "report_daily_url = report_daily_url_pattern.format(\n",
    "    report_type=\"Daily\", report_date=extraction_date)\n",
    "report_hourly_url = report_daily_url_pattern.format(\n",
    "    report_type=\"Hourly\", report_date=extraction_date_with_hour)"
   ]
  },
  {
   "cell_type": "markdown",
   "metadata": {
    "papermill": {
     "duration": 0.037406,
     "end_time": "2020-09-16T08:21:16.631244",
     "exception": false,
     "start_time": "2020-09-16T08:21:16.593838",
     "status": "completed"
    },
    "tags": []
   },
   "source": [
    "### Publish on README"
   ]
  },
  {
   "cell_type": "code",
   "execution_count": 30,
   "metadata": {
    "execution": {
     "iopub.execute_input": "2020-09-16T08:21:16.711757Z",
     "iopub.status.busy": "2020-09-16T08:21:16.711145Z",
     "iopub.status.idle": "2020-09-16T08:21:16.722048Z",
     "shell.execute_reply": "2020-09-16T08:21:16.721569Z"
    },
    "papermill": {
     "duration": 0.053709,
     "end_time": "2020-09-16T08:21:16.722181",
     "exception": false,
     "start_time": "2020-09-16T08:21:16.668472",
     "status": "completed"
    },
    "pycharm": {
     "name": "#%%\n"
    },
    "tags": []
   },
   "outputs": [],
   "source": [
    "with open(\"Data/Templates/README.md\", \"r\") as f:\n",
    "    readme_contents = f.read()\n",
    "\n",
    "summary_table_html = result_summary_df.to_html()\n",
    "readme_contents = readme_contents.format(\n",
    "    summary_table_html=summary_table_html,\n",
    "    report_url_with_hour=report_hourly_url,\n",
    "    extraction_date_with_hour=extraction_date_with_hour)\n",
    "\n",
    "with open(\"README.md\", \"w\") as f:\n",
    "    f.write(readme_contents)"
   ]
  },
  {
   "cell_type": "markdown",
   "metadata": {
    "papermill": {
     "duration": 0.037914,
     "end_time": "2020-09-16T08:21:16.797757",
     "exception": false,
     "start_time": "2020-09-16T08:21:16.759843",
     "status": "completed"
    },
    "pycharm": {
     "name": "#%% md\n"
    },
    "tags": []
   },
   "source": [
    "### Publish on Twitter"
   ]
  },
  {
   "cell_type": "code",
   "execution_count": 31,
   "metadata": {
    "execution": {
     "iopub.execute_input": "2020-09-16T08:21:16.883733Z",
     "iopub.status.busy": "2020-09-16T08:21:16.883083Z",
     "iopub.status.idle": "2020-09-16T08:21:21.926318Z",
     "shell.execute_reply": "2020-09-16T08:21:21.925739Z"
    },
    "papermill": {
     "duration": 5.091539,
     "end_time": "2020-09-16T08:21:21.926478",
     "exception": false,
     "start_time": "2020-09-16T08:21:16.834939",
     "status": "completed"
    },
    "pycharm": {
     "name": "#%%\n"
    },
    "tags": []
   },
   "outputs": [],
   "source": [
    "enable_share_to_twitter = os.environ.get(\"RADARCOVID_REPORT__ENABLE_PUBLISH_ON_TWITTER\")\n",
    "github_event_name = os.environ.get(\"GITHUB_EVENT_NAME\")\n",
    "\n",
    "if enable_share_to_twitter and github_event_name == \"schedule\":\n",
    "    import tweepy\n",
    "\n",
    "    twitter_api_auth_keys = os.environ[\"RADARCOVID_REPORT__TWITTER_API_AUTH_KEYS\"]\n",
    "    twitter_api_auth_keys = twitter_api_auth_keys.split(\":\")\n",
    "    auth = tweepy.OAuthHandler(twitter_api_auth_keys[0], twitter_api_auth_keys[1])\n",
    "    auth.set_access_token(twitter_api_auth_keys[2], twitter_api_auth_keys[3])\n",
    "\n",
    "    api = tweepy.API(auth)\n",
    "\n",
    "    summary_plots_media = api.media_upload(summary_plots_image_path)\n",
    "    summary_table_media = api.media_upload(summary_table_image_path)\n",
    "    hourly_summary_plots_media = api.media_upload(hourly_summary_plots_image_path)\n",
    "    media_ids = [\n",
    "        summary_plots_media.media_id,\n",
    "        summary_table_media.media_id,\n",
    "        hourly_summary_plots_media.media_id,\n",
    "    ]\n",
    "\n",
    "    extraction_date_result_summary_df = \\\n",
    "        result_summary_df[result_summary_df.index == extraction_date]\n",
    "    extraction_date_result_hourly_summary_df = \\\n",
    "        hourly_summary_df[hourly_summary_df.extraction_date_with_hour == extraction_date_with_hour]\n",
    "\n",
    "    new_teks = extraction_date_result_summary_df.new_tek_count.sum().astype(int)\n",
    "    new_teks_last_hour = extraction_date_result_hourly_summary_df.new_tek_count.sum().astype(int)\n",
    "    new_devices = extraction_date_result_summary_df.new_tek_devices.sum().astype(int)\n",
    "    new_devices_last_hour = extraction_date_result_hourly_summary_df.new_tek_devices.sum().astype(int)\n",
    "    new_tek_count_per_new_tek_device = \\\n",
    "        extraction_date_result_summary_df.new_tek_count_per_new_tek_device.sum()\n",
    "    new_tek_devices_per_new_case = \\\n",
    "        extraction_date_result_summary_df.new_tek_devices_per_new_case.sum()\n",
    "\n",
    "    status = textwrap.dedent(f\"\"\"\n",
    "        Report Update – {extraction_date_with_hour}\n",
    "        #ExposureNotification #RadarCOVID\n",
    "\n",
    "        Shared Diagnoses Day Summary:\n",
    "        - New TEKs: {new_teks} ({new_teks_last_hour:+d} last hour)\n",
    "        - New Devices: {new_devices} ({new_devices_last_hour:+d} last hour, {new_tek_count_per_new_tek_device:.2} TEKs/device)\n",
    "        - Usage Ratio: {new_tek_devices_per_new_case:.2%} devices/case\n",
    "\n",
    "        Report Link: {report_hourly_url}\n",
    "        \"\"\")\n",
    "    status = status.encode(encoding=\"utf-8\")\n",
    "    api.update_status(status=status, media_ids=media_ids)"
   ]
  }
 ],
 "metadata": {
  "kernelspec": {
   "display_name": "Python 3",
   "language": "python",
   "name": "python3"
  },
  "language_info": {
   "codemirror_mode": {
    "name": "ipython",
    "version": 3
   },
   "file_extension": ".py",
   "mimetype": "text/x-python",
   "name": "python",
   "nbconvert_exporter": "python",
   "pygments_lexer": "ipython3",
   "version": "3.8.5"
  },
  "papermill": {
   "duration": 29.119812,
   "end_time": "2020-09-16T08:21:22.478142",
   "environment_variables": {},
   "exception": null,
   "input_path": "Notebooks/RadarCOVID-Report/Source/RadarCOVID-Report.ipynb",
   "output_path": "RadarCOVID-Report.ipynb",
   "parameters": {},
   "start_time": "2020-09-16T08:20:53.358330",
   "version": "2.1.3"
  }
 },
 "nbformat": 4,
 "nbformat_minor": 1
}