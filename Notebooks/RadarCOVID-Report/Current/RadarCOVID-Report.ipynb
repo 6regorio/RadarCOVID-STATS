{
 "cells": [
  {
   "cell_type": "markdown",
   "metadata": {
    "papermill": {
     "duration": 0.028976,
     "end_time": "2020-09-08T01:22:54.864434",
     "exception": false,
     "start_time": "2020-09-08T01:22:54.835458",
     "status": "completed"
    },
    "pycharm": {
     "name": "#%% md\n"
    },
    "tags": []
   },
   "source": [
    "# RadarCOVID-Report"
   ]
  },
  {
   "cell_type": "markdown",
   "metadata": {
    "collapsed": true,
    "papermill": {
     "duration": 0.022273,
     "end_time": "2020-09-08T01:22:54.909288",
     "exception": false,
     "start_time": "2020-09-08T01:22:54.887015",
     "status": "completed"
    },
    "pycharm": {
     "name": "#%% md\n"
    },
    "tags": []
   },
   "source": [
    "## Data Extraction"
   ]
  },
  {
   "cell_type": "code",
   "execution_count": 1,
   "metadata": {
    "execution": {
     "iopub.execute_input": "2020-09-08T01:22:54.962941Z",
     "iopub.status.busy": "2020-09-08T01:22:54.962375Z",
     "iopub.status.idle": "2020-09-08T01:22:58.666028Z",
     "shell.execute_reply": "2020-09-08T01:22:58.665437Z"
    },
    "papermill": {
     "duration": 3.734526,
     "end_time": "2020-09-08T01:22:58.666211",
     "exception": false,
     "start_time": "2020-09-08T01:22:54.931685",
     "status": "completed"
    },
    "pycharm": {
     "name": "#%%\n"
    },
    "tags": []
   },
   "outputs": [],
   "source": [
    "import datetime\n",
    "import logging\n",
    "import os\n",
    "import shutil\n",
    "import tempfile\n",
    "import textwrap\n",
    "import uuid\n",
    "\n",
    "import dataframe_image as dfi\n",
    "import matplotlib.ticker\n",
    "import numpy as np\n",
    "import pandas as pd\n",
    "import seaborn as sns\n",
    "\n",
    "%matplotlib inline"
   ]
  },
  {
   "cell_type": "code",
   "execution_count": 2,
   "metadata": {
    "execution": {
     "iopub.execute_input": "2020-09-08T01:22:58.719709Z",
     "iopub.status.busy": "2020-09-08T01:22:58.719099Z",
     "iopub.status.idle": "2020-09-08T01:22:58.721342Z",
     "shell.execute_reply": "2020-09-08T01:22:58.720867Z"
    },
    "papermill": {
     "duration": 0.032351,
     "end_time": "2020-09-08T01:22:58.721465",
     "exception": false,
     "start_time": "2020-09-08T01:22:58.689114",
     "status": "completed"
    },
    "pycharm": {
     "name": "#%%\n"
    },
    "tags": []
   },
   "outputs": [],
   "source": [
    "sns.set()\n",
    "matplotlib.rcParams['figure.figsize'] = (15, 6)\n",
    "\n",
    "extraction_datetime = datetime.datetime.utcnow()\n",
    "extraction_date = extraction_datetime.strftime(\"%Y-%m-%d\")\n",
    "extraction_previous_datetime = extraction_datetime - datetime.timedelta(days=1)\n",
    "extraction_previous_date = extraction_previous_datetime.strftime(\"%Y-%m-%d\")\n",
    "extraction_date_with_hour = datetime.datetime.utcnow().strftime(\"%Y-%m-%d@%H\")"
   ]
  },
  {
   "cell_type": "markdown",
   "metadata": {
    "papermill": {
     "duration": 0.022432,
     "end_time": "2020-09-08T01:22:58.766380",
     "exception": false,
     "start_time": "2020-09-08T01:22:58.743948",
     "status": "completed"
    },
    "tags": []
   },
   "source": [
    "### COVID-19 Cases"
   ]
  },
  {
   "cell_type": "code",
   "execution_count": 3,
   "metadata": {
    "execution": {
     "iopub.execute_input": "2020-09-08T01:22:58.817172Z",
     "iopub.status.busy": "2020-09-08T01:22:58.816655Z",
     "iopub.status.idle": "2020-09-08T01:22:59.191043Z",
     "shell.execute_reply": "2020-09-08T01:22:59.190521Z"
    },
    "papermill": {
     "duration": 0.402463,
     "end_time": "2020-09-08T01:22:59.191175",
     "exception": false,
     "start_time": "2020-09-08T01:22:58.788712",
     "status": "completed"
    },
    "pycharm": {
     "name": "#%%\n"
    },
    "tags": []
   },
   "outputs": [],
   "source": [
    "confirmed_df = pd.read_csv(\"https://covid19tracking.narrativa.com/csv/confirmed.csv\")\n",
    "\n",
    "radar_covid_countries = {\"Spain\"}\n",
    "# radar_covid_regions = { ... }\n",
    "\n",
    "confirmed_df = confirmed_df[confirmed_df[\"Country_EN\"].isin(radar_covid_countries)]\n",
    "# confirmed_df = confirmed_df[confirmed_df[\"Region\"].isin(radar_covid_regions)]\n",
    "# set(confirmed_df.Region.tolist()) == radar_covid_regions"
   ]
  },
  {
   "cell_type": "code",
   "execution_count": 4,
   "metadata": {
    "collapsed": false,
    "execution": {
     "iopub.execute_input": "2020-09-08T01:22:59.244965Z",
     "iopub.status.busy": "2020-09-08T01:22:59.244411Z",
     "iopub.status.idle": "2020-09-08T01:22:59.254326Z",
     "shell.execute_reply": "2020-09-08T01:22:59.254756Z"
    },
    "papermill": {
     "duration": 0.041111,
     "end_time": "2020-09-08T01:22:59.254907",
     "exception": false,
     "start_time": "2020-09-08T01:22:59.213796",
     "status": "completed"
    },
    "pycharm": {
     "name": "#%%\n"
    },
    "tags": []
   },
   "outputs": [
    {
     "data": {
      "text/html": [
       "<div>\n",
       "<style scoped>\n",
       "    .dataframe tbody tr th:only-of-type {\n",
       "        vertical-align: middle;\n",
       "    }\n",
       "\n",
       "    .dataframe tbody tr th {\n",
       "        vertical-align: top;\n",
       "    }\n",
       "\n",
       "    .dataframe thead th {\n",
       "        text-align: right;\n",
       "    }\n",
       "</style>\n",
       "<table border=\"1\" class=\"dataframe\">\n",
       "  <thead>\n",
       "    <tr style=\"text-align: right;\">\n",
       "      <th></th>\n",
       "      <th>0</th>\n",
       "    </tr>\n",
       "  </thead>\n",
       "  <tbody>\n",
       "    <tr>\n",
       "      <th>2020-09-03</th>\n",
       "      <td>977026.0</td>\n",
       "    </tr>\n",
       "    <tr>\n",
       "      <th>2020-09-04</th>\n",
       "      <td>997978.0</td>\n",
       "    </tr>\n",
       "    <tr>\n",
       "      <th>2020-09-05</th>\n",
       "      <td>997978.0</td>\n",
       "    </tr>\n",
       "    <tr>\n",
       "      <th>2020-09-06</th>\n",
       "      <td>997978.0</td>\n",
       "    </tr>\n",
       "    <tr>\n",
       "      <th>2020-09-07</th>\n",
       "      <td>1051098.0</td>\n",
       "    </tr>\n",
       "  </tbody>\n",
       "</table>\n",
       "</div>"
      ],
      "text/plain": [
       "                    0\n",
       "2020-09-03   977026.0\n",
       "2020-09-04   997978.0\n",
       "2020-09-05   997978.0\n",
       "2020-09-06   997978.0\n",
       "2020-09-07  1051098.0"
      ]
     },
     "execution_count": 4,
     "metadata": {},
     "output_type": "execute_result"
    }
   ],
   "source": [
    "confirmed_country_columns = list(filter(lambda x: x.startswith(\"Country_\"), confirmed_df.columns))\n",
    "confirmed_regional_columns = confirmed_country_columns + [\"Region\"]\n",
    "confirmed_df.drop(columns=confirmed_regional_columns, inplace=True)\n",
    "confirmed_df = confirmed_df.sum().to_frame()\n",
    "confirmed_df.tail()"
   ]
  },
  {
   "cell_type": "code",
   "execution_count": 5,
   "metadata": {
    "collapsed": false,
    "execution": {
     "iopub.execute_input": "2020-09-08T01:22:59.310824Z",
     "iopub.status.busy": "2020-09-08T01:22:59.310282Z",
     "iopub.status.idle": "2020-09-08T01:22:59.319136Z",
     "shell.execute_reply": "2020-09-08T01:22:59.318629Z"
    },
    "papermill": {
     "duration": 0.041041,
     "end_time": "2020-09-08T01:22:59.319283",
     "exception": false,
     "start_time": "2020-09-08T01:22:59.278242",
     "status": "completed"
    },
    "pycharm": {
     "name": "#%%\n"
    },
    "tags": []
   },
   "outputs": [
    {
     "data": {
      "text/html": [
       "<div>\n",
       "<style scoped>\n",
       "    .dataframe tbody tr th:only-of-type {\n",
       "        vertical-align: middle;\n",
       "    }\n",
       "\n",
       "    .dataframe tbody tr th {\n",
       "        vertical-align: top;\n",
       "    }\n",
       "\n",
       "    .dataframe thead th {\n",
       "        text-align: right;\n",
       "    }\n",
       "</style>\n",
       "<table border=\"1\" class=\"dataframe\">\n",
       "  <thead>\n",
       "    <tr style=\"text-align: right;\">\n",
       "      <th></th>\n",
       "      <th>sample_date_string</th>\n",
       "      <th>cumulative_cases</th>\n",
       "      <th>new_cases</th>\n",
       "      <th>rolling_mean_new_cases</th>\n",
       "    </tr>\n",
       "  </thead>\n",
       "  <tbody>\n",
       "    <tr>\n",
       "      <th>224</th>\n",
       "      <td>2020-09-03</td>\n",
       "      <td>977026.0</td>\n",
       "      <td>17918.0</td>\n",
       "      <td>16858.857143</td>\n",
       "    </tr>\n",
       "    <tr>\n",
       "      <th>225</th>\n",
       "      <td>2020-09-04</td>\n",
       "      <td>997978.0</td>\n",
       "      <td>20952.0</td>\n",
       "      <td>17058.000000</td>\n",
       "    </tr>\n",
       "    <tr>\n",
       "      <th>226</th>\n",
       "      <td>2020-09-05</td>\n",
       "      <td>997978.0</td>\n",
       "      <td>0.0</td>\n",
       "      <td>17058.000000</td>\n",
       "    </tr>\n",
       "    <tr>\n",
       "      <th>227</th>\n",
       "      <td>2020-09-06</td>\n",
       "      <td>997978.0</td>\n",
       "      <td>0.0</td>\n",
       "      <td>17058.000000</td>\n",
       "    </tr>\n",
       "    <tr>\n",
       "      <th>228</th>\n",
       "      <td>2020-09-07</td>\n",
       "      <td>1051098.0</td>\n",
       "      <td>53120.0</td>\n",
       "      <td>17911.714286</td>\n",
       "    </tr>\n",
       "  </tbody>\n",
       "</table>\n",
       "</div>"
      ],
      "text/plain": [
       "    sample_date_string  cumulative_cases  new_cases  rolling_mean_new_cases\n",
       "224         2020-09-03          977026.0    17918.0            16858.857143\n",
       "225         2020-09-04          997978.0    20952.0            17058.000000\n",
       "226         2020-09-05          997978.0        0.0            17058.000000\n",
       "227         2020-09-06          997978.0        0.0            17058.000000\n",
       "228         2020-09-07         1051098.0    53120.0            17911.714286"
      ]
     },
     "execution_count": 5,
     "metadata": {},
     "output_type": "execute_result"
    }
   ],
   "source": [
    "confirmed_df.reset_index(inplace=True)\n",
    "confirmed_df.columns = [\"sample_date_string\", \"cumulative_cases\"]\n",
    "confirmed_df.sort_values(\"sample_date_string\", inplace=True)\n",
    "confirmed_df[\"new_cases\"] = confirmed_df.cumulative_cases.diff()\n",
    "confirmed_df[\"rolling_mean_new_cases\"] = confirmed_df.new_cases.rolling(7).mean()\n",
    "confirmed_df.tail()"
   ]
  },
  {
   "cell_type": "code",
   "execution_count": 6,
   "metadata": {
    "execution": {
     "iopub.execute_input": "2020-09-08T01:22:59.374100Z",
     "iopub.status.busy": "2020-09-08T01:22:59.373524Z",
     "iopub.status.idle": "2020-09-08T01:22:59.384528Z",
     "shell.execute_reply": "2020-09-08T01:22:59.384978Z"
    },
    "papermill": {
     "duration": 0.042694,
     "end_time": "2020-09-08T01:22:59.385130",
     "exception": false,
     "start_time": "2020-09-08T01:22:59.342436",
     "status": "completed"
    },
    "pycharm": {
     "name": "#%%\n"
    },
    "tags": []
   },
   "outputs": [
    {
     "data": {
      "text/html": [
       "<div>\n",
       "<style scoped>\n",
       "    .dataframe tbody tr th:only-of-type {\n",
       "        vertical-align: middle;\n",
       "    }\n",
       "\n",
       "    .dataframe tbody tr th {\n",
       "        vertical-align: top;\n",
       "    }\n",
       "\n",
       "    .dataframe thead th {\n",
       "        text-align: right;\n",
       "    }\n",
       "</style>\n",
       "<table border=\"1\" class=\"dataframe\">\n",
       "  <thead>\n",
       "    <tr style=\"text-align: right;\">\n",
       "      <th></th>\n",
       "      <th>sample_date_string</th>\n",
       "      <th>cumulative_cases</th>\n",
       "      <th>new_cases</th>\n",
       "      <th>rolling_mean_new_cases</th>\n",
       "    </tr>\n",
       "  </thead>\n",
       "  <tbody>\n",
       "    <tr>\n",
       "      <th>225</th>\n",
       "      <td>2020-09-04</td>\n",
       "      <td>9.979780e+05</td>\n",
       "      <td>20952.000000</td>\n",
       "      <td>17058.000000</td>\n",
       "    </tr>\n",
       "    <tr>\n",
       "      <th>226</th>\n",
       "      <td>2020-09-05</td>\n",
       "      <td>9.979780e+05</td>\n",
       "      <td>0.000000</td>\n",
       "      <td>17058.000000</td>\n",
       "    </tr>\n",
       "    <tr>\n",
       "      <th>227</th>\n",
       "      <td>2020-09-06</td>\n",
       "      <td>9.979780e+05</td>\n",
       "      <td>0.000000</td>\n",
       "      <td>17058.000000</td>\n",
       "    </tr>\n",
       "    <tr>\n",
       "      <th>228</th>\n",
       "      <td>2020-09-07</td>\n",
       "      <td>1.051098e+06</td>\n",
       "      <td>53120.000000</td>\n",
       "      <td>17911.714286</td>\n",
       "    </tr>\n",
       "    <tr>\n",
       "      <th>228</th>\n",
       "      <td>2020-09-08</td>\n",
       "      <td>1.069010e+06</td>\n",
       "      <td>17911.714286</td>\n",
       "      <td>17911.714286</td>\n",
       "    </tr>\n",
       "  </tbody>\n",
       "</table>\n",
       "</div>"
      ],
      "text/plain": [
       "    sample_date_string  cumulative_cases     new_cases  rolling_mean_new_cases\n",
       "225         2020-09-04      9.979780e+05  20952.000000            17058.000000\n",
       "226         2020-09-05      9.979780e+05      0.000000            17058.000000\n",
       "227         2020-09-06      9.979780e+05      0.000000            17058.000000\n",
       "228         2020-09-07      1.051098e+06  53120.000000            17911.714286\n",
       "228         2020-09-08      1.069010e+06  17911.714286            17911.714286"
      ]
     },
     "execution_count": 6,
     "metadata": {},
     "output_type": "execute_result"
    }
   ],
   "source": [
    "extraction_date_confirmed_df = \\\n",
    "    confirmed_df[confirmed_df.sample_date_string == extraction_date]\n",
    "extraction_previous_date_confirmed_df = \\\n",
    "    confirmed_df[confirmed_df.sample_date_string == extraction_previous_date].copy()\n",
    "\n",
    "if extraction_date_confirmed_df.empty and \\\n",
    "    not extraction_previous_date_confirmed_df.empty:\n",
    "        extraction_previous_date_confirmed_df[\"sample_date_string\"] = extraction_date\n",
    "        extraction_previous_date_confirmed_df[\"new_cases\"] = \\\n",
    "            extraction_previous_date_confirmed_df.rolling_mean_new_cases\n",
    "        extraction_previous_date_confirmed_df[\"cumulative_cases\"] = \\\n",
    "            extraction_previous_date_confirmed_df.new_cases + \\\n",
    "            extraction_previous_date_confirmed_df.cumulative_cases\n",
    "        confirmed_df = confirmed_df.append(extraction_previous_date_confirmed_df)\n",
    "        \n",
    "confirmed_df.tail()"
   ]
  },
  {
   "cell_type": "code",
   "execution_count": 7,
   "metadata": {
    "execution": {
     "iopub.execute_input": "2020-09-08T01:22:59.464868Z",
     "iopub.status.busy": "2020-09-08T01:22:59.464292Z",
     "iopub.status.idle": "2020-09-08T01:22:59.636054Z",
     "shell.execute_reply": "2020-09-08T01:22:59.636825Z"
    },
    "papermill": {
     "duration": 0.22827,
     "end_time": "2020-09-08T01:22:59.636995",
     "exception": false,
     "start_time": "2020-09-08T01:22:59.408725",
     "status": "completed"
    },
    "pycharm": {
     "name": "#%%\n"
    },
    "tags": []
   },
   "outputs": [
    {
     "data": {
      "text/plain": [
       "<matplotlib.axes._subplots.AxesSubplot at 0x7f840e56af70>"
      ]
     },
     "execution_count": 7,
     "metadata": {},
     "output_type": "execute_result"
    },
    {
     "data": {
      "image/png": "[encoded data removed]",
      "text/plain": [
       "<Figure size 1080x432 with 1 Axes>"
      ]
     },
     "metadata": {},
     "output_type": "display_data"
    }
   ],
   "source": [
    "confirmed_df[[\"new_cases\", \"rolling_mean_new_cases\"]].plot()"
   ]
  },
  {
   "cell_type": "markdown",
   "metadata": {
    "execution": {
     "iopub.execute_input": "2020-08-30T22:30:16.351238Z",
     "iopub.status.busy": "2020-08-30T22:30:16.344579Z",
     "iopub.status.idle": "2020-08-30T22:30:16.354285Z",
     "shell.execute_reply": "2020-08-30T22:30:16.353641Z"
    },
    "papermill": {
     "duration": 0.025325,
     "end_time": "2020-09-08T01:22:59.688583",
     "exception": false,
     "start_time": "2020-09-08T01:22:59.663258",
     "status": "completed"
    },
    "pycharm": {
     "name": "#%% md\n"
    },
    "tags": []
   },
   "source": [
    "### Extract API TEKs"
   ]
  },
  {
   "cell_type": "code",
   "execution_count": 8,
   "metadata": {
    "execution": {
     "iopub.execute_input": "2020-09-08T01:22:59.744959Z",
     "iopub.status.busy": "2020-09-08T01:22:59.743998Z",
     "iopub.status.idle": "2020-09-08T01:23:00.528297Z",
     "shell.execute_reply": "2020-09-08T01:23:00.529064Z"
    },
    "papermill": {
     "duration": 0.815442,
     "end_time": "2020-09-08T01:23:00.529306",
     "exception": false,
     "start_time": "2020-09-08T01:22:59.713864",
     "status": "completed"
    },
    "pycharm": {
     "name": "#%%\n"
    },
    "tags": []
   },
   "outputs": [
    {
     "name": "stderr",
     "output_type": "stream",
     "text": [
      "WARNING:root:NoDataFoundForDateException(\"No exposed tokens found for day '2020-09-08'.\")\n"
     ]
    },
    {
     "name": "stderr",
     "output_type": "stream",
     "text": [
      "WARNING:root:NoDataFoundForDateException(\"No exposed tokens found for day '2020-09-07'.\")\n"
     ]
    },
    {
     "data": {
      "text/html": [
       "<div>\n",
       "<style scoped>\n",
       "    .dataframe tbody tr th:only-of-type {\n",
       "        vertical-align: middle;\n",
       "    }\n",
       "\n",
       "    .dataframe tbody tr th {\n",
       "        vertical-align: top;\n",
       "    }\n",
       "\n",
       "    .dataframe thead th {\n",
       "        text-align: right;\n",
       "    }\n",
       "</style>\n",
       "<table border=\"1\" class=\"dataframe\">\n",
       "  <thead>\n",
       "    <tr style=\"text-align: right;\">\n",
       "      <th></th>\n",
       "      <th>sample_date_string</th>\n",
       "      <th>source_url</th>\n",
       "      <th>region</th>\n",
       "      <th>key_data</th>\n",
       "    </tr>\n",
       "  </thead>\n",
       "  <tbody>\n",
       "    <tr>\n",
       "      <th>0</th>\n",
       "      <td>2020-09-06</td>\n",
       "      <td>https://radarcovid.covid19.gob.es/dp3t/v1/gaen...</td>\n",
       "      <td>ES</td>\n",
       "      <td>ba10eca3-e4f7-1617-9a61-f67e7f98c118</td>\n",
       "    </tr>\n",
       "    <tr>\n",
       "      <th>1</th>\n",
       "      <td>2020-09-06</td>\n",
       "      <td>https://radarcovid.covid19.gob.es/dp3t/v1/gaen...</td>\n",
       "      <td>ES</td>\n",
       "      <td>4ec14811-dd30-a8d7-55fa-3050cf9a7713</td>\n",
       "    </tr>\n",
       "    <tr>\n",
       "      <th>2</th>\n",
       "      <td>2020-09-06</td>\n",
       "      <td>https://radarcovid.covid19.gob.es/dp3t/v1/gaen...</td>\n",
       "      <td>ES</td>\n",
       "      <td>fe12e37f-9874-f198-da35-770f2c838048</td>\n",
       "    </tr>\n",
       "    <tr>\n",
       "      <th>3</th>\n",
       "      <td>2020-09-06</td>\n",
       "      <td>https://radarcovid.covid19.gob.es/dp3t/v1/gaen...</td>\n",
       "      <td>ES</td>\n",
       "      <td>8f1322d7-42ac-f381-1b9a-f03a9098de89</td>\n",
       "    </tr>\n",
       "    <tr>\n",
       "      <th>4</th>\n",
       "      <td>2020-09-06</td>\n",
       "      <td>https://radarcovid.covid19.gob.es/dp3t/v1/gaen...</td>\n",
       "      <td>ES</td>\n",
       "      <td>2f56f00d-b8a7-e33a-1d7d-cb332f7699ac</td>\n",
       "    </tr>\n",
       "  </tbody>\n",
       "</table>\n",
       "</div>"
      ],
      "text/plain": [
       "  sample_date_string                                         source_url  \\\n",
       "0         2020-09-06  https://radarcovid.covid19.gob.es/dp3t/v1/gaen...   \n",
       "1         2020-09-06  https://radarcovid.covid19.gob.es/dp3t/v1/gaen...   \n",
       "2         2020-09-06  https://radarcovid.covid19.gob.es/dp3t/v1/gaen...   \n",
       "3         2020-09-06  https://radarcovid.covid19.gob.es/dp3t/v1/gaen...   \n",
       "4         2020-09-06  https://radarcovid.covid19.gob.es/dp3t/v1/gaen...   \n",
       "\n",
       "  region                              key_data  \n",
       "0     ES  ba10eca3-e4f7-1617-9a61-f67e7f98c118  \n",
       "1     ES  4ec14811-dd30-a8d7-55fa-3050cf9a7713  \n",
       "2     ES  fe12e37f-9874-f198-da35-770f2c838048  \n",
       "3     ES  8f1322d7-42ac-f381-1b9a-f03a9098de89  \n",
       "4     ES  2f56f00d-b8a7-e33a-1d7d-cb332f7699ac  "
      ]
     },
     "execution_count": 8,
     "metadata": {},
     "output_type": "execute_result"
    }
   ],
   "source": [
    "from Modules.RadarCOVID import radar_covid\n",
    "\n",
    "exposure_keys_df = radar_covid.download_last_radar_covid_exposure_keys(days=14)\n",
    "exposure_keys_df[[\n",
    "    \"sample_date_string\", \"source_url\", \"region\", \"key_data\"]].head()"
   ]
  },
  {
   "cell_type": "code",
   "execution_count": 9,
   "metadata": {
    "execution": {
     "iopub.execute_input": "2020-09-08T01:23:00.594918Z",
     "iopub.status.busy": "2020-09-08T01:23:00.594365Z",
     "iopub.status.idle": "2020-09-08T01:23:00.602213Z",
     "shell.execute_reply": "2020-09-08T01:23:00.602652Z"
    },
    "papermill": {
     "duration": 0.045509,
     "end_time": "2020-09-08T01:23:00.602806",
     "exception": false,
     "start_time": "2020-09-08T01:23:00.557297",
     "status": "completed"
    },
    "scrolled": false,
    "tags": []
   },
   "outputs": [
    {
     "data": {
      "text/html": [
       "<div>\n",
       "<style scoped>\n",
       "    .dataframe tbody tr th:only-of-type {\n",
       "        vertical-align: middle;\n",
       "    }\n",
       "\n",
       "    .dataframe tbody tr th {\n",
       "        vertical-align: top;\n",
       "    }\n",
       "\n",
       "    .dataframe thead th {\n",
       "        text-align: right;\n",
       "    }\n",
       "</style>\n",
       "<table border=\"1\" class=\"dataframe\">\n",
       "  <thead>\n",
       "    <tr style=\"text-align: right;\">\n",
       "      <th></th>\n",
       "      <th>tek_count</th>\n",
       "    </tr>\n",
       "    <tr>\n",
       "      <th>sample_date_string</th>\n",
       "      <th></th>\n",
       "    </tr>\n",
       "  </thead>\n",
       "  <tbody>\n",
       "    <tr>\n",
       "      <th>2020-09-06</th>\n",
       "      <td>22</td>\n",
       "    </tr>\n",
       "    <tr>\n",
       "      <th>2020-09-05</th>\n",
       "      <td>30</td>\n",
       "    </tr>\n",
       "    <tr>\n",
       "      <th>2020-09-04</th>\n",
       "      <td>35</td>\n",
       "    </tr>\n",
       "    <tr>\n",
       "      <th>2020-09-03</th>\n",
       "      <td>45</td>\n",
       "    </tr>\n",
       "    <tr>\n",
       "      <th>2020-09-02</th>\n",
       "      <td>52</td>\n",
       "    </tr>\n",
       "  </tbody>\n",
       "</table>\n",
       "</div>"
      ],
      "text/plain": [
       "                    tek_count\n",
       "sample_date_string           \n",
       "2020-09-06                 22\n",
       "2020-09-05                 30\n",
       "2020-09-04                 35\n",
       "2020-09-03                 45\n",
       "2020-09-02                 52"
      ]
     },
     "execution_count": 9,
     "metadata": {},
     "output_type": "execute_result"
    }
   ],
   "source": [
    "exposure_keys_summary_df = \\\n",
    "    exposure_keys_df.groupby([\"sample_date_string\"]).key_data.nunique().to_frame()\n",
    "exposure_keys_summary_df.sort_index(ascending=False, inplace=True)\n",
    "exposure_keys_summary_df.rename(columns={\"key_data\": \"tek_count\"}, inplace=True)\n",
    "exposure_keys_summary_df.head()"
   ]
  },
  {
   "cell_type": "markdown",
   "metadata": {
    "papermill": {
     "duration": 0.026684,
     "end_time": "2020-09-08T01:23:00.656338",
     "exception": false,
     "start_time": "2020-09-08T01:23:00.629654",
     "status": "completed"
    },
    "tags": []
   },
   "source": [
    "### Dump API TEKs"
   ]
  },
  {
   "cell_type": "code",
   "execution_count": 10,
   "metadata": {
    "execution": {
     "iopub.execute_input": "2020-09-08T01:23:00.721915Z",
     "iopub.status.busy": "2020-09-08T01:23:00.721343Z",
     "iopub.status.idle": "2020-09-08T01:23:00.743583Z",
     "shell.execute_reply": "2020-09-08T01:23:00.742940Z"
    },
    "papermill": {
     "duration": 0.060704,
     "end_time": "2020-09-08T01:23:00.743753",
     "exception": false,
     "start_time": "2020-09-08T01:23:00.683049",
     "status": "completed"
    },
    "tags": []
   },
   "outputs": [
    {
     "data": {
      "text/html": [
       "<div>\n",
       "<style scoped>\n",
       "    .dataframe tbody tr th:only-of-type {\n",
       "        vertical-align: middle;\n",
       "    }\n",
       "\n",
       "    .dataframe tbody tr th {\n",
       "        vertical-align: top;\n",
       "    }\n",
       "\n",
       "    .dataframe thead th {\n",
       "        text-align: right;\n",
       "    }\n",
       "</style>\n",
       "<table border=\"1\" class=\"dataframe\">\n",
       "  <thead>\n",
       "    <tr style=\"text-align: right;\">\n",
       "      <th></th>\n",
       "      <th>sample_date</th>\n",
       "      <th>tek_list</th>\n",
       "      <th>extraction_date</th>\n",
       "      <th>extraction_date_with_hour</th>\n",
       "    </tr>\n",
       "  </thead>\n",
       "  <tbody>\n",
       "    <tr>\n",
       "      <th>0</th>\n",
       "      <td>2020-08-26</td>\n",
       "      <td>[8729da43-ced8-821d-874f-88e5b874d175, fdabc8d...</td>\n",
       "      <td>2020-09-08</td>\n",
       "      <td>2020-09-08@01</td>\n",
       "    </tr>\n",
       "    <tr>\n",
       "      <th>1</th>\n",
       "      <td>2020-08-27</td>\n",
       "      <td>[2e29f81c-9ce1-54d5-a12d-9c59efca891d, 9f6c813...</td>\n",
       "      <td>2020-09-08</td>\n",
       "      <td>2020-09-08@01</td>\n",
       "    </tr>\n",
       "    <tr>\n",
       "      <th>2</th>\n",
       "      <td>2020-08-28</td>\n",
       "      <td>[ff51a7a6-3791-9038-c9f5-2d956d598c1a, 9740a6a...</td>\n",
       "      <td>2020-09-08</td>\n",
       "      <td>2020-09-08@01</td>\n",
       "    </tr>\n",
       "    <tr>\n",
       "      <th>3</th>\n",
       "      <td>2020-08-29</td>\n",
       "      <td>[4c558e8a-6f45-9b9c-26bc-2bb3de8d28c9, 957152a...</td>\n",
       "      <td>2020-09-08</td>\n",
       "      <td>2020-09-08@01</td>\n",
       "    </tr>\n",
       "    <tr>\n",
       "      <th>4</th>\n",
       "      <td>2020-08-30</td>\n",
       "      <td>[d57a697f-e1c7-2937-3820-f849ea55a63c, 9e9c731...</td>\n",
       "      <td>2020-09-08</td>\n",
       "      <td>2020-09-08@01</td>\n",
       "    </tr>\n",
       "  </tbody>\n",
       "</table>\n",
       "</div>"
      ],
      "text/plain": [
       "  sample_date                                           tek_list  \\\n",
       "0  2020-08-26  [8729da43-ced8-821d-874f-88e5b874d175, fdabc8d...   \n",
       "1  2020-08-27  [2e29f81c-9ce1-54d5-a12d-9c59efca891d, 9f6c813...   \n",
       "2  2020-08-28  [ff51a7a6-3791-9038-c9f5-2d956d598c1a, 9740a6a...   \n",
       "3  2020-08-29  [4c558e8a-6f45-9b9c-26bc-2bb3de8d28c9, 957152a...   \n",
       "4  2020-08-30  [d57a697f-e1c7-2937-3820-f849ea55a63c, 9e9c731...   \n",
       "\n",
       "  extraction_date extraction_date_with_hour  \n",
       "0      2020-09-08             2020-09-08@01  \n",
       "1      2020-09-08             2020-09-08@01  \n",
       "2      2020-09-08             2020-09-08@01  \n",
       "3      2020-09-08             2020-09-08@01  \n",
       "4      2020-09-08             2020-09-08@01  "
      ]
     },
     "execution_count": 10,
     "metadata": {},
     "output_type": "execute_result"
    }
   ],
   "source": [
    "tek_list_df = exposure_keys_df[[\"sample_date_string\", \"key_data\"]].copy()\n",
    "tek_list_df[\"key_data\"] = tek_list_df[\"key_data\"].apply(str)\n",
    "tek_list_df.rename(columns={\n",
    "    \"sample_date_string\": \"sample_date\",\n",
    "    \"key_data\": \"tek_list\"}, inplace=True)\n",
    "tek_list_df = tek_list_df.groupby(\n",
    "    \"sample_date\").tek_list.unique().reset_index()\n",
    "tek_list_df[\"extraction_date\"] = extraction_date\n",
    "tek_list_df[\"extraction_date_with_hour\"] = extraction_date_with_hour\n",
    "tek_list_df.drop(columns=[\"extraction_date\", \"extraction_date_with_hour\"]).to_json(\n",
    "    \"Data/TEKs/Current/RadarCOVID-TEKs.json\",\n",
    "    lines=True, orient=\"records\")\n",
    "tek_list_df.drop(columns=[\"extraction_date_with_hour\"]).to_json(\n",
    "    \"Data/TEKs/Daily/RadarCOVID-TEKs-\" + extraction_date + \".json\",\n",
    "    lines=True, orient=\"records\")\n",
    "tek_list_df.to_json(\n",
    "    \"Data/TEKs/Hourly/RadarCOVID-TEKs-\" + extraction_date_with_hour + \".json\",\n",
    "    lines=True, orient=\"records\")\n",
    "tek_list_df.head()"
   ]
  },
  {
   "cell_type": "markdown",
   "metadata": {
    "papermill": {
     "duration": 0.027441,
     "end_time": "2020-09-08T01:23:00.799002",
     "exception": false,
     "start_time": "2020-09-08T01:23:00.771561",
     "status": "completed"
    },
    "tags": []
   },
   "source": [
    "### Load TEK Dumps"
   ]
  },
  {
   "cell_type": "code",
   "execution_count": 11,
   "metadata": {
    "execution": {
     "iopub.execute_input": "2020-09-08T01:23:00.861363Z",
     "iopub.status.busy": "2020-09-08T01:23:00.860813Z",
     "iopub.status.idle": "2020-09-08T01:23:00.862679Z",
     "shell.execute_reply": "2020-09-08T01:23:00.863091Z"
    },
    "papermill": {
     "duration": 0.036838,
     "end_time": "2020-09-08T01:23:00.863291",
     "exception": false,
     "start_time": "2020-09-08T01:23:00.826453",
     "status": "completed"
    },
    "tags": []
   },
   "outputs": [],
   "source": [
    "import glob\n",
    "\n",
    "def load_extracted_teks(mode, limit=None) -> pd.DataFrame:\n",
    "    extracted_teks_df = pd.DataFrame()\n",
    "    paths = list(reversed(sorted(glob.glob(f\"Data/TEKs/{mode}/RadarCOVID-TEKs-*.json\"))))\n",
    "    if limit:\n",
    "        paths = paths[:limit]\n",
    "    for path in paths:\n",
    "        logging.info(f\"Loading TEKs from '{path}'...\")\n",
    "        iteration_extracted_teks_df = pd.read_json(path, lines=True)\n",
    "        extracted_teks_df = extracted_teks_df.append(\n",
    "            iteration_extracted_teks_df, sort=False)\n",
    "    return extracted_teks_df"
   ]
  },
  {
   "cell_type": "markdown",
   "metadata": {
    "execution": {
     "iopub.execute_input": "2020-08-30T22:30:16.632967Z",
     "iopub.status.busy": "2020-08-30T22:30:16.632308Z",
     "iopub.status.idle": "2020-08-30T22:30:16.634945Z",
     "shell.execute_reply": "2020-08-30T22:30:16.635575Z"
    },
    "papermill": {
     "duration": 0.027538,
     "end_time": "2020-09-08T01:23:00.917940",
     "exception": false,
     "start_time": "2020-09-08T01:23:00.890402",
     "status": "completed"
    },
    "pycharm": {
     "name": "#%% md\n"
    },
    "tags": []
   },
   "source": [
    "### Daily New TEKs"
   ]
  },
  {
   "cell_type": "code",
   "execution_count": 12,
   "metadata": {
    "execution": {
     "iopub.execute_input": "2020-09-08T01:23:00.978005Z",
     "iopub.status.busy": "2020-09-08T01:23:00.977447Z",
     "iopub.status.idle": "2020-09-08T01:23:01.037658Z",
     "shell.execute_reply": "2020-09-08T01:23:01.038431Z"
    },
    "papermill": {
     "duration": 0.09338,
     "end_time": "2020-09-08T01:23:01.038679",
     "exception": false,
     "start_time": "2020-09-08T01:23:00.945299",
     "status": "completed"
    },
    "tags": []
   },
   "outputs": [
    {
     "data": {
      "text/html": [
       "<div>\n",
       "<style scoped>\n",
       "    .dataframe tbody tr th:only-of-type {\n",
       "        vertical-align: middle;\n",
       "    }\n",
       "\n",
       "    .dataframe tbody tr th {\n",
       "        vertical-align: top;\n",
       "    }\n",
       "\n",
       "    .dataframe thead th {\n",
       "        text-align: right;\n",
       "    }\n",
       "</style>\n",
       "<table border=\"1\" class=\"dataframe\">\n",
       "  <thead>\n",
       "    <tr style=\"text-align: right;\">\n",
       "      <th></th>\n",
       "      <th>sample_date</th>\n",
       "      <th>tek_list</th>\n",
       "      <th>extraction_date</th>\n",
       "      <th>extraction_date_with_hour</th>\n",
       "    </tr>\n",
       "  </thead>\n",
       "  <tbody>\n",
       "    <tr>\n",
       "      <th>0</th>\n",
       "      <td>2020-08-26</td>\n",
       "      <td>[8729da43-ced8-821d-874f-88e5b874d175, fdabc8d...</td>\n",
       "      <td>2020-09-08</td>\n",
       "      <td>NaN</td>\n",
       "    </tr>\n",
       "    <tr>\n",
       "      <th>1</th>\n",
       "      <td>2020-08-27</td>\n",
       "      <td>[2e29f81c-9ce1-54d5-a12d-9c59efca891d, 9f6c813...</td>\n",
       "      <td>2020-09-08</td>\n",
       "      <td>NaN</td>\n",
       "    </tr>\n",
       "    <tr>\n",
       "      <th>2</th>\n",
       "      <td>2020-08-28</td>\n",
       "      <td>[ff51a7a6-3791-9038-c9f5-2d956d598c1a, 9740a6a...</td>\n",
       "      <td>2020-09-08</td>\n",
       "      <td>NaN</td>\n",
       "    </tr>\n",
       "    <tr>\n",
       "      <th>3</th>\n",
       "      <td>2020-08-29</td>\n",
       "      <td>[4c558e8a-6f45-9b9c-26bc-2bb3de8d28c9, 957152a...</td>\n",
       "      <td>2020-09-08</td>\n",
       "      <td>NaN</td>\n",
       "    </tr>\n",
       "    <tr>\n",
       "      <th>4</th>\n",
       "      <td>2020-08-30</td>\n",
       "      <td>[d57a697f-e1c7-2937-3820-f849ea55a63c, 9e9c731...</td>\n",
       "      <td>2020-09-08</td>\n",
       "      <td>NaN</td>\n",
       "    </tr>\n",
       "  </tbody>\n",
       "</table>\n",
       "</div>"
      ],
      "text/plain": [
       "  sample_date                                           tek_list  \\\n",
       "0  2020-08-26  [8729da43-ced8-821d-874f-88e5b874d175, fdabc8d...   \n",
       "1  2020-08-27  [2e29f81c-9ce1-54d5-a12d-9c59efca891d, 9f6c813...   \n",
       "2  2020-08-28  [ff51a7a6-3791-9038-c9f5-2d956d598c1a, 9740a6a...   \n",
       "3  2020-08-29  [4c558e8a-6f45-9b9c-26bc-2bb3de8d28c9, 957152a...   \n",
       "4  2020-08-30  [d57a697f-e1c7-2937-3820-f849ea55a63c, 9e9c731...   \n",
       "\n",
       "  extraction_date extraction_date_with_hour  \n",
       "0      2020-09-08                       NaN  \n",
       "1      2020-09-08                       NaN  \n",
       "2      2020-09-08                       NaN  \n",
       "3      2020-09-08                       NaN  \n",
       "4      2020-09-08                       NaN  "
      ]
     },
     "execution_count": 12,
     "metadata": {},
     "output_type": "execute_result"
    }
   ],
   "source": [
    "daily_extracted_teks_df = load_extracted_teks(mode=\"Daily\", limit=14)\n",
    "daily_extracted_teks_df.head()"
   ]
  },
  {
   "cell_type": "code",
   "execution_count": 13,
   "metadata": {
    "execution": {
     "iopub.execute_input": "2020-09-08T01:23:01.102228Z",
     "iopub.status.busy": "2020-09-08T01:23:01.101671Z",
     "iopub.status.idle": "2020-09-08T01:23:01.116950Z",
     "shell.execute_reply": "2020-09-08T01:23:01.116496Z"
    },
    "papermill": {
     "duration": 0.05031,
     "end_time": "2020-09-08T01:23:01.117078",
     "exception": false,
     "start_time": "2020-09-08T01:23:01.066768",
     "status": "completed"
    },
    "tags": []
   },
   "outputs": [
    {
     "data": {
      "text/html": [
       "<div>\n",
       "<style scoped>\n",
       "    .dataframe tbody tr th:only-of-type {\n",
       "        vertical-align: middle;\n",
       "    }\n",
       "\n",
       "    .dataframe tbody tr th {\n",
       "        vertical-align: top;\n",
       "    }\n",
       "\n",
       "    .dataframe thead th {\n",
       "        text-align: right;\n",
       "    }\n",
       "</style>\n",
       "<table border=\"1\" class=\"dataframe\">\n",
       "  <thead>\n",
       "    <tr style=\"text-align: right;\">\n",
       "      <th></th>\n",
       "      <th>tek_list</th>\n",
       "    </tr>\n",
       "    <tr>\n",
       "      <th>extraction_date</th>\n",
       "      <th></th>\n",
       "    </tr>\n",
       "  </thead>\n",
       "  <tbody>\n",
       "    <tr>\n",
       "      <th>2020-08-29</th>\n",
       "      <td>{ee8a113e-fd3b-27a5-7768-466ed557804c, 2453fa2...</td>\n",
       "    </tr>\n",
       "    <tr>\n",
       "      <th>2020-08-30</th>\n",
       "      <td>{ee8a113e-fd3b-27a5-7768-466ed557804c, 2453fa2...</td>\n",
       "    </tr>\n",
       "    <tr>\n",
       "      <th>2020-08-31</th>\n",
       "      <td>{ee8a113e-fd3b-27a5-7768-466ed557804c, 2453fa2...</td>\n",
       "    </tr>\n",
       "    <tr>\n",
       "      <th>2020-09-01</th>\n",
       "      <td>{83b70d50-22c6-919a-415f-7a5c43294ecb, ee8a113...</td>\n",
       "    </tr>\n",
       "    <tr>\n",
       "      <th>2020-09-02</th>\n",
       "      <td>{83b70d50-22c6-919a-415f-7a5c43294ecb, ee8a113...</td>\n",
       "    </tr>\n",
       "  </tbody>\n",
       "</table>\n",
       "</div>"
      ],
      "text/plain": [
       "                                                          tek_list\n",
       "extraction_date                                                   \n",
       "2020-08-29       {ee8a113e-fd3b-27a5-7768-466ed557804c, 2453fa2...\n",
       "2020-08-30       {ee8a113e-fd3b-27a5-7768-466ed557804c, 2453fa2...\n",
       "2020-08-31       {ee8a113e-fd3b-27a5-7768-466ed557804c, 2453fa2...\n",
       "2020-09-01       {83b70d50-22c6-919a-415f-7a5c43294ecb, ee8a113...\n",
       "2020-09-02       {83b70d50-22c6-919a-415f-7a5c43294ecb, ee8a113..."
      ]
     },
     "execution_count": 13,
     "metadata": {},
     "output_type": "execute_result"
    }
   ],
   "source": [
    "tek_list_df = daily_extracted_teks_df.groupby(\"extraction_date\").tek_list.apply(\n",
    "    lambda x: set(sum(x, []))).reset_index()\n",
    "tek_list_df = tek_list_df.set_index(\"extraction_date\").sort_index(ascending=True)\n",
    "tek_list_df.head()"
   ]
  },
  {
   "cell_type": "code",
   "execution_count": 14,
   "metadata": {
    "execution": {
     "iopub.execute_input": "2020-09-08T01:23:01.189117Z",
     "iopub.status.busy": "2020-09-08T01:23:01.188529Z",
     "iopub.status.idle": "2020-09-08T01:23:01.190745Z",
     "shell.execute_reply": "2020-09-08T01:23:01.191178Z"
    },
    "papermill": {
     "duration": 0.046003,
     "end_time": "2020-09-08T01:23:01.191363",
     "exception": false,
     "start_time": "2020-09-08T01:23:01.145360",
     "status": "completed"
    },
    "tags": []
   },
   "outputs": [
    {
     "data": {
      "text/html": [
       "<div>\n",
       "<style scoped>\n",
       "    .dataframe tbody tr th:only-of-type {\n",
       "        vertical-align: middle;\n",
       "    }\n",
       "\n",
       "    .dataframe tbody tr th {\n",
       "        vertical-align: top;\n",
       "    }\n",
       "\n",
       "    .dataframe thead th {\n",
       "        text-align: right;\n",
       "    }\n",
       "</style>\n",
       "<table border=\"1\" class=\"dataframe\">\n",
       "  <thead>\n",
       "    <tr style=\"text-align: right;\">\n",
       "      <th></th>\n",
       "      <th>sample_date_string</th>\n",
       "      <th>new_tek_count</th>\n",
       "    </tr>\n",
       "  </thead>\n",
       "  <tbody>\n",
       "    <tr>\n",
       "      <th>0</th>\n",
       "      <td>2020-08-29</td>\n",
       "      <td>NaN</td>\n",
       "    </tr>\n",
       "    <tr>\n",
       "      <th>1</th>\n",
       "      <td>2020-08-30</td>\n",
       "      <td>29.0</td>\n",
       "    </tr>\n",
       "    <tr>\n",
       "      <th>2</th>\n",
       "      <td>2020-08-31</td>\n",
       "      <td>63.0</td>\n",
       "    </tr>\n",
       "    <tr>\n",
       "      <th>3</th>\n",
       "      <td>2020-09-01</td>\n",
       "      <td>39.0</td>\n",
       "    </tr>\n",
       "    <tr>\n",
       "      <th>4</th>\n",
       "      <td>2020-09-02</td>\n",
       "      <td>57.0</td>\n",
       "    </tr>\n",
       "  </tbody>\n",
       "</table>\n",
       "</div>"
      ],
      "text/plain": [
       "  sample_date_string  new_tek_count\n",
       "0         2020-08-29            NaN\n",
       "1         2020-08-30           29.0\n",
       "2         2020-08-31           63.0\n",
       "3         2020-09-01           39.0\n",
       "4         2020-09-02           57.0"
      ]
     },
     "execution_count": 14,
     "metadata": {},
     "output_type": "execute_result"
    }
   ],
   "source": [
    "new_tek_df = tek_list_df.diff().tek_list.apply(\n",
    "    lambda x: len(x) if not pd.isna(x) else None).to_frame().reset_index()\n",
    "new_tek_df.rename(columns={\n",
    "    \"tek_list\": \"new_tek_count\",\n",
    "    \"extraction_date\": \"sample_date_string\",}, inplace=True)\n",
    "new_tek_df.head()"
   ]
  },
  {
   "cell_type": "code",
   "execution_count": 15,
   "metadata": {
    "execution": {
     "iopub.execute_input": "2020-09-08T01:23:01.269180Z",
     "iopub.status.busy": "2020-09-08T01:23:01.268571Z",
     "iopub.status.idle": "2020-09-08T01:23:01.270878Z",
     "shell.execute_reply": "2020-09-08T01:23:01.271348Z"
    },
    "papermill": {
     "duration": 0.051558,
     "end_time": "2020-09-08T01:23:01.271509",
     "exception": false,
     "start_time": "2020-09-08T01:23:01.219951",
     "status": "completed"
    },
    "pycharm": {
     "name": "#%%\n"
    },
    "tags": []
   },
   "outputs": [
    {
     "data": {
      "text/html": [
       "<div>\n",
       "<style scoped>\n",
       "    .dataframe tbody tr th:only-of-type {\n",
       "        vertical-align: middle;\n",
       "    }\n",
       "\n",
       "    .dataframe tbody tr th {\n",
       "        vertical-align: top;\n",
       "    }\n",
       "\n",
       "    .dataframe thead th {\n",
       "        text-align: right;\n",
       "    }\n",
       "</style>\n",
       "<table border=\"1\" class=\"dataframe\">\n",
       "  <thead>\n",
       "    <tr style=\"text-align: right;\">\n",
       "      <th></th>\n",
       "      <th>sample_date</th>\n",
       "      <th>tek_list</th>\n",
       "      <th>extraction_date</th>\n",
       "      <th>extraction_date_with_hour</th>\n",
       "      <th>new_sample_extraction_date</th>\n",
       "    </tr>\n",
       "  </thead>\n",
       "  <tbody>\n",
       "    <tr>\n",
       "      <th>12</th>\n",
       "      <td>2020-09-06</td>\n",
       "      <td>[ba10eca3-e4f7-1617-9a61-f67e7f98c118, 4ec1481...</td>\n",
       "      <td>2020-09-07</td>\n",
       "      <td>NaN</td>\n",
       "      <td>2020-09-07</td>\n",
       "    </tr>\n",
       "    <tr>\n",
       "      <th>12</th>\n",
       "      <td>2020-09-05</td>\n",
       "      <td>[a87eb099-5125-9728-69a7-89a3123a713e, 531f47b...</td>\n",
       "      <td>2020-09-06</td>\n",
       "      <td>NaN</td>\n",
       "      <td>2020-09-06</td>\n",
       "    </tr>\n",
       "    <tr>\n",
       "      <th>12</th>\n",
       "      <td>2020-09-04</td>\n",
       "      <td>[41a3a345-c12f-b136-fc17-e36a75eac092, 23fd9b5...</td>\n",
       "      <td>2020-09-05</td>\n",
       "      <td>NaN</td>\n",
       "      <td>2020-09-05</td>\n",
       "    </tr>\n",
       "    <tr>\n",
       "      <th>12</th>\n",
       "      <td>2020-09-03</td>\n",
       "      <td>[4129db59-cc0f-67fa-781a-4e3b96b19c35, 3a9808d...</td>\n",
       "      <td>2020-09-04</td>\n",
       "      <td>NaN</td>\n",
       "      <td>2020-09-04</td>\n",
       "    </tr>\n",
       "    <tr>\n",
       "      <th>12</th>\n",
       "      <td>2020-09-02</td>\n",
       "      <td>[06719402-e6c8-202b-34a2-b4c664da1970, 29c93e8...</td>\n",
       "      <td>2020-09-03</td>\n",
       "      <td>NaN</td>\n",
       "      <td>2020-09-03</td>\n",
       "    </tr>\n",
       "  </tbody>\n",
       "</table>\n",
       "</div>"
      ],
      "text/plain": [
       "   sample_date                                           tek_list  \\\n",
       "12  2020-09-06  [ba10eca3-e4f7-1617-9a61-f67e7f98c118, 4ec1481...   \n",
       "12  2020-09-05  [a87eb099-5125-9728-69a7-89a3123a713e, 531f47b...   \n",
       "12  2020-09-04  [41a3a345-c12f-b136-fc17-e36a75eac092, 23fd9b5...   \n",
       "12  2020-09-03  [4129db59-cc0f-67fa-781a-4e3b96b19c35, 3a9808d...   \n",
       "12  2020-09-02  [06719402-e6c8-202b-34a2-b4c664da1970, 29c93e8...   \n",
       "\n",
       "   extraction_date extraction_date_with_hour new_sample_extraction_date  \n",
       "12      2020-09-07                       NaN                 2020-09-07  \n",
       "12      2020-09-06                       NaN                 2020-09-06  \n",
       "12      2020-09-05                       NaN                 2020-09-05  \n",
       "12      2020-09-04                       NaN                 2020-09-04  \n",
       "12      2020-09-03                       NaN                 2020-09-03  "
      ]
     },
     "execution_count": 15,
     "metadata": {},
     "output_type": "execute_result"
    }
   ],
   "source": [
    "new_tek_devices_df = daily_extracted_teks_df.copy()\n",
    "new_tek_devices_df[\"new_sample_extraction_date\"] = \\\n",
    "    pd.to_datetime(new_tek_devices_df.sample_date) + datetime.timedelta(1)\n",
    "new_tek_devices_df[\"extraction_date\"] = pd.to_datetime(new_tek_devices_df.extraction_date)\n",
    "\n",
    "new_tek_devices_df = new_tek_devices_df[\n",
    "    new_tek_devices_df.new_sample_extraction_date == new_tek_devices_df.extraction_date]\n",
    "new_tek_devices_df.head()"
   ]
  },
  {
   "cell_type": "code",
   "execution_count": 16,
   "metadata": {
    "execution": {
     "iopub.execute_input": "2020-09-08T01:23:01.343443Z",
     "iopub.status.busy": "2020-09-08T01:23:01.336548Z",
     "iopub.status.idle": "2020-09-08T01:23:01.346479Z",
     "shell.execute_reply": "2020-09-08T01:23:01.346012Z"
    },
    "papermill": {
     "duration": 0.045809,
     "end_time": "2020-09-08T01:23:01.346598",
     "exception": false,
     "start_time": "2020-09-08T01:23:01.300789",
     "status": "completed"
    },
    "tags": []
   },
   "outputs": [
    {
     "data": {
      "text/html": [
       "<div>\n",
       "<style scoped>\n",
       "    .dataframe tbody tr th:only-of-type {\n",
       "        vertical-align: middle;\n",
       "    }\n",
       "\n",
       "    .dataframe tbody tr th {\n",
       "        vertical-align: top;\n",
       "    }\n",
       "\n",
       "    .dataframe thead th {\n",
       "        text-align: right;\n",
       "    }\n",
       "</style>\n",
       "<table border=\"1\" class=\"dataframe\">\n",
       "  <thead>\n",
       "    <tr style=\"text-align: right;\">\n",
       "      <th></th>\n",
       "      <th>sample_date_string</th>\n",
       "      <th>new_tek_devices</th>\n",
       "    </tr>\n",
       "  </thead>\n",
       "  <tbody>\n",
       "    <tr>\n",
       "      <th>0</th>\n",
       "      <td>2020-09-07</td>\n",
       "      <td>22</td>\n",
       "    </tr>\n",
       "    <tr>\n",
       "      <th>1</th>\n",
       "      <td>2020-09-06</td>\n",
       "      <td>24</td>\n",
       "    </tr>\n",
       "    <tr>\n",
       "      <th>2</th>\n",
       "      <td>2020-09-05</td>\n",
       "      <td>17</td>\n",
       "    </tr>\n",
       "    <tr>\n",
       "      <th>3</th>\n",
       "      <td>2020-09-04</td>\n",
       "      <td>20</td>\n",
       "    </tr>\n",
       "    <tr>\n",
       "      <th>4</th>\n",
       "      <td>2020-09-03</td>\n",
       "      <td>19</td>\n",
       "    </tr>\n",
       "  </tbody>\n",
       "</table>\n",
       "</div>"
      ],
      "text/plain": [
       "  sample_date_string  new_tek_devices\n",
       "0         2020-09-07               22\n",
       "1         2020-09-06               24\n",
       "2         2020-09-05               17\n",
       "3         2020-09-04               20\n",
       "4         2020-09-03               19"
      ]
     },
     "execution_count": 16,
     "metadata": {},
     "output_type": "execute_result"
    }
   ],
   "source": [
    "new_tek_devices_df.set_index(\"extraction_date\", inplace=True)\n",
    "new_tek_devices_df = new_tek_devices_df.tek_list.apply(lambda x: len(set(x))).to_frame()\n",
    "new_tek_devices_df.reset_index(inplace=True)\n",
    "new_tek_devices_df.rename(columns={\n",
    "    \"extraction_date\": \"sample_date_string\",\n",
    "    \"tek_list\": \"new_tek_devices\"}, inplace=True)\n",
    "new_tek_devices_df[\"sample_date_string\"] = new_tek_devices_df.sample_date_string.dt.strftime(\"%Y-%m-%d\")\n",
    "new_tek_devices_df.head()"
   ]
  },
  {
   "cell_type": "markdown",
   "metadata": {
    "papermill": {
     "duration": 0.029442,
     "end_time": "2020-09-08T01:23:01.405151",
     "exception": false,
     "start_time": "2020-09-08T01:23:01.375709",
     "status": "completed"
    },
    "pycharm": {
     "name": "#%% md\n"
    },
    "tags": []
   },
   "source": [
    "### Hourly New TEKs"
   ]
  },
  {
   "cell_type": "code",
   "execution_count": 17,
   "metadata": {
    "execution": {
     "iopub.execute_input": "2020-09-08T01:23:01.470690Z",
     "iopub.status.busy": "2020-09-08T01:23:01.470109Z",
     "iopub.status.idle": "2020-09-08T01:23:01.594739Z",
     "shell.execute_reply": "2020-09-08T01:23:01.595556Z"
    },
    "papermill": {
     "duration": 0.161051,
     "end_time": "2020-09-08T01:23:01.595814",
     "exception": false,
     "start_time": "2020-09-08T01:23:01.434763",
     "status": "completed"
    },
    "tags": []
   },
   "outputs": [
    {
     "data": {
      "text/html": [
       "<div>\n",
       "<style scoped>\n",
       "    .dataframe tbody tr th:only-of-type {\n",
       "        vertical-align: middle;\n",
       "    }\n",
       "\n",
       "    .dataframe tbody tr th {\n",
       "        vertical-align: top;\n",
       "    }\n",
       "\n",
       "    .dataframe thead th {\n",
       "        text-align: right;\n",
       "    }\n",
       "</style>\n",
       "<table border=\"1\" class=\"dataframe\">\n",
       "  <thead>\n",
       "    <tr style=\"text-align: right;\">\n",
       "      <th></th>\n",
       "      <th>extraction_date_with_hour</th>\n",
       "      <th>new_tek_count</th>\n",
       "    </tr>\n",
       "  </thead>\n",
       "  <tbody>\n",
       "    <tr>\n",
       "      <th>19</th>\n",
       "      <td>2020-09-07@21</td>\n",
       "      <td>0.0</td>\n",
       "    </tr>\n",
       "    <tr>\n",
       "      <th>20</th>\n",
       "      <td>2020-09-07@22</td>\n",
       "      <td>0.0</td>\n",
       "    </tr>\n",
       "    <tr>\n",
       "      <th>21</th>\n",
       "      <td>2020-09-07@23</td>\n",
       "      <td>0.0</td>\n",
       "    </tr>\n",
       "    <tr>\n",
       "      <th>22</th>\n",
       "      <td>2020-09-08@00</td>\n",
       "      <td>0.0</td>\n",
       "    </tr>\n",
       "    <tr>\n",
       "      <th>23</th>\n",
       "      <td>2020-09-08@01</td>\n",
       "      <td>0.0</td>\n",
       "    </tr>\n",
       "  </tbody>\n",
       "</table>\n",
       "</div>"
      ],
      "text/plain": [
       "   extraction_date_with_hour  new_tek_count\n",
       "19             2020-09-07@21            0.0\n",
       "20             2020-09-07@22            0.0\n",
       "21             2020-09-07@23            0.0\n",
       "22             2020-09-08@00            0.0\n",
       "23             2020-09-08@01            0.0"
      ]
     },
     "execution_count": 17,
     "metadata": {},
     "output_type": "execute_result"
    }
   ],
   "source": [
    "hourly_extracted_teks_df = load_extracted_teks(mode=\"Hourly\", limit=24)\n",
    "hourly_extracted_teks_df.head()\n",
    "\n",
    "hourly_tek_list_df = hourly_extracted_teks_df.groupby(\"extraction_date_with_hour\").tek_list.apply(\n",
    "    lambda x: set(sum(x, []))).reset_index()\n",
    "hourly_tek_list_df = hourly_tek_list_df.set_index(\"extraction_date_with_hour\").sort_index(ascending=True)\n",
    "\n",
    "hourly_new_tek_df = hourly_tek_list_df.diff().tek_list.apply(\n",
    "    lambda x: len(x) if not pd.isna(x) else None).to_frame().reset_index()\n",
    "hourly_new_tek_df.rename(columns={\n",
    "    \"tek_list\": \"new_tek_count\"}, inplace=True)\n",
    "hourly_new_tek_df.tail()"
   ]
  },
  {
   "cell_type": "code",
   "execution_count": 18,
   "metadata": {
    "execution": {
     "iopub.execute_input": "2020-09-08T01:23:01.668107Z",
     "iopub.status.busy": "2020-09-08T01:23:01.667547Z",
     "iopub.status.idle": "2020-09-08T01:23:01.683738Z",
     "shell.execute_reply": "2020-09-08T01:23:01.684202Z"
    },
    "papermill": {
     "duration": 0.057645,
     "end_time": "2020-09-08T01:23:01.684354",
     "exception": false,
     "start_time": "2020-09-08T01:23:01.626709",
     "status": "completed"
    },
    "pycharm": {
     "name": "#%%\n"
    },
    "tags": []
   },
   "outputs": [
    {
     "data": {
      "text/html": [
       "<div>\n",
       "<style scoped>\n",
       "    .dataframe tbody tr th:only-of-type {\n",
       "        vertical-align: middle;\n",
       "    }\n",
       "\n",
       "    .dataframe tbody tr th {\n",
       "        vertical-align: top;\n",
       "    }\n",
       "\n",
       "    .dataframe thead th {\n",
       "        text-align: right;\n",
       "    }\n",
       "</style>\n",
       "<table border=\"1\" class=\"dataframe\">\n",
       "  <thead>\n",
       "    <tr style=\"text-align: right;\">\n",
       "      <th></th>\n",
       "      <th>extraction_date_with_hour</th>\n",
       "      <th>new_tek_devices</th>\n",
       "    </tr>\n",
       "  </thead>\n",
       "  <tbody>\n",
       "    <tr>\n",
       "      <th>17</th>\n",
       "      <td>2020-09-07@19</td>\n",
       "      <td>0.0</td>\n",
       "    </tr>\n",
       "    <tr>\n",
       "      <th>18</th>\n",
       "      <td>2020-09-07@20</td>\n",
       "      <td>1.0</td>\n",
       "    </tr>\n",
       "    <tr>\n",
       "      <th>19</th>\n",
       "      <td>2020-09-07@21</td>\n",
       "      <td>0.0</td>\n",
       "    </tr>\n",
       "    <tr>\n",
       "      <th>20</th>\n",
       "      <td>2020-09-07@22</td>\n",
       "      <td>0.0</td>\n",
       "    </tr>\n",
       "    <tr>\n",
       "      <th>21</th>\n",
       "      <td>2020-09-07@23</td>\n",
       "      <td>0.0</td>\n",
       "    </tr>\n",
       "  </tbody>\n",
       "</table>\n",
       "</div>"
      ],
      "text/plain": [
       "   extraction_date_with_hour  new_tek_devices\n",
       "17             2020-09-07@19              0.0\n",
       "18             2020-09-07@20              1.0\n",
       "19             2020-09-07@21              0.0\n",
       "20             2020-09-07@22              0.0\n",
       "21             2020-09-07@23              0.0"
      ]
     },
     "execution_count": 18,
     "metadata": {},
     "output_type": "execute_result"
    }
   ],
   "source": [
    "hourly_new_tek_devices_df = hourly_extracted_teks_df.copy()\n",
    "hourly_new_tek_devices_df[\"new_sample_extraction_date\"] = \\\n",
    "    pd.to_datetime(hourly_new_tek_devices_df.sample_date) + datetime.timedelta(1)\n",
    "hourly_new_tek_devices_df[\"extraction_date\"] = pd.to_datetime(hourly_new_tek_devices_df.extraction_date)\n",
    "\n",
    "hourly_new_tek_devices_df = hourly_new_tek_devices_df[\n",
    "    hourly_new_tek_devices_df.new_sample_extraction_date == hourly_new_tek_devices_df.extraction_date]\n",
    "\n",
    "hourly_new_tek_devices_df.set_index(\"extraction_date_with_hour\", inplace=True)\n",
    "hourly_new_tek_devices_df_ = pd.DataFrame()\n",
    "\n",
    "for i, chunk_df in hourly_new_tek_devices_df.groupby(\"extraction_date\"):\n",
    "    chunk_df = chunk_df.copy()\n",
    "    chunk_df.sort_index(inplace=True)\n",
    "    chunk_tek_count_df = chunk_df.tek_list.apply(lambda x: len(set(x)))\n",
    "    chunk_df = chunk_tek_count_df.diff().fillna(chunk_tek_count_df).to_frame()\n",
    "    hourly_new_tek_devices_df_ = hourly_new_tek_devices_df_.append(chunk_df)\n",
    "    \n",
    "hourly_new_tek_devices_df = hourly_new_tek_devices_df_\n",
    "hourly_new_tek_devices_df.reset_index(inplace=True)\n",
    "hourly_new_tek_devices_df.rename(columns={\n",
    "    \"tek_list\": \"new_tek_devices\"}, inplace=True)\n",
    "hourly_new_tek_devices_df.tail()"
   ]
  },
  {
   "cell_type": "code",
   "execution_count": 19,
   "metadata": {
    "execution": {
     "iopub.execute_input": "2020-09-08T01:23:01.762361Z",
     "iopub.status.busy": "2020-09-08T01:23:01.761793Z",
     "iopub.status.idle": "2020-09-08T01:23:01.764277Z",
     "shell.execute_reply": "2020-09-08T01:23:01.764712Z"
    },
    "papermill": {
     "duration": 0.050241,
     "end_time": "2020-09-08T01:23:01.764864",
     "exception": false,
     "start_time": "2020-09-08T01:23:01.714623",
     "status": "completed"
    },
    "tags": []
   },
   "outputs": [
    {
     "data": {
      "text/html": [
       "<div>\n",
       "<style scoped>\n",
       "    .dataframe tbody tr th:only-of-type {\n",
       "        vertical-align: middle;\n",
       "    }\n",
       "\n",
       "    .dataframe tbody tr th {\n",
       "        vertical-align: top;\n",
       "    }\n",
       "\n",
       "    .dataframe thead th {\n",
       "        text-align: right;\n",
       "    }\n",
       "</style>\n",
       "<table border=\"1\" class=\"dataframe\">\n",
       "  <thead>\n",
       "    <tr style=\"text-align: right;\">\n",
       "      <th></th>\n",
       "      <th>extraction_date_with_hour</th>\n",
       "      <th>new_tek_count</th>\n",
       "      <th>new_tek_devices</th>\n",
       "    </tr>\n",
       "    <tr>\n",
       "      <th>datetime_utc</th>\n",
       "      <th></th>\n",
       "      <th></th>\n",
       "      <th></th>\n",
       "    </tr>\n",
       "  </thead>\n",
       "  <tbody>\n",
       "    <tr>\n",
       "      <th>2020-09-07 21:00:00</th>\n",
       "      <td>2020-09-07@21</td>\n",
       "      <td>0.0</td>\n",
       "      <td>0.0</td>\n",
       "    </tr>\n",
       "    <tr>\n",
       "      <th>2020-09-07 22:00:00</th>\n",
       "      <td>2020-09-07@22</td>\n",
       "      <td>0.0</td>\n",
       "      <td>0.0</td>\n",
       "    </tr>\n",
       "    <tr>\n",
       "      <th>2020-09-07 23:00:00</th>\n",
       "      <td>2020-09-07@23</td>\n",
       "      <td>0.0</td>\n",
       "      <td>0.0</td>\n",
       "    </tr>\n",
       "    <tr>\n",
       "      <th>2020-09-08 00:00:00</th>\n",
       "      <td>2020-09-08@00</td>\n",
       "      <td>0.0</td>\n",
       "      <td>NaN</td>\n",
       "    </tr>\n",
       "    <tr>\n",
       "      <th>2020-09-08 01:00:00</th>\n",
       "      <td>2020-09-08@01</td>\n",
       "      <td>0.0</td>\n",
       "      <td>NaN</td>\n",
       "    </tr>\n",
       "  </tbody>\n",
       "</table>\n",
       "</div>"
      ],
      "text/plain": [
       "                    extraction_date_with_hour  new_tek_count  new_tek_devices\n",
       "datetime_utc                                                                 \n",
       "2020-09-07 21:00:00             2020-09-07@21            0.0              0.0\n",
       "2020-09-07 22:00:00             2020-09-07@22            0.0              0.0\n",
       "2020-09-07 23:00:00             2020-09-07@23            0.0              0.0\n",
       "2020-09-08 00:00:00             2020-09-08@00            0.0              NaN\n",
       "2020-09-08 01:00:00             2020-09-08@01            0.0              NaN"
      ]
     },
     "execution_count": 19,
     "metadata": {},
     "output_type": "execute_result"
    }
   ],
   "source": [
    "hourly_summary_df = hourly_new_tek_df.merge(\n",
    "    hourly_new_tek_devices_df, on=[\"extraction_date_with_hour\"], how=\"outer\")\n",
    "hourly_summary_df[\"datetime_utc\"] = pd.to_datetime(\n",
    "    hourly_summary_df.extraction_date_with_hour, format=\"%Y-%m-%d@%H\")\n",
    "hourly_summary_df.set_index(\"datetime_utc\", inplace=True)\n",
    "hourly_summary_df.tail()"
   ]
  },
  {
   "cell_type": "markdown",
   "metadata": {
    "execution": {
     "iopub.execute_input": "2020-08-30T22:30:16.982353Z",
     "iopub.status.busy": "2020-08-30T22:30:16.981676Z",
     "iopub.status.idle": "2020-08-30T22:30:16.984837Z",
     "shell.execute_reply": "2020-08-30T22:30:16.985366Z"
    },
    "papermill": {
     "duration": 0.030502,
     "end_time": "2020-09-08T01:23:01.825912",
     "exception": false,
     "start_time": "2020-09-08T01:23:01.795410",
     "status": "completed"
    },
    "pycharm": {
     "name": "#%% md\n"
    },
    "tags": []
   },
   "source": [
    "### Data Merge"
   ]
  },
  {
   "cell_type": "code",
   "execution_count": 20,
   "metadata": {
    "execution": {
     "iopub.execute_input": "2020-09-08T01:23:01.897019Z",
     "iopub.status.busy": "2020-09-08T01:23:01.896477Z",
     "iopub.status.idle": "2020-09-08T01:23:01.904511Z",
     "shell.execute_reply": "2020-09-08T01:23:01.904064Z"
    },
    "papermill": {
     "duration": 0.048119,
     "end_time": "2020-09-08T01:23:01.904634",
     "exception": false,
     "start_time": "2020-09-08T01:23:01.856515",
     "status": "completed"
    },
    "pycharm": {
     "name": "#%%\n"
    },
    "tags": []
   },
   "outputs": [
    {
     "data": {
      "text/html": [
       "<div>\n",
       "<style scoped>\n",
       "    .dataframe tbody tr th:only-of-type {\n",
       "        vertical-align: middle;\n",
       "    }\n",
       "\n",
       "    .dataframe tbody tr th {\n",
       "        vertical-align: top;\n",
       "    }\n",
       "\n",
       "    .dataframe thead th {\n",
       "        text-align: right;\n",
       "    }\n",
       "</style>\n",
       "<table border=\"1\" class=\"dataframe\">\n",
       "  <thead>\n",
       "    <tr style=\"text-align: right;\">\n",
       "      <th></th>\n",
       "      <th>sample_date_string</th>\n",
       "      <th>tek_count</th>\n",
       "      <th>new_tek_count</th>\n",
       "    </tr>\n",
       "  </thead>\n",
       "  <tbody>\n",
       "    <tr>\n",
       "      <th>0</th>\n",
       "      <td>2020-09-06</td>\n",
       "      <td>22.0</td>\n",
       "      <td>60.0</td>\n",
       "    </tr>\n",
       "    <tr>\n",
       "      <th>1</th>\n",
       "      <td>2020-09-05</td>\n",
       "      <td>30.0</td>\n",
       "      <td>40.0</td>\n",
       "    </tr>\n",
       "    <tr>\n",
       "      <th>2</th>\n",
       "      <td>2020-09-04</td>\n",
       "      <td>35.0</td>\n",
       "      <td>58.0</td>\n",
       "    </tr>\n",
       "    <tr>\n",
       "      <th>3</th>\n",
       "      <td>2020-09-03</td>\n",
       "      <td>45.0</td>\n",
       "      <td>49.0</td>\n",
       "    </tr>\n",
       "    <tr>\n",
       "      <th>4</th>\n",
       "      <td>2020-09-02</td>\n",
       "      <td>52.0</td>\n",
       "      <td>57.0</td>\n",
       "    </tr>\n",
       "  </tbody>\n",
       "</table>\n",
       "</div>"
      ],
      "text/plain": [
       "  sample_date_string  tek_count  new_tek_count\n",
       "0         2020-09-06       22.0           60.0\n",
       "1         2020-09-05       30.0           40.0\n",
       "2         2020-09-04       35.0           58.0\n",
       "3         2020-09-03       45.0           49.0\n",
       "4         2020-09-02       52.0           57.0"
      ]
     },
     "execution_count": 20,
     "metadata": {},
     "output_type": "execute_result"
    }
   ],
   "source": [
    "result_summary_df = exposure_keys_summary_df.merge(new_tek_df, on=[\"sample_date_string\"], how=\"outer\")\n",
    "result_summary_df.head()"
   ]
  },
  {
   "cell_type": "code",
   "execution_count": 21,
   "metadata": {
    "execution": {
     "iopub.execute_input": "2020-09-08T01:23:01.976603Z",
     "iopub.status.busy": "2020-09-08T01:23:01.976057Z",
     "iopub.status.idle": "2020-09-08T01:23:01.984768Z",
     "shell.execute_reply": "2020-09-08T01:23:01.984296Z"
    },
    "papermill": {
     "duration": 0.049441,
     "end_time": "2020-09-08T01:23:01.984890",
     "exception": false,
     "start_time": "2020-09-08T01:23:01.935449",
     "status": "completed"
    },
    "tags": []
   },
   "outputs": [
    {
     "data": {
      "text/html": [
       "<div>\n",
       "<style scoped>\n",
       "    .dataframe tbody tr th:only-of-type {\n",
       "        vertical-align: middle;\n",
       "    }\n",
       "\n",
       "    .dataframe tbody tr th {\n",
       "        vertical-align: top;\n",
       "    }\n",
       "\n",
       "    .dataframe thead th {\n",
       "        text-align: right;\n",
       "    }\n",
       "</style>\n",
       "<table border=\"1\" class=\"dataframe\">\n",
       "  <thead>\n",
       "    <tr style=\"text-align: right;\">\n",
       "      <th></th>\n",
       "      <th>sample_date_string</th>\n",
       "      <th>tek_count</th>\n",
       "      <th>new_tek_count</th>\n",
       "      <th>new_tek_devices</th>\n",
       "    </tr>\n",
       "  </thead>\n",
       "  <tbody>\n",
       "    <tr>\n",
       "      <th>0</th>\n",
       "      <td>2020-09-06</td>\n",
       "      <td>22.0</td>\n",
       "      <td>60.0</td>\n",
       "      <td>24.0</td>\n",
       "    </tr>\n",
       "    <tr>\n",
       "      <th>1</th>\n",
       "      <td>2020-09-05</td>\n",
       "      <td>30.0</td>\n",
       "      <td>40.0</td>\n",
       "      <td>17.0</td>\n",
       "    </tr>\n",
       "    <tr>\n",
       "      <th>2</th>\n",
       "      <td>2020-09-04</td>\n",
       "      <td>35.0</td>\n",
       "      <td>58.0</td>\n",
       "      <td>20.0</td>\n",
       "    </tr>\n",
       "    <tr>\n",
       "      <th>3</th>\n",
       "      <td>2020-09-03</td>\n",
       "      <td>45.0</td>\n",
       "      <td>49.0</td>\n",
       "      <td>19.0</td>\n",
       "    </tr>\n",
       "    <tr>\n",
       "      <th>4</th>\n",
       "      <td>2020-09-02</td>\n",
       "      <td>52.0</td>\n",
       "      <td>57.0</td>\n",
       "      <td>14.0</td>\n",
       "    </tr>\n",
       "  </tbody>\n",
       "</table>\n",
       "</div>"
      ],
      "text/plain": [
       "  sample_date_string  tek_count  new_tek_count  new_tek_devices\n",
       "0         2020-09-06       22.0           60.0             24.0\n",
       "1         2020-09-05       30.0           40.0             17.0\n",
       "2         2020-09-04       35.0           58.0             20.0\n",
       "3         2020-09-03       45.0           49.0             19.0\n",
       "4         2020-09-02       52.0           57.0             14.0"
      ]
     },
     "execution_count": 21,
     "metadata": {},
     "output_type": "execute_result"
    }
   ],
   "source": [
    "result_summary_df = result_summary_df.merge(new_tek_devices_df, on=[\"sample_date_string\"], how=\"outer\")\n",
    "result_summary_df.head()"
   ]
  },
  {
   "cell_type": "code",
   "execution_count": 22,
   "metadata": {
    "execution": {
     "iopub.execute_input": "2020-09-08T01:23:02.053229Z",
     "iopub.status.busy": "2020-09-08T01:23:02.052685Z",
     "iopub.status.idle": "2020-09-08T01:23:02.066306Z",
     "shell.execute_reply": "2020-09-08T01:23:02.065839Z"
    },
    "papermill": {
     "duration": 0.050198,
     "end_time": "2020-09-08T01:23:02.066427",
     "exception": false,
     "start_time": "2020-09-08T01:23:02.016229",
     "status": "completed"
    },
    "pycharm": {
     "name": "#%%\n"
    },
    "tags": []
   },
   "outputs": [
    {
     "data": {
      "text/html": [
       "<div>\n",
       "<style scoped>\n",
       "    .dataframe tbody tr th:only-of-type {\n",
       "        vertical-align: middle;\n",
       "    }\n",
       "\n",
       "    .dataframe tbody tr th {\n",
       "        vertical-align: top;\n",
       "    }\n",
       "\n",
       "    .dataframe thead th {\n",
       "        text-align: right;\n",
       "    }\n",
       "</style>\n",
       "<table border=\"1\" class=\"dataframe\">\n",
       "  <thead>\n",
       "    <tr style=\"text-align: right;\">\n",
       "      <th></th>\n",
       "      <th>sample_date_string</th>\n",
       "      <th>tek_count</th>\n",
       "      <th>new_tek_count</th>\n",
       "      <th>new_tek_devices</th>\n",
       "      <th>cumulative_cases</th>\n",
       "      <th>new_cases</th>\n",
       "      <th>rolling_mean_new_cases</th>\n",
       "    </tr>\n",
       "  </thead>\n",
       "  <tbody>\n",
       "    <tr>\n",
       "      <th>0</th>\n",
       "      <td>2020-09-06</td>\n",
       "      <td>22.0</td>\n",
       "      <td>60.0</td>\n",
       "      <td>24.0</td>\n",
       "      <td>997978.0</td>\n",
       "      <td>0.0</td>\n",
       "      <td>17058.000000</td>\n",
       "    </tr>\n",
       "    <tr>\n",
       "      <th>1</th>\n",
       "      <td>2020-09-05</td>\n",
       "      <td>30.0</td>\n",
       "      <td>40.0</td>\n",
       "      <td>17.0</td>\n",
       "      <td>997978.0</td>\n",
       "      <td>0.0</td>\n",
       "      <td>17058.000000</td>\n",
       "    </tr>\n",
       "    <tr>\n",
       "      <th>2</th>\n",
       "      <td>2020-09-04</td>\n",
       "      <td>35.0</td>\n",
       "      <td>58.0</td>\n",
       "      <td>20.0</td>\n",
       "      <td>997978.0</td>\n",
       "      <td>20952.0</td>\n",
       "      <td>17058.000000</td>\n",
       "    </tr>\n",
       "    <tr>\n",
       "      <th>3</th>\n",
       "      <td>2020-09-03</td>\n",
       "      <td>45.0</td>\n",
       "      <td>49.0</td>\n",
       "      <td>19.0</td>\n",
       "      <td>977026.0</td>\n",
       "      <td>17918.0</td>\n",
       "      <td>16858.857143</td>\n",
       "    </tr>\n",
       "    <tr>\n",
       "      <th>4</th>\n",
       "      <td>2020-09-02</td>\n",
       "      <td>52.0</td>\n",
       "      <td>57.0</td>\n",
       "      <td>14.0</td>\n",
       "      <td>959108.0</td>\n",
       "      <td>17162.0</td>\n",
       "      <td>17058.571429</td>\n",
       "    </tr>\n",
       "  </tbody>\n",
       "</table>\n",
       "</div>"
      ],
      "text/plain": [
       "  sample_date_string  tek_count  new_tek_count  new_tek_devices  \\\n",
       "0         2020-09-06       22.0           60.0             24.0   \n",
       "1         2020-09-05       30.0           40.0             17.0   \n",
       "2         2020-09-04       35.0           58.0             20.0   \n",
       "3         2020-09-03       45.0           49.0             19.0   \n",
       "4         2020-09-02       52.0           57.0             14.0   \n",
       "\n",
       "   cumulative_cases  new_cases  rolling_mean_new_cases  \n",
       "0          997978.0        0.0            17058.000000  \n",
       "1          997978.0        0.0            17058.000000  \n",
       "2          997978.0    20952.0            17058.000000  \n",
       "3          977026.0    17918.0            16858.857143  \n",
       "4          959108.0    17162.0            17058.571429  "
      ]
     },
     "execution_count": 22,
     "metadata": {},
     "output_type": "execute_result"
    }
   ],
   "source": [
    "result_summary_df = result_summary_df.merge(confirmed_df, on=[\"sample_date_string\"], how=\"left\")\n",
    "result_summary_df.head()"
   ]
  },
  {
   "cell_type": "code",
   "execution_count": 23,
   "metadata": {
    "execution": {
     "iopub.execute_input": "2020-09-08T01:23:02.139971Z",
     "iopub.status.busy": "2020-09-08T01:23:02.139411Z",
     "iopub.status.idle": "2020-09-08T01:23:02.152482Z",
     "shell.execute_reply": "2020-09-08T01:23:02.152944Z"
    },
    "papermill": {
     "duration": 0.055113,
     "end_time": "2020-09-08T01:23:02.153095",
     "exception": false,
     "start_time": "2020-09-08T01:23:02.097982",
     "status": "completed"
    },
    "pycharm": {
     "name": "#%%\n"
    },
    "tags": []
   },
   "outputs": [
    {
     "data": {
      "text/html": [
       "<div>\n",
       "<style scoped>\n",
       "    .dataframe tbody tr th:only-of-type {\n",
       "        vertical-align: middle;\n",
       "    }\n",
       "\n",
       "    .dataframe tbody tr th {\n",
       "        vertical-align: top;\n",
       "    }\n",
       "\n",
       "    .dataframe thead th {\n",
       "        text-align: right;\n",
       "    }\n",
       "</style>\n",
       "<table border=\"1\" class=\"dataframe\">\n",
       "  <thead>\n",
       "    <tr style=\"text-align: right;\">\n",
       "      <th></th>\n",
       "      <th>sample_date_string</th>\n",
       "      <th>tek_count</th>\n",
       "      <th>new_tek_count</th>\n",
       "      <th>new_tek_devices</th>\n",
       "      <th>cumulative_cases</th>\n",
       "      <th>new_cases</th>\n",
       "      <th>rolling_mean_new_cases</th>\n",
       "      <th>tek_count_per_new_case</th>\n",
       "      <th>new_tek_count_per_new_case</th>\n",
       "      <th>new_tek_devices_per_new_case</th>\n",
       "      <th>new_tek_count_per_new_tek_device</th>\n",
       "    </tr>\n",
       "  </thead>\n",
       "  <tbody>\n",
       "    <tr>\n",
       "      <th>0</th>\n",
       "      <td>2020-09-06</td>\n",
       "      <td>22.0</td>\n",
       "      <td>60.0</td>\n",
       "      <td>24.0</td>\n",
       "      <td>997978.0</td>\n",
       "      <td>0.0</td>\n",
       "      <td>17058.000000</td>\n",
       "      <td>0.001290</td>\n",
       "      <td>0.003517</td>\n",
       "      <td>0.001407</td>\n",
       "      <td>2.500000</td>\n",
       "    </tr>\n",
       "    <tr>\n",
       "      <th>1</th>\n",
       "      <td>2020-09-05</td>\n",
       "      <td>30.0</td>\n",
       "      <td>40.0</td>\n",
       "      <td>17.0</td>\n",
       "      <td>997978.0</td>\n",
       "      <td>0.0</td>\n",
       "      <td>17058.000000</td>\n",
       "      <td>0.001759</td>\n",
       "      <td>0.002345</td>\n",
       "      <td>0.000997</td>\n",
       "      <td>2.352941</td>\n",
       "    </tr>\n",
       "    <tr>\n",
       "      <th>2</th>\n",
       "      <td>2020-09-04</td>\n",
       "      <td>35.0</td>\n",
       "      <td>58.0</td>\n",
       "      <td>20.0</td>\n",
       "      <td>997978.0</td>\n",
       "      <td>20952.0</td>\n",
       "      <td>17058.000000</td>\n",
       "      <td>0.002052</td>\n",
       "      <td>0.003400</td>\n",
       "      <td>0.001172</td>\n",
       "      <td>2.900000</td>\n",
       "    </tr>\n",
       "    <tr>\n",
       "      <th>3</th>\n",
       "      <td>2020-09-03</td>\n",
       "      <td>45.0</td>\n",
       "      <td>49.0</td>\n",
       "      <td>19.0</td>\n",
       "      <td>977026.0</td>\n",
       "      <td>17918.0</td>\n",
       "      <td>16858.857143</td>\n",
       "      <td>0.002669</td>\n",
       "      <td>0.002906</td>\n",
       "      <td>0.001127</td>\n",
       "      <td>2.578947</td>\n",
       "    </tr>\n",
       "    <tr>\n",
       "      <th>4</th>\n",
       "      <td>2020-09-02</td>\n",
       "      <td>52.0</td>\n",
       "      <td>57.0</td>\n",
       "      <td>14.0</td>\n",
       "      <td>959108.0</td>\n",
       "      <td>17162.0</td>\n",
       "      <td>17058.571429</td>\n",
       "      <td>0.003048</td>\n",
       "      <td>0.003341</td>\n",
       "      <td>0.000821</td>\n",
       "      <td>4.071429</td>\n",
       "    </tr>\n",
       "  </tbody>\n",
       "</table>\n",
       "</div>"
      ],
      "text/plain": [
       "  sample_date_string  tek_count  new_tek_count  new_tek_devices  \\\n",
       "0         2020-09-06       22.0           60.0             24.0   \n",
       "1         2020-09-05       30.0           40.0             17.0   \n",
       "2         2020-09-04       35.0           58.0             20.0   \n",
       "3         2020-09-03       45.0           49.0             19.0   \n",
       "4         2020-09-02       52.0           57.0             14.0   \n",
       "\n",
       "   cumulative_cases  new_cases  rolling_mean_new_cases  \\\n",
       "0          997978.0        0.0            17058.000000   \n",
       "1          997978.0        0.0            17058.000000   \n",
       "2          997978.0    20952.0            17058.000000   \n",
       "3          977026.0    17918.0            16858.857143   \n",
       "4          959108.0    17162.0            17058.571429   \n",
       "\n",
       "   tek_count_per_new_case  new_tek_count_per_new_case  \\\n",
       "0                0.001290                    0.003517   \n",
       "1                0.001759                    0.002345   \n",
       "2                0.002052                    0.003400   \n",
       "3                0.002669                    0.002906   \n",
       "4                0.003048                    0.003341   \n",
       "\n",
       "   new_tek_devices_per_new_case  new_tek_count_per_new_tek_device  \n",
       "0                      0.001407                          2.500000  \n",
       "1                      0.000997                          2.352941  \n",
       "2                      0.001172                          2.900000  \n",
       "3                      0.001127                          2.578947  \n",
       "4                      0.000821                          4.071429  "
      ]
     },
     "execution_count": 23,
     "metadata": {},
     "output_type": "execute_result"
    }
   ],
   "source": [
    "result_summary_df[\"tek_count_per_new_case\"] = \\\n",
    "    result_summary_df.tek_count / result_summary_df.rolling_mean_new_cases\n",
    "result_summary_df[\"new_tek_count_per_new_case\"] = \\\n",
    "    result_summary_df.new_tek_count / result_summary_df.rolling_mean_new_cases\n",
    "result_summary_df[\"new_tek_devices_per_new_case\"] = \\\n",
    "    result_summary_df.new_tek_devices / result_summary_df.rolling_mean_new_cases\n",
    "result_summary_df[\"new_tek_count_per_new_tek_device\"] = \\\n",
    "    result_summary_df.new_tek_count / result_summary_df.new_tek_devices\n",
    "result_summary_df.head()"
   ]
  },
  {
   "cell_type": "code",
   "execution_count": 24,
   "metadata": {
    "execution": {
     "iopub.execute_input": "2020-09-08T01:23:02.226899Z",
     "iopub.status.busy": "2020-09-08T01:23:02.226332Z",
     "iopub.status.idle": "2020-09-08T01:23:02.230437Z",
     "shell.execute_reply": "2020-09-08T01:23:02.229977Z"
    },
    "papermill": {
     "duration": 0.045185,
     "end_time": "2020-09-08T01:23:02.230565",
     "exception": false,
     "start_time": "2020-09-08T01:23:02.185380",
     "status": "completed"
    },
    "pycharm": {
     "name": "#%%\n"
    },
    "tags": []
   },
   "outputs": [],
   "source": [
    "result_summary_df[\"sample_date\"] = pd.to_datetime(result_summary_df.sample_date_string)\n",
    "result_summary_df.set_index(\"sample_date\", inplace=True)\n",
    "result_summary_df = result_summary_df.sort_index(ascending=False)"
   ]
  },
  {
   "cell_type": "markdown",
   "metadata": {
    "execution": {
     "iopub.execute_input": "2020-08-30T22:30:17.313260Z",
     "iopub.status.busy": "2020-08-30T22:30:17.312584Z",
     "iopub.status.idle": "2020-08-30T22:30:17.317571Z",
     "shell.execute_reply": "2020-08-30T22:30:17.316929Z"
    },
    "papermill": {
     "duration": 0.032032,
     "end_time": "2020-09-08T01:23:02.294621",
     "exception": false,
     "start_time": "2020-09-08T01:23:02.262589",
     "status": "completed"
    },
    "pycharm": {
     "name": "#%% md\n"
    },
    "tags": []
   },
   "source": [
    "## Report Results\n"
   ]
  },
  {
   "cell_type": "markdown",
   "metadata": {
    "papermill": {
     "duration": 0.031818,
     "end_time": "2020-09-08T01:23:02.358233",
     "exception": false,
     "start_time": "2020-09-08T01:23:02.326415",
     "status": "completed"
    },
    "tags": []
   },
   "source": [
    "### Summary Table"
   ]
  },
  {
   "cell_type": "code",
   "execution_count": 25,
   "metadata": {
    "execution": {
     "iopub.execute_input": "2020-09-08T01:23:02.440404Z",
     "iopub.status.busy": "2020-09-08T01:23:02.439850Z",
     "iopub.status.idle": "2020-09-08T01:23:02.443382Z",
     "shell.execute_reply": "2020-09-08T01:23:02.442885Z"
    },
    "papermill": {
     "duration": 0.053347,
     "end_time": "2020-09-08T01:23:02.443509",
     "exception": false,
     "start_time": "2020-09-08T01:23:02.390162",
     "status": "completed"
    },
    "tags": []
   },
   "outputs": [
    {
     "data": {
      "text/html": [
       "<div>\n",
       "<style scoped>\n",
       "    .dataframe tbody tr th:only-of-type {\n",
       "        vertical-align: middle;\n",
       "    }\n",
       "\n",
       "    .dataframe tbody tr th {\n",
       "        vertical-align: top;\n",
       "    }\n",
       "\n",
       "    .dataframe thead th {\n",
       "        text-align: right;\n",
       "    }\n",
       "</style>\n",
       "<table border=\"1\" class=\"dataframe\">\n",
       "  <thead>\n",
       "    <tr style=\"text-align: right;\">\n",
       "      <th></th>\n",
       "      <th>tek_count</th>\n",
       "      <th>new_tek_count</th>\n",
       "      <th>new_cases</th>\n",
       "      <th>rolling_mean_new_cases</th>\n",
       "      <th>tek_count_per_new_case</th>\n",
       "      <th>new_tek_count_per_new_case</th>\n",
       "      <th>new_tek_devices</th>\n",
       "      <th>new_tek_devices_per_new_case</th>\n",
       "      <th>new_tek_count_per_new_tek_device</th>\n",
       "    </tr>\n",
       "    <tr>\n",
       "      <th>sample_date</th>\n",
       "      <th></th>\n",
       "      <th></th>\n",
       "      <th></th>\n",
       "      <th></th>\n",
       "      <th></th>\n",
       "      <th></th>\n",
       "      <th></th>\n",
       "      <th></th>\n",
       "      <th></th>\n",
       "    </tr>\n",
       "  </thead>\n",
       "  <tbody>\n",
       "    <tr>\n",
       "      <th>2020-09-08</th>\n",
       "      <td>NaN</td>\n",
       "      <td>0.0</td>\n",
       "      <td>17911.714286</td>\n",
       "      <td>17911.714286</td>\n",
       "      <td>NaN</td>\n",
       "      <td>0.000000</td>\n",
       "      <td>NaN</td>\n",
       "      <td>NaN</td>\n",
       "      <td>NaN</td>\n",
       "    </tr>\n",
       "    <tr>\n",
       "      <th>2020-09-07</th>\n",
       "      <td>NaN</td>\n",
       "      <td>52.0</td>\n",
       "      <td>53120.000000</td>\n",
       "      <td>17911.714286</td>\n",
       "      <td>NaN</td>\n",
       "      <td>0.002903</td>\n",
       "      <td>22.0</td>\n",
       "      <td>0.001228</td>\n",
       "      <td>2.363636</td>\n",
       "    </tr>\n",
       "    <tr>\n",
       "      <th>2020-09-06</th>\n",
       "      <td>22.0</td>\n",
       "      <td>60.0</td>\n",
       "      <td>0.000000</td>\n",
       "      <td>17058.000000</td>\n",
       "      <td>0.001290</td>\n",
       "      <td>0.003517</td>\n",
       "      <td>24.0</td>\n",
       "      <td>0.001407</td>\n",
       "      <td>2.500000</td>\n",
       "    </tr>\n",
       "    <tr>\n",
       "      <th>2020-09-05</th>\n",
       "      <td>30.0</td>\n",
       "      <td>40.0</td>\n",
       "      <td>0.000000</td>\n",
       "      <td>17058.000000</td>\n",
       "      <td>0.001759</td>\n",
       "      <td>0.002345</td>\n",
       "      <td>17.0</td>\n",
       "      <td>0.000997</td>\n",
       "      <td>2.352941</td>\n",
       "    </tr>\n",
       "    <tr>\n",
       "      <th>2020-09-04</th>\n",
       "      <td>35.0</td>\n",
       "      <td>58.0</td>\n",
       "      <td>20952.000000</td>\n",
       "      <td>17058.000000</td>\n",
       "      <td>0.002052</td>\n",
       "      <td>0.003400</td>\n",
       "      <td>20.0</td>\n",
       "      <td>0.001172</td>\n",
       "      <td>2.900000</td>\n",
       "    </tr>\n",
       "    <tr>\n",
       "      <th>2020-09-03</th>\n",
       "      <td>45.0</td>\n",
       "      <td>49.0</td>\n",
       "      <td>17918.000000</td>\n",
       "      <td>16858.857143</td>\n",
       "      <td>0.002669</td>\n",
       "      <td>0.002906</td>\n",
       "      <td>19.0</td>\n",
       "      <td>0.001127</td>\n",
       "      <td>2.578947</td>\n",
       "    </tr>\n",
       "    <tr>\n",
       "      <th>2020-09-02</th>\n",
       "      <td>52.0</td>\n",
       "      <td>57.0</td>\n",
       "      <td>17162.000000</td>\n",
       "      <td>17058.571429</td>\n",
       "      <td>0.003048</td>\n",
       "      <td>0.003341</td>\n",
       "      <td>14.0</td>\n",
       "      <td>0.000821</td>\n",
       "      <td>4.071429</td>\n",
       "    </tr>\n",
       "    <tr>\n",
       "      <th>2020-09-01</th>\n",
       "      <td>46.0</td>\n",
       "      <td>39.0</td>\n",
       "      <td>16230.000000</td>\n",
       "      <td>16691.428571</td>\n",
       "      <td>0.002756</td>\n",
       "      <td>0.002337</td>\n",
       "      <td>14.0</td>\n",
       "      <td>0.000839</td>\n",
       "      <td>2.785714</td>\n",
       "    </tr>\n",
       "    <tr>\n",
       "      <th>2020-08-31</th>\n",
       "      <td>47.0</td>\n",
       "      <td>63.0</td>\n",
       "      <td>47144.000000</td>\n",
       "      <td>16406.285714</td>\n",
       "      <td>0.002865</td>\n",
       "      <td>0.003840</td>\n",
       "      <td>25.0</td>\n",
       "      <td>0.001524</td>\n",
       "      <td>2.520000</td>\n",
       "    </tr>\n",
       "    <tr>\n",
       "      <th>2020-08-30</th>\n",
       "      <td>59.0</td>\n",
       "      <td>29.0</td>\n",
       "      <td>0.000000</td>\n",
       "      <td>15209.142857</td>\n",
       "      <td>0.003879</td>\n",
       "      <td>0.001907</td>\n",
       "      <td>16.0</td>\n",
       "      <td>0.001052</td>\n",
       "      <td>1.812500</td>\n",
       "    </tr>\n",
       "    <tr>\n",
       "      <th>2020-08-29</th>\n",
       "      <td>49.0</td>\n",
       "      <td>NaN</td>\n",
       "      <td>0.000000</td>\n",
       "      <td>15209.142857</td>\n",
       "      <td>0.003222</td>\n",
       "      <td>NaN</td>\n",
       "      <td>27.0</td>\n",
       "      <td>0.001775</td>\n",
       "      <td>NaN</td>\n",
       "    </tr>\n",
       "    <tr>\n",
       "      <th>2020-08-28</th>\n",
       "      <td>59.0</td>\n",
       "      <td>NaN</td>\n",
       "      <td>19558.000000</td>\n",
       "      <td>15209.142857</td>\n",
       "      <td>0.003879</td>\n",
       "      <td>NaN</td>\n",
       "      <td>NaN</td>\n",
       "      <td>NaN</td>\n",
       "      <td>NaN</td>\n",
       "    </tr>\n",
       "    <tr>\n",
       "      <th>2020-08-27</th>\n",
       "      <td>72.0</td>\n",
       "      <td>NaN</td>\n",
       "      <td>19316.000000</td>\n",
       "      <td>14743.142857</td>\n",
       "      <td>0.004884</td>\n",
       "      <td>NaN</td>\n",
       "      <td>NaN</td>\n",
       "      <td>NaN</td>\n",
       "      <td>NaN</td>\n",
       "    </tr>\n",
       "    <tr>\n",
       "      <th>2020-08-26</th>\n",
       "      <td>75.0</td>\n",
       "      <td>NaN</td>\n",
       "      <td>14592.000000</td>\n",
       "      <td>13994.857143</td>\n",
       "      <td>0.005359</td>\n",
       "      <td>NaN</td>\n",
       "      <td>NaN</td>\n",
       "      <td>NaN</td>\n",
       "      <td>NaN</td>\n",
       "    </tr>\n",
       "  </tbody>\n",
       "</table>\n",
       "</div>"
      ],
      "text/plain": [
       "             tek_count  new_tek_count     new_cases  rolling_mean_new_cases  \\\n",
       "sample_date                                                                   \n",
       "2020-09-08         NaN            0.0  17911.714286            17911.714286   \n",
       "2020-09-07         NaN           52.0  53120.000000            17911.714286   \n",
       "2020-09-06        22.0           60.0      0.000000            17058.000000   \n",
       "2020-09-05        30.0           40.0      0.000000            17058.000000   \n",
       "2020-09-04        35.0           58.0  20952.000000            17058.000000   \n",
       "2020-09-03        45.0           49.0  17918.000000            16858.857143   \n",
       "2020-09-02        52.0           57.0  17162.000000            17058.571429   \n",
       "2020-09-01        46.0           39.0  16230.000000            16691.428571   \n",
       "2020-08-31        47.0           63.0  47144.000000            16406.285714   \n",
       "2020-08-30        59.0           29.0      0.000000            15209.142857   \n",
       "2020-08-29        49.0            NaN      0.000000            15209.142857   \n",
       "2020-08-28        59.0            NaN  19558.000000            15209.142857   \n",
       "2020-08-27        72.0            NaN  19316.000000            14743.142857   \n",
       "2020-08-26        75.0            NaN  14592.000000            13994.857143   \n",
       "\n",
       "             tek_count_per_new_case  new_tek_count_per_new_case  \\\n",
       "sample_date                                                       \n",
       "2020-09-08                      NaN                    0.000000   \n",
       "2020-09-07                      NaN                    0.002903   \n",
       "2020-09-06                 0.001290                    0.003517   \n",
       "2020-09-05                 0.001759                    0.002345   \n",
       "2020-09-04                 0.002052                    0.003400   \n",
       "2020-09-03                 0.002669                    0.002906   \n",
       "2020-09-02                 0.003048                    0.003341   \n",
       "2020-09-01                 0.002756                    0.002337   \n",
       "2020-08-31                 0.002865                    0.003840   \n",
       "2020-08-30                 0.003879                    0.001907   \n",
       "2020-08-29                 0.003222                         NaN   \n",
       "2020-08-28                 0.003879                         NaN   \n",
       "2020-08-27                 0.004884                         NaN   \n",
       "2020-08-26                 0.005359                         NaN   \n",
       "\n",
       "             new_tek_devices  new_tek_devices_per_new_case  \\\n",
       "sample_date                                                  \n",
       "2020-09-08               NaN                           NaN   \n",
       "2020-09-07              22.0                      0.001228   \n",
       "2020-09-06              24.0                      0.001407   \n",
       "2020-09-05              17.0                      0.000997   \n",
       "2020-09-04              20.0                      0.001172   \n",
       "2020-09-03              19.0                      0.001127   \n",
       "2020-09-02              14.0                      0.000821   \n",
       "2020-09-01              14.0                      0.000839   \n",
       "2020-08-31              25.0                      0.001524   \n",
       "2020-08-30              16.0                      0.001052   \n",
       "2020-08-29              27.0                      0.001775   \n",
       "2020-08-28               NaN                           NaN   \n",
       "2020-08-27               NaN                           NaN   \n",
       "2020-08-26               NaN                           NaN   \n",
       "\n",
       "             new_tek_count_per_new_tek_device  \n",
       "sample_date                                    \n",
       "2020-09-08                                NaN  \n",
       "2020-09-07                           2.363636  \n",
       "2020-09-06                           2.500000  \n",
       "2020-09-05                           2.352941  \n",
       "2020-09-04                           2.900000  \n",
       "2020-09-03                           2.578947  \n",
       "2020-09-02                           4.071429  \n",
       "2020-09-01                           2.785714  \n",
       "2020-08-31                           2.520000  \n",
       "2020-08-30                           1.812500  \n",
       "2020-08-29                                NaN  \n",
       "2020-08-28                                NaN  \n",
       "2020-08-27                                NaN  \n",
       "2020-08-26                                NaN  "
      ]
     },
     "execution_count": 25,
     "metadata": {},
     "output_type": "execute_result"
    }
   ],
   "source": [
    "result_summary_df_ = result_summary_df.copy()\n",
    "result_summary_df = result_summary_df[[\n",
    "    \"tek_count\",\n",
    "    \"new_tek_count\",\n",
    "    \"new_cases\",\n",
    "    \"rolling_mean_new_cases\",\n",
    "    \"tek_count_per_new_case\",\n",
    "    \"new_tek_count_per_new_case\",\n",
    "    \"new_tek_devices\",\n",
    "    \"new_tek_devices_per_new_case\",\n",
    "    \"new_tek_count_per_new_tek_device\"]]\n",
    "result_summary_df"
   ]
  },
  {
   "cell_type": "markdown",
   "metadata": {
    "papermill": {
     "duration": 0.032564,
     "end_time": "2020-09-08T01:23:02.508871",
     "exception": false,
     "start_time": "2020-09-08T01:23:02.476307",
     "status": "completed"
    },
    "tags": []
   },
   "source": [
    "### Summary Plots"
   ]
  },
  {
   "cell_type": "code",
   "execution_count": 26,
   "metadata": {
    "execution": {
     "iopub.execute_input": "2020-09-08T01:23:02.639346Z",
     "iopub.status.busy": "2020-09-08T01:23:02.611375Z",
     "iopub.status.idle": "2020-09-08T01:23:03.732169Z",
     "shell.execute_reply": "2020-09-08T01:23:03.732606Z"
    },
    "papermill": {
     "duration": 1.191545,
     "end_time": "2020-09-08T01:23:03.732763",
     "exception": false,
     "start_time": "2020-09-08T01:23:02.541218",
     "status": "completed"
    },
    "scrolled": false,
    "tags": []
   },
   "outputs": [
    {
     "data": {
      "image/png": "[encoded data removed]",
      "text/plain": [
       "<Figure size 1080x1584 with 6 Axes>"
      ]
     },
     "metadata": {},
     "output_type": "display_data"
    }
   ],
   "source": [
    "summary_ax_list = result_summary_df[[\n",
    "    \"rolling_mean_new_cases\",\n",
    "    \"tek_count\",\n",
    "    \"new_tek_count\",\n",
    "    \"new_tek_devices\",\n",
    "    \"new_tek_count_per_new_tek_device\",\n",
    "    \"new_tek_devices_per_new_case\"\n",
    "]].sort_index(ascending=True).plot.bar(\n",
    "    title=\"Summary\", rot=45, subplots=True, figsize=(15, 22))\n",
    "summary_ax_list[-1].yaxis.set_major_formatter(matplotlib.ticker.PercentFormatter(1.0))"
   ]
  },
  {
   "cell_type": "markdown",
   "metadata": {
    "papermill": {
     "duration": 0.035449,
     "end_time": "2020-09-08T01:23:03.804047",
     "exception": false,
     "start_time": "2020-09-08T01:23:03.768598",
     "status": "completed"
    },
    "tags": []
   },
   "source": [
    "### Hourly Summary Plots "
   ]
  },
  {
   "cell_type": "code",
   "execution_count": 27,
   "metadata": {
    "execution": {
     "iopub.execute_input": "2020-09-08T01:23:03.920340Z",
     "iopub.status.busy": "2020-09-08T01:23:03.916818Z",
     "iopub.status.idle": "2020-09-08T01:23:04.370798Z",
     "shell.execute_reply": "2020-09-08T01:23:04.371352Z"
    },
    "papermill": {
     "duration": 0.532804,
     "end_time": "2020-09-08T01:23:04.371513",
     "exception": false,
     "start_time": "2020-09-08T01:23:03.838709",
     "status": "completed"
    },
    "pycharm": {
     "name": "#%%\n"
    },
    "tags": []
   },
   "outputs": [
    {
     "data": {
      "image/png": "[encoded data removed]",
      "text/plain": [
       "<Figure size 1080x432 with 2 Axes>"
      ]
     },
     "metadata": {},
     "output_type": "display_data"
    }
   ],
   "source": [
    "hourly_summary_ax_list = hourly_summary_df.plot.bar(\n",
    "    title=\"Last 24h Summary\", rot=45, subplots=True)"
   ]
  },
  {
   "cell_type": "markdown",
   "metadata": {
    "papermill": {
     "duration": 0.036641,
     "end_time": "2020-09-08T01:23:04.444811",
     "exception": false,
     "start_time": "2020-09-08T01:23:04.408170",
     "status": "completed"
    },
    "tags": []
   },
   "source": [
    "### Publish Results"
   ]
  },
  {
   "cell_type": "code",
   "execution_count": 28,
   "metadata": {
    "execution": {
     "iopub.execute_input": "2020-09-08T01:23:04.531937Z",
     "iopub.status.busy": "2020-09-08T01:23:04.531357Z",
     "iopub.status.idle": "2020-09-08T01:23:16.541345Z",
     "shell.execute_reply": "2020-09-08T01:23:16.541819Z"
    },
    "papermill": {
     "duration": 12.060624,
     "end_time": "2020-09-08T01:23:16.541980",
     "exception": false,
     "start_time": "2020-09-08T01:23:04.481356",
     "status": "completed"
    },
    "pycharm": {
     "name": "#%%\n"
    },
    "tags": []
   },
   "outputs": [],
   "source": [
    "def get_temporary_image_path() -> str:\n",
    "    return os.path.join(tempfile.gettempdir(), str(uuid.uuid4()) + \".png\")\n",
    "\n",
    "def save_temporary_plot_image(ax):\n",
    "    if isinstance(ax, np.ndarray):\n",
    "        ax = ax[0]\n",
    "    media_path = get_temporary_image_path()\n",
    "    ax.get_figure().savefig(media_path)\n",
    "    return media_path\n",
    "\n",
    "def save_temporary_dataframe_image(df):\n",
    "    media_path = get_temporary_image_path()\n",
    "    dfi.export(df, media_path)\n",
    "    return media_path\n",
    "\n",
    "summary_plots_image_path = save_temporary_plot_image(ax=summary_ax_list)\n",
    "summary_table_image_path = save_temporary_dataframe_image(df=result_summary_df)\n",
    "hourly_summary_plots_image_path = save_temporary_plot_image(ax=hourly_summary_ax_list)"
   ]
  },
  {
   "cell_type": "markdown",
   "metadata": {
    "papermill": {
     "duration": 0.035836,
     "end_time": "2020-09-08T01:23:16.614960",
     "exception": false,
     "start_time": "2020-09-08T01:23:16.579124",
     "status": "completed"
    },
    "tags": []
   },
   "source": [
    "### Save Results"
   ]
  },
  {
   "cell_type": "code",
   "execution_count": 29,
   "metadata": {
    "execution": {
     "iopub.execute_input": "2020-09-08T01:23:16.693869Z",
     "iopub.status.busy": "2020-09-08T01:23:16.693300Z",
     "iopub.status.idle": "2020-09-08T01:23:16.704205Z",
     "shell.execute_reply": "2020-09-08T01:23:16.703630Z"
    },
    "papermill": {
     "duration": 0.053649,
     "end_time": "2020-09-08T01:23:16.704328",
     "exception": false,
     "start_time": "2020-09-08T01:23:16.650679",
     "status": "completed"
    },
    "pycharm": {
     "name": "#%%\n"
    },
    "tags": []
   },
   "outputs": [],
   "source": [
    "report_resources_path_prefix = \"Data/Resources/Current/RadarCOVID-Report-\"\n",
    "result_summary_df.to_csv(report_resources_path_prefix + \"Summary-Table.csv\")\n",
    "result_summary_df.to_html(report_resources_path_prefix + \"Summary-Table.html\")\n",
    "_ = shutil.copyfile(summary_plots_image_path, report_resources_path_prefix + \"Summary-Plots.png\")\n",
    "_ = shutil.copyfile(summary_table_image_path, report_resources_path_prefix + \"Summary-Table.png\")\n",
    "_ = shutil.copyfile(hourly_summary_plots_image_path, report_resources_path_prefix + \"Hourly-Summary-Plots.png\")\n",
    "\n",
    "report_daily_url_pattern = \\\n",
    "    \"https://github.com/pvieito/RadarCOVID-Report/blob/master/Notebooks/\" \\\n",
    "    \"RadarCOVID-Report/{report_type}/RadarCOVID-Report-{report_date}.ipynb\"\n",
    "report_daily_url = report_daily_url_pattern.format(\n",
    "    report_type=\"Daily\", report_date=extraction_date)\n",
    "report_hourly_url = report_daily_url_pattern.format(\n",
    "    report_type=\"Hourly\", report_date=extraction_date_with_hour)"
   ]
  },
  {
   "cell_type": "markdown",
   "metadata": {
    "papermill": {
     "duration": 0.03594,
     "end_time": "2020-09-08T01:23:16.777397",
     "exception": false,
     "start_time": "2020-09-08T01:23:16.741457",
     "status": "completed"
    },
    "tags": []
   },
   "source": [
    "### Publish on README"
   ]
  },
  {
   "cell_type": "code",
   "execution_count": 30,
   "metadata": {
    "execution": {
     "iopub.execute_input": "2020-09-08T01:23:16.860356Z",
     "iopub.status.busy": "2020-09-08T01:23:16.858820Z",
     "iopub.status.idle": "2020-09-08T01:23:16.863663Z",
     "shell.execute_reply": "2020-09-08T01:23:16.863163Z"
    },
    "papermill": {
     "duration": 0.050462,
     "end_time": "2020-09-08T01:23:16.863782",
     "exception": false,
     "start_time": "2020-09-08T01:23:16.813320",
     "status": "completed"
    },
    "pycharm": {
     "name": "#%%\n"
    },
    "tags": []
   },
   "outputs": [],
   "source": [
    "with open(\"Data/Templates/README.md\", \"r\") as f:\n",
    "    readme_contents = f.read()\n",
    "\n",
    "summary_table_html = result_summary_df.to_html()\n",
    "readme_contents = readme_contents.format(\n",
    "    summary_table_html=summary_table_html,\n",
    "    report_url_with_hour=report_hourly_url,\n",
    "    extraction_date_with_hour=extraction_date_with_hour)\n",
    "\n",
    "with open(\"README.md\", \"w\") as f:\n",
    "    f.write(readme_contents)"
   ]
  },
  {
   "cell_type": "markdown",
   "metadata": {
    "papermill": {
     "duration": 0.035643,
     "end_time": "2020-09-08T01:23:16.935597",
     "exception": false,
     "start_time": "2020-09-08T01:23:16.899954",
     "status": "completed"
    },
    "pycharm": {
     "name": "#%% md\n"
    },
    "tags": []
   },
   "source": [
    "### Publish on Twitter"
   ]
  },
  {
   "cell_type": "code",
   "execution_count": 31,
   "metadata": {
    "execution": {
     "iopub.execute_input": "2020-09-08T01:23:17.018385Z",
     "iopub.status.busy": "2020-09-08T01:23:17.015586Z",
     "iopub.status.idle": "2020-09-08T01:23:19.246346Z",
     "shell.execute_reply": "2020-09-08T01:23:19.245174Z"
    },
    "papermill": {
     "duration": 2.274923,
     "end_time": "2020-09-08T01:23:19.246475",
     "exception": false,
     "start_time": "2020-09-08T01:23:16.971552",
     "status": "completed"
    },
    "pycharm": {
     "name": "#%%\n"
    },
    "tags": []
   },
   "outputs": [],
   "source": [
    "enable_share_to_twitter = os.environ.get(\"RADARCOVID_REPORT__ENABLE_PUBLISH_ON_TWITTER\")\n",
    "github_event_name = os.environ.get(\"GITHUB_EVENT_NAME\")\n",
    "\n",
    "if enable_share_to_twitter and github_event_name == \"schedule\":\n",
    "    import tweepy\n",
    "\n",
    "    twitter_api_auth_keys = os.environ[\"RADARCOVID_REPORT__TWITTER_API_AUTH_KEYS\"]\n",
    "    twitter_api_auth_keys = twitter_api_auth_keys.split(\":\")\n",
    "    auth = tweepy.OAuthHandler(twitter_api_auth_keys[0], twitter_api_auth_keys[1])\n",
    "    auth.set_access_token(twitter_api_auth_keys[2], twitter_api_auth_keys[3])\n",
    "\n",
    "    api = tweepy.API(auth)\n",
    "\n",
    "    summary_plots_media = api.media_upload(summary_plots_image_path)\n",
    "    summary_table_media = api.media_upload(summary_table_image_path)\n",
    "    hourly_summary_plots_media = api.media_upload(hourly_summary_plots_image_path)\n",
    "    media_ids = [\n",
    "        summary_plots_media.media_id,\n",
    "        summary_table_media.media_id,\n",
    "        hourly_summary_plots_media.media_id,\n",
    "    ]\n",
    "\n",
    "    extraction_date_result_summary_df = \\\n",
    "        result_summary_df[result_summary_df.index == extraction_date]\n",
    "    extraction_date_result_hourly_summary_df = \\\n",
    "        hourly_summary_df[hourly_summary_df.extraction_date_with_hour == extraction_date_with_hour]\n",
    "\n",
    "    new_teks = extraction_date_result_summary_df.new_tek_count.sum().astype(int)\n",
    "    new_teks_last_hour = extraction_date_result_hourly_summary_df.new_tek_count.sum().astype(int)\n",
    "    new_devices = extraction_date_result_summary_df.new_tek_devices.sum().astype(int)\n",
    "    new_devices_last_hour = extraction_date_result_hourly_summary_df.new_tek_devices.sum().astype(int)\n",
    "    new_tek_count_per_new_tek_device = \\\n",
    "        extraction_date_result_summary_df.new_tek_count_per_new_tek_device.sum()\n",
    "    new_tek_devices_per_new_case = \\\n",
    "        extraction_date_result_summary_df.new_tek_devices_per_new_case.sum()\n",
    "\n",
    "    status = textwrap.dedent(f\"\"\"\n",
    "        Report Update – {extraction_date_with_hour}\n",
    "        #ExposureNotification #RadarCOVID\n",
    "\n",
    "        Shared Diagnoses Day Summary:\n",
    "        - New TEKs: {new_teks} ({new_teks_last_hour:+d} last hour)\n",
    "        - New Devices: {new_devices} ({new_devices_last_hour:+d} last hour, {new_tek_count_per_new_tek_device:.2} TEKs/device)\n",
    "        - Usage Ratio: {new_tek_devices_per_new_case:.2%} devices/case\n",
    "\n",
    "        Report Link: {report_hourly_url}\n",
    "        \"\"\")\n",
    "    status = status.encode(encoding=\"utf-8\")\n",
    "    api.update_status(status=status, media_ids=media_ids)"
   ]
  }
 ],
 "metadata": {
  "kernelspec": {
   "display_name": "Python 3",
   "language": "python",
   "name": "python3"
  },
  "language_info": {
   "codemirror_mode": {
    "name": "ipython",
    "version": 3
   },
   "file_extension": ".py",
   "mimetype": "text/x-python",
   "name": "python",
   "nbconvert_exporter": "python",
   "pygments_lexer": "ipython3",
   "version": "3.8.5"
  },
  "papermill": {
   "duration": 25.99882,
   "end_time": "2020-09-08T01:23:19.791853",
   "environment_variables": {},
   "exception": null,
   "input_path": "Notebooks/RadarCOVID-Report/Source/RadarCOVID-Report.ipynb",
   "output_path": "RadarCOVID-Report.ipynb",
   "parameters": {},
   "start_time": "2020-09-08T01:22:53.793033",
   "version": "2.1.3"
  }
 },
 "nbformat": 4,
 "nbformat_minor": 1
}