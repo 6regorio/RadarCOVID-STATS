{
 "cells": [
  {
   "cell_type": "markdown",
   "metadata": {
    "papermill": {
     "duration": 0.029667,
     "end_time": "2020-09-20T20:20:46.429083",
     "exception": false,
     "start_time": "2020-09-20T20:20:46.399416",
     "status": "completed"
    },
    "pycharm": {
     "name": "#%% md\n"
    },
    "tags": []
   },
   "source": [
    "# RadarCOVID-Report"
   ]
  },
  {
   "cell_type": "markdown",
   "metadata": {
    "collapsed": true,
    "papermill": {
     "duration": 0.029375,
     "end_time": "2020-09-20T20:20:46.487346",
     "exception": false,
     "start_time": "2020-09-20T20:20:46.457971",
     "status": "completed"
    },
    "pycharm": {
     "name": "#%% md\n"
    },
    "tags": []
   },
   "source": [
    "## Data Extraction"
   ]
  },
  {
   "cell_type": "code",
   "execution_count": 1,
   "metadata": {
    "execution": {
     "iopub.execute_input": "2020-09-20T20:20:46.555639Z",
     "iopub.status.busy": "2020-09-20T20:20:46.554540Z",
     "iopub.status.idle": "2020-09-20T20:20:49.773536Z",
     "shell.execute_reply": "2020-09-20T20:20:49.773993Z"
    },
    "papermill": {
     "duration": 3.257478,
     "end_time": "2020-09-20T20:20:49.774272",
     "exception": false,
     "start_time": "2020-09-20T20:20:46.516794",
     "status": "completed"
    },
    "pycharm": {
     "name": "#%%\n"
    },
    "tags": []
   },
   "outputs": [],
   "source": [
    "import datetime\n",
    "import logging\n",
    "import os\n",
    "import shutil\n",
    "import tempfile\n",
    "import textwrap\n",
    "import uuid\n",
    "\n",
    "import dataframe_image as dfi\n",
    "import matplotlib.ticker\n",
    "import numpy as np\n",
    "import pandas as pd\n",
    "import seaborn as sns\n",
    "\n",
    "%matplotlib inline"
   ]
  },
  {
   "cell_type": "code",
   "execution_count": 2,
   "metadata": {
    "collapsed": false,
    "execution": {
     "iopub.execute_input": "2020-09-20T20:20:49.852568Z",
     "iopub.status.busy": "2020-09-20T20:20:49.851897Z",
     "iopub.status.idle": "2020-09-20T20:20:49.856743Z",
     "shell.execute_reply": "2020-09-20T20:20:49.856227Z"
    },
    "papermill": {
     "duration": 0.051109,
     "end_time": "2020-09-20T20:20:49.856869",
     "exception": false,
     "start_time": "2020-09-20T20:20:49.805760",
     "status": "completed"
    },
    "pycharm": {
     "name": "#%%\n"
    },
    "tags": []
   },
   "outputs": [],
   "source": [
    "current_working_directory = os.environ.get(\"PWD\")\n",
    "if current_working_directory:\n",
    "    os.chdir(current_working_directory)\n",
    "\n",
    "sns.set()\n",
    "matplotlib.rcParams['figure.figsize'] = (15, 6)\n",
    "\n",
    "extraction_datetime = datetime.datetime.utcnow()\n",
    "extraction_date = extraction_datetime.strftime(\"%Y-%m-%d\")\n",
    "extraction_previous_datetime = extraction_datetime - datetime.timedelta(days=1)\n",
    "extraction_previous_date = extraction_previous_datetime.strftime(\"%Y-%m-%d\")\n",
    "extraction_date_with_hour = datetime.datetime.utcnow().strftime(\"%Y-%m-%d@%H\")"
   ]
  },
  {
   "cell_type": "markdown",
   "metadata": {
    "papermill": {
     "duration": 0.027285,
     "end_time": "2020-09-20T20:20:49.912057",
     "exception": false,
     "start_time": "2020-09-20T20:20:49.884772",
     "status": "completed"
    },
    "tags": []
   },
   "source": [
    "### COVID-19 Cases"
   ]
  },
  {
   "cell_type": "code",
   "execution_count": 3,
   "metadata": {
    "execution": {
     "iopub.execute_input": "2020-09-20T20:20:49.982687Z",
     "iopub.status.busy": "2020-09-20T20:20:49.981942Z",
     "iopub.status.idle": "2020-09-20T20:20:50.481540Z",
     "shell.execute_reply": "2020-09-20T20:20:50.480446Z"
    },
    "papermill": {
     "duration": 0.536353,
     "end_time": "2020-09-20T20:20:50.481687",
     "exception": false,
     "start_time": "2020-09-20T20:20:49.945334",
     "status": "completed"
    },
    "pycharm": {
     "name": "#%%\n"
    },
    "tags": []
   },
   "outputs": [],
   "source": [
    "spain_region_country_name = \"Spain\"\n",
    "spain_region_country_code = \"ES\"\n",
    "\n",
    "confirmed_df = pd.read_csv(\"https://covid19tracking.narrativa.com/csv/confirmed.csv\")\n",
    "\n",
    "radar_covid_countries = {spain_region_country_name}\n",
    "# radar_covid_regions = { ... }\n",
    "\n",
    "confirmed_df = confirmed_df[confirmed_df[\"Country_EN\"].isin(radar_covid_countries)]\n",
    "# confirmed_df = confirmed_df[confirmed_df[\"Region\"].isin(radar_covid_regions)]\n",
    "# set(confirmed_df.Region.tolist()) == radar_covid_regions"
   ]
  },
  {
   "cell_type": "code",
   "execution_count": 4,
   "metadata": {
    "collapsed": false,
    "execution": {
     "iopub.execute_input": "2020-09-20T20:20:50.550518Z",
     "iopub.status.busy": "2020-09-20T20:20:50.549872Z",
     "iopub.status.idle": "2020-09-20T20:20:50.556275Z",
     "shell.execute_reply": "2020-09-20T20:20:50.556770Z"
    },
    "papermill": {
     "duration": 0.046103,
     "end_time": "2020-09-20T20:20:50.556921",
     "exception": false,
     "start_time": "2020-09-20T20:20:50.510818",
     "status": "completed"
    },
    "pycharm": {
     "name": "#%%\n"
    },
    "tags": []
   },
   "outputs": [
    {
     "data": {
      "text/html": [
       "<div>\n",
       "<style scoped>\n",
       "    .dataframe tbody tr th:only-of-type {\n",
       "        vertical-align: middle;\n",
       "    }\n",
       "\n",
       "    .dataframe tbody tr th {\n",
       "        vertical-align: top;\n",
       "    }\n",
       "\n",
       "    .dataframe thead th {\n",
       "        text-align: right;\n",
       "    }\n",
       "</style>\n",
       "<table border=\"1\" class=\"dataframe\">\n",
       "  <thead>\n",
       "    <tr style=\"text-align: right;\">\n",
       "      <th></th>\n",
       "      <th>0</th>\n",
       "    </tr>\n",
       "  </thead>\n",
       "  <tbody>\n",
       "    <tr>\n",
       "      <th>2020-09-15</th>\n",
       "      <td>1206334.0</td>\n",
       "    </tr>\n",
       "    <tr>\n",
       "      <th>2020-09-16</th>\n",
       "      <td>1228720.0</td>\n",
       "    </tr>\n",
       "    <tr>\n",
       "      <th>2020-09-17</th>\n",
       "      <td>1251302.0</td>\n",
       "    </tr>\n",
       "    <tr>\n",
       "      <th>2020-09-18</th>\n",
       "      <td>1280080.0</td>\n",
       "    </tr>\n",
       "    <tr>\n",
       "      <th>2020-09-19</th>\n",
       "      <td>1280080.0</td>\n",
       "    </tr>\n",
       "  </tbody>\n",
       "</table>\n",
       "</div>"
      ],
      "text/plain": [
       "                    0\n",
       "2020-09-15  1206334.0\n",
       "2020-09-16  1228720.0\n",
       "2020-09-17  1251302.0\n",
       "2020-09-18  1280080.0\n",
       "2020-09-19  1280080.0"
      ]
     },
     "execution_count": 4,
     "metadata": {},
     "output_type": "execute_result"
    }
   ],
   "source": [
    "confirmed_country_columns = list(filter(lambda x: x.startswith(\"Country_\"), confirmed_df.columns))\n",
    "confirmed_regional_columns = confirmed_country_columns + [\"Region\"]\n",
    "confirmed_df.drop(columns=confirmed_regional_columns, inplace=True)\n",
    "confirmed_df = confirmed_df.sum().to_frame()\n",
    "confirmed_df.tail()"
   ]
  },
  {
   "cell_type": "code",
   "execution_count": 5,
   "metadata": {
    "collapsed": false,
    "execution": {
     "iopub.execute_input": "2020-09-20T20:20:50.638596Z",
     "iopub.status.busy": "2020-09-20T20:20:50.637785Z",
     "iopub.status.idle": "2020-09-20T20:20:50.642500Z",
     "shell.execute_reply": "2020-09-20T20:20:50.641583Z"
    },
    "papermill": {
     "duration": 0.048215,
     "end_time": "2020-09-20T20:20:50.642668",
     "exception": false,
     "start_time": "2020-09-20T20:20:50.594453",
     "status": "completed"
    },
    "pycharm": {
     "name": "#%%\n"
    },
    "tags": []
   },
   "outputs": [
    {
     "data": {
      "text/html": [
       "<div>\n",
       "<style scoped>\n",
       "    .dataframe tbody tr th:only-of-type {\n",
       "        vertical-align: middle;\n",
       "    }\n",
       "\n",
       "    .dataframe tbody tr th {\n",
       "        vertical-align: top;\n",
       "    }\n",
       "\n",
       "    .dataframe thead th {\n",
       "        text-align: right;\n",
       "    }\n",
       "</style>\n",
       "<table border=\"1\" class=\"dataframe\">\n",
       "  <thead>\n",
       "    <tr style=\"text-align: right;\">\n",
       "      <th></th>\n",
       "      <th>sample_date_string</th>\n",
       "      <th>cumulative_cases</th>\n",
       "      <th>new_cases</th>\n",
       "      <th>rolling_mean_new_cases</th>\n",
       "    </tr>\n",
       "  </thead>\n",
       "  <tbody>\n",
       "    <tr>\n",
       "      <th>236</th>\n",
       "      <td>2020-09-15</td>\n",
       "      <td>1206334.0</td>\n",
       "      <td>18874.0</td>\n",
       "      <td>19615.0</td>\n",
       "    </tr>\n",
       "    <tr>\n",
       "      <th>237</th>\n",
       "      <td>2020-09-16</td>\n",
       "      <td>1228720.0</td>\n",
       "      <td>22386.0</td>\n",
       "      <td>20280.0</td>\n",
       "    </tr>\n",
       "    <tr>\n",
       "      <th>238</th>\n",
       "      <td>2020-09-17</td>\n",
       "      <td>1251302.0</td>\n",
       "      <td>22582.0</td>\n",
       "      <td>20431.0</td>\n",
       "    </tr>\n",
       "    <tr>\n",
       "      <th>239</th>\n",
       "      <td>2020-09-18</td>\n",
       "      <td>1280080.0</td>\n",
       "      <td>28778.0</td>\n",
       "      <td>21061.0</td>\n",
       "    </tr>\n",
       "    <tr>\n",
       "      <th>240</th>\n",
       "      <td>2020-09-19</td>\n",
       "      <td>1280080.0</td>\n",
       "      <td>0.0</td>\n",
       "      <td>21061.0</td>\n",
       "    </tr>\n",
       "  </tbody>\n",
       "</table>\n",
       "</div>"
      ],
      "text/plain": [
       "    sample_date_string  cumulative_cases  new_cases  rolling_mean_new_cases\n",
       "236         2020-09-15         1206334.0    18874.0                 19615.0\n",
       "237         2020-09-16         1228720.0    22386.0                 20280.0\n",
       "238         2020-09-17         1251302.0    22582.0                 20431.0\n",
       "239         2020-09-18         1280080.0    28778.0                 21061.0\n",
       "240         2020-09-19         1280080.0        0.0                 21061.0"
      ]
     },
     "execution_count": 5,
     "metadata": {},
     "output_type": "execute_result"
    }
   ],
   "source": [
    "confirmed_df.reset_index(inplace=True)\n",
    "confirmed_df.columns = [\"sample_date_string\", \"cumulative_cases\"]\n",
    "confirmed_df.sort_values(\"sample_date_string\", inplace=True)\n",
    "confirmed_df[\"new_cases\"] = confirmed_df.cumulative_cases.diff()\n",
    "confirmed_df[\"rolling_mean_new_cases\"] = confirmed_df.new_cases.rolling(7).mean().round()\n",
    "confirmed_df.tail()"
   ]
  },
  {
   "cell_type": "code",
   "execution_count": 6,
   "metadata": {
    "execution": {
     "iopub.execute_input": "2020-09-20T20:20:50.716188Z",
     "iopub.status.busy": "2020-09-20T20:20:50.707058Z",
     "iopub.status.idle": "2020-09-20T20:20:50.719804Z",
     "shell.execute_reply": "2020-09-20T20:20:50.719238Z"
    },
    "papermill": {
     "duration": 0.049035,
     "end_time": "2020-09-20T20:20:50.719912",
     "exception": false,
     "start_time": "2020-09-20T20:20:50.670877",
     "status": "completed"
    },
    "pycharm": {
     "name": "#%%\n"
    },
    "tags": []
   },
   "outputs": [
    {
     "data": {
      "text/html": [
       "<div>\n",
       "<style scoped>\n",
       "    .dataframe tbody tr th:only-of-type {\n",
       "        vertical-align: middle;\n",
       "    }\n",
       "\n",
       "    .dataframe tbody tr th {\n",
       "        vertical-align: top;\n",
       "    }\n",
       "\n",
       "    .dataframe thead th {\n",
       "        text-align: right;\n",
       "    }\n",
       "</style>\n",
       "<table border=\"1\" class=\"dataframe\">\n",
       "  <thead>\n",
       "    <tr style=\"text-align: right;\">\n",
       "      <th></th>\n",
       "      <th>sample_date_string</th>\n",
       "      <th>cumulative_cases</th>\n",
       "      <th>new_cases</th>\n",
       "      <th>rolling_mean_new_cases</th>\n",
       "    </tr>\n",
       "  </thead>\n",
       "  <tbody>\n",
       "    <tr>\n",
       "      <th>237</th>\n",
       "      <td>2020-09-16</td>\n",
       "      <td>1228720.0</td>\n",
       "      <td>22386.0</td>\n",
       "      <td>20280.0</td>\n",
       "    </tr>\n",
       "    <tr>\n",
       "      <th>238</th>\n",
       "      <td>2020-09-17</td>\n",
       "      <td>1251302.0</td>\n",
       "      <td>22582.0</td>\n",
       "      <td>20431.0</td>\n",
       "    </tr>\n",
       "    <tr>\n",
       "      <th>239</th>\n",
       "      <td>2020-09-18</td>\n",
       "      <td>1280080.0</td>\n",
       "      <td>28778.0</td>\n",
       "      <td>21061.0</td>\n",
       "    </tr>\n",
       "    <tr>\n",
       "      <th>240</th>\n",
       "      <td>2020-09-19</td>\n",
       "      <td>1280080.0</td>\n",
       "      <td>0.0</td>\n",
       "      <td>21061.0</td>\n",
       "    </tr>\n",
       "    <tr>\n",
       "      <th>240</th>\n",
       "      <td>2020-09-20</td>\n",
       "      <td>1301141.0</td>\n",
       "      <td>21061.0</td>\n",
       "      <td>21061.0</td>\n",
       "    </tr>\n",
       "  </tbody>\n",
       "</table>\n",
       "</div>"
      ],
      "text/plain": [
       "    sample_date_string  cumulative_cases  new_cases  rolling_mean_new_cases\n",
       "237         2020-09-16         1228720.0    22386.0                 20280.0\n",
       "238         2020-09-17         1251302.0    22582.0                 20431.0\n",
       "239         2020-09-18         1280080.0    28778.0                 21061.0\n",
       "240         2020-09-19         1280080.0        0.0                 21061.0\n",
       "240         2020-09-20         1301141.0    21061.0                 21061.0"
      ]
     },
     "execution_count": 6,
     "metadata": {},
     "output_type": "execute_result"
    }
   ],
   "source": [
    "extraction_date_confirmed_df = \\\n",
    "    confirmed_df[confirmed_df.sample_date_string == extraction_date]\n",
    "extraction_previous_date_confirmed_df = \\\n",
    "    confirmed_df[confirmed_df.sample_date_string == extraction_previous_date].copy()\n",
    "\n",
    "if extraction_date_confirmed_df.empty and \\\n",
    "    not extraction_previous_date_confirmed_df.empty:\n",
    "        extraction_previous_date_confirmed_df[\"sample_date_string\"] = extraction_date\n",
    "        extraction_previous_date_confirmed_df[\"new_cases\"] = \\\n",
    "            extraction_previous_date_confirmed_df.rolling_mean_new_cases\n",
    "        extraction_previous_date_confirmed_df[\"cumulative_cases\"] = \\\n",
    "            extraction_previous_date_confirmed_df.new_cases + \\\n",
    "            extraction_previous_date_confirmed_df.cumulative_cases\n",
    "        confirmed_df = confirmed_df.append(extraction_previous_date_confirmed_df)\n",
    "        \n",
    "confirmed_df.tail()"
   ]
  },
  {
   "cell_type": "code",
   "execution_count": 7,
   "metadata": {
    "execution": {
     "iopub.execute_input": "2020-09-20T20:20:50.787021Z",
     "iopub.status.busy": "2020-09-20T20:20:50.786253Z",
     "iopub.status.idle": "2020-09-20T20:20:51.019811Z",
     "shell.execute_reply": "2020-09-20T20:20:51.020430Z"
    },
    "papermill": {
     "duration": 0.272522,
     "end_time": "2020-09-20T20:20:51.020617",
     "exception": false,
     "start_time": "2020-09-20T20:20:50.748095",
     "status": "completed"
    },
    "pycharm": {
     "name": "#%%\n"
    },
    "tags": []
   },
   "outputs": [
    {
     "data": {
      "text/plain": [
       "<matplotlib.axes._subplots.AxesSubplot at 0x7feeb6e13490>"
      ]
     },
     "execution_count": 7,
     "metadata": {},
     "output_type": "execute_result"
    },
    {
     "data": {
      "image/png": "[encoded data removed]",
      "text/plain": [
       "<Figure size 1080x432 with 1 Axes>"
      ]
     },
     "metadata": {},
     "output_type": "display_data"
    }
   ],
   "source": [
    "confirmed_df[[\"new_cases\", \"rolling_mean_new_cases\"]].plot()"
   ]
  },
  {
   "cell_type": "markdown",
   "metadata": {
    "execution": {
     "iopub.execute_input": "2020-08-30T22:30:16.351238Z",
     "iopub.status.busy": "2020-08-30T22:30:16.344579Z",
     "iopub.status.idle": "2020-08-30T22:30:16.354285Z",
     "shell.execute_reply": "2020-08-30T22:30:16.353641Z"
    },
    "papermill": {
     "duration": 0.031504,
     "end_time": "2020-09-20T20:20:51.083944",
     "exception": false,
     "start_time": "2020-09-20T20:20:51.052440",
     "status": "completed"
    },
    "pycharm": {
     "name": "#%% md\n"
    },
    "tags": []
   },
   "source": [
    "### Extract API TEKs"
   ]
  },
  {
   "cell_type": "code",
   "execution_count": 8,
   "metadata": {
    "execution": {
     "iopub.execute_input": "2020-09-20T20:20:51.151686Z",
     "iopub.status.busy": "2020-09-20T20:20:51.151010Z",
     "iopub.status.idle": "2020-09-20T20:20:53.028491Z",
     "shell.execute_reply": "2020-09-20T20:20:53.028910Z"
    },
    "papermill": {
     "duration": 1.915279,
     "end_time": "2020-09-20T20:20:53.029075",
     "exception": false,
     "start_time": "2020-09-20T20:20:51.113796",
     "status": "completed"
    },
    "pycharm": {
     "name": "#%%\n"
    },
    "tags": []
   },
   "outputs": [
    {
     "name": "stderr",
     "output_type": "stream",
     "text": [
      "WARNING:root:NoDataFoundForDateException(\"No TEKs found for day '2020-09-20'.\")\n"
     ]
    },
    {
     "name": "stderr",
     "output_type": "stream",
     "text": [
      "WARNING:root:Unexpected key 'key_rolling_period': 38400s (expected: 86400s)\n"
     ]
    },
    {
     "name": "stderr",
     "output_type": "stream",
     "text": [
      "WARNING:root:Unexpected key 'key_rolling_period': 23400s (expected: 86400s)\n"
     ]
    },
    {
     "name": "stderr",
     "output_type": "stream",
     "text": [
      "WARNING:root:Unexpected key 'key_rolling_period': 53400s (expected: 86400s)\n"
     ]
    },
    {
     "name": "stderr",
     "output_type": "stream",
     "text": [
      "WARNING:root:Unexpected key 'key_rolling_period': 48600s (expected: 86400s)\n"
     ]
    },
    {
     "data": {
      "text/html": [
       "<div>\n",
       "<style scoped>\n",
       "    .dataframe tbody tr th:only-of-type {\n",
       "        vertical-align: middle;\n",
       "    }\n",
       "\n",
       "    .dataframe tbody tr th {\n",
       "        vertical-align: top;\n",
       "    }\n",
       "\n",
       "    .dataframe thead th {\n",
       "        text-align: right;\n",
       "    }\n",
       "</style>\n",
       "<table border=\"1\" class=\"dataframe\">\n",
       "  <thead>\n",
       "    <tr style=\"text-align: right;\">\n",
       "      <th></th>\n",
       "      <th>sample_date_string</th>\n",
       "      <th>source_url</th>\n",
       "      <th>region</th>\n",
       "      <th>key_data</th>\n",
       "    </tr>\n",
       "  </thead>\n",
       "  <tbody>\n",
       "    <tr>\n",
       "      <th>0</th>\n",
       "      <td>2020-09-19</td>\n",
       "      <td>https://radarcovid.covid19.gob.es/dp3t/v1/gaen...</td>\n",
       "      <td>ES</td>\n",
       "      <td>2d12869d-b69c-f1cd-75e3-dba1932b0fdd</td>\n",
       "    </tr>\n",
       "    <tr>\n",
       "      <th>1</th>\n",
       "      <td>2020-09-19</td>\n",
       "      <td>https://radarcovid.covid19.gob.es/dp3t/v1/gaen...</td>\n",
       "      <td>ES</td>\n",
       "      <td>f44a46a2-4ae2-84a2-dbb4-c55530816c5f</td>\n",
       "    </tr>\n",
       "    <tr>\n",
       "      <th>2</th>\n",
       "      <td>2020-09-19</td>\n",
       "      <td>https://radarcovid.covid19.gob.es/dp3t/v1/gaen...</td>\n",
       "      <td>ES</td>\n",
       "      <td>8d9a9521-d368-e684-bb55-d5748346d191</td>\n",
       "    </tr>\n",
       "    <tr>\n",
       "      <th>3</th>\n",
       "      <td>2020-09-19</td>\n",
       "      <td>https://radarcovid.covid19.gob.es/dp3t/v1/gaen...</td>\n",
       "      <td>ES</td>\n",
       "      <td>897f5e7f-b69d-129d-b040-fcdb8d794562</td>\n",
       "    </tr>\n",
       "    <tr>\n",
       "      <th>4</th>\n",
       "      <td>2020-09-19</td>\n",
       "      <td>https://radarcovid.covid19.gob.es/dp3t/v1/gaen...</td>\n",
       "      <td>ES</td>\n",
       "      <td>82af0145-9b44-9f91-43ce-9394f47822f8</td>\n",
       "    </tr>\n",
       "  </tbody>\n",
       "</table>\n",
       "</div>"
      ],
      "text/plain": [
       "  sample_date_string                                         source_url  \\\n",
       "0         2020-09-19  https://radarcovid.covid19.gob.es/dp3t/v1/gaen...   \n",
       "1         2020-09-19  https://radarcovid.covid19.gob.es/dp3t/v1/gaen...   \n",
       "2         2020-09-19  https://radarcovid.covid19.gob.es/dp3t/v1/gaen...   \n",
       "3         2020-09-19  https://radarcovid.covid19.gob.es/dp3t/v1/gaen...   \n",
       "4         2020-09-19  https://radarcovid.covid19.gob.es/dp3t/v1/gaen...   \n",
       "\n",
       "  region                              key_data  \n",
       "0     ES  2d12869d-b69c-f1cd-75e3-dba1932b0fdd  \n",
       "1     ES  f44a46a2-4ae2-84a2-dbb4-c55530816c5f  \n",
       "2     ES  8d9a9521-d368-e684-bb55-d5748346d191  \n",
       "3     ES  897f5e7f-b69d-129d-b040-fcdb8d794562  \n",
       "4     ES  82af0145-9b44-9f91-43ce-9394f47822f8  "
      ]
     },
     "execution_count": 8,
     "metadata": {},
     "output_type": "execute_result"
    }
   ],
   "source": [
    "from Modules.RadarCOVID import radar_covid\n",
    "\n",
    "raw_zip_paths = [\n",
    "    \"Data/TEKs/Raw/Current/RadarCOVID-TEKs-{sample_date}.zip\",\n",
    "    f\"Data/TEKs/Raw/Daily/{extraction_date}/RadarCOVID-TEKs-{{sample_date}}.zip\",\n",
    "    f\"Data/TEKs/Raw/Hourly/{extraction_date_with_hour}/RadarCOVID-TEKs-{{sample_date}}.zip\",\n",
    "]\n",
    "\n",
    "multi_region_exposure_keys_df = \\\n",
    "    radar_covid.download_last_radar_covid_exposure_keys(\n",
    "        days=14, save_raw_zip_path=raw_zip_paths)\n",
    "multi_region_exposure_keys_df = multi_region_exposure_keys_df[[\n",
    "    \"sample_date_string\", \"source_url\", \"region\", \"key_data\"]]\n",
    "multi_region_exposure_keys_df.head()"
   ]
  },
  {
   "cell_type": "code",
   "execution_count": 9,
   "metadata": {
    "collapsed": false,
    "execution": {
     "iopub.execute_input": "2020-09-20T20:20:53.104178Z",
     "iopub.status.busy": "2020-09-20T20:20:53.103524Z",
     "iopub.status.idle": "2020-09-20T20:20:53.106222Z",
     "shell.execute_reply": "2020-09-20T20:20:53.106824Z"
    },
    "papermill": {
     "duration": 0.045558,
     "end_time": "2020-09-20T20:20:53.106966",
     "exception": false,
     "start_time": "2020-09-20T20:20:53.061408",
     "status": "completed"
    },
    "pycharm": {
     "name": "#%%\n"
    },
    "tags": []
   },
   "outputs": [
    {
     "data": {
      "text/plain": [
       "['ES']"
      ]
     },
     "execution_count": 9,
     "metadata": {},
     "output_type": "execute_result"
    }
   ],
   "source": [
    "active_regions = \\\n",
    "    multi_region_exposure_keys_df.groupby(\"region\").key_data.nunique().sort_values().index.unique().tolist()\n",
    "active_regions"
   ]
  },
  {
   "cell_type": "code",
   "execution_count": 10,
   "metadata": {
    "collapsed": false,
    "execution": {
     "iopub.execute_input": "2020-09-20T20:20:53.177898Z",
     "iopub.status.busy": "2020-09-20T20:20:53.177355Z",
     "iopub.status.idle": "2020-09-20T20:20:53.197693Z",
     "shell.execute_reply": "2020-09-20T20:20:53.198195Z"
    },
    "papermill": {
     "duration": 0.05874,
     "end_time": "2020-09-20T20:20:53.198330",
     "exception": false,
     "start_time": "2020-09-20T20:20:53.139590",
     "status": "completed"
    },
    "pycharm": {
     "name": "#%%\n"
    },
    "tags": []
   },
   "outputs": [
    {
     "data": {
      "text/html": [
       "<div>\n",
       "<style scoped>\n",
       "    .dataframe tbody tr th:only-of-type {\n",
       "        vertical-align: middle;\n",
       "    }\n",
       "\n",
       "    .dataframe tbody tr th {\n",
       "        vertical-align: top;\n",
       "    }\n",
       "\n",
       "    .dataframe thead tr th {\n",
       "        text-align: left;\n",
       "    }\n",
       "\n",
       "    .dataframe thead tr:last-of-type th {\n",
       "        text-align: right;\n",
       "    }\n",
       "</style>\n",
       "<table border=\"1\" class=\"dataframe\">\n",
       "  <thead>\n",
       "    <tr>\n",
       "      <th></th>\n",
       "      <th>tek_count</th>\n",
       "    </tr>\n",
       "    <tr>\n",
       "      <th>region</th>\n",
       "      <th>ES</th>\n",
       "    </tr>\n",
       "    <tr>\n",
       "      <th>sample_date_string</th>\n",
       "      <th></th>\n",
       "    </tr>\n",
       "  </thead>\n",
       "  <tbody>\n",
       "    <tr>\n",
       "      <th>2020-09-19</th>\n",
       "      <td>46</td>\n",
       "    </tr>\n",
       "    <tr>\n",
       "      <th>2020-09-18</th>\n",
       "      <td>60</td>\n",
       "    </tr>\n",
       "    <tr>\n",
       "      <th>2020-09-17</th>\n",
       "      <td>80</td>\n",
       "    </tr>\n",
       "    <tr>\n",
       "      <th>2020-09-16</th>\n",
       "      <td>84</td>\n",
       "    </tr>\n",
       "    <tr>\n",
       "      <th>2020-09-15</th>\n",
       "      <td>81</td>\n",
       "    </tr>\n",
       "  </tbody>\n",
       "</table>\n",
       "</div>"
      ],
      "text/plain": [
       "                   tek_count\n",
       "region                    ES\n",
       "sample_date_string          \n",
       "2020-09-19                46\n",
       "2020-09-18                60\n",
       "2020-09-17                80\n",
       "2020-09-16                84\n",
       "2020-09-15                81"
      ]
     },
     "execution_count": 10,
     "metadata": {},
     "output_type": "execute_result"
    }
   ],
   "source": [
    "multi_region_summary_df = multi_region_exposure_keys_df.groupby(\n",
    "    [\"sample_date_string\", \"region\"]).key_data.nunique().reset_index() \\\n",
    "    .pivot(index=\"sample_date_string\", columns=\"region\") \\\n",
    "    .sort_index(ascending=False)\n",
    "multi_region_summary_df.rename(columns={\"key_data\": \"tek_count\"}, inplace=True)\n",
    "multi_region_summary_df.head()"
   ]
  },
  {
   "cell_type": "code",
   "execution_count": 11,
   "metadata": {
    "collapsed": false,
    "execution": {
     "iopub.execute_input": "2020-09-20T20:20:53.274101Z",
     "iopub.status.busy": "2020-09-20T20:20:53.273538Z",
     "iopub.status.idle": "2020-09-20T20:20:53.276698Z",
     "shell.execute_reply": "2020-09-20T20:20:53.276270Z"
    },
    "papermill": {
     "duration": 0.044055,
     "end_time": "2020-09-20T20:20:53.276813",
     "exception": false,
     "start_time": "2020-09-20T20:20:53.232758",
     "status": "completed"
    },
    "pycharm": {
     "name": "#%%\n"
    },
    "tags": []
   },
   "outputs": [
    {
     "data": {
      "text/plain": [
       "[]"
      ]
     },
     "execution_count": 11,
     "metadata": {},
     "output_type": "execute_result"
    }
   ],
   "source": [
    "multi_region_without_spain_exposure_keys_df = \\\n",
    "    multi_region_exposure_keys_df[multi_region_exposure_keys_df.region != spain_region_country_code]\n",
    "active_regions_excluding_spain = \\\n",
    "    multi_region_without_spain_exposure_keys_df.groupby(\"region\").key_data.nunique().sort_values().index.unique().tolist()\n",
    "active_regions_excluding_spain\n"
   ]
  },
  {
   "cell_type": "code",
   "execution_count": 12,
   "metadata": {
    "execution": {
     "iopub.execute_input": "2020-09-20T20:20:53.351745Z",
     "iopub.status.busy": "2020-09-20T20:20:53.351030Z",
     "iopub.status.idle": "2020-09-20T20:20:53.366094Z",
     "shell.execute_reply": "2020-09-20T20:20:53.366706Z"
    },
    "papermill": {
     "duration": 0.05738,
     "end_time": "2020-09-20T20:20:53.366906",
     "exception": false,
     "start_time": "2020-09-20T20:20:53.309526",
     "status": "completed"
    },
    "scrolled": false,
    "tags": []
   },
   "outputs": [
    {
     "data": {
      "text/html": [
       "<div>\n",
       "<style scoped>\n",
       "    .dataframe tbody tr th:only-of-type {\n",
       "        vertical-align: middle;\n",
       "    }\n",
       "\n",
       "    .dataframe tbody tr th {\n",
       "        vertical-align: top;\n",
       "    }\n",
       "\n",
       "    .dataframe thead th {\n",
       "        text-align: right;\n",
       "    }\n",
       "</style>\n",
       "<table border=\"1\" class=\"dataframe\">\n",
       "  <thead>\n",
       "    <tr style=\"text-align: right;\">\n",
       "      <th></th>\n",
       "      <th>tek_count</th>\n",
       "    </tr>\n",
       "    <tr>\n",
       "      <th>sample_date_string</th>\n",
       "      <th></th>\n",
       "    </tr>\n",
       "  </thead>\n",
       "  <tbody>\n",
       "    <tr>\n",
       "      <th>2020-09-19</th>\n",
       "      <td>46</td>\n",
       "    </tr>\n",
       "    <tr>\n",
       "      <th>2020-09-18</th>\n",
       "      <td>60</td>\n",
       "    </tr>\n",
       "    <tr>\n",
       "      <th>2020-09-17</th>\n",
       "      <td>80</td>\n",
       "    </tr>\n",
       "    <tr>\n",
       "      <th>2020-09-16</th>\n",
       "      <td>84</td>\n",
       "    </tr>\n",
       "    <tr>\n",
       "      <th>2020-09-15</th>\n",
       "      <td>81</td>\n",
       "    </tr>\n",
       "  </tbody>\n",
       "</table>\n",
       "</div>"
      ],
      "text/plain": [
       "                    tek_count\n",
       "sample_date_string           \n",
       "2020-09-19                 46\n",
       "2020-09-18                 60\n",
       "2020-09-17                 80\n",
       "2020-09-16                 84\n",
       "2020-09-15                 81"
      ]
     },
     "execution_count": 12,
     "metadata": {},
     "output_type": "execute_result"
    }
   ],
   "source": [
    "exposure_keys_summary_df = multi_region_exposure_keys_df[\n",
    "    multi_region_exposure_keys_df.region == spain_region_country_code]\n",
    "exposure_keys_summary_df.drop(columns=[\"region\"], inplace=True)\n",
    "exposure_keys_summary_df = \\\n",
    "    exposure_keys_summary_df.groupby([\"sample_date_string\"]).key_data.nunique().to_frame()\n",
    "exposure_keys_summary_df = \\\n",
    "    exposure_keys_summary_df.reset_index().set_index(\"sample_date_string\")\n",
    "exposure_keys_summary_df.sort_index(ascending=False, inplace=True)\n",
    "exposure_keys_summary_df.rename(columns={\"key_data\": \"tek_count\"}, inplace=True)\n",
    "exposure_keys_summary_df.head()"
   ]
  },
  {
   "cell_type": "markdown",
   "metadata": {
    "papermill": {
     "duration": 0.033453,
     "end_time": "2020-09-20T20:20:53.434727",
     "exception": false,
     "start_time": "2020-09-20T20:20:53.401274",
     "status": "completed"
    },
    "tags": []
   },
   "source": [
    "### Dump API TEKs"
   ]
  },
  {
   "cell_type": "code",
   "execution_count": 13,
   "metadata": {
    "execution": {
     "iopub.execute_input": "2020-09-20T20:20:53.516824Z",
     "iopub.status.busy": "2020-09-20T20:20:53.516212Z",
     "iopub.status.idle": "2020-09-20T20:20:53.544080Z",
     "shell.execute_reply": "2020-09-20T20:20:53.543250Z"
    },
    "papermill": {
     "duration": 0.074444,
     "end_time": "2020-09-20T20:20:53.544412",
     "exception": false,
     "start_time": "2020-09-20T20:20:53.469968",
     "status": "completed"
    },
    "tags": []
   },
   "outputs": [
    {
     "data": {
      "text/html": [
       "<div>\n",
       "<style scoped>\n",
       "    .dataframe tbody tr th:only-of-type {\n",
       "        vertical-align: middle;\n",
       "    }\n",
       "\n",
       "    .dataframe tbody tr th {\n",
       "        vertical-align: top;\n",
       "    }\n",
       "\n",
       "    .dataframe thead th {\n",
       "        text-align: right;\n",
       "    }\n",
       "</style>\n",
       "<table border=\"1\" class=\"dataframe\">\n",
       "  <thead>\n",
       "    <tr style=\"text-align: right;\">\n",
       "      <th></th>\n",
       "      <th>sample_date</th>\n",
       "      <th>region</th>\n",
       "      <th>tek_list</th>\n",
       "      <th>extraction_date</th>\n",
       "      <th>extraction_date_with_hour</th>\n",
       "    </tr>\n",
       "  </thead>\n",
       "  <tbody>\n",
       "    <tr>\n",
       "      <th>0</th>\n",
       "      <td>2020-09-07</td>\n",
       "      <td>ES</td>\n",
       "      <td>[4f22f269-acd0-9cbd-5082-87826578c387, 402a892...</td>\n",
       "      <td>2020-09-20</td>\n",
       "      <td>2020-09-20@20</td>\n",
       "    </tr>\n",
       "    <tr>\n",
       "      <th>1</th>\n",
       "      <td>2020-09-08</td>\n",
       "      <td>ES</td>\n",
       "      <td>[64d2f594-3e1e-250e-b2e2-103c46f3a4a9, b8121a9...</td>\n",
       "      <td>2020-09-20</td>\n",
       "      <td>2020-09-20@20</td>\n",
       "    </tr>\n",
       "    <tr>\n",
       "      <th>2</th>\n",
       "      <td>2020-09-09</td>\n",
       "      <td>ES</td>\n",
       "      <td>[1f0a0575-26d0-44c1-7b58-0a0193ddfa44, 03a9a6b...</td>\n",
       "      <td>2020-09-20</td>\n",
       "      <td>2020-09-20@20</td>\n",
       "    </tr>\n",
       "    <tr>\n",
       "      <th>3</th>\n",
       "      <td>2020-09-10</td>\n",
       "      <td>ES</td>\n",
       "      <td>[6954f38b-22cd-d093-f288-7cdb50f2951d, 1a86957...</td>\n",
       "      <td>2020-09-20</td>\n",
       "      <td>2020-09-20@20</td>\n",
       "    </tr>\n",
       "    <tr>\n",
       "      <th>4</th>\n",
       "      <td>2020-09-11</td>\n",
       "      <td>ES</td>\n",
       "      <td>[01db2363-8b7e-6bbd-a02c-d6b8db0aedaa, 9c07934...</td>\n",
       "      <td>2020-09-20</td>\n",
       "      <td>2020-09-20@20</td>\n",
       "    </tr>\n",
       "  </tbody>\n",
       "</table>\n",
       "</div>"
      ],
      "text/plain": [
       "  sample_date region                                           tek_list  \\\n",
       "0  2020-09-07     ES  [4f22f269-acd0-9cbd-5082-87826578c387, 402a892...   \n",
       "1  2020-09-08     ES  [64d2f594-3e1e-250e-b2e2-103c46f3a4a9, b8121a9...   \n",
       "2  2020-09-09     ES  [1f0a0575-26d0-44c1-7b58-0a0193ddfa44, 03a9a6b...   \n",
       "3  2020-09-10     ES  [6954f38b-22cd-d093-f288-7cdb50f2951d, 1a86957...   \n",
       "4  2020-09-11     ES  [01db2363-8b7e-6bbd-a02c-d6b8db0aedaa, 9c07934...   \n",
       "\n",
       "  extraction_date extraction_date_with_hour  \n",
       "0      2020-09-20             2020-09-20@20  \n",
       "1      2020-09-20             2020-09-20@20  \n",
       "2      2020-09-20             2020-09-20@20  \n",
       "3      2020-09-20             2020-09-20@20  \n",
       "4      2020-09-20             2020-09-20@20  "
      ]
     },
     "execution_count": 13,
     "metadata": {},
     "output_type": "execute_result"
    }
   ],
   "source": [
    "tek_list_df = multi_region_exposure_keys_df[\n",
    "    [\"sample_date_string\", \"region\", \"key_data\"]].copy()\n",
    "tek_list_df[\"key_data\"] = tek_list_df[\"key_data\"].apply(str)\n",
    "tek_list_df.rename(columns={\n",
    "    \"sample_date_string\": \"sample_date\",\n",
    "    \"key_data\": \"tek_list\"}, inplace=True)\n",
    "tek_list_df = tek_list_df.groupby(\n",
    "    [\"sample_date\", \"region\"]).tek_list.unique().reset_index()\n",
    "tek_list_df[\"extraction_date\"] = extraction_date\n",
    "tek_list_df[\"extraction_date_with_hour\"] = extraction_date_with_hour\n",
    "tek_list_df.drop(columns=[\"extraction_date\", \"extraction_date_with_hour\"]).to_json(\n",
    "    \"Data/TEKs/Current/RadarCOVID-TEKs.json\",\n",
    "    lines=True, orient=\"records\")\n",
    "tek_list_df.drop(columns=[\"extraction_date_with_hour\"]).to_json(\n",
    "    \"Data/TEKs/Daily/RadarCOVID-TEKs-\" + extraction_date + \".json\",\n",
    "    lines=True, orient=\"records\")\n",
    "tek_list_df.to_json(\n",
    "    \"Data/TEKs/Hourly/RadarCOVID-TEKs-\" + extraction_date_with_hour + \".json\",\n",
    "    lines=True, orient=\"records\")\n",
    "tek_list_df.head()"
   ]
  },
  {
   "cell_type": "markdown",
   "metadata": {
    "papermill": {
     "duration": 0.03509,
     "end_time": "2020-09-20T20:20:53.625250",
     "exception": false,
     "start_time": "2020-09-20T20:20:53.590160",
     "status": "completed"
    },
    "tags": []
   },
   "source": [
    "### Load TEK Dumps"
   ]
  },
  {
   "cell_type": "code",
   "execution_count": 14,
   "metadata": {
    "execution": {
     "iopub.execute_input": "2020-09-20T20:20:53.708959Z",
     "iopub.status.busy": "2020-09-20T20:20:53.708174Z",
     "iopub.status.idle": "2020-09-20T20:20:53.710395Z",
     "shell.execute_reply": "2020-09-20T20:20:53.711004Z"
    },
    "papermill": {
     "duration": 0.047184,
     "end_time": "2020-09-20T20:20:53.711154",
     "exception": false,
     "start_time": "2020-09-20T20:20:53.663970",
     "status": "completed"
    },
    "tags": []
   },
   "outputs": [],
   "source": [
    "import glob\n",
    "\n",
    "def load_extracted_teks(mode, region=None, limit=None) -> pd.DataFrame:\n",
    "    extracted_teks_df = pd.DataFrame(columns=[\"region\"])\n",
    "    paths = list(reversed(sorted(glob.glob(f\"Data/TEKs/{mode}/RadarCOVID-TEKs-*.json\"))))\n",
    "    if limit:\n",
    "        paths = paths[:limit]\n",
    "    for path in paths:\n",
    "        logging.info(f\"Loading TEKs from '{path}'...\")\n",
    "        iteration_extracted_teks_df = pd.read_json(path, lines=True)\n",
    "        extracted_teks_df = extracted_teks_df.append(\n",
    "            iteration_extracted_teks_df, sort=False)\n",
    "    extracted_teks_df[\"region\"] = \\\n",
    "        extracted_teks_df.region.fillna(spain_region_country_code).copy()\n",
    "    if region:\n",
    "        extracted_teks_df = \\\n",
    "            extracted_teks_df[extracted_teks_df.region == region]\n",
    "    return extracted_teks_df"
   ]
  },
  {
   "cell_type": "markdown",
   "metadata": {
    "execution": {
     "iopub.execute_input": "2020-08-30T22:30:16.632967Z",
     "iopub.status.busy": "2020-08-30T22:30:16.632308Z",
     "iopub.status.idle": "2020-08-30T22:30:16.634945Z",
     "shell.execute_reply": "2020-08-30T22:30:16.635575Z"
    },
    "papermill": {
     "duration": 0.035592,
     "end_time": "2020-09-20T20:20:53.782090",
     "exception": false,
     "start_time": "2020-09-20T20:20:53.746498",
     "status": "completed"
    },
    "pycharm": {
     "name": "#%% md\n"
    },
    "tags": []
   },
   "source": [
    "### Daily New TEKs"
   ]
  },
  {
   "cell_type": "code",
   "execution_count": 15,
   "metadata": {
    "execution": {
     "iopub.execute_input": "2020-09-20T20:20:53.857682Z",
     "iopub.status.busy": "2020-09-20T20:20:53.857121Z",
     "iopub.status.idle": "2020-09-20T20:20:53.955334Z",
     "shell.execute_reply": "2020-09-20T20:20:53.955862Z"
    },
    "papermill": {
     "duration": 0.140311,
     "end_time": "2020-09-20T20:20:53.956164",
     "exception": false,
     "start_time": "2020-09-20T20:20:53.815853",
     "status": "completed"
    },
    "tags": []
   },
   "outputs": [
    {
     "data": {
      "text/html": [
       "<div>\n",
       "<style scoped>\n",
       "    .dataframe tbody tr th:only-of-type {\n",
       "        vertical-align: middle;\n",
       "    }\n",
       "\n",
       "    .dataframe tbody tr th {\n",
       "        vertical-align: top;\n",
       "    }\n",
       "\n",
       "    .dataframe thead th {\n",
       "        text-align: right;\n",
       "    }\n",
       "</style>\n",
       "<table border=\"1\" class=\"dataframe\">\n",
       "  <thead>\n",
       "    <tr style=\"text-align: right;\">\n",
       "      <th></th>\n",
       "      <th>region</th>\n",
       "      <th>sample_date</th>\n",
       "      <th>tek_list</th>\n",
       "      <th>extraction_date</th>\n",
       "    </tr>\n",
       "  </thead>\n",
       "  <tbody>\n",
       "    <tr>\n",
       "      <th>0</th>\n",
       "      <td>ES</td>\n",
       "      <td>2020-09-07</td>\n",
       "      <td>[4f22f269-acd0-9cbd-5082-87826578c387, 402a892...</td>\n",
       "      <td>2020-09-20</td>\n",
       "    </tr>\n",
       "    <tr>\n",
       "      <th>1</th>\n",
       "      <td>ES</td>\n",
       "      <td>2020-09-08</td>\n",
       "      <td>[64d2f594-3e1e-250e-b2e2-103c46f3a4a9, b8121a9...</td>\n",
       "      <td>2020-09-20</td>\n",
       "    </tr>\n",
       "    <tr>\n",
       "      <th>2</th>\n",
       "      <td>ES</td>\n",
       "      <td>2020-09-09</td>\n",
       "      <td>[1f0a0575-26d0-44c1-7b58-0a0193ddfa44, 03a9a6b...</td>\n",
       "      <td>2020-09-20</td>\n",
       "    </tr>\n",
       "    <tr>\n",
       "      <th>3</th>\n",
       "      <td>ES</td>\n",
       "      <td>2020-09-10</td>\n",
       "      <td>[6954f38b-22cd-d093-f288-7cdb50f2951d, 1a86957...</td>\n",
       "      <td>2020-09-20</td>\n",
       "    </tr>\n",
       "    <tr>\n",
       "      <th>4</th>\n",
       "      <td>ES</td>\n",
       "      <td>2020-09-11</td>\n",
       "      <td>[01db2363-8b7e-6bbd-a02c-d6b8db0aedaa, 9c07934...</td>\n",
       "      <td>2020-09-20</td>\n",
       "    </tr>\n",
       "  </tbody>\n",
       "</table>\n",
       "</div>"
      ],
      "text/plain": [
       "  region sample_date                                           tek_list  \\\n",
       "0     ES  2020-09-07  [4f22f269-acd0-9cbd-5082-87826578c387, 402a892...   \n",
       "1     ES  2020-09-08  [64d2f594-3e1e-250e-b2e2-103c46f3a4a9, b8121a9...   \n",
       "2     ES  2020-09-09  [1f0a0575-26d0-44c1-7b58-0a0193ddfa44, 03a9a6b...   \n",
       "3     ES  2020-09-10  [6954f38b-22cd-d093-f288-7cdb50f2951d, 1a86957...   \n",
       "4     ES  2020-09-11  [01db2363-8b7e-6bbd-a02c-d6b8db0aedaa, 9c07934...   \n",
       "\n",
       "  extraction_date  \n",
       "0      2020-09-20  \n",
       "1      2020-09-20  \n",
       "2      2020-09-20  \n",
       "3      2020-09-20  \n",
       "4      2020-09-20  "
      ]
     },
     "execution_count": 15,
     "metadata": {},
     "output_type": "execute_result"
    }
   ],
   "source": [
    "daily_extracted_teks_df = load_extracted_teks(\n",
    "    mode=\"Daily\", region=spain_region_country_code, limit=14)\n",
    "daily_extracted_teks_df.head()"
   ]
  },
  {
   "cell_type": "code",
   "execution_count": 16,
   "metadata": {
    "execution": {
     "iopub.execute_input": "2020-09-20T20:20:54.035915Z",
     "iopub.status.busy": "2020-09-20T20:20:54.035331Z",
     "iopub.status.idle": "2020-09-20T20:20:54.052118Z",
     "shell.execute_reply": "2020-09-20T20:20:54.051629Z"
    },
    "papermill": {
     "duration": 0.058034,
     "end_time": "2020-09-20T20:20:54.052242",
     "exception": false,
     "start_time": "2020-09-20T20:20:53.994208",
     "status": "completed"
    },
    "tags": []
   },
   "outputs": [
    {
     "data": {
      "text/html": [
       "<div>\n",
       "<style scoped>\n",
       "    .dataframe tbody tr th:only-of-type {\n",
       "        vertical-align: middle;\n",
       "    }\n",
       "\n",
       "    .dataframe tbody tr th {\n",
       "        vertical-align: top;\n",
       "    }\n",
       "\n",
       "    .dataframe thead th {\n",
       "        text-align: right;\n",
       "    }\n",
       "</style>\n",
       "<table border=\"1\" class=\"dataframe\">\n",
       "  <thead>\n",
       "    <tr style=\"text-align: right;\">\n",
       "      <th></th>\n",
       "      <th>tek_list</th>\n",
       "    </tr>\n",
       "    <tr>\n",
       "      <th>extraction_date</th>\n",
       "      <th></th>\n",
       "    </tr>\n",
       "  </thead>\n",
       "  <tbody>\n",
       "    <tr>\n",
       "      <th>2020-09-07</th>\n",
       "      <td>{2145679e-aea9-00f5-ff17-bf4111e00fd2, 1e765a5...</td>\n",
       "    </tr>\n",
       "    <tr>\n",
       "      <th>2020-09-08</th>\n",
       "      <td>{2145679e-aea9-00f5-ff17-bf4111e00fd2, 1e765a5...</td>\n",
       "    </tr>\n",
       "    <tr>\n",
       "      <th>2020-09-09</th>\n",
       "      <td>{2145679e-aea9-00f5-ff17-bf4111e00fd2, 1e765a5...</td>\n",
       "    </tr>\n",
       "    <tr>\n",
       "      <th>2020-09-10</th>\n",
       "      <td>{83e8d065-5189-6e9e-13d4-4af17b5d9a09, 2145679...</td>\n",
       "    </tr>\n",
       "    <tr>\n",
       "      <th>2020-09-11</th>\n",
       "      <td>{83e8d065-5189-6e9e-13d4-4af17b5d9a09, 2145679...</td>\n",
       "    </tr>\n",
       "  </tbody>\n",
       "</table>\n",
       "</div>"
      ],
      "text/plain": [
       "                                                          tek_list\n",
       "extraction_date                                                   \n",
       "2020-09-07       {2145679e-aea9-00f5-ff17-bf4111e00fd2, 1e765a5...\n",
       "2020-09-08       {2145679e-aea9-00f5-ff17-bf4111e00fd2, 1e765a5...\n",
       "2020-09-09       {2145679e-aea9-00f5-ff17-bf4111e00fd2, 1e765a5...\n",
       "2020-09-10       {83e8d065-5189-6e9e-13d4-4af17b5d9a09, 2145679...\n",
       "2020-09-11       {83e8d065-5189-6e9e-13d4-4af17b5d9a09, 2145679..."
      ]
     },
     "execution_count": 16,
     "metadata": {},
     "output_type": "execute_result"
    }
   ],
   "source": [
    "tek_list_df = daily_extracted_teks_df.groupby(\"extraction_date\").tek_list.apply(\n",
    "    lambda x: set(sum(x, []))).reset_index()\n",
    "tek_list_df = tek_list_df.set_index(\"extraction_date\").sort_index(ascending=True)\n",
    "tek_list_df.head()"
   ]
  },
  {
   "cell_type": "code",
   "execution_count": 17,
   "metadata": {
    "execution": {
     "iopub.execute_input": "2020-09-20T20:20:54.140099Z",
     "iopub.status.busy": "2020-09-20T20:20:54.139421Z",
     "iopub.status.idle": "2020-09-20T20:20:54.142378Z",
     "shell.execute_reply": "2020-09-20T20:20:54.142858Z"
    },
    "papermill": {
     "duration": 0.052249,
     "end_time": "2020-09-20T20:20:54.143010",
     "exception": false,
     "start_time": "2020-09-20T20:20:54.090761",
     "status": "completed"
    },
    "tags": []
   },
   "outputs": [
    {
     "data": {
      "text/html": [
       "<div>\n",
       "<style scoped>\n",
       "    .dataframe tbody tr th:only-of-type {\n",
       "        vertical-align: middle;\n",
       "    }\n",
       "\n",
       "    .dataframe tbody tr th {\n",
       "        vertical-align: top;\n",
       "    }\n",
       "\n",
       "    .dataframe thead th {\n",
       "        text-align: right;\n",
       "    }\n",
       "</style>\n",
       "<table border=\"1\" class=\"dataframe\">\n",
       "  <thead>\n",
       "    <tr style=\"text-align: right;\">\n",
       "      <th></th>\n",
       "      <th>sample_date_string</th>\n",
       "      <th>new_tek_count</th>\n",
       "    </tr>\n",
       "  </thead>\n",
       "  <tbody>\n",
       "    <tr>\n",
       "      <th>0</th>\n",
       "      <td>2020-09-07</td>\n",
       "      <td>NaN</td>\n",
       "    </tr>\n",
       "    <tr>\n",
       "      <th>1</th>\n",
       "      <td>2020-09-08</td>\n",
       "      <td>44.0</td>\n",
       "    </tr>\n",
       "    <tr>\n",
       "      <th>2</th>\n",
       "      <td>2020-09-09</td>\n",
       "      <td>67.0</td>\n",
       "    </tr>\n",
       "    <tr>\n",
       "      <th>3</th>\n",
       "      <td>2020-09-10</td>\n",
       "      <td>45.0</td>\n",
       "    </tr>\n",
       "    <tr>\n",
       "      <th>4</th>\n",
       "      <td>2020-09-11</td>\n",
       "      <td>46.0</td>\n",
       "    </tr>\n",
       "  </tbody>\n",
       "</table>\n",
       "</div>"
      ],
      "text/plain": [
       "  sample_date_string  new_tek_count\n",
       "0         2020-09-07            NaN\n",
       "1         2020-09-08           44.0\n",
       "2         2020-09-09           67.0\n",
       "3         2020-09-10           45.0\n",
       "4         2020-09-11           46.0"
      ]
     },
     "execution_count": 17,
     "metadata": {},
     "output_type": "execute_result"
    }
   ],
   "source": [
    "new_tek_df = tek_list_df.diff().tek_list.apply(\n",
    "    lambda x: len(x) if not pd.isna(x) else None).to_frame().reset_index()\n",
    "new_tek_df.rename(columns={\n",
    "    \"tek_list\": \"new_tek_count\",\n",
    "    \"extraction_date\": \"sample_date_string\",}, inplace=True)\n",
    "new_tek_df.head()"
   ]
  },
  {
   "cell_type": "code",
   "execution_count": 18,
   "metadata": {
    "execution": {
     "iopub.execute_input": "2020-09-20T20:20:54.226756Z",
     "iopub.status.busy": "2020-09-20T20:20:54.225962Z",
     "iopub.status.idle": "2020-09-20T20:20:54.245160Z",
     "shell.execute_reply": "2020-09-20T20:20:54.244524Z"
    },
    "papermill": {
     "duration": 0.063999,
     "end_time": "2020-09-20T20:20:54.245294",
     "exception": false,
     "start_time": "2020-09-20T20:20:54.181295",
     "status": "completed"
    },
    "pycharm": {
     "name": "#%%\n"
    },
    "tags": []
   },
   "outputs": [
    {
     "data": {
      "text/html": [
       "<div>\n",
       "<style scoped>\n",
       "    .dataframe tbody tr th:only-of-type {\n",
       "        vertical-align: middle;\n",
       "    }\n",
       "\n",
       "    .dataframe tbody tr th {\n",
       "        vertical-align: top;\n",
       "    }\n",
       "\n",
       "    .dataframe thead th {\n",
       "        text-align: right;\n",
       "    }\n",
       "</style>\n",
       "<table border=\"1\" class=\"dataframe\">\n",
       "  <thead>\n",
       "    <tr style=\"text-align: right;\">\n",
       "      <th></th>\n",
       "      <th>region</th>\n",
       "      <th>sample_date</th>\n",
       "      <th>tek_list</th>\n",
       "      <th>extraction_date</th>\n",
       "      <th>new_sample_extraction_date</th>\n",
       "    </tr>\n",
       "  </thead>\n",
       "  <tbody>\n",
       "    <tr>\n",
       "      <th>0</th>\n",
       "      <td>ES</td>\n",
       "      <td>2020-09-07</td>\n",
       "      <td>[4f22f269-acd0-9cbd-5082-87826578c387, 402a892...</td>\n",
       "      <td>2020-09-20</td>\n",
       "      <td>2020-09-08</td>\n",
       "    </tr>\n",
       "    <tr>\n",
       "      <th>1</th>\n",
       "      <td>ES</td>\n",
       "      <td>2020-09-08</td>\n",
       "      <td>[64d2f594-3e1e-250e-b2e2-103c46f3a4a9, b8121a9...</td>\n",
       "      <td>2020-09-20</td>\n",
       "      <td>2020-09-09</td>\n",
       "    </tr>\n",
       "    <tr>\n",
       "      <th>2</th>\n",
       "      <td>ES</td>\n",
       "      <td>2020-09-09</td>\n",
       "      <td>[1f0a0575-26d0-44c1-7b58-0a0193ddfa44, 03a9a6b...</td>\n",
       "      <td>2020-09-20</td>\n",
       "      <td>2020-09-10</td>\n",
       "    </tr>\n",
       "    <tr>\n",
       "      <th>3</th>\n",
       "      <td>ES</td>\n",
       "      <td>2020-09-10</td>\n",
       "      <td>[6954f38b-22cd-d093-f288-7cdb50f2951d, 1a86957...</td>\n",
       "      <td>2020-09-20</td>\n",
       "      <td>2020-09-11</td>\n",
       "    </tr>\n",
       "    <tr>\n",
       "      <th>4</th>\n",
       "      <td>ES</td>\n",
       "      <td>2020-09-11</td>\n",
       "      <td>[01db2363-8b7e-6bbd-a02c-d6b8db0aedaa, 9c07934...</td>\n",
       "      <td>2020-09-20</td>\n",
       "      <td>2020-09-12</td>\n",
       "    </tr>\n",
       "  </tbody>\n",
       "</table>\n",
       "</div>"
      ],
      "text/plain": [
       "  region sample_date                                           tek_list  \\\n",
       "0     ES  2020-09-07  [4f22f269-acd0-9cbd-5082-87826578c387, 402a892...   \n",
       "1     ES  2020-09-08  [64d2f594-3e1e-250e-b2e2-103c46f3a4a9, b8121a9...   \n",
       "2     ES  2020-09-09  [1f0a0575-26d0-44c1-7b58-0a0193ddfa44, 03a9a6b...   \n",
       "3     ES  2020-09-10  [6954f38b-22cd-d093-f288-7cdb50f2951d, 1a86957...   \n",
       "4     ES  2020-09-11  [01db2363-8b7e-6bbd-a02c-d6b8db0aedaa, 9c07934...   \n",
       "\n",
       "  extraction_date new_sample_extraction_date  \n",
       "0      2020-09-20                 2020-09-08  \n",
       "1      2020-09-20                 2020-09-09  \n",
       "2      2020-09-20                 2020-09-10  \n",
       "3      2020-09-20                 2020-09-11  \n",
       "4      2020-09-20                 2020-09-12  "
      ]
     },
     "execution_count": 18,
     "metadata": {},
     "output_type": "execute_result"
    }
   ],
   "source": [
    "new_tek_devices_df = daily_extracted_teks_df.copy()\n",
    "new_tek_devices_df[\"new_sample_extraction_date\"] = \\\n",
    "    pd.to_datetime(new_tek_devices_df.sample_date) + datetime.timedelta(1)\n",
    "new_tek_devices_df[\"extraction_date\"] = pd.to_datetime(new_tek_devices_df.extraction_date)\n",
    "new_tek_devices_df[\"sample_date\"] = pd.to_datetime(new_tek_devices_df.sample_date)\n",
    "new_tek_devices_df.head()"
   ]
  },
  {
   "cell_type": "code",
   "execution_count": 19,
   "metadata": {
    "collapsed": false,
    "execution": {
     "iopub.execute_input": "2020-09-20T20:20:54.337037Z",
     "iopub.status.busy": "2020-09-20T20:20:54.336454Z",
     "iopub.status.idle": "2020-09-20T20:20:54.339612Z",
     "shell.execute_reply": "2020-09-20T20:20:54.340134Z"
    },
    "papermill": {
     "duration": 0.055583,
     "end_time": "2020-09-20T20:20:54.340287",
     "exception": false,
     "start_time": "2020-09-20T20:20:54.284704",
     "status": "completed"
    },
    "pycharm": {
     "name": "#%%\n"
    },
    "tags": []
   },
   "outputs": [
    {
     "data": {
      "text/html": [
       "<div>\n",
       "<style scoped>\n",
       "    .dataframe tbody tr th:only-of-type {\n",
       "        vertical-align: middle;\n",
       "    }\n",
       "\n",
       "    .dataframe tbody tr th {\n",
       "        vertical-align: top;\n",
       "    }\n",
       "\n",
       "    .dataframe thead th {\n",
       "        text-align: right;\n",
       "    }\n",
       "</style>\n",
       "<table border=\"1\" class=\"dataframe\">\n",
       "  <thead>\n",
       "    <tr style=\"text-align: right;\">\n",
       "      <th></th>\n",
       "      <th>extraction_date</th>\n",
       "      <th>same_day_tek_list</th>\n",
       "    </tr>\n",
       "  </thead>\n",
       "  <tbody>\n",
       "    <tr>\n",
       "      <th>13</th>\n",
       "      <td>2020-09-20</td>\n",
       "      <td>[d4787a07-8b0b-58cc-b9e3-a94b0928d497, fc2611d...</td>\n",
       "    </tr>\n",
       "    <tr>\n",
       "      <th>13</th>\n",
       "      <td>2020-09-19</td>\n",
       "      <td>[754bc832-e952-f047-e72d-5297ad25a4a7]</td>\n",
       "    </tr>\n",
       "  </tbody>\n",
       "</table>\n",
       "</div>"
      ],
      "text/plain": [
       "   extraction_date                                  same_day_tek_list\n",
       "13      2020-09-20  [d4787a07-8b0b-58cc-b9e3-a94b0928d497, fc2611d...\n",
       "13      2020-09-19             [754bc832-e952-f047-e72d-5297ad25a4a7]"
      ]
     },
     "execution_count": 19,
     "metadata": {},
     "output_type": "execute_result"
    }
   ],
   "source": [
    "# Sometimes TEKs from the same day are uploaded, we do not count them as new TEK devices:\n",
    "same_day_tek_list_df = new_tek_devices_df[\n",
    "    new_tek_devices_df.sample_date == new_tek_devices_df.extraction_date].copy()\n",
    "same_day_tek_list_df = same_day_tek_list_df[[\"extraction_date\", \"tek_list\"]].rename(\n",
    "    columns={\"tek_list\": \"same_day_tek_list\"})\n",
    "same_day_tek_list_df[\"extraction_date\"] = \\\n",
    "    same_day_tek_list_df.extraction_date + datetime.timedelta(1)\n",
    "same_day_tek_list_df.head()"
   ]
  },
  {
   "cell_type": "code",
   "execution_count": 20,
   "metadata": {
    "collapsed": false,
    "execution": {
     "iopub.execute_input": "2020-09-20T20:20:54.431809Z",
     "iopub.status.busy": "2020-09-20T20:20:54.431116Z",
     "iopub.status.idle": "2020-09-20T20:20:54.434779Z",
     "shell.execute_reply": "2020-09-20T20:20:54.434257Z"
    },
    "papermill": {
     "duration": 0.056416,
     "end_time": "2020-09-20T20:20:54.434906",
     "exception": false,
     "start_time": "2020-09-20T20:20:54.378490",
     "status": "completed"
    },
    "pycharm": {
     "name": "#%%\n"
    },
    "tags": []
   },
   "outputs": [
    {
     "data": {
      "text/html": [
       "<div>\n",
       "<style scoped>\n",
       "    .dataframe tbody tr th:only-of-type {\n",
       "        vertical-align: middle;\n",
       "    }\n",
       "\n",
       "    .dataframe tbody tr th {\n",
       "        vertical-align: top;\n",
       "    }\n",
       "\n",
       "    .dataframe thead th {\n",
       "        text-align: right;\n",
       "    }\n",
       "</style>\n",
       "<table border=\"1\" class=\"dataframe\">\n",
       "  <thead>\n",
       "    <tr style=\"text-align: right;\">\n",
       "      <th></th>\n",
       "      <th>region</th>\n",
       "      <th>sample_date</th>\n",
       "      <th>tek_list</th>\n",
       "      <th>extraction_date</th>\n",
       "      <th>new_sample_extraction_date</th>\n",
       "    </tr>\n",
       "  </thead>\n",
       "  <tbody>\n",
       "    <tr>\n",
       "      <th>12</th>\n",
       "      <td>ES</td>\n",
       "      <td>2020-09-19</td>\n",
       "      <td>[2d12869d-b69c-f1cd-75e3-dba1932b0fdd, f44a46a...</td>\n",
       "      <td>2020-09-20</td>\n",
       "      <td>2020-09-20</td>\n",
       "    </tr>\n",
       "    <tr>\n",
       "      <th>12</th>\n",
       "      <td>ES</td>\n",
       "      <td>2020-09-18</td>\n",
       "      <td>[929af33f-4c54-9b8a-cf3a-a6eafed8dd0e, 8c6b618...</td>\n",
       "      <td>2020-09-19</td>\n",
       "      <td>2020-09-19</td>\n",
       "    </tr>\n",
       "    <tr>\n",
       "      <th>12</th>\n",
       "      <td>ES</td>\n",
       "      <td>2020-09-17</td>\n",
       "      <td>[7967f68b-ead3-bdb7-a7ae-bcb78220c852, fb2d0e2...</td>\n",
       "      <td>2020-09-18</td>\n",
       "      <td>2020-09-18</td>\n",
       "    </tr>\n",
       "    <tr>\n",
       "      <th>12</th>\n",
       "      <td>ES</td>\n",
       "      <td>2020-09-16</td>\n",
       "      <td>[713a8fac-9ef2-0c13-0162-7397da9e7778, ca13a5b...</td>\n",
       "      <td>2020-09-17</td>\n",
       "      <td>2020-09-17</td>\n",
       "    </tr>\n",
       "    <tr>\n",
       "      <th>12</th>\n",
       "      <td>ES</td>\n",
       "      <td>2020-09-15</td>\n",
       "      <td>[f6f1a72b-e029-5cc3-06ca-7817dc59b26e, 422efa3...</td>\n",
       "      <td>2020-09-16</td>\n",
       "      <td>2020-09-16</td>\n",
       "    </tr>\n",
       "  </tbody>\n",
       "</table>\n",
       "</div>"
      ],
      "text/plain": [
       "   region sample_date                                           tek_list  \\\n",
       "12     ES  2020-09-19  [2d12869d-b69c-f1cd-75e3-dba1932b0fdd, f44a46a...   \n",
       "12     ES  2020-09-18  [929af33f-4c54-9b8a-cf3a-a6eafed8dd0e, 8c6b618...   \n",
       "12     ES  2020-09-17  [7967f68b-ead3-bdb7-a7ae-bcb78220c852, fb2d0e2...   \n",
       "12     ES  2020-09-16  [713a8fac-9ef2-0c13-0162-7397da9e7778, ca13a5b...   \n",
       "12     ES  2020-09-15  [f6f1a72b-e029-5cc3-06ca-7817dc59b26e, 422efa3...   \n",
       "\n",
       "   extraction_date new_sample_extraction_date  \n",
       "12      2020-09-20                 2020-09-20  \n",
       "12      2020-09-19                 2020-09-19  \n",
       "12      2020-09-18                 2020-09-18  \n",
       "12      2020-09-17                 2020-09-17  \n",
       "12      2020-09-16                 2020-09-16  "
      ]
     },
     "execution_count": 20,
     "metadata": {},
     "output_type": "execute_result"
    }
   ],
   "source": [
    "new_tek_devices_df = new_tek_devices_df[\n",
    "    new_tek_devices_df.new_sample_extraction_date == new_tek_devices_df.extraction_date]\n",
    "new_tek_devices_df.head()"
   ]
  },
  {
   "cell_type": "code",
   "execution_count": 21,
   "metadata": {
    "collapsed": false,
    "execution": {
     "iopub.execute_input": "2020-09-20T20:20:54.541009Z",
     "iopub.status.busy": "2020-09-20T20:20:54.540250Z",
     "iopub.status.idle": "2020-09-20T20:20:54.543107Z",
     "shell.execute_reply": "2020-09-20T20:20:54.543646Z"
    },
    "papermill": {
     "duration": 0.068154,
     "end_time": "2020-09-20T20:20:54.543816",
     "exception": false,
     "start_time": "2020-09-20T20:20:54.475662",
     "status": "completed"
    },
    "pycharm": {
     "name": "#%%\n"
    },
    "tags": []
   },
   "outputs": [
    {
     "data": {
      "text/html": [
       "<div>\n",
       "<style scoped>\n",
       "    .dataframe tbody tr th:only-of-type {\n",
       "        vertical-align: middle;\n",
       "    }\n",
       "\n",
       "    .dataframe tbody tr th {\n",
       "        vertical-align: top;\n",
       "    }\n",
       "\n",
       "    .dataframe thead th {\n",
       "        text-align: right;\n",
       "    }\n",
       "</style>\n",
       "<table border=\"1\" class=\"dataframe\">\n",
       "  <thead>\n",
       "    <tr style=\"text-align: right;\">\n",
       "      <th></th>\n",
       "      <th>region</th>\n",
       "      <th>sample_date</th>\n",
       "      <th>tek_list</th>\n",
       "      <th>extraction_date</th>\n",
       "      <th>new_sample_extraction_date</th>\n",
       "      <th>same_day_tek_list</th>\n",
       "    </tr>\n",
       "  </thead>\n",
       "  <tbody>\n",
       "    <tr>\n",
       "      <th>0</th>\n",
       "      <td>ES</td>\n",
       "      <td>2020-09-19</td>\n",
       "      <td>[2d12869d-b69c-f1cd-75e3-dba1932b0fdd, f44a46a...</td>\n",
       "      <td>2020-09-20</td>\n",
       "      <td>2020-09-20</td>\n",
       "      <td>[d4787a07-8b0b-58cc-b9e3-a94b0928d497, fc2611d...</td>\n",
       "    </tr>\n",
       "    <tr>\n",
       "      <th>1</th>\n",
       "      <td>ES</td>\n",
       "      <td>2020-09-18</td>\n",
       "      <td>[929af33f-4c54-9b8a-cf3a-a6eafed8dd0e, 8c6b618...</td>\n",
       "      <td>2020-09-19</td>\n",
       "      <td>2020-09-19</td>\n",
       "      <td>[754bc832-e952-f047-e72d-5297ad25a4a7]</td>\n",
       "    </tr>\n",
       "    <tr>\n",
       "      <th>2</th>\n",
       "      <td>ES</td>\n",
       "      <td>2020-09-17</td>\n",
       "      <td>[7967f68b-ead3-bdb7-a7ae-bcb78220c852, fb2d0e2...</td>\n",
       "      <td>2020-09-18</td>\n",
       "      <td>2020-09-18</td>\n",
       "      <td>[]</td>\n",
       "    </tr>\n",
       "    <tr>\n",
       "      <th>3</th>\n",
       "      <td>ES</td>\n",
       "      <td>2020-09-16</td>\n",
       "      <td>[713a8fac-9ef2-0c13-0162-7397da9e7778, ca13a5b...</td>\n",
       "      <td>2020-09-17</td>\n",
       "      <td>2020-09-17</td>\n",
       "      <td>[]</td>\n",
       "    </tr>\n",
       "    <tr>\n",
       "      <th>4</th>\n",
       "      <td>ES</td>\n",
       "      <td>2020-09-15</td>\n",
       "      <td>[f6f1a72b-e029-5cc3-06ca-7817dc59b26e, 422efa3...</td>\n",
       "      <td>2020-09-16</td>\n",
       "      <td>2020-09-16</td>\n",
       "      <td>[]</td>\n",
       "    </tr>\n",
       "  </tbody>\n",
       "</table>\n",
       "</div>"
      ],
      "text/plain": [
       "  region sample_date                                           tek_list  \\\n",
       "0     ES  2020-09-19  [2d12869d-b69c-f1cd-75e3-dba1932b0fdd, f44a46a...   \n",
       "1     ES  2020-09-18  [929af33f-4c54-9b8a-cf3a-a6eafed8dd0e, 8c6b618...   \n",
       "2     ES  2020-09-17  [7967f68b-ead3-bdb7-a7ae-bcb78220c852, fb2d0e2...   \n",
       "3     ES  2020-09-16  [713a8fac-9ef2-0c13-0162-7397da9e7778, ca13a5b...   \n",
       "4     ES  2020-09-15  [f6f1a72b-e029-5cc3-06ca-7817dc59b26e, 422efa3...   \n",
       "\n",
       "  extraction_date new_sample_extraction_date  \\\n",
       "0      2020-09-20                 2020-09-20   \n",
       "1      2020-09-19                 2020-09-19   \n",
       "2      2020-09-18                 2020-09-18   \n",
       "3      2020-09-17                 2020-09-17   \n",
       "4      2020-09-16                 2020-09-16   \n",
       "\n",
       "                                   same_day_tek_list  \n",
       "0  [d4787a07-8b0b-58cc-b9e3-a94b0928d497, fc2611d...  \n",
       "1             [754bc832-e952-f047-e72d-5297ad25a4a7]  \n",
       "2                                                 []  \n",
       "3                                                 []  \n",
       "4                                                 []  "
      ]
     },
     "execution_count": 21,
     "metadata": {},
     "output_type": "execute_result"
    }
   ],
   "source": [
    "new_tek_devices_df = \\\n",
    "    new_tek_devices_df.merge(same_day_tek_list_df, how=\"left\", on=[\"extraction_date\"])\n",
    "new_tek_devices_df[\"same_day_tek_list\"] = \\\n",
    "    new_tek_devices_df.same_day_tek_list.apply(lambda x: [] if x is np.nan else x)\n",
    "new_tek_devices_df.head()"
   ]
  },
  {
   "cell_type": "code",
   "execution_count": 22,
   "metadata": {
    "execution": {
     "iopub.execute_input": "2020-09-20T20:20:54.631896Z",
     "iopub.status.busy": "2020-09-20T20:20:54.631086Z",
     "iopub.status.idle": "2020-09-20T20:20:54.647474Z",
     "shell.execute_reply": "2020-09-20T20:20:54.646841Z"
    },
    "papermill": {
     "duration": 0.063118,
     "end_time": "2020-09-20T20:20:54.647655",
     "exception": false,
     "start_time": "2020-09-20T20:20:54.584537",
     "status": "completed"
    },
    "tags": []
   },
   "outputs": [
    {
     "data": {
      "text/html": [
       "<div>\n",
       "<style scoped>\n",
       "    .dataframe tbody tr th:only-of-type {\n",
       "        vertical-align: middle;\n",
       "    }\n",
       "\n",
       "    .dataframe tbody tr th {\n",
       "        vertical-align: top;\n",
       "    }\n",
       "\n",
       "    .dataframe thead th {\n",
       "        text-align: right;\n",
       "    }\n",
       "</style>\n",
       "<table border=\"1\" class=\"dataframe\">\n",
       "  <thead>\n",
       "    <tr style=\"text-align: right;\">\n",
       "      <th></th>\n",
       "      <th>sample_date_string</th>\n",
       "      <th>new_tek_devices</th>\n",
       "    </tr>\n",
       "  </thead>\n",
       "  <tbody>\n",
       "    <tr>\n",
       "      <th>0</th>\n",
       "      <td>2020-09-20</td>\n",
       "      <td>44</td>\n",
       "    </tr>\n",
       "    <tr>\n",
       "      <th>1</th>\n",
       "      <td>2020-09-19</td>\n",
       "      <td>39</td>\n",
       "    </tr>\n",
       "    <tr>\n",
       "      <th>2</th>\n",
       "      <td>2020-09-18</td>\n",
       "      <td>52</td>\n",
       "    </tr>\n",
       "    <tr>\n",
       "      <th>3</th>\n",
       "      <td>2020-09-17</td>\n",
       "      <td>29</td>\n",
       "    </tr>\n",
       "    <tr>\n",
       "      <th>4</th>\n",
       "      <td>2020-09-16</td>\n",
       "      <td>23</td>\n",
       "    </tr>\n",
       "  </tbody>\n",
       "</table>\n",
       "</div>"
      ],
      "text/plain": [
       "  sample_date_string  new_tek_devices\n",
       "0         2020-09-20               44\n",
       "1         2020-09-19               39\n",
       "2         2020-09-18               52\n",
       "3         2020-09-17               29\n",
       "4         2020-09-16               23"
      ]
     },
     "execution_count": 22,
     "metadata": {},
     "output_type": "execute_result"
    }
   ],
   "source": [
    "new_tek_devices_df.set_index(\"extraction_date\", inplace=True)\n",
    "new_tek_devices_df[\"new_tek_devices\"] = new_tek_devices_df.apply(\n",
    "    lambda x: len(set(x.tek_list).difference(x.same_day_tek_list)), axis=1).copy()\n",
    "new_tek_devices_df.reset_index(inplace=True)\n",
    "new_tek_devices_df.rename(columns={\n",
    "    \"extraction_date\": \"sample_date_string\"}, inplace=True)\n",
    "new_tek_devices_df = new_tek_devices_df[[\"sample_date_string\", \"new_tek_devices\"]]\n",
    "new_tek_devices_df[\"sample_date_string\"] = new_tek_devices_df.sample_date_string.dt.strftime(\"%Y-%m-%d\")\n",
    "new_tek_devices_df.head()"
   ]
  },
  {
   "cell_type": "markdown",
   "metadata": {
    "papermill": {
     "duration": 0.043153,
     "end_time": "2020-09-20T20:20:54.738289",
     "exception": false,
     "start_time": "2020-09-20T20:20:54.695136",
     "status": "completed"
    },
    "pycharm": {
     "name": "#%% md\n"
    },
    "tags": []
   },
   "source": [
    "### Hourly New TEKs"
   ]
  },
  {
   "cell_type": "code",
   "execution_count": 23,
   "metadata": {
    "execution": {
     "iopub.execute_input": "2020-09-20T20:20:54.831655Z",
     "iopub.status.busy": "2020-09-20T20:20:54.830995Z",
     "iopub.status.idle": "2020-09-20T20:20:55.017968Z",
     "shell.execute_reply": "2020-09-20T20:20:55.018676Z"
    },
    "papermill": {
     "duration": 0.23692,
     "end_time": "2020-09-20T20:20:55.018943",
     "exception": false,
     "start_time": "2020-09-20T20:20:54.782023",
     "status": "completed"
    },
    "tags": []
   },
   "outputs": [
    {
     "data": {
      "text/html": [
       "<div>\n",
       "<style scoped>\n",
       "    .dataframe tbody tr th:only-of-type {\n",
       "        vertical-align: middle;\n",
       "    }\n",
       "\n",
       "    .dataframe tbody tr th {\n",
       "        vertical-align: top;\n",
       "    }\n",
       "\n",
       "    .dataframe thead th {\n",
       "        text-align: right;\n",
       "    }\n",
       "</style>\n",
       "<table border=\"1\" class=\"dataframe\">\n",
       "  <thead>\n",
       "    <tr style=\"text-align: right;\">\n",
       "      <th></th>\n",
       "      <th>extraction_date_with_hour</th>\n",
       "      <th>new_tek_count</th>\n",
       "    </tr>\n",
       "  </thead>\n",
       "  <tbody>\n",
       "    <tr>\n",
       "      <th>20</th>\n",
       "      <td>2020-09-20@16</td>\n",
       "      <td>7.0</td>\n",
       "    </tr>\n",
       "    <tr>\n",
       "      <th>21</th>\n",
       "      <td>2020-09-20@17</td>\n",
       "      <td>0.0</td>\n",
       "    </tr>\n",
       "    <tr>\n",
       "      <th>22</th>\n",
       "      <td>2020-09-20@18</td>\n",
       "      <td>10.0</td>\n",
       "    </tr>\n",
       "    <tr>\n",
       "      <th>23</th>\n",
       "      <td>2020-09-20@19</td>\n",
       "      <td>0.0</td>\n",
       "    </tr>\n",
       "    <tr>\n",
       "      <th>24</th>\n",
       "      <td>2020-09-20@20</td>\n",
       "      <td>6.0</td>\n",
       "    </tr>\n",
       "  </tbody>\n",
       "</table>\n",
       "</div>"
      ],
      "text/plain": [
       "   extraction_date_with_hour  new_tek_count\n",
       "20             2020-09-20@16            7.0\n",
       "21             2020-09-20@17            0.0\n",
       "22             2020-09-20@18           10.0\n",
       "23             2020-09-20@19            0.0\n",
       "24             2020-09-20@20            6.0"
      ]
     },
     "execution_count": 23,
     "metadata": {},
     "output_type": "execute_result"
    }
   ],
   "source": [
    "hourly_extracted_teks_df = load_extracted_teks(\n",
    "    mode=\"Hourly\", region=spain_region_country_code, limit=25)\n",
    "hourly_extracted_teks_df.head()\n",
    "\n",
    "hourly_tek_list_df = hourly_extracted_teks_df.groupby(\"extraction_date_with_hour\").tek_list.apply(\n",
    "    lambda x: set(sum(x, []))).reset_index()\n",
    "hourly_tek_list_df = hourly_tek_list_df.set_index(\"extraction_date_with_hour\").sort_index(ascending=True)\n",
    "\n",
    "hourly_new_tek_df = hourly_tek_list_df.diff().tek_list.apply(\n",
    "    lambda x: len(x) if not pd.isna(x) else None).to_frame().reset_index()\n",
    "hourly_new_tek_df.rename(columns={\n",
    "    \"tek_list\": \"new_tek_count\"}, inplace=True)\n",
    "hourly_new_tek_df.tail()"
   ]
  },
  {
   "cell_type": "code",
   "execution_count": 24,
   "metadata": {
    "execution": {
     "iopub.execute_input": "2020-09-20T20:20:55.118960Z",
     "iopub.status.busy": "2020-09-20T20:20:55.118265Z",
     "iopub.status.idle": "2020-09-20T20:20:55.137772Z",
     "shell.execute_reply": "2020-09-20T20:20:55.137088Z"
    },
    "papermill": {
     "duration": 0.070886,
     "end_time": "2020-09-20T20:20:55.137938",
     "exception": false,
     "start_time": "2020-09-20T20:20:55.067052",
     "status": "completed"
    },
    "pycharm": {
     "name": "#%%\n"
    },
    "tags": []
   },
   "outputs": [
    {
     "data": {
      "text/html": [
       "<div>\n",
       "<style scoped>\n",
       "    .dataframe tbody tr th:only-of-type {\n",
       "        vertical-align: middle;\n",
       "    }\n",
       "\n",
       "    .dataframe tbody tr th {\n",
       "        vertical-align: top;\n",
       "    }\n",
       "\n",
       "    .dataframe thead th {\n",
       "        text-align: right;\n",
       "    }\n",
       "</style>\n",
       "<table border=\"1\" class=\"dataframe\">\n",
       "  <thead>\n",
       "    <tr style=\"text-align: right;\">\n",
       "      <th></th>\n",
       "      <th>extraction_date_with_hour</th>\n",
       "      <th>new_tek_devices</th>\n",
       "    </tr>\n",
       "  </thead>\n",
       "  <tbody>\n",
       "    <tr>\n",
       "      <th>20</th>\n",
       "      <td>2020-09-20@16</td>\n",
       "      <td>1.0</td>\n",
       "    </tr>\n",
       "    <tr>\n",
       "      <th>21</th>\n",
       "      <td>2020-09-20@17</td>\n",
       "      <td>0.0</td>\n",
       "    </tr>\n",
       "    <tr>\n",
       "      <th>22</th>\n",
       "      <td>2020-09-20@18</td>\n",
       "      <td>3.0</td>\n",
       "    </tr>\n",
       "    <tr>\n",
       "      <th>23</th>\n",
       "      <td>2020-09-20@19</td>\n",
       "      <td>0.0</td>\n",
       "    </tr>\n",
       "    <tr>\n",
       "      <th>24</th>\n",
       "      <td>2020-09-20@20</td>\n",
       "      <td>2.0</td>\n",
       "    </tr>\n",
       "  </tbody>\n",
       "</table>\n",
       "</div>"
      ],
      "text/plain": [
       "   extraction_date_with_hour  new_tek_devices\n",
       "20             2020-09-20@16              1.0\n",
       "21             2020-09-20@17              0.0\n",
       "22             2020-09-20@18              3.0\n",
       "23             2020-09-20@19              0.0\n",
       "24             2020-09-20@20              2.0"
      ]
     },
     "execution_count": 24,
     "metadata": {},
     "output_type": "execute_result"
    }
   ],
   "source": [
    "hourly_new_tek_devices_df = hourly_extracted_teks_df.copy()\n",
    "hourly_new_tek_devices_df[\"new_sample_extraction_date\"] = \\\n",
    "    pd.to_datetime(hourly_new_tek_devices_df.sample_date) + datetime.timedelta(1)\n",
    "hourly_new_tek_devices_df[\"extraction_date\"] = pd.to_datetime(hourly_new_tek_devices_df.extraction_date)\n",
    "\n",
    "hourly_new_tek_devices_df = hourly_new_tek_devices_df[\n",
    "    hourly_new_tek_devices_df.new_sample_extraction_date == hourly_new_tek_devices_df.extraction_date]\n",
    "\n",
    "hourly_new_tek_devices_df.set_index(\"extraction_date_with_hour\", inplace=True)\n",
    "hourly_new_tek_devices_df_ = pd.DataFrame()\n",
    "\n",
    "for i, chunk_df in hourly_new_tek_devices_df.groupby(\"extraction_date\"):\n",
    "    chunk_df = chunk_df.copy()\n",
    "    chunk_df.sort_index(inplace=True)\n",
    "    chunk_tek_count_df = chunk_df.tek_list.apply(lambda x: len(set(x)))\n",
    "    chunk_df = chunk_tek_count_df.diff().fillna(chunk_tek_count_df).to_frame()\n",
    "    hourly_new_tek_devices_df_ = hourly_new_tek_devices_df_.append(chunk_df)\n",
    "    \n",
    "hourly_new_tek_devices_df = hourly_new_tek_devices_df_\n",
    "hourly_new_tek_devices_df.reset_index(inplace=True)\n",
    "hourly_new_tek_devices_df.rename(columns={\n",
    "    \"tek_list\": \"new_tek_devices\"}, inplace=True)\n",
    "hourly_new_tek_devices_df.tail()"
   ]
  },
  {
   "cell_type": "code",
   "execution_count": 25,
   "metadata": {
    "execution": {
     "iopub.execute_input": "2020-09-20T20:20:55.231763Z",
     "iopub.status.busy": "2020-09-20T20:20:55.231144Z",
     "iopub.status.idle": "2020-09-20T20:20:55.241289Z",
     "shell.execute_reply": "2020-09-20T20:20:55.240777Z"
    },
    "papermill": {
     "duration": 0.061482,
     "end_time": "2020-09-20T20:20:55.241420",
     "exception": false,
     "start_time": "2020-09-20T20:20:55.179938",
     "status": "completed"
    },
    "tags": []
   },
   "outputs": [
    {
     "data": {
      "text/html": [
       "<div>\n",
       "<style scoped>\n",
       "    .dataframe tbody tr th:only-of-type {\n",
       "        vertical-align: middle;\n",
       "    }\n",
       "\n",
       "    .dataframe tbody tr th {\n",
       "        vertical-align: top;\n",
       "    }\n",
       "\n",
       "    .dataframe thead th {\n",
       "        text-align: right;\n",
       "    }\n",
       "</style>\n",
       "<table border=\"1\" class=\"dataframe\">\n",
       "  <thead>\n",
       "    <tr style=\"text-align: right;\">\n",
       "      <th></th>\n",
       "      <th>extraction_date_with_hour</th>\n",
       "      <th>new_tek_count</th>\n",
       "      <th>new_tek_devices</th>\n",
       "    </tr>\n",
       "    <tr>\n",
       "      <th>datetime_utc</th>\n",
       "      <th></th>\n",
       "      <th></th>\n",
       "      <th></th>\n",
       "    </tr>\n",
       "  </thead>\n",
       "  <tbody>\n",
       "    <tr>\n",
       "      <th>2020-09-20 16:00:00</th>\n",
       "      <td>2020-09-20@16</td>\n",
       "      <td>7.0</td>\n",
       "      <td>1.0</td>\n",
       "    </tr>\n",
       "    <tr>\n",
       "      <th>2020-09-20 17:00:00</th>\n",
       "      <td>2020-09-20@17</td>\n",
       "      <td>0.0</td>\n",
       "      <td>0.0</td>\n",
       "    </tr>\n",
       "    <tr>\n",
       "      <th>2020-09-20 18:00:00</th>\n",
       "      <td>2020-09-20@18</td>\n",
       "      <td>10.0</td>\n",
       "      <td>3.0</td>\n",
       "    </tr>\n",
       "    <tr>\n",
       "      <th>2020-09-20 19:00:00</th>\n",
       "      <td>2020-09-20@19</td>\n",
       "      <td>0.0</td>\n",
       "      <td>0.0</td>\n",
       "    </tr>\n",
       "    <tr>\n",
       "      <th>2020-09-20 20:00:00</th>\n",
       "      <td>2020-09-20@20</td>\n",
       "      <td>6.0</td>\n",
       "      <td>2.0</td>\n",
       "    </tr>\n",
       "  </tbody>\n",
       "</table>\n",
       "</div>"
      ],
      "text/plain": [
       "                    extraction_date_with_hour  new_tek_count  new_tek_devices\n",
       "datetime_utc                                                                 \n",
       "2020-09-20 16:00:00             2020-09-20@16            7.0              1.0\n",
       "2020-09-20 17:00:00             2020-09-20@17            0.0              0.0\n",
       "2020-09-20 18:00:00             2020-09-20@18           10.0              3.0\n",
       "2020-09-20 19:00:00             2020-09-20@19            0.0              0.0\n",
       "2020-09-20 20:00:00             2020-09-20@20            6.0              2.0"
      ]
     },
     "execution_count": 25,
     "metadata": {},
     "output_type": "execute_result"
    }
   ],
   "source": [
    "hourly_summary_df = hourly_new_tek_df.merge(\n",
    "    hourly_new_tek_devices_df, on=[\"extraction_date_with_hour\"], how=\"outer\")\n",
    "hourly_summary_df[\"datetime_utc\"] = pd.to_datetime(\n",
    "    hourly_summary_df.extraction_date_with_hour, format=\"%Y-%m-%d@%H\")\n",
    "hourly_summary_df.set_index(\"datetime_utc\", inplace=True)\n",
    "hourly_summary_df = hourly_summary_df.tail(-1)\n",
    "hourly_summary_df.tail()"
   ]
  },
  {
   "cell_type": "markdown",
   "metadata": {
    "execution": {
     "iopub.execute_input": "2020-08-30T22:30:16.982353Z",
     "iopub.status.busy": "2020-08-30T22:30:16.981676Z",
     "iopub.status.idle": "2020-08-30T22:30:16.984837Z",
     "shell.execute_reply": "2020-08-30T22:30:16.985366Z"
    },
    "papermill": {
     "duration": 0.040295,
     "end_time": "2020-09-20T20:20:55.322697",
     "exception": false,
     "start_time": "2020-09-20T20:20:55.282402",
     "status": "completed"
    },
    "pycharm": {
     "name": "#%% md\n"
    },
    "tags": []
   },
   "source": [
    "### Data Merge"
   ]
  },
  {
   "cell_type": "code",
   "execution_count": 26,
   "metadata": {
    "execution": {
     "iopub.execute_input": "2020-09-20T20:20:55.418588Z",
     "iopub.status.busy": "2020-09-20T20:20:55.417900Z",
     "iopub.status.idle": "2020-09-20T20:20:55.421046Z",
     "shell.execute_reply": "2020-09-20T20:20:55.421743Z"
    },
    "papermill": {
     "duration": 0.058489,
     "end_time": "2020-09-20T20:20:55.421952",
     "exception": false,
     "start_time": "2020-09-20T20:20:55.363463",
     "status": "completed"
    },
    "pycharm": {
     "name": "#%%\n"
    },
    "tags": []
   },
   "outputs": [
    {
     "data": {
      "text/html": [
       "<div>\n",
       "<style scoped>\n",
       "    .dataframe tbody tr th:only-of-type {\n",
       "        vertical-align: middle;\n",
       "    }\n",
       "\n",
       "    .dataframe tbody tr th {\n",
       "        vertical-align: top;\n",
       "    }\n",
       "\n",
       "    .dataframe thead th {\n",
       "        text-align: right;\n",
       "    }\n",
       "</style>\n",
       "<table border=\"1\" class=\"dataframe\">\n",
       "  <thead>\n",
       "    <tr style=\"text-align: right;\">\n",
       "      <th></th>\n",
       "      <th>sample_date_string</th>\n",
       "      <th>tek_count</th>\n",
       "      <th>new_tek_count</th>\n",
       "    </tr>\n",
       "  </thead>\n",
       "  <tbody>\n",
       "    <tr>\n",
       "      <th>0</th>\n",
       "      <td>2020-09-19</td>\n",
       "      <td>46.0</td>\n",
       "      <td>90.0</td>\n",
       "    </tr>\n",
       "    <tr>\n",
       "      <th>1</th>\n",
       "      <td>2020-09-18</td>\n",
       "      <td>60.0</td>\n",
       "      <td>138.0</td>\n",
       "    </tr>\n",
       "    <tr>\n",
       "      <th>2</th>\n",
       "      <td>2020-09-17</td>\n",
       "      <td>80.0</td>\n",
       "      <td>63.0</td>\n",
       "    </tr>\n",
       "    <tr>\n",
       "      <th>3</th>\n",
       "      <td>2020-09-16</td>\n",
       "      <td>84.0</td>\n",
       "      <td>62.0</td>\n",
       "    </tr>\n",
       "    <tr>\n",
       "      <th>4</th>\n",
       "      <td>2020-09-15</td>\n",
       "      <td>81.0</td>\n",
       "      <td>58.0</td>\n",
       "    </tr>\n",
       "  </tbody>\n",
       "</table>\n",
       "</div>"
      ],
      "text/plain": [
       "  sample_date_string  tek_count  new_tek_count\n",
       "0         2020-09-19       46.0           90.0\n",
       "1         2020-09-18       60.0          138.0\n",
       "2         2020-09-17       80.0           63.0\n",
       "3         2020-09-16       84.0           62.0\n",
       "4         2020-09-15       81.0           58.0"
      ]
     },
     "execution_count": 26,
     "metadata": {},
     "output_type": "execute_result"
    }
   ],
   "source": [
    "result_summary_df = exposure_keys_summary_df.merge(\n",
    "    new_tek_df, on=[\"sample_date_string\"], how=\"outer\")\n",
    "result_summary_df.head()"
   ]
  },
  {
   "cell_type": "code",
   "execution_count": 27,
   "metadata": {
    "execution": {
     "iopub.execute_input": "2020-09-20T20:20:55.518245Z",
     "iopub.status.busy": "2020-09-20T20:20:55.517609Z",
     "iopub.status.idle": "2020-09-20T20:20:55.520116Z",
     "shell.execute_reply": "2020-09-20T20:20:55.520686Z"
    },
    "papermill": {
     "duration": 0.057813,
     "end_time": "2020-09-20T20:20:55.520845",
     "exception": false,
     "start_time": "2020-09-20T20:20:55.463032",
     "status": "completed"
    },
    "tags": []
   },
   "outputs": [
    {
     "data": {
      "text/html": [
       "<div>\n",
       "<style scoped>\n",
       "    .dataframe tbody tr th:only-of-type {\n",
       "        vertical-align: middle;\n",
       "    }\n",
       "\n",
       "    .dataframe tbody tr th {\n",
       "        vertical-align: top;\n",
       "    }\n",
       "\n",
       "    .dataframe thead th {\n",
       "        text-align: right;\n",
       "    }\n",
       "</style>\n",
       "<table border=\"1\" class=\"dataframe\">\n",
       "  <thead>\n",
       "    <tr style=\"text-align: right;\">\n",
       "      <th></th>\n",
       "      <th>sample_date_string</th>\n",
       "      <th>tek_count</th>\n",
       "      <th>new_tek_count</th>\n",
       "      <th>new_tek_devices</th>\n",
       "    </tr>\n",
       "  </thead>\n",
       "  <tbody>\n",
       "    <tr>\n",
       "      <th>0</th>\n",
       "      <td>2020-09-19</td>\n",
       "      <td>46.0</td>\n",
       "      <td>90.0</td>\n",
       "      <td>39</td>\n",
       "    </tr>\n",
       "    <tr>\n",
       "      <th>1</th>\n",
       "      <td>2020-09-18</td>\n",
       "      <td>60.0</td>\n",
       "      <td>138.0</td>\n",
       "      <td>52</td>\n",
       "    </tr>\n",
       "    <tr>\n",
       "      <th>2</th>\n",
       "      <td>2020-09-17</td>\n",
       "      <td>80.0</td>\n",
       "      <td>63.0</td>\n",
       "      <td>29</td>\n",
       "    </tr>\n",
       "    <tr>\n",
       "      <th>3</th>\n",
       "      <td>2020-09-16</td>\n",
       "      <td>84.0</td>\n",
       "      <td>62.0</td>\n",
       "      <td>23</td>\n",
       "    </tr>\n",
       "    <tr>\n",
       "      <th>4</th>\n",
       "      <td>2020-09-15</td>\n",
       "      <td>81.0</td>\n",
       "      <td>58.0</td>\n",
       "      <td>23</td>\n",
       "    </tr>\n",
       "  </tbody>\n",
       "</table>\n",
       "</div>"
      ],
      "text/plain": [
       "  sample_date_string  tek_count  new_tek_count  new_tek_devices\n",
       "0         2020-09-19       46.0           90.0               39\n",
       "1         2020-09-18       60.0          138.0               52\n",
       "2         2020-09-17       80.0           63.0               29\n",
       "3         2020-09-16       84.0           62.0               23\n",
       "4         2020-09-15       81.0           58.0               23"
      ]
     },
     "execution_count": 27,
     "metadata": {},
     "output_type": "execute_result"
    }
   ],
   "source": [
    "result_summary_df = result_summary_df.merge(\n",
    "    new_tek_devices_df, on=[\"sample_date_string\"], how=\"outer\")\n",
    "result_summary_df.head()"
   ]
  },
  {
   "cell_type": "code",
   "execution_count": 28,
   "metadata": {
    "execution": {
     "iopub.execute_input": "2020-09-20T20:20:55.615818Z",
     "iopub.status.busy": "2020-09-20T20:20:55.615177Z",
     "iopub.status.idle": "2020-09-20T20:20:55.630499Z",
     "shell.execute_reply": "2020-09-20T20:20:55.630990Z"
    },
    "papermill": {
     "duration": 0.063119,
     "end_time": "2020-09-20T20:20:55.631148",
     "exception": false,
     "start_time": "2020-09-20T20:20:55.568029",
     "status": "completed"
    },
    "pycharm": {
     "name": "#%%\n"
    },
    "tags": []
   },
   "outputs": [
    {
     "data": {
      "text/html": [
       "<div>\n",
       "<style scoped>\n",
       "    .dataframe tbody tr th:only-of-type {\n",
       "        vertical-align: middle;\n",
       "    }\n",
       "\n",
       "    .dataframe tbody tr th {\n",
       "        vertical-align: top;\n",
       "    }\n",
       "\n",
       "    .dataframe thead th {\n",
       "        text-align: right;\n",
       "    }\n",
       "</style>\n",
       "<table border=\"1\" class=\"dataframe\">\n",
       "  <thead>\n",
       "    <tr style=\"text-align: right;\">\n",
       "      <th></th>\n",
       "      <th>sample_date_string</th>\n",
       "      <th>tek_count</th>\n",
       "      <th>new_tek_count</th>\n",
       "      <th>new_tek_devices</th>\n",
       "      <th>cumulative_cases</th>\n",
       "      <th>new_cases</th>\n",
       "      <th>rolling_mean_new_cases</th>\n",
       "    </tr>\n",
       "  </thead>\n",
       "  <tbody>\n",
       "    <tr>\n",
       "      <th>0</th>\n",
       "      <td>2020-09-19</td>\n",
       "      <td>46.0</td>\n",
       "      <td>90.0</td>\n",
       "      <td>39</td>\n",
       "      <td>1280080.0</td>\n",
       "      <td>0.0</td>\n",
       "      <td>21061.0</td>\n",
       "    </tr>\n",
       "    <tr>\n",
       "      <th>1</th>\n",
       "      <td>2020-09-18</td>\n",
       "      <td>60.0</td>\n",
       "      <td>138.0</td>\n",
       "      <td>52</td>\n",
       "      <td>1280080.0</td>\n",
       "      <td>28778.0</td>\n",
       "      <td>21061.0</td>\n",
       "    </tr>\n",
       "    <tr>\n",
       "      <th>2</th>\n",
       "      <td>2020-09-17</td>\n",
       "      <td>80.0</td>\n",
       "      <td>63.0</td>\n",
       "      <td>29</td>\n",
       "      <td>1251302.0</td>\n",
       "      <td>22582.0</td>\n",
       "      <td>20431.0</td>\n",
       "    </tr>\n",
       "    <tr>\n",
       "      <th>3</th>\n",
       "      <td>2020-09-16</td>\n",
       "      <td>84.0</td>\n",
       "      <td>62.0</td>\n",
       "      <td>23</td>\n",
       "      <td>1228720.0</td>\n",
       "      <td>22386.0</td>\n",
       "      <td>20280.0</td>\n",
       "    </tr>\n",
       "    <tr>\n",
       "      <th>4</th>\n",
       "      <td>2020-09-15</td>\n",
       "      <td>81.0</td>\n",
       "      <td>58.0</td>\n",
       "      <td>23</td>\n",
       "      <td>1206334.0</td>\n",
       "      <td>18874.0</td>\n",
       "      <td>19615.0</td>\n",
       "    </tr>\n",
       "  </tbody>\n",
       "</table>\n",
       "</div>"
      ],
      "text/plain": [
       "  sample_date_string  tek_count  new_tek_count  new_tek_devices  \\\n",
       "0         2020-09-19       46.0           90.0               39   \n",
       "1         2020-09-18       60.0          138.0               52   \n",
       "2         2020-09-17       80.0           63.0               29   \n",
       "3         2020-09-16       84.0           62.0               23   \n",
       "4         2020-09-15       81.0           58.0               23   \n",
       "\n",
       "   cumulative_cases  new_cases  rolling_mean_new_cases  \n",
       "0         1280080.0        0.0                 21061.0  \n",
       "1         1280080.0    28778.0                 21061.0  \n",
       "2         1251302.0    22582.0                 20431.0  \n",
       "3         1228720.0    22386.0                 20280.0  \n",
       "4         1206334.0    18874.0                 19615.0  "
      ]
     },
     "execution_count": 28,
     "metadata": {},
     "output_type": "execute_result"
    }
   ],
   "source": [
    "result_summary_df = result_summary_df.merge(\n",
    "    confirmed_df, on=[\"sample_date_string\"], how=\"left\")\n",
    "result_summary_df.head()"
   ]
  },
  {
   "cell_type": "code",
   "execution_count": 29,
   "metadata": {
    "execution": {
     "iopub.execute_input": "2020-09-20T20:20:55.728411Z",
     "iopub.status.busy": "2020-09-20T20:20:55.727609Z",
     "iopub.status.idle": "2020-09-20T20:20:55.738138Z",
     "shell.execute_reply": "2020-09-20T20:20:55.738734Z"
    },
    "papermill": {
     "duration": 0.067479,
     "end_time": "2020-09-20T20:20:55.738981",
     "exception": false,
     "start_time": "2020-09-20T20:20:55.671502",
     "status": "completed"
    },
    "pycharm": {
     "name": "#%%\n"
    },
    "tags": []
   },
   "outputs": [
    {
     "data": {
      "text/html": [
       "<div>\n",
       "<style scoped>\n",
       "    .dataframe tbody tr th:only-of-type {\n",
       "        vertical-align: middle;\n",
       "    }\n",
       "\n",
       "    .dataframe tbody tr th {\n",
       "        vertical-align: top;\n",
       "    }\n",
       "\n",
       "    .dataframe thead th {\n",
       "        text-align: right;\n",
       "    }\n",
       "</style>\n",
       "<table border=\"1\" class=\"dataframe\">\n",
       "  <thead>\n",
       "    <tr style=\"text-align: right;\">\n",
       "      <th></th>\n",
       "      <th>sample_date_string</th>\n",
       "      <th>tek_count</th>\n",
       "      <th>new_tek_count</th>\n",
       "      <th>new_tek_devices</th>\n",
       "      <th>cumulative_cases</th>\n",
       "      <th>new_cases</th>\n",
       "      <th>rolling_mean_new_cases</th>\n",
       "      <th>tek_count_per_new_case</th>\n",
       "      <th>new_tek_count_per_new_case</th>\n",
       "      <th>new_tek_devices_per_new_case</th>\n",
       "      <th>new_tek_count_per_new_tek_device</th>\n",
       "    </tr>\n",
       "  </thead>\n",
       "  <tbody>\n",
       "    <tr>\n",
       "      <th>0</th>\n",
       "      <td>2020-09-19</td>\n",
       "      <td>46.0</td>\n",
       "      <td>90.0</td>\n",
       "      <td>39</td>\n",
       "      <td>1280080.0</td>\n",
       "      <td>0.0</td>\n",
       "      <td>21061.0</td>\n",
       "      <td>0.002184</td>\n",
       "      <td>0.004273</td>\n",
       "      <td>0.001852</td>\n",
       "      <td>2.307692</td>\n",
       "    </tr>\n",
       "    <tr>\n",
       "      <th>1</th>\n",
       "      <td>2020-09-18</td>\n",
       "      <td>60.0</td>\n",
       "      <td>138.0</td>\n",
       "      <td>52</td>\n",
       "      <td>1280080.0</td>\n",
       "      <td>28778.0</td>\n",
       "      <td>21061.0</td>\n",
       "      <td>0.002849</td>\n",
       "      <td>0.006552</td>\n",
       "      <td>0.002469</td>\n",
       "      <td>2.653846</td>\n",
       "    </tr>\n",
       "    <tr>\n",
       "      <th>2</th>\n",
       "      <td>2020-09-17</td>\n",
       "      <td>80.0</td>\n",
       "      <td>63.0</td>\n",
       "      <td>29</td>\n",
       "      <td>1251302.0</td>\n",
       "      <td>22582.0</td>\n",
       "      <td>20431.0</td>\n",
       "      <td>0.003916</td>\n",
       "      <td>0.003084</td>\n",
       "      <td>0.001419</td>\n",
       "      <td>2.172414</td>\n",
       "    </tr>\n",
       "    <tr>\n",
       "      <th>3</th>\n",
       "      <td>2020-09-16</td>\n",
       "      <td>84.0</td>\n",
       "      <td>62.0</td>\n",
       "      <td>23</td>\n",
       "      <td>1228720.0</td>\n",
       "      <td>22386.0</td>\n",
       "      <td>20280.0</td>\n",
       "      <td>0.004142</td>\n",
       "      <td>0.003057</td>\n",
       "      <td>0.001134</td>\n",
       "      <td>2.695652</td>\n",
       "    </tr>\n",
       "    <tr>\n",
       "      <th>4</th>\n",
       "      <td>2020-09-15</td>\n",
       "      <td>81.0</td>\n",
       "      <td>58.0</td>\n",
       "      <td>23</td>\n",
       "      <td>1206334.0</td>\n",
       "      <td>18874.0</td>\n",
       "      <td>19615.0</td>\n",
       "      <td>0.004129</td>\n",
       "      <td>0.002957</td>\n",
       "      <td>0.001173</td>\n",
       "      <td>2.521739</td>\n",
       "    </tr>\n",
       "  </tbody>\n",
       "</table>\n",
       "</div>"
      ],
      "text/plain": [
       "  sample_date_string  tek_count  new_tek_count  new_tek_devices  \\\n",
       "0         2020-09-19       46.0           90.0               39   \n",
       "1         2020-09-18       60.0          138.0               52   \n",
       "2         2020-09-17       80.0           63.0               29   \n",
       "3         2020-09-16       84.0           62.0               23   \n",
       "4         2020-09-15       81.0           58.0               23   \n",
       "\n",
       "   cumulative_cases  new_cases  rolling_mean_new_cases  \\\n",
       "0         1280080.0        0.0                 21061.0   \n",
       "1         1280080.0    28778.0                 21061.0   \n",
       "2         1251302.0    22582.0                 20431.0   \n",
       "3         1228720.0    22386.0                 20280.0   \n",
       "4         1206334.0    18874.0                 19615.0   \n",
       "\n",
       "   tek_count_per_new_case  new_tek_count_per_new_case  \\\n",
       "0                0.002184                    0.004273   \n",
       "1                0.002849                    0.006552   \n",
       "2                0.003916                    0.003084   \n",
       "3                0.004142                    0.003057   \n",
       "4                0.004129                    0.002957   \n",
       "\n",
       "   new_tek_devices_per_new_case  new_tek_count_per_new_tek_device  \n",
       "0                      0.001852                          2.307692  \n",
       "1                      0.002469                          2.653846  \n",
       "2                      0.001419                          2.172414  \n",
       "3                      0.001134                          2.695652  \n",
       "4                      0.001173                          2.521739  "
      ]
     },
     "execution_count": 29,
     "metadata": {},
     "output_type": "execute_result"
    }
   ],
   "source": [
    "result_summary_df[\"tek_count_per_new_case\"] = \\\n",
    "    result_summary_df.tek_count / result_summary_df.rolling_mean_new_cases\n",
    "result_summary_df[\"new_tek_count_per_new_case\"] = \\\n",
    "    result_summary_df.new_tek_count / result_summary_df.rolling_mean_new_cases\n",
    "result_summary_df[\"new_tek_devices_per_new_case\"] = \\\n",
    "    result_summary_df.new_tek_devices / result_summary_df.rolling_mean_new_cases\n",
    "result_summary_df[\"new_tek_count_per_new_tek_device\"] = \\\n",
    "    result_summary_df.new_tek_count / result_summary_df.new_tek_devices\n",
    "result_summary_df.head()"
   ]
  },
  {
   "cell_type": "code",
   "execution_count": 30,
   "metadata": {
    "execution": {
     "iopub.execute_input": "2020-09-20T20:20:55.833393Z",
     "iopub.status.busy": "2020-09-20T20:20:55.832809Z",
     "iopub.status.idle": "2020-09-20T20:20:55.835884Z",
     "shell.execute_reply": "2020-09-20T20:20:55.836438Z"
    },
    "papermill": {
     "duration": 0.05427,
     "end_time": "2020-09-20T20:20:55.836583",
     "exception": false,
     "start_time": "2020-09-20T20:20:55.782313",
     "status": "completed"
    },
    "pycharm": {
     "name": "#%%\n"
    },
    "tags": []
   },
   "outputs": [],
   "source": [
    "result_summary_df[\"sample_date\"] = pd.to_datetime(result_summary_df.sample_date_string)\n",
    "result_summary_df.set_index(\"sample_date\", inplace=True)\n",
    "result_summary_df = result_summary_df.sort_index(ascending=False)"
   ]
  },
  {
   "cell_type": "markdown",
   "metadata": {
    "execution": {
     "iopub.execute_input": "2020-08-30T22:30:17.313260Z",
     "iopub.status.busy": "2020-08-30T22:30:17.312584Z",
     "iopub.status.idle": "2020-08-30T22:30:17.317571Z",
     "shell.execute_reply": "2020-08-30T22:30:17.316929Z"
    },
    "papermill": {
     "duration": 0.051226,
     "end_time": "2020-09-20T20:20:55.930296",
     "exception": false,
     "start_time": "2020-09-20T20:20:55.879070",
     "status": "completed"
    },
    "pycharm": {
     "name": "#%% md\n"
    },
    "tags": []
   },
   "source": [
    "## Report Results\n"
   ]
  },
  {
   "cell_type": "markdown",
   "metadata": {
    "papermill": {
     "duration": 0.043067,
     "end_time": "2020-09-20T20:20:56.019521",
     "exception": false,
     "start_time": "2020-09-20T20:20:55.976454",
     "status": "completed"
    },
    "tags": []
   },
   "source": [
    "### Summary Table"
   ]
  },
  {
   "cell_type": "code",
   "execution_count": 31,
   "metadata": {
    "execution": {
     "iopub.execute_input": "2020-09-20T20:20:56.128718Z",
     "iopub.status.busy": "2020-09-20T20:20:56.128069Z",
     "iopub.status.idle": "2020-09-20T20:20:56.131435Z",
     "shell.execute_reply": "2020-09-20T20:20:56.130931Z"
    },
    "papermill": {
     "duration": 0.069514,
     "end_time": "2020-09-20T20:20:56.131567",
     "exception": false,
     "start_time": "2020-09-20T20:20:56.062053",
     "status": "completed"
    },
    "tags": []
   },
   "outputs": [
    {
     "data": {
      "text/html": [
       "<div>\n",
       "<style scoped>\n",
       "    .dataframe tbody tr th:only-of-type {\n",
       "        vertical-align: middle;\n",
       "    }\n",
       "\n",
       "    .dataframe tbody tr th {\n",
       "        vertical-align: top;\n",
       "    }\n",
       "\n",
       "    .dataframe thead th {\n",
       "        text-align: right;\n",
       "    }\n",
       "</style>\n",
       "<table border=\"1\" class=\"dataframe\">\n",
       "  <thead>\n",
       "    <tr style=\"text-align: right;\">\n",
       "      <th></th>\n",
       "      <th>rolling_mean_new_cases</th>\n",
       "      <th>tek_count</th>\n",
       "      <th>new_tek_count</th>\n",
       "      <th>new_tek_devices</th>\n",
       "      <th>tek_count_per_new_case</th>\n",
       "      <th>new_tek_count_per_new_case</th>\n",
       "      <th>new_tek_devices_per_new_case</th>\n",
       "      <th>new_tek_count_per_new_tek_device</th>\n",
       "    </tr>\n",
       "    <tr>\n",
       "      <th>sample_date</th>\n",
       "      <th></th>\n",
       "      <th></th>\n",
       "      <th></th>\n",
       "      <th></th>\n",
       "      <th></th>\n",
       "      <th></th>\n",
       "      <th></th>\n",
       "      <th></th>\n",
       "    </tr>\n",
       "  </thead>\n",
       "  <tbody>\n",
       "    <tr>\n",
       "      <th>2020-09-20</th>\n",
       "      <td>21061.0</td>\n",
       "      <td>NaN</td>\n",
       "      <td>111.0</td>\n",
       "      <td>44</td>\n",
       "      <td>NaN</td>\n",
       "      <td>0.005270</td>\n",
       "      <td>0.002089</td>\n",
       "      <td>2.522727</td>\n",
       "    </tr>\n",
       "    <tr>\n",
       "      <th>2020-09-19</th>\n",
       "      <td>21061.0</td>\n",
       "      <td>46.0</td>\n",
       "      <td>90.0</td>\n",
       "      <td>39</td>\n",
       "      <td>0.002184</td>\n",
       "      <td>0.004273</td>\n",
       "      <td>0.001852</td>\n",
       "      <td>2.307692</td>\n",
       "    </tr>\n",
       "    <tr>\n",
       "      <th>2020-09-18</th>\n",
       "      <td>21061.0</td>\n",
       "      <td>60.0</td>\n",
       "      <td>138.0</td>\n",
       "      <td>52</td>\n",
       "      <td>0.002849</td>\n",
       "      <td>0.006552</td>\n",
       "      <td>0.002469</td>\n",
       "      <td>2.653846</td>\n",
       "    </tr>\n",
       "    <tr>\n",
       "      <th>2020-09-17</th>\n",
       "      <td>20431.0</td>\n",
       "      <td>80.0</td>\n",
       "      <td>63.0</td>\n",
       "      <td>29</td>\n",
       "      <td>0.003916</td>\n",
       "      <td>0.003084</td>\n",
       "      <td>0.001419</td>\n",
       "      <td>2.172414</td>\n",
       "    </tr>\n",
       "    <tr>\n",
       "      <th>2020-09-16</th>\n",
       "      <td>20280.0</td>\n",
       "      <td>84.0</td>\n",
       "      <td>62.0</td>\n",
       "      <td>23</td>\n",
       "      <td>0.004142</td>\n",
       "      <td>0.003057</td>\n",
       "      <td>0.001134</td>\n",
       "      <td>2.695652</td>\n",
       "    </tr>\n",
       "    <tr>\n",
       "      <th>2020-09-15</th>\n",
       "      <td>19615.0</td>\n",
       "      <td>81.0</td>\n",
       "      <td>58.0</td>\n",
       "      <td>23</td>\n",
       "      <td>0.004129</td>\n",
       "      <td>0.002957</td>\n",
       "      <td>0.001173</td>\n",
       "      <td>2.521739</td>\n",
       "    </tr>\n",
       "    <tr>\n",
       "      <th>2020-09-14</th>\n",
       "      <td>19480.0</td>\n",
       "      <td>73.0</td>\n",
       "      <td>61.0</td>\n",
       "      <td>28</td>\n",
       "      <td>0.003747</td>\n",
       "      <td>0.003131</td>\n",
       "      <td>0.001437</td>\n",
       "      <td>2.178571</td>\n",
       "    </tr>\n",
       "    <tr>\n",
       "      <th>2020-09-13</th>\n",
       "      <td>19239.0</td>\n",
       "      <td>75.0</td>\n",
       "      <td>92.0</td>\n",
       "      <td>32</td>\n",
       "      <td>0.003898</td>\n",
       "      <td>0.004782</td>\n",
       "      <td>0.001663</td>\n",
       "      <td>2.875000</td>\n",
       "    </tr>\n",
       "    <tr>\n",
       "      <th>2020-09-12</th>\n",
       "      <td>19239.0</td>\n",
       "      <td>67.0</td>\n",
       "      <td>92.0</td>\n",
       "      <td>33</td>\n",
       "      <td>0.003483</td>\n",
       "      <td>0.004782</td>\n",
       "      <td>0.001715</td>\n",
       "      <td>2.787879</td>\n",
       "    </tr>\n",
       "    <tr>\n",
       "      <th>2020-09-11</th>\n",
       "      <td>19239.0</td>\n",
       "      <td>75.0</td>\n",
       "      <td>46.0</td>\n",
       "      <td>19</td>\n",
       "      <td>0.003898</td>\n",
       "      <td>0.002391</td>\n",
       "      <td>0.000988</td>\n",
       "      <td>2.421053</td>\n",
       "    </tr>\n",
       "    <tr>\n",
       "      <th>2020-09-10</th>\n",
       "      <td>18751.0</td>\n",
       "      <td>68.0</td>\n",
       "      <td>45.0</td>\n",
       "      <td>15</td>\n",
       "      <td>0.003626</td>\n",
       "      <td>0.002400</td>\n",
       "      <td>0.000800</td>\n",
       "      <td>3.000000</td>\n",
       "    </tr>\n",
       "    <tr>\n",
       "      <th>2020-09-09</th>\n",
       "      <td>18236.0</td>\n",
       "      <td>60.0</td>\n",
       "      <td>67.0</td>\n",
       "      <td>21</td>\n",
       "      <td>0.003290</td>\n",
       "      <td>0.003674</td>\n",
       "      <td>0.001152</td>\n",
       "      <td>3.190476</td>\n",
       "    </tr>\n",
       "    <tr>\n",
       "      <th>2020-09-08</th>\n",
       "      <td>18154.0</td>\n",
       "      <td>61.0</td>\n",
       "      <td>44.0</td>\n",
       "      <td>18</td>\n",
       "      <td>0.003360</td>\n",
       "      <td>0.002424</td>\n",
       "      <td>0.000992</td>\n",
       "      <td>2.444444</td>\n",
       "    </tr>\n",
       "    <tr>\n",
       "      <th>2020-09-07</th>\n",
       "      <td>17912.0</td>\n",
       "      <td>58.0</td>\n",
       "      <td>NaN</td>\n",
       "      <td>22</td>\n",
       "      <td>0.003238</td>\n",
       "      <td>NaN</td>\n",
       "      <td>0.001228</td>\n",
       "      <td>NaN</td>\n",
       "    </tr>\n",
       "  </tbody>\n",
       "</table>\n",
       "</div>"
      ],
      "text/plain": [
       "             rolling_mean_new_cases  tek_count  new_tek_count  \\\n",
       "sample_date                                                     \n",
       "2020-09-20                  21061.0        NaN          111.0   \n",
       "2020-09-19                  21061.0       46.0           90.0   \n",
       "2020-09-18                  21061.0       60.0          138.0   \n",
       "2020-09-17                  20431.0       80.0           63.0   \n",
       "2020-09-16                  20280.0       84.0           62.0   \n",
       "2020-09-15                  19615.0       81.0           58.0   \n",
       "2020-09-14                  19480.0       73.0           61.0   \n",
       "2020-09-13                  19239.0       75.0           92.0   \n",
       "2020-09-12                  19239.0       67.0           92.0   \n",
       "2020-09-11                  19239.0       75.0           46.0   \n",
       "2020-09-10                  18751.0       68.0           45.0   \n",
       "2020-09-09                  18236.0       60.0           67.0   \n",
       "2020-09-08                  18154.0       61.0           44.0   \n",
       "2020-09-07                  17912.0       58.0            NaN   \n",
       "\n",
       "             new_tek_devices  tek_count_per_new_case  \\\n",
       "sample_date                                            \n",
       "2020-09-20                44                     NaN   \n",
       "2020-09-19                39                0.002184   \n",
       "2020-09-18                52                0.002849   \n",
       "2020-09-17                29                0.003916   \n",
       "2020-09-16                23                0.004142   \n",
       "2020-09-15                23                0.004129   \n",
       "2020-09-14                28                0.003747   \n",
       "2020-09-13                32                0.003898   \n",
       "2020-09-12                33                0.003483   \n",
       "2020-09-11                19                0.003898   \n",
       "2020-09-10                15                0.003626   \n",
       "2020-09-09                21                0.003290   \n",
       "2020-09-08                18                0.003360   \n",
       "2020-09-07                22                0.003238   \n",
       "\n",
       "             new_tek_count_per_new_case  new_tek_devices_per_new_case  \\\n",
       "sample_date                                                             \n",
       "2020-09-20                     0.005270                      0.002089   \n",
       "2020-09-19                     0.004273                      0.001852   \n",
       "2020-09-18                     0.006552                      0.002469   \n",
       "2020-09-17                     0.003084                      0.001419   \n",
       "2020-09-16                     0.003057                      0.001134   \n",
       "2020-09-15                     0.002957                      0.001173   \n",
       "2020-09-14                     0.003131                      0.001437   \n",
       "2020-09-13                     0.004782                      0.001663   \n",
       "2020-09-12                     0.004782                      0.001715   \n",
       "2020-09-11                     0.002391                      0.000988   \n",
       "2020-09-10                     0.002400                      0.000800   \n",
       "2020-09-09                     0.003674                      0.001152   \n",
       "2020-09-08                     0.002424                      0.000992   \n",
       "2020-09-07                          NaN                      0.001228   \n",
       "\n",
       "             new_tek_count_per_new_tek_device  \n",
       "sample_date                                    \n",
       "2020-09-20                           2.522727  \n",
       "2020-09-19                           2.307692  \n",
       "2020-09-18                           2.653846  \n",
       "2020-09-17                           2.172414  \n",
       "2020-09-16                           2.695652  \n",
       "2020-09-15                           2.521739  \n",
       "2020-09-14                           2.178571  \n",
       "2020-09-13                           2.875000  \n",
       "2020-09-12                           2.787879  \n",
       "2020-09-11                           2.421053  \n",
       "2020-09-10                           3.000000  \n",
       "2020-09-09                           3.190476  \n",
       "2020-09-08                           2.444444  \n",
       "2020-09-07                                NaN  "
      ]
     },
     "execution_count": 31,
     "metadata": {},
     "output_type": "execute_result"
    }
   ],
   "source": [
    "result_summary_df_ = result_summary_df.copy()\n",
    "result_summary_df = result_summary_df[[\n",
    "    \"rolling_mean_new_cases\",\n",
    "    \"tek_count\",\n",
    "    \"new_tek_count\",\n",
    "    \"new_tek_devices\",\n",
    "    \"tek_count_per_new_case\",\n",
    "    \"new_tek_count_per_new_case\",\n",
    "    \"new_tek_devices_per_new_case\",\n",
    "    \"new_tek_count_per_new_tek_device\"]]\n",
    "result_summary_df"
   ]
  },
  {
   "cell_type": "markdown",
   "metadata": {
    "papermill": {
     "duration": 0.05217,
     "end_time": "2020-09-20T20:20:56.252609",
     "exception": false,
     "start_time": "2020-09-20T20:20:56.200439",
     "status": "completed"
    },
    "tags": []
   },
   "source": [
    "### Summary Plots"
   ]
  },
  {
   "cell_type": "code",
   "execution_count": 32,
   "metadata": {
    "execution": {
     "iopub.execute_input": "2020-09-20T20:20:56.356024Z",
     "iopub.status.busy": "2020-09-20T20:20:56.355323Z",
     "iopub.status.idle": "2020-09-20T20:20:58.122065Z",
     "shell.execute_reply": "2020-09-20T20:20:58.122531Z"
    },
    "papermill": {
     "duration": 1.826007,
     "end_time": "2020-09-20T20:20:58.122699",
     "exception": false,
     "start_time": "2020-09-20T20:20:56.296692",
     "status": "completed"
    },
    "scrolled": false,
    "tags": []
   },
   "outputs": [
    {
     "data": {
      "image/png": "[encoded data removed]",
      "text/plain": [
       "<Figure size 1080x1584 with 6 Axes>"
      ]
     },
     "metadata": {},
     "output_type": "display_data"
    }
   ],
   "source": [
    "summary_ax_list = result_summary_df[[\n",
    "    \"rolling_mean_new_cases\",\n",
    "    \"tek_count\",\n",
    "    \"new_tek_count\",\n",
    "    \"new_tek_devices\",\n",
    "    \"new_tek_count_per_new_tek_device\",\n",
    "    \"new_tek_devices_per_new_case\"\n",
    "]].sort_index(ascending=True).plot.bar(\n",
    "    title=f\"Summary\",\n",
    "    rot=45, subplots=True, figsize=(15, 22), legend=False)\n",
    "ax_ = summary_ax_list[-1]\n",
    "ax_.get_figure().tight_layout()\n",
    "ax_.get_figure().subplots_adjust(top=0.95)\n",
    "ax_.yaxis.set_major_formatter(matplotlib.ticker.PercentFormatter(1.0))\n",
    "_ = ax_.set_xticklabels(sorted(result_summary_df.index.strftime(\"%Y-%m-%d\").tolist()))"
   ]
  },
  {
   "cell_type": "markdown",
   "metadata": {
    "papermill": {
     "duration": 0.044313,
     "end_time": "2020-09-20T20:20:58.211690",
     "exception": false,
     "start_time": "2020-09-20T20:20:58.167377",
     "status": "completed"
    },
    "tags": []
   },
   "source": [
    "### Hourly Summary Plots "
   ]
  },
  {
   "cell_type": "code",
   "execution_count": 33,
   "metadata": {
    "execution": {
     "iopub.execute_input": "2020-09-20T20:20:58.308401Z",
     "iopub.status.busy": "2020-09-20T20:20:58.307772Z",
     "iopub.status.idle": "2020-09-20T20:20:58.957716Z",
     "shell.execute_reply": "2020-09-20T20:20:58.958493Z"
    },
    "papermill": {
     "duration": 0.703464,
     "end_time": "2020-09-20T20:20:58.958670",
     "exception": false,
     "start_time": "2020-09-20T20:20:58.255206",
     "status": "completed"
    },
    "pycharm": {
     "name": "#%%\n"
    },
    "tags": []
   },
   "outputs": [
    {
     "data": {
      "image/png": "[encoded data removed]",
      "text/plain": [
       "<Figure size 1080x432 with 2 Axes>"
      ]
     },
     "metadata": {},
     "output_type": "display_data"
    }
   ],
   "source": [
    "hourly_summary_ax_list = hourly_summary_df.plot.bar(\n",
    "    title=f\"Last 24h Summary\",\n",
    "    rot=45, subplots=True, legend=False)\n",
    "ax_ = hourly_summary_ax_list[-1]\n",
    "ax_.get_figure().tight_layout()\n",
    "ax_.get_figure().subplots_adjust(top=0.9)\n",
    "_ = ax_.set_xticklabels(sorted(hourly_summary_df.index.strftime(\"%Y-%m-%d@%H\").tolist()))"
   ]
  },
  {
   "cell_type": "markdown",
   "metadata": {
    "collapsed": false,
    "papermill": {
     "duration": 0.046172,
     "end_time": "2020-09-20T20:20:59.055320",
     "exception": false,
     "start_time": "2020-09-20T20:20:59.009148",
     "status": "completed"
    },
    "tags": []
   },
   "source": [
    "### Multi-Region Summary Table"
   ]
  },
  {
   "cell_type": "code",
   "execution_count": 34,
   "metadata": {
    "collapsed": false,
    "execution": {
     "iopub.execute_input": "2020-09-20T20:20:59.150109Z",
     "iopub.status.busy": "2020-09-20T20:20:59.149538Z",
     "iopub.status.idle": "2020-09-20T20:20:59.153153Z",
     "shell.execute_reply": "2020-09-20T20:20:59.152592Z"
    },
    "papermill": {
     "duration": 0.054833,
     "end_time": "2020-09-20T20:20:59.153283",
     "exception": false,
     "start_time": "2020-09-20T20:20:59.098450",
     "status": "completed"
    },
    "pycharm": {
     "name": "#%%\n"
    },
    "tags": []
   },
   "outputs": [
    {
     "data": {
      "text/html": [
       "<div>\n",
       "<style scoped>\n",
       "    .dataframe tbody tr th:only-of-type {\n",
       "        vertical-align: middle;\n",
       "    }\n",
       "\n",
       "    .dataframe tbody tr th {\n",
       "        vertical-align: top;\n",
       "    }\n",
       "\n",
       "    .dataframe thead tr th {\n",
       "        text-align: left;\n",
       "    }\n",
       "\n",
       "    .dataframe thead tr:last-of-type th {\n",
       "        text-align: right;\n",
       "    }\n",
       "</style>\n",
       "<table border=\"1\" class=\"dataframe\">\n",
       "  <thead>\n",
       "    <tr>\n",
       "      <th></th>\n",
       "      <th>tek_count</th>\n",
       "    </tr>\n",
       "    <tr>\n",
       "      <th>region</th>\n",
       "      <th>ES</th>\n",
       "    </tr>\n",
       "    <tr>\n",
       "      <th>sample_date_string</th>\n",
       "      <th></th>\n",
       "    </tr>\n",
       "  </thead>\n",
       "  <tbody>\n",
       "    <tr>\n",
       "      <th>2020-09-19</th>\n",
       "      <td>46</td>\n",
       "    </tr>\n",
       "    <tr>\n",
       "      <th>2020-09-18</th>\n",
       "      <td>60</td>\n",
       "    </tr>\n",
       "    <tr>\n",
       "      <th>2020-09-17</th>\n",
       "      <td>80</td>\n",
       "    </tr>\n",
       "    <tr>\n",
       "      <th>2020-09-16</th>\n",
       "      <td>84</td>\n",
       "    </tr>\n",
       "    <tr>\n",
       "      <th>2020-09-15</th>\n",
       "      <td>81</td>\n",
       "    </tr>\n",
       "    <tr>\n",
       "      <th>2020-09-14</th>\n",
       "      <td>73</td>\n",
       "    </tr>\n",
       "    <tr>\n",
       "      <th>2020-09-13</th>\n",
       "      <td>75</td>\n",
       "    </tr>\n",
       "    <tr>\n",
       "      <th>2020-09-12</th>\n",
       "      <td>67</td>\n",
       "    </tr>\n",
       "    <tr>\n",
       "      <th>2020-09-11</th>\n",
       "      <td>75</td>\n",
       "    </tr>\n",
       "    <tr>\n",
       "      <th>2020-09-10</th>\n",
       "      <td>68</td>\n",
       "    </tr>\n",
       "    <tr>\n",
       "      <th>2020-09-09</th>\n",
       "      <td>60</td>\n",
       "    </tr>\n",
       "    <tr>\n",
       "      <th>2020-09-08</th>\n",
       "      <td>61</td>\n",
       "    </tr>\n",
       "    <tr>\n",
       "      <th>2020-09-07</th>\n",
       "      <td>58</td>\n",
       "    </tr>\n",
       "  </tbody>\n",
       "</table>\n",
       "</div>"
      ],
      "text/plain": [
       "                   tek_count\n",
       "region                    ES\n",
       "sample_date_string          \n",
       "2020-09-19                46\n",
       "2020-09-18                60\n",
       "2020-09-17                80\n",
       "2020-09-16                84\n",
       "2020-09-15                81\n",
       "2020-09-14                73\n",
       "2020-09-13                75\n",
       "2020-09-12                67\n",
       "2020-09-11                75\n",
       "2020-09-10                68\n",
       "2020-09-09                60\n",
       "2020-09-08                61\n",
       "2020-09-07                58"
      ]
     },
     "execution_count": 34,
     "metadata": {},
     "output_type": "execute_result"
    }
   ],
   "source": [
    "multi_region_summary_df"
   ]
  },
  {
   "cell_type": "markdown",
   "metadata": {
    "papermill": {
     "duration": 0.042,
     "end_time": "2020-09-20T20:20:59.241063",
     "exception": false,
     "start_time": "2020-09-20T20:20:59.199063",
     "status": "completed"
    },
    "tags": []
   },
   "source": [
    "### Publish Results"
   ]
  },
  {
   "cell_type": "code",
   "execution_count": 35,
   "metadata": {
    "execution": {
     "iopub.execute_input": "2020-09-20T20:20:59.340620Z",
     "iopub.status.busy": "2020-09-20T20:20:59.339999Z",
     "iopub.status.idle": "2020-09-20T20:21:09.517256Z",
     "shell.execute_reply": "2020-09-20T20:21:09.516608Z"
    },
    "papermill": {
     "duration": 10.231463,
     "end_time": "2020-09-20T20:21:09.517435",
     "exception": false,
     "start_time": "2020-09-20T20:20:59.285972",
     "status": "completed"
    },
    "pycharm": {
     "name": "#%%\n"
    },
    "tags": []
   },
   "outputs": [],
   "source": [
    "def get_temporary_image_path() -> str:\n",
    "    return os.path.join(tempfile.gettempdir(), str(uuid.uuid4()) + \".png\")\n",
    "\n",
    "def save_temporary_plot_image(ax):\n",
    "    if isinstance(ax, np.ndarray):\n",
    "        ax = ax[0]\n",
    "    media_path = get_temporary_image_path()\n",
    "    ax.get_figure().savefig(media_path)\n",
    "    return media_path\n",
    "\n",
    "def save_temporary_dataframe_image(df):\n",
    "    media_path = get_temporary_image_path()\n",
    "    dfi.export(df, media_path)\n",
    "    return media_path\n",
    "\n",
    "summary_plots_image_path = save_temporary_plot_image(ax=summary_ax_list)\n",
    "summary_table_image_path = save_temporary_dataframe_image(df=result_summary_df)\n",
    "hourly_summary_plots_image_path = save_temporary_plot_image(ax=hourly_summary_ax_list)\n",
    "multi_region_summary_table_image_path = save_temporary_dataframe_image(df=multi_region_summary_df)"
   ]
  },
  {
   "cell_type": "markdown",
   "metadata": {
    "papermill": {
     "duration": 0.055307,
     "end_time": "2020-09-20T20:21:09.620804",
     "exception": false,
     "start_time": "2020-09-20T20:21:09.565497",
     "status": "completed"
    },
    "tags": []
   },
   "source": [
    "### Save Results"
   ]
  },
  {
   "cell_type": "code",
   "execution_count": 36,
   "metadata": {
    "execution": {
     "iopub.execute_input": "2020-09-20T20:21:09.725879Z",
     "iopub.status.busy": "2020-09-20T20:21:09.725111Z",
     "iopub.status.idle": "2020-09-20T20:21:09.741585Z",
     "shell.execute_reply": "2020-09-20T20:21:09.741073Z"
    },
    "papermill": {
     "duration": 0.072618,
     "end_time": "2020-09-20T20:21:09.741718",
     "exception": false,
     "start_time": "2020-09-20T20:21:09.669100",
     "status": "completed"
    },
    "pycharm": {
     "name": "#%%\n"
    },
    "tags": []
   },
   "outputs": [],
   "source": [
    "report_resources_path_prefix = \"Data/Resources/Current/RadarCOVID-Report-\"\n",
    "result_summary_df.to_csv(report_resources_path_prefix + \"Summary-Table.csv\")\n",
    "result_summary_df.to_html(report_resources_path_prefix + \"Summary-Table.html\")\n",
    "multi_region_summary_df.to_csv(report_resources_path_prefix + \"Multi-Region-Summary-Table.csv\")\n",
    "_ = shutil.copyfile(summary_plots_image_path, report_resources_path_prefix + \"Summary-Plots.png\")\n",
    "_ = shutil.copyfile(summary_table_image_path, report_resources_path_prefix + \"Summary-Table.png\")\n",
    "_ = shutil.copyfile(hourly_summary_plots_image_path, report_resources_path_prefix + \"Hourly-Summary-Plots.png\")\n",
    "_ = shutil.copyfile(multi_region_summary_table_image_path, report_resources_path_prefix + \"Multi-Region-Summary-Table.png\")\n",
    "\n",
    "report_daily_url_pattern = \\\n",
    "    \"https://github.com/pvieito/RadarCOVID-Report/blob/master/Notebooks/\" \\\n",
    "    \"RadarCOVID-Report/{report_type}/RadarCOVID-Report-{report_date}.ipynb\"\n",
    "report_daily_url = report_daily_url_pattern.format(\n",
    "    report_type=\"Daily\", report_date=extraction_date)\n",
    "report_hourly_url = report_daily_url_pattern.format(\n",
    "    report_type=\"Hourly\", report_date=extraction_date_with_hour)"
   ]
  },
  {
   "cell_type": "markdown",
   "metadata": {
    "papermill": {
     "duration": 0.047186,
     "end_time": "2020-09-20T20:21:09.834244",
     "exception": false,
     "start_time": "2020-09-20T20:21:09.787058",
     "status": "completed"
    },
    "tags": []
   },
   "source": [
    "### Publish on README"
   ]
  },
  {
   "cell_type": "code",
   "execution_count": 37,
   "metadata": {
    "execution": {
     "iopub.execute_input": "2020-09-20T20:21:09.940941Z",
     "iopub.status.busy": "2020-09-20T20:21:09.932176Z",
     "iopub.status.idle": "2020-09-20T20:21:09.944136Z",
     "shell.execute_reply": "2020-09-20T20:21:09.943603Z"
    },
    "papermill": {
     "duration": 0.061332,
     "end_time": "2020-09-20T20:21:09.944261",
     "exception": false,
     "start_time": "2020-09-20T20:21:09.882929",
     "status": "completed"
    },
    "pycharm": {
     "name": "#%%\n"
    },
    "tags": []
   },
   "outputs": [],
   "source": [
    "with open(\"Data/Templates/README.md\", \"r\") as f:\n",
    "    readme_contents = f.read()\n",
    "\n",
    "summary_table_html = result_summary_df.to_html()\n",
    "multi_region_summary_table_html = multi_region_summary_df.to_html()\n",
    "readme_contents = readme_contents.format(\n",
    "    summary_table_html=summary_table_html,\n",
    "    multi_region_summary_table_html=multi_region_summary_table_html,\n",
    "    report_url_with_hour=report_hourly_url,\n",
    "    extraction_date_with_hour=extraction_date_with_hour)\n",
    "\n",
    "with open(\"README.md\", \"w\") as f:\n",
    "    f.write(readme_contents)"
   ]
  },
  {
   "cell_type": "markdown",
   "metadata": {
    "papermill": {
     "duration": 0.042216,
     "end_time": "2020-09-20T20:21:10.031124",
     "exception": false,
     "start_time": "2020-09-20T20:21:09.988908",
     "status": "completed"
    },
    "pycharm": {
     "name": "#%% md\n"
    },
    "tags": []
   },
   "source": [
    "### Publish on Twitter"
   ]
  },
  {
   "cell_type": "code",
   "execution_count": 38,
   "metadata": {
    "execution": {
     "iopub.execute_input": "2020-09-20T20:21:10.129132Z",
     "iopub.status.busy": "2020-09-20T20:21:10.128406Z",
     "iopub.status.idle": "2020-09-20T20:21:13.332679Z",
     "shell.execute_reply": "2020-09-20T20:21:13.332165Z"
    },
    "papermill": {
     "duration": 3.255827,
     "end_time": "2020-09-20T20:21:13.332813",
     "exception": false,
     "start_time": "2020-09-20T20:21:10.076986",
     "status": "completed"
    },
    "pycharm": {
     "name": "#%%\n"
    },
    "tags": []
   },
   "outputs": [],
   "source": [
    "enable_share_to_twitter = os.environ.get(\"RADARCOVID_REPORT__ENABLE_PUBLISH_ON_TWITTER\")\n",
    "github_event_name = os.environ.get(\"GITHUB_EVENT_NAME\")\n",
    "\n",
    "if enable_share_to_twitter and github_event_name == \"schedule\":\n",
    "    import tweepy\n",
    "\n",
    "    twitter_api_auth_keys = os.environ[\"RADARCOVID_REPORT__TWITTER_API_AUTH_KEYS\"]\n",
    "    twitter_api_auth_keys = twitter_api_auth_keys.split(\":\")\n",
    "    auth = tweepy.OAuthHandler(twitter_api_auth_keys[0], twitter_api_auth_keys[1])\n",
    "    auth.set_access_token(twitter_api_auth_keys[2], twitter_api_auth_keys[3])\n",
    "\n",
    "    api = tweepy.API(auth)\n",
    "\n",
    "    summary_plots_media = api.media_upload(summary_plots_image_path)\n",
    "    summary_table_media = api.media_upload(summary_table_image_path)\n",
    "    hourly_summary_plots_media = api.media_upload(hourly_summary_plots_image_path)\n",
    "    media_ids = [\n",
    "        summary_plots_media.media_id,\n",
    "        summary_table_media.media_id,\n",
    "        hourly_summary_plots_media.media_id,\n",
    "    ]\n",
    "\n",
    "    extraction_date_result_summary_df = \\\n",
    "        result_summary_df[result_summary_df.index == extraction_date]\n",
    "    extraction_date_result_hourly_summary_df = \\\n",
    "        hourly_summary_df[hourly_summary_df.extraction_date_with_hour == extraction_date_with_hour]\n",
    "\n",
    "    new_teks = extraction_date_result_summary_df.new_tek_count.sum().astype(int)\n",
    "    new_teks_last_hour = extraction_date_result_hourly_summary_df.new_tek_count.sum().astype(int)\n",
    "    new_devices = extraction_date_result_summary_df.new_tek_devices.sum().astype(int)\n",
    "    new_devices_last_hour = extraction_date_result_hourly_summary_df.new_tek_devices.sum().astype(int)\n",
    "    new_tek_count_per_new_tek_device = \\\n",
    "        extraction_date_result_summary_df.new_tek_count_per_new_tek_device.sum()\n",
    "    new_tek_devices_per_new_case = \\\n",
    "        extraction_date_result_summary_df.new_tek_devices_per_new_case.sum()\n",
    "\n",
    "    status = textwrap.dedent(f\"\"\"\n",
    "        Report Update – {extraction_date_with_hour}\n",
    "        #ExposureNotification #RadarCOVID\n",
    "\n",
    "        Shared Diagnoses Day Summary:\n",
    "        - New TEKs: {new_teks} ({new_teks_last_hour:+d} last hour)\n",
    "        - New Devices: {new_devices} ({new_devices_last_hour:+d} last hour, {new_tek_count_per_new_tek_device:.2} TEKs/device)\n",
    "        - Usage Ratio: {new_tek_devices_per_new_case:.2%} devices/case\n",
    "\n",
    "        Report Link: {report_hourly_url}\n",
    "        \"\"\")\n",
    "    status = status.encode(encoding=\"utf-8\")\n",
    "    api.update_status(status=status, media_ids=media_ids)"
   ]
  }
 ],
 "metadata": {
  "kernelspec": {
   "display_name": "Python 3",
   "language": "python",
   "name": "python3"
  },
  "language_info": {
   "codemirror_mode": {
    "name": "ipython",
    "version": 3
   },
   "file_extension": ".py",
   "mimetype": "text/x-python",
   "name": "python",
   "nbconvert_exporter": "python",
   "pygments_lexer": "ipython3",
   "version": "3.8.5"
  },
  "papermill": {
   "duration": 29.345335,
   "end_time": "2020-09-20T20:21:14.687961",
   "environment_variables": {},
   "exception": null,
   "input_path": "Notebooks/RadarCOVID-Report/Source/RadarCOVID-Report.ipynb",
   "output_path": "RadarCOVID-Report.ipynb",
   "parameters": {},
   "start_time": "2020-09-20T20:20:45.342626",
   "version": "2.1.3"
  }
 },
 "nbformat": 4,
 "nbformat_minor": 1
}