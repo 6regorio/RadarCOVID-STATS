{
 "cells": [
  {
   "cell_type": "markdown",
   "metadata": {
    "papermill": {
     "duration": 0.038592,
     "end_time": "2020-09-23T11:18:17.057096",
     "exception": false,
     "start_time": "2020-09-23T11:18:17.018504",
     "status": "completed"
    },
    "pycharm": {
     "name": "#%% md\n"
    },
    "tags": []
   },
   "source": [
    "# RadarCOVID-Report"
   ]
  },
  {
   "cell_type": "markdown",
   "metadata": {
    "collapsed": true,
    "papermill": {
     "duration": 0.036826,
     "end_time": "2020-09-23T11:18:17.131811",
     "exception": false,
     "start_time": "2020-09-23T11:18:17.094985",
     "status": "completed"
    },
    "pycharm": {
     "name": "#%% md\n"
    },
    "tags": []
   },
   "source": [
    "## Data Extraction"
   ]
  },
  {
   "cell_type": "code",
   "execution_count": 1,
   "metadata": {
    "execution": {
     "iopub.execute_input": "2020-09-23T11:18:17.211431Z",
     "iopub.status.busy": "2020-09-23T11:18:17.210750Z",
     "iopub.status.idle": "2020-09-23T11:18:18.543213Z",
     "shell.execute_reply": "2020-09-23T11:18:18.542587Z"
    },
    "papermill": {
     "duration": 1.37564,
     "end_time": "2020-09-23T11:18:18.543416",
     "exception": false,
     "start_time": "2020-09-23T11:18:17.167776",
     "status": "completed"
    },
    "pycharm": {
     "name": "#%%\n"
    },
    "tags": []
   },
   "outputs": [],
   "source": [
    "import datetime\n",
    "import json\n",
    "import logging\n",
    "import os\n",
    "import shutil\n",
    "import tempfile\n",
    "import textwrap\n",
    "import uuid\n",
    "\n",
    "import matplotlib.ticker\n",
    "import numpy as np\n",
    "import pandas as pd\n",
    "import seaborn as sns\n",
    "\n",
    "%matplotlib inline"
   ]
  },
  {
   "cell_type": "code",
   "execution_count": 2,
   "metadata": {
    "collapsed": false,
    "execution": {
     "iopub.execute_input": "2020-09-23T11:18:18.619214Z",
     "iopub.status.busy": "2020-09-23T11:18:18.618591Z",
     "iopub.status.idle": "2020-09-23T11:18:18.620461Z",
     "shell.execute_reply": "2020-09-23T11:18:18.620945Z"
    },
    "papermill": {
     "duration": 0.043022,
     "end_time": "2020-09-23T11:18:18.621141",
     "exception": false,
     "start_time": "2020-09-23T11:18:18.578119",
     "status": "completed"
    },
    "pycharm": {
     "name": "#%%\n"
    },
    "tags": []
   },
   "outputs": [],
   "source": [
    "current_working_directory = os.environ.get(\"PWD\")\n",
    "if current_working_directory:\n",
    "    os.chdir(current_working_directory)\n",
    "\n",
    "sns.set()\n",
    "matplotlib.rcParams[\"figure.figsize\"] = (15, 6)\n",
    "\n",
    "extraction_datetime = datetime.datetime.utcnow()\n",
    "extraction_date = extraction_datetime.strftime(\"%Y-%m-%d\")\n",
    "extraction_previous_datetime = extraction_datetime - datetime.timedelta(days=1)\n",
    "extraction_previous_date = extraction_previous_datetime.strftime(\"%Y-%m-%d\")\n",
    "extraction_date_with_hour = datetime.datetime.utcnow().strftime(\"%Y-%m-%d@%H\")"
   ]
  },
  {
   "cell_type": "markdown",
   "metadata": {
    "collapsed": false,
    "papermill": {
     "duration": 0.032735,
     "end_time": "2020-09-23T11:18:18.686813",
     "exception": false,
     "start_time": "2020-09-23T11:18:18.654078",
     "status": "completed"
    },
    "tags": []
   },
   "source": [
    "### Constants"
   ]
  },
  {
   "cell_type": "code",
   "execution_count": 3,
   "metadata": {
    "execution": {
     "iopub.execute_input": "2020-09-23T11:18:18.765427Z",
     "iopub.status.busy": "2020-09-23T11:18:18.764701Z",
     "iopub.status.idle": "2020-09-23T11:18:18.767164Z",
     "shell.execute_reply": "2020-09-23T11:18:18.766485Z"
    },
    "papermill": {
     "duration": 0.047909,
     "end_time": "2020-09-23T11:18:18.767317",
     "exception": false,
     "start_time": "2020-09-23T11:18:18.719408",
     "status": "completed"
    },
    "pycharm": {
     "name": "#%%\n"
    },
    "tags": []
   },
   "outputs": [],
   "source": [
    "spain_region_country_name = \"Spain\"\n",
    "spain_region_country_code = \"ES\"\n",
    "\n",
    "daily_summary_days = 7 * 3\n",
    "daily_plot_days = 7 * 2\n",
    "tek_dumps_load_limit = daily_summary_days + 1"
   ]
  },
  {
   "cell_type": "markdown",
   "metadata": {
    "collapsed": false,
    "papermill": {
     "duration": 0.032717,
     "end_time": "2020-09-23T11:18:18.833409",
     "exception": false,
     "start_time": "2020-09-23T11:18:18.800692",
     "status": "completed"
    },
    "pycharm": {
     "name": "#%% md\n"
    },
    "tags": []
   },
   "source": [
    "### COVID-19 Cases"
   ]
  },
  {
   "cell_type": "code",
   "execution_count": 4,
   "metadata": {
    "collapsed": false,
    "execution": {
     "iopub.execute_input": "2020-09-23T11:18:18.903650Z",
     "iopub.status.busy": "2020-09-23T11:18:18.903047Z",
     "iopub.status.idle": "2020-09-23T11:18:19.315129Z",
     "shell.execute_reply": "2020-09-23T11:18:19.315635Z"
    },
    "papermill": {
     "duration": 0.450286,
     "end_time": "2020-09-23T11:18:19.315818",
     "exception": false,
     "start_time": "2020-09-23T11:18:18.865532",
     "status": "completed"
    },
    "pycharm": {
     "name": "#%%\n"
    },
    "tags": []
   },
   "outputs": [
    {
     "data": {
      "text/html": [
       "<div>\n",
       "<style scoped>\n",
       "    .dataframe tbody tr th:only-of-type {\n",
       "        vertical-align: middle;\n",
       "    }\n",
       "\n",
       "    .dataframe tbody tr th {\n",
       "        vertical-align: top;\n",
       "    }\n",
       "\n",
       "    .dataframe thead th {\n",
       "        text-align: right;\n",
       "    }\n",
       "</style>\n",
       "<table border=\"1\" class=\"dataframe\">\n",
       "  <thead>\n",
       "    <tr style=\"text-align: right;\">\n",
       "      <th></th>\n",
       "      <th>Country_EN</th>\n",
       "      <th>Country_ES</th>\n",
       "      <th>Country_IT</th>\n",
       "      <th>Region</th>\n",
       "      <th>2020-01-23</th>\n",
       "      <th>2020-01-24</th>\n",
       "      <th>2020-01-25</th>\n",
       "      <th>2020-01-26</th>\n",
       "      <th>2020-01-27</th>\n",
       "      <th>2020-01-28</th>\n",
       "      <th>...</th>\n",
       "      <th>2020-09-13</th>\n",
       "      <th>2020-09-14</th>\n",
       "      <th>2020-09-15</th>\n",
       "      <th>2020-09-16</th>\n",
       "      <th>2020-09-17</th>\n",
       "      <th>2020-09-18</th>\n",
       "      <th>2020-09-19</th>\n",
       "      <th>2020-09-20</th>\n",
       "      <th>2020-09-21</th>\n",
       "      <th>2020-09-22</th>\n",
       "    </tr>\n",
       "  </thead>\n",
       "  <tbody>\n",
       "    <tr>\n",
       "      <th>218</th>\n",
       "      <td>Spain</td>\n",
       "      <td>España</td>\n",
       "      <td>Spagna</td>\n",
       "      <td>NaN</td>\n",
       "      <td>0.0</td>\n",
       "      <td>0.0</td>\n",
       "      <td>0.0</td>\n",
       "      <td>0.0</td>\n",
       "      <td>0.0</td>\n",
       "      <td>0.0</td>\n",
       "      <td>...</td>\n",
       "      <td>566326.0</td>\n",
       "      <td>593730.0</td>\n",
       "      <td>603167.0</td>\n",
       "      <td>614360.0</td>\n",
       "      <td>625651.0</td>\n",
       "      <td>640040.0</td>\n",
       "      <td>640040.0</td>\n",
       "      <td>640040.0</td>\n",
       "      <td>671468.0</td>\n",
       "      <td>682267.0</td>\n",
       "    </tr>\n",
       "  </tbody>\n",
       "</table>\n",
       "<p>1 rows × 248 columns</p>\n",
       "</div>"
      ],
      "text/plain": [
       "    Country_EN Country_ES Country_IT Region  2020-01-23  2020-01-24  \\\n",
       "218      Spain     España     Spagna    NaN         0.0         0.0   \n",
       "\n",
       "     2020-01-25  2020-01-26  2020-01-27  2020-01-28  ...  2020-09-13  \\\n",
       "218         0.0         0.0         0.0         0.0  ...    566326.0   \n",
       "\n",
       "     2020-09-14  2020-09-15  2020-09-16  2020-09-17  2020-09-18  2020-09-19  \\\n",
       "218    593730.0    603167.0    614360.0    625651.0    640040.0    640040.0   \n",
       "\n",
       "     2020-09-20  2020-09-21  2020-09-22  \n",
       "218    640040.0    671468.0    682267.0  \n",
       "\n",
       "[1 rows x 248 columns]"
      ]
     },
     "execution_count": 4,
     "metadata": {},
     "output_type": "execute_result"
    }
   ],
   "source": [
    "confirmed_df = pd.read_csv(\"https://covid19tracking.narrativa.com/csv/confirmed.csv\")\n",
    "\n",
    "radar_covid_countries = {spain_region_country_name}\n",
    "\n",
    "confirmed_df = confirmed_df[confirmed_df[\"Country_EN\"].isin(radar_covid_countries)]\n",
    "confirmed_df = confirmed_df[pd.isna(confirmed_df.Region)]\n",
    "confirmed_df.head()"
   ]
  },
  {
   "cell_type": "code",
   "execution_count": 5,
   "metadata": {
    "collapsed": false,
    "execution": {
     "iopub.execute_input": "2020-09-23T11:18:19.403149Z",
     "iopub.status.busy": "2020-09-23T11:18:19.402447Z",
     "iopub.status.idle": "2020-09-23T11:18:19.414609Z",
     "shell.execute_reply": "2020-09-23T11:18:19.415130Z"
    },
    "papermill": {
     "duration": 0.065164,
     "end_time": "2020-09-23T11:18:19.415330",
     "exception": false,
     "start_time": "2020-09-23T11:18:19.350166",
     "status": "completed"
    },
    "pycharm": {
     "name": "#%%\n"
    },
    "tags": []
   },
   "outputs": [
    {
     "data": {
      "text/html": [
       "<div>\n",
       "<style scoped>\n",
       "    .dataframe tbody tr th:only-of-type {\n",
       "        vertical-align: middle;\n",
       "    }\n",
       "\n",
       "    .dataframe tbody tr th {\n",
       "        vertical-align: top;\n",
       "    }\n",
       "\n",
       "    .dataframe thead th {\n",
       "        text-align: right;\n",
       "    }\n",
       "</style>\n",
       "<table border=\"1\" class=\"dataframe\">\n",
       "  <thead>\n",
       "    <tr style=\"text-align: right;\">\n",
       "      <th></th>\n",
       "      <th>2020-01-23</th>\n",
       "      <th>2020-01-24</th>\n",
       "      <th>2020-01-25</th>\n",
       "      <th>2020-01-26</th>\n",
       "      <th>2020-01-27</th>\n",
       "      <th>2020-01-28</th>\n",
       "      <th>2020-01-29</th>\n",
       "      <th>2020-01-30</th>\n",
       "      <th>2020-01-31</th>\n",
       "      <th>2020-02-01</th>\n",
       "      <th>...</th>\n",
       "      <th>2020-09-13</th>\n",
       "      <th>2020-09-14</th>\n",
       "      <th>2020-09-15</th>\n",
       "      <th>2020-09-16</th>\n",
       "      <th>2020-09-17</th>\n",
       "      <th>2020-09-18</th>\n",
       "      <th>2020-09-19</th>\n",
       "      <th>2020-09-20</th>\n",
       "      <th>2020-09-21</th>\n",
       "      <th>2020-09-22</th>\n",
       "    </tr>\n",
       "  </thead>\n",
       "  <tbody>\n",
       "    <tr>\n",
       "      <th>218</th>\n",
       "      <td>0.0</td>\n",
       "      <td>0.0</td>\n",
       "      <td>0.0</td>\n",
       "      <td>0.0</td>\n",
       "      <td>0.0</td>\n",
       "      <td>0.0</td>\n",
       "      <td>0.0</td>\n",
       "      <td>0.0</td>\n",
       "      <td>0.0</td>\n",
       "      <td>1.0</td>\n",
       "      <td>...</td>\n",
       "      <td>566326.0</td>\n",
       "      <td>593730.0</td>\n",
       "      <td>603167.0</td>\n",
       "      <td>614360.0</td>\n",
       "      <td>625651.0</td>\n",
       "      <td>640040.0</td>\n",
       "      <td>640040.0</td>\n",
       "      <td>640040.0</td>\n",
       "      <td>671468.0</td>\n",
       "      <td>682267.0</td>\n",
       "    </tr>\n",
       "  </tbody>\n",
       "</table>\n",
       "<p>1 rows × 244 columns</p>\n",
       "</div>"
      ],
      "text/plain": [
       "     2020-01-23  2020-01-24  2020-01-25  2020-01-26  2020-01-27  2020-01-28  \\\n",
       "218         0.0         0.0         0.0         0.0         0.0         0.0   \n",
       "\n",
       "     2020-01-29  2020-01-30  2020-01-31  2020-02-01  ...  2020-09-13  \\\n",
       "218         0.0         0.0         0.0         1.0  ...    566326.0   \n",
       "\n",
       "     2020-09-14  2020-09-15  2020-09-16  2020-09-17  2020-09-18  2020-09-19  \\\n",
       "218    593730.0    603167.0    614360.0    625651.0    640040.0    640040.0   \n",
       "\n",
       "     2020-09-20  2020-09-21  2020-09-22  \n",
       "218    640040.0    671468.0    682267.0  \n",
       "\n",
       "[1 rows x 244 columns]"
      ]
     },
     "execution_count": 5,
     "metadata": {},
     "output_type": "execute_result"
    }
   ],
   "source": [
    "confirmed_country_columns = list(filter(lambda x: x.startswith(\"Country_\"), confirmed_df.columns))\n",
    "confirmed_regional_columns = confirmed_country_columns + [\"Region\"]\n",
    "confirmed_df.drop(columns=confirmed_regional_columns, inplace=True)\n",
    "confirmed_df.head()"
   ]
  },
  {
   "cell_type": "code",
   "execution_count": 6,
   "metadata": {
    "collapsed": false,
    "execution": {
     "iopub.execute_input": "2020-09-23T11:18:19.502439Z",
     "iopub.status.busy": "2020-09-23T11:18:19.501681Z",
     "iopub.status.idle": "2020-09-23T11:18:19.505912Z",
     "shell.execute_reply": "2020-09-23T11:18:19.505352Z"
    },
    "papermill": {
     "duration": 0.052274,
     "end_time": "2020-09-23T11:18:19.506073",
     "exception": false,
     "start_time": "2020-09-23T11:18:19.453799",
     "status": "completed"
    },
    "pycharm": {
     "name": "#%%\n"
    },
    "tags": []
   },
   "outputs": [
    {
     "data": {
      "text/html": [
       "<div>\n",
       "<style scoped>\n",
       "    .dataframe tbody tr th:only-of-type {\n",
       "        vertical-align: middle;\n",
       "    }\n",
       "\n",
       "    .dataframe tbody tr th {\n",
       "        vertical-align: top;\n",
       "    }\n",
       "\n",
       "    .dataframe thead th {\n",
       "        text-align: right;\n",
       "    }\n",
       "</style>\n",
       "<table border=\"1\" class=\"dataframe\">\n",
       "  <thead>\n",
       "    <tr style=\"text-align: right;\">\n",
       "      <th></th>\n",
       "      <th>0</th>\n",
       "    </tr>\n",
       "  </thead>\n",
       "  <tbody>\n",
       "    <tr>\n",
       "      <th>2020-09-18</th>\n",
       "      <td>640040.0</td>\n",
       "    </tr>\n",
       "    <tr>\n",
       "      <th>2020-09-19</th>\n",
       "      <td>640040.0</td>\n",
       "    </tr>\n",
       "    <tr>\n",
       "      <th>2020-09-20</th>\n",
       "      <td>640040.0</td>\n",
       "    </tr>\n",
       "    <tr>\n",
       "      <th>2020-09-21</th>\n",
       "      <td>671468.0</td>\n",
       "    </tr>\n",
       "    <tr>\n",
       "      <th>2020-09-22</th>\n",
       "      <td>682267.0</td>\n",
       "    </tr>\n",
       "  </tbody>\n",
       "</table>\n",
       "</div>"
      ],
      "text/plain": [
       "                   0\n",
       "2020-09-18  640040.0\n",
       "2020-09-19  640040.0\n",
       "2020-09-20  640040.0\n",
       "2020-09-21  671468.0\n",
       "2020-09-22  682267.0"
      ]
     },
     "execution_count": 6,
     "metadata": {},
     "output_type": "execute_result"
    }
   ],
   "source": [
    "confirmed_df = confirmed_df.sum().to_frame()\n",
    "confirmed_df.tail()"
   ]
  },
  {
   "cell_type": "code",
   "execution_count": 7,
   "metadata": {
    "collapsed": false,
    "execution": {
     "iopub.execute_input": "2020-09-23T11:18:19.603084Z",
     "iopub.status.busy": "2020-09-23T11:18:19.602390Z",
     "iopub.status.idle": "2020-09-23T11:18:19.605421Z",
     "shell.execute_reply": "2020-09-23T11:18:19.606073Z"
    },
    "papermill": {
     "duration": 0.062354,
     "end_time": "2020-09-23T11:18:19.606267",
     "exception": false,
     "start_time": "2020-09-23T11:18:19.543913",
     "status": "completed"
    },
    "pycharm": {
     "name": "#%%\n"
    },
    "tags": []
   },
   "outputs": [
    {
     "data": {
      "text/html": [
       "<div>\n",
       "<style scoped>\n",
       "    .dataframe tbody tr th:only-of-type {\n",
       "        vertical-align: middle;\n",
       "    }\n",
       "\n",
       "    .dataframe tbody tr th {\n",
       "        vertical-align: top;\n",
       "    }\n",
       "\n",
       "    .dataframe thead th {\n",
       "        text-align: right;\n",
       "    }\n",
       "</style>\n",
       "<table border=\"1\" class=\"dataframe\">\n",
       "  <thead>\n",
       "    <tr style=\"text-align: right;\">\n",
       "      <th></th>\n",
       "      <th>sample_date_string</th>\n",
       "      <th>cumulative_cases</th>\n",
       "      <th>new_cases</th>\n",
       "      <th>covid_cases</th>\n",
       "    </tr>\n",
       "  </thead>\n",
       "  <tbody>\n",
       "    <tr>\n",
       "      <th>239</th>\n",
       "      <td>2020-09-18</td>\n",
       "      <td>640040.0</td>\n",
       "      <td>14389.0</td>\n",
       "      <td>10531.0</td>\n",
       "    </tr>\n",
       "    <tr>\n",
       "      <th>240</th>\n",
       "      <td>2020-09-19</td>\n",
       "      <td>640040.0</td>\n",
       "      <td>0.0</td>\n",
       "      <td>10531.0</td>\n",
       "    </tr>\n",
       "    <tr>\n",
       "      <th>241</th>\n",
       "      <td>2020-09-20</td>\n",
       "      <td>640040.0</td>\n",
       "      <td>0.0</td>\n",
       "      <td>10531.0</td>\n",
       "    </tr>\n",
       "    <tr>\n",
       "      <th>242</th>\n",
       "      <td>2020-09-21</td>\n",
       "      <td>671468.0</td>\n",
       "      <td>31428.0</td>\n",
       "      <td>11105.0</td>\n",
       "    </tr>\n",
       "    <tr>\n",
       "      <th>243</th>\n",
       "      <td>2020-09-22</td>\n",
       "      <td>682267.0</td>\n",
       "      <td>10799.0</td>\n",
       "      <td>11300.0</td>\n",
       "    </tr>\n",
       "  </tbody>\n",
       "</table>\n",
       "</div>"
      ],
      "text/plain": [
       "    sample_date_string  cumulative_cases  new_cases  covid_cases\n",
       "239         2020-09-18          640040.0    14389.0      10531.0\n",
       "240         2020-09-19          640040.0        0.0      10531.0\n",
       "241         2020-09-20          640040.0        0.0      10531.0\n",
       "242         2020-09-21          671468.0    31428.0      11105.0\n",
       "243         2020-09-22          682267.0    10799.0      11300.0"
      ]
     },
     "execution_count": 7,
     "metadata": {},
     "output_type": "execute_result"
    }
   ],
   "source": [
    "confirmed_df.reset_index(inplace=True)\n",
    "confirmed_df.columns = [\"sample_date_string\", \"cumulative_cases\"]\n",
    "confirmed_df.sort_values(\"sample_date_string\", inplace=True)\n",
    "confirmed_df[\"new_cases\"] = confirmed_df.cumulative_cases.diff()\n",
    "confirmed_df[\"covid_cases\"] = confirmed_df.new_cases.rolling(7).mean().round()\n",
    "confirmed_df.tail()"
   ]
  },
  {
   "cell_type": "code",
   "execution_count": 8,
   "metadata": {
    "execution": {
     "iopub.execute_input": "2020-09-23T11:18:19.694921Z",
     "iopub.status.busy": "2020-09-23T11:18:19.694233Z",
     "iopub.status.idle": "2020-09-23T11:18:19.706605Z",
     "shell.execute_reply": "2020-09-23T11:18:19.707196Z"
    },
    "papermill": {
     "duration": 0.061258,
     "end_time": "2020-09-23T11:18:19.707388",
     "exception": false,
     "start_time": "2020-09-23T11:18:19.646130",
     "status": "completed"
    },
    "pycharm": {
     "name": "#%%\n"
    },
    "tags": []
   },
   "outputs": [
    {
     "data": {
      "text/html": [
       "<div>\n",
       "<style scoped>\n",
       "    .dataframe tbody tr th:only-of-type {\n",
       "        vertical-align: middle;\n",
       "    }\n",
       "\n",
       "    .dataframe tbody tr th {\n",
       "        vertical-align: top;\n",
       "    }\n",
       "\n",
       "    .dataframe thead th {\n",
       "        text-align: right;\n",
       "    }\n",
       "</style>\n",
       "<table border=\"1\" class=\"dataframe\">\n",
       "  <thead>\n",
       "    <tr style=\"text-align: right;\">\n",
       "      <th></th>\n",
       "      <th>sample_date_string</th>\n",
       "      <th>cumulative_cases</th>\n",
       "      <th>new_cases</th>\n",
       "      <th>covid_cases</th>\n",
       "    </tr>\n",
       "  </thead>\n",
       "  <tbody>\n",
       "    <tr>\n",
       "      <th>240</th>\n",
       "      <td>2020-09-19</td>\n",
       "      <td>640040.0</td>\n",
       "      <td>0.0</td>\n",
       "      <td>10531</td>\n",
       "    </tr>\n",
       "    <tr>\n",
       "      <th>241</th>\n",
       "      <td>2020-09-20</td>\n",
       "      <td>640040.0</td>\n",
       "      <td>0.0</td>\n",
       "      <td>10531</td>\n",
       "    </tr>\n",
       "    <tr>\n",
       "      <th>242</th>\n",
       "      <td>2020-09-21</td>\n",
       "      <td>671468.0</td>\n",
       "      <td>31428.0</td>\n",
       "      <td>11105</td>\n",
       "    </tr>\n",
       "    <tr>\n",
       "      <th>243</th>\n",
       "      <td>2020-09-22</td>\n",
       "      <td>682267.0</td>\n",
       "      <td>10799.0</td>\n",
       "      <td>11300</td>\n",
       "    </tr>\n",
       "    <tr>\n",
       "      <th>243</th>\n",
       "      <td>2020-09-23</td>\n",
       "      <td>693567.0</td>\n",
       "      <td>11300.0</td>\n",
       "      <td>11300</td>\n",
       "    </tr>\n",
       "  </tbody>\n",
       "</table>\n",
       "</div>"
      ],
      "text/plain": [
       "    sample_date_string  cumulative_cases  new_cases  covid_cases\n",
       "240         2020-09-19          640040.0        0.0        10531\n",
       "241         2020-09-20          640040.0        0.0        10531\n",
       "242         2020-09-21          671468.0    31428.0        11105\n",
       "243         2020-09-22          682267.0    10799.0        11300\n",
       "243         2020-09-23          693567.0    11300.0        11300"
      ]
     },
     "execution_count": 8,
     "metadata": {},
     "output_type": "execute_result"
    }
   ],
   "source": [
    "extraction_date_confirmed_df = \\\n",
    "    confirmed_df[confirmed_df.sample_date_string == extraction_date]\n",
    "extraction_previous_date_confirmed_df = \\\n",
    "    confirmed_df[confirmed_df.sample_date_string == extraction_previous_date].copy()\n",
    "\n",
    "if extraction_date_confirmed_df.empty and \\\n",
    "    not extraction_previous_date_confirmed_df.empty:\n",
    "        extraction_previous_date_confirmed_df[\"sample_date_string\"] = extraction_date\n",
    "        extraction_previous_date_confirmed_df[\"new_cases\"] = \\\n",
    "            extraction_previous_date_confirmed_df.covid_cases\n",
    "        extraction_previous_date_confirmed_df[\"cumulative_cases\"] = \\\n",
    "            extraction_previous_date_confirmed_df.new_cases + \\\n",
    "            extraction_previous_date_confirmed_df.cumulative_cases\n",
    "        confirmed_df = confirmed_df.append(extraction_previous_date_confirmed_df)\n",
    "\n",
    "confirmed_df[\"covid_cases\"] = confirmed_df.covid_cases.fillna(0).astype(int)\n",
    "confirmed_df.tail()"
   ]
  },
  {
   "cell_type": "code",
   "execution_count": 9,
   "metadata": {
    "execution": {
     "iopub.execute_input": "2020-09-23T11:18:19.796953Z",
     "iopub.status.busy": "2020-09-23T11:18:19.796280Z",
     "iopub.status.idle": "2020-09-23T11:18:20.004238Z",
     "shell.execute_reply": "2020-09-23T11:18:20.004835Z"
    },
    "papermill": {
     "duration": 0.258156,
     "end_time": "2020-09-23T11:18:20.005031",
     "exception": false,
     "start_time": "2020-09-23T11:18:19.746875",
     "status": "completed"
    },
    "pycharm": {
     "name": "#%%\n"
    },
    "tags": []
   },
   "outputs": [
    {
     "data": {
      "text/plain": [
       "<matplotlib.axes._subplots.AxesSubplot at 0x7f412fd36730>"
      ]
     },
     "execution_count": 9,
     "metadata": {},
     "output_type": "execute_result"
    },
    {
     "data": {
      "image/png": "[encoded data removed]",
      "text/plain": [
       "<Figure size 1080x432 with 1 Axes>"
      ]
     },
     "metadata": {},
     "output_type": "display_data"
    }
   ],
   "source": [
    "confirmed_df[[\"new_cases\", \"covid_cases\"]].plot()"
   ]
  },
  {
   "cell_type": "markdown",
   "metadata": {
    "execution": {
     "iopub.execute_input": "2020-08-30T22:30:16.351238Z",
     "iopub.status.busy": "2020-08-30T22:30:16.344579Z",
     "iopub.status.idle": "2020-08-30T22:30:16.354285Z",
     "shell.execute_reply": "2020-08-30T22:30:16.353641Z"
    },
    "papermill": {
     "duration": 0.038958,
     "end_time": "2020-09-23T11:18:20.081587",
     "exception": false,
     "start_time": "2020-09-23T11:18:20.042629",
     "status": "completed"
    },
    "pycharm": {
     "name": "#%% md\n"
    },
    "tags": []
   },
   "source": [
    "### Extract API TEKs"
   ]
  },
  {
   "cell_type": "code",
   "execution_count": 10,
   "metadata": {
    "execution": {
     "iopub.execute_input": "2020-09-23T11:18:20.164128Z",
     "iopub.status.busy": "2020-09-23T11:18:20.163519Z",
     "iopub.status.idle": "2020-09-23T11:18:21.247978Z",
     "shell.execute_reply": "2020-09-23T11:18:21.248509Z"
    },
    "papermill": {
     "duration": 1.127574,
     "end_time": "2020-09-23T11:18:21.248703",
     "exception": false,
     "start_time": "2020-09-23T11:18:20.121129",
     "status": "completed"
    },
    "pycharm": {
     "name": "#%%\n"
    },
    "tags": []
   },
   "outputs": [
    {
     "name": "stderr",
     "output_type": "stream",
     "text": [
      "WARNING:root:Unexpected key 'key_rolling_period': 24000s (expected: 86400s)\n"
     ]
    },
    {
     "name": "stderr",
     "output_type": "stream",
     "text": [
      "WARNING:root:Unexpected key 'key_rolling_period': 38400s (expected: 86400s)\n"
     ]
    },
    {
     "name": "stderr",
     "output_type": "stream",
     "text": [
      "WARNING:root:Unexpected key 'key_rolling_period': 23400s (expected: 86400s)\n"
     ]
    },
    {
     "name": "stderr",
     "output_type": "stream",
     "text": [
      "WARNING:root:Unexpected key 'key_rolling_period': 53400s (expected: 86400s)\n"
     ]
    },
    {
     "name": "stderr",
     "output_type": "stream",
     "text": [
      "WARNING:root:Unexpected key 'key_rolling_period': 48600s (expected: 86400s)\n"
     ]
    },
    {
     "data": {
      "text/html": [
       "<div>\n",
       "<style scoped>\n",
       "    .dataframe tbody tr th:only-of-type {\n",
       "        vertical-align: middle;\n",
       "    }\n",
       "\n",
       "    .dataframe tbody tr th {\n",
       "        vertical-align: top;\n",
       "    }\n",
       "\n",
       "    .dataframe thead th {\n",
       "        text-align: right;\n",
       "    }\n",
       "</style>\n",
       "<table border=\"1\" class=\"dataframe\">\n",
       "  <thead>\n",
       "    <tr style=\"text-align: right;\">\n",
       "      <th></th>\n",
       "      <th>sample_date_string</th>\n",
       "      <th>source_url</th>\n",
       "      <th>region</th>\n",
       "      <th>key_data</th>\n",
       "    </tr>\n",
       "  </thead>\n",
       "  <tbody>\n",
       "    <tr>\n",
       "      <th>0</th>\n",
       "      <td>2020-09-23</td>\n",
       "      <td>https://radarcovid.covid19.gob.es/dp3t/v1/gaen...</td>\n",
       "      <td>ES</td>\n",
       "      <td>9702842d-6fb9-2c80-04a8-1e3023edd633</td>\n",
       "    </tr>\n",
       "    <tr>\n",
       "      <th>0</th>\n",
       "      <td>2020-09-22</td>\n",
       "      <td>https://radarcovid.covid19.gob.es/dp3t/v1/gaen...</td>\n",
       "      <td>ES</td>\n",
       "      <td>0f9bfc2c-205f-0345-16a5-01206859cd0f</td>\n",
       "    </tr>\n",
       "    <tr>\n",
       "      <th>1</th>\n",
       "      <td>2020-09-22</td>\n",
       "      <td>https://radarcovid.covid19.gob.es/dp3t/v1/gaen...</td>\n",
       "      <td>ES</td>\n",
       "      <td>b26eee94-2bc6-5cad-1a3a-d18f67fe9d0a</td>\n",
       "    </tr>\n",
       "    <tr>\n",
       "      <th>2</th>\n",
       "      <td>2020-09-22</td>\n",
       "      <td>https://radarcovid.covid19.gob.es/dp3t/v1/gaen...</td>\n",
       "      <td>ES</td>\n",
       "      <td>83362bed-c176-e0f6-7698-c8c53fa4d42e</td>\n",
       "    </tr>\n",
       "    <tr>\n",
       "      <th>3</th>\n",
       "      <td>2020-09-22</td>\n",
       "      <td>https://radarcovid.covid19.gob.es/dp3t/v1/gaen...</td>\n",
       "      <td>ES</td>\n",
       "      <td>155155a8-e968-25cd-f20d-30ef167bb033</td>\n",
       "    </tr>\n",
       "  </tbody>\n",
       "</table>\n",
       "</div>"
      ],
      "text/plain": [
       "  sample_date_string                                         source_url  \\\n",
       "0         2020-09-23  https://radarcovid.covid19.gob.es/dp3t/v1/gaen...   \n",
       "0         2020-09-22  https://radarcovid.covid19.gob.es/dp3t/v1/gaen...   \n",
       "1         2020-09-22  https://radarcovid.covid19.gob.es/dp3t/v1/gaen...   \n",
       "2         2020-09-22  https://radarcovid.covid19.gob.es/dp3t/v1/gaen...   \n",
       "3         2020-09-22  https://radarcovid.covid19.gob.es/dp3t/v1/gaen...   \n",
       "\n",
       "  region                              key_data  \n",
       "0     ES  9702842d-6fb9-2c80-04a8-1e3023edd633  \n",
       "0     ES  0f9bfc2c-205f-0345-16a5-01206859cd0f  \n",
       "1     ES  b26eee94-2bc6-5cad-1a3a-d18f67fe9d0a  \n",
       "2     ES  83362bed-c176-e0f6-7698-c8c53fa4d42e  \n",
       "3     ES  155155a8-e968-25cd-f20d-30ef167bb033  "
      ]
     },
     "execution_count": 10,
     "metadata": {},
     "output_type": "execute_result"
    }
   ],
   "source": [
    "from Modules.RadarCOVID import radar_covid\n",
    "\n",
    "raw_zip_paths = [\n",
    "    \"Data/TEKs/Raw/Current/RadarCOVID-TEKs-{sample_date}.zip\",\n",
    "    f\"Data/TEKs/Raw/Daily/{extraction_date}/RadarCOVID-TEKs-{{sample_date}}.zip\",\n",
    "    f\"Data/TEKs/Raw/Hourly/{extraction_date_with_hour}/RadarCOVID-TEKs-{{sample_date}}.zip\",\n",
    "]\n",
    "\n",
    "multi_region_exposure_keys_df = \\\n",
    "    radar_covid.download_last_radar_covid_exposure_keys(\n",
    "        days=14, save_raw_zip_path=raw_zip_paths)\n",
    "multi_region_exposure_keys_df = multi_region_exposure_keys_df[[\n",
    "    \"sample_date_string\", \"source_url\", \"region\", \"key_data\"]]\n",
    "multi_region_exposure_keys_df.head()"
   ]
  },
  {
   "cell_type": "code",
   "execution_count": 11,
   "metadata": {
    "collapsed": false,
    "execution": {
     "iopub.execute_input": "2020-09-23T11:18:21.350365Z",
     "iopub.status.busy": "2020-09-23T11:18:21.349749Z",
     "iopub.status.idle": "2020-09-23T11:18:21.354962Z",
     "shell.execute_reply": "2020-09-23T11:18:21.354431Z"
    },
    "papermill": {
     "duration": 0.061643,
     "end_time": "2020-09-23T11:18:21.355106",
     "exception": false,
     "start_time": "2020-09-23T11:18:21.293463",
     "status": "completed"
    },
    "pycharm": {
     "name": "#%%\n"
    },
    "tags": []
   },
   "outputs": [
    {
     "data": {
      "text/plain": [
       "['ES']"
      ]
     },
     "execution_count": 11,
     "metadata": {},
     "output_type": "execute_result"
    }
   ],
   "source": [
    "active_regions = \\\n",
    "    multi_region_exposure_keys_df.groupby(\"region\").key_data.nunique().sort_values().index.unique().tolist()\n",
    "active_regions"
   ]
  },
  {
   "cell_type": "code",
   "execution_count": 12,
   "metadata": {
    "collapsed": false,
    "execution": {
     "iopub.execute_input": "2020-09-23T11:18:21.441191Z",
     "iopub.status.busy": "2020-09-23T11:18:21.440558Z",
     "iopub.status.idle": "2020-09-23T11:18:21.461865Z",
     "shell.execute_reply": "2020-09-23T11:18:21.462394Z"
    },
    "papermill": {
     "duration": 0.067286,
     "end_time": "2020-09-23T11:18:21.462568",
     "exception": false,
     "start_time": "2020-09-23T11:18:21.395282",
     "status": "completed"
    },
    "pycharm": {
     "name": "#%%\n"
    },
    "tags": []
   },
   "outputs": [
    {
     "data": {
      "text/html": [
       "<div>\n",
       "<style scoped>\n",
       "    .dataframe tbody tr th:only-of-type {\n",
       "        vertical-align: middle;\n",
       "    }\n",
       "\n",
       "    .dataframe tbody tr th {\n",
       "        vertical-align: top;\n",
       "    }\n",
       "\n",
       "    .dataframe thead tr th {\n",
       "        text-align: left;\n",
       "    }\n",
       "\n",
       "    .dataframe thead tr:last-of-type th {\n",
       "        text-align: right;\n",
       "    }\n",
       "</style>\n",
       "<table border=\"1\" class=\"dataframe\">\n",
       "  <thead>\n",
       "    <tr>\n",
       "      <th></th>\n",
       "      <th>shared_teks_by_generation_date</th>\n",
       "    </tr>\n",
       "    <tr>\n",
       "      <th>region</th>\n",
       "      <th>ES</th>\n",
       "    </tr>\n",
       "    <tr>\n",
       "      <th>sample_date_string</th>\n",
       "      <th></th>\n",
       "    </tr>\n",
       "  </thead>\n",
       "  <tbody>\n",
       "    <tr>\n",
       "      <th>2020-09-23</th>\n",
       "      <td>1</td>\n",
       "    </tr>\n",
       "    <tr>\n",
       "      <th>2020-09-22</th>\n",
       "      <td>39</td>\n",
       "    </tr>\n",
       "    <tr>\n",
       "      <th>2020-09-21</th>\n",
       "      <td>73</td>\n",
       "    </tr>\n",
       "    <tr>\n",
       "      <th>2020-09-20</th>\n",
       "      <td>90</td>\n",
       "    </tr>\n",
       "    <tr>\n",
       "      <th>2020-09-19</th>\n",
       "      <td>128</td>\n",
       "    </tr>\n",
       "  </tbody>\n",
       "</table>\n",
       "</div>"
      ],
      "text/plain": [
       "                   shared_teks_by_generation_date\n",
       "region                                         ES\n",
       "sample_date_string                               \n",
       "2020-09-23                                      1\n",
       "2020-09-22                                     39\n",
       "2020-09-21                                     73\n",
       "2020-09-20                                     90\n",
       "2020-09-19                                    128"
      ]
     },
     "execution_count": 12,
     "metadata": {},
     "output_type": "execute_result"
    }
   ],
   "source": [
    "multi_region_summary_df = multi_region_exposure_keys_df.groupby(\n",
    "    [\"sample_date_string\", \"region\"]).key_data.nunique().reset_index() \\\n",
    "    .pivot(index=\"sample_date_string\", columns=\"region\") \\\n",
    "    .sort_index(ascending=False)\n",
    "multi_region_summary_df.rename(columns={\"key_data\": \"shared_teks_by_generation_date\"}, inplace=True)\n",
    "multi_region_summary_df.head()"
   ]
  },
  {
   "cell_type": "code",
   "execution_count": 13,
   "metadata": {
    "collapsed": false,
    "execution": {
     "iopub.execute_input": "2020-09-23T11:18:21.550602Z",
     "iopub.status.busy": "2020-09-23T11:18:21.549991Z",
     "iopub.status.idle": "2020-09-23T11:18:21.554364Z",
     "shell.execute_reply": "2020-09-23T11:18:21.554839Z"
    },
    "papermill": {
     "duration": 0.052333,
     "end_time": "2020-09-23T11:18:21.555013",
     "exception": false,
     "start_time": "2020-09-23T11:18:21.502680",
     "status": "completed"
    },
    "pycharm": {
     "name": "#%%\n"
    },
    "tags": []
   },
   "outputs": [
    {
     "data": {
      "text/plain": [
       "[]"
      ]
     },
     "execution_count": 13,
     "metadata": {},
     "output_type": "execute_result"
    }
   ],
   "source": [
    "multi_region_without_spain_exposure_keys_df = \\\n",
    "    multi_region_exposure_keys_df[multi_region_exposure_keys_df.region != spain_region_country_code]\n",
    "active_regions_excluding_spain = \\\n",
    "    multi_region_without_spain_exposure_keys_df.groupby(\"region\").key_data.nunique().sort_values().index.unique().tolist()\n",
    "active_regions_excluding_spain"
   ]
  },
  {
   "cell_type": "code",
   "execution_count": 14,
   "metadata": {
    "execution": {
     "iopub.execute_input": "2020-09-23T11:18:21.647624Z",
     "iopub.status.busy": "2020-09-23T11:18:21.646951Z",
     "iopub.status.idle": "2020-09-23T11:18:21.662835Z",
     "shell.execute_reply": "2020-09-23T11:18:21.662241Z"
    },
    "papermill": {
     "duration": 0.068042,
     "end_time": "2020-09-23T11:18:21.662990",
     "exception": false,
     "start_time": "2020-09-23T11:18:21.594948",
     "status": "completed"
    },
    "scrolled": false,
    "tags": []
   },
   "outputs": [
    {
     "data": {
      "text/html": [
       "<div>\n",
       "<style scoped>\n",
       "    .dataframe tbody tr th:only-of-type {\n",
       "        vertical-align: middle;\n",
       "    }\n",
       "\n",
       "    .dataframe tbody tr th {\n",
       "        vertical-align: top;\n",
       "    }\n",
       "\n",
       "    .dataframe thead th {\n",
       "        text-align: right;\n",
       "    }\n",
       "</style>\n",
       "<table border=\"1\" class=\"dataframe\">\n",
       "  <thead>\n",
       "    <tr style=\"text-align: right;\">\n",
       "      <th></th>\n",
       "      <th>shared_teks_by_generation_date</th>\n",
       "    </tr>\n",
       "    <tr>\n",
       "      <th>sample_date_string</th>\n",
       "      <th></th>\n",
       "    </tr>\n",
       "  </thead>\n",
       "  <tbody>\n",
       "    <tr>\n",
       "      <th>2020-09-23</th>\n",
       "      <td>1</td>\n",
       "    </tr>\n",
       "    <tr>\n",
       "      <th>2020-09-22</th>\n",
       "      <td>39</td>\n",
       "    </tr>\n",
       "    <tr>\n",
       "      <th>2020-09-21</th>\n",
       "      <td>73</td>\n",
       "    </tr>\n",
       "    <tr>\n",
       "      <th>2020-09-20</th>\n",
       "      <td>90</td>\n",
       "    </tr>\n",
       "    <tr>\n",
       "      <th>2020-09-19</th>\n",
       "      <td>128</td>\n",
       "    </tr>\n",
       "    <tr>\n",
       "      <th>2020-09-18</th>\n",
       "      <td>138</td>\n",
       "    </tr>\n",
       "    <tr>\n",
       "      <th>2020-09-17</th>\n",
       "      <td>139</td>\n",
       "    </tr>\n",
       "    <tr>\n",
       "      <th>2020-09-16</th>\n",
       "      <td>119</td>\n",
       "    </tr>\n",
       "    <tr>\n",
       "      <th>2020-09-15</th>\n",
       "      <td>82</td>\n",
       "    </tr>\n",
       "    <tr>\n",
       "      <th>2020-09-14</th>\n",
       "      <td>73</td>\n",
       "    </tr>\n",
       "    <tr>\n",
       "      <th>2020-09-13</th>\n",
       "      <td>75</td>\n",
       "    </tr>\n",
       "    <tr>\n",
       "      <th>2020-09-12</th>\n",
       "      <td>67</td>\n",
       "    </tr>\n",
       "    <tr>\n",
       "      <th>2020-09-11</th>\n",
       "      <td>75</td>\n",
       "    </tr>\n",
       "    <tr>\n",
       "      <th>2020-09-10</th>\n",
       "      <td>68</td>\n",
       "    </tr>\n",
       "  </tbody>\n",
       "</table>\n",
       "</div>"
      ],
      "text/plain": [
       "                    shared_teks_by_generation_date\n",
       "sample_date_string                                \n",
       "2020-09-23                                       1\n",
       "2020-09-22                                      39\n",
       "2020-09-21                                      73\n",
       "2020-09-20                                      90\n",
       "2020-09-19                                     128\n",
       "2020-09-18                                     138\n",
       "2020-09-17                                     139\n",
       "2020-09-16                                     119\n",
       "2020-09-15                                      82\n",
       "2020-09-14                                      73\n",
       "2020-09-13                                      75\n",
       "2020-09-12                                      67\n",
       "2020-09-11                                      75\n",
       "2020-09-10                                      68"
      ]
     },
     "execution_count": 14,
     "metadata": {},
     "output_type": "execute_result"
    }
   ],
   "source": [
    "exposure_keys_summary_df = multi_region_exposure_keys_df[\n",
    "    multi_region_exposure_keys_df.region == spain_region_country_code]\n",
    "exposure_keys_summary_df.drop(columns=[\"region\"], inplace=True)\n",
    "exposure_keys_summary_df = \\\n",
    "    exposure_keys_summary_df.groupby([\"sample_date_string\"]).key_data.nunique().to_frame()\n",
    "exposure_keys_summary_df = \\\n",
    "    exposure_keys_summary_df.reset_index().set_index(\"sample_date_string\")\n",
    "exposure_keys_summary_df.sort_index(ascending=False, inplace=True)\n",
    "exposure_keys_summary_df.rename(columns={\"key_data\": \"shared_teks_by_generation_date\"}, inplace=True)\n",
    "exposure_keys_summary_df"
   ]
  },
  {
   "cell_type": "markdown",
   "metadata": {
    "papermill": {
     "duration": 0.040979,
     "end_time": "2020-09-23T11:18:21.746912",
     "exception": false,
     "start_time": "2020-09-23T11:18:21.705933",
     "status": "completed"
    },
    "tags": []
   },
   "source": [
    "### Dump API TEKs"
   ]
  },
  {
   "cell_type": "code",
   "execution_count": 15,
   "metadata": {
    "execution": {
     "iopub.execute_input": "2020-09-23T11:18:21.835626Z",
     "iopub.status.busy": "2020-09-23T11:18:21.834999Z",
     "iopub.status.idle": "2020-09-23T11:18:21.871457Z",
     "shell.execute_reply": "2020-09-23T11:18:21.871989Z"
    },
    "papermill": {
     "duration": 0.084502,
     "end_time": "2020-09-23T11:18:21.872170",
     "exception": false,
     "start_time": "2020-09-23T11:18:21.787668",
     "status": "completed"
    },
    "tags": []
   },
   "outputs": [
    {
     "data": {
      "text/html": [
       "<div>\n",
       "<style scoped>\n",
       "    .dataframe tbody tr th:only-of-type {\n",
       "        vertical-align: middle;\n",
       "    }\n",
       "\n",
       "    .dataframe tbody tr th {\n",
       "        vertical-align: top;\n",
       "    }\n",
       "\n",
       "    .dataframe thead th {\n",
       "        text-align: right;\n",
       "    }\n",
       "</style>\n",
       "<table border=\"1\" class=\"dataframe\">\n",
       "  <thead>\n",
       "    <tr style=\"text-align: right;\">\n",
       "      <th></th>\n",
       "      <th>sample_date</th>\n",
       "      <th>region</th>\n",
       "      <th>tek_list</th>\n",
       "      <th>extraction_date</th>\n",
       "      <th>extraction_date_with_hour</th>\n",
       "    </tr>\n",
       "  </thead>\n",
       "  <tbody>\n",
       "    <tr>\n",
       "      <th>0</th>\n",
       "      <td>2020-09-10</td>\n",
       "      <td>ES</td>\n",
       "      <td>[6954f38b-22cd-d093-f288-7cdb50f2951d, 1a86957...</td>\n",
       "      <td>2020-09-23</td>\n",
       "      <td>2020-09-23@11</td>\n",
       "    </tr>\n",
       "    <tr>\n",
       "      <th>1</th>\n",
       "      <td>2020-09-11</td>\n",
       "      <td>ES</td>\n",
       "      <td>[01db2363-8b7e-6bbd-a02c-d6b8db0aedaa, 9c07934...</td>\n",
       "      <td>2020-09-23</td>\n",
       "      <td>2020-09-23@11</td>\n",
       "    </tr>\n",
       "    <tr>\n",
       "      <th>2</th>\n",
       "      <td>2020-09-12</td>\n",
       "      <td>ES</td>\n",
       "      <td>[30f2c790-b461-745c-60fb-1e002f4c94aa, 9d4da2c...</td>\n",
       "      <td>2020-09-23</td>\n",
       "      <td>2020-09-23@11</td>\n",
       "    </tr>\n",
       "    <tr>\n",
       "      <th>3</th>\n",
       "      <td>2020-09-13</td>\n",
       "      <td>ES</td>\n",
       "      <td>[a4b3ef9b-86d2-1fb8-b525-e19eb3f4e068, 8b84121...</td>\n",
       "      <td>2020-09-23</td>\n",
       "      <td>2020-09-23@11</td>\n",
       "    </tr>\n",
       "    <tr>\n",
       "      <th>4</th>\n",
       "      <td>2020-09-14</td>\n",
       "      <td>ES</td>\n",
       "      <td>[ffc37730-2cba-1530-9f70-355e55fabd8d, e63eb79...</td>\n",
       "      <td>2020-09-23</td>\n",
       "      <td>2020-09-23@11</td>\n",
       "    </tr>\n",
       "  </tbody>\n",
       "</table>\n",
       "</div>"
      ],
      "text/plain": [
       "  sample_date region                                           tek_list  \\\n",
       "0  2020-09-10     ES  [6954f38b-22cd-d093-f288-7cdb50f2951d, 1a86957...   \n",
       "1  2020-09-11     ES  [01db2363-8b7e-6bbd-a02c-d6b8db0aedaa, 9c07934...   \n",
       "2  2020-09-12     ES  [30f2c790-b461-745c-60fb-1e002f4c94aa, 9d4da2c...   \n",
       "3  2020-09-13     ES  [a4b3ef9b-86d2-1fb8-b525-e19eb3f4e068, 8b84121...   \n",
       "4  2020-09-14     ES  [ffc37730-2cba-1530-9f70-355e55fabd8d, e63eb79...   \n",
       "\n",
       "  extraction_date extraction_date_with_hour  \n",
       "0      2020-09-23             2020-09-23@11  \n",
       "1      2020-09-23             2020-09-23@11  \n",
       "2      2020-09-23             2020-09-23@11  \n",
       "3      2020-09-23             2020-09-23@11  \n",
       "4      2020-09-23             2020-09-23@11  "
      ]
     },
     "execution_count": 15,
     "metadata": {},
     "output_type": "execute_result"
    }
   ],
   "source": [
    "tek_list_df = multi_region_exposure_keys_df[\n",
    "    [\"sample_date_string\", \"region\", \"key_data\"]].copy()\n",
    "tek_list_df[\"key_data\"] = tek_list_df[\"key_data\"].apply(str)\n",
    "tek_list_df.rename(columns={\n",
    "    \"sample_date_string\": \"sample_date\",\n",
    "    \"key_data\": \"tek_list\"}, inplace=True)\n",
    "tek_list_df = tek_list_df.groupby(\n",
    "    [\"sample_date\", \"region\"]).tek_list.unique().reset_index()\n",
    "tek_list_df[\"extraction_date\"] = extraction_date\n",
    "tek_list_df[\"extraction_date_with_hour\"] = extraction_date_with_hour\n",
    "tek_list_df.drop(columns=[\"extraction_date\", \"extraction_date_with_hour\"]).to_json(\n",
    "    \"Data/TEKs/Current/RadarCOVID-TEKs.json\",\n",
    "    lines=True, orient=\"records\")\n",
    "tek_list_df.drop(columns=[\"extraction_date_with_hour\"]).to_json(\n",
    "    \"Data/TEKs/Daily/RadarCOVID-TEKs-\" + extraction_date + \".json\",\n",
    "    lines=True, orient=\"records\")\n",
    "tek_list_df.to_json(\n",
    "    \"Data/TEKs/Hourly/RadarCOVID-TEKs-\" + extraction_date_with_hour + \".json\",\n",
    "    lines=True, orient=\"records\")\n",
    "tek_list_df.head()"
   ]
  },
  {
   "cell_type": "markdown",
   "metadata": {
    "papermill": {
     "duration": 0.041124,
     "end_time": "2020-09-23T11:18:21.954539",
     "exception": false,
     "start_time": "2020-09-23T11:18:21.913415",
     "status": "completed"
    },
    "tags": []
   },
   "source": [
    "### Load TEK Dumps"
   ]
  },
  {
   "cell_type": "code",
   "execution_count": 16,
   "metadata": {
    "execution": {
     "iopub.execute_input": "2020-09-23T11:18:22.044680Z",
     "iopub.status.busy": "2020-09-23T11:18:22.044057Z",
     "iopub.status.idle": "2020-09-23T11:18:22.046617Z",
     "shell.execute_reply": "2020-09-23T11:18:22.047119Z"
    },
    "papermill": {
     "duration": 0.051001,
     "end_time": "2020-09-23T11:18:22.047293",
     "exception": false,
     "start_time": "2020-09-23T11:18:21.996292",
     "status": "completed"
    },
    "tags": []
   },
   "outputs": [],
   "source": [
    "import glob\n",
    "\n",
    "def load_extracted_teks(mode, region=None, limit=None) -> pd.DataFrame:\n",
    "    extracted_teks_df = pd.DataFrame(columns=[\"region\"])\n",
    "    paths = list(reversed(sorted(glob.glob(f\"Data/TEKs/{mode}/RadarCOVID-TEKs-*.json\"))))\n",
    "    if limit:\n",
    "        paths = paths[:limit]\n",
    "    for path in paths:\n",
    "        logging.info(f\"Loading TEKs from '{path}'...\")\n",
    "        iteration_extracted_teks_df = pd.read_json(path, lines=True)\n",
    "        extracted_teks_df = extracted_teks_df.append(\n",
    "            iteration_extracted_teks_df, sort=False)\n",
    "    extracted_teks_df[\"region\"] = \\\n",
    "        extracted_teks_df.region.fillna(spain_region_country_code).copy()\n",
    "    if region:\n",
    "        extracted_teks_df = \\\n",
    "            extracted_teks_df[extracted_teks_df.region == region]\n",
    "    return extracted_teks_df"
   ]
  },
  {
   "cell_type": "code",
   "execution_count": 17,
   "metadata": {
    "collapsed": false,
    "execution": {
     "iopub.execute_input": "2020-09-23T11:18:22.161441Z",
     "iopub.status.busy": "2020-09-23T11:18:22.160748Z",
     "iopub.status.idle": "2020-09-23T11:18:22.300955Z",
     "shell.execute_reply": "2020-09-23T11:18:22.300014Z"
    },
    "papermill": {
     "duration": 0.203044,
     "end_time": "2020-09-23T11:18:22.301156",
     "exception": false,
     "start_time": "2020-09-23T11:18:22.098112",
     "status": "completed"
    },
    "pycharm": {
     "name": "#%%\n"
    },
    "tags": []
   },
   "outputs": [
    {
     "data": {
      "text/html": [
       "<div>\n",
       "<style scoped>\n",
       "    .dataframe tbody tr th:only-of-type {\n",
       "        vertical-align: middle;\n",
       "    }\n",
       "\n",
       "    .dataframe tbody tr th {\n",
       "        vertical-align: top;\n",
       "    }\n",
       "\n",
       "    .dataframe thead th {\n",
       "        text-align: right;\n",
       "    }\n",
       "</style>\n",
       "<table border=\"1\" class=\"dataframe\">\n",
       "  <thead>\n",
       "    <tr style=\"text-align: right;\">\n",
       "      <th></th>\n",
       "      <th>region</th>\n",
       "      <th>sample_date</th>\n",
       "      <th>tek_list</th>\n",
       "      <th>extraction_date</th>\n",
       "    </tr>\n",
       "  </thead>\n",
       "  <tbody>\n",
       "    <tr>\n",
       "      <th>0</th>\n",
       "      <td>ES</td>\n",
       "      <td>2020-09-10</td>\n",
       "      <td>[6954f38b-22cd-d093-f288-7cdb50f2951d, 1a86957...</td>\n",
       "      <td>2020-09-23</td>\n",
       "    </tr>\n",
       "    <tr>\n",
       "      <th>1</th>\n",
       "      <td>ES</td>\n",
       "      <td>2020-09-11</td>\n",
       "      <td>[01db2363-8b7e-6bbd-a02c-d6b8db0aedaa, 9c07934...</td>\n",
       "      <td>2020-09-23</td>\n",
       "    </tr>\n",
       "    <tr>\n",
       "      <th>2</th>\n",
       "      <td>ES</td>\n",
       "      <td>2020-09-12</td>\n",
       "      <td>[30f2c790-b461-745c-60fb-1e002f4c94aa, 9d4da2c...</td>\n",
       "      <td>2020-09-23</td>\n",
       "    </tr>\n",
       "    <tr>\n",
       "      <th>3</th>\n",
       "      <td>ES</td>\n",
       "      <td>2020-09-13</td>\n",
       "      <td>[a4b3ef9b-86d2-1fb8-b525-e19eb3f4e068, 8b84121...</td>\n",
       "      <td>2020-09-23</td>\n",
       "    </tr>\n",
       "    <tr>\n",
       "      <th>4</th>\n",
       "      <td>ES</td>\n",
       "      <td>2020-09-14</td>\n",
       "      <td>[ffc37730-2cba-1530-9f70-355e55fabd8d, e63eb79...</td>\n",
       "      <td>2020-09-23</td>\n",
       "    </tr>\n",
       "  </tbody>\n",
       "</table>\n",
       "</div>"
      ],
      "text/plain": [
       "  region sample_date                                           tek_list  \\\n",
       "0     ES  2020-09-10  [6954f38b-22cd-d093-f288-7cdb50f2951d, 1a86957...   \n",
       "1     ES  2020-09-11  [01db2363-8b7e-6bbd-a02c-d6b8db0aedaa, 9c07934...   \n",
       "2     ES  2020-09-12  [30f2c790-b461-745c-60fb-1e002f4c94aa, 9d4da2c...   \n",
       "3     ES  2020-09-13  [a4b3ef9b-86d2-1fb8-b525-e19eb3f4e068, 8b84121...   \n",
       "4     ES  2020-09-14  [ffc37730-2cba-1530-9f70-355e55fabd8d, e63eb79...   \n",
       "\n",
       "  extraction_date  \n",
       "0      2020-09-23  \n",
       "1      2020-09-23  \n",
       "2      2020-09-23  \n",
       "3      2020-09-23  \n",
       "4      2020-09-23  "
      ]
     },
     "execution_count": 17,
     "metadata": {},
     "output_type": "execute_result"
    }
   ],
   "source": [
    "daily_extracted_teks_df = load_extracted_teks(\n",
    "    mode=\"Daily\",\n",
    "    region=spain_region_country_code,\n",
    "    limit=tek_dumps_load_limit)\n",
    "daily_extracted_teks_df.head()"
   ]
  },
  {
   "cell_type": "code",
   "execution_count": 18,
   "metadata": {
    "collapsed": false,
    "execution": {
     "iopub.execute_input": "2020-09-23T11:18:22.411161Z",
     "iopub.status.busy": "2020-09-23T11:18:22.410474Z",
     "iopub.status.idle": "2020-09-23T11:18:22.413262Z",
     "shell.execute_reply": "2020-09-23T11:18:22.413842Z"
    },
    "papermill": {
     "duration": 0.06501,
     "end_time": "2020-09-23T11:18:22.414029",
     "exception": false,
     "start_time": "2020-09-23T11:18:22.349019",
     "status": "completed"
    },
    "pycharm": {
     "name": "#%%\n"
    },
    "tags": []
   },
   "outputs": [
    {
     "data": {
      "text/html": [
       "<div>\n",
       "<style scoped>\n",
       "    .dataframe tbody tr th:only-of-type {\n",
       "        vertical-align: middle;\n",
       "    }\n",
       "\n",
       "    .dataframe tbody tr th {\n",
       "        vertical-align: top;\n",
       "    }\n",
       "\n",
       "    .dataframe thead th {\n",
       "        text-align: right;\n",
       "    }\n",
       "</style>\n",
       "<table border=\"1\" class=\"dataframe\">\n",
       "  <thead>\n",
       "    <tr style=\"text-align: right;\">\n",
       "      <th></th>\n",
       "      <th>shared_teks_by_generation_date</th>\n",
       "    </tr>\n",
       "    <tr>\n",
       "      <th>sample_date_string</th>\n",
       "      <th></th>\n",
       "    </tr>\n",
       "  </thead>\n",
       "  <tbody>\n",
       "    <tr>\n",
       "      <th>2020-09-23</th>\n",
       "      <td>1</td>\n",
       "    </tr>\n",
       "    <tr>\n",
       "      <th>2020-09-22</th>\n",
       "      <td>39</td>\n",
       "    </tr>\n",
       "    <tr>\n",
       "      <th>2020-09-21</th>\n",
       "      <td>73</td>\n",
       "    </tr>\n",
       "    <tr>\n",
       "      <th>2020-09-20</th>\n",
       "      <td>90</td>\n",
       "    </tr>\n",
       "    <tr>\n",
       "      <th>2020-09-19</th>\n",
       "      <td>128</td>\n",
       "    </tr>\n",
       "  </tbody>\n",
       "</table>\n",
       "</div>"
      ],
      "text/plain": [
       "                    shared_teks_by_generation_date\n",
       "sample_date_string                                \n",
       "2020-09-23                                       1\n",
       "2020-09-22                                      39\n",
       "2020-09-21                                      73\n",
       "2020-09-20                                      90\n",
       "2020-09-19                                     128"
      ]
     },
     "execution_count": 18,
     "metadata": {},
     "output_type": "execute_result"
    }
   ],
   "source": [
    "exposure_keys_summary_df_ = daily_extracted_teks_df \\\n",
    "    .sort_values(\"extraction_date\", ascending=False) \\\n",
    "    .groupby(\"sample_date\").tek_list.first() \\\n",
    "    .to_frame()\n",
    "exposure_keys_summary_df_.index.name = \"sample_date_string\"\n",
    "exposure_keys_summary_df_[\"tek_list\"] = \\\n",
    "    exposure_keys_summary_df_.tek_list.apply(len)\n",
    "exposure_keys_summary_df_ = exposure_keys_summary_df_ \\\n",
    "    .rename(columns={\"tek_list\": \"shared_teks_by_generation_date\"}) \\\n",
    "    .sort_index(ascending=False)\n",
    "exposure_keys_summary_df = exposure_keys_summary_df_\n",
    "exposure_keys_summary_df.head()"
   ]
  },
  {
   "cell_type": "markdown",
   "metadata": {
    "execution": {
     "iopub.execute_input": "2020-08-30T22:30:16.632967Z",
     "iopub.status.busy": "2020-08-30T22:30:16.632308Z",
     "iopub.status.idle": "2020-08-30T22:30:16.634945Z",
     "shell.execute_reply": "2020-08-30T22:30:16.635575Z"
    },
    "papermill": {
     "duration": 0.048396,
     "end_time": "2020-09-23T11:18:22.509487",
     "exception": false,
     "start_time": "2020-09-23T11:18:22.461091",
     "status": "completed"
    },
    "pycharm": {
     "name": "#%% md\n"
    },
    "tags": []
   },
   "source": [
    "### Daily New TEKs"
   ]
  },
  {
   "cell_type": "code",
   "execution_count": 19,
   "metadata": {
    "execution": {
     "iopub.execute_input": "2020-09-23T11:18:22.618578Z",
     "iopub.status.busy": "2020-09-23T11:18:22.617940Z",
     "iopub.status.idle": "2020-09-23T11:18:22.620505Z",
     "shell.execute_reply": "2020-09-23T11:18:22.621025Z"
    },
    "papermill": {
     "duration": 0.067126,
     "end_time": "2020-09-23T11:18:22.621205",
     "exception": false,
     "start_time": "2020-09-23T11:18:22.554079",
     "status": "completed"
    },
    "tags": []
   },
   "outputs": [
    {
     "data": {
      "text/html": [
       "<div>\n",
       "<style scoped>\n",
       "    .dataframe tbody tr th:only-of-type {\n",
       "        vertical-align: middle;\n",
       "    }\n",
       "\n",
       "    .dataframe tbody tr th {\n",
       "        vertical-align: top;\n",
       "    }\n",
       "\n",
       "    .dataframe thead th {\n",
       "        text-align: right;\n",
       "    }\n",
       "</style>\n",
       "<table border=\"1\" class=\"dataframe\">\n",
       "  <thead>\n",
       "    <tr style=\"text-align: right;\">\n",
       "      <th></th>\n",
       "      <th>tek_list</th>\n",
       "    </tr>\n",
       "    <tr>\n",
       "      <th>extraction_date</th>\n",
       "      <th></th>\n",
       "    </tr>\n",
       "  </thead>\n",
       "  <tbody>\n",
       "    <tr>\n",
       "      <th>2020-09-02</th>\n",
       "      <td>{5d6f8cf2-39b1-5fb8-25bd-01301a3e09bc, d6cd728...</td>\n",
       "    </tr>\n",
       "    <tr>\n",
       "      <th>2020-09-03</th>\n",
       "      <td>{5d6f8cf2-39b1-5fb8-25bd-01301a3e09bc, d6cd728...</td>\n",
       "    </tr>\n",
       "    <tr>\n",
       "      <th>2020-09-04</th>\n",
       "      <td>{5d6f8cf2-39b1-5fb8-25bd-01301a3e09bc, d6cd728...</td>\n",
       "    </tr>\n",
       "    <tr>\n",
       "      <th>2020-09-05</th>\n",
       "      <td>{5d6f8cf2-39b1-5fb8-25bd-01301a3e09bc, d6cd728...</td>\n",
       "    </tr>\n",
       "    <tr>\n",
       "      <th>2020-09-06</th>\n",
       "      <td>{5d6f8cf2-39b1-5fb8-25bd-01301a3e09bc, d6cd728...</td>\n",
       "    </tr>\n",
       "  </tbody>\n",
       "</table>\n",
       "</div>"
      ],
      "text/plain": [
       "                                                          tek_list\n",
       "extraction_date                                                   \n",
       "2020-09-02       {5d6f8cf2-39b1-5fb8-25bd-01301a3e09bc, d6cd728...\n",
       "2020-09-03       {5d6f8cf2-39b1-5fb8-25bd-01301a3e09bc, d6cd728...\n",
       "2020-09-04       {5d6f8cf2-39b1-5fb8-25bd-01301a3e09bc, d6cd728...\n",
       "2020-09-05       {5d6f8cf2-39b1-5fb8-25bd-01301a3e09bc, d6cd728...\n",
       "2020-09-06       {5d6f8cf2-39b1-5fb8-25bd-01301a3e09bc, d6cd728..."
      ]
     },
     "execution_count": 19,
     "metadata": {},
     "output_type": "execute_result"
    }
   ],
   "source": [
    "tek_list_df = daily_extracted_teks_df.groupby(\"extraction_date\").tek_list.apply(\n",
    "    lambda x: set(sum(x, []))).reset_index()\n",
    "tek_list_df = tek_list_df.set_index(\"extraction_date\").sort_index(ascending=True)\n",
    "tek_list_df.head()"
   ]
  },
  {
   "cell_type": "code",
   "execution_count": 20,
   "metadata": {
    "execution": {
     "iopub.execute_input": "2020-09-23T11:18:22.723864Z",
     "iopub.status.busy": "2020-09-23T11:18:22.722845Z",
     "iopub.status.idle": "2020-09-23T11:18:22.738937Z",
     "shell.execute_reply": "2020-09-23T11:18:22.738374Z"
    },
    "papermill": {
     "duration": 0.068044,
     "end_time": "2020-09-23T11:18:22.739097",
     "exception": false,
     "start_time": "2020-09-23T11:18:22.671053",
     "status": "completed"
    },
    "tags": []
   },
   "outputs": [
    {
     "data": {
      "text/html": [
       "<div>\n",
       "<style scoped>\n",
       "    .dataframe tbody tr th:only-of-type {\n",
       "        vertical-align: middle;\n",
       "    }\n",
       "\n",
       "    .dataframe tbody tr th {\n",
       "        vertical-align: top;\n",
       "    }\n",
       "\n",
       "    .dataframe thead th {\n",
       "        text-align: right;\n",
       "    }\n",
       "</style>\n",
       "<table border=\"1\" class=\"dataframe\">\n",
       "  <thead>\n",
       "    <tr style=\"text-align: right;\">\n",
       "      <th></th>\n",
       "      <th>sample_date_string</th>\n",
       "      <th>shared_teks_by_upload_date</th>\n",
       "    </tr>\n",
       "  </thead>\n",
       "  <tbody>\n",
       "    <tr>\n",
       "      <th>17</th>\n",
       "      <td>2020-09-19</td>\n",
       "      <td>90.0</td>\n",
       "    </tr>\n",
       "    <tr>\n",
       "      <th>18</th>\n",
       "      <td>2020-09-20</td>\n",
       "      <td>116.0</td>\n",
       "    </tr>\n",
       "    <tr>\n",
       "      <th>19</th>\n",
       "      <td>2020-09-21</td>\n",
       "      <td>190.0</td>\n",
       "    </tr>\n",
       "    <tr>\n",
       "      <th>20</th>\n",
       "      <td>2020-09-22</td>\n",
       "      <td>148.0</td>\n",
       "    </tr>\n",
       "    <tr>\n",
       "      <th>21</th>\n",
       "      <td>2020-09-23</td>\n",
       "      <td>115.0</td>\n",
       "    </tr>\n",
       "  </tbody>\n",
       "</table>\n",
       "</div>"
      ],
      "text/plain": [
       "   sample_date_string  shared_teks_by_upload_date\n",
       "17         2020-09-19                        90.0\n",
       "18         2020-09-20                       116.0\n",
       "19         2020-09-21                       190.0\n",
       "20         2020-09-22                       148.0\n",
       "21         2020-09-23                       115.0"
      ]
     },
     "execution_count": 20,
     "metadata": {},
     "output_type": "execute_result"
    }
   ],
   "source": [
    "new_tek_df = tek_list_df.diff().tek_list.apply(\n",
    "    lambda x: len(x) if not pd.isna(x) else None).to_frame().reset_index()\n",
    "new_tek_df.rename(columns={\n",
    "    \"tek_list\": \"shared_teks_by_upload_date\",\n",
    "    \"extraction_date\": \"sample_date_string\",}, inplace=True)\n",
    "new_tek_df.tail()"
   ]
  },
  {
   "cell_type": "code",
   "execution_count": 21,
   "metadata": {
    "execution": {
     "iopub.execute_input": "2020-09-23T11:18:22.851732Z",
     "iopub.status.busy": "2020-09-23T11:18:22.851046Z",
     "iopub.status.idle": "2020-09-23T11:18:22.853562Z",
     "shell.execute_reply": "2020-09-23T11:18:22.854200Z"
    },
    "papermill": {
     "duration": 0.070198,
     "end_time": "2020-09-23T11:18:22.854386",
     "exception": false,
     "start_time": "2020-09-23T11:18:22.784188",
     "status": "completed"
    },
    "pycharm": {
     "name": "#%%\n"
    },
    "tags": []
   },
   "outputs": [
    {
     "data": {
      "text/html": [
       "<div>\n",
       "<style scoped>\n",
       "    .dataframe tbody tr th:only-of-type {\n",
       "        vertical-align: middle;\n",
       "    }\n",
       "\n",
       "    .dataframe tbody tr th {\n",
       "        vertical-align: top;\n",
       "    }\n",
       "\n",
       "    .dataframe thead th {\n",
       "        text-align: right;\n",
       "    }\n",
       "</style>\n",
       "<table border=\"1\" class=\"dataframe\">\n",
       "  <thead>\n",
       "    <tr style=\"text-align: right;\">\n",
       "      <th></th>\n",
       "      <th>region</th>\n",
       "      <th>sample_date</th>\n",
       "      <th>tek_list</th>\n",
       "      <th>extraction_date</th>\n",
       "      <th>new_sample_extraction_date</th>\n",
       "    </tr>\n",
       "  </thead>\n",
       "  <tbody>\n",
       "    <tr>\n",
       "      <th>0</th>\n",
       "      <td>ES</td>\n",
       "      <td>2020-09-10</td>\n",
       "      <td>[6954f38b-22cd-d093-f288-7cdb50f2951d, 1a86957...</td>\n",
       "      <td>2020-09-23</td>\n",
       "      <td>2020-09-11</td>\n",
       "    </tr>\n",
       "    <tr>\n",
       "      <th>1</th>\n",
       "      <td>ES</td>\n",
       "      <td>2020-09-11</td>\n",
       "      <td>[01db2363-8b7e-6bbd-a02c-d6b8db0aedaa, 9c07934...</td>\n",
       "      <td>2020-09-23</td>\n",
       "      <td>2020-09-12</td>\n",
       "    </tr>\n",
       "    <tr>\n",
       "      <th>2</th>\n",
       "      <td>ES</td>\n",
       "      <td>2020-09-12</td>\n",
       "      <td>[30f2c790-b461-745c-60fb-1e002f4c94aa, 9d4da2c...</td>\n",
       "      <td>2020-09-23</td>\n",
       "      <td>2020-09-13</td>\n",
       "    </tr>\n",
       "    <tr>\n",
       "      <th>3</th>\n",
       "      <td>ES</td>\n",
       "      <td>2020-09-13</td>\n",
       "      <td>[a4b3ef9b-86d2-1fb8-b525-e19eb3f4e068, 8b84121...</td>\n",
       "      <td>2020-09-23</td>\n",
       "      <td>2020-09-14</td>\n",
       "    </tr>\n",
       "    <tr>\n",
       "      <th>4</th>\n",
       "      <td>ES</td>\n",
       "      <td>2020-09-14</td>\n",
       "      <td>[ffc37730-2cba-1530-9f70-355e55fabd8d, e63eb79...</td>\n",
       "      <td>2020-09-23</td>\n",
       "      <td>2020-09-15</td>\n",
       "    </tr>\n",
       "  </tbody>\n",
       "</table>\n",
       "</div>"
      ],
      "text/plain": [
       "  region sample_date                                           tek_list  \\\n",
       "0     ES  2020-09-10  [6954f38b-22cd-d093-f288-7cdb50f2951d, 1a86957...   \n",
       "1     ES  2020-09-11  [01db2363-8b7e-6bbd-a02c-d6b8db0aedaa, 9c07934...   \n",
       "2     ES  2020-09-12  [30f2c790-b461-745c-60fb-1e002f4c94aa, 9d4da2c...   \n",
       "3     ES  2020-09-13  [a4b3ef9b-86d2-1fb8-b525-e19eb3f4e068, 8b84121...   \n",
       "4     ES  2020-09-14  [ffc37730-2cba-1530-9f70-355e55fabd8d, e63eb79...   \n",
       "\n",
       "  extraction_date new_sample_extraction_date  \n",
       "0      2020-09-23                 2020-09-11  \n",
       "1      2020-09-23                 2020-09-12  \n",
       "2      2020-09-23                 2020-09-13  \n",
       "3      2020-09-23                 2020-09-14  \n",
       "4      2020-09-23                 2020-09-15  "
      ]
     },
     "execution_count": 21,
     "metadata": {},
     "output_type": "execute_result"
    }
   ],
   "source": [
    "estimated_shared_diagnoses_df = daily_extracted_teks_df.copy()\n",
    "estimated_shared_diagnoses_df[\"new_sample_extraction_date\"] = \\\n",
    "    pd.to_datetime(estimated_shared_diagnoses_df.sample_date) + datetime.timedelta(1)\n",
    "estimated_shared_diagnoses_df[\"extraction_date\"] = pd.to_datetime(estimated_shared_diagnoses_df.extraction_date)\n",
    "estimated_shared_diagnoses_df[\"sample_date\"] = pd.to_datetime(estimated_shared_diagnoses_df.sample_date)\n",
    "estimated_shared_diagnoses_df.head()"
   ]
  },
  {
   "cell_type": "code",
   "execution_count": 22,
   "metadata": {
    "collapsed": false,
    "execution": {
     "iopub.execute_input": "2020-09-23T11:18:22.966848Z",
     "iopub.status.busy": "2020-09-23T11:18:22.966225Z",
     "iopub.status.idle": "2020-09-23T11:18:22.969070Z",
     "shell.execute_reply": "2020-09-23T11:18:22.969541Z"
    },
    "papermill": {
     "duration": 0.066719,
     "end_time": "2020-09-23T11:18:22.969710",
     "exception": false,
     "start_time": "2020-09-23T11:18:22.902991",
     "status": "completed"
    },
    "pycharm": {
     "name": "#%%\n"
    },
    "tags": []
   },
   "outputs": [
    {
     "data": {
      "text/html": [
       "<div>\n",
       "<style scoped>\n",
       "    .dataframe tbody tr th:only-of-type {\n",
       "        vertical-align: middle;\n",
       "    }\n",
       "\n",
       "    .dataframe tbody tr th {\n",
       "        vertical-align: top;\n",
       "    }\n",
       "\n",
       "    .dataframe thead th {\n",
       "        text-align: right;\n",
       "    }\n",
       "</style>\n",
       "<table border=\"1\" class=\"dataframe\">\n",
       "  <thead>\n",
       "    <tr style=\"text-align: right;\">\n",
       "      <th></th>\n",
       "      <th>extraction_date</th>\n",
       "      <th>same_day_tek_list</th>\n",
       "    </tr>\n",
       "  </thead>\n",
       "  <tbody>\n",
       "    <tr>\n",
       "      <th>13</th>\n",
       "      <td>2020-09-24</td>\n",
       "      <td>[9702842d-6fb9-2c80-04a8-1e3023edd633]</td>\n",
       "    </tr>\n",
       "    <tr>\n",
       "      <th>13</th>\n",
       "      <td>2020-09-20</td>\n",
       "      <td>[d4787a07-8b0b-58cc-b9e3-a94b0928d497, fc2611d...</td>\n",
       "    </tr>\n",
       "    <tr>\n",
       "      <th>13</th>\n",
       "      <td>2020-09-19</td>\n",
       "      <td>[754bc832-e952-f047-e72d-5297ad25a4a7]</td>\n",
       "    </tr>\n",
       "  </tbody>\n",
       "</table>\n",
       "</div>"
      ],
      "text/plain": [
       "   extraction_date                                  same_day_tek_list\n",
       "13      2020-09-24             [9702842d-6fb9-2c80-04a8-1e3023edd633]\n",
       "13      2020-09-20  [d4787a07-8b0b-58cc-b9e3-a94b0928d497, fc2611d...\n",
       "13      2020-09-19             [754bc832-e952-f047-e72d-5297ad25a4a7]"
      ]
     },
     "execution_count": 22,
     "metadata": {},
     "output_type": "execute_result"
    }
   ],
   "source": [
    "# Sometimes TEKs from the same day are uploaded, we do not count them as new TEK devices:\n",
    "same_day_tek_list_df = estimated_shared_diagnoses_df[\n",
    "    estimated_shared_diagnoses_df.sample_date == estimated_shared_diagnoses_df.extraction_date].copy()\n",
    "same_day_tek_list_df = same_day_tek_list_df[[\"extraction_date\", \"tek_list\"]].rename(\n",
    "    columns={\"tek_list\": \"same_day_tek_list\"})\n",
    "same_day_tek_list_df[\"extraction_date\"] = \\\n",
    "    same_day_tek_list_df.extraction_date + datetime.timedelta(1)\n",
    "same_day_tek_list_df.head()"
   ]
  },
  {
   "cell_type": "code",
   "execution_count": 23,
   "metadata": {
    "collapsed": false,
    "execution": {
     "iopub.execute_input": "2020-09-23T11:18:23.074199Z",
     "iopub.status.busy": "2020-09-23T11:18:23.073522Z",
     "iopub.status.idle": "2020-09-23T11:18:23.076762Z",
     "shell.execute_reply": "2020-09-23T11:18:23.077440Z"
    },
    "papermill": {
     "duration": 0.063449,
     "end_time": "2020-09-23T11:18:23.077626",
     "exception": false,
     "start_time": "2020-09-23T11:18:23.014177",
     "status": "completed"
    },
    "pycharm": {
     "name": "#%%\n"
    },
    "tags": []
   },
   "outputs": [
    {
     "data": {
      "text/html": [
       "<div>\n",
       "<style scoped>\n",
       "    .dataframe tbody tr th:only-of-type {\n",
       "        vertical-align: middle;\n",
       "    }\n",
       "\n",
       "    .dataframe tbody tr th {\n",
       "        vertical-align: top;\n",
       "    }\n",
       "\n",
       "    .dataframe thead th {\n",
       "        text-align: right;\n",
       "    }\n",
       "</style>\n",
       "<table border=\"1\" class=\"dataframe\">\n",
       "  <thead>\n",
       "    <tr style=\"text-align: right;\">\n",
       "      <th></th>\n",
       "      <th>region</th>\n",
       "      <th>sample_date</th>\n",
       "      <th>tek_list</th>\n",
       "      <th>extraction_date</th>\n",
       "      <th>new_sample_extraction_date</th>\n",
       "    </tr>\n",
       "  </thead>\n",
       "  <tbody>\n",
       "    <tr>\n",
       "      <th>12</th>\n",
       "      <td>ES</td>\n",
       "      <td>2020-09-22</td>\n",
       "      <td>[0f9bfc2c-205f-0345-16a5-01206859cd0f, b26eee9...</td>\n",
       "      <td>2020-09-23</td>\n",
       "      <td>2020-09-23</td>\n",
       "    </tr>\n",
       "    <tr>\n",
       "      <th>12</th>\n",
       "      <td>ES</td>\n",
       "      <td>2020-09-21</td>\n",
       "      <td>[35f895cd-d3df-9152-0889-804867c0685a, b5acdeb...</td>\n",
       "      <td>2020-09-22</td>\n",
       "      <td>2020-09-22</td>\n",
       "    </tr>\n",
       "    <tr>\n",
       "      <th>12</th>\n",
       "      <td>ES</td>\n",
       "      <td>2020-09-20</td>\n",
       "      <td>[1f8f1e87-cd12-a94f-7e26-ef4ad246661b, 63d947d...</td>\n",
       "      <td>2020-09-21</td>\n",
       "      <td>2020-09-21</td>\n",
       "    </tr>\n",
       "    <tr>\n",
       "      <th>12</th>\n",
       "      <td>ES</td>\n",
       "      <td>2020-09-19</td>\n",
       "      <td>[3218970f-4c82-daf4-6cb1-7d8d5877f484, 2d12869...</td>\n",
       "      <td>2020-09-20</td>\n",
       "      <td>2020-09-20</td>\n",
       "    </tr>\n",
       "    <tr>\n",
       "      <th>12</th>\n",
       "      <td>ES</td>\n",
       "      <td>2020-09-18</td>\n",
       "      <td>[929af33f-4c54-9b8a-cf3a-a6eafed8dd0e, 8c6b618...</td>\n",
       "      <td>2020-09-19</td>\n",
       "      <td>2020-09-19</td>\n",
       "    </tr>\n",
       "  </tbody>\n",
       "</table>\n",
       "</div>"
      ],
      "text/plain": [
       "   region sample_date                                           tek_list  \\\n",
       "12     ES  2020-09-22  [0f9bfc2c-205f-0345-16a5-01206859cd0f, b26eee9...   \n",
       "12     ES  2020-09-21  [35f895cd-d3df-9152-0889-804867c0685a, b5acdeb...   \n",
       "12     ES  2020-09-20  [1f8f1e87-cd12-a94f-7e26-ef4ad246661b, 63d947d...   \n",
       "12     ES  2020-09-19  [3218970f-4c82-daf4-6cb1-7d8d5877f484, 2d12869...   \n",
       "12     ES  2020-09-18  [929af33f-4c54-9b8a-cf3a-a6eafed8dd0e, 8c6b618...   \n",
       "\n",
       "   extraction_date new_sample_extraction_date  \n",
       "12      2020-09-23                 2020-09-23  \n",
       "12      2020-09-22                 2020-09-22  \n",
       "12      2020-09-21                 2020-09-21  \n",
       "12      2020-09-20                 2020-09-20  \n",
       "12      2020-09-19                 2020-09-19  "
      ]
     },
     "execution_count": 23,
     "metadata": {},
     "output_type": "execute_result"
    }
   ],
   "source": [
    "estimated_shared_diagnoses_df = estimated_shared_diagnoses_df[\n",
    "    estimated_shared_diagnoses_df.new_sample_extraction_date == estimated_shared_diagnoses_df.extraction_date]\n",
    "estimated_shared_diagnoses_df.head()"
   ]
  },
  {
   "cell_type": "code",
   "execution_count": 24,
   "metadata": {
    "collapsed": false,
    "execution": {
     "iopub.execute_input": "2020-09-23T11:18:23.195548Z",
     "iopub.status.busy": "2020-09-23T11:18:23.194931Z",
     "iopub.status.idle": "2020-09-23T11:18:23.199784Z",
     "shell.execute_reply": "2020-09-23T11:18:23.199279Z"
    },
    "papermill": {
     "duration": 0.073288,
     "end_time": "2020-09-23T11:18:23.199920",
     "exception": false,
     "start_time": "2020-09-23T11:18:23.126632",
     "status": "completed"
    },
    "pycharm": {
     "name": "#%%\n"
    },
    "tags": []
   },
   "outputs": [
    {
     "data": {
      "text/html": [
       "<div>\n",
       "<style scoped>\n",
       "    .dataframe tbody tr th:only-of-type {\n",
       "        vertical-align: middle;\n",
       "    }\n",
       "\n",
       "    .dataframe tbody tr th {\n",
       "        vertical-align: top;\n",
       "    }\n",
       "\n",
       "    .dataframe thead th {\n",
       "        text-align: right;\n",
       "    }\n",
       "</style>\n",
       "<table border=\"1\" class=\"dataframe\">\n",
       "  <thead>\n",
       "    <tr style=\"text-align: right;\">\n",
       "      <th></th>\n",
       "      <th>region</th>\n",
       "      <th>sample_date</th>\n",
       "      <th>tek_list</th>\n",
       "      <th>extraction_date</th>\n",
       "      <th>new_sample_extraction_date</th>\n",
       "      <th>same_day_tek_list</th>\n",
       "    </tr>\n",
       "  </thead>\n",
       "  <tbody>\n",
       "    <tr>\n",
       "      <th>0</th>\n",
       "      <td>ES</td>\n",
       "      <td>2020-09-22</td>\n",
       "      <td>[0f9bfc2c-205f-0345-16a5-01206859cd0f, b26eee9...</td>\n",
       "      <td>2020-09-23</td>\n",
       "      <td>2020-09-23</td>\n",
       "      <td>[]</td>\n",
       "    </tr>\n",
       "    <tr>\n",
       "      <th>1</th>\n",
       "      <td>ES</td>\n",
       "      <td>2020-09-21</td>\n",
       "      <td>[35f895cd-d3df-9152-0889-804867c0685a, b5acdeb...</td>\n",
       "      <td>2020-09-22</td>\n",
       "      <td>2020-09-22</td>\n",
       "      <td>[]</td>\n",
       "    </tr>\n",
       "    <tr>\n",
       "      <th>2</th>\n",
       "      <td>ES</td>\n",
       "      <td>2020-09-20</td>\n",
       "      <td>[1f8f1e87-cd12-a94f-7e26-ef4ad246661b, 63d947d...</td>\n",
       "      <td>2020-09-21</td>\n",
       "      <td>2020-09-21</td>\n",
       "      <td>[]</td>\n",
       "    </tr>\n",
       "    <tr>\n",
       "      <th>3</th>\n",
       "      <td>ES</td>\n",
       "      <td>2020-09-19</td>\n",
       "      <td>[3218970f-4c82-daf4-6cb1-7d8d5877f484, 2d12869...</td>\n",
       "      <td>2020-09-20</td>\n",
       "      <td>2020-09-20</td>\n",
       "      <td>[d4787a07-8b0b-58cc-b9e3-a94b0928d497, fc2611d...</td>\n",
       "    </tr>\n",
       "    <tr>\n",
       "      <th>4</th>\n",
       "      <td>ES</td>\n",
       "      <td>2020-09-18</td>\n",
       "      <td>[929af33f-4c54-9b8a-cf3a-a6eafed8dd0e, 8c6b618...</td>\n",
       "      <td>2020-09-19</td>\n",
       "      <td>2020-09-19</td>\n",
       "      <td>[754bc832-e952-f047-e72d-5297ad25a4a7]</td>\n",
       "    </tr>\n",
       "  </tbody>\n",
       "</table>\n",
       "</div>"
      ],
      "text/plain": [
       "  region sample_date                                           tek_list  \\\n",
       "0     ES  2020-09-22  [0f9bfc2c-205f-0345-16a5-01206859cd0f, b26eee9...   \n",
       "1     ES  2020-09-21  [35f895cd-d3df-9152-0889-804867c0685a, b5acdeb...   \n",
       "2     ES  2020-09-20  [1f8f1e87-cd12-a94f-7e26-ef4ad246661b, 63d947d...   \n",
       "3     ES  2020-09-19  [3218970f-4c82-daf4-6cb1-7d8d5877f484, 2d12869...   \n",
       "4     ES  2020-09-18  [929af33f-4c54-9b8a-cf3a-a6eafed8dd0e, 8c6b618...   \n",
       "\n",
       "  extraction_date new_sample_extraction_date  \\\n",
       "0      2020-09-23                 2020-09-23   \n",
       "1      2020-09-22                 2020-09-22   \n",
       "2      2020-09-21                 2020-09-21   \n",
       "3      2020-09-20                 2020-09-20   \n",
       "4      2020-09-19                 2020-09-19   \n",
       "\n",
       "                                   same_day_tek_list  \n",
       "0                                                 []  \n",
       "1                                                 []  \n",
       "2                                                 []  \n",
       "3  [d4787a07-8b0b-58cc-b9e3-a94b0928d497, fc2611d...  \n",
       "4             [754bc832-e952-f047-e72d-5297ad25a4a7]  "
      ]
     },
     "execution_count": 24,
     "metadata": {},
     "output_type": "execute_result"
    }
   ],
   "source": [
    "estimated_shared_diagnoses_df = \\\n",
    "    estimated_shared_diagnoses_df.merge(same_day_tek_list_df, how=\"left\", on=[\"extraction_date\"])\n",
    "estimated_shared_diagnoses_df[\"same_day_tek_list\"] = \\\n",
    "    estimated_shared_diagnoses_df.same_day_tek_list.apply(lambda x: [] if x is np.nan else x)\n",
    "estimated_shared_diagnoses_df.head()"
   ]
  },
  {
   "cell_type": "code",
   "execution_count": 25,
   "metadata": {
    "execution": {
     "iopub.execute_input": "2020-09-23T11:18:23.291656Z",
     "iopub.status.busy": "2020-09-23T11:18:23.291082Z",
     "iopub.status.idle": "2020-09-23T11:18:23.306713Z",
     "shell.execute_reply": "2020-09-23T11:18:23.306193Z"
    },
    "papermill": {
     "duration": 0.06527,
     "end_time": "2020-09-23T11:18:23.306853",
     "exception": false,
     "start_time": "2020-09-23T11:18:23.241583",
     "status": "completed"
    },
    "tags": []
   },
   "outputs": [
    {
     "data": {
      "text/html": [
       "<div>\n",
       "<style scoped>\n",
       "    .dataframe tbody tr th:only-of-type {\n",
       "        vertical-align: middle;\n",
       "    }\n",
       "\n",
       "    .dataframe tbody tr th {\n",
       "        vertical-align: top;\n",
       "    }\n",
       "\n",
       "    .dataframe thead th {\n",
       "        text-align: right;\n",
       "    }\n",
       "</style>\n",
       "<table border=\"1\" class=\"dataframe\">\n",
       "  <thead>\n",
       "    <tr style=\"text-align: right;\">\n",
       "      <th></th>\n",
       "      <th>sample_date_string</th>\n",
       "      <th>shared_diagnoses</th>\n",
       "    </tr>\n",
       "  </thead>\n",
       "  <tbody>\n",
       "    <tr>\n",
       "      <th>0</th>\n",
       "      <td>2020-09-23</td>\n",
       "      <td>39</td>\n",
       "    </tr>\n",
       "    <tr>\n",
       "      <th>1</th>\n",
       "      <td>2020-09-22</td>\n",
       "      <td>55</td>\n",
       "    </tr>\n",
       "    <tr>\n",
       "      <th>2</th>\n",
       "      <td>2020-09-21</td>\n",
       "      <td>45</td>\n",
       "    </tr>\n",
       "    <tr>\n",
       "      <th>3</th>\n",
       "      <td>2020-09-20</td>\n",
       "      <td>45</td>\n",
       "    </tr>\n",
       "    <tr>\n",
       "      <th>4</th>\n",
       "      <td>2020-09-19</td>\n",
       "      <td>39</td>\n",
       "    </tr>\n",
       "  </tbody>\n",
       "</table>\n",
       "</div>"
      ],
      "text/plain": [
       "  sample_date_string  shared_diagnoses\n",
       "0         2020-09-23                39\n",
       "1         2020-09-22                55\n",
       "2         2020-09-21                45\n",
       "3         2020-09-20                45\n",
       "4         2020-09-19                39"
      ]
     },
     "execution_count": 25,
     "metadata": {},
     "output_type": "execute_result"
    }
   ],
   "source": [
    "estimated_shared_diagnoses_df.set_index(\"extraction_date\", inplace=True)\n",
    "estimated_shared_diagnoses_df[\"shared_diagnoses\"] = estimated_shared_diagnoses_df.apply(\n",
    "    lambda x: len(set(x.tek_list).difference(x.same_day_tek_list)), axis=1).copy()\n",
    "estimated_shared_diagnoses_df.reset_index(inplace=True)\n",
    "estimated_shared_diagnoses_df.rename(columns={\n",
    "    \"extraction_date\": \"sample_date_string\"}, inplace=True)\n",
    "estimated_shared_diagnoses_df = estimated_shared_diagnoses_df[[\"sample_date_string\", \"shared_diagnoses\"]]\n",
    "estimated_shared_diagnoses_df[\"sample_date_string\"] = estimated_shared_diagnoses_df.sample_date_string.dt.strftime(\"%Y-%m-%d\")\n",
    "estimated_shared_diagnoses_df.head()"
   ]
  },
  {
   "cell_type": "markdown",
   "metadata": {
    "papermill": {
     "duration": 0.043231,
     "end_time": "2020-09-23T11:18:23.391883",
     "exception": false,
     "start_time": "2020-09-23T11:18:23.348652",
     "status": "completed"
    },
    "pycharm": {
     "name": "#%% md\n"
    },
    "tags": []
   },
   "source": [
    "### Hourly New TEKs"
   ]
  },
  {
   "cell_type": "code",
   "execution_count": 26,
   "metadata": {
    "execution": {
     "iopub.execute_input": "2020-09-23T11:18:23.489422Z",
     "iopub.status.busy": "2020-09-23T11:18:23.488779Z",
     "iopub.status.idle": "2020-09-23T11:18:23.663763Z",
     "shell.execute_reply": "2020-09-23T11:18:23.664287Z"
    },
    "papermill": {
     "duration": 0.228133,
     "end_time": "2020-09-23T11:18:23.664480",
     "exception": false,
     "start_time": "2020-09-23T11:18:23.436347",
     "status": "completed"
    },
    "pycharm": {
     "name": "#%%\n"
    },
    "tags": []
   },
   "outputs": [
    {
     "data": {
      "text/html": [
       "<div>\n",
       "<style scoped>\n",
       "    .dataframe tbody tr th:only-of-type {\n",
       "        vertical-align: middle;\n",
       "    }\n",
       "\n",
       "    .dataframe tbody tr th {\n",
       "        vertical-align: top;\n",
       "    }\n",
       "\n",
       "    .dataframe thead th {\n",
       "        text-align: right;\n",
       "    }\n",
       "</style>\n",
       "<table border=\"1\" class=\"dataframe\">\n",
       "  <thead>\n",
       "    <tr style=\"text-align: right;\">\n",
       "      <th></th>\n",
       "      <th>extraction_date_with_hour</th>\n",
       "      <th>shared_teks_by_upload_date</th>\n",
       "    </tr>\n",
       "  </thead>\n",
       "  <tbody>\n",
       "    <tr>\n",
       "      <th>20</th>\n",
       "      <td>2020-09-23@07</td>\n",
       "      <td>0.0</td>\n",
       "    </tr>\n",
       "    <tr>\n",
       "      <th>21</th>\n",
       "      <td>2020-09-23@08</td>\n",
       "      <td>56.0</td>\n",
       "    </tr>\n",
       "    <tr>\n",
       "      <th>22</th>\n",
       "      <td>2020-09-23@09</td>\n",
       "      <td>0.0</td>\n",
       "    </tr>\n",
       "    <tr>\n",
       "      <th>23</th>\n",
       "      <td>2020-09-23@10</td>\n",
       "      <td>36.0</td>\n",
       "    </tr>\n",
       "    <tr>\n",
       "      <th>24</th>\n",
       "      <td>2020-09-23@11</td>\n",
       "      <td>0.0</td>\n",
       "    </tr>\n",
       "  </tbody>\n",
       "</table>\n",
       "</div>"
      ],
      "text/plain": [
       "   extraction_date_with_hour  shared_teks_by_upload_date\n",
       "20             2020-09-23@07                         0.0\n",
       "21             2020-09-23@08                        56.0\n",
       "22             2020-09-23@09                         0.0\n",
       "23             2020-09-23@10                        36.0\n",
       "24             2020-09-23@11                         0.0"
      ]
     },
     "execution_count": 26,
     "metadata": {},
     "output_type": "execute_result"
    }
   ],
   "source": [
    "hourly_extracted_teks_df = load_extracted_teks(\n",
    "    mode=\"Hourly\", region=spain_region_country_code, limit=25)\n",
    "hourly_extracted_teks_df.head()\n",
    "\n",
    "hourly_tek_list_df = hourly_extracted_teks_df.groupby(\"extraction_date_with_hour\").tek_list.apply(\n",
    "    lambda x: set(sum(x, []))).reset_index()\n",
    "hourly_tek_list_df = hourly_tek_list_df.set_index(\"extraction_date_with_hour\").sort_index(ascending=True)\n",
    "\n",
    "hourly_new_tek_df = hourly_tek_list_df.diff().tek_list.apply(\n",
    "    lambda x: len(x) if not pd.isna(x) else None).to_frame().reset_index()\n",
    "hourly_new_tek_df.rename(columns={\n",
    "    \"tek_list\": \"shared_teks_by_upload_date\"}, inplace=True)\n",
    "hourly_new_tek_df.tail()"
   ]
  },
  {
   "cell_type": "code",
   "execution_count": 27,
   "metadata": {
    "execution": {
     "iopub.execute_input": "2020-09-23T11:18:23.775542Z",
     "iopub.status.busy": "2020-09-23T11:18:23.774948Z",
     "iopub.status.idle": "2020-09-23T11:18:23.798246Z",
     "shell.execute_reply": "2020-09-23T11:18:23.797702Z"
    },
    "papermill": {
     "duration": 0.082056,
     "end_time": "2020-09-23T11:18:23.798389",
     "exception": false,
     "start_time": "2020-09-23T11:18:23.716333",
     "status": "completed"
    },
    "pycharm": {
     "name": "#%%\n"
    },
    "tags": []
   },
   "outputs": [
    {
     "data": {
      "text/html": [
       "<div>\n",
       "<style scoped>\n",
       "    .dataframe tbody tr th:only-of-type {\n",
       "        vertical-align: middle;\n",
       "    }\n",
       "\n",
       "    .dataframe tbody tr th {\n",
       "        vertical-align: top;\n",
       "    }\n",
       "\n",
       "    .dataframe thead th {\n",
       "        text-align: right;\n",
       "    }\n",
       "</style>\n",
       "<table border=\"1\" class=\"dataframe\">\n",
       "  <thead>\n",
       "    <tr style=\"text-align: right;\">\n",
       "      <th></th>\n",
       "      <th>extraction_date_with_hour</th>\n",
       "      <th>shared_diagnoses</th>\n",
       "    </tr>\n",
       "  </thead>\n",
       "  <tbody>\n",
       "    <tr>\n",
       "      <th>18</th>\n",
       "      <td>2020-09-23@07</td>\n",
       "      <td>0.0</td>\n",
       "    </tr>\n",
       "    <tr>\n",
       "      <th>19</th>\n",
       "      <td>2020-09-23@08</td>\n",
       "      <td>12.0</td>\n",
       "    </tr>\n",
       "    <tr>\n",
       "      <th>20</th>\n",
       "      <td>2020-09-23@09</td>\n",
       "      <td>0.0</td>\n",
       "    </tr>\n",
       "    <tr>\n",
       "      <th>21</th>\n",
       "      <td>2020-09-23@10</td>\n",
       "      <td>8.0</td>\n",
       "    </tr>\n",
       "    <tr>\n",
       "      <th>22</th>\n",
       "      <td>2020-09-23@11</td>\n",
       "      <td>0.0</td>\n",
       "    </tr>\n",
       "  </tbody>\n",
       "</table>\n",
       "</div>"
      ],
      "text/plain": [
       "   extraction_date_with_hour  shared_diagnoses\n",
       "18             2020-09-23@07               0.0\n",
       "19             2020-09-23@08              12.0\n",
       "20             2020-09-23@09               0.0\n",
       "21             2020-09-23@10               8.0\n",
       "22             2020-09-23@11               0.0"
      ]
     },
     "execution_count": 27,
     "metadata": {},
     "output_type": "execute_result"
    }
   ],
   "source": [
    "hourly_new_tek_devices_df = hourly_extracted_teks_df.copy()\n",
    "hourly_new_tek_devices_df[\"new_sample_extraction_date\"] = \\\n",
    "    pd.to_datetime(hourly_new_tek_devices_df.sample_date) + datetime.timedelta(1)\n",
    "hourly_new_tek_devices_df[\"extraction_date\"] = pd.to_datetime(hourly_new_tek_devices_df.extraction_date)\n",
    "\n",
    "hourly_new_tek_devices_df = hourly_new_tek_devices_df[\n",
    "    hourly_new_tek_devices_df.new_sample_extraction_date == hourly_new_tek_devices_df.extraction_date]\n",
    "\n",
    "hourly_new_tek_devices_df.set_index(\"extraction_date_with_hour\", inplace=True)\n",
    "hourly_new_tek_devices_df_ = pd.DataFrame()\n",
    "\n",
    "for i, chunk_df in hourly_new_tek_devices_df.groupby(\"extraction_date\"):\n",
    "    chunk_df = chunk_df.copy()\n",
    "    chunk_df.sort_index(inplace=True)\n",
    "    chunk_tek_count_df = chunk_df.tek_list.apply(lambda x: len(set(x)))\n",
    "    chunk_df = chunk_tek_count_df.diff().fillna(chunk_tek_count_df).to_frame()\n",
    "    hourly_new_tek_devices_df_ = hourly_new_tek_devices_df_.append(chunk_df)\n",
    "    \n",
    "hourly_new_tek_devices_df = hourly_new_tek_devices_df_\n",
    "hourly_new_tek_devices_df.reset_index(inplace=True)\n",
    "hourly_new_tek_devices_df.rename(columns={\n",
    "    \"tek_list\": \"shared_diagnoses\"}, inplace=True)\n",
    "hourly_new_tek_devices_df.tail()"
   ]
  },
  {
   "cell_type": "code",
   "execution_count": 28,
   "metadata": {
    "execution": {
     "iopub.execute_input": "2020-09-23T11:18:23.901875Z",
     "iopub.status.busy": "2020-09-23T11:18:23.901266Z",
     "iopub.status.idle": "2020-09-23T11:18:23.911966Z",
     "shell.execute_reply": "2020-09-23T11:18:23.911448Z"
    },
    "papermill": {
     "duration": 0.067976,
     "end_time": "2020-09-23T11:18:23.912103",
     "exception": false,
     "start_time": "2020-09-23T11:18:23.844127",
     "status": "completed"
    },
    "tags": []
   },
   "outputs": [
    {
     "data": {
      "text/html": [
       "<div>\n",
       "<style scoped>\n",
       "    .dataframe tbody tr th:only-of-type {\n",
       "        vertical-align: middle;\n",
       "    }\n",
       "\n",
       "    .dataframe tbody tr th {\n",
       "        vertical-align: top;\n",
       "    }\n",
       "\n",
       "    .dataframe thead th {\n",
       "        text-align: right;\n",
       "    }\n",
       "</style>\n",
       "<table border=\"1\" class=\"dataframe\">\n",
       "  <thead>\n",
       "    <tr style=\"text-align: right;\">\n",
       "      <th></th>\n",
       "      <th>extraction_date_with_hour</th>\n",
       "      <th>shared_teks_by_upload_date</th>\n",
       "      <th>shared_diagnoses</th>\n",
       "    </tr>\n",
       "    <tr>\n",
       "      <th>datetime_utc</th>\n",
       "      <th></th>\n",
       "      <th></th>\n",
       "      <th></th>\n",
       "    </tr>\n",
       "  </thead>\n",
       "  <tbody>\n",
       "    <tr>\n",
       "      <th>2020-09-23 07:00:00</th>\n",
       "      <td>2020-09-23@07</td>\n",
       "      <td>0.0</td>\n",
       "      <td>0.0</td>\n",
       "    </tr>\n",
       "    <tr>\n",
       "      <th>2020-09-23 08:00:00</th>\n",
       "      <td>2020-09-23@08</td>\n",
       "      <td>56.0</td>\n",
       "      <td>12.0</td>\n",
       "    </tr>\n",
       "    <tr>\n",
       "      <th>2020-09-23 09:00:00</th>\n",
       "      <td>2020-09-23@09</td>\n",
       "      <td>0.0</td>\n",
       "      <td>0.0</td>\n",
       "    </tr>\n",
       "    <tr>\n",
       "      <th>2020-09-23 10:00:00</th>\n",
       "      <td>2020-09-23@10</td>\n",
       "      <td>36.0</td>\n",
       "      <td>8.0</td>\n",
       "    </tr>\n",
       "    <tr>\n",
       "      <th>2020-09-23 11:00:00</th>\n",
       "      <td>2020-09-23@11</td>\n",
       "      <td>0.0</td>\n",
       "      <td>0.0</td>\n",
       "    </tr>\n",
       "  </tbody>\n",
       "</table>\n",
       "</div>"
      ],
      "text/plain": [
       "                    extraction_date_with_hour  shared_teks_by_upload_date  \\\n",
       "datetime_utc                                                                \n",
       "2020-09-23 07:00:00             2020-09-23@07                         0.0   \n",
       "2020-09-23 08:00:00             2020-09-23@08                        56.0   \n",
       "2020-09-23 09:00:00             2020-09-23@09                         0.0   \n",
       "2020-09-23 10:00:00             2020-09-23@10                        36.0   \n",
       "2020-09-23 11:00:00             2020-09-23@11                         0.0   \n",
       "\n",
       "                     shared_diagnoses  \n",
       "datetime_utc                           \n",
       "2020-09-23 07:00:00               0.0  \n",
       "2020-09-23 08:00:00              12.0  \n",
       "2020-09-23 09:00:00               0.0  \n",
       "2020-09-23 10:00:00               8.0  \n",
       "2020-09-23 11:00:00               0.0  "
      ]
     },
     "execution_count": 28,
     "metadata": {},
     "output_type": "execute_result"
    }
   ],
   "source": [
    "hourly_summary_df = hourly_new_tek_df.merge(\n",
    "    hourly_new_tek_devices_df, on=[\"extraction_date_with_hour\"], how=\"outer\")\n",
    "hourly_summary_df[\"datetime_utc\"] = pd.to_datetime(\n",
    "    hourly_summary_df.extraction_date_with_hour, format=\"%Y-%m-%d@%H\")\n",
    "hourly_summary_df.set_index(\"datetime_utc\", inplace=True)\n",
    "hourly_summary_df = hourly_summary_df.tail(-1)\n",
    "hourly_summary_df.tail()"
   ]
  },
  {
   "cell_type": "markdown",
   "metadata": {
    "execution": {
     "iopub.execute_input": "2020-08-30T22:30:16.982353Z",
     "iopub.status.busy": "2020-08-30T22:30:16.981676Z",
     "iopub.status.idle": "2020-08-30T22:30:16.984837Z",
     "shell.execute_reply": "2020-08-30T22:30:16.985366Z"
    },
    "papermill": {
     "duration": 0.045381,
     "end_time": "2020-09-23T11:18:24.002377",
     "exception": false,
     "start_time": "2020-09-23T11:18:23.956996",
     "status": "completed"
    },
    "pycharm": {
     "name": "#%% md\n"
    },
    "tags": []
   },
   "source": [
    "### Data Merge"
   ]
  },
  {
   "cell_type": "code",
   "execution_count": 29,
   "metadata": {
    "execution": {
     "iopub.execute_input": "2020-09-23T11:18:24.114462Z",
     "iopub.status.busy": "2020-09-23T11:18:24.113751Z",
     "iopub.status.idle": "2020-09-23T11:18:24.116190Z",
     "shell.execute_reply": "2020-09-23T11:18:24.116769Z"
    },
    "papermill": {
     "duration": 0.069457,
     "end_time": "2020-09-23T11:18:24.116944",
     "exception": false,
     "start_time": "2020-09-23T11:18:24.047487",
     "status": "completed"
    },
    "pycharm": {
     "name": "#%%\n"
    },
    "tags": []
   },
   "outputs": [
    {
     "data": {
      "text/html": [
       "<div>\n",
       "<style scoped>\n",
       "    .dataframe tbody tr th:only-of-type {\n",
       "        vertical-align: middle;\n",
       "    }\n",
       "\n",
       "    .dataframe tbody tr th {\n",
       "        vertical-align: top;\n",
       "    }\n",
       "\n",
       "    .dataframe thead th {\n",
       "        text-align: right;\n",
       "    }\n",
       "</style>\n",
       "<table border=\"1\" class=\"dataframe\">\n",
       "  <thead>\n",
       "    <tr style=\"text-align: right;\">\n",
       "      <th></th>\n",
       "      <th>sample_date_string</th>\n",
       "      <th>shared_teks_by_generation_date</th>\n",
       "      <th>shared_teks_by_upload_date</th>\n",
       "    </tr>\n",
       "  </thead>\n",
       "  <tbody>\n",
       "    <tr>\n",
       "      <th>0</th>\n",
       "      <td>2020-09-23</td>\n",
       "      <td>1</td>\n",
       "      <td>115.0</td>\n",
       "    </tr>\n",
       "    <tr>\n",
       "      <th>1</th>\n",
       "      <td>2020-09-22</td>\n",
       "      <td>39</td>\n",
       "      <td>148.0</td>\n",
       "    </tr>\n",
       "    <tr>\n",
       "      <th>2</th>\n",
       "      <td>2020-09-21</td>\n",
       "      <td>73</td>\n",
       "      <td>190.0</td>\n",
       "    </tr>\n",
       "    <tr>\n",
       "      <th>3</th>\n",
       "      <td>2020-09-20</td>\n",
       "      <td>90</td>\n",
       "      <td>116.0</td>\n",
       "    </tr>\n",
       "    <tr>\n",
       "      <th>4</th>\n",
       "      <td>2020-09-19</td>\n",
       "      <td>128</td>\n",
       "      <td>90.0</td>\n",
       "    </tr>\n",
       "  </tbody>\n",
       "</table>\n",
       "</div>"
      ],
      "text/plain": [
       "  sample_date_string  shared_teks_by_generation_date  \\\n",
       "0         2020-09-23                               1   \n",
       "1         2020-09-22                              39   \n",
       "2         2020-09-21                              73   \n",
       "3         2020-09-20                              90   \n",
       "4         2020-09-19                             128   \n",
       "\n",
       "   shared_teks_by_upload_date  \n",
       "0                       115.0  \n",
       "1                       148.0  \n",
       "2                       190.0  \n",
       "3                       116.0  \n",
       "4                        90.0  "
      ]
     },
     "execution_count": 29,
     "metadata": {},
     "output_type": "execute_result"
    }
   ],
   "source": [
    "result_summary_df = exposure_keys_summary_df.merge(\n",
    "    new_tek_df, on=[\"sample_date_string\"], how=\"outer\")\n",
    "result_summary_df.head()"
   ]
  },
  {
   "cell_type": "code",
   "execution_count": 30,
   "metadata": {
    "execution": {
     "iopub.execute_input": "2020-09-23T11:18:24.237716Z",
     "iopub.status.busy": "2020-09-23T11:18:24.237039Z",
     "iopub.status.idle": "2020-09-23T11:18:24.239760Z",
     "shell.execute_reply": "2020-09-23T11:18:24.240308Z"
    },
    "papermill": {
     "duration": 0.070015,
     "end_time": "2020-09-23T11:18:24.240481",
     "exception": false,
     "start_time": "2020-09-23T11:18:24.170466",
     "status": "completed"
    },
    "tags": []
   },
   "outputs": [
    {
     "data": {
      "text/html": [
       "<div>\n",
       "<style scoped>\n",
       "    .dataframe tbody tr th:only-of-type {\n",
       "        vertical-align: middle;\n",
       "    }\n",
       "\n",
       "    .dataframe tbody tr th {\n",
       "        vertical-align: top;\n",
       "    }\n",
       "\n",
       "    .dataframe thead th {\n",
       "        text-align: right;\n",
       "    }\n",
       "</style>\n",
       "<table border=\"1\" class=\"dataframe\">\n",
       "  <thead>\n",
       "    <tr style=\"text-align: right;\">\n",
       "      <th></th>\n",
       "      <th>sample_date_string</th>\n",
       "      <th>shared_teks_by_generation_date</th>\n",
       "      <th>shared_teks_by_upload_date</th>\n",
       "      <th>shared_diagnoses</th>\n",
       "    </tr>\n",
       "  </thead>\n",
       "  <tbody>\n",
       "    <tr>\n",
       "      <th>0</th>\n",
       "      <td>2020-09-23</td>\n",
       "      <td>1</td>\n",
       "      <td>115.0</td>\n",
       "      <td>39.0</td>\n",
       "    </tr>\n",
       "    <tr>\n",
       "      <th>1</th>\n",
       "      <td>2020-09-22</td>\n",
       "      <td>39</td>\n",
       "      <td>148.0</td>\n",
       "      <td>55.0</td>\n",
       "    </tr>\n",
       "    <tr>\n",
       "      <th>2</th>\n",
       "      <td>2020-09-21</td>\n",
       "      <td>73</td>\n",
       "      <td>190.0</td>\n",
       "      <td>45.0</td>\n",
       "    </tr>\n",
       "    <tr>\n",
       "      <th>3</th>\n",
       "      <td>2020-09-20</td>\n",
       "      <td>90</td>\n",
       "      <td>116.0</td>\n",
       "      <td>45.0</td>\n",
       "    </tr>\n",
       "    <tr>\n",
       "      <th>4</th>\n",
       "      <td>2020-09-19</td>\n",
       "      <td>128</td>\n",
       "      <td>90.0</td>\n",
       "      <td>39.0</td>\n",
       "    </tr>\n",
       "  </tbody>\n",
       "</table>\n",
       "</div>"
      ],
      "text/plain": [
       "  sample_date_string  shared_teks_by_generation_date  \\\n",
       "0         2020-09-23                               1   \n",
       "1         2020-09-22                              39   \n",
       "2         2020-09-21                              73   \n",
       "3         2020-09-20                              90   \n",
       "4         2020-09-19                             128   \n",
       "\n",
       "   shared_teks_by_upload_date  shared_diagnoses  \n",
       "0                       115.0              39.0  \n",
       "1                       148.0              55.0  \n",
       "2                       190.0              45.0  \n",
       "3                       116.0              45.0  \n",
       "4                        90.0              39.0  "
      ]
     },
     "execution_count": 30,
     "metadata": {},
     "output_type": "execute_result"
    }
   ],
   "source": [
    "result_summary_df = result_summary_df.merge(\n",
    "    estimated_shared_diagnoses_df, on=[\"sample_date_string\"], how=\"outer\")\n",
    "result_summary_df.head()"
   ]
  },
  {
   "cell_type": "code",
   "execution_count": 31,
   "metadata": {
    "execution": {
     "iopub.execute_input": "2020-09-23T11:18:24.357266Z",
     "iopub.status.busy": "2020-09-23T11:18:24.356557Z",
     "iopub.status.idle": "2020-09-23T11:18:24.359691Z",
     "shell.execute_reply": "2020-09-23T11:18:24.360247Z"
    },
    "papermill": {
     "duration": 0.070742,
     "end_time": "2020-09-23T11:18:24.360429",
     "exception": false,
     "start_time": "2020-09-23T11:18:24.289687",
     "status": "completed"
    },
    "pycharm": {
     "name": "#%%\n"
    },
    "tags": []
   },
   "outputs": [
    {
     "data": {
      "text/html": [
       "<div>\n",
       "<style scoped>\n",
       "    .dataframe tbody tr th:only-of-type {\n",
       "        vertical-align: middle;\n",
       "    }\n",
       "\n",
       "    .dataframe tbody tr th {\n",
       "        vertical-align: top;\n",
       "    }\n",
       "\n",
       "    .dataframe thead th {\n",
       "        text-align: right;\n",
       "    }\n",
       "</style>\n",
       "<table border=\"1\" class=\"dataframe\">\n",
       "  <thead>\n",
       "    <tr style=\"text-align: right;\">\n",
       "      <th></th>\n",
       "      <th>sample_date_string</th>\n",
       "      <th>cumulative_cases</th>\n",
       "      <th>new_cases</th>\n",
       "      <th>covid_cases</th>\n",
       "      <th>shared_teks_by_generation_date</th>\n",
       "      <th>shared_teks_by_upload_date</th>\n",
       "      <th>shared_diagnoses</th>\n",
       "    </tr>\n",
       "  </thead>\n",
       "  <tbody>\n",
       "    <tr>\n",
       "      <th>0</th>\n",
       "      <td>2020-09-03</td>\n",
       "      <td>488513.0</td>\n",
       "      <td>8959.0</td>\n",
       "      <td>8429</td>\n",
       "      <td>51</td>\n",
       "      <td>49.0</td>\n",
       "      <td>19.0</td>\n",
       "    </tr>\n",
       "    <tr>\n",
       "      <th>1</th>\n",
       "      <td>2020-09-04</td>\n",
       "      <td>498989.0</td>\n",
       "      <td>10476.0</td>\n",
       "      <td>8529</td>\n",
       "      <td>52</td>\n",
       "      <td>58.0</td>\n",
       "      <td>20.0</td>\n",
       "    </tr>\n",
       "    <tr>\n",
       "      <th>2</th>\n",
       "      <td>2020-09-05</td>\n",
       "      <td>498989.0</td>\n",
       "      <td>0.0</td>\n",
       "      <td>8529</td>\n",
       "      <td>56</td>\n",
       "      <td>40.0</td>\n",
       "      <td>17.0</td>\n",
       "    </tr>\n",
       "    <tr>\n",
       "      <th>3</th>\n",
       "      <td>2020-09-06</td>\n",
       "      <td>498989.0</td>\n",
       "      <td>0.0</td>\n",
       "      <td>8529</td>\n",
       "      <td>54</td>\n",
       "      <td>60.0</td>\n",
       "      <td>24.0</td>\n",
       "    </tr>\n",
       "    <tr>\n",
       "      <th>4</th>\n",
       "      <td>2020-09-07</td>\n",
       "      <td>525549.0</td>\n",
       "      <td>26560.0</td>\n",
       "      <td>8956</td>\n",
       "      <td>58</td>\n",
       "      <td>52.0</td>\n",
       "      <td>22.0</td>\n",
       "    </tr>\n",
       "  </tbody>\n",
       "</table>\n",
       "</div>"
      ],
      "text/plain": [
       "  sample_date_string  cumulative_cases  new_cases  covid_cases  \\\n",
       "0         2020-09-03          488513.0     8959.0         8429   \n",
       "1         2020-09-04          498989.0    10476.0         8529   \n",
       "2         2020-09-05          498989.0        0.0         8529   \n",
       "3         2020-09-06          498989.0        0.0         8529   \n",
       "4         2020-09-07          525549.0    26560.0         8956   \n",
       "\n",
       "   shared_teks_by_generation_date  shared_teks_by_upload_date  \\\n",
       "0                              51                        49.0   \n",
       "1                              52                        58.0   \n",
       "2                              56                        40.0   \n",
       "3                              54                        60.0   \n",
       "4                              58                        52.0   \n",
       "\n",
       "   shared_diagnoses  \n",
       "0              19.0  \n",
       "1              20.0  \n",
       "2              17.0  \n",
       "3              24.0  \n",
       "4              22.0  "
      ]
     },
     "execution_count": 31,
     "metadata": {},
     "output_type": "execute_result"
    }
   ],
   "source": [
    "result_summary_df = confirmed_df.tail(daily_summary_days).merge(\n",
    "    result_summary_df, on=[\"sample_date_string\"], how=\"left\")\n",
    "result_summary_df.head()"
   ]
  },
  {
   "cell_type": "code",
   "execution_count": 32,
   "metadata": {
    "collapsed": false,
    "execution": {
     "iopub.execute_input": "2020-09-23T11:18:24.506561Z",
     "iopub.status.busy": "2020-09-23T11:18:24.505887Z",
     "iopub.status.idle": "2020-09-23T11:18:24.508508Z",
     "shell.execute_reply": "2020-09-23T11:18:24.509080Z"
    },
    "papermill": {
     "duration": 0.096034,
     "end_time": "2020-09-23T11:18:24.509269",
     "exception": false,
     "start_time": "2020-09-23T11:18:24.413235",
     "status": "completed"
    },
    "pycharm": {
     "name": "#%%\n"
    },
    "tags": []
   },
   "outputs": [
    {
     "data": {
      "text/html": [
       "<div>\n",
       "<style scoped>\n",
       "    .dataframe tbody tr th:only-of-type {\n",
       "        vertical-align: middle;\n",
       "    }\n",
       "\n",
       "    .dataframe tbody tr th {\n",
       "        vertical-align: top;\n",
       "    }\n",
       "\n",
       "    .dataframe thead th {\n",
       "        text-align: right;\n",
       "    }\n",
       "</style>\n",
       "<table border=\"1\" class=\"dataframe\">\n",
       "  <thead>\n",
       "    <tr style=\"text-align: right;\">\n",
       "      <th></th>\n",
       "      <th>cumulative_cases</th>\n",
       "      <th>new_cases</th>\n",
       "      <th>covid_cases</th>\n",
       "      <th>shared_teks_by_generation_date</th>\n",
       "      <th>shared_teks_by_upload_date</th>\n",
       "      <th>shared_diagnoses</th>\n",
       "    </tr>\n",
       "    <tr>\n",
       "      <th>sample_date</th>\n",
       "      <th></th>\n",
       "      <th></th>\n",
       "      <th></th>\n",
       "      <th></th>\n",
       "      <th></th>\n",
       "      <th></th>\n",
       "    </tr>\n",
       "  </thead>\n",
       "  <tbody>\n",
       "    <tr>\n",
       "      <th>2020-09-23</th>\n",
       "      <td>693567.0</td>\n",
       "      <td>11300.0</td>\n",
       "      <td>11300</td>\n",
       "      <td>1</td>\n",
       "      <td>115.0</td>\n",
       "      <td>39.0</td>\n",
       "    </tr>\n",
       "    <tr>\n",
       "      <th>2020-09-22</th>\n",
       "      <td>682267.0</td>\n",
       "      <td>10799.0</td>\n",
       "      <td>11300</td>\n",
       "      <td>39</td>\n",
       "      <td>148.0</td>\n",
       "      <td>55.0</td>\n",
       "    </tr>\n",
       "    <tr>\n",
       "      <th>2020-09-21</th>\n",
       "      <td>671468.0</td>\n",
       "      <td>31428.0</td>\n",
       "      <td>11105</td>\n",
       "      <td>73</td>\n",
       "      <td>190.0</td>\n",
       "      <td>45.0</td>\n",
       "    </tr>\n",
       "    <tr>\n",
       "      <th>2020-09-20</th>\n",
       "      <td>640040.0</td>\n",
       "      <td>0.0</td>\n",
       "      <td>10531</td>\n",
       "      <td>90</td>\n",
       "      <td>116.0</td>\n",
       "      <td>45.0</td>\n",
       "    </tr>\n",
       "    <tr>\n",
       "      <th>2020-09-19</th>\n",
       "      <td>640040.0</td>\n",
       "      <td>0.0</td>\n",
       "      <td>10531</td>\n",
       "      <td>128</td>\n",
       "      <td>90.0</td>\n",
       "      <td>39.0</td>\n",
       "    </tr>\n",
       "  </tbody>\n",
       "</table>\n",
       "</div>"
      ],
      "text/plain": [
       "             cumulative_cases  new_cases  covid_cases  \\\n",
       "sample_date                                             \n",
       "2020-09-23           693567.0    11300.0        11300   \n",
       "2020-09-22           682267.0    10799.0        11300   \n",
       "2020-09-21           671468.0    31428.0        11105   \n",
       "2020-09-20           640040.0        0.0        10531   \n",
       "2020-09-19           640040.0        0.0        10531   \n",
       "\n",
       "             shared_teks_by_generation_date  shared_teks_by_upload_date  \\\n",
       "sample_date                                                               \n",
       "2020-09-23                                1                       115.0   \n",
       "2020-09-22                               39                       148.0   \n",
       "2020-09-21                               73                       190.0   \n",
       "2020-09-20                               90                       116.0   \n",
       "2020-09-19                              128                        90.0   \n",
       "\n",
       "             shared_diagnoses  \n",
       "sample_date                    \n",
       "2020-09-23               39.0  \n",
       "2020-09-22               55.0  \n",
       "2020-09-21               45.0  \n",
       "2020-09-20               45.0  \n",
       "2020-09-19               39.0  "
      ]
     },
     "execution_count": 32,
     "metadata": {},
     "output_type": "execute_result"
    }
   ],
   "source": [
    "result_summary_df[\"sample_date\"] = pd.to_datetime(result_summary_df.sample_date_string)\n",
    "result_summary_df.set_index(\"sample_date\", inplace=True)\n",
    "result_summary_df.drop(columns=[\"sample_date_string\"], inplace=True)\n",
    "result_summary_df.sort_index(ascending=False, inplace=True)\n",
    "result_summary_df.head()"
   ]
  },
  {
   "cell_type": "code",
   "execution_count": 33,
   "metadata": {
    "execution": {
     "iopub.execute_input": "2020-09-23T11:18:24.624792Z",
     "iopub.status.busy": "2020-09-23T11:18:24.624107Z",
     "iopub.status.idle": "2020-09-23T11:18:24.627094Z",
     "shell.execute_reply": "2020-09-23T11:18:24.628167Z"
    },
    "papermill": {
     "duration": 0.069661,
     "end_time": "2020-09-23T11:18:24.628360",
     "exception": false,
     "start_time": "2020-09-23T11:18:24.558699",
     "status": "completed"
    },
    "pycharm": {
     "name": "#%%\n"
    },
    "tags": []
   },
   "outputs": [
    {
     "data": {
      "text/html": [
       "<div>\n",
       "<style scoped>\n",
       "    .dataframe tbody tr th:only-of-type {\n",
       "        vertical-align: middle;\n",
       "    }\n",
       "\n",
       "    .dataframe tbody tr th {\n",
       "        vertical-align: top;\n",
       "    }\n",
       "\n",
       "    .dataframe thead th {\n",
       "        text-align: right;\n",
       "    }\n",
       "</style>\n",
       "<table border=\"1\" class=\"dataframe\">\n",
       "  <thead>\n",
       "    <tr style=\"text-align: right;\">\n",
       "      <th></th>\n",
       "      <th>cumulative_cases</th>\n",
       "      <th>new_cases</th>\n",
       "      <th>covid_cases</th>\n",
       "      <th>shared_teks_by_generation_date</th>\n",
       "      <th>shared_teks_by_upload_date</th>\n",
       "      <th>shared_diagnoses</th>\n",
       "      <th>teks_per_shared_diagnosis</th>\n",
       "      <th>shared_diagnoses_per_covid_case</th>\n",
       "    </tr>\n",
       "    <tr>\n",
       "      <th>sample_date</th>\n",
       "      <th></th>\n",
       "      <th></th>\n",
       "      <th></th>\n",
       "      <th></th>\n",
       "      <th></th>\n",
       "      <th></th>\n",
       "      <th></th>\n",
       "      <th></th>\n",
       "    </tr>\n",
       "  </thead>\n",
       "  <tbody>\n",
       "    <tr>\n",
       "      <th>2020-09-23</th>\n",
       "      <td>693567</td>\n",
       "      <td>11300</td>\n",
       "      <td>11300</td>\n",
       "      <td>1</td>\n",
       "      <td>115</td>\n",
       "      <td>39</td>\n",
       "      <td>2.948718</td>\n",
       "      <td>0.003451</td>\n",
       "    </tr>\n",
       "    <tr>\n",
       "      <th>2020-09-22</th>\n",
       "      <td>682267</td>\n",
       "      <td>10799</td>\n",
       "      <td>11300</td>\n",
       "      <td>39</td>\n",
       "      <td>148</td>\n",
       "      <td>55</td>\n",
       "      <td>2.690909</td>\n",
       "      <td>0.004867</td>\n",
       "    </tr>\n",
       "    <tr>\n",
       "      <th>2020-09-21</th>\n",
       "      <td>671468</td>\n",
       "      <td>31428</td>\n",
       "      <td>11105</td>\n",
       "      <td>73</td>\n",
       "      <td>190</td>\n",
       "      <td>45</td>\n",
       "      <td>4.222222</td>\n",
       "      <td>0.004052</td>\n",
       "    </tr>\n",
       "    <tr>\n",
       "      <th>2020-09-20</th>\n",
       "      <td>640040</td>\n",
       "      <td>0</td>\n",
       "      <td>10531</td>\n",
       "      <td>90</td>\n",
       "      <td>116</td>\n",
       "      <td>45</td>\n",
       "      <td>2.577778</td>\n",
       "      <td>0.004273</td>\n",
       "    </tr>\n",
       "    <tr>\n",
       "      <th>2020-09-19</th>\n",
       "      <td>640040</td>\n",
       "      <td>0</td>\n",
       "      <td>10531</td>\n",
       "      <td>128</td>\n",
       "      <td>90</td>\n",
       "      <td>39</td>\n",
       "      <td>2.307692</td>\n",
       "      <td>0.003703</td>\n",
       "    </tr>\n",
       "  </tbody>\n",
       "</table>\n",
       "</div>"
      ],
      "text/plain": [
       "             cumulative_cases  new_cases  covid_cases  \\\n",
       "sample_date                                             \n",
       "2020-09-23             693567      11300        11300   \n",
       "2020-09-22             682267      10799        11300   \n",
       "2020-09-21             671468      31428        11105   \n",
       "2020-09-20             640040          0        10531   \n",
       "2020-09-19             640040          0        10531   \n",
       "\n",
       "             shared_teks_by_generation_date  shared_teks_by_upload_date  \\\n",
       "sample_date                                                               \n",
       "2020-09-23                                1                         115   \n",
       "2020-09-22                               39                         148   \n",
       "2020-09-21                               73                         190   \n",
       "2020-09-20                               90                         116   \n",
       "2020-09-19                              128                          90   \n",
       "\n",
       "             shared_diagnoses  teks_per_shared_diagnosis  \\\n",
       "sample_date                                                \n",
       "2020-09-23                 39                   2.948718   \n",
       "2020-09-22                 55                   2.690909   \n",
       "2020-09-21                 45                   4.222222   \n",
       "2020-09-20                 45                   2.577778   \n",
       "2020-09-19                 39                   2.307692   \n",
       "\n",
       "             shared_diagnoses_per_covid_case  \n",
       "sample_date                                   \n",
       "2020-09-23                          0.003451  \n",
       "2020-09-22                          0.004867  \n",
       "2020-09-21                          0.004052  \n",
       "2020-09-20                          0.004273  \n",
       "2020-09-19                          0.003703  "
      ]
     },
     "execution_count": 33,
     "metadata": {},
     "output_type": "execute_result"
    }
   ],
   "source": [
    "result_summary_df = result_summary_df.fillna(0).astype(int)\n",
    "result_summary_df[\"teks_per_shared_diagnosis\"] = \\\n",
    "    result_summary_df.shared_teks_by_upload_date / result_summary_df.shared_diagnoses\n",
    "result_summary_df[\"shared_diagnoses_per_covid_case\"] = \\\n",
    "    result_summary_df.shared_diagnoses / result_summary_df.covid_cases\n",
    "result_summary_df.head()"
   ]
  },
  {
   "cell_type": "code",
   "execution_count": 34,
   "metadata": {
    "collapsed": false,
    "execution": {
     "iopub.execute_input": "2020-09-23T11:18:24.765661Z",
     "iopub.status.busy": "2020-09-23T11:18:24.764940Z",
     "iopub.status.idle": "2020-09-23T11:18:24.769927Z",
     "shell.execute_reply": "2020-09-23T11:18:24.769374Z"
    },
    "papermill": {
     "duration": 0.085365,
     "end_time": "2020-09-23T11:18:24.770086",
     "exception": false,
     "start_time": "2020-09-23T11:18:24.684721",
     "status": "completed"
    },
    "pycharm": {
     "name": "#%%\n"
    },
    "tags": []
   },
   "outputs": [
    {
     "data": {
      "text/html": [
       "<div>\n",
       "<style scoped>\n",
       "    .dataframe tbody tr th:only-of-type {\n",
       "        vertical-align: middle;\n",
       "    }\n",
       "\n",
       "    .dataframe tbody tr th {\n",
       "        vertical-align: top;\n",
       "    }\n",
       "\n",
       "    .dataframe thead th {\n",
       "        text-align: right;\n",
       "    }\n",
       "</style>\n",
       "<table border=\"1\" class=\"dataframe\">\n",
       "  <thead>\n",
       "    <tr style=\"text-align: right;\">\n",
       "      <th></th>\n",
       "      <th>covid_cases</th>\n",
       "      <th>shared_teks_by_generation_date</th>\n",
       "      <th>shared_teks_by_upload_date</th>\n",
       "      <th>shared_diagnoses</th>\n",
       "      <th>teks_per_shared_diagnosis</th>\n",
       "      <th>shared_diagnoses_per_covid_case</th>\n",
       "    </tr>\n",
       "    <tr>\n",
       "      <th>sample_date</th>\n",
       "      <th></th>\n",
       "      <th></th>\n",
       "      <th></th>\n",
       "      <th></th>\n",
       "      <th></th>\n",
       "      <th></th>\n",
       "    </tr>\n",
       "  </thead>\n",
       "  <tbody>\n",
       "    <tr>\n",
       "      <th>2020-09-23</th>\n",
       "      <td>75513.0</td>\n",
       "      <td>608.0</td>\n",
       "      <td>860.0</td>\n",
       "      <td>304.0</td>\n",
       "      <td>2.828947</td>\n",
       "      <td>0.004026</td>\n",
       "    </tr>\n",
       "    <tr>\n",
       "      <th>2020-09-22</th>\n",
       "      <td>74353.0</td>\n",
       "      <td>726.0</td>\n",
       "      <td>807.0</td>\n",
       "      <td>288.0</td>\n",
       "      <td>2.802083</td>\n",
       "      <td>0.003873</td>\n",
       "    </tr>\n",
       "    <tr>\n",
       "      <th>2020-09-21</th>\n",
       "      <td>72861.0</td>\n",
       "      <td>769.0</td>\n",
       "      <td>717.0</td>\n",
       "      <td>256.0</td>\n",
       "      <td>2.800781</td>\n",
       "      <td>0.003514</td>\n",
       "    </tr>\n",
       "    <tr>\n",
       "      <th>2020-09-20</th>\n",
       "      <td>71496.0</td>\n",
       "      <td>769.0</td>\n",
       "      <td>588.0</td>\n",
       "      <td>239.0</td>\n",
       "      <td>2.460251</td>\n",
       "      <td>0.003343</td>\n",
       "    </tr>\n",
       "    <tr>\n",
       "      <th>2020-09-19</th>\n",
       "      <td>70585.0</td>\n",
       "      <td>754.0</td>\n",
       "      <td>564.0</td>\n",
       "      <td>226.0</td>\n",
       "      <td>2.495575</td>\n",
       "      <td>0.003202</td>\n",
       "    </tr>\n",
       "  </tbody>\n",
       "</table>\n",
       "</div>"
      ],
      "text/plain": [
       "             covid_cases  shared_teks_by_generation_date  \\\n",
       "sample_date                                                \n",
       "2020-09-23       75513.0                           608.0   \n",
       "2020-09-22       74353.0                           726.0   \n",
       "2020-09-21       72861.0                           769.0   \n",
       "2020-09-20       71496.0                           769.0   \n",
       "2020-09-19       70585.0                           754.0   \n",
       "\n",
       "             shared_teks_by_upload_date  shared_diagnoses  \\\n",
       "sample_date                                                 \n",
       "2020-09-23                        860.0             304.0   \n",
       "2020-09-22                        807.0             288.0   \n",
       "2020-09-21                        717.0             256.0   \n",
       "2020-09-20                        588.0             239.0   \n",
       "2020-09-19                        564.0             226.0   \n",
       "\n",
       "             teks_per_shared_diagnosis  shared_diagnoses_per_covid_case  \n",
       "sample_date                                                              \n",
       "2020-09-23                    2.828947                         0.004026  \n",
       "2020-09-22                    2.802083                         0.003873  \n",
       "2020-09-21                    2.800781                         0.003514  \n",
       "2020-09-20                    2.460251                         0.003343  \n",
       "2020-09-19                    2.495575                         0.003202  "
      ]
     },
     "execution_count": 34,
     "metadata": {},
     "output_type": "execute_result"
    }
   ],
   "source": [
    "weekly_result_summary_df = result_summary_df \\\n",
    "    .sort_index(ascending=True).fillna(0).rolling(7).agg({\n",
    "    \"covid_cases\": \"sum\",\n",
    "    \"shared_teks_by_generation_date\": \"sum\",\n",
    "    \"shared_teks_by_upload_date\": \"sum\",\n",
    "    \"shared_diagnoses\": \"sum\"\n",
    "}).sort_index(ascending=False)\n",
    "weekly_result_summary_df[\"teks_per_shared_diagnosis\"] = \\\n",
    "    weekly_result_summary_df.shared_teks_by_upload_date / weekly_result_summary_df.shared_diagnoses\n",
    "weekly_result_summary_df[\"shared_diagnoses_per_covid_case\"] = \\\n",
    "    weekly_result_summary_df.shared_diagnoses / weekly_result_summary_df.covid_cases\n",
    "weekly_result_summary_df.head()"
   ]
  },
  {
   "cell_type": "code",
   "execution_count": 35,
   "metadata": {
    "collapsed": false,
    "execution": {
     "iopub.execute_input": "2020-09-23T11:18:24.886980Z",
     "iopub.status.busy": "2020-09-23T11:18:24.885973Z",
     "iopub.status.idle": "2020-09-23T11:18:24.890240Z",
     "shell.execute_reply": "2020-09-23T11:18:24.889629Z"
    },
    "papermill": {
     "duration": 0.066104,
     "end_time": "2020-09-23T11:18:24.890391",
     "exception": false,
     "start_time": "2020-09-23T11:18:24.824287",
     "status": "completed"
    },
    "pycharm": {
     "name": "#%%\n"
    },
    "tags": []
   },
   "outputs": [
    {
     "data": {
      "text/plain": [
       "covid_cases                        75513.000000\n",
       "shared_teks_by_generation_date       608.000000\n",
       "shared_teks_by_upload_date           860.000000\n",
       "shared_diagnoses                     304.000000\n",
       "teks_per_shared_diagnosis              2.828947\n",
       "shared_diagnoses_per_covid_case        0.004026\n",
       "Name: 2020-09-23 00:00:00, dtype: float64"
      ]
     },
     "execution_count": 35,
     "metadata": {},
     "output_type": "execute_result"
    }
   ],
   "source": [
    "last_7_days_summary = weekly_result_summary_df.iloc[0]\n",
    "last_7_days_summary"
   ]
  },
  {
   "cell_type": "markdown",
   "metadata": {
    "execution": {
     "iopub.execute_input": "2020-08-30T22:30:17.313260Z",
     "iopub.status.busy": "2020-08-30T22:30:17.312584Z",
     "iopub.status.idle": "2020-08-30T22:30:17.317571Z",
     "shell.execute_reply": "2020-08-30T22:30:17.316929Z"
    },
    "papermill": {
     "duration": 0.055186,
     "end_time": "2020-09-23T11:18:25.000691",
     "exception": false,
     "start_time": "2020-09-23T11:18:24.945505",
     "status": "completed"
    },
    "pycharm": {
     "name": "#%% md\n"
    },
    "tags": []
   },
   "source": [
    "## Report Results"
   ]
  },
  {
   "cell_type": "code",
   "execution_count": 36,
   "metadata": {
    "collapsed": false,
    "execution": {
     "iopub.execute_input": "2020-09-23T11:18:25.121380Z",
     "iopub.status.busy": "2020-09-23T11:18:25.120740Z",
     "iopub.status.idle": "2020-09-23T11:18:25.123153Z",
     "shell.execute_reply": "2020-09-23T11:18:25.122627Z"
    },
    "papermill": {
     "duration": 0.064552,
     "end_time": "2020-09-23T11:18:25.123289",
     "exception": false,
     "start_time": "2020-09-23T11:18:25.058737",
     "status": "completed"
    },
    "pycharm": {
     "name": "#%%\n"
    },
    "tags": []
   },
   "outputs": [],
   "source": [
    "display_column_name_mapping = {\n",
    "    \"sample_date\": \"Sample\\u00A0Date\\u00A0(UTC)\",\n",
    "    \"datetime_utc\": \"Timestamp (UTC)\",\n",
    "    \"covid_cases\": \"COVID-19 Cases (7-day Rolling Average)\",\n",
    "    \"shared_teks_by_generation_date\": \"Shared TEKs by Generation Date\",\n",
    "    \"shared_teks_by_upload_date\": \"Shared TEKs by Upload Date\",\n",
    "    \"shared_diagnoses\": \"Shared Diagnoses (Estimation)\",\n",
    "    \"teks_per_shared_diagnosis\": \"TEKs Uploaded per Shared Diagnosis\",\n",
    "    \"shared_diagnoses_per_covid_case\": \"Usage Ratio (Fraction of Cases Which Shared Diagnosis)\",\n",
    "}"
   ]
  },
  {
   "cell_type": "markdown",
   "metadata": {
    "papermill": {
     "duration": 0.052804,
     "end_time": "2020-09-23T11:18:25.226006",
     "exception": false,
     "start_time": "2020-09-23T11:18:25.173202",
     "status": "completed"
    },
    "tags": []
   },
   "source": [
    "### Daily Summary Table"
   ]
  },
  {
   "cell_type": "code",
   "execution_count": 37,
   "metadata": {
    "execution": {
     "iopub.execute_input": "2020-09-23T11:18:25.343728Z",
     "iopub.status.busy": "2020-09-23T11:18:25.343091Z",
     "iopub.status.idle": "2020-09-23T11:18:25.347347Z",
     "shell.execute_reply": "2020-09-23T11:18:25.346811Z"
    },
    "papermill": {
     "duration": 0.071587,
     "end_time": "2020-09-23T11:18:25.347494",
     "exception": false,
     "start_time": "2020-09-23T11:18:25.275907",
     "status": "completed"
    },
    "tags": []
   },
   "outputs": [
    {
     "data": {
      "text/html": [
       "<div>\n",
       "<style scoped>\n",
       "    .dataframe tbody tr th:only-of-type {\n",
       "        vertical-align: middle;\n",
       "    }\n",
       "\n",
       "    .dataframe tbody tr th {\n",
       "        vertical-align: top;\n",
       "    }\n",
       "\n",
       "    .dataframe thead th {\n",
       "        text-align: right;\n",
       "    }\n",
       "</style>\n",
       "<table border=\"1\" class=\"dataframe\">\n",
       "  <thead>\n",
       "    <tr style=\"text-align: right;\">\n",
       "      <th></th>\n",
       "      <th>COVID-19 Cases (7-day Rolling Average)</th>\n",
       "      <th>Shared TEKs by Generation Date</th>\n",
       "      <th>Shared TEKs by Upload Date</th>\n",
       "      <th>Shared Diagnoses (Estimation)</th>\n",
       "      <th>TEKs Uploaded per Shared Diagnosis</th>\n",
       "      <th>Usage Ratio (Fraction of Cases Which Shared Diagnosis)</th>\n",
       "    </tr>\n",
       "    <tr>\n",
       "      <th>Sample Date (UTC)</th>\n",
       "      <th></th>\n",
       "      <th></th>\n",
       "      <th></th>\n",
       "      <th></th>\n",
       "      <th></th>\n",
       "      <th></th>\n",
       "    </tr>\n",
       "  </thead>\n",
       "  <tbody>\n",
       "    <tr>\n",
       "      <th>2020-09-23</th>\n",
       "      <td>11300</td>\n",
       "      <td>1</td>\n",
       "      <td>115</td>\n",
       "      <td>39</td>\n",
       "      <td>2.948718</td>\n",
       "      <td>0.003451</td>\n",
       "    </tr>\n",
       "    <tr>\n",
       "      <th>2020-09-22</th>\n",
       "      <td>11300</td>\n",
       "      <td>39</td>\n",
       "      <td>148</td>\n",
       "      <td>55</td>\n",
       "      <td>2.690909</td>\n",
       "      <td>0.004867</td>\n",
       "    </tr>\n",
       "    <tr>\n",
       "      <th>2020-09-21</th>\n",
       "      <td>11105</td>\n",
       "      <td>73</td>\n",
       "      <td>190</td>\n",
       "      <td>45</td>\n",
       "      <td>4.222222</td>\n",
       "      <td>0.004052</td>\n",
       "    </tr>\n",
       "    <tr>\n",
       "      <th>2020-09-20</th>\n",
       "      <td>10531</td>\n",
       "      <td>90</td>\n",
       "      <td>116</td>\n",
       "      <td>45</td>\n",
       "      <td>2.577778</td>\n",
       "      <td>0.004273</td>\n",
       "    </tr>\n",
       "    <tr>\n",
       "      <th>2020-09-19</th>\n",
       "      <td>10531</td>\n",
       "      <td>128</td>\n",
       "      <td>90</td>\n",
       "      <td>39</td>\n",
       "      <td>2.307692</td>\n",
       "      <td>0.003703</td>\n",
       "    </tr>\n",
       "    <tr>\n",
       "      <th>2020-09-18</th>\n",
       "      <td>10531</td>\n",
       "      <td>138</td>\n",
       "      <td>138</td>\n",
       "      <td>52</td>\n",
       "      <td>2.653846</td>\n",
       "      <td>0.004938</td>\n",
       "    </tr>\n",
       "    <tr>\n",
       "      <th>2020-09-17</th>\n",
       "      <td>10215</td>\n",
       "      <td>139</td>\n",
       "      <td>63</td>\n",
       "      <td>29</td>\n",
       "      <td>2.172414</td>\n",
       "      <td>0.002839</td>\n",
       "    </tr>\n",
       "    <tr>\n",
       "      <th>2020-09-16</th>\n",
       "      <td>10140</td>\n",
       "      <td>119</td>\n",
       "      <td>62</td>\n",
       "      <td>23</td>\n",
       "      <td>2.695652</td>\n",
       "      <td>0.002268</td>\n",
       "    </tr>\n",
       "    <tr>\n",
       "      <th>2020-09-15</th>\n",
       "      <td>9808</td>\n",
       "      <td>82</td>\n",
       "      <td>58</td>\n",
       "      <td>23</td>\n",
       "      <td>2.521739</td>\n",
       "      <td>0.002345</td>\n",
       "    </tr>\n",
       "    <tr>\n",
       "      <th>2020-09-14</th>\n",
       "      <td>9740</td>\n",
       "      <td>73</td>\n",
       "      <td>61</td>\n",
       "      <td>28</td>\n",
       "      <td>2.178571</td>\n",
       "      <td>0.002875</td>\n",
       "    </tr>\n",
       "    <tr>\n",
       "      <th>2020-09-13</th>\n",
       "      <td>9620</td>\n",
       "      <td>75</td>\n",
       "      <td>92</td>\n",
       "      <td>32</td>\n",
       "      <td>2.875000</td>\n",
       "      <td>0.003326</td>\n",
       "    </tr>\n",
       "    <tr>\n",
       "      <th>2020-09-12</th>\n",
       "      <td>9620</td>\n",
       "      <td>67</td>\n",
       "      <td>92</td>\n",
       "      <td>33</td>\n",
       "      <td>2.787879</td>\n",
       "      <td>0.003430</td>\n",
       "    </tr>\n",
       "    <tr>\n",
       "      <th>2020-09-11</th>\n",
       "      <td>9620</td>\n",
       "      <td>75</td>\n",
       "      <td>46</td>\n",
       "      <td>19</td>\n",
       "      <td>2.421053</td>\n",
       "      <td>0.001975</td>\n",
       "    </tr>\n",
       "    <tr>\n",
       "      <th>2020-09-10</th>\n",
       "      <td>9376</td>\n",
       "      <td>68</td>\n",
       "      <td>45</td>\n",
       "      <td>15</td>\n",
       "      <td>3.000000</td>\n",
       "      <td>0.001600</td>\n",
       "    </tr>\n",
       "    <tr>\n",
       "      <th>2020-09-09</th>\n",
       "      <td>9118</td>\n",
       "      <td>60</td>\n",
       "      <td>67</td>\n",
       "      <td>21</td>\n",
       "      <td>3.190476</td>\n",
       "      <td>0.002303</td>\n",
       "    </tr>\n",
       "    <tr>\n",
       "      <th>2020-09-08</th>\n",
       "      <td>9077</td>\n",
       "      <td>61</td>\n",
       "      <td>44</td>\n",
       "      <td>18</td>\n",
       "      <td>2.444444</td>\n",
       "      <td>0.001983</td>\n",
       "    </tr>\n",
       "    <tr>\n",
       "      <th>2020-09-07</th>\n",
       "      <td>8956</td>\n",
       "      <td>58</td>\n",
       "      <td>52</td>\n",
       "      <td>22</td>\n",
       "      <td>2.363636</td>\n",
       "      <td>0.002456</td>\n",
       "    </tr>\n",
       "    <tr>\n",
       "      <th>2020-09-06</th>\n",
       "      <td>8529</td>\n",
       "      <td>54</td>\n",
       "      <td>60</td>\n",
       "      <td>24</td>\n",
       "      <td>2.500000</td>\n",
       "      <td>0.002814</td>\n",
       "    </tr>\n",
       "    <tr>\n",
       "      <th>2020-09-05</th>\n",
       "      <td>8529</td>\n",
       "      <td>56</td>\n",
       "      <td>40</td>\n",
       "      <td>17</td>\n",
       "      <td>2.352941</td>\n",
       "      <td>0.001993</td>\n",
       "    </tr>\n",
       "    <tr>\n",
       "      <th>2020-09-04</th>\n",
       "      <td>8529</td>\n",
       "      <td>52</td>\n",
       "      <td>58</td>\n",
       "      <td>20</td>\n",
       "      <td>2.900000</td>\n",
       "      <td>0.002345</td>\n",
       "    </tr>\n",
       "    <tr>\n",
       "      <th>2020-09-03</th>\n",
       "      <td>8429</td>\n",
       "      <td>51</td>\n",
       "      <td>49</td>\n",
       "      <td>19</td>\n",
       "      <td>2.578947</td>\n",
       "      <td>0.002254</td>\n",
       "    </tr>\n",
       "  </tbody>\n",
       "</table>\n",
       "</div>"
      ],
      "text/plain": [
       "                   COVID-19 Cases (7-day Rolling Average)  \\\n",
       "Sample Date (UTC)                                           \n",
       "2020-09-23                                          11300   \n",
       "2020-09-22                                          11300   \n",
       "2020-09-21                                          11105   \n",
       "2020-09-20                                          10531   \n",
       "2020-09-19                                          10531   \n",
       "2020-09-18                                          10531   \n",
       "2020-09-17                                          10215   \n",
       "2020-09-16                                          10140   \n",
       "2020-09-15                                           9808   \n",
       "2020-09-14                                           9740   \n",
       "2020-09-13                                           9620   \n",
       "2020-09-12                                           9620   \n",
       "2020-09-11                                           9620   \n",
       "2020-09-10                                           9376   \n",
       "2020-09-09                                           9118   \n",
       "2020-09-08                                           9077   \n",
       "2020-09-07                                           8956   \n",
       "2020-09-06                                           8529   \n",
       "2020-09-05                                           8529   \n",
       "2020-09-04                                           8529   \n",
       "2020-09-03                                           8429   \n",
       "\n",
       "                   Shared TEKs by Generation Date  Shared TEKs by Upload Date  \\\n",
       "Sample Date (UTC)                                                               \n",
       "2020-09-23                                      1                         115   \n",
       "2020-09-22                                     39                         148   \n",
       "2020-09-21                                     73                         190   \n",
       "2020-09-20                                     90                         116   \n",
       "2020-09-19                                    128                          90   \n",
       "2020-09-18                                    138                         138   \n",
       "2020-09-17                                    139                          63   \n",
       "2020-09-16                                    119                          62   \n",
       "2020-09-15                                     82                          58   \n",
       "2020-09-14                                     73                          61   \n",
       "2020-09-13                                     75                          92   \n",
       "2020-09-12                                     67                          92   \n",
       "2020-09-11                                     75                          46   \n",
       "2020-09-10                                     68                          45   \n",
       "2020-09-09                                     60                          67   \n",
       "2020-09-08                                     61                          44   \n",
       "2020-09-07                                     58                          52   \n",
       "2020-09-06                                     54                          60   \n",
       "2020-09-05                                     56                          40   \n",
       "2020-09-04                                     52                          58   \n",
       "2020-09-03                                     51                          49   \n",
       "\n",
       "                   Shared Diagnoses (Estimation)  \\\n",
       "Sample Date (UTC)                                  \n",
       "2020-09-23                                    39   \n",
       "2020-09-22                                    55   \n",
       "2020-09-21                                    45   \n",
       "2020-09-20                                    45   \n",
       "2020-09-19                                    39   \n",
       "2020-09-18                                    52   \n",
       "2020-09-17                                    29   \n",
       "2020-09-16                                    23   \n",
       "2020-09-15                                    23   \n",
       "2020-09-14                                    28   \n",
       "2020-09-13                                    32   \n",
       "2020-09-12                                    33   \n",
       "2020-09-11                                    19   \n",
       "2020-09-10                                    15   \n",
       "2020-09-09                                    21   \n",
       "2020-09-08                                    18   \n",
       "2020-09-07                                    22   \n",
       "2020-09-06                                    24   \n",
       "2020-09-05                                    17   \n",
       "2020-09-04                                    20   \n",
       "2020-09-03                                    19   \n",
       "\n",
       "                   TEKs Uploaded per Shared Diagnosis  \\\n",
       "Sample Date (UTC)                                       \n",
       "2020-09-23                                   2.948718   \n",
       "2020-09-22                                   2.690909   \n",
       "2020-09-21                                   4.222222   \n",
       "2020-09-20                                   2.577778   \n",
       "2020-09-19                                   2.307692   \n",
       "2020-09-18                                   2.653846   \n",
       "2020-09-17                                   2.172414   \n",
       "2020-09-16                                   2.695652   \n",
       "2020-09-15                                   2.521739   \n",
       "2020-09-14                                   2.178571   \n",
       "2020-09-13                                   2.875000   \n",
       "2020-09-12                                   2.787879   \n",
       "2020-09-11                                   2.421053   \n",
       "2020-09-10                                   3.000000   \n",
       "2020-09-09                                   3.190476   \n",
       "2020-09-08                                   2.444444   \n",
       "2020-09-07                                   2.363636   \n",
       "2020-09-06                                   2.500000   \n",
       "2020-09-05                                   2.352941   \n",
       "2020-09-04                                   2.900000   \n",
       "2020-09-03                                   2.578947   \n",
       "\n",
       "                   Usage Ratio (Fraction of Cases Which Shared Diagnosis)  \n",
       "Sample Date (UTC)                                                          \n",
       "2020-09-23                                                  0.003451       \n",
       "2020-09-22                                                  0.004867       \n",
       "2020-09-21                                                  0.004052       \n",
       "2020-09-20                                                  0.004273       \n",
       "2020-09-19                                                  0.003703       \n",
       "2020-09-18                                                  0.004938       \n",
       "2020-09-17                                                  0.002839       \n",
       "2020-09-16                                                  0.002268       \n",
       "2020-09-15                                                  0.002345       \n",
       "2020-09-14                                                  0.002875       \n",
       "2020-09-13                                                  0.003326       \n",
       "2020-09-12                                                  0.003430       \n",
       "2020-09-11                                                  0.001975       \n",
       "2020-09-10                                                  0.001600       \n",
       "2020-09-09                                                  0.002303       \n",
       "2020-09-08                                                  0.001983       \n",
       "2020-09-07                                                  0.002456       \n",
       "2020-09-06                                                  0.002814       \n",
       "2020-09-05                                                  0.001993       \n",
       "2020-09-04                                                  0.002345       \n",
       "2020-09-03                                                  0.002254       "
      ]
     },
     "execution_count": 37,
     "metadata": {},
     "output_type": "execute_result"
    }
   ],
   "source": [
    "result_summary_df_ = result_summary_df.copy()\n",
    "result_summary_df = result_summary_df[[\n",
    "    \"covid_cases\",\n",
    "    \"shared_teks_by_generation_date\",\n",
    "    \"shared_teks_by_upload_date\",\n",
    "    \"shared_diagnoses\",\n",
    "    \"teks_per_shared_diagnosis\",\n",
    "    \"shared_diagnoses_per_covid_case\"]]\n",
    "result_summary_with_display_names_df = result_summary_df \\\n",
    "    .rename_axis(index=display_column_name_mapping) \\\n",
    "    .rename(columns=display_column_name_mapping)\n",
    "result_summary_with_display_names_df"
   ]
  },
  {
   "cell_type": "markdown",
   "metadata": {
    "papermill": {
     "duration": 0.055953,
     "end_time": "2020-09-23T11:18:25.454590",
     "exception": false,
     "start_time": "2020-09-23T11:18:25.398637",
     "status": "completed"
    },
    "tags": []
   },
   "source": [
    "### Daily Summary Plots"
   ]
  },
  {
   "cell_type": "code",
   "execution_count": 38,
   "metadata": {
    "execution": {
     "iopub.execute_input": "2020-09-23T11:18:25.636545Z",
     "iopub.status.busy": "2020-09-23T11:18:25.601382Z",
     "iopub.status.idle": "2020-09-23T11:18:27.163538Z",
     "shell.execute_reply": "2020-09-23T11:18:27.164041Z"
    },
    "papermill": {
     "duration": 1.656856,
     "end_time": "2020-09-23T11:18:27.164222",
     "exception": false,
     "start_time": "2020-09-23T11:18:25.507366",
     "status": "completed"
    },
    "scrolled": false,
    "tags": []
   },
   "outputs": [
    {
     "data": {
      "image/png": "[encoded data removed]",
      "text/plain": [
       "<Figure size 1080x1584 with 6 Axes>"
      ]
     },
     "metadata": {},
     "output_type": "display_data"
    }
   ],
   "source": [
    "result_plot_summary_df = result_summary_df.head(daily_plot_days)[[\n",
    "    \"covid_cases\",\n",
    "    \"shared_teks_by_generation_date\",\n",
    "    \"shared_teks_by_upload_date\",\n",
    "    \"shared_diagnoses\",\n",
    "    \"teks_per_shared_diagnosis\",\n",
    "    \"shared_diagnoses_per_covid_case\"]] \\\n",
    "    .rename_axis(index=display_column_name_mapping) \\\n",
    "    .rename(columns=display_column_name_mapping)\n",
    "summary_ax_list = result_plot_summary_df.sort_index(ascending=True).plot.bar(\n",
    "    title=f\"Daily Summary\",\n",
    "    rot=45, subplots=True, figsize=(15, 22), legend=False)\n",
    "ax_ = summary_ax_list[-1]\n",
    "ax_.get_figure().tight_layout()\n",
    "ax_.get_figure().subplots_adjust(top=0.95)\n",
    "ax_.yaxis.set_major_formatter(matplotlib.ticker.PercentFormatter(1.0))\n",
    "_ = ax_.set_xticklabels(sorted(result_plot_summary_df.index.strftime(\"%Y-%m-%d\").tolist()))"
   ]
  },
  {
   "cell_type": "markdown",
   "metadata": {
    "papermill": {
     "duration": 0.205786,
     "end_time": "2020-09-23T11:18:27.588109",
     "exception": false,
     "start_time": "2020-09-23T11:18:27.382323",
     "status": "completed"
    },
    "tags": []
   },
   "source": [
    "### Hourly Summary Plots "
   ]
  },
  {
   "cell_type": "code",
   "execution_count": 39,
   "metadata": {
    "execution": {
     "iopub.execute_input": "2020-09-23T11:18:28.199676Z",
     "iopub.status.busy": "2020-09-23T11:18:28.190825Z",
     "iopub.status.idle": "2020-09-23T11:18:28.850464Z",
     "shell.execute_reply": "2020-09-23T11:18:28.851178Z"
    },
    "papermill": {
     "duration": 0.919672,
     "end_time": "2020-09-23T11:18:28.851359",
     "exception": false,
     "start_time": "2020-09-23T11:18:27.931687",
     "status": "completed"
    },
    "pycharm": {
     "name": "#%%\n"
    },
    "tags": []
   },
   "outputs": [
    {
     "data": {
      "image/png": "[encoded data removed]",
      "text/plain": [
       "<Figure size 1080x432 with 2 Axes>"
      ]
     },
     "metadata": {},
     "output_type": "display_data"
    }
   ],
   "source": [
    "hourly_summary_ax_list = hourly_summary_df \\\n",
    "    .rename_axis(index=display_column_name_mapping) \\\n",
    "    .rename(columns=display_column_name_mapping) \\\n",
    "    .plot.bar(\n",
    "        title=f\"Last 24h Summary\",\n",
    "        rot=45, subplots=True, legend=False)\n",
    "ax_ = hourly_summary_ax_list[-1]\n",
    "ax_.get_figure().tight_layout()\n",
    "ax_.get_figure().subplots_adjust(top=0.9)\n",
    "_ = ax_.set_xticklabels(sorted(hourly_summary_df.index.strftime(\"%Y-%m-%d@%H\").tolist()))"
   ]
  },
  {
   "cell_type": "markdown",
   "metadata": {
    "papermill": {
     "duration": 0.049817,
     "end_time": "2020-09-23T11:18:28.955576",
     "exception": false,
     "start_time": "2020-09-23T11:18:28.905759",
     "status": "completed"
    },
    "tags": []
   },
   "source": [
    "### Publish Results"
   ]
  },
  {
   "cell_type": "code",
   "execution_count": 40,
   "metadata": {
    "execution": {
     "iopub.execute_input": "2020-09-23T11:18:29.063524Z",
     "iopub.status.busy": "2020-09-23T11:18:29.062835Z",
     "iopub.status.idle": "2020-09-23T11:18:29.067584Z",
     "shell.execute_reply": "2020-09-23T11:18:29.067042Z"
    },
    "papermill": {
     "duration": 0.061712,
     "end_time": "2020-09-23T11:18:29.067712",
     "exception": false,
     "start_time": "2020-09-23T11:18:29.006000",
     "status": "completed"
    },
    "pycharm": {
     "name": "#%%\n"
    },
    "tags": []
   },
   "outputs": [],
   "source": [
    "def get_temporary_image_path() -> str:\n",
    "    return os.path.join(tempfile.gettempdir(), str(uuid.uuid4()) + \".png\")\n",
    "\n",
    "def save_temporary_plot_image(ax):\n",
    "    if isinstance(ax, np.ndarray):\n",
    "        ax = ax[0]\n",
    "    media_path = get_temporary_image_path()\n",
    "    ax.get_figure().savefig(media_path)\n",
    "    return media_path\n",
    "\n",
    "def save_temporary_dataframe_image(df):\n",
    "    import dataframe_image as dfi\n",
    "    media_path = get_temporary_image_path()\n",
    "    dfi.export(df, media_path)\n",
    "    return media_path"
   ]
  },
  {
   "cell_type": "code",
   "execution_count": 41,
   "metadata": {
    "collapsed": false,
    "execution": {
     "iopub.execute_input": "2020-09-23T11:18:29.192263Z",
     "iopub.status.busy": "2020-09-23T11:18:29.191621Z",
     "iopub.status.idle": "2020-09-23T11:18:29.194444Z",
     "shell.execute_reply": "2020-09-23T11:18:29.193909Z"
    },
    "papermill": {
     "duration": 0.072306,
     "end_time": "2020-09-23T11:18:29.194588",
     "exception": false,
     "start_time": "2020-09-23T11:18:29.122282",
     "status": "completed"
    },
    "pycharm": {
     "name": "#%%\n"
    },
    "tags": []
   },
   "outputs": [],
   "source": [
    "daily_summary_table_html = result_summary_with_display_names_df \\\n",
    "    .head(daily_plot_days) \\\n",
    "    .rename_axis(index=display_column_name_mapping) \\\n",
    "    .rename(columns=display_column_name_mapping) \\\n",
    "    .to_html(\n",
    "        formatters={\n",
    "            display_column_name_mapping[\"teks_per_shared_diagnosis\"]: lambda x: f\"{x:.2f}\",\n",
    "            display_column_name_mapping[\"shared_diagnoses_per_covid_case\"]: lambda x: f\"{x:.2%}\",\n",
    "        })\n",
    "\n",
    "extraction_date_result_summary_df = \\\n",
    "    result_summary_df[result_summary_df.index == extraction_date]\n",
    "extraction_date_result_hourly_summary_df = \\\n",
    "    hourly_summary_df[hourly_summary_df.extraction_date_with_hour == extraction_date_with_hour]\n",
    "\n",
    "covid_cases = \\\n",
    "    extraction_date_result_summary_df.covid_cases.sum()\n",
    "shared_teks_by_upload_date = \\\n",
    "    extraction_date_result_summary_df.shared_teks_by_upload_date.sum()\n",
    "shared_diagnoses = \\\n",
    "    extraction_date_result_summary_df.shared_diagnoses.sum()\n",
    "teks_per_shared_diagnosis = \\\n",
    "    extraction_date_result_summary_df.teks_per_shared_diagnosis.sum()\n",
    "shared_diagnoses_per_covid_case = \\\n",
    "    extraction_date_result_summary_df.shared_diagnoses_per_covid_case.sum()\n",
    "\n",
    "shared_teks_by_upload_date_last_hour = \\\n",
    "    extraction_date_result_hourly_summary_df.shared_teks_by_upload_date.sum().astype(int)\n",
    "shared_diagnoses_last_hour = \\\n",
    "    extraction_date_result_hourly_summary_df.shared_diagnoses.sum().astype(int)"
   ]
  },
  {
   "cell_type": "code",
   "execution_count": 42,
   "metadata": {
    "collapsed": false,
    "execution": {
     "iopub.execute_input": "2020-09-23T11:18:29.319841Z",
     "iopub.status.busy": "2020-09-23T11:18:29.319237Z",
     "iopub.status.idle": "2020-09-23T11:18:33.119869Z",
     "shell.execute_reply": "2020-09-23T11:18:33.120351Z"
    },
    "papermill": {
     "duration": 3.868295,
     "end_time": "2020-09-23T11:18:33.120537",
     "exception": false,
     "start_time": "2020-09-23T11:18:29.252242",
     "status": "completed"
    },
    "pycharm": {
     "name": "#%%\n"
    },
    "tags": []
   },
   "outputs": [],
   "source": [
    "summary_plots_image_path = save_temporary_plot_image(\n",
    "    ax=summary_ax_list)\n",
    "summary_table_image_path = save_temporary_dataframe_image(\n",
    "    df=result_summary_with_display_names_df)\n",
    "hourly_summary_plots_image_path = save_temporary_plot_image(\n",
    "    ax=hourly_summary_ax_list)\n",
    "multi_region_summary_table_image_path = save_temporary_dataframe_image(\n",
    "    df=multi_region_summary_df)"
   ]
  },
  {
   "cell_type": "markdown",
   "metadata": {
    "papermill": {
     "duration": 0.061844,
     "end_time": "2020-09-23T11:18:33.238913",
     "exception": false,
     "start_time": "2020-09-23T11:18:33.177069",
     "status": "completed"
    },
    "tags": []
   },
   "source": [
    "### Save Results"
   ]
  },
  {
   "cell_type": "code",
   "execution_count": 43,
   "metadata": {
    "execution": {
     "iopub.execute_input": "2020-09-23T11:18:33.437541Z",
     "iopub.status.busy": "2020-09-23T11:18:33.436197Z",
     "iopub.status.idle": "2020-09-23T11:18:33.486621Z",
     "shell.execute_reply": "2020-09-23T11:18:33.486045Z"
    },
    "papermill": {
     "duration": 0.140896,
     "end_time": "2020-09-23T11:18:33.486847",
     "exception": false,
     "start_time": "2020-09-23T11:18:33.345951",
     "status": "completed"
    },
    "pycharm": {
     "name": "#%%\n"
    },
    "tags": []
   },
   "outputs": [],
   "source": [
    "report_resources_path_prefix = \"Data/Resources/Current/RadarCOVID-Report-\"\n",
    "result_summary_df.to_csv(report_resources_path_prefix + \"Summary-Table.csv\")\n",
    "result_summary_df.to_html(report_resources_path_prefix + \"Summary-Table.html\")\n",
    "multi_region_summary_df.to_csv(report_resources_path_prefix + \"Multi-Region-Summary-Table.csv\")\n",
    "_ = shutil.copyfile(summary_plots_image_path, report_resources_path_prefix + \"Summary-Plots.png\")\n",
    "_ = shutil.copyfile(summary_table_image_path, report_resources_path_prefix + \"Summary-Table.png\")\n",
    "_ = shutil.copyfile(hourly_summary_plots_image_path, report_resources_path_prefix + \"Hourly-Summary-Plots.png\")\n",
    "_ = shutil.copyfile(multi_region_summary_table_image_path, report_resources_path_prefix + \"Multi-Region-Summary-Table.png\")\n",
    "\n",
    "report_daily_url_pattern = \\\n",
    "    \"https://github.com/pvieito/RadarCOVID-Report/blob/master/Notebooks/\" \\\n",
    "    \"RadarCOVID-Report/{report_type}/RadarCOVID-Report-{report_date}.ipynb\"\n",
    "report_daily_url = report_daily_url_pattern.format(\n",
    "    report_type=\"Daily\", report_date=extraction_date)\n",
    "report_hourly_url = report_daily_url_pattern.format(\n",
    "    report_type=\"Hourly\", report_date=extraction_date_with_hour)"
   ]
  },
  {
   "cell_type": "markdown",
   "metadata": {
    "collapsed": false,
    "papermill": {
     "duration": 0.141068,
     "end_time": "2020-09-23T11:18:33.727725",
     "exception": false,
     "start_time": "2020-09-23T11:18:33.586657",
     "status": "completed"
    },
    "tags": []
   },
   "source": [
    "### Publish Results as JSON"
   ]
  },
  {
   "cell_type": "code",
   "execution_count": 44,
   "metadata": {
    "collapsed": false,
    "execution": {
     "iopub.execute_input": "2020-09-23T11:18:33.888955Z",
     "iopub.status.busy": "2020-09-23T11:18:33.887629Z",
     "iopub.status.idle": "2020-09-23T11:18:33.890951Z",
     "shell.execute_reply": "2020-09-23T11:18:33.891540Z"
    },
    "papermill": {
     "duration": 0.081228,
     "end_time": "2020-09-23T11:18:33.891732",
     "exception": false,
     "start_time": "2020-09-23T11:18:33.810504",
     "status": "completed"
    },
    "pycharm": {
     "name": "#%%\n"
    },
    "tags": []
   },
   "outputs": [],
   "source": [
    "summary_results_api_df = result_summary_df.reset_index()\n",
    "summary_results_api_df[\"sample_date_string\"] = \\\n",
    "    summary_results_api_df[\"sample_date\"].dt.strftime(\"%Y-%m-%d\")\n",
    "\n",
    "summary_results = dict(\n",
    "    extraction_datetime=extraction_datetime,\n",
    "    extraction_date=extraction_date,\n",
    "    extraction_date_with_hour=extraction_date_with_hour,\n",
    "    last_hour=dict(\n",
    "        shared_teks_by_upload_date=shared_teks_by_upload_date_last_hour,\n",
    "        shared_diagnoses=shared_diagnoses_last_hour,\n",
    "    ),\n",
    "    today=dict(\n",
    "        covid_cases=covid_cases,\n",
    "        shared_teks_by_upload_date=shared_teks_by_upload_date,\n",
    "        shared_diagnoses=shared_diagnoses,\n",
    "        teks_per_shared_diagnosis=teks_per_shared_diagnosis,\n",
    "        shared_diagnoses_per_covid_case=shared_diagnoses_per_covid_case,\n",
    "    ),\n",
    "    last_7_days=dict(\n",
    "        covid_cases=last_7_days_summary.covid_cases,\n",
    "        shared_teks_by_upload_date=last_7_days_summary.shared_teks_by_upload_date,\n",
    "        shared_diagnoses=last_7_days_summary.shared_diagnoses,\n",
    "        teks_per_shared_diagnosis=last_7_days_summary.teks_per_shared_diagnosis,\n",
    "        shared_diagnoses_per_covid_case=last_7_days_summary.shared_diagnoses_per_covid_case,\n",
    "    ),\n",
    "    daily_results=summary_results_api_df.to_dict(orient=\"records\"))\n",
    "summary_results = \\\n",
    "    json.loads(pd.Series([summary_results]).to_json(orient=\"records\"))[0]\n",
    "\n",
    "with open(report_resources_path_prefix + \"Summary-Results.json\", \"w\") as f:\n",
    "    json.dump(summary_results, f, indent=4)"
   ]
  },
  {
   "cell_type": "markdown",
   "metadata": {
    "collapsed": false,
    "papermill": {
     "duration": 0.057176,
     "end_time": "2020-09-23T11:18:34.009145",
     "exception": false,
     "start_time": "2020-09-23T11:18:33.951969",
     "status": "completed"
    },
    "tags": []
   },
   "source": [
    "### Publish on README"
   ]
  },
  {
   "cell_type": "code",
   "execution_count": 45,
   "metadata": {
    "collapsed": false,
    "execution": {
     "iopub.execute_input": "2020-09-23T11:18:34.130230Z",
     "iopub.status.busy": "2020-09-23T11:18:34.129529Z",
     "iopub.status.idle": "2020-09-23T11:18:34.132595Z",
     "shell.execute_reply": "2020-09-23T11:18:34.132004Z"
    },
    "papermill": {
     "duration": 0.068237,
     "end_time": "2020-09-23T11:18:34.132753",
     "exception": false,
     "start_time": "2020-09-23T11:18:34.064516",
     "status": "completed"
    },
    "pycharm": {
     "name": "#%%\n"
    },
    "tags": []
   },
   "outputs": [],
   "source": [
    "with open(\"Data/Templates/README.md\", \"r\") as f:\n",
    "    readme_contents = f.read()\n",
    "\n",
    "readme_contents = readme_contents.format(\n",
    "    daily_summary_table_html=daily_summary_table_html,\n",
    "    report_url_with_hour=report_hourly_url,\n",
    "    extraction_date_with_hour=extraction_date_with_hour)\n",
    "\n",
    "with open(\"README.md\", \"w\") as f:\n",
    "    f.write(readme_contents)"
   ]
  },
  {
   "cell_type": "markdown",
   "metadata": {
    "collapsed": false,
    "papermill": {
     "duration": 0.061629,
     "end_time": "2020-09-23T11:18:34.254302",
     "exception": false,
     "start_time": "2020-09-23T11:18:34.192673",
     "status": "completed"
    },
    "tags": []
   },
   "source": [
    "### Publish on Twitter"
   ]
  },
  {
   "cell_type": "code",
   "execution_count": 46,
   "metadata": {
    "collapsed": false,
    "execution": {
     "iopub.execute_input": "2020-09-23T11:18:34.392780Z",
     "iopub.status.busy": "2020-09-23T11:18:34.392115Z",
     "iopub.status.idle": "2020-09-23T11:18:37.713985Z",
     "shell.execute_reply": "2020-09-23T11:18:37.713390Z"
    },
    "papermill": {
     "duration": 3.394456,
     "end_time": "2020-09-23T11:18:37.714153",
     "exception": false,
     "start_time": "2020-09-23T11:18:34.319697",
     "status": "completed"
    },
    "pycharm": {
     "name": "#%%\n"
    },
    "tags": []
   },
   "outputs": [],
   "source": [
    "enable_share_to_twitter = os.environ.get(\"RADARCOVID_REPORT__ENABLE_PUBLISH_ON_TWITTER\")\n",
    "github_event_name = os.environ.get(\"GITHUB_EVENT_NAME\")\n",
    "\n",
    "if enable_share_to_twitter and github_event_name == \"schedule\":\n",
    "    import tweepy\n",
    "\n",
    "    twitter_api_auth_keys = os.environ[\"RADARCOVID_REPORT__TWITTER_API_AUTH_KEYS\"]\n",
    "    twitter_api_auth_keys = twitter_api_auth_keys.split(\":\")\n",
    "    auth = tweepy.OAuthHandler(twitter_api_auth_keys[0], twitter_api_auth_keys[1])\n",
    "    auth.set_access_token(twitter_api_auth_keys[2], twitter_api_auth_keys[3])\n",
    "\n",
    "    api = tweepy.API(auth)\n",
    "\n",
    "    summary_plots_media = api.media_upload(summary_plots_image_path)\n",
    "    summary_table_media = api.media_upload(summary_table_image_path)\n",
    "    hourly_summary_plots_media = api.media_upload(hourly_summary_plots_image_path)\n",
    "    media_ids = [\n",
    "        summary_plots_media.media_id,\n",
    "        summary_table_media.media_id,\n",
    "        hourly_summary_plots_media.media_id,\n",
    "    ]\n",
    "\n",
    "    status = textwrap.dedent(f\"\"\"\n",
    "        #RadarCOVID Report – {extraction_date_with_hour}\n",
    "\n",
    "        Today:\n",
    "        - Uploaded TEKs: {shared_teks_by_upload_date:.0f} ({shared_teks_by_upload_date_last_hour:+d} last hour)\n",
    "        - Shared Diagnoses: {shared_diagnoses:.0f} ({shared_diagnoses_last_hour:+d} last hour)\n",
    "        - TEKs per Diagnosis: {teks_per_shared_diagnosis:.2}\n",
    "        - Usage Ratio: {shared_diagnoses_per_covid_case:.2%}\n",
    "\n",
    "        Week:\n",
    "        - Shared Diagnoses: {last_7_days_summary.shared_diagnoses:.0f}\n",
    "        - Usage Ratio: {last_7_days_summary.shared_diagnoses_per_covid_case:.2%}\n",
    "\n",
    "        Report Link: {report_hourly_url}\n",
    "        \"\"\")\n",
    "    status = status.encode(encoding=\"utf-8\")\n",
    "    api.update_status(status=status, media_ids=media_ids)"
   ]
  }
 ],
 "metadata": {
  "kernelspec": {
   "display_name": "Python 3",
   "language": "python",
   "name": "python3"
  },
  "language_info": {
   "codemirror_mode": {
    "name": "ipython",
    "version": 3
   },
   "file_extension": ".py",
   "mimetype": "text/x-python",
   "name": "python",
   "nbconvert_exporter": "python",
   "pygments_lexer": "ipython3",
   "version": "3.8.5"
  },
  "papermill": {
   "duration": 22.347633,
   "end_time": "2020-09-23T11:18:38.283704",
   "environment_variables": {},
   "exception": null,
   "input_path": "Notebooks/RadarCOVID-Report/Source/RadarCOVID-Report.ipynb",
   "output_path": "RadarCOVID-Report.ipynb",
   "parameters": {},
   "start_time": "2020-09-23T11:18:15.936071",
   "version": "2.1.3"
  }
 },
 "nbformat": 4,
 "nbformat_minor": 1
}