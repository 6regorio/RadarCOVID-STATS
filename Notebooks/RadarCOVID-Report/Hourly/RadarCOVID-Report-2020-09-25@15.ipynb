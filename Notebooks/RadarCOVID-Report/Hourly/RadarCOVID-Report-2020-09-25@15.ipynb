{
 "cells": [
  {
   "cell_type": "markdown",
   "metadata": {
    "papermill": {
     "duration": 0.030836,
     "end_time": "2020-09-25T15:19:18.569125",
     "exception": false,
     "start_time": "2020-09-25T15:19:18.538289",
     "status": "completed"
    },
    "pycharm": {
     "name": "#%% md\n"
    },
    "tags": []
   },
   "source": [
    "# RadarCOVID-Report"
   ]
  },
  {
   "cell_type": "markdown",
   "metadata": {
    "collapsed": true,
    "papermill": {
     "duration": 0.029647,
     "end_time": "2020-09-25T15:19:18.628964",
     "exception": false,
     "start_time": "2020-09-25T15:19:18.599317",
     "status": "completed"
    },
    "pycharm": {
     "name": "#%% md\n"
    },
    "tags": []
   },
   "source": [
    "## Data Extraction"
   ]
  },
  {
   "cell_type": "code",
   "execution_count": 1,
   "metadata": {
    "execution": {
     "iopub.execute_input": "2020-09-25T15:19:18.690969Z",
     "iopub.status.busy": "2020-09-25T15:19:18.689885Z",
     "iopub.status.idle": "2020-09-25T15:19:20.860959Z",
     "shell.execute_reply": "2020-09-25T15:19:20.860350Z"
    },
    "papermill": {
     "duration": 2.202946,
     "end_time": "2020-09-25T15:19:20.861140",
     "exception": false,
     "start_time": "2020-09-25T15:19:18.658194",
     "status": "completed"
    },
    "pycharm": {
     "name": "#%%\n"
    },
    "tags": []
   },
   "outputs": [],
   "source": [
    "import datetime\n",
    "import json\n",
    "import logging\n",
    "import os\n",
    "import shutil\n",
    "import tempfile\n",
    "import textwrap\n",
    "import uuid\n",
    "\n",
    "import matplotlib.ticker\n",
    "import numpy as np\n",
    "import pandas as pd\n",
    "import seaborn as sns\n",
    "\n",
    "%matplotlib inline"
   ]
  },
  {
   "cell_type": "code",
   "execution_count": 2,
   "metadata": {
    "collapsed": false,
    "execution": {
     "iopub.execute_input": "2020-09-25T15:19:20.927356Z",
     "iopub.status.busy": "2020-09-25T15:19:20.926766Z",
     "iopub.status.idle": "2020-09-25T15:19:20.929496Z",
     "shell.execute_reply": "2020-09-25T15:19:20.928960Z"
    },
    "papermill": {
     "duration": 0.037856,
     "end_time": "2020-09-25T15:19:20.929610",
     "exception": false,
     "start_time": "2020-09-25T15:19:20.891754",
     "status": "completed"
    },
    "pycharm": {
     "name": "#%%\n"
    },
    "tags": []
   },
   "outputs": [],
   "source": [
    "current_working_directory = os.environ.get(\"PWD\")\n",
    "if current_working_directory:\n",
    "    os.chdir(current_working_directory)\n",
    "\n",
    "sns.set()\n",
    "matplotlib.rcParams[\"figure.figsize\"] = (15, 6)\n",
    "\n",
    "extraction_datetime = datetime.datetime.utcnow()\n",
    "extraction_date = extraction_datetime.strftime(\"%Y-%m-%d\")\n",
    "extraction_previous_datetime = extraction_datetime - datetime.timedelta(days=1)\n",
    "extraction_previous_date = extraction_previous_datetime.strftime(\"%Y-%m-%d\")\n",
    "extraction_date_with_hour = datetime.datetime.utcnow().strftime(\"%Y-%m-%d@%H\")"
   ]
  },
  {
   "cell_type": "markdown",
   "metadata": {
    "collapsed": false,
    "papermill": {
     "duration": 0.031425,
     "end_time": "2020-09-25T15:19:20.991216",
     "exception": false,
     "start_time": "2020-09-25T15:19:20.959791",
     "status": "completed"
    },
    "tags": []
   },
   "source": [
    "### Constants"
   ]
  },
  {
   "cell_type": "code",
   "execution_count": 3,
   "metadata": {
    "execution": {
     "iopub.execute_input": "2020-09-25T15:19:21.055681Z",
     "iopub.status.busy": "2020-09-25T15:19:21.054949Z",
     "iopub.status.idle": "2020-09-25T15:19:21.057331Z",
     "shell.execute_reply": "2020-09-25T15:19:21.057976Z"
    },
    "papermill": {
     "duration": 0.037191,
     "end_time": "2020-09-25T15:19:21.058134",
     "exception": false,
     "start_time": "2020-09-25T15:19:21.020943",
     "status": "completed"
    },
    "pycharm": {
     "name": "#%%\n"
    },
    "tags": []
   },
   "outputs": [],
   "source": [
    "spain_region_country_name = \"Spain\"\n",
    "spain_region_country_code = \"ES\"\n",
    "\n",
    "daily_summary_days = 7 * 3\n",
    "daily_plot_days = 7 * 2\n",
    "tek_dumps_load_limit = daily_summary_days + 1"
   ]
  },
  {
   "cell_type": "markdown",
   "metadata": {
    "collapsed": false,
    "papermill": {
     "duration": 0.02815,
     "end_time": "2020-09-25T15:19:21.115732",
     "exception": false,
     "start_time": "2020-09-25T15:19:21.087582",
     "status": "completed"
    },
    "pycharm": {
     "name": "#%% md\n"
    },
    "tags": []
   },
   "source": [
    "### COVID-19 Cases"
   ]
  },
  {
   "cell_type": "code",
   "execution_count": 4,
   "metadata": {
    "collapsed": false,
    "execution": {
     "iopub.execute_input": "2020-09-25T15:19:21.183249Z",
     "iopub.status.busy": "2020-09-25T15:19:21.182723Z",
     "iopub.status.idle": "2020-09-25T15:19:21.588760Z",
     "shell.execute_reply": "2020-09-25T15:19:21.588329Z"
    },
    "papermill": {
     "duration": 0.440664,
     "end_time": "2020-09-25T15:19:21.588874",
     "exception": false,
     "start_time": "2020-09-25T15:19:21.148210",
     "status": "completed"
    },
    "pycharm": {
     "name": "#%%\n"
    },
    "tags": []
   },
   "outputs": [
    {
     "data": {
      "text/html": [
       "<div>\n",
       "<style scoped>\n",
       "    .dataframe tbody tr th:only-of-type {\n",
       "        vertical-align: middle;\n",
       "    }\n",
       "\n",
       "    .dataframe tbody tr th {\n",
       "        vertical-align: top;\n",
       "    }\n",
       "\n",
       "    .dataframe thead th {\n",
       "        text-align: right;\n",
       "    }\n",
       "</style>\n",
       "<table border=\"1\" class=\"dataframe\">\n",
       "  <thead>\n",
       "    <tr style=\"text-align: right;\">\n",
       "      <th></th>\n",
       "      <th>Country_EN</th>\n",
       "      <th>Country_ES</th>\n",
       "      <th>Country_IT</th>\n",
       "      <th>Region</th>\n",
       "      <th>2020-01-23</th>\n",
       "      <th>2020-01-24</th>\n",
       "      <th>2020-01-25</th>\n",
       "      <th>2020-01-26</th>\n",
       "      <th>2020-01-27</th>\n",
       "      <th>2020-01-28</th>\n",
       "      <th>...</th>\n",
       "      <th>2020-09-15</th>\n",
       "      <th>2020-09-16</th>\n",
       "      <th>2020-09-17</th>\n",
       "      <th>2020-09-18</th>\n",
       "      <th>2020-09-19</th>\n",
       "      <th>2020-09-20</th>\n",
       "      <th>2020-09-21</th>\n",
       "      <th>2020-09-22</th>\n",
       "      <th>2020-09-23</th>\n",
       "      <th>2020-09-24</th>\n",
       "    </tr>\n",
       "  </thead>\n",
       "  <tbody>\n",
       "    <tr>\n",
       "      <th>218</th>\n",
       "      <td>Spain</td>\n",
       "      <td>España</td>\n",
       "      <td>Spagna</td>\n",
       "      <td>NaN</td>\n",
       "      <td>0.0</td>\n",
       "      <td>0.0</td>\n",
       "      <td>0.0</td>\n",
       "      <td>0.0</td>\n",
       "      <td>0.0</td>\n",
       "      <td>0.0</td>\n",
       "      <td>...</td>\n",
       "      <td>603167.0</td>\n",
       "      <td>614360.0</td>\n",
       "      <td>625651.0</td>\n",
       "      <td>640040.0</td>\n",
       "      <td>640040.0</td>\n",
       "      <td>640040.0</td>\n",
       "      <td>671468.0</td>\n",
       "      <td>682267.0</td>\n",
       "      <td>693556.0</td>\n",
       "      <td>704209.0</td>\n",
       "    </tr>\n",
       "  </tbody>\n",
       "</table>\n",
       "<p>1 rows × 250 columns</p>\n",
       "</div>"
      ],
      "text/plain": [
       "    Country_EN Country_ES Country_IT Region  2020-01-23  2020-01-24  \\\n",
       "218      Spain     España     Spagna    NaN         0.0         0.0   \n",
       "\n",
       "     2020-01-25  2020-01-26  2020-01-27  2020-01-28  ...  2020-09-15  \\\n",
       "218         0.0         0.0         0.0         0.0  ...    603167.0   \n",
       "\n",
       "     2020-09-16  2020-09-17  2020-09-18  2020-09-19  2020-09-20  2020-09-21  \\\n",
       "218    614360.0    625651.0    640040.0    640040.0    640040.0    671468.0   \n",
       "\n",
       "     2020-09-22  2020-09-23  2020-09-24  \n",
       "218    682267.0    693556.0    704209.0  \n",
       "\n",
       "[1 rows x 250 columns]"
      ]
     },
     "execution_count": 4,
     "metadata": {},
     "output_type": "execute_result"
    }
   ],
   "source": [
    "confirmed_df = pd.read_csv(\"https://covid19tracking.narrativa.com/csv/confirmed.csv\")\n",
    "\n",
    "radar_covid_countries = {spain_region_country_name}\n",
    "\n",
    "confirmed_df = confirmed_df[confirmed_df[\"Country_EN\"].isin(radar_covid_countries)]\n",
    "confirmed_df = confirmed_df[pd.isna(confirmed_df.Region)]\n",
    "confirmed_df.head()"
   ]
  },
  {
   "cell_type": "code",
   "execution_count": 5,
   "metadata": {
    "collapsed": false,
    "execution": {
     "iopub.execute_input": "2020-09-25T15:19:21.651612Z",
     "iopub.status.busy": "2020-09-25T15:19:21.651094Z",
     "iopub.status.idle": "2020-09-25T15:19:21.676691Z",
     "shell.execute_reply": "2020-09-25T15:19:21.676211Z"
    },
    "papermill": {
     "duration": 0.058765,
     "end_time": "2020-09-25T15:19:21.676799",
     "exception": false,
     "start_time": "2020-09-25T15:19:21.618034",
     "status": "completed"
    },
    "pycharm": {
     "name": "#%%\n"
    },
    "tags": []
   },
   "outputs": [
    {
     "data": {
      "text/html": [
       "<div>\n",
       "<style scoped>\n",
       "    .dataframe tbody tr th:only-of-type {\n",
       "        vertical-align: middle;\n",
       "    }\n",
       "\n",
       "    .dataframe tbody tr th {\n",
       "        vertical-align: top;\n",
       "    }\n",
       "\n",
       "    .dataframe thead th {\n",
       "        text-align: right;\n",
       "    }\n",
       "</style>\n",
       "<table border=\"1\" class=\"dataframe\">\n",
       "  <thead>\n",
       "    <tr style=\"text-align: right;\">\n",
       "      <th></th>\n",
       "      <th>2020-01-23</th>\n",
       "      <th>2020-01-24</th>\n",
       "      <th>2020-01-25</th>\n",
       "      <th>2020-01-26</th>\n",
       "      <th>2020-01-27</th>\n",
       "      <th>2020-01-28</th>\n",
       "      <th>2020-01-29</th>\n",
       "      <th>2020-01-30</th>\n",
       "      <th>2020-01-31</th>\n",
       "      <th>2020-02-01</th>\n",
       "      <th>...</th>\n",
       "      <th>2020-09-15</th>\n",
       "      <th>2020-09-16</th>\n",
       "      <th>2020-09-17</th>\n",
       "      <th>2020-09-18</th>\n",
       "      <th>2020-09-19</th>\n",
       "      <th>2020-09-20</th>\n",
       "      <th>2020-09-21</th>\n",
       "      <th>2020-09-22</th>\n",
       "      <th>2020-09-23</th>\n",
       "      <th>2020-09-24</th>\n",
       "    </tr>\n",
       "  </thead>\n",
       "  <tbody>\n",
       "    <tr>\n",
       "      <th>218</th>\n",
       "      <td>0.0</td>\n",
       "      <td>0.0</td>\n",
       "      <td>0.0</td>\n",
       "      <td>0.0</td>\n",
       "      <td>0.0</td>\n",
       "      <td>0.0</td>\n",
       "      <td>0.0</td>\n",
       "      <td>0.0</td>\n",
       "      <td>0.0</td>\n",
       "      <td>1.0</td>\n",
       "      <td>...</td>\n",
       "      <td>603167.0</td>\n",
       "      <td>614360.0</td>\n",
       "      <td>625651.0</td>\n",
       "      <td>640040.0</td>\n",
       "      <td>640040.0</td>\n",
       "      <td>640040.0</td>\n",
       "      <td>671468.0</td>\n",
       "      <td>682267.0</td>\n",
       "      <td>693556.0</td>\n",
       "      <td>704209.0</td>\n",
       "    </tr>\n",
       "  </tbody>\n",
       "</table>\n",
       "<p>1 rows × 246 columns</p>\n",
       "</div>"
      ],
      "text/plain": [
       "     2020-01-23  2020-01-24  2020-01-25  2020-01-26  2020-01-27  2020-01-28  \\\n",
       "218         0.0         0.0         0.0         0.0         0.0         0.0   \n",
       "\n",
       "     2020-01-29  2020-01-30  2020-01-31  2020-02-01  ...  2020-09-15  \\\n",
       "218         0.0         0.0         0.0         1.0  ...    603167.0   \n",
       "\n",
       "     2020-09-16  2020-09-17  2020-09-18  2020-09-19  2020-09-20  2020-09-21  \\\n",
       "218    614360.0    625651.0    640040.0    640040.0    640040.0    671468.0   \n",
       "\n",
       "     2020-09-22  2020-09-23  2020-09-24  \n",
       "218    682267.0    693556.0    704209.0  \n",
       "\n",
       "[1 rows x 246 columns]"
      ]
     },
     "execution_count": 5,
     "metadata": {},
     "output_type": "execute_result"
    }
   ],
   "source": [
    "confirmed_country_columns = list(filter(lambda x: x.startswith(\"Country_\"), confirmed_df.columns))\n",
    "confirmed_regional_columns = confirmed_country_columns + [\"Region\"]\n",
    "confirmed_df.drop(columns=confirmed_regional_columns, inplace=True)\n",
    "confirmed_df.head()"
   ]
  },
  {
   "cell_type": "code",
   "execution_count": 6,
   "metadata": {
    "collapsed": false,
    "execution": {
     "iopub.execute_input": "2020-09-25T15:19:21.741318Z",
     "iopub.status.busy": "2020-09-25T15:19:21.740607Z",
     "iopub.status.idle": "2020-09-25T15:19:21.744412Z",
     "shell.execute_reply": "2020-09-25T15:19:21.743974Z"
    },
    "papermill": {
     "duration": 0.03906,
     "end_time": "2020-09-25T15:19:21.744515",
     "exception": false,
     "start_time": "2020-09-25T15:19:21.705455",
     "status": "completed"
    },
    "pycharm": {
     "name": "#%%\n"
    },
    "tags": []
   },
   "outputs": [
    {
     "data": {
      "text/html": [
       "<div>\n",
       "<style scoped>\n",
       "    .dataframe tbody tr th:only-of-type {\n",
       "        vertical-align: middle;\n",
       "    }\n",
       "\n",
       "    .dataframe tbody tr th {\n",
       "        vertical-align: top;\n",
       "    }\n",
       "\n",
       "    .dataframe thead th {\n",
       "        text-align: right;\n",
       "    }\n",
       "</style>\n",
       "<table border=\"1\" class=\"dataframe\">\n",
       "  <thead>\n",
       "    <tr style=\"text-align: right;\">\n",
       "      <th></th>\n",
       "      <th>0</th>\n",
       "    </tr>\n",
       "  </thead>\n",
       "  <tbody>\n",
       "    <tr>\n",
       "      <th>2020-09-20</th>\n",
       "      <td>640040.0</td>\n",
       "    </tr>\n",
       "    <tr>\n",
       "      <th>2020-09-21</th>\n",
       "      <td>671468.0</td>\n",
       "    </tr>\n",
       "    <tr>\n",
       "      <th>2020-09-22</th>\n",
       "      <td>682267.0</td>\n",
       "    </tr>\n",
       "    <tr>\n",
       "      <th>2020-09-23</th>\n",
       "      <td>693556.0</td>\n",
       "    </tr>\n",
       "    <tr>\n",
       "      <th>2020-09-24</th>\n",
       "      <td>704209.0</td>\n",
       "    </tr>\n",
       "  </tbody>\n",
       "</table>\n",
       "</div>"
      ],
      "text/plain": [
       "                   0\n",
       "2020-09-20  640040.0\n",
       "2020-09-21  671468.0\n",
       "2020-09-22  682267.0\n",
       "2020-09-23  693556.0\n",
       "2020-09-24  704209.0"
      ]
     },
     "execution_count": 6,
     "metadata": {},
     "output_type": "execute_result"
    }
   ],
   "source": [
    "confirmed_df = confirmed_df.sum().to_frame()\n",
    "confirmed_df.tail()"
   ]
  },
  {
   "cell_type": "code",
   "execution_count": 7,
   "metadata": {
    "collapsed": false,
    "execution": {
     "iopub.execute_input": "2020-09-25T15:19:21.807389Z",
     "iopub.status.busy": "2020-09-25T15:19:21.806847Z",
     "iopub.status.idle": "2020-09-25T15:19:21.819599Z",
     "shell.execute_reply": "2020-09-25T15:19:21.820095Z"
    },
    "papermill": {
     "duration": 0.046298,
     "end_time": "2020-09-25T15:19:21.820214",
     "exception": false,
     "start_time": "2020-09-25T15:19:21.773916",
     "status": "completed"
    },
    "pycharm": {
     "name": "#%%\n"
    },
    "tags": []
   },
   "outputs": [
    {
     "data": {
      "text/html": [
       "<div>\n",
       "<style scoped>\n",
       "    .dataframe tbody tr th:only-of-type {\n",
       "        vertical-align: middle;\n",
       "    }\n",
       "\n",
       "    .dataframe tbody tr th {\n",
       "        vertical-align: top;\n",
       "    }\n",
       "\n",
       "    .dataframe thead th {\n",
       "        text-align: right;\n",
       "    }\n",
       "</style>\n",
       "<table border=\"1\" class=\"dataframe\">\n",
       "  <thead>\n",
       "    <tr style=\"text-align: right;\">\n",
       "      <th></th>\n",
       "      <th>sample_date_string</th>\n",
       "      <th>cumulative_cases</th>\n",
       "      <th>new_cases</th>\n",
       "      <th>covid_cases</th>\n",
       "    </tr>\n",
       "  </thead>\n",
       "  <tbody>\n",
       "    <tr>\n",
       "      <th>241</th>\n",
       "      <td>2020-09-20</td>\n",
       "      <td>640040.0</td>\n",
       "      <td>0.0</td>\n",
       "      <td>10531.0</td>\n",
       "    </tr>\n",
       "    <tr>\n",
       "      <th>242</th>\n",
       "      <td>2020-09-21</td>\n",
       "      <td>671468.0</td>\n",
       "      <td>31428.0</td>\n",
       "      <td>11105.0</td>\n",
       "    </tr>\n",
       "    <tr>\n",
       "      <th>243</th>\n",
       "      <td>2020-09-22</td>\n",
       "      <td>682267.0</td>\n",
       "      <td>10799.0</td>\n",
       "      <td>11300.0</td>\n",
       "    </tr>\n",
       "    <tr>\n",
       "      <th>244</th>\n",
       "      <td>2020-09-23</td>\n",
       "      <td>693556.0</td>\n",
       "      <td>11289.0</td>\n",
       "      <td>11314.0</td>\n",
       "    </tr>\n",
       "    <tr>\n",
       "      <th>245</th>\n",
       "      <td>2020-09-24</td>\n",
       "      <td>704209.0</td>\n",
       "      <td>10653.0</td>\n",
       "      <td>11223.0</td>\n",
       "    </tr>\n",
       "  </tbody>\n",
       "</table>\n",
       "</div>"
      ],
      "text/plain": [
       "    sample_date_string  cumulative_cases  new_cases  covid_cases\n",
       "241         2020-09-20          640040.0        0.0      10531.0\n",
       "242         2020-09-21          671468.0    31428.0      11105.0\n",
       "243         2020-09-22          682267.0    10799.0      11300.0\n",
       "244         2020-09-23          693556.0    11289.0      11314.0\n",
       "245         2020-09-24          704209.0    10653.0      11223.0"
      ]
     },
     "execution_count": 7,
     "metadata": {},
     "output_type": "execute_result"
    }
   ],
   "source": [
    "confirmed_df.reset_index(inplace=True)\n",
    "confirmed_df.columns = [\"sample_date_string\", \"cumulative_cases\"]\n",
    "confirmed_df.sort_values(\"sample_date_string\", inplace=True)\n",
    "confirmed_df[\"new_cases\"] = confirmed_df.cumulative_cases.diff()\n",
    "confirmed_df[\"covid_cases\"] = confirmed_df.new_cases.rolling(7).mean().round()\n",
    "confirmed_df.tail()"
   ]
  },
  {
   "cell_type": "code",
   "execution_count": 8,
   "metadata": {
    "execution": {
     "iopub.execute_input": "2020-09-25T15:19:21.886477Z",
     "iopub.status.busy": "2020-09-25T15:19:21.885883Z",
     "iopub.status.idle": "2020-09-25T15:19:21.897429Z",
     "shell.execute_reply": "2020-09-25T15:19:21.898065Z"
    },
    "papermill": {
     "duration": 0.049113,
     "end_time": "2020-09-25T15:19:21.898187",
     "exception": false,
     "start_time": "2020-09-25T15:19:21.849074",
     "status": "completed"
    },
    "pycharm": {
     "name": "#%%\n"
    },
    "tags": []
   },
   "outputs": [
    {
     "data": {
      "text/html": [
       "<div>\n",
       "<style scoped>\n",
       "    .dataframe tbody tr th:only-of-type {\n",
       "        vertical-align: middle;\n",
       "    }\n",
       "\n",
       "    .dataframe tbody tr th {\n",
       "        vertical-align: top;\n",
       "    }\n",
       "\n",
       "    .dataframe thead th {\n",
       "        text-align: right;\n",
       "    }\n",
       "</style>\n",
       "<table border=\"1\" class=\"dataframe\">\n",
       "  <thead>\n",
       "    <tr style=\"text-align: right;\">\n",
       "      <th></th>\n",
       "      <th>sample_date_string</th>\n",
       "      <th>cumulative_cases</th>\n",
       "      <th>new_cases</th>\n",
       "      <th>covid_cases</th>\n",
       "    </tr>\n",
       "  </thead>\n",
       "  <tbody>\n",
       "    <tr>\n",
       "      <th>242</th>\n",
       "      <td>2020-09-21</td>\n",
       "      <td>671468.0</td>\n",
       "      <td>31428.0</td>\n",
       "      <td>11105</td>\n",
       "    </tr>\n",
       "    <tr>\n",
       "      <th>243</th>\n",
       "      <td>2020-09-22</td>\n",
       "      <td>682267.0</td>\n",
       "      <td>10799.0</td>\n",
       "      <td>11300</td>\n",
       "    </tr>\n",
       "    <tr>\n",
       "      <th>244</th>\n",
       "      <td>2020-09-23</td>\n",
       "      <td>693556.0</td>\n",
       "      <td>11289.0</td>\n",
       "      <td>11314</td>\n",
       "    </tr>\n",
       "    <tr>\n",
       "      <th>245</th>\n",
       "      <td>2020-09-24</td>\n",
       "      <td>704209.0</td>\n",
       "      <td>10653.0</td>\n",
       "      <td>11223</td>\n",
       "    </tr>\n",
       "    <tr>\n",
       "      <th>245</th>\n",
       "      <td>2020-09-25</td>\n",
       "      <td>715432.0</td>\n",
       "      <td>11223.0</td>\n",
       "      <td>11223</td>\n",
       "    </tr>\n",
       "  </tbody>\n",
       "</table>\n",
       "</div>"
      ],
      "text/plain": [
       "    sample_date_string  cumulative_cases  new_cases  covid_cases\n",
       "242         2020-09-21          671468.0    31428.0        11105\n",
       "243         2020-09-22          682267.0    10799.0        11300\n",
       "244         2020-09-23          693556.0    11289.0        11314\n",
       "245         2020-09-24          704209.0    10653.0        11223\n",
       "245         2020-09-25          715432.0    11223.0        11223"
      ]
     },
     "execution_count": 8,
     "metadata": {},
     "output_type": "execute_result"
    }
   ],
   "source": [
    "extraction_date_confirmed_df = \\\n",
    "    confirmed_df[confirmed_df.sample_date_string == extraction_date]\n",
    "extraction_previous_date_confirmed_df = \\\n",
    "    confirmed_df[confirmed_df.sample_date_string == extraction_previous_date].copy()\n",
    "\n",
    "if extraction_date_confirmed_df.empty and \\\n",
    "    not extraction_previous_date_confirmed_df.empty:\n",
    "        extraction_previous_date_confirmed_df[\"sample_date_string\"] = extraction_date\n",
    "        extraction_previous_date_confirmed_df[\"new_cases\"] = \\\n",
    "            extraction_previous_date_confirmed_df.covid_cases\n",
    "        extraction_previous_date_confirmed_df[\"cumulative_cases\"] = \\\n",
    "            extraction_previous_date_confirmed_df.new_cases + \\\n",
    "            extraction_previous_date_confirmed_df.cumulative_cases\n",
    "        confirmed_df = confirmed_df.append(extraction_previous_date_confirmed_df)\n",
    "\n",
    "confirmed_df[\"covid_cases\"] = confirmed_df.covid_cases.fillna(0).astype(int)\n",
    "confirmed_df.tail()"
   ]
  },
  {
   "cell_type": "code",
   "execution_count": 9,
   "metadata": {
    "execution": {
     "iopub.execute_input": "2020-09-25T15:19:21.967066Z",
     "iopub.status.busy": "2020-09-25T15:19:21.966537Z",
     "iopub.status.idle": "2020-09-25T15:19:22.173605Z",
     "shell.execute_reply": "2020-09-25T15:19:22.174962Z"
    },
    "papermill": {
     "duration": 0.245473,
     "end_time": "2020-09-25T15:19:22.175108",
     "exception": false,
     "start_time": "2020-09-25T15:19:21.929635",
     "status": "completed"
    },
    "pycharm": {
     "name": "#%%\n"
    },
    "tags": []
   },
   "outputs": [
    {
     "data": {
      "text/plain": [
       "<matplotlib.axes._subplots.AxesSubplot at 0x7fadafb00160>"
      ]
     },
     "execution_count": 9,
     "metadata": {},
     "output_type": "execute_result"
    },
    {
     "data": {
      "image/png": "[encoded data removed]",
      "text/plain": [
       "<Figure size 1080x432 with 1 Axes>"
      ]
     },
     "metadata": {},
     "output_type": "display_data"
    }
   ],
   "source": [
    "confirmed_df[[\"new_cases\", \"covid_cases\"]].plot()"
   ]
  },
  {
   "cell_type": "markdown",
   "metadata": {
    "execution": {
     "iopub.execute_input": "2020-08-30T22:30:16.351238Z",
     "iopub.status.busy": "2020-08-30T22:30:16.344579Z",
     "iopub.status.idle": "2020-08-30T22:30:16.354285Z",
     "shell.execute_reply": "2020-08-30T22:30:16.353641Z"
    },
    "papermill": {
     "duration": 0.034791,
     "end_time": "2020-09-25T15:19:22.247890",
     "exception": false,
     "start_time": "2020-09-25T15:19:22.213099",
     "status": "completed"
    },
    "pycharm": {
     "name": "#%% md\n"
    },
    "tags": []
   },
   "source": [
    "### Extract API TEKs"
   ]
  },
  {
   "cell_type": "code",
   "execution_count": 10,
   "metadata": {
    "execution": {
     "iopub.execute_input": "2020-09-25T15:19:22.316420Z",
     "iopub.status.busy": "2020-09-25T15:19:22.315904Z",
     "iopub.status.idle": "2020-09-25T15:19:23.048893Z",
     "shell.execute_reply": "2020-09-25T15:19:23.049364Z"
    },
    "papermill": {
     "duration": 0.768843,
     "end_time": "2020-09-25T15:19:23.049531",
     "exception": false,
     "start_time": "2020-09-25T15:19:22.280688",
     "status": "completed"
    },
    "pycharm": {
     "name": "#%%\n"
    },
    "tags": []
   },
   "outputs": [
    {
     "name": "stderr",
     "output_type": "stream",
     "text": [
      "WARNING:root:Unexpected key 'key_rolling_period': 47400s (expected: 86400s)\n"
     ]
    },
    {
     "name": "stderr",
     "output_type": "stream",
     "text": [
      "WARNING:root:Unexpected key 'key_rolling_period': 46200s (expected: 86400s)\n"
     ]
    },
    {
     "name": "stderr",
     "output_type": "stream",
     "text": [
      "WARNING:root:Unexpected key 'key_rolling_period': 40200s (expected: 86400s)\n"
     ]
    },
    {
     "name": "stderr",
     "output_type": "stream",
     "text": [
      "WARNING:root:Unexpected key 'key_rolling_period': 37200s (expected: 86400s)\n"
     ]
    },
    {
     "name": "stderr",
     "output_type": "stream",
     "text": [
      "WARNING:root:Unexpected key 'key_rolling_period': 32400s (expected: 86400s)\n"
     ]
    },
    {
     "name": "stderr",
     "output_type": "stream",
     "text": [
      "WARNING:root:Unexpected key 'key_rolling_period': 31200s (expected: 86400s)\n"
     ]
    },
    {
     "name": "stderr",
     "output_type": "stream",
     "text": [
      "WARNING:root:Unexpected key 'key_rolling_period': 30000s (expected: 86400s)\n"
     ]
    },
    {
     "name": "stderr",
     "output_type": "stream",
     "text": [
      "WARNING:root:Unexpected key 'key_rolling_period': 28800s (expected: 86400s)\n"
     ]
    },
    {
     "name": "stderr",
     "output_type": "stream",
     "text": [
      "WARNING:root:Unexpected key 'key_rolling_period': 28200s (expected: 86400s)\n"
     ]
    },
    {
     "name": "stderr",
     "output_type": "stream",
     "text": [
      "WARNING:root:Unexpected key 'key_rolling_period': 23400s (expected: 86400s)\n"
     ]
    },
    {
     "name": "stderr",
     "output_type": "stream",
     "text": [
      "WARNING:root:Unexpected key 'key_rolling_period': 79200s (expected: 86400s)\n"
     ]
    },
    {
     "name": "stderr",
     "output_type": "stream",
     "text": [
      "WARNING:root:Unexpected key 'key_rolling_period': 69600s (expected: 86400s)\n"
     ]
    },
    {
     "name": "stderr",
     "output_type": "stream",
     "text": [
      "WARNING:root:Unexpected key 'key_rolling_period': 60600s (expected: 86400s)\n"
     ]
    },
    {
     "name": "stderr",
     "output_type": "stream",
     "text": [
      "WARNING:root:Unexpected key 'key_rolling_period': 54600s (expected: 86400s)\n"
     ]
    },
    {
     "name": "stderr",
     "output_type": "stream",
     "text": [
      "WARNING:root:Unexpected key 'key_rolling_period': 52800s (expected: 86400s)\n"
     ]
    },
    {
     "name": "stderr",
     "output_type": "stream",
     "text": [
      "WARNING:root:Unexpected key 'key_rolling_period': 51600s (expected: 86400s)\n"
     ]
    },
    {
     "name": "stderr",
     "output_type": "stream",
     "text": [
      "WARNING:root:Unexpected key 'key_rolling_period': 49800s (expected: 86400s)\n"
     ]
    },
    {
     "name": "stderr",
     "output_type": "stream",
     "text": [
      "WARNING:root:Unexpected key 'key_rolling_period': 46200s (expected: 86400s)\n"
     ]
    },
    {
     "name": "stderr",
     "output_type": "stream",
     "text": [
      "WARNING:root:Unexpected key 'key_rolling_period': 36000s (expected: 86400s)\n"
     ]
    },
    {
     "name": "stderr",
     "output_type": "stream",
     "text": [
      "WARNING:root:Unexpected key 'key_rolling_period': 35400s (expected: 86400s)\n"
     ]
    },
    {
     "name": "stderr",
     "output_type": "stream",
     "text": [
      "WARNING:root:Unexpected key 'key_rolling_period': 34200s (expected: 86400s)\n"
     ]
    },
    {
     "name": "stderr",
     "output_type": "stream",
     "text": [
      "WARNING:root:Unexpected key 'key_rolling_period': 31200s (expected: 86400s)\n"
     ]
    },
    {
     "name": "stderr",
     "output_type": "stream",
     "text": [
      "WARNING:root:Unexpected key 'key_rolling_period': 30600s (expected: 86400s)\n"
     ]
    },
    {
     "name": "stderr",
     "output_type": "stream",
     "text": [
      "WARNING:root:Unexpected key 'key_rolling_period': 30000s (expected: 86400s)\n"
     ]
    },
    {
     "name": "stderr",
     "output_type": "stream",
     "text": [
      "WARNING:root:Unexpected key 'key_rolling_period': 27600s (expected: 86400s)\n"
     ]
    },
    {
     "name": "stderr",
     "output_type": "stream",
     "text": [
      "WARNING:root:Unexpected key 'key_rolling_period': 16200s (expected: 86400s)\n"
     ]
    },
    {
     "name": "stderr",
     "output_type": "stream",
     "text": [
      "WARNING:root:Unexpected key 'key_rolling_period': 4200s (expected: 86400s)\n"
     ]
    },
    {
     "name": "stderr",
     "output_type": "stream",
     "text": [
      "WARNING:root:Unexpected key 'key_rolling_period': 63600s (expected: 86400s)\n"
     ]
    },
    {
     "name": "stderr",
     "output_type": "stream",
     "text": [
      "WARNING:root:Unexpected key 'key_rolling_period': 55800s (expected: 86400s)\n"
     ]
    },
    {
     "name": "stderr",
     "output_type": "stream",
     "text": [
      "WARNING:root:Unexpected key 'key_rolling_period': 42600s (expected: 86400s)\n"
     ]
    },
    {
     "name": "stderr",
     "output_type": "stream",
     "text": [
      "WARNING:root:Unexpected key 'key_rolling_period': 24000s (expected: 86400s)\n"
     ]
    },
    {
     "name": "stderr",
     "output_type": "stream",
     "text": [
      "WARNING:root:Unexpected key 'key_rolling_period': 38400s (expected: 86400s)\n"
     ]
    },
    {
     "name": "stderr",
     "output_type": "stream",
     "text": [
      "WARNING:root:Unexpected key 'key_rolling_period': 23400s (expected: 86400s)\n"
     ]
    },
    {
     "name": "stderr",
     "output_type": "stream",
     "text": [
      "WARNING:root:Unexpected key 'key_rolling_period': 53400s (expected: 86400s)\n"
     ]
    },
    {
     "name": "stderr",
     "output_type": "stream",
     "text": [
      "WARNING:root:Unexpected key 'key_rolling_period': 48600s (expected: 86400s)\n"
     ]
    },
    {
     "data": {
      "text/html": [
       "<div>\n",
       "<style scoped>\n",
       "    .dataframe tbody tr th:only-of-type {\n",
       "        vertical-align: middle;\n",
       "    }\n",
       "\n",
       "    .dataframe tbody tr th {\n",
       "        vertical-align: top;\n",
       "    }\n",
       "\n",
       "    .dataframe thead th {\n",
       "        text-align: right;\n",
       "    }\n",
       "</style>\n",
       "<table border=\"1\" class=\"dataframe\">\n",
       "  <thead>\n",
       "    <tr style=\"text-align: right;\">\n",
       "      <th></th>\n",
       "      <th>sample_date_string</th>\n",
       "      <th>source_url</th>\n",
       "      <th>region</th>\n",
       "      <th>key_data</th>\n",
       "    </tr>\n",
       "  </thead>\n",
       "  <tbody>\n",
       "    <tr>\n",
       "      <th>0</th>\n",
       "      <td>2020-09-25</td>\n",
       "      <td>https://radarcovid.covid19.gob.es/dp3t/v1/gaen...</td>\n",
       "      <td>ES</td>\n",
       "      <td>a4304724-c40b-7824-5f77-9bc42f5b49d4</td>\n",
       "    </tr>\n",
       "    <tr>\n",
       "      <th>1</th>\n",
       "      <td>2020-09-25</td>\n",
       "      <td>https://radarcovid.covid19.gob.es/dp3t/v1/gaen...</td>\n",
       "      <td>ES</td>\n",
       "      <td>936a8762-c2f0-1796-03ec-f342577b812a</td>\n",
       "    </tr>\n",
       "    <tr>\n",
       "      <th>2</th>\n",
       "      <td>2020-09-25</td>\n",
       "      <td>https://radarcovid.covid19.gob.es/dp3t/v1/gaen...</td>\n",
       "      <td>ES</td>\n",
       "      <td>65bb6595-f3d0-66d7-b316-5901191f29d4</td>\n",
       "    </tr>\n",
       "    <tr>\n",
       "      <th>3</th>\n",
       "      <td>2020-09-25</td>\n",
       "      <td>https://radarcovid.covid19.gob.es/dp3t/v1/gaen...</td>\n",
       "      <td>ES</td>\n",
       "      <td>aa588cdc-1766-c2bd-3515-71ddc2005a8c</td>\n",
       "    </tr>\n",
       "    <tr>\n",
       "      <th>4</th>\n",
       "      <td>2020-09-25</td>\n",
       "      <td>https://radarcovid.covid19.gob.es/dp3t/v1/gaen...</td>\n",
       "      <td>ES</td>\n",
       "      <td>f2993a0e-845b-cf2d-5290-93776b7209aa</td>\n",
       "    </tr>\n",
       "  </tbody>\n",
       "</table>\n",
       "</div>"
      ],
      "text/plain": [
       "  sample_date_string                                         source_url  \\\n",
       "0         2020-09-25  https://radarcovid.covid19.gob.es/dp3t/v1/gaen...   \n",
       "1         2020-09-25  https://radarcovid.covid19.gob.es/dp3t/v1/gaen...   \n",
       "2         2020-09-25  https://radarcovid.covid19.gob.es/dp3t/v1/gaen...   \n",
       "3         2020-09-25  https://radarcovid.covid19.gob.es/dp3t/v1/gaen...   \n",
       "4         2020-09-25  https://radarcovid.covid19.gob.es/dp3t/v1/gaen...   \n",
       "\n",
       "  region                              key_data  \n",
       "0     ES  a4304724-c40b-7824-5f77-9bc42f5b49d4  \n",
       "1     ES  936a8762-c2f0-1796-03ec-f342577b812a  \n",
       "2     ES  65bb6595-f3d0-66d7-b316-5901191f29d4  \n",
       "3     ES  aa588cdc-1766-c2bd-3515-71ddc2005a8c  \n",
       "4     ES  f2993a0e-845b-cf2d-5290-93776b7209aa  "
      ]
     },
     "execution_count": 10,
     "metadata": {},
     "output_type": "execute_result"
    }
   ],
   "source": [
    "from Modules.RadarCOVID import radar_covid\n",
    "\n",
    "raw_zip_paths = [\n",
    "    \"Data/TEKs/Raw/Current/RadarCOVID-TEKs-{sample_date}.zip\",\n",
    "    f\"Data/TEKs/Raw/Daily/{extraction_date}/RadarCOVID-TEKs-{{sample_date}}.zip\",\n",
    "    f\"Data/TEKs/Raw/Hourly/{extraction_date_with_hour}/RadarCOVID-TEKs-{{sample_date}}.zip\",\n",
    "]\n",
    "\n",
    "multi_region_exposure_keys_df = \\\n",
    "    radar_covid.download_last_radar_covid_exposure_keys(\n",
    "        days=14, save_raw_zip_path=raw_zip_paths)\n",
    "multi_region_exposure_keys_df = multi_region_exposure_keys_df[[\n",
    "    \"sample_date_string\", \"source_url\", \"region\", \"key_data\"]]\n",
    "multi_region_exposure_keys_df.head()"
   ]
  },
  {
   "cell_type": "code",
   "execution_count": 11,
   "metadata": {
    "collapsed": false,
    "execution": {
     "iopub.execute_input": "2020-09-25T15:19:23.144516Z",
     "iopub.status.busy": "2020-09-25T15:19:23.136826Z",
     "iopub.status.idle": "2020-09-25T15:19:23.149038Z",
     "shell.execute_reply": "2020-09-25T15:19:23.149452Z"
    },
    "papermill": {
     "duration": 0.056584,
     "end_time": "2020-09-25T15:19:23.149597",
     "exception": false,
     "start_time": "2020-09-25T15:19:23.093013",
     "status": "completed"
    },
    "pycharm": {
     "name": "#%%\n"
    },
    "tags": []
   },
   "outputs": [
    {
     "data": {
      "text/plain": [
       "['ES']"
      ]
     },
     "execution_count": 11,
     "metadata": {},
     "output_type": "execute_result"
    }
   ],
   "source": [
    "active_regions = \\\n",
    "    multi_region_exposure_keys_df.groupby(\"region\").key_data.nunique().sort_values().index.unique().tolist()\n",
    "active_regions"
   ]
  },
  {
   "cell_type": "code",
   "execution_count": 12,
   "metadata": {
    "collapsed": false,
    "execution": {
     "iopub.execute_input": "2020-09-25T15:19:23.243045Z",
     "iopub.status.busy": "2020-09-25T15:19:23.242374Z",
     "iopub.status.idle": "2020-09-25T15:19:23.265856Z",
     "shell.execute_reply": "2020-09-25T15:19:23.266306Z"
    },
    "papermill": {
     "duration": 0.073336,
     "end_time": "2020-09-25T15:19:23.266462",
     "exception": false,
     "start_time": "2020-09-25T15:19:23.193126",
     "status": "completed"
    },
    "pycharm": {
     "name": "#%%\n"
    },
    "tags": []
   },
   "outputs": [
    {
     "data": {
      "text/html": [
       "<div>\n",
       "<style scoped>\n",
       "    .dataframe tbody tr th:only-of-type {\n",
       "        vertical-align: middle;\n",
       "    }\n",
       "\n",
       "    .dataframe tbody tr th {\n",
       "        vertical-align: top;\n",
       "    }\n",
       "\n",
       "    .dataframe thead tr th {\n",
       "        text-align: left;\n",
       "    }\n",
       "\n",
       "    .dataframe thead tr:last-of-type th {\n",
       "        text-align: right;\n",
       "    }\n",
       "</style>\n",
       "<table border=\"1\" class=\"dataframe\">\n",
       "  <thead>\n",
       "    <tr>\n",
       "      <th></th>\n",
       "      <th>shared_teks_by_generation_date</th>\n",
       "    </tr>\n",
       "    <tr>\n",
       "      <th>region</th>\n",
       "      <th>ES</th>\n",
       "    </tr>\n",
       "    <tr>\n",
       "      <th>sample_date_string</th>\n",
       "      <th></th>\n",
       "    </tr>\n",
       "  </thead>\n",
       "  <tbody>\n",
       "    <tr>\n",
       "      <th>2020-09-25</th>\n",
       "      <td>10</td>\n",
       "    </tr>\n",
       "    <tr>\n",
       "      <th>2020-09-24</th>\n",
       "      <td>85</td>\n",
       "    </tr>\n",
       "    <tr>\n",
       "      <th>2020-09-23</th>\n",
       "      <td>127</td>\n",
       "    </tr>\n",
       "    <tr>\n",
       "      <th>2020-09-22</th>\n",
       "      <td>149</td>\n",
       "    </tr>\n",
       "    <tr>\n",
       "      <th>2020-09-21</th>\n",
       "      <td>185</td>\n",
       "    </tr>\n",
       "  </tbody>\n",
       "</table>\n",
       "</div>"
      ],
      "text/plain": [
       "                   shared_teks_by_generation_date\n",
       "region                                         ES\n",
       "sample_date_string                               \n",
       "2020-09-25                                     10\n",
       "2020-09-24                                     85\n",
       "2020-09-23                                    127\n",
       "2020-09-22                                    149\n",
       "2020-09-21                                    185"
      ]
     },
     "execution_count": 12,
     "metadata": {},
     "output_type": "execute_result"
    }
   ],
   "source": [
    "multi_region_summary_df = multi_region_exposure_keys_df.groupby(\n",
    "    [\"sample_date_string\", \"region\"]).key_data.nunique().reset_index() \\\n",
    "    .pivot(index=\"sample_date_string\", columns=\"region\") \\\n",
    "    .sort_index(ascending=False)\n",
    "multi_region_summary_df.rename(columns={\"key_data\": \"shared_teks_by_generation_date\"}, inplace=True)\n",
    "multi_region_summary_df.head()"
   ]
  },
  {
   "cell_type": "code",
   "execution_count": 13,
   "metadata": {
    "collapsed": false,
    "execution": {
     "iopub.execute_input": "2020-09-25T15:19:23.353536Z",
     "iopub.status.busy": "2020-09-25T15:19:23.352962Z",
     "iopub.status.idle": "2020-09-25T15:19:23.357771Z",
     "shell.execute_reply": "2020-09-25T15:19:23.358241Z"
    },
    "papermill": {
     "duration": 0.050887,
     "end_time": "2020-09-25T15:19:23.358417",
     "exception": false,
     "start_time": "2020-09-25T15:19:23.307530",
     "status": "completed"
    },
    "pycharm": {
     "name": "#%%\n"
    },
    "tags": []
   },
   "outputs": [
    {
     "data": {
      "text/plain": [
       "[]"
      ]
     },
     "execution_count": 13,
     "metadata": {},
     "output_type": "execute_result"
    }
   ],
   "source": [
    "multi_region_without_spain_exposure_keys_df = \\\n",
    "    multi_region_exposure_keys_df[multi_region_exposure_keys_df.region != spain_region_country_code]\n",
    "active_regions_excluding_spain = \\\n",
    "    multi_region_without_spain_exposure_keys_df.groupby(\"region\").key_data.nunique().sort_values().index.unique().tolist()\n",
    "active_regions_excluding_spain"
   ]
  },
  {
   "cell_type": "code",
   "execution_count": 14,
   "metadata": {
    "execution": {
     "iopub.execute_input": "2020-09-25T15:19:23.446684Z",
     "iopub.status.busy": "2020-09-25T15:19:23.446100Z",
     "iopub.status.idle": "2020-09-25T15:19:23.463428Z",
     "shell.execute_reply": "2020-09-25T15:19:23.462941Z"
    },
    "papermill": {
     "duration": 0.062842,
     "end_time": "2020-09-25T15:19:23.463531",
     "exception": false,
     "start_time": "2020-09-25T15:19:23.400689",
     "status": "completed"
    },
    "scrolled": false,
    "tags": []
   },
   "outputs": [
    {
     "data": {
      "text/html": [
       "<div>\n",
       "<style scoped>\n",
       "    .dataframe tbody tr th:only-of-type {\n",
       "        vertical-align: middle;\n",
       "    }\n",
       "\n",
       "    .dataframe tbody tr th {\n",
       "        vertical-align: top;\n",
       "    }\n",
       "\n",
       "    .dataframe thead th {\n",
       "        text-align: right;\n",
       "    }\n",
       "</style>\n",
       "<table border=\"1\" class=\"dataframe\">\n",
       "  <thead>\n",
       "    <tr style=\"text-align: right;\">\n",
       "      <th></th>\n",
       "      <th>shared_teks_by_generation_date</th>\n",
       "    </tr>\n",
       "    <tr>\n",
       "      <th>sample_date_string</th>\n",
       "      <th></th>\n",
       "    </tr>\n",
       "  </thead>\n",
       "  <tbody>\n",
       "    <tr>\n",
       "      <th>2020-09-25</th>\n",
       "      <td>10</td>\n",
       "    </tr>\n",
       "    <tr>\n",
       "      <th>2020-09-24</th>\n",
       "      <td>85</td>\n",
       "    </tr>\n",
       "    <tr>\n",
       "      <th>2020-09-23</th>\n",
       "      <td>127</td>\n",
       "    </tr>\n",
       "    <tr>\n",
       "      <th>2020-09-22</th>\n",
       "      <td>149</td>\n",
       "    </tr>\n",
       "    <tr>\n",
       "      <th>2020-09-21</th>\n",
       "      <td>185</td>\n",
       "    </tr>\n",
       "    <tr>\n",
       "      <th>2020-09-20</th>\n",
       "      <td>201</td>\n",
       "    </tr>\n",
       "    <tr>\n",
       "      <th>2020-09-19</th>\n",
       "      <td>203</td>\n",
       "    </tr>\n",
       "    <tr>\n",
       "      <th>2020-09-18</th>\n",
       "      <td>165</td>\n",
       "    </tr>\n",
       "    <tr>\n",
       "      <th>2020-09-17</th>\n",
       "      <td>139</td>\n",
       "    </tr>\n",
       "    <tr>\n",
       "      <th>2020-09-16</th>\n",
       "      <td>119</td>\n",
       "    </tr>\n",
       "    <tr>\n",
       "      <th>2020-09-15</th>\n",
       "      <td>82</td>\n",
       "    </tr>\n",
       "    <tr>\n",
       "      <th>2020-09-14</th>\n",
       "      <td>73</td>\n",
       "    </tr>\n",
       "    <tr>\n",
       "      <th>2020-09-13</th>\n",
       "      <td>75</td>\n",
       "    </tr>\n",
       "    <tr>\n",
       "      <th>2020-09-12</th>\n",
       "      <td>67</td>\n",
       "    </tr>\n",
       "  </tbody>\n",
       "</table>\n",
       "</div>"
      ],
      "text/plain": [
       "                    shared_teks_by_generation_date\n",
       "sample_date_string                                \n",
       "2020-09-25                                      10\n",
       "2020-09-24                                      85\n",
       "2020-09-23                                     127\n",
       "2020-09-22                                     149\n",
       "2020-09-21                                     185\n",
       "2020-09-20                                     201\n",
       "2020-09-19                                     203\n",
       "2020-09-18                                     165\n",
       "2020-09-17                                     139\n",
       "2020-09-16                                     119\n",
       "2020-09-15                                      82\n",
       "2020-09-14                                      73\n",
       "2020-09-13                                      75\n",
       "2020-09-12                                      67"
      ]
     },
     "execution_count": 14,
     "metadata": {},
     "output_type": "execute_result"
    }
   ],
   "source": [
    "exposure_keys_summary_df = multi_region_exposure_keys_df[\n",
    "    multi_region_exposure_keys_df.region == spain_region_country_code]\n",
    "exposure_keys_summary_df.drop(columns=[\"region\"], inplace=True)\n",
    "exposure_keys_summary_df = \\\n",
    "    exposure_keys_summary_df.groupby([\"sample_date_string\"]).key_data.nunique().to_frame()\n",
    "exposure_keys_summary_df = \\\n",
    "    exposure_keys_summary_df.reset_index().set_index(\"sample_date_string\")\n",
    "exposure_keys_summary_df.sort_index(ascending=False, inplace=True)\n",
    "exposure_keys_summary_df.rename(columns={\"key_data\": \"shared_teks_by_generation_date\"}, inplace=True)\n",
    "exposure_keys_summary_df"
   ]
  },
  {
   "cell_type": "markdown",
   "metadata": {
    "papermill": {
     "duration": 0.041609,
     "end_time": "2020-09-25T15:19:23.548071",
     "exception": false,
     "start_time": "2020-09-25T15:19:23.506462",
     "status": "completed"
    },
    "tags": []
   },
   "source": [
    "### Dump API TEKs"
   ]
  },
  {
   "cell_type": "code",
   "execution_count": 15,
   "metadata": {
    "execution": {
     "iopub.execute_input": "2020-09-25T15:19:23.637141Z",
     "iopub.status.busy": "2020-09-25T15:19:23.636578Z",
     "iopub.status.idle": "2020-09-25T15:19:23.668793Z",
     "shell.execute_reply": "2020-09-25T15:19:23.669216Z"
    },
    "papermill": {
     "duration": 0.078689,
     "end_time": "2020-09-25T15:19:23.669336",
     "exception": false,
     "start_time": "2020-09-25T15:19:23.590647",
     "status": "completed"
    },
    "tags": []
   },
   "outputs": [
    {
     "data": {
      "text/html": [
       "<div>\n",
       "<style scoped>\n",
       "    .dataframe tbody tr th:only-of-type {\n",
       "        vertical-align: middle;\n",
       "    }\n",
       "\n",
       "    .dataframe tbody tr th {\n",
       "        vertical-align: top;\n",
       "    }\n",
       "\n",
       "    .dataframe thead th {\n",
       "        text-align: right;\n",
       "    }\n",
       "</style>\n",
       "<table border=\"1\" class=\"dataframe\">\n",
       "  <thead>\n",
       "    <tr style=\"text-align: right;\">\n",
       "      <th></th>\n",
       "      <th>sample_date</th>\n",
       "      <th>region</th>\n",
       "      <th>tek_list</th>\n",
       "      <th>extraction_date</th>\n",
       "      <th>extraction_date_with_hour</th>\n",
       "    </tr>\n",
       "  </thead>\n",
       "  <tbody>\n",
       "    <tr>\n",
       "      <th>0</th>\n",
       "      <td>2020-09-12</td>\n",
       "      <td>ES</td>\n",
       "      <td>[30f2c790-b461-745c-60fb-1e002f4c94aa, 9d4da2c...</td>\n",
       "      <td>2020-09-25</td>\n",
       "      <td>2020-09-25@15</td>\n",
       "    </tr>\n",
       "    <tr>\n",
       "      <th>1</th>\n",
       "      <td>2020-09-13</td>\n",
       "      <td>ES</td>\n",
       "      <td>[a4b3ef9b-86d2-1fb8-b525-e19eb3f4e068, 8b84121...</td>\n",
       "      <td>2020-09-25</td>\n",
       "      <td>2020-09-25@15</td>\n",
       "    </tr>\n",
       "    <tr>\n",
       "      <th>2</th>\n",
       "      <td>2020-09-14</td>\n",
       "      <td>ES</td>\n",
       "      <td>[ffc37730-2cba-1530-9f70-355e55fabd8d, e63eb79...</td>\n",
       "      <td>2020-09-25</td>\n",
       "      <td>2020-09-25@15</td>\n",
       "    </tr>\n",
       "    <tr>\n",
       "      <th>3</th>\n",
       "      <td>2020-09-15</td>\n",
       "      <td>ES</td>\n",
       "      <td>[31634101-bb0f-603e-79f1-818dc71bf69b, 09dda36...</td>\n",
       "      <td>2020-09-25</td>\n",
       "      <td>2020-09-25@15</td>\n",
       "    </tr>\n",
       "    <tr>\n",
       "      <th>4</th>\n",
       "      <td>2020-09-16</td>\n",
       "      <td>ES</td>\n",
       "      <td>[9c7d05f3-84cd-66fc-3f89-92d7ba290aa5, dd79f09...</td>\n",
       "      <td>2020-09-25</td>\n",
       "      <td>2020-09-25@15</td>\n",
       "    </tr>\n",
       "  </tbody>\n",
       "</table>\n",
       "</div>"
      ],
      "text/plain": [
       "  sample_date region                                           tek_list  \\\n",
       "0  2020-09-12     ES  [30f2c790-b461-745c-60fb-1e002f4c94aa, 9d4da2c...   \n",
       "1  2020-09-13     ES  [a4b3ef9b-86d2-1fb8-b525-e19eb3f4e068, 8b84121...   \n",
       "2  2020-09-14     ES  [ffc37730-2cba-1530-9f70-355e55fabd8d, e63eb79...   \n",
       "3  2020-09-15     ES  [31634101-bb0f-603e-79f1-818dc71bf69b, 09dda36...   \n",
       "4  2020-09-16     ES  [9c7d05f3-84cd-66fc-3f89-92d7ba290aa5, dd79f09...   \n",
       "\n",
       "  extraction_date extraction_date_with_hour  \n",
       "0      2020-09-25             2020-09-25@15  \n",
       "1      2020-09-25             2020-09-25@15  \n",
       "2      2020-09-25             2020-09-25@15  \n",
       "3      2020-09-25             2020-09-25@15  \n",
       "4      2020-09-25             2020-09-25@15  "
      ]
     },
     "execution_count": 15,
     "metadata": {},
     "output_type": "execute_result"
    }
   ],
   "source": [
    "tek_list_df = multi_region_exposure_keys_df[\n",
    "    [\"sample_date_string\", \"region\", \"key_data\"]].copy()\n",
    "tek_list_df[\"key_data\"] = tek_list_df[\"key_data\"].apply(str)\n",
    "tek_list_df.rename(columns={\n",
    "    \"sample_date_string\": \"sample_date\",\n",
    "    \"key_data\": \"tek_list\"}, inplace=True)\n",
    "tek_list_df = tek_list_df.groupby(\n",
    "    [\"sample_date\", \"region\"]).tek_list.unique().reset_index()\n",
    "tek_list_df[\"extraction_date\"] = extraction_date\n",
    "tek_list_df[\"extraction_date_with_hour\"] = extraction_date_with_hour\n",
    "tek_list_df.drop(columns=[\"extraction_date\", \"extraction_date_with_hour\"]).to_json(\n",
    "    \"Data/TEKs/Current/RadarCOVID-TEKs.json\",\n",
    "    lines=True, orient=\"records\")\n",
    "tek_list_df.drop(columns=[\"extraction_date_with_hour\"]).to_json(\n",
    "    \"Data/TEKs/Daily/RadarCOVID-TEKs-\" + extraction_date + \".json\",\n",
    "    lines=True, orient=\"records\")\n",
    "tek_list_df.to_json(\n",
    "    \"Data/TEKs/Hourly/RadarCOVID-TEKs-\" + extraction_date_with_hour + \".json\",\n",
    "    lines=True, orient=\"records\")\n",
    "tek_list_df.head()"
   ]
  },
  {
   "cell_type": "markdown",
   "metadata": {
    "papermill": {
     "duration": 0.04457,
     "end_time": "2020-09-25T15:19:23.760017",
     "exception": false,
     "start_time": "2020-09-25T15:19:23.715447",
     "status": "completed"
    },
    "tags": []
   },
   "source": [
    "### Load TEK Dumps"
   ]
  },
  {
   "cell_type": "code",
   "execution_count": 16,
   "metadata": {
    "execution": {
     "iopub.execute_input": "2020-09-25T15:19:23.854116Z",
     "iopub.status.busy": "2020-09-25T15:19:23.853590Z",
     "iopub.status.idle": "2020-09-25T15:19:23.856540Z",
     "shell.execute_reply": "2020-09-25T15:19:23.855962Z"
    },
    "papermill": {
     "duration": 0.050097,
     "end_time": "2020-09-25T15:19:23.856648",
     "exception": false,
     "start_time": "2020-09-25T15:19:23.806551",
     "status": "completed"
    },
    "tags": []
   },
   "outputs": [],
   "source": [
    "import glob\n",
    "\n",
    "def load_extracted_teks(mode, region=None, limit=None) -> pd.DataFrame:\n",
    "    extracted_teks_df = pd.DataFrame(columns=[\"region\"])\n",
    "    paths = list(reversed(sorted(glob.glob(f\"Data/TEKs/{mode}/RadarCOVID-TEKs-*.json\"))))\n",
    "    if limit:\n",
    "        paths = paths[:limit]\n",
    "    for path in paths:\n",
    "        logging.info(f\"Loading TEKs from '{path}'...\")\n",
    "        iteration_extracted_teks_df = pd.read_json(path, lines=True)\n",
    "        extracted_teks_df = extracted_teks_df.append(\n",
    "            iteration_extracted_teks_df, sort=False)\n",
    "    extracted_teks_df[\"region\"] = \\\n",
    "        extracted_teks_df.region.fillna(spain_region_country_code).copy()\n",
    "    if region:\n",
    "        extracted_teks_df = \\\n",
    "            extracted_teks_df[extracted_teks_df.region == region]\n",
    "    return extracted_teks_df"
   ]
  },
  {
   "cell_type": "code",
   "execution_count": 17,
   "metadata": {
    "collapsed": false,
    "execution": {
     "iopub.execute_input": "2020-09-25T15:19:23.946442Z",
     "iopub.status.busy": "2020-09-25T15:19:23.945850Z",
     "iopub.status.idle": "2020-09-25T15:19:24.076952Z",
     "shell.execute_reply": "2020-09-25T15:19:24.077400Z"
    },
    "papermill": {
     "duration": 0.179812,
     "end_time": "2020-09-25T15:19:24.077559",
     "exception": false,
     "start_time": "2020-09-25T15:19:23.897747",
     "status": "completed"
    },
    "pycharm": {
     "name": "#%%\n"
    },
    "tags": []
   },
   "outputs": [
    {
     "data": {
      "text/html": [
       "<div>\n",
       "<style scoped>\n",
       "    .dataframe tbody tr th:only-of-type {\n",
       "        vertical-align: middle;\n",
       "    }\n",
       "\n",
       "    .dataframe tbody tr th {\n",
       "        vertical-align: top;\n",
       "    }\n",
       "\n",
       "    .dataframe thead th {\n",
       "        text-align: right;\n",
       "    }\n",
       "</style>\n",
       "<table border=\"1\" class=\"dataframe\">\n",
       "  <thead>\n",
       "    <tr style=\"text-align: right;\">\n",
       "      <th></th>\n",
       "      <th>region</th>\n",
       "      <th>sample_date</th>\n",
       "      <th>tek_list</th>\n",
       "      <th>extraction_date</th>\n",
       "    </tr>\n",
       "  </thead>\n",
       "  <tbody>\n",
       "    <tr>\n",
       "      <th>0</th>\n",
       "      <td>ES</td>\n",
       "      <td>2020-09-12</td>\n",
       "      <td>[30f2c790-b461-745c-60fb-1e002f4c94aa, 9d4da2c...</td>\n",
       "      <td>2020-09-25</td>\n",
       "    </tr>\n",
       "    <tr>\n",
       "      <th>1</th>\n",
       "      <td>ES</td>\n",
       "      <td>2020-09-13</td>\n",
       "      <td>[a4b3ef9b-86d2-1fb8-b525-e19eb3f4e068, 8b84121...</td>\n",
       "      <td>2020-09-25</td>\n",
       "    </tr>\n",
       "    <tr>\n",
       "      <th>2</th>\n",
       "      <td>ES</td>\n",
       "      <td>2020-09-14</td>\n",
       "      <td>[ffc37730-2cba-1530-9f70-355e55fabd8d, e63eb79...</td>\n",
       "      <td>2020-09-25</td>\n",
       "    </tr>\n",
       "    <tr>\n",
       "      <th>3</th>\n",
       "      <td>ES</td>\n",
       "      <td>2020-09-15</td>\n",
       "      <td>[31634101-bb0f-603e-79f1-818dc71bf69b, 09dda36...</td>\n",
       "      <td>2020-09-25</td>\n",
       "    </tr>\n",
       "    <tr>\n",
       "      <th>4</th>\n",
       "      <td>ES</td>\n",
       "      <td>2020-09-16</td>\n",
       "      <td>[9c7d05f3-84cd-66fc-3f89-92d7ba290aa5, dd79f09...</td>\n",
       "      <td>2020-09-25</td>\n",
       "    </tr>\n",
       "  </tbody>\n",
       "</table>\n",
       "</div>"
      ],
      "text/plain": [
       "  region sample_date                                           tek_list  \\\n",
       "0     ES  2020-09-12  [30f2c790-b461-745c-60fb-1e002f4c94aa, 9d4da2c...   \n",
       "1     ES  2020-09-13  [a4b3ef9b-86d2-1fb8-b525-e19eb3f4e068, 8b84121...   \n",
       "2     ES  2020-09-14  [ffc37730-2cba-1530-9f70-355e55fabd8d, e63eb79...   \n",
       "3     ES  2020-09-15  [31634101-bb0f-603e-79f1-818dc71bf69b, 09dda36...   \n",
       "4     ES  2020-09-16  [9c7d05f3-84cd-66fc-3f89-92d7ba290aa5, dd79f09...   \n",
       "\n",
       "  extraction_date  \n",
       "0      2020-09-25  \n",
       "1      2020-09-25  \n",
       "2      2020-09-25  \n",
       "3      2020-09-25  \n",
       "4      2020-09-25  "
      ]
     },
     "execution_count": 17,
     "metadata": {},
     "output_type": "execute_result"
    }
   ],
   "source": [
    "daily_extracted_teks_df = load_extracted_teks(\n",
    "    mode=\"Daily\",\n",
    "    region=spain_region_country_code,\n",
    "    limit=tek_dumps_load_limit)\n",
    "daily_extracted_teks_df.head()"
   ]
  },
  {
   "cell_type": "code",
   "execution_count": 18,
   "metadata": {
    "collapsed": false,
    "execution": {
     "iopub.execute_input": "2020-09-25T15:19:24.185982Z",
     "iopub.status.busy": "2020-09-25T15:19:24.185229Z",
     "iopub.status.idle": "2020-09-25T15:19:24.189683Z",
     "shell.execute_reply": "2020-09-25T15:19:24.190198Z"
    },
    "papermill": {
     "duration": 0.06701,
     "end_time": "2020-09-25T15:19:24.190373",
     "exception": false,
     "start_time": "2020-09-25T15:19:24.123363",
     "status": "completed"
    },
    "pycharm": {
     "name": "#%%\n"
    },
    "tags": []
   },
   "outputs": [
    {
     "data": {
      "text/html": [
       "<div>\n",
       "<style scoped>\n",
       "    .dataframe tbody tr th:only-of-type {\n",
       "        vertical-align: middle;\n",
       "    }\n",
       "\n",
       "    .dataframe tbody tr th {\n",
       "        vertical-align: top;\n",
       "    }\n",
       "\n",
       "    .dataframe thead th {\n",
       "        text-align: right;\n",
       "    }\n",
       "</style>\n",
       "<table border=\"1\" class=\"dataframe\">\n",
       "  <thead>\n",
       "    <tr style=\"text-align: right;\">\n",
       "      <th></th>\n",
       "      <th>shared_teks_by_generation_date</th>\n",
       "    </tr>\n",
       "    <tr>\n",
       "      <th>sample_date_string</th>\n",
       "      <th></th>\n",
       "    </tr>\n",
       "  </thead>\n",
       "  <tbody>\n",
       "    <tr>\n",
       "      <th>2020-09-25</th>\n",
       "      <td>10</td>\n",
       "    </tr>\n",
       "    <tr>\n",
       "      <th>2020-09-24</th>\n",
       "      <td>85</td>\n",
       "    </tr>\n",
       "    <tr>\n",
       "      <th>2020-09-23</th>\n",
       "      <td>127</td>\n",
       "    </tr>\n",
       "    <tr>\n",
       "      <th>2020-09-22</th>\n",
       "      <td>149</td>\n",
       "    </tr>\n",
       "    <tr>\n",
       "      <th>2020-09-21</th>\n",
       "      <td>185</td>\n",
       "    </tr>\n",
       "  </tbody>\n",
       "</table>\n",
       "</div>"
      ],
      "text/plain": [
       "                    shared_teks_by_generation_date\n",
       "sample_date_string                                \n",
       "2020-09-25                                      10\n",
       "2020-09-24                                      85\n",
       "2020-09-23                                     127\n",
       "2020-09-22                                     149\n",
       "2020-09-21                                     185"
      ]
     },
     "execution_count": 18,
     "metadata": {},
     "output_type": "execute_result"
    }
   ],
   "source": [
    "exposure_keys_summary_df_ = daily_extracted_teks_df \\\n",
    "    .sort_values(\"extraction_date\", ascending=False) \\\n",
    "    .groupby(\"sample_date\").tek_list.first() \\\n",
    "    .to_frame()\n",
    "exposure_keys_summary_df_.index.name = \"sample_date_string\"\n",
    "exposure_keys_summary_df_[\"tek_list\"] = \\\n",
    "    exposure_keys_summary_df_.tek_list.apply(len)\n",
    "exposure_keys_summary_df_ = exposure_keys_summary_df_ \\\n",
    "    .rename(columns={\"tek_list\": \"shared_teks_by_generation_date\"}) \\\n",
    "    .sort_index(ascending=False)\n",
    "exposure_keys_summary_df = exposure_keys_summary_df_\n",
    "exposure_keys_summary_df.head()"
   ]
  },
  {
   "cell_type": "markdown",
   "metadata": {
    "execution": {
     "iopub.execute_input": "2020-08-30T22:30:16.632967Z",
     "iopub.status.busy": "2020-08-30T22:30:16.632308Z",
     "iopub.status.idle": "2020-08-30T22:30:16.634945Z",
     "shell.execute_reply": "2020-08-30T22:30:16.635575Z"
    },
    "papermill": {
     "duration": 0.05675,
     "end_time": "2020-09-25T15:19:24.301384",
     "exception": false,
     "start_time": "2020-09-25T15:19:24.244634",
     "status": "completed"
    },
    "pycharm": {
     "name": "#%% md\n"
    },
    "tags": []
   },
   "source": [
    "### Daily New TEKs"
   ]
  },
  {
   "cell_type": "code",
   "execution_count": 19,
   "metadata": {
    "execution": {
     "iopub.execute_input": "2020-09-25T15:19:24.399320Z",
     "iopub.status.busy": "2020-09-25T15:19:24.398613Z",
     "iopub.status.idle": "2020-09-25T15:19:24.411298Z",
     "shell.execute_reply": "2020-09-25T15:19:24.410811Z"
    },
    "papermill": {
     "duration": 0.065721,
     "end_time": "2020-09-25T15:19:24.411448",
     "exception": false,
     "start_time": "2020-09-25T15:19:24.345727",
     "status": "completed"
    },
    "tags": []
   },
   "outputs": [
    {
     "data": {
      "text/html": [
       "<div>\n",
       "<style scoped>\n",
       "    .dataframe tbody tr th:only-of-type {\n",
       "        vertical-align: middle;\n",
       "    }\n",
       "\n",
       "    .dataframe tbody tr th {\n",
       "        vertical-align: top;\n",
       "    }\n",
       "\n",
       "    .dataframe thead th {\n",
       "        text-align: right;\n",
       "    }\n",
       "</style>\n",
       "<table border=\"1\" class=\"dataframe\">\n",
       "  <thead>\n",
       "    <tr style=\"text-align: right;\">\n",
       "      <th></th>\n",
       "      <th>tek_list</th>\n",
       "    </tr>\n",
       "    <tr>\n",
       "      <th>extraction_date</th>\n",
       "      <th></th>\n",
       "    </tr>\n",
       "  </thead>\n",
       "  <tbody>\n",
       "    <tr>\n",
       "      <th>2020-09-04</th>\n",
       "      <td>{0359519e-6925-fafe-f594-f5467f3249db, 340b015...</td>\n",
       "    </tr>\n",
       "    <tr>\n",
       "      <th>2020-09-05</th>\n",
       "      <td>{0359519e-6925-fafe-f594-f5467f3249db, 340b015...</td>\n",
       "    </tr>\n",
       "    <tr>\n",
       "      <th>2020-09-06</th>\n",
       "      <td>{0359519e-6925-fafe-f594-f5467f3249db, 340b015...</td>\n",
       "    </tr>\n",
       "    <tr>\n",
       "      <th>2020-09-07</th>\n",
       "      <td>{0359519e-6925-fafe-f594-f5467f3249db, 340b015...</td>\n",
       "    </tr>\n",
       "    <tr>\n",
       "      <th>2020-09-08</th>\n",
       "      <td>{0359519e-6925-fafe-f594-f5467f3249db, 340b015...</td>\n",
       "    </tr>\n",
       "  </tbody>\n",
       "</table>\n",
       "</div>"
      ],
      "text/plain": [
       "                                                          tek_list\n",
       "extraction_date                                                   \n",
       "2020-09-04       {0359519e-6925-fafe-f594-f5467f3249db, 340b015...\n",
       "2020-09-05       {0359519e-6925-fafe-f594-f5467f3249db, 340b015...\n",
       "2020-09-06       {0359519e-6925-fafe-f594-f5467f3249db, 340b015...\n",
       "2020-09-07       {0359519e-6925-fafe-f594-f5467f3249db, 340b015...\n",
       "2020-09-08       {0359519e-6925-fafe-f594-f5467f3249db, 340b015..."
      ]
     },
     "execution_count": 19,
     "metadata": {},
     "output_type": "execute_result"
    }
   ],
   "source": [
    "tek_list_df = daily_extracted_teks_df.groupby(\"extraction_date\").tek_list.apply(\n",
    "    lambda x: set(sum(x, []))).reset_index()\n",
    "tek_list_df = tek_list_df.set_index(\"extraction_date\").sort_index(ascending=True)\n",
    "tek_list_df.head()"
   ]
  },
  {
   "cell_type": "code",
   "execution_count": 20,
   "metadata": {
    "execution": {
     "iopub.execute_input": "2020-09-25T15:19:24.507599Z",
     "iopub.status.busy": "2020-09-25T15:19:24.503541Z",
     "iopub.status.idle": "2020-09-25T15:19:24.511129Z",
     "shell.execute_reply": "2020-09-25T15:19:24.510607Z"
    },
    "papermill": {
     "duration": 0.056313,
     "end_time": "2020-09-25T15:19:24.511240",
     "exception": false,
     "start_time": "2020-09-25T15:19:24.454927",
     "status": "completed"
    },
    "tags": []
   },
   "outputs": [
    {
     "data": {
      "text/html": [
       "<div>\n",
       "<style scoped>\n",
       "    .dataframe tbody tr th:only-of-type {\n",
       "        vertical-align: middle;\n",
       "    }\n",
       "\n",
       "    .dataframe tbody tr th {\n",
       "        vertical-align: top;\n",
       "    }\n",
       "\n",
       "    .dataframe thead th {\n",
       "        text-align: right;\n",
       "    }\n",
       "</style>\n",
       "<table border=\"1\" class=\"dataframe\">\n",
       "  <thead>\n",
       "    <tr style=\"text-align: right;\">\n",
       "      <th></th>\n",
       "      <th>sample_date_string</th>\n",
       "      <th>shared_teks_by_upload_date</th>\n",
       "    </tr>\n",
       "  </thead>\n",
       "  <tbody>\n",
       "    <tr>\n",
       "      <th>17</th>\n",
       "      <td>2020-09-21</td>\n",
       "      <td>190.0</td>\n",
       "    </tr>\n",
       "    <tr>\n",
       "      <th>18</th>\n",
       "      <td>2020-09-22</td>\n",
       "      <td>148.0</td>\n",
       "    </tr>\n",
       "    <tr>\n",
       "      <th>19</th>\n",
       "      <td>2020-09-23</td>\n",
       "      <td>267.0</td>\n",
       "    </tr>\n",
       "    <tr>\n",
       "      <th>20</th>\n",
       "      <td>2020-09-24</td>\n",
       "      <td>289.0</td>\n",
       "    </tr>\n",
       "    <tr>\n",
       "      <th>21</th>\n",
       "      <td>2020-09-25</td>\n",
       "      <td>215.0</td>\n",
       "    </tr>\n",
       "  </tbody>\n",
       "</table>\n",
       "</div>"
      ],
      "text/plain": [
       "   sample_date_string  shared_teks_by_upload_date\n",
       "17         2020-09-21                       190.0\n",
       "18         2020-09-22                       148.0\n",
       "19         2020-09-23                       267.0\n",
       "20         2020-09-24                       289.0\n",
       "21         2020-09-25                       215.0"
      ]
     },
     "execution_count": 20,
     "metadata": {},
     "output_type": "execute_result"
    }
   ],
   "source": [
    "new_tek_df = tek_list_df.diff().tek_list.apply(\n",
    "    lambda x: len(x) if not pd.isna(x) else None).to_frame().reset_index()\n",
    "new_tek_df.rename(columns={\n",
    "    \"tek_list\": \"shared_teks_by_upload_date\",\n",
    "    \"extraction_date\": \"sample_date_string\",}, inplace=True)\n",
    "new_tek_df.tail()"
   ]
  },
  {
   "cell_type": "code",
   "execution_count": 21,
   "metadata": {
    "execution": {
     "iopub.execute_input": "2020-09-25T15:19:24.600028Z",
     "iopub.status.busy": "2020-09-25T15:19:24.599366Z",
     "iopub.status.idle": "2020-09-25T15:19:24.617622Z",
     "shell.execute_reply": "2020-09-25T15:19:24.617166Z"
    },
    "papermill": {
     "duration": 0.064674,
     "end_time": "2020-09-25T15:19:24.617725",
     "exception": false,
     "start_time": "2020-09-25T15:19:24.553051",
     "status": "completed"
    },
    "pycharm": {
     "name": "#%%\n"
    },
    "tags": []
   },
   "outputs": [
    {
     "data": {
      "text/html": [
       "<div>\n",
       "<style scoped>\n",
       "    .dataframe tbody tr th:only-of-type {\n",
       "        vertical-align: middle;\n",
       "    }\n",
       "\n",
       "    .dataframe tbody tr th {\n",
       "        vertical-align: top;\n",
       "    }\n",
       "\n",
       "    .dataframe thead th {\n",
       "        text-align: right;\n",
       "    }\n",
       "</style>\n",
       "<table border=\"1\" class=\"dataframe\">\n",
       "  <thead>\n",
       "    <tr style=\"text-align: right;\">\n",
       "      <th></th>\n",
       "      <th>region</th>\n",
       "      <th>sample_date</th>\n",
       "      <th>tek_list</th>\n",
       "      <th>extraction_date</th>\n",
       "      <th>new_sample_extraction_date</th>\n",
       "    </tr>\n",
       "  </thead>\n",
       "  <tbody>\n",
       "    <tr>\n",
       "      <th>0</th>\n",
       "      <td>ES</td>\n",
       "      <td>2020-09-12</td>\n",
       "      <td>[30f2c790-b461-745c-60fb-1e002f4c94aa, 9d4da2c...</td>\n",
       "      <td>2020-09-25</td>\n",
       "      <td>2020-09-13</td>\n",
       "    </tr>\n",
       "    <tr>\n",
       "      <th>1</th>\n",
       "      <td>ES</td>\n",
       "      <td>2020-09-13</td>\n",
       "      <td>[a4b3ef9b-86d2-1fb8-b525-e19eb3f4e068, 8b84121...</td>\n",
       "      <td>2020-09-25</td>\n",
       "      <td>2020-09-14</td>\n",
       "    </tr>\n",
       "    <tr>\n",
       "      <th>2</th>\n",
       "      <td>ES</td>\n",
       "      <td>2020-09-14</td>\n",
       "      <td>[ffc37730-2cba-1530-9f70-355e55fabd8d, e63eb79...</td>\n",
       "      <td>2020-09-25</td>\n",
       "      <td>2020-09-15</td>\n",
       "    </tr>\n",
       "    <tr>\n",
       "      <th>3</th>\n",
       "      <td>ES</td>\n",
       "      <td>2020-09-15</td>\n",
       "      <td>[31634101-bb0f-603e-79f1-818dc71bf69b, 09dda36...</td>\n",
       "      <td>2020-09-25</td>\n",
       "      <td>2020-09-16</td>\n",
       "    </tr>\n",
       "    <tr>\n",
       "      <th>4</th>\n",
       "      <td>ES</td>\n",
       "      <td>2020-09-16</td>\n",
       "      <td>[9c7d05f3-84cd-66fc-3f89-92d7ba290aa5, dd79f09...</td>\n",
       "      <td>2020-09-25</td>\n",
       "      <td>2020-09-17</td>\n",
       "    </tr>\n",
       "  </tbody>\n",
       "</table>\n",
       "</div>"
      ],
      "text/plain": [
       "  region sample_date                                           tek_list  \\\n",
       "0     ES  2020-09-12  [30f2c790-b461-745c-60fb-1e002f4c94aa, 9d4da2c...   \n",
       "1     ES  2020-09-13  [a4b3ef9b-86d2-1fb8-b525-e19eb3f4e068, 8b84121...   \n",
       "2     ES  2020-09-14  [ffc37730-2cba-1530-9f70-355e55fabd8d, e63eb79...   \n",
       "3     ES  2020-09-15  [31634101-bb0f-603e-79f1-818dc71bf69b, 09dda36...   \n",
       "4     ES  2020-09-16  [9c7d05f3-84cd-66fc-3f89-92d7ba290aa5, dd79f09...   \n",
       "\n",
       "  extraction_date new_sample_extraction_date  \n",
       "0      2020-09-25                 2020-09-13  \n",
       "1      2020-09-25                 2020-09-14  \n",
       "2      2020-09-25                 2020-09-15  \n",
       "3      2020-09-25                 2020-09-16  \n",
       "4      2020-09-25                 2020-09-17  "
      ]
     },
     "execution_count": 21,
     "metadata": {},
     "output_type": "execute_result"
    }
   ],
   "source": [
    "estimated_shared_diagnoses_df = daily_extracted_teks_df.copy()\n",
    "estimated_shared_diagnoses_df[\"new_sample_extraction_date\"] = \\\n",
    "    pd.to_datetime(estimated_shared_diagnoses_df.sample_date) + datetime.timedelta(1)\n",
    "estimated_shared_diagnoses_df[\"extraction_date\"] = pd.to_datetime(estimated_shared_diagnoses_df.extraction_date)\n",
    "estimated_shared_diagnoses_df[\"sample_date\"] = pd.to_datetime(estimated_shared_diagnoses_df.sample_date)\n",
    "estimated_shared_diagnoses_df.head()"
   ]
  },
  {
   "cell_type": "code",
   "execution_count": 22,
   "metadata": {
    "collapsed": false,
    "execution": {
     "iopub.execute_input": "2020-09-25T15:19:24.708788Z",
     "iopub.status.busy": "2020-09-25T15:19:24.708216Z",
     "iopub.status.idle": "2020-09-25T15:19:24.723723Z",
     "shell.execute_reply": "2020-09-25T15:19:24.723251Z"
    },
    "papermill": {
     "duration": 0.063351,
     "end_time": "2020-09-25T15:19:24.723839",
     "exception": false,
     "start_time": "2020-09-25T15:19:24.660488",
     "status": "completed"
    },
    "pycharm": {
     "name": "#%%\n"
    },
    "tags": []
   },
   "outputs": [
    {
     "data": {
      "text/html": [
       "<div>\n",
       "<style scoped>\n",
       "    .dataframe tbody tr th:only-of-type {\n",
       "        vertical-align: middle;\n",
       "    }\n",
       "\n",
       "    .dataframe tbody tr th {\n",
       "        vertical-align: top;\n",
       "    }\n",
       "\n",
       "    .dataframe thead th {\n",
       "        text-align: right;\n",
       "    }\n",
       "</style>\n",
       "<table border=\"1\" class=\"dataframe\">\n",
       "  <thead>\n",
       "    <tr style=\"text-align: right;\">\n",
       "      <th></th>\n",
       "      <th>extraction_date</th>\n",
       "      <th>same_day_tek_list</th>\n",
       "    </tr>\n",
       "  </thead>\n",
       "  <tbody>\n",
       "    <tr>\n",
       "      <th>13</th>\n",
       "      <td>2020-09-26</td>\n",
       "      <td>[a4304724-c40b-7824-5f77-9bc42f5b49d4, 936a876...</td>\n",
       "    </tr>\n",
       "    <tr>\n",
       "      <th>13</th>\n",
       "      <td>2020-09-25</td>\n",
       "      <td>[e50b39c0-7a14-64e4-56ca-a1e42190eec8, 4937ac0...</td>\n",
       "    </tr>\n",
       "    <tr>\n",
       "      <th>13</th>\n",
       "      <td>2020-09-24</td>\n",
       "      <td>[6593604c-ae79-fade-9448-9781bbec6553, d527a06...</td>\n",
       "    </tr>\n",
       "    <tr>\n",
       "      <th>13</th>\n",
       "      <td>2020-09-20</td>\n",
       "      <td>[d4787a07-8b0b-58cc-b9e3-a94b0928d497, fc2611d...</td>\n",
       "    </tr>\n",
       "    <tr>\n",
       "      <th>13</th>\n",
       "      <td>2020-09-19</td>\n",
       "      <td>[754bc832-e952-f047-e72d-5297ad25a4a7]</td>\n",
       "    </tr>\n",
       "  </tbody>\n",
       "</table>\n",
       "</div>"
      ],
      "text/plain": [
       "   extraction_date                                  same_day_tek_list\n",
       "13      2020-09-26  [a4304724-c40b-7824-5f77-9bc42f5b49d4, 936a876...\n",
       "13      2020-09-25  [e50b39c0-7a14-64e4-56ca-a1e42190eec8, 4937ac0...\n",
       "13      2020-09-24  [6593604c-ae79-fade-9448-9781bbec6553, d527a06...\n",
       "13      2020-09-20  [d4787a07-8b0b-58cc-b9e3-a94b0928d497, fc2611d...\n",
       "13      2020-09-19             [754bc832-e952-f047-e72d-5297ad25a4a7]"
      ]
     },
     "execution_count": 22,
     "metadata": {},
     "output_type": "execute_result"
    }
   ],
   "source": [
    "# Sometimes TEKs from the same day are uploaded, we do not count them as new TEK devices:\n",
    "same_day_tek_list_df = estimated_shared_diagnoses_df[\n",
    "    estimated_shared_diagnoses_df.sample_date == estimated_shared_diagnoses_df.extraction_date].copy()\n",
    "same_day_tek_list_df = same_day_tek_list_df[[\"extraction_date\", \"tek_list\"]].rename(\n",
    "    columns={\"tek_list\": \"same_day_tek_list\"})\n",
    "same_day_tek_list_df[\"extraction_date\"] = \\\n",
    "    same_day_tek_list_df.extraction_date + datetime.timedelta(1)\n",
    "same_day_tek_list_df.head()"
   ]
  },
  {
   "cell_type": "code",
   "execution_count": 23,
   "metadata": {
    "collapsed": false,
    "execution": {
     "iopub.execute_input": "2020-09-25T15:19:24.826300Z",
     "iopub.status.busy": "2020-09-25T15:19:24.825794Z",
     "iopub.status.idle": "2020-09-25T15:19:24.828424Z",
     "shell.execute_reply": "2020-09-25T15:19:24.828915Z"
    },
    "papermill": {
     "duration": 0.059453,
     "end_time": "2020-09-25T15:19:24.829028",
     "exception": false,
     "start_time": "2020-09-25T15:19:24.769575",
     "status": "completed"
    },
    "pycharm": {
     "name": "#%%\n"
    },
    "tags": []
   },
   "outputs": [
    {
     "data": {
      "text/html": [
       "<div>\n",
       "<style scoped>\n",
       "    .dataframe tbody tr th:only-of-type {\n",
       "        vertical-align: middle;\n",
       "    }\n",
       "\n",
       "    .dataframe tbody tr th {\n",
       "        vertical-align: top;\n",
       "    }\n",
       "\n",
       "    .dataframe thead th {\n",
       "        text-align: right;\n",
       "    }\n",
       "</style>\n",
       "<table border=\"1\" class=\"dataframe\">\n",
       "  <thead>\n",
       "    <tr style=\"text-align: right;\">\n",
       "      <th></th>\n",
       "      <th>region</th>\n",
       "      <th>sample_date</th>\n",
       "      <th>tek_list</th>\n",
       "      <th>extraction_date</th>\n",
       "      <th>new_sample_extraction_date</th>\n",
       "    </tr>\n",
       "  </thead>\n",
       "  <tbody>\n",
       "    <tr>\n",
       "      <th>12</th>\n",
       "      <td>ES</td>\n",
       "      <td>2020-09-24</td>\n",
       "      <td>[b975dbe6-ec17-9328-21df-f41e81d15d81, 4838108...</td>\n",
       "      <td>2020-09-25</td>\n",
       "      <td>2020-09-25</td>\n",
       "    </tr>\n",
       "    <tr>\n",
       "      <th>12</th>\n",
       "      <td>ES</td>\n",
       "      <td>2020-09-23</td>\n",
       "      <td>[a32a59f9-242d-082f-5499-d59cc496b461, 253d5ce...</td>\n",
       "      <td>2020-09-24</td>\n",
       "      <td>2020-09-24</td>\n",
       "    </tr>\n",
       "    <tr>\n",
       "      <th>12</th>\n",
       "      <td>ES</td>\n",
       "      <td>2020-09-22</td>\n",
       "      <td>[2ed4f36e-18ba-0d87-b906-0b3ab4cd3558, d160581...</td>\n",
       "      <td>2020-09-23</td>\n",
       "      <td>2020-09-23</td>\n",
       "    </tr>\n",
       "    <tr>\n",
       "      <th>12</th>\n",
       "      <td>ES</td>\n",
       "      <td>2020-09-21</td>\n",
       "      <td>[35f895cd-d3df-9152-0889-804867c0685a, b5acdeb...</td>\n",
       "      <td>2020-09-22</td>\n",
       "      <td>2020-09-22</td>\n",
       "    </tr>\n",
       "    <tr>\n",
       "      <th>12</th>\n",
       "      <td>ES</td>\n",
       "      <td>2020-09-20</td>\n",
       "      <td>[1f8f1e87-cd12-a94f-7e26-ef4ad246661b, 63d947d...</td>\n",
       "      <td>2020-09-21</td>\n",
       "      <td>2020-09-21</td>\n",
       "    </tr>\n",
       "  </tbody>\n",
       "</table>\n",
       "</div>"
      ],
      "text/plain": [
       "   region sample_date                                           tek_list  \\\n",
       "12     ES  2020-09-24  [b975dbe6-ec17-9328-21df-f41e81d15d81, 4838108...   \n",
       "12     ES  2020-09-23  [a32a59f9-242d-082f-5499-d59cc496b461, 253d5ce...   \n",
       "12     ES  2020-09-22  [2ed4f36e-18ba-0d87-b906-0b3ab4cd3558, d160581...   \n",
       "12     ES  2020-09-21  [35f895cd-d3df-9152-0889-804867c0685a, b5acdeb...   \n",
       "12     ES  2020-09-20  [1f8f1e87-cd12-a94f-7e26-ef4ad246661b, 63d947d...   \n",
       "\n",
       "   extraction_date new_sample_extraction_date  \n",
       "12      2020-09-25                 2020-09-25  \n",
       "12      2020-09-24                 2020-09-24  \n",
       "12      2020-09-23                 2020-09-23  \n",
       "12      2020-09-22                 2020-09-22  \n",
       "12      2020-09-21                 2020-09-21  "
      ]
     },
     "execution_count": 23,
     "metadata": {},
     "output_type": "execute_result"
    }
   ],
   "source": [
    "estimated_shared_diagnoses_df = estimated_shared_diagnoses_df[\n",
    "    estimated_shared_diagnoses_df.new_sample_extraction_date == estimated_shared_diagnoses_df.extraction_date]\n",
    "estimated_shared_diagnoses_df.head()"
   ]
  },
  {
   "cell_type": "code",
   "execution_count": 24,
   "metadata": {
    "collapsed": false,
    "execution": {
     "iopub.execute_input": "2020-09-25T15:19:24.924291Z",
     "iopub.status.busy": "2020-09-25T15:19:24.923556Z",
     "iopub.status.idle": "2020-09-25T15:19:24.938903Z",
     "shell.execute_reply": "2020-09-25T15:19:24.938492Z"
    },
    "papermill": {
     "duration": 0.066515,
     "end_time": "2020-09-25T15:19:24.939041",
     "exception": false,
     "start_time": "2020-09-25T15:19:24.872526",
     "status": "completed"
    },
    "pycharm": {
     "name": "#%%\n"
    },
    "tags": []
   },
   "outputs": [
    {
     "data": {
      "text/html": [
       "<div>\n",
       "<style scoped>\n",
       "    .dataframe tbody tr th:only-of-type {\n",
       "        vertical-align: middle;\n",
       "    }\n",
       "\n",
       "    .dataframe tbody tr th {\n",
       "        vertical-align: top;\n",
       "    }\n",
       "\n",
       "    .dataframe thead th {\n",
       "        text-align: right;\n",
       "    }\n",
       "</style>\n",
       "<table border=\"1\" class=\"dataframe\">\n",
       "  <thead>\n",
       "    <tr style=\"text-align: right;\">\n",
       "      <th></th>\n",
       "      <th>region</th>\n",
       "      <th>sample_date</th>\n",
       "      <th>tek_list</th>\n",
       "      <th>extraction_date</th>\n",
       "      <th>new_sample_extraction_date</th>\n",
       "      <th>same_day_tek_list</th>\n",
       "    </tr>\n",
       "  </thead>\n",
       "  <tbody>\n",
       "    <tr>\n",
       "      <th>0</th>\n",
       "      <td>ES</td>\n",
       "      <td>2020-09-24</td>\n",
       "      <td>[b975dbe6-ec17-9328-21df-f41e81d15d81, 4838108...</td>\n",
       "      <td>2020-09-25</td>\n",
       "      <td>2020-09-25</td>\n",
       "      <td>[e50b39c0-7a14-64e4-56ca-a1e42190eec8, 4937ac0...</td>\n",
       "    </tr>\n",
       "    <tr>\n",
       "      <th>1</th>\n",
       "      <td>ES</td>\n",
       "      <td>2020-09-23</td>\n",
       "      <td>[a32a59f9-242d-082f-5499-d59cc496b461, 253d5ce...</td>\n",
       "      <td>2020-09-24</td>\n",
       "      <td>2020-09-24</td>\n",
       "      <td>[6593604c-ae79-fade-9448-9781bbec6553, d527a06...</td>\n",
       "    </tr>\n",
       "    <tr>\n",
       "      <th>2</th>\n",
       "      <td>ES</td>\n",
       "      <td>2020-09-22</td>\n",
       "      <td>[2ed4f36e-18ba-0d87-b906-0b3ab4cd3558, d160581...</td>\n",
       "      <td>2020-09-23</td>\n",
       "      <td>2020-09-23</td>\n",
       "      <td>[]</td>\n",
       "    </tr>\n",
       "    <tr>\n",
       "      <th>3</th>\n",
       "      <td>ES</td>\n",
       "      <td>2020-09-21</td>\n",
       "      <td>[35f895cd-d3df-9152-0889-804867c0685a, b5acdeb...</td>\n",
       "      <td>2020-09-22</td>\n",
       "      <td>2020-09-22</td>\n",
       "      <td>[]</td>\n",
       "    </tr>\n",
       "    <tr>\n",
       "      <th>4</th>\n",
       "      <td>ES</td>\n",
       "      <td>2020-09-20</td>\n",
       "      <td>[1f8f1e87-cd12-a94f-7e26-ef4ad246661b, 63d947d...</td>\n",
       "      <td>2020-09-21</td>\n",
       "      <td>2020-09-21</td>\n",
       "      <td>[]</td>\n",
       "    </tr>\n",
       "  </tbody>\n",
       "</table>\n",
       "</div>"
      ],
      "text/plain": [
       "  region sample_date                                           tek_list  \\\n",
       "0     ES  2020-09-24  [b975dbe6-ec17-9328-21df-f41e81d15d81, 4838108...   \n",
       "1     ES  2020-09-23  [a32a59f9-242d-082f-5499-d59cc496b461, 253d5ce...   \n",
       "2     ES  2020-09-22  [2ed4f36e-18ba-0d87-b906-0b3ab4cd3558, d160581...   \n",
       "3     ES  2020-09-21  [35f895cd-d3df-9152-0889-804867c0685a, b5acdeb...   \n",
       "4     ES  2020-09-20  [1f8f1e87-cd12-a94f-7e26-ef4ad246661b, 63d947d...   \n",
       "\n",
       "  extraction_date new_sample_extraction_date  \\\n",
       "0      2020-09-25                 2020-09-25   \n",
       "1      2020-09-24                 2020-09-24   \n",
       "2      2020-09-23                 2020-09-23   \n",
       "3      2020-09-22                 2020-09-22   \n",
       "4      2020-09-21                 2020-09-21   \n",
       "\n",
       "                                   same_day_tek_list  \n",
       "0  [e50b39c0-7a14-64e4-56ca-a1e42190eec8, 4937ac0...  \n",
       "1  [6593604c-ae79-fade-9448-9781bbec6553, d527a06...  \n",
       "2                                                 []  \n",
       "3                                                 []  \n",
       "4                                                 []  "
      ]
     },
     "execution_count": 24,
     "metadata": {},
     "output_type": "execute_result"
    }
   ],
   "source": [
    "estimated_shared_diagnoses_df = \\\n",
    "    estimated_shared_diagnoses_df.merge(same_day_tek_list_df, how=\"left\", on=[\"extraction_date\"])\n",
    "estimated_shared_diagnoses_df[\"same_day_tek_list\"] = \\\n",
    "    estimated_shared_diagnoses_df.same_day_tek_list.apply(lambda x: [] if x is np.nan else x)\n",
    "estimated_shared_diagnoses_df.head()"
   ]
  },
  {
   "cell_type": "code",
   "execution_count": 25,
   "metadata": {
    "execution": {
     "iopub.execute_input": "2020-09-25T15:19:25.032738Z",
     "iopub.status.busy": "2020-09-25T15:19:25.032195Z",
     "iopub.status.idle": "2020-09-25T15:19:25.047519Z",
     "shell.execute_reply": "2020-09-25T15:19:25.047920Z"
    },
    "papermill": {
     "duration": 0.065652,
     "end_time": "2020-09-25T15:19:25.048056",
     "exception": false,
     "start_time": "2020-09-25T15:19:24.982404",
     "status": "completed"
    },
    "tags": []
   },
   "outputs": [
    {
     "data": {
      "text/html": [
       "<div>\n",
       "<style scoped>\n",
       "    .dataframe tbody tr th:only-of-type {\n",
       "        vertical-align: middle;\n",
       "    }\n",
       "\n",
       "    .dataframe tbody tr th {\n",
       "        vertical-align: top;\n",
       "    }\n",
       "\n",
       "    .dataframe thead th {\n",
       "        text-align: right;\n",
       "    }\n",
       "</style>\n",
       "<table border=\"1\" class=\"dataframe\">\n",
       "  <thead>\n",
       "    <tr style=\"text-align: right;\">\n",
       "      <th></th>\n",
       "      <th>sample_date_string</th>\n",
       "      <th>shared_diagnoses</th>\n",
       "    </tr>\n",
       "  </thead>\n",
       "  <tbody>\n",
       "    <tr>\n",
       "      <th>0</th>\n",
       "      <td>2020-09-25</td>\n",
       "      <td>68</td>\n",
       "    </tr>\n",
       "    <tr>\n",
       "      <th>1</th>\n",
       "      <td>2020-09-24</td>\n",
       "      <td>89</td>\n",
       "    </tr>\n",
       "    <tr>\n",
       "      <th>2</th>\n",
       "      <td>2020-09-23</td>\n",
       "      <td>70</td>\n",
       "    </tr>\n",
       "    <tr>\n",
       "      <th>3</th>\n",
       "      <td>2020-09-22</td>\n",
       "      <td>55</td>\n",
       "    </tr>\n",
       "    <tr>\n",
       "      <th>4</th>\n",
       "      <td>2020-09-21</td>\n",
       "      <td>45</td>\n",
       "    </tr>\n",
       "  </tbody>\n",
       "</table>\n",
       "</div>"
      ],
      "text/plain": [
       "  sample_date_string  shared_diagnoses\n",
       "0         2020-09-25                68\n",
       "1         2020-09-24                89\n",
       "2         2020-09-23                70\n",
       "3         2020-09-22                55\n",
       "4         2020-09-21                45"
      ]
     },
     "execution_count": 25,
     "metadata": {},
     "output_type": "execute_result"
    }
   ],
   "source": [
    "estimated_shared_diagnoses_df.set_index(\"extraction_date\", inplace=True)\n",
    "estimated_shared_diagnoses_df[\"shared_diagnoses\"] = estimated_shared_diagnoses_df.apply(\n",
    "    lambda x: len(set(x.tek_list).difference(x.same_day_tek_list)), axis=1).copy()\n",
    "estimated_shared_diagnoses_df.reset_index(inplace=True)\n",
    "estimated_shared_diagnoses_df.rename(columns={\n",
    "    \"extraction_date\": \"sample_date_string\"}, inplace=True)\n",
    "estimated_shared_diagnoses_df = estimated_shared_diagnoses_df[[\"sample_date_string\", \"shared_diagnoses\"]]\n",
    "estimated_shared_diagnoses_df[\"sample_date_string\"] = estimated_shared_diagnoses_df.sample_date_string.dt.strftime(\"%Y-%m-%d\")\n",
    "estimated_shared_diagnoses_df.head()"
   ]
  },
  {
   "cell_type": "markdown",
   "metadata": {
    "papermill": {
     "duration": 0.045032,
     "end_time": "2020-09-25T15:19:25.140045",
     "exception": false,
     "start_time": "2020-09-25T15:19:25.095013",
     "status": "completed"
    },
    "pycharm": {
     "name": "#%% md\n"
    },
    "tags": []
   },
   "source": [
    "### Hourly New TEKs"
   ]
  },
  {
   "cell_type": "code",
   "execution_count": 26,
   "metadata": {
    "execution": {
     "iopub.execute_input": "2020-09-25T15:19:25.241678Z",
     "iopub.status.busy": "2020-09-25T15:19:25.240944Z",
     "iopub.status.idle": "2020-09-25T15:19:25.408639Z",
     "shell.execute_reply": "2020-09-25T15:19:25.407986Z"
    },
    "papermill": {
     "duration": 0.222022,
     "end_time": "2020-09-25T15:19:25.408753",
     "exception": false,
     "start_time": "2020-09-25T15:19:25.186731",
     "status": "completed"
    },
    "pycharm": {
     "name": "#%%\n"
    },
    "tags": []
   },
   "outputs": [
    {
     "data": {
      "text/html": [
       "<div>\n",
       "<style scoped>\n",
       "    .dataframe tbody tr th:only-of-type {\n",
       "        vertical-align: middle;\n",
       "    }\n",
       "\n",
       "    .dataframe tbody tr th {\n",
       "        vertical-align: top;\n",
       "    }\n",
       "\n",
       "    .dataframe thead th {\n",
       "        text-align: right;\n",
       "    }\n",
       "</style>\n",
       "<table border=\"1\" class=\"dataframe\">\n",
       "  <thead>\n",
       "    <tr style=\"text-align: right;\">\n",
       "      <th></th>\n",
       "      <th>extraction_date_with_hour</th>\n",
       "      <th>shared_teks_by_upload_date</th>\n",
       "    </tr>\n",
       "  </thead>\n",
       "  <tbody>\n",
       "    <tr>\n",
       "      <th>20</th>\n",
       "      <td>2020-09-25@11</td>\n",
       "      <td>0.0</td>\n",
       "    </tr>\n",
       "    <tr>\n",
       "      <th>21</th>\n",
       "      <td>2020-09-25@12</td>\n",
       "      <td>58.0</td>\n",
       "    </tr>\n",
       "    <tr>\n",
       "      <th>22</th>\n",
       "      <td>2020-09-25@13</td>\n",
       "      <td>0.0</td>\n",
       "    </tr>\n",
       "    <tr>\n",
       "      <th>23</th>\n",
       "      <td>2020-09-25@14</td>\n",
       "      <td>33.0</td>\n",
       "    </tr>\n",
       "    <tr>\n",
       "      <th>24</th>\n",
       "      <td>2020-09-25@15</td>\n",
       "      <td>0.0</td>\n",
       "    </tr>\n",
       "  </tbody>\n",
       "</table>\n",
       "</div>"
      ],
      "text/plain": [
       "   extraction_date_with_hour  shared_teks_by_upload_date\n",
       "20             2020-09-25@11                         0.0\n",
       "21             2020-09-25@12                        58.0\n",
       "22             2020-09-25@13                         0.0\n",
       "23             2020-09-25@14                        33.0\n",
       "24             2020-09-25@15                         0.0"
      ]
     },
     "execution_count": 26,
     "metadata": {},
     "output_type": "execute_result"
    }
   ],
   "source": [
    "hourly_extracted_teks_df = load_extracted_teks(\n",
    "    mode=\"Hourly\", region=spain_region_country_code, limit=25)\n",
    "hourly_extracted_teks_df.head()\n",
    "\n",
    "hourly_tek_list_df = hourly_extracted_teks_df.groupby(\"extraction_date_with_hour\").tek_list.apply(\n",
    "    lambda x: set(sum(x, []))).reset_index()\n",
    "hourly_tek_list_df = hourly_tek_list_df.set_index(\"extraction_date_with_hour\").sort_index(ascending=True)\n",
    "\n",
    "hourly_new_tek_df = hourly_tek_list_df.diff().tek_list.apply(\n",
    "    lambda x: len(x) if not pd.isna(x) else None).to_frame().reset_index()\n",
    "hourly_new_tek_df.rename(columns={\n",
    "    \"tek_list\": \"shared_teks_by_upload_date\"}, inplace=True)\n",
    "hourly_new_tek_df.tail()"
   ]
  },
  {
   "cell_type": "code",
   "execution_count": 27,
   "metadata": {
    "execution": {
     "iopub.execute_input": "2020-09-25T15:19:25.506198Z",
     "iopub.status.busy": "2020-09-25T15:19:25.505613Z",
     "iopub.status.idle": "2020-09-25T15:19:25.528900Z",
     "shell.execute_reply": "2020-09-25T15:19:25.528444Z"
    },
    "papermill": {
     "duration": 0.073426,
     "end_time": "2020-09-25T15:19:25.528999",
     "exception": false,
     "start_time": "2020-09-25T15:19:25.455573",
     "status": "completed"
    },
    "pycharm": {
     "name": "#%%\n"
    },
    "tags": []
   },
   "outputs": [
    {
     "data": {
      "text/html": [
       "<div>\n",
       "<style scoped>\n",
       "    .dataframe tbody tr th:only-of-type {\n",
       "        vertical-align: middle;\n",
       "    }\n",
       "\n",
       "    .dataframe tbody tr th {\n",
       "        vertical-align: top;\n",
       "    }\n",
       "\n",
       "    .dataframe thead th {\n",
       "        text-align: right;\n",
       "    }\n",
       "</style>\n",
       "<table border=\"1\" class=\"dataframe\">\n",
       "  <thead>\n",
       "    <tr style=\"text-align: right;\">\n",
       "      <th></th>\n",
       "      <th>extraction_date_with_hour</th>\n",
       "      <th>shared_diagnoses</th>\n",
       "    </tr>\n",
       "  </thead>\n",
       "  <tbody>\n",
       "    <tr>\n",
       "      <th>20</th>\n",
       "      <td>2020-09-25@11</td>\n",
       "      <td>0.0</td>\n",
       "    </tr>\n",
       "    <tr>\n",
       "      <th>21</th>\n",
       "      <td>2020-09-25@12</td>\n",
       "      <td>12.0</td>\n",
       "    </tr>\n",
       "    <tr>\n",
       "      <th>22</th>\n",
       "      <td>2020-09-25@13</td>\n",
       "      <td>0.0</td>\n",
       "    </tr>\n",
       "    <tr>\n",
       "      <th>23</th>\n",
       "      <td>2020-09-25@14</td>\n",
       "      <td>6.0</td>\n",
       "    </tr>\n",
       "    <tr>\n",
       "      <th>24</th>\n",
       "      <td>2020-09-25@15</td>\n",
       "      <td>0.0</td>\n",
       "    </tr>\n",
       "  </tbody>\n",
       "</table>\n",
       "</div>"
      ],
      "text/plain": [
       "   extraction_date_with_hour  shared_diagnoses\n",
       "20             2020-09-25@11               0.0\n",
       "21             2020-09-25@12              12.0\n",
       "22             2020-09-25@13               0.0\n",
       "23             2020-09-25@14               6.0\n",
       "24             2020-09-25@15               0.0"
      ]
     },
     "execution_count": 27,
     "metadata": {},
     "output_type": "execute_result"
    }
   ],
   "source": [
    "hourly_new_tek_devices_df = hourly_extracted_teks_df.copy()\n",
    "hourly_new_tek_devices_df[\"new_sample_extraction_date\"] = \\\n",
    "    pd.to_datetime(hourly_new_tek_devices_df.sample_date) + datetime.timedelta(1)\n",
    "hourly_new_tek_devices_df[\"extraction_date\"] = pd.to_datetime(hourly_new_tek_devices_df.extraction_date)\n",
    "\n",
    "hourly_new_tek_devices_df = hourly_new_tek_devices_df[\n",
    "    hourly_new_tek_devices_df.new_sample_extraction_date == hourly_new_tek_devices_df.extraction_date]\n",
    "\n",
    "hourly_new_tek_devices_df.set_index(\"extraction_date_with_hour\", inplace=True)\n",
    "hourly_new_tek_devices_df_ = pd.DataFrame()\n",
    "\n",
    "for i, chunk_df in hourly_new_tek_devices_df.groupby(\"extraction_date\"):\n",
    "    chunk_df = chunk_df.copy()\n",
    "    chunk_df.sort_index(inplace=True)\n",
    "    chunk_tek_count_df = chunk_df.tek_list.apply(lambda x: len(set(x)))\n",
    "    chunk_df = chunk_tek_count_df.diff().fillna(chunk_tek_count_df).to_frame()\n",
    "    hourly_new_tek_devices_df_ = hourly_new_tek_devices_df_.append(chunk_df)\n",
    "    \n",
    "hourly_new_tek_devices_df = hourly_new_tek_devices_df_\n",
    "hourly_new_tek_devices_df.reset_index(inplace=True)\n",
    "hourly_new_tek_devices_df.rename(columns={\n",
    "    \"tek_list\": \"shared_diagnoses\"}, inplace=True)\n",
    "hourly_new_tek_devices_df.tail()"
   ]
  },
  {
   "cell_type": "code",
   "execution_count": 28,
   "metadata": {
    "execution": {
     "iopub.execute_input": "2020-09-25T15:19:25.638640Z",
     "iopub.status.busy": "2020-09-25T15:19:25.637983Z",
     "iopub.status.idle": "2020-09-25T15:19:25.641746Z",
     "shell.execute_reply": "2020-09-25T15:19:25.641279Z"
    },
    "papermill": {
     "duration": 0.063846,
     "end_time": "2020-09-25T15:19:25.641860",
     "exception": false,
     "start_time": "2020-09-25T15:19:25.578014",
     "status": "completed"
    },
    "tags": []
   },
   "outputs": [
    {
     "data": {
      "text/html": [
       "<div>\n",
       "<style scoped>\n",
       "    .dataframe tbody tr th:only-of-type {\n",
       "        vertical-align: middle;\n",
       "    }\n",
       "\n",
       "    .dataframe tbody tr th {\n",
       "        vertical-align: top;\n",
       "    }\n",
       "\n",
       "    .dataframe thead th {\n",
       "        text-align: right;\n",
       "    }\n",
       "</style>\n",
       "<table border=\"1\" class=\"dataframe\">\n",
       "  <thead>\n",
       "    <tr style=\"text-align: right;\">\n",
       "      <th></th>\n",
       "      <th>extraction_date_with_hour</th>\n",
       "      <th>shared_teks_by_upload_date</th>\n",
       "      <th>shared_diagnoses</th>\n",
       "    </tr>\n",
       "    <tr>\n",
       "      <th>datetime_utc</th>\n",
       "      <th></th>\n",
       "      <th></th>\n",
       "      <th></th>\n",
       "    </tr>\n",
       "  </thead>\n",
       "  <tbody>\n",
       "    <tr>\n",
       "      <th>2020-09-25 11:00:00</th>\n",
       "      <td>2020-09-25@11</td>\n",
       "      <td>0.0</td>\n",
       "      <td>0.0</td>\n",
       "    </tr>\n",
       "    <tr>\n",
       "      <th>2020-09-25 12:00:00</th>\n",
       "      <td>2020-09-25@12</td>\n",
       "      <td>58.0</td>\n",
       "      <td>12.0</td>\n",
       "    </tr>\n",
       "    <tr>\n",
       "      <th>2020-09-25 13:00:00</th>\n",
       "      <td>2020-09-25@13</td>\n",
       "      <td>0.0</td>\n",
       "      <td>0.0</td>\n",
       "    </tr>\n",
       "    <tr>\n",
       "      <th>2020-09-25 14:00:00</th>\n",
       "      <td>2020-09-25@14</td>\n",
       "      <td>33.0</td>\n",
       "      <td>6.0</td>\n",
       "    </tr>\n",
       "    <tr>\n",
       "      <th>2020-09-25 15:00:00</th>\n",
       "      <td>2020-09-25@15</td>\n",
       "      <td>0.0</td>\n",
       "      <td>0.0</td>\n",
       "    </tr>\n",
       "  </tbody>\n",
       "</table>\n",
       "</div>"
      ],
      "text/plain": [
       "                    extraction_date_with_hour  shared_teks_by_upload_date  \\\n",
       "datetime_utc                                                                \n",
       "2020-09-25 11:00:00             2020-09-25@11                         0.0   \n",
       "2020-09-25 12:00:00             2020-09-25@12                        58.0   \n",
       "2020-09-25 13:00:00             2020-09-25@13                         0.0   \n",
       "2020-09-25 14:00:00             2020-09-25@14                        33.0   \n",
       "2020-09-25 15:00:00             2020-09-25@15                         0.0   \n",
       "\n",
       "                     shared_diagnoses  \n",
       "datetime_utc                           \n",
       "2020-09-25 11:00:00               0.0  \n",
       "2020-09-25 12:00:00              12.0  \n",
       "2020-09-25 13:00:00               0.0  \n",
       "2020-09-25 14:00:00               6.0  \n",
       "2020-09-25 15:00:00               0.0  "
      ]
     },
     "execution_count": 28,
     "metadata": {},
     "output_type": "execute_result"
    }
   ],
   "source": [
    "hourly_summary_df = hourly_new_tek_df.merge(\n",
    "    hourly_new_tek_devices_df, on=[\"extraction_date_with_hour\"], how=\"outer\")\n",
    "hourly_summary_df[\"datetime_utc\"] = pd.to_datetime(\n",
    "    hourly_summary_df.extraction_date_with_hour, format=\"%Y-%m-%d@%H\")\n",
    "hourly_summary_df.set_index(\"datetime_utc\", inplace=True)\n",
    "hourly_summary_df = hourly_summary_df.tail(-1)\n",
    "hourly_summary_df.tail()"
   ]
  },
  {
   "cell_type": "markdown",
   "metadata": {
    "execution": {
     "iopub.execute_input": "2020-08-30T22:30:16.982353Z",
     "iopub.status.busy": "2020-08-30T22:30:16.981676Z",
     "iopub.status.idle": "2020-08-30T22:30:16.984837Z",
     "shell.execute_reply": "2020-08-30T22:30:16.985366Z"
    },
    "papermill": {
     "duration": 0.048714,
     "end_time": "2020-09-25T15:19:25.734939",
     "exception": false,
     "start_time": "2020-09-25T15:19:25.686225",
     "status": "completed"
    },
    "pycharm": {
     "name": "#%% md\n"
    },
    "tags": []
   },
   "source": [
    "### Data Merge"
   ]
  },
  {
   "cell_type": "code",
   "execution_count": 29,
   "metadata": {
    "execution": {
     "iopub.execute_input": "2020-09-25T15:19:25.840512Z",
     "iopub.status.busy": "2020-09-25T15:19:25.834525Z",
     "iopub.status.idle": "2020-09-25T15:19:25.843610Z",
     "shell.execute_reply": "2020-09-25T15:19:25.843999Z"
    },
    "papermill": {
     "duration": 0.06146,
     "end_time": "2020-09-25T15:19:25.844116",
     "exception": false,
     "start_time": "2020-09-25T15:19:25.782656",
     "status": "completed"
    },
    "pycharm": {
     "name": "#%%\n"
    },
    "tags": []
   },
   "outputs": [
    {
     "data": {
      "text/html": [
       "<div>\n",
       "<style scoped>\n",
       "    .dataframe tbody tr th:only-of-type {\n",
       "        vertical-align: middle;\n",
       "    }\n",
       "\n",
       "    .dataframe tbody tr th {\n",
       "        vertical-align: top;\n",
       "    }\n",
       "\n",
       "    .dataframe thead th {\n",
       "        text-align: right;\n",
       "    }\n",
       "</style>\n",
       "<table border=\"1\" class=\"dataframe\">\n",
       "  <thead>\n",
       "    <tr style=\"text-align: right;\">\n",
       "      <th></th>\n",
       "      <th>sample_date_string</th>\n",
       "      <th>shared_teks_by_generation_date</th>\n",
       "      <th>shared_teks_by_upload_date</th>\n",
       "    </tr>\n",
       "  </thead>\n",
       "  <tbody>\n",
       "    <tr>\n",
       "      <th>0</th>\n",
       "      <td>2020-09-25</td>\n",
       "      <td>10</td>\n",
       "      <td>215.0</td>\n",
       "    </tr>\n",
       "    <tr>\n",
       "      <th>1</th>\n",
       "      <td>2020-09-24</td>\n",
       "      <td>85</td>\n",
       "      <td>289.0</td>\n",
       "    </tr>\n",
       "    <tr>\n",
       "      <th>2</th>\n",
       "      <td>2020-09-23</td>\n",
       "      <td>127</td>\n",
       "      <td>267.0</td>\n",
       "    </tr>\n",
       "    <tr>\n",
       "      <th>3</th>\n",
       "      <td>2020-09-22</td>\n",
       "      <td>149</td>\n",
       "      <td>148.0</td>\n",
       "    </tr>\n",
       "    <tr>\n",
       "      <th>4</th>\n",
       "      <td>2020-09-21</td>\n",
       "      <td>185</td>\n",
       "      <td>190.0</td>\n",
       "    </tr>\n",
       "  </tbody>\n",
       "</table>\n",
       "</div>"
      ],
      "text/plain": [
       "  sample_date_string  shared_teks_by_generation_date  \\\n",
       "0         2020-09-25                              10   \n",
       "1         2020-09-24                              85   \n",
       "2         2020-09-23                             127   \n",
       "3         2020-09-22                             149   \n",
       "4         2020-09-21                             185   \n",
       "\n",
       "   shared_teks_by_upload_date  \n",
       "0                       215.0  \n",
       "1                       289.0  \n",
       "2                       267.0  \n",
       "3                       148.0  \n",
       "4                       190.0  "
      ]
     },
     "execution_count": 29,
     "metadata": {},
     "output_type": "execute_result"
    }
   ],
   "source": [
    "result_summary_df = exposure_keys_summary_df.merge(\n",
    "    new_tek_df, on=[\"sample_date_string\"], how=\"outer\")\n",
    "result_summary_df.head()"
   ]
  },
  {
   "cell_type": "code",
   "execution_count": 30,
   "metadata": {
    "execution": {
     "iopub.execute_input": "2020-09-25T15:19:25.940027Z",
     "iopub.status.busy": "2020-09-25T15:19:25.939441Z",
     "iopub.status.idle": "2020-09-25T15:19:25.951696Z",
     "shell.execute_reply": "2020-09-25T15:19:25.951140Z"
    },
    "papermill": {
     "duration": 0.062276,
     "end_time": "2020-09-25T15:19:25.951834",
     "exception": false,
     "start_time": "2020-09-25T15:19:25.889558",
     "status": "completed"
    },
    "tags": []
   },
   "outputs": [
    {
     "data": {
      "text/html": [
       "<div>\n",
       "<style scoped>\n",
       "    .dataframe tbody tr th:only-of-type {\n",
       "        vertical-align: middle;\n",
       "    }\n",
       "\n",
       "    .dataframe tbody tr th {\n",
       "        vertical-align: top;\n",
       "    }\n",
       "\n",
       "    .dataframe thead th {\n",
       "        text-align: right;\n",
       "    }\n",
       "</style>\n",
       "<table border=\"1\" class=\"dataframe\">\n",
       "  <thead>\n",
       "    <tr style=\"text-align: right;\">\n",
       "      <th></th>\n",
       "      <th>sample_date_string</th>\n",
       "      <th>shared_teks_by_generation_date</th>\n",
       "      <th>shared_teks_by_upload_date</th>\n",
       "      <th>shared_diagnoses</th>\n",
       "    </tr>\n",
       "  </thead>\n",
       "  <tbody>\n",
       "    <tr>\n",
       "      <th>0</th>\n",
       "      <td>2020-09-25</td>\n",
       "      <td>10</td>\n",
       "      <td>215.0</td>\n",
       "      <td>68.0</td>\n",
       "    </tr>\n",
       "    <tr>\n",
       "      <th>1</th>\n",
       "      <td>2020-09-24</td>\n",
       "      <td>85</td>\n",
       "      <td>289.0</td>\n",
       "      <td>89.0</td>\n",
       "    </tr>\n",
       "    <tr>\n",
       "      <th>2</th>\n",
       "      <td>2020-09-23</td>\n",
       "      <td>127</td>\n",
       "      <td>267.0</td>\n",
       "      <td>70.0</td>\n",
       "    </tr>\n",
       "    <tr>\n",
       "      <th>3</th>\n",
       "      <td>2020-09-22</td>\n",
       "      <td>149</td>\n",
       "      <td>148.0</td>\n",
       "      <td>55.0</td>\n",
       "    </tr>\n",
       "    <tr>\n",
       "      <th>4</th>\n",
       "      <td>2020-09-21</td>\n",
       "      <td>185</td>\n",
       "      <td>190.0</td>\n",
       "      <td>45.0</td>\n",
       "    </tr>\n",
       "  </tbody>\n",
       "</table>\n",
       "</div>"
      ],
      "text/plain": [
       "  sample_date_string  shared_teks_by_generation_date  \\\n",
       "0         2020-09-25                              10   \n",
       "1         2020-09-24                              85   \n",
       "2         2020-09-23                             127   \n",
       "3         2020-09-22                             149   \n",
       "4         2020-09-21                             185   \n",
       "\n",
       "   shared_teks_by_upload_date  shared_diagnoses  \n",
       "0                       215.0              68.0  \n",
       "1                       289.0              89.0  \n",
       "2                       267.0              70.0  \n",
       "3                       148.0              55.0  \n",
       "4                       190.0              45.0  "
      ]
     },
     "execution_count": 30,
     "metadata": {},
     "output_type": "execute_result"
    }
   ],
   "source": [
    "result_summary_df = result_summary_df.merge(\n",
    "    estimated_shared_diagnoses_df, on=[\"sample_date_string\"], how=\"outer\")\n",
    "result_summary_df.head()"
   ]
  },
  {
   "cell_type": "code",
   "execution_count": 31,
   "metadata": {
    "execution": {
     "iopub.execute_input": "2020-09-25T15:19:26.062980Z",
     "iopub.status.busy": "2020-09-25T15:19:26.062417Z",
     "iopub.status.idle": "2020-09-25T15:19:26.065647Z",
     "shell.execute_reply": "2020-09-25T15:19:26.065241Z"
    },
    "papermill": {
     "duration": 0.066642,
     "end_time": "2020-09-25T15:19:26.065803",
     "exception": false,
     "start_time": "2020-09-25T15:19:25.999161",
     "status": "completed"
    },
    "pycharm": {
     "name": "#%%\n"
    },
    "tags": []
   },
   "outputs": [
    {
     "data": {
      "text/html": [
       "<div>\n",
       "<style scoped>\n",
       "    .dataframe tbody tr th:only-of-type {\n",
       "        vertical-align: middle;\n",
       "    }\n",
       "\n",
       "    .dataframe tbody tr th {\n",
       "        vertical-align: top;\n",
       "    }\n",
       "\n",
       "    .dataframe thead th {\n",
       "        text-align: right;\n",
       "    }\n",
       "</style>\n",
       "<table border=\"1\" class=\"dataframe\">\n",
       "  <thead>\n",
       "    <tr style=\"text-align: right;\">\n",
       "      <th></th>\n",
       "      <th>sample_date_string</th>\n",
       "      <th>cumulative_cases</th>\n",
       "      <th>new_cases</th>\n",
       "      <th>covid_cases</th>\n",
       "      <th>shared_teks_by_generation_date</th>\n",
       "      <th>shared_teks_by_upload_date</th>\n",
       "      <th>shared_diagnoses</th>\n",
       "    </tr>\n",
       "  </thead>\n",
       "  <tbody>\n",
       "    <tr>\n",
       "      <th>0</th>\n",
       "      <td>2020-09-05</td>\n",
       "      <td>498989.0</td>\n",
       "      <td>0.0</td>\n",
       "      <td>8529</td>\n",
       "      <td>56</td>\n",
       "      <td>40.0</td>\n",
       "      <td>17.0</td>\n",
       "    </tr>\n",
       "    <tr>\n",
       "      <th>1</th>\n",
       "      <td>2020-09-06</td>\n",
       "      <td>498989.0</td>\n",
       "      <td>0.0</td>\n",
       "      <td>8529</td>\n",
       "      <td>54</td>\n",
       "      <td>60.0</td>\n",
       "      <td>24.0</td>\n",
       "    </tr>\n",
       "    <tr>\n",
       "      <th>2</th>\n",
       "      <td>2020-09-07</td>\n",
       "      <td>525549.0</td>\n",
       "      <td>26560.0</td>\n",
       "      <td>8956</td>\n",
       "      <td>58</td>\n",
       "      <td>52.0</td>\n",
       "      <td>22.0</td>\n",
       "    </tr>\n",
       "    <tr>\n",
       "      <th>3</th>\n",
       "      <td>2020-09-08</td>\n",
       "      <td>534513.0</td>\n",
       "      <td>8964.0</td>\n",
       "      <td>9077</td>\n",
       "      <td>61</td>\n",
       "      <td>44.0</td>\n",
       "      <td>18.0</td>\n",
       "    </tr>\n",
       "    <tr>\n",
       "      <th>4</th>\n",
       "      <td>2020-09-09</td>\n",
       "      <td>543379.0</td>\n",
       "      <td>8866.0</td>\n",
       "      <td>9118</td>\n",
       "      <td>60</td>\n",
       "      <td>67.0</td>\n",
       "      <td>21.0</td>\n",
       "    </tr>\n",
       "  </tbody>\n",
       "</table>\n",
       "</div>"
      ],
      "text/plain": [
       "  sample_date_string  cumulative_cases  new_cases  covid_cases  \\\n",
       "0         2020-09-05          498989.0        0.0         8529   \n",
       "1         2020-09-06          498989.0        0.0         8529   \n",
       "2         2020-09-07          525549.0    26560.0         8956   \n",
       "3         2020-09-08          534513.0     8964.0         9077   \n",
       "4         2020-09-09          543379.0     8866.0         9118   \n",
       "\n",
       "   shared_teks_by_generation_date  shared_teks_by_upload_date  \\\n",
       "0                              56                        40.0   \n",
       "1                              54                        60.0   \n",
       "2                              58                        52.0   \n",
       "3                              61                        44.0   \n",
       "4                              60                        67.0   \n",
       "\n",
       "   shared_diagnoses  \n",
       "0              17.0  \n",
       "1              24.0  \n",
       "2              22.0  \n",
       "3              18.0  \n",
       "4              21.0  "
      ]
     },
     "execution_count": 31,
     "metadata": {},
     "output_type": "execute_result"
    }
   ],
   "source": [
    "result_summary_df = confirmed_df.tail(daily_summary_days).merge(\n",
    "    result_summary_df, on=[\"sample_date_string\"], how=\"left\")\n",
    "result_summary_df.head()"
   ]
  },
  {
   "cell_type": "code",
   "execution_count": 32,
   "metadata": {
    "collapsed": false,
    "execution": {
     "iopub.execute_input": "2020-09-25T15:19:26.198300Z",
     "iopub.status.busy": "2020-09-25T15:19:26.197716Z",
     "iopub.status.idle": "2020-09-25T15:19:26.202620Z",
     "shell.execute_reply": "2020-09-25T15:19:26.202090Z"
    },
    "papermill": {
     "duration": 0.089434,
     "end_time": "2020-09-25T15:19:26.202750",
     "exception": false,
     "start_time": "2020-09-25T15:19:26.113316",
     "status": "completed"
    },
    "pycharm": {
     "name": "#%%\n"
    },
    "tags": []
   },
   "outputs": [
    {
     "data": {
      "text/html": [
       "<div>\n",
       "<style scoped>\n",
       "    .dataframe tbody tr th:only-of-type {\n",
       "        vertical-align: middle;\n",
       "    }\n",
       "\n",
       "    .dataframe tbody tr th {\n",
       "        vertical-align: top;\n",
       "    }\n",
       "\n",
       "    .dataframe thead th {\n",
       "        text-align: right;\n",
       "    }\n",
       "</style>\n",
       "<table border=\"1\" class=\"dataframe\">\n",
       "  <thead>\n",
       "    <tr style=\"text-align: right;\">\n",
       "      <th></th>\n",
       "      <th>cumulative_cases</th>\n",
       "      <th>new_cases</th>\n",
       "      <th>covid_cases</th>\n",
       "      <th>shared_teks_by_generation_date</th>\n",
       "      <th>shared_teks_by_upload_date</th>\n",
       "      <th>shared_diagnoses</th>\n",
       "    </tr>\n",
       "    <tr>\n",
       "      <th>sample_date</th>\n",
       "      <th></th>\n",
       "      <th></th>\n",
       "      <th></th>\n",
       "      <th></th>\n",
       "      <th></th>\n",
       "      <th></th>\n",
       "    </tr>\n",
       "  </thead>\n",
       "  <tbody>\n",
       "    <tr>\n",
       "      <th>2020-09-25</th>\n",
       "      <td>715432.0</td>\n",
       "      <td>11223.0</td>\n",
       "      <td>11223</td>\n",
       "      <td>10</td>\n",
       "      <td>215.0</td>\n",
       "      <td>68.0</td>\n",
       "    </tr>\n",
       "    <tr>\n",
       "      <th>2020-09-24</th>\n",
       "      <td>704209.0</td>\n",
       "      <td>10653.0</td>\n",
       "      <td>11223</td>\n",
       "      <td>85</td>\n",
       "      <td>289.0</td>\n",
       "      <td>89.0</td>\n",
       "    </tr>\n",
       "    <tr>\n",
       "      <th>2020-09-23</th>\n",
       "      <td>693556.0</td>\n",
       "      <td>11289.0</td>\n",
       "      <td>11314</td>\n",
       "      <td>127</td>\n",
       "      <td>267.0</td>\n",
       "      <td>70.0</td>\n",
       "    </tr>\n",
       "    <tr>\n",
       "      <th>2020-09-22</th>\n",
       "      <td>682267.0</td>\n",
       "      <td>10799.0</td>\n",
       "      <td>11300</td>\n",
       "      <td>149</td>\n",
       "      <td>148.0</td>\n",
       "      <td>55.0</td>\n",
       "    </tr>\n",
       "    <tr>\n",
       "      <th>2020-09-21</th>\n",
       "      <td>671468.0</td>\n",
       "      <td>31428.0</td>\n",
       "      <td>11105</td>\n",
       "      <td>185</td>\n",
       "      <td>190.0</td>\n",
       "      <td>45.0</td>\n",
       "    </tr>\n",
       "  </tbody>\n",
       "</table>\n",
       "</div>"
      ],
      "text/plain": [
       "             cumulative_cases  new_cases  covid_cases  \\\n",
       "sample_date                                             \n",
       "2020-09-25           715432.0    11223.0        11223   \n",
       "2020-09-24           704209.0    10653.0        11223   \n",
       "2020-09-23           693556.0    11289.0        11314   \n",
       "2020-09-22           682267.0    10799.0        11300   \n",
       "2020-09-21           671468.0    31428.0        11105   \n",
       "\n",
       "             shared_teks_by_generation_date  shared_teks_by_upload_date  \\\n",
       "sample_date                                                               \n",
       "2020-09-25                               10                       215.0   \n",
       "2020-09-24                               85                       289.0   \n",
       "2020-09-23                              127                       267.0   \n",
       "2020-09-22                              149                       148.0   \n",
       "2020-09-21                              185                       190.0   \n",
       "\n",
       "             shared_diagnoses  \n",
       "sample_date                    \n",
       "2020-09-25               68.0  \n",
       "2020-09-24               89.0  \n",
       "2020-09-23               70.0  \n",
       "2020-09-22               55.0  \n",
       "2020-09-21               45.0  "
      ]
     },
     "execution_count": 32,
     "metadata": {},
     "output_type": "execute_result"
    }
   ],
   "source": [
    "result_summary_df[\"sample_date\"] = pd.to_datetime(result_summary_df.sample_date_string)\n",
    "result_summary_df.set_index(\"sample_date\", inplace=True)\n",
    "result_summary_df.drop(columns=[\"sample_date_string\"], inplace=True)\n",
    "result_summary_df.sort_index(ascending=False, inplace=True)\n",
    "result_summary_df.head()"
   ]
  },
  {
   "cell_type": "code",
   "execution_count": 33,
   "metadata": {
    "execution": {
     "iopub.execute_input": "2020-09-25T15:19:26.311364Z",
     "iopub.status.busy": "2020-09-25T15:19:26.310665Z",
     "iopub.status.idle": "2020-09-25T15:19:26.321802Z",
     "shell.execute_reply": "2020-09-25T15:19:26.322501Z"
    },
    "papermill": {
     "duration": 0.067276,
     "end_time": "2020-09-25T15:19:26.322649",
     "exception": false,
     "start_time": "2020-09-25T15:19:26.255373",
     "status": "completed"
    },
    "pycharm": {
     "name": "#%%\n"
    },
    "tags": []
   },
   "outputs": [
    {
     "data": {
      "text/html": [
       "<div>\n",
       "<style scoped>\n",
       "    .dataframe tbody tr th:only-of-type {\n",
       "        vertical-align: middle;\n",
       "    }\n",
       "\n",
       "    .dataframe tbody tr th {\n",
       "        vertical-align: top;\n",
       "    }\n",
       "\n",
       "    .dataframe thead th {\n",
       "        text-align: right;\n",
       "    }\n",
       "</style>\n",
       "<table border=\"1\" class=\"dataframe\">\n",
       "  <thead>\n",
       "    <tr style=\"text-align: right;\">\n",
       "      <th></th>\n",
       "      <th>cumulative_cases</th>\n",
       "      <th>new_cases</th>\n",
       "      <th>covid_cases</th>\n",
       "      <th>shared_teks_by_generation_date</th>\n",
       "      <th>shared_teks_by_upload_date</th>\n",
       "      <th>shared_diagnoses</th>\n",
       "      <th>teks_per_shared_diagnosis</th>\n",
       "      <th>shared_diagnoses_per_covid_case</th>\n",
       "    </tr>\n",
       "    <tr>\n",
       "      <th>sample_date</th>\n",
       "      <th></th>\n",
       "      <th></th>\n",
       "      <th></th>\n",
       "      <th></th>\n",
       "      <th></th>\n",
       "      <th></th>\n",
       "      <th></th>\n",
       "      <th></th>\n",
       "    </tr>\n",
       "  </thead>\n",
       "  <tbody>\n",
       "    <tr>\n",
       "      <th>2020-09-25</th>\n",
       "      <td>715432</td>\n",
       "      <td>11223</td>\n",
       "      <td>11223</td>\n",
       "      <td>10</td>\n",
       "      <td>215</td>\n",
       "      <td>68</td>\n",
       "      <td>3.161765</td>\n",
       "      <td>0.006059</td>\n",
       "    </tr>\n",
       "    <tr>\n",
       "      <th>2020-09-24</th>\n",
       "      <td>704209</td>\n",
       "      <td>10653</td>\n",
       "      <td>11223</td>\n",
       "      <td>85</td>\n",
       "      <td>289</td>\n",
       "      <td>89</td>\n",
       "      <td>3.247191</td>\n",
       "      <td>0.007930</td>\n",
       "    </tr>\n",
       "    <tr>\n",
       "      <th>2020-09-23</th>\n",
       "      <td>693556</td>\n",
       "      <td>11289</td>\n",
       "      <td>11314</td>\n",
       "      <td>127</td>\n",
       "      <td>267</td>\n",
       "      <td>70</td>\n",
       "      <td>3.814286</td>\n",
       "      <td>0.006187</td>\n",
       "    </tr>\n",
       "    <tr>\n",
       "      <th>2020-09-22</th>\n",
       "      <td>682267</td>\n",
       "      <td>10799</td>\n",
       "      <td>11300</td>\n",
       "      <td>149</td>\n",
       "      <td>148</td>\n",
       "      <td>55</td>\n",
       "      <td>2.690909</td>\n",
       "      <td>0.004867</td>\n",
       "    </tr>\n",
       "    <tr>\n",
       "      <th>2020-09-21</th>\n",
       "      <td>671468</td>\n",
       "      <td>31428</td>\n",
       "      <td>11105</td>\n",
       "      <td>185</td>\n",
       "      <td>190</td>\n",
       "      <td>45</td>\n",
       "      <td>4.222222</td>\n",
       "      <td>0.004052</td>\n",
       "    </tr>\n",
       "  </tbody>\n",
       "</table>\n",
       "</div>"
      ],
      "text/plain": [
       "             cumulative_cases  new_cases  covid_cases  \\\n",
       "sample_date                                             \n",
       "2020-09-25             715432      11223        11223   \n",
       "2020-09-24             704209      10653        11223   \n",
       "2020-09-23             693556      11289        11314   \n",
       "2020-09-22             682267      10799        11300   \n",
       "2020-09-21             671468      31428        11105   \n",
       "\n",
       "             shared_teks_by_generation_date  shared_teks_by_upload_date  \\\n",
       "sample_date                                                               \n",
       "2020-09-25                               10                         215   \n",
       "2020-09-24                               85                         289   \n",
       "2020-09-23                              127                         267   \n",
       "2020-09-22                              149                         148   \n",
       "2020-09-21                              185                         190   \n",
       "\n",
       "             shared_diagnoses  teks_per_shared_diagnosis  \\\n",
       "sample_date                                                \n",
       "2020-09-25                 68                   3.161765   \n",
       "2020-09-24                 89                   3.247191   \n",
       "2020-09-23                 70                   3.814286   \n",
       "2020-09-22                 55                   2.690909   \n",
       "2020-09-21                 45                   4.222222   \n",
       "\n",
       "             shared_diagnoses_per_covid_case  \n",
       "sample_date                                   \n",
       "2020-09-25                          0.006059  \n",
       "2020-09-24                          0.007930  \n",
       "2020-09-23                          0.006187  \n",
       "2020-09-22                          0.004867  \n",
       "2020-09-21                          0.004052  "
      ]
     },
     "execution_count": 33,
     "metadata": {},
     "output_type": "execute_result"
    }
   ],
   "source": [
    "result_summary_df = result_summary_df.fillna(0).astype(int)\n",
    "result_summary_df[\"teks_per_shared_diagnosis\"] = \\\n",
    "    result_summary_df.shared_teks_by_upload_date / result_summary_df.shared_diagnoses\n",
    "result_summary_df[\"shared_diagnoses_per_covid_case\"] = \\\n",
    "    result_summary_df.shared_diagnoses / result_summary_df.covid_cases\n",
    "result_summary_df.head()"
   ]
  },
  {
   "cell_type": "code",
   "execution_count": 34,
   "metadata": {
    "collapsed": false,
    "execution": {
     "iopub.execute_input": "2020-09-25T15:19:26.447354Z",
     "iopub.status.busy": "2020-09-25T15:19:26.446709Z",
     "iopub.status.idle": "2020-09-25T15:19:26.449549Z",
     "shell.execute_reply": "2020-09-25T15:19:26.449968Z"
    },
    "papermill": {
     "duration": 0.07377,
     "end_time": "2020-09-25T15:19:26.450140",
     "exception": false,
     "start_time": "2020-09-25T15:19:26.376370",
     "status": "completed"
    },
    "pycharm": {
     "name": "#%%\n"
    },
    "tags": []
   },
   "outputs": [
    {
     "data": {
      "text/html": [
       "<div>\n",
       "<style scoped>\n",
       "    .dataframe tbody tr th:only-of-type {\n",
       "        vertical-align: middle;\n",
       "    }\n",
       "\n",
       "    .dataframe tbody tr th {\n",
       "        vertical-align: top;\n",
       "    }\n",
       "\n",
       "    .dataframe thead th {\n",
       "        text-align: right;\n",
       "    }\n",
       "</style>\n",
       "<table border=\"1\" class=\"dataframe\">\n",
       "  <thead>\n",
       "    <tr style=\"text-align: right;\">\n",
       "      <th></th>\n",
       "      <th>covid_cases</th>\n",
       "      <th>shared_teks_by_generation_date</th>\n",
       "      <th>shared_teks_by_upload_date</th>\n",
       "      <th>shared_diagnoses</th>\n",
       "      <th>teks_per_shared_diagnosis</th>\n",
       "      <th>shared_diagnoses_per_covid_case</th>\n",
       "    </tr>\n",
       "    <tr>\n",
       "      <th>sample_date</th>\n",
       "      <th></th>\n",
       "      <th></th>\n",
       "      <th></th>\n",
       "      <th></th>\n",
       "      <th></th>\n",
       "      <th></th>\n",
       "    </tr>\n",
       "  </thead>\n",
       "  <tbody>\n",
       "    <tr>\n",
       "      <th>2020-09-25</th>\n",
       "      <td>77227.0</td>\n",
       "      <td>960.0</td>\n",
       "      <td>1315.0</td>\n",
       "      <td>411.0</td>\n",
       "      <td>3.199513</td>\n",
       "      <td>0.005322</td>\n",
       "    </tr>\n",
       "    <tr>\n",
       "      <th>2020-09-24</th>\n",
       "      <td>76535.0</td>\n",
       "      <td>1115.0</td>\n",
       "      <td>1238.0</td>\n",
       "      <td>395.0</td>\n",
       "      <td>3.134177</td>\n",
       "      <td>0.005161</td>\n",
       "    </tr>\n",
       "    <tr>\n",
       "      <th>2020-09-23</th>\n",
       "      <td>75527.0</td>\n",
       "      <td>1169.0</td>\n",
       "      <td>1012.0</td>\n",
       "      <td>335.0</td>\n",
       "      <td>3.020896</td>\n",
       "      <td>0.004435</td>\n",
       "    </tr>\n",
       "    <tr>\n",
       "      <th>2020-09-22</th>\n",
       "      <td>74353.0</td>\n",
       "      <td>1161.0</td>\n",
       "      <td>807.0</td>\n",
       "      <td>288.0</td>\n",
       "      <td>2.802083</td>\n",
       "      <td>0.003873</td>\n",
       "    </tr>\n",
       "    <tr>\n",
       "      <th>2020-09-21</th>\n",
       "      <td>72861.0</td>\n",
       "      <td>1094.0</td>\n",
       "      <td>717.0</td>\n",
       "      <td>256.0</td>\n",
       "      <td>2.800781</td>\n",
       "      <td>0.003514</td>\n",
       "    </tr>\n",
       "  </tbody>\n",
       "</table>\n",
       "</div>"
      ],
      "text/plain": [
       "             covid_cases  shared_teks_by_generation_date  \\\n",
       "sample_date                                                \n",
       "2020-09-25       77227.0                           960.0   \n",
       "2020-09-24       76535.0                          1115.0   \n",
       "2020-09-23       75527.0                          1169.0   \n",
       "2020-09-22       74353.0                          1161.0   \n",
       "2020-09-21       72861.0                          1094.0   \n",
       "\n",
       "             shared_teks_by_upload_date  shared_diagnoses  \\\n",
       "sample_date                                                 \n",
       "2020-09-25                       1315.0             411.0   \n",
       "2020-09-24                       1238.0             395.0   \n",
       "2020-09-23                       1012.0             335.0   \n",
       "2020-09-22                        807.0             288.0   \n",
       "2020-09-21                        717.0             256.0   \n",
       "\n",
       "             teks_per_shared_diagnosis  shared_diagnoses_per_covid_case  \n",
       "sample_date                                                              \n",
       "2020-09-25                    3.199513                         0.005322  \n",
       "2020-09-24                    3.134177                         0.005161  \n",
       "2020-09-23                    3.020896                         0.004435  \n",
       "2020-09-22                    2.802083                         0.003873  \n",
       "2020-09-21                    2.800781                         0.003514  "
      ]
     },
     "execution_count": 34,
     "metadata": {},
     "output_type": "execute_result"
    }
   ],
   "source": [
    "weekly_result_summary_df = result_summary_df \\\n",
    "    .sort_index(ascending=True).fillna(0).rolling(7).agg({\n",
    "    \"covid_cases\": \"sum\",\n",
    "    \"shared_teks_by_generation_date\": \"sum\",\n",
    "    \"shared_teks_by_upload_date\": \"sum\",\n",
    "    \"shared_diagnoses\": \"sum\"\n",
    "}).sort_index(ascending=False)\n",
    "weekly_result_summary_df[\"teks_per_shared_diagnosis\"] = \\\n",
    "    weekly_result_summary_df.shared_teks_by_upload_date / weekly_result_summary_df.shared_diagnoses\n",
    "weekly_result_summary_df[\"shared_diagnoses_per_covid_case\"] = \\\n",
    "    weekly_result_summary_df.shared_diagnoses / weekly_result_summary_df.covid_cases\n",
    "weekly_result_summary_df.head()"
   ]
  },
  {
   "cell_type": "code",
   "execution_count": 35,
   "metadata": {
    "collapsed": false,
    "execution": {
     "iopub.execute_input": "2020-09-25T15:19:26.552523Z",
     "iopub.status.busy": "2020-09-25T15:19:26.551940Z",
     "iopub.status.idle": "2020-09-25T15:19:26.554939Z",
     "shell.execute_reply": "2020-09-25T15:19:26.555458Z"
    },
    "papermill": {
     "duration": 0.056763,
     "end_time": "2020-09-25T15:19:26.555579",
     "exception": false,
     "start_time": "2020-09-25T15:19:26.498816",
     "status": "completed"
    },
    "pycharm": {
     "name": "#%%\n"
    },
    "tags": []
   },
   "outputs": [
    {
     "data": {
      "text/plain": [
       "covid_cases                        77227.000000\n",
       "shared_teks_by_generation_date       960.000000\n",
       "shared_teks_by_upload_date          1315.000000\n",
       "shared_diagnoses                     411.000000\n",
       "teks_per_shared_diagnosis              3.199513\n",
       "shared_diagnoses_per_covid_case        0.005322\n",
       "Name: 2020-09-25 00:00:00, dtype: float64"
      ]
     },
     "execution_count": 35,
     "metadata": {},
     "output_type": "execute_result"
    }
   ],
   "source": [
    "last_7_days_summary = weekly_result_summary_df.iloc[0]\n",
    "last_7_days_summary"
   ]
  },
  {
   "cell_type": "markdown",
   "metadata": {
    "execution": {
     "iopub.execute_input": "2020-08-30T22:30:17.313260Z",
     "iopub.status.busy": "2020-08-30T22:30:17.312584Z",
     "iopub.status.idle": "2020-08-30T22:30:17.317571Z",
     "shell.execute_reply": "2020-08-30T22:30:17.316929Z"
    },
    "papermill": {
     "duration": 0.050353,
     "end_time": "2020-09-25T15:19:26.655118",
     "exception": false,
     "start_time": "2020-09-25T15:19:26.604765",
     "status": "completed"
    },
    "pycharm": {
     "name": "#%% md\n"
    },
    "tags": []
   },
   "source": [
    "## Report Results"
   ]
  },
  {
   "cell_type": "code",
   "execution_count": 36,
   "metadata": {
    "collapsed": false,
    "execution": {
     "iopub.execute_input": "2020-09-25T15:19:26.760661Z",
     "iopub.status.busy": "2020-09-25T15:19:26.760000Z",
     "iopub.status.idle": "2020-09-25T15:19:26.763072Z",
     "shell.execute_reply": "2020-09-25T15:19:26.763618Z"
    },
    "papermill": {
     "duration": 0.059715,
     "end_time": "2020-09-25T15:19:26.763812",
     "exception": false,
     "start_time": "2020-09-25T15:19:26.704097",
     "status": "completed"
    },
    "pycharm": {
     "name": "#%%\n"
    },
    "tags": []
   },
   "outputs": [],
   "source": [
    "display_column_name_mapping = {\n",
    "    \"sample_date\": \"Sample\\u00A0Date\\u00A0(UTC)\",\n",
    "    \"datetime_utc\": \"Timestamp (UTC)\",\n",
    "    \"covid_cases\": \"COVID-19 Cases (7-day Rolling Average)\",\n",
    "    \"shared_teks_by_generation_date\": \"Shared TEKs by Generation Date\",\n",
    "    \"shared_teks_by_upload_date\": \"Shared TEKs by Upload Date\",\n",
    "    \"shared_diagnoses\": \"Shared Diagnoses (Estimation)\",\n",
    "    \"teks_per_shared_diagnosis\": \"TEKs Uploaded per Shared Diagnosis\",\n",
    "    \"shared_diagnoses_per_covid_case\": \"Usage Ratio (Fraction of Cases Which Shared Diagnosis)\",\n",
    "}"
   ]
  },
  {
   "cell_type": "markdown",
   "metadata": {
    "papermill": {
     "duration": 0.050402,
     "end_time": "2020-09-25T15:19:26.862850",
     "exception": false,
     "start_time": "2020-09-25T15:19:26.812448",
     "status": "completed"
    },
    "tags": []
   },
   "source": [
    "### Daily Summary Table"
   ]
  },
  {
   "cell_type": "code",
   "execution_count": 37,
   "metadata": {
    "execution": {
     "iopub.execute_input": "2020-09-25T15:19:26.974674Z",
     "iopub.status.busy": "2020-09-25T15:19:26.968727Z",
     "iopub.status.idle": "2020-09-25T15:19:26.978089Z",
     "shell.execute_reply": "2020-09-25T15:19:26.977635Z"
    },
    "papermill": {
     "duration": 0.066457,
     "end_time": "2020-09-25T15:19:26.978198",
     "exception": false,
     "start_time": "2020-09-25T15:19:26.911741",
     "status": "completed"
    },
    "tags": []
   },
   "outputs": [
    {
     "data": {
      "text/html": [
       "<div>\n",
       "<style scoped>\n",
       "    .dataframe tbody tr th:only-of-type {\n",
       "        vertical-align: middle;\n",
       "    }\n",
       "\n",
       "    .dataframe tbody tr th {\n",
       "        vertical-align: top;\n",
       "    }\n",
       "\n",
       "    .dataframe thead th {\n",
       "        text-align: right;\n",
       "    }\n",
       "</style>\n",
       "<table border=\"1\" class=\"dataframe\">\n",
       "  <thead>\n",
       "    <tr style=\"text-align: right;\">\n",
       "      <th></th>\n",
       "      <th>COVID-19 Cases (7-day Rolling Average)</th>\n",
       "      <th>Shared TEKs by Generation Date</th>\n",
       "      <th>Shared TEKs by Upload Date</th>\n",
       "      <th>Shared Diagnoses (Estimation)</th>\n",
       "      <th>TEKs Uploaded per Shared Diagnosis</th>\n",
       "      <th>Usage Ratio (Fraction of Cases Which Shared Diagnosis)</th>\n",
       "    </tr>\n",
       "    <tr>\n",
       "      <th>Sample Date (UTC)</th>\n",
       "      <th></th>\n",
       "      <th></th>\n",
       "      <th></th>\n",
       "      <th></th>\n",
       "      <th></th>\n",
       "      <th></th>\n",
       "    </tr>\n",
       "  </thead>\n",
       "  <tbody>\n",
       "    <tr>\n",
       "      <th>2020-09-25</th>\n",
       "      <td>11223</td>\n",
       "      <td>10</td>\n",
       "      <td>215</td>\n",
       "      <td>68</td>\n",
       "      <td>3.161765</td>\n",
       "      <td>0.006059</td>\n",
       "    </tr>\n",
       "    <tr>\n",
       "      <th>2020-09-24</th>\n",
       "      <td>11223</td>\n",
       "      <td>85</td>\n",
       "      <td>289</td>\n",
       "      <td>89</td>\n",
       "      <td>3.247191</td>\n",
       "      <td>0.007930</td>\n",
       "    </tr>\n",
       "    <tr>\n",
       "      <th>2020-09-23</th>\n",
       "      <td>11314</td>\n",
       "      <td>127</td>\n",
       "      <td>267</td>\n",
       "      <td>70</td>\n",
       "      <td>3.814286</td>\n",
       "      <td>0.006187</td>\n",
       "    </tr>\n",
       "    <tr>\n",
       "      <th>2020-09-22</th>\n",
       "      <td>11300</td>\n",
       "      <td>149</td>\n",
       "      <td>148</td>\n",
       "      <td>55</td>\n",
       "      <td>2.690909</td>\n",
       "      <td>0.004867</td>\n",
       "    </tr>\n",
       "    <tr>\n",
       "      <th>2020-09-21</th>\n",
       "      <td>11105</td>\n",
       "      <td>185</td>\n",
       "      <td>190</td>\n",
       "      <td>45</td>\n",
       "      <td>4.222222</td>\n",
       "      <td>0.004052</td>\n",
       "    </tr>\n",
       "    <tr>\n",
       "      <th>2020-09-20</th>\n",
       "      <td>10531</td>\n",
       "      <td>201</td>\n",
       "      <td>116</td>\n",
       "      <td>45</td>\n",
       "      <td>2.577778</td>\n",
       "      <td>0.004273</td>\n",
       "    </tr>\n",
       "    <tr>\n",
       "      <th>2020-09-19</th>\n",
       "      <td>10531</td>\n",
       "      <td>203</td>\n",
       "      <td>90</td>\n",
       "      <td>39</td>\n",
       "      <td>2.307692</td>\n",
       "      <td>0.003703</td>\n",
       "    </tr>\n",
       "    <tr>\n",
       "      <th>2020-09-18</th>\n",
       "      <td>10531</td>\n",
       "      <td>165</td>\n",
       "      <td>138</td>\n",
       "      <td>52</td>\n",
       "      <td>2.653846</td>\n",
       "      <td>0.004938</td>\n",
       "    </tr>\n",
       "    <tr>\n",
       "      <th>2020-09-17</th>\n",
       "      <td>10215</td>\n",
       "      <td>139</td>\n",
       "      <td>63</td>\n",
       "      <td>29</td>\n",
       "      <td>2.172414</td>\n",
       "      <td>0.002839</td>\n",
       "    </tr>\n",
       "    <tr>\n",
       "      <th>2020-09-16</th>\n",
       "      <td>10140</td>\n",
       "      <td>119</td>\n",
       "      <td>62</td>\n",
       "      <td>23</td>\n",
       "      <td>2.695652</td>\n",
       "      <td>0.002268</td>\n",
       "    </tr>\n",
       "    <tr>\n",
       "      <th>2020-09-15</th>\n",
       "      <td>9808</td>\n",
       "      <td>82</td>\n",
       "      <td>58</td>\n",
       "      <td>23</td>\n",
       "      <td>2.521739</td>\n",
       "      <td>0.002345</td>\n",
       "    </tr>\n",
       "    <tr>\n",
       "      <th>2020-09-14</th>\n",
       "      <td>9740</td>\n",
       "      <td>73</td>\n",
       "      <td>61</td>\n",
       "      <td>28</td>\n",
       "      <td>2.178571</td>\n",
       "      <td>0.002875</td>\n",
       "    </tr>\n",
       "    <tr>\n",
       "      <th>2020-09-13</th>\n",
       "      <td>9620</td>\n",
       "      <td>75</td>\n",
       "      <td>92</td>\n",
       "      <td>32</td>\n",
       "      <td>2.875000</td>\n",
       "      <td>0.003326</td>\n",
       "    </tr>\n",
       "    <tr>\n",
       "      <th>2020-09-12</th>\n",
       "      <td>9620</td>\n",
       "      <td>67</td>\n",
       "      <td>92</td>\n",
       "      <td>33</td>\n",
       "      <td>2.787879</td>\n",
       "      <td>0.003430</td>\n",
       "    </tr>\n",
       "    <tr>\n",
       "      <th>2020-09-11</th>\n",
       "      <td>9620</td>\n",
       "      <td>75</td>\n",
       "      <td>46</td>\n",
       "      <td>19</td>\n",
       "      <td>2.421053</td>\n",
       "      <td>0.001975</td>\n",
       "    </tr>\n",
       "    <tr>\n",
       "      <th>2020-09-10</th>\n",
       "      <td>9376</td>\n",
       "      <td>68</td>\n",
       "      <td>45</td>\n",
       "      <td>15</td>\n",
       "      <td>3.000000</td>\n",
       "      <td>0.001600</td>\n",
       "    </tr>\n",
       "    <tr>\n",
       "      <th>2020-09-09</th>\n",
       "      <td>9118</td>\n",
       "      <td>60</td>\n",
       "      <td>67</td>\n",
       "      <td>21</td>\n",
       "      <td>3.190476</td>\n",
       "      <td>0.002303</td>\n",
       "    </tr>\n",
       "    <tr>\n",
       "      <th>2020-09-08</th>\n",
       "      <td>9077</td>\n",
       "      <td>61</td>\n",
       "      <td>44</td>\n",
       "      <td>18</td>\n",
       "      <td>2.444444</td>\n",
       "      <td>0.001983</td>\n",
       "    </tr>\n",
       "    <tr>\n",
       "      <th>2020-09-07</th>\n",
       "      <td>8956</td>\n",
       "      <td>58</td>\n",
       "      <td>52</td>\n",
       "      <td>22</td>\n",
       "      <td>2.363636</td>\n",
       "      <td>0.002456</td>\n",
       "    </tr>\n",
       "    <tr>\n",
       "      <th>2020-09-06</th>\n",
       "      <td>8529</td>\n",
       "      <td>54</td>\n",
       "      <td>60</td>\n",
       "      <td>24</td>\n",
       "      <td>2.500000</td>\n",
       "      <td>0.002814</td>\n",
       "    </tr>\n",
       "    <tr>\n",
       "      <th>2020-09-05</th>\n",
       "      <td>8529</td>\n",
       "      <td>56</td>\n",
       "      <td>40</td>\n",
       "      <td>17</td>\n",
       "      <td>2.352941</td>\n",
       "      <td>0.001993</td>\n",
       "    </tr>\n",
       "  </tbody>\n",
       "</table>\n",
       "</div>"
      ],
      "text/plain": [
       "                   COVID-19 Cases (7-day Rolling Average)  \\\n",
       "Sample Date (UTC)                                           \n",
       "2020-09-25                                          11223   \n",
       "2020-09-24                                          11223   \n",
       "2020-09-23                                          11314   \n",
       "2020-09-22                                          11300   \n",
       "2020-09-21                                          11105   \n",
       "2020-09-20                                          10531   \n",
       "2020-09-19                                          10531   \n",
       "2020-09-18                                          10531   \n",
       "2020-09-17                                          10215   \n",
       "2020-09-16                                          10140   \n",
       "2020-09-15                                           9808   \n",
       "2020-09-14                                           9740   \n",
       "2020-09-13                                           9620   \n",
       "2020-09-12                                           9620   \n",
       "2020-09-11                                           9620   \n",
       "2020-09-10                                           9376   \n",
       "2020-09-09                                           9118   \n",
       "2020-09-08                                           9077   \n",
       "2020-09-07                                           8956   \n",
       "2020-09-06                                           8529   \n",
       "2020-09-05                                           8529   \n",
       "\n",
       "                   Shared TEKs by Generation Date  Shared TEKs by Upload Date  \\\n",
       "Sample Date (UTC)                                                               \n",
       "2020-09-25                                     10                         215   \n",
       "2020-09-24                                     85                         289   \n",
       "2020-09-23                                    127                         267   \n",
       "2020-09-22                                    149                         148   \n",
       "2020-09-21                                    185                         190   \n",
       "2020-09-20                                    201                         116   \n",
       "2020-09-19                                    203                          90   \n",
       "2020-09-18                                    165                         138   \n",
       "2020-09-17                                    139                          63   \n",
       "2020-09-16                                    119                          62   \n",
       "2020-09-15                                     82                          58   \n",
       "2020-09-14                                     73                          61   \n",
       "2020-09-13                                     75                          92   \n",
       "2020-09-12                                     67                          92   \n",
       "2020-09-11                                     75                          46   \n",
       "2020-09-10                                     68                          45   \n",
       "2020-09-09                                     60                          67   \n",
       "2020-09-08                                     61                          44   \n",
       "2020-09-07                                     58                          52   \n",
       "2020-09-06                                     54                          60   \n",
       "2020-09-05                                     56                          40   \n",
       "\n",
       "                   Shared Diagnoses (Estimation)  \\\n",
       "Sample Date (UTC)                                  \n",
       "2020-09-25                                    68   \n",
       "2020-09-24                                    89   \n",
       "2020-09-23                                    70   \n",
       "2020-09-22                                    55   \n",
       "2020-09-21                                    45   \n",
       "2020-09-20                                    45   \n",
       "2020-09-19                                    39   \n",
       "2020-09-18                                    52   \n",
       "2020-09-17                                    29   \n",
       "2020-09-16                                    23   \n",
       "2020-09-15                                    23   \n",
       "2020-09-14                                    28   \n",
       "2020-09-13                                    32   \n",
       "2020-09-12                                    33   \n",
       "2020-09-11                                    19   \n",
       "2020-09-10                                    15   \n",
       "2020-09-09                                    21   \n",
       "2020-09-08                                    18   \n",
       "2020-09-07                                    22   \n",
       "2020-09-06                                    24   \n",
       "2020-09-05                                    17   \n",
       "\n",
       "                   TEKs Uploaded per Shared Diagnosis  \\\n",
       "Sample Date (UTC)                                       \n",
       "2020-09-25                                   3.161765   \n",
       "2020-09-24                                   3.247191   \n",
       "2020-09-23                                   3.814286   \n",
       "2020-09-22                                   2.690909   \n",
       "2020-09-21                                   4.222222   \n",
       "2020-09-20                                   2.577778   \n",
       "2020-09-19                                   2.307692   \n",
       "2020-09-18                                   2.653846   \n",
       "2020-09-17                                   2.172414   \n",
       "2020-09-16                                   2.695652   \n",
       "2020-09-15                                   2.521739   \n",
       "2020-09-14                                   2.178571   \n",
       "2020-09-13                                   2.875000   \n",
       "2020-09-12                                   2.787879   \n",
       "2020-09-11                                   2.421053   \n",
       "2020-09-10                                   3.000000   \n",
       "2020-09-09                                   3.190476   \n",
       "2020-09-08                                   2.444444   \n",
       "2020-09-07                                   2.363636   \n",
       "2020-09-06                                   2.500000   \n",
       "2020-09-05                                   2.352941   \n",
       "\n",
       "                   Usage Ratio (Fraction of Cases Which Shared Diagnosis)  \n",
       "Sample Date (UTC)                                                          \n",
       "2020-09-25                                                  0.006059       \n",
       "2020-09-24                                                  0.007930       \n",
       "2020-09-23                                                  0.006187       \n",
       "2020-09-22                                                  0.004867       \n",
       "2020-09-21                                                  0.004052       \n",
       "2020-09-20                                                  0.004273       \n",
       "2020-09-19                                                  0.003703       \n",
       "2020-09-18                                                  0.004938       \n",
       "2020-09-17                                                  0.002839       \n",
       "2020-09-16                                                  0.002268       \n",
       "2020-09-15                                                  0.002345       \n",
       "2020-09-14                                                  0.002875       \n",
       "2020-09-13                                                  0.003326       \n",
       "2020-09-12                                                  0.003430       \n",
       "2020-09-11                                                  0.001975       \n",
       "2020-09-10                                                  0.001600       \n",
       "2020-09-09                                                  0.002303       \n",
       "2020-09-08                                                  0.001983       \n",
       "2020-09-07                                                  0.002456       \n",
       "2020-09-06                                                  0.002814       \n",
       "2020-09-05                                                  0.001993       "
      ]
     },
     "execution_count": 37,
     "metadata": {},
     "output_type": "execute_result"
    }
   ],
   "source": [
    "result_summary_df_ = result_summary_df.copy()\n",
    "result_summary_df = result_summary_df[[\n",
    "    \"covid_cases\",\n",
    "    \"shared_teks_by_generation_date\",\n",
    "    \"shared_teks_by_upload_date\",\n",
    "    \"shared_diagnoses\",\n",
    "    \"teks_per_shared_diagnosis\",\n",
    "    \"shared_diagnoses_per_covid_case\"]]\n",
    "result_summary_with_display_names_df = result_summary_df \\\n",
    "    .rename_axis(index=display_column_name_mapping) \\\n",
    "    .rename(columns=display_column_name_mapping)\n",
    "result_summary_with_display_names_df"
   ]
  },
  {
   "cell_type": "markdown",
   "metadata": {
    "papermill": {
     "duration": 0.054095,
     "end_time": "2020-09-25T15:19:27.082263",
     "exception": false,
     "start_time": "2020-09-25T15:19:27.028168",
     "status": "completed"
    },
    "tags": []
   },
   "source": [
    "### Daily Summary Plots"
   ]
  },
  {
   "cell_type": "code",
   "execution_count": 38,
   "metadata": {
    "execution": {
     "iopub.execute_input": "2020-09-25T15:19:27.196240Z",
     "iopub.status.busy": "2020-09-25T15:19:27.195636Z",
     "iopub.status.idle": "2020-09-25T15:19:28.738863Z",
     "shell.execute_reply": "2020-09-25T15:19:28.739239Z"
    },
    "papermill": {
     "duration": 1.604348,
     "end_time": "2020-09-25T15:19:28.739428",
     "exception": false,
     "start_time": "2020-09-25T15:19:27.135080",
     "status": "completed"
    },
    "scrolled": false,
    "tags": []
   },
   "outputs": [
    {
     "data": {
      "image/png": "[encoded data removed]",
      "text/plain": [
       "<Figure size 1080x1584 with 6 Axes>"
      ]
     },
     "metadata": {},
     "output_type": "display_data"
    }
   ],
   "source": [
    "result_plot_summary_df = result_summary_df.head(daily_plot_days)[[\n",
    "    \"covid_cases\",\n",
    "    \"shared_teks_by_generation_date\",\n",
    "    \"shared_teks_by_upload_date\",\n",
    "    \"shared_diagnoses\",\n",
    "    \"teks_per_shared_diagnosis\",\n",
    "    \"shared_diagnoses_per_covid_case\"]] \\\n",
    "    .rename_axis(index=display_column_name_mapping) \\\n",
    "    .rename(columns=display_column_name_mapping)\n",
    "summary_ax_list = result_plot_summary_df.sort_index(ascending=True).plot.bar(\n",
    "    title=f\"Daily Summary\",\n",
    "    rot=45, subplots=True, figsize=(15, 22), legend=False)\n",
    "ax_ = summary_ax_list[-1]\n",
    "ax_.get_figure().tight_layout()\n",
    "ax_.get_figure().subplots_adjust(top=0.95)\n",
    "ax_.yaxis.set_major_formatter(matplotlib.ticker.PercentFormatter(1.0))\n",
    "_ = ax_.set_xticklabels(sorted(result_plot_summary_df.index.strftime(\"%Y-%m-%d\").tolist()))"
   ]
  },
  {
   "cell_type": "markdown",
   "metadata": {
    "papermill": {
     "duration": 0.056303,
     "end_time": "2020-09-25T15:19:28.859211",
     "exception": false,
     "start_time": "2020-09-25T15:19:28.802908",
     "status": "completed"
    },
    "tags": []
   },
   "source": [
    "### Hourly Summary Plots "
   ]
  },
  {
   "cell_type": "code",
   "execution_count": 39,
   "metadata": {
    "execution": {
     "iopub.execute_input": "2020-09-25T15:19:28.978936Z",
     "iopub.status.busy": "2020-09-25T15:19:28.974550Z",
     "iopub.status.idle": "2020-09-25T15:19:29.628158Z",
     "shell.execute_reply": "2020-09-25T15:19:29.627629Z"
    },
    "papermill": {
     "duration": 0.712949,
     "end_time": "2020-09-25T15:19:29.628327",
     "exception": false,
     "start_time": "2020-09-25T15:19:28.915378",
     "status": "completed"
    },
    "pycharm": {
     "name": "#%%\n"
    },
    "tags": []
   },
   "outputs": [
    {
     "data": {
      "image/png": "[encoded data removed]",
      "text/plain": [
       "<Figure size 1080x432 with 2 Axes>"
      ]
     },
     "metadata": {},
     "output_type": "display_data"
    }
   ],
   "source": [
    "hourly_summary_ax_list = hourly_summary_df \\\n",
    "    .rename_axis(index=display_column_name_mapping) \\\n",
    "    .rename(columns=display_column_name_mapping) \\\n",
    "    .plot.bar(\n",
    "        title=f\"Last 24h Summary\",\n",
    "        rot=45, subplots=True, legend=False)\n",
    "ax_ = hourly_summary_ax_list[-1]\n",
    "ax_.get_figure().tight_layout()\n",
    "ax_.get_figure().subplots_adjust(top=0.9)\n",
    "_ = ax_.set_xticklabels(sorted(hourly_summary_df.index.strftime(\"%Y-%m-%d@%H\").tolist()))"
   ]
  },
  {
   "cell_type": "markdown",
   "metadata": {
    "papermill": {
     "duration": 0.052184,
     "end_time": "2020-09-25T15:19:29.733871",
     "exception": false,
     "start_time": "2020-09-25T15:19:29.681687",
     "status": "completed"
    },
    "tags": []
   },
   "source": [
    "### Publish Results"
   ]
  },
  {
   "cell_type": "code",
   "execution_count": 40,
   "metadata": {
    "execution": {
     "iopub.execute_input": "2020-09-25T15:19:29.853437Z",
     "iopub.status.busy": "2020-09-25T15:19:29.852818Z",
     "iopub.status.idle": "2020-09-25T15:19:29.854782Z",
     "shell.execute_reply": "2020-09-25T15:19:29.855250Z"
    },
    "papermill": {
     "duration": 0.061958,
     "end_time": "2020-09-25T15:19:29.855376",
     "exception": false,
     "start_time": "2020-09-25T15:19:29.793418",
     "status": "completed"
    },
    "pycharm": {
     "name": "#%%\n"
    },
    "tags": []
   },
   "outputs": [],
   "source": [
    "def get_temporary_image_path() -> str:\n",
    "    return os.path.join(tempfile.gettempdir(), str(uuid.uuid4()) + \".png\")\n",
    "\n",
    "def save_temporary_plot_image(ax):\n",
    "    if isinstance(ax, np.ndarray):\n",
    "        ax = ax[0]\n",
    "    media_path = get_temporary_image_path()\n",
    "    ax.get_figure().savefig(media_path)\n",
    "    return media_path\n",
    "\n",
    "def save_temporary_dataframe_image(df):\n",
    "    import dataframe_image as dfi\n",
    "    media_path = get_temporary_image_path()\n",
    "    dfi.export(df, media_path)\n",
    "    return media_path"
   ]
  },
  {
   "cell_type": "code",
   "execution_count": 41,
   "metadata": {
    "collapsed": false,
    "execution": {
     "iopub.execute_input": "2020-09-25T15:19:29.973150Z",
     "iopub.status.busy": "2020-09-25T15:19:29.966156Z",
     "iopub.status.idle": "2020-09-25T15:19:29.976152Z",
     "shell.execute_reply": "2020-09-25T15:19:29.975666Z"
    },
    "papermill": {
     "duration": 0.068107,
     "end_time": "2020-09-25T15:19:29.976292",
     "exception": false,
     "start_time": "2020-09-25T15:19:29.908185",
     "status": "completed"
    },
    "pycharm": {
     "name": "#%%\n"
    },
    "tags": []
   },
   "outputs": [],
   "source": [
    "daily_summary_table_html = result_summary_with_display_names_df \\\n",
    "    .head(daily_plot_days) \\\n",
    "    .rename_axis(index=display_column_name_mapping) \\\n",
    "    .rename(columns=display_column_name_mapping) \\\n",
    "    .to_html(\n",
    "        formatters={\n",
    "            display_column_name_mapping[\"teks_per_shared_diagnosis\"]: lambda x: f\"{x:.2f}\",\n",
    "            display_column_name_mapping[\"shared_diagnoses_per_covid_case\"]: lambda x: f\"{x:.2%}\",\n",
    "        })\n",
    "\n",
    "extraction_date_result_summary_df = \\\n",
    "    result_summary_df[result_summary_df.index == extraction_date]\n",
    "extraction_date_result_hourly_summary_df = \\\n",
    "    hourly_summary_df[hourly_summary_df.extraction_date_with_hour == extraction_date_with_hour]\n",
    "\n",
    "covid_cases = \\\n",
    "    extraction_date_result_summary_df.covid_cases.sum()\n",
    "shared_teks_by_upload_date = \\\n",
    "    extraction_date_result_summary_df.shared_teks_by_upload_date.sum()\n",
    "shared_diagnoses = \\\n",
    "    extraction_date_result_summary_df.shared_diagnoses.sum()\n",
    "teks_per_shared_diagnosis = \\\n",
    "    extraction_date_result_summary_df.teks_per_shared_diagnosis.sum()\n",
    "shared_diagnoses_per_covid_case = \\\n",
    "    extraction_date_result_summary_df.shared_diagnoses_per_covid_case.sum()\n",
    "\n",
    "shared_teks_by_upload_date_last_hour = \\\n",
    "    extraction_date_result_hourly_summary_df.shared_teks_by_upload_date.sum().astype(int)\n",
    "shared_diagnoses_last_hour = \\\n",
    "    extraction_date_result_hourly_summary_df.shared_diagnoses.sum().astype(int)"
   ]
  },
  {
   "cell_type": "code",
   "execution_count": 42,
   "metadata": {
    "collapsed": false,
    "execution": {
     "iopub.execute_input": "2020-09-25T15:19:30.089783Z",
     "iopub.status.busy": "2020-09-25T15:19:30.089173Z",
     "iopub.status.idle": "2020-09-25T15:19:33.676178Z",
     "shell.execute_reply": "2020-09-25T15:19:33.675680Z"
    },
    "papermill": {
     "duration": 3.648667,
     "end_time": "2020-09-25T15:19:33.676306",
     "exception": false,
     "start_time": "2020-09-25T15:19:30.027639",
     "status": "completed"
    },
    "pycharm": {
     "name": "#%%\n"
    },
    "tags": []
   },
   "outputs": [],
   "source": [
    "summary_plots_image_path = save_temporary_plot_image(\n",
    "    ax=summary_ax_list)\n",
    "summary_table_image_path = save_temporary_dataframe_image(\n",
    "    df=result_summary_with_display_names_df)\n",
    "hourly_summary_plots_image_path = save_temporary_plot_image(\n",
    "    ax=hourly_summary_ax_list)\n",
    "multi_region_summary_table_image_path = save_temporary_dataframe_image(\n",
    "    df=multi_region_summary_df)"
   ]
  },
  {
   "cell_type": "markdown",
   "metadata": {
    "papermill": {
     "duration": 0.053159,
     "end_time": "2020-09-25T15:19:33.784462",
     "exception": false,
     "start_time": "2020-09-25T15:19:33.731303",
     "status": "completed"
    },
    "tags": []
   },
   "source": [
    "### Save Results"
   ]
  },
  {
   "cell_type": "code",
   "execution_count": 43,
   "metadata": {
    "execution": {
     "iopub.execute_input": "2020-09-25T15:19:33.900166Z",
     "iopub.status.busy": "2020-09-25T15:19:33.899532Z",
     "iopub.status.idle": "2020-09-25T15:19:33.914819Z",
     "shell.execute_reply": "2020-09-25T15:19:33.914339Z"
    },
    "papermill": {
     "duration": 0.078392,
     "end_time": "2020-09-25T15:19:33.914932",
     "exception": false,
     "start_time": "2020-09-25T15:19:33.836540",
     "status": "completed"
    },
    "pycharm": {
     "name": "#%%\n"
    },
    "tags": []
   },
   "outputs": [],
   "source": [
    "report_resources_path_prefix = \"Data/Resources/Current/RadarCOVID-Report-\"\n",
    "result_summary_df.to_csv(report_resources_path_prefix + \"Summary-Table.csv\")\n",
    "result_summary_df.to_html(report_resources_path_prefix + \"Summary-Table.html\")\n",
    "hourly_summary_df.to_csv(report_resources_path_prefix + \"Hourly-Summary-Table.csv\")\n",
    "multi_region_summary_df.to_csv(report_resources_path_prefix + \"Multi-Region-Summary-Table.csv\")\n",
    "_ = shutil.copyfile(summary_plots_image_path, report_resources_path_prefix + \"Summary-Plots.png\")\n",
    "_ = shutil.copyfile(summary_table_image_path, report_resources_path_prefix + \"Summary-Table.png\")\n",
    "_ = shutil.copyfile(hourly_summary_plots_image_path, report_resources_path_prefix + \"Hourly-Summary-Plots.png\")\n",
    "_ = shutil.copyfile(multi_region_summary_table_image_path, report_resources_path_prefix + \"Multi-Region-Summary-Table.png\")\n",
    "\n",
    "report_daily_url_pattern = \\\n",
    "    \"https://github.com/pvieito/RadarCOVID-Report/blob/master/Notebooks/\" \\\n",
    "    \"RadarCOVID-Report/{report_type}/RadarCOVID-Report-{report_date}.ipynb\"\n",
    "report_daily_url = report_daily_url_pattern.format(\n",
    "    report_type=\"Daily\", report_date=extraction_date)\n",
    "report_hourly_url = report_daily_url_pattern.format(\n",
    "    report_type=\"Hourly\", report_date=extraction_date_with_hour)"
   ]
  },
  {
   "cell_type": "markdown",
   "metadata": {
    "collapsed": false,
    "papermill": {
     "duration": 0.051697,
     "end_time": "2020-09-25T15:19:34.017958",
     "exception": false,
     "start_time": "2020-09-25T15:19:33.966261",
     "status": "completed"
    },
    "tags": []
   },
   "source": [
    "### Publish Results as JSON"
   ]
  },
  {
   "cell_type": "code",
   "execution_count": 44,
   "metadata": {
    "collapsed": false,
    "execution": {
     "iopub.execute_input": "2020-09-25T15:19:34.132966Z",
     "iopub.status.busy": "2020-09-25T15:19:34.132244Z",
     "iopub.status.idle": "2020-09-25T15:19:34.139020Z",
     "shell.execute_reply": "2020-09-25T15:19:34.139609Z"
    },
    "papermill": {
     "duration": 0.067378,
     "end_time": "2020-09-25T15:19:34.139761",
     "exception": false,
     "start_time": "2020-09-25T15:19:34.072383",
     "status": "completed"
    },
    "pycharm": {
     "name": "#%%\n"
    },
    "tags": []
   },
   "outputs": [],
   "source": [
    "summary_results_api_df = result_summary_df.reset_index()\n",
    "summary_results_api_df[\"sample_date_string\"] = \\\n",
    "    summary_results_api_df[\"sample_date\"].dt.strftime(\"%Y-%m-%d\")\n",
    "\n",
    "summary_results = dict(\n",
    "    extraction_datetime=extraction_datetime,\n",
    "    extraction_date=extraction_date,\n",
    "    extraction_date_with_hour=extraction_date_with_hour,\n",
    "    last_hour=dict(\n",
    "        shared_teks_by_upload_date=shared_teks_by_upload_date_last_hour,\n",
    "        shared_diagnoses=shared_diagnoses_last_hour,\n",
    "    ),\n",
    "    today=dict(\n",
    "        covid_cases=covid_cases,\n",
    "        shared_teks_by_upload_date=shared_teks_by_upload_date,\n",
    "        shared_diagnoses=shared_diagnoses,\n",
    "        teks_per_shared_diagnosis=teks_per_shared_diagnosis,\n",
    "        shared_diagnoses_per_covid_case=shared_diagnoses_per_covid_case,\n",
    "    ),\n",
    "    last_7_days=dict(\n",
    "        covid_cases=last_7_days_summary.covid_cases,\n",
    "        shared_teks_by_upload_date=last_7_days_summary.shared_teks_by_upload_date,\n",
    "        shared_diagnoses=last_7_days_summary.shared_diagnoses,\n",
    "        teks_per_shared_diagnosis=last_7_days_summary.teks_per_shared_diagnosis,\n",
    "        shared_diagnoses_per_covid_case=last_7_days_summary.shared_diagnoses_per_covid_case,\n",
    "    ),\n",
    "    daily_results=summary_results_api_df.to_dict(orient=\"records\"))\n",
    "summary_results = \\\n",
    "    json.loads(pd.Series([summary_results]).to_json(orient=\"records\"))[0]\n",
    "\n",
    "with open(report_resources_path_prefix + \"Summary-Results.json\", \"w\") as f:\n",
    "    json.dump(summary_results, f, indent=4)"
   ]
  },
  {
   "cell_type": "markdown",
   "metadata": {
    "collapsed": false,
    "papermill": {
     "duration": 0.408799,
     "end_time": "2020-09-25T15:19:34.650513",
     "exception": false,
     "start_time": "2020-09-25T15:19:34.241714",
     "status": "completed"
    },
    "tags": []
   },
   "source": [
    "### Publish on README"
   ]
  },
  {
   "cell_type": "code",
   "execution_count": 45,
   "metadata": {
    "collapsed": false,
    "execution": {
     "iopub.execute_input": "2020-09-25T15:19:34.805097Z",
     "iopub.status.busy": "2020-09-25T15:19:34.804467Z",
     "iopub.status.idle": "2020-09-25T15:19:34.807978Z",
     "shell.execute_reply": "2020-09-25T15:19:34.807495Z"
    },
    "papermill": {
     "duration": 0.062035,
     "end_time": "2020-09-25T15:19:34.808082",
     "exception": false,
     "start_time": "2020-09-25T15:19:34.746047",
     "status": "completed"
    },
    "pycharm": {
     "name": "#%%\n"
    },
    "tags": []
   },
   "outputs": [],
   "source": [
    "with open(\"Data/Templates/README.md\", \"r\") as f:\n",
    "    readme_contents = f.read()\n",
    "\n",
    "readme_contents = readme_contents.format(\n",
    "    daily_summary_table_html=daily_summary_table_html,\n",
    "    report_url_with_hour=report_hourly_url,\n",
    "    extraction_date_with_hour=extraction_date_with_hour)\n",
    "\n",
    "with open(\"README.md\", \"w\") as f:\n",
    "    f.write(readme_contents)"
   ]
  },
  {
   "cell_type": "markdown",
   "metadata": {
    "collapsed": false,
    "papermill": {
     "duration": 0.059689,
     "end_time": "2020-09-25T15:19:34.920236",
     "exception": false,
     "start_time": "2020-09-25T15:19:34.860547",
     "status": "completed"
    },
    "tags": []
   },
   "source": [
    "### Publish on Twitter"
   ]
  },
  {
   "cell_type": "code",
   "execution_count": 46,
   "metadata": {
    "collapsed": false,
    "execution": {
     "iopub.execute_input": "2020-09-25T15:19:35.033037Z",
     "iopub.status.busy": "2020-09-25T15:19:35.032452Z",
     "iopub.status.idle": "2020-09-25T15:19:38.715246Z",
     "shell.execute_reply": "2020-09-25T15:19:38.714809Z"
    },
    "papermill": {
     "duration": 3.743534,
     "end_time": "2020-09-25T15:19:38.715369",
     "exception": false,
     "start_time": "2020-09-25T15:19:34.971835",
     "status": "completed"
    },
    "pycharm": {
     "name": "#%%\n"
    },
    "tags": []
   },
   "outputs": [],
   "source": [
    "enable_share_to_twitter = os.environ.get(\"RADARCOVID_REPORT__ENABLE_PUBLISH_ON_TWITTER\")\n",
    "github_event_name = os.environ.get(\"GITHUB_EVENT_NAME\")\n",
    "\n",
    "if enable_share_to_twitter and github_event_name == \"schedule\":\n",
    "    import tweepy\n",
    "\n",
    "    twitter_api_auth_keys = os.environ[\"RADARCOVID_REPORT__TWITTER_API_AUTH_KEYS\"]\n",
    "    twitter_api_auth_keys = twitter_api_auth_keys.split(\":\")\n",
    "    auth = tweepy.OAuthHandler(twitter_api_auth_keys[0], twitter_api_auth_keys[1])\n",
    "    auth.set_access_token(twitter_api_auth_keys[2], twitter_api_auth_keys[3])\n",
    "\n",
    "    api = tweepy.API(auth)\n",
    "\n",
    "    summary_plots_media = api.media_upload(summary_plots_image_path)\n",
    "    summary_table_media = api.media_upload(summary_table_image_path)\n",
    "    hourly_summary_plots_media = api.media_upload(hourly_summary_plots_image_path)\n",
    "    media_ids = [\n",
    "        summary_plots_media.media_id,\n",
    "        summary_table_media.media_id,\n",
    "        hourly_summary_plots_media.media_id,\n",
    "    ]\n",
    "\n",
    "    status = textwrap.dedent(f\"\"\"\n",
    "        #RadarCOVID Report – {extraction_date_with_hour}\n",
    "\n",
    "        Today:\n",
    "        - Uploaded TEKs: {shared_teks_by_upload_date:.0f} ({shared_teks_by_upload_date_last_hour:+d} last hour)\n",
    "        - Shared Diagnoses: {shared_diagnoses:.0f} ({shared_diagnoses_last_hour:+d} last hour)\n",
    "        - TEKs per Diagnosis: {teks_per_shared_diagnosis:.2}\n",
    "        - Usage Ratio: {shared_diagnoses_per_covid_case:.2%}\n",
    "\n",
    "        Week:\n",
    "        - Shared Diagnoses: {last_7_days_summary.shared_diagnoses:.0f}\n",
    "        - Usage Ratio: {last_7_days_summary.shared_diagnoses_per_covid_case:.2%}\n",
    "\n",
    "        Report Link: {report_hourly_url}\n",
    "        \"\"\")\n",
    "    status = status.encode(encoding=\"utf-8\")\n",
    "    api.update_status(status=status, media_ids=media_ids)"
   ]
  }
 ],
 "metadata": {
  "kernelspec": {
   "display_name": "Python 3",
   "language": "python",
   "name": "python3"
  },
  "language_info": {
   "codemirror_mode": {
    "name": "ipython",
    "version": 3
   },
   "file_extension": ".py",
   "mimetype": "text/x-python",
   "name": "python",
   "nbconvert_exporter": "python",
   "pygments_lexer": "ipython3",
   "version": "3.8.5"
  },
  "papermill": {
   "duration": 21.67711,
   "end_time": "2020-09-25T15:19:39.176103",
   "environment_variables": {},
   "exception": null,
   "input_path": "Notebooks/RadarCOVID-Report/Source/RadarCOVID-Report.ipynb",
   "output_path": "RadarCOVID-Report.ipynb",
   "parameters": {},
   "start_time": "2020-09-25T15:19:17.498993",
   "version": "2.1.3"
  }
 },
 "nbformat": 4,
 "nbformat_minor": 1
}