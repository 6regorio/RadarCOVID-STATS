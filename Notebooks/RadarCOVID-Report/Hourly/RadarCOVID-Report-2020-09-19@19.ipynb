{
 "cells": [
  {
   "cell_type": "markdown",
   "metadata": {
    "papermill": {
     "duration": 0.032569,
     "end_time": "2020-09-19T19:17:34.410793",
     "exception": false,
     "start_time": "2020-09-19T19:17:34.378224",
     "status": "completed"
    },
    "pycharm": {
     "name": "#%% md\n"
    },
    "tags": []
   },
   "source": [
    "# RadarCOVID-Report"
   ]
  },
  {
   "cell_type": "markdown",
   "metadata": {
    "collapsed": true,
    "papermill": {
     "duration": 0.030413,
     "end_time": "2020-09-19T19:17:34.471298",
     "exception": false,
     "start_time": "2020-09-19T19:17:34.440885",
     "status": "completed"
    },
    "pycharm": {
     "name": "#%% md\n"
    },
    "tags": []
   },
   "source": [
    "## Data Extraction"
   ]
  },
  {
   "cell_type": "code",
   "execution_count": 1,
   "metadata": {
    "execution": {
     "iopub.execute_input": "2020-09-19T19:17:34.535581Z",
     "iopub.status.busy": "2020-09-19T19:17:34.534949Z",
     "iopub.status.idle": "2020-09-19T19:17:40.742016Z",
     "shell.execute_reply": "2020-09-19T19:17:40.741372Z"
    },
    "papermill": {
     "duration": 6.242671,
     "end_time": "2020-09-19T19:17:40.742219",
     "exception": false,
     "start_time": "2020-09-19T19:17:34.499548",
     "status": "completed"
    },
    "pycharm": {
     "name": "#%%\n"
    },
    "tags": []
   },
   "outputs": [],
   "source": [
    "import datetime\n",
    "import logging\n",
    "import os\n",
    "import shutil\n",
    "import tempfile\n",
    "import textwrap\n",
    "import uuid\n",
    "\n",
    "import dataframe_image as dfi\n",
    "import matplotlib.ticker\n",
    "import numpy as np\n",
    "import pandas as pd\n",
    "import seaborn as sns\n",
    "\n",
    "%matplotlib inline"
   ]
  },
  {
   "cell_type": "code",
   "execution_count": 2,
   "metadata": {
    "collapsed": false,
    "execution": {
     "iopub.execute_input": "2020-09-19T19:17:40.819235Z",
     "iopub.status.busy": "2020-09-19T19:17:40.818125Z",
     "iopub.status.idle": "2020-09-19T19:17:40.821078Z",
     "shell.execute_reply": "2020-09-19T19:17:40.821818Z"
    },
    "papermill": {
     "duration": 0.045442,
     "end_time": "2020-09-19T19:17:40.822040",
     "exception": false,
     "start_time": "2020-09-19T19:17:40.776598",
     "status": "completed"
    },
    "pycharm": {
     "name": "#%%\n"
    },
    "tags": []
   },
   "outputs": [],
   "source": [
    "current_working_directory = os.environ.get(\"PWD\")\n",
    "if current_working_directory:\n",
    "    os.chdir(current_working_directory)\n",
    "\n",
    "sns.set()\n",
    "matplotlib.rcParams['figure.figsize'] = (15, 6)\n",
    "\n",
    "extraction_datetime = datetime.datetime.utcnow()\n",
    "extraction_date = extraction_datetime.strftime(\"%Y-%m-%d\")\n",
    "extraction_previous_datetime = extraction_datetime - datetime.timedelta(days=1)\n",
    "extraction_previous_date = extraction_previous_datetime.strftime(\"%Y-%m-%d\")\n",
    "extraction_date_with_hour = datetime.datetime.utcnow().strftime(\"%Y-%m-%d@%H\")"
   ]
  },
  {
   "cell_type": "markdown",
   "metadata": {
    "papermill": {
     "duration": 0.030623,
     "end_time": "2020-09-19T19:17:40.883059",
     "exception": false,
     "start_time": "2020-09-19T19:17:40.852436",
     "status": "completed"
    },
    "tags": []
   },
   "source": [
    "### COVID-19 Cases"
   ]
  },
  {
   "cell_type": "code",
   "execution_count": 3,
   "metadata": {
    "execution": {
     "iopub.execute_input": "2020-09-19T19:17:40.951048Z",
     "iopub.status.busy": "2020-09-19T19:17:40.950006Z",
     "iopub.status.idle": "2020-09-19T19:17:41.325854Z",
     "shell.execute_reply": "2020-09-19T19:17:41.324662Z"
    },
    "papermill": {
     "duration": 0.412968,
     "end_time": "2020-09-19T19:17:41.326003",
     "exception": false,
     "start_time": "2020-09-19T19:17:40.913035",
     "status": "completed"
    },
    "pycharm": {
     "name": "#%%\n"
    },
    "tags": []
   },
   "outputs": [],
   "source": [
    "spain_region_country_name = \"Spain\"\n",
    "spain_region_country_code = \"ES\"\n",
    "\n",
    "confirmed_df = pd.read_csv(\"https://covid19tracking.narrativa.com/csv/confirmed.csv\")\n",
    "\n",
    "radar_covid_countries = {spain_region_country_name}\n",
    "# radar_covid_regions = { ... }\n",
    "\n",
    "confirmed_df = confirmed_df[confirmed_df[\"Country_EN\"].isin(radar_covid_countries)]\n",
    "# confirmed_df = confirmed_df[confirmed_df[\"Region\"].isin(radar_covid_regions)]\n",
    "# set(confirmed_df.Region.tolist()) == radar_covid_regions"
   ]
  },
  {
   "cell_type": "code",
   "execution_count": 4,
   "metadata": {
    "collapsed": false,
    "execution": {
     "iopub.execute_input": "2020-09-19T19:17:41.398486Z",
     "iopub.status.busy": "2020-09-19T19:17:41.395545Z",
     "iopub.status.idle": "2020-09-19T19:17:41.402783Z",
     "shell.execute_reply": "2020-09-19T19:17:41.401962Z"
    },
    "papermill": {
     "duration": 0.048504,
     "end_time": "2020-09-19T19:17:41.402939",
     "exception": false,
     "start_time": "2020-09-19T19:17:41.354435",
     "status": "completed"
    },
    "pycharm": {
     "name": "#%%\n"
    },
    "tags": []
   },
   "outputs": [
    {
     "data": {
      "text/html": [
       "<div>\n",
       "<style scoped>\n",
       "    .dataframe tbody tr th:only-of-type {\n",
       "        vertical-align: middle;\n",
       "    }\n",
       "\n",
       "    .dataframe tbody tr th {\n",
       "        vertical-align: top;\n",
       "    }\n",
       "\n",
       "    .dataframe thead th {\n",
       "        text-align: right;\n",
       "    }\n",
       "</style>\n",
       "<table border=\"1\" class=\"dataframe\">\n",
       "  <thead>\n",
       "    <tr style=\"text-align: right;\">\n",
       "      <th></th>\n",
       "      <th>0</th>\n",
       "    </tr>\n",
       "  </thead>\n",
       "  <tbody>\n",
       "    <tr>\n",
       "      <th>2020-09-14</th>\n",
       "      <td>1187460.0</td>\n",
       "    </tr>\n",
       "    <tr>\n",
       "      <th>2020-09-15</th>\n",
       "      <td>1206334.0</td>\n",
       "    </tr>\n",
       "    <tr>\n",
       "      <th>2020-09-16</th>\n",
       "      <td>1228720.0</td>\n",
       "    </tr>\n",
       "    <tr>\n",
       "      <th>2020-09-17</th>\n",
       "      <td>1251302.0</td>\n",
       "    </tr>\n",
       "    <tr>\n",
       "      <th>2020-09-18</th>\n",
       "      <td>1280080.0</td>\n",
       "    </tr>\n",
       "  </tbody>\n",
       "</table>\n",
       "</div>"
      ],
      "text/plain": [
       "                    0\n",
       "2020-09-14  1187460.0\n",
       "2020-09-15  1206334.0\n",
       "2020-09-16  1228720.0\n",
       "2020-09-17  1251302.0\n",
       "2020-09-18  1280080.0"
      ]
     },
     "execution_count": 4,
     "metadata": {},
     "output_type": "execute_result"
    }
   ],
   "source": [
    "confirmed_country_columns = list(filter(lambda x: x.startswith(\"Country_\"), confirmed_df.columns))\n",
    "confirmed_regional_columns = confirmed_country_columns + [\"Region\"]\n",
    "confirmed_df.drop(columns=confirmed_regional_columns, inplace=True)\n",
    "confirmed_df = confirmed_df.sum().to_frame()\n",
    "confirmed_df.tail()"
   ]
  },
  {
   "cell_type": "code",
   "execution_count": 5,
   "metadata": {
    "collapsed": false,
    "execution": {
     "iopub.execute_input": "2020-09-19T19:17:41.469458Z",
     "iopub.status.busy": "2020-09-19T19:17:41.468765Z",
     "iopub.status.idle": "2020-09-19T19:17:41.479184Z",
     "shell.execute_reply": "2020-09-19T19:17:41.479709Z"
    },
    "papermill": {
     "duration": 0.0486,
     "end_time": "2020-09-19T19:17:41.479902",
     "exception": false,
     "start_time": "2020-09-19T19:17:41.431302",
     "status": "completed"
    },
    "pycharm": {
     "name": "#%%\n"
    },
    "tags": []
   },
   "outputs": [
    {
     "data": {
      "text/html": [
       "<div>\n",
       "<style scoped>\n",
       "    .dataframe tbody tr th:only-of-type {\n",
       "        vertical-align: middle;\n",
       "    }\n",
       "\n",
       "    .dataframe tbody tr th {\n",
       "        vertical-align: top;\n",
       "    }\n",
       "\n",
       "    .dataframe thead th {\n",
       "        text-align: right;\n",
       "    }\n",
       "</style>\n",
       "<table border=\"1\" class=\"dataframe\">\n",
       "  <thead>\n",
       "    <tr style=\"text-align: right;\">\n",
       "      <th></th>\n",
       "      <th>sample_date_string</th>\n",
       "      <th>cumulative_cases</th>\n",
       "      <th>new_cases</th>\n",
       "      <th>rolling_mean_new_cases</th>\n",
       "    </tr>\n",
       "  </thead>\n",
       "  <tbody>\n",
       "    <tr>\n",
       "      <th>235</th>\n",
       "      <td>2020-09-14</td>\n",
       "      <td>1187460.0</td>\n",
       "      <td>54808.0</td>\n",
       "      <td>19480.0</td>\n",
       "    </tr>\n",
       "    <tr>\n",
       "      <th>236</th>\n",
       "      <td>2020-09-15</td>\n",
       "      <td>1206334.0</td>\n",
       "      <td>18874.0</td>\n",
       "      <td>19615.0</td>\n",
       "    </tr>\n",
       "    <tr>\n",
       "      <th>237</th>\n",
       "      <td>2020-09-16</td>\n",
       "      <td>1228720.0</td>\n",
       "      <td>22386.0</td>\n",
       "      <td>20280.0</td>\n",
       "    </tr>\n",
       "    <tr>\n",
       "      <th>238</th>\n",
       "      <td>2020-09-17</td>\n",
       "      <td>1251302.0</td>\n",
       "      <td>22582.0</td>\n",
       "      <td>20431.0</td>\n",
       "    </tr>\n",
       "    <tr>\n",
       "      <th>239</th>\n",
       "      <td>2020-09-18</td>\n",
       "      <td>1280080.0</td>\n",
       "      <td>28778.0</td>\n",
       "      <td>21061.0</td>\n",
       "    </tr>\n",
       "  </tbody>\n",
       "</table>\n",
       "</div>"
      ],
      "text/plain": [
       "    sample_date_string  cumulative_cases  new_cases  rolling_mean_new_cases\n",
       "235         2020-09-14         1187460.0    54808.0                 19480.0\n",
       "236         2020-09-15         1206334.0    18874.0                 19615.0\n",
       "237         2020-09-16         1228720.0    22386.0                 20280.0\n",
       "238         2020-09-17         1251302.0    22582.0                 20431.0\n",
       "239         2020-09-18         1280080.0    28778.0                 21061.0"
      ]
     },
     "execution_count": 5,
     "metadata": {},
     "output_type": "execute_result"
    }
   ],
   "source": [
    "confirmed_df.reset_index(inplace=True)\n",
    "confirmed_df.columns = [\"sample_date_string\", \"cumulative_cases\"]\n",
    "confirmed_df.sort_values(\"sample_date_string\", inplace=True)\n",
    "confirmed_df[\"new_cases\"] = confirmed_df.cumulative_cases.diff()\n",
    "confirmed_df[\"rolling_mean_new_cases\"] = confirmed_df.new_cases.rolling(7).mean().round()\n",
    "confirmed_df.tail()"
   ]
  },
  {
   "cell_type": "code",
   "execution_count": 6,
   "metadata": {
    "execution": {
     "iopub.execute_input": "2020-09-19T19:17:41.547992Z",
     "iopub.status.busy": "2020-09-19T19:17:41.547068Z",
     "iopub.status.idle": "2020-09-19T19:17:41.559738Z",
     "shell.execute_reply": "2020-09-19T19:17:41.559177Z"
    },
    "papermill": {
     "duration": 0.051203,
     "end_time": "2020-09-19T19:17:41.559931",
     "exception": false,
     "start_time": "2020-09-19T19:17:41.508728",
     "status": "completed"
    },
    "pycharm": {
     "name": "#%%\n"
    },
    "tags": []
   },
   "outputs": [
    {
     "data": {
      "text/html": [
       "<div>\n",
       "<style scoped>\n",
       "    .dataframe tbody tr th:only-of-type {\n",
       "        vertical-align: middle;\n",
       "    }\n",
       "\n",
       "    .dataframe tbody tr th {\n",
       "        vertical-align: top;\n",
       "    }\n",
       "\n",
       "    .dataframe thead th {\n",
       "        text-align: right;\n",
       "    }\n",
       "</style>\n",
       "<table border=\"1\" class=\"dataframe\">\n",
       "  <thead>\n",
       "    <tr style=\"text-align: right;\">\n",
       "      <th></th>\n",
       "      <th>sample_date_string</th>\n",
       "      <th>cumulative_cases</th>\n",
       "      <th>new_cases</th>\n",
       "      <th>rolling_mean_new_cases</th>\n",
       "    </tr>\n",
       "  </thead>\n",
       "  <tbody>\n",
       "    <tr>\n",
       "      <th>236</th>\n",
       "      <td>2020-09-15</td>\n",
       "      <td>1206334.0</td>\n",
       "      <td>18874.0</td>\n",
       "      <td>19615.0</td>\n",
       "    </tr>\n",
       "    <tr>\n",
       "      <th>237</th>\n",
       "      <td>2020-09-16</td>\n",
       "      <td>1228720.0</td>\n",
       "      <td>22386.0</td>\n",
       "      <td>20280.0</td>\n",
       "    </tr>\n",
       "    <tr>\n",
       "      <th>238</th>\n",
       "      <td>2020-09-17</td>\n",
       "      <td>1251302.0</td>\n",
       "      <td>22582.0</td>\n",
       "      <td>20431.0</td>\n",
       "    </tr>\n",
       "    <tr>\n",
       "      <th>239</th>\n",
       "      <td>2020-09-18</td>\n",
       "      <td>1280080.0</td>\n",
       "      <td>28778.0</td>\n",
       "      <td>21061.0</td>\n",
       "    </tr>\n",
       "    <tr>\n",
       "      <th>239</th>\n",
       "      <td>2020-09-19</td>\n",
       "      <td>1301141.0</td>\n",
       "      <td>21061.0</td>\n",
       "      <td>21061.0</td>\n",
       "    </tr>\n",
       "  </tbody>\n",
       "</table>\n",
       "</div>"
      ],
      "text/plain": [
       "    sample_date_string  cumulative_cases  new_cases  rolling_mean_new_cases\n",
       "236         2020-09-15         1206334.0    18874.0                 19615.0\n",
       "237         2020-09-16         1228720.0    22386.0                 20280.0\n",
       "238         2020-09-17         1251302.0    22582.0                 20431.0\n",
       "239         2020-09-18         1280080.0    28778.0                 21061.0\n",
       "239         2020-09-19         1301141.0    21061.0                 21061.0"
      ]
     },
     "execution_count": 6,
     "metadata": {},
     "output_type": "execute_result"
    }
   ],
   "source": [
    "extraction_date_confirmed_df = \\\n",
    "    confirmed_df[confirmed_df.sample_date_string == extraction_date]\n",
    "extraction_previous_date_confirmed_df = \\\n",
    "    confirmed_df[confirmed_df.sample_date_string == extraction_previous_date].copy()\n",
    "\n",
    "if extraction_date_confirmed_df.empty and \\\n",
    "    not extraction_previous_date_confirmed_df.empty:\n",
    "        extraction_previous_date_confirmed_df[\"sample_date_string\"] = extraction_date\n",
    "        extraction_previous_date_confirmed_df[\"new_cases\"] = \\\n",
    "            extraction_previous_date_confirmed_df.rolling_mean_new_cases\n",
    "        extraction_previous_date_confirmed_df[\"cumulative_cases\"] = \\\n",
    "            extraction_previous_date_confirmed_df.new_cases + \\\n",
    "            extraction_previous_date_confirmed_df.cumulative_cases\n",
    "        confirmed_df = confirmed_df.append(extraction_previous_date_confirmed_df)\n",
    "        \n",
    "confirmed_df.tail()"
   ]
  },
  {
   "cell_type": "code",
   "execution_count": 7,
   "metadata": {
    "execution": {
     "iopub.execute_input": "2020-09-19T19:17:41.628436Z",
     "iopub.status.busy": "2020-09-19T19:17:41.627794Z",
     "iopub.status.idle": "2020-09-19T19:17:41.860315Z",
     "shell.execute_reply": "2020-09-19T19:17:41.860852Z"
    },
    "papermill": {
     "duration": 0.272366,
     "end_time": "2020-09-19T19:17:41.861022",
     "exception": false,
     "start_time": "2020-09-19T19:17:41.588656",
     "status": "completed"
    },
    "pycharm": {
     "name": "#%%\n"
    },
    "tags": []
   },
   "outputs": [
    {
     "data": {
      "text/plain": [
       "<matplotlib.axes._subplots.AxesSubplot at 0x7f0d50abd4f0>"
      ]
     },
     "execution_count": 7,
     "metadata": {},
     "output_type": "execute_result"
    },
    {
     "data": {
      "image/png": "[encoded data removed]",
      "text/plain": [
       "<Figure size 1080x432 with 1 Axes>"
      ]
     },
     "metadata": {},
     "output_type": "display_data"
    }
   ],
   "source": [
    "confirmed_df[[\"new_cases\", \"rolling_mean_new_cases\"]].plot()"
   ]
  },
  {
   "cell_type": "markdown",
   "metadata": {
    "execution": {
     "iopub.execute_input": "2020-08-30T22:30:16.351238Z",
     "iopub.status.busy": "2020-08-30T22:30:16.344579Z",
     "iopub.status.idle": "2020-08-30T22:30:16.354285Z",
     "shell.execute_reply": "2020-08-30T22:30:16.353641Z"
    },
    "papermill": {
     "duration": 0.031641,
     "end_time": "2020-09-19T19:17:41.934535",
     "exception": false,
     "start_time": "2020-09-19T19:17:41.902894",
     "status": "completed"
    },
    "pycharm": {
     "name": "#%% md\n"
    },
    "tags": []
   },
   "source": [
    "### Extract API TEKs"
   ]
  },
  {
   "cell_type": "code",
   "execution_count": 8,
   "metadata": {
    "execution": {
     "iopub.execute_input": "2020-09-19T19:17:42.002709Z",
     "iopub.status.busy": "2020-09-19T19:17:42.001945Z",
     "iopub.status.idle": "2020-09-19T19:17:42.633861Z",
     "shell.execute_reply": "2020-09-19T19:17:42.634396Z"
    },
    "papermill": {
     "duration": 0.668975,
     "end_time": "2020-09-19T19:17:42.634577",
     "exception": false,
     "start_time": "2020-09-19T19:17:41.965602",
     "status": "completed"
    },
    "pycharm": {
     "name": "#%%\n"
    },
    "tags": []
   },
   "outputs": [
    {
     "name": "stderr",
     "output_type": "stream",
     "text": [
      "WARNING:root:Unexpected key 'key_rolling_period': 38400s (expected: 86400s)\n"
     ]
    },
    {
     "name": "stderr",
     "output_type": "stream",
     "text": [
      "WARNING:root:Unexpected key 'key_rolling_period': 23400s (expected: 86400s)\n"
     ]
    },
    {
     "name": "stderr",
     "output_type": "stream",
     "text": [
      "WARNING:root:Unexpected key 'key_rolling_period': 53400s (expected: 86400s)\n"
     ]
    },
    {
     "name": "stderr",
     "output_type": "stream",
     "text": [
      "WARNING:root:Unexpected key 'key_rolling_period': 48600s (expected: 86400s)\n"
     ]
    },
    {
     "data": {
      "text/plain": [
       "['ES']"
      ]
     },
     "execution_count": 8,
     "metadata": {},
     "output_type": "execute_result"
    }
   ],
   "source": [
    "from Modules.RadarCOVID import radar_covid\n",
    "\n",
    "exposure_keys_multi_region_df = \\\n",
    "    radar_covid.download_last_radar_covid_exposure_keys(days=14)\n",
    "exposure_keys_multi_region_df = exposure_keys_multi_region_df[[\n",
    "    \"sample_date_string\", \"source_url\", \"region\", \"key_data\"]]\n",
    "active_regions = \\\n",
    "    exposure_keys_multi_region_df.groupby(\"region\").key_data.nunique().sort_values().index.unique().tolist()\n",
    "active_regions"
   ]
  },
  {
   "cell_type": "code",
   "execution_count": 9,
   "metadata": {
    "collapsed": false,
    "execution": {
     "iopub.execute_input": "2020-09-19T19:17:42.705803Z",
     "iopub.status.busy": "2020-09-19T19:17:42.705138Z",
     "iopub.status.idle": "2020-09-19T19:17:42.732357Z",
     "shell.execute_reply": "2020-09-19T19:17:42.731497Z"
    },
    "papermill": {
     "duration": 0.065943,
     "end_time": "2020-09-19T19:17:42.732510",
     "exception": false,
     "start_time": "2020-09-19T19:17:42.666567",
     "status": "completed"
    },
    "pycharm": {
     "name": "#%%\n"
    },
    "tags": []
   },
   "outputs": [
    {
     "data": {
      "text/html": [
       "<div>\n",
       "<style scoped>\n",
       "    .dataframe tbody tr th:only-of-type {\n",
       "        vertical-align: middle;\n",
       "    }\n",
       "\n",
       "    .dataframe tbody tr th {\n",
       "        vertical-align: top;\n",
       "    }\n",
       "\n",
       "    .dataframe thead tr th {\n",
       "        text-align: left;\n",
       "    }\n",
       "\n",
       "    .dataframe thead tr:last-of-type th {\n",
       "        text-align: right;\n",
       "    }\n",
       "</style>\n",
       "<table border=\"1\" class=\"dataframe\">\n",
       "  <thead>\n",
       "    <tr>\n",
       "      <th></th>\n",
       "      <th>tek_count</th>\n",
       "    </tr>\n",
       "    <tr>\n",
       "      <th>region</th>\n",
       "      <th>ES</th>\n",
       "    </tr>\n",
       "    <tr>\n",
       "      <th>sample_date_string</th>\n",
       "      <th></th>\n",
       "    </tr>\n",
       "  </thead>\n",
       "  <tbody>\n",
       "    <tr>\n",
       "      <th>2020-09-19</th>\n",
       "      <td>2</td>\n",
       "    </tr>\n",
       "    <tr>\n",
       "      <th>2020-09-18</th>\n",
       "      <td>38</td>\n",
       "    </tr>\n",
       "    <tr>\n",
       "      <th>2020-09-17</th>\n",
       "      <td>63</td>\n",
       "    </tr>\n",
       "    <tr>\n",
       "      <th>2020-09-16</th>\n",
       "      <td>66</td>\n",
       "    </tr>\n",
       "    <tr>\n",
       "      <th>2020-09-15</th>\n",
       "      <td>66</td>\n",
       "    </tr>\n",
       "  </tbody>\n",
       "</table>\n",
       "</div>"
      ],
      "text/plain": [
       "                   tek_count\n",
       "region                    ES\n",
       "sample_date_string          \n",
       "2020-09-19                 2\n",
       "2020-09-18                38\n",
       "2020-09-17                63\n",
       "2020-09-16                66\n",
       "2020-09-15                66"
      ]
     },
     "execution_count": 9,
     "metadata": {},
     "output_type": "execute_result"
    }
   ],
   "source": [
    "multi_region_summary_df = exposure_keys_multi_region_df.groupby(\n",
    "    [\"sample_date_string\", \"region\"]).key_data.nunique().reset_index() \\\n",
    "    .pivot(index=\"sample_date_string\", columns=\"region\") \\\n",
    "    .sort_index(ascending=False)\n",
    "multi_region_summary_df.rename(columns={\"key_data\": \"tek_count\"}, inplace=True)\n",
    "multi_region_summary_df.head()"
   ]
  },
  {
   "cell_type": "code",
   "execution_count": 10,
   "metadata": {
    "collapsed": false,
    "execution": {
     "iopub.execute_input": "2020-09-19T19:17:42.819837Z",
     "iopub.status.busy": "2020-09-19T19:17:42.818908Z",
     "iopub.status.idle": "2020-09-19T19:17:42.822175Z",
     "shell.execute_reply": "2020-09-19T19:17:42.822987Z"
    },
    "papermill": {
     "duration": 0.049626,
     "end_time": "2020-09-19T19:17:42.823207",
     "exception": false,
     "start_time": "2020-09-19T19:17:42.773581",
     "status": "completed"
    },
    "pycharm": {
     "name": "#%%\n"
    },
    "tags": []
   },
   "outputs": [
    {
     "data": {
      "text/plain": [
       "[]"
      ]
     },
     "execution_count": 10,
     "metadata": {},
     "output_type": "execute_result"
    }
   ],
   "source": [
    "exposure_keys_multi_region_excluding_spain_df = \\\n",
    "    exposure_keys_multi_region_df[exposure_keys_multi_region_df.region != spain_region_country_code]\n",
    "active_regions_excluding_spain = \\\n",
    "    exposure_keys_multi_region_excluding_spain_df.groupby(\"region\").key_data.nunique().sort_values().index.unique().tolist()\n",
    "active_regions_excluding_spain"
   ]
  },
  {
   "cell_type": "code",
   "execution_count": 11,
   "metadata": {
    "collapsed": false,
    "execution": {
     "iopub.execute_input": "2020-09-19T19:17:42.897873Z",
     "iopub.status.busy": "2020-09-19T19:17:42.897149Z",
     "iopub.status.idle": "2020-09-19T19:17:42.908460Z",
     "shell.execute_reply": "2020-09-19T19:17:42.908987Z"
    },
    "papermill": {
     "duration": 0.052449,
     "end_time": "2020-09-19T19:17:42.909239",
     "exception": false,
     "start_time": "2020-09-19T19:17:42.856790",
     "status": "completed"
    },
    "pycharm": {
     "name": "#%%\n"
    },
    "tags": []
   },
   "outputs": [
    {
     "data": {
      "text/html": [
       "<div>\n",
       "<style scoped>\n",
       "    .dataframe tbody tr th:only-of-type {\n",
       "        vertical-align: middle;\n",
       "    }\n",
       "\n",
       "    .dataframe tbody tr th {\n",
       "        vertical-align: top;\n",
       "    }\n",
       "\n",
       "    .dataframe thead th {\n",
       "        text-align: right;\n",
       "    }\n",
       "</style>\n",
       "<table border=\"1\" class=\"dataframe\">\n",
       "  <thead>\n",
       "    <tr style=\"text-align: right;\">\n",
       "      <th></th>\n",
       "      <th>sample_date_string</th>\n",
       "      <th>source_url</th>\n",
       "      <th>region</th>\n",
       "      <th>key_data</th>\n",
       "    </tr>\n",
       "  </thead>\n",
       "  <tbody>\n",
       "    <tr>\n",
       "      <th>0</th>\n",
       "      <td>2020-09-19</td>\n",
       "      <td>https://radarcovid.covid19.gob.es/dp3t/v1/gaen...</td>\n",
       "      <td>ES</td>\n",
       "      <td>d4787a07-8b0b-58cc-b9e3-a94b0928d497</td>\n",
       "    </tr>\n",
       "    <tr>\n",
       "      <th>1</th>\n",
       "      <td>2020-09-19</td>\n",
       "      <td>https://radarcovid.covid19.gob.es/dp3t/v1/gaen...</td>\n",
       "      <td>ES</td>\n",
       "      <td>fc2611d2-31a3-2f44-1685-eec67c53eadd</td>\n",
       "    </tr>\n",
       "    <tr>\n",
       "      <th>0</th>\n",
       "      <td>2020-09-18</td>\n",
       "      <td>https://radarcovid.covid19.gob.es/dp3t/v1/gaen...</td>\n",
       "      <td>ES</td>\n",
       "      <td>bdfba1d7-50f3-b91c-be93-395738b4993e</td>\n",
       "    </tr>\n",
       "    <tr>\n",
       "      <th>1</th>\n",
       "      <td>2020-09-18</td>\n",
       "      <td>https://radarcovid.covid19.gob.es/dp3t/v1/gaen...</td>\n",
       "      <td>ES</td>\n",
       "      <td>c0617934-fb57-b8a8-0563-1f2d4b620fec</td>\n",
       "    </tr>\n",
       "    <tr>\n",
       "      <th>2</th>\n",
       "      <td>2020-09-18</td>\n",
       "      <td>https://radarcovid.covid19.gob.es/dp3t/v1/gaen...</td>\n",
       "      <td>ES</td>\n",
       "      <td>eca375ea-96d7-a804-6f54-49afc834f4af</td>\n",
       "    </tr>\n",
       "  </tbody>\n",
       "</table>\n",
       "</div>"
      ],
      "text/plain": [
       "  sample_date_string                                         source_url  \\\n",
       "0         2020-09-19  https://radarcovid.covid19.gob.es/dp3t/v1/gaen...   \n",
       "1         2020-09-19  https://radarcovid.covid19.gob.es/dp3t/v1/gaen...   \n",
       "0         2020-09-18  https://radarcovid.covid19.gob.es/dp3t/v1/gaen...   \n",
       "1         2020-09-18  https://radarcovid.covid19.gob.es/dp3t/v1/gaen...   \n",
       "2         2020-09-18  https://radarcovid.covid19.gob.es/dp3t/v1/gaen...   \n",
       "\n",
       "  region                              key_data  \n",
       "0     ES  d4787a07-8b0b-58cc-b9e3-a94b0928d497  \n",
       "1     ES  fc2611d2-31a3-2f44-1685-eec67c53eadd  \n",
       "0     ES  bdfba1d7-50f3-b91c-be93-395738b4993e  \n",
       "1     ES  c0617934-fb57-b8a8-0563-1f2d4b620fec  \n",
       "2     ES  eca375ea-96d7-a804-6f54-49afc834f4af  "
      ]
     },
     "execution_count": 11,
     "metadata": {},
     "output_type": "execute_result"
    }
   ],
   "source": [
    "exposure_keys_df = exposure_keys_multi_region_df[\n",
    "    exposure_keys_multi_region_df.region == spain_region_country_code]\n",
    "exposure_keys_df.head()"
   ]
  },
  {
   "cell_type": "code",
   "execution_count": 12,
   "metadata": {
    "execution": {
     "iopub.execute_input": "2020-09-19T19:17:42.990829Z",
     "iopub.status.busy": "2020-09-19T19:17:42.990094Z",
     "iopub.status.idle": "2020-09-19T19:17:43.008549Z",
     "shell.execute_reply": "2020-09-19T19:17:43.009051Z"
    },
    "papermill": {
     "duration": 0.061324,
     "end_time": "2020-09-19T19:17:43.009220",
     "exception": false,
     "start_time": "2020-09-19T19:17:42.947896",
     "status": "completed"
    },
    "scrolled": false,
    "tags": []
   },
   "outputs": [
    {
     "data": {
      "text/html": [
       "<div>\n",
       "<style scoped>\n",
       "    .dataframe tbody tr th:only-of-type {\n",
       "        vertical-align: middle;\n",
       "    }\n",
       "\n",
       "    .dataframe tbody tr th {\n",
       "        vertical-align: top;\n",
       "    }\n",
       "\n",
       "    .dataframe thead th {\n",
       "        text-align: right;\n",
       "    }\n",
       "</style>\n",
       "<table border=\"1\" class=\"dataframe\">\n",
       "  <thead>\n",
       "    <tr style=\"text-align: right;\">\n",
       "      <th></th>\n",
       "      <th>region</th>\n",
       "      <th>tek_count</th>\n",
       "    </tr>\n",
       "    <tr>\n",
       "      <th>sample_date_string</th>\n",
       "      <th></th>\n",
       "      <th></th>\n",
       "    </tr>\n",
       "  </thead>\n",
       "  <tbody>\n",
       "    <tr>\n",
       "      <th>2020-09-19</th>\n",
       "      <td>ES</td>\n",
       "      <td>2</td>\n",
       "    </tr>\n",
       "    <tr>\n",
       "      <th>2020-09-18</th>\n",
       "      <td>ES</td>\n",
       "      <td>38</td>\n",
       "    </tr>\n",
       "    <tr>\n",
       "      <th>2020-09-17</th>\n",
       "      <td>ES</td>\n",
       "      <td>63</td>\n",
       "    </tr>\n",
       "    <tr>\n",
       "      <th>2020-09-16</th>\n",
       "      <td>ES</td>\n",
       "      <td>66</td>\n",
       "    </tr>\n",
       "    <tr>\n",
       "      <th>2020-09-15</th>\n",
       "      <td>ES</td>\n",
       "      <td>66</td>\n",
       "    </tr>\n",
       "  </tbody>\n",
       "</table>\n",
       "</div>"
      ],
      "text/plain": [
       "                   region  tek_count\n",
       "sample_date_string                  \n",
       "2020-09-19             ES          2\n",
       "2020-09-18             ES         38\n",
       "2020-09-17             ES         63\n",
       "2020-09-16             ES         66\n",
       "2020-09-15             ES         66"
      ]
     },
     "execution_count": 12,
     "metadata": {},
     "output_type": "execute_result"
    }
   ],
   "source": [
    "exposure_keys_summary_df = \\\n",
    "    exposure_keys_df.groupby([\"sample_date_string\", \"region\"]).key_data.nunique().to_frame()\n",
    "exposure_keys_summary_df = \\\n",
    "    exposure_keys_summary_df.reset_index().set_index(\"sample_date_string\")\n",
    "exposure_keys_summary_df.sort_index(ascending=False, inplace=True)\n",
    "exposure_keys_summary_df.rename(columns={\"key_data\": \"tek_count\"}, inplace=True)\n",
    "exposure_keys_summary_df.head()"
   ]
  },
  {
   "cell_type": "markdown",
   "metadata": {
    "papermill": {
     "duration": 0.038455,
     "end_time": "2020-09-19T19:17:43.083781",
     "exception": false,
     "start_time": "2020-09-19T19:17:43.045326",
     "status": "completed"
    },
    "tags": []
   },
   "source": [
    "### Dump API TEKs"
   ]
  },
  {
   "cell_type": "code",
   "execution_count": 13,
   "metadata": {
    "execution": {
     "iopub.execute_input": "2020-09-19T19:17:43.169262Z",
     "iopub.status.busy": "2020-09-19T19:17:43.168519Z",
     "iopub.status.idle": "2020-09-19T19:17:43.202979Z",
     "shell.execute_reply": "2020-09-19T19:17:43.201960Z"
    },
    "papermill": {
     "duration": 0.08277,
     "end_time": "2020-09-19T19:17:43.203130",
     "exception": false,
     "start_time": "2020-09-19T19:17:43.120360",
     "status": "completed"
    },
    "tags": []
   },
   "outputs": [
    {
     "data": {
      "text/html": [
       "<div>\n",
       "<style scoped>\n",
       "    .dataframe tbody tr th:only-of-type {\n",
       "        vertical-align: middle;\n",
       "    }\n",
       "\n",
       "    .dataframe tbody tr th {\n",
       "        vertical-align: top;\n",
       "    }\n",
       "\n",
       "    .dataframe thead th {\n",
       "        text-align: right;\n",
       "    }\n",
       "</style>\n",
       "<table border=\"1\" class=\"dataframe\">\n",
       "  <thead>\n",
       "    <tr style=\"text-align: right;\">\n",
       "      <th></th>\n",
       "      <th>sample_date</th>\n",
       "      <th>tek_list</th>\n",
       "      <th>extraction_date</th>\n",
       "      <th>extraction_date_with_hour</th>\n",
       "    </tr>\n",
       "  </thead>\n",
       "  <tbody>\n",
       "    <tr>\n",
       "      <th>0</th>\n",
       "      <td>2020-09-06</td>\n",
       "      <td>[385e7ed2-4285-fcfd-18e4-3197e44fc261, d484384...</td>\n",
       "      <td>2020-09-19</td>\n",
       "      <td>2020-09-19@19</td>\n",
       "    </tr>\n",
       "    <tr>\n",
       "      <th>1</th>\n",
       "      <td>2020-09-07</td>\n",
       "      <td>[4f22f269-acd0-9cbd-5082-87826578c387, 402a892...</td>\n",
       "      <td>2020-09-19</td>\n",
       "      <td>2020-09-19@19</td>\n",
       "    </tr>\n",
       "    <tr>\n",
       "      <th>2</th>\n",
       "      <td>2020-09-08</td>\n",
       "      <td>[64d2f594-3e1e-250e-b2e2-103c46f3a4a9, b8121a9...</td>\n",
       "      <td>2020-09-19</td>\n",
       "      <td>2020-09-19@19</td>\n",
       "    </tr>\n",
       "    <tr>\n",
       "      <th>3</th>\n",
       "      <td>2020-09-09</td>\n",
       "      <td>[1f0a0575-26d0-44c1-7b58-0a0193ddfa44, 03a9a6b...</td>\n",
       "      <td>2020-09-19</td>\n",
       "      <td>2020-09-19@19</td>\n",
       "    </tr>\n",
       "    <tr>\n",
       "      <th>4</th>\n",
       "      <td>2020-09-10</td>\n",
       "      <td>[6954f38b-22cd-d093-f288-7cdb50f2951d, 1a86957...</td>\n",
       "      <td>2020-09-19</td>\n",
       "      <td>2020-09-19@19</td>\n",
       "    </tr>\n",
       "  </tbody>\n",
       "</table>\n",
       "</div>"
      ],
      "text/plain": [
       "  sample_date                                           tek_list  \\\n",
       "0  2020-09-06  [385e7ed2-4285-fcfd-18e4-3197e44fc261, d484384...   \n",
       "1  2020-09-07  [4f22f269-acd0-9cbd-5082-87826578c387, 402a892...   \n",
       "2  2020-09-08  [64d2f594-3e1e-250e-b2e2-103c46f3a4a9, b8121a9...   \n",
       "3  2020-09-09  [1f0a0575-26d0-44c1-7b58-0a0193ddfa44, 03a9a6b...   \n",
       "4  2020-09-10  [6954f38b-22cd-d093-f288-7cdb50f2951d, 1a86957...   \n",
       "\n",
       "  extraction_date extraction_date_with_hour  \n",
       "0      2020-09-19             2020-09-19@19  \n",
       "1      2020-09-19             2020-09-19@19  \n",
       "2      2020-09-19             2020-09-19@19  \n",
       "3      2020-09-19             2020-09-19@19  \n",
       "4      2020-09-19             2020-09-19@19  "
      ]
     },
     "execution_count": 13,
     "metadata": {},
     "output_type": "execute_result"
    }
   ],
   "source": [
    "tek_list_df = exposure_keys_df[[\"sample_date_string\", \"key_data\"]].copy()\n",
    "tek_list_df[\"key_data\"] = tek_list_df[\"key_data\"].apply(str)\n",
    "tek_list_df.rename(columns={\n",
    "    \"sample_date_string\": \"sample_date\",\n",
    "    \"key_data\": \"tek_list\"}, inplace=True)\n",
    "tek_list_df = tek_list_df.groupby(\n",
    "    \"sample_date\").tek_list.unique().reset_index()\n",
    "tek_list_df[\"extraction_date\"] = extraction_date\n",
    "tek_list_df[\"extraction_date_with_hour\"] = extraction_date_with_hour\n",
    "tek_list_df.drop(columns=[\"extraction_date\", \"extraction_date_with_hour\"]).to_json(\n",
    "    \"Data/TEKs/Current/RadarCOVID-TEKs.json\",\n",
    "    lines=True, orient=\"records\")\n",
    "tek_list_df.drop(columns=[\"extraction_date_with_hour\"]).to_json(\n",
    "    \"Data/TEKs/Daily/RadarCOVID-TEKs-\" + extraction_date + \".json\",\n",
    "    lines=True, orient=\"records\")\n",
    "tek_list_df.to_json(\n",
    "    \"Data/TEKs/Hourly/RadarCOVID-TEKs-\" + extraction_date_with_hour + \".json\",\n",
    "    lines=True, orient=\"records\")\n",
    "tek_list_df.head()"
   ]
  },
  {
   "cell_type": "markdown",
   "metadata": {
    "papermill": {
     "duration": 0.039103,
     "end_time": "2020-09-19T19:17:43.281650",
     "exception": false,
     "start_time": "2020-09-19T19:17:43.242547",
     "status": "completed"
    },
    "tags": []
   },
   "source": [
    "### Load TEK Dumps"
   ]
  },
  {
   "cell_type": "code",
   "execution_count": 14,
   "metadata": {
    "execution": {
     "iopub.execute_input": "2020-09-19T19:17:43.359631Z",
     "iopub.status.busy": "2020-09-19T19:17:43.358985Z",
     "iopub.status.idle": "2020-09-19T19:17:43.361497Z",
     "shell.execute_reply": "2020-09-19T19:17:43.360860Z"
    },
    "papermill": {
     "duration": 0.043575,
     "end_time": "2020-09-19T19:17:43.361634",
     "exception": false,
     "start_time": "2020-09-19T19:17:43.318059",
     "status": "completed"
    },
    "tags": []
   },
   "outputs": [],
   "source": [
    "import glob\n",
    "\n",
    "def load_extracted_teks(mode, limit=None) -> pd.DataFrame:\n",
    "    extracted_teks_df = pd.DataFrame()\n",
    "    paths = list(reversed(sorted(glob.glob(f\"Data/TEKs/{mode}/RadarCOVID-TEKs-*.json\"))))\n",
    "    if limit:\n",
    "        paths = paths[:limit]\n",
    "    for path in paths:\n",
    "        logging.info(f\"Loading TEKs from '{path}'...\")\n",
    "        iteration_extracted_teks_df = pd.read_json(path, lines=True)\n",
    "        extracted_teks_df = extracted_teks_df.append(\n",
    "            iteration_extracted_teks_df, sort=False)\n",
    "    return extracted_teks_df"
   ]
  },
  {
   "cell_type": "markdown",
   "metadata": {
    "execution": {
     "iopub.execute_input": "2020-08-30T22:30:16.632967Z",
     "iopub.status.busy": "2020-08-30T22:30:16.632308Z",
     "iopub.status.idle": "2020-08-30T22:30:16.634945Z",
     "shell.execute_reply": "2020-08-30T22:30:16.635575Z"
    },
    "papermill": {
     "duration": 0.035236,
     "end_time": "2020-09-19T19:17:43.432443",
     "exception": false,
     "start_time": "2020-09-19T19:17:43.397207",
     "status": "completed"
    },
    "pycharm": {
     "name": "#%% md\n"
    },
    "tags": []
   },
   "source": [
    "### Daily New TEKs"
   ]
  },
  {
   "cell_type": "code",
   "execution_count": 15,
   "metadata": {
    "execution": {
     "iopub.execute_input": "2020-09-19T19:17:43.508528Z",
     "iopub.status.busy": "2020-09-19T19:17:43.507817Z",
     "iopub.status.idle": "2020-09-19T19:17:43.587940Z",
     "shell.execute_reply": "2020-09-19T19:17:43.588470Z"
    },
    "papermill": {
     "duration": 0.121003,
     "end_time": "2020-09-19T19:17:43.588640",
     "exception": false,
     "start_time": "2020-09-19T19:17:43.467637",
     "status": "completed"
    },
    "tags": []
   },
   "outputs": [
    {
     "data": {
      "text/html": [
       "<div>\n",
       "<style scoped>\n",
       "    .dataframe tbody tr th:only-of-type {\n",
       "        vertical-align: middle;\n",
       "    }\n",
       "\n",
       "    .dataframe tbody tr th {\n",
       "        vertical-align: top;\n",
       "    }\n",
       "\n",
       "    .dataframe thead th {\n",
       "        text-align: right;\n",
       "    }\n",
       "</style>\n",
       "<table border=\"1\" class=\"dataframe\">\n",
       "  <thead>\n",
       "    <tr style=\"text-align: right;\">\n",
       "      <th></th>\n",
       "      <th>sample_date</th>\n",
       "      <th>tek_list</th>\n",
       "      <th>extraction_date</th>\n",
       "    </tr>\n",
       "  </thead>\n",
       "  <tbody>\n",
       "    <tr>\n",
       "      <th>0</th>\n",
       "      <td>2020-09-06</td>\n",
       "      <td>[385e7ed2-4285-fcfd-18e4-3197e44fc261, d484384...</td>\n",
       "      <td>2020-09-19</td>\n",
       "    </tr>\n",
       "    <tr>\n",
       "      <th>1</th>\n",
       "      <td>2020-09-07</td>\n",
       "      <td>[4f22f269-acd0-9cbd-5082-87826578c387, 402a892...</td>\n",
       "      <td>2020-09-19</td>\n",
       "    </tr>\n",
       "    <tr>\n",
       "      <th>2</th>\n",
       "      <td>2020-09-08</td>\n",
       "      <td>[64d2f594-3e1e-250e-b2e2-103c46f3a4a9, b8121a9...</td>\n",
       "      <td>2020-09-19</td>\n",
       "    </tr>\n",
       "    <tr>\n",
       "      <th>3</th>\n",
       "      <td>2020-09-09</td>\n",
       "      <td>[1f0a0575-26d0-44c1-7b58-0a0193ddfa44, 03a9a6b...</td>\n",
       "      <td>2020-09-19</td>\n",
       "    </tr>\n",
       "    <tr>\n",
       "      <th>4</th>\n",
       "      <td>2020-09-10</td>\n",
       "      <td>[6954f38b-22cd-d093-f288-7cdb50f2951d, 1a86957...</td>\n",
       "      <td>2020-09-19</td>\n",
       "    </tr>\n",
       "  </tbody>\n",
       "</table>\n",
       "</div>"
      ],
      "text/plain": [
       "  sample_date                                           tek_list  \\\n",
       "0  2020-09-06  [385e7ed2-4285-fcfd-18e4-3197e44fc261, d484384...   \n",
       "1  2020-09-07  [4f22f269-acd0-9cbd-5082-87826578c387, 402a892...   \n",
       "2  2020-09-08  [64d2f594-3e1e-250e-b2e2-103c46f3a4a9, b8121a9...   \n",
       "3  2020-09-09  [1f0a0575-26d0-44c1-7b58-0a0193ddfa44, 03a9a6b...   \n",
       "4  2020-09-10  [6954f38b-22cd-d093-f288-7cdb50f2951d, 1a86957...   \n",
       "\n",
       "  extraction_date  \n",
       "0      2020-09-19  \n",
       "1      2020-09-19  \n",
       "2      2020-09-19  \n",
       "3      2020-09-19  \n",
       "4      2020-09-19  "
      ]
     },
     "execution_count": 15,
     "metadata": {},
     "output_type": "execute_result"
    }
   ],
   "source": [
    "daily_extracted_teks_df = load_extracted_teks(mode=\"Daily\", limit=14)\n",
    "daily_extracted_teks_df.head()"
   ]
  },
  {
   "cell_type": "code",
   "execution_count": 16,
   "metadata": {
    "execution": {
     "iopub.execute_input": "2020-09-19T19:17:43.685390Z",
     "iopub.status.busy": "2020-09-19T19:17:43.684771Z",
     "iopub.status.idle": "2020-09-19T19:17:43.687263Z",
     "shell.execute_reply": "2020-09-19T19:17:43.687755Z"
    },
    "papermill": {
     "duration": 0.061617,
     "end_time": "2020-09-19T19:17:43.688042",
     "exception": false,
     "start_time": "2020-09-19T19:17:43.626425",
     "status": "completed"
    },
    "tags": []
   },
   "outputs": [
    {
     "data": {
      "text/html": [
       "<div>\n",
       "<style scoped>\n",
       "    .dataframe tbody tr th:only-of-type {\n",
       "        vertical-align: middle;\n",
       "    }\n",
       "\n",
       "    .dataframe tbody tr th {\n",
       "        vertical-align: top;\n",
       "    }\n",
       "\n",
       "    .dataframe thead th {\n",
       "        text-align: right;\n",
       "    }\n",
       "</style>\n",
       "<table border=\"1\" class=\"dataframe\">\n",
       "  <thead>\n",
       "    <tr style=\"text-align: right;\">\n",
       "      <th></th>\n",
       "      <th>tek_list</th>\n",
       "    </tr>\n",
       "    <tr>\n",
       "      <th>extraction_date</th>\n",
       "      <th></th>\n",
       "    </tr>\n",
       "  </thead>\n",
       "  <tbody>\n",
       "    <tr>\n",
       "      <th>2020-09-06</th>\n",
       "      <td>{1da20ec5-82cc-912d-f0a4-ca0ebf76641f, a87eb09...</td>\n",
       "    </tr>\n",
       "    <tr>\n",
       "      <th>2020-09-07</th>\n",
       "      <td>{1da20ec5-82cc-912d-f0a4-ca0ebf76641f, a87eb09...</td>\n",
       "    </tr>\n",
       "    <tr>\n",
       "      <th>2020-09-08</th>\n",
       "      <td>{1da20ec5-82cc-912d-f0a4-ca0ebf76641f, a87eb09...</td>\n",
       "    </tr>\n",
       "    <tr>\n",
       "      <th>2020-09-09</th>\n",
       "      <td>{1da20ec5-82cc-912d-f0a4-ca0ebf76641f, a87eb09...</td>\n",
       "    </tr>\n",
       "    <tr>\n",
       "      <th>2020-09-10</th>\n",
       "      <td>{1da20ec5-82cc-912d-f0a4-ca0ebf76641f, a87eb09...</td>\n",
       "    </tr>\n",
       "  </tbody>\n",
       "</table>\n",
       "</div>"
      ],
      "text/plain": [
       "                                                          tek_list\n",
       "extraction_date                                                   \n",
       "2020-09-06       {1da20ec5-82cc-912d-f0a4-ca0ebf76641f, a87eb09...\n",
       "2020-09-07       {1da20ec5-82cc-912d-f0a4-ca0ebf76641f, a87eb09...\n",
       "2020-09-08       {1da20ec5-82cc-912d-f0a4-ca0ebf76641f, a87eb09...\n",
       "2020-09-09       {1da20ec5-82cc-912d-f0a4-ca0ebf76641f, a87eb09...\n",
       "2020-09-10       {1da20ec5-82cc-912d-f0a4-ca0ebf76641f, a87eb09..."
      ]
     },
     "execution_count": 16,
     "metadata": {},
     "output_type": "execute_result"
    }
   ],
   "source": [
    "tek_list_df = daily_extracted_teks_df.groupby(\"extraction_date\").tek_list.apply(\n",
    "    lambda x: set(sum(x, []))).reset_index()\n",
    "tek_list_df = tek_list_df.set_index(\"extraction_date\").sort_index(ascending=True)\n",
    "tek_list_df.head()"
   ]
  },
  {
   "cell_type": "code",
   "execution_count": 17,
   "metadata": {
    "execution": {
     "iopub.execute_input": "2020-09-19T19:17:43.773657Z",
     "iopub.status.busy": "2020-09-19T19:17:43.772845Z",
     "iopub.status.idle": "2020-09-19T19:17:43.775591Z",
     "shell.execute_reply": "2020-09-19T19:17:43.776126Z"
    },
    "papermill": {
     "duration": 0.052995,
     "end_time": "2020-09-19T19:17:43.776294",
     "exception": false,
     "start_time": "2020-09-19T19:17:43.723299",
     "status": "completed"
    },
    "tags": []
   },
   "outputs": [
    {
     "data": {
      "text/html": [
       "<div>\n",
       "<style scoped>\n",
       "    .dataframe tbody tr th:only-of-type {\n",
       "        vertical-align: middle;\n",
       "    }\n",
       "\n",
       "    .dataframe tbody tr th {\n",
       "        vertical-align: top;\n",
       "    }\n",
       "\n",
       "    .dataframe thead th {\n",
       "        text-align: right;\n",
       "    }\n",
       "</style>\n",
       "<table border=\"1\" class=\"dataframe\">\n",
       "  <thead>\n",
       "    <tr style=\"text-align: right;\">\n",
       "      <th></th>\n",
       "      <th>sample_date_string</th>\n",
       "      <th>new_tek_count</th>\n",
       "    </tr>\n",
       "  </thead>\n",
       "  <tbody>\n",
       "    <tr>\n",
       "      <th>0</th>\n",
       "      <td>2020-09-06</td>\n",
       "      <td>NaN</td>\n",
       "    </tr>\n",
       "    <tr>\n",
       "      <th>1</th>\n",
       "      <td>2020-09-07</td>\n",
       "      <td>52.0</td>\n",
       "    </tr>\n",
       "    <tr>\n",
       "      <th>2</th>\n",
       "      <td>2020-09-08</td>\n",
       "      <td>44.0</td>\n",
       "    </tr>\n",
       "    <tr>\n",
       "      <th>3</th>\n",
       "      <td>2020-09-09</td>\n",
       "      <td>67.0</td>\n",
       "    </tr>\n",
       "    <tr>\n",
       "      <th>4</th>\n",
       "      <td>2020-09-10</td>\n",
       "      <td>45.0</td>\n",
       "    </tr>\n",
       "  </tbody>\n",
       "</table>\n",
       "</div>"
      ],
      "text/plain": [
       "  sample_date_string  new_tek_count\n",
       "0         2020-09-06            NaN\n",
       "1         2020-09-07           52.0\n",
       "2         2020-09-08           44.0\n",
       "3         2020-09-09           67.0\n",
       "4         2020-09-10           45.0"
      ]
     },
     "execution_count": 17,
     "metadata": {},
     "output_type": "execute_result"
    }
   ],
   "source": [
    "new_tek_df = tek_list_df.diff().tek_list.apply(\n",
    "    lambda x: len(x) if not pd.isna(x) else None).to_frame().reset_index()\n",
    "new_tek_df.rename(columns={\n",
    "    \"tek_list\": \"new_tek_count\",\n",
    "    \"extraction_date\": \"sample_date_string\",}, inplace=True)\n",
    "new_tek_df.head()"
   ]
  },
  {
   "cell_type": "code",
   "execution_count": 18,
   "metadata": {
    "execution": {
     "iopub.execute_input": "2020-09-19T19:17:43.873330Z",
     "iopub.status.busy": "2020-09-19T19:17:43.872680Z",
     "iopub.status.idle": "2020-09-19T19:17:43.875577Z",
     "shell.execute_reply": "2020-09-19T19:17:43.876232Z"
    },
    "papermill": {
     "duration": 0.06284,
     "end_time": "2020-09-19T19:17:43.876423",
     "exception": false,
     "start_time": "2020-09-19T19:17:43.813583",
     "status": "completed"
    },
    "pycharm": {
     "name": "#%%\n"
    },
    "tags": []
   },
   "outputs": [
    {
     "data": {
      "text/html": [
       "<div>\n",
       "<style scoped>\n",
       "    .dataframe tbody tr th:only-of-type {\n",
       "        vertical-align: middle;\n",
       "    }\n",
       "\n",
       "    .dataframe tbody tr th {\n",
       "        vertical-align: top;\n",
       "    }\n",
       "\n",
       "    .dataframe thead th {\n",
       "        text-align: right;\n",
       "    }\n",
       "</style>\n",
       "<table border=\"1\" class=\"dataframe\">\n",
       "  <thead>\n",
       "    <tr style=\"text-align: right;\">\n",
       "      <th></th>\n",
       "      <th>sample_date</th>\n",
       "      <th>tek_list</th>\n",
       "      <th>extraction_date</th>\n",
       "      <th>new_sample_extraction_date</th>\n",
       "    </tr>\n",
       "  </thead>\n",
       "  <tbody>\n",
       "    <tr>\n",
       "      <th>12</th>\n",
       "      <td>2020-09-18</td>\n",
       "      <td>[bdfba1d7-50f3-b91c-be93-395738b4993e, c061793...</td>\n",
       "      <td>2020-09-19</td>\n",
       "      <td>2020-09-19</td>\n",
       "    </tr>\n",
       "    <tr>\n",
       "      <th>12</th>\n",
       "      <td>2020-09-17</td>\n",
       "      <td>[7967f68b-ead3-bdb7-a7ae-bcb78220c852, fb2d0e2...</td>\n",
       "      <td>2020-09-18</td>\n",
       "      <td>2020-09-18</td>\n",
       "    </tr>\n",
       "    <tr>\n",
       "      <th>12</th>\n",
       "      <td>2020-09-16</td>\n",
       "      <td>[713a8fac-9ef2-0c13-0162-7397da9e7778, ca13a5b...</td>\n",
       "      <td>2020-09-17</td>\n",
       "      <td>2020-09-17</td>\n",
       "    </tr>\n",
       "    <tr>\n",
       "      <th>12</th>\n",
       "      <td>2020-09-15</td>\n",
       "      <td>[f6f1a72b-e029-5cc3-06ca-7817dc59b26e, 422efa3...</td>\n",
       "      <td>2020-09-16</td>\n",
       "      <td>2020-09-16</td>\n",
       "    </tr>\n",
       "    <tr>\n",
       "      <th>12</th>\n",
       "      <td>2020-09-14</td>\n",
       "      <td>[d4bfbea7-3eaf-535f-3faa-aaedf929f579, ae4ae0c...</td>\n",
       "      <td>2020-09-15</td>\n",
       "      <td>2020-09-15</td>\n",
       "    </tr>\n",
       "  </tbody>\n",
       "</table>\n",
       "</div>"
      ],
      "text/plain": [
       "   sample_date                                           tek_list  \\\n",
       "12  2020-09-18  [bdfba1d7-50f3-b91c-be93-395738b4993e, c061793...   \n",
       "12  2020-09-17  [7967f68b-ead3-bdb7-a7ae-bcb78220c852, fb2d0e2...   \n",
       "12  2020-09-16  [713a8fac-9ef2-0c13-0162-7397da9e7778, ca13a5b...   \n",
       "12  2020-09-15  [f6f1a72b-e029-5cc3-06ca-7817dc59b26e, 422efa3...   \n",
       "12  2020-09-14  [d4bfbea7-3eaf-535f-3faa-aaedf929f579, ae4ae0c...   \n",
       "\n",
       "   extraction_date new_sample_extraction_date  \n",
       "12      2020-09-19                 2020-09-19  \n",
       "12      2020-09-18                 2020-09-18  \n",
       "12      2020-09-17                 2020-09-17  \n",
       "12      2020-09-16                 2020-09-16  \n",
       "12      2020-09-15                 2020-09-15  "
      ]
     },
     "execution_count": 18,
     "metadata": {},
     "output_type": "execute_result"
    }
   ],
   "source": [
    "new_tek_devices_df = daily_extracted_teks_df.copy()\n",
    "new_tek_devices_df[\"new_sample_extraction_date\"] = \\\n",
    "    pd.to_datetime(new_tek_devices_df.sample_date) + datetime.timedelta(1)\n",
    "new_tek_devices_df[\"extraction_date\"] = pd.to_datetime(new_tek_devices_df.extraction_date)\n",
    "\n",
    "new_tek_devices_df = new_tek_devices_df[\n",
    "    new_tek_devices_df.new_sample_extraction_date == new_tek_devices_df.extraction_date]\n",
    "new_tek_devices_df.head()"
   ]
  },
  {
   "cell_type": "code",
   "execution_count": 19,
   "metadata": {
    "execution": {
     "iopub.execute_input": "2020-09-19T19:17:43.962878Z",
     "iopub.status.busy": "2020-09-19T19:17:43.962204Z",
     "iopub.status.idle": "2020-09-19T19:17:43.968926Z",
     "shell.execute_reply": "2020-09-19T19:17:43.968448Z"
    },
    "papermill": {
     "duration": 0.056356,
     "end_time": "2020-09-19T19:17:43.969062",
     "exception": false,
     "start_time": "2020-09-19T19:17:43.912706",
     "status": "completed"
    },
    "tags": []
   },
   "outputs": [
    {
     "data": {
      "text/html": [
       "<div>\n",
       "<style scoped>\n",
       "    .dataframe tbody tr th:only-of-type {\n",
       "        vertical-align: middle;\n",
       "    }\n",
       "\n",
       "    .dataframe tbody tr th {\n",
       "        vertical-align: top;\n",
       "    }\n",
       "\n",
       "    .dataframe thead th {\n",
       "        text-align: right;\n",
       "    }\n",
       "</style>\n",
       "<table border=\"1\" class=\"dataframe\">\n",
       "  <thead>\n",
       "    <tr style=\"text-align: right;\">\n",
       "      <th></th>\n",
       "      <th>sample_date_string</th>\n",
       "      <th>new_tek_devices</th>\n",
       "    </tr>\n",
       "  </thead>\n",
       "  <tbody>\n",
       "    <tr>\n",
       "      <th>0</th>\n",
       "      <td>2020-09-19</td>\n",
       "      <td>38</td>\n",
       "    </tr>\n",
       "    <tr>\n",
       "      <th>1</th>\n",
       "      <td>2020-09-18</td>\n",
       "      <td>52</td>\n",
       "    </tr>\n",
       "    <tr>\n",
       "      <th>2</th>\n",
       "      <td>2020-09-17</td>\n",
       "      <td>29</td>\n",
       "    </tr>\n",
       "    <tr>\n",
       "      <th>3</th>\n",
       "      <td>2020-09-16</td>\n",
       "      <td>23</td>\n",
       "    </tr>\n",
       "    <tr>\n",
       "      <th>4</th>\n",
       "      <td>2020-09-15</td>\n",
       "      <td>23</td>\n",
       "    </tr>\n",
       "  </tbody>\n",
       "</table>\n",
       "</div>"
      ],
      "text/plain": [
       "  sample_date_string  new_tek_devices\n",
       "0         2020-09-19               38\n",
       "1         2020-09-18               52\n",
       "2         2020-09-17               29\n",
       "3         2020-09-16               23\n",
       "4         2020-09-15               23"
      ]
     },
     "execution_count": 19,
     "metadata": {},
     "output_type": "execute_result"
    }
   ],
   "source": [
    "new_tek_devices_df.set_index(\"extraction_date\", inplace=True)\n",
    "new_tek_devices_df = new_tek_devices_df.tek_list.apply(lambda x: len(set(x))).to_frame()\n",
    "new_tek_devices_df.reset_index(inplace=True)\n",
    "new_tek_devices_df.rename(columns={\n",
    "    \"extraction_date\": \"sample_date_string\",\n",
    "    \"tek_list\": \"new_tek_devices\"}, inplace=True)\n",
    "new_tek_devices_df[\"sample_date_string\"] = new_tek_devices_df.sample_date_string.dt.strftime(\"%Y-%m-%d\")\n",
    "new_tek_devices_df.head()"
   ]
  },
  {
   "cell_type": "markdown",
   "metadata": {
    "papermill": {
     "duration": 0.050732,
     "end_time": "2020-09-19T19:17:44.845660",
     "exception": false,
     "start_time": "2020-09-19T19:17:44.794928",
     "status": "completed"
    },
    "pycharm": {
     "name": "#%% md\n"
    },
    "tags": []
   },
   "source": [
    "### Hourly New TEKs"
   ]
  },
  {
   "cell_type": "code",
   "execution_count": 20,
   "metadata": {
    "execution": {
     "iopub.execute_input": "2020-09-19T19:17:44.947280Z",
     "iopub.status.busy": "2020-09-19T19:17:44.946507Z",
     "iopub.status.idle": "2020-09-19T19:17:45.116369Z",
     "shell.execute_reply": "2020-09-19T19:17:45.116954Z"
    },
    "papermill": {
     "duration": 0.22431,
     "end_time": "2020-09-19T19:17:45.117140",
     "exception": false,
     "start_time": "2020-09-19T19:17:44.892830",
     "status": "completed"
    },
    "tags": []
   },
   "outputs": [
    {
     "data": {
      "text/html": [
       "<div>\n",
       "<style scoped>\n",
       "    .dataframe tbody tr th:only-of-type {\n",
       "        vertical-align: middle;\n",
       "    }\n",
       "\n",
       "    .dataframe tbody tr th {\n",
       "        vertical-align: top;\n",
       "    }\n",
       "\n",
       "    .dataframe thead th {\n",
       "        text-align: right;\n",
       "    }\n",
       "</style>\n",
       "<table border=\"1\" class=\"dataframe\">\n",
       "  <thead>\n",
       "    <tr style=\"text-align: right;\">\n",
       "      <th></th>\n",
       "      <th>extraction_date_with_hour</th>\n",
       "      <th>new_tek_count</th>\n",
       "    </tr>\n",
       "  </thead>\n",
       "  <tbody>\n",
       "    <tr>\n",
       "      <th>19</th>\n",
       "      <td>2020-09-19@15</td>\n",
       "      <td>0.0</td>\n",
       "    </tr>\n",
       "    <tr>\n",
       "      <th>20</th>\n",
       "      <td>2020-09-19@16</td>\n",
       "      <td>0.0</td>\n",
       "    </tr>\n",
       "    <tr>\n",
       "      <th>21</th>\n",
       "      <td>2020-09-19@17</td>\n",
       "      <td>0.0</td>\n",
       "    </tr>\n",
       "    <tr>\n",
       "      <th>22</th>\n",
       "      <td>2020-09-19@18</td>\n",
       "      <td>13.0</td>\n",
       "    </tr>\n",
       "    <tr>\n",
       "      <th>23</th>\n",
       "      <td>2020-09-19@19</td>\n",
       "      <td>0.0</td>\n",
       "    </tr>\n",
       "  </tbody>\n",
       "</table>\n",
       "</div>"
      ],
      "text/plain": [
       "   extraction_date_with_hour  new_tek_count\n",
       "19             2020-09-19@15            0.0\n",
       "20             2020-09-19@16            0.0\n",
       "21             2020-09-19@17            0.0\n",
       "22             2020-09-19@18           13.0\n",
       "23             2020-09-19@19            0.0"
      ]
     },
     "execution_count": 20,
     "metadata": {},
     "output_type": "execute_result"
    }
   ],
   "source": [
    "hourly_extracted_teks_df = load_extracted_teks(mode=\"Hourly\", limit=24)\n",
    "hourly_extracted_teks_df.head()\n",
    "\n",
    "hourly_tek_list_df = hourly_extracted_teks_df.groupby(\"extraction_date_with_hour\").tek_list.apply(\n",
    "    lambda x: set(sum(x, []))).reset_index()\n",
    "hourly_tek_list_df = hourly_tek_list_df.set_index(\"extraction_date_with_hour\").sort_index(ascending=True)\n",
    "\n",
    "hourly_new_tek_df = hourly_tek_list_df.diff().tek_list.apply(\n",
    "    lambda x: len(x) if not pd.isna(x) else None).to_frame().reset_index()\n",
    "hourly_new_tek_df.rename(columns={\n",
    "    \"tek_list\": \"new_tek_count\"}, inplace=True)\n",
    "hourly_new_tek_df.tail()"
   ]
  },
  {
   "cell_type": "code",
   "execution_count": 21,
   "metadata": {
    "execution": {
     "iopub.execute_input": "2020-09-19T19:17:45.250071Z",
     "iopub.status.busy": "2020-09-19T19:17:45.248316Z",
     "iopub.status.idle": "2020-09-19T19:17:45.270518Z",
     "shell.execute_reply": "2020-09-19T19:17:45.271043Z"
    },
    "papermill": {
     "duration": 0.08212,
     "end_time": "2020-09-19T19:17:45.271232",
     "exception": false,
     "start_time": "2020-09-19T19:17:45.189112",
     "status": "completed"
    },
    "pycharm": {
     "name": "#%%\n"
    },
    "tags": []
   },
   "outputs": [
    {
     "data": {
      "text/html": [
       "<div>\n",
       "<style scoped>\n",
       "    .dataframe tbody tr th:only-of-type {\n",
       "        vertical-align: middle;\n",
       "    }\n",
       "\n",
       "    .dataframe tbody tr th {\n",
       "        vertical-align: top;\n",
       "    }\n",
       "\n",
       "    .dataframe thead th {\n",
       "        text-align: right;\n",
       "    }\n",
       "</style>\n",
       "<table border=\"1\" class=\"dataframe\">\n",
       "  <thead>\n",
       "    <tr style=\"text-align: right;\">\n",
       "      <th></th>\n",
       "      <th>extraction_date_with_hour</th>\n",
       "      <th>new_tek_devices</th>\n",
       "    </tr>\n",
       "  </thead>\n",
       "  <tbody>\n",
       "    <tr>\n",
       "      <th>19</th>\n",
       "      <td>2020-09-19@15</td>\n",
       "      <td>0.0</td>\n",
       "    </tr>\n",
       "    <tr>\n",
       "      <th>20</th>\n",
       "      <td>2020-09-19@16</td>\n",
       "      <td>0.0</td>\n",
       "    </tr>\n",
       "    <tr>\n",
       "      <th>21</th>\n",
       "      <td>2020-09-19@17</td>\n",
       "      <td>0.0</td>\n",
       "    </tr>\n",
       "    <tr>\n",
       "      <th>22</th>\n",
       "      <td>2020-09-19@18</td>\n",
       "      <td>3.0</td>\n",
       "    </tr>\n",
       "    <tr>\n",
       "      <th>23</th>\n",
       "      <td>2020-09-19@19</td>\n",
       "      <td>0.0</td>\n",
       "    </tr>\n",
       "  </tbody>\n",
       "</table>\n",
       "</div>"
      ],
      "text/plain": [
       "   extraction_date_with_hour  new_tek_devices\n",
       "19             2020-09-19@15              0.0\n",
       "20             2020-09-19@16              0.0\n",
       "21             2020-09-19@17              0.0\n",
       "22             2020-09-19@18              3.0\n",
       "23             2020-09-19@19              0.0"
      ]
     },
     "execution_count": 21,
     "metadata": {},
     "output_type": "execute_result"
    }
   ],
   "source": [
    "hourly_new_tek_devices_df = hourly_extracted_teks_df.copy()\n",
    "hourly_new_tek_devices_df[\"new_sample_extraction_date\"] = \\\n",
    "    pd.to_datetime(hourly_new_tek_devices_df.sample_date) + datetime.timedelta(1)\n",
    "hourly_new_tek_devices_df[\"extraction_date\"] = pd.to_datetime(hourly_new_tek_devices_df.extraction_date)\n",
    "\n",
    "hourly_new_tek_devices_df = hourly_new_tek_devices_df[\n",
    "    hourly_new_tek_devices_df.new_sample_extraction_date == hourly_new_tek_devices_df.extraction_date]\n",
    "\n",
    "hourly_new_tek_devices_df.set_index(\"extraction_date_with_hour\", inplace=True)\n",
    "hourly_new_tek_devices_df_ = pd.DataFrame()\n",
    "\n",
    "for i, chunk_df in hourly_new_tek_devices_df.groupby(\"extraction_date\"):\n",
    "    chunk_df = chunk_df.copy()\n",
    "    chunk_df.sort_index(inplace=True)\n",
    "    chunk_tek_count_df = chunk_df.tek_list.apply(lambda x: len(set(x)))\n",
    "    chunk_df = chunk_tek_count_df.diff().fillna(chunk_tek_count_df).to_frame()\n",
    "    hourly_new_tek_devices_df_ = hourly_new_tek_devices_df_.append(chunk_df)\n",
    "    \n",
    "hourly_new_tek_devices_df = hourly_new_tek_devices_df_\n",
    "hourly_new_tek_devices_df.reset_index(inplace=True)\n",
    "hourly_new_tek_devices_df.rename(columns={\n",
    "    \"tek_list\": \"new_tek_devices\"}, inplace=True)\n",
    "hourly_new_tek_devices_df.tail()"
   ]
  },
  {
   "cell_type": "code",
   "execution_count": 22,
   "metadata": {
    "execution": {
     "iopub.execute_input": "2020-09-19T19:17:45.413058Z",
     "iopub.status.busy": "2020-09-19T19:17:45.402759Z",
     "iopub.status.idle": "2020-09-19T19:17:45.415409Z",
     "shell.execute_reply": "2020-09-19T19:17:45.415966Z"
    },
    "papermill": {
     "duration": 0.099834,
     "end_time": "2020-09-19T19:17:45.416174",
     "exception": false,
     "start_time": "2020-09-19T19:17:45.316340",
     "status": "completed"
    },
    "tags": []
   },
   "outputs": [
    {
     "data": {
      "text/html": [
       "<div>\n",
       "<style scoped>\n",
       "    .dataframe tbody tr th:only-of-type {\n",
       "        vertical-align: middle;\n",
       "    }\n",
       "\n",
       "    .dataframe tbody tr th {\n",
       "        vertical-align: top;\n",
       "    }\n",
       "\n",
       "    .dataframe thead th {\n",
       "        text-align: right;\n",
       "    }\n",
       "</style>\n",
       "<table border=\"1\" class=\"dataframe\">\n",
       "  <thead>\n",
       "    <tr style=\"text-align: right;\">\n",
       "      <th></th>\n",
       "      <th>extraction_date_with_hour</th>\n",
       "      <th>new_tek_count</th>\n",
       "      <th>new_tek_devices</th>\n",
       "    </tr>\n",
       "    <tr>\n",
       "      <th>datetime_utc</th>\n",
       "      <th></th>\n",
       "      <th></th>\n",
       "      <th></th>\n",
       "    </tr>\n",
       "  </thead>\n",
       "  <tbody>\n",
       "    <tr>\n",
       "      <th>2020-09-19 15:00:00</th>\n",
       "      <td>2020-09-19@15</td>\n",
       "      <td>0.0</td>\n",
       "      <td>0.0</td>\n",
       "    </tr>\n",
       "    <tr>\n",
       "      <th>2020-09-19 16:00:00</th>\n",
       "      <td>2020-09-19@16</td>\n",
       "      <td>0.0</td>\n",
       "      <td>0.0</td>\n",
       "    </tr>\n",
       "    <tr>\n",
       "      <th>2020-09-19 17:00:00</th>\n",
       "      <td>2020-09-19@17</td>\n",
       "      <td>0.0</td>\n",
       "      <td>0.0</td>\n",
       "    </tr>\n",
       "    <tr>\n",
       "      <th>2020-09-19 18:00:00</th>\n",
       "      <td>2020-09-19@18</td>\n",
       "      <td>13.0</td>\n",
       "      <td>3.0</td>\n",
       "    </tr>\n",
       "    <tr>\n",
       "      <th>2020-09-19 19:00:00</th>\n",
       "      <td>2020-09-19@19</td>\n",
       "      <td>0.0</td>\n",
       "      <td>0.0</td>\n",
       "    </tr>\n",
       "  </tbody>\n",
       "</table>\n",
       "</div>"
      ],
      "text/plain": [
       "                    extraction_date_with_hour  new_tek_count  new_tek_devices\n",
       "datetime_utc                                                                 \n",
       "2020-09-19 15:00:00             2020-09-19@15            0.0              0.0\n",
       "2020-09-19 16:00:00             2020-09-19@16            0.0              0.0\n",
       "2020-09-19 17:00:00             2020-09-19@17            0.0              0.0\n",
       "2020-09-19 18:00:00             2020-09-19@18           13.0              3.0\n",
       "2020-09-19 19:00:00             2020-09-19@19            0.0              0.0"
      ]
     },
     "execution_count": 22,
     "metadata": {},
     "output_type": "execute_result"
    }
   ],
   "source": [
    "hourly_summary_df = hourly_new_tek_df.merge(\n",
    "    hourly_new_tek_devices_df, on=[\"extraction_date_with_hour\"], how=\"outer\")\n",
    "hourly_summary_df[\"datetime_utc\"] = pd.to_datetime(\n",
    "    hourly_summary_df.extraction_date_with_hour, format=\"%Y-%m-%d@%H\")\n",
    "hourly_summary_df.set_index(\"datetime_utc\", inplace=True)\n",
    "hourly_summary_df.tail()"
   ]
  },
  {
   "cell_type": "markdown",
   "metadata": {
    "execution": {
     "iopub.execute_input": "2020-08-30T22:30:16.982353Z",
     "iopub.status.busy": "2020-08-30T22:30:16.981676Z",
     "iopub.status.idle": "2020-08-30T22:30:16.984837Z",
     "shell.execute_reply": "2020-08-30T22:30:16.985366Z"
    },
    "papermill": {
     "duration": 0.082137,
     "end_time": "2020-09-19T19:17:45.606556",
     "exception": false,
     "start_time": "2020-09-19T19:17:45.524419",
     "status": "completed"
    },
    "pycharm": {
     "name": "#%% md\n"
    },
    "tags": []
   },
   "source": [
    "### Data Merge"
   ]
  },
  {
   "cell_type": "code",
   "execution_count": 23,
   "metadata": {
    "execution": {
     "iopub.execute_input": "2020-09-19T19:17:45.753676Z",
     "iopub.status.busy": "2020-09-19T19:17:45.752983Z",
     "iopub.status.idle": "2020-09-19T19:17:45.756418Z",
     "shell.execute_reply": "2020-09-19T19:17:45.755707Z"
    },
    "papermill": {
     "duration": 0.066618,
     "end_time": "2020-09-19T19:17:45.756616",
     "exception": false,
     "start_time": "2020-09-19T19:17:45.689998",
     "status": "completed"
    },
    "pycharm": {
     "name": "#%%\n"
    },
    "tags": []
   },
   "outputs": [
    {
     "data": {
      "text/html": [
       "<div>\n",
       "<style scoped>\n",
       "    .dataframe tbody tr th:only-of-type {\n",
       "        vertical-align: middle;\n",
       "    }\n",
       "\n",
       "    .dataframe tbody tr th {\n",
       "        vertical-align: top;\n",
       "    }\n",
       "\n",
       "    .dataframe thead th {\n",
       "        text-align: right;\n",
       "    }\n",
       "</style>\n",
       "<table border=\"1\" class=\"dataframe\">\n",
       "  <thead>\n",
       "    <tr style=\"text-align: right;\">\n",
       "      <th></th>\n",
       "      <th>sample_date_string</th>\n",
       "      <th>region</th>\n",
       "      <th>tek_count</th>\n",
       "      <th>new_tek_count</th>\n",
       "    </tr>\n",
       "  </thead>\n",
       "  <tbody>\n",
       "    <tr>\n",
       "      <th>0</th>\n",
       "      <td>2020-09-19</td>\n",
       "      <td>ES</td>\n",
       "      <td>2</td>\n",
       "      <td>84.0</td>\n",
       "    </tr>\n",
       "    <tr>\n",
       "      <th>1</th>\n",
       "      <td>2020-09-18</td>\n",
       "      <td>ES</td>\n",
       "      <td>38</td>\n",
       "      <td>138.0</td>\n",
       "    </tr>\n",
       "    <tr>\n",
       "      <th>2</th>\n",
       "      <td>2020-09-17</td>\n",
       "      <td>ES</td>\n",
       "      <td>63</td>\n",
       "      <td>63.0</td>\n",
       "    </tr>\n",
       "    <tr>\n",
       "      <th>3</th>\n",
       "      <td>2020-09-16</td>\n",
       "      <td>ES</td>\n",
       "      <td>66</td>\n",
       "      <td>62.0</td>\n",
       "    </tr>\n",
       "    <tr>\n",
       "      <th>4</th>\n",
       "      <td>2020-09-15</td>\n",
       "      <td>ES</td>\n",
       "      <td>66</td>\n",
       "      <td>58.0</td>\n",
       "    </tr>\n",
       "  </tbody>\n",
       "</table>\n",
       "</div>"
      ],
      "text/plain": [
       "  sample_date_string region  tek_count  new_tek_count\n",
       "0         2020-09-19     ES          2           84.0\n",
       "1         2020-09-18     ES         38          138.0\n",
       "2         2020-09-17     ES         63           63.0\n",
       "3         2020-09-16     ES         66           62.0\n",
       "4         2020-09-15     ES         66           58.0"
      ]
     },
     "execution_count": 23,
     "metadata": {},
     "output_type": "execute_result"
    }
   ],
   "source": [
    "result_summary_df = exposure_keys_summary_df.merge(new_tek_df, on=[\"sample_date_string\"], how=\"outer\")\n",
    "result_summary_df.head()"
   ]
  },
  {
   "cell_type": "code",
   "execution_count": 24,
   "metadata": {
    "execution": {
     "iopub.execute_input": "2020-09-19T19:17:45.952878Z",
     "iopub.status.busy": "2020-09-19T19:17:45.952026Z",
     "iopub.status.idle": "2020-09-19T19:17:45.962989Z",
     "shell.execute_reply": "2020-09-19T19:17:45.962350Z"
    },
    "papermill": {
     "duration": 0.116945,
     "end_time": "2020-09-19T19:17:45.963122",
     "exception": false,
     "start_time": "2020-09-19T19:17:45.846177",
     "status": "completed"
    },
    "tags": []
   },
   "outputs": [
    {
     "data": {
      "text/html": [
       "<div>\n",
       "<style scoped>\n",
       "    .dataframe tbody tr th:only-of-type {\n",
       "        vertical-align: middle;\n",
       "    }\n",
       "\n",
       "    .dataframe tbody tr th {\n",
       "        vertical-align: top;\n",
       "    }\n",
       "\n",
       "    .dataframe thead th {\n",
       "        text-align: right;\n",
       "    }\n",
       "</style>\n",
       "<table border=\"1\" class=\"dataframe\">\n",
       "  <thead>\n",
       "    <tr style=\"text-align: right;\">\n",
       "      <th></th>\n",
       "      <th>sample_date_string</th>\n",
       "      <th>region</th>\n",
       "      <th>tek_count</th>\n",
       "      <th>new_tek_count</th>\n",
       "      <th>new_tek_devices</th>\n",
       "    </tr>\n",
       "  </thead>\n",
       "  <tbody>\n",
       "    <tr>\n",
       "      <th>0</th>\n",
       "      <td>2020-09-19</td>\n",
       "      <td>ES</td>\n",
       "      <td>2</td>\n",
       "      <td>84.0</td>\n",
       "      <td>38</td>\n",
       "    </tr>\n",
       "    <tr>\n",
       "      <th>1</th>\n",
       "      <td>2020-09-18</td>\n",
       "      <td>ES</td>\n",
       "      <td>38</td>\n",
       "      <td>138.0</td>\n",
       "      <td>52</td>\n",
       "    </tr>\n",
       "    <tr>\n",
       "      <th>2</th>\n",
       "      <td>2020-09-17</td>\n",
       "      <td>ES</td>\n",
       "      <td>63</td>\n",
       "      <td>63.0</td>\n",
       "      <td>29</td>\n",
       "    </tr>\n",
       "    <tr>\n",
       "      <th>3</th>\n",
       "      <td>2020-09-16</td>\n",
       "      <td>ES</td>\n",
       "      <td>66</td>\n",
       "      <td>62.0</td>\n",
       "      <td>23</td>\n",
       "    </tr>\n",
       "    <tr>\n",
       "      <th>4</th>\n",
       "      <td>2020-09-15</td>\n",
       "      <td>ES</td>\n",
       "      <td>66</td>\n",
       "      <td>58.0</td>\n",
       "      <td>23</td>\n",
       "    </tr>\n",
       "  </tbody>\n",
       "</table>\n",
       "</div>"
      ],
      "text/plain": [
       "  sample_date_string region  tek_count  new_tek_count  new_tek_devices\n",
       "0         2020-09-19     ES          2           84.0               38\n",
       "1         2020-09-18     ES         38          138.0               52\n",
       "2         2020-09-17     ES         63           63.0               29\n",
       "3         2020-09-16     ES         66           62.0               23\n",
       "4         2020-09-15     ES         66           58.0               23"
      ]
     },
     "execution_count": 24,
     "metadata": {},
     "output_type": "execute_result"
    }
   ],
   "source": [
    "result_summary_df = result_summary_df.merge(new_tek_devices_df, on=[\"sample_date_string\"], how=\"outer\")\n",
    "result_summary_df.head()"
   ]
  },
  {
   "cell_type": "code",
   "execution_count": 25,
   "metadata": {
    "execution": {
     "iopub.execute_input": "2020-09-19T19:17:46.078587Z",
     "iopub.status.busy": "2020-09-19T19:17:46.078014Z",
     "iopub.status.idle": "2020-09-19T19:17:46.093770Z",
     "shell.execute_reply": "2020-09-19T19:17:46.093027Z"
    },
    "papermill": {
     "duration": 0.059753,
     "end_time": "2020-09-19T19:17:46.093922",
     "exception": false,
     "start_time": "2020-09-19T19:17:46.034169",
     "status": "completed"
    },
    "pycharm": {
     "name": "#%%\n"
    },
    "tags": []
   },
   "outputs": [
    {
     "data": {
      "text/html": [
       "<div>\n",
       "<style scoped>\n",
       "    .dataframe tbody tr th:only-of-type {\n",
       "        vertical-align: middle;\n",
       "    }\n",
       "\n",
       "    .dataframe tbody tr th {\n",
       "        vertical-align: top;\n",
       "    }\n",
       "\n",
       "    .dataframe thead th {\n",
       "        text-align: right;\n",
       "    }\n",
       "</style>\n",
       "<table border=\"1\" class=\"dataframe\">\n",
       "  <thead>\n",
       "    <tr style=\"text-align: right;\">\n",
       "      <th></th>\n",
       "      <th>sample_date_string</th>\n",
       "      <th>region</th>\n",
       "      <th>tek_count</th>\n",
       "      <th>new_tek_count</th>\n",
       "      <th>new_tek_devices</th>\n",
       "      <th>cumulative_cases</th>\n",
       "      <th>new_cases</th>\n",
       "      <th>rolling_mean_new_cases</th>\n",
       "    </tr>\n",
       "  </thead>\n",
       "  <tbody>\n",
       "    <tr>\n",
       "      <th>0</th>\n",
       "      <td>2020-09-19</td>\n",
       "      <td>ES</td>\n",
       "      <td>2</td>\n",
       "      <td>84.0</td>\n",
       "      <td>38</td>\n",
       "      <td>1301141.0</td>\n",
       "      <td>21061.0</td>\n",
       "      <td>21061.0</td>\n",
       "    </tr>\n",
       "    <tr>\n",
       "      <th>1</th>\n",
       "      <td>2020-09-18</td>\n",
       "      <td>ES</td>\n",
       "      <td>38</td>\n",
       "      <td>138.0</td>\n",
       "      <td>52</td>\n",
       "      <td>1280080.0</td>\n",
       "      <td>28778.0</td>\n",
       "      <td>21061.0</td>\n",
       "    </tr>\n",
       "    <tr>\n",
       "      <th>2</th>\n",
       "      <td>2020-09-17</td>\n",
       "      <td>ES</td>\n",
       "      <td>63</td>\n",
       "      <td>63.0</td>\n",
       "      <td>29</td>\n",
       "      <td>1251302.0</td>\n",
       "      <td>22582.0</td>\n",
       "      <td>20431.0</td>\n",
       "    </tr>\n",
       "    <tr>\n",
       "      <th>3</th>\n",
       "      <td>2020-09-16</td>\n",
       "      <td>ES</td>\n",
       "      <td>66</td>\n",
       "      <td>62.0</td>\n",
       "      <td>23</td>\n",
       "      <td>1228720.0</td>\n",
       "      <td>22386.0</td>\n",
       "      <td>20280.0</td>\n",
       "    </tr>\n",
       "    <tr>\n",
       "      <th>4</th>\n",
       "      <td>2020-09-15</td>\n",
       "      <td>ES</td>\n",
       "      <td>66</td>\n",
       "      <td>58.0</td>\n",
       "      <td>23</td>\n",
       "      <td>1206334.0</td>\n",
       "      <td>18874.0</td>\n",
       "      <td>19615.0</td>\n",
       "    </tr>\n",
       "  </tbody>\n",
       "</table>\n",
       "</div>"
      ],
      "text/plain": [
       "  sample_date_string region  tek_count  new_tek_count  new_tek_devices  \\\n",
       "0         2020-09-19     ES          2           84.0               38   \n",
       "1         2020-09-18     ES         38          138.0               52   \n",
       "2         2020-09-17     ES         63           63.0               29   \n",
       "3         2020-09-16     ES         66           62.0               23   \n",
       "4         2020-09-15     ES         66           58.0               23   \n",
       "\n",
       "   cumulative_cases  new_cases  rolling_mean_new_cases  \n",
       "0         1301141.0    21061.0                 21061.0  \n",
       "1         1280080.0    28778.0                 21061.0  \n",
       "2         1251302.0    22582.0                 20431.0  \n",
       "3         1228720.0    22386.0                 20280.0  \n",
       "4         1206334.0    18874.0                 19615.0  "
      ]
     },
     "execution_count": 25,
     "metadata": {},
     "output_type": "execute_result"
    }
   ],
   "source": [
    "result_summary_df = result_summary_df.merge(confirmed_df, on=[\"sample_date_string\"], how=\"left\")\n",
    "result_summary_df.head()"
   ]
  },
  {
   "cell_type": "code",
   "execution_count": 26,
   "metadata": {
    "execution": {
     "iopub.execute_input": "2020-09-19T19:17:46.179752Z",
     "iopub.status.busy": "2020-09-19T19:17:46.179078Z",
     "iopub.status.idle": "2020-09-19T19:17:46.196276Z",
     "shell.execute_reply": "2020-09-19T19:17:46.195771Z"
    },
    "papermill": {
     "duration": 0.064259,
     "end_time": "2020-09-19T19:17:46.196407",
     "exception": false,
     "start_time": "2020-09-19T19:17:46.132148",
     "status": "completed"
    },
    "pycharm": {
     "name": "#%%\n"
    },
    "tags": []
   },
   "outputs": [
    {
     "data": {
      "text/html": [
       "<div>\n",
       "<style scoped>\n",
       "    .dataframe tbody tr th:only-of-type {\n",
       "        vertical-align: middle;\n",
       "    }\n",
       "\n",
       "    .dataframe tbody tr th {\n",
       "        vertical-align: top;\n",
       "    }\n",
       "\n",
       "    .dataframe thead th {\n",
       "        text-align: right;\n",
       "    }\n",
       "</style>\n",
       "<table border=\"1\" class=\"dataframe\">\n",
       "  <thead>\n",
       "    <tr style=\"text-align: right;\">\n",
       "      <th></th>\n",
       "      <th>sample_date_string</th>\n",
       "      <th>region</th>\n",
       "      <th>tek_count</th>\n",
       "      <th>new_tek_count</th>\n",
       "      <th>new_tek_devices</th>\n",
       "      <th>cumulative_cases</th>\n",
       "      <th>new_cases</th>\n",
       "      <th>rolling_mean_new_cases</th>\n",
       "      <th>tek_count_per_new_case</th>\n",
       "      <th>new_tek_count_per_new_case</th>\n",
       "      <th>new_tek_devices_per_new_case</th>\n",
       "      <th>new_tek_count_per_new_tek_device</th>\n",
       "    </tr>\n",
       "  </thead>\n",
       "  <tbody>\n",
       "    <tr>\n",
       "      <th>0</th>\n",
       "      <td>2020-09-19</td>\n",
       "      <td>ES</td>\n",
       "      <td>2</td>\n",
       "      <td>84.0</td>\n",
       "      <td>38</td>\n",
       "      <td>1301141.0</td>\n",
       "      <td>21061.0</td>\n",
       "      <td>21061.0</td>\n",
       "      <td>0.000095</td>\n",
       "      <td>0.003988</td>\n",
       "      <td>0.001804</td>\n",
       "      <td>2.210526</td>\n",
       "    </tr>\n",
       "    <tr>\n",
       "      <th>1</th>\n",
       "      <td>2020-09-18</td>\n",
       "      <td>ES</td>\n",
       "      <td>38</td>\n",
       "      <td>138.0</td>\n",
       "      <td>52</td>\n",
       "      <td>1280080.0</td>\n",
       "      <td>28778.0</td>\n",
       "      <td>21061.0</td>\n",
       "      <td>0.001804</td>\n",
       "      <td>0.006552</td>\n",
       "      <td>0.002469</td>\n",
       "      <td>2.653846</td>\n",
       "    </tr>\n",
       "    <tr>\n",
       "      <th>2</th>\n",
       "      <td>2020-09-17</td>\n",
       "      <td>ES</td>\n",
       "      <td>63</td>\n",
       "      <td>63.0</td>\n",
       "      <td>29</td>\n",
       "      <td>1251302.0</td>\n",
       "      <td>22582.0</td>\n",
       "      <td>20431.0</td>\n",
       "      <td>0.003084</td>\n",
       "      <td>0.003084</td>\n",
       "      <td>0.001419</td>\n",
       "      <td>2.172414</td>\n",
       "    </tr>\n",
       "    <tr>\n",
       "      <th>3</th>\n",
       "      <td>2020-09-16</td>\n",
       "      <td>ES</td>\n",
       "      <td>66</td>\n",
       "      <td>62.0</td>\n",
       "      <td>23</td>\n",
       "      <td>1228720.0</td>\n",
       "      <td>22386.0</td>\n",
       "      <td>20280.0</td>\n",
       "      <td>0.003254</td>\n",
       "      <td>0.003057</td>\n",
       "      <td>0.001134</td>\n",
       "      <td>2.695652</td>\n",
       "    </tr>\n",
       "    <tr>\n",
       "      <th>4</th>\n",
       "      <td>2020-09-15</td>\n",
       "      <td>ES</td>\n",
       "      <td>66</td>\n",
       "      <td>58.0</td>\n",
       "      <td>23</td>\n",
       "      <td>1206334.0</td>\n",
       "      <td>18874.0</td>\n",
       "      <td>19615.0</td>\n",
       "      <td>0.003365</td>\n",
       "      <td>0.002957</td>\n",
       "      <td>0.001173</td>\n",
       "      <td>2.521739</td>\n",
       "    </tr>\n",
       "  </tbody>\n",
       "</table>\n",
       "</div>"
      ],
      "text/plain": [
       "  sample_date_string region  tek_count  new_tek_count  new_tek_devices  \\\n",
       "0         2020-09-19     ES          2           84.0               38   \n",
       "1         2020-09-18     ES         38          138.0               52   \n",
       "2         2020-09-17     ES         63           63.0               29   \n",
       "3         2020-09-16     ES         66           62.0               23   \n",
       "4         2020-09-15     ES         66           58.0               23   \n",
       "\n",
       "   cumulative_cases  new_cases  rolling_mean_new_cases  \\\n",
       "0         1301141.0    21061.0                 21061.0   \n",
       "1         1280080.0    28778.0                 21061.0   \n",
       "2         1251302.0    22582.0                 20431.0   \n",
       "3         1228720.0    22386.0                 20280.0   \n",
       "4         1206334.0    18874.0                 19615.0   \n",
       "\n",
       "   tek_count_per_new_case  new_tek_count_per_new_case  \\\n",
       "0                0.000095                    0.003988   \n",
       "1                0.001804                    0.006552   \n",
       "2                0.003084                    0.003084   \n",
       "3                0.003254                    0.003057   \n",
       "4                0.003365                    0.002957   \n",
       "\n",
       "   new_tek_devices_per_new_case  new_tek_count_per_new_tek_device  \n",
       "0                      0.001804                          2.210526  \n",
       "1                      0.002469                          2.653846  \n",
       "2                      0.001419                          2.172414  \n",
       "3                      0.001134                          2.695652  \n",
       "4                      0.001173                          2.521739  "
      ]
     },
     "execution_count": 26,
     "metadata": {},
     "output_type": "execute_result"
    }
   ],
   "source": [
    "result_summary_df[\"tek_count_per_new_case\"] = \\\n",
    "    result_summary_df.tek_count / result_summary_df.rolling_mean_new_cases\n",
    "result_summary_df[\"new_tek_count_per_new_case\"] = \\\n",
    "    result_summary_df.new_tek_count / result_summary_df.rolling_mean_new_cases\n",
    "result_summary_df[\"new_tek_devices_per_new_case\"] = \\\n",
    "    result_summary_df.new_tek_devices / result_summary_df.rolling_mean_new_cases\n",
    "result_summary_df[\"new_tek_count_per_new_tek_device\"] = \\\n",
    "    result_summary_df.new_tek_count / result_summary_df.new_tek_devices\n",
    "result_summary_df.head()"
   ]
  },
  {
   "cell_type": "code",
   "execution_count": 27,
   "metadata": {
    "execution": {
     "iopub.execute_input": "2020-09-19T19:17:46.281198Z",
     "iopub.status.busy": "2020-09-19T19:17:46.280510Z",
     "iopub.status.idle": "2020-09-19T19:17:46.283064Z",
     "shell.execute_reply": "2020-09-19T19:17:46.283517Z"
    },
    "papermill": {
     "duration": 0.049391,
     "end_time": "2020-09-19T19:17:46.283658",
     "exception": false,
     "start_time": "2020-09-19T19:17:46.234267",
     "status": "completed"
    },
    "pycharm": {
     "name": "#%%\n"
    },
    "tags": []
   },
   "outputs": [],
   "source": [
    "result_summary_df[\"sample_date\"] = pd.to_datetime(result_summary_df.sample_date_string)\n",
    "result_summary_df.set_index(\"sample_date\", inplace=True)\n",
    "result_summary_df = result_summary_df.sort_index(ascending=False)"
   ]
  },
  {
   "cell_type": "markdown",
   "metadata": {
    "execution": {
     "iopub.execute_input": "2020-08-30T22:30:17.313260Z",
     "iopub.status.busy": "2020-08-30T22:30:17.312584Z",
     "iopub.status.idle": "2020-08-30T22:30:17.317571Z",
     "shell.execute_reply": "2020-08-30T22:30:17.316929Z"
    },
    "papermill": {
     "duration": 0.04142,
     "end_time": "2020-09-19T19:17:46.366448",
     "exception": false,
     "start_time": "2020-09-19T19:17:46.325028",
     "status": "completed"
    },
    "pycharm": {
     "name": "#%% md\n"
    },
    "tags": []
   },
   "source": [
    "## Report Results\n"
   ]
  },
  {
   "cell_type": "markdown",
   "metadata": {
    "papermill": {
     "duration": 0.040813,
     "end_time": "2020-09-19T19:17:46.447366",
     "exception": false,
     "start_time": "2020-09-19T19:17:46.406553",
     "status": "completed"
    },
    "tags": []
   },
   "source": [
    "### Summary Table"
   ]
  },
  {
   "cell_type": "code",
   "execution_count": 28,
   "metadata": {
    "execution": {
     "iopub.execute_input": "2020-09-19T19:17:46.568290Z",
     "iopub.status.busy": "2020-09-19T19:17:46.567036Z",
     "iopub.status.idle": "2020-09-19T19:17:46.571934Z",
     "shell.execute_reply": "2020-09-19T19:17:46.572519Z"
    },
    "papermill": {
     "duration": 0.077198,
     "end_time": "2020-09-19T19:17:46.572697",
     "exception": false,
     "start_time": "2020-09-19T19:17:46.495499",
     "status": "completed"
    },
    "tags": []
   },
   "outputs": [
    {
     "data": {
      "text/html": [
       "<div>\n",
       "<style scoped>\n",
       "    .dataframe tbody tr th:only-of-type {\n",
       "        vertical-align: middle;\n",
       "    }\n",
       "\n",
       "    .dataframe tbody tr th {\n",
       "        vertical-align: top;\n",
       "    }\n",
       "\n",
       "    .dataframe thead th {\n",
       "        text-align: right;\n",
       "    }\n",
       "</style>\n",
       "<table border=\"1\" class=\"dataframe\">\n",
       "  <thead>\n",
       "    <tr style=\"text-align: right;\">\n",
       "      <th></th>\n",
       "      <th>region</th>\n",
       "      <th>rolling_mean_new_cases</th>\n",
       "      <th>tek_count</th>\n",
       "      <th>new_tek_count</th>\n",
       "      <th>new_tek_devices</th>\n",
       "      <th>tek_count_per_new_case</th>\n",
       "      <th>new_tek_count_per_new_case</th>\n",
       "      <th>new_tek_devices_per_new_case</th>\n",
       "      <th>new_tek_count_per_new_tek_device</th>\n",
       "    </tr>\n",
       "    <tr>\n",
       "      <th>sample_date</th>\n",
       "      <th></th>\n",
       "      <th></th>\n",
       "      <th></th>\n",
       "      <th></th>\n",
       "      <th></th>\n",
       "      <th></th>\n",
       "      <th></th>\n",
       "      <th></th>\n",
       "      <th></th>\n",
       "    </tr>\n",
       "  </thead>\n",
       "  <tbody>\n",
       "    <tr>\n",
       "      <th>2020-09-19</th>\n",
       "      <td>ES</td>\n",
       "      <td>21061.0</td>\n",
       "      <td>2</td>\n",
       "      <td>84.0</td>\n",
       "      <td>38</td>\n",
       "      <td>0.000095</td>\n",
       "      <td>0.003988</td>\n",
       "      <td>0.001804</td>\n",
       "      <td>2.210526</td>\n",
       "    </tr>\n",
       "    <tr>\n",
       "      <th>2020-09-18</th>\n",
       "      <td>ES</td>\n",
       "      <td>21061.0</td>\n",
       "      <td>38</td>\n",
       "      <td>138.0</td>\n",
       "      <td>52</td>\n",
       "      <td>0.001804</td>\n",
       "      <td>0.006552</td>\n",
       "      <td>0.002469</td>\n",
       "      <td>2.653846</td>\n",
       "    </tr>\n",
       "    <tr>\n",
       "      <th>2020-09-17</th>\n",
       "      <td>ES</td>\n",
       "      <td>20431.0</td>\n",
       "      <td>63</td>\n",
       "      <td>63.0</td>\n",
       "      <td>29</td>\n",
       "      <td>0.003084</td>\n",
       "      <td>0.003084</td>\n",
       "      <td>0.001419</td>\n",
       "      <td>2.172414</td>\n",
       "    </tr>\n",
       "    <tr>\n",
       "      <th>2020-09-16</th>\n",
       "      <td>ES</td>\n",
       "      <td>20280.0</td>\n",
       "      <td>66</td>\n",
       "      <td>62.0</td>\n",
       "      <td>23</td>\n",
       "      <td>0.003254</td>\n",
       "      <td>0.003057</td>\n",
       "      <td>0.001134</td>\n",
       "      <td>2.695652</td>\n",
       "    </tr>\n",
       "    <tr>\n",
       "      <th>2020-09-15</th>\n",
       "      <td>ES</td>\n",
       "      <td>19615.0</td>\n",
       "      <td>66</td>\n",
       "      <td>58.0</td>\n",
       "      <td>23</td>\n",
       "      <td>0.003365</td>\n",
       "      <td>0.002957</td>\n",
       "      <td>0.001173</td>\n",
       "      <td>2.521739</td>\n",
       "    </tr>\n",
       "    <tr>\n",
       "      <th>2020-09-14</th>\n",
       "      <td>ES</td>\n",
       "      <td>19480.0</td>\n",
       "      <td>72</td>\n",
       "      <td>61.0</td>\n",
       "      <td>28</td>\n",
       "      <td>0.003696</td>\n",
       "      <td>0.003131</td>\n",
       "      <td>0.001437</td>\n",
       "      <td>2.178571</td>\n",
       "    </tr>\n",
       "    <tr>\n",
       "      <th>2020-09-13</th>\n",
       "      <td>ES</td>\n",
       "      <td>19239.0</td>\n",
       "      <td>75</td>\n",
       "      <td>92.0</td>\n",
       "      <td>32</td>\n",
       "      <td>0.003898</td>\n",
       "      <td>0.004782</td>\n",
       "      <td>0.001663</td>\n",
       "      <td>2.875000</td>\n",
       "    </tr>\n",
       "    <tr>\n",
       "      <th>2020-09-12</th>\n",
       "      <td>ES</td>\n",
       "      <td>19239.0</td>\n",
       "      <td>67</td>\n",
       "      <td>92.0</td>\n",
       "      <td>33</td>\n",
       "      <td>0.003483</td>\n",
       "      <td>0.004782</td>\n",
       "      <td>0.001715</td>\n",
       "      <td>2.787879</td>\n",
       "    </tr>\n",
       "    <tr>\n",
       "      <th>2020-09-11</th>\n",
       "      <td>ES</td>\n",
       "      <td>19239.0</td>\n",
       "      <td>75</td>\n",
       "      <td>46.0</td>\n",
       "      <td>19</td>\n",
       "      <td>0.003898</td>\n",
       "      <td>0.002391</td>\n",
       "      <td>0.000988</td>\n",
       "      <td>2.421053</td>\n",
       "    </tr>\n",
       "    <tr>\n",
       "      <th>2020-09-10</th>\n",
       "      <td>ES</td>\n",
       "      <td>18751.0</td>\n",
       "      <td>68</td>\n",
       "      <td>45.0</td>\n",
       "      <td>15</td>\n",
       "      <td>0.003626</td>\n",
       "      <td>0.002400</td>\n",
       "      <td>0.000800</td>\n",
       "      <td>3.000000</td>\n",
       "    </tr>\n",
       "    <tr>\n",
       "      <th>2020-09-09</th>\n",
       "      <td>ES</td>\n",
       "      <td>18236.0</td>\n",
       "      <td>60</td>\n",
       "      <td>67.0</td>\n",
       "      <td>21</td>\n",
       "      <td>0.003290</td>\n",
       "      <td>0.003674</td>\n",
       "      <td>0.001152</td>\n",
       "      <td>3.190476</td>\n",
       "    </tr>\n",
       "    <tr>\n",
       "      <th>2020-09-08</th>\n",
       "      <td>ES</td>\n",
       "      <td>18154.0</td>\n",
       "      <td>61</td>\n",
       "      <td>44.0</td>\n",
       "      <td>18</td>\n",
       "      <td>0.003360</td>\n",
       "      <td>0.002424</td>\n",
       "      <td>0.000992</td>\n",
       "      <td>2.444444</td>\n",
       "    </tr>\n",
       "    <tr>\n",
       "      <th>2020-09-07</th>\n",
       "      <td>ES</td>\n",
       "      <td>17912.0</td>\n",
       "      <td>58</td>\n",
       "      <td>52.0</td>\n",
       "      <td>22</td>\n",
       "      <td>0.003238</td>\n",
       "      <td>0.002903</td>\n",
       "      <td>0.001228</td>\n",
       "      <td>2.363636</td>\n",
       "    </tr>\n",
       "    <tr>\n",
       "      <th>2020-09-06</th>\n",
       "      <td>ES</td>\n",
       "      <td>17058.0</td>\n",
       "      <td>54</td>\n",
       "      <td>NaN</td>\n",
       "      <td>24</td>\n",
       "      <td>0.003166</td>\n",
       "      <td>NaN</td>\n",
       "      <td>0.001407</td>\n",
       "      <td>NaN</td>\n",
       "    </tr>\n",
       "  </tbody>\n",
       "</table>\n",
       "</div>"
      ],
      "text/plain": [
       "            region  rolling_mean_new_cases  tek_count  new_tek_count  \\\n",
       "sample_date                                                            \n",
       "2020-09-19      ES                 21061.0          2           84.0   \n",
       "2020-09-18      ES                 21061.0         38          138.0   \n",
       "2020-09-17      ES                 20431.0         63           63.0   \n",
       "2020-09-16      ES                 20280.0         66           62.0   \n",
       "2020-09-15      ES                 19615.0         66           58.0   \n",
       "2020-09-14      ES                 19480.0         72           61.0   \n",
       "2020-09-13      ES                 19239.0         75           92.0   \n",
       "2020-09-12      ES                 19239.0         67           92.0   \n",
       "2020-09-11      ES                 19239.0         75           46.0   \n",
       "2020-09-10      ES                 18751.0         68           45.0   \n",
       "2020-09-09      ES                 18236.0         60           67.0   \n",
       "2020-09-08      ES                 18154.0         61           44.0   \n",
       "2020-09-07      ES                 17912.0         58           52.0   \n",
       "2020-09-06      ES                 17058.0         54            NaN   \n",
       "\n",
       "             new_tek_devices  tek_count_per_new_case  \\\n",
       "sample_date                                            \n",
       "2020-09-19                38                0.000095   \n",
       "2020-09-18                52                0.001804   \n",
       "2020-09-17                29                0.003084   \n",
       "2020-09-16                23                0.003254   \n",
       "2020-09-15                23                0.003365   \n",
       "2020-09-14                28                0.003696   \n",
       "2020-09-13                32                0.003898   \n",
       "2020-09-12                33                0.003483   \n",
       "2020-09-11                19                0.003898   \n",
       "2020-09-10                15                0.003626   \n",
       "2020-09-09                21                0.003290   \n",
       "2020-09-08                18                0.003360   \n",
       "2020-09-07                22                0.003238   \n",
       "2020-09-06                24                0.003166   \n",
       "\n",
       "             new_tek_count_per_new_case  new_tek_devices_per_new_case  \\\n",
       "sample_date                                                             \n",
       "2020-09-19                     0.003988                      0.001804   \n",
       "2020-09-18                     0.006552                      0.002469   \n",
       "2020-09-17                     0.003084                      0.001419   \n",
       "2020-09-16                     0.003057                      0.001134   \n",
       "2020-09-15                     0.002957                      0.001173   \n",
       "2020-09-14                     0.003131                      0.001437   \n",
       "2020-09-13                     0.004782                      0.001663   \n",
       "2020-09-12                     0.004782                      0.001715   \n",
       "2020-09-11                     0.002391                      0.000988   \n",
       "2020-09-10                     0.002400                      0.000800   \n",
       "2020-09-09                     0.003674                      0.001152   \n",
       "2020-09-08                     0.002424                      0.000992   \n",
       "2020-09-07                     0.002903                      0.001228   \n",
       "2020-09-06                          NaN                      0.001407   \n",
       "\n",
       "             new_tek_count_per_new_tek_device  \n",
       "sample_date                                    \n",
       "2020-09-19                           2.210526  \n",
       "2020-09-18                           2.653846  \n",
       "2020-09-17                           2.172414  \n",
       "2020-09-16                           2.695652  \n",
       "2020-09-15                           2.521739  \n",
       "2020-09-14                           2.178571  \n",
       "2020-09-13                           2.875000  \n",
       "2020-09-12                           2.787879  \n",
       "2020-09-11                           2.421053  \n",
       "2020-09-10                           3.000000  \n",
       "2020-09-09                           3.190476  \n",
       "2020-09-08                           2.444444  \n",
       "2020-09-07                           2.363636  \n",
       "2020-09-06                                NaN  "
      ]
     },
     "execution_count": 28,
     "metadata": {},
     "output_type": "execute_result"
    }
   ],
   "source": [
    "result_summary_df_ = result_summary_df.copy()\n",
    "result_summary_df = result_summary_df[[\n",
    "    \"region\",\n",
    "    \"rolling_mean_new_cases\",\n",
    "    \"tek_count\",\n",
    "    \"new_tek_count\",\n",
    "    \"new_tek_devices\",\n",
    "    \"tek_count_per_new_case\",\n",
    "    \"new_tek_count_per_new_case\",\n",
    "    \"new_tek_devices_per_new_case\",\n",
    "    \"new_tek_count_per_new_tek_device\"]]\n",
    "result_summary_df"
   ]
  },
  {
   "cell_type": "markdown",
   "metadata": {
    "papermill": {
     "duration": 0.041222,
     "end_time": "2020-09-19T19:17:46.657245",
     "exception": false,
     "start_time": "2020-09-19T19:17:46.616023",
     "status": "completed"
    },
    "tags": []
   },
   "source": [
    "### Summary Plots"
   ]
  },
  {
   "cell_type": "code",
   "execution_count": 29,
   "metadata": {
    "execution": {
     "iopub.execute_input": "2020-09-19T19:17:46.781286Z",
     "iopub.status.busy": "2020-09-19T19:17:46.771275Z",
     "iopub.status.idle": "2020-09-19T19:17:48.434754Z",
     "shell.execute_reply": "2020-09-19T19:17:48.435272Z"
    },
    "papermill": {
     "duration": 1.735768,
     "end_time": "2020-09-19T19:17:48.435479",
     "exception": false,
     "start_time": "2020-09-19T19:17:46.699711",
     "status": "completed"
    },
    "scrolled": false,
    "tags": []
   },
   "outputs": [
    {
     "data": {
      "image/png": "[encoded data removed]",
      "text/plain": [
       "<Figure size 1080x1584 with 6 Axes>"
      ]
     },
     "metadata": {},
     "output_type": "display_data"
    }
   ],
   "source": [
    "summary_ax_list = result_summary_df[[\n",
    "    \"rolling_mean_new_cases\",\n",
    "    \"tek_count\",\n",
    "    \"new_tek_count\",\n",
    "    \"new_tek_devices\",\n",
    "    \"new_tek_count_per_new_tek_device\",\n",
    "    \"new_tek_devices_per_new_case\"\n",
    "]].sort_index(ascending=True).plot.bar(\n",
    "    title=f\"Summary (Region {spain_region_country_code})\",\n",
    "    rot=45, subplots=True, figsize=(15, 22), legend=False)\n",
    "ax_ = summary_ax_list[-1]\n",
    "ax_.get_figure().tight_layout()\n",
    "ax_.get_figure().subplots_adjust(top=0.95)\n",
    "ax_.yaxis.set_major_formatter(matplotlib.ticker.PercentFormatter(1.0))\n",
    "_ = ax_.set_xticklabels(result_summary_df.index.strftime(\"%Y-%m-%d\").tolist())"
   ]
  },
  {
   "cell_type": "markdown",
   "metadata": {
    "papermill": {
     "duration": 0.048407,
     "end_time": "2020-09-19T19:17:48.528241",
     "exception": false,
     "start_time": "2020-09-19T19:17:48.479834",
     "status": "completed"
    },
    "tags": []
   },
   "source": [
    "### Hourly Summary Plots "
   ]
  },
  {
   "cell_type": "code",
   "execution_count": 30,
   "metadata": {
    "execution": {
     "iopub.execute_input": "2020-09-19T19:17:48.643923Z",
     "iopub.status.busy": "2020-09-19T19:17:48.643222Z",
     "iopub.status.idle": "2020-09-19T19:17:49.309228Z",
     "shell.execute_reply": "2020-09-19T19:17:49.310070Z"
    },
    "papermill": {
     "duration": 0.737217,
     "end_time": "2020-09-19T19:17:49.310236",
     "exception": false,
     "start_time": "2020-09-19T19:17:48.573019",
     "status": "completed"
    },
    "pycharm": {
     "name": "#%%\n"
    },
    "tags": []
   },
   "outputs": [
    {
     "data": {
      "image/png": "[encoded data removed]",
      "text/plain": [
       "<Figure size 1080x432 with 2 Axes>"
      ]
     },
     "metadata": {},
     "output_type": "display_data"
    }
   ],
   "source": [
    "hourly_summary_ax_list = hourly_summary_df.plot.bar(\n",
    "    title=f\"Last 24h Summary (Region {spain_region_country_code})\",\n",
    "    rot=45, subplots=True, legend=False)\n",
    "ax_ = hourly_summary_ax_list[-1]\n",
    "ax_.get_figure().tight_layout()\n",
    "ax_.get_figure().subplots_adjust(top=0.9)\n",
    "_ = ax_.set_xticklabels(hourly_summary_df.index.strftime(\"%Y-%m-%d@%H\").tolist())"
   ]
  },
  {
   "cell_type": "markdown",
   "metadata": {
    "collapsed": false,
    "papermill": {
     "duration": 0.042787,
     "end_time": "2020-09-19T19:17:49.399547",
     "exception": false,
     "start_time": "2020-09-19T19:17:49.356760",
     "status": "completed"
    },
    "tags": []
   },
   "source": [
    "### Summary Table"
   ]
  },
  {
   "cell_type": "code",
   "execution_count": 31,
   "metadata": {
    "collapsed": false,
    "execution": {
     "iopub.execute_input": "2020-09-19T19:17:49.492847Z",
     "iopub.status.busy": "2020-09-19T19:17:49.492158Z",
     "iopub.status.idle": "2020-09-19T19:17:49.494690Z",
     "shell.execute_reply": "2020-09-19T19:17:49.495249Z"
    },
    "papermill": {
     "duration": 0.054543,
     "end_time": "2020-09-19T19:17:49.495454",
     "exception": false,
     "start_time": "2020-09-19T19:17:49.440911",
     "status": "completed"
    },
    "pycharm": {
     "name": "#%%\n"
    },
    "tags": []
   },
   "outputs": [
    {
     "data": {
      "text/html": [
       "<div>\n",
       "<style scoped>\n",
       "    .dataframe tbody tr th:only-of-type {\n",
       "        vertical-align: middle;\n",
       "    }\n",
       "\n",
       "    .dataframe tbody tr th {\n",
       "        vertical-align: top;\n",
       "    }\n",
       "\n",
       "    .dataframe thead tr th {\n",
       "        text-align: left;\n",
       "    }\n",
       "\n",
       "    .dataframe thead tr:last-of-type th {\n",
       "        text-align: right;\n",
       "    }\n",
       "</style>\n",
       "<table border=\"1\" class=\"dataframe\">\n",
       "  <thead>\n",
       "    <tr>\n",
       "      <th></th>\n",
       "      <th>tek_count</th>\n",
       "    </tr>\n",
       "    <tr>\n",
       "      <th>region</th>\n",
       "      <th>ES</th>\n",
       "    </tr>\n",
       "    <tr>\n",
       "      <th>sample_date_string</th>\n",
       "      <th></th>\n",
       "    </tr>\n",
       "  </thead>\n",
       "  <tbody>\n",
       "    <tr>\n",
       "      <th>2020-09-19</th>\n",
       "      <td>2</td>\n",
       "    </tr>\n",
       "    <tr>\n",
       "      <th>2020-09-18</th>\n",
       "      <td>38</td>\n",
       "    </tr>\n",
       "    <tr>\n",
       "      <th>2020-09-17</th>\n",
       "      <td>63</td>\n",
       "    </tr>\n",
       "    <tr>\n",
       "      <th>2020-09-16</th>\n",
       "      <td>66</td>\n",
       "    </tr>\n",
       "    <tr>\n",
       "      <th>2020-09-15</th>\n",
       "      <td>66</td>\n",
       "    </tr>\n",
       "    <tr>\n",
       "      <th>2020-09-14</th>\n",
       "      <td>72</td>\n",
       "    </tr>\n",
       "    <tr>\n",
       "      <th>2020-09-13</th>\n",
       "      <td>75</td>\n",
       "    </tr>\n",
       "    <tr>\n",
       "      <th>2020-09-12</th>\n",
       "      <td>67</td>\n",
       "    </tr>\n",
       "    <tr>\n",
       "      <th>2020-09-11</th>\n",
       "      <td>75</td>\n",
       "    </tr>\n",
       "    <tr>\n",
       "      <th>2020-09-10</th>\n",
       "      <td>68</td>\n",
       "    </tr>\n",
       "    <tr>\n",
       "      <th>2020-09-09</th>\n",
       "      <td>60</td>\n",
       "    </tr>\n",
       "    <tr>\n",
       "      <th>2020-09-08</th>\n",
       "      <td>61</td>\n",
       "    </tr>\n",
       "    <tr>\n",
       "      <th>2020-09-07</th>\n",
       "      <td>58</td>\n",
       "    </tr>\n",
       "    <tr>\n",
       "      <th>2020-09-06</th>\n",
       "      <td>54</td>\n",
       "    </tr>\n",
       "  </tbody>\n",
       "</table>\n",
       "</div>"
      ],
      "text/plain": [
       "                   tek_count\n",
       "region                    ES\n",
       "sample_date_string          \n",
       "2020-09-19                 2\n",
       "2020-09-18                38\n",
       "2020-09-17                63\n",
       "2020-09-16                66\n",
       "2020-09-15                66\n",
       "2020-09-14                72\n",
       "2020-09-13                75\n",
       "2020-09-12                67\n",
       "2020-09-11                75\n",
       "2020-09-10                68\n",
       "2020-09-09                60\n",
       "2020-09-08                61\n",
       "2020-09-07                58\n",
       "2020-09-06                54"
      ]
     },
     "execution_count": 31,
     "metadata": {},
     "output_type": "execute_result"
    }
   ],
   "source": [
    "multi_region_summary_df"
   ]
  },
  {
   "cell_type": "markdown",
   "metadata": {
    "papermill": {
     "duration": 0.043647,
     "end_time": "2020-09-19T19:17:49.604298",
     "exception": false,
     "start_time": "2020-09-19T19:17:49.560651",
     "status": "completed"
    },
    "tags": []
   },
   "source": [
    "### Publish Results"
   ]
  },
  {
   "cell_type": "code",
   "execution_count": 32,
   "metadata": {
    "execution": {
     "iopub.execute_input": "2020-09-19T19:17:49.700237Z",
     "iopub.status.busy": "2020-09-19T19:17:49.699434Z",
     "iopub.status.idle": "2020-09-19T19:18:04.115749Z",
     "shell.execute_reply": "2020-09-19T19:18:04.114763Z"
    },
    "papermill": {
     "duration": 14.468781,
     "end_time": "2020-09-19T19:18:04.115977",
     "exception": false,
     "start_time": "2020-09-19T19:17:49.647196",
     "status": "completed"
    },
    "pycharm": {
     "name": "#%%\n"
    },
    "tags": []
   },
   "outputs": [],
   "source": [
    "def get_temporary_image_path() -> str:\n",
    "    return os.path.join(tempfile.gettempdir(), str(uuid.uuid4()) + \".png\")\n",
    "\n",
    "def save_temporary_plot_image(ax):\n",
    "    if isinstance(ax, np.ndarray):\n",
    "        ax = ax[0]\n",
    "    media_path = get_temporary_image_path()\n",
    "    ax.get_figure().savefig(media_path)\n",
    "    return media_path\n",
    "\n",
    "def save_temporary_dataframe_image(df):\n",
    "    media_path = get_temporary_image_path()\n",
    "    dfi.export(df, media_path)\n",
    "    return media_path\n",
    "\n",
    "summary_plots_image_path = save_temporary_plot_image(ax=summary_ax_list)\n",
    "summary_table_image_path = save_temporary_dataframe_image(df=result_summary_df)\n",
    "hourly_summary_plots_image_path = save_temporary_plot_image(ax=hourly_summary_ax_list)\n",
    "multi_region_summary_table_image_path = save_temporary_dataframe_image(df=multi_region_summary_df)"
   ]
  },
  {
   "cell_type": "markdown",
   "metadata": {
    "papermill": {
     "duration": 0.044625,
     "end_time": "2020-09-19T19:18:04.208298",
     "exception": false,
     "start_time": "2020-09-19T19:18:04.163673",
     "status": "completed"
    },
    "tags": []
   },
   "source": [
    "### Save Results"
   ]
  },
  {
   "cell_type": "code",
   "execution_count": 33,
   "metadata": {
    "execution": {
     "iopub.execute_input": "2020-09-19T19:18:04.303191Z",
     "iopub.status.busy": "2020-09-19T19:18:04.302521Z",
     "iopub.status.idle": "2020-09-19T19:18:04.319529Z",
     "shell.execute_reply": "2020-09-19T19:18:04.320161Z"
    },
    "papermill": {
     "duration": 0.06818,
     "end_time": "2020-09-19T19:18:04.320349",
     "exception": false,
     "start_time": "2020-09-19T19:18:04.252169",
     "status": "completed"
    },
    "pycharm": {
     "name": "#%%\n"
    },
    "tags": []
   },
   "outputs": [],
   "source": [
    "report_resources_path_prefix = \"Data/Resources/Current/RadarCOVID-Report-\"\n",
    "result_summary_df.to_csv(report_resources_path_prefix + \"Summary-Table.csv\")\n",
    "result_summary_df.to_html(report_resources_path_prefix + \"Summary-Table.html\")\n",
    "multi_region_summary_df.to_csv(report_resources_path_prefix + \"Multi-Region-Summary-Table.csv\")\n",
    "_ = shutil.copyfile(summary_plots_image_path, report_resources_path_prefix + \"Summary-Plots.png\")\n",
    "_ = shutil.copyfile(summary_table_image_path, report_resources_path_prefix + \"Summary-Table.png\")\n",
    "_ = shutil.copyfile(hourly_summary_plots_image_path, report_resources_path_prefix + \"Hourly-Summary-Plots.png\")\n",
    "_ = shutil.copyfile(multi_region_summary_table_image_path, report_resources_path_prefix + \"Multi-Region-Summary-Table.png\")\n",
    "\n",
    "report_daily_url_pattern = \\\n",
    "    \"https://github.com/pvieito/RadarCOVID-Report/blob/master/Notebooks/\" \\\n",
    "    \"RadarCOVID-Report/{report_type}/RadarCOVID-Report-{report_date}.ipynb\"\n",
    "report_daily_url = report_daily_url_pattern.format(\n",
    "    report_type=\"Daily\", report_date=extraction_date)\n",
    "report_hourly_url = report_daily_url_pattern.format(\n",
    "    report_type=\"Hourly\", report_date=extraction_date_with_hour)"
   ]
  },
  {
   "cell_type": "markdown",
   "metadata": {
    "papermill": {
     "duration": 0.043694,
     "end_time": "2020-09-19T19:18:04.409920",
     "exception": false,
     "start_time": "2020-09-19T19:18:04.366226",
     "status": "completed"
    },
    "tags": []
   },
   "source": [
    "### Publish on README"
   ]
  },
  {
   "cell_type": "code",
   "execution_count": 34,
   "metadata": {
    "execution": {
     "iopub.execute_input": "2020-09-19T19:18:04.513449Z",
     "iopub.status.busy": "2020-09-19T19:18:04.512814Z",
     "iopub.status.idle": "2020-09-19T19:18:04.518278Z",
     "shell.execute_reply": "2020-09-19T19:18:04.517623Z"
    },
    "papermill": {
     "duration": 0.063683,
     "end_time": "2020-09-19T19:18:04.518416",
     "exception": false,
     "start_time": "2020-09-19T19:18:04.454733",
     "status": "completed"
    },
    "pycharm": {
     "name": "#%%\n"
    },
    "tags": []
   },
   "outputs": [],
   "source": [
    "with open(\"Data/Templates/README.md\", \"r\") as f:\n",
    "    readme_contents = f.read()\n",
    "\n",
    "summary_table_html = result_summary_df.to_html()\n",
    "multi_region_summary_table_html = multi_region_summary_df.to_html()\n",
    "readme_contents = readme_contents.format(\n",
    "    summary_table_html=summary_table_html,\n",
    "    multi_region_summary_table_html=multi_region_summary_table_html,\n",
    "    report_url_with_hour=report_hourly_url,\n",
    "    extraction_date_with_hour=extraction_date_with_hour)\n",
    "\n",
    "with open(\"README.md\", \"w\") as f:\n",
    "    f.write(readme_contents)"
   ]
  },
  {
   "cell_type": "markdown",
   "metadata": {
    "papermill": {
     "duration": 0.046115,
     "end_time": "2020-09-19T19:18:04.609052",
     "exception": false,
     "start_time": "2020-09-19T19:18:04.562937",
     "status": "completed"
    },
    "pycharm": {
     "name": "#%% md\n"
    },
    "tags": []
   },
   "source": [
    "### Publish on Twitter"
   ]
  },
  {
   "cell_type": "code",
   "execution_count": 35,
   "metadata": {
    "execution": {
     "iopub.execute_input": "2020-09-19T19:18:04.708970Z",
     "iopub.status.busy": "2020-09-19T19:18:04.708234Z",
     "iopub.status.idle": "2020-09-19T19:18:08.073062Z",
     "shell.execute_reply": "2020-09-19T19:18:08.071943Z"
    },
    "papermill": {
     "duration": 3.418064,
     "end_time": "2020-09-19T19:18:08.073199",
     "exception": false,
     "start_time": "2020-09-19T19:18:04.655135",
     "status": "completed"
    },
    "pycharm": {
     "name": "#%%\n"
    },
    "tags": []
   },
   "outputs": [],
   "source": [
    "enable_share_to_twitter = os.environ.get(\"RADARCOVID_REPORT__ENABLE_PUBLISH_ON_TWITTER\")\n",
    "github_event_name = os.environ.get(\"GITHUB_EVENT_NAME\")\n",
    "\n",
    "if enable_share_to_twitter and github_event_name == \"schedule\":\n",
    "    import tweepy\n",
    "\n",
    "    twitter_api_auth_keys = os.environ[\"RADARCOVID_REPORT__TWITTER_API_AUTH_KEYS\"]\n",
    "    twitter_api_auth_keys = twitter_api_auth_keys.split(\":\")\n",
    "    auth = tweepy.OAuthHandler(twitter_api_auth_keys[0], twitter_api_auth_keys[1])\n",
    "    auth.set_access_token(twitter_api_auth_keys[2], twitter_api_auth_keys[3])\n",
    "\n",
    "    api = tweepy.API(auth)\n",
    "\n",
    "    summary_plots_media = api.media_upload(summary_plots_image_path)\n",
    "    summary_table_media = api.media_upload(summary_table_image_path)\n",
    "    hourly_summary_plots_media = api.media_upload(hourly_summary_plots_image_path)\n",
    "    media_ids = [\n",
    "        summary_plots_media.media_id,\n",
    "        summary_table_media.media_id,\n",
    "        hourly_summary_plots_media.media_id,\n",
    "    ]\n",
    "\n",
    "    extraction_date_result_summary_df = \\\n",
    "        result_summary_df[result_summary_df.index == extraction_date]\n",
    "    extraction_date_result_hourly_summary_df = \\\n",
    "        hourly_summary_df[hourly_summary_df.extraction_date_with_hour == extraction_date_with_hour]\n",
    "\n",
    "    new_teks = extraction_date_result_summary_df.new_tek_count.sum().astype(int)\n",
    "    new_teks_last_hour = extraction_date_result_hourly_summary_df.new_tek_count.sum().astype(int)\n",
    "    new_devices = extraction_date_result_summary_df.new_tek_devices.sum().astype(int)\n",
    "    new_devices_last_hour = extraction_date_result_hourly_summary_df.new_tek_devices.sum().astype(int)\n",
    "    new_tek_count_per_new_tek_device = \\\n",
    "        extraction_date_result_summary_df.new_tek_count_per_new_tek_device.sum()\n",
    "    new_tek_devices_per_new_case = \\\n",
    "        extraction_date_result_summary_df.new_tek_devices_per_new_case.sum()\n",
    "\n",
    "    status = textwrap.dedent(f\"\"\"\n",
    "        Report Update – {extraction_date_with_hour}\n",
    "        #ExposureNotification #RadarCOVID\n",
    "\n",
    "        Shared Diagnoses Day Summary ({spain_region_country_code}):\n",
    "        - New TEKs: {new_teks} ({new_teks_last_hour:+d} last hour)\n",
    "        - New Devices: {new_devices} ({new_devices_last_hour:+d} last hour, {new_tek_count_per_new_tek_device:.2} TEKs/device)\n",
    "        - Usage Ratio: {new_tek_devices_per_new_case:.2%} devices/case\n",
    "\n",
    "        Active Regions: {\", \".join(active_regions)}\n",
    "\n",
    "        Report Link: {report_hourly_url}\n",
    "        \"\"\")\n",
    "    status = status.encode(encoding=\"utf-8\")\n",
    "    api.update_status(status=status, media_ids=media_ids)"
   ]
  }
 ],
 "metadata": {
  "kernelspec": {
   "display_name": "Python 3",
   "language": "python",
   "name": "python3"
  },
  "language_info": {
   "codemirror_mode": {
    "name": "ipython",
    "version": 3
   },
   "file_extension": ".py",
   "mimetype": "text/x-python",
   "name": "python",
   "nbconvert_exporter": "python",
   "pygments_lexer": "ipython3",
   "version": "3.8.5"
  },
  "papermill": {
   "duration": 35.334999,
   "end_time": "2020-09-19T19:18:08.627278",
   "environment_variables": {},
   "exception": null,
   "input_path": "Notebooks/RadarCOVID-Report/Source/RadarCOVID-Report.ipynb",
   "output_path": "RadarCOVID-Report.ipynb",
   "parameters": {},
   "start_time": "2020-09-19T19:17:33.292279",
   "version": "2.1.3"
  }
 },
 "nbformat": 4,
 "nbformat_minor": 1
}