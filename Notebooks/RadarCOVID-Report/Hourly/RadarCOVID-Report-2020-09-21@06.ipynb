{
 "cells": [
  {
   "cell_type": "markdown",
   "metadata": {
    "papermill": {
     "duration": 0.032574,
     "end_time": "2020-09-21T06:21:31.644197",
     "exception": false,
     "start_time": "2020-09-21T06:21:31.611623",
     "status": "completed"
    },
    "pycharm": {
     "name": "#%% md\n"
    },
    "tags": []
   },
   "source": [
    "# RadarCOVID-Report"
   ]
  },
  {
   "cell_type": "markdown",
   "metadata": {
    "collapsed": true,
    "papermill": {
     "duration": 0.026416,
     "end_time": "2020-09-21T06:21:31.697697",
     "exception": false,
     "start_time": "2020-09-21T06:21:31.671281",
     "status": "completed"
    },
    "pycharm": {
     "name": "#%% md\n"
    },
    "tags": []
   },
   "source": [
    "## Data Extraction"
   ]
  },
  {
   "cell_type": "code",
   "execution_count": 1,
   "metadata": {
    "execution": {
     "iopub.execute_input": "2020-09-21T06:21:31.758088Z",
     "iopub.status.busy": "2020-09-21T06:21:31.756951Z",
     "iopub.status.idle": "2020-09-21T06:21:36.452089Z",
     "shell.execute_reply": "2020-09-21T06:21:36.451093Z"
    },
    "papermill": {
     "duration": 4.727865,
     "end_time": "2020-09-21T06:21:36.452391",
     "exception": false,
     "start_time": "2020-09-21T06:21:31.724526",
     "status": "completed"
    },
    "pycharm": {
     "name": "#%%\n"
    },
    "tags": []
   },
   "outputs": [],
   "source": [
    "import datetime\n",
    "import logging\n",
    "import os\n",
    "import shutil\n",
    "import tempfile\n",
    "import textwrap\n",
    "import uuid\n",
    "\n",
    "import dataframe_image as dfi\n",
    "import matplotlib.ticker\n",
    "import numpy as np\n",
    "import pandas as pd\n",
    "import seaborn as sns\n",
    "\n",
    "%matplotlib inline"
   ]
  },
  {
   "cell_type": "code",
   "execution_count": 2,
   "metadata": {
    "collapsed": false,
    "execution": {
     "iopub.execute_input": "2020-09-21T06:21:36.513012Z",
     "iopub.status.busy": "2020-09-21T06:21:36.512428Z",
     "iopub.status.idle": "2020-09-21T06:21:36.514822Z",
     "shell.execute_reply": "2020-09-21T06:21:36.514272Z"
    },
    "papermill": {
     "duration": 0.035433,
     "end_time": "2020-09-21T06:21:36.514945",
     "exception": false,
     "start_time": "2020-09-21T06:21:36.479512",
     "status": "completed"
    },
    "pycharm": {
     "name": "#%%\n"
    },
    "tags": []
   },
   "outputs": [],
   "source": [
    "current_working_directory = os.environ.get(\"PWD\")\n",
    "if current_working_directory:\n",
    "    os.chdir(current_working_directory)\n",
    "\n",
    "sns.set()\n",
    "matplotlib.rcParams['figure.figsize'] = (15, 6)\n",
    "\n",
    "extraction_datetime = datetime.datetime.utcnow()\n",
    "extraction_date = extraction_datetime.strftime(\"%Y-%m-%d\")\n",
    "extraction_previous_datetime = extraction_datetime - datetime.timedelta(days=1)\n",
    "extraction_previous_date = extraction_previous_datetime.strftime(\"%Y-%m-%d\")\n",
    "extraction_date_with_hour = datetime.datetime.utcnow().strftime(\"%Y-%m-%d@%H\")"
   ]
  },
  {
   "cell_type": "markdown",
   "metadata": {
    "papermill": {
     "duration": 0.028263,
     "end_time": "2020-09-21T06:21:36.569615",
     "exception": false,
     "start_time": "2020-09-21T06:21:36.541352",
     "status": "completed"
    },
    "tags": []
   },
   "source": [
    "### COVID-19 Cases"
   ]
  },
  {
   "cell_type": "code",
   "execution_count": 3,
   "metadata": {
    "execution": {
     "iopub.execute_input": "2020-09-21T06:21:36.630518Z",
     "iopub.status.busy": "2020-09-21T06:21:36.629945Z",
     "iopub.status.idle": "2020-09-21T06:21:37.095259Z",
     "shell.execute_reply": "2020-09-21T06:21:37.095700Z"
    },
    "papermill": {
     "duration": 0.499342,
     "end_time": "2020-09-21T06:21:37.095858",
     "exception": false,
     "start_time": "2020-09-21T06:21:36.596516",
     "status": "completed"
    },
    "pycharm": {
     "name": "#%%\n"
    },
    "tags": []
   },
   "outputs": [
    {
     "data": {
      "text/html": [
       "<div>\n",
       "<style scoped>\n",
       "    .dataframe tbody tr th:only-of-type {\n",
       "        vertical-align: middle;\n",
       "    }\n",
       "\n",
       "    .dataframe tbody tr th {\n",
       "        vertical-align: top;\n",
       "    }\n",
       "\n",
       "    .dataframe thead th {\n",
       "        text-align: right;\n",
       "    }\n",
       "</style>\n",
       "<table border=\"1\" class=\"dataframe\">\n",
       "  <thead>\n",
       "    <tr style=\"text-align: right;\">\n",
       "      <th></th>\n",
       "      <th>Country_EN</th>\n",
       "      <th>Country_ES</th>\n",
       "      <th>Country_IT</th>\n",
       "      <th>Region</th>\n",
       "      <th>2020-01-23</th>\n",
       "      <th>2020-01-24</th>\n",
       "      <th>2020-01-25</th>\n",
       "      <th>2020-01-26</th>\n",
       "      <th>2020-01-27</th>\n",
       "      <th>2020-01-28</th>\n",
       "      <th>...</th>\n",
       "      <th>2020-09-11</th>\n",
       "      <th>2020-09-12</th>\n",
       "      <th>2020-09-13</th>\n",
       "      <th>2020-09-14</th>\n",
       "      <th>2020-09-15</th>\n",
       "      <th>2020-09-16</th>\n",
       "      <th>2020-09-17</th>\n",
       "      <th>2020-09-18</th>\n",
       "      <th>2020-09-19</th>\n",
       "      <th>2020-09-20</th>\n",
       "    </tr>\n",
       "  </thead>\n",
       "  <tbody>\n",
       "    <tr>\n",
       "      <th>218</th>\n",
       "      <td>Spain</td>\n",
       "      <td>España</td>\n",
       "      <td>Spagna</td>\n",
       "      <td>NaN</td>\n",
       "      <td>0.0</td>\n",
       "      <td>0.0</td>\n",
       "      <td>0.0</td>\n",
       "      <td>0.0</td>\n",
       "      <td>0.0</td>\n",
       "      <td>0.0</td>\n",
       "      <td>...</td>\n",
       "      <td>566326.0</td>\n",
       "      <td>566326.0</td>\n",
       "      <td>566326.0</td>\n",
       "      <td>593730.0</td>\n",
       "      <td>603167.0</td>\n",
       "      <td>614360.0</td>\n",
       "      <td>625651.0</td>\n",
       "      <td>640040.0</td>\n",
       "      <td>640040.0</td>\n",
       "      <td>640040.0</td>\n",
       "    </tr>\n",
       "  </tbody>\n",
       "</table>\n",
       "<p>1 rows × 246 columns</p>\n",
       "</div>"
      ],
      "text/plain": [
       "    Country_EN Country_ES Country_IT Region  2020-01-23  2020-01-24  \\\n",
       "218      Spain     España     Spagna    NaN         0.0         0.0   \n",
       "\n",
       "     2020-01-25  2020-01-26  2020-01-27  2020-01-28  ...  2020-09-11  \\\n",
       "218         0.0         0.0         0.0         0.0  ...    566326.0   \n",
       "\n",
       "     2020-09-12  2020-09-13  2020-09-14  2020-09-15  2020-09-16  2020-09-17  \\\n",
       "218    566326.0    566326.0    593730.0    603167.0    614360.0    625651.0   \n",
       "\n",
       "     2020-09-18  2020-09-19  2020-09-20  \n",
       "218    640040.0    640040.0    640040.0  \n",
       "\n",
       "[1 rows x 246 columns]"
      ]
     },
     "execution_count": 3,
     "metadata": {},
     "output_type": "execute_result"
    }
   ],
   "source": [
    "spain_region_country_name = \"Spain\"\n",
    "spain_region_country_code = \"ES\"\n",
    "\n",
    "confirmed_df = pd.read_csv(\"https://covid19tracking.narrativa.com/csv/confirmed.csv\")\n",
    "\n",
    "radar_covid_countries = {spain_region_country_name}\n",
    "\n",
    "confirmed_df = confirmed_df[confirmed_df[\"Country_EN\"].isin(radar_covid_countries)]\n",
    "confirmed_df = confirmed_df[pd.isna(confirmed_df.Region)]\n",
    "confirmed_df.head()"
   ]
  },
  {
   "cell_type": "code",
   "execution_count": 4,
   "metadata": {
    "collapsed": false,
    "execution": {
     "iopub.execute_input": "2020-09-21T06:21:37.182896Z",
     "iopub.status.busy": "2020-09-21T06:21:37.182114Z",
     "iopub.status.idle": "2020-09-21T06:21:37.201489Z",
     "shell.execute_reply": "2020-09-21T06:21:37.199560Z"
    },
    "papermill": {
     "duration": 0.063973,
     "end_time": "2020-09-21T06:21:37.201716",
     "exception": false,
     "start_time": "2020-09-21T06:21:37.137743",
     "status": "completed"
    },
    "pycharm": {
     "name": "#%%\n"
    },
    "tags": []
   },
   "outputs": [
    {
     "data": {
      "text/html": [
       "<div>\n",
       "<style scoped>\n",
       "    .dataframe tbody tr th:only-of-type {\n",
       "        vertical-align: middle;\n",
       "    }\n",
       "\n",
       "    .dataframe tbody tr th {\n",
       "        vertical-align: top;\n",
       "    }\n",
       "\n",
       "    .dataframe thead th {\n",
       "        text-align: right;\n",
       "    }\n",
       "</style>\n",
       "<table border=\"1\" class=\"dataframe\">\n",
       "  <thead>\n",
       "    <tr style=\"text-align: right;\">\n",
       "      <th></th>\n",
       "      <th>2020-01-23</th>\n",
       "      <th>2020-01-24</th>\n",
       "      <th>2020-01-25</th>\n",
       "      <th>2020-01-26</th>\n",
       "      <th>2020-01-27</th>\n",
       "      <th>2020-01-28</th>\n",
       "      <th>2020-01-29</th>\n",
       "      <th>2020-01-30</th>\n",
       "      <th>2020-01-31</th>\n",
       "      <th>2020-02-01</th>\n",
       "      <th>...</th>\n",
       "      <th>2020-09-11</th>\n",
       "      <th>2020-09-12</th>\n",
       "      <th>2020-09-13</th>\n",
       "      <th>2020-09-14</th>\n",
       "      <th>2020-09-15</th>\n",
       "      <th>2020-09-16</th>\n",
       "      <th>2020-09-17</th>\n",
       "      <th>2020-09-18</th>\n",
       "      <th>2020-09-19</th>\n",
       "      <th>2020-09-20</th>\n",
       "    </tr>\n",
       "  </thead>\n",
       "  <tbody>\n",
       "    <tr>\n",
       "      <th>218</th>\n",
       "      <td>0.0</td>\n",
       "      <td>0.0</td>\n",
       "      <td>0.0</td>\n",
       "      <td>0.0</td>\n",
       "      <td>0.0</td>\n",
       "      <td>0.0</td>\n",
       "      <td>0.0</td>\n",
       "      <td>0.0</td>\n",
       "      <td>0.0</td>\n",
       "      <td>1.0</td>\n",
       "      <td>...</td>\n",
       "      <td>566326.0</td>\n",
       "      <td>566326.0</td>\n",
       "      <td>566326.0</td>\n",
       "      <td>593730.0</td>\n",
       "      <td>603167.0</td>\n",
       "      <td>614360.0</td>\n",
       "      <td>625651.0</td>\n",
       "      <td>640040.0</td>\n",
       "      <td>640040.0</td>\n",
       "      <td>640040.0</td>\n",
       "    </tr>\n",
       "  </tbody>\n",
       "</table>\n",
       "<p>1 rows × 242 columns</p>\n",
       "</div>"
      ],
      "text/plain": [
       "     2020-01-23  2020-01-24  2020-01-25  2020-01-26  2020-01-27  2020-01-28  \\\n",
       "218         0.0         0.0         0.0         0.0         0.0         0.0   \n",
       "\n",
       "     2020-01-29  2020-01-30  2020-01-31  2020-02-01  ...  2020-09-11  \\\n",
       "218         0.0         0.0         0.0         1.0  ...    566326.0   \n",
       "\n",
       "     2020-09-12  2020-09-13  2020-09-14  2020-09-15  2020-09-16  2020-09-17  \\\n",
       "218    566326.0    566326.0    593730.0    603167.0    614360.0    625651.0   \n",
       "\n",
       "     2020-09-18  2020-09-19  2020-09-20  \n",
       "218    640040.0    640040.0    640040.0  \n",
       "\n",
       "[1 rows x 242 columns]"
      ]
     },
     "execution_count": 4,
     "metadata": {},
     "output_type": "execute_result"
    }
   ],
   "source": [
    "confirmed_country_columns = list(filter(lambda x: x.startswith(\"Country_\"), confirmed_df.columns))\n",
    "confirmed_regional_columns = confirmed_country_columns + [\"Region\"]\n",
    "confirmed_df.drop(columns=confirmed_regional_columns, inplace=True)\n",
    "confirmed_df.head()"
   ]
  },
  {
   "cell_type": "code",
   "execution_count": 5,
   "metadata": {
    "collapsed": false,
    "execution": {
     "iopub.execute_input": "2020-09-21T06:21:37.267302Z",
     "iopub.status.busy": "2020-09-21T06:21:37.266758Z",
     "iopub.status.idle": "2020-09-21T06:21:37.272439Z",
     "shell.execute_reply": "2020-09-21T06:21:37.272951Z"
    },
    "papermill": {
     "duration": 0.041225,
     "end_time": "2020-09-21T06:21:37.273100",
     "exception": false,
     "start_time": "2020-09-21T06:21:37.231875",
     "status": "completed"
    },
    "pycharm": {
     "name": "#%%\n"
    },
    "tags": []
   },
   "outputs": [
    {
     "data": {
      "text/html": [
       "<div>\n",
       "<style scoped>\n",
       "    .dataframe tbody tr th:only-of-type {\n",
       "        vertical-align: middle;\n",
       "    }\n",
       "\n",
       "    .dataframe tbody tr th {\n",
       "        vertical-align: top;\n",
       "    }\n",
       "\n",
       "    .dataframe thead th {\n",
       "        text-align: right;\n",
       "    }\n",
       "</style>\n",
       "<table border=\"1\" class=\"dataframe\">\n",
       "  <thead>\n",
       "    <tr style=\"text-align: right;\">\n",
       "      <th></th>\n",
       "      <th>0</th>\n",
       "    </tr>\n",
       "  </thead>\n",
       "  <tbody>\n",
       "    <tr>\n",
       "      <th>2020-09-16</th>\n",
       "      <td>614360.0</td>\n",
       "    </tr>\n",
       "    <tr>\n",
       "      <th>2020-09-17</th>\n",
       "      <td>625651.0</td>\n",
       "    </tr>\n",
       "    <tr>\n",
       "      <th>2020-09-18</th>\n",
       "      <td>640040.0</td>\n",
       "    </tr>\n",
       "    <tr>\n",
       "      <th>2020-09-19</th>\n",
       "      <td>640040.0</td>\n",
       "    </tr>\n",
       "    <tr>\n",
       "      <th>2020-09-20</th>\n",
       "      <td>640040.0</td>\n",
       "    </tr>\n",
       "  </tbody>\n",
       "</table>\n",
       "</div>"
      ],
      "text/plain": [
       "                   0\n",
       "2020-09-16  614360.0\n",
       "2020-09-17  625651.0\n",
       "2020-09-18  640040.0\n",
       "2020-09-19  640040.0\n",
       "2020-09-20  640040.0"
      ]
     },
     "execution_count": 5,
     "metadata": {},
     "output_type": "execute_result"
    }
   ],
   "source": [
    "confirmed_df = confirmed_df.sum().to_frame()\n",
    "confirmed_df.tail()"
   ]
  },
  {
   "cell_type": "code",
   "execution_count": 6,
   "metadata": {
    "collapsed": false,
    "execution": {
     "iopub.execute_input": "2020-09-21T06:21:37.340000Z",
     "iopub.status.busy": "2020-09-21T06:21:37.339407Z",
     "iopub.status.idle": "2020-09-21T06:21:37.349119Z",
     "shell.execute_reply": "2020-09-21T06:21:37.349527Z"
    },
    "papermill": {
     "duration": 0.048426,
     "end_time": "2020-09-21T06:21:37.349684",
     "exception": false,
     "start_time": "2020-09-21T06:21:37.301258",
     "status": "completed"
    },
    "pycharm": {
     "name": "#%%\n"
    },
    "tags": []
   },
   "outputs": [
    {
     "data": {
      "text/html": [
       "<div>\n",
       "<style scoped>\n",
       "    .dataframe tbody tr th:only-of-type {\n",
       "        vertical-align: middle;\n",
       "    }\n",
       "\n",
       "    .dataframe tbody tr th {\n",
       "        vertical-align: top;\n",
       "    }\n",
       "\n",
       "    .dataframe thead th {\n",
       "        text-align: right;\n",
       "    }\n",
       "</style>\n",
       "<table border=\"1\" class=\"dataframe\">\n",
       "  <thead>\n",
       "    <tr style=\"text-align: right;\">\n",
       "      <th></th>\n",
       "      <th>sample_date_string</th>\n",
       "      <th>cumulative_cases</th>\n",
       "      <th>new_cases</th>\n",
       "      <th>rolling_mean_new_cases</th>\n",
       "    </tr>\n",
       "  </thead>\n",
       "  <tbody>\n",
       "    <tr>\n",
       "      <th>237</th>\n",
       "      <td>2020-09-16</td>\n",
       "      <td>614360.0</td>\n",
       "      <td>11193.0</td>\n",
       "      <td>10140.0</td>\n",
       "    </tr>\n",
       "    <tr>\n",
       "      <th>238</th>\n",
       "      <td>2020-09-17</td>\n",
       "      <td>625651.0</td>\n",
       "      <td>11291.0</td>\n",
       "      <td>10215.0</td>\n",
       "    </tr>\n",
       "    <tr>\n",
       "      <th>239</th>\n",
       "      <td>2020-09-18</td>\n",
       "      <td>640040.0</td>\n",
       "      <td>14389.0</td>\n",
       "      <td>10531.0</td>\n",
       "    </tr>\n",
       "    <tr>\n",
       "      <th>240</th>\n",
       "      <td>2020-09-19</td>\n",
       "      <td>640040.0</td>\n",
       "      <td>0.0</td>\n",
       "      <td>10531.0</td>\n",
       "    </tr>\n",
       "    <tr>\n",
       "      <th>241</th>\n",
       "      <td>2020-09-20</td>\n",
       "      <td>640040.0</td>\n",
       "      <td>0.0</td>\n",
       "      <td>10531.0</td>\n",
       "    </tr>\n",
       "  </tbody>\n",
       "</table>\n",
       "</div>"
      ],
      "text/plain": [
       "    sample_date_string  cumulative_cases  new_cases  rolling_mean_new_cases\n",
       "237         2020-09-16          614360.0    11193.0                 10140.0\n",
       "238         2020-09-17          625651.0    11291.0                 10215.0\n",
       "239         2020-09-18          640040.0    14389.0                 10531.0\n",
       "240         2020-09-19          640040.0        0.0                 10531.0\n",
       "241         2020-09-20          640040.0        0.0                 10531.0"
      ]
     },
     "execution_count": 6,
     "metadata": {},
     "output_type": "execute_result"
    }
   ],
   "source": [
    "confirmed_df.reset_index(inplace=True)\n",
    "confirmed_df.columns = [\"sample_date_string\", \"cumulative_cases\"]\n",
    "confirmed_df.sort_values(\"sample_date_string\", inplace=True)\n",
    "confirmed_df[\"new_cases\"] = confirmed_df.cumulative_cases.diff()\n",
    "confirmed_df[\"rolling_mean_new_cases\"] = confirmed_df.new_cases.rolling(7).mean().round()\n",
    "confirmed_df.tail()"
   ]
  },
  {
   "cell_type": "code",
   "execution_count": 7,
   "metadata": {
    "execution": {
     "iopub.execute_input": "2020-09-21T06:21:37.415808Z",
     "iopub.status.busy": "2020-09-21T06:21:37.415245Z",
     "iopub.status.idle": "2020-09-21T06:21:37.425938Z",
     "shell.execute_reply": "2020-09-21T06:21:37.426364Z"
    },
    "papermill": {
     "duration": 0.048669,
     "end_time": "2020-09-21T06:21:37.426527",
     "exception": false,
     "start_time": "2020-09-21T06:21:37.377858",
     "status": "completed"
    },
    "pycharm": {
     "name": "#%%\n"
    },
    "tags": []
   },
   "outputs": [
    {
     "data": {
      "text/html": [
       "<div>\n",
       "<style scoped>\n",
       "    .dataframe tbody tr th:only-of-type {\n",
       "        vertical-align: middle;\n",
       "    }\n",
       "\n",
       "    .dataframe tbody tr th {\n",
       "        vertical-align: top;\n",
       "    }\n",
       "\n",
       "    .dataframe thead th {\n",
       "        text-align: right;\n",
       "    }\n",
       "</style>\n",
       "<table border=\"1\" class=\"dataframe\">\n",
       "  <thead>\n",
       "    <tr style=\"text-align: right;\">\n",
       "      <th></th>\n",
       "      <th>sample_date_string</th>\n",
       "      <th>cumulative_cases</th>\n",
       "      <th>new_cases</th>\n",
       "      <th>rolling_mean_new_cases</th>\n",
       "    </tr>\n",
       "  </thead>\n",
       "  <tbody>\n",
       "    <tr>\n",
       "      <th>238</th>\n",
       "      <td>2020-09-17</td>\n",
       "      <td>625651.0</td>\n",
       "      <td>11291.0</td>\n",
       "      <td>10215.0</td>\n",
       "    </tr>\n",
       "    <tr>\n",
       "      <th>239</th>\n",
       "      <td>2020-09-18</td>\n",
       "      <td>640040.0</td>\n",
       "      <td>14389.0</td>\n",
       "      <td>10531.0</td>\n",
       "    </tr>\n",
       "    <tr>\n",
       "      <th>240</th>\n",
       "      <td>2020-09-19</td>\n",
       "      <td>640040.0</td>\n",
       "      <td>0.0</td>\n",
       "      <td>10531.0</td>\n",
       "    </tr>\n",
       "    <tr>\n",
       "      <th>241</th>\n",
       "      <td>2020-09-20</td>\n",
       "      <td>640040.0</td>\n",
       "      <td>0.0</td>\n",
       "      <td>10531.0</td>\n",
       "    </tr>\n",
       "    <tr>\n",
       "      <th>241</th>\n",
       "      <td>2020-09-21</td>\n",
       "      <td>650571.0</td>\n",
       "      <td>10531.0</td>\n",
       "      <td>10531.0</td>\n",
       "    </tr>\n",
       "  </tbody>\n",
       "</table>\n",
       "</div>"
      ],
      "text/plain": [
       "    sample_date_string  cumulative_cases  new_cases  rolling_mean_new_cases\n",
       "238         2020-09-17          625651.0    11291.0                 10215.0\n",
       "239         2020-09-18          640040.0    14389.0                 10531.0\n",
       "240         2020-09-19          640040.0        0.0                 10531.0\n",
       "241         2020-09-20          640040.0        0.0                 10531.0\n",
       "241         2020-09-21          650571.0    10531.0                 10531.0"
      ]
     },
     "execution_count": 7,
     "metadata": {},
     "output_type": "execute_result"
    }
   ],
   "source": [
    "extraction_date_confirmed_df = \\\n",
    "    confirmed_df[confirmed_df.sample_date_string == extraction_date]\n",
    "extraction_previous_date_confirmed_df = \\\n",
    "    confirmed_df[confirmed_df.sample_date_string == extraction_previous_date].copy()\n",
    "\n",
    "if extraction_date_confirmed_df.empty and \\\n",
    "    not extraction_previous_date_confirmed_df.empty:\n",
    "        extraction_previous_date_confirmed_df[\"sample_date_string\"] = extraction_date\n",
    "        extraction_previous_date_confirmed_df[\"new_cases\"] = \\\n",
    "            extraction_previous_date_confirmed_df.rolling_mean_new_cases\n",
    "        extraction_previous_date_confirmed_df[\"cumulative_cases\"] = \\\n",
    "            extraction_previous_date_confirmed_df.new_cases + \\\n",
    "            extraction_previous_date_confirmed_df.cumulative_cases\n",
    "        confirmed_df = confirmed_df.append(extraction_previous_date_confirmed_df)\n",
    "        \n",
    "confirmed_df.tail()"
   ]
  },
  {
   "cell_type": "code",
   "execution_count": 8,
   "metadata": {
    "execution": {
     "iopub.execute_input": "2020-09-21T06:21:37.503437Z",
     "iopub.status.busy": "2020-09-21T06:21:37.502877Z",
     "iopub.status.idle": "2020-09-21T06:21:37.673623Z",
     "shell.execute_reply": "2020-09-21T06:21:37.674150Z"
    },
    "papermill": {
     "duration": 0.219094,
     "end_time": "2020-09-21T06:21:37.674310",
     "exception": false,
     "start_time": "2020-09-21T06:21:37.455216",
     "status": "completed"
    },
    "pycharm": {
     "name": "#%%\n"
    },
    "tags": []
   },
   "outputs": [
    {
     "data": {
      "text/plain": [
       "<matplotlib.axes._subplots.AxesSubplot at 0x7f370a14f880>"
      ]
     },
     "execution_count": 8,
     "metadata": {},
     "output_type": "execute_result"
    },
    {
     "data": {
      "image/png": "[encoded data removed]",
      "text/plain": [
       "<Figure size 1080x432 with 1 Axes>"
      ]
     },
     "metadata": {},
     "output_type": "display_data"
    }
   ],
   "source": [
    "confirmed_df[[\"new_cases\", \"rolling_mean_new_cases\"]].plot()"
   ]
  },
  {
   "cell_type": "markdown",
   "metadata": {
    "execution": {
     "iopub.execute_input": "2020-08-30T22:30:16.351238Z",
     "iopub.status.busy": "2020-08-30T22:30:16.344579Z",
     "iopub.status.idle": "2020-08-30T22:30:16.354285Z",
     "shell.execute_reply": "2020-08-30T22:30:16.353641Z"
    },
    "papermill": {
     "duration": 0.029701,
     "end_time": "2020-09-21T06:21:37.736024",
     "exception": false,
     "start_time": "2020-09-21T06:21:37.706323",
     "status": "completed"
    },
    "pycharm": {
     "name": "#%% md\n"
    },
    "tags": []
   },
   "source": [
    "### Extract API TEKs"
   ]
  },
  {
   "cell_type": "code",
   "execution_count": 9,
   "metadata": {
    "execution": {
     "iopub.execute_input": "2020-09-21T06:21:37.801975Z",
     "iopub.status.busy": "2020-09-21T06:21:37.801432Z",
     "iopub.status.idle": "2020-09-21T06:21:39.593218Z",
     "shell.execute_reply": "2020-09-21T06:21:39.593819Z"
    },
    "papermill": {
     "duration": 1.827849,
     "end_time": "2020-09-21T06:21:39.593985",
     "exception": false,
     "start_time": "2020-09-21T06:21:37.766136",
     "status": "completed"
    },
    "pycharm": {
     "name": "#%%\n"
    },
    "tags": []
   },
   "outputs": [
    {
     "name": "stderr",
     "output_type": "stream",
     "text": [
      "WARNING:root:NoDataFoundForDateException(\"No TEKs found for day '2020-09-21'.\")\n"
     ]
    },
    {
     "name": "stderr",
     "output_type": "stream",
     "text": [
      "WARNING:root:NoDataFoundForDateException(\"No TEKs found for day '2020-09-20'.\")\n"
     ]
    },
    {
     "name": "stderr",
     "output_type": "stream",
     "text": [
      "WARNING:root:Unexpected key 'key_rolling_period': 38400s (expected: 86400s)\n"
     ]
    },
    {
     "name": "stderr",
     "output_type": "stream",
     "text": [
      "WARNING:root:Unexpected key 'key_rolling_period': 23400s (expected: 86400s)\n"
     ]
    },
    {
     "name": "stderr",
     "output_type": "stream",
     "text": [
      "WARNING:root:Unexpected key 'key_rolling_period': 53400s (expected: 86400s)\n"
     ]
    },
    {
     "name": "stderr",
     "output_type": "stream",
     "text": [
      "WARNING:root:Unexpected key 'key_rolling_period': 48600s (expected: 86400s)\n"
     ]
    },
    {
     "data": {
      "text/html": [
       "<div>\n",
       "<style scoped>\n",
       "    .dataframe tbody tr th:only-of-type {\n",
       "        vertical-align: middle;\n",
       "    }\n",
       "\n",
       "    .dataframe tbody tr th {\n",
       "        vertical-align: top;\n",
       "    }\n",
       "\n",
       "    .dataframe thead th {\n",
       "        text-align: right;\n",
       "    }\n",
       "</style>\n",
       "<table border=\"1\" class=\"dataframe\">\n",
       "  <thead>\n",
       "    <tr style=\"text-align: right;\">\n",
       "      <th></th>\n",
       "      <th>sample_date_string</th>\n",
       "      <th>source_url</th>\n",
       "      <th>region</th>\n",
       "      <th>key_data</th>\n",
       "    </tr>\n",
       "  </thead>\n",
       "  <tbody>\n",
       "    <tr>\n",
       "      <th>0</th>\n",
       "      <td>2020-09-19</td>\n",
       "      <td>https://radarcovid.covid19.gob.es/dp3t/v1/gaen...</td>\n",
       "      <td>ES</td>\n",
       "      <td>2a2ac8fb-c154-0f60-2226-fd5f3a1b0feb</td>\n",
       "    </tr>\n",
       "    <tr>\n",
       "      <th>1</th>\n",
       "      <td>2020-09-19</td>\n",
       "      <td>https://radarcovid.covid19.gob.es/dp3t/v1/gaen...</td>\n",
       "      <td>ES</td>\n",
       "      <td>3218970f-4c82-daf4-6cb1-7d8d5877f484</td>\n",
       "    </tr>\n",
       "    <tr>\n",
       "      <th>2</th>\n",
       "      <td>2020-09-19</td>\n",
       "      <td>https://radarcovid.covid19.gob.es/dp3t/v1/gaen...</td>\n",
       "      <td>ES</td>\n",
       "      <td>2d12869d-b69c-f1cd-75e3-dba1932b0fdd</td>\n",
       "    </tr>\n",
       "    <tr>\n",
       "      <th>3</th>\n",
       "      <td>2020-09-19</td>\n",
       "      <td>https://radarcovid.covid19.gob.es/dp3t/v1/gaen...</td>\n",
       "      <td>ES</td>\n",
       "      <td>f44a46a2-4ae2-84a2-dbb4-c55530816c5f</td>\n",
       "    </tr>\n",
       "    <tr>\n",
       "      <th>4</th>\n",
       "      <td>2020-09-19</td>\n",
       "      <td>https://radarcovid.covid19.gob.es/dp3t/v1/gaen...</td>\n",
       "      <td>ES</td>\n",
       "      <td>8d9a9521-d368-e684-bb55-d5748346d191</td>\n",
       "    </tr>\n",
       "  </tbody>\n",
       "</table>\n",
       "</div>"
      ],
      "text/plain": [
       "  sample_date_string                                         source_url  \\\n",
       "0         2020-09-19  https://radarcovid.covid19.gob.es/dp3t/v1/gaen...   \n",
       "1         2020-09-19  https://radarcovid.covid19.gob.es/dp3t/v1/gaen...   \n",
       "2         2020-09-19  https://radarcovid.covid19.gob.es/dp3t/v1/gaen...   \n",
       "3         2020-09-19  https://radarcovid.covid19.gob.es/dp3t/v1/gaen...   \n",
       "4         2020-09-19  https://radarcovid.covid19.gob.es/dp3t/v1/gaen...   \n",
       "\n",
       "  region                              key_data  \n",
       "0     ES  2a2ac8fb-c154-0f60-2226-fd5f3a1b0feb  \n",
       "1     ES  3218970f-4c82-daf4-6cb1-7d8d5877f484  \n",
       "2     ES  2d12869d-b69c-f1cd-75e3-dba1932b0fdd  \n",
       "3     ES  f44a46a2-4ae2-84a2-dbb4-c55530816c5f  \n",
       "4     ES  8d9a9521-d368-e684-bb55-d5748346d191  "
      ]
     },
     "execution_count": 9,
     "metadata": {},
     "output_type": "execute_result"
    }
   ],
   "source": [
    "from Modules.RadarCOVID import radar_covid\n",
    "\n",
    "raw_zip_paths = [\n",
    "    \"Data/TEKs/Raw/Current/RadarCOVID-TEKs-{sample_date}.zip\",\n",
    "    f\"Data/TEKs/Raw/Daily/{extraction_date}/RadarCOVID-TEKs-{{sample_date}}.zip\",\n",
    "    f\"Data/TEKs/Raw/Hourly/{extraction_date_with_hour}/RadarCOVID-TEKs-{{sample_date}}.zip\",\n",
    "]\n",
    "\n",
    "multi_region_exposure_keys_df = \\\n",
    "    radar_covid.download_last_radar_covid_exposure_keys(\n",
    "        days=14, save_raw_zip_path=raw_zip_paths)\n",
    "multi_region_exposure_keys_df = multi_region_exposure_keys_df[[\n",
    "    \"sample_date_string\", \"source_url\", \"region\", \"key_data\"]]\n",
    "multi_region_exposure_keys_df.head()"
   ]
  },
  {
   "cell_type": "code",
   "execution_count": 10,
   "metadata": {
    "collapsed": false,
    "execution": {
     "iopub.execute_input": "2020-09-21T06:21:39.670096Z",
     "iopub.status.busy": "2020-09-21T06:21:39.669545Z",
     "iopub.status.idle": "2020-09-21T06:21:39.674877Z",
     "shell.execute_reply": "2020-09-21T06:21:39.674404Z"
    },
    "papermill": {
     "duration": 0.047474,
     "end_time": "2020-09-21T06:21:39.675001",
     "exception": false,
     "start_time": "2020-09-21T06:21:39.627527",
     "status": "completed"
    },
    "pycharm": {
     "name": "#%%\n"
    },
    "tags": []
   },
   "outputs": [
    {
     "data": {
      "text/plain": [
       "['ES']"
      ]
     },
     "execution_count": 10,
     "metadata": {},
     "output_type": "execute_result"
    }
   ],
   "source": [
    "active_regions = \\\n",
    "    multi_region_exposure_keys_df.groupby(\"region\").key_data.nunique().sort_values().index.unique().tolist()\n",
    "active_regions"
   ]
  },
  {
   "cell_type": "code",
   "execution_count": 11,
   "metadata": {
    "collapsed": false,
    "execution": {
     "iopub.execute_input": "2020-09-21T06:21:39.762810Z",
     "iopub.status.busy": "2020-09-21T06:21:39.754529Z",
     "iopub.status.idle": "2020-09-21T06:21:39.766159Z",
     "shell.execute_reply": "2020-09-21T06:21:39.765487Z"
    },
    "papermill": {
     "duration": 0.058127,
     "end_time": "2020-09-21T06:21:39.766281",
     "exception": false,
     "start_time": "2020-09-21T06:21:39.708154",
     "status": "completed"
    },
    "pycharm": {
     "name": "#%%\n"
    },
    "tags": []
   },
   "outputs": [
    {
     "data": {
      "text/html": [
       "<div>\n",
       "<style scoped>\n",
       "    .dataframe tbody tr th:only-of-type {\n",
       "        vertical-align: middle;\n",
       "    }\n",
       "\n",
       "    .dataframe tbody tr th {\n",
       "        vertical-align: top;\n",
       "    }\n",
       "\n",
       "    .dataframe thead tr th {\n",
       "        text-align: left;\n",
       "    }\n",
       "\n",
       "    .dataframe thead tr:last-of-type th {\n",
       "        text-align: right;\n",
       "    }\n",
       "</style>\n",
       "<table border=\"1\" class=\"dataframe\">\n",
       "  <thead>\n",
       "    <tr>\n",
       "      <th></th>\n",
       "      <th>tek_count</th>\n",
       "    </tr>\n",
       "    <tr>\n",
       "      <th>region</th>\n",
       "      <th>ES</th>\n",
       "    </tr>\n",
       "    <tr>\n",
       "      <th>sample_date_string</th>\n",
       "      <th></th>\n",
       "    </tr>\n",
       "  </thead>\n",
       "  <tbody>\n",
       "    <tr>\n",
       "      <th>2020-09-19</th>\n",
       "      <td>48</td>\n",
       "    </tr>\n",
       "    <tr>\n",
       "      <th>2020-09-18</th>\n",
       "      <td>62</td>\n",
       "    </tr>\n",
       "    <tr>\n",
       "      <th>2020-09-17</th>\n",
       "      <td>81</td>\n",
       "    </tr>\n",
       "    <tr>\n",
       "      <th>2020-09-16</th>\n",
       "      <td>85</td>\n",
       "    </tr>\n",
       "    <tr>\n",
       "      <th>2020-09-15</th>\n",
       "      <td>82</td>\n",
       "    </tr>\n",
       "  </tbody>\n",
       "</table>\n",
       "</div>"
      ],
      "text/plain": [
       "                   tek_count\n",
       "region                    ES\n",
       "sample_date_string          \n",
       "2020-09-19                48\n",
       "2020-09-18                62\n",
       "2020-09-17                81\n",
       "2020-09-16                85\n",
       "2020-09-15                82"
      ]
     },
     "execution_count": 11,
     "metadata": {},
     "output_type": "execute_result"
    }
   ],
   "source": [
    "multi_region_summary_df = multi_region_exposure_keys_df.groupby(\n",
    "    [\"sample_date_string\", \"region\"]).key_data.nunique().reset_index() \\\n",
    "    .pivot(index=\"sample_date_string\", columns=\"region\") \\\n",
    "    .sort_index(ascending=False)\n",
    "multi_region_summary_df.rename(columns={\"key_data\": \"tek_count\"}, inplace=True)\n",
    "multi_region_summary_df.head()"
   ]
  },
  {
   "cell_type": "code",
   "execution_count": 12,
   "metadata": {
    "collapsed": false,
    "execution": {
     "iopub.execute_input": "2020-09-21T06:21:39.842156Z",
     "iopub.status.busy": "2020-09-21T06:21:39.841629Z",
     "iopub.status.idle": "2020-09-21T06:21:39.846052Z",
     "shell.execute_reply": "2020-09-21T06:21:39.845492Z"
    },
    "papermill": {
     "duration": 0.047133,
     "end_time": "2020-09-21T06:21:39.846175",
     "exception": false,
     "start_time": "2020-09-21T06:21:39.799042",
     "status": "completed"
    },
    "pycharm": {
     "name": "#%%\n"
    },
    "tags": []
   },
   "outputs": [
    {
     "data": {
      "text/plain": [
       "[]"
      ]
     },
     "execution_count": 12,
     "metadata": {},
     "output_type": "execute_result"
    }
   ],
   "source": [
    "multi_region_without_spain_exposure_keys_df = \\\n",
    "    multi_region_exposure_keys_df[multi_region_exposure_keys_df.region != spain_region_country_code]\n",
    "active_regions_excluding_spain = \\\n",
    "    multi_region_without_spain_exposure_keys_df.groupby(\"region\").key_data.nunique().sort_values().index.unique().tolist()\n",
    "active_regions_excluding_spain\n"
   ]
  },
  {
   "cell_type": "code",
   "execution_count": 13,
   "metadata": {
    "execution": {
     "iopub.execute_input": "2020-09-21T06:21:39.929435Z",
     "iopub.status.busy": "2020-09-21T06:21:39.919495Z",
     "iopub.status.idle": "2020-09-21T06:21:39.932569Z",
     "shell.execute_reply": "2020-09-21T06:21:39.932062Z"
    },
    "papermill": {
     "duration": 0.053371,
     "end_time": "2020-09-21T06:21:39.932693",
     "exception": false,
     "start_time": "2020-09-21T06:21:39.879322",
     "status": "completed"
    },
    "scrolled": false,
    "tags": []
   },
   "outputs": [
    {
     "data": {
      "text/html": [
       "<div>\n",
       "<style scoped>\n",
       "    .dataframe tbody tr th:only-of-type {\n",
       "        vertical-align: middle;\n",
       "    }\n",
       "\n",
       "    .dataframe tbody tr th {\n",
       "        vertical-align: top;\n",
       "    }\n",
       "\n",
       "    .dataframe thead th {\n",
       "        text-align: right;\n",
       "    }\n",
       "</style>\n",
       "<table border=\"1\" class=\"dataframe\">\n",
       "  <thead>\n",
       "    <tr style=\"text-align: right;\">\n",
       "      <th></th>\n",
       "      <th>tek_count</th>\n",
       "    </tr>\n",
       "    <tr>\n",
       "      <th>sample_date_string</th>\n",
       "      <th></th>\n",
       "    </tr>\n",
       "  </thead>\n",
       "  <tbody>\n",
       "    <tr>\n",
       "      <th>2020-09-19</th>\n",
       "      <td>48</td>\n",
       "    </tr>\n",
       "    <tr>\n",
       "      <th>2020-09-18</th>\n",
       "      <td>62</td>\n",
       "    </tr>\n",
       "    <tr>\n",
       "      <th>2020-09-17</th>\n",
       "      <td>81</td>\n",
       "    </tr>\n",
       "    <tr>\n",
       "      <th>2020-09-16</th>\n",
       "      <td>85</td>\n",
       "    </tr>\n",
       "    <tr>\n",
       "      <th>2020-09-15</th>\n",
       "      <td>82</td>\n",
       "    </tr>\n",
       "  </tbody>\n",
       "</table>\n",
       "</div>"
      ],
      "text/plain": [
       "                    tek_count\n",
       "sample_date_string           \n",
       "2020-09-19                 48\n",
       "2020-09-18                 62\n",
       "2020-09-17                 81\n",
       "2020-09-16                 85\n",
       "2020-09-15                 82"
      ]
     },
     "execution_count": 13,
     "metadata": {},
     "output_type": "execute_result"
    }
   ],
   "source": [
    "exposure_keys_summary_df = multi_region_exposure_keys_df[\n",
    "    multi_region_exposure_keys_df.region == spain_region_country_code]\n",
    "exposure_keys_summary_df.drop(columns=[\"region\"], inplace=True)\n",
    "exposure_keys_summary_df = \\\n",
    "    exposure_keys_summary_df.groupby([\"sample_date_string\"]).key_data.nunique().to_frame()\n",
    "exposure_keys_summary_df = \\\n",
    "    exposure_keys_summary_df.reset_index().set_index(\"sample_date_string\")\n",
    "exposure_keys_summary_df.sort_index(ascending=False, inplace=True)\n",
    "exposure_keys_summary_df.rename(columns={\"key_data\": \"tek_count\"}, inplace=True)\n",
    "exposure_keys_summary_df.head()"
   ]
  },
  {
   "cell_type": "markdown",
   "metadata": {
    "papermill": {
     "duration": 0.033604,
     "end_time": "2020-09-21T06:21:40.000703",
     "exception": false,
     "start_time": "2020-09-21T06:21:39.967099",
     "status": "completed"
    },
    "tags": []
   },
   "source": [
    "### Dump API TEKs"
   ]
  },
  {
   "cell_type": "code",
   "execution_count": 14,
   "metadata": {
    "execution": {
     "iopub.execute_input": "2020-09-21T06:21:40.082412Z",
     "iopub.status.busy": "2020-09-21T06:21:40.081838Z",
     "iopub.status.idle": "2020-09-21T06:21:40.106348Z",
     "shell.execute_reply": "2020-09-21T06:21:40.107081Z"
    },
    "papermill": {
     "duration": 0.072994,
     "end_time": "2020-09-21T06:21:40.107281",
     "exception": false,
     "start_time": "2020-09-21T06:21:40.034287",
     "status": "completed"
    },
    "tags": []
   },
   "outputs": [
    {
     "data": {
      "text/html": [
       "<div>\n",
       "<style scoped>\n",
       "    .dataframe tbody tr th:only-of-type {\n",
       "        vertical-align: middle;\n",
       "    }\n",
       "\n",
       "    .dataframe tbody tr th {\n",
       "        vertical-align: top;\n",
       "    }\n",
       "\n",
       "    .dataframe thead th {\n",
       "        text-align: right;\n",
       "    }\n",
       "</style>\n",
       "<table border=\"1\" class=\"dataframe\">\n",
       "  <thead>\n",
       "    <tr style=\"text-align: right;\">\n",
       "      <th></th>\n",
       "      <th>sample_date</th>\n",
       "      <th>region</th>\n",
       "      <th>tek_list</th>\n",
       "      <th>extraction_date</th>\n",
       "      <th>extraction_date_with_hour</th>\n",
       "    </tr>\n",
       "  </thead>\n",
       "  <tbody>\n",
       "    <tr>\n",
       "      <th>0</th>\n",
       "      <td>2020-09-08</td>\n",
       "      <td>ES</td>\n",
       "      <td>[64d2f594-3e1e-250e-b2e2-103c46f3a4a9, b8121a9...</td>\n",
       "      <td>2020-09-21</td>\n",
       "      <td>2020-09-21@06</td>\n",
       "    </tr>\n",
       "    <tr>\n",
       "      <th>1</th>\n",
       "      <td>2020-09-09</td>\n",
       "      <td>ES</td>\n",
       "      <td>[1f0a0575-26d0-44c1-7b58-0a0193ddfa44, 03a9a6b...</td>\n",
       "      <td>2020-09-21</td>\n",
       "      <td>2020-09-21@06</td>\n",
       "    </tr>\n",
       "    <tr>\n",
       "      <th>2</th>\n",
       "      <td>2020-09-10</td>\n",
       "      <td>ES</td>\n",
       "      <td>[6954f38b-22cd-d093-f288-7cdb50f2951d, 1a86957...</td>\n",
       "      <td>2020-09-21</td>\n",
       "      <td>2020-09-21@06</td>\n",
       "    </tr>\n",
       "    <tr>\n",
       "      <th>3</th>\n",
       "      <td>2020-09-11</td>\n",
       "      <td>ES</td>\n",
       "      <td>[01db2363-8b7e-6bbd-a02c-d6b8db0aedaa, 9c07934...</td>\n",
       "      <td>2020-09-21</td>\n",
       "      <td>2020-09-21@06</td>\n",
       "    </tr>\n",
       "    <tr>\n",
       "      <th>4</th>\n",
       "      <td>2020-09-12</td>\n",
       "      <td>ES</td>\n",
       "      <td>[30f2c790-b461-745c-60fb-1e002f4c94aa, 9d4da2c...</td>\n",
       "      <td>2020-09-21</td>\n",
       "      <td>2020-09-21@06</td>\n",
       "    </tr>\n",
       "  </tbody>\n",
       "</table>\n",
       "</div>"
      ],
      "text/plain": [
       "  sample_date region                                           tek_list  \\\n",
       "0  2020-09-08     ES  [64d2f594-3e1e-250e-b2e2-103c46f3a4a9, b8121a9...   \n",
       "1  2020-09-09     ES  [1f0a0575-26d0-44c1-7b58-0a0193ddfa44, 03a9a6b...   \n",
       "2  2020-09-10     ES  [6954f38b-22cd-d093-f288-7cdb50f2951d, 1a86957...   \n",
       "3  2020-09-11     ES  [01db2363-8b7e-6bbd-a02c-d6b8db0aedaa, 9c07934...   \n",
       "4  2020-09-12     ES  [30f2c790-b461-745c-60fb-1e002f4c94aa, 9d4da2c...   \n",
       "\n",
       "  extraction_date extraction_date_with_hour  \n",
       "0      2020-09-21             2020-09-21@06  \n",
       "1      2020-09-21             2020-09-21@06  \n",
       "2      2020-09-21             2020-09-21@06  \n",
       "3      2020-09-21             2020-09-21@06  \n",
       "4      2020-09-21             2020-09-21@06  "
      ]
     },
     "execution_count": 14,
     "metadata": {},
     "output_type": "execute_result"
    }
   ],
   "source": [
    "tek_list_df = multi_region_exposure_keys_df[\n",
    "    [\"sample_date_string\", \"region\", \"key_data\"]].copy()\n",
    "tek_list_df[\"key_data\"] = tek_list_df[\"key_data\"].apply(str)\n",
    "tek_list_df.rename(columns={\n",
    "    \"sample_date_string\": \"sample_date\",\n",
    "    \"key_data\": \"tek_list\"}, inplace=True)\n",
    "tek_list_df = tek_list_df.groupby(\n",
    "    [\"sample_date\", \"region\"]).tek_list.unique().reset_index()\n",
    "tek_list_df[\"extraction_date\"] = extraction_date\n",
    "tek_list_df[\"extraction_date_with_hour\"] = extraction_date_with_hour\n",
    "tek_list_df.drop(columns=[\"extraction_date\", \"extraction_date_with_hour\"]).to_json(\n",
    "    \"Data/TEKs/Current/RadarCOVID-TEKs.json\",\n",
    "    lines=True, orient=\"records\")\n",
    "tek_list_df.drop(columns=[\"extraction_date_with_hour\"]).to_json(\n",
    "    \"Data/TEKs/Daily/RadarCOVID-TEKs-\" + extraction_date + \".json\",\n",
    "    lines=True, orient=\"records\")\n",
    "tek_list_df.to_json(\n",
    "    \"Data/TEKs/Hourly/RadarCOVID-TEKs-\" + extraction_date_with_hour + \".json\",\n",
    "    lines=True, orient=\"records\")\n",
    "tek_list_df.head()"
   ]
  },
  {
   "cell_type": "markdown",
   "metadata": {
    "papermill": {
     "duration": 0.036022,
     "end_time": "2020-09-21T06:21:40.178855",
     "exception": false,
     "start_time": "2020-09-21T06:21:40.142833",
     "status": "completed"
    },
    "tags": []
   },
   "source": [
    "### Load TEK Dumps"
   ]
  },
  {
   "cell_type": "code",
   "execution_count": 15,
   "metadata": {
    "execution": {
     "iopub.execute_input": "2020-09-21T06:21:40.256787Z",
     "iopub.status.busy": "2020-09-21T06:21:40.256225Z",
     "iopub.status.idle": "2020-09-21T06:21:40.258390Z",
     "shell.execute_reply": "2020-09-21T06:21:40.257946Z"
    },
    "papermill": {
     "duration": 0.045423,
     "end_time": "2020-09-21T06:21:40.258517",
     "exception": false,
     "start_time": "2020-09-21T06:21:40.213094",
     "status": "completed"
    },
    "tags": []
   },
   "outputs": [],
   "source": [
    "import glob\n",
    "\n",
    "def load_extracted_teks(mode, region=None, limit=None) -> pd.DataFrame:\n",
    "    extracted_teks_df = pd.DataFrame(columns=[\"region\"])\n",
    "    paths = list(reversed(sorted(glob.glob(f\"Data/TEKs/{mode}/RadarCOVID-TEKs-*.json\"))))\n",
    "    if limit:\n",
    "        paths = paths[:limit]\n",
    "    for path in paths:\n",
    "        logging.info(f\"Loading TEKs from '{path}'...\")\n",
    "        iteration_extracted_teks_df = pd.read_json(path, lines=True)\n",
    "        extracted_teks_df = extracted_teks_df.append(\n",
    "            iteration_extracted_teks_df, sort=False)\n",
    "    extracted_teks_df[\"region\"] = \\\n",
    "        extracted_teks_df.region.fillna(spain_region_country_code).copy()\n",
    "    if region:\n",
    "        extracted_teks_df = \\\n",
    "            extracted_teks_df[extracted_teks_df.region == region]\n",
    "    return extracted_teks_df"
   ]
  },
  {
   "cell_type": "markdown",
   "metadata": {
    "execution": {
     "iopub.execute_input": "2020-08-30T22:30:16.632967Z",
     "iopub.status.busy": "2020-08-30T22:30:16.632308Z",
     "iopub.status.idle": "2020-08-30T22:30:16.634945Z",
     "shell.execute_reply": "2020-08-30T22:30:16.635575Z"
    },
    "papermill": {
     "duration": 0.041431,
     "end_time": "2020-09-21T06:21:40.334832",
     "exception": false,
     "start_time": "2020-09-21T06:21:40.293401",
     "status": "completed"
    },
    "pycharm": {
     "name": "#%% md\n"
    },
    "tags": []
   },
   "source": [
    "### Daily New TEKs"
   ]
  },
  {
   "cell_type": "code",
   "execution_count": 16,
   "metadata": {
    "execution": {
     "iopub.execute_input": "2020-09-21T06:21:40.414853Z",
     "iopub.status.busy": "2020-09-21T06:21:40.413929Z",
     "iopub.status.idle": "2020-09-21T06:21:40.504961Z",
     "shell.execute_reply": "2020-09-21T06:21:40.505416Z"
    },
    "papermill": {
     "duration": 0.135882,
     "end_time": "2020-09-21T06:21:40.505579",
     "exception": false,
     "start_time": "2020-09-21T06:21:40.369697",
     "status": "completed"
    },
    "tags": []
   },
   "outputs": [
    {
     "data": {
      "text/html": [
       "<div>\n",
       "<style scoped>\n",
       "    .dataframe tbody tr th:only-of-type {\n",
       "        vertical-align: middle;\n",
       "    }\n",
       "\n",
       "    .dataframe tbody tr th {\n",
       "        vertical-align: top;\n",
       "    }\n",
       "\n",
       "    .dataframe thead th {\n",
       "        text-align: right;\n",
       "    }\n",
       "</style>\n",
       "<table border=\"1\" class=\"dataframe\">\n",
       "  <thead>\n",
       "    <tr style=\"text-align: right;\">\n",
       "      <th></th>\n",
       "      <th>region</th>\n",
       "      <th>sample_date</th>\n",
       "      <th>tek_list</th>\n",
       "      <th>extraction_date</th>\n",
       "    </tr>\n",
       "  </thead>\n",
       "  <tbody>\n",
       "    <tr>\n",
       "      <th>0</th>\n",
       "      <td>ES</td>\n",
       "      <td>2020-09-08</td>\n",
       "      <td>[64d2f594-3e1e-250e-b2e2-103c46f3a4a9, b8121a9...</td>\n",
       "      <td>2020-09-21</td>\n",
       "    </tr>\n",
       "    <tr>\n",
       "      <th>1</th>\n",
       "      <td>ES</td>\n",
       "      <td>2020-09-09</td>\n",
       "      <td>[1f0a0575-26d0-44c1-7b58-0a0193ddfa44, 03a9a6b...</td>\n",
       "      <td>2020-09-21</td>\n",
       "    </tr>\n",
       "    <tr>\n",
       "      <th>2</th>\n",
       "      <td>ES</td>\n",
       "      <td>2020-09-10</td>\n",
       "      <td>[6954f38b-22cd-d093-f288-7cdb50f2951d, 1a86957...</td>\n",
       "      <td>2020-09-21</td>\n",
       "    </tr>\n",
       "    <tr>\n",
       "      <th>3</th>\n",
       "      <td>ES</td>\n",
       "      <td>2020-09-11</td>\n",
       "      <td>[01db2363-8b7e-6bbd-a02c-d6b8db0aedaa, 9c07934...</td>\n",
       "      <td>2020-09-21</td>\n",
       "    </tr>\n",
       "    <tr>\n",
       "      <th>4</th>\n",
       "      <td>ES</td>\n",
       "      <td>2020-09-12</td>\n",
       "      <td>[30f2c790-b461-745c-60fb-1e002f4c94aa, 9d4da2c...</td>\n",
       "      <td>2020-09-21</td>\n",
       "    </tr>\n",
       "  </tbody>\n",
       "</table>\n",
       "</div>"
      ],
      "text/plain": [
       "  region sample_date                                           tek_list  \\\n",
       "0     ES  2020-09-08  [64d2f594-3e1e-250e-b2e2-103c46f3a4a9, b8121a9...   \n",
       "1     ES  2020-09-09  [1f0a0575-26d0-44c1-7b58-0a0193ddfa44, 03a9a6b...   \n",
       "2     ES  2020-09-10  [6954f38b-22cd-d093-f288-7cdb50f2951d, 1a86957...   \n",
       "3     ES  2020-09-11  [01db2363-8b7e-6bbd-a02c-d6b8db0aedaa, 9c07934...   \n",
       "4     ES  2020-09-12  [30f2c790-b461-745c-60fb-1e002f4c94aa, 9d4da2c...   \n",
       "\n",
       "  extraction_date  \n",
       "0      2020-09-21  \n",
       "1      2020-09-21  \n",
       "2      2020-09-21  \n",
       "3      2020-09-21  \n",
       "4      2020-09-21  "
      ]
     },
     "execution_count": 16,
     "metadata": {},
     "output_type": "execute_result"
    }
   ],
   "source": [
    "daily_extracted_teks_df = load_extracted_teks(\n",
    "    mode=\"Daily\", region=spain_region_country_code, limit=15)\n",
    "daily_extracted_teks_df.head()"
   ]
  },
  {
   "cell_type": "code",
   "execution_count": 17,
   "metadata": {
    "execution": {
     "iopub.execute_input": "2020-09-21T06:21:40.596361Z",
     "iopub.status.busy": "2020-09-21T06:21:40.595740Z",
     "iopub.status.idle": "2020-09-21T06:21:40.598156Z",
     "shell.execute_reply": "2020-09-21T06:21:40.598590Z"
    },
    "papermill": {
     "duration": 0.057978,
     "end_time": "2020-09-21T06:21:40.598749",
     "exception": false,
     "start_time": "2020-09-21T06:21:40.540771",
     "status": "completed"
    },
    "tags": []
   },
   "outputs": [
    {
     "data": {
      "text/html": [
       "<div>\n",
       "<style scoped>\n",
       "    .dataframe tbody tr th:only-of-type {\n",
       "        vertical-align: middle;\n",
       "    }\n",
       "\n",
       "    .dataframe tbody tr th {\n",
       "        vertical-align: top;\n",
       "    }\n",
       "\n",
       "    .dataframe thead th {\n",
       "        text-align: right;\n",
       "    }\n",
       "</style>\n",
       "<table border=\"1\" class=\"dataframe\">\n",
       "  <thead>\n",
       "    <tr style=\"text-align: right;\">\n",
       "      <th></th>\n",
       "      <th>tek_list</th>\n",
       "    </tr>\n",
       "    <tr>\n",
       "      <th>extraction_date</th>\n",
       "      <th></th>\n",
       "    </tr>\n",
       "  </thead>\n",
       "  <tbody>\n",
       "    <tr>\n",
       "      <th>2020-09-07</th>\n",
       "      <td>{8b32c9c0-a002-b803-2587-e6b05ce4a611, 86772eb...</td>\n",
       "    </tr>\n",
       "    <tr>\n",
       "      <th>2020-09-08</th>\n",
       "      <td>{86772eb7-a8db-0afd-bba4-37e343049241, 0c96474...</td>\n",
       "    </tr>\n",
       "    <tr>\n",
       "      <th>2020-09-09</th>\n",
       "      <td>{86772eb7-a8db-0afd-bba4-37e343049241, 0c96474...</td>\n",
       "    </tr>\n",
       "    <tr>\n",
       "      <th>2020-09-10</th>\n",
       "      <td>{86772eb7-a8db-0afd-bba4-37e343049241, 0c96474...</td>\n",
       "    </tr>\n",
       "    <tr>\n",
       "      <th>2020-09-11</th>\n",
       "      <td>{0c96474c-afd3-c5b8-a692-2b510b9470ae, 46c6e93...</td>\n",
       "    </tr>\n",
       "  </tbody>\n",
       "</table>\n",
       "</div>"
      ],
      "text/plain": [
       "                                                          tek_list\n",
       "extraction_date                                                   \n",
       "2020-09-07       {8b32c9c0-a002-b803-2587-e6b05ce4a611, 86772eb...\n",
       "2020-09-08       {86772eb7-a8db-0afd-bba4-37e343049241, 0c96474...\n",
       "2020-09-09       {86772eb7-a8db-0afd-bba4-37e343049241, 0c96474...\n",
       "2020-09-10       {86772eb7-a8db-0afd-bba4-37e343049241, 0c96474...\n",
       "2020-09-11       {0c96474c-afd3-c5b8-a692-2b510b9470ae, 46c6e93..."
      ]
     },
     "execution_count": 17,
     "metadata": {},
     "output_type": "execute_result"
    }
   ],
   "source": [
    "tek_list_df = daily_extracted_teks_df.groupby(\"extraction_date\").tek_list.apply(\n",
    "    lambda x: set(sum(x, []))).reset_index()\n",
    "tek_list_df = tek_list_df.set_index(\"extraction_date\").sort_index(ascending=True)\n",
    "tek_list_df.head()"
   ]
  },
  {
   "cell_type": "code",
   "execution_count": 18,
   "metadata": {
    "execution": {
     "iopub.execute_input": "2020-09-21T06:21:40.682653Z",
     "iopub.status.busy": "2020-09-21T06:21:40.682123Z",
     "iopub.status.idle": "2020-09-21T06:21:40.684295Z",
     "shell.execute_reply": "2020-09-21T06:21:40.684799Z"
    },
    "papermill": {
     "duration": 0.050859,
     "end_time": "2020-09-21T06:21:40.684954",
     "exception": false,
     "start_time": "2020-09-21T06:21:40.634095",
     "status": "completed"
    },
    "tags": []
   },
   "outputs": [
    {
     "data": {
      "text/html": [
       "<div>\n",
       "<style scoped>\n",
       "    .dataframe tbody tr th:only-of-type {\n",
       "        vertical-align: middle;\n",
       "    }\n",
       "\n",
       "    .dataframe tbody tr th {\n",
       "        vertical-align: top;\n",
       "    }\n",
       "\n",
       "    .dataframe thead th {\n",
       "        text-align: right;\n",
       "    }\n",
       "</style>\n",
       "<table border=\"1\" class=\"dataframe\">\n",
       "  <thead>\n",
       "    <tr style=\"text-align: right;\">\n",
       "      <th></th>\n",
       "      <th>sample_date_string</th>\n",
       "      <th>new_tek_count</th>\n",
       "    </tr>\n",
       "  </thead>\n",
       "  <tbody>\n",
       "    <tr>\n",
       "      <th>1</th>\n",
       "      <td>2020-09-08</td>\n",
       "      <td>44.0</td>\n",
       "    </tr>\n",
       "    <tr>\n",
       "      <th>2</th>\n",
       "      <td>2020-09-09</td>\n",
       "      <td>67.0</td>\n",
       "    </tr>\n",
       "    <tr>\n",
       "      <th>3</th>\n",
       "      <td>2020-09-10</td>\n",
       "      <td>45.0</td>\n",
       "    </tr>\n",
       "    <tr>\n",
       "      <th>4</th>\n",
       "      <td>2020-09-11</td>\n",
       "      <td>46.0</td>\n",
       "    </tr>\n",
       "    <tr>\n",
       "      <th>5</th>\n",
       "      <td>2020-09-12</td>\n",
       "      <td>92.0</td>\n",
       "    </tr>\n",
       "  </tbody>\n",
       "</table>\n",
       "</div>"
      ],
      "text/plain": [
       "  sample_date_string  new_tek_count\n",
       "1         2020-09-08           44.0\n",
       "2         2020-09-09           67.0\n",
       "3         2020-09-10           45.0\n",
       "4         2020-09-11           46.0\n",
       "5         2020-09-12           92.0"
      ]
     },
     "execution_count": 18,
     "metadata": {},
     "output_type": "execute_result"
    }
   ],
   "source": [
    "new_tek_df = tek_list_df.diff().tek_list.apply(\n",
    "    lambda x: len(x) if not pd.isna(x) else None).to_frame().reset_index()\n",
    "new_tek_df.rename(columns={\n",
    "    \"tek_list\": \"new_tek_count\",\n",
    "    \"extraction_date\": \"sample_date_string\",}, inplace=True)\n",
    "new_tek_df = new_tek_df.tail(14)\n",
    "new_tek_df.head()"
   ]
  },
  {
   "cell_type": "code",
   "execution_count": 19,
   "metadata": {
    "execution": {
     "iopub.execute_input": "2020-09-21T06:21:40.769954Z",
     "iopub.status.busy": "2020-09-21T06:21:40.768961Z",
     "iopub.status.idle": "2020-09-21T06:21:40.782998Z",
     "shell.execute_reply": "2020-09-21T06:21:40.782442Z"
    },
    "papermill": {
     "duration": 0.062199,
     "end_time": "2020-09-21T06:21:40.783123",
     "exception": false,
     "start_time": "2020-09-21T06:21:40.720924",
     "status": "completed"
    },
    "pycharm": {
     "name": "#%%\n"
    },
    "tags": []
   },
   "outputs": [
    {
     "data": {
      "text/html": [
       "<div>\n",
       "<style scoped>\n",
       "    .dataframe tbody tr th:only-of-type {\n",
       "        vertical-align: middle;\n",
       "    }\n",
       "\n",
       "    .dataframe tbody tr th {\n",
       "        vertical-align: top;\n",
       "    }\n",
       "\n",
       "    .dataframe thead th {\n",
       "        text-align: right;\n",
       "    }\n",
       "</style>\n",
       "<table border=\"1\" class=\"dataframe\">\n",
       "  <thead>\n",
       "    <tr style=\"text-align: right;\">\n",
       "      <th></th>\n",
       "      <th>region</th>\n",
       "      <th>sample_date</th>\n",
       "      <th>tek_list</th>\n",
       "      <th>extraction_date</th>\n",
       "      <th>new_sample_extraction_date</th>\n",
       "    </tr>\n",
       "  </thead>\n",
       "  <tbody>\n",
       "    <tr>\n",
       "      <th>0</th>\n",
       "      <td>ES</td>\n",
       "      <td>2020-09-08</td>\n",
       "      <td>[64d2f594-3e1e-250e-b2e2-103c46f3a4a9, b8121a9...</td>\n",
       "      <td>2020-09-21</td>\n",
       "      <td>2020-09-09</td>\n",
       "    </tr>\n",
       "    <tr>\n",
       "      <th>1</th>\n",
       "      <td>ES</td>\n",
       "      <td>2020-09-09</td>\n",
       "      <td>[1f0a0575-26d0-44c1-7b58-0a0193ddfa44, 03a9a6b...</td>\n",
       "      <td>2020-09-21</td>\n",
       "      <td>2020-09-10</td>\n",
       "    </tr>\n",
       "    <tr>\n",
       "      <th>2</th>\n",
       "      <td>ES</td>\n",
       "      <td>2020-09-10</td>\n",
       "      <td>[6954f38b-22cd-d093-f288-7cdb50f2951d, 1a86957...</td>\n",
       "      <td>2020-09-21</td>\n",
       "      <td>2020-09-11</td>\n",
       "    </tr>\n",
       "    <tr>\n",
       "      <th>3</th>\n",
       "      <td>ES</td>\n",
       "      <td>2020-09-11</td>\n",
       "      <td>[01db2363-8b7e-6bbd-a02c-d6b8db0aedaa, 9c07934...</td>\n",
       "      <td>2020-09-21</td>\n",
       "      <td>2020-09-12</td>\n",
       "    </tr>\n",
       "    <tr>\n",
       "      <th>4</th>\n",
       "      <td>ES</td>\n",
       "      <td>2020-09-12</td>\n",
       "      <td>[30f2c790-b461-745c-60fb-1e002f4c94aa, 9d4da2c...</td>\n",
       "      <td>2020-09-21</td>\n",
       "      <td>2020-09-13</td>\n",
       "    </tr>\n",
       "  </tbody>\n",
       "</table>\n",
       "</div>"
      ],
      "text/plain": [
       "  region sample_date                                           tek_list  \\\n",
       "0     ES  2020-09-08  [64d2f594-3e1e-250e-b2e2-103c46f3a4a9, b8121a9...   \n",
       "1     ES  2020-09-09  [1f0a0575-26d0-44c1-7b58-0a0193ddfa44, 03a9a6b...   \n",
       "2     ES  2020-09-10  [6954f38b-22cd-d093-f288-7cdb50f2951d, 1a86957...   \n",
       "3     ES  2020-09-11  [01db2363-8b7e-6bbd-a02c-d6b8db0aedaa, 9c07934...   \n",
       "4     ES  2020-09-12  [30f2c790-b461-745c-60fb-1e002f4c94aa, 9d4da2c...   \n",
       "\n",
       "  extraction_date new_sample_extraction_date  \n",
       "0      2020-09-21                 2020-09-09  \n",
       "1      2020-09-21                 2020-09-10  \n",
       "2      2020-09-21                 2020-09-11  \n",
       "3      2020-09-21                 2020-09-12  \n",
       "4      2020-09-21                 2020-09-13  "
      ]
     },
     "execution_count": 19,
     "metadata": {},
     "output_type": "execute_result"
    }
   ],
   "source": [
    "new_tek_devices_df = daily_extracted_teks_df.copy()\n",
    "new_tek_devices_df[\"new_sample_extraction_date\"] = \\\n",
    "    pd.to_datetime(new_tek_devices_df.sample_date) + datetime.timedelta(1)\n",
    "new_tek_devices_df[\"extraction_date\"] = pd.to_datetime(new_tek_devices_df.extraction_date)\n",
    "new_tek_devices_df[\"sample_date\"] = pd.to_datetime(new_tek_devices_df.sample_date)\n",
    "new_tek_devices_df.head()"
   ]
  },
  {
   "cell_type": "code",
   "execution_count": 20,
   "metadata": {
    "collapsed": false,
    "execution": {
     "iopub.execute_input": "2020-09-21T06:21:40.867223Z",
     "iopub.status.busy": "2020-09-21T06:21:40.866701Z",
     "iopub.status.idle": "2020-09-21T06:21:40.869092Z",
     "shell.execute_reply": "2020-09-21T06:21:40.869504Z"
    },
    "papermill": {
     "duration": 0.051307,
     "end_time": "2020-09-21T06:21:40.869661",
     "exception": false,
     "start_time": "2020-09-21T06:21:40.818354",
     "status": "completed"
    },
    "pycharm": {
     "name": "#%%\n"
    },
    "tags": []
   },
   "outputs": [
    {
     "data": {
      "text/html": [
       "<div>\n",
       "<style scoped>\n",
       "    .dataframe tbody tr th:only-of-type {\n",
       "        vertical-align: middle;\n",
       "    }\n",
       "\n",
       "    .dataframe tbody tr th {\n",
       "        vertical-align: top;\n",
       "    }\n",
       "\n",
       "    .dataframe thead th {\n",
       "        text-align: right;\n",
       "    }\n",
       "</style>\n",
       "<table border=\"1\" class=\"dataframe\">\n",
       "  <thead>\n",
       "    <tr style=\"text-align: right;\">\n",
       "      <th></th>\n",
       "      <th>extraction_date</th>\n",
       "      <th>same_day_tek_list</th>\n",
       "    </tr>\n",
       "  </thead>\n",
       "  <tbody>\n",
       "    <tr>\n",
       "      <th>13</th>\n",
       "      <td>2020-09-20</td>\n",
       "      <td>[d4787a07-8b0b-58cc-b9e3-a94b0928d497, fc2611d...</td>\n",
       "    </tr>\n",
       "    <tr>\n",
       "      <th>13</th>\n",
       "      <td>2020-09-19</td>\n",
       "      <td>[754bc832-e952-f047-e72d-5297ad25a4a7]</td>\n",
       "    </tr>\n",
       "  </tbody>\n",
       "</table>\n",
       "</div>"
      ],
      "text/plain": [
       "   extraction_date                                  same_day_tek_list\n",
       "13      2020-09-20  [d4787a07-8b0b-58cc-b9e3-a94b0928d497, fc2611d...\n",
       "13      2020-09-19             [754bc832-e952-f047-e72d-5297ad25a4a7]"
      ]
     },
     "execution_count": 20,
     "metadata": {},
     "output_type": "execute_result"
    }
   ],
   "source": [
    "# Sometimes TEKs from the same day are uploaded, we do not count them as new TEK devices:\n",
    "same_day_tek_list_df = new_tek_devices_df[\n",
    "    new_tek_devices_df.sample_date == new_tek_devices_df.extraction_date].copy()\n",
    "same_day_tek_list_df = same_day_tek_list_df[[\"extraction_date\", \"tek_list\"]].rename(\n",
    "    columns={\"tek_list\": \"same_day_tek_list\"})\n",
    "same_day_tek_list_df[\"extraction_date\"] = \\\n",
    "    same_day_tek_list_df.extraction_date + datetime.timedelta(1)\n",
    "same_day_tek_list_df.head()"
   ]
  },
  {
   "cell_type": "code",
   "execution_count": 21,
   "metadata": {
    "collapsed": false,
    "execution": {
     "iopub.execute_input": "2020-09-21T06:21:40.960749Z",
     "iopub.status.busy": "2020-09-21T06:21:40.960187Z",
     "iopub.status.idle": "2020-09-21T06:21:40.962580Z",
     "shell.execute_reply": "2020-09-21T06:21:40.963068Z"
    },
    "papermill": {
     "duration": 0.056802,
     "end_time": "2020-09-21T06:21:40.963222",
     "exception": false,
     "start_time": "2020-09-21T06:21:40.906420",
     "status": "completed"
    },
    "pycharm": {
     "name": "#%%\n"
    },
    "tags": []
   },
   "outputs": [
    {
     "data": {
      "text/html": [
       "<div>\n",
       "<style scoped>\n",
       "    .dataframe tbody tr th:only-of-type {\n",
       "        vertical-align: middle;\n",
       "    }\n",
       "\n",
       "    .dataframe tbody tr th {\n",
       "        vertical-align: top;\n",
       "    }\n",
       "\n",
       "    .dataframe thead th {\n",
       "        text-align: right;\n",
       "    }\n",
       "</style>\n",
       "<table border=\"1\" class=\"dataframe\">\n",
       "  <thead>\n",
       "    <tr style=\"text-align: right;\">\n",
       "      <th></th>\n",
       "      <th>region</th>\n",
       "      <th>sample_date</th>\n",
       "      <th>tek_list</th>\n",
       "      <th>extraction_date</th>\n",
       "      <th>new_sample_extraction_date</th>\n",
       "    </tr>\n",
       "  </thead>\n",
       "  <tbody>\n",
       "    <tr>\n",
       "      <th>12</th>\n",
       "      <td>ES</td>\n",
       "      <td>2020-09-19</td>\n",
       "      <td>[3218970f-4c82-daf4-6cb1-7d8d5877f484, 2d12869...</td>\n",
       "      <td>2020-09-20</td>\n",
       "      <td>2020-09-20</td>\n",
       "    </tr>\n",
       "    <tr>\n",
       "      <th>12</th>\n",
       "      <td>ES</td>\n",
       "      <td>2020-09-18</td>\n",
       "      <td>[929af33f-4c54-9b8a-cf3a-a6eafed8dd0e, 8c6b618...</td>\n",
       "      <td>2020-09-19</td>\n",
       "      <td>2020-09-19</td>\n",
       "    </tr>\n",
       "    <tr>\n",
       "      <th>12</th>\n",
       "      <td>ES</td>\n",
       "      <td>2020-09-17</td>\n",
       "      <td>[7967f68b-ead3-bdb7-a7ae-bcb78220c852, fb2d0e2...</td>\n",
       "      <td>2020-09-18</td>\n",
       "      <td>2020-09-18</td>\n",
       "    </tr>\n",
       "    <tr>\n",
       "      <th>12</th>\n",
       "      <td>ES</td>\n",
       "      <td>2020-09-16</td>\n",
       "      <td>[713a8fac-9ef2-0c13-0162-7397da9e7778, ca13a5b...</td>\n",
       "      <td>2020-09-17</td>\n",
       "      <td>2020-09-17</td>\n",
       "    </tr>\n",
       "    <tr>\n",
       "      <th>12</th>\n",
       "      <td>ES</td>\n",
       "      <td>2020-09-15</td>\n",
       "      <td>[f6f1a72b-e029-5cc3-06ca-7817dc59b26e, 422efa3...</td>\n",
       "      <td>2020-09-16</td>\n",
       "      <td>2020-09-16</td>\n",
       "    </tr>\n",
       "  </tbody>\n",
       "</table>\n",
       "</div>"
      ],
      "text/plain": [
       "   region sample_date                                           tek_list  \\\n",
       "12     ES  2020-09-19  [3218970f-4c82-daf4-6cb1-7d8d5877f484, 2d12869...   \n",
       "12     ES  2020-09-18  [929af33f-4c54-9b8a-cf3a-a6eafed8dd0e, 8c6b618...   \n",
       "12     ES  2020-09-17  [7967f68b-ead3-bdb7-a7ae-bcb78220c852, fb2d0e2...   \n",
       "12     ES  2020-09-16  [713a8fac-9ef2-0c13-0162-7397da9e7778, ca13a5b...   \n",
       "12     ES  2020-09-15  [f6f1a72b-e029-5cc3-06ca-7817dc59b26e, 422efa3...   \n",
       "\n",
       "   extraction_date new_sample_extraction_date  \n",
       "12      2020-09-20                 2020-09-20  \n",
       "12      2020-09-19                 2020-09-19  \n",
       "12      2020-09-18                 2020-09-18  \n",
       "12      2020-09-17                 2020-09-17  \n",
       "12      2020-09-16                 2020-09-16  "
      ]
     },
     "execution_count": 21,
     "metadata": {},
     "output_type": "execute_result"
    }
   ],
   "source": [
    "new_tek_devices_df = new_tek_devices_df[\n",
    "    new_tek_devices_df.new_sample_extraction_date == new_tek_devices_df.extraction_date]\n",
    "new_tek_devices_df.head()"
   ]
  },
  {
   "cell_type": "code",
   "execution_count": 22,
   "metadata": {
    "collapsed": false,
    "execution": {
     "iopub.execute_input": "2020-09-21T06:21:41.040437Z",
     "iopub.status.busy": "2020-09-21T06:21:41.039839Z",
     "iopub.status.idle": "2020-09-21T06:21:41.059832Z",
     "shell.execute_reply": "2020-09-21T06:21:41.060407Z"
    },
    "papermill": {
     "duration": 0.060795,
     "end_time": "2020-09-21T06:21:41.060575",
     "exception": false,
     "start_time": "2020-09-21T06:21:40.999780",
     "status": "completed"
    },
    "pycharm": {
     "name": "#%%\n"
    },
    "tags": []
   },
   "outputs": [
    {
     "data": {
      "text/html": [
       "<div>\n",
       "<style scoped>\n",
       "    .dataframe tbody tr th:only-of-type {\n",
       "        vertical-align: middle;\n",
       "    }\n",
       "\n",
       "    .dataframe tbody tr th {\n",
       "        vertical-align: top;\n",
       "    }\n",
       "\n",
       "    .dataframe thead th {\n",
       "        text-align: right;\n",
       "    }\n",
       "</style>\n",
       "<table border=\"1\" class=\"dataframe\">\n",
       "  <thead>\n",
       "    <tr style=\"text-align: right;\">\n",
       "      <th></th>\n",
       "      <th>region</th>\n",
       "      <th>sample_date</th>\n",
       "      <th>tek_list</th>\n",
       "      <th>extraction_date</th>\n",
       "      <th>new_sample_extraction_date</th>\n",
       "      <th>same_day_tek_list</th>\n",
       "    </tr>\n",
       "  </thead>\n",
       "  <tbody>\n",
       "    <tr>\n",
       "      <th>0</th>\n",
       "      <td>ES</td>\n",
       "      <td>2020-09-19</td>\n",
       "      <td>[3218970f-4c82-daf4-6cb1-7d8d5877f484, 2d12869...</td>\n",
       "      <td>2020-09-20</td>\n",
       "      <td>2020-09-20</td>\n",
       "      <td>[d4787a07-8b0b-58cc-b9e3-a94b0928d497, fc2611d...</td>\n",
       "    </tr>\n",
       "    <tr>\n",
       "      <th>1</th>\n",
       "      <td>ES</td>\n",
       "      <td>2020-09-18</td>\n",
       "      <td>[929af33f-4c54-9b8a-cf3a-a6eafed8dd0e, 8c6b618...</td>\n",
       "      <td>2020-09-19</td>\n",
       "      <td>2020-09-19</td>\n",
       "      <td>[754bc832-e952-f047-e72d-5297ad25a4a7]</td>\n",
       "    </tr>\n",
       "    <tr>\n",
       "      <th>2</th>\n",
       "      <td>ES</td>\n",
       "      <td>2020-09-17</td>\n",
       "      <td>[7967f68b-ead3-bdb7-a7ae-bcb78220c852, fb2d0e2...</td>\n",
       "      <td>2020-09-18</td>\n",
       "      <td>2020-09-18</td>\n",
       "      <td>[]</td>\n",
       "    </tr>\n",
       "    <tr>\n",
       "      <th>3</th>\n",
       "      <td>ES</td>\n",
       "      <td>2020-09-16</td>\n",
       "      <td>[713a8fac-9ef2-0c13-0162-7397da9e7778, ca13a5b...</td>\n",
       "      <td>2020-09-17</td>\n",
       "      <td>2020-09-17</td>\n",
       "      <td>[]</td>\n",
       "    </tr>\n",
       "    <tr>\n",
       "      <th>4</th>\n",
       "      <td>ES</td>\n",
       "      <td>2020-09-15</td>\n",
       "      <td>[f6f1a72b-e029-5cc3-06ca-7817dc59b26e, 422efa3...</td>\n",
       "      <td>2020-09-16</td>\n",
       "      <td>2020-09-16</td>\n",
       "      <td>[]</td>\n",
       "    </tr>\n",
       "  </tbody>\n",
       "</table>\n",
       "</div>"
      ],
      "text/plain": [
       "  region sample_date                                           tek_list  \\\n",
       "0     ES  2020-09-19  [3218970f-4c82-daf4-6cb1-7d8d5877f484, 2d12869...   \n",
       "1     ES  2020-09-18  [929af33f-4c54-9b8a-cf3a-a6eafed8dd0e, 8c6b618...   \n",
       "2     ES  2020-09-17  [7967f68b-ead3-bdb7-a7ae-bcb78220c852, fb2d0e2...   \n",
       "3     ES  2020-09-16  [713a8fac-9ef2-0c13-0162-7397da9e7778, ca13a5b...   \n",
       "4     ES  2020-09-15  [f6f1a72b-e029-5cc3-06ca-7817dc59b26e, 422efa3...   \n",
       "\n",
       "  extraction_date new_sample_extraction_date  \\\n",
       "0      2020-09-20                 2020-09-20   \n",
       "1      2020-09-19                 2020-09-19   \n",
       "2      2020-09-18                 2020-09-18   \n",
       "3      2020-09-17                 2020-09-17   \n",
       "4      2020-09-16                 2020-09-16   \n",
       "\n",
       "                                   same_day_tek_list  \n",
       "0  [d4787a07-8b0b-58cc-b9e3-a94b0928d497, fc2611d...  \n",
       "1             [754bc832-e952-f047-e72d-5297ad25a4a7]  \n",
       "2                                                 []  \n",
       "3                                                 []  \n",
       "4                                                 []  "
      ]
     },
     "execution_count": 22,
     "metadata": {},
     "output_type": "execute_result"
    }
   ],
   "source": [
    "new_tek_devices_df = \\\n",
    "    new_tek_devices_df.merge(same_day_tek_list_df, how=\"left\", on=[\"extraction_date\"])\n",
    "new_tek_devices_df[\"same_day_tek_list\"] = \\\n",
    "    new_tek_devices_df.same_day_tek_list.apply(lambda x: [] if x is np.nan else x)\n",
    "new_tek_devices_df.head()"
   ]
  },
  {
   "cell_type": "code",
   "execution_count": 23,
   "metadata": {
    "execution": {
     "iopub.execute_input": "2020-09-21T06:21:41.146764Z",
     "iopub.status.busy": "2020-09-21T06:21:41.146178Z",
     "iopub.status.idle": "2020-09-21T06:21:41.161567Z",
     "shell.execute_reply": "2020-09-21T06:21:41.161154Z"
    },
    "papermill": {
     "duration": 0.061912,
     "end_time": "2020-09-21T06:21:41.161704",
     "exception": false,
     "start_time": "2020-09-21T06:21:41.099792",
     "status": "completed"
    },
    "tags": []
   },
   "outputs": [
    {
     "data": {
      "text/html": [
       "<div>\n",
       "<style scoped>\n",
       "    .dataframe tbody tr th:only-of-type {\n",
       "        vertical-align: middle;\n",
       "    }\n",
       "\n",
       "    .dataframe tbody tr th {\n",
       "        vertical-align: top;\n",
       "    }\n",
       "\n",
       "    .dataframe thead th {\n",
       "        text-align: right;\n",
       "    }\n",
       "</style>\n",
       "<table border=\"1\" class=\"dataframe\">\n",
       "  <thead>\n",
       "    <tr style=\"text-align: right;\">\n",
       "      <th></th>\n",
       "      <th>sample_date_string</th>\n",
       "      <th>new_tek_devices</th>\n",
       "    </tr>\n",
       "  </thead>\n",
       "  <tbody>\n",
       "    <tr>\n",
       "      <th>0</th>\n",
       "      <td>2020-09-20</td>\n",
       "      <td>45</td>\n",
       "    </tr>\n",
       "    <tr>\n",
       "      <th>1</th>\n",
       "      <td>2020-09-19</td>\n",
       "      <td>39</td>\n",
       "    </tr>\n",
       "    <tr>\n",
       "      <th>2</th>\n",
       "      <td>2020-09-18</td>\n",
       "      <td>52</td>\n",
       "    </tr>\n",
       "    <tr>\n",
       "      <th>3</th>\n",
       "      <td>2020-09-17</td>\n",
       "      <td>29</td>\n",
       "    </tr>\n",
       "    <tr>\n",
       "      <th>4</th>\n",
       "      <td>2020-09-16</td>\n",
       "      <td>23</td>\n",
       "    </tr>\n",
       "  </tbody>\n",
       "</table>\n",
       "</div>"
      ],
      "text/plain": [
       "  sample_date_string  new_tek_devices\n",
       "0         2020-09-20               45\n",
       "1         2020-09-19               39\n",
       "2         2020-09-18               52\n",
       "3         2020-09-17               29\n",
       "4         2020-09-16               23"
      ]
     },
     "execution_count": 23,
     "metadata": {},
     "output_type": "execute_result"
    }
   ],
   "source": [
    "new_tek_devices_df.set_index(\"extraction_date\", inplace=True)\n",
    "new_tek_devices_df[\"new_tek_devices\"] = new_tek_devices_df.apply(\n",
    "    lambda x: len(set(x.tek_list).difference(x.same_day_tek_list)), axis=1).copy()\n",
    "new_tek_devices_df.reset_index(inplace=True)\n",
    "new_tek_devices_df.rename(columns={\n",
    "    \"extraction_date\": \"sample_date_string\"}, inplace=True)\n",
    "new_tek_devices_df = new_tek_devices_df[[\"sample_date_string\", \"new_tek_devices\"]]\n",
    "new_tek_devices_df[\"sample_date_string\"] = new_tek_devices_df.sample_date_string.dt.strftime(\"%Y-%m-%d\")\n",
    "new_tek_devices_df = new_tek_devices_df.head(14)\n",
    "new_tek_devices_df.head()"
   ]
  },
  {
   "cell_type": "markdown",
   "metadata": {
    "papermill": {
     "duration": 0.03622,
     "end_time": "2020-09-21T06:21:41.234920",
     "exception": false,
     "start_time": "2020-09-21T06:21:41.198700",
     "status": "completed"
    },
    "pycharm": {
     "name": "#%% md\n"
    },
    "tags": []
   },
   "source": [
    "### Hourly New TEKs"
   ]
  },
  {
   "cell_type": "code",
   "execution_count": 24,
   "metadata": {
    "execution": {
     "iopub.execute_input": "2020-09-21T06:21:41.321150Z",
     "iopub.status.busy": "2020-09-21T06:21:41.320592Z",
     "iopub.status.idle": "2020-09-21T06:21:41.469911Z",
     "shell.execute_reply": "2020-09-21T06:21:41.470445Z"
    },
    "papermill": {
     "duration": 0.198301,
     "end_time": "2020-09-21T06:21:41.470628",
     "exception": false,
     "start_time": "2020-09-21T06:21:41.272327",
     "status": "completed"
    },
    "tags": []
   },
   "outputs": [
    {
     "data": {
      "text/html": [
       "<div>\n",
       "<style scoped>\n",
       "    .dataframe tbody tr th:only-of-type {\n",
       "        vertical-align: middle;\n",
       "    }\n",
       "\n",
       "    .dataframe tbody tr th {\n",
       "        vertical-align: top;\n",
       "    }\n",
       "\n",
       "    .dataframe thead th {\n",
       "        text-align: right;\n",
       "    }\n",
       "</style>\n",
       "<table border=\"1\" class=\"dataframe\">\n",
       "  <thead>\n",
       "    <tr style=\"text-align: right;\">\n",
       "      <th></th>\n",
       "      <th>extraction_date_with_hour</th>\n",
       "      <th>new_tek_count</th>\n",
       "    </tr>\n",
       "  </thead>\n",
       "  <tbody>\n",
       "    <tr>\n",
       "      <th>20</th>\n",
       "      <td>2020-09-21@02</td>\n",
       "      <td>0.0</td>\n",
       "    </tr>\n",
       "    <tr>\n",
       "      <th>21</th>\n",
       "      <td>2020-09-21@03</td>\n",
       "      <td>0.0</td>\n",
       "    </tr>\n",
       "    <tr>\n",
       "      <th>22</th>\n",
       "      <td>2020-09-21@04</td>\n",
       "      <td>0.0</td>\n",
       "    </tr>\n",
       "    <tr>\n",
       "      <th>23</th>\n",
       "      <td>2020-09-21@05</td>\n",
       "      <td>0.0</td>\n",
       "    </tr>\n",
       "    <tr>\n",
       "      <th>24</th>\n",
       "      <td>2020-09-21@06</td>\n",
       "      <td>0.0</td>\n",
       "    </tr>\n",
       "  </tbody>\n",
       "</table>\n",
       "</div>"
      ],
      "text/plain": [
       "   extraction_date_with_hour  new_tek_count\n",
       "20             2020-09-21@02            0.0\n",
       "21             2020-09-21@03            0.0\n",
       "22             2020-09-21@04            0.0\n",
       "23             2020-09-21@05            0.0\n",
       "24             2020-09-21@06            0.0"
      ]
     },
     "execution_count": 24,
     "metadata": {},
     "output_type": "execute_result"
    }
   ],
   "source": [
    "hourly_extracted_teks_df = load_extracted_teks(\n",
    "    mode=\"Hourly\", region=spain_region_country_code, limit=25)\n",
    "hourly_extracted_teks_df.head()\n",
    "\n",
    "hourly_tek_list_df = hourly_extracted_teks_df.groupby(\"extraction_date_with_hour\").tek_list.apply(\n",
    "    lambda x: set(sum(x, []))).reset_index()\n",
    "hourly_tek_list_df = hourly_tek_list_df.set_index(\"extraction_date_with_hour\").sort_index(ascending=True)\n",
    "\n",
    "hourly_new_tek_df = hourly_tek_list_df.diff().tek_list.apply(\n",
    "    lambda x: len(x) if not pd.isna(x) else None).to_frame().reset_index()\n",
    "hourly_new_tek_df.rename(columns={\n",
    "    \"tek_list\": \"new_tek_count\"}, inplace=True)\n",
    "hourly_new_tek_df.tail()"
   ]
  },
  {
   "cell_type": "code",
   "execution_count": 25,
   "metadata": {
    "execution": {
     "iopub.execute_input": "2020-09-21T06:21:41.559623Z",
     "iopub.status.busy": "2020-09-21T06:21:41.558992Z",
     "iopub.status.idle": "2020-09-21T06:21:41.577165Z",
     "shell.execute_reply": "2020-09-21T06:21:41.574907Z"
    },
    "papermill": {
     "duration": 0.068117,
     "end_time": "2020-09-21T06:21:41.577307",
     "exception": false,
     "start_time": "2020-09-21T06:21:41.509190",
     "status": "completed"
    },
    "pycharm": {
     "name": "#%%\n"
    },
    "tags": []
   },
   "outputs": [
    {
     "data": {
      "text/html": [
       "<div>\n",
       "<style scoped>\n",
       "    .dataframe tbody tr th:only-of-type {\n",
       "        vertical-align: middle;\n",
       "    }\n",
       "\n",
       "    .dataframe tbody tr th {\n",
       "        vertical-align: top;\n",
       "    }\n",
       "\n",
       "    .dataframe thead th {\n",
       "        text-align: right;\n",
       "    }\n",
       "</style>\n",
       "<table border=\"1\" class=\"dataframe\">\n",
       "  <thead>\n",
       "    <tr style=\"text-align: right;\">\n",
       "      <th></th>\n",
       "      <th>extraction_date_with_hour</th>\n",
       "      <th>new_tek_devices</th>\n",
       "    </tr>\n",
       "  </thead>\n",
       "  <tbody>\n",
       "    <tr>\n",
       "      <th>13</th>\n",
       "      <td>2020-09-20@19</td>\n",
       "      <td>0.0</td>\n",
       "    </tr>\n",
       "    <tr>\n",
       "      <th>14</th>\n",
       "      <td>2020-09-20@20</td>\n",
       "      <td>2.0</td>\n",
       "    </tr>\n",
       "    <tr>\n",
       "      <th>15</th>\n",
       "      <td>2020-09-20@21</td>\n",
       "      <td>0.0</td>\n",
       "    </tr>\n",
       "    <tr>\n",
       "      <th>16</th>\n",
       "      <td>2020-09-20@22</td>\n",
       "      <td>1.0</td>\n",
       "    </tr>\n",
       "    <tr>\n",
       "      <th>17</th>\n",
       "      <td>2020-09-20@23</td>\n",
       "      <td>0.0</td>\n",
       "    </tr>\n",
       "  </tbody>\n",
       "</table>\n",
       "</div>"
      ],
      "text/plain": [
       "   extraction_date_with_hour  new_tek_devices\n",
       "13             2020-09-20@19              0.0\n",
       "14             2020-09-20@20              2.0\n",
       "15             2020-09-20@21              0.0\n",
       "16             2020-09-20@22              1.0\n",
       "17             2020-09-20@23              0.0"
      ]
     },
     "execution_count": 25,
     "metadata": {},
     "output_type": "execute_result"
    }
   ],
   "source": [
    "hourly_new_tek_devices_df = hourly_extracted_teks_df.copy()\n",
    "hourly_new_tek_devices_df[\"new_sample_extraction_date\"] = \\\n",
    "    pd.to_datetime(hourly_new_tek_devices_df.sample_date) + datetime.timedelta(1)\n",
    "hourly_new_tek_devices_df[\"extraction_date\"] = pd.to_datetime(hourly_new_tek_devices_df.extraction_date)\n",
    "\n",
    "hourly_new_tek_devices_df = hourly_new_tek_devices_df[\n",
    "    hourly_new_tek_devices_df.new_sample_extraction_date == hourly_new_tek_devices_df.extraction_date]\n",
    "\n",
    "hourly_new_tek_devices_df.set_index(\"extraction_date_with_hour\", inplace=True)\n",
    "hourly_new_tek_devices_df_ = pd.DataFrame()\n",
    "\n",
    "for i, chunk_df in hourly_new_tek_devices_df.groupby(\"extraction_date\"):\n",
    "    chunk_df = chunk_df.copy()\n",
    "    chunk_df.sort_index(inplace=True)\n",
    "    chunk_tek_count_df = chunk_df.tek_list.apply(lambda x: len(set(x)))\n",
    "    chunk_df = chunk_tek_count_df.diff().fillna(chunk_tek_count_df).to_frame()\n",
    "    hourly_new_tek_devices_df_ = hourly_new_tek_devices_df_.append(chunk_df)\n",
    "    \n",
    "hourly_new_tek_devices_df = hourly_new_tek_devices_df_\n",
    "hourly_new_tek_devices_df.reset_index(inplace=True)\n",
    "hourly_new_tek_devices_df.rename(columns={\n",
    "    \"tek_list\": \"new_tek_devices\"}, inplace=True)\n",
    "hourly_new_tek_devices_df.tail()"
   ]
  },
  {
   "cell_type": "code",
   "execution_count": 26,
   "metadata": {
    "execution": {
     "iopub.execute_input": "2020-09-21T06:21:41.663596Z",
     "iopub.status.busy": "2020-09-21T06:21:41.663047Z",
     "iopub.status.idle": "2020-09-21T06:21:41.676984Z",
     "shell.execute_reply": "2020-09-21T06:21:41.677392Z"
    },
    "papermill": {
     "duration": 0.059527,
     "end_time": "2020-09-21T06:21:41.677554",
     "exception": false,
     "start_time": "2020-09-21T06:21:41.618027",
     "status": "completed"
    },
    "tags": []
   },
   "outputs": [
    {
     "data": {
      "text/html": [
       "<div>\n",
       "<style scoped>\n",
       "    .dataframe tbody tr th:only-of-type {\n",
       "        vertical-align: middle;\n",
       "    }\n",
       "\n",
       "    .dataframe tbody tr th {\n",
       "        vertical-align: top;\n",
       "    }\n",
       "\n",
       "    .dataframe thead th {\n",
       "        text-align: right;\n",
       "    }\n",
       "</style>\n",
       "<table border=\"1\" class=\"dataframe\">\n",
       "  <thead>\n",
       "    <tr style=\"text-align: right;\">\n",
       "      <th></th>\n",
       "      <th>extraction_date_with_hour</th>\n",
       "      <th>new_tek_count</th>\n",
       "      <th>new_tek_devices</th>\n",
       "    </tr>\n",
       "    <tr>\n",
       "      <th>datetime_utc</th>\n",
       "      <th></th>\n",
       "      <th></th>\n",
       "      <th></th>\n",
       "    </tr>\n",
       "  </thead>\n",
       "  <tbody>\n",
       "    <tr>\n",
       "      <th>2020-09-21 02:00:00</th>\n",
       "      <td>2020-09-21@02</td>\n",
       "      <td>0.0</td>\n",
       "      <td>NaN</td>\n",
       "    </tr>\n",
       "    <tr>\n",
       "      <th>2020-09-21 03:00:00</th>\n",
       "      <td>2020-09-21@03</td>\n",
       "      <td>0.0</td>\n",
       "      <td>NaN</td>\n",
       "    </tr>\n",
       "    <tr>\n",
       "      <th>2020-09-21 04:00:00</th>\n",
       "      <td>2020-09-21@04</td>\n",
       "      <td>0.0</td>\n",
       "      <td>NaN</td>\n",
       "    </tr>\n",
       "    <tr>\n",
       "      <th>2020-09-21 05:00:00</th>\n",
       "      <td>2020-09-21@05</td>\n",
       "      <td>0.0</td>\n",
       "      <td>NaN</td>\n",
       "    </tr>\n",
       "    <tr>\n",
       "      <th>2020-09-21 06:00:00</th>\n",
       "      <td>2020-09-21@06</td>\n",
       "      <td>0.0</td>\n",
       "      <td>NaN</td>\n",
       "    </tr>\n",
       "  </tbody>\n",
       "</table>\n",
       "</div>"
      ],
      "text/plain": [
       "                    extraction_date_with_hour  new_tek_count  new_tek_devices\n",
       "datetime_utc                                                                 \n",
       "2020-09-21 02:00:00             2020-09-21@02            0.0              NaN\n",
       "2020-09-21 03:00:00             2020-09-21@03            0.0              NaN\n",
       "2020-09-21 04:00:00             2020-09-21@04            0.0              NaN\n",
       "2020-09-21 05:00:00             2020-09-21@05            0.0              NaN\n",
       "2020-09-21 06:00:00             2020-09-21@06            0.0              NaN"
      ]
     },
     "execution_count": 26,
     "metadata": {},
     "output_type": "execute_result"
    }
   ],
   "source": [
    "hourly_summary_df = hourly_new_tek_df.merge(\n",
    "    hourly_new_tek_devices_df, on=[\"extraction_date_with_hour\"], how=\"outer\")\n",
    "hourly_summary_df[\"datetime_utc\"] = pd.to_datetime(\n",
    "    hourly_summary_df.extraction_date_with_hour, format=\"%Y-%m-%d@%H\")\n",
    "hourly_summary_df.set_index(\"datetime_utc\", inplace=True)\n",
    "hourly_summary_df = hourly_summary_df.tail(-1)\n",
    "hourly_summary_df.tail()"
   ]
  },
  {
   "cell_type": "markdown",
   "metadata": {
    "execution": {
     "iopub.execute_input": "2020-08-30T22:30:16.982353Z",
     "iopub.status.busy": "2020-08-30T22:30:16.981676Z",
     "iopub.status.idle": "2020-08-30T22:30:16.984837Z",
     "shell.execute_reply": "2020-08-30T22:30:16.985366Z"
    },
    "papermill": {
     "duration": 0.039641,
     "end_time": "2020-09-21T06:21:41.755620",
     "exception": false,
     "start_time": "2020-09-21T06:21:41.715979",
     "status": "completed"
    },
    "pycharm": {
     "name": "#%% md\n"
    },
    "tags": []
   },
   "source": [
    "### Data Merge"
   ]
  },
  {
   "cell_type": "code",
   "execution_count": 27,
   "metadata": {
    "execution": {
     "iopub.execute_input": "2020-09-21T06:21:41.845546Z",
     "iopub.status.busy": "2020-09-21T06:21:41.844997Z",
     "iopub.status.idle": "2020-09-21T06:21:41.847839Z",
     "shell.execute_reply": "2020-09-21T06:21:41.848306Z"
    },
    "papermill": {
     "duration": 0.054171,
     "end_time": "2020-09-21T06:21:41.848463",
     "exception": false,
     "start_time": "2020-09-21T06:21:41.794292",
     "status": "completed"
    },
    "pycharm": {
     "name": "#%%\n"
    },
    "tags": []
   },
   "outputs": [
    {
     "data": {
      "text/html": [
       "<div>\n",
       "<style scoped>\n",
       "    .dataframe tbody tr th:only-of-type {\n",
       "        vertical-align: middle;\n",
       "    }\n",
       "\n",
       "    .dataframe tbody tr th {\n",
       "        vertical-align: top;\n",
       "    }\n",
       "\n",
       "    .dataframe thead th {\n",
       "        text-align: right;\n",
       "    }\n",
       "</style>\n",
       "<table border=\"1\" class=\"dataframe\">\n",
       "  <thead>\n",
       "    <tr style=\"text-align: right;\">\n",
       "      <th></th>\n",
       "      <th>sample_date_string</th>\n",
       "      <th>tek_count</th>\n",
       "      <th>new_tek_count</th>\n",
       "    </tr>\n",
       "  </thead>\n",
       "  <tbody>\n",
       "    <tr>\n",
       "      <th>0</th>\n",
       "      <td>2020-09-19</td>\n",
       "      <td>48.0</td>\n",
       "      <td>90.0</td>\n",
       "    </tr>\n",
       "    <tr>\n",
       "      <th>1</th>\n",
       "      <td>2020-09-18</td>\n",
       "      <td>62.0</td>\n",
       "      <td>138.0</td>\n",
       "    </tr>\n",
       "    <tr>\n",
       "      <th>2</th>\n",
       "      <td>2020-09-17</td>\n",
       "      <td>81.0</td>\n",
       "      <td>63.0</td>\n",
       "    </tr>\n",
       "    <tr>\n",
       "      <th>3</th>\n",
       "      <td>2020-09-16</td>\n",
       "      <td>85.0</td>\n",
       "      <td>62.0</td>\n",
       "    </tr>\n",
       "    <tr>\n",
       "      <th>4</th>\n",
       "      <td>2020-09-15</td>\n",
       "      <td>82.0</td>\n",
       "      <td>58.0</td>\n",
       "    </tr>\n",
       "  </tbody>\n",
       "</table>\n",
       "</div>"
      ],
      "text/plain": [
       "  sample_date_string  tek_count  new_tek_count\n",
       "0         2020-09-19       48.0           90.0\n",
       "1         2020-09-18       62.0          138.0\n",
       "2         2020-09-17       81.0           63.0\n",
       "3         2020-09-16       85.0           62.0\n",
       "4         2020-09-15       82.0           58.0"
      ]
     },
     "execution_count": 27,
     "metadata": {},
     "output_type": "execute_result"
    }
   ],
   "source": [
    "result_summary_df = exposure_keys_summary_df.merge(\n",
    "    new_tek_df, on=[\"sample_date_string\"], how=\"outer\")\n",
    "result_summary_df.head()"
   ]
  },
  {
   "cell_type": "code",
   "execution_count": 28,
   "metadata": {
    "execution": {
     "iopub.execute_input": "2020-09-21T06:21:41.939258Z",
     "iopub.status.busy": "2020-09-21T06:21:41.938709Z",
     "iopub.status.idle": "2020-09-21T06:21:41.941591Z",
     "shell.execute_reply": "2020-09-21T06:21:41.942051Z"
    },
    "papermill": {
     "duration": 0.055126,
     "end_time": "2020-09-21T06:21:41.942201",
     "exception": false,
     "start_time": "2020-09-21T06:21:41.887075",
     "status": "completed"
    },
    "tags": []
   },
   "outputs": [
    {
     "data": {
      "text/html": [
       "<div>\n",
       "<style scoped>\n",
       "    .dataframe tbody tr th:only-of-type {\n",
       "        vertical-align: middle;\n",
       "    }\n",
       "\n",
       "    .dataframe tbody tr th {\n",
       "        vertical-align: top;\n",
       "    }\n",
       "\n",
       "    .dataframe thead th {\n",
       "        text-align: right;\n",
       "    }\n",
       "</style>\n",
       "<table border=\"1\" class=\"dataframe\">\n",
       "  <thead>\n",
       "    <tr style=\"text-align: right;\">\n",
       "      <th></th>\n",
       "      <th>sample_date_string</th>\n",
       "      <th>tek_count</th>\n",
       "      <th>new_tek_count</th>\n",
       "      <th>new_tek_devices</th>\n",
       "    </tr>\n",
       "  </thead>\n",
       "  <tbody>\n",
       "    <tr>\n",
       "      <th>0</th>\n",
       "      <td>2020-09-19</td>\n",
       "      <td>48.0</td>\n",
       "      <td>90.0</td>\n",
       "      <td>39.0</td>\n",
       "    </tr>\n",
       "    <tr>\n",
       "      <th>1</th>\n",
       "      <td>2020-09-18</td>\n",
       "      <td>62.0</td>\n",
       "      <td>138.0</td>\n",
       "      <td>52.0</td>\n",
       "    </tr>\n",
       "    <tr>\n",
       "      <th>2</th>\n",
       "      <td>2020-09-17</td>\n",
       "      <td>81.0</td>\n",
       "      <td>63.0</td>\n",
       "      <td>29.0</td>\n",
       "    </tr>\n",
       "    <tr>\n",
       "      <th>3</th>\n",
       "      <td>2020-09-16</td>\n",
       "      <td>85.0</td>\n",
       "      <td>62.0</td>\n",
       "      <td>23.0</td>\n",
       "    </tr>\n",
       "    <tr>\n",
       "      <th>4</th>\n",
       "      <td>2020-09-15</td>\n",
       "      <td>82.0</td>\n",
       "      <td>58.0</td>\n",
       "      <td>23.0</td>\n",
       "    </tr>\n",
       "  </tbody>\n",
       "</table>\n",
       "</div>"
      ],
      "text/plain": [
       "  sample_date_string  tek_count  new_tek_count  new_tek_devices\n",
       "0         2020-09-19       48.0           90.0             39.0\n",
       "1         2020-09-18       62.0          138.0             52.0\n",
       "2         2020-09-17       81.0           63.0             29.0\n",
       "3         2020-09-16       85.0           62.0             23.0\n",
       "4         2020-09-15       82.0           58.0             23.0"
      ]
     },
     "execution_count": 28,
     "metadata": {},
     "output_type": "execute_result"
    }
   ],
   "source": [
    "result_summary_df = result_summary_df.merge(\n",
    "    new_tek_devices_df, on=[\"sample_date_string\"], how=\"outer\")\n",
    "result_summary_df.head()"
   ]
  },
  {
   "cell_type": "code",
   "execution_count": 29,
   "metadata": {
    "execution": {
     "iopub.execute_input": "2020-09-21T06:21:42.026642Z",
     "iopub.status.busy": "2020-09-21T06:21:42.026029Z",
     "iopub.status.idle": "2020-09-21T06:21:42.041796Z",
     "shell.execute_reply": "2020-09-21T06:21:42.042269Z"
    },
    "papermill": {
     "duration": 0.06064,
     "end_time": "2020-09-21T06:21:42.042431",
     "exception": false,
     "start_time": "2020-09-21T06:21:41.981791",
     "status": "completed"
    },
    "pycharm": {
     "name": "#%%\n"
    },
    "tags": []
   },
   "outputs": [
    {
     "data": {
      "text/html": [
       "<div>\n",
       "<style scoped>\n",
       "    .dataframe tbody tr th:only-of-type {\n",
       "        vertical-align: middle;\n",
       "    }\n",
       "\n",
       "    .dataframe tbody tr th {\n",
       "        vertical-align: top;\n",
       "    }\n",
       "\n",
       "    .dataframe thead th {\n",
       "        text-align: right;\n",
       "    }\n",
       "</style>\n",
       "<table border=\"1\" class=\"dataframe\">\n",
       "  <thead>\n",
       "    <tr style=\"text-align: right;\">\n",
       "      <th></th>\n",
       "      <th>sample_date_string</th>\n",
       "      <th>tek_count</th>\n",
       "      <th>new_tek_count</th>\n",
       "      <th>new_tek_devices</th>\n",
       "      <th>cumulative_cases</th>\n",
       "      <th>new_cases</th>\n",
       "      <th>rolling_mean_new_cases</th>\n",
       "    </tr>\n",
       "  </thead>\n",
       "  <tbody>\n",
       "    <tr>\n",
       "      <th>0</th>\n",
       "      <td>2020-09-19</td>\n",
       "      <td>48.0</td>\n",
       "      <td>90.0</td>\n",
       "      <td>39.0</td>\n",
       "      <td>640040.0</td>\n",
       "      <td>0.0</td>\n",
       "      <td>10531.0</td>\n",
       "    </tr>\n",
       "    <tr>\n",
       "      <th>1</th>\n",
       "      <td>2020-09-18</td>\n",
       "      <td>62.0</td>\n",
       "      <td>138.0</td>\n",
       "      <td>52.0</td>\n",
       "      <td>640040.0</td>\n",
       "      <td>14389.0</td>\n",
       "      <td>10531.0</td>\n",
       "    </tr>\n",
       "    <tr>\n",
       "      <th>2</th>\n",
       "      <td>2020-09-17</td>\n",
       "      <td>81.0</td>\n",
       "      <td>63.0</td>\n",
       "      <td>29.0</td>\n",
       "      <td>625651.0</td>\n",
       "      <td>11291.0</td>\n",
       "      <td>10215.0</td>\n",
       "    </tr>\n",
       "    <tr>\n",
       "      <th>3</th>\n",
       "      <td>2020-09-16</td>\n",
       "      <td>85.0</td>\n",
       "      <td>62.0</td>\n",
       "      <td>23.0</td>\n",
       "      <td>614360.0</td>\n",
       "      <td>11193.0</td>\n",
       "      <td>10140.0</td>\n",
       "    </tr>\n",
       "    <tr>\n",
       "      <th>4</th>\n",
       "      <td>2020-09-15</td>\n",
       "      <td>82.0</td>\n",
       "      <td>58.0</td>\n",
       "      <td>23.0</td>\n",
       "      <td>603167.0</td>\n",
       "      <td>9437.0</td>\n",
       "      <td>9808.0</td>\n",
       "    </tr>\n",
       "  </tbody>\n",
       "</table>\n",
       "</div>"
      ],
      "text/plain": [
       "  sample_date_string  tek_count  new_tek_count  new_tek_devices  \\\n",
       "0         2020-09-19       48.0           90.0             39.0   \n",
       "1         2020-09-18       62.0          138.0             52.0   \n",
       "2         2020-09-17       81.0           63.0             29.0   \n",
       "3         2020-09-16       85.0           62.0             23.0   \n",
       "4         2020-09-15       82.0           58.0             23.0   \n",
       "\n",
       "   cumulative_cases  new_cases  rolling_mean_new_cases  \n",
       "0          640040.0        0.0                 10531.0  \n",
       "1          640040.0    14389.0                 10531.0  \n",
       "2          625651.0    11291.0                 10215.0  \n",
       "3          614360.0    11193.0                 10140.0  \n",
       "4          603167.0     9437.0                  9808.0  "
      ]
     },
     "execution_count": 29,
     "metadata": {},
     "output_type": "execute_result"
    }
   ],
   "source": [
    "result_summary_df = result_summary_df.merge(\n",
    "    confirmed_df, on=[\"sample_date_string\"], how=\"left\")\n",
    "result_summary_df.head()"
   ]
  },
  {
   "cell_type": "code",
   "execution_count": 30,
   "metadata": {
    "execution": {
     "iopub.execute_input": "2020-09-21T06:21:42.144279Z",
     "iopub.status.busy": "2020-09-21T06:21:42.143676Z",
     "iopub.status.idle": "2020-09-21T06:21:42.145772Z",
     "shell.execute_reply": "2020-09-21T06:21:42.146293Z"
    },
    "papermill": {
     "duration": 0.061764,
     "end_time": "2020-09-21T06:21:42.146445",
     "exception": false,
     "start_time": "2020-09-21T06:21:42.084681",
     "status": "completed"
    },
    "pycharm": {
     "name": "#%%\n"
    },
    "tags": []
   },
   "outputs": [
    {
     "data": {
      "text/html": [
       "<div>\n",
       "<style scoped>\n",
       "    .dataframe tbody tr th:only-of-type {\n",
       "        vertical-align: middle;\n",
       "    }\n",
       "\n",
       "    .dataframe tbody tr th {\n",
       "        vertical-align: top;\n",
       "    }\n",
       "\n",
       "    .dataframe thead th {\n",
       "        text-align: right;\n",
       "    }\n",
       "</style>\n",
       "<table border=\"1\" class=\"dataframe\">\n",
       "  <thead>\n",
       "    <tr style=\"text-align: right;\">\n",
       "      <th></th>\n",
       "      <th>sample_date_string</th>\n",
       "      <th>tek_count</th>\n",
       "      <th>new_tek_count</th>\n",
       "      <th>new_tek_devices</th>\n",
       "      <th>cumulative_cases</th>\n",
       "      <th>new_cases</th>\n",
       "      <th>rolling_mean_new_cases</th>\n",
       "      <th>tek_count_per_new_case</th>\n",
       "      <th>new_tek_count_per_new_case</th>\n",
       "      <th>new_tek_devices_per_new_case</th>\n",
       "      <th>new_tek_count_per_new_tek_device</th>\n",
       "    </tr>\n",
       "  </thead>\n",
       "  <tbody>\n",
       "    <tr>\n",
       "      <th>0</th>\n",
       "      <td>2020-09-19</td>\n",
       "      <td>48.0</td>\n",
       "      <td>90.0</td>\n",
       "      <td>39.0</td>\n",
       "      <td>640040.0</td>\n",
       "      <td>0.0</td>\n",
       "      <td>10531.0</td>\n",
       "      <td>0.004558</td>\n",
       "      <td>0.008546</td>\n",
       "      <td>0.003703</td>\n",
       "      <td>2.307692</td>\n",
       "    </tr>\n",
       "    <tr>\n",
       "      <th>1</th>\n",
       "      <td>2020-09-18</td>\n",
       "      <td>62.0</td>\n",
       "      <td>138.0</td>\n",
       "      <td>52.0</td>\n",
       "      <td>640040.0</td>\n",
       "      <td>14389.0</td>\n",
       "      <td>10531.0</td>\n",
       "      <td>0.005887</td>\n",
       "      <td>0.013104</td>\n",
       "      <td>0.004938</td>\n",
       "      <td>2.653846</td>\n",
       "    </tr>\n",
       "    <tr>\n",
       "      <th>2</th>\n",
       "      <td>2020-09-17</td>\n",
       "      <td>81.0</td>\n",
       "      <td>63.0</td>\n",
       "      <td>29.0</td>\n",
       "      <td>625651.0</td>\n",
       "      <td>11291.0</td>\n",
       "      <td>10215.0</td>\n",
       "      <td>0.007930</td>\n",
       "      <td>0.006167</td>\n",
       "      <td>0.002839</td>\n",
       "      <td>2.172414</td>\n",
       "    </tr>\n",
       "    <tr>\n",
       "      <th>3</th>\n",
       "      <td>2020-09-16</td>\n",
       "      <td>85.0</td>\n",
       "      <td>62.0</td>\n",
       "      <td>23.0</td>\n",
       "      <td>614360.0</td>\n",
       "      <td>11193.0</td>\n",
       "      <td>10140.0</td>\n",
       "      <td>0.008383</td>\n",
       "      <td>0.006114</td>\n",
       "      <td>0.002268</td>\n",
       "      <td>2.695652</td>\n",
       "    </tr>\n",
       "    <tr>\n",
       "      <th>4</th>\n",
       "      <td>2020-09-15</td>\n",
       "      <td>82.0</td>\n",
       "      <td>58.0</td>\n",
       "      <td>23.0</td>\n",
       "      <td>603167.0</td>\n",
       "      <td>9437.0</td>\n",
       "      <td>9808.0</td>\n",
       "      <td>0.008361</td>\n",
       "      <td>0.005914</td>\n",
       "      <td>0.002345</td>\n",
       "      <td>2.521739</td>\n",
       "    </tr>\n",
       "  </tbody>\n",
       "</table>\n",
       "</div>"
      ],
      "text/plain": [
       "  sample_date_string  tek_count  new_tek_count  new_tek_devices  \\\n",
       "0         2020-09-19       48.0           90.0             39.0   \n",
       "1         2020-09-18       62.0          138.0             52.0   \n",
       "2         2020-09-17       81.0           63.0             29.0   \n",
       "3         2020-09-16       85.0           62.0             23.0   \n",
       "4         2020-09-15       82.0           58.0             23.0   \n",
       "\n",
       "   cumulative_cases  new_cases  rolling_mean_new_cases  \\\n",
       "0          640040.0        0.0                 10531.0   \n",
       "1          640040.0    14389.0                 10531.0   \n",
       "2          625651.0    11291.0                 10215.0   \n",
       "3          614360.0    11193.0                 10140.0   \n",
       "4          603167.0     9437.0                  9808.0   \n",
       "\n",
       "   tek_count_per_new_case  new_tek_count_per_new_case  \\\n",
       "0                0.004558                    0.008546   \n",
       "1                0.005887                    0.013104   \n",
       "2                0.007930                    0.006167   \n",
       "3                0.008383                    0.006114   \n",
       "4                0.008361                    0.005914   \n",
       "\n",
       "   new_tek_devices_per_new_case  new_tek_count_per_new_tek_device  \n",
       "0                      0.003703                          2.307692  \n",
       "1                      0.004938                          2.653846  \n",
       "2                      0.002839                          2.172414  \n",
       "3                      0.002268                          2.695652  \n",
       "4                      0.002345                          2.521739  "
      ]
     },
     "execution_count": 30,
     "metadata": {},
     "output_type": "execute_result"
    }
   ],
   "source": [
    "result_summary_df[\"tek_count_per_new_case\"] = \\\n",
    "    result_summary_df.tek_count / result_summary_df.rolling_mean_new_cases\n",
    "result_summary_df[\"new_tek_count_per_new_case\"] = \\\n",
    "    result_summary_df.new_tek_count / result_summary_df.rolling_mean_new_cases\n",
    "result_summary_df[\"new_tek_devices_per_new_case\"] = \\\n",
    "    result_summary_df.new_tek_devices / result_summary_df.rolling_mean_new_cases\n",
    "result_summary_df[\"new_tek_count_per_new_tek_device\"] = \\\n",
    "    result_summary_df.new_tek_count / result_summary_df.new_tek_devices\n",
    "result_summary_df.head()"
   ]
  },
  {
   "cell_type": "code",
   "execution_count": 31,
   "metadata": {
    "execution": {
     "iopub.execute_input": "2020-09-21T06:21:42.236669Z",
     "iopub.status.busy": "2020-09-21T06:21:42.236106Z",
     "iopub.status.idle": "2020-09-21T06:21:42.239600Z",
     "shell.execute_reply": "2020-09-21T06:21:42.240029Z"
    },
    "papermill": {
     "duration": 0.053086,
     "end_time": "2020-09-21T06:21:42.240186",
     "exception": false,
     "start_time": "2020-09-21T06:21:42.187100",
     "status": "completed"
    },
    "pycharm": {
     "name": "#%%\n"
    },
    "tags": []
   },
   "outputs": [],
   "source": [
    "result_summary_df[\"sample_date\"] = pd.to_datetime(result_summary_df.sample_date_string)\n",
    "result_summary_df.set_index(\"sample_date\", inplace=True)\n",
    "result_summary_df = result_summary_df.sort_index(ascending=False)"
   ]
  },
  {
   "cell_type": "markdown",
   "metadata": {
    "execution": {
     "iopub.execute_input": "2020-08-30T22:30:17.313260Z",
     "iopub.status.busy": "2020-08-30T22:30:17.312584Z",
     "iopub.status.idle": "2020-08-30T22:30:17.317571Z",
     "shell.execute_reply": "2020-08-30T22:30:17.316929Z"
    },
    "papermill": {
     "duration": 0.03914,
     "end_time": "2020-09-21T06:21:42.319679",
     "exception": false,
     "start_time": "2020-09-21T06:21:42.280539",
     "status": "completed"
    },
    "pycharm": {
     "name": "#%% md\n"
    },
    "tags": []
   },
   "source": [
    "## Report Results\n"
   ]
  },
  {
   "cell_type": "markdown",
   "metadata": {
    "papermill": {
     "duration": 0.040816,
     "end_time": "2020-09-21T06:21:42.410128",
     "exception": false,
     "start_time": "2020-09-21T06:21:42.369312",
     "status": "completed"
    },
    "tags": []
   },
   "source": [
    "### Summary Table"
   ]
  },
  {
   "cell_type": "code",
   "execution_count": 32,
   "metadata": {
    "execution": {
     "iopub.execute_input": "2020-09-21T06:21:42.534029Z",
     "iopub.status.busy": "2020-09-21T06:21:42.533443Z",
     "iopub.status.idle": "2020-09-21T06:21:42.540213Z",
     "shell.execute_reply": "2020-09-21T06:21:42.539735Z"
    },
    "papermill": {
     "duration": 0.06394,
     "end_time": "2020-09-21T06:21:42.540343",
     "exception": false,
     "start_time": "2020-09-21T06:21:42.476403",
     "status": "completed"
    },
    "tags": []
   },
   "outputs": [
    {
     "data": {
      "text/html": [
       "<div>\n",
       "<style scoped>\n",
       "    .dataframe tbody tr th:only-of-type {\n",
       "        vertical-align: middle;\n",
       "    }\n",
       "\n",
       "    .dataframe tbody tr th {\n",
       "        vertical-align: top;\n",
       "    }\n",
       "\n",
       "    .dataframe thead th {\n",
       "        text-align: right;\n",
       "    }\n",
       "</style>\n",
       "<table border=\"1\" class=\"dataframe\">\n",
       "  <thead>\n",
       "    <tr style=\"text-align: right;\">\n",
       "      <th></th>\n",
       "      <th>rolling_mean_new_cases</th>\n",
       "      <th>tek_count</th>\n",
       "      <th>new_tek_count</th>\n",
       "      <th>new_tek_devices</th>\n",
       "      <th>tek_count_per_new_case</th>\n",
       "      <th>new_tek_count_per_new_case</th>\n",
       "      <th>new_tek_devices_per_new_case</th>\n",
       "      <th>new_tek_count_per_new_tek_device</th>\n",
       "    </tr>\n",
       "    <tr>\n",
       "      <th>sample_date</th>\n",
       "      <th></th>\n",
       "      <th></th>\n",
       "      <th></th>\n",
       "      <th></th>\n",
       "      <th></th>\n",
       "      <th></th>\n",
       "      <th></th>\n",
       "      <th></th>\n",
       "    </tr>\n",
       "  </thead>\n",
       "  <tbody>\n",
       "    <tr>\n",
       "      <th>2020-09-21</th>\n",
       "      <td>10531.0</td>\n",
       "      <td>NaN</td>\n",
       "      <td>2.0</td>\n",
       "      <td>NaN</td>\n",
       "      <td>NaN</td>\n",
       "      <td>0.000190</td>\n",
       "      <td>NaN</td>\n",
       "      <td>NaN</td>\n",
       "    </tr>\n",
       "    <tr>\n",
       "      <th>2020-09-20</th>\n",
       "      <td>10531.0</td>\n",
       "      <td>NaN</td>\n",
       "      <td>116.0</td>\n",
       "      <td>45.0</td>\n",
       "      <td>NaN</td>\n",
       "      <td>0.011015</td>\n",
       "      <td>0.004273</td>\n",
       "      <td>2.577778</td>\n",
       "    </tr>\n",
       "    <tr>\n",
       "      <th>2020-09-19</th>\n",
       "      <td>10531.0</td>\n",
       "      <td>48.0</td>\n",
       "      <td>90.0</td>\n",
       "      <td>39.0</td>\n",
       "      <td>0.004558</td>\n",
       "      <td>0.008546</td>\n",
       "      <td>0.003703</td>\n",
       "      <td>2.307692</td>\n",
       "    </tr>\n",
       "    <tr>\n",
       "      <th>2020-09-18</th>\n",
       "      <td>10531.0</td>\n",
       "      <td>62.0</td>\n",
       "      <td>138.0</td>\n",
       "      <td>52.0</td>\n",
       "      <td>0.005887</td>\n",
       "      <td>0.013104</td>\n",
       "      <td>0.004938</td>\n",
       "      <td>2.653846</td>\n",
       "    </tr>\n",
       "    <tr>\n",
       "      <th>2020-09-17</th>\n",
       "      <td>10215.0</td>\n",
       "      <td>81.0</td>\n",
       "      <td>63.0</td>\n",
       "      <td>29.0</td>\n",
       "      <td>0.007930</td>\n",
       "      <td>0.006167</td>\n",
       "      <td>0.002839</td>\n",
       "      <td>2.172414</td>\n",
       "    </tr>\n",
       "    <tr>\n",
       "      <th>2020-09-16</th>\n",
       "      <td>10140.0</td>\n",
       "      <td>85.0</td>\n",
       "      <td>62.0</td>\n",
       "      <td>23.0</td>\n",
       "      <td>0.008383</td>\n",
       "      <td>0.006114</td>\n",
       "      <td>0.002268</td>\n",
       "      <td>2.695652</td>\n",
       "    </tr>\n",
       "    <tr>\n",
       "      <th>2020-09-15</th>\n",
       "      <td>9808.0</td>\n",
       "      <td>82.0</td>\n",
       "      <td>58.0</td>\n",
       "      <td>23.0</td>\n",
       "      <td>0.008361</td>\n",
       "      <td>0.005914</td>\n",
       "      <td>0.002345</td>\n",
       "      <td>2.521739</td>\n",
       "    </tr>\n",
       "    <tr>\n",
       "      <th>2020-09-14</th>\n",
       "      <td>9740.0</td>\n",
       "      <td>73.0</td>\n",
       "      <td>61.0</td>\n",
       "      <td>28.0</td>\n",
       "      <td>0.007495</td>\n",
       "      <td>0.006263</td>\n",
       "      <td>0.002875</td>\n",
       "      <td>2.178571</td>\n",
       "    </tr>\n",
       "    <tr>\n",
       "      <th>2020-09-13</th>\n",
       "      <td>9620.0</td>\n",
       "      <td>75.0</td>\n",
       "      <td>92.0</td>\n",
       "      <td>32.0</td>\n",
       "      <td>0.007796</td>\n",
       "      <td>0.009563</td>\n",
       "      <td>0.003326</td>\n",
       "      <td>2.875000</td>\n",
       "    </tr>\n",
       "    <tr>\n",
       "      <th>2020-09-12</th>\n",
       "      <td>9620.0</td>\n",
       "      <td>67.0</td>\n",
       "      <td>92.0</td>\n",
       "      <td>33.0</td>\n",
       "      <td>0.006965</td>\n",
       "      <td>0.009563</td>\n",
       "      <td>0.003430</td>\n",
       "      <td>2.787879</td>\n",
       "    </tr>\n",
       "    <tr>\n",
       "      <th>2020-09-11</th>\n",
       "      <td>9620.0</td>\n",
       "      <td>75.0</td>\n",
       "      <td>46.0</td>\n",
       "      <td>19.0</td>\n",
       "      <td>0.007796</td>\n",
       "      <td>0.004782</td>\n",
       "      <td>0.001975</td>\n",
       "      <td>2.421053</td>\n",
       "    </tr>\n",
       "    <tr>\n",
       "      <th>2020-09-10</th>\n",
       "      <td>9376.0</td>\n",
       "      <td>68.0</td>\n",
       "      <td>45.0</td>\n",
       "      <td>15.0</td>\n",
       "      <td>0.007253</td>\n",
       "      <td>0.004799</td>\n",
       "      <td>0.001600</td>\n",
       "      <td>3.000000</td>\n",
       "    </tr>\n",
       "    <tr>\n",
       "      <th>2020-09-09</th>\n",
       "      <td>9118.0</td>\n",
       "      <td>60.0</td>\n",
       "      <td>67.0</td>\n",
       "      <td>21.0</td>\n",
       "      <td>0.006580</td>\n",
       "      <td>0.007348</td>\n",
       "      <td>0.002303</td>\n",
       "      <td>3.190476</td>\n",
       "    </tr>\n",
       "    <tr>\n",
       "      <th>2020-09-08</th>\n",
       "      <td>9077.0</td>\n",
       "      <td>61.0</td>\n",
       "      <td>44.0</td>\n",
       "      <td>18.0</td>\n",
       "      <td>0.006720</td>\n",
       "      <td>0.004847</td>\n",
       "      <td>0.001983</td>\n",
       "      <td>2.444444</td>\n",
       "    </tr>\n",
       "    <tr>\n",
       "      <th>2020-09-07</th>\n",
       "      <td>8956.0</td>\n",
       "      <td>NaN</td>\n",
       "      <td>NaN</td>\n",
       "      <td>22.0</td>\n",
       "      <td>NaN</td>\n",
       "      <td>NaN</td>\n",
       "      <td>0.002456</td>\n",
       "      <td>NaN</td>\n",
       "    </tr>\n",
       "  </tbody>\n",
       "</table>\n",
       "</div>"
      ],
      "text/plain": [
       "             rolling_mean_new_cases  tek_count  new_tek_count  \\\n",
       "sample_date                                                     \n",
       "2020-09-21                  10531.0        NaN            2.0   \n",
       "2020-09-20                  10531.0        NaN          116.0   \n",
       "2020-09-19                  10531.0       48.0           90.0   \n",
       "2020-09-18                  10531.0       62.0          138.0   \n",
       "2020-09-17                  10215.0       81.0           63.0   \n",
       "2020-09-16                  10140.0       85.0           62.0   \n",
       "2020-09-15                   9808.0       82.0           58.0   \n",
       "2020-09-14                   9740.0       73.0           61.0   \n",
       "2020-09-13                   9620.0       75.0           92.0   \n",
       "2020-09-12                   9620.0       67.0           92.0   \n",
       "2020-09-11                   9620.0       75.0           46.0   \n",
       "2020-09-10                   9376.0       68.0           45.0   \n",
       "2020-09-09                   9118.0       60.0           67.0   \n",
       "2020-09-08                   9077.0       61.0           44.0   \n",
       "2020-09-07                   8956.0        NaN            NaN   \n",
       "\n",
       "             new_tek_devices  tek_count_per_new_case  \\\n",
       "sample_date                                            \n",
       "2020-09-21               NaN                     NaN   \n",
       "2020-09-20              45.0                     NaN   \n",
       "2020-09-19              39.0                0.004558   \n",
       "2020-09-18              52.0                0.005887   \n",
       "2020-09-17              29.0                0.007930   \n",
       "2020-09-16              23.0                0.008383   \n",
       "2020-09-15              23.0                0.008361   \n",
       "2020-09-14              28.0                0.007495   \n",
       "2020-09-13              32.0                0.007796   \n",
       "2020-09-12              33.0                0.006965   \n",
       "2020-09-11              19.0                0.007796   \n",
       "2020-09-10              15.0                0.007253   \n",
       "2020-09-09              21.0                0.006580   \n",
       "2020-09-08              18.0                0.006720   \n",
       "2020-09-07              22.0                     NaN   \n",
       "\n",
       "             new_tek_count_per_new_case  new_tek_devices_per_new_case  \\\n",
       "sample_date                                                             \n",
       "2020-09-21                     0.000190                           NaN   \n",
       "2020-09-20                     0.011015                      0.004273   \n",
       "2020-09-19                     0.008546                      0.003703   \n",
       "2020-09-18                     0.013104                      0.004938   \n",
       "2020-09-17                     0.006167                      0.002839   \n",
       "2020-09-16                     0.006114                      0.002268   \n",
       "2020-09-15                     0.005914                      0.002345   \n",
       "2020-09-14                     0.006263                      0.002875   \n",
       "2020-09-13                     0.009563                      0.003326   \n",
       "2020-09-12                     0.009563                      0.003430   \n",
       "2020-09-11                     0.004782                      0.001975   \n",
       "2020-09-10                     0.004799                      0.001600   \n",
       "2020-09-09                     0.007348                      0.002303   \n",
       "2020-09-08                     0.004847                      0.001983   \n",
       "2020-09-07                          NaN                      0.002456   \n",
       "\n",
       "             new_tek_count_per_new_tek_device  \n",
       "sample_date                                    \n",
       "2020-09-21                                NaN  \n",
       "2020-09-20                           2.577778  \n",
       "2020-09-19                           2.307692  \n",
       "2020-09-18                           2.653846  \n",
       "2020-09-17                           2.172414  \n",
       "2020-09-16                           2.695652  \n",
       "2020-09-15                           2.521739  \n",
       "2020-09-14                           2.178571  \n",
       "2020-09-13                           2.875000  \n",
       "2020-09-12                           2.787879  \n",
       "2020-09-11                           2.421053  \n",
       "2020-09-10                           3.000000  \n",
       "2020-09-09                           3.190476  \n",
       "2020-09-08                           2.444444  \n",
       "2020-09-07                                NaN  "
      ]
     },
     "execution_count": 32,
     "metadata": {},
     "output_type": "execute_result"
    }
   ],
   "source": [
    "result_summary_df_ = result_summary_df.copy()\n",
    "result_summary_df = result_summary_df[[\n",
    "    \"rolling_mean_new_cases\",\n",
    "    \"tek_count\",\n",
    "    \"new_tek_count\",\n",
    "    \"new_tek_devices\",\n",
    "    \"tek_count_per_new_case\",\n",
    "    \"new_tek_count_per_new_case\",\n",
    "    \"new_tek_devices_per_new_case\",\n",
    "    \"new_tek_count_per_new_tek_device\"]]\n",
    "result_summary_df"
   ]
  },
  {
   "cell_type": "markdown",
   "metadata": {
    "papermill": {
     "duration": 0.042736,
     "end_time": "2020-09-21T06:21:42.624656",
     "exception": false,
     "start_time": "2020-09-21T06:21:42.581920",
     "status": "completed"
    },
    "tags": []
   },
   "source": [
    "### Summary Plots"
   ]
  },
  {
   "cell_type": "code",
   "execution_count": 33,
   "metadata": {
    "execution": {
     "iopub.execute_input": "2020-09-21T06:21:42.719960Z",
     "iopub.status.busy": "2020-09-21T06:21:42.719371Z",
     "iopub.status.idle": "2020-09-21T06:21:44.032586Z",
     "shell.execute_reply": "2020-09-21T06:21:44.033017Z"
    },
    "papermill": {
     "duration": 1.368427,
     "end_time": "2020-09-21T06:21:44.033187",
     "exception": false,
     "start_time": "2020-09-21T06:21:42.664760",
     "status": "completed"
    },
    "scrolled": false,
    "tags": []
   },
   "outputs": [
    {
     "data": {
      "image/png": "[encoded data removed]",
      "text/plain": [
       "<Figure size 1080x1584 with 6 Axes>"
      ]
     },
     "metadata": {},
     "output_type": "display_data"
    }
   ],
   "source": [
    "summary_ax_list = result_summary_df[[\n",
    "    \"rolling_mean_new_cases\",\n",
    "    \"tek_count\",\n",
    "    \"new_tek_count\",\n",
    "    \"new_tek_devices\",\n",
    "    \"new_tek_count_per_new_tek_device\",\n",
    "    \"new_tek_devices_per_new_case\"\n",
    "]].sort_index(ascending=True).plot.bar(\n",
    "    title=f\"Summary\",\n",
    "    rot=45, subplots=True, figsize=(15, 22), legend=False)\n",
    "ax_ = summary_ax_list[-1]\n",
    "ax_.get_figure().tight_layout()\n",
    "ax_.get_figure().subplots_adjust(top=0.95)\n",
    "ax_.yaxis.set_major_formatter(matplotlib.ticker.PercentFormatter(1.0))\n",
    "_ = ax_.set_xticklabels(sorted(result_summary_df.index.strftime(\"%Y-%m-%d\").tolist()))"
   ]
  },
  {
   "cell_type": "markdown",
   "metadata": {
    "papermill": {
     "duration": 0.249684,
     "end_time": "2020-09-21T06:21:44.329226",
     "exception": false,
     "start_time": "2020-09-21T06:21:44.079542",
     "status": "completed"
    },
    "tags": []
   },
   "source": [
    "### Hourly Summary Plots "
   ]
  },
  {
   "cell_type": "code",
   "execution_count": 34,
   "metadata": {
    "execution": {
     "iopub.execute_input": "2020-09-21T06:21:44.589421Z",
     "iopub.status.busy": "2020-09-21T06:21:44.588097Z",
     "iopub.status.idle": "2020-09-21T06:21:45.088198Z",
     "shell.execute_reply": "2020-09-21T06:21:45.088644Z"
    },
    "papermill": {
     "duration": 0.666955,
     "end_time": "2020-09-21T06:21:45.088813",
     "exception": false,
     "start_time": "2020-09-21T06:21:44.421858",
     "status": "completed"
    },
    "pycharm": {
     "name": "#%%\n"
    },
    "tags": []
   },
   "outputs": [
    {
     "data": {
      "image/png": "[encoded data removed]",
      "text/plain": [
       "<Figure size 1080x432 with 2 Axes>"
      ]
     },
     "metadata": {},
     "output_type": "display_data"
    }
   ],
   "source": [
    "hourly_summary_ax_list = hourly_summary_df.plot.bar(\n",
    "    title=f\"Last 24h Summary\",\n",
    "    rot=45, subplots=True, legend=False)\n",
    "ax_ = hourly_summary_ax_list[-1]\n",
    "ax_.get_figure().tight_layout()\n",
    "ax_.get_figure().subplots_adjust(top=0.9)\n",
    "_ = ax_.set_xticklabels(sorted(hourly_summary_df.index.strftime(\"%Y-%m-%d@%H\").tolist()))"
   ]
  },
  {
   "cell_type": "markdown",
   "metadata": {
    "collapsed": false,
    "papermill": {
     "duration": 0.045623,
     "end_time": "2020-09-21T06:21:45.180233",
     "exception": false,
     "start_time": "2020-09-21T06:21:45.134610",
     "status": "completed"
    },
    "tags": []
   },
   "source": [
    "### Multi-Region Summary Table"
   ]
  },
  {
   "cell_type": "code",
   "execution_count": 35,
   "metadata": {
    "collapsed": false,
    "execution": {
     "iopub.execute_input": "2020-09-21T06:21:45.280906Z",
     "iopub.status.busy": "2020-09-21T06:21:45.280303Z",
     "iopub.status.idle": "2020-09-21T06:21:45.282356Z",
     "shell.execute_reply": "2020-09-21T06:21:45.282781Z"
    },
    "papermill": {
     "duration": 0.056549,
     "end_time": "2020-09-21T06:21:45.282949",
     "exception": false,
     "start_time": "2020-09-21T06:21:45.226400",
     "status": "completed"
    },
    "pycharm": {
     "name": "#%%\n"
    },
    "tags": []
   },
   "outputs": [
    {
     "data": {
      "text/html": [
       "<div>\n",
       "<style scoped>\n",
       "    .dataframe tbody tr th:only-of-type {\n",
       "        vertical-align: middle;\n",
       "    }\n",
       "\n",
       "    .dataframe tbody tr th {\n",
       "        vertical-align: top;\n",
       "    }\n",
       "\n",
       "    .dataframe thead tr th {\n",
       "        text-align: left;\n",
       "    }\n",
       "\n",
       "    .dataframe thead tr:last-of-type th {\n",
       "        text-align: right;\n",
       "    }\n",
       "</style>\n",
       "<table border=\"1\" class=\"dataframe\">\n",
       "  <thead>\n",
       "    <tr>\n",
       "      <th></th>\n",
       "      <th>tek_count</th>\n",
       "    </tr>\n",
       "    <tr>\n",
       "      <th>region</th>\n",
       "      <th>ES</th>\n",
       "    </tr>\n",
       "    <tr>\n",
       "      <th>sample_date_string</th>\n",
       "      <th></th>\n",
       "    </tr>\n",
       "  </thead>\n",
       "  <tbody>\n",
       "    <tr>\n",
       "      <th>2020-09-19</th>\n",
       "      <td>48</td>\n",
       "    </tr>\n",
       "    <tr>\n",
       "      <th>2020-09-18</th>\n",
       "      <td>62</td>\n",
       "    </tr>\n",
       "    <tr>\n",
       "      <th>2020-09-17</th>\n",
       "      <td>81</td>\n",
       "    </tr>\n",
       "    <tr>\n",
       "      <th>2020-09-16</th>\n",
       "      <td>85</td>\n",
       "    </tr>\n",
       "    <tr>\n",
       "      <th>2020-09-15</th>\n",
       "      <td>82</td>\n",
       "    </tr>\n",
       "    <tr>\n",
       "      <th>2020-09-14</th>\n",
       "      <td>73</td>\n",
       "    </tr>\n",
       "    <tr>\n",
       "      <th>2020-09-13</th>\n",
       "      <td>75</td>\n",
       "    </tr>\n",
       "    <tr>\n",
       "      <th>2020-09-12</th>\n",
       "      <td>67</td>\n",
       "    </tr>\n",
       "    <tr>\n",
       "      <th>2020-09-11</th>\n",
       "      <td>75</td>\n",
       "    </tr>\n",
       "    <tr>\n",
       "      <th>2020-09-10</th>\n",
       "      <td>68</td>\n",
       "    </tr>\n",
       "    <tr>\n",
       "      <th>2020-09-09</th>\n",
       "      <td>60</td>\n",
       "    </tr>\n",
       "    <tr>\n",
       "      <th>2020-09-08</th>\n",
       "      <td>61</td>\n",
       "    </tr>\n",
       "  </tbody>\n",
       "</table>\n",
       "</div>"
      ],
      "text/plain": [
       "                   tek_count\n",
       "region                    ES\n",
       "sample_date_string          \n",
       "2020-09-19                48\n",
       "2020-09-18                62\n",
       "2020-09-17                81\n",
       "2020-09-16                85\n",
       "2020-09-15                82\n",
       "2020-09-14                73\n",
       "2020-09-13                75\n",
       "2020-09-12                67\n",
       "2020-09-11                75\n",
       "2020-09-10                68\n",
       "2020-09-09                60\n",
       "2020-09-08                61"
      ]
     },
     "execution_count": 35,
     "metadata": {},
     "output_type": "execute_result"
    }
   ],
   "source": [
    "multi_region_summary_df"
   ]
  },
  {
   "cell_type": "markdown",
   "metadata": {
    "papermill": {
     "duration": 0.045475,
     "end_time": "2020-09-21T06:21:45.373607",
     "exception": false,
     "start_time": "2020-09-21T06:21:45.328132",
     "status": "completed"
    },
    "tags": []
   },
   "source": [
    "### Publish Results"
   ]
  },
  {
   "cell_type": "code",
   "execution_count": 36,
   "metadata": {
    "execution": {
     "iopub.execute_input": "2020-09-21T06:21:45.478038Z",
     "iopub.status.busy": "2020-09-21T06:21:45.477467Z",
     "iopub.status.idle": "2020-09-21T06:22:01.765045Z",
     "shell.execute_reply": "2020-09-21T06:22:01.764485Z"
    },
    "papermill": {
     "duration": 16.345919,
     "end_time": "2020-09-21T06:22:01.765176",
     "exception": false,
     "start_time": "2020-09-21T06:21:45.419257",
     "status": "completed"
    },
    "pycharm": {
     "name": "#%%\n"
    },
    "tags": []
   },
   "outputs": [],
   "source": [
    "def get_temporary_image_path() -> str:\n",
    "    return os.path.join(tempfile.gettempdir(), str(uuid.uuid4()) + \".png\")\n",
    "\n",
    "def save_temporary_plot_image(ax):\n",
    "    if isinstance(ax, np.ndarray):\n",
    "        ax = ax[0]\n",
    "    media_path = get_temporary_image_path()\n",
    "    ax.get_figure().savefig(media_path)\n",
    "    return media_path\n",
    "\n",
    "def save_temporary_dataframe_image(df):\n",
    "    media_path = get_temporary_image_path()\n",
    "    dfi.export(df, media_path)\n",
    "    return media_path\n",
    "\n",
    "summary_plots_image_path = save_temporary_plot_image(ax=summary_ax_list)\n",
    "summary_table_image_path = save_temporary_dataframe_image(df=result_summary_df)\n",
    "hourly_summary_plots_image_path = save_temporary_plot_image(ax=hourly_summary_ax_list)\n",
    "multi_region_summary_table_image_path = save_temporary_dataframe_image(df=multi_region_summary_df)"
   ]
  },
  {
   "cell_type": "markdown",
   "metadata": {
    "papermill": {
     "duration": 0.045764,
     "end_time": "2020-09-21T06:22:01.855715",
     "exception": false,
     "start_time": "2020-09-21T06:22:01.809951",
     "status": "completed"
    },
    "tags": []
   },
   "source": [
    "### Save Results"
   ]
  },
  {
   "cell_type": "code",
   "execution_count": 37,
   "metadata": {
    "execution": {
     "iopub.execute_input": "2020-09-21T06:22:01.953111Z",
     "iopub.status.busy": "2020-09-21T06:22:01.951967Z",
     "iopub.status.idle": "2020-09-21T06:22:01.967483Z",
     "shell.execute_reply": "2020-09-21T06:22:01.966920Z"
    },
    "papermill": {
     "duration": 0.067096,
     "end_time": "2020-09-21T06:22:01.967611",
     "exception": false,
     "start_time": "2020-09-21T06:22:01.900515",
     "status": "completed"
    },
    "pycharm": {
     "name": "#%%\n"
    },
    "tags": []
   },
   "outputs": [],
   "source": [
    "report_resources_path_prefix = \"Data/Resources/Current/RadarCOVID-Report-\"\n",
    "result_summary_df.to_csv(report_resources_path_prefix + \"Summary-Table.csv\")\n",
    "result_summary_df.to_html(report_resources_path_prefix + \"Summary-Table.html\")\n",
    "multi_region_summary_df.to_csv(report_resources_path_prefix + \"Multi-Region-Summary-Table.csv\")\n",
    "_ = shutil.copyfile(summary_plots_image_path, report_resources_path_prefix + \"Summary-Plots.png\")\n",
    "_ = shutil.copyfile(summary_table_image_path, report_resources_path_prefix + \"Summary-Table.png\")\n",
    "_ = shutil.copyfile(hourly_summary_plots_image_path, report_resources_path_prefix + \"Hourly-Summary-Plots.png\")\n",
    "_ = shutil.copyfile(multi_region_summary_table_image_path, report_resources_path_prefix + \"Multi-Region-Summary-Table.png\")\n",
    "\n",
    "report_daily_url_pattern = \\\n",
    "    \"https://github.com/pvieito/RadarCOVID-Report/blob/master/Notebooks/\" \\\n",
    "    \"RadarCOVID-Report/{report_type}/RadarCOVID-Report-{report_date}.ipynb\"\n",
    "report_daily_url = report_daily_url_pattern.format(\n",
    "    report_type=\"Daily\", report_date=extraction_date)\n",
    "report_hourly_url = report_daily_url_pattern.format(\n",
    "    report_type=\"Hourly\", report_date=extraction_date_with_hour)"
   ]
  },
  {
   "cell_type": "markdown",
   "metadata": {
    "papermill": {
     "duration": 0.044996,
     "end_time": "2020-09-21T06:22:02.058249",
     "exception": false,
     "start_time": "2020-09-21T06:22:02.013253",
     "status": "completed"
    },
    "tags": []
   },
   "source": [
    "### Publish on README"
   ]
  },
  {
   "cell_type": "code",
   "execution_count": 38,
   "metadata": {
    "execution": {
     "iopub.execute_input": "2020-09-21T06:22:02.160870Z",
     "iopub.status.busy": "2020-09-21T06:22:02.159453Z",
     "iopub.status.idle": "2020-09-21T06:22:02.164044Z",
     "shell.execute_reply": "2020-09-21T06:22:02.163540Z"
    },
    "papermill": {
     "duration": 0.061146,
     "end_time": "2020-09-21T06:22:02.164171",
     "exception": false,
     "start_time": "2020-09-21T06:22:02.103025",
     "status": "completed"
    },
    "pycharm": {
     "name": "#%%\n"
    },
    "tags": []
   },
   "outputs": [],
   "source": [
    "with open(\"Data/Templates/README.md\", \"r\") as f:\n",
    "    readme_contents = f.read()\n",
    "\n",
    "summary_table_html = result_summary_df.to_html()\n",
    "multi_region_summary_table_html = multi_region_summary_df.to_html()\n",
    "readme_contents = readme_contents.format(\n",
    "    summary_table_html=summary_table_html,\n",
    "    multi_region_summary_table_html=multi_region_summary_table_html,\n",
    "    report_url_with_hour=report_hourly_url,\n",
    "    extraction_date_with_hour=extraction_date_with_hour)\n",
    "\n",
    "with open(\"README.md\", \"w\") as f:\n",
    "    f.write(readme_contents)"
   ]
  },
  {
   "cell_type": "markdown",
   "metadata": {
    "papermill": {
     "duration": 0.044939,
     "end_time": "2020-09-21T06:22:02.256679",
     "exception": false,
     "start_time": "2020-09-21T06:22:02.211740",
     "status": "completed"
    },
    "pycharm": {
     "name": "#%% md\n"
    },
    "tags": []
   },
   "source": [
    "### Publish on Twitter"
   ]
  },
  {
   "cell_type": "code",
   "execution_count": 39,
   "metadata": {
    "execution": {
     "iopub.execute_input": "2020-09-21T06:22:02.356452Z",
     "iopub.status.busy": "2020-09-21T06:22:02.355817Z",
     "iopub.status.idle": "2020-09-21T06:22:05.549976Z",
     "shell.execute_reply": "2020-09-21T06:22:05.549437Z"
    },
    "papermill": {
     "duration": 3.249133,
     "end_time": "2020-09-21T06:22:05.550116",
     "exception": false,
     "start_time": "2020-09-21T06:22:02.300983",
     "status": "completed"
    },
    "pycharm": {
     "name": "#%%\n"
    },
    "tags": []
   },
   "outputs": [],
   "source": [
    "enable_share_to_twitter = os.environ.get(\"RADARCOVID_REPORT__ENABLE_PUBLISH_ON_TWITTER\")\n",
    "github_event_name = os.environ.get(\"GITHUB_EVENT_NAME\")\n",
    "\n",
    "if enable_share_to_twitter and github_event_name == \"schedule\":\n",
    "    import tweepy\n",
    "\n",
    "    twitter_api_auth_keys = os.environ[\"RADARCOVID_REPORT__TWITTER_API_AUTH_KEYS\"]\n",
    "    twitter_api_auth_keys = twitter_api_auth_keys.split(\":\")\n",
    "    auth = tweepy.OAuthHandler(twitter_api_auth_keys[0], twitter_api_auth_keys[1])\n",
    "    auth.set_access_token(twitter_api_auth_keys[2], twitter_api_auth_keys[3])\n",
    "\n",
    "    api = tweepy.API(auth)\n",
    "\n",
    "    summary_plots_media = api.media_upload(summary_plots_image_path)\n",
    "    summary_table_media = api.media_upload(summary_table_image_path)\n",
    "    hourly_summary_plots_media = api.media_upload(hourly_summary_plots_image_path)\n",
    "    media_ids = [\n",
    "        summary_plots_media.media_id,\n",
    "        summary_table_media.media_id,\n",
    "        hourly_summary_plots_media.media_id,\n",
    "    ]\n",
    "\n",
    "    extraction_date_result_summary_df = \\\n",
    "        result_summary_df[result_summary_df.index == extraction_date]\n",
    "    extraction_date_result_hourly_summary_df = \\\n",
    "        hourly_summary_df[hourly_summary_df.extraction_date_with_hour == extraction_date_with_hour]\n",
    "\n",
    "    new_teks = extraction_date_result_summary_df.new_tek_count.sum().astype(int)\n",
    "    new_teks_last_hour = extraction_date_result_hourly_summary_df.new_tek_count.sum().astype(int)\n",
    "    new_devices = extraction_date_result_summary_df.new_tek_devices.sum().astype(int)\n",
    "    new_devices_last_hour = extraction_date_result_hourly_summary_df.new_tek_devices.sum().astype(int)\n",
    "    new_tek_count_per_new_tek_device = \\\n",
    "        extraction_date_result_summary_df.new_tek_count_per_new_tek_device.sum()\n",
    "    new_tek_devices_per_new_case = \\\n",
    "        extraction_date_result_summary_df.new_tek_devices_per_new_case.sum()\n",
    "\n",
    "    status = textwrap.dedent(f\"\"\"\n",
    "        Report Update – {extraction_date_with_hour}\n",
    "        #ExposureNotification #RadarCOVID\n",
    "\n",
    "        Shared Diagnoses Day Summary:\n",
    "        - New TEKs: {new_teks} ({new_teks_last_hour:+d} last hour)\n",
    "        - New Devices: {new_devices} ({new_devices_last_hour:+d} last hour, {new_tek_count_per_new_tek_device:.2} TEKs/device)\n",
    "        - Usage Ratio: {new_tek_devices_per_new_case:.2%} devices/case\n",
    "\n",
    "        Report Link: {report_hourly_url}\n",
    "        \"\"\")\n",
    "    status = status.encode(encoding=\"utf-8\")\n",
    "    api.update_status(status=status, media_ids=media_ids)"
   ]
  }
 ],
 "metadata": {
  "kernelspec": {
   "display_name": "Python 3",
   "language": "python",
   "name": "python3"
  },
  "language_info": {
   "codemirror_mode": {
    "name": "ipython",
    "version": 3
   },
   "file_extension": ".py",
   "mimetype": "text/x-python",
   "name": "python",
   "nbconvert_exporter": "python",
   "pygments_lexer": "ipython3",
   "version": "3.8.5"
  },
  "papermill": {
   "duration": 35.69367,
   "end_time": "2020-09-21T06:22:06.106181",
   "environment_variables": {},
   "exception": null,
   "input_path": "Notebooks/RadarCOVID-Report/Source/RadarCOVID-Report.ipynb",
   "output_path": "RadarCOVID-Report.ipynb",
   "parameters": {},
   "start_time": "2020-09-21T06:21:30.412511",
   "version": "2.1.3"
  }
 },
 "nbformat": 4,
 "nbformat_minor": 1
}