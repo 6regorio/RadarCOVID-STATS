{
 "cells": [
  {
   "cell_type": "markdown",
   "metadata": {
    "papermill": {
     "duration": 0.028223,
     "end_time": "2020-09-14T14:20:01.322009",
     "exception": false,
     "start_time": "2020-09-14T14:20:01.293786",
     "status": "completed"
    },
    "pycharm": {
     "name": "#%% md\n"
    },
    "tags": []
   },
   "source": [
    "# RadarCOVID-Report"
   ]
  },
  {
   "cell_type": "markdown",
   "metadata": {
    "collapsed": true,
    "papermill": {
     "duration": 0.026703,
     "end_time": "2020-09-14T14:20:01.377118",
     "exception": false,
     "start_time": "2020-09-14T14:20:01.350415",
     "status": "completed"
    },
    "pycharm": {
     "name": "#%% md\n"
    },
    "tags": []
   },
   "source": [
    "## Data Extraction"
   ]
  },
  {
   "cell_type": "code",
   "execution_count": 1,
   "metadata": {
    "execution": {
     "iopub.execute_input": "2020-09-14T14:20:01.433739Z",
     "iopub.status.busy": "2020-09-14T14:20:01.433133Z",
     "iopub.status.idle": "2020-09-14T14:20:05.224369Z",
     "shell.execute_reply": "2020-09-14T14:20:05.223213Z"
    },
    "papermill": {
     "duration": 3.820674,
     "end_time": "2020-09-14T14:20:05.224563",
     "exception": false,
     "start_time": "2020-09-14T14:20:01.403889",
     "status": "completed"
    },
    "pycharm": {
     "name": "#%%\n"
    },
    "tags": []
   },
   "outputs": [],
   "source": [
    "import datetime\n",
    "import logging\n",
    "import os\n",
    "import shutil\n",
    "import tempfile\n",
    "import textwrap\n",
    "import uuid\n",
    "\n",
    "import dataframe_image as dfi\n",
    "import matplotlib.ticker\n",
    "import numpy as np\n",
    "import pandas as pd\n",
    "import seaborn as sns\n",
    "\n",
    "%matplotlib inline"
   ]
  },
  {
   "cell_type": "code",
   "execution_count": 2,
   "metadata": {
    "execution": {
     "iopub.execute_input": "2020-09-14T14:20:05.286895Z",
     "iopub.status.busy": "2020-09-14T14:20:05.285911Z",
     "iopub.status.idle": "2020-09-14T14:20:05.287916Z",
     "shell.execute_reply": "2020-09-14T14:20:05.288656Z"
    },
    "papermill": {
     "duration": 0.040336,
     "end_time": "2020-09-14T14:20:05.288908",
     "exception": false,
     "start_time": "2020-09-14T14:20:05.248572",
     "status": "completed"
    },
    "pycharm": {
     "name": "#%%\n"
    },
    "tags": []
   },
   "outputs": [],
   "source": [
    "sns.set()\n",
    "matplotlib.rcParams['figure.figsize'] = (15, 6)\n",
    "\n",
    "extraction_datetime = datetime.datetime.utcnow()\n",
    "extraction_date = extraction_datetime.strftime(\"%Y-%m-%d\")\n",
    "extraction_previous_datetime = extraction_datetime - datetime.timedelta(days=1)\n",
    "extraction_previous_date = extraction_previous_datetime.strftime(\"%Y-%m-%d\")\n",
    "extraction_date_with_hour = datetime.datetime.utcnow().strftime(\"%Y-%m-%d@%H\")"
   ]
  },
  {
   "cell_type": "markdown",
   "metadata": {
    "papermill": {
     "duration": 0.022692,
     "end_time": "2020-09-14T14:20:05.334489",
     "exception": false,
     "start_time": "2020-09-14T14:20:05.311797",
     "status": "completed"
    },
    "tags": []
   },
   "source": [
    "### COVID-19 Cases"
   ]
  },
  {
   "cell_type": "code",
   "execution_count": 3,
   "metadata": {
    "execution": {
     "iopub.execute_input": "2020-09-14T14:20:05.386457Z",
     "iopub.status.busy": "2020-09-14T14:20:05.385856Z",
     "iopub.status.idle": "2020-09-14T14:20:05.786201Z",
     "shell.execute_reply": "2020-09-14T14:20:05.785414Z"
    },
    "papermill": {
     "duration": 0.429206,
     "end_time": "2020-09-14T14:20:05.786339",
     "exception": false,
     "start_time": "2020-09-14T14:20:05.357133",
     "status": "completed"
    },
    "pycharm": {
     "name": "#%%\n"
    },
    "tags": []
   },
   "outputs": [],
   "source": [
    "confirmed_df = pd.read_csv(\"https://covid19tracking.narrativa.com/csv/confirmed.csv\")\n",
    "\n",
    "radar_covid_countries = {\"Spain\"}\n",
    "# radar_covid_regions = { ... }\n",
    "\n",
    "confirmed_df = confirmed_df[confirmed_df[\"Country_EN\"].isin(radar_covid_countries)]\n",
    "# confirmed_df = confirmed_df[confirmed_df[\"Region\"].isin(radar_covid_regions)]\n",
    "# set(confirmed_df.Region.tolist()) == radar_covid_regions"
   ]
  },
  {
   "cell_type": "code",
   "execution_count": 4,
   "metadata": {
    "collapsed": false,
    "execution": {
     "iopub.execute_input": "2020-09-14T14:20:05.838334Z",
     "iopub.status.busy": "2020-09-14T14:20:05.837759Z",
     "iopub.status.idle": "2020-09-14T14:20:05.848228Z",
     "shell.execute_reply": "2020-09-14T14:20:05.848663Z"
    },
    "papermill": {
     "duration": 0.039642,
     "end_time": "2020-09-14T14:20:05.848825",
     "exception": false,
     "start_time": "2020-09-14T14:20:05.809183",
     "status": "completed"
    },
    "pycharm": {
     "name": "#%%\n"
    },
    "tags": []
   },
   "outputs": [
    {
     "data": {
      "text/html": [
       "<div>\n",
       "<style scoped>\n",
       "    .dataframe tbody tr th:only-of-type {\n",
       "        vertical-align: middle;\n",
       "    }\n",
       "\n",
       "    .dataframe tbody tr th {\n",
       "        vertical-align: top;\n",
       "    }\n",
       "\n",
       "    .dataframe thead th {\n",
       "        text-align: right;\n",
       "    }\n",
       "</style>\n",
       "<table border=\"1\" class=\"dataframe\">\n",
       "  <thead>\n",
       "    <tr style=\"text-align: right;\">\n",
       "      <th></th>\n",
       "      <th>0</th>\n",
       "    </tr>\n",
       "  </thead>\n",
       "  <tbody>\n",
       "    <tr>\n",
       "      <th>2020-09-09</th>\n",
       "      <td>1086758.0</td>\n",
       "    </tr>\n",
       "    <tr>\n",
       "      <th>2020-09-10</th>\n",
       "      <td>1108286.0</td>\n",
       "    </tr>\n",
       "    <tr>\n",
       "      <th>2020-09-11</th>\n",
       "      <td>1132652.0</td>\n",
       "    </tr>\n",
       "    <tr>\n",
       "      <th>2020-09-12</th>\n",
       "      <td>1132652.0</td>\n",
       "    </tr>\n",
       "    <tr>\n",
       "      <th>2020-09-13</th>\n",
       "      <td>1132652.0</td>\n",
       "    </tr>\n",
       "  </tbody>\n",
       "</table>\n",
       "</div>"
      ],
      "text/plain": [
       "                    0\n",
       "2020-09-09  1086758.0\n",
       "2020-09-10  1108286.0\n",
       "2020-09-11  1132652.0\n",
       "2020-09-12  1132652.0\n",
       "2020-09-13  1132652.0"
      ]
     },
     "execution_count": 4,
     "metadata": {},
     "output_type": "execute_result"
    }
   ],
   "source": [
    "confirmed_country_columns = list(filter(lambda x: x.startswith(\"Country_\"), confirmed_df.columns))\n",
    "confirmed_regional_columns = confirmed_country_columns + [\"Region\"]\n",
    "confirmed_df.drop(columns=confirmed_regional_columns, inplace=True)\n",
    "confirmed_df = confirmed_df.sum().to_frame()\n",
    "confirmed_df.tail()"
   ]
  },
  {
   "cell_type": "code",
   "execution_count": 5,
   "metadata": {
    "collapsed": false,
    "execution": {
     "iopub.execute_input": "2020-09-14T14:20:05.902236Z",
     "iopub.status.busy": "2020-09-14T14:20:05.901669Z",
     "iopub.status.idle": "2020-09-14T14:20:05.913299Z",
     "shell.execute_reply": "2020-09-14T14:20:05.913751Z"
    },
    "papermill": {
     "duration": 0.041649,
     "end_time": "2020-09-14T14:20:05.913914",
     "exception": false,
     "start_time": "2020-09-14T14:20:05.872265",
     "status": "completed"
    },
    "pycharm": {
     "name": "#%%\n"
    },
    "tags": []
   },
   "outputs": [
    {
     "data": {
      "text/html": [
       "<div>\n",
       "<style scoped>\n",
       "    .dataframe tbody tr th:only-of-type {\n",
       "        vertical-align: middle;\n",
       "    }\n",
       "\n",
       "    .dataframe tbody tr th {\n",
       "        vertical-align: top;\n",
       "    }\n",
       "\n",
       "    .dataframe thead th {\n",
       "        text-align: right;\n",
       "    }\n",
       "</style>\n",
       "<table border=\"1\" class=\"dataframe\">\n",
       "  <thead>\n",
       "    <tr style=\"text-align: right;\">\n",
       "      <th></th>\n",
       "      <th>sample_date_string</th>\n",
       "      <th>cumulative_cases</th>\n",
       "      <th>new_cases</th>\n",
       "      <th>rolling_mean_new_cases</th>\n",
       "    </tr>\n",
       "  </thead>\n",
       "  <tbody>\n",
       "    <tr>\n",
       "      <th>230</th>\n",
       "      <td>2020-09-09</td>\n",
       "      <td>1086758.0</td>\n",
       "      <td>17732.0</td>\n",
       "      <td>18235.714286</td>\n",
       "    </tr>\n",
       "    <tr>\n",
       "      <th>231</th>\n",
       "      <td>2020-09-10</td>\n",
       "      <td>1108286.0</td>\n",
       "      <td>21528.0</td>\n",
       "      <td>18751.428571</td>\n",
       "    </tr>\n",
       "    <tr>\n",
       "      <th>232</th>\n",
       "      <td>2020-09-11</td>\n",
       "      <td>1132652.0</td>\n",
       "      <td>24366.0</td>\n",
       "      <td>19239.142857</td>\n",
       "    </tr>\n",
       "    <tr>\n",
       "      <th>233</th>\n",
       "      <td>2020-09-12</td>\n",
       "      <td>1132652.0</td>\n",
       "      <td>0.0</td>\n",
       "      <td>19239.142857</td>\n",
       "    </tr>\n",
       "    <tr>\n",
       "      <th>234</th>\n",
       "      <td>2020-09-13</td>\n",
       "      <td>1132652.0</td>\n",
       "      <td>0.0</td>\n",
       "      <td>19239.142857</td>\n",
       "    </tr>\n",
       "  </tbody>\n",
       "</table>\n",
       "</div>"
      ],
      "text/plain": [
       "    sample_date_string  cumulative_cases  new_cases  rolling_mean_new_cases\n",
       "230         2020-09-09         1086758.0    17732.0            18235.714286\n",
       "231         2020-09-10         1108286.0    21528.0            18751.428571\n",
       "232         2020-09-11         1132652.0    24366.0            19239.142857\n",
       "233         2020-09-12         1132652.0        0.0            19239.142857\n",
       "234         2020-09-13         1132652.0        0.0            19239.142857"
      ]
     },
     "execution_count": 5,
     "metadata": {},
     "output_type": "execute_result"
    }
   ],
   "source": [
    "confirmed_df.reset_index(inplace=True)\n",
    "confirmed_df.columns = [\"sample_date_string\", \"cumulative_cases\"]\n",
    "confirmed_df.sort_values(\"sample_date_string\", inplace=True)\n",
    "confirmed_df[\"new_cases\"] = confirmed_df.cumulative_cases.diff()\n",
    "confirmed_df[\"rolling_mean_new_cases\"] = confirmed_df.new_cases.rolling(7).mean()\n",
    "confirmed_df.tail()"
   ]
  },
  {
   "cell_type": "code",
   "execution_count": 6,
   "metadata": {
    "execution": {
     "iopub.execute_input": "2020-09-14T14:20:05.969743Z",
     "iopub.status.busy": "2020-09-14T14:20:05.969117Z",
     "iopub.status.idle": "2020-09-14T14:20:05.980748Z",
     "shell.execute_reply": "2020-09-14T14:20:05.980291Z"
    },
    "papermill": {
     "duration": 0.04324,
     "end_time": "2020-09-14T14:20:05.980886",
     "exception": false,
     "start_time": "2020-09-14T14:20:05.937646",
     "status": "completed"
    },
    "pycharm": {
     "name": "#%%\n"
    },
    "tags": []
   },
   "outputs": [
    {
     "data": {
      "text/html": [
       "<div>\n",
       "<style scoped>\n",
       "    .dataframe tbody tr th:only-of-type {\n",
       "        vertical-align: middle;\n",
       "    }\n",
       "\n",
       "    .dataframe tbody tr th {\n",
       "        vertical-align: top;\n",
       "    }\n",
       "\n",
       "    .dataframe thead th {\n",
       "        text-align: right;\n",
       "    }\n",
       "</style>\n",
       "<table border=\"1\" class=\"dataframe\">\n",
       "  <thead>\n",
       "    <tr style=\"text-align: right;\">\n",
       "      <th></th>\n",
       "      <th>sample_date_string</th>\n",
       "      <th>cumulative_cases</th>\n",
       "      <th>new_cases</th>\n",
       "      <th>rolling_mean_new_cases</th>\n",
       "    </tr>\n",
       "  </thead>\n",
       "  <tbody>\n",
       "    <tr>\n",
       "      <th>231</th>\n",
       "      <td>2020-09-10</td>\n",
       "      <td>1.108286e+06</td>\n",
       "      <td>21528.000000</td>\n",
       "      <td>18751.428571</td>\n",
       "    </tr>\n",
       "    <tr>\n",
       "      <th>232</th>\n",
       "      <td>2020-09-11</td>\n",
       "      <td>1.132652e+06</td>\n",
       "      <td>24366.000000</td>\n",
       "      <td>19239.142857</td>\n",
       "    </tr>\n",
       "    <tr>\n",
       "      <th>233</th>\n",
       "      <td>2020-09-12</td>\n",
       "      <td>1.132652e+06</td>\n",
       "      <td>0.000000</td>\n",
       "      <td>19239.142857</td>\n",
       "    </tr>\n",
       "    <tr>\n",
       "      <th>234</th>\n",
       "      <td>2020-09-13</td>\n",
       "      <td>1.132652e+06</td>\n",
       "      <td>0.000000</td>\n",
       "      <td>19239.142857</td>\n",
       "    </tr>\n",
       "    <tr>\n",
       "      <th>234</th>\n",
       "      <td>2020-09-14</td>\n",
       "      <td>1.151891e+06</td>\n",
       "      <td>19239.142857</td>\n",
       "      <td>19239.142857</td>\n",
       "    </tr>\n",
       "  </tbody>\n",
       "</table>\n",
       "</div>"
      ],
      "text/plain": [
       "    sample_date_string  cumulative_cases     new_cases  rolling_mean_new_cases\n",
       "231         2020-09-10      1.108286e+06  21528.000000            18751.428571\n",
       "232         2020-09-11      1.132652e+06  24366.000000            19239.142857\n",
       "233         2020-09-12      1.132652e+06      0.000000            19239.142857\n",
       "234         2020-09-13      1.132652e+06      0.000000            19239.142857\n",
       "234         2020-09-14      1.151891e+06  19239.142857            19239.142857"
      ]
     },
     "execution_count": 6,
     "metadata": {},
     "output_type": "execute_result"
    }
   ],
   "source": [
    "extraction_date_confirmed_df = \\\n",
    "    confirmed_df[confirmed_df.sample_date_string == extraction_date]\n",
    "extraction_previous_date_confirmed_df = \\\n",
    "    confirmed_df[confirmed_df.sample_date_string == extraction_previous_date].copy()\n",
    "\n",
    "if extraction_date_confirmed_df.empty and \\\n",
    "    not extraction_previous_date_confirmed_df.empty:\n",
    "        extraction_previous_date_confirmed_df[\"sample_date_string\"] = extraction_date\n",
    "        extraction_previous_date_confirmed_df[\"new_cases\"] = \\\n",
    "            extraction_previous_date_confirmed_df.rolling_mean_new_cases\n",
    "        extraction_previous_date_confirmed_df[\"cumulative_cases\"] = \\\n",
    "            extraction_previous_date_confirmed_df.new_cases + \\\n",
    "            extraction_previous_date_confirmed_df.cumulative_cases\n",
    "        confirmed_df = confirmed_df.append(extraction_previous_date_confirmed_df)\n",
    "        \n",
    "confirmed_df.tail()"
   ]
  },
  {
   "cell_type": "code",
   "execution_count": 7,
   "metadata": {
    "execution": {
     "iopub.execute_input": "2020-09-14T14:20:06.037906Z",
     "iopub.status.busy": "2020-09-14T14:20:06.037323Z",
     "iopub.status.idle": "2020-09-14T14:20:06.237075Z",
     "shell.execute_reply": "2020-09-14T14:20:06.237632Z"
    },
    "papermill": {
     "duration": 0.232939,
     "end_time": "2020-09-14T14:20:06.237800",
     "exception": false,
     "start_time": "2020-09-14T14:20:06.004861",
     "status": "completed"
    },
    "pycharm": {
     "name": "#%%\n"
    },
    "tags": []
   },
   "outputs": [
    {
     "data": {
      "text/plain": [
       "<matplotlib.axes._subplots.AxesSubplot at 0x7f18a49638e0>"
      ]
     },
     "execution_count": 7,
     "metadata": {},
     "output_type": "execute_result"
    },
    {
     "data": {
      "image/png": "[encoded data removed]",
      "text/plain": [
       "<Figure size 1080x432 with 1 Axes>"
      ]
     },
     "metadata": {},
     "output_type": "display_data"
    }
   ],
   "source": [
    "confirmed_df[[\"new_cases\", \"rolling_mean_new_cases\"]].plot()"
   ]
  },
  {
   "cell_type": "markdown",
   "metadata": {
    "execution": {
     "iopub.execute_input": "2020-08-30T22:30:16.351238Z",
     "iopub.status.busy": "2020-08-30T22:30:16.344579Z",
     "iopub.status.idle": "2020-08-30T22:30:16.354285Z",
     "shell.execute_reply": "2020-08-30T22:30:16.353641Z"
    },
    "papermill": {
     "duration": 0.025898,
     "end_time": "2020-09-14T14:20:06.289793",
     "exception": false,
     "start_time": "2020-09-14T14:20:06.263895",
     "status": "completed"
    },
    "pycharm": {
     "name": "#%% md\n"
    },
    "tags": []
   },
   "source": [
    "### Extract API TEKs"
   ]
  },
  {
   "cell_type": "code",
   "execution_count": 8,
   "metadata": {
    "execution": {
     "iopub.execute_input": "2020-09-14T14:20:06.346239Z",
     "iopub.status.busy": "2020-09-14T14:20:06.345603Z",
     "iopub.status.idle": "2020-09-14T14:20:06.979927Z",
     "shell.execute_reply": "2020-09-14T14:20:06.980375Z"
    },
    "papermill": {
     "duration": 0.665006,
     "end_time": "2020-09-14T14:20:06.980539",
     "exception": false,
     "start_time": "2020-09-14T14:20:06.315533",
     "status": "completed"
    },
    "pycharm": {
     "name": "#%%\n"
    },
    "tags": []
   },
   "outputs": [
    {
     "name": "stderr",
     "output_type": "stream",
     "text": [
      "WARNING:root:NoDataFoundForDateException(\"No exposed tokens found for day '2020-09-14'.\")\n"
     ]
    },
    {
     "data": {
      "text/html": [
       "<div>\n",
       "<style scoped>\n",
       "    .dataframe tbody tr th:only-of-type {\n",
       "        vertical-align: middle;\n",
       "    }\n",
       "\n",
       "    .dataframe tbody tr th {\n",
       "        vertical-align: top;\n",
       "    }\n",
       "\n",
       "    .dataframe thead th {\n",
       "        text-align: right;\n",
       "    }\n",
       "</style>\n",
       "<table border=\"1\" class=\"dataframe\">\n",
       "  <thead>\n",
       "    <tr style=\"text-align: right;\">\n",
       "      <th></th>\n",
       "      <th>sample_date_string</th>\n",
       "      <th>source_url</th>\n",
       "      <th>region</th>\n",
       "      <th>key_data</th>\n",
       "    </tr>\n",
       "  </thead>\n",
       "  <tbody>\n",
       "    <tr>\n",
       "      <th>0</th>\n",
       "      <td>2020-09-13</td>\n",
       "      <td>https://radarcovid.covid19.gob.es/dp3t/v1/gaen...</td>\n",
       "      <td>ES</td>\n",
       "      <td>0507550e-4550-cc54-d7ce-0dd1993adbec</td>\n",
       "    </tr>\n",
       "    <tr>\n",
       "      <th>1</th>\n",
       "      <td>2020-09-13</td>\n",
       "      <td>https://radarcovid.covid19.gob.es/dp3t/v1/gaen...</td>\n",
       "      <td>ES</td>\n",
       "      <td>9e9e9b06-2a40-ec43-2f7d-ce8b52f96dcd</td>\n",
       "    </tr>\n",
       "    <tr>\n",
       "      <th>2</th>\n",
       "      <td>2020-09-13</td>\n",
       "      <td>https://radarcovid.covid19.gob.es/dp3t/v1/gaen...</td>\n",
       "      <td>ES</td>\n",
       "      <td>2b3051ad-add2-d12a-a3e9-ae15d963c961</td>\n",
       "    </tr>\n",
       "    <tr>\n",
       "      <th>3</th>\n",
       "      <td>2020-09-13</td>\n",
       "      <td>https://radarcovid.covid19.gob.es/dp3t/v1/gaen...</td>\n",
       "      <td>ES</td>\n",
       "      <td>e26fe2e9-658b-1873-a694-2bf4247ecc00</td>\n",
       "    </tr>\n",
       "    <tr>\n",
       "      <th>4</th>\n",
       "      <td>2020-09-13</td>\n",
       "      <td>https://radarcovid.covid19.gob.es/dp3t/v1/gaen...</td>\n",
       "      <td>ES</td>\n",
       "      <td>4d9cca09-694d-1472-cd68-d05e3e916da9</td>\n",
       "    </tr>\n",
       "  </tbody>\n",
       "</table>\n",
       "</div>"
      ],
      "text/plain": [
       "  sample_date_string                                         source_url  \\\n",
       "0         2020-09-13  https://radarcovid.covid19.gob.es/dp3t/v1/gaen...   \n",
       "1         2020-09-13  https://radarcovid.covid19.gob.es/dp3t/v1/gaen...   \n",
       "2         2020-09-13  https://radarcovid.covid19.gob.es/dp3t/v1/gaen...   \n",
       "3         2020-09-13  https://radarcovid.covid19.gob.es/dp3t/v1/gaen...   \n",
       "4         2020-09-13  https://radarcovid.covid19.gob.es/dp3t/v1/gaen...   \n",
       "\n",
       "  region                              key_data  \n",
       "0     ES  0507550e-4550-cc54-d7ce-0dd1993adbec  \n",
       "1     ES  9e9e9b06-2a40-ec43-2f7d-ce8b52f96dcd  \n",
       "2     ES  2b3051ad-add2-d12a-a3e9-ae15d963c961  \n",
       "3     ES  e26fe2e9-658b-1873-a694-2bf4247ecc00  \n",
       "4     ES  4d9cca09-694d-1472-cd68-d05e3e916da9  "
      ]
     },
     "execution_count": 8,
     "metadata": {},
     "output_type": "execute_result"
    }
   ],
   "source": [
    "from Modules.RadarCOVID import radar_covid\n",
    "\n",
    "exposure_keys_df = radar_covid.download_last_radar_covid_exposure_keys(days=14)\n",
    "exposure_keys_df[[\n",
    "    \"sample_date_string\", \"source_url\", \"region\", \"key_data\"]].head()"
   ]
  },
  {
   "cell_type": "code",
   "execution_count": 9,
   "metadata": {
    "execution": {
     "iopub.execute_input": "2020-09-14T14:20:07.050238Z",
     "iopub.status.busy": "2020-09-14T14:20:07.049510Z",
     "iopub.status.idle": "2020-09-14T14:20:07.061210Z",
     "shell.execute_reply": "2020-09-14T14:20:07.060665Z"
    },
    "papermill": {
     "duration": 0.051198,
     "end_time": "2020-09-14T14:20:07.061351",
     "exception": false,
     "start_time": "2020-09-14T14:20:07.010153",
     "status": "completed"
    },
    "scrolled": false,
    "tags": []
   },
   "outputs": [
    {
     "data": {
      "text/html": [
       "<div>\n",
       "<style scoped>\n",
       "    .dataframe tbody tr th:only-of-type {\n",
       "        vertical-align: middle;\n",
       "    }\n",
       "\n",
       "    .dataframe tbody tr th {\n",
       "        vertical-align: top;\n",
       "    }\n",
       "\n",
       "    .dataframe thead th {\n",
       "        text-align: right;\n",
       "    }\n",
       "</style>\n",
       "<table border=\"1\" class=\"dataframe\">\n",
       "  <thead>\n",
       "    <tr style=\"text-align: right;\">\n",
       "      <th></th>\n",
       "      <th>tek_count</th>\n",
       "    </tr>\n",
       "    <tr>\n",
       "      <th>sample_date_string</th>\n",
       "      <th></th>\n",
       "    </tr>\n",
       "  </thead>\n",
       "  <tbody>\n",
       "    <tr>\n",
       "      <th>2020-09-13</th>\n",
       "      <td>26</td>\n",
       "    </tr>\n",
       "    <tr>\n",
       "      <th>2020-09-12</th>\n",
       "      <td>39</td>\n",
       "    </tr>\n",
       "    <tr>\n",
       "      <th>2020-09-11</th>\n",
       "      <td>57</td>\n",
       "    </tr>\n",
       "    <tr>\n",
       "      <th>2020-09-10</th>\n",
       "      <td>59</td>\n",
       "    </tr>\n",
       "    <tr>\n",
       "      <th>2020-09-09</th>\n",
       "      <td>59</td>\n",
       "    </tr>\n",
       "  </tbody>\n",
       "</table>\n",
       "</div>"
      ],
      "text/plain": [
       "                    tek_count\n",
       "sample_date_string           \n",
       "2020-09-13                 26\n",
       "2020-09-12                 39\n",
       "2020-09-11                 57\n",
       "2020-09-10                 59\n",
       "2020-09-09                 59"
      ]
     },
     "execution_count": 9,
     "metadata": {},
     "output_type": "execute_result"
    }
   ],
   "source": [
    "exposure_keys_summary_df = \\\n",
    "    exposure_keys_df.groupby([\"sample_date_string\"]).key_data.nunique().to_frame()\n",
    "exposure_keys_summary_df.sort_index(ascending=False, inplace=True)\n",
    "exposure_keys_summary_df.rename(columns={\"key_data\": \"tek_count\"}, inplace=True)\n",
    "exposure_keys_summary_df.head()"
   ]
  },
  {
   "cell_type": "markdown",
   "metadata": {
    "papermill": {
     "duration": 0.026712,
     "end_time": "2020-09-14T14:20:07.115010",
     "exception": false,
     "start_time": "2020-09-14T14:20:07.088298",
     "status": "completed"
    },
    "tags": []
   },
   "source": [
    "### Dump API TEKs"
   ]
  },
  {
   "cell_type": "code",
   "execution_count": 10,
   "metadata": {
    "execution": {
     "iopub.execute_input": "2020-09-14T14:20:07.182390Z",
     "iopub.status.busy": "2020-09-14T14:20:07.181550Z",
     "iopub.status.idle": "2020-09-14T14:20:07.203912Z",
     "shell.execute_reply": "2020-09-14T14:20:07.204390Z"
    },
    "papermill": {
     "duration": 0.062601,
     "end_time": "2020-09-14T14:20:07.204555",
     "exception": false,
     "start_time": "2020-09-14T14:20:07.141954",
     "status": "completed"
    },
    "tags": []
   },
   "outputs": [
    {
     "data": {
      "text/html": [
       "<div>\n",
       "<style scoped>\n",
       "    .dataframe tbody tr th:only-of-type {\n",
       "        vertical-align: middle;\n",
       "    }\n",
       "\n",
       "    .dataframe tbody tr th {\n",
       "        vertical-align: top;\n",
       "    }\n",
       "\n",
       "    .dataframe thead th {\n",
       "        text-align: right;\n",
       "    }\n",
       "</style>\n",
       "<table border=\"1\" class=\"dataframe\">\n",
       "  <thead>\n",
       "    <tr style=\"text-align: right;\">\n",
       "      <th></th>\n",
       "      <th>sample_date</th>\n",
       "      <th>tek_list</th>\n",
       "      <th>extraction_date</th>\n",
       "      <th>extraction_date_with_hour</th>\n",
       "    </tr>\n",
       "  </thead>\n",
       "  <tbody>\n",
       "    <tr>\n",
       "      <th>0</th>\n",
       "      <td>2020-09-01</td>\n",
       "      <td>[7da1a9b3-7255-c803-f831-d8147b043f11, 5a1ceee...</td>\n",
       "      <td>2020-09-14</td>\n",
       "      <td>2020-09-14@14</td>\n",
       "    </tr>\n",
       "    <tr>\n",
       "      <th>1</th>\n",
       "      <td>2020-09-02</td>\n",
       "      <td>[e7b21385-b031-c811-3c21-c1b59c68345e, 171db28...</td>\n",
       "      <td>2020-09-14</td>\n",
       "      <td>2020-09-14@14</td>\n",
       "    </tr>\n",
       "    <tr>\n",
       "      <th>2</th>\n",
       "      <td>2020-09-03</td>\n",
       "      <td>[a5a9d4ca-e0e9-06e0-7da4-69c63706eb57, ac544fd...</td>\n",
       "      <td>2020-09-14</td>\n",
       "      <td>2020-09-14@14</td>\n",
       "    </tr>\n",
       "    <tr>\n",
       "      <th>3</th>\n",
       "      <td>2020-09-04</td>\n",
       "      <td>[98aa2cae-2aa8-2211-af28-d71ebe061675, a2a0a01...</td>\n",
       "      <td>2020-09-14</td>\n",
       "      <td>2020-09-14@14</td>\n",
       "    </tr>\n",
       "    <tr>\n",
       "      <th>4</th>\n",
       "      <td>2020-09-05</td>\n",
       "      <td>[2630f115-d3d6-6d09-c4c3-761802f15ab9, 6634443...</td>\n",
       "      <td>2020-09-14</td>\n",
       "      <td>2020-09-14@14</td>\n",
       "    </tr>\n",
       "  </tbody>\n",
       "</table>\n",
       "</div>"
      ],
      "text/plain": [
       "  sample_date                                           tek_list  \\\n",
       "0  2020-09-01  [7da1a9b3-7255-c803-f831-d8147b043f11, 5a1ceee...   \n",
       "1  2020-09-02  [e7b21385-b031-c811-3c21-c1b59c68345e, 171db28...   \n",
       "2  2020-09-03  [a5a9d4ca-e0e9-06e0-7da4-69c63706eb57, ac544fd...   \n",
       "3  2020-09-04  [98aa2cae-2aa8-2211-af28-d71ebe061675, a2a0a01...   \n",
       "4  2020-09-05  [2630f115-d3d6-6d09-c4c3-761802f15ab9, 6634443...   \n",
       "\n",
       "  extraction_date extraction_date_with_hour  \n",
       "0      2020-09-14             2020-09-14@14  \n",
       "1      2020-09-14             2020-09-14@14  \n",
       "2      2020-09-14             2020-09-14@14  \n",
       "3      2020-09-14             2020-09-14@14  \n",
       "4      2020-09-14             2020-09-14@14  "
      ]
     },
     "execution_count": 10,
     "metadata": {},
     "output_type": "execute_result"
    }
   ],
   "source": [
    "tek_list_df = exposure_keys_df[[\"sample_date_string\", \"key_data\"]].copy()\n",
    "tek_list_df[\"key_data\"] = tek_list_df[\"key_data\"].apply(str)\n",
    "tek_list_df.rename(columns={\n",
    "    \"sample_date_string\": \"sample_date\",\n",
    "    \"key_data\": \"tek_list\"}, inplace=True)\n",
    "tek_list_df = tek_list_df.groupby(\n",
    "    \"sample_date\").tek_list.unique().reset_index()\n",
    "tek_list_df[\"extraction_date\"] = extraction_date\n",
    "tek_list_df[\"extraction_date_with_hour\"] = extraction_date_with_hour\n",
    "tek_list_df.drop(columns=[\"extraction_date\", \"extraction_date_with_hour\"]).to_json(\n",
    "    \"Data/TEKs/Current/RadarCOVID-TEKs.json\",\n",
    "    lines=True, orient=\"records\")\n",
    "tek_list_df.drop(columns=[\"extraction_date_with_hour\"]).to_json(\n",
    "    \"Data/TEKs/Daily/RadarCOVID-TEKs-\" + extraction_date + \".json\",\n",
    "    lines=True, orient=\"records\")\n",
    "tek_list_df.to_json(\n",
    "    \"Data/TEKs/Hourly/RadarCOVID-TEKs-\" + extraction_date_with_hour + \".json\",\n",
    "    lines=True, orient=\"records\")\n",
    "tek_list_df.head()"
   ]
  },
  {
   "cell_type": "markdown",
   "metadata": {
    "papermill": {
     "duration": 0.027315,
     "end_time": "2020-09-14T14:20:07.259069",
     "exception": false,
     "start_time": "2020-09-14T14:20:07.231754",
     "status": "completed"
    },
    "tags": []
   },
   "source": [
    "### Load TEK Dumps"
   ]
  },
  {
   "cell_type": "code",
   "execution_count": 11,
   "metadata": {
    "execution": {
     "iopub.execute_input": "2020-09-14T14:20:07.319852Z",
     "iopub.status.busy": "2020-09-14T14:20:07.319256Z",
     "iopub.status.idle": "2020-09-14T14:20:07.320812Z",
     "shell.execute_reply": "2020-09-14T14:20:07.321259Z"
    },
    "papermill": {
     "duration": 0.035098,
     "end_time": "2020-09-14T14:20:07.321425",
     "exception": false,
     "start_time": "2020-09-14T14:20:07.286327",
     "status": "completed"
    },
    "tags": []
   },
   "outputs": [],
   "source": [
    "import glob\n",
    "\n",
    "def load_extracted_teks(mode, limit=None) -> pd.DataFrame:\n",
    "    extracted_teks_df = pd.DataFrame()\n",
    "    paths = list(reversed(sorted(glob.glob(f\"Data/TEKs/{mode}/RadarCOVID-TEKs-*.json\"))))\n",
    "    if limit:\n",
    "        paths = paths[:limit]\n",
    "    for path in paths:\n",
    "        logging.info(f\"Loading TEKs from '{path}'...\")\n",
    "        iteration_extracted_teks_df = pd.read_json(path, lines=True)\n",
    "        extracted_teks_df = extracted_teks_df.append(\n",
    "            iteration_extracted_teks_df, sort=False)\n",
    "    return extracted_teks_df"
   ]
  },
  {
   "cell_type": "markdown",
   "metadata": {
    "execution": {
     "iopub.execute_input": "2020-08-30T22:30:16.632967Z",
     "iopub.status.busy": "2020-08-30T22:30:16.632308Z",
     "iopub.status.idle": "2020-08-30T22:30:16.634945Z",
     "shell.execute_reply": "2020-08-30T22:30:16.635575Z"
    },
    "papermill": {
     "duration": 0.027409,
     "end_time": "2020-09-14T14:20:07.379169",
     "exception": false,
     "start_time": "2020-09-14T14:20:07.351760",
     "status": "completed"
    },
    "pycharm": {
     "name": "#%% md\n"
    },
    "tags": []
   },
   "source": [
    "### Daily New TEKs"
   ]
  },
  {
   "cell_type": "code",
   "execution_count": 12,
   "metadata": {
    "execution": {
     "iopub.execute_input": "2020-09-14T14:20:07.440098Z",
     "iopub.status.busy": "2020-09-14T14:20:07.439526Z",
     "iopub.status.idle": "2020-09-14T14:20:07.524523Z",
     "shell.execute_reply": "2020-09-14T14:20:07.524968Z"
    },
    "papermill": {
     "duration": 0.118642,
     "end_time": "2020-09-14T14:20:07.525142",
     "exception": false,
     "start_time": "2020-09-14T14:20:07.406500",
     "status": "completed"
    },
    "tags": []
   },
   "outputs": [
    {
     "data": {
      "text/html": [
       "<div>\n",
       "<style scoped>\n",
       "    .dataframe tbody tr th:only-of-type {\n",
       "        vertical-align: middle;\n",
       "    }\n",
       "\n",
       "    .dataframe tbody tr th {\n",
       "        vertical-align: top;\n",
       "    }\n",
       "\n",
       "    .dataframe thead th {\n",
       "        text-align: right;\n",
       "    }\n",
       "</style>\n",
       "<table border=\"1\" class=\"dataframe\">\n",
       "  <thead>\n",
       "    <tr style=\"text-align: right;\">\n",
       "      <th></th>\n",
       "      <th>sample_date</th>\n",
       "      <th>tek_list</th>\n",
       "      <th>extraction_date</th>\n",
       "    </tr>\n",
       "  </thead>\n",
       "  <tbody>\n",
       "    <tr>\n",
       "      <th>0</th>\n",
       "      <td>2020-09-01</td>\n",
       "      <td>[7da1a9b3-7255-c803-f831-d8147b043f11, 5a1ceee...</td>\n",
       "      <td>2020-09-14</td>\n",
       "    </tr>\n",
       "    <tr>\n",
       "      <th>1</th>\n",
       "      <td>2020-09-02</td>\n",
       "      <td>[e7b21385-b031-c811-3c21-c1b59c68345e, 171db28...</td>\n",
       "      <td>2020-09-14</td>\n",
       "    </tr>\n",
       "    <tr>\n",
       "      <th>2</th>\n",
       "      <td>2020-09-03</td>\n",
       "      <td>[a5a9d4ca-e0e9-06e0-7da4-69c63706eb57, ac544fd...</td>\n",
       "      <td>2020-09-14</td>\n",
       "    </tr>\n",
       "    <tr>\n",
       "      <th>3</th>\n",
       "      <td>2020-09-04</td>\n",
       "      <td>[98aa2cae-2aa8-2211-af28-d71ebe061675, a2a0a01...</td>\n",
       "      <td>2020-09-14</td>\n",
       "    </tr>\n",
       "    <tr>\n",
       "      <th>4</th>\n",
       "      <td>2020-09-05</td>\n",
       "      <td>[2630f115-d3d6-6d09-c4c3-761802f15ab9, 6634443...</td>\n",
       "      <td>2020-09-14</td>\n",
       "    </tr>\n",
       "  </tbody>\n",
       "</table>\n",
       "</div>"
      ],
      "text/plain": [
       "  sample_date                                           tek_list  \\\n",
       "0  2020-09-01  [7da1a9b3-7255-c803-f831-d8147b043f11, 5a1ceee...   \n",
       "1  2020-09-02  [e7b21385-b031-c811-3c21-c1b59c68345e, 171db28...   \n",
       "2  2020-09-03  [a5a9d4ca-e0e9-06e0-7da4-69c63706eb57, ac544fd...   \n",
       "3  2020-09-04  [98aa2cae-2aa8-2211-af28-d71ebe061675, a2a0a01...   \n",
       "4  2020-09-05  [2630f115-d3d6-6d09-c4c3-761802f15ab9, 6634443...   \n",
       "\n",
       "  extraction_date  \n",
       "0      2020-09-14  \n",
       "1      2020-09-14  \n",
       "2      2020-09-14  \n",
       "3      2020-09-14  \n",
       "4      2020-09-14  "
      ]
     },
     "execution_count": 12,
     "metadata": {},
     "output_type": "execute_result"
    }
   ],
   "source": [
    "daily_extracted_teks_df = load_extracted_teks(mode=\"Daily\", limit=14)\n",
    "daily_extracted_teks_df.head()"
   ]
  },
  {
   "cell_type": "code",
   "execution_count": 13,
   "metadata": {
    "execution": {
     "iopub.execute_input": "2020-09-14T14:20:07.590684Z",
     "iopub.status.busy": "2020-09-14T14:20:07.590102Z",
     "iopub.status.idle": "2020-09-14T14:20:07.609455Z",
     "shell.execute_reply": "2020-09-14T14:20:07.608965Z"
    },
    "papermill": {
     "duration": 0.055999,
     "end_time": "2020-09-14T14:20:07.609595",
     "exception": false,
     "start_time": "2020-09-14T14:20:07.553596",
     "status": "completed"
    },
    "tags": []
   },
   "outputs": [
    {
     "data": {
      "text/html": [
       "<div>\n",
       "<style scoped>\n",
       "    .dataframe tbody tr th:only-of-type {\n",
       "        vertical-align: middle;\n",
       "    }\n",
       "\n",
       "    .dataframe tbody tr th {\n",
       "        vertical-align: top;\n",
       "    }\n",
       "\n",
       "    .dataframe thead th {\n",
       "        text-align: right;\n",
       "    }\n",
       "</style>\n",
       "<table border=\"1\" class=\"dataframe\">\n",
       "  <thead>\n",
       "    <tr style=\"text-align: right;\">\n",
       "      <th></th>\n",
       "      <th>tek_list</th>\n",
       "    </tr>\n",
       "    <tr>\n",
       "      <th>extraction_date</th>\n",
       "      <th></th>\n",
       "    </tr>\n",
       "  </thead>\n",
       "  <tbody>\n",
       "    <tr>\n",
       "      <th>2020-09-01</th>\n",
       "      <td>{d0b242e7-ab23-4020-2ccc-660932c0b426, 1fd61ec...</td>\n",
       "    </tr>\n",
       "    <tr>\n",
       "      <th>2020-09-02</th>\n",
       "      <td>{d0b242e7-ab23-4020-2ccc-660932c0b426, 1fd61ec...</td>\n",
       "    </tr>\n",
       "    <tr>\n",
       "      <th>2020-09-03</th>\n",
       "      <td>{d0b242e7-ab23-4020-2ccc-660932c0b426, 1fd61ec...</td>\n",
       "    </tr>\n",
       "    <tr>\n",
       "      <th>2020-09-04</th>\n",
       "      <td>{d0b242e7-ab23-4020-2ccc-660932c0b426, fbe79c4...</td>\n",
       "    </tr>\n",
       "    <tr>\n",
       "      <th>2020-09-05</th>\n",
       "      <td>{d0b242e7-ab23-4020-2ccc-660932c0b426, fbe79c4...</td>\n",
       "    </tr>\n",
       "  </tbody>\n",
       "</table>\n",
       "</div>"
      ],
      "text/plain": [
       "                                                          tek_list\n",
       "extraction_date                                                   \n",
       "2020-09-01       {d0b242e7-ab23-4020-2ccc-660932c0b426, 1fd61ec...\n",
       "2020-09-02       {d0b242e7-ab23-4020-2ccc-660932c0b426, 1fd61ec...\n",
       "2020-09-03       {d0b242e7-ab23-4020-2ccc-660932c0b426, 1fd61ec...\n",
       "2020-09-04       {d0b242e7-ab23-4020-2ccc-660932c0b426, fbe79c4...\n",
       "2020-09-05       {d0b242e7-ab23-4020-2ccc-660932c0b426, fbe79c4..."
      ]
     },
     "execution_count": 13,
     "metadata": {},
     "output_type": "execute_result"
    }
   ],
   "source": [
    "tek_list_df = daily_extracted_teks_df.groupby(\"extraction_date\").tek_list.apply(\n",
    "    lambda x: set(sum(x, []))).reset_index()\n",
    "tek_list_df = tek_list_df.set_index(\"extraction_date\").sort_index(ascending=True)\n",
    "tek_list_df.head()"
   ]
  },
  {
   "cell_type": "code",
   "execution_count": 14,
   "metadata": {
    "execution": {
     "iopub.execute_input": "2020-09-14T14:20:07.678547Z",
     "iopub.status.busy": "2020-09-14T14:20:07.677975Z",
     "iopub.status.idle": "2020-09-14T14:20:07.681043Z",
     "shell.execute_reply": "2020-09-14T14:20:07.680562Z"
    },
    "papermill": {
     "duration": 0.043365,
     "end_time": "2020-09-14T14:20:07.681171",
     "exception": false,
     "start_time": "2020-09-14T14:20:07.637806",
     "status": "completed"
    },
    "tags": []
   },
   "outputs": [
    {
     "data": {
      "text/html": [
       "<div>\n",
       "<style scoped>\n",
       "    .dataframe tbody tr th:only-of-type {\n",
       "        vertical-align: middle;\n",
       "    }\n",
       "\n",
       "    .dataframe tbody tr th {\n",
       "        vertical-align: top;\n",
       "    }\n",
       "\n",
       "    .dataframe thead th {\n",
       "        text-align: right;\n",
       "    }\n",
       "</style>\n",
       "<table border=\"1\" class=\"dataframe\">\n",
       "  <thead>\n",
       "    <tr style=\"text-align: right;\">\n",
       "      <th></th>\n",
       "      <th>sample_date_string</th>\n",
       "      <th>new_tek_count</th>\n",
       "    </tr>\n",
       "  </thead>\n",
       "  <tbody>\n",
       "    <tr>\n",
       "      <th>0</th>\n",
       "      <td>2020-09-01</td>\n",
       "      <td>NaN</td>\n",
       "    </tr>\n",
       "    <tr>\n",
       "      <th>1</th>\n",
       "      <td>2020-09-02</td>\n",
       "      <td>57.0</td>\n",
       "    </tr>\n",
       "    <tr>\n",
       "      <th>2</th>\n",
       "      <td>2020-09-03</td>\n",
       "      <td>49.0</td>\n",
       "    </tr>\n",
       "    <tr>\n",
       "      <th>3</th>\n",
       "      <td>2020-09-04</td>\n",
       "      <td>58.0</td>\n",
       "    </tr>\n",
       "    <tr>\n",
       "      <th>4</th>\n",
       "      <td>2020-09-05</td>\n",
       "      <td>40.0</td>\n",
       "    </tr>\n",
       "  </tbody>\n",
       "</table>\n",
       "</div>"
      ],
      "text/plain": [
       "  sample_date_string  new_tek_count\n",
       "0         2020-09-01            NaN\n",
       "1         2020-09-02           57.0\n",
       "2         2020-09-03           49.0\n",
       "3         2020-09-04           58.0\n",
       "4         2020-09-05           40.0"
      ]
     },
     "execution_count": 14,
     "metadata": {},
     "output_type": "execute_result"
    }
   ],
   "source": [
    "new_tek_df = tek_list_df.diff().tek_list.apply(\n",
    "    lambda x: len(x) if not pd.isna(x) else None).to_frame().reset_index()\n",
    "new_tek_df.rename(columns={\n",
    "    \"tek_list\": \"new_tek_count\",\n",
    "    \"extraction_date\": \"sample_date_string\",}, inplace=True)\n",
    "new_tek_df.head()"
   ]
  },
  {
   "cell_type": "code",
   "execution_count": 15,
   "metadata": {
    "execution": {
     "iopub.execute_input": "2020-09-14T14:20:07.750040Z",
     "iopub.status.busy": "2020-09-14T14:20:07.749461Z",
     "iopub.status.idle": "2020-09-14T14:20:07.765853Z",
     "shell.execute_reply": "2020-09-14T14:20:07.765385Z"
    },
    "papermill": {
     "duration": 0.05637,
     "end_time": "2020-09-14T14:20:07.765993",
     "exception": false,
     "start_time": "2020-09-14T14:20:07.709623",
     "status": "completed"
    },
    "pycharm": {
     "name": "#%%\n"
    },
    "tags": []
   },
   "outputs": [
    {
     "data": {
      "text/html": [
       "<div>\n",
       "<style scoped>\n",
       "    .dataframe tbody tr th:only-of-type {\n",
       "        vertical-align: middle;\n",
       "    }\n",
       "\n",
       "    .dataframe tbody tr th {\n",
       "        vertical-align: top;\n",
       "    }\n",
       "\n",
       "    .dataframe thead th {\n",
       "        text-align: right;\n",
       "    }\n",
       "</style>\n",
       "<table border=\"1\" class=\"dataframe\">\n",
       "  <thead>\n",
       "    <tr style=\"text-align: right;\">\n",
       "      <th></th>\n",
       "      <th>sample_date</th>\n",
       "      <th>tek_list</th>\n",
       "      <th>extraction_date</th>\n",
       "      <th>new_sample_extraction_date</th>\n",
       "    </tr>\n",
       "  </thead>\n",
       "  <tbody>\n",
       "    <tr>\n",
       "      <th>12</th>\n",
       "      <td>2020-09-13</td>\n",
       "      <td>[0507550e-4550-cc54-d7ce-0dd1993adbec, 9e9e9b0...</td>\n",
       "      <td>2020-09-14</td>\n",
       "      <td>2020-09-14</td>\n",
       "    </tr>\n",
       "    <tr>\n",
       "      <th>12</th>\n",
       "      <td>2020-09-12</td>\n",
       "      <td>[b6e3bd50-c556-ff3b-56af-0fe6d728dc4b, 213621e...</td>\n",
       "      <td>2020-09-13</td>\n",
       "      <td>2020-09-13</td>\n",
       "    </tr>\n",
       "    <tr>\n",
       "      <th>12</th>\n",
       "      <td>2020-09-11</td>\n",
       "      <td>[37f3f2da-307f-8df3-01ba-e05b5aee182e, 6d3415f...</td>\n",
       "      <td>2020-09-12</td>\n",
       "      <td>2020-09-12</td>\n",
       "    </tr>\n",
       "    <tr>\n",
       "      <th>12</th>\n",
       "      <td>2020-09-10</td>\n",
       "      <td>[3563b5ee-261b-4293-ef7c-022c552ac0b2, c8c52d1...</td>\n",
       "      <td>2020-09-11</td>\n",
       "      <td>2020-09-11</td>\n",
       "    </tr>\n",
       "    <tr>\n",
       "      <th>12</th>\n",
       "      <td>2020-09-09</td>\n",
       "      <td>[0bf4d723-1ac7-aa22-a755-90680a5b8f58, f126312...</td>\n",
       "      <td>2020-09-10</td>\n",
       "      <td>2020-09-10</td>\n",
       "    </tr>\n",
       "  </tbody>\n",
       "</table>\n",
       "</div>"
      ],
      "text/plain": [
       "   sample_date                                           tek_list  \\\n",
       "12  2020-09-13  [0507550e-4550-cc54-d7ce-0dd1993adbec, 9e9e9b0...   \n",
       "12  2020-09-12  [b6e3bd50-c556-ff3b-56af-0fe6d728dc4b, 213621e...   \n",
       "12  2020-09-11  [37f3f2da-307f-8df3-01ba-e05b5aee182e, 6d3415f...   \n",
       "12  2020-09-10  [3563b5ee-261b-4293-ef7c-022c552ac0b2, c8c52d1...   \n",
       "12  2020-09-09  [0bf4d723-1ac7-aa22-a755-90680a5b8f58, f126312...   \n",
       "\n",
       "   extraction_date new_sample_extraction_date  \n",
       "12      2020-09-14                 2020-09-14  \n",
       "12      2020-09-13                 2020-09-13  \n",
       "12      2020-09-12                 2020-09-12  \n",
       "12      2020-09-11                 2020-09-11  \n",
       "12      2020-09-10                 2020-09-10  "
      ]
     },
     "execution_count": 15,
     "metadata": {},
     "output_type": "execute_result"
    }
   ],
   "source": [
    "new_tek_devices_df = daily_extracted_teks_df.copy()\n",
    "new_tek_devices_df[\"new_sample_extraction_date\"] = \\\n",
    "    pd.to_datetime(new_tek_devices_df.sample_date) + datetime.timedelta(1)\n",
    "new_tek_devices_df[\"extraction_date\"] = pd.to_datetime(new_tek_devices_df.extraction_date)\n",
    "\n",
    "new_tek_devices_df = new_tek_devices_df[\n",
    "    new_tek_devices_df.new_sample_extraction_date == new_tek_devices_df.extraction_date]\n",
    "new_tek_devices_df.head()"
   ]
  },
  {
   "cell_type": "code",
   "execution_count": 16,
   "metadata": {
    "execution": {
     "iopub.execute_input": "2020-09-14T14:20:07.842742Z",
     "iopub.status.busy": "2020-09-14T14:20:07.842148Z",
     "iopub.status.idle": "2020-09-14T14:20:07.847954Z",
     "shell.execute_reply": "2020-09-14T14:20:07.847467Z"
    },
    "papermill": {
     "duration": 0.052989,
     "end_time": "2020-09-14T14:20:07.848086",
     "exception": false,
     "start_time": "2020-09-14T14:20:07.795097",
     "status": "completed"
    },
    "tags": []
   },
   "outputs": [
    {
     "data": {
      "text/html": [
       "<div>\n",
       "<style scoped>\n",
       "    .dataframe tbody tr th:only-of-type {\n",
       "        vertical-align: middle;\n",
       "    }\n",
       "\n",
       "    .dataframe tbody tr th {\n",
       "        vertical-align: top;\n",
       "    }\n",
       "\n",
       "    .dataframe thead th {\n",
       "        text-align: right;\n",
       "    }\n",
       "</style>\n",
       "<table border=\"1\" class=\"dataframe\">\n",
       "  <thead>\n",
       "    <tr style=\"text-align: right;\">\n",
       "      <th></th>\n",
       "      <th>sample_date_string</th>\n",
       "      <th>new_tek_devices</th>\n",
       "    </tr>\n",
       "  </thead>\n",
       "  <tbody>\n",
       "    <tr>\n",
       "      <th>0</th>\n",
       "      <td>2020-09-14</td>\n",
       "      <td>26</td>\n",
       "    </tr>\n",
       "    <tr>\n",
       "      <th>1</th>\n",
       "      <td>2020-09-13</td>\n",
       "      <td>32</td>\n",
       "    </tr>\n",
       "    <tr>\n",
       "      <th>2</th>\n",
       "      <td>2020-09-12</td>\n",
       "      <td>33</td>\n",
       "    </tr>\n",
       "    <tr>\n",
       "      <th>3</th>\n",
       "      <td>2020-09-11</td>\n",
       "      <td>19</td>\n",
       "    </tr>\n",
       "    <tr>\n",
       "      <th>4</th>\n",
       "      <td>2020-09-10</td>\n",
       "      <td>15</td>\n",
       "    </tr>\n",
       "  </tbody>\n",
       "</table>\n",
       "</div>"
      ],
      "text/plain": [
       "  sample_date_string  new_tek_devices\n",
       "0         2020-09-14               26\n",
       "1         2020-09-13               32\n",
       "2         2020-09-12               33\n",
       "3         2020-09-11               19\n",
       "4         2020-09-10               15"
      ]
     },
     "execution_count": 16,
     "metadata": {},
     "output_type": "execute_result"
    }
   ],
   "source": [
    "new_tek_devices_df.set_index(\"extraction_date\", inplace=True)\n",
    "new_tek_devices_df = new_tek_devices_df.tek_list.apply(lambda x: len(set(x))).to_frame()\n",
    "new_tek_devices_df.reset_index(inplace=True)\n",
    "new_tek_devices_df.rename(columns={\n",
    "    \"extraction_date\": \"sample_date_string\",\n",
    "    \"tek_list\": \"new_tek_devices\"}, inplace=True)\n",
    "new_tek_devices_df[\"sample_date_string\"] = new_tek_devices_df.sample_date_string.dt.strftime(\"%Y-%m-%d\")\n",
    "new_tek_devices_df.head()"
   ]
  },
  {
   "cell_type": "markdown",
   "metadata": {
    "papermill": {
     "duration": 0.029142,
     "end_time": "2020-09-14T14:20:07.906605",
     "exception": false,
     "start_time": "2020-09-14T14:20:07.877463",
     "status": "completed"
    },
    "pycharm": {
     "name": "#%% md\n"
    },
    "tags": []
   },
   "source": [
    "### Hourly New TEKs"
   ]
  },
  {
   "cell_type": "code",
   "execution_count": 17,
   "metadata": {
    "execution": {
     "iopub.execute_input": "2020-09-14T14:20:07.972218Z",
     "iopub.status.busy": "2020-09-14T14:20:07.971652Z",
     "iopub.status.idle": "2020-09-14T14:20:08.107023Z",
     "shell.execute_reply": "2020-09-14T14:20:08.107789Z"
    },
    "papermill": {
     "duration": 0.172026,
     "end_time": "2020-09-14T14:20:08.108000",
     "exception": false,
     "start_time": "2020-09-14T14:20:07.935974",
     "status": "completed"
    },
    "tags": []
   },
   "outputs": [
    {
     "data": {
      "text/html": [
       "<div>\n",
       "<style scoped>\n",
       "    .dataframe tbody tr th:only-of-type {\n",
       "        vertical-align: middle;\n",
       "    }\n",
       "\n",
       "    .dataframe tbody tr th {\n",
       "        vertical-align: top;\n",
       "    }\n",
       "\n",
       "    .dataframe thead th {\n",
       "        text-align: right;\n",
       "    }\n",
       "</style>\n",
       "<table border=\"1\" class=\"dataframe\">\n",
       "  <thead>\n",
       "    <tr style=\"text-align: right;\">\n",
       "      <th></th>\n",
       "      <th>extraction_date_with_hour</th>\n",
       "      <th>new_tek_count</th>\n",
       "    </tr>\n",
       "  </thead>\n",
       "  <tbody>\n",
       "    <tr>\n",
       "      <th>19</th>\n",
       "      <td>2020-09-14@10</td>\n",
       "      <td>5.0</td>\n",
       "    </tr>\n",
       "    <tr>\n",
       "      <th>20</th>\n",
       "      <td>2020-09-14@11</td>\n",
       "      <td>0.0</td>\n",
       "    </tr>\n",
       "    <tr>\n",
       "      <th>21</th>\n",
       "      <td>2020-09-14@12</td>\n",
       "      <td>20.0</td>\n",
       "    </tr>\n",
       "    <tr>\n",
       "      <th>22</th>\n",
       "      <td>2020-09-14@13</td>\n",
       "      <td>0.0</td>\n",
       "    </tr>\n",
       "    <tr>\n",
       "      <th>23</th>\n",
       "      <td>2020-09-14@14</td>\n",
       "      <td>1.0</td>\n",
       "    </tr>\n",
       "  </tbody>\n",
       "</table>\n",
       "</div>"
      ],
      "text/plain": [
       "   extraction_date_with_hour  new_tek_count\n",
       "19             2020-09-14@10            5.0\n",
       "20             2020-09-14@11            0.0\n",
       "21             2020-09-14@12           20.0\n",
       "22             2020-09-14@13            0.0\n",
       "23             2020-09-14@14            1.0"
      ]
     },
     "execution_count": 17,
     "metadata": {},
     "output_type": "execute_result"
    }
   ],
   "source": [
    "hourly_extracted_teks_df = load_extracted_teks(mode=\"Hourly\", limit=24)\n",
    "hourly_extracted_teks_df.head()\n",
    "\n",
    "hourly_tek_list_df = hourly_extracted_teks_df.groupby(\"extraction_date_with_hour\").tek_list.apply(\n",
    "    lambda x: set(sum(x, []))).reset_index()\n",
    "hourly_tek_list_df = hourly_tek_list_df.set_index(\"extraction_date_with_hour\").sort_index(ascending=True)\n",
    "\n",
    "hourly_new_tek_df = hourly_tek_list_df.diff().tek_list.apply(\n",
    "    lambda x: len(x) if not pd.isna(x) else None).to_frame().reset_index()\n",
    "hourly_new_tek_df.rename(columns={\n",
    "    \"tek_list\": \"new_tek_count\"}, inplace=True)\n",
    "hourly_new_tek_df.tail()"
   ]
  },
  {
   "cell_type": "code",
   "execution_count": 18,
   "metadata": {
    "execution": {
     "iopub.execute_input": "2020-09-14T14:20:08.178478Z",
     "iopub.status.busy": "2020-09-14T14:20:08.177898Z",
     "iopub.status.idle": "2020-09-14T14:20:08.198098Z",
     "shell.execute_reply": "2020-09-14T14:20:08.198721Z"
    },
    "papermill": {
     "duration": 0.06134,
     "end_time": "2020-09-14T14:20:08.198930",
     "exception": false,
     "start_time": "2020-09-14T14:20:08.137590",
     "status": "completed"
    },
    "pycharm": {
     "name": "#%%\n"
    },
    "tags": []
   },
   "outputs": [
    {
     "data": {
      "text/html": [
       "<div>\n",
       "<style scoped>\n",
       "    .dataframe tbody tr th:only-of-type {\n",
       "        vertical-align: middle;\n",
       "    }\n",
       "\n",
       "    .dataframe tbody tr th {\n",
       "        vertical-align: top;\n",
       "    }\n",
       "\n",
       "    .dataframe thead th {\n",
       "        text-align: right;\n",
       "    }\n",
       "</style>\n",
       "<table border=\"1\" class=\"dataframe\">\n",
       "  <thead>\n",
       "    <tr style=\"text-align: right;\">\n",
       "      <th></th>\n",
       "      <th>extraction_date_with_hour</th>\n",
       "      <th>new_tek_devices</th>\n",
       "    </tr>\n",
       "  </thead>\n",
       "  <tbody>\n",
       "    <tr>\n",
       "      <th>17</th>\n",
       "      <td>2020-09-14@10</td>\n",
       "      <td>1.0</td>\n",
       "    </tr>\n",
       "    <tr>\n",
       "      <th>18</th>\n",
       "      <td>2020-09-14@11</td>\n",
       "      <td>0.0</td>\n",
       "    </tr>\n",
       "    <tr>\n",
       "      <th>19</th>\n",
       "      <td>2020-09-14@12</td>\n",
       "      <td>4.0</td>\n",
       "    </tr>\n",
       "    <tr>\n",
       "      <th>20</th>\n",
       "      <td>2020-09-14@13</td>\n",
       "      <td>0.0</td>\n",
       "    </tr>\n",
       "    <tr>\n",
       "      <th>21</th>\n",
       "      <td>2020-09-14@14</td>\n",
       "      <td>1.0</td>\n",
       "    </tr>\n",
       "  </tbody>\n",
       "</table>\n",
       "</div>"
      ],
      "text/plain": [
       "   extraction_date_with_hour  new_tek_devices\n",
       "17             2020-09-14@10              1.0\n",
       "18             2020-09-14@11              0.0\n",
       "19             2020-09-14@12              4.0\n",
       "20             2020-09-14@13              0.0\n",
       "21             2020-09-14@14              1.0"
      ]
     },
     "execution_count": 18,
     "metadata": {},
     "output_type": "execute_result"
    }
   ],
   "source": [
    "hourly_new_tek_devices_df = hourly_extracted_teks_df.copy()\n",
    "hourly_new_tek_devices_df[\"new_sample_extraction_date\"] = \\\n",
    "    pd.to_datetime(hourly_new_tek_devices_df.sample_date) + datetime.timedelta(1)\n",
    "hourly_new_tek_devices_df[\"extraction_date\"] = pd.to_datetime(hourly_new_tek_devices_df.extraction_date)\n",
    "\n",
    "hourly_new_tek_devices_df = hourly_new_tek_devices_df[\n",
    "    hourly_new_tek_devices_df.new_sample_extraction_date == hourly_new_tek_devices_df.extraction_date]\n",
    "\n",
    "hourly_new_tek_devices_df.set_index(\"extraction_date_with_hour\", inplace=True)\n",
    "hourly_new_tek_devices_df_ = pd.DataFrame()\n",
    "\n",
    "for i, chunk_df in hourly_new_tek_devices_df.groupby(\"extraction_date\"):\n",
    "    chunk_df = chunk_df.copy()\n",
    "    chunk_df.sort_index(inplace=True)\n",
    "    chunk_tek_count_df = chunk_df.tek_list.apply(lambda x: len(set(x)))\n",
    "    chunk_df = chunk_tek_count_df.diff().fillna(chunk_tek_count_df).to_frame()\n",
    "    hourly_new_tek_devices_df_ = hourly_new_tek_devices_df_.append(chunk_df)\n",
    "    \n",
    "hourly_new_tek_devices_df = hourly_new_tek_devices_df_\n",
    "hourly_new_tek_devices_df.reset_index(inplace=True)\n",
    "hourly_new_tek_devices_df.rename(columns={\n",
    "    \"tek_list\": \"new_tek_devices\"}, inplace=True)\n",
    "hourly_new_tek_devices_df.tail()"
   ]
  },
  {
   "cell_type": "code",
   "execution_count": 19,
   "metadata": {
    "execution": {
     "iopub.execute_input": "2020-09-14T14:20:08.271363Z",
     "iopub.status.busy": "2020-09-14T14:20:08.270781Z",
     "iopub.status.idle": "2020-09-14T14:20:08.279680Z",
     "shell.execute_reply": "2020-09-14T14:20:08.280144Z"
    },
    "papermill": {
     "duration": 0.051161,
     "end_time": "2020-09-14T14:20:08.280308",
     "exception": false,
     "start_time": "2020-09-14T14:20:08.229147",
     "status": "completed"
    },
    "tags": []
   },
   "outputs": [
    {
     "data": {
      "text/html": [
       "<div>\n",
       "<style scoped>\n",
       "    .dataframe tbody tr th:only-of-type {\n",
       "        vertical-align: middle;\n",
       "    }\n",
       "\n",
       "    .dataframe tbody tr th {\n",
       "        vertical-align: top;\n",
       "    }\n",
       "\n",
       "    .dataframe thead th {\n",
       "        text-align: right;\n",
       "    }\n",
       "</style>\n",
       "<table border=\"1\" class=\"dataframe\">\n",
       "  <thead>\n",
       "    <tr style=\"text-align: right;\">\n",
       "      <th></th>\n",
       "      <th>extraction_date_with_hour</th>\n",
       "      <th>new_tek_count</th>\n",
       "      <th>new_tek_devices</th>\n",
       "    </tr>\n",
       "    <tr>\n",
       "      <th>datetime_utc</th>\n",
       "      <th></th>\n",
       "      <th></th>\n",
       "      <th></th>\n",
       "    </tr>\n",
       "  </thead>\n",
       "  <tbody>\n",
       "    <tr>\n",
       "      <th>2020-09-14 10:00:00</th>\n",
       "      <td>2020-09-14@10</td>\n",
       "      <td>5.0</td>\n",
       "      <td>1.0</td>\n",
       "    </tr>\n",
       "    <tr>\n",
       "      <th>2020-09-14 11:00:00</th>\n",
       "      <td>2020-09-14@11</td>\n",
       "      <td>0.0</td>\n",
       "      <td>0.0</td>\n",
       "    </tr>\n",
       "    <tr>\n",
       "      <th>2020-09-14 12:00:00</th>\n",
       "      <td>2020-09-14@12</td>\n",
       "      <td>20.0</td>\n",
       "      <td>4.0</td>\n",
       "    </tr>\n",
       "    <tr>\n",
       "      <th>2020-09-14 13:00:00</th>\n",
       "      <td>2020-09-14@13</td>\n",
       "      <td>0.0</td>\n",
       "      <td>0.0</td>\n",
       "    </tr>\n",
       "    <tr>\n",
       "      <th>2020-09-14 14:00:00</th>\n",
       "      <td>2020-09-14@14</td>\n",
       "      <td>1.0</td>\n",
       "      <td>1.0</td>\n",
       "    </tr>\n",
       "  </tbody>\n",
       "</table>\n",
       "</div>"
      ],
      "text/plain": [
       "                    extraction_date_with_hour  new_tek_count  new_tek_devices\n",
       "datetime_utc                                                                 \n",
       "2020-09-14 10:00:00             2020-09-14@10            5.0              1.0\n",
       "2020-09-14 11:00:00             2020-09-14@11            0.0              0.0\n",
       "2020-09-14 12:00:00             2020-09-14@12           20.0              4.0\n",
       "2020-09-14 13:00:00             2020-09-14@13            0.0              0.0\n",
       "2020-09-14 14:00:00             2020-09-14@14            1.0              1.0"
      ]
     },
     "execution_count": 19,
     "metadata": {},
     "output_type": "execute_result"
    }
   ],
   "source": [
    "hourly_summary_df = hourly_new_tek_df.merge(\n",
    "    hourly_new_tek_devices_df, on=[\"extraction_date_with_hour\"], how=\"outer\")\n",
    "hourly_summary_df[\"datetime_utc\"] = pd.to_datetime(\n",
    "    hourly_summary_df.extraction_date_with_hour, format=\"%Y-%m-%d@%H\")\n",
    "hourly_summary_df.set_index(\"datetime_utc\", inplace=True)\n",
    "hourly_summary_df.tail()"
   ]
  },
  {
   "cell_type": "markdown",
   "metadata": {
    "execution": {
     "iopub.execute_input": "2020-08-30T22:30:16.982353Z",
     "iopub.status.busy": "2020-08-30T22:30:16.981676Z",
     "iopub.status.idle": "2020-08-30T22:30:16.984837Z",
     "shell.execute_reply": "2020-08-30T22:30:16.985366Z"
    },
    "papermill": {
     "duration": 0.030211,
     "end_time": "2020-09-14T14:20:08.340872",
     "exception": false,
     "start_time": "2020-09-14T14:20:08.310661",
     "status": "completed"
    },
    "pycharm": {
     "name": "#%% md\n"
    },
    "tags": []
   },
   "source": [
    "### Data Merge"
   ]
  },
  {
   "cell_type": "code",
   "execution_count": 20,
   "metadata": {
    "execution": {
     "iopub.execute_input": "2020-09-14T14:20:08.415120Z",
     "iopub.status.busy": "2020-09-14T14:20:08.414560Z",
     "iopub.status.idle": "2020-09-14T14:20:08.418287Z",
     "shell.execute_reply": "2020-09-14T14:20:08.417836Z"
    },
    "papermill": {
     "duration": 0.047041,
     "end_time": "2020-09-14T14:20:08.418420",
     "exception": false,
     "start_time": "2020-09-14T14:20:08.371379",
     "status": "completed"
    },
    "pycharm": {
     "name": "#%%\n"
    },
    "tags": []
   },
   "outputs": [
    {
     "data": {
      "text/html": [
       "<div>\n",
       "<style scoped>\n",
       "    .dataframe tbody tr th:only-of-type {\n",
       "        vertical-align: middle;\n",
       "    }\n",
       "\n",
       "    .dataframe tbody tr th {\n",
       "        vertical-align: top;\n",
       "    }\n",
       "\n",
       "    .dataframe thead th {\n",
       "        text-align: right;\n",
       "    }\n",
       "</style>\n",
       "<table border=\"1\" class=\"dataframe\">\n",
       "  <thead>\n",
       "    <tr style=\"text-align: right;\">\n",
       "      <th></th>\n",
       "      <th>sample_date_string</th>\n",
       "      <th>tek_count</th>\n",
       "      <th>new_tek_count</th>\n",
       "    </tr>\n",
       "  </thead>\n",
       "  <tbody>\n",
       "    <tr>\n",
       "      <th>0</th>\n",
       "      <td>2020-09-13</td>\n",
       "      <td>26.0</td>\n",
       "      <td>92.0</td>\n",
       "    </tr>\n",
       "    <tr>\n",
       "      <th>1</th>\n",
       "      <td>2020-09-12</td>\n",
       "      <td>39.0</td>\n",
       "      <td>92.0</td>\n",
       "    </tr>\n",
       "    <tr>\n",
       "      <th>2</th>\n",
       "      <td>2020-09-11</td>\n",
       "      <td>57.0</td>\n",
       "      <td>46.0</td>\n",
       "    </tr>\n",
       "    <tr>\n",
       "      <th>3</th>\n",
       "      <td>2020-09-10</td>\n",
       "      <td>59.0</td>\n",
       "      <td>45.0</td>\n",
       "    </tr>\n",
       "    <tr>\n",
       "      <th>4</th>\n",
       "      <td>2020-09-09</td>\n",
       "      <td>59.0</td>\n",
       "      <td>67.0</td>\n",
       "    </tr>\n",
       "  </tbody>\n",
       "</table>\n",
       "</div>"
      ],
      "text/plain": [
       "  sample_date_string  tek_count  new_tek_count\n",
       "0         2020-09-13       26.0           92.0\n",
       "1         2020-09-12       39.0           92.0\n",
       "2         2020-09-11       57.0           46.0\n",
       "3         2020-09-10       59.0           45.0\n",
       "4         2020-09-09       59.0           67.0"
      ]
     },
     "execution_count": 20,
     "metadata": {},
     "output_type": "execute_result"
    }
   ],
   "source": [
    "result_summary_df = exposure_keys_summary_df.merge(new_tek_df, on=[\"sample_date_string\"], how=\"outer\")\n",
    "result_summary_df.head()"
   ]
  },
  {
   "cell_type": "code",
   "execution_count": 21,
   "metadata": {
    "execution": {
     "iopub.execute_input": "2020-09-14T14:20:08.494976Z",
     "iopub.status.busy": "2020-09-14T14:20:08.494405Z",
     "iopub.status.idle": "2020-09-14T14:20:08.497539Z",
     "shell.execute_reply": "2020-09-14T14:20:08.497987Z"
    },
    "papermill": {
     "duration": 0.048904,
     "end_time": "2020-09-14T14:20:08.498151",
     "exception": false,
     "start_time": "2020-09-14T14:20:08.449247",
     "status": "completed"
    },
    "tags": []
   },
   "outputs": [
    {
     "data": {
      "text/html": [
       "<div>\n",
       "<style scoped>\n",
       "    .dataframe tbody tr th:only-of-type {\n",
       "        vertical-align: middle;\n",
       "    }\n",
       "\n",
       "    .dataframe tbody tr th {\n",
       "        vertical-align: top;\n",
       "    }\n",
       "\n",
       "    .dataframe thead th {\n",
       "        text-align: right;\n",
       "    }\n",
       "</style>\n",
       "<table border=\"1\" class=\"dataframe\">\n",
       "  <thead>\n",
       "    <tr style=\"text-align: right;\">\n",
       "      <th></th>\n",
       "      <th>sample_date_string</th>\n",
       "      <th>tek_count</th>\n",
       "      <th>new_tek_count</th>\n",
       "      <th>new_tek_devices</th>\n",
       "    </tr>\n",
       "  </thead>\n",
       "  <tbody>\n",
       "    <tr>\n",
       "      <th>0</th>\n",
       "      <td>2020-09-13</td>\n",
       "      <td>26.0</td>\n",
       "      <td>92.0</td>\n",
       "      <td>32</td>\n",
       "    </tr>\n",
       "    <tr>\n",
       "      <th>1</th>\n",
       "      <td>2020-09-12</td>\n",
       "      <td>39.0</td>\n",
       "      <td>92.0</td>\n",
       "      <td>33</td>\n",
       "    </tr>\n",
       "    <tr>\n",
       "      <th>2</th>\n",
       "      <td>2020-09-11</td>\n",
       "      <td>57.0</td>\n",
       "      <td>46.0</td>\n",
       "      <td>19</td>\n",
       "    </tr>\n",
       "    <tr>\n",
       "      <th>3</th>\n",
       "      <td>2020-09-10</td>\n",
       "      <td>59.0</td>\n",
       "      <td>45.0</td>\n",
       "      <td>15</td>\n",
       "    </tr>\n",
       "    <tr>\n",
       "      <th>4</th>\n",
       "      <td>2020-09-09</td>\n",
       "      <td>59.0</td>\n",
       "      <td>67.0</td>\n",
       "      <td>21</td>\n",
       "    </tr>\n",
       "  </tbody>\n",
       "</table>\n",
       "</div>"
      ],
      "text/plain": [
       "  sample_date_string  tek_count  new_tek_count  new_tek_devices\n",
       "0         2020-09-13       26.0           92.0               32\n",
       "1         2020-09-12       39.0           92.0               33\n",
       "2         2020-09-11       57.0           46.0               19\n",
       "3         2020-09-10       59.0           45.0               15\n",
       "4         2020-09-09       59.0           67.0               21"
      ]
     },
     "execution_count": 21,
     "metadata": {},
     "output_type": "execute_result"
    }
   ],
   "source": [
    "result_summary_df = result_summary_df.merge(new_tek_devices_df, on=[\"sample_date_string\"], how=\"outer\")\n",
    "result_summary_df.head()"
   ]
  },
  {
   "cell_type": "code",
   "execution_count": 22,
   "metadata": {
    "execution": {
     "iopub.execute_input": "2020-09-14T14:20:08.568774Z",
     "iopub.status.busy": "2020-09-14T14:20:08.568211Z",
     "iopub.status.idle": "2020-09-14T14:20:08.580581Z",
     "shell.execute_reply": "2020-09-14T14:20:08.580111Z"
    },
    "papermill": {
     "duration": 0.051141,
     "end_time": "2020-09-14T14:20:08.580719",
     "exception": false,
     "start_time": "2020-09-14T14:20:08.529578",
     "status": "completed"
    },
    "pycharm": {
     "name": "#%%\n"
    },
    "tags": []
   },
   "outputs": [
    {
     "data": {
      "text/html": [
       "<div>\n",
       "<style scoped>\n",
       "    .dataframe tbody tr th:only-of-type {\n",
       "        vertical-align: middle;\n",
       "    }\n",
       "\n",
       "    .dataframe tbody tr th {\n",
       "        vertical-align: top;\n",
       "    }\n",
       "\n",
       "    .dataframe thead th {\n",
       "        text-align: right;\n",
       "    }\n",
       "</style>\n",
       "<table border=\"1\" class=\"dataframe\">\n",
       "  <thead>\n",
       "    <tr style=\"text-align: right;\">\n",
       "      <th></th>\n",
       "      <th>sample_date_string</th>\n",
       "      <th>tek_count</th>\n",
       "      <th>new_tek_count</th>\n",
       "      <th>new_tek_devices</th>\n",
       "      <th>cumulative_cases</th>\n",
       "      <th>new_cases</th>\n",
       "      <th>rolling_mean_new_cases</th>\n",
       "    </tr>\n",
       "  </thead>\n",
       "  <tbody>\n",
       "    <tr>\n",
       "      <th>0</th>\n",
       "      <td>2020-09-13</td>\n",
       "      <td>26.0</td>\n",
       "      <td>92.0</td>\n",
       "      <td>32</td>\n",
       "      <td>1132652.0</td>\n",
       "      <td>0.0</td>\n",
       "      <td>19239.142857</td>\n",
       "    </tr>\n",
       "    <tr>\n",
       "      <th>1</th>\n",
       "      <td>2020-09-12</td>\n",
       "      <td>39.0</td>\n",
       "      <td>92.0</td>\n",
       "      <td>33</td>\n",
       "      <td>1132652.0</td>\n",
       "      <td>0.0</td>\n",
       "      <td>19239.142857</td>\n",
       "    </tr>\n",
       "    <tr>\n",
       "      <th>2</th>\n",
       "      <td>2020-09-11</td>\n",
       "      <td>57.0</td>\n",
       "      <td>46.0</td>\n",
       "      <td>19</td>\n",
       "      <td>1132652.0</td>\n",
       "      <td>24366.0</td>\n",
       "      <td>19239.142857</td>\n",
       "    </tr>\n",
       "    <tr>\n",
       "      <th>3</th>\n",
       "      <td>2020-09-10</td>\n",
       "      <td>59.0</td>\n",
       "      <td>45.0</td>\n",
       "      <td>15</td>\n",
       "      <td>1108286.0</td>\n",
       "      <td>21528.0</td>\n",
       "      <td>18751.428571</td>\n",
       "    </tr>\n",
       "    <tr>\n",
       "      <th>4</th>\n",
       "      <td>2020-09-09</td>\n",
       "      <td>59.0</td>\n",
       "      <td>67.0</td>\n",
       "      <td>21</td>\n",
       "      <td>1086758.0</td>\n",
       "      <td>17732.0</td>\n",
       "      <td>18235.714286</td>\n",
       "    </tr>\n",
       "  </tbody>\n",
       "</table>\n",
       "</div>"
      ],
      "text/plain": [
       "  sample_date_string  tek_count  new_tek_count  new_tek_devices  \\\n",
       "0         2020-09-13       26.0           92.0               32   \n",
       "1         2020-09-12       39.0           92.0               33   \n",
       "2         2020-09-11       57.0           46.0               19   \n",
       "3         2020-09-10       59.0           45.0               15   \n",
       "4         2020-09-09       59.0           67.0               21   \n",
       "\n",
       "   cumulative_cases  new_cases  rolling_mean_new_cases  \n",
       "0         1132652.0        0.0            19239.142857  \n",
       "1         1132652.0        0.0            19239.142857  \n",
       "2         1132652.0    24366.0            19239.142857  \n",
       "3         1108286.0    21528.0            18751.428571  \n",
       "4         1086758.0    17732.0            18235.714286  "
      ]
     },
     "execution_count": 22,
     "metadata": {},
     "output_type": "execute_result"
    }
   ],
   "source": [
    "result_summary_df = result_summary_df.merge(confirmed_df, on=[\"sample_date_string\"], how=\"left\")\n",
    "result_summary_df.head()"
   ]
  },
  {
   "cell_type": "code",
   "execution_count": 23,
   "metadata": {
    "execution": {
     "iopub.execute_input": "2020-09-14T14:20:08.667523Z",
     "iopub.status.busy": "2020-09-14T14:20:08.666722Z",
     "iopub.status.idle": "2020-09-14T14:20:08.669619Z",
     "shell.execute_reply": "2020-09-14T14:20:08.670226Z"
    },
    "papermill": {
     "duration": 0.058325,
     "end_time": "2020-09-14T14:20:08.670430",
     "exception": false,
     "start_time": "2020-09-14T14:20:08.612105",
     "status": "completed"
    },
    "pycharm": {
     "name": "#%%\n"
    },
    "tags": []
   },
   "outputs": [
    {
     "data": {
      "text/html": [
       "<div>\n",
       "<style scoped>\n",
       "    .dataframe tbody tr th:only-of-type {\n",
       "        vertical-align: middle;\n",
       "    }\n",
       "\n",
       "    .dataframe tbody tr th {\n",
       "        vertical-align: top;\n",
       "    }\n",
       "\n",
       "    .dataframe thead th {\n",
       "        text-align: right;\n",
       "    }\n",
       "</style>\n",
       "<table border=\"1\" class=\"dataframe\">\n",
       "  <thead>\n",
       "    <tr style=\"text-align: right;\">\n",
       "      <th></th>\n",
       "      <th>sample_date_string</th>\n",
       "      <th>tek_count</th>\n",
       "      <th>new_tek_count</th>\n",
       "      <th>new_tek_devices</th>\n",
       "      <th>cumulative_cases</th>\n",
       "      <th>new_cases</th>\n",
       "      <th>rolling_mean_new_cases</th>\n",
       "      <th>tek_count_per_new_case</th>\n",
       "      <th>new_tek_count_per_new_case</th>\n",
       "      <th>new_tek_devices_per_new_case</th>\n",
       "      <th>new_tek_count_per_new_tek_device</th>\n",
       "    </tr>\n",
       "  </thead>\n",
       "  <tbody>\n",
       "    <tr>\n",
       "      <th>0</th>\n",
       "      <td>2020-09-13</td>\n",
       "      <td>26.0</td>\n",
       "      <td>92.0</td>\n",
       "      <td>32</td>\n",
       "      <td>1132652.0</td>\n",
       "      <td>0.0</td>\n",
       "      <td>19239.142857</td>\n",
       "      <td>0.001351</td>\n",
       "      <td>0.004782</td>\n",
       "      <td>0.001663</td>\n",
       "      <td>2.875000</td>\n",
       "    </tr>\n",
       "    <tr>\n",
       "      <th>1</th>\n",
       "      <td>2020-09-12</td>\n",
       "      <td>39.0</td>\n",
       "      <td>92.0</td>\n",
       "      <td>33</td>\n",
       "      <td>1132652.0</td>\n",
       "      <td>0.0</td>\n",
       "      <td>19239.142857</td>\n",
       "      <td>0.002027</td>\n",
       "      <td>0.004782</td>\n",
       "      <td>0.001715</td>\n",
       "      <td>2.787879</td>\n",
       "    </tr>\n",
       "    <tr>\n",
       "      <th>2</th>\n",
       "      <td>2020-09-11</td>\n",
       "      <td>57.0</td>\n",
       "      <td>46.0</td>\n",
       "      <td>19</td>\n",
       "      <td>1132652.0</td>\n",
       "      <td>24366.0</td>\n",
       "      <td>19239.142857</td>\n",
       "      <td>0.002963</td>\n",
       "      <td>0.002391</td>\n",
       "      <td>0.000988</td>\n",
       "      <td>2.421053</td>\n",
       "    </tr>\n",
       "    <tr>\n",
       "      <th>3</th>\n",
       "      <td>2020-09-10</td>\n",
       "      <td>59.0</td>\n",
       "      <td>45.0</td>\n",
       "      <td>15</td>\n",
       "      <td>1108286.0</td>\n",
       "      <td>21528.0</td>\n",
       "      <td>18751.428571</td>\n",
       "      <td>0.003146</td>\n",
       "      <td>0.002400</td>\n",
       "      <td>0.000800</td>\n",
       "      <td>3.000000</td>\n",
       "    </tr>\n",
       "    <tr>\n",
       "      <th>4</th>\n",
       "      <td>2020-09-09</td>\n",
       "      <td>59.0</td>\n",
       "      <td>67.0</td>\n",
       "      <td>21</td>\n",
       "      <td>1086758.0</td>\n",
       "      <td>17732.0</td>\n",
       "      <td>18235.714286</td>\n",
       "      <td>0.003235</td>\n",
       "      <td>0.003674</td>\n",
       "      <td>0.001152</td>\n",
       "      <td>3.190476</td>\n",
       "    </tr>\n",
       "  </tbody>\n",
       "</table>\n",
       "</div>"
      ],
      "text/plain": [
       "  sample_date_string  tek_count  new_tek_count  new_tek_devices  \\\n",
       "0         2020-09-13       26.0           92.0               32   \n",
       "1         2020-09-12       39.0           92.0               33   \n",
       "2         2020-09-11       57.0           46.0               19   \n",
       "3         2020-09-10       59.0           45.0               15   \n",
       "4         2020-09-09       59.0           67.0               21   \n",
       "\n",
       "   cumulative_cases  new_cases  rolling_mean_new_cases  \\\n",
       "0         1132652.0        0.0            19239.142857   \n",
       "1         1132652.0        0.0            19239.142857   \n",
       "2         1132652.0    24366.0            19239.142857   \n",
       "3         1108286.0    21528.0            18751.428571   \n",
       "4         1086758.0    17732.0            18235.714286   \n",
       "\n",
       "   tek_count_per_new_case  new_tek_count_per_new_case  \\\n",
       "0                0.001351                    0.004782   \n",
       "1                0.002027                    0.004782   \n",
       "2                0.002963                    0.002391   \n",
       "3                0.003146                    0.002400   \n",
       "4                0.003235                    0.003674   \n",
       "\n",
       "   new_tek_devices_per_new_case  new_tek_count_per_new_tek_device  \n",
       "0                      0.001663                          2.875000  \n",
       "1                      0.001715                          2.787879  \n",
       "2                      0.000988                          2.421053  \n",
       "3                      0.000800                          3.000000  \n",
       "4                      0.001152                          3.190476  "
      ]
     },
     "execution_count": 23,
     "metadata": {},
     "output_type": "execute_result"
    }
   ],
   "source": [
    "result_summary_df[\"tek_count_per_new_case\"] = \\\n",
    "    result_summary_df.tek_count / result_summary_df.rolling_mean_new_cases\n",
    "result_summary_df[\"new_tek_count_per_new_case\"] = \\\n",
    "    result_summary_df.new_tek_count / result_summary_df.rolling_mean_new_cases\n",
    "result_summary_df[\"new_tek_devices_per_new_case\"] = \\\n",
    "    result_summary_df.new_tek_devices / result_summary_df.rolling_mean_new_cases\n",
    "result_summary_df[\"new_tek_count_per_new_tek_device\"] = \\\n",
    "    result_summary_df.new_tek_count / result_summary_df.new_tek_devices\n",
    "result_summary_df.head()"
   ]
  },
  {
   "cell_type": "code",
   "execution_count": 24,
   "metadata": {
    "execution": {
     "iopub.execute_input": "2020-09-14T14:20:08.747048Z",
     "iopub.status.busy": "2020-09-14T14:20:08.746474Z",
     "iopub.status.idle": "2020-09-14T14:20:08.748935Z",
     "shell.execute_reply": "2020-09-14T14:20:08.748477Z"
    },
    "papermill": {
     "duration": 0.04519,
     "end_time": "2020-09-14T14:20:08.749068",
     "exception": false,
     "start_time": "2020-09-14T14:20:08.703878",
     "status": "completed"
    },
    "pycharm": {
     "name": "#%%\n"
    },
    "tags": []
   },
   "outputs": [],
   "source": [
    "result_summary_df[\"sample_date\"] = pd.to_datetime(result_summary_df.sample_date_string)\n",
    "result_summary_df.set_index(\"sample_date\", inplace=True)\n",
    "result_summary_df = result_summary_df.sort_index(ascending=False)"
   ]
  },
  {
   "cell_type": "markdown",
   "metadata": {
    "execution": {
     "iopub.execute_input": "2020-08-30T22:30:17.313260Z",
     "iopub.status.busy": "2020-08-30T22:30:17.312584Z",
     "iopub.status.idle": "2020-08-30T22:30:17.317571Z",
     "shell.execute_reply": "2020-08-30T22:30:17.316929Z"
    },
    "papermill": {
     "duration": 0.031791,
     "end_time": "2020-09-14T14:20:08.813016",
     "exception": false,
     "start_time": "2020-09-14T14:20:08.781225",
     "status": "completed"
    },
    "pycharm": {
     "name": "#%% md\n"
    },
    "tags": []
   },
   "source": [
    "## Report Results\n"
   ]
  },
  {
   "cell_type": "markdown",
   "metadata": {
    "papermill": {
     "duration": 0.031655,
     "end_time": "2020-09-14T14:20:08.876562",
     "exception": false,
     "start_time": "2020-09-14T14:20:08.844907",
     "status": "completed"
    },
    "tags": []
   },
   "source": [
    "### Summary Table"
   ]
  },
  {
   "cell_type": "code",
   "execution_count": 25,
   "metadata": {
    "execution": {
     "iopub.execute_input": "2020-09-14T14:20:08.960132Z",
     "iopub.status.busy": "2020-09-14T14:20:08.959399Z",
     "iopub.status.idle": "2020-09-14T14:20:08.962786Z",
     "shell.execute_reply": "2020-09-14T14:20:08.962233Z"
    },
    "papermill": {
     "duration": 0.054693,
     "end_time": "2020-09-14T14:20:08.962912",
     "exception": false,
     "start_time": "2020-09-14T14:20:08.908219",
     "status": "completed"
    },
    "tags": []
   },
   "outputs": [
    {
     "data": {
      "text/html": [
       "<div>\n",
       "<style scoped>\n",
       "    .dataframe tbody tr th:only-of-type {\n",
       "        vertical-align: middle;\n",
       "    }\n",
       "\n",
       "    .dataframe tbody tr th {\n",
       "        vertical-align: top;\n",
       "    }\n",
       "\n",
       "    .dataframe thead th {\n",
       "        text-align: right;\n",
       "    }\n",
       "</style>\n",
       "<table border=\"1\" class=\"dataframe\">\n",
       "  <thead>\n",
       "    <tr style=\"text-align: right;\">\n",
       "      <th></th>\n",
       "      <th>tek_count</th>\n",
       "      <th>new_tek_count</th>\n",
       "      <th>new_cases</th>\n",
       "      <th>rolling_mean_new_cases</th>\n",
       "      <th>tek_count_per_new_case</th>\n",
       "      <th>new_tek_count_per_new_case</th>\n",
       "      <th>new_tek_devices</th>\n",
       "      <th>new_tek_devices_per_new_case</th>\n",
       "      <th>new_tek_count_per_new_tek_device</th>\n",
       "    </tr>\n",
       "    <tr>\n",
       "      <th>sample_date</th>\n",
       "      <th></th>\n",
       "      <th></th>\n",
       "      <th></th>\n",
       "      <th></th>\n",
       "      <th></th>\n",
       "      <th></th>\n",
       "      <th></th>\n",
       "      <th></th>\n",
       "      <th></th>\n",
       "    </tr>\n",
       "  </thead>\n",
       "  <tbody>\n",
       "    <tr>\n",
       "      <th>2020-09-14</th>\n",
       "      <td>NaN</td>\n",
       "      <td>54.0</td>\n",
       "      <td>19239.142857</td>\n",
       "      <td>19239.142857</td>\n",
       "      <td>NaN</td>\n",
       "      <td>0.002807</td>\n",
       "      <td>26</td>\n",
       "      <td>0.001351</td>\n",
       "      <td>2.076923</td>\n",
       "    </tr>\n",
       "    <tr>\n",
       "      <th>2020-09-13</th>\n",
       "      <td>26.0</td>\n",
       "      <td>92.0</td>\n",
       "      <td>0.000000</td>\n",
       "      <td>19239.142857</td>\n",
       "      <td>0.001351</td>\n",
       "      <td>0.004782</td>\n",
       "      <td>32</td>\n",
       "      <td>0.001663</td>\n",
       "      <td>2.875000</td>\n",
       "    </tr>\n",
       "    <tr>\n",
       "      <th>2020-09-12</th>\n",
       "      <td>39.0</td>\n",
       "      <td>92.0</td>\n",
       "      <td>0.000000</td>\n",
       "      <td>19239.142857</td>\n",
       "      <td>0.002027</td>\n",
       "      <td>0.004782</td>\n",
       "      <td>33</td>\n",
       "      <td>0.001715</td>\n",
       "      <td>2.787879</td>\n",
       "    </tr>\n",
       "    <tr>\n",
       "      <th>2020-09-11</th>\n",
       "      <td>57.0</td>\n",
       "      <td>46.0</td>\n",
       "      <td>24366.000000</td>\n",
       "      <td>19239.142857</td>\n",
       "      <td>0.002963</td>\n",
       "      <td>0.002391</td>\n",
       "      <td>19</td>\n",
       "      <td>0.000988</td>\n",
       "      <td>2.421053</td>\n",
       "    </tr>\n",
       "    <tr>\n",
       "      <th>2020-09-10</th>\n",
       "      <td>59.0</td>\n",
       "      <td>45.0</td>\n",
       "      <td>21528.000000</td>\n",
       "      <td>18751.428571</td>\n",
       "      <td>0.003146</td>\n",
       "      <td>0.002400</td>\n",
       "      <td>15</td>\n",
       "      <td>0.000800</td>\n",
       "      <td>3.000000</td>\n",
       "    </tr>\n",
       "    <tr>\n",
       "      <th>2020-09-09</th>\n",
       "      <td>59.0</td>\n",
       "      <td>67.0</td>\n",
       "      <td>17732.000000</td>\n",
       "      <td>18235.714286</td>\n",
       "      <td>0.003235</td>\n",
       "      <td>0.003674</td>\n",
       "      <td>21</td>\n",
       "      <td>0.001152</td>\n",
       "      <td>3.190476</td>\n",
       "    </tr>\n",
       "    <tr>\n",
       "      <th>2020-09-08</th>\n",
       "      <td>61.0</td>\n",
       "      <td>44.0</td>\n",
       "      <td>17928.000000</td>\n",
       "      <td>18154.285714</td>\n",
       "      <td>0.003360</td>\n",
       "      <td>0.002424</td>\n",
       "      <td>18</td>\n",
       "      <td>0.000992</td>\n",
       "      <td>2.444444</td>\n",
       "    </tr>\n",
       "    <tr>\n",
       "      <th>2020-09-07</th>\n",
       "      <td>58.0</td>\n",
       "      <td>52.0</td>\n",
       "      <td>53120.000000</td>\n",
       "      <td>17911.714286</td>\n",
       "      <td>0.003238</td>\n",
       "      <td>0.002903</td>\n",
       "      <td>22</td>\n",
       "      <td>0.001228</td>\n",
       "      <td>2.363636</td>\n",
       "    </tr>\n",
       "    <tr>\n",
       "      <th>2020-09-06</th>\n",
       "      <td>54.0</td>\n",
       "      <td>60.0</td>\n",
       "      <td>0.000000</td>\n",
       "      <td>17058.000000</td>\n",
       "      <td>0.003166</td>\n",
       "      <td>0.003517</td>\n",
       "      <td>24</td>\n",
       "      <td>0.001407</td>\n",
       "      <td>2.500000</td>\n",
       "    </tr>\n",
       "    <tr>\n",
       "      <th>2020-09-05</th>\n",
       "      <td>56.0</td>\n",
       "      <td>40.0</td>\n",
       "      <td>0.000000</td>\n",
       "      <td>17058.000000</td>\n",
       "      <td>0.003283</td>\n",
       "      <td>0.002345</td>\n",
       "      <td>17</td>\n",
       "      <td>0.000997</td>\n",
       "      <td>2.352941</td>\n",
       "    </tr>\n",
       "    <tr>\n",
       "      <th>2020-09-04</th>\n",
       "      <td>52.0</td>\n",
       "      <td>58.0</td>\n",
       "      <td>20952.000000</td>\n",
       "      <td>17058.000000</td>\n",
       "      <td>0.003048</td>\n",
       "      <td>0.003400</td>\n",
       "      <td>20</td>\n",
       "      <td>0.001172</td>\n",
       "      <td>2.900000</td>\n",
       "    </tr>\n",
       "    <tr>\n",
       "      <th>2020-09-03</th>\n",
       "      <td>51.0</td>\n",
       "      <td>49.0</td>\n",
       "      <td>17918.000000</td>\n",
       "      <td>16858.857143</td>\n",
       "      <td>0.003025</td>\n",
       "      <td>0.002906</td>\n",
       "      <td>19</td>\n",
       "      <td>0.001127</td>\n",
       "      <td>2.578947</td>\n",
       "    </tr>\n",
       "    <tr>\n",
       "      <th>2020-09-02</th>\n",
       "      <td>52.0</td>\n",
       "      <td>57.0</td>\n",
       "      <td>17162.000000</td>\n",
       "      <td>17058.571429</td>\n",
       "      <td>0.003048</td>\n",
       "      <td>0.003341</td>\n",
       "      <td>14</td>\n",
       "      <td>0.000821</td>\n",
       "      <td>4.071429</td>\n",
       "    </tr>\n",
       "    <tr>\n",
       "      <th>2020-09-01</th>\n",
       "      <td>46.0</td>\n",
       "      <td>NaN</td>\n",
       "      <td>16230.000000</td>\n",
       "      <td>16691.428571</td>\n",
       "      <td>0.002756</td>\n",
       "      <td>NaN</td>\n",
       "      <td>14</td>\n",
       "      <td>0.000839</td>\n",
       "      <td>NaN</td>\n",
       "    </tr>\n",
       "  </tbody>\n",
       "</table>\n",
       "</div>"
      ],
      "text/plain": [
       "             tek_count  new_tek_count     new_cases  rolling_mean_new_cases  \\\n",
       "sample_date                                                                   \n",
       "2020-09-14         NaN           54.0  19239.142857            19239.142857   \n",
       "2020-09-13        26.0           92.0      0.000000            19239.142857   \n",
       "2020-09-12        39.0           92.0      0.000000            19239.142857   \n",
       "2020-09-11        57.0           46.0  24366.000000            19239.142857   \n",
       "2020-09-10        59.0           45.0  21528.000000            18751.428571   \n",
       "2020-09-09        59.0           67.0  17732.000000            18235.714286   \n",
       "2020-09-08        61.0           44.0  17928.000000            18154.285714   \n",
       "2020-09-07        58.0           52.0  53120.000000            17911.714286   \n",
       "2020-09-06        54.0           60.0      0.000000            17058.000000   \n",
       "2020-09-05        56.0           40.0      0.000000            17058.000000   \n",
       "2020-09-04        52.0           58.0  20952.000000            17058.000000   \n",
       "2020-09-03        51.0           49.0  17918.000000            16858.857143   \n",
       "2020-09-02        52.0           57.0  17162.000000            17058.571429   \n",
       "2020-09-01        46.0            NaN  16230.000000            16691.428571   \n",
       "\n",
       "             tek_count_per_new_case  new_tek_count_per_new_case  \\\n",
       "sample_date                                                       \n",
       "2020-09-14                      NaN                    0.002807   \n",
       "2020-09-13                 0.001351                    0.004782   \n",
       "2020-09-12                 0.002027                    0.004782   \n",
       "2020-09-11                 0.002963                    0.002391   \n",
       "2020-09-10                 0.003146                    0.002400   \n",
       "2020-09-09                 0.003235                    0.003674   \n",
       "2020-09-08                 0.003360                    0.002424   \n",
       "2020-09-07                 0.003238                    0.002903   \n",
       "2020-09-06                 0.003166                    0.003517   \n",
       "2020-09-05                 0.003283                    0.002345   \n",
       "2020-09-04                 0.003048                    0.003400   \n",
       "2020-09-03                 0.003025                    0.002906   \n",
       "2020-09-02                 0.003048                    0.003341   \n",
       "2020-09-01                 0.002756                         NaN   \n",
       "\n",
       "             new_tek_devices  new_tek_devices_per_new_case  \\\n",
       "sample_date                                                  \n",
       "2020-09-14                26                      0.001351   \n",
       "2020-09-13                32                      0.001663   \n",
       "2020-09-12                33                      0.001715   \n",
       "2020-09-11                19                      0.000988   \n",
       "2020-09-10                15                      0.000800   \n",
       "2020-09-09                21                      0.001152   \n",
       "2020-09-08                18                      0.000992   \n",
       "2020-09-07                22                      0.001228   \n",
       "2020-09-06                24                      0.001407   \n",
       "2020-09-05                17                      0.000997   \n",
       "2020-09-04                20                      0.001172   \n",
       "2020-09-03                19                      0.001127   \n",
       "2020-09-02                14                      0.000821   \n",
       "2020-09-01                14                      0.000839   \n",
       "\n",
       "             new_tek_count_per_new_tek_device  \n",
       "sample_date                                    \n",
       "2020-09-14                           2.076923  \n",
       "2020-09-13                           2.875000  \n",
       "2020-09-12                           2.787879  \n",
       "2020-09-11                           2.421053  \n",
       "2020-09-10                           3.000000  \n",
       "2020-09-09                           3.190476  \n",
       "2020-09-08                           2.444444  \n",
       "2020-09-07                           2.363636  \n",
       "2020-09-06                           2.500000  \n",
       "2020-09-05                           2.352941  \n",
       "2020-09-04                           2.900000  \n",
       "2020-09-03                           2.578947  \n",
       "2020-09-02                           4.071429  \n",
       "2020-09-01                                NaN  "
      ]
     },
     "execution_count": 25,
     "metadata": {},
     "output_type": "execute_result"
    }
   ],
   "source": [
    "result_summary_df_ = result_summary_df.copy()\n",
    "result_summary_df = result_summary_df[[\n",
    "    \"tek_count\",\n",
    "    \"new_tek_count\",\n",
    "    \"new_cases\",\n",
    "    \"rolling_mean_new_cases\",\n",
    "    \"tek_count_per_new_case\",\n",
    "    \"new_tek_count_per_new_case\",\n",
    "    \"new_tek_devices\",\n",
    "    \"new_tek_devices_per_new_case\",\n",
    "    \"new_tek_count_per_new_tek_device\"]]\n",
    "result_summary_df"
   ]
  },
  {
   "cell_type": "markdown",
   "metadata": {
    "papermill": {
     "duration": 0.032423,
     "end_time": "2020-09-14T14:20:09.028290",
     "exception": false,
     "start_time": "2020-09-14T14:20:08.995867",
     "status": "completed"
    },
    "tags": []
   },
   "source": [
    "### Summary Plots"
   ]
  },
  {
   "cell_type": "code",
   "execution_count": 26,
   "metadata": {
    "execution": {
     "iopub.execute_input": "2020-09-14T14:20:09.150011Z",
     "iopub.status.busy": "2020-09-14T14:20:09.127399Z",
     "iopub.status.idle": "2020-09-14T14:20:10.334597Z",
     "shell.execute_reply": "2020-09-14T14:20:10.334110Z"
    },
    "papermill": {
     "duration": 1.273947,
     "end_time": "2020-09-14T14:20:10.334730",
     "exception": false,
     "start_time": "2020-09-14T14:20:09.060783",
     "status": "completed"
    },
    "scrolled": false,
    "tags": []
   },
   "outputs": [
    {
     "data": {
      "image/png": "[encoded data removed]",
      "text/plain": [
       "<Figure size 1080x1584 with 6 Axes>"
      ]
     },
     "metadata": {},
     "output_type": "display_data"
    }
   ],
   "source": [
    "summary_ax_list = result_summary_df[[\n",
    "    \"rolling_mean_new_cases\",\n",
    "    \"tek_count\",\n",
    "    \"new_tek_count\",\n",
    "    \"new_tek_devices\",\n",
    "    \"new_tek_count_per_new_tek_device\",\n",
    "    \"new_tek_devices_per_new_case\"\n",
    "]].sort_index(ascending=True).plot.bar(\n",
    "    title=\"Summary\", rot=45, subplots=True, figsize=(15, 22))\n",
    "summary_ax_list[-1].yaxis.set_major_formatter(matplotlib.ticker.PercentFormatter(1.0))"
   ]
  },
  {
   "cell_type": "markdown",
   "metadata": {
    "papermill": {
     "duration": 0.035328,
     "end_time": "2020-09-14T14:20:10.405520",
     "exception": false,
     "start_time": "2020-09-14T14:20:10.370192",
     "status": "completed"
    },
    "tags": []
   },
   "source": [
    "### Hourly Summary Plots "
   ]
  },
  {
   "cell_type": "code",
   "execution_count": 27,
   "metadata": {
    "execution": {
     "iopub.execute_input": "2020-09-14T14:20:10.488190Z",
     "iopub.status.busy": "2020-09-14T14:20:10.487613Z",
     "iopub.status.idle": "2020-09-14T14:20:10.992646Z",
     "shell.execute_reply": "2020-09-14T14:20:10.993174Z"
    },
    "papermill": {
     "duration": 0.552594,
     "end_time": "2020-09-14T14:20:10.993362",
     "exception": false,
     "start_time": "2020-09-14T14:20:10.440768",
     "status": "completed"
    },
    "pycharm": {
     "name": "#%%\n"
    },
    "tags": []
   },
   "outputs": [
    {
     "data": {
      "image/png": "[encoded data removed]",
      "text/plain": [
       "<Figure size 1080x432 with 2 Axes>"
      ]
     },
     "metadata": {},
     "output_type": "display_data"
    }
   ],
   "source": [
    "hourly_summary_ax_list = hourly_summary_df.plot.bar(\n",
    "    title=\"Last 24h Summary\", rot=45, subplots=True)"
   ]
  },
  {
   "cell_type": "markdown",
   "metadata": {
    "papermill": {
     "duration": 0.036696,
     "end_time": "2020-09-14T14:20:11.066774",
     "exception": false,
     "start_time": "2020-09-14T14:20:11.030078",
     "status": "completed"
    },
    "tags": []
   },
   "source": [
    "### Publish Results"
   ]
  },
  {
   "cell_type": "code",
   "execution_count": 28,
   "metadata": {
    "execution": {
     "iopub.execute_input": "2020-09-14T14:20:11.154153Z",
     "iopub.status.busy": "2020-09-14T14:20:11.153571Z",
     "iopub.status.idle": "2020-09-14T14:20:24.262070Z",
     "shell.execute_reply": "2020-09-14T14:20:24.262567Z"
    },
    "papermill": {
     "duration": 13.159524,
     "end_time": "2020-09-14T14:20:24.262734",
     "exception": false,
     "start_time": "2020-09-14T14:20:11.103210",
     "status": "completed"
    },
    "pycharm": {
     "name": "#%%\n"
    },
    "tags": []
   },
   "outputs": [],
   "source": [
    "def get_temporary_image_path() -> str:\n",
    "    return os.path.join(tempfile.gettempdir(), str(uuid.uuid4()) + \".png\")\n",
    "\n",
    "def save_temporary_plot_image(ax):\n",
    "    if isinstance(ax, np.ndarray):\n",
    "        ax = ax[0]\n",
    "    media_path = get_temporary_image_path()\n",
    "    ax.get_figure().savefig(media_path)\n",
    "    return media_path\n",
    "\n",
    "def save_temporary_dataframe_image(df):\n",
    "    media_path = get_temporary_image_path()\n",
    "    dfi.export(df, media_path)\n",
    "    return media_path\n",
    "\n",
    "summary_plots_image_path = save_temporary_plot_image(ax=summary_ax_list)\n",
    "summary_table_image_path = save_temporary_dataframe_image(df=result_summary_df)\n",
    "hourly_summary_plots_image_path = save_temporary_plot_image(ax=hourly_summary_ax_list)"
   ]
  },
  {
   "cell_type": "markdown",
   "metadata": {
    "papermill": {
     "duration": 0.036271,
     "end_time": "2020-09-14T14:20:24.335815",
     "exception": false,
     "start_time": "2020-09-14T14:20:24.299544",
     "status": "completed"
    },
    "tags": []
   },
   "source": [
    "### Save Results"
   ]
  },
  {
   "cell_type": "code",
   "execution_count": 29,
   "metadata": {
    "execution": {
     "iopub.execute_input": "2020-09-14T14:20:24.417847Z",
     "iopub.status.busy": "2020-09-14T14:20:24.417020Z",
     "iopub.status.idle": "2020-09-14T14:20:24.429182Z",
     "shell.execute_reply": "2020-09-14T14:20:24.428721Z"
    },
    "papermill": {
     "duration": 0.057006,
     "end_time": "2020-09-14T14:20:24.429351",
     "exception": false,
     "start_time": "2020-09-14T14:20:24.372345",
     "status": "completed"
    },
    "pycharm": {
     "name": "#%%\n"
    },
    "tags": []
   },
   "outputs": [],
   "source": [
    "report_resources_path_prefix = \"Data/Resources/Current/RadarCOVID-Report-\"\n",
    "result_summary_df.to_csv(report_resources_path_prefix + \"Summary-Table.csv\")\n",
    "result_summary_df.to_html(report_resources_path_prefix + \"Summary-Table.html\")\n",
    "_ = shutil.copyfile(summary_plots_image_path, report_resources_path_prefix + \"Summary-Plots.png\")\n",
    "_ = shutil.copyfile(summary_table_image_path, report_resources_path_prefix + \"Summary-Table.png\")\n",
    "_ = shutil.copyfile(hourly_summary_plots_image_path, report_resources_path_prefix + \"Hourly-Summary-Plots.png\")\n",
    "\n",
    "report_daily_url_pattern = \\\n",
    "    \"https://github.com/pvieito/RadarCOVID-Report/blob/master/Notebooks/\" \\\n",
    "    \"RadarCOVID-Report/{report_type}/RadarCOVID-Report-{report_date}.ipynb\"\n",
    "report_daily_url = report_daily_url_pattern.format(\n",
    "    report_type=\"Daily\", report_date=extraction_date)\n",
    "report_hourly_url = report_daily_url_pattern.format(\n",
    "    report_type=\"Hourly\", report_date=extraction_date_with_hour)"
   ]
  },
  {
   "cell_type": "markdown",
   "metadata": {
    "papermill": {
     "duration": 0.03613,
     "end_time": "2020-09-14T14:20:24.501952",
     "exception": false,
     "start_time": "2020-09-14T14:20:24.465822",
     "status": "completed"
    },
    "tags": []
   },
   "source": [
    "### Publish on README"
   ]
  },
  {
   "cell_type": "code",
   "execution_count": 30,
   "metadata": {
    "execution": {
     "iopub.execute_input": "2020-09-14T14:20:24.584307Z",
     "iopub.status.busy": "2020-09-14T14:20:24.583742Z",
     "iopub.status.idle": "2020-09-14T14:20:24.592489Z",
     "shell.execute_reply": "2020-09-14T14:20:24.592034Z"
    },
    "papermill": {
     "duration": 0.054283,
     "end_time": "2020-09-14T14:20:24.592622",
     "exception": false,
     "start_time": "2020-09-14T14:20:24.538339",
     "status": "completed"
    },
    "pycharm": {
     "name": "#%%\n"
    },
    "tags": []
   },
   "outputs": [],
   "source": [
    "with open(\"Data/Templates/README.md\", \"r\") as f:\n",
    "    readme_contents = f.read()\n",
    "\n",
    "summary_table_html = result_summary_df.to_html()\n",
    "readme_contents = readme_contents.format(\n",
    "    summary_table_html=summary_table_html,\n",
    "    report_url_with_hour=report_hourly_url,\n",
    "    extraction_date_with_hour=extraction_date_with_hour)\n",
    "\n",
    "with open(\"README.md\", \"w\") as f:\n",
    "    f.write(readme_contents)"
   ]
  },
  {
   "cell_type": "markdown",
   "metadata": {
    "papermill": {
     "duration": 0.036306,
     "end_time": "2020-09-14T14:20:24.665470",
     "exception": false,
     "start_time": "2020-09-14T14:20:24.629164",
     "status": "completed"
    },
    "pycharm": {
     "name": "#%% md\n"
    },
    "tags": []
   },
   "source": [
    "### Publish on Twitter"
   ]
  },
  {
   "cell_type": "code",
   "execution_count": 31,
   "metadata": {
    "execution": {
     "iopub.execute_input": "2020-09-14T14:20:24.749702Z",
     "iopub.status.busy": "2020-09-14T14:20:24.749068Z",
     "iopub.status.idle": "2020-09-14T14:20:27.102384Z",
     "shell.execute_reply": "2020-09-14T14:20:27.101501Z"
    },
    "papermill": {
     "duration": 2.400725,
     "end_time": "2020-09-14T14:20:27.102592",
     "exception": false,
     "start_time": "2020-09-14T14:20:24.701867",
     "status": "completed"
    },
    "pycharm": {
     "name": "#%%\n"
    },
    "tags": []
   },
   "outputs": [],
   "source": [
    "enable_share_to_twitter = os.environ.get(\"RADARCOVID_REPORT__ENABLE_PUBLISH_ON_TWITTER\")\n",
    "github_event_name = os.environ.get(\"GITHUB_EVENT_NAME\")\n",
    "\n",
    "if enable_share_to_twitter and github_event_name == \"schedule\":\n",
    "    import tweepy\n",
    "\n",
    "    twitter_api_auth_keys = os.environ[\"RADARCOVID_REPORT__TWITTER_API_AUTH_KEYS\"]\n",
    "    twitter_api_auth_keys = twitter_api_auth_keys.split(\":\")\n",
    "    auth = tweepy.OAuthHandler(twitter_api_auth_keys[0], twitter_api_auth_keys[1])\n",
    "    auth.set_access_token(twitter_api_auth_keys[2], twitter_api_auth_keys[3])\n",
    "\n",
    "    api = tweepy.API(auth)\n",
    "\n",
    "    summary_plots_media = api.media_upload(summary_plots_image_path)\n",
    "    summary_table_media = api.media_upload(summary_table_image_path)\n",
    "    hourly_summary_plots_media = api.media_upload(hourly_summary_plots_image_path)\n",
    "    media_ids = [\n",
    "        summary_plots_media.media_id,\n",
    "        summary_table_media.media_id,\n",
    "        hourly_summary_plots_media.media_id,\n",
    "    ]\n",
    "\n",
    "    extraction_date_result_summary_df = \\\n",
    "        result_summary_df[result_summary_df.index == extraction_date]\n",
    "    extraction_date_result_hourly_summary_df = \\\n",
    "        hourly_summary_df[hourly_summary_df.extraction_date_with_hour == extraction_date_with_hour]\n",
    "\n",
    "    new_teks = extraction_date_result_summary_df.new_tek_count.sum().astype(int)\n",
    "    new_teks_last_hour = extraction_date_result_hourly_summary_df.new_tek_count.sum().astype(int)\n",
    "    new_devices = extraction_date_result_summary_df.new_tek_devices.sum().astype(int)\n",
    "    new_devices_last_hour = extraction_date_result_hourly_summary_df.new_tek_devices.sum().astype(int)\n",
    "    new_tek_count_per_new_tek_device = \\\n",
    "        extraction_date_result_summary_df.new_tek_count_per_new_tek_device.sum()\n",
    "    new_tek_devices_per_new_case = \\\n",
    "        extraction_date_result_summary_df.new_tek_devices_per_new_case.sum()\n",
    "\n",
    "    status = textwrap.dedent(f\"\"\"\n",
    "        Report Update – {extraction_date_with_hour}\n",
    "        #ExposureNotification #RadarCOVID\n",
    "\n",
    "        Shared Diagnoses Day Summary:\n",
    "        - New TEKs: {new_teks} ({new_teks_last_hour:+d} last hour)\n",
    "        - New Devices: {new_devices} ({new_devices_last_hour:+d} last hour, {new_tek_count_per_new_tek_device:.2} TEKs/device)\n",
    "        - Usage Ratio: {new_tek_devices_per_new_case:.2%} devices/case\n",
    "\n",
    "        Report Link: {report_hourly_url}\n",
    "        \"\"\")\n",
    "    status = status.encode(encoding=\"utf-8\")\n",
    "    api.update_status(status=status, media_ids=media_ids)"
   ]
  }
 ],
 "metadata": {
  "kernelspec": {
   "display_name": "Python 3",
   "language": "python",
   "name": "python3"
  },
  "language_info": {
   "codemirror_mode": {
    "name": "ipython",
    "version": 3
   },
   "file_extension": ".py",
   "mimetype": "text/x-python",
   "name": "python",
   "nbconvert_exporter": "python",
   "pygments_lexer": "ipython3",
   "version": "3.8.5"
  },
  "papermill": {
   "duration": 28.331164,
   "end_time": "2020-09-14T14:20:28.570522",
   "environment_variables": {},
   "exception": null,
   "input_path": "Notebooks/RadarCOVID-Report/Source/RadarCOVID-Report.ipynb",
   "output_path": "RadarCOVID-Report.ipynb",
   "parameters": {},
   "start_time": "2020-09-14T14:20:00.239358",
   "version": "2.1.3"
  }
 },
 "nbformat": 4,
 "nbformat_minor": 1
}