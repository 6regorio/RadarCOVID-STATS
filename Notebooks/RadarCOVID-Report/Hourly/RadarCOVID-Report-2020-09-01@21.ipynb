{
 "cells": [
  {
   "cell_type": "markdown",
   "metadata": {
    "papermill": {
     "duration": 0.028113,
     "end_time": "2020-09-01T21:17:51.189792",
     "exception": false,
     "start_time": "2020-09-01T21:17:51.161679",
     "status": "completed"
    },
    "pycharm": {
     "name": "#%% md\n"
    },
    "tags": []
   },
   "source": [
    "# RadarCOVID-Report"
   ]
  },
  {
   "cell_type": "markdown",
   "metadata": {
    "collapsed": true,
    "papermill": {
     "duration": 0.026079,
     "end_time": "2020-09-01T21:17:51.241597",
     "exception": false,
     "start_time": "2020-09-01T21:17:51.215518",
     "status": "completed"
    },
    "pycharm": {
     "name": "#%% md\n"
    },
    "tags": []
   },
   "source": [
    "## Data Extraction"
   ]
  },
  {
   "cell_type": "code",
   "execution_count": 1,
   "metadata": {
    "execution": {
     "iopub.execute_input": "2020-09-01T21:17:51.297773Z",
     "iopub.status.busy": "2020-09-01T21:17:51.297083Z",
     "iopub.status.idle": "2020-09-01T21:17:54.912970Z",
     "shell.execute_reply": "2020-09-01T21:17:54.912318Z"
    },
    "papermill": {
     "duration": 3.646776,
     "end_time": "2020-09-01T21:17:54.913175",
     "exception": false,
     "start_time": "2020-09-01T21:17:51.266399",
     "status": "completed"
    },
    "pycharm": {
     "name": "#%%\n"
    },
    "tags": []
   },
   "outputs": [],
   "source": [
    "import datetime\n",
    "import logging\n",
    "import os\n",
    "import shutil\n",
    "import tempfile\n",
    "import textwrap\n",
    "import uuid\n",
    "\n",
    "import dataframe_image as dfi\n",
    "import matplotlib.ticker\n",
    "import numpy as np\n",
    "import pandas as pd\n",
    "import seaborn as sns\n",
    "\n",
    "%matplotlib inline"
   ]
  },
  {
   "cell_type": "code",
   "execution_count": 2,
   "metadata": {
    "execution": {
     "iopub.execute_input": "2020-09-01T21:17:54.971156Z",
     "iopub.status.busy": "2020-09-01T21:17:54.970489Z",
     "iopub.status.idle": "2020-09-01T21:17:54.974689Z",
     "shell.execute_reply": "2020-09-01T21:17:54.974142Z"
    },
    "papermill": {
     "duration": 0.035495,
     "end_time": "2020-09-01T21:17:54.974823",
     "exception": false,
     "start_time": "2020-09-01T21:17:54.939328",
     "status": "completed"
    },
    "pycharm": {
     "name": "#%%\n"
    },
    "tags": []
   },
   "outputs": [],
   "source": [
    "sns.set()\n",
    "matplotlib.rcParams['figure.figsize'] = (15, 6)\n",
    "\n",
    "extraction_datetime = datetime.datetime.utcnow()\n",
    "extraction_date = extraction_datetime.strftime(\"%Y-%m-%d\")\n",
    "extraction_previous_datetime = extraction_datetime - datetime.timedelta(days=1)\n",
    "extraction_previous_date = extraction_previous_datetime.strftime(\"%Y-%m-%d\")\n",
    "extraction_date_with_hour = datetime.datetime.utcnow().strftime(\"%Y-%m-%d@%H\")"
   ]
  },
  {
   "cell_type": "markdown",
   "metadata": {
    "papermill": {
     "duration": 0.029391,
     "end_time": "2020-09-01T21:17:55.031122",
     "exception": false,
     "start_time": "2020-09-01T21:17:55.001731",
     "status": "completed"
    },
    "tags": []
   },
   "source": [
    "### COVID-19 Cases"
   ]
  },
  {
   "cell_type": "code",
   "execution_count": 3,
   "metadata": {
    "execution": {
     "iopub.execute_input": "2020-09-01T21:17:55.098447Z",
     "iopub.status.busy": "2020-09-01T21:17:55.097790Z",
     "iopub.status.idle": "2020-09-01T21:17:55.530095Z",
     "shell.execute_reply": "2020-09-01T21:17:55.529423Z"
    },
    "papermill": {
     "duration": 0.464429,
     "end_time": "2020-09-01T21:17:55.530242",
     "exception": false,
     "start_time": "2020-09-01T21:17:55.065813",
     "status": "completed"
    },
    "pycharm": {
     "name": "#%%\n"
    },
    "tags": []
   },
   "outputs": [],
   "source": [
    "confirmed_df = pd.read_csv(\"https://covid19tracking.narrativa.com/csv/confirmed.csv\")\n",
    "\n",
    "radar_covid_countries = {\"Spain\"}\n",
    "# radar_covid_regions = { ... }\n",
    "\n",
    "confirmed_df = confirmed_df[confirmed_df[\"Country_EN\"].isin(radar_covid_countries)]\n",
    "# confirmed_df = confirmed_df[confirmed_df[\"Region\"].isin(radar_covid_regions)]\n",
    "# set(confirmed_df.Region.tolist()) == radar_covid_regions"
   ]
  },
  {
   "cell_type": "code",
   "execution_count": 4,
   "metadata": {
    "collapsed": false,
    "execution": {
     "iopub.execute_input": "2020-09-01T21:17:55.590164Z",
     "iopub.status.busy": "2020-09-01T21:17:55.589531Z",
     "iopub.status.idle": "2020-09-01T21:17:55.601077Z",
     "shell.execute_reply": "2020-09-01T21:17:55.601631Z"
    },
    "papermill": {
     "duration": 0.044978,
     "end_time": "2020-09-01T21:17:55.601832",
     "exception": false,
     "start_time": "2020-09-01T21:17:55.556854",
     "status": "completed"
    },
    "pycharm": {
     "name": "#%%\n"
    },
    "tags": []
   },
   "outputs": [
    {
     "data": {
      "text/html": [
       "<div>\n",
       "<style scoped>\n",
       "    .dataframe tbody tr th:only-of-type {\n",
       "        vertical-align: middle;\n",
       "    }\n",
       "\n",
       "    .dataframe tbody tr th {\n",
       "        vertical-align: top;\n",
       "    }\n",
       "\n",
       "    .dataframe thead th {\n",
       "        text-align: right;\n",
       "    }\n",
       "</style>\n",
       "<table border=\"1\" class=\"dataframe\">\n",
       "  <thead>\n",
       "    <tr style=\"text-align: right;\">\n",
       "      <th></th>\n",
       "      <th>0</th>\n",
       "    </tr>\n",
       "  </thead>\n",
       "  <tbody>\n",
       "    <tr>\n",
       "      <th>2020-08-27</th>\n",
       "      <td>859014.0</td>\n",
       "    </tr>\n",
       "    <tr>\n",
       "      <th>2020-08-28</th>\n",
       "      <td>878572.0</td>\n",
       "    </tr>\n",
       "    <tr>\n",
       "      <th>2020-08-29</th>\n",
       "      <td>878572.0</td>\n",
       "    </tr>\n",
       "    <tr>\n",
       "      <th>2020-08-30</th>\n",
       "      <td>878572.0</td>\n",
       "    </tr>\n",
       "    <tr>\n",
       "      <th>2020-08-31</th>\n",
       "      <td>925716.0</td>\n",
       "    </tr>\n",
       "  </tbody>\n",
       "</table>\n",
       "</div>"
      ],
      "text/plain": [
       "                   0\n",
       "2020-08-27  859014.0\n",
       "2020-08-28  878572.0\n",
       "2020-08-29  878572.0\n",
       "2020-08-30  878572.0\n",
       "2020-08-31  925716.0"
      ]
     },
     "execution_count": 4,
     "metadata": {},
     "output_type": "execute_result"
    }
   ],
   "source": [
    "confirmed_country_columns = list(filter(lambda x: x.startswith(\"Country_\"), confirmed_df.columns))\n",
    "confirmed_regional_columns = confirmed_country_columns + [\"Region\"]\n",
    "confirmed_df.drop(columns=confirmed_regional_columns, inplace=True)\n",
    "confirmed_df = confirmed_df.sum().to_frame()\n",
    "confirmed_df.tail()"
   ]
  },
  {
   "cell_type": "code",
   "execution_count": 5,
   "metadata": {
    "collapsed": false,
    "execution": {
     "iopub.execute_input": "2020-09-01T21:17:55.660186Z",
     "iopub.status.busy": "2020-09-01T21:17:55.659552Z",
     "iopub.status.idle": "2020-09-01T21:17:55.675841Z",
     "shell.execute_reply": "2020-09-01T21:17:55.675286Z"
    },
    "papermill": {
     "duration": 0.048769,
     "end_time": "2020-09-01T21:17:55.675986",
     "exception": false,
     "start_time": "2020-09-01T21:17:55.627217",
     "status": "completed"
    },
    "pycharm": {
     "name": "#%%\n"
    },
    "tags": []
   },
   "outputs": [
    {
     "data": {
      "text/html": [
       "<div>\n",
       "<style scoped>\n",
       "    .dataframe tbody tr th:only-of-type {\n",
       "        vertical-align: middle;\n",
       "    }\n",
       "\n",
       "    .dataframe tbody tr th {\n",
       "        vertical-align: top;\n",
       "    }\n",
       "\n",
       "    .dataframe thead th {\n",
       "        text-align: right;\n",
       "    }\n",
       "</style>\n",
       "<table border=\"1\" class=\"dataframe\">\n",
       "  <thead>\n",
       "    <tr style=\"text-align: right;\">\n",
       "      <th></th>\n",
       "      <th>sample_date_string</th>\n",
       "      <th>cumulative_cases</th>\n",
       "      <th>new_cases</th>\n",
       "      <th>rolling_mean_new_cases</th>\n",
       "    </tr>\n",
       "  </thead>\n",
       "  <tbody>\n",
       "    <tr>\n",
       "      <th>217</th>\n",
       "      <td>2020-08-27</td>\n",
       "      <td>859014.0</td>\n",
       "      <td>19316.0</td>\n",
       "      <td>14743.142857</td>\n",
       "    </tr>\n",
       "    <tr>\n",
       "      <th>218</th>\n",
       "      <td>2020-08-28</td>\n",
       "      <td>878572.0</td>\n",
       "      <td>19558.0</td>\n",
       "      <td>15209.142857</td>\n",
       "    </tr>\n",
       "    <tr>\n",
       "      <th>219</th>\n",
       "      <td>2020-08-29</td>\n",
       "      <td>878572.0</td>\n",
       "      <td>0.0</td>\n",
       "      <td>15209.142857</td>\n",
       "    </tr>\n",
       "    <tr>\n",
       "      <th>220</th>\n",
       "      <td>2020-08-30</td>\n",
       "      <td>878572.0</td>\n",
       "      <td>0.0</td>\n",
       "      <td>15209.142857</td>\n",
       "    </tr>\n",
       "    <tr>\n",
       "      <th>221</th>\n",
       "      <td>2020-08-31</td>\n",
       "      <td>925716.0</td>\n",
       "      <td>47144.0</td>\n",
       "      <td>16406.285714</td>\n",
       "    </tr>\n",
       "  </tbody>\n",
       "</table>\n",
       "</div>"
      ],
      "text/plain": [
       "    sample_date_string  cumulative_cases  new_cases  rolling_mean_new_cases\n",
       "217         2020-08-27          859014.0    19316.0            14743.142857\n",
       "218         2020-08-28          878572.0    19558.0            15209.142857\n",
       "219         2020-08-29          878572.0        0.0            15209.142857\n",
       "220         2020-08-30          878572.0        0.0            15209.142857\n",
       "221         2020-08-31          925716.0    47144.0            16406.285714"
      ]
     },
     "execution_count": 5,
     "metadata": {},
     "output_type": "execute_result"
    }
   ],
   "source": [
    "confirmed_df.reset_index(inplace=True)\n",
    "confirmed_df.columns = [\"sample_date_string\", \"cumulative_cases\"]\n",
    "confirmed_df.sort_values(\"sample_date_string\", inplace=True)\n",
    "confirmed_df[\"new_cases\"] = confirmed_df.cumulative_cases.diff()\n",
    "confirmed_df[\"rolling_mean_new_cases\"] = confirmed_df.new_cases.rolling(7).mean()\n",
    "confirmed_df.tail()"
   ]
  },
  {
   "cell_type": "code",
   "execution_count": 6,
   "metadata": {
    "execution": {
     "iopub.execute_input": "2020-09-01T21:17:55.732293Z",
     "iopub.status.busy": "2020-09-01T21:17:55.731664Z",
     "iopub.status.idle": "2020-09-01T21:17:55.746068Z",
     "shell.execute_reply": "2020-09-01T21:17:55.745404Z"
    },
    "papermill": {
     "duration": 0.045075,
     "end_time": "2020-09-01T21:17:55.746215",
     "exception": false,
     "start_time": "2020-09-01T21:17:55.701140",
     "status": "completed"
    },
    "pycharm": {
     "name": "#%%\n"
    },
    "tags": []
   },
   "outputs": [
    {
     "data": {
      "text/html": [
       "<div>\n",
       "<style scoped>\n",
       "    .dataframe tbody tr th:only-of-type {\n",
       "        vertical-align: middle;\n",
       "    }\n",
       "\n",
       "    .dataframe tbody tr th {\n",
       "        vertical-align: top;\n",
       "    }\n",
       "\n",
       "    .dataframe thead th {\n",
       "        text-align: right;\n",
       "    }\n",
       "</style>\n",
       "<table border=\"1\" class=\"dataframe\">\n",
       "  <thead>\n",
       "    <tr style=\"text-align: right;\">\n",
       "      <th></th>\n",
       "      <th>sample_date_string</th>\n",
       "      <th>cumulative_cases</th>\n",
       "      <th>new_cases</th>\n",
       "      <th>rolling_mean_new_cases</th>\n",
       "    </tr>\n",
       "  </thead>\n",
       "  <tbody>\n",
       "    <tr>\n",
       "      <th>218</th>\n",
       "      <td>2020-08-28</td>\n",
       "      <td>878572.000000</td>\n",
       "      <td>19558.000000</td>\n",
       "      <td>15209.142857</td>\n",
       "    </tr>\n",
       "    <tr>\n",
       "      <th>219</th>\n",
       "      <td>2020-08-29</td>\n",
       "      <td>878572.000000</td>\n",
       "      <td>0.000000</td>\n",
       "      <td>15209.142857</td>\n",
       "    </tr>\n",
       "    <tr>\n",
       "      <th>220</th>\n",
       "      <td>2020-08-30</td>\n",
       "      <td>878572.000000</td>\n",
       "      <td>0.000000</td>\n",
       "      <td>15209.142857</td>\n",
       "    </tr>\n",
       "    <tr>\n",
       "      <th>221</th>\n",
       "      <td>2020-08-31</td>\n",
       "      <td>925716.000000</td>\n",
       "      <td>47144.000000</td>\n",
       "      <td>16406.285714</td>\n",
       "    </tr>\n",
       "    <tr>\n",
       "      <th>221</th>\n",
       "      <td>2020-09-01</td>\n",
       "      <td>942122.285714</td>\n",
       "      <td>16406.285714</td>\n",
       "      <td>16406.285714</td>\n",
       "    </tr>\n",
       "  </tbody>\n",
       "</table>\n",
       "</div>"
      ],
      "text/plain": [
       "    sample_date_string  cumulative_cases     new_cases  rolling_mean_new_cases\n",
       "218         2020-08-28     878572.000000  19558.000000            15209.142857\n",
       "219         2020-08-29     878572.000000      0.000000            15209.142857\n",
       "220         2020-08-30     878572.000000      0.000000            15209.142857\n",
       "221         2020-08-31     925716.000000  47144.000000            16406.285714\n",
       "221         2020-09-01     942122.285714  16406.285714            16406.285714"
      ]
     },
     "execution_count": 6,
     "metadata": {},
     "output_type": "execute_result"
    }
   ],
   "source": [
    "extraction_date_confirmed_df = \\\n",
    "    confirmed_df[confirmed_df.sample_date_string == extraction_date]\n",
    "extraction_previous_date_confirmed_df = \\\n",
    "    confirmed_df[confirmed_df.sample_date_string == extraction_previous_date].copy()\n",
    "\n",
    "if extraction_date_confirmed_df.empty and \\\n",
    "    not extraction_previous_date_confirmed_df.empty:\n",
    "        extraction_previous_date_confirmed_df[\"sample_date_string\"] = extraction_date\n",
    "        extraction_previous_date_confirmed_df[\"new_cases\"] = \\\n",
    "            extraction_previous_date_confirmed_df.rolling_mean_new_cases\n",
    "        extraction_previous_date_confirmed_df[\"cumulative_cases\"] = \\\n",
    "            extraction_previous_date_confirmed_df.new_cases + \\\n",
    "            extraction_previous_date_confirmed_df.cumulative_cases\n",
    "        confirmed_df = confirmed_df.append(extraction_previous_date_confirmed_df)\n",
    "        \n",
    "confirmed_df.tail()"
   ]
  },
  {
   "cell_type": "code",
   "execution_count": 7,
   "metadata": {
    "execution": {
     "iopub.execute_input": "2020-09-01T21:17:55.808788Z",
     "iopub.status.busy": "2020-09-01T21:17:55.808157Z",
     "iopub.status.idle": "2020-09-01T21:17:56.035867Z",
     "shell.execute_reply": "2020-09-01T21:17:56.036761Z"
    },
    "papermill": {
     "duration": 0.263421,
     "end_time": "2020-09-01T21:17:56.036940",
     "exception": false,
     "start_time": "2020-09-01T21:17:55.773519",
     "status": "completed"
    },
    "pycharm": {
     "name": "#%%\n"
    },
    "tags": []
   },
   "outputs": [
    {
     "data": {
      "text/plain": [
       "<matplotlib.axes._subplots.AxesSubplot at 0x7f4a608e17c0>"
      ]
     },
     "execution_count": 7,
     "metadata": {},
     "output_type": "execute_result"
    },
    {
     "data": {
      "image/png": "[encoded data removed]",
      "text/plain": [
       "<Figure size 1080x432 with 1 Axes>"
      ]
     },
     "metadata": {},
     "output_type": "display_data"
    }
   ],
   "source": [
    "confirmed_df[[\"new_cases\", \"rolling_mean_new_cases\"]].plot()"
   ]
  },
  {
   "cell_type": "markdown",
   "metadata": {
    "execution": {
     "iopub.execute_input": "2020-08-30T22:30:16.351238Z",
     "iopub.status.busy": "2020-08-30T22:30:16.344579Z",
     "iopub.status.idle": "2020-08-30T22:30:16.354285Z",
     "shell.execute_reply": "2020-08-30T22:30:16.353641Z"
    },
    "papermill": {
     "duration": 0.027269,
     "end_time": "2020-09-01T21:17:56.092505",
     "exception": false,
     "start_time": "2020-09-01T21:17:56.065236",
     "status": "completed"
    },
    "pycharm": {
     "name": "#%% md\n"
    },
    "tags": []
   },
   "source": [
    "### Extract API TEKs"
   ]
  },
  {
   "cell_type": "code",
   "execution_count": 8,
   "metadata": {
    "execution": {
     "iopub.execute_input": "2020-09-01T21:17:56.154824Z",
     "iopub.status.busy": "2020-09-01T21:17:56.154179Z",
     "iopub.status.idle": "2020-09-01T21:17:56.971179Z",
     "shell.execute_reply": "2020-09-01T21:17:56.972062Z"
    },
    "papermill": {
     "duration": 0.850447,
     "end_time": "2020-09-01T21:17:56.972254",
     "exception": false,
     "start_time": "2020-09-01T21:17:56.121807",
     "status": "completed"
    },
    "pycharm": {
     "name": "#%%\n"
    },
    "tags": []
   },
   "outputs": [
    {
     "name": "stderr",
     "output_type": "stream",
     "text": [
      "WARNING:root:NoDataFoundForDateException(\"No exposed tokens found for day '2020-09-01'.\")\n"
     ]
    },
    {
     "data": {
      "text/html": [
       "<div>\n",
       "<style scoped>\n",
       "    .dataframe tbody tr th:only-of-type {\n",
       "        vertical-align: middle;\n",
       "    }\n",
       "\n",
       "    .dataframe tbody tr th {\n",
       "        vertical-align: top;\n",
       "    }\n",
       "\n",
       "    .dataframe thead th {\n",
       "        text-align: right;\n",
       "    }\n",
       "</style>\n",
       "<table border=\"1\" class=\"dataframe\">\n",
       "  <thead>\n",
       "    <tr style=\"text-align: right;\">\n",
       "      <th></th>\n",
       "      <th>sample_date_string</th>\n",
       "      <th>source_url</th>\n",
       "      <th>region</th>\n",
       "      <th>key_data</th>\n",
       "    </tr>\n",
       "  </thead>\n",
       "  <tbody>\n",
       "    <tr>\n",
       "      <th>0</th>\n",
       "      <td>2020-08-31</td>\n",
       "      <td>https://radarcovid.covid19.gob.es/dp3t/v1/gaen...</td>\n",
       "      <td>ES</td>\n",
       "      <td>eef6b04e-53c3-f52f-4355-aec29c3b423a</td>\n",
       "    </tr>\n",
       "    <tr>\n",
       "      <th>1</th>\n",
       "      <td>2020-08-31</td>\n",
       "      <td>https://radarcovid.covid19.gob.es/dp3t/v1/gaen...</td>\n",
       "      <td>ES</td>\n",
       "      <td>1dc16dc5-c4ae-587b-ca0e-0adfb7d2edf3</td>\n",
       "    </tr>\n",
       "    <tr>\n",
       "      <th>2</th>\n",
       "      <td>2020-08-31</td>\n",
       "      <td>https://radarcovid.covid19.gob.es/dp3t/v1/gaen...</td>\n",
       "      <td>ES</td>\n",
       "      <td>de09385c-3262-1836-fdeb-9f574ded76ee</td>\n",
       "    </tr>\n",
       "    <tr>\n",
       "      <th>3</th>\n",
       "      <td>2020-08-31</td>\n",
       "      <td>https://radarcovid.covid19.gob.es/dp3t/v1/gaen...</td>\n",
       "      <td>ES</td>\n",
       "      <td>7529e134-3d6b-a51e-1517-4b46ec6c63d8</td>\n",
       "    </tr>\n",
       "    <tr>\n",
       "      <th>4</th>\n",
       "      <td>2020-08-31</td>\n",
       "      <td>https://radarcovid.covid19.gob.es/dp3t/v1/gaen...</td>\n",
       "      <td>ES</td>\n",
       "      <td>284646b2-f5a4-0103-91fe-3eb749574ece</td>\n",
       "    </tr>\n",
       "  </tbody>\n",
       "</table>\n",
       "</div>"
      ],
      "text/plain": [
       "  sample_date_string                                         source_url  \\\n",
       "0         2020-08-31  https://radarcovid.covid19.gob.es/dp3t/v1/gaen...   \n",
       "1         2020-08-31  https://radarcovid.covid19.gob.es/dp3t/v1/gaen...   \n",
       "2         2020-08-31  https://radarcovid.covid19.gob.es/dp3t/v1/gaen...   \n",
       "3         2020-08-31  https://radarcovid.covid19.gob.es/dp3t/v1/gaen...   \n",
       "4         2020-08-31  https://radarcovid.covid19.gob.es/dp3t/v1/gaen...   \n",
       "\n",
       "  region                              key_data  \n",
       "0     ES  eef6b04e-53c3-f52f-4355-aec29c3b423a  \n",
       "1     ES  1dc16dc5-c4ae-587b-ca0e-0adfb7d2edf3  \n",
       "2     ES  de09385c-3262-1836-fdeb-9f574ded76ee  \n",
       "3     ES  7529e134-3d6b-a51e-1517-4b46ec6c63d8  \n",
       "4     ES  284646b2-f5a4-0103-91fe-3eb749574ece  "
      ]
     },
     "execution_count": 8,
     "metadata": {},
     "output_type": "execute_result"
    }
   ],
   "source": [
    "from Modules.RadarCOVID import radar_covid\n",
    "\n",
    "exposure_keys_df = radar_covid.download_last_radar_covid_exposure_keys(days=14)\n",
    "exposure_keys_df[[\n",
    "    \"sample_date_string\", \"source_url\", \"region\", \"key_data\"]].head()"
   ]
  },
  {
   "cell_type": "code",
   "execution_count": 9,
   "metadata": {
    "execution": {
     "iopub.execute_input": "2020-09-01T21:17:57.046106Z",
     "iopub.status.busy": "2020-09-01T21:17:57.045351Z",
     "iopub.status.idle": "2020-09-01T21:17:57.055734Z",
     "shell.execute_reply": "2020-09-01T21:17:57.057310Z"
    },
    "papermill": {
     "duration": 0.055711,
     "end_time": "2020-09-01T21:17:57.057496",
     "exception": false,
     "start_time": "2020-09-01T21:17:57.001785",
     "status": "completed"
    },
    "scrolled": false,
    "tags": []
   },
   "outputs": [
    {
     "data": {
      "text/html": [
       "<div>\n",
       "<style scoped>\n",
       "    .dataframe tbody tr th:only-of-type {\n",
       "        vertical-align: middle;\n",
       "    }\n",
       "\n",
       "    .dataframe tbody tr th {\n",
       "        vertical-align: top;\n",
       "    }\n",
       "\n",
       "    .dataframe thead th {\n",
       "        text-align: right;\n",
       "    }\n",
       "</style>\n",
       "<table border=\"1\" class=\"dataframe\">\n",
       "  <thead>\n",
       "    <tr style=\"text-align: right;\">\n",
       "      <th></th>\n",
       "      <th>tek_count</th>\n",
       "    </tr>\n",
       "    <tr>\n",
       "      <th>sample_date_string</th>\n",
       "      <th></th>\n",
       "    </tr>\n",
       "  </thead>\n",
       "  <tbody>\n",
       "    <tr>\n",
       "      <th>2020-08-31</th>\n",
       "      <td>14</td>\n",
       "    </tr>\n",
       "    <tr>\n",
       "      <th>2020-08-30</th>\n",
       "      <td>32</td>\n",
       "    </tr>\n",
       "    <tr>\n",
       "      <th>2020-08-29</th>\n",
       "      <td>34</td>\n",
       "    </tr>\n",
       "    <tr>\n",
       "      <th>2020-08-28</th>\n",
       "      <td>49</td>\n",
       "    </tr>\n",
       "    <tr>\n",
       "      <th>2020-08-27</th>\n",
       "      <td>71</td>\n",
       "    </tr>\n",
       "  </tbody>\n",
       "</table>\n",
       "</div>"
      ],
      "text/plain": [
       "                    tek_count\n",
       "sample_date_string           \n",
       "2020-08-31                 14\n",
       "2020-08-30                 32\n",
       "2020-08-29                 34\n",
       "2020-08-28                 49\n",
       "2020-08-27                 71"
      ]
     },
     "execution_count": 9,
     "metadata": {},
     "output_type": "execute_result"
    }
   ],
   "source": [
    "exposure_keys_summary_df = \\\n",
    "    exposure_keys_df.groupby([\"sample_date_string\"]).key_data.nunique().to_frame()\n",
    "exposure_keys_summary_df.sort_index(ascending=False, inplace=True)\n",
    "exposure_keys_summary_df.rename(columns={\"key_data\": \"tek_count\"}, inplace=True)\n",
    "exposure_keys_summary_df.head()"
   ]
  },
  {
   "cell_type": "markdown",
   "metadata": {
    "papermill": {
     "duration": 0.033669,
     "end_time": "2020-09-01T21:17:57.126950",
     "exception": false,
     "start_time": "2020-09-01T21:17:57.093281",
     "status": "completed"
    },
    "tags": []
   },
   "source": [
    "### Dump API TEKs"
   ]
  },
  {
   "cell_type": "code",
   "execution_count": 10,
   "metadata": {
    "execution": {
     "iopub.execute_input": "2020-09-01T21:17:57.197507Z",
     "iopub.status.busy": "2020-09-01T21:17:57.196785Z",
     "iopub.status.idle": "2020-09-01T21:17:57.220454Z",
     "shell.execute_reply": "2020-09-01T21:17:57.219900Z"
    },
    "papermill": {
     "duration": 0.063082,
     "end_time": "2020-09-01T21:17:57.220597",
     "exception": false,
     "start_time": "2020-09-01T21:17:57.157515",
     "status": "completed"
    },
    "tags": []
   },
   "outputs": [
    {
     "data": {
      "text/html": [
       "<div>\n",
       "<style scoped>\n",
       "    .dataframe tbody tr th:only-of-type {\n",
       "        vertical-align: middle;\n",
       "    }\n",
       "\n",
       "    .dataframe tbody tr th {\n",
       "        vertical-align: top;\n",
       "    }\n",
       "\n",
       "    .dataframe thead th {\n",
       "        text-align: right;\n",
       "    }\n",
       "</style>\n",
       "<table border=\"1\" class=\"dataframe\">\n",
       "  <thead>\n",
       "    <tr style=\"text-align: right;\">\n",
       "      <th></th>\n",
       "      <th>sample_date</th>\n",
       "      <th>tek_list</th>\n",
       "      <th>extraction_date</th>\n",
       "      <th>extraction_date_with_hour</th>\n",
       "    </tr>\n",
       "  </thead>\n",
       "  <tbody>\n",
       "    <tr>\n",
       "      <th>0</th>\n",
       "      <td>2020-08-19</td>\n",
       "      <td>[645572b7-c0e2-97bc-9bcb-7107fb5eb1bc]</td>\n",
       "      <td>2020-09-01</td>\n",
       "      <td>2020-09-01@21</td>\n",
       "    </tr>\n",
       "    <tr>\n",
       "      <th>1</th>\n",
       "      <td>2020-08-20</td>\n",
       "      <td>[5c4885a2-5c65-d6aa-8eed-7d607f106647, e6c3ca3...</td>\n",
       "      <td>2020-09-01</td>\n",
       "      <td>2020-09-01@21</td>\n",
       "    </tr>\n",
       "    <tr>\n",
       "      <th>2</th>\n",
       "      <td>2020-08-21</td>\n",
       "      <td>[53c82402-7f1c-e203-7abc-593dc3a8a9fe, fd16f69...</td>\n",
       "      <td>2020-09-01</td>\n",
       "      <td>2020-09-01@21</td>\n",
       "    </tr>\n",
       "    <tr>\n",
       "      <th>3</th>\n",
       "      <td>2020-08-22</td>\n",
       "      <td>[316fcc1d-9bdb-69ae-b997-70b5b4ca1d74, 33b23da...</td>\n",
       "      <td>2020-09-01</td>\n",
       "      <td>2020-09-01@21</td>\n",
       "    </tr>\n",
       "    <tr>\n",
       "      <th>4</th>\n",
       "      <td>2020-08-23</td>\n",
       "      <td>[3dda2de2-fc66-33b9-cf6b-c7b85f8683d5, c0a53a0...</td>\n",
       "      <td>2020-09-01</td>\n",
       "      <td>2020-09-01@21</td>\n",
       "    </tr>\n",
       "  </tbody>\n",
       "</table>\n",
       "</div>"
      ],
      "text/plain": [
       "  sample_date                                           tek_list  \\\n",
       "0  2020-08-19             [645572b7-c0e2-97bc-9bcb-7107fb5eb1bc]   \n",
       "1  2020-08-20  [5c4885a2-5c65-d6aa-8eed-7d607f106647, e6c3ca3...   \n",
       "2  2020-08-21  [53c82402-7f1c-e203-7abc-593dc3a8a9fe, fd16f69...   \n",
       "3  2020-08-22  [316fcc1d-9bdb-69ae-b997-70b5b4ca1d74, 33b23da...   \n",
       "4  2020-08-23  [3dda2de2-fc66-33b9-cf6b-c7b85f8683d5, c0a53a0...   \n",
       "\n",
       "  extraction_date extraction_date_with_hour  \n",
       "0      2020-09-01             2020-09-01@21  \n",
       "1      2020-09-01             2020-09-01@21  \n",
       "2      2020-09-01             2020-09-01@21  \n",
       "3      2020-09-01             2020-09-01@21  \n",
       "4      2020-09-01             2020-09-01@21  "
      ]
     },
     "execution_count": 10,
     "metadata": {},
     "output_type": "execute_result"
    }
   ],
   "source": [
    "tek_list_df = exposure_keys_df[[\"sample_date_string\", \"key_data\"]].copy()\n",
    "tek_list_df[\"key_data\"] = tek_list_df[\"key_data\"].apply(str)\n",
    "tek_list_df.rename(columns={\n",
    "    \"sample_date_string\": \"sample_date\",\n",
    "    \"key_data\": \"tek_list\"}, inplace=True)\n",
    "tek_list_df = tek_list_df.groupby(\n",
    "    \"sample_date\").tek_list.unique().reset_index()\n",
    "tek_list_df[\"extraction_date\"] = extraction_date\n",
    "tek_list_df[\"extraction_date_with_hour\"] = extraction_date_with_hour\n",
    "tek_list_df.drop(columns=[\"extraction_date\", \"extraction_date_with_hour\"]).to_json(\n",
    "    \"Data/TEKs/Current/RadarCOVID-TEKs.json\",\n",
    "    lines=True, orient=\"records\")\n",
    "tek_list_df.drop(columns=[\"extraction_date_with_hour\"]).to_json(\n",
    "    \"Data/TEKs/Daily/RadarCOVID-TEKs-\" + extraction_date + \".json\",\n",
    "    lines=True, orient=\"records\")\n",
    "tek_list_df.to_json(\n",
    "    \"Data/TEKs/Hourly/RadarCOVID-TEKs-\" + extraction_date_with_hour + \".json\",\n",
    "    lines=True, orient=\"records\")\n",
    "tek_list_df.head()"
   ]
  },
  {
   "cell_type": "markdown",
   "metadata": {
    "papermill": {
     "duration": 0.029244,
     "end_time": "2020-09-01T21:17:57.279057",
     "exception": false,
     "start_time": "2020-09-01T21:17:57.249813",
     "status": "completed"
    },
    "tags": []
   },
   "source": [
    "### Load TEK Dumps"
   ]
  },
  {
   "cell_type": "code",
   "execution_count": 11,
   "metadata": {
    "execution": {
     "iopub.execute_input": "2020-09-01T21:17:57.344966Z",
     "iopub.status.busy": "2020-09-01T21:17:57.344326Z",
     "iopub.status.idle": "2020-09-01T21:17:57.346378Z",
     "shell.execute_reply": "2020-09-01T21:17:57.347057Z"
    },
    "papermill": {
     "duration": 0.038805,
     "end_time": "2020-09-01T21:17:57.347223",
     "exception": false,
     "start_time": "2020-09-01T21:17:57.308418",
     "status": "completed"
    },
    "tags": []
   },
   "outputs": [],
   "source": [
    "import glob\n",
    "\n",
    "def load_extracted_teks(mode, limit=None) -> pd.DataFrame:\n",
    "    extracted_teks_df = pd.DataFrame()\n",
    "    paths = list(reversed(sorted(glob.glob(f\"Data/TEKs/{mode}/RadarCOVID-TEKs-*.json\"))))\n",
    "    if limit:\n",
    "        paths = paths[:limit]\n",
    "    for path in paths:\n",
    "        logging.info(f\"Loading TEKs from '{path}'...\")\n",
    "        iteration_extracted_teks_df = pd.read_json(path, lines=True)\n",
    "        extracted_teks_df = extracted_teks_df.append(\n",
    "            iteration_extracted_teks_df, sort=False)\n",
    "    return extracted_teks_df"
   ]
  },
  {
   "cell_type": "markdown",
   "metadata": {
    "execution": {
     "iopub.execute_input": "2020-08-30T22:30:16.632967Z",
     "iopub.status.busy": "2020-08-30T22:30:16.632308Z",
     "iopub.status.idle": "2020-08-30T22:30:16.634945Z",
     "shell.execute_reply": "2020-08-30T22:30:16.635575Z"
    },
    "papermill": {
     "duration": 0.029577,
     "end_time": "2020-09-01T21:17:57.406143",
     "exception": false,
     "start_time": "2020-09-01T21:17:57.376566",
     "status": "completed"
    },
    "pycharm": {
     "name": "#%% md\n"
    },
    "tags": []
   },
   "source": [
    "### Daily New TEKs"
   ]
  },
  {
   "cell_type": "code",
   "execution_count": 12,
   "metadata": {
    "execution": {
     "iopub.execute_input": "2020-09-01T21:17:57.469521Z",
     "iopub.status.busy": "2020-09-01T21:17:57.468864Z",
     "iopub.status.idle": "2020-09-01T21:17:57.501974Z",
     "shell.execute_reply": "2020-09-01T21:17:57.501423Z"
    },
    "papermill": {
     "duration": 0.066293,
     "end_time": "2020-09-01T21:17:57.502117",
     "exception": false,
     "start_time": "2020-09-01T21:17:57.435824",
     "status": "completed"
    },
    "tags": []
   },
   "outputs": [
    {
     "data": {
      "text/html": [
       "<div>\n",
       "<style scoped>\n",
       "    .dataframe tbody tr th:only-of-type {\n",
       "        vertical-align: middle;\n",
       "    }\n",
       "\n",
       "    .dataframe tbody tr th {\n",
       "        vertical-align: top;\n",
       "    }\n",
       "\n",
       "    .dataframe thead th {\n",
       "        text-align: right;\n",
       "    }\n",
       "</style>\n",
       "<table border=\"1\" class=\"dataframe\">\n",
       "  <thead>\n",
       "    <tr style=\"text-align: right;\">\n",
       "      <th></th>\n",
       "      <th>sample_date</th>\n",
       "      <th>tek_list</th>\n",
       "      <th>extraction_date</th>\n",
       "      <th>extraction_date_with_hour</th>\n",
       "    </tr>\n",
       "  </thead>\n",
       "  <tbody>\n",
       "    <tr>\n",
       "      <th>0</th>\n",
       "      <td>2020-08-19</td>\n",
       "      <td>[645572b7-c0e2-97bc-9bcb-7107fb5eb1bc]</td>\n",
       "      <td>2020-09-01</td>\n",
       "      <td>NaN</td>\n",
       "    </tr>\n",
       "    <tr>\n",
       "      <th>1</th>\n",
       "      <td>2020-08-20</td>\n",
       "      <td>[5c4885a2-5c65-d6aa-8eed-7d607f106647, e6c3ca3...</td>\n",
       "      <td>2020-09-01</td>\n",
       "      <td>NaN</td>\n",
       "    </tr>\n",
       "    <tr>\n",
       "      <th>2</th>\n",
       "      <td>2020-08-21</td>\n",
       "      <td>[53c82402-7f1c-e203-7abc-593dc3a8a9fe, fd16f69...</td>\n",
       "      <td>2020-09-01</td>\n",
       "      <td>NaN</td>\n",
       "    </tr>\n",
       "    <tr>\n",
       "      <th>3</th>\n",
       "      <td>2020-08-22</td>\n",
       "      <td>[316fcc1d-9bdb-69ae-b997-70b5b4ca1d74, 33b23da...</td>\n",
       "      <td>2020-09-01</td>\n",
       "      <td>NaN</td>\n",
       "    </tr>\n",
       "    <tr>\n",
       "      <th>4</th>\n",
       "      <td>2020-08-23</td>\n",
       "      <td>[3dda2de2-fc66-33b9-cf6b-c7b85f8683d5, c0a53a0...</td>\n",
       "      <td>2020-09-01</td>\n",
       "      <td>NaN</td>\n",
       "    </tr>\n",
       "  </tbody>\n",
       "</table>\n",
       "</div>"
      ],
      "text/plain": [
       "  sample_date                                           tek_list  \\\n",
       "0  2020-08-19             [645572b7-c0e2-97bc-9bcb-7107fb5eb1bc]   \n",
       "1  2020-08-20  [5c4885a2-5c65-d6aa-8eed-7d607f106647, e6c3ca3...   \n",
       "2  2020-08-21  [53c82402-7f1c-e203-7abc-593dc3a8a9fe, fd16f69...   \n",
       "3  2020-08-22  [316fcc1d-9bdb-69ae-b997-70b5b4ca1d74, 33b23da...   \n",
       "4  2020-08-23  [3dda2de2-fc66-33b9-cf6b-c7b85f8683d5, c0a53a0...   \n",
       "\n",
       "  extraction_date extraction_date_with_hour  \n",
       "0      2020-09-01                       NaN  \n",
       "1      2020-09-01                       NaN  \n",
       "2      2020-09-01                       NaN  \n",
       "3      2020-09-01                       NaN  \n",
       "4      2020-09-01                       NaN  "
      ]
     },
     "execution_count": 12,
     "metadata": {},
     "output_type": "execute_result"
    }
   ],
   "source": [
    "daily_extracted_teks_df = load_extracted_teks(mode=\"Daily\", limit=14)\n",
    "daily_extracted_teks_df.head()"
   ]
  },
  {
   "cell_type": "code",
   "execution_count": 13,
   "metadata": {
    "execution": {
     "iopub.execute_input": "2020-09-01T21:17:57.568604Z",
     "iopub.status.busy": "2020-09-01T21:17:57.567970Z",
     "iopub.status.idle": "2020-09-01T21:17:57.582297Z",
     "shell.execute_reply": "2020-09-01T21:17:57.582848Z"
    },
    "papermill": {
     "duration": 0.049067,
     "end_time": "2020-09-01T21:17:57.583019",
     "exception": false,
     "start_time": "2020-09-01T21:17:57.533952",
     "status": "completed"
    },
    "tags": []
   },
   "outputs": [
    {
     "data": {
      "text/html": [
       "<div>\n",
       "<style scoped>\n",
       "    .dataframe tbody tr th:only-of-type {\n",
       "        vertical-align: middle;\n",
       "    }\n",
       "\n",
       "    .dataframe tbody tr th {\n",
       "        vertical-align: top;\n",
       "    }\n",
       "\n",
       "    .dataframe thead th {\n",
       "        text-align: right;\n",
       "    }\n",
       "</style>\n",
       "<table border=\"1\" class=\"dataframe\">\n",
       "  <thead>\n",
       "    <tr style=\"text-align: right;\">\n",
       "      <th></th>\n",
       "      <th>tek_list</th>\n",
       "    </tr>\n",
       "    <tr>\n",
       "      <th>extraction_date</th>\n",
       "      <th></th>\n",
       "    </tr>\n",
       "  </thead>\n",
       "  <tbody>\n",
       "    <tr>\n",
       "      <th>2020-08-29</th>\n",
       "      <td>{1b753089-01f6-5c8f-c2ea-4cbbd5accc56, 62d0ecb...</td>\n",
       "    </tr>\n",
       "    <tr>\n",
       "      <th>2020-08-30</th>\n",
       "      <td>{1b753089-01f6-5c8f-c2ea-4cbbd5accc56, 62d0ecb...</td>\n",
       "    </tr>\n",
       "    <tr>\n",
       "      <th>2020-08-31</th>\n",
       "      <td>{1b753089-01f6-5c8f-c2ea-4cbbd5accc56, 62d0ecb...</td>\n",
       "    </tr>\n",
       "    <tr>\n",
       "      <th>2020-09-01</th>\n",
       "      <td>{1b753089-01f6-5c8f-c2ea-4cbbd5accc56, 62d0ecb...</td>\n",
       "    </tr>\n",
       "  </tbody>\n",
       "</table>\n",
       "</div>"
      ],
      "text/plain": [
       "                                                          tek_list\n",
       "extraction_date                                                   \n",
       "2020-08-29       {1b753089-01f6-5c8f-c2ea-4cbbd5accc56, 62d0ecb...\n",
       "2020-08-30       {1b753089-01f6-5c8f-c2ea-4cbbd5accc56, 62d0ecb...\n",
       "2020-08-31       {1b753089-01f6-5c8f-c2ea-4cbbd5accc56, 62d0ecb...\n",
       "2020-09-01       {1b753089-01f6-5c8f-c2ea-4cbbd5accc56, 62d0ecb..."
      ]
     },
     "execution_count": 13,
     "metadata": {},
     "output_type": "execute_result"
    }
   ],
   "source": [
    "tek_list_df = daily_extracted_teks_df.groupby(\"extraction_date\").tek_list.apply(\n",
    "    lambda x: set(sum(x, []))).reset_index()\n",
    "tek_list_df = tek_list_df.set_index(\"extraction_date\").sort_index(ascending=True)\n",
    "tek_list_df.head()"
   ]
  },
  {
   "cell_type": "code",
   "execution_count": 14,
   "metadata": {
    "execution": {
     "iopub.execute_input": "2020-09-01T21:17:57.657566Z",
     "iopub.status.busy": "2020-09-01T21:17:57.656892Z",
     "iopub.status.idle": "2020-09-01T21:17:57.659650Z",
     "shell.execute_reply": "2020-09-01T21:17:57.660173Z"
    },
    "papermill": {
     "duration": 0.04657,
     "end_time": "2020-09-01T21:17:57.660349",
     "exception": false,
     "start_time": "2020-09-01T21:17:57.613779",
     "status": "completed"
    },
    "tags": []
   },
   "outputs": [
    {
     "data": {
      "text/html": [
       "<div>\n",
       "<style scoped>\n",
       "    .dataframe tbody tr th:only-of-type {\n",
       "        vertical-align: middle;\n",
       "    }\n",
       "\n",
       "    .dataframe tbody tr th {\n",
       "        vertical-align: top;\n",
       "    }\n",
       "\n",
       "    .dataframe thead th {\n",
       "        text-align: right;\n",
       "    }\n",
       "</style>\n",
       "<table border=\"1\" class=\"dataframe\">\n",
       "  <thead>\n",
       "    <tr style=\"text-align: right;\">\n",
       "      <th></th>\n",
       "      <th>sample_date_string</th>\n",
       "      <th>new_tek_count</th>\n",
       "    </tr>\n",
       "  </thead>\n",
       "  <tbody>\n",
       "    <tr>\n",
       "      <th>0</th>\n",
       "      <td>2020-08-29</td>\n",
       "      <td>NaN</td>\n",
       "    </tr>\n",
       "    <tr>\n",
       "      <th>1</th>\n",
       "      <td>2020-08-30</td>\n",
       "      <td>29.0</td>\n",
       "    </tr>\n",
       "    <tr>\n",
       "      <th>2</th>\n",
       "      <td>2020-08-31</td>\n",
       "      <td>63.0</td>\n",
       "    </tr>\n",
       "    <tr>\n",
       "      <th>3</th>\n",
       "      <td>2020-09-01</td>\n",
       "      <td>39.0</td>\n",
       "    </tr>\n",
       "  </tbody>\n",
       "</table>\n",
       "</div>"
      ],
      "text/plain": [
       "  sample_date_string  new_tek_count\n",
       "0         2020-08-29            NaN\n",
       "1         2020-08-30           29.0\n",
       "2         2020-08-31           63.0\n",
       "3         2020-09-01           39.0"
      ]
     },
     "execution_count": 14,
     "metadata": {},
     "output_type": "execute_result"
    }
   ],
   "source": [
    "new_tek_df = tek_list_df.diff().tek_list.apply(\n",
    "    lambda x: len(x) if not pd.isna(x) else None).to_frame().reset_index()\n",
    "new_tek_df.rename(columns={\n",
    "    \"tek_list\": \"new_tek_count\",\n",
    "    \"extraction_date\": \"sample_date_string\",}, inplace=True)\n",
    "new_tek_df.head()"
   ]
  },
  {
   "cell_type": "code",
   "execution_count": 15,
   "metadata": {
    "execution": {
     "iopub.execute_input": "2020-09-01T21:17:57.740533Z",
     "iopub.status.busy": "2020-09-01T21:17:57.739868Z",
     "iopub.status.idle": "2020-09-01T21:17:57.743584Z",
     "shell.execute_reply": "2020-09-01T21:17:57.743027Z"
    },
    "papermill": {
     "duration": 0.053057,
     "end_time": "2020-09-01T21:17:57.743728",
     "exception": false,
     "start_time": "2020-09-01T21:17:57.690671",
     "status": "completed"
    },
    "pycharm": {
     "name": "#%%\n"
    },
    "tags": []
   },
   "outputs": [
    {
     "data": {
      "text/html": [
       "<div>\n",
       "<style scoped>\n",
       "    .dataframe tbody tr th:only-of-type {\n",
       "        vertical-align: middle;\n",
       "    }\n",
       "\n",
       "    .dataframe tbody tr th {\n",
       "        vertical-align: top;\n",
       "    }\n",
       "\n",
       "    .dataframe thead th {\n",
       "        text-align: right;\n",
       "    }\n",
       "</style>\n",
       "<table border=\"1\" class=\"dataframe\">\n",
       "  <thead>\n",
       "    <tr style=\"text-align: right;\">\n",
       "      <th></th>\n",
       "      <th>sample_date</th>\n",
       "      <th>tek_list</th>\n",
       "      <th>extraction_date</th>\n",
       "      <th>extraction_date_with_hour</th>\n",
       "      <th>new_sample_extraction_date</th>\n",
       "    </tr>\n",
       "  </thead>\n",
       "  <tbody>\n",
       "    <tr>\n",
       "      <th>12</th>\n",
       "      <td>2020-08-31</td>\n",
       "      <td>[eef6b04e-53c3-f52f-4355-aec29c3b423a, 1dc16dc...</td>\n",
       "      <td>2020-09-01</td>\n",
       "      <td>NaN</td>\n",
       "      <td>2020-09-01</td>\n",
       "    </tr>\n",
       "    <tr>\n",
       "      <th>11</th>\n",
       "      <td>2020-08-30</td>\n",
       "      <td>[435d9645-674e-cfb0-e45e-93d1fca69c3e, 162557b...</td>\n",
       "      <td>2020-08-31</td>\n",
       "      <td>2020-08-31@23</td>\n",
       "      <td>2020-08-31</td>\n",
       "    </tr>\n",
       "    <tr>\n",
       "      <th>10</th>\n",
       "      <td>2020-08-29</td>\n",
       "      <td>[1a509311-f96d-28f1-9d7d-414bf48272b9, 5bfad3a...</td>\n",
       "      <td>2020-08-30</td>\n",
       "      <td>NaN</td>\n",
       "      <td>2020-08-30</td>\n",
       "    </tr>\n",
       "    <tr>\n",
       "      <th>9</th>\n",
       "      <td>2020-08-28</td>\n",
       "      <td>[757936ab-531c-4872-1d83-ce7a8d135211, 51d5fc9...</td>\n",
       "      <td>2020-08-29</td>\n",
       "      <td>NaN</td>\n",
       "      <td>2020-08-29</td>\n",
       "    </tr>\n",
       "  </tbody>\n",
       "</table>\n",
       "</div>"
      ],
      "text/plain": [
       "   sample_date                                           tek_list  \\\n",
       "12  2020-08-31  [eef6b04e-53c3-f52f-4355-aec29c3b423a, 1dc16dc...   \n",
       "11  2020-08-30  [435d9645-674e-cfb0-e45e-93d1fca69c3e, 162557b...   \n",
       "10  2020-08-29  [1a509311-f96d-28f1-9d7d-414bf48272b9, 5bfad3a...   \n",
       "9   2020-08-28  [757936ab-531c-4872-1d83-ce7a8d135211, 51d5fc9...   \n",
       "\n",
       "   extraction_date extraction_date_with_hour new_sample_extraction_date  \n",
       "12      2020-09-01                       NaN                 2020-09-01  \n",
       "11      2020-08-31             2020-08-31@23                 2020-08-31  \n",
       "10      2020-08-30                       NaN                 2020-08-30  \n",
       "9       2020-08-29                       NaN                 2020-08-29  "
      ]
     },
     "execution_count": 15,
     "metadata": {},
     "output_type": "execute_result"
    }
   ],
   "source": [
    "new_tek_devices_df = daily_extracted_teks_df.copy()\n",
    "new_tek_devices_df[\"new_sample_extraction_date\"] = \\\n",
    "    pd.to_datetime(new_tek_devices_df.sample_date) + datetime.timedelta(1)\n",
    "new_tek_devices_df[\"extraction_date\"] = pd.to_datetime(new_tek_devices_df.extraction_date)\n",
    "\n",
    "new_tek_devices_df = new_tek_devices_df[\n",
    "    new_tek_devices_df.new_sample_extraction_date == new_tek_devices_df.extraction_date]\n",
    "new_tek_devices_df.head()"
   ]
  },
  {
   "cell_type": "code",
   "execution_count": 16,
   "metadata": {
    "execution": {
     "iopub.execute_input": "2020-09-01T21:17:57.819822Z",
     "iopub.status.busy": "2020-09-01T21:17:57.819164Z",
     "iopub.status.idle": "2020-09-01T21:17:57.822410Z",
     "shell.execute_reply": "2020-09-01T21:17:57.822927Z"
    },
    "papermill": {
     "duration": 0.04837,
     "end_time": "2020-09-01T21:17:57.823107",
     "exception": false,
     "start_time": "2020-09-01T21:17:57.774737",
     "status": "completed"
    },
    "tags": []
   },
   "outputs": [
    {
     "data": {
      "text/html": [
       "<div>\n",
       "<style scoped>\n",
       "    .dataframe tbody tr th:only-of-type {\n",
       "        vertical-align: middle;\n",
       "    }\n",
       "\n",
       "    .dataframe tbody tr th {\n",
       "        vertical-align: top;\n",
       "    }\n",
       "\n",
       "    .dataframe thead th {\n",
       "        text-align: right;\n",
       "    }\n",
       "</style>\n",
       "<table border=\"1\" class=\"dataframe\">\n",
       "  <thead>\n",
       "    <tr style=\"text-align: right;\">\n",
       "      <th></th>\n",
       "      <th>sample_date_string</th>\n",
       "      <th>new_tek_devices</th>\n",
       "    </tr>\n",
       "  </thead>\n",
       "  <tbody>\n",
       "    <tr>\n",
       "      <th>0</th>\n",
       "      <td>2020-09-01</td>\n",
       "      <td>14</td>\n",
       "    </tr>\n",
       "    <tr>\n",
       "      <th>1</th>\n",
       "      <td>2020-08-31</td>\n",
       "      <td>25</td>\n",
       "    </tr>\n",
       "    <tr>\n",
       "      <th>2</th>\n",
       "      <td>2020-08-30</td>\n",
       "      <td>16</td>\n",
       "    </tr>\n",
       "    <tr>\n",
       "      <th>3</th>\n",
       "      <td>2020-08-29</td>\n",
       "      <td>27</td>\n",
       "    </tr>\n",
       "  </tbody>\n",
       "</table>\n",
       "</div>"
      ],
      "text/plain": [
       "  sample_date_string  new_tek_devices\n",
       "0         2020-09-01               14\n",
       "1         2020-08-31               25\n",
       "2         2020-08-30               16\n",
       "3         2020-08-29               27"
      ]
     },
     "execution_count": 16,
     "metadata": {},
     "output_type": "execute_result"
    }
   ],
   "source": [
    "new_tek_devices_df.set_index(\"extraction_date\", inplace=True)\n",
    "new_tek_devices_df = new_tek_devices_df.tek_list.apply(lambda x: len(set(x))).to_frame()\n",
    "new_tek_devices_df.reset_index(inplace=True)\n",
    "new_tek_devices_df.rename(columns={\n",
    "    \"extraction_date\": \"sample_date_string\",\n",
    "    \"tek_list\": \"new_tek_devices\"}, inplace=True)\n",
    "new_tek_devices_df[\"sample_date_string\"] = new_tek_devices_df.sample_date_string.dt.strftime(\"%Y-%m-%d\")\n",
    "new_tek_devices_df.head()"
   ]
  },
  {
   "cell_type": "markdown",
   "metadata": {
    "papermill": {
     "duration": 0.031426,
     "end_time": "2020-09-01T21:17:57.886155",
     "exception": false,
     "start_time": "2020-09-01T21:17:57.854729",
     "status": "completed"
    },
    "pycharm": {
     "name": "#%% md\n"
    },
    "tags": []
   },
   "source": [
    "### Hourly New TEKs"
   ]
  },
  {
   "cell_type": "code",
   "execution_count": 17,
   "metadata": {
    "execution": {
     "iopub.execute_input": "2020-09-01T21:17:57.956003Z",
     "iopub.status.busy": "2020-09-01T21:17:57.955332Z",
     "iopub.status.idle": "2020-09-01T21:17:58.131158Z",
     "shell.execute_reply": "2020-09-01T21:17:58.131686Z"
    },
    "papermill": {
     "duration": 0.214059,
     "end_time": "2020-09-01T21:17:58.131872",
     "exception": false,
     "start_time": "2020-09-01T21:17:57.917813",
     "status": "completed"
    },
    "tags": []
   },
   "outputs": [
    {
     "data": {
      "text/html": [
       "<div>\n",
       "<style scoped>\n",
       "    .dataframe tbody tr th:only-of-type {\n",
       "        vertical-align: middle;\n",
       "    }\n",
       "\n",
       "    .dataframe tbody tr th {\n",
       "        vertical-align: top;\n",
       "    }\n",
       "\n",
       "    .dataframe thead th {\n",
       "        text-align: right;\n",
       "    }\n",
       "</style>\n",
       "<table border=\"1\" class=\"dataframe\">\n",
       "  <thead>\n",
       "    <tr style=\"text-align: right;\">\n",
       "      <th></th>\n",
       "      <th>extraction_date_with_hour</th>\n",
       "      <th>new_tek_count</th>\n",
       "    </tr>\n",
       "  </thead>\n",
       "  <tbody>\n",
       "    <tr>\n",
       "      <th>19</th>\n",
       "      <td>2020-09-01@17</td>\n",
       "      <td>0.0</td>\n",
       "    </tr>\n",
       "    <tr>\n",
       "      <th>20</th>\n",
       "      <td>2020-09-01@18</td>\n",
       "      <td>0.0</td>\n",
       "    </tr>\n",
       "    <tr>\n",
       "      <th>21</th>\n",
       "      <td>2020-09-01@19</td>\n",
       "      <td>0.0</td>\n",
       "    </tr>\n",
       "    <tr>\n",
       "      <th>22</th>\n",
       "      <td>2020-09-01@20</td>\n",
       "      <td>5.0</td>\n",
       "    </tr>\n",
       "    <tr>\n",
       "      <th>23</th>\n",
       "      <td>2020-09-01@21</td>\n",
       "      <td>0.0</td>\n",
       "    </tr>\n",
       "  </tbody>\n",
       "</table>\n",
       "</div>"
      ],
      "text/plain": [
       "   extraction_date_with_hour  new_tek_count\n",
       "19             2020-09-01@17            0.0\n",
       "20             2020-09-01@18            0.0\n",
       "21             2020-09-01@19            0.0\n",
       "22             2020-09-01@20            5.0\n",
       "23             2020-09-01@21            0.0"
      ]
     },
     "execution_count": 17,
     "metadata": {},
     "output_type": "execute_result"
    }
   ],
   "source": [
    "hourly_extracted_teks_df = load_extracted_teks(mode=\"Hourly\", limit=24)\n",
    "hourly_extracted_teks_df.head()\n",
    "\n",
    "hourly_tek_list_df = hourly_extracted_teks_df.groupby(\"extraction_date_with_hour\").tek_list.apply(\n",
    "    lambda x: set(sum(x, []))).reset_index()\n",
    "hourly_tek_list_df = hourly_tek_list_df.set_index(\"extraction_date_with_hour\").sort_index(ascending=True)\n",
    "\n",
    "hourly_new_tek_df = hourly_tek_list_df.diff().tek_list.apply(\n",
    "    lambda x: len(x) if not pd.isna(x) else None).to_frame().reset_index()\n",
    "hourly_new_tek_df.rename(columns={\n",
    "    \"tek_list\": \"new_tek_count\"}, inplace=True)\n",
    "hourly_new_tek_df.tail()"
   ]
  },
  {
   "cell_type": "code",
   "execution_count": 18,
   "metadata": {
    "execution": {
     "iopub.execute_input": "2020-09-01T21:17:58.208830Z",
     "iopub.status.busy": "2020-09-01T21:17:58.207921Z",
     "iopub.status.idle": "2020-09-01T21:17:58.233336Z",
     "shell.execute_reply": "2020-09-01T21:17:58.233963Z"
    },
    "papermill": {
     "duration": 0.06919,
     "end_time": "2020-09-01T21:17:58.234144",
     "exception": false,
     "start_time": "2020-09-01T21:17:58.164954",
     "status": "completed"
    },
    "pycharm": {
     "name": "#%%\n"
    },
    "tags": []
   },
   "outputs": [
    {
     "data": {
      "text/html": [
       "<div>\n",
       "<style scoped>\n",
       "    .dataframe tbody tr th:only-of-type {\n",
       "        vertical-align: middle;\n",
       "    }\n",
       "\n",
       "    .dataframe tbody tr th {\n",
       "        vertical-align: top;\n",
       "    }\n",
       "\n",
       "    .dataframe thead th {\n",
       "        text-align: right;\n",
       "    }\n",
       "</style>\n",
       "<table border=\"1\" class=\"dataframe\">\n",
       "  <thead>\n",
       "    <tr style=\"text-align: right;\">\n",
       "      <th></th>\n",
       "      <th>extraction_date_with_hour</th>\n",
       "      <th>new_tek_devices</th>\n",
       "    </tr>\n",
       "  </thead>\n",
       "  <tbody>\n",
       "    <tr>\n",
       "      <th>17</th>\n",
       "      <td>2020-09-01@17</td>\n",
       "      <td>0.0</td>\n",
       "    </tr>\n",
       "    <tr>\n",
       "      <th>18</th>\n",
       "      <td>2020-09-01@18</td>\n",
       "      <td>0.0</td>\n",
       "    </tr>\n",
       "    <tr>\n",
       "      <th>19</th>\n",
       "      <td>2020-09-01@19</td>\n",
       "      <td>0.0</td>\n",
       "    </tr>\n",
       "    <tr>\n",
       "      <th>20</th>\n",
       "      <td>2020-09-01@20</td>\n",
       "      <td>1.0</td>\n",
       "    </tr>\n",
       "    <tr>\n",
       "      <th>21</th>\n",
       "      <td>2020-09-01@21</td>\n",
       "      <td>0.0</td>\n",
       "    </tr>\n",
       "  </tbody>\n",
       "</table>\n",
       "</div>"
      ],
      "text/plain": [
       "   extraction_date_with_hour  new_tek_devices\n",
       "17             2020-09-01@17              0.0\n",
       "18             2020-09-01@18              0.0\n",
       "19             2020-09-01@19              0.0\n",
       "20             2020-09-01@20              1.0\n",
       "21             2020-09-01@21              0.0"
      ]
     },
     "execution_count": 18,
     "metadata": {},
     "output_type": "execute_result"
    }
   ],
   "source": [
    "hourly_new_tek_devices_df = hourly_extracted_teks_df.copy()\n",
    "hourly_new_tek_devices_df[\"new_sample_extraction_date\"] = \\\n",
    "    pd.to_datetime(hourly_new_tek_devices_df.sample_date) + datetime.timedelta(1)\n",
    "hourly_new_tek_devices_df[\"extraction_date\"] = pd.to_datetime(hourly_new_tek_devices_df.extraction_date)\n",
    "\n",
    "hourly_new_tek_devices_df = hourly_new_tek_devices_df[\n",
    "    hourly_new_tek_devices_df.new_sample_extraction_date == hourly_new_tek_devices_df.extraction_date]\n",
    "\n",
    "hourly_new_tek_devices_df.set_index(\"extraction_date_with_hour\", inplace=True)\n",
    "hourly_new_tek_devices_df_ = pd.DataFrame()\n",
    "\n",
    "for i, chunk_df in hourly_new_tek_devices_df.groupby(\"extraction_date\"):\n",
    "    chunk_df = chunk_df.copy()\n",
    "    chunk_df.sort_index(inplace=True)\n",
    "    chunk_df = \\\n",
    "        chunk_df.tek_list.apply(lambda x: len(set(x))).diff().to_frame()\n",
    "    hourly_new_tek_devices_df_ = hourly_new_tek_devices_df_.append(chunk_df)\n",
    "    \n",
    "hourly_new_tek_devices_df = hourly_new_tek_devices_df_\n",
    "hourly_new_tek_devices_df.reset_index(inplace=True)\n",
    "hourly_new_tek_devices_df.rename(columns={\n",
    "    \"tek_list\": \"new_tek_devices\"}, inplace=True)\n",
    "hourly_new_tek_devices_df.tail()"
   ]
  },
  {
   "cell_type": "code",
   "execution_count": 19,
   "metadata": {
    "execution": {
     "iopub.execute_input": "2020-09-01T21:17:58.318931Z",
     "iopub.status.busy": "2020-09-01T21:17:58.318262Z",
     "iopub.status.idle": "2020-09-01T21:17:58.335616Z",
     "shell.execute_reply": "2020-09-01T21:17:58.335078Z"
    },
    "papermill": {
     "duration": 0.064183,
     "end_time": "2020-09-01T21:17:58.335770",
     "exception": false,
     "start_time": "2020-09-01T21:17:58.271587",
     "status": "completed"
    },
    "tags": []
   },
   "outputs": [
    {
     "data": {
      "text/html": [
       "<div>\n",
       "<style scoped>\n",
       "    .dataframe tbody tr th:only-of-type {\n",
       "        vertical-align: middle;\n",
       "    }\n",
       "\n",
       "    .dataframe tbody tr th {\n",
       "        vertical-align: top;\n",
       "    }\n",
       "\n",
       "    .dataframe thead th {\n",
       "        text-align: right;\n",
       "    }\n",
       "</style>\n",
       "<table border=\"1\" class=\"dataframe\">\n",
       "  <thead>\n",
       "    <tr style=\"text-align: right;\">\n",
       "      <th></th>\n",
       "      <th>extraction_date_with_hour</th>\n",
       "      <th>new_tek_count</th>\n",
       "      <th>new_tek_devices</th>\n",
       "    </tr>\n",
       "    <tr>\n",
       "      <th>datetime_utc</th>\n",
       "      <th></th>\n",
       "      <th></th>\n",
       "      <th></th>\n",
       "    </tr>\n",
       "  </thead>\n",
       "  <tbody>\n",
       "    <tr>\n",
       "      <th>2020-09-01 17:00:00</th>\n",
       "      <td>2020-09-01@17</td>\n",
       "      <td>0.0</td>\n",
       "      <td>0.0</td>\n",
       "    </tr>\n",
       "    <tr>\n",
       "      <th>2020-09-01 18:00:00</th>\n",
       "      <td>2020-09-01@18</td>\n",
       "      <td>0.0</td>\n",
       "      <td>0.0</td>\n",
       "    </tr>\n",
       "    <tr>\n",
       "      <th>2020-09-01 19:00:00</th>\n",
       "      <td>2020-09-01@19</td>\n",
       "      <td>0.0</td>\n",
       "      <td>0.0</td>\n",
       "    </tr>\n",
       "    <tr>\n",
       "      <th>2020-09-01 20:00:00</th>\n",
       "      <td>2020-09-01@20</td>\n",
       "      <td>5.0</td>\n",
       "      <td>1.0</td>\n",
       "    </tr>\n",
       "    <tr>\n",
       "      <th>2020-09-01 21:00:00</th>\n",
       "      <td>2020-09-01@21</td>\n",
       "      <td>0.0</td>\n",
       "      <td>0.0</td>\n",
       "    </tr>\n",
       "  </tbody>\n",
       "</table>\n",
       "</div>"
      ],
      "text/plain": [
       "                    extraction_date_with_hour  new_tek_count  new_tek_devices\n",
       "datetime_utc                                                                 \n",
       "2020-09-01 17:00:00             2020-09-01@17            0.0              0.0\n",
       "2020-09-01 18:00:00             2020-09-01@18            0.0              0.0\n",
       "2020-09-01 19:00:00             2020-09-01@19            0.0              0.0\n",
       "2020-09-01 20:00:00             2020-09-01@20            5.0              1.0\n",
       "2020-09-01 21:00:00             2020-09-01@21            0.0              0.0"
      ]
     },
     "execution_count": 19,
     "metadata": {},
     "output_type": "execute_result"
    }
   ],
   "source": [
    "hourly_summary_df = hourly_new_tek_df.merge(\n",
    "    hourly_new_tek_devices_df, on=[\"extraction_date_with_hour\"], how=\"outer\")\n",
    "hourly_summary_df[\"datetime_utc\"] = pd.to_datetime(\n",
    "    hourly_summary_df.extraction_date_with_hour, format=\"%Y-%m-%d@%H\")\n",
    "hourly_summary_df.set_index(\"datetime_utc\", inplace=True)\n",
    "hourly_summary_df.tail()"
   ]
  },
  {
   "cell_type": "markdown",
   "metadata": {
    "execution": {
     "iopub.execute_input": "2020-08-30T22:30:16.982353Z",
     "iopub.status.busy": "2020-08-30T22:30:16.981676Z",
     "iopub.status.idle": "2020-08-30T22:30:16.984837Z",
     "shell.execute_reply": "2020-08-30T22:30:16.985366Z"
    },
    "papermill": {
     "duration": 0.032979,
     "end_time": "2020-09-01T21:17:58.401722",
     "exception": false,
     "start_time": "2020-09-01T21:17:58.368743",
     "status": "completed"
    },
    "pycharm": {
     "name": "#%% md\n"
    },
    "tags": []
   },
   "source": [
    "### Data Merge"
   ]
  },
  {
   "cell_type": "code",
   "execution_count": 20,
   "metadata": {
    "execution": {
     "iopub.execute_input": "2020-09-01T21:17:58.481604Z",
     "iopub.status.busy": "2020-09-01T21:17:58.480915Z",
     "iopub.status.idle": "2020-09-01T21:17:58.484260Z",
     "shell.execute_reply": "2020-09-01T21:17:58.483622Z"
    },
    "papermill": {
     "duration": 0.050047,
     "end_time": "2020-09-01T21:17:58.484405",
     "exception": false,
     "start_time": "2020-09-01T21:17:58.434358",
     "status": "completed"
    },
    "pycharm": {
     "name": "#%%\n"
    },
    "tags": []
   },
   "outputs": [
    {
     "data": {
      "text/html": [
       "<div>\n",
       "<style scoped>\n",
       "    .dataframe tbody tr th:only-of-type {\n",
       "        vertical-align: middle;\n",
       "    }\n",
       "\n",
       "    .dataframe tbody tr th {\n",
       "        vertical-align: top;\n",
       "    }\n",
       "\n",
       "    .dataframe thead th {\n",
       "        text-align: right;\n",
       "    }\n",
       "</style>\n",
       "<table border=\"1\" class=\"dataframe\">\n",
       "  <thead>\n",
       "    <tr style=\"text-align: right;\">\n",
       "      <th></th>\n",
       "      <th>sample_date_string</th>\n",
       "      <th>tek_count</th>\n",
       "      <th>new_tek_count</th>\n",
       "    </tr>\n",
       "  </thead>\n",
       "  <tbody>\n",
       "    <tr>\n",
       "      <th>0</th>\n",
       "      <td>2020-08-31</td>\n",
       "      <td>14.0</td>\n",
       "      <td>63.0</td>\n",
       "    </tr>\n",
       "    <tr>\n",
       "      <th>1</th>\n",
       "      <td>2020-08-30</td>\n",
       "      <td>32.0</td>\n",
       "      <td>29.0</td>\n",
       "    </tr>\n",
       "    <tr>\n",
       "      <th>2</th>\n",
       "      <td>2020-08-29</td>\n",
       "      <td>34.0</td>\n",
       "      <td>NaN</td>\n",
       "    </tr>\n",
       "    <tr>\n",
       "      <th>3</th>\n",
       "      <td>2020-08-28</td>\n",
       "      <td>49.0</td>\n",
       "      <td>NaN</td>\n",
       "    </tr>\n",
       "    <tr>\n",
       "      <th>4</th>\n",
       "      <td>2020-08-27</td>\n",
       "      <td>71.0</td>\n",
       "      <td>NaN</td>\n",
       "    </tr>\n",
       "  </tbody>\n",
       "</table>\n",
       "</div>"
      ],
      "text/plain": [
       "  sample_date_string  tek_count  new_tek_count\n",
       "0         2020-08-31       14.0           63.0\n",
       "1         2020-08-30       32.0           29.0\n",
       "2         2020-08-29       34.0            NaN\n",
       "3         2020-08-28       49.0            NaN\n",
       "4         2020-08-27       71.0            NaN"
      ]
     },
     "execution_count": 20,
     "metadata": {},
     "output_type": "execute_result"
    }
   ],
   "source": [
    "result_summary_df = exposure_keys_summary_df.merge(new_tek_df, on=[\"sample_date_string\"], how=\"outer\")\n",
    "result_summary_df.head()"
   ]
  },
  {
   "cell_type": "code",
   "execution_count": 21,
   "metadata": {
    "execution": {
     "iopub.execute_input": "2020-09-01T21:17:58.559085Z",
     "iopub.status.busy": "2020-09-01T21:17:58.558453Z",
     "iopub.status.idle": "2020-09-01T21:17:58.568021Z",
     "shell.execute_reply": "2020-09-01T21:17:58.568509Z"
    },
    "papermill": {
     "duration": 0.051158,
     "end_time": "2020-09-01T21:17:58.568678",
     "exception": false,
     "start_time": "2020-09-01T21:17:58.517520",
     "status": "completed"
    },
    "tags": []
   },
   "outputs": [
    {
     "data": {
      "text/html": [
       "<div>\n",
       "<style scoped>\n",
       "    .dataframe tbody tr th:only-of-type {\n",
       "        vertical-align: middle;\n",
       "    }\n",
       "\n",
       "    .dataframe tbody tr th {\n",
       "        vertical-align: top;\n",
       "    }\n",
       "\n",
       "    .dataframe thead th {\n",
       "        text-align: right;\n",
       "    }\n",
       "</style>\n",
       "<table border=\"1\" class=\"dataframe\">\n",
       "  <thead>\n",
       "    <tr style=\"text-align: right;\">\n",
       "      <th></th>\n",
       "      <th>sample_date_string</th>\n",
       "      <th>tek_count</th>\n",
       "      <th>new_tek_count</th>\n",
       "      <th>new_tek_devices</th>\n",
       "    </tr>\n",
       "  </thead>\n",
       "  <tbody>\n",
       "    <tr>\n",
       "      <th>0</th>\n",
       "      <td>2020-08-31</td>\n",
       "      <td>14.0</td>\n",
       "      <td>63.0</td>\n",
       "      <td>25.0</td>\n",
       "    </tr>\n",
       "    <tr>\n",
       "      <th>1</th>\n",
       "      <td>2020-08-30</td>\n",
       "      <td>32.0</td>\n",
       "      <td>29.0</td>\n",
       "      <td>16.0</td>\n",
       "    </tr>\n",
       "    <tr>\n",
       "      <th>2</th>\n",
       "      <td>2020-08-29</td>\n",
       "      <td>34.0</td>\n",
       "      <td>NaN</td>\n",
       "      <td>27.0</td>\n",
       "    </tr>\n",
       "    <tr>\n",
       "      <th>3</th>\n",
       "      <td>2020-08-28</td>\n",
       "      <td>49.0</td>\n",
       "      <td>NaN</td>\n",
       "      <td>NaN</td>\n",
       "    </tr>\n",
       "    <tr>\n",
       "      <th>4</th>\n",
       "      <td>2020-08-27</td>\n",
       "      <td>71.0</td>\n",
       "      <td>NaN</td>\n",
       "      <td>NaN</td>\n",
       "    </tr>\n",
       "  </tbody>\n",
       "</table>\n",
       "</div>"
      ],
      "text/plain": [
       "  sample_date_string  tek_count  new_tek_count  new_tek_devices\n",
       "0         2020-08-31       14.0           63.0             25.0\n",
       "1         2020-08-30       32.0           29.0             16.0\n",
       "2         2020-08-29       34.0            NaN             27.0\n",
       "3         2020-08-28       49.0            NaN              NaN\n",
       "4         2020-08-27       71.0            NaN              NaN"
      ]
     },
     "execution_count": 21,
     "metadata": {},
     "output_type": "execute_result"
    }
   ],
   "source": [
    "result_summary_df = result_summary_df.merge(new_tek_devices_df, on=[\"sample_date_string\"], how=\"outer\")\n",
    "result_summary_df.head()"
   ]
  },
  {
   "cell_type": "code",
   "execution_count": 22,
   "metadata": {
    "execution": {
     "iopub.execute_input": "2020-09-01T21:17:58.644017Z",
     "iopub.status.busy": "2020-09-01T21:17:58.643339Z",
     "iopub.status.idle": "2020-09-01T21:17:58.659206Z",
     "shell.execute_reply": "2020-09-01T21:17:58.658655Z"
    },
    "papermill": {
     "duration": 0.056001,
     "end_time": "2020-09-01T21:17:58.659354",
     "exception": false,
     "start_time": "2020-09-01T21:17:58.603353",
     "status": "completed"
    },
    "pycharm": {
     "name": "#%%\n"
    },
    "tags": []
   },
   "outputs": [
    {
     "data": {
      "text/html": [
       "<div>\n",
       "<style scoped>\n",
       "    .dataframe tbody tr th:only-of-type {\n",
       "        vertical-align: middle;\n",
       "    }\n",
       "\n",
       "    .dataframe tbody tr th {\n",
       "        vertical-align: top;\n",
       "    }\n",
       "\n",
       "    .dataframe thead th {\n",
       "        text-align: right;\n",
       "    }\n",
       "</style>\n",
       "<table border=\"1\" class=\"dataframe\">\n",
       "  <thead>\n",
       "    <tr style=\"text-align: right;\">\n",
       "      <th></th>\n",
       "      <th>sample_date_string</th>\n",
       "      <th>tek_count</th>\n",
       "      <th>new_tek_count</th>\n",
       "      <th>new_tek_devices</th>\n",
       "      <th>cumulative_cases</th>\n",
       "      <th>new_cases</th>\n",
       "      <th>rolling_mean_new_cases</th>\n",
       "    </tr>\n",
       "  </thead>\n",
       "  <tbody>\n",
       "    <tr>\n",
       "      <th>0</th>\n",
       "      <td>2020-08-31</td>\n",
       "      <td>14.0</td>\n",
       "      <td>63.0</td>\n",
       "      <td>25.0</td>\n",
       "      <td>925716.0</td>\n",
       "      <td>47144.0</td>\n",
       "      <td>16406.285714</td>\n",
       "    </tr>\n",
       "    <tr>\n",
       "      <th>1</th>\n",
       "      <td>2020-08-30</td>\n",
       "      <td>32.0</td>\n",
       "      <td>29.0</td>\n",
       "      <td>16.0</td>\n",
       "      <td>878572.0</td>\n",
       "      <td>0.0</td>\n",
       "      <td>15209.142857</td>\n",
       "    </tr>\n",
       "    <tr>\n",
       "      <th>2</th>\n",
       "      <td>2020-08-29</td>\n",
       "      <td>34.0</td>\n",
       "      <td>NaN</td>\n",
       "      <td>27.0</td>\n",
       "      <td>878572.0</td>\n",
       "      <td>0.0</td>\n",
       "      <td>15209.142857</td>\n",
       "    </tr>\n",
       "    <tr>\n",
       "      <th>3</th>\n",
       "      <td>2020-08-28</td>\n",
       "      <td>49.0</td>\n",
       "      <td>NaN</td>\n",
       "      <td>NaN</td>\n",
       "      <td>878572.0</td>\n",
       "      <td>19558.0</td>\n",
       "      <td>15209.142857</td>\n",
       "    </tr>\n",
       "    <tr>\n",
       "      <th>4</th>\n",
       "      <td>2020-08-27</td>\n",
       "      <td>71.0</td>\n",
       "      <td>NaN</td>\n",
       "      <td>NaN</td>\n",
       "      <td>859014.0</td>\n",
       "      <td>19316.0</td>\n",
       "      <td>14743.142857</td>\n",
       "    </tr>\n",
       "  </tbody>\n",
       "</table>\n",
       "</div>"
      ],
      "text/plain": [
       "  sample_date_string  tek_count  new_tek_count  new_tek_devices  \\\n",
       "0         2020-08-31       14.0           63.0             25.0   \n",
       "1         2020-08-30       32.0           29.0             16.0   \n",
       "2         2020-08-29       34.0            NaN             27.0   \n",
       "3         2020-08-28       49.0            NaN              NaN   \n",
       "4         2020-08-27       71.0            NaN              NaN   \n",
       "\n",
       "   cumulative_cases  new_cases  rolling_mean_new_cases  \n",
       "0          925716.0    47144.0            16406.285714  \n",
       "1          878572.0        0.0            15209.142857  \n",
       "2          878572.0        0.0            15209.142857  \n",
       "3          878572.0    19558.0            15209.142857  \n",
       "4          859014.0    19316.0            14743.142857  "
      ]
     },
     "execution_count": 22,
     "metadata": {},
     "output_type": "execute_result"
    }
   ],
   "source": [
    "result_summary_df = result_summary_df.merge(confirmed_df, on=[\"sample_date_string\"], how=\"left\")\n",
    "result_summary_df.head()"
   ]
  },
  {
   "cell_type": "code",
   "execution_count": 23,
   "metadata": {
    "execution": {
     "iopub.execute_input": "2020-09-01T21:17:58.747098Z",
     "iopub.status.busy": "2020-09-01T21:17:58.746423Z",
     "iopub.status.idle": "2020-09-01T21:17:58.756094Z",
     "shell.execute_reply": "2020-09-01T21:17:58.756653Z"
    },
    "papermill": {
     "duration": 0.059637,
     "end_time": "2020-09-01T21:17:58.756832",
     "exception": false,
     "start_time": "2020-09-01T21:17:58.697195",
     "status": "completed"
    },
    "pycharm": {
     "name": "#%%\n"
    },
    "tags": []
   },
   "outputs": [
    {
     "data": {
      "text/html": [
       "<div>\n",
       "<style scoped>\n",
       "    .dataframe tbody tr th:only-of-type {\n",
       "        vertical-align: middle;\n",
       "    }\n",
       "\n",
       "    .dataframe tbody tr th {\n",
       "        vertical-align: top;\n",
       "    }\n",
       "\n",
       "    .dataframe thead th {\n",
       "        text-align: right;\n",
       "    }\n",
       "</style>\n",
       "<table border=\"1\" class=\"dataframe\">\n",
       "  <thead>\n",
       "    <tr style=\"text-align: right;\">\n",
       "      <th></th>\n",
       "      <th>sample_date_string</th>\n",
       "      <th>tek_count</th>\n",
       "      <th>new_tek_count</th>\n",
       "      <th>new_tek_devices</th>\n",
       "      <th>cumulative_cases</th>\n",
       "      <th>new_cases</th>\n",
       "      <th>rolling_mean_new_cases</th>\n",
       "      <th>tek_count_per_new_case</th>\n",
       "      <th>new_tek_count_per_new_case</th>\n",
       "      <th>new_tek_devices_per_new_case</th>\n",
       "      <th>new_tek_count_per_new_tek_device</th>\n",
       "    </tr>\n",
       "  </thead>\n",
       "  <tbody>\n",
       "    <tr>\n",
       "      <th>0</th>\n",
       "      <td>2020-08-31</td>\n",
       "      <td>14.0</td>\n",
       "      <td>63.0</td>\n",
       "      <td>25.0</td>\n",
       "      <td>925716.0</td>\n",
       "      <td>47144.0</td>\n",
       "      <td>16406.285714</td>\n",
       "      <td>0.000853</td>\n",
       "      <td>0.003840</td>\n",
       "      <td>0.001524</td>\n",
       "      <td>2.5200</td>\n",
       "    </tr>\n",
       "    <tr>\n",
       "      <th>1</th>\n",
       "      <td>2020-08-30</td>\n",
       "      <td>32.0</td>\n",
       "      <td>29.0</td>\n",
       "      <td>16.0</td>\n",
       "      <td>878572.0</td>\n",
       "      <td>0.0</td>\n",
       "      <td>15209.142857</td>\n",
       "      <td>0.002104</td>\n",
       "      <td>0.001907</td>\n",
       "      <td>0.001052</td>\n",
       "      <td>1.8125</td>\n",
       "    </tr>\n",
       "    <tr>\n",
       "      <th>2</th>\n",
       "      <td>2020-08-29</td>\n",
       "      <td>34.0</td>\n",
       "      <td>NaN</td>\n",
       "      <td>27.0</td>\n",
       "      <td>878572.0</td>\n",
       "      <td>0.0</td>\n",
       "      <td>15209.142857</td>\n",
       "      <td>0.002235</td>\n",
       "      <td>NaN</td>\n",
       "      <td>0.001775</td>\n",
       "      <td>NaN</td>\n",
       "    </tr>\n",
       "    <tr>\n",
       "      <th>3</th>\n",
       "      <td>2020-08-28</td>\n",
       "      <td>49.0</td>\n",
       "      <td>NaN</td>\n",
       "      <td>NaN</td>\n",
       "      <td>878572.0</td>\n",
       "      <td>19558.0</td>\n",
       "      <td>15209.142857</td>\n",
       "      <td>0.003222</td>\n",
       "      <td>NaN</td>\n",
       "      <td>NaN</td>\n",
       "      <td>NaN</td>\n",
       "    </tr>\n",
       "    <tr>\n",
       "      <th>4</th>\n",
       "      <td>2020-08-27</td>\n",
       "      <td>71.0</td>\n",
       "      <td>NaN</td>\n",
       "      <td>NaN</td>\n",
       "      <td>859014.0</td>\n",
       "      <td>19316.0</td>\n",
       "      <td>14743.142857</td>\n",
       "      <td>0.004816</td>\n",
       "      <td>NaN</td>\n",
       "      <td>NaN</td>\n",
       "      <td>NaN</td>\n",
       "    </tr>\n",
       "  </tbody>\n",
       "</table>\n",
       "</div>"
      ],
      "text/plain": [
       "  sample_date_string  tek_count  new_tek_count  new_tek_devices  \\\n",
       "0         2020-08-31       14.0           63.0             25.0   \n",
       "1         2020-08-30       32.0           29.0             16.0   \n",
       "2         2020-08-29       34.0            NaN             27.0   \n",
       "3         2020-08-28       49.0            NaN              NaN   \n",
       "4         2020-08-27       71.0            NaN              NaN   \n",
       "\n",
       "   cumulative_cases  new_cases  rolling_mean_new_cases  \\\n",
       "0          925716.0    47144.0            16406.285714   \n",
       "1          878572.0        0.0            15209.142857   \n",
       "2          878572.0        0.0            15209.142857   \n",
       "3          878572.0    19558.0            15209.142857   \n",
       "4          859014.0    19316.0            14743.142857   \n",
       "\n",
       "   tek_count_per_new_case  new_tek_count_per_new_case  \\\n",
       "0                0.000853                    0.003840   \n",
       "1                0.002104                    0.001907   \n",
       "2                0.002235                         NaN   \n",
       "3                0.003222                         NaN   \n",
       "4                0.004816                         NaN   \n",
       "\n",
       "   new_tek_devices_per_new_case  new_tek_count_per_new_tek_device  \n",
       "0                      0.001524                            2.5200  \n",
       "1                      0.001052                            1.8125  \n",
       "2                      0.001775                               NaN  \n",
       "3                           NaN                               NaN  \n",
       "4                           NaN                               NaN  "
      ]
     },
     "execution_count": 23,
     "metadata": {},
     "output_type": "execute_result"
    }
   ],
   "source": [
    "result_summary_df[\"tek_count_per_new_case\"] = \\\n",
    "    result_summary_df.tek_count / result_summary_df.rolling_mean_new_cases\n",
    "result_summary_df[\"new_tek_count_per_new_case\"] = \\\n",
    "    result_summary_df.new_tek_count / result_summary_df.rolling_mean_new_cases\n",
    "result_summary_df[\"new_tek_devices_per_new_case\"] = \\\n",
    "    result_summary_df.new_tek_devices / result_summary_df.rolling_mean_new_cases\n",
    "result_summary_df[\"new_tek_count_per_new_tek_device\"] = \\\n",
    "    result_summary_df.new_tek_count / result_summary_df.new_tek_devices\n",
    "result_summary_df.head()"
   ]
  },
  {
   "cell_type": "code",
   "execution_count": 24,
   "metadata": {
    "execution": {
     "iopub.execute_input": "2020-09-01T21:17:58.836378Z",
     "iopub.status.busy": "2020-09-01T21:17:58.831769Z",
     "iopub.status.idle": "2020-09-01T21:17:58.837100Z",
     "shell.execute_reply": "2020-09-01T21:17:58.837650Z"
    },
    "papermill": {
     "duration": 0.046622,
     "end_time": "2020-09-01T21:17:58.837817",
     "exception": false,
     "start_time": "2020-09-01T21:17:58.791195",
     "status": "completed"
    },
    "pycharm": {
     "name": "#%%\n"
    },
    "tags": []
   },
   "outputs": [],
   "source": [
    "result_summary_df[\"sample_date\"] = pd.to_datetime(result_summary_df.sample_date_string)\n",
    "result_summary_df.set_index(\"sample_date\", inplace=True)\n",
    "result_summary_df = result_summary_df.sort_index(ascending=False)"
   ]
  },
  {
   "cell_type": "markdown",
   "metadata": {
    "execution": {
     "iopub.execute_input": "2020-08-30T22:30:17.313260Z",
     "iopub.status.busy": "2020-08-30T22:30:17.312584Z",
     "iopub.status.idle": "2020-08-30T22:30:17.317571Z",
     "shell.execute_reply": "2020-08-30T22:30:17.316929Z"
    },
    "papermill": {
     "duration": 0.034985,
     "end_time": "2020-09-01T21:17:58.907592",
     "exception": false,
     "start_time": "2020-09-01T21:17:58.872607",
     "status": "completed"
    },
    "pycharm": {
     "name": "#%% md\n"
    },
    "tags": []
   },
   "source": [
    "## Report Results\n"
   ]
  },
  {
   "cell_type": "markdown",
   "metadata": {
    "papermill": {
     "duration": 0.033854,
     "end_time": "2020-09-01T21:17:58.976155",
     "exception": false,
     "start_time": "2020-09-01T21:17:58.942301",
     "status": "completed"
    },
    "tags": []
   },
   "source": [
    "### Summary Table"
   ]
  },
  {
   "cell_type": "code",
   "execution_count": 25,
   "metadata": {
    "execution": {
     "iopub.execute_input": "2020-09-01T21:17:59.063758Z",
     "iopub.status.busy": "2020-09-01T21:17:59.062813Z",
     "iopub.status.idle": "2020-09-01T21:17:59.067362Z",
     "shell.execute_reply": "2020-09-01T21:17:59.066837Z"
    },
    "papermill": {
     "duration": 0.057008,
     "end_time": "2020-09-01T21:17:59.067508",
     "exception": false,
     "start_time": "2020-09-01T21:17:59.010500",
     "status": "completed"
    },
    "tags": []
   },
   "outputs": [
    {
     "data": {
      "text/html": [
       "<div>\n",
       "<style scoped>\n",
       "    .dataframe tbody tr th:only-of-type {\n",
       "        vertical-align: middle;\n",
       "    }\n",
       "\n",
       "    .dataframe tbody tr th {\n",
       "        vertical-align: top;\n",
       "    }\n",
       "\n",
       "    .dataframe thead th {\n",
       "        text-align: right;\n",
       "    }\n",
       "</style>\n",
       "<table border=\"1\" class=\"dataframe\">\n",
       "  <thead>\n",
       "    <tr style=\"text-align: right;\">\n",
       "      <th></th>\n",
       "      <th>tek_count</th>\n",
       "      <th>new_tek_count</th>\n",
       "      <th>new_cases</th>\n",
       "      <th>rolling_mean_new_cases</th>\n",
       "      <th>tek_count_per_new_case</th>\n",
       "      <th>new_tek_count_per_new_case</th>\n",
       "      <th>new_tek_devices</th>\n",
       "      <th>new_tek_devices_per_new_case</th>\n",
       "      <th>new_tek_count_per_new_tek_device</th>\n",
       "    </tr>\n",
       "    <tr>\n",
       "      <th>sample_date</th>\n",
       "      <th></th>\n",
       "      <th></th>\n",
       "      <th></th>\n",
       "      <th></th>\n",
       "      <th></th>\n",
       "      <th></th>\n",
       "      <th></th>\n",
       "      <th></th>\n",
       "      <th></th>\n",
       "    </tr>\n",
       "  </thead>\n",
       "  <tbody>\n",
       "    <tr>\n",
       "      <th>2020-09-01</th>\n",
       "      <td>NaN</td>\n",
       "      <td>39.0</td>\n",
       "      <td>16406.285714</td>\n",
       "      <td>16406.285714</td>\n",
       "      <td>NaN</td>\n",
       "      <td>0.002377</td>\n",
       "      <td>14.0</td>\n",
       "      <td>0.000853</td>\n",
       "      <td>2.785714</td>\n",
       "    </tr>\n",
       "    <tr>\n",
       "      <th>2020-08-31</th>\n",
       "      <td>14.0</td>\n",
       "      <td>63.0</td>\n",
       "      <td>47144.000000</td>\n",
       "      <td>16406.285714</td>\n",
       "      <td>0.000853</td>\n",
       "      <td>0.003840</td>\n",
       "      <td>25.0</td>\n",
       "      <td>0.001524</td>\n",
       "      <td>2.520000</td>\n",
       "    </tr>\n",
       "    <tr>\n",
       "      <th>2020-08-30</th>\n",
       "      <td>32.0</td>\n",
       "      <td>29.0</td>\n",
       "      <td>0.000000</td>\n",
       "      <td>15209.142857</td>\n",
       "      <td>0.002104</td>\n",
       "      <td>0.001907</td>\n",
       "      <td>16.0</td>\n",
       "      <td>0.001052</td>\n",
       "      <td>1.812500</td>\n",
       "    </tr>\n",
       "    <tr>\n",
       "      <th>2020-08-29</th>\n",
       "      <td>34.0</td>\n",
       "      <td>NaN</td>\n",
       "      <td>0.000000</td>\n",
       "      <td>15209.142857</td>\n",
       "      <td>0.002235</td>\n",
       "      <td>NaN</td>\n",
       "      <td>27.0</td>\n",
       "      <td>0.001775</td>\n",
       "      <td>NaN</td>\n",
       "    </tr>\n",
       "    <tr>\n",
       "      <th>2020-08-28</th>\n",
       "      <td>49.0</td>\n",
       "      <td>NaN</td>\n",
       "      <td>19558.000000</td>\n",
       "      <td>15209.142857</td>\n",
       "      <td>0.003222</td>\n",
       "      <td>NaN</td>\n",
       "      <td>NaN</td>\n",
       "      <td>NaN</td>\n",
       "      <td>NaN</td>\n",
       "    </tr>\n",
       "    <tr>\n",
       "      <th>2020-08-27</th>\n",
       "      <td>71.0</td>\n",
       "      <td>NaN</td>\n",
       "      <td>19316.000000</td>\n",
       "      <td>14743.142857</td>\n",
       "      <td>0.004816</td>\n",
       "      <td>NaN</td>\n",
       "      <td>NaN</td>\n",
       "      <td>NaN</td>\n",
       "      <td>NaN</td>\n",
       "    </tr>\n",
       "    <tr>\n",
       "      <th>2020-08-26</th>\n",
       "      <td>75.0</td>\n",
       "      <td>NaN</td>\n",
       "      <td>14592.000000</td>\n",
       "      <td>13994.857143</td>\n",
       "      <td>0.005359</td>\n",
       "      <td>NaN</td>\n",
       "      <td>NaN</td>\n",
       "      <td>NaN</td>\n",
       "      <td>NaN</td>\n",
       "    </tr>\n",
       "    <tr>\n",
       "      <th>2020-08-25</th>\n",
       "      <td>58.0</td>\n",
       "      <td>NaN</td>\n",
       "      <td>14234.000000</td>\n",
       "      <td>13816.285714</td>\n",
       "      <td>0.004198</td>\n",
       "      <td>NaN</td>\n",
       "      <td>NaN</td>\n",
       "      <td>NaN</td>\n",
       "      <td>NaN</td>\n",
       "    </tr>\n",
       "    <tr>\n",
       "      <th>2020-08-24</th>\n",
       "      <td>48.0</td>\n",
       "      <td>NaN</td>\n",
       "      <td>38764.000000</td>\n",
       "      <td>13244.000000</td>\n",
       "      <td>0.003624</td>\n",
       "      <td>NaN</td>\n",
       "      <td>NaN</td>\n",
       "      <td>NaN</td>\n",
       "      <td>NaN</td>\n",
       "    </tr>\n",
       "    <tr>\n",
       "      <th>2020-08-23</th>\n",
       "      <td>28.0</td>\n",
       "      <td>NaN</td>\n",
       "      <td>0.000000</td>\n",
       "      <td>12354.571429</td>\n",
       "      <td>0.002266</td>\n",
       "      <td>NaN</td>\n",
       "      <td>NaN</td>\n",
       "      <td>NaN</td>\n",
       "      <td>NaN</td>\n",
       "    </tr>\n",
       "    <tr>\n",
       "      <th>2020-08-22</th>\n",
       "      <td>18.0</td>\n",
       "      <td>NaN</td>\n",
       "      <td>0.000000</td>\n",
       "      <td>12354.571429</td>\n",
       "      <td>0.001457</td>\n",
       "      <td>NaN</td>\n",
       "      <td>NaN</td>\n",
       "      <td>NaN</td>\n",
       "      <td>NaN</td>\n",
       "    </tr>\n",
       "    <tr>\n",
       "      <th>2020-08-21</th>\n",
       "      <td>11.0</td>\n",
       "      <td>NaN</td>\n",
       "      <td>16296.000000</td>\n",
       "      <td>12354.571429</td>\n",
       "      <td>0.000890</td>\n",
       "      <td>NaN</td>\n",
       "      <td>NaN</td>\n",
       "      <td>NaN</td>\n",
       "      <td>NaN</td>\n",
       "    </tr>\n",
       "    <tr>\n",
       "      <th>2020-08-20</th>\n",
       "      <td>4.0</td>\n",
       "      <td>NaN</td>\n",
       "      <td>14078.000000</td>\n",
       "      <td>11592.000000</td>\n",
       "      <td>0.000345</td>\n",
       "      <td>NaN</td>\n",
       "      <td>NaN</td>\n",
       "      <td>NaN</td>\n",
       "      <td>NaN</td>\n",
       "    </tr>\n",
       "    <tr>\n",
       "      <th>2020-08-19</th>\n",
       "      <td>1.0</td>\n",
       "      <td>NaN</td>\n",
       "      <td>13342.000000</td>\n",
       "      <td>11723.571429</td>\n",
       "      <td>0.000085</td>\n",
       "      <td>NaN</td>\n",
       "      <td>NaN</td>\n",
       "      <td>NaN</td>\n",
       "      <td>NaN</td>\n",
       "    </tr>\n",
       "  </tbody>\n",
       "</table>\n",
       "</div>"
      ],
      "text/plain": [
       "             tek_count  new_tek_count     new_cases  rolling_mean_new_cases  \\\n",
       "sample_date                                                                   \n",
       "2020-09-01         NaN           39.0  16406.285714            16406.285714   \n",
       "2020-08-31        14.0           63.0  47144.000000            16406.285714   \n",
       "2020-08-30        32.0           29.0      0.000000            15209.142857   \n",
       "2020-08-29        34.0            NaN      0.000000            15209.142857   \n",
       "2020-08-28        49.0            NaN  19558.000000            15209.142857   \n",
       "2020-08-27        71.0            NaN  19316.000000            14743.142857   \n",
       "2020-08-26        75.0            NaN  14592.000000            13994.857143   \n",
       "2020-08-25        58.0            NaN  14234.000000            13816.285714   \n",
       "2020-08-24        48.0            NaN  38764.000000            13244.000000   \n",
       "2020-08-23        28.0            NaN      0.000000            12354.571429   \n",
       "2020-08-22        18.0            NaN      0.000000            12354.571429   \n",
       "2020-08-21        11.0            NaN  16296.000000            12354.571429   \n",
       "2020-08-20         4.0            NaN  14078.000000            11592.000000   \n",
       "2020-08-19         1.0            NaN  13342.000000            11723.571429   \n",
       "\n",
       "             tek_count_per_new_case  new_tek_count_per_new_case  \\\n",
       "sample_date                                                       \n",
       "2020-09-01                      NaN                    0.002377   \n",
       "2020-08-31                 0.000853                    0.003840   \n",
       "2020-08-30                 0.002104                    0.001907   \n",
       "2020-08-29                 0.002235                         NaN   \n",
       "2020-08-28                 0.003222                         NaN   \n",
       "2020-08-27                 0.004816                         NaN   \n",
       "2020-08-26                 0.005359                         NaN   \n",
       "2020-08-25                 0.004198                         NaN   \n",
       "2020-08-24                 0.003624                         NaN   \n",
       "2020-08-23                 0.002266                         NaN   \n",
       "2020-08-22                 0.001457                         NaN   \n",
       "2020-08-21                 0.000890                         NaN   \n",
       "2020-08-20                 0.000345                         NaN   \n",
       "2020-08-19                 0.000085                         NaN   \n",
       "\n",
       "             new_tek_devices  new_tek_devices_per_new_case  \\\n",
       "sample_date                                                  \n",
       "2020-09-01              14.0                      0.000853   \n",
       "2020-08-31              25.0                      0.001524   \n",
       "2020-08-30              16.0                      0.001052   \n",
       "2020-08-29              27.0                      0.001775   \n",
       "2020-08-28               NaN                           NaN   \n",
       "2020-08-27               NaN                           NaN   \n",
       "2020-08-26               NaN                           NaN   \n",
       "2020-08-25               NaN                           NaN   \n",
       "2020-08-24               NaN                           NaN   \n",
       "2020-08-23               NaN                           NaN   \n",
       "2020-08-22               NaN                           NaN   \n",
       "2020-08-21               NaN                           NaN   \n",
       "2020-08-20               NaN                           NaN   \n",
       "2020-08-19               NaN                           NaN   \n",
       "\n",
       "             new_tek_count_per_new_tek_device  \n",
       "sample_date                                    \n",
       "2020-09-01                           2.785714  \n",
       "2020-08-31                           2.520000  \n",
       "2020-08-30                           1.812500  \n",
       "2020-08-29                                NaN  \n",
       "2020-08-28                                NaN  \n",
       "2020-08-27                                NaN  \n",
       "2020-08-26                                NaN  \n",
       "2020-08-25                                NaN  \n",
       "2020-08-24                                NaN  \n",
       "2020-08-23                                NaN  \n",
       "2020-08-22                                NaN  \n",
       "2020-08-21                                NaN  \n",
       "2020-08-20                                NaN  \n",
       "2020-08-19                                NaN  "
      ]
     },
     "execution_count": 25,
     "metadata": {},
     "output_type": "execute_result"
    }
   ],
   "source": [
    "result_summary_df_ = result_summary_df.copy()\n",
    "result_summary_df = result_summary_df[[\n",
    "    \"tek_count\",\n",
    "    \"new_tek_count\",\n",
    "    \"new_cases\",\n",
    "    \"rolling_mean_new_cases\",\n",
    "    \"tek_count_per_new_case\",\n",
    "    \"new_tek_count_per_new_case\",\n",
    "    \"new_tek_devices\",\n",
    "    \"new_tek_devices_per_new_case\",\n",
    "    \"new_tek_count_per_new_tek_device\"]]\n",
    "result_summary_df"
   ]
  },
  {
   "cell_type": "markdown",
   "metadata": {
    "papermill": {
     "duration": 0.037244,
     "end_time": "2020-09-01T21:17:59.139972",
     "exception": false,
     "start_time": "2020-09-01T21:17:59.102728",
     "status": "completed"
    },
    "tags": []
   },
   "source": [
    "### Summary Plots"
   ]
  },
  {
   "cell_type": "code",
   "execution_count": 26,
   "metadata": {
    "execution": {
     "iopub.execute_input": "2020-09-01T21:17:59.223882Z",
     "iopub.status.busy": "2020-09-01T21:17:59.223229Z",
     "iopub.status.idle": "2020-09-01T21:18:00.766411Z",
     "shell.execute_reply": "2020-09-01T21:18:00.765887Z"
    },
    "papermill": {
     "duration": 1.590229,
     "end_time": "2020-09-01T21:18:00.766559",
     "exception": false,
     "start_time": "2020-09-01T21:17:59.176330",
     "status": "completed"
    },
    "scrolled": false,
    "tags": []
   },
   "outputs": [
    {
     "data": {
      "image/png": "[encoded data removed]",
      "text/plain": [
       "<Figure size 1080x1584 with 6 Axes>"
      ]
     },
     "metadata": {},
     "output_type": "display_data"
    }
   ],
   "source": [
    "summary_ax_list = result_summary_df[[\n",
    "    \"rolling_mean_new_cases\",\n",
    "    \"tek_count\",\n",
    "    \"new_tek_count\",\n",
    "    \"new_tek_devices\",\n",
    "    \"new_tek_count_per_new_tek_device\",\n",
    "    \"new_tek_devices_per_new_case\"\n",
    "]].sort_index(ascending=True).plot.bar(\n",
    "    title=\"Summary\", rot=45, subplots=True, figsize=(15, 22))\n",
    "summary_ax_list[-1].yaxis.set_major_formatter(matplotlib.ticker.PercentFormatter(1.0))"
   ]
  },
  {
   "cell_type": "markdown",
   "metadata": {
    "papermill": {
     "duration": 0.263479,
     "end_time": "2020-09-01T21:18:01.067924",
     "exception": false,
     "start_time": "2020-09-01T21:18:00.804445",
     "status": "completed"
    },
    "tags": []
   },
   "source": [
    "### Hourly Summary Plots "
   ]
  },
  {
   "cell_type": "code",
   "execution_count": 27,
   "metadata": {
    "execution": {
     "iopub.execute_input": "2020-09-01T21:18:01.167764Z",
     "iopub.status.busy": "2020-09-01T21:18:01.167113Z",
     "iopub.status.idle": "2020-09-01T21:18:01.823396Z",
     "shell.execute_reply": "2020-09-01T21:18:01.823923Z"
    },
    "papermill": {
     "duration": 0.716343,
     "end_time": "2020-09-01T21:18:01.824101",
     "exception": false,
     "start_time": "2020-09-01T21:18:01.107758",
     "status": "completed"
    },
    "pycharm": {
     "name": "#%%\n"
    },
    "tags": []
   },
   "outputs": [
    {
     "data": {
      "image/png": "[encoded data removed]",
      "text/plain": [
       "<Figure size 1080x432 with 2 Axes>"
      ]
     },
     "metadata": {},
     "output_type": "display_data"
    }
   ],
   "source": [
    "hourly_summary_ax_list = hourly_summary_df.plot.bar(\n",
    "    title=\"Last 24h Summary\", rot=45, subplots=True)"
   ]
  },
  {
   "cell_type": "markdown",
   "metadata": {
    "papermill": {
     "duration": 0.041799,
     "end_time": "2020-09-01T21:18:01.917778",
     "exception": false,
     "start_time": "2020-09-01T21:18:01.875979",
     "status": "completed"
    },
    "tags": []
   },
   "source": [
    "### Publish Results"
   ]
  },
  {
   "cell_type": "code",
   "execution_count": 28,
   "metadata": {
    "execution": {
     "iopub.execute_input": "2020-09-01T21:18:02.031962Z",
     "iopub.status.busy": "2020-09-01T21:18:02.030975Z",
     "iopub.status.idle": "2020-09-01T21:18:12.867469Z",
     "shell.execute_reply": "2020-09-01T21:18:12.868058Z"
    },
    "papermill": {
     "duration": 10.904374,
     "end_time": "2020-09-01T21:18:12.868243",
     "exception": false,
     "start_time": "2020-09-01T21:18:01.963869",
     "status": "completed"
    },
    "pycharm": {
     "name": "#%%\n"
    },
    "tags": []
   },
   "outputs": [],
   "source": [
    "def get_temporary_image_path() -> str:\n",
    "    return os.path.join(tempfile.gettempdir(), str(uuid.uuid4()) + \".png\")\n",
    "\n",
    "def save_temporary_plot_image(ax):\n",
    "    if isinstance(ax, np.ndarray):\n",
    "        ax = ax[0]\n",
    "    media_path = get_temporary_image_path()\n",
    "    ax.get_figure().savefig(media_path)\n",
    "    return media_path\n",
    "\n",
    "def save_temporary_dataframe_image(df):\n",
    "    media_path = get_temporary_image_path()\n",
    "    dfi.export(df, media_path)\n",
    "    return media_path\n",
    "\n",
    "summary_plots_image_path = save_temporary_plot_image(ax=summary_ax_list)\n",
    "summary_table_image_path = save_temporary_dataframe_image(df=result_summary_df)\n",
    "hourly_summary_plots_image_path = save_temporary_plot_image(ax=hourly_summary_ax_list)"
   ]
  },
  {
   "cell_type": "markdown",
   "metadata": {
    "papermill": {
     "duration": 0.038197,
     "end_time": "2020-09-01T21:18:12.945845",
     "exception": false,
     "start_time": "2020-09-01T21:18:12.907648",
     "status": "completed"
    },
    "tags": []
   },
   "source": [
    "### Save Results"
   ]
  },
  {
   "cell_type": "code",
   "execution_count": 29,
   "metadata": {
    "execution": {
     "iopub.execute_input": "2020-09-01T21:18:13.042059Z",
     "iopub.status.busy": "2020-09-01T21:18:13.033900Z",
     "iopub.status.idle": "2020-09-01T21:18:13.047616Z",
     "shell.execute_reply": "2020-09-01T21:18:13.047088Z"
    },
    "papermill": {
     "duration": 0.061949,
     "end_time": "2020-09-01T21:18:13.047767",
     "exception": false,
     "start_time": "2020-09-01T21:18:12.985818",
     "status": "completed"
    },
    "pycharm": {
     "name": "#%%\n"
    },
    "tags": []
   },
   "outputs": [],
   "source": [
    "report_resources_path_prefix = \"Data/Resources/Current/RadarCOVID-Report-\"\n",
    "result_summary_df.to_csv(report_resources_path_prefix + \"Summary-Table.csv\")\n",
    "result_summary_df.to_html(report_resources_path_prefix + \"Summary-Table.html\")\n",
    "_ = shutil.copyfile(summary_plots_image_path, report_resources_path_prefix + \"Summary-Plots.png\")\n",
    "_ = shutil.copyfile(summary_table_image_path, report_resources_path_prefix + \"Summary-Table.png\")\n",
    "_ = shutil.copyfile(hourly_summary_plots_image_path, report_resources_path_prefix + \"Hourly-Summary-Plots.png\")\n",
    "\n",
    "report_daily_url_pattern = \\\n",
    "    \"https://github.com/pvieito/RadarCOVID-Report/blob/master/Notebooks/\" \\\n",
    "    \"RadarCOVID-Report/{report_type}/RadarCOVID-Report-{report_date}.ipynb\"\n",
    "report_daily_url = report_daily_url_pattern.format(\n",
    "    report_type=\"Daily\", report_date=extraction_date)\n",
    "report_hourly_url = report_daily_url_pattern.format(\n",
    "    report_type=\"Hourly\", report_date=extraction_date_with_hour)"
   ]
  },
  {
   "cell_type": "markdown",
   "metadata": {
    "papermill": {
     "duration": 0.039402,
     "end_time": "2020-09-01T21:18:13.130583",
     "exception": false,
     "start_time": "2020-09-01T21:18:13.091181",
     "status": "completed"
    },
    "tags": []
   },
   "source": [
    "### Publish on README"
   ]
  },
  {
   "cell_type": "code",
   "execution_count": 30,
   "metadata": {
    "execution": {
     "iopub.execute_input": "2020-09-01T21:18:13.212989Z",
     "iopub.status.busy": "2020-09-01T21:18:13.212336Z",
     "iopub.status.idle": "2020-09-01T21:18:13.221294Z",
     "shell.execute_reply": "2020-09-01T21:18:13.221846Z"
    },
    "papermill": {
     "duration": 0.052857,
     "end_time": "2020-09-01T21:18:13.222003",
     "exception": false,
     "start_time": "2020-09-01T21:18:13.169146",
     "status": "completed"
    },
    "pycharm": {
     "name": "#%%\n"
    },
    "tags": []
   },
   "outputs": [],
   "source": [
    "with open(\"Data/Templates/README.md\", \"r\") as f:\n",
    "    readme_contents = f.read()\n",
    "\n",
    "summary_table_html = result_summary_df.to_html()\n",
    "readme_contents = readme_contents.format(\n",
    "    summary_table_html=summary_table_html,\n",
    "    report_url_with_hour=report_hourly_url,\n",
    "    extraction_date_with_hour=extraction_date_with_hour)\n",
    "\n",
    "with open(\"README.md\", \"w\") as f:\n",
    "    f.write(readme_contents)"
   ]
  },
  {
   "cell_type": "markdown",
   "metadata": {
    "papermill": {
     "duration": 0.038439,
     "end_time": "2020-09-01T21:18:13.299197",
     "exception": false,
     "start_time": "2020-09-01T21:18:13.260758",
     "status": "completed"
    },
    "pycharm": {
     "name": "#%% md\n"
    },
    "tags": []
   },
   "source": [
    "### Publish on Twitter"
   ]
  },
  {
   "cell_type": "code",
   "execution_count": 31,
   "metadata": {
    "execution": {
     "iopub.execute_input": "2020-09-01T21:18:13.387687Z",
     "iopub.status.busy": "2020-09-01T21:18:13.387012Z",
     "iopub.status.idle": "2020-09-01T21:18:15.526005Z",
     "shell.execute_reply": "2020-09-01T21:18:15.525019Z"
    },
    "papermill": {
     "duration": 2.188379,
     "end_time": "2020-09-01T21:18:15.526153",
     "exception": false,
     "start_time": "2020-09-01T21:18:13.337774",
     "status": "completed"
    },
    "pycharm": {
     "name": "#%%\n"
    },
    "tags": []
   },
   "outputs": [],
   "source": [
    "enable_share_to_twitter = os.environ.get(\"RADARCOVID_REPORT__ENABLE_PUBLISH_ON_TWITTER\")\n",
    "github_event_name = os.environ.get(\"GITHUB_EVENT_NAME\")\n",
    "\n",
    "if enable_share_to_twitter and github_event_name == \"schedule\":\n",
    "    import tweepy\n",
    "\n",
    "    twitter_api_auth_keys = os.environ[\"RADARCOVID_REPORT__TWITTER_API_AUTH_KEYS\"]\n",
    "    twitter_api_auth_keys = twitter_api_auth_keys.split(\":\")\n",
    "    auth = tweepy.OAuthHandler(twitter_api_auth_keys[0], twitter_api_auth_keys[1])\n",
    "    auth.set_access_token(twitter_api_auth_keys[2], twitter_api_auth_keys[3])\n",
    "\n",
    "    api = tweepy.API(auth)\n",
    "\n",
    "    summary_plots_media = api.media_upload(summary_plots_image_path)\n",
    "    summary_table_media = api.media_upload(summary_table_image_path)\n",
    "    hourly_summary_plots_media = api.media_upload(hourly_summary_plots_image_path)\n",
    "    media_ids = [\n",
    "        summary_plots_media.media_id,\n",
    "        summary_table_media.media_id,\n",
    "        hourly_summary_plots_media.media_id,\n",
    "    ]\n",
    "\n",
    "    extraction_date_result_summary_df = \\\n",
    "        result_summary_df[result_summary_df.index == extraction_date]\n",
    "    extraction_date_result_hourly_summary_df = \\\n",
    "        hourly_summary_df[hourly_summary_df.extraction_date_with_hour == extraction_date_with_hour]\n",
    "\n",
    "    new_teks = extraction_date_result_summary_df.new_tek_count.sum().astype(int)\n",
    "    new_teks_last_hour = extraction_date_result_hourly_summary_df.new_tek_count.sum().astype(int)\n",
    "    new_devices = extraction_date_result_summary_df.new_tek_devices.sum().astype(int)\n",
    "    new_devices_last_hour = extraction_date_result_hourly_summary_df.new_tek_devices.sum().astype(int)\n",
    "    new_tek_count_per_new_tek_device = \\\n",
    "        extraction_date_result_summary_df.new_tek_count_per_new_tek_device.sum()\n",
    "    new_tek_devices_per_new_case = \\\n",
    "        extraction_date_result_summary_df.new_tek_devices_per_new_case.sum()\n",
    "\n",
    "    status = textwrap.dedent(f\"\"\"\n",
    "        Report Update – {extraction_date_with_hour}\n",
    "        #ExposureNotification #RadarCOVID\n",
    "\n",
    "        Shared Diagnoses Day Summary:\n",
    "        - New TEKs: {new_teks} ({new_teks_last_hour:+d} last hour)\n",
    "        - New Devices: {new_devices} ({new_devices_last_hour:+d} last hour, {new_tek_count_per_new_tek_device:.2} TEKs/device)\n",
    "        - Usage Ratio: {new_tek_devices_per_new_case:.2%} devices/case\n",
    "\n",
    "        Report Link: {report_hourly_url}\n",
    "        \"\"\")\n",
    "    status = status.encode(encoding=\"utf-8\")\n",
    "    api.update_status(status=status, media_ids=media_ids)"
   ]
  }
 ],
 "metadata": {
  "kernelspec": {
   "display_name": "Python 3",
   "language": "python",
   "name": "python3"
  },
  "language_info": {
   "codemirror_mode": {
    "name": "ipython",
    "version": 3
   },
   "file_extension": ".py",
   "mimetype": "text/x-python",
   "name": "python",
   "nbconvert_exporter": "python",
   "pygments_lexer": "ipython3",
   "version": "3.8.5"
  },
  "papermill": {
   "duration": 26.090497,
   "end_time": "2020-09-01T21:18:16.175566",
   "environment_variables": {},
   "exception": null,
   "input_path": "Notebooks/RadarCOVID-Report/Source/RadarCOVID-Report.ipynb",
   "output_path": "RadarCOVID-Report.ipynb",
   "parameters": {},
   "start_time": "2020-09-01T21:17:50.085069",
   "version": "2.1.3"
  }
 },
 "nbformat": 4,
 "nbformat_minor": 1
}